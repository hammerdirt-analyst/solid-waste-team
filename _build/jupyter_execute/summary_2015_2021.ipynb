{
 "cells": [
  {
   "cell_type": "markdown",
   "metadata": {
    "editable": true,
    "slideshow": {
     "slide_type": ""
    },
    "tags": []
   },
   "source": [
    "# Results 2015 - 2021\n",
    "\n",
    "The MSFD protocol {cite}`mlwguidance` has been used on Lake Geneva since November 2015. \n",
    "\n",
    "The data for this analysis is the results from beach-litter surveys conducted in Switzerland, on the shores of Lac Léman.\n",
    "\n",
    "The data was collected according to the protocol described here [https://www.plagespropres.ch/](https://www.plagespropres.ch/). In brief all visible data is collected along a beach within a measured distance from the waters edge. The width of the survey area depends on the terrain and the water level. The visible strand line or the nearest physical structure defines the width of a survey.\n",
    "\n",
    "Surveys were conducted by the following organizations:\n",
    "\n",
    "1. hammerdirt\n",
    "2. Association pour le Sauvegarde du leman\n",
    "3. Solid Waste Management Ecole Polytechnique Federal\n",
    "4. Ecole International de Geneve\n",
    "5. Precious plastic leman\n",
    "\n",
    "This analysis is an open source document. The working notebook is available in the repository located here"
   ]
  },
  {
   "cell_type": "code",
   "execution_count": 1,
   "metadata": {
    "editable": true,
    "slideshow": {
     "slide_type": ""
    },
    "tags": [
     "hide-input"
    ]
   },
   "outputs": [],
   "source": [
    "%load_ext watermark\n",
    "\n",
    "import os\n",
    "import datetime as dt\n",
    "\n",
    "# math packages:\n",
    "import pandas as pd\n",
    "import numpy as np\n",
    "from scipy import stats\n",
    "import datetime as dt \n",
    "from statsmodels.distributions.empirical_distribution import ECDF\n",
    "from scipy.stats import percentileofscore\n",
    "\n",
    "# charting:\n",
    "import matplotlib as mpl\n",
    "import matplotlib.pyplot as plt\n",
    "import matplotlib.dates as mdates\n",
    "from matplotlib import ticker\n",
    "import seaborn as sns\n",
    "import matplotlib.gridspec as gridspec\n",
    "\n",
    "# documenting\n",
    "# from IPython.display import display, HTML\n",
    "from IPython.display import Markdown as md\n",
    "from myst_nb import glue\n",
    "\n",
    "glue(\"blank_caption\", \" \", display=False)\n",
    "\n",
    "# all the data\n",
    "survey_data = pd.read_csv(\"resources/data/u_pstk_iqaasl_all.csv\")\n",
    "\n",
    "survey_data[\"date\"] = pd.to_datetime(survey_data[\"date\"])\n",
    "survey_data = survey_data[survey_data.code != \"G216\"].copy()\n",
    "\n",
    "dfCodes = pd.read_csv(\"resources/data/u_codes.csv\")\n",
    "dfBeaches = pd.read_csv(\"resources/data/u_beaches.csv\")\n",
    "\n",
    "# map to code decriptions\n",
    "dfCodes.set_index(\"code\", inplace=True)\n",
    "\n",
    "group_map = dfCodes[\"groupname\"]\n",
    "\n",
    "survey_data[\"groupname\"] = survey_data.code.apply(lambda x: group_map.loc[x])\n",
    "\n",
    "# leman and st sulpice data\n",
    "coi = \"Saint-Sulpice (VD)\"\n",
    "\n",
    "fd = survey_data.copy()\n",
    "\n",
    "# the teams and the beaches they werre responsible for in each year\n",
    "t_names = [\"SWE\", \"PC\", \"EINT\", \"ASL\", \"SLR\", \"HD\"]\n",
    "\n",
    "teams_y1_4 = {\n",
    "    \"SWE\":[\"tiger-duck-beach\", \"saint-sulpice\", \"rolle-plage\", \"plage-de-st-sulpice\",\"parc-des-pierrettes\"],\n",
    "    \"PC\":[\"preverenges\"],\n",
    "    \"EINT\":[\"versoix\",],\n",
    "    \"ASL\":[\"baby-plage-geneva\"],\n",
    "    \"SLR\":[\"lacleman_vidy_santie\", \"lacleman_gland_lecoanets\", \"lacleman_gland_kubela\"]\n",
    "}\n",
    "\n",
    "teams_y5_6 = {\n",
    "    \"SWE\":[\"tiger-duck-beach\", \"saint-sulpice\", \"rolle-plage\", \"plage-de-st-sulpice\",\"parc-des-pierrettes\"],\n",
    "    \"PC\":[\"preverenges\", \"maladaire\", \"vidy-ruines\"],\n",
    "    \"EINT\":[\"baby-plage-ii-geneve\",\"rocky-plage\"],\n",
    "    \"ASL\":[\"baby-plage-geneva\"],\n",
    "    \"SLR\":[]\n",
    "}\n",
    "\n",
    "# hammerdirt was responsible for the surveys collected at the remaining locations\n",
    "n_hd_y_1_4 = [*teams_y1_4[t_names[0]], *teams_y1_4[t_names[1]], *teams_y1_4[t_names[2]], *teams_y1_4[t_names[3]], *teams_y1_4[t_names[4]]]\n",
    "n_hd_y_5_6 = [*teams_y5_6[t_names[0]], *teams_y5_6[t_names[1]], *teams_y5_6[t_names[2]], *teams_y5_6[t_names[3]], *teams_y5_6[t_names[4]]]\n",
    "\n",
    "hd_y_1_4 = [x for x in fd.slug.unique() if x not in n_hd_y_1_4]\n",
    "hd_y_5_5 = [x for x in fd.slug.unique() if x not in n_hd_y_5_6]\n",
    "\n",
    "teams_y1_4.update({\"HD\":hd_y_1_4})\n",
    "teams_y5_6.update({\"HD\":hd_y_5_5})\n",
    "\n",
    "# this defines the css rules for the note-book table displays\n",
    "header_row = {'selector': 'th:nth-child(1)', 'props': f'background-color: #FFF; text-align:right'}\n",
    "even_rows = {\"selector\": 'tr:nth-child(even)', 'props': f'background-color: rgba(139, 69, 19, 0.08);'}\n",
    "odd_rows = {'selector': 'tr:nth-child(odd)', 'props': 'background: #FFF;'}\n",
    "table_font = {'selector': 'tr', 'props': 'font-size: 12px;'}\n",
    "table_data = {'selector': 'td', 'props': 'padding: 6px;'}\n",
    "table_caption = {'selector': 'caption', 'props': 'font-size: 14px; font-style: italic; caption-side: bottom; text-align: left; margin-top: 10px'}\n",
    "table_css_styles = [even_rows, odd_rows, table_font, header_row, table_caption]\n"
   ]
  },
  {
   "cell_type": "code",
   "execution_count": 2,
   "metadata": {
    "editable": true,
    "slideshow": {
     "slide_type": ""
    },
    "tags": [
     "hide-input"
    ]
   },
   "outputs": [],
   "source": [
    "# set some parameters:\n",
    "start_date = \"2015-11-15\"\n",
    "end_date = \"2021-11-14\"\n",
    "\n",
    "year_one = {\"start_date\":\"2015-11-15\", \"end_date\":\"2016-11-14\"}\n",
    "year_two = {\"start_date\":\"2016-11-15\", \"end_date\":\"2017-11-14\"}\n",
    "year_three = {\"start_date\":\"2017-11-15\", \"end_date\":\"2018-11-14\"}\n",
    "year_four = {\"start_date\":\"2018-11-15\", \"end_date\":\"2019-11-14\"}\n",
    "year_five = {\"start_date\":\"2019-11-15\", \"end_date\":\"2020-11-14\"}\n",
    "year_six = {\"start_date\":\"2020-11-15\", \"end_date\":\"2021-11-14\"}\n",
    "\n",
    "years = [year_one, year_two, year_three, year_four, year_five, year_six]\n",
    "year_names = [\"Year 1\", \"Year 2\", \"Year 3\", \"Year 4\", \"Year 5\", \"Year 6\"]\n",
    "\n",
    "fd[\"yx\"] = \"\"\n",
    "# make a column that has a value of year_names\n",
    "def assign_a_survey_period(data, start_end, locs=[], year_name=\"Year 1\"):\n",
    "    \"\"\"Slices the data by the start_end date and the locations in locs\"\"\"\n",
    "    \n",
    "    these_args = ((data[\"date\"] >= start_end[\"start_date\"])&(data[\"date\"] <= start_end[\"end_date\"])&(data[\"slug\"].isin(locs)))\n",
    "    data.loc[these_args, \"yx\"]= year_name   \n",
    "\n",
    "for i,name in enumerate(year_names):\n",
    "    assign_a_survey_period(fd, years[i], locs=fd.slug.unique(), year_name=name)    \n",
    "    \n",
    "for team in teams_y1_4:\n",
    "    fd.loc[((fd.slug.isin(teams_y1_4[team]))&(fd[\"date\"] < \"2019-11-14\")), \"team\"]= team\n",
    "\n",
    "for team in teams_y5_6:\n",
    "    fd.loc[((fd.slug.isin(teams_y5_6[team]))&(fd[\"date\"] >= \"2019-11-14\")), \"team\"]= team\n",
    "\n",
    "fd = fd[fd.yx.isin(year_names)].copy()"
   ]
  },
  {
   "cell_type": "markdown",
   "metadata": {
    "editable": true,
    "slideshow": {
     "slide_type": ""
    },
    "tags": []
   },
   "source": [
    "__samples per team per year__"
   ]
  },
  {
   "cell_type": "code",
   "execution_count": 3,
   "metadata": {
    "editable": true,
    "slideshow": {
     "slide_type": ""
    },
    "tags": [
     "hide-input"
    ]
   },
   "outputs": [
    {
     "data": {
      "text/html": [
       "<style type=\"text/css\">\n",
       "#T_0be55 tr:nth-child(even) {\n",
       "  background-color: rgba(139, 69, 19, 0.08);\n",
       "}\n",
       "#T_0be55 tr:nth-child(odd) {\n",
       "  background: #FFF;\n",
       "}\n",
       "#T_0be55 tr {\n",
       "  font-size: 12px;\n",
       "}\n",
       "#T_0be55 th:nth-child(1) {\n",
       "  background-color: #FFF;\n",
       "  text-align: right;\n",
       "}\n",
       "#T_0be55 caption {\n",
       "  font-size: 14px;\n",
       "  font-style: italic;\n",
       "  caption-side: bottom;\n",
       "  text-align: left;\n",
       "  margin-top: 10px;\n",
       "}\n",
       "</style>\n",
       "<table id=\"T_0be55\">\n",
       "  <caption>Table 1, number of samples per team per year</caption>\n",
       "  <thead>\n",
       "    <tr>\n",
       "      <th class=\"index_name level0\" >team</th>\n",
       "      <th id=\"T_0be55_level0_col0\" class=\"col_heading level0 col0\" >ASL</th>\n",
       "      <th id=\"T_0be55_level0_col1\" class=\"col_heading level0 col1\" >EINT</th>\n",
       "      <th id=\"T_0be55_level0_col2\" class=\"col_heading level0 col2\" >HD</th>\n",
       "      <th id=\"T_0be55_level0_col3\" class=\"col_heading level0 col3\" >PC</th>\n",
       "      <th id=\"T_0be55_level0_col4\" class=\"col_heading level0 col4\" >SLR</th>\n",
       "      <th id=\"T_0be55_level0_col5\" class=\"col_heading level0 col5\" >SWE</th>\n",
       "      <th id=\"T_0be55_level0_col6\" class=\"col_heading level0 col6\" >Total</th>\n",
       "    </tr>\n",
       "  </thead>\n",
       "  <tbody>\n",
       "    <tr>\n",
       "      <th id=\"T_0be55_level0_row0\" class=\"row_heading level0 row0\" >Year 1</th>\n",
       "      <td id=\"T_0be55_row0_col0\" class=\"data row0 col0\" >0</td>\n",
       "      <td id=\"T_0be55_row0_col1\" class=\"data row0 col1\" >0</td>\n",
       "      <td id=\"T_0be55_row0_col2\" class=\"data row0 col2\" >80</td>\n",
       "      <td id=\"T_0be55_row0_col3\" class=\"data row0 col3\" >0</td>\n",
       "      <td id=\"T_0be55_row0_col4\" class=\"data row0 col4\" >0</td>\n",
       "      <td id=\"T_0be55_row0_col5\" class=\"data row0 col5\" >2</td>\n",
       "      <td id=\"T_0be55_row0_col6\" class=\"data row0 col6\" >82</td>\n",
       "    </tr>\n",
       "    <tr>\n",
       "      <th id=\"T_0be55_level0_row1\" class=\"row_heading level0 row1\" >Year 2</th>\n",
       "      <td id=\"T_0be55_row1_col0\" class=\"data row1 col0\" >0</td>\n",
       "      <td id=\"T_0be55_row1_col1\" class=\"data row1 col1\" >1</td>\n",
       "      <td id=\"T_0be55_row1_col2\" class=\"data row1 col2\" >28</td>\n",
       "      <td id=\"T_0be55_row1_col3\" class=\"data row1 col3\" >0</td>\n",
       "      <td id=\"T_0be55_row1_col4\" class=\"data row1 col4\" >17</td>\n",
       "      <td id=\"T_0be55_row1_col5\" class=\"data row1 col5\" >2</td>\n",
       "      <td id=\"T_0be55_row1_col6\" class=\"data row1 col6\" >48</td>\n",
       "    </tr>\n",
       "    <tr>\n",
       "      <th id=\"T_0be55_level0_row2\" class=\"row_heading level0 row2\" >Year 3</th>\n",
       "      <td id=\"T_0be55_row2_col0\" class=\"data row2 col0\" >0</td>\n",
       "      <td id=\"T_0be55_row2_col1\" class=\"data row2 col1\" >0</td>\n",
       "      <td id=\"T_0be55_row2_col2\" class=\"data row2 col2\" >6</td>\n",
       "      <td id=\"T_0be55_row2_col3\" class=\"data row2 col3\" >2</td>\n",
       "      <td id=\"T_0be55_row2_col4\" class=\"data row2 col4\" >15</td>\n",
       "      <td id=\"T_0be55_row2_col5\" class=\"data row2 col5\" >2</td>\n",
       "      <td id=\"T_0be55_row2_col6\" class=\"data row2 col6\" >25</td>\n",
       "    </tr>\n",
       "    <tr>\n",
       "      <th id=\"T_0be55_level0_row3\" class=\"row_heading level0 row3\" >Year 4</th>\n",
       "      <td id=\"T_0be55_row3_col0\" class=\"data row3 col0\" >0</td>\n",
       "      <td id=\"T_0be55_row3_col1\" class=\"data row3 col1\" >0</td>\n",
       "      <td id=\"T_0be55_row3_col2\" class=\"data row3 col2\" >0</td>\n",
       "      <td id=\"T_0be55_row3_col3\" class=\"data row3 col3\" >0</td>\n",
       "      <td id=\"T_0be55_row3_col4\" class=\"data row3 col4\" >0</td>\n",
       "      <td id=\"T_0be55_row3_col5\" class=\"data row3 col5\" >2</td>\n",
       "      <td id=\"T_0be55_row3_col6\" class=\"data row3 col6\" >2</td>\n",
       "    </tr>\n",
       "    <tr>\n",
       "      <th id=\"T_0be55_level0_row4\" class=\"row_heading level0 row4\" >Year 5</th>\n",
       "      <td id=\"T_0be55_row4_col0\" class=\"data row4 col0\" >5</td>\n",
       "      <td id=\"T_0be55_row4_col1\" class=\"data row4 col1\" >2</td>\n",
       "      <td id=\"T_0be55_row4_col2\" class=\"data row4 col2\" >33</td>\n",
       "      <td id=\"T_0be55_row4_col3\" class=\"data row4 col3\" >16</td>\n",
       "      <td id=\"T_0be55_row4_col4\" class=\"data row4 col4\" >0</td>\n",
       "      <td id=\"T_0be55_row4_col5\" class=\"data row4 col5\" >4</td>\n",
       "      <td id=\"T_0be55_row4_col6\" class=\"data row4 col6\" >60</td>\n",
       "    </tr>\n",
       "    <tr>\n",
       "      <th id=\"T_0be55_level0_row5\" class=\"row_heading level0 row5\" >Year 6</th>\n",
       "      <td id=\"T_0be55_row5_col0\" class=\"data row5 col0\" >6</td>\n",
       "      <td id=\"T_0be55_row5_col1\" class=\"data row5 col1\" >1</td>\n",
       "      <td id=\"T_0be55_row5_col2\" class=\"data row5 col2\" >24</td>\n",
       "      <td id=\"T_0be55_row5_col3\" class=\"data row5 col3\" >16</td>\n",
       "      <td id=\"T_0be55_row5_col4\" class=\"data row5 col4\" >0</td>\n",
       "      <td id=\"T_0be55_row5_col5\" class=\"data row5 col5\" >3</td>\n",
       "      <td id=\"T_0be55_row5_col6\" class=\"data row5 col6\" >50</td>\n",
       "    </tr>\n",
       "  </tbody>\n",
       "</table>\n"
      ],
      "text/plain": [
       "<pandas.io.formats.style.Styler at 0x7f7cfcff9df0>"
      ]
     },
     "execution_count": 3,
     "metadata": {},
     "output_type": "execute_result"
    }
   ],
   "source": [
    "a = fd.groupby([\"yx\", \"team\"], as_index=False).agg({\"loc_date\":\"nunique\", \"quantity\":\"sum\"})\n",
    "asamps = a.pivot(columns=\"team\", index=\"yx\", values=\"loc_date\").fillna(0).astype(\"int\")\n",
    "asamps.loc[:, \"Total\"] = asamps.sum(axis=1)\n",
    "caption = \"Table 1, number of samples per team per year\"\n",
    "asamps.to_csv(\"output/csvs/table_1.csv\", index=False)\n",
    "asamps.index.name = None\n",
    "table_1 = asamps.style.set_caption(caption).set_table_styles(table_css_styles)\n",
    "\n",
    "table_1"
   ]
  },
  {
   "cell_type": "markdown",
   "metadata": {
    "editable": true,
    "slideshow": {
     "slide_type": ""
    },
    "tags": []
   },
   "source": [
    "__pieces per team per year__"
   ]
  },
  {
   "cell_type": "code",
   "execution_count": 4,
   "metadata": {
    "editable": true,
    "jupyter": {
     "source_hidden": true
    },
    "slideshow": {
     "slide_type": ""
    },
    "tags": [
     "hide-input"
    ]
   },
   "outputs": [
    {
     "data": {
      "text/html": [
       "<style type=\"text/css\">\n",
       "#T_99916 tr:nth-child(even) {\n",
       "  background-color: rgba(139, 69, 19, 0.08);\n",
       "}\n",
       "#T_99916 tr:nth-child(odd) {\n",
       "  background: #FFF;\n",
       "}\n",
       "#T_99916 tr {\n",
       "  font-size: 12px;\n",
       "}\n",
       "#T_99916 th:nth-child(1) {\n",
       "  background-color: #FFF;\n",
       "  text-align: right;\n",
       "}\n",
       "#T_99916 caption {\n",
       "  font-size: 14px;\n",
       "  font-style: italic;\n",
       "  caption-side: bottom;\n",
       "  text-align: left;\n",
       "  margin-top: 10px;\n",
       "}\n",
       "</style>\n",
       "<table id=\"T_99916\">\n",
       "  <caption>Table 2, pieces per team per year</caption>\n",
       "  <thead>\n",
       "    <tr>\n",
       "      <th class=\"index_name level0\" >team</th>\n",
       "      <th id=\"T_99916_level0_col0\" class=\"col_heading level0 col0\" >ASL</th>\n",
       "      <th id=\"T_99916_level0_col1\" class=\"col_heading level0 col1\" >EINT</th>\n",
       "      <th id=\"T_99916_level0_col2\" class=\"col_heading level0 col2\" >HD</th>\n",
       "      <th id=\"T_99916_level0_col3\" class=\"col_heading level0 col3\" >PC</th>\n",
       "      <th id=\"T_99916_level0_col4\" class=\"col_heading level0 col4\" >SLR</th>\n",
       "      <th id=\"T_99916_level0_col5\" class=\"col_heading level0 col5\" >SWE</th>\n",
       "      <th id=\"T_99916_level0_col6\" class=\"col_heading level0 col6\" >Total</th>\n",
       "    </tr>\n",
       "  </thead>\n",
       "  <tbody>\n",
       "    <tr>\n",
       "      <th id=\"T_99916_level0_row0\" class=\"row_heading level0 row0\" >Year 1</th>\n",
       "      <td id=\"T_99916_row0_col0\" class=\"data row0 col0\" >0</td>\n",
       "      <td id=\"T_99916_row0_col1\" class=\"data row0 col1\" >0</td>\n",
       "      <td id=\"T_99916_row0_col2\" class=\"data row0 col2\" >28007</td>\n",
       "      <td id=\"T_99916_row0_col3\" class=\"data row0 col3\" >0</td>\n",
       "      <td id=\"T_99916_row0_col4\" class=\"data row0 col4\" >0</td>\n",
       "      <td id=\"T_99916_row0_col5\" class=\"data row0 col5\" >2721</td>\n",
       "      <td id=\"T_99916_row0_col6\" class=\"data row0 col6\" >30728</td>\n",
       "    </tr>\n",
       "    <tr>\n",
       "      <th id=\"T_99916_level0_row1\" class=\"row_heading level0 row1\" >Year 2</th>\n",
       "      <td id=\"T_99916_row1_col0\" class=\"data row1 col0\" >0</td>\n",
       "      <td id=\"T_99916_row1_col1\" class=\"data row1 col1\" >1490</td>\n",
       "      <td id=\"T_99916_row1_col2\" class=\"data row1 col2\" >10188</td>\n",
       "      <td id=\"T_99916_row1_col3\" class=\"data row1 col3\" >0</td>\n",
       "      <td id=\"T_99916_row1_col4\" class=\"data row1 col4\" >2526</td>\n",
       "      <td id=\"T_99916_row1_col5\" class=\"data row1 col5\" >1006</td>\n",
       "      <td id=\"T_99916_row1_col6\" class=\"data row1 col6\" >15210</td>\n",
       "    </tr>\n",
       "    <tr>\n",
       "      <th id=\"T_99916_level0_row2\" class=\"row_heading level0 row2\" >Year 3</th>\n",
       "      <td id=\"T_99916_row2_col0\" class=\"data row2 col0\" >0</td>\n",
       "      <td id=\"T_99916_row2_col1\" class=\"data row2 col1\" >0</td>\n",
       "      <td id=\"T_99916_row2_col2\" class=\"data row2 col2\" >2164</td>\n",
       "      <td id=\"T_99916_row2_col3\" class=\"data row2 col3\" >203</td>\n",
       "      <td id=\"T_99916_row2_col4\" class=\"data row2 col4\" >1591</td>\n",
       "      <td id=\"T_99916_row2_col5\" class=\"data row2 col5\" >1534</td>\n",
       "      <td id=\"T_99916_row2_col6\" class=\"data row2 col6\" >5492</td>\n",
       "    </tr>\n",
       "    <tr>\n",
       "      <th id=\"T_99916_level0_row3\" class=\"row_heading level0 row3\" >Year 4</th>\n",
       "      <td id=\"T_99916_row3_col0\" class=\"data row3 col0\" >0</td>\n",
       "      <td id=\"T_99916_row3_col1\" class=\"data row3 col1\" >0</td>\n",
       "      <td id=\"T_99916_row3_col2\" class=\"data row3 col2\" >0</td>\n",
       "      <td id=\"T_99916_row3_col3\" class=\"data row3 col3\" >0</td>\n",
       "      <td id=\"T_99916_row3_col4\" class=\"data row3 col4\" >0</td>\n",
       "      <td id=\"T_99916_row3_col5\" class=\"data row3 col5\" >306</td>\n",
       "      <td id=\"T_99916_row3_col6\" class=\"data row3 col6\" >306</td>\n",
       "    </tr>\n",
       "    <tr>\n",
       "      <th id=\"T_99916_level0_row4\" class=\"row_heading level0 row4\" >Year 5</th>\n",
       "      <td id=\"T_99916_row4_col0\" class=\"data row4 col0\" >2719</td>\n",
       "      <td id=\"T_99916_row4_col1\" class=\"data row4 col1\" >167</td>\n",
       "      <td id=\"T_99916_row4_col2\" class=\"data row4 col2\" >9582</td>\n",
       "      <td id=\"T_99916_row4_col3\" class=\"data row4 col3\" >4701</td>\n",
       "      <td id=\"T_99916_row4_col4\" class=\"data row4 col4\" >0</td>\n",
       "      <td id=\"T_99916_row4_col5\" class=\"data row4 col5\" >1536</td>\n",
       "      <td id=\"T_99916_row4_col6\" class=\"data row4 col6\" >18705</td>\n",
       "    </tr>\n",
       "    <tr>\n",
       "      <th id=\"T_99916_level0_row5\" class=\"row_heading level0 row5\" >Year 6</th>\n",
       "      <td id=\"T_99916_row5_col0\" class=\"data row5 col0\" >556</td>\n",
       "      <td id=\"T_99916_row5_col1\" class=\"data row5 col1\" >20</td>\n",
       "      <td id=\"T_99916_row5_col2\" class=\"data row5 col2\" >6130</td>\n",
       "      <td id=\"T_99916_row5_col3\" class=\"data row5 col3\" >2072</td>\n",
       "      <td id=\"T_99916_row5_col4\" class=\"data row5 col4\" >0</td>\n",
       "      <td id=\"T_99916_row5_col5\" class=\"data row5 col5\" >971</td>\n",
       "      <td id=\"T_99916_row5_col6\" class=\"data row5 col6\" >9749</td>\n",
       "    </tr>\n",
       "  </tbody>\n",
       "</table>\n"
      ],
      "text/plain": [
       "<pandas.io.formats.style.Styler at 0x7f7cfc7b3040>"
      ]
     },
     "execution_count": 4,
     "metadata": {},
     "output_type": "execute_result"
    }
   ],
   "source": [
    "aqty = a.pivot(columns=\"team\", index=\"yx\", values=\"quantity\").fillna(0).astype(\"int\")\n",
    "aqty.loc[:, \"Total\"] =  aqty.sum(axis=1)\n",
    "\n",
    "caption = \"Table 2, pieces per team per year\"\n",
    "aqty.to_csv(\"output/csvs/table_2.csv\", index=False)\n",
    "aqty.index.name = None\n",
    "table_2 = aqty.style.set_caption(caption).set_table_styles(table_css_styles)\n",
    "\n",
    "table_2"
   ]
  },
  {
   "cell_type": "markdown",
   "metadata": {
    "editable": true,
    "slideshow": {
     "slide_type": ""
    },
    "tags": []
   },
   "source": [
    "__median pieces per sample per team__"
   ]
  },
  {
   "cell_type": "code",
   "execution_count": 5,
   "metadata": {
    "editable": true,
    "jupyter": {
     "source_hidden": true
    },
    "slideshow": {
     "slide_type": ""
    },
    "tags": [
     "hide-input"
    ]
   },
   "outputs": [
    {
     "data": {
      "text/html": [
       "<style type=\"text/css\">\n",
       "#T_48828 tr:nth-child(even) {\n",
       "  background-color: rgba(139, 69, 19, 0.08);\n",
       "}\n",
       "#T_48828 tr:nth-child(odd) {\n",
       "  background: #FFF;\n",
       "}\n",
       "#T_48828 tr {\n",
       "  font-size: 12px;\n",
       "}\n",
       "#T_48828 th:nth-child(1) {\n",
       "  background-color: #FFF;\n",
       "  text-align: right;\n",
       "}\n",
       "#T_48828 caption {\n",
       "  font-size: 14px;\n",
       "  font-style: italic;\n",
       "  caption-side: bottom;\n",
       "  text-align: left;\n",
       "  margin-top: 10px;\n",
       "}\n",
       "</style>\n",
       "<table id=\"T_48828\">\n",
       "  <caption>Table 3, median pieces per sample per team</caption>\n",
       "  <thead>\n",
       "    <tr>\n",
       "      <th class=\"blank level0\" >&nbsp;</th>\n",
       "      <th id=\"T_48828_level0_col0\" class=\"col_heading level0 col0\" >ASL</th>\n",
       "      <th id=\"T_48828_level0_col1\" class=\"col_heading level0 col1\" >EINT</th>\n",
       "      <th id=\"T_48828_level0_col2\" class=\"col_heading level0 col2\" >HD</th>\n",
       "      <th id=\"T_48828_level0_col3\" class=\"col_heading level0 col3\" >PC</th>\n",
       "      <th id=\"T_48828_level0_col4\" class=\"col_heading level0 col4\" >SLR</th>\n",
       "      <th id=\"T_48828_level0_col5\" class=\"col_heading level0 col5\" >SWE</th>\n",
       "    </tr>\n",
       "  </thead>\n",
       "  <tbody>\n",
       "    <tr>\n",
       "      <th id=\"T_48828_level0_row0\" class=\"row_heading level0 row0\" >qs</th>\n",
       "      <td id=\"T_48828_row0_col0\" class=\"data row0 col0\" >318.23</td>\n",
       "      <td id=\"T_48828_row0_col1\" class=\"data row0 col1\" >83.50</td>\n",
       "      <td id=\"T_48828_row0_col2\" class=\"data row0 col2\" >350.09</td>\n",
       "      <td id=\"T_48828_row0_col3\" class=\"data row0 col3\" >129.50</td>\n",
       "      <td id=\"T_48828_row0_col4\" class=\"data row0 col4\" >127.33</td>\n",
       "      <td id=\"T_48828_row0_col5\" class=\"data row0 col5\" >443.50</td>\n",
       "    </tr>\n",
       "  </tbody>\n",
       "</table>\n"
      ],
      "text/plain": [
       "<pandas.io.formats.style.Styler at 0x7f7cfcfeedc0>"
      ]
     },
     "execution_count": 5,
     "metadata": {},
     "output_type": "execute_result"
    }
   ],
   "source": [
    "a[\"qs\"] = a[\"quantity\"]/a[\"loc_date\"]\n",
    "aqs = a.groupby(\"team\", as_index=False).qs.median()\n",
    "\n",
    "caption = \"Table 3, median pieces per sample per team\"\n",
    "aqs.to_csv(\"output/csvs/table_3.csv\", index=False)\n",
    "aqs.index.name = None\n",
    "aqs=aqs.T\n",
    "aqs.rename(columns={x:aqs.loc[\"team\"].values[x] for x in aqs.columns}, inplace=True)\n",
    "aqs.drop('team', inplace=True)\n",
    "# aqs.set_index(\"team\", drop=True, inplace=True)\n",
    "aqs.index.name = None\n",
    "table_3 = aqs.style.format(precision=2).set_caption(caption).set_table_styles(table_css_styles)\n",
    "\n",
    "table_3\n"
   ]
  },
  {
   "cell_type": "markdown",
   "metadata": {
    "editable": true,
    "slideshow": {
     "slide_type": ""
    },
    "tags": []
   },
   "source": [
    "## Variation in trash over time\n",
    "\n",
    "The median survey value at the end of year 6 is less than all previous years, this corresponds to the results from the national survey that was terminated in May 2021. However, the 25th percentile from year one is less than the median from year six. This suggests that at least 50% of the samples from year six would have been below the 25th percentile of the first year. Given these results it is possible that there were reductions at specific locations, because 50% of the samples in year six fall below the IQR of year one."
   ]
  },
  {
   "cell_type": "markdown",
   "metadata": {
    "editable": true,
    "slideshow": {
     "slide_type": ""
    },
    "tags": []
   },
   "source": [
    "### Year over year summary statistics"
   ]
  },
  {
   "cell_type": "code",
   "execution_count": 6,
   "metadata": {
    "editable": true,
    "jupyter": {
     "source_hidden": true
    },
    "slideshow": {
     "slide_type": ""
    },
    "tags": [
     "hide-input"
    ]
   },
   "outputs": [
    {
     "data": {
      "text/html": [
       "<style type=\"text/css\">\n",
       "#T_af4a1 tr:nth-child(even) {\n",
       "  background-color: rgba(139, 69, 19, 0.08);\n",
       "}\n",
       "#T_af4a1 tr:nth-child(odd) {\n",
       "  background: #FFF;\n",
       "}\n",
       "#T_af4a1 tr {\n",
       "  font-size: 12px;\n",
       "}\n",
       "#T_af4a1 th:nth-child(1) {\n",
       "  background-color: #FFF;\n",
       "  text-align: right;\n",
       "}\n",
       "#T_af4a1 caption {\n",
       "  font-size: 14px;\n",
       "  font-style: italic;\n",
       "  caption-side: bottom;\n",
       "  text-align: left;\n",
       "  margin-top: 10px;\n",
       "}\n",
       "</style>\n",
       "<table id=\"T_af4a1\">\n",
       "  <caption>Table 4, year over year summary statistics</caption>\n",
       "  <thead>\n",
       "    <tr>\n",
       "      <th class=\"blank level0\" >&nbsp;</th>\n",
       "      <th id=\"T_af4a1_level0_col0\" class=\"col_heading level0 col0\" >samples</th>\n",
       "      <th id=\"T_af4a1_level0_col1\" class=\"col_heading level0 col1\" >median</th>\n",
       "      <th id=\"T_af4a1_level0_col2\" class=\"col_heading level0 col2\" >mean</th>\n",
       "      <th id=\"T_af4a1_level0_col3\" class=\"col_heading level0 col3\" >var</th>\n",
       "      <th id=\"T_af4a1_level0_col4\" class=\"col_heading level0 col4\" >locations</th>\n",
       "      <th id=\"T_af4a1_level0_col5\" class=\"col_heading level0 col5\" >pieces</th>\n",
       "      <th id=\"T_af4a1_level0_col6\" class=\"col_heading level0 col6\" >dispersion</th>\n",
       "    </tr>\n",
       "  </thead>\n",
       "  <tbody>\n",
       "    <tr>\n",
       "      <th id=\"T_af4a1_level0_row0\" class=\"row_heading level0 row0\" >Year 1</th>\n",
       "      <td id=\"T_af4a1_row0_col0\" class=\"data row0 col0\" >82</td>\n",
       "      <td id=\"T_af4a1_row0_col1\" class=\"data row0 col1\" >4.86</td>\n",
       "      <td id=\"T_af4a1_row0_col2\" class=\"data row0 col2\" >8.77</td>\n",
       "      <td id=\"T_af4a1_row0_col3\" class=\"data row0 col3\" >98.63</td>\n",
       "      <td id=\"T_af4a1_row0_col4\" class=\"data row0 col4\" >18</td>\n",
       "      <td id=\"T_af4a1_row0_col5\" class=\"data row0 col5\" >30728.00</td>\n",
       "      <td id=\"T_af4a1_row0_col6\" class=\"data row0 col6\" >11.24</td>\n",
       "    </tr>\n",
       "    <tr>\n",
       "      <th id=\"T_af4a1_level0_row1\" class=\"row_heading level0 row1\" >Year 2</th>\n",
       "      <td id=\"T_af4a1_row1_col0\" class=\"data row1 col0\" >48</td>\n",
       "      <td id=\"T_af4a1_row1_col1\" class=\"data row1 col1\" >6.36</td>\n",
       "      <td id=\"T_af4a1_row1_col2\" class=\"data row1 col2\" >8.49</td>\n",
       "      <td id=\"T_af4a1_row1_col3\" class=\"data row1 col3\" >62.97</td>\n",
       "      <td id=\"T_af4a1_row1_col4\" class=\"data row1 col4\" >19</td>\n",
       "      <td id=\"T_af4a1_row1_col5\" class=\"data row1 col5\" >15210.00</td>\n",
       "      <td id=\"T_af4a1_row1_col6\" class=\"data row1 col6\" >7.42</td>\n",
       "    </tr>\n",
       "    <tr>\n",
       "      <th id=\"T_af4a1_level0_row2\" class=\"row_heading level0 row2\" >Year 3</th>\n",
       "      <td id=\"T_af4a1_row2_col0\" class=\"data row2 col0\" >25</td>\n",
       "      <td id=\"T_af4a1_row2_col1\" class=\"data row2 col1\" >4.53</td>\n",
       "      <td id=\"T_af4a1_row2_col2\" class=\"data row2 col2\" >8.88</td>\n",
       "      <td id=\"T_af4a1_row2_col3\" class=\"data row2 col3\" >249.97</td>\n",
       "      <td id=\"T_af4a1_row2_col4\" class=\"data row2 col4\" >11</td>\n",
       "      <td id=\"T_af4a1_row2_col5\" class=\"data row2 col5\" >5492.00</td>\n",
       "      <td id=\"T_af4a1_row2_col6\" class=\"data row2 col6\" >28.14</td>\n",
       "    </tr>\n",
       "    <tr>\n",
       "      <th id=\"T_af4a1_level0_row3\" class=\"row_heading level0 row3\" >Year 4</th>\n",
       "      <td id=\"T_af4a1_row3_col0\" class=\"data row3 col0\" >2</td>\n",
       "      <td id=\"T_af4a1_row3_col1\" class=\"data row3 col1\" >7.53</td>\n",
       "      <td id=\"T_af4a1_row3_col2\" class=\"data row3 col2\" >7.53</td>\n",
       "      <td id=\"T_af4a1_row3_col3\" class=\"data row3 col3\" >9.86</td>\n",
       "      <td id=\"T_af4a1_row3_col4\" class=\"data row3 col4\" >2</td>\n",
       "      <td id=\"T_af4a1_row3_col5\" class=\"data row3 col5\" >306.00</td>\n",
       "      <td id=\"T_af4a1_row3_col6\" class=\"data row3 col6\" >1.31</td>\n",
       "    </tr>\n",
       "    <tr>\n",
       "      <th id=\"T_af4a1_level0_row4\" class=\"row_heading level0 row4\" >Year 5</th>\n",
       "      <td id=\"T_af4a1_row4_col0\" class=\"data row4 col0\" >60</td>\n",
       "      <td id=\"T_af4a1_row4_col1\" class=\"data row4 col1\" >5.57</td>\n",
       "      <td id=\"T_af4a1_row4_col2\" class=\"data row4 col2\" >9.39</td>\n",
       "      <td id=\"T_af4a1_row4_col3\" class=\"data row4 col3\" >145.54</td>\n",
       "      <td id=\"T_af4a1_row4_col4\" class=\"data row4 col4\" >22</td>\n",
       "      <td id=\"T_af4a1_row4_col5\" class=\"data row4 col5\" >18705.00</td>\n",
       "      <td id=\"T_af4a1_row4_col6\" class=\"data row4 col6\" >15.50</td>\n",
       "    </tr>\n",
       "    <tr>\n",
       "      <th id=\"T_af4a1_level0_row5\" class=\"row_heading level0 row5\" >Year 6</th>\n",
       "      <td id=\"T_af4a1_row5_col0\" class=\"data row5 col0\" >50</td>\n",
       "      <td id=\"T_af4a1_row5_col1\" class=\"data row5 col1\" >3.87</td>\n",
       "      <td id=\"T_af4a1_row5_col2\" class=\"data row5 col2\" >7.15</td>\n",
       "      <td id=\"T_af4a1_row5_col3\" class=\"data row5 col3\" >101.88</td>\n",
       "      <td id=\"T_af4a1_row5_col4\" class=\"data row5 col4\" >22</td>\n",
       "      <td id=\"T_af4a1_row5_col5\" class=\"data row5 col5\" >9749.00</td>\n",
       "      <td id=\"T_af4a1_row5_col6\" class=\"data row5 col6\" >14.24</td>\n",
       "    </tr>\n",
       "  </tbody>\n",
       "</table>\n"
      ],
      "text/plain": [
       "<pandas.io.formats.style.Styler at 0x7f7cfc7a6610>"
      ]
     },
     "execution_count": 6,
     "metadata": {},
     "output_type": "execute_result"
    }
   ],
   "source": [
    "a_l = fd.groupby([\"yx\", \"loc_date\", \"slug\", \"team\"], as_index=False).agg({\"pcs/m\":\"sum\", \"quantity\":\"sum\", })\n",
    "a_l_summary = a_l.groupby(\"yx\").agg({\"loc_date\":\"nunique\", \"pcs/m\":[\"median\", \"mean\", \"var\"], \"slug\":\"nunique\", \"quantity\":\"sum\"})\n",
    "a_l_summary.columns = [\"samples\", \"median\", \"mean\",\"var\", \"locations\", \"pieces\"]\n",
    "a_l_summary[\"dispersion\"] = a_l_summary[\"var\"]/a_l_summary[\"mean\"]\n",
    "# a_l_summary.round(2)\n",
    "\n",
    "aqs = a_l_summary.round(2)\n",
    "caption = \"Table 4, year over year summary statistics\"\n",
    "aqs.to_csv(\"output/csvs/table_4.csv\", index=False)\n",
    "aqs.index.name = None\n",
    "# aqs.set_index(\"team\", drop=True, inplace=True)\n",
    "# aqs.index.name = None\n",
    "table_4 = aqs.style.format(precision=2).set_caption(caption).set_table_styles(table_css_styles)\n",
    "\n",
    "table_4"
   ]
  },
  {
   "cell_type": "markdown",
   "metadata": {
    "editable": true,
    "slideshow": {
     "slide_type": ""
    },
    "tags": []
   },
   "source": [
    "The dispersion (variance/mean) is greater than one for all years, prohibiting the use of a Poisson distribution but supporting the EUs decision to model outliers based on the Negative Binomial distribution{cite}`eubaseleines`."
   ]
  },
  {
   "cell_type": "code",
   "execution_count": 7,
   "metadata": {
    "editable": true,
    "jupyter": {
     "source_hidden": true
    },
    "slideshow": {
     "slide_type": ""
    },
    "tags": [
     "hide-input"
    ]
   },
   "outputs": [],
   "source": [
    "fig, ax = plt.subplots(figsize=(8,6))\n",
    "data = fd[fd.yx.isin([\"Year 1\", \"Year 6\"])].groupby([\"loc_date\", \"yx\"], as_index=False).agg({\"pcs/m\":\"sum\"})\n",
    "iq = fd[fd.yx == \"Year 1\"].groupby([\"loc_date\"])[\"pcs/m\"].sum().to_numpy()\n",
    "\n",
    "twenty_five, seventy_five = np.round(np.percentile(iq, 25), 2), np.round(np.percentile(iq, 75), 2)\n",
    "\n",
    "\n",
    "data.to_csv(\"output/csvs/figure_1.csv\", index=False)\n",
    "\n",
    "sns.histplot(data=data, x=\"pcs/m\", hue=\"yx\", ax=ax, zorder=2, label=\"yx\", multiple=\"stack\")\n",
    "\n",
    "ax.vlines([twenty_five, seventy_five], ymin=0, ymax=30, linestyle=\"dashed\", color=\"dodgerblue\", zorder=3, linewidths=2)\n",
    "ax.fill_between([np.percentile(iq, 25), np.percentile(iq, 75)], y1=0, y2=30, color=\"dodgerblue\", alpha=0.3, zorder=0, label=f\"50% IQR year one: [{twenty_five}, {seventy_five}]\")\n",
    "h,l = ax.get_legend_handles_labels()\n",
    "hs = h[0]\n",
    "nl = [l[0], \"Year 1\", \"Year 6\"]\n",
    "plt.legend(h,nl, frameon=False)\n",
    "\n",
    "ax.set_ylabel(\"Number of samples\", fontsize=14)\n",
    "ax.set_xlabel(\"Pieces per meter\", fontsize=14)\n",
    "plt.tight_layout()\n",
    "glue(\"figure-1-swe\", fig, display=False)\n",
    "plt.close()"
   ]
  },
  {
   "cell_type": "markdown",
   "metadata": {
    "editable": true,
    "slideshow": {
     "slide_type": ""
    },
    "tags": []
   },
   "source": [
    "```{glue:figure} figure-1-swe\n",
    ":name: figure-1-swe\n",
    "{glue:text}`blank_caption` \n",
    "```\n",
    "{numref}`figure %s: <figure-1-swe>` Survey results from year one compared to year two."
   ]
  },
  {
   "cell_type": "code",
   "execution_count": 8,
   "metadata": {
    "editable": true,
    "jupyter": {
     "source_hidden": true
    },
    "slideshow": {
     "slide_type": ""
    },
    "tags": [
     "hide-input"
    ]
   },
   "outputs": [],
   "source": [
    "fig, ax = plt.subplots(figsize=(8,6))\n",
    "data = fd.groupby([\"loc_date\"], as_index=False).agg({\"pcs/m\":\"sum\"})\n",
    "data.to_csv(\"output/csvs/figure_2.csv\", index=False)\n",
    "sns.histplot(data=data, x=\"pcs/m\",ax=ax, zorder=2)\n",
    "\n",
    "ax.set_ylabel(\"Number of samples\", fontsize=14)\n",
    "ax.set_xlabel(\"Pieces per meter\", fontsize=14)\n",
    "\n",
    "plt.tight_layout()\n",
    "\n",
    "glue(\"figure-2-swe\", fig, display=False)\n",
    "plt.close()"
   ]
  },
  {
   "cell_type": "markdown",
   "metadata": {
    "editable": true,
    "slideshow": {
     "slide_type": ""
    },
    "tags": []
   },
   "source": [
    "```{glue:figure} figure-2-swe\n",
    ":name: figure-2-swe\n",
    "{glue:text}`blank_caption` \n",
    "```\n",
    "{numref}`figure %s: <figure-2-swe>` Distribution of surveys 2015 - 2021"
   ]
  },
  {
   "cell_type": "code",
   "execution_count": 9,
   "metadata": {
    "editable": true,
    "jupyter": {
     "source_hidden": true
    },
    "slideshow": {
     "slide_type": ""
    },
    "tags": [
     "hide-input"
    ]
   },
   "outputs": [],
   "source": [
    "fig, ax = plt.subplots(figsize=(8,6))\n",
    "a_locdate = fd.groupby([\"loc_date\",\"date\", \"slug\", \"team\"], as_index=False).agg({\"pcs/m\":\"sum\", \"quantity\":\"sum\", })\n",
    "a_locdate[\"date\"]=pd.to_datetime(a_locdate[\"date\"])\n",
    "\n",
    "a_locdate.to_csv(\"output/csvs/figure_3.csv\", index=False)\n",
    "\n",
    "ylimit=60\n",
    "sns.scatterplot(data=a_locdate, x=\"date\", y=\"pcs/m\", s=50, hue=\"team\")\n",
    "ax.set_xlabel(\"\")\n",
    "days = mdates.DayLocator(interval=7)\n",
    "\n",
    "ax.tick_params(axis=\"x\", which=\"major\", pad=15)\n",
    "\n",
    "ax.set_ylim(-.5,60)\n",
    "ax.set_ylabel(\"Pieces per meter\", fontsize=14)\n",
    "ax.legend(loc=\"upper right\", fancybox=False, facecolor=\"white\", edgecolor='0.0', framealpha=1)\n",
    "ax.legend().get_frame().set_linewidth(0)\n",
    "glue(\"figure-3-swe\", fig, display=False)\n",
    "plt.close()"
   ]
  },
  {
   "cell_type": "markdown",
   "metadata": {
    "editable": true,
    "slideshow": {
     "slide_type": ""
    },
    "tags": []
   },
   "source": [
    "```{glue:figure} figure-3-swe\n",
    ":name: figure-3-swe\n",
    "{glue:text}`blank_caption` \n",
    "```\n",
    "{numref}`figure %s: <figure-3-swe>` Survey results since 2015."
   ]
  },
  {
   "cell_type": "markdown",
   "metadata": {
    "editable": true,
    "slideshow": {
     "slide_type": ""
    },
    "tags": []
   },
   "source": [
    "### Survey total summary"
   ]
  },
  {
   "cell_type": "code",
   "execution_count": 10,
   "metadata": {
    "editable": true,
    "jupyter": {
     "source_hidden": true
    },
    "slideshow": {
     "slide_type": ""
    },
    "tags": [
     "remove-input"
    ]
   },
   "outputs": [
    {
     "data": {
      "text/html": [
       "<style type=\"text/css\">\n",
       "#T_f7cff tr:nth-child(even) {\n",
       "  background-color: rgba(139, 69, 19, 0.08);\n",
       "}\n",
       "#T_f7cff tr:nth-child(odd) {\n",
       "  background: #FFF;\n",
       "}\n",
       "#T_f7cff tr {\n",
       "  font-size: 12px;\n",
       "}\n",
       "#T_f7cff th:nth-child(1) {\n",
       "  background-color: #FFF;\n",
       "  text-align: right;\n",
       "}\n",
       "#T_f7cff caption {\n",
       "  font-size: 14px;\n",
       "  font-style: italic;\n",
       "  caption-side: bottom;\n",
       "  text-align: left;\n",
       "  margin-top: 10px;\n",
       "}\n",
       "</style>\n",
       "<table id=\"T_f7cff\">\n",
       "  <caption>Table 5, Summary statistics of the daily total in pcs or trash per meter. All objects included</caption>\n",
       "  <thead>\n",
       "    <tr>\n",
       "      <th class=\"blank level0\" >&nbsp;</th>\n",
       "      <th id=\"T_f7cff_level0_col0\" class=\"col_heading level0 col0\" >count</th>\n",
       "      <th id=\"T_f7cff_level0_col1\" class=\"col_heading level0 col1\" >mean</th>\n",
       "      <th id=\"T_f7cff_level0_col2\" class=\"col_heading level0 col2\" >std</th>\n",
       "      <th id=\"T_f7cff_level0_col3\" class=\"col_heading level0 col3\" >min</th>\n",
       "      <th id=\"T_f7cff_level0_col4\" class=\"col_heading level0 col4\" >25%</th>\n",
       "      <th id=\"T_f7cff_level0_col5\" class=\"col_heading level0 col5\" >50%</th>\n",
       "      <th id=\"T_f7cff_level0_col6\" class=\"col_heading level0 col6\" >75%</th>\n",
       "      <th id=\"T_f7cff_level0_col7\" class=\"col_heading level0 col7\" >max</th>\n",
       "    </tr>\n",
       "  </thead>\n",
       "  <tbody>\n",
       "    <tr>\n",
       "      <th id=\"T_f7cff_level0_row0\" class=\"row_heading level0 row0\" >pcs/m</th>\n",
       "      <td id=\"T_f7cff_row0_col0\" class=\"data row0 col0\" >267.00</td>\n",
       "      <td id=\"T_f7cff_row0_col1\" class=\"data row0 col1\" >8.56</td>\n",
       "      <td id=\"T_f7cff_row0_col2\" class=\"data row0 col2\" >10.74</td>\n",
       "      <td id=\"T_f7cff_row0_col3\" class=\"data row0 col3\" >0.09</td>\n",
       "      <td id=\"T_f7cff_row0_col4\" class=\"data row0 col4\" >2.59</td>\n",
       "      <td id=\"T_f7cff_row0_col5\" class=\"data row0 col5\" >4.94</td>\n",
       "      <td id=\"T_f7cff_row0_col6\" class=\"data row0 col6\" >9.72</td>\n",
       "      <td id=\"T_f7cff_row0_col7\" class=\"data row0 col7\" >77.10</td>\n",
       "    </tr>\n",
       "  </tbody>\n",
       "</table>\n"
      ],
      "text/plain": [
       "<pandas.io.formats.style.Styler at 0x7f7c6ce79160>"
      ]
     },
     "execution_count": 10,
     "metadata": {},
     "output_type": "execute_result"
    }
   ],
   "source": [
    "pd.DataFrame(a_locdate[\"pcs/m\"].describe())\n",
    "\n",
    "aqs = pd.DataFrame(a_locdate[\"pcs/m\"].describe())\n",
    "caption = \"Table 5, Summary statistics of the daily total in pcs or trash per meter. All objects included\"\n",
    "aqs.to_csv(\"output/csvs/table_5.csv\", index=False)\n",
    "aqs.index.name = None\n",
    "aqs = aqs.T\n",
    "# aqs.set_index(\"team\", drop=True, inplace=True)\n",
    "# aqs.index.name = None\n",
    "table_5 = aqs.style.format(precision=2).set_caption(caption).set_table_styles(table_css_styles)\n",
    "\n",
    "table_5"
   ]
  },
  {
   "cell_type": "markdown",
   "metadata": {
    "editable": true,
    "slideshow": {
     "slide_type": ""
    },
    "tags": []
   },
   "source": [
    "__Below__ The year over year survey results for Lac Léman. There are surveys in each year since 2015"
   ]
  },
  {
   "cell_type": "code",
   "execution_count": 11,
   "metadata": {
    "editable": true,
    "jupyter": {
     "source_hidden": true
    },
    "slideshow": {
     "slide_type": ""
    },
    "tags": [
     "hide-input"
    ]
   },
   "outputs": [],
   "source": [
    "a_locdate = fd.groupby([\"yx\", \"loc_date\",\"date\", \"slug\", \"team\"], as_index=False).agg({\"pcs/m\":\"sum\", \"quantity\":\"sum\", })\n",
    "a_locdate[\"date\"]=pd.to_datetime(a_locdate[\"date\"])\n",
    "\n",
    "a_locdate.to_csv(\"output/csvs/figure_4.csv\", index=False)\n",
    "\n",
    "PROPS = {\n",
    "    'boxprops':{'facecolor':'none'},   \n",
    "}\n",
    "\n",
    "fig, ax = plt.subplots(figsize=(8,6))\n",
    "\n",
    "sns.boxplot(data=a_locdate, x=\"yx\", y=\"pcs/m\", showfliers=False, ax=ax, **PROPS, zorder=2, order=year_names)\n",
    "sns.stripplot(data=a_locdate, x=\"yx\", y=\"pcs/m\", ax=ax, size=8, alpha=.6,hue=\"team\", jitter=.3, zorder=0, order=year_names)\n",
    "ylimit = np.quantile(a_locdate[\"pcs/m\"].values, .99)\n",
    "ax.set_ylim(0, ylimit)\n",
    "ax.set_ylabel(\"pcs/m\", fontsize=14)\n",
    "ax.set_xlabel(\"\")\n",
    "ax.legend(loc=\"upper right\", fancybox=False, facecolor=\"white\", edgecolor='0.0', framealpha=1)\n",
    "ax.legend().get_frame().set_linewidth(0)\n",
    "\n",
    "glue(\"figure-4-swe\", fig, display=False)\n",
    "plt.close()"
   ]
  },
  {
   "cell_type": "markdown",
   "metadata": {
    "editable": true,
    "slideshow": {
     "slide_type": ""
    },
    "tags": []
   },
   "source": [
    "```{glue:figure} figure-4-swe\n",
    ":name: figure-4-swe\n",
    "{glue:text}`blank_caption` \n",
    "```\n",
    "{numref}`figure %s: <figure-4-swe>` The 90% interval of the survey results year over year."
   ]
  },
  {
   "cell_type": "code",
   "execution_count": 12,
   "metadata": {
    "editable": true,
    "jupyter": {
     "source_hidden": true
    },
    "slideshow": {
     "slide_type": ""
    },
    "tags": [
     "hide-input"
    ]
   },
   "outputs": [
    {
     "data": {
      "text/markdown": [
       "Values greater than 50.97 pcs/m not shown, the 99th percentile."
      ],
      "text/plain": [
       "<IPython.core.display.Markdown object>"
      ]
     },
     "execution_count": 12,
     "metadata": {},
     "output_type": "execute_result"
    }
   ],
   "source": [
    "axis_limits = ylimit\n",
    "statement = f\"Values greater than {np.round(ylimit, 2)} pcs/m not shown, the 99th percentile.\"\n",
    "md(statement)"
   ]
  },
  {
   "cell_type": "markdown",
   "metadata": {
    "editable": true,
    "slideshow": {
     "slide_type": ""
    },
    "tags": []
   },
   "source": [
    "### Year over year cumulative distribution\n",
    "\n",
    "Considering sample years with more than two observations. The highest median was in year 2 and the highest mean was recorded in years 2 and 5  but the maximum value was recorded in year 3 by SWE students at tiger-duck-beach. The dispersion is lowest in year two. The third year has the lowest number of samples and locations but the highest dispersion.  Three locations are responsible for 68% of all samples in year three. The median survey value of these three locations ranges from 0.29 to 6.5, the maximum survey value in year three was 77pcs/m. Differences of this magnitude are regular occurrences, the high variance of beach litter surveys was noted when the EU published guidelines on determining baseline values and thresholds. {cite}`eubaselines` "
   ]
  },
  {
   "cell_type": "code",
   "execution_count": 13,
   "metadata": {
    "editable": true,
    "jupyter": {
     "source_hidden": true
    },
    "slideshow": {
     "slide_type": ""
    },
    "tags": [
     "hide-input"
    ]
   },
   "outputs": [],
   "source": [
    "ecdfs = [ECDF(a_locdate[a_locdate.yx == x][\"pcs/m\"].values) for x in year_names]\n",
    "sns.set_style(\"whitegrid\")\n",
    "\n",
    "\n",
    "fig, ax = plt.subplots(figsize=(5,5))\n",
    "\n",
    "ax.set_xlim(0, ylimit)\n",
    "\n",
    "\n",
    "for i, name in enumerate(year_names):\n",
    "    if i == 0:\n",
    "        somdata=ecdfs[0].x\n",
    "        median = np.quantile(a_locdate[a_locdate.yx == name][\"pcs/m\"].values, .5)\n",
    "        lower25 = np.quantile(a_locdate[a_locdate.yx == name][\"pcs/m\"].values, .25)\n",
    "        upper25 = np.quantile(a_locdate[a_locdate.yx == name][\"pcs/m\"].values, .75)\n",
    "        ax.vlines([lower25, upper25], ymin=0, ymax=1, linestyle=\"dashed\", color=\"dodgerblue\", zorder=1, linewidths=1)\n",
    "        ax.fill_between([lower25, upper25], y1=0, y2=1, color=\"dodgerblue\", alpha=0.3, zorder=0, label=\"Year 1 IQR\")\n",
    "        ax.vlines(median, ymin=0, ymax=1, color=\"red\", linestyle=\"dashdot\", linewidths=2, alpha=1, zorder=3)\n",
    "        \n",
    "        \n",
    "    if i != 3:\n",
    "        sns.lineplot(x=ecdfs[i].x, y=ecdfs[i].y, ax=ax, label=name, zorder=2)\n",
    "        \n",
    "    else:\n",
    "        pass\n",
    "handles, labels = ax.get_legend_handles_labels()\n",
    "ax.set_xlabel(\"pcs/m\", fontsize=14)\n",
    "ax.set_ylabel(\"Cumulative probability\", fontsize=14)\n",
    "\n",
    "n_handles = [handles[-1], *handles[:-1]]\n",
    "n_labels = [labels[-1], *labels[:-1]]    \n",
    "plt.legend(n_handles, n_labels, bbox_to_anchor=(1,1), fancybox=False, facecolor=\"white\", edgecolor='0.0', framealpha=1)\n",
    "ax.legend().get_frame().set_linewidth(0)\n",
    "plt.title(f\"Year one IQR = [{round(lower25, 2)}, {round(upper25, 2)}]\", loc='left')\n",
    "plt.tight_layout()\n",
    "glue(\"figure-5-swe\", fig, display=False)\n",
    "plt.close()"
   ]
  },
  {
   "cell_type": "markdown",
   "metadata": {
    "editable": true,
    "slideshow": {
     "slide_type": ""
    },
    "tags": []
   },
   "source": [
    "```{glue:figure} figure-5-swe\n",
    ":name: figure-5-swe\n",
    "{glue:text}`blank_caption` \n",
    "```\n",
    "{numref}`figure %s: <figure-5-swe>` Cumulative distribution year over year"
   ]
  },
  {
   "cell_type": "code",
   "execution_count": 14,
   "metadata": {
    "editable": true,
    "jupyter": {
     "source_hidden": true
    },
    "slideshow": {
     "slide_type": ""
    },
    "tags": [
     "remove-input"
    ]
   },
   "outputs": [],
   "source": [
    "these_years = [x for x in year_names if x != year_names[3]]\n",
    "ty_data = [a_locdate[a_locdate.yx == x][\"pcs/m\"].values for x in these_years]\n",
    "\n",
    "ecdfs = [ECDF(a_locdate[a_locdate.yx == x][\"pcs/m\"].values) for x in these_years]\n",
    "sns.set_style(\"whitegrid\")\n",
    "\n",
    "fig, axs = plt.subplots(2, 3, figsize=(10,10))\n",
    "\n",
    "yonevals=ty_data[0]\n",
    "median = np.round(np.quantile(yonevals, .5), 2)\n",
    "lower25 = np.round(np.quantile(yonevals, .25), 2)\n",
    "upper25 = np.round(np.quantile(yonevals, .75), 2)\n",
    "\n",
    "\n",
    "for i, name in enumerate(these_years):\n",
    "\n",
    "    column = i%3\n",
    "    if i < 3:\n",
    "        row = 0        \n",
    "    else:\n",
    "        row=1\n",
    "   \n",
    "    somdata=ty_data[i]\n",
    "    median_i = np.quantile(somdata, .5)\n",
    "    lower25_i = np.round(np.quantile(somdata, .25), 2)\n",
    "    upper25_i  = np.round(np.quantile(somdata, .75), 2)    \n",
    "\n",
    "    ax = axs[row, column]\n",
    "    \n",
    "    ax.set_xlim(-.5, 35)\n",
    "    ax_title = f'{ name }:\\nIQR = [{lower25_i}, {upper25_i}]\\nmedian = {median_i}'\n",
    "\n",
    "    if i >= 0:\n",
    "        ax.vlines([lower25, upper25], ymin=0, ymax=1, linestyle=\"dashed\", color=\"dodgerblue\", linewidths=1, zorder=2)\n",
    "        ax.fill_between([lower25, upper25], y1=0, y2=1, color=\"dodgerblue\", alpha=0.3, zorder=0, label=f\"Year 1 IQR\")\n",
    "        ax.vlines(median, ymin=0, ymax=1, color=\"dodgerblue\", linestyle=\"dashdot\", linewidths=2, alpha=1, zorder=2)\n",
    "\n",
    "        sns.lineplot(x=ecdfs[0].x, y=ecdfs[0].y, ax=ax, label=these_years[0], c='dodgerblue', zorder=3)\n",
    "\n",
    "        ax.annotate(ax_title, (.44, .52), xycoords='axes fraction')        \n",
    "    \n",
    "    if i > 0:\n",
    "\n",
    "        ax.vlines([lower25_i, upper25_i], ymin=0, ymax=1, linestyle=\"dashed\", color=\"dodgerblue\",linewidths=1, zorder=4) \n",
    "        ax.fill_between([lower25_i, upper25_i], y1=0, y2=1, color=\"magenta\", alpha=0.3, label=f\"{name} IQR\", zorder=4) \n",
    "        ax.vlines(median_i, ymin=0, ymax=1, color=\"magenta\", linestyle=\"dashdot\", linewidths=2, alpha=1, zorder=5, label=f\"{name} median\")   \n",
    "        \n",
    "        sns.lineplot(x=ecdfs[i].x, y=ecdfs[i].y, ax=ax, label=name, c='magenta', zorder=2)    \n",
    "    \n",
    "    handles, labels = ax.get_legend_handles_labels()    \n",
    "\n",
    "    if i > 0:\n",
    "        ax.legend().get_frame().set_linewidth(0)\n",
    "        ax.legend(handles[::-1][:-2], labels[::-1][:-2], bbox_to_anchor=(.4, .45), loc=\"upper left\", fancybox=False, facecolor=\"white\", edgecolor='1.0', framealpha=1)        \n",
    "        \n",
    "        ax.set_xlabel(\"pcs/m\", fontsize=10)\n",
    "        ax.set_ylabel(\"Cumulative probability\", fontsize=10)\n",
    "        \n",
    "    if i == 0:\n",
    "        ax.legend().get_frame().set_linewidth(0)\n",
    "        ax.legend(handles[::-1], labels[::-1], bbox_to_anchor=(.4, .45), loc=\"upper left\", fancybox=False, facecolor=\"white\", edgecolor='1.0', framealpha=1)        \n",
    "        \n",
    "        ax.set_xlabel(\"pcs/m\", fontsize=10)\n",
    "        ax.set_ylabel(\"Cumulative probability\", fontsize=10)\n",
    "        \n",
    "    if column > 0:\n",
    "        ax.set_ylabel(\"\")\n",
    "        ax.set_yticks([])\n",
    "    \n",
    "ax = axs[row, 2]\n",
    "axs[row,2].grid(False)\n",
    "axs[row, 2].set_xticks([])\n",
    "axs[row, 2].set_yticks([])\n",
    "not_y_4 = \"Year Four not shown.\\n\\nThere were only two samples,\"\n",
    "ax.annotate(not_y_4, (.2, .52), xycoords='axes fraction')\n",
    "axs[row, 2].spines[['right', 'top', 'left', 'bottom']].set_visible(False)\n",
    "\n",
    "plt.subplots_adjust(wspace=.1, hspace=.2)\n",
    "plt.tight_layout()\n",
    "glue(\"figure-5_5-swe\", fig, display=False)\n",
    "plt.close()"
   ]
  },
  {
   "cell_type": "markdown",
   "metadata": {},
   "source": [
    "```{glue:figure} figure-5_5-swe\n",
    ":name: figure-5_5-swe\n",
    "{glue:text}`blank_caption` \n",
    "```\n",
    "{numref}`figure %s: <figure-5_5-swe>` Cumulative distribution year over year"
   ]
  },
  {
   "cell_type": "markdown",
   "metadata": {
    "editable": true,
    "slideshow": {
     "slide_type": ""
    },
    "tags": []
   },
   "source": [
    "(diff-groups)=\n",
    "### Comparison between the survey groups\n",
    "\n",
    "The innerquartile range from y-one accounts for 50% of the survey results from SLR and 59% of the results from PC. The 25^th percentile is much lower in both cases (Fig. 5). The groups also represent regional clusters. The year one surveys were primarily from the Haut Lac, SLR surveys are primarily in the Grand Lac and PC surveys are between the Grand Lac and the Haut Lac. The variance between years and groups has a part that can be attributed to location."
   ]
  },
  {
   "cell_type": "code",
   "execution_count": 15,
   "metadata": {
    "editable": true,
    "jupyter": {
     "source_hidden": true
    },
    "slideshow": {
     "slide_type": ""
    },
    "tags": [
     "hide-input"
    ]
   },
   "outputs": [],
   "source": [
    "ecdfs = [ECDF(a_locdate[a_locdate.team == x][\"pcs/m\"].values) for x in [\"HD\", \"SLR\", \"PC\"]]\n",
    "sns.set_style(\"whitegrid\")\n",
    "colors = [\"dodgerblue\", \"magenta\", \"saddlebrown\"]\n",
    "\n",
    "\n",
    "fig, ax = plt.subplots(figsize=(5,6))\n",
    "\n",
    "ax.set_xlim(0, 35)\n",
    "\n",
    "iqrs_by_group = {}\n",
    "\n",
    "for i, name in enumerate([\"HD\", \"SLR\", \"PC\"]):\n",
    "    somdata=ecdfs[i].x\n",
    "    ecdfs.append(somdata)\n",
    "    median = np.quantile(somdata, .5)\n",
    "    lower25 = np.quantile(somdata, .25)\n",
    "    upper25 = np.quantile(somdata, .75)\n",
    "    iqrs_by_group.update({name:[lower25, median, upper25]})    \n",
    "    \n",
    "    ax.fill_between([lower25, upper25], y1=0, y2=1, color=colors[i], alpha=0.3, zorder=0, label=f\"IQR {name}\")\n",
    "    sns.lineplot(x=ecdfs[i].x, y=ecdfs[i].y, ax=ax, label=name, zorder=1, color=colors[i])\n",
    "        \n",
    "combined = ECDF([*ecdfs[0].x, *ecdfs[1].x, *ecdfs[2].x])\n",
    "\n",
    "sns.lineplot(x=combined.x, y=combined.y, ax=ax, label=\"Combined surveys\", zorder=2, linestyle=\"dashed\", color=\"black\")\n",
    "\n",
    "handles, labels = ax.get_legend_handles_labels()\n",
    "ax.set_xlabel(\"pcs/m\", fontsize=14)\n",
    "ax.set_ylabel(\"Cumulative probability\", fontsize=14)\n",
    "\n",
    "n_handles = [*handles[-4:], *handles[:-4]] # handles\n",
    "n_labels =  [*labels[-4:], *labels[:-4]] # labels\n",
    "ax.legend(n_handles, n_labels, bbox_to_anchor=(1,1), fancybox=False, facecolor=\"white\", edgecolor='0.0', framealpha=1)\n",
    "ax.legend().get_frame().set_linewidth(0)\n",
    "glue(\"figure-6-swe\", fig, display=False)\n",
    "plt.close()"
   ]
  },
  {
   "cell_type": "markdown",
   "metadata": {
    "editable": true,
    "slideshow": {
     "slide_type": ""
    },
    "tags": []
   },
   "source": [
    "```{glue:figure} figure-6-swe\n",
    ":name: figure-6-swe\n",
    "{glue:text}`blank_caption` \n",
    "```\n",
    "{numref}`figure %s: <figure-6-swe>` Cumulative distribution by survey group"
   ]
  },
  {
   "cell_type": "code",
   "execution_count": 16,
   "metadata": {
    "editable": true,
    "jupyter": {
     "source_hidden": true
    },
    "slideshow": {
     "slide_type": ""
    },
    "tags": [
     "remove-input"
    ]
   },
   "outputs": [],
   "source": [
    "these_names = [\"HD\", \"SLR\", \"PC\"]\n",
    "ty_data = [a_locdate[a_locdate.team == x][\"pcs/m\"].values for x in these_names]\n",
    "\n",
    "ecdfs = [ECDF(a_locdate[a_locdate.team == x][\"pcs/m\"].values) for x in these_names]\n",
    "sns.set_style(\"whitegrid\")\n",
    "\n",
    "fig, axs = plt.subplots(2, 2, figsize=(8,8))\n",
    "\n",
    "yonevals=ty_data[0]\n",
    "median = np.round(np.quantile(yonevals, .5), 2)\n",
    "lower25 = np.round(np.quantile(yonevals, .25), 2)\n",
    "upper25 = np.round(np.quantile(yonevals, .75), 2)\n",
    "\n",
    "\n",
    "for i, name in enumerate(these_names):\n",
    "\n",
    "    column = i%2\n",
    "    if i < 2:\n",
    "        row = 0        \n",
    "    else:\n",
    "        row=1\n",
    "   \n",
    "    somdata=ty_data[i]\n",
    "    median_i = np.round(np.quantile(somdata, .5), 2)\n",
    "    lower25_i = np.round(np.quantile(somdata, .25), 2)\n",
    "    upper25_i  = np.round(np.quantile(somdata, .75), 2)    \n",
    "\n",
    "    ax = axs[row, column]\n",
    "    \n",
    "    ax.set_xlim(-.5, 35)\n",
    "    ax_title = f'{ name }:\\nIQR = [{lower25_i}, {upper25_i}]\\nmedian = {median_i}'\n",
    "\n",
    "    if i >= 0:\n",
    "        ax.vlines([lower25, upper25], ymin=0, ymax=1, linestyle=\"dashed\", color=\"dodgerblue\", linewidths=1, zorder=2)\n",
    "        ax.fill_between([lower25, upper25], y1=0, y2=1, color=\"dodgerblue\", alpha=0.3, zorder=0, label=f\"{name} IQR\")\n",
    "        ax.vlines(median, ymin=0, ymax=1, color=\"dodgerblue\", linestyle=\"dashdot\", linewidths=2, alpha=1, zorder=2)\n",
    "\n",
    "        sns.lineplot(x=ecdfs[0].x, y=ecdfs[0].y, ax=ax, label=these_years[0], c='dodgerblue', zorder=3)\n",
    "\n",
    "        ax.annotate(ax_title, (.54, .42), xycoords='axes fraction')        \n",
    "    \n",
    "    if i > 0:\n",
    "\n",
    "        ax.vlines([lower25_i, upper25_i], ymin=0, ymax=1, linestyle=\"dashed\", color=\"dodgerblue\",linewidths=1, zorder=4) \n",
    "        ax.fill_between([lower25_i, upper25_i], y1=0, y2=1, color=\"magenta\", alpha=0.3, label=f\"{name} IQR\", zorder=4) \n",
    "        ax.vlines(median_i, ymin=0, ymax=1, color=\"magenta\", linestyle=\"dashdot\", linewidths=2, alpha=1, zorder=5, label=f\"{name} median\")   \n",
    "        \n",
    "        sns.lineplot(x=ecdfs[i].x, y=ecdfs[i].y, ax=ax, label=name, c='magenta', zorder=2)    \n",
    "    \n",
    "    handles, labels = ax.get_legend_handles_labels()    \n",
    "\n",
    "    if i > 0:\n",
    "        ax.legend().get_frame().set_linewidth(0)\n",
    "        ax.legend(handles[::-1][:-2], labels[::-1][:-2], bbox_to_anchor=(.5, .35), loc=\"upper left\", fancybox=False, facecolor=\"white\", edgecolor='1.0', framealpha=1)        \n",
    "        \n",
    "        ax.set_xlabel(\"pcs/m\", fontsize=10)\n",
    "        ax.set_ylabel(\"Cumulative probability\", fontsize=10)\n",
    "        \n",
    "    if i == 0:\n",
    "        ax.legend().get_frame().set_linewidth(0)\n",
    "        ax.legend(handles[::-1], labels[::-1], bbox_to_anchor=(.5, .35), loc=\"upper left\", fancybox=False, facecolor=\"white\", edgecolor='1.0', framealpha=1)        \n",
    "        \n",
    "        ax.set_xlabel(\"pcs/m\", fontsize=10)\n",
    "        ax.set_ylabel(\"Cumulative probability\", fontsize=10)\n",
    "                \n",
    "    if column > 0:\n",
    "        ax.set_ylabel(\"\")\n",
    "        ax.set_yticks([])\n",
    "\n",
    "ax = axs[row, 1]\n",
    "ax.grid(False)\n",
    "ax.set_xticks([])\n",
    "ax.set_yticks([])\n",
    "not_y_4 = \"Hammerdirt was responsible for\\n\\nmost of the surveys Year 1,\"\n",
    "\n",
    "ax.spines[['right', 'top', 'left', 'bottom']].set_visible(False)\n",
    "\n",
    "plt.subplots_adjust(wspace=.1, hspace=.2)\n",
    "plt.tight_layout()\n",
    "glue(\"figure-6_5-swe\", fig, display=False)\n",
    "plt.close()"
   ]
  },
  {
   "cell_type": "markdown",
   "metadata": {
    "editable": true,
    "slideshow": {
     "slide_type": ""
    },
    "tags": []
   },
   "source": [
    "```{glue:figure} figure-6_5-swe\n",
    ":name: figure-6_5-swe\n",
    "{glue:text}`blank_caption` \n",
    "```\n",
    "{numref}`figure %s: <figure-6_5-swe>` Detail of the cumulative distribution of the different survey groups compared to each other."
   ]
  },
  {
   "cell_type": "markdown",
   "metadata": {
    "editable": true,
    "slideshow": {
     "slide_type": ""
    },
    "tags": []
   },
   "source": [
    "__The number of locations below the 25th and above the 75th percentile__\n",
    "\n",
    "Consider the results from year one as a base year and recall that HD was responsible for 80 of the 82 surveys. SLR has 12 samples below the IQR from year one and 5 above the IQR. Aproximately 46% of SLR surveys fall within the IQR of year one. PC had 14 below the IQR and seven above or 38% of all PC surveys fall within the IQR of year one."
   ]
  },
  {
   "cell_type": "code",
   "execution_count": 17,
   "metadata": {
    "editable": true,
    "jupyter": {
     "source_hidden": true
    },
    "slideshow": {
     "slide_type": ""
    },
    "tags": [
     "remove-input"
    ]
   },
   "outputs": [],
   "source": [
    "slr = ty_data[1]\n",
    "slr_less = (len(slr[slr < 3.265]), max(slr[slr <3.265]))\n",
    "slr_more = (len(slr[slr > 11.3225]), max(slr[slr > 3.265]))\n",
    "in_iqr = len(slr) - slr_less[0] - slr_more[0]\n",
    "# print(slr_less)\n",
    "# print(slr_more)\n",
    "# print(in_iqr/len(slr), in_iqr)\n",
    "\n",
    "a_l = fd.groupby([\"team\", \"loc_date\"], as_index=False).agg({\"pcs/m\":\"sum\"})\n",
    "a_l.groupby(\"team\").agg({\"loc_date\":\"nunique\", \"pcs/m\":\"median\"})\n",
    "a_l.rename(columns={\"loc_date\":\"samples\"}, inplace=True)\n",
    "\n",
    "pc = ty_data[2]\n",
    "pcl = (len(pc[pc<3.265]), max(pc[pc < 3.265]))\n",
    "pcm = (len(pc[pc > 11.3225]), max(pc[pc > 11.3265]))\n",
    "in_iqr = len(pc) - pcl[0] - pcm[0]\n",
    "# print(pcl)\n",
    "# print(pcm)\n",
    "# print(len(pc))\n",
    "# print(in_iqr/len(pc))\n",
    "# pcm"
   ]
  },
  {
   "cell_type": "markdown",
   "metadata": {
    "editable": true,
    "slideshow": {
     "slide_type": ""
    },
    "tags": []
   },
   "source": [
    "## Composition over time\n",
    "\n",
    "Year over percent of total of the top ten codes on Lake Geneva"
   ]
  },
  {
   "cell_type": "code",
   "execution_count": 18,
   "metadata": {
    "editable": true,
    "jupyter": {
     "source_hidden": true
    },
    "slideshow": {
     "slide_type": ""
    },
    "tags": [
     "remove-input"
    ]
   },
   "outputs": [],
   "source": [
    "# definition of Gfoams\n",
    "some_foams = ['G81', 'G82', 'G83', 'G911', 'G912']\n",
    "yellow_foams = ['G74', 'G909', 'G910']\n",
    "\n",
    "#definition of Gfrags\n",
    "\n",
    "\n",
    "ten_yoy = fd.groupby([\"yx\",\"code\"], as_index=False).quantity.sum()\n",
    "yx_totals = fd.groupby(\"yx\").quantity.sum()\n",
    "\n",
    "lake_code_totals = fd.groupby(\"code\").quantity.sum()\n",
    "lake_top_ten = lake_code_totals.sort_values(ascending=False)[:10].index"
   ]
  },
  {
   "cell_type": "code",
   "execution_count": 19,
   "metadata": {
    "editable": true,
    "jupyter": {
     "source_hidden": true
    },
    "slideshow": {
     "slide_type": ""
    },
    "tags": [
     "remove-input"
    ]
   },
   "outputs": [],
   "source": [
    "for a_year in ten_yoy.yx.unique():\n",
    "    ten_yoy.loc[ten_yoy.yx==a_year, \"p\"] = ((ten_yoy.quantity/yx_totals.loc[a_year])*100).round(1)\n",
    "    \n",
    "p_total_yoy = ten_yoy[ten_yoy.code.isin(lake_top_ten)].pivot(index=\"yx\", columns=\"code\", values=\"p\")\n",
    "p_total_yoy.to_csv(\"output/csvs/figure_7.csv\", index=False)\n",
    "code_d = dfCodes[\"description\"]\n",
    "\n",
    "fig, ax = plt.subplots(figsize=(5,5))\n",
    "p_total_yoy.plot.bar(stacked=True, colormap='tab10', alpha=0.5, width=.8, ax=ax)\n",
    "handles, labels = ax.get_legend_handles_labels()\n",
    "new_labels = [f'[{x}]: {code_d[x]}' for x in labels]\n",
    "ax.legend(handles, new_labels, bbox_to_anchor=(0, -.2), loc=\"upper left\")\n",
    "ax.set_xlabel(\"\")\n",
    "ax.set_ylabel(\"% of total\")\n",
    "glue(\"figure-7-swe\", fig, display=False)\n",
    "plt.close()"
   ]
  },
  {
   "cell_type": "markdown",
   "metadata": {
    "editable": true,
    "slideshow": {
     "slide_type": ""
    },
    "tags": []
   },
   "source": [
    "```{glue:figure} figure-7-swe\n",
    ":name: figure-7-swe\n",
    "{glue:text}`blank_caption` \n",
    "```\n",
    "{numref}`figure %s: <figure-7-swe>` Year over year percent of total of the top ten objects on Lake Geneva"
   ]
  },
  {
   "cell_type": "markdown",
   "metadata": {
    "editable": true,
    "slideshow": {
     "slide_type": ""
    },
    "tags": []
   },
   "source": [
    "Table of values year over year percent of total of the top ten codes on Lake Geneva"
   ]
  },
  {
   "cell_type": "code",
   "execution_count": 20,
   "metadata": {
    "editable": true,
    "jupyter": {
     "source_hidden": true
    },
    "slideshow": {
     "slide_type": ""
    },
    "tags": [
     "hide-input"
    ]
   },
   "outputs": [
    {
     "data": {
      "text/html": [
       "<style type=\"text/css\">\n",
       "#T_4c385 tr:nth-child(even) {\n",
       "  background-color: rgba(139, 69, 19, 0.08);\n",
       "}\n",
       "#T_4c385 tr:nth-child(odd) {\n",
       "  background: #FFF;\n",
       "}\n",
       "#T_4c385 tr {\n",
       "  font-size: 12px;\n",
       "}\n",
       "#T_4c385 th:nth-child(1) {\n",
       "  background-color: #FFF;\n",
       "  text-align: right;\n",
       "}\n",
       "#T_4c385 caption {\n",
       "  font-size: 14px;\n",
       "  font-style: italic;\n",
       "  caption-side: bottom;\n",
       "  text-align: left;\n",
       "  margin-top: 10px;\n",
       "}\n",
       "</style>\n",
       "<table id=\"T_4c385\">\n",
       "  <caption>Table 6: Year over year percent of total of the top ten objects Lake Geneva.</caption>\n",
       "  <thead>\n",
       "    <tr>\n",
       "      <th class=\"index_name level0\" >code</th>\n",
       "      <th id=\"T_4c385_level0_col0\" class=\"col_heading level0 col0\" >Gfrags</th>\n",
       "      <th id=\"T_4c385_level0_col1\" class=\"col_heading level0 col1\" >Gfoam</th>\n",
       "      <th id=\"T_4c385_level0_col2\" class=\"col_heading level0 col2\" >Gcaps</th>\n",
       "      <th id=\"T_4c385_level0_col3\" class=\"col_heading level0 col3\" >G95</th>\n",
       "      <th id=\"T_4c385_level0_col4\" class=\"col_heading level0 col4\" >G89</th>\n",
       "      <th id=\"T_4c385_level0_col5\" class=\"col_heading level0 col5\" >G67</th>\n",
       "      <th id=\"T_4c385_level0_col6\" class=\"col_heading level0 col6\" >G30</th>\n",
       "      <th id=\"T_4c385_level0_col7\" class=\"col_heading level0 col7\" >G27</th>\n",
       "      <th id=\"T_4c385_level0_col8\" class=\"col_heading level0 col8\" >G200</th>\n",
       "      <th id=\"T_4c385_level0_col9\" class=\"col_heading level0 col9\" >G112</th>\n",
       "    </tr>\n",
       "  </thead>\n",
       "  <tbody>\n",
       "    <tr>\n",
       "      <th id=\"T_4c385_level0_row0\" class=\"row_heading level0 row0\" >Year 1</th>\n",
       "      <td id=\"T_4c385_row0_col0\" class=\"data row0 col0\" >13.00</td>\n",
       "      <td id=\"T_4c385_row0_col1\" class=\"data row0 col1\" >20.50</td>\n",
       "      <td id=\"T_4c385_row0_col2\" class=\"data row0 col2\" >4.60</td>\n",
       "      <td id=\"T_4c385_row0_col3\" class=\"data row0 col3\" >4.90</td>\n",
       "      <td id=\"T_4c385_row0_col4\" class=\"data row0 col4\" >1.70</td>\n",
       "      <td id=\"T_4c385_row0_col5\" class=\"data row0 col5\" >4.10</td>\n",
       "      <td id=\"T_4c385_row0_col6\" class=\"data row0 col6\" >6.20</td>\n",
       "      <td id=\"T_4c385_row0_col7\" class=\"data row0 col7\" >20.00</td>\n",
       "      <td id=\"T_4c385_row0_col8\" class=\"data row0 col8\" >4.00</td>\n",
       "      <td id=\"T_4c385_row0_col9\" class=\"data row0 col9\" >0.00</td>\n",
       "    </tr>\n",
       "    <tr>\n",
       "      <th id=\"T_4c385_level0_row1\" class=\"row_heading level0 row1\" >Year 2</th>\n",
       "      <td id=\"T_4c385_row1_col0\" class=\"data row1 col0\" >8.20</td>\n",
       "      <td id=\"T_4c385_row1_col1\" class=\"data row1 col1\" >9.50</td>\n",
       "      <td id=\"T_4c385_row1_col2\" class=\"data row1 col2\" >4.50</td>\n",
       "      <td id=\"T_4c385_row1_col3\" class=\"data row1 col3\" >7.70</td>\n",
       "      <td id=\"T_4c385_row1_col4\" class=\"data row1 col4\" >1.60</td>\n",
       "      <td id=\"T_4c385_row1_col5\" class=\"data row1 col5\" >4.70</td>\n",
       "      <td id=\"T_4c385_row1_col6\" class=\"data row1 col6\" >7.40</td>\n",
       "      <td id=\"T_4c385_row1_col7\" class=\"data row1 col7\" >26.70</td>\n",
       "      <td id=\"T_4c385_row1_col8\" class=\"data row1 col8\" >3.50</td>\n",
       "      <td id=\"T_4c385_row1_col9\" class=\"data row1 col9\" >0.00</td>\n",
       "    </tr>\n",
       "    <tr>\n",
       "      <th id=\"T_4c385_level0_row2\" class=\"row_heading level0 row2\" >Year 3</th>\n",
       "      <td id=\"T_4c385_row2_col0\" class=\"data row2 col0\" >21.00</td>\n",
       "      <td id=\"T_4c385_row2_col1\" class=\"data row2 col1\" >9.80</td>\n",
       "      <td id=\"T_4c385_row2_col2\" class=\"data row2 col2\" >4.30</td>\n",
       "      <td id=\"T_4c385_row2_col3\" class=\"data row2 col3\" >6.60</td>\n",
       "      <td id=\"T_4c385_row2_col4\" class=\"data row2 col4\" >3.50</td>\n",
       "      <td id=\"T_4c385_row2_col5\" class=\"data row2 col5\" >3.20</td>\n",
       "      <td id=\"T_4c385_row2_col6\" class=\"data row2 col6\" >9.30</td>\n",
       "      <td id=\"T_4c385_row2_col7\" class=\"data row2 col7\" >10.50</td>\n",
       "      <td id=\"T_4c385_row2_col8\" class=\"data row2 col8\" >3.30</td>\n",
       "      <td id=\"T_4c385_row2_col9\" class=\"data row2 col9\" >0.00</td>\n",
       "    </tr>\n",
       "    <tr>\n",
       "      <th id=\"T_4c385_level0_row3\" class=\"row_heading level0 row3\" >Year 4</th>\n",
       "      <td id=\"T_4c385_row3_col0\" class=\"data row3 col0\" >21.20</td>\n",
       "      <td id=\"T_4c385_row3_col1\" class=\"data row3 col1\" >27.50</td>\n",
       "      <td id=\"T_4c385_row3_col2\" class=\"data row3 col2\" >0.70</td>\n",
       "      <td id=\"T_4c385_row3_col3\" class=\"data row3 col3\" >0.70</td>\n",
       "      <td id=\"T_4c385_row3_col4\" class=\"data row3 col4\" >3.90</td>\n",
       "      <td id=\"T_4c385_row3_col5\" class=\"data row3 col5\" >4.60</td>\n",
       "      <td id=\"T_4c385_row3_col6\" class=\"data row3 col6\" >4.90</td>\n",
       "      <td id=\"T_4c385_row3_col7\" class=\"data row3 col7\" >7.50</td>\n",
       "      <td id=\"T_4c385_row3_col8\" class=\"data row3 col8\" >0.00</td>\n",
       "      <td id=\"T_4c385_row3_col9\" class=\"data row3 col9\" >0.00</td>\n",
       "    </tr>\n",
       "    <tr>\n",
       "      <th id=\"T_4c385_level0_row4\" class=\"row_heading level0 row4\" >Year 5</th>\n",
       "      <td id=\"T_4c385_row4_col0\" class=\"data row4 col0\" >15.60</td>\n",
       "      <td id=\"T_4c385_row4_col1\" class=\"data row4 col1\" >12.40</td>\n",
       "      <td id=\"T_4c385_row4_col2\" class=\"data row4 col2\" >3.40</td>\n",
       "      <td id=\"T_4c385_row4_col3\" class=\"data row4 col3\" >4.00</td>\n",
       "      <td id=\"T_4c385_row4_col4\" class=\"data row4 col4\" >2.00</td>\n",
       "      <td id=\"T_4c385_row4_col5\" class=\"data row4 col5\" >3.50</td>\n",
       "      <td id=\"T_4c385_row4_col6\" class=\"data row4 col6\" >5.70</td>\n",
       "      <td id=\"T_4c385_row4_col7\" class=\"data row4 col7\" >12.80</td>\n",
       "      <td id=\"T_4c385_row4_col8\" class=\"data row4 col8\" >1.40</td>\n",
       "      <td id=\"T_4c385_row4_col9\" class=\"data row4 col9\" >5.80</td>\n",
       "    </tr>\n",
       "    <tr>\n",
       "      <th id=\"T_4c385_level0_row5\" class=\"row_heading level0 row5\" >Year 6</th>\n",
       "      <td id=\"T_4c385_row5_col0\" class=\"data row5 col0\" >13.30</td>\n",
       "      <td id=\"T_4c385_row5_col1\" class=\"data row5 col1\" >13.00</td>\n",
       "      <td id=\"T_4c385_row5_col2\" class=\"data row5 col2\" >4.20</td>\n",
       "      <td id=\"T_4c385_row5_col3\" class=\"data row5 col3\" >3.70</td>\n",
       "      <td id=\"T_4c385_row5_col4\" class=\"data row5 col4\" >2.50</td>\n",
       "      <td id=\"T_4c385_row5_col5\" class=\"data row5 col5\" >5.60</td>\n",
       "      <td id=\"T_4c385_row5_col6\" class=\"data row5 col6\" >6.90</td>\n",
       "      <td id=\"T_4c385_row5_col7\" class=\"data row5 col7\" >8.00</td>\n",
       "      <td id=\"T_4c385_row5_col8\" class=\"data row5 col8\" >3.00</td>\n",
       "      <td id=\"T_4c385_row5_col9\" class=\"data row5 col9\" >3.00</td>\n",
       "    </tr>\n",
       "  </tbody>\n",
       "</table>\n"
      ],
      "text/plain": [
       "<pandas.io.formats.style.Styler at 0x7f7c7559fdf0>"
      ]
     },
     "execution_count": 20,
     "metadata": {},
     "output_type": "execute_result"
    }
   ],
   "source": [
    "caption = \"Table 6, Summary statistics of the daily total in pcs or trash per meter. All objects included\"\n",
    "p_total_yoy.to_csv(\"output/csvs/table_6.csv\", index=False)\n",
    "p_total_yoy.index.name = None\n",
    "p_total_yoy = p_total_yoy[p_total_yoy.columns[::-1]]\n",
    "\n",
    "caption = \"Table 6: Year over year percent of total of the top ten objects Lake Geneva.\"\n",
    "table_6 = p_total_yoy.style.format(precision=2).set_caption(caption).set_table_styles(table_css_styles)\n",
    "\n",
    "table_6"
   ]
  },
  {
   "cell_type": "code",
   "execution_count": 21,
   "metadata": {
    "editable": true,
    "slideshow": {
     "slide_type": ""
    },
    "tags": [
     "hide-input"
    ]
   },
   "outputs": [
    {
     "data": {
      "text/html": [
       "<style type=\"text/css\">\n",
       "#T_26d44 tr:nth-child(even) {\n",
       "  background-color: rgba(139, 69, 19, 0.08);\n",
       "}\n",
       "#T_26d44 tr:nth-child(odd) {\n",
       "  background: #FFF;\n",
       "}\n",
       "#T_26d44 tr {\n",
       "  font-size: 12px;\n",
       "}\n",
       "#T_26d44 th:nth-child(1) {\n",
       "  background-color: #FFF;\n",
       "  text-align: right;\n",
       "}\n",
       "#T_26d44 caption {\n",
       "  font-size: 14px;\n",
       "  font-style: italic;\n",
       "  caption-side: bottom;\n",
       "  text-align: left;\n",
       "  margin-top: 10px;\n",
       "}\n",
       "</style>\n",
       "<table id=\"T_26d44\">\n",
       "  <caption>Table 7, Year over year quantity of the top ten objects.</caption>\n",
       "  <thead>\n",
       "    <tr>\n",
       "      <th class=\"index_name level0\" >yx</th>\n",
       "      <th id=\"T_26d44_level0_col0\" class=\"col_heading level0 col0\" >Year 1</th>\n",
       "      <th id=\"T_26d44_level0_col1\" class=\"col_heading level0 col1\" >Year 2</th>\n",
       "      <th id=\"T_26d44_level0_col2\" class=\"col_heading level0 col2\" >Year 3</th>\n",
       "      <th id=\"T_26d44_level0_col3\" class=\"col_heading level0 col3\" >Year 4</th>\n",
       "      <th id=\"T_26d44_level0_col4\" class=\"col_heading level0 col4\" >Year 5</th>\n",
       "      <th id=\"T_26d44_level0_col5\" class=\"col_heading level0 col5\" >Year 6</th>\n",
       "    </tr>\n",
       "  </thead>\n",
       "  <tbody>\n",
       "    <tr>\n",
       "      <th id=\"T_26d44_level0_row0\" class=\"row_heading level0 row0\" >Gfoam</th>\n",
       "      <td id=\"T_26d44_row0_col0\" class=\"data row0 col0\" >6298</td>\n",
       "      <td id=\"T_26d44_row0_col1\" class=\"data row0 col1\" >1442</td>\n",
       "      <td id=\"T_26d44_row0_col2\" class=\"data row0 col2\" >536</td>\n",
       "      <td id=\"T_26d44_row0_col3\" class=\"data row0 col3\" >84</td>\n",
       "      <td id=\"T_26d44_row0_col4\" class=\"data row0 col4\" >2318</td>\n",
       "      <td id=\"T_26d44_row0_col5\" class=\"data row0 col5\" >1271</td>\n",
       "    </tr>\n",
       "    <tr>\n",
       "      <th id=\"T_26d44_level0_row1\" class=\"row_heading level0 row1\" >G27</th>\n",
       "      <td id=\"T_26d44_row1_col0\" class=\"data row1 col0\" >6152</td>\n",
       "      <td id=\"T_26d44_row1_col1\" class=\"data row1 col1\" >4068</td>\n",
       "      <td id=\"T_26d44_row1_col2\" class=\"data row1 col2\" >579</td>\n",
       "      <td id=\"T_26d44_row1_col3\" class=\"data row1 col3\" >23</td>\n",
       "      <td id=\"T_26d44_row1_col4\" class=\"data row1 col4\" >2392</td>\n",
       "      <td id=\"T_26d44_row1_col5\" class=\"data row1 col5\" >777</td>\n",
       "    </tr>\n",
       "    <tr>\n",
       "      <th id=\"T_26d44_level0_row2\" class=\"row_heading level0 row2\" >Gfrags</th>\n",
       "      <td id=\"T_26d44_row2_col0\" class=\"data row2 col0\" >3985</td>\n",
       "      <td id=\"T_26d44_row2_col1\" class=\"data row2 col1\" >1243</td>\n",
       "      <td id=\"T_26d44_row2_col2\" class=\"data row2 col2\" >1151</td>\n",
       "      <td id=\"T_26d44_row2_col3\" class=\"data row2 col3\" >65</td>\n",
       "      <td id=\"T_26d44_row2_col4\" class=\"data row2 col4\" >2923</td>\n",
       "      <td id=\"T_26d44_row2_col5\" class=\"data row2 col5\" >1297</td>\n",
       "    </tr>\n",
       "    <tr>\n",
       "      <th id=\"T_26d44_level0_row3\" class=\"row_heading level0 row3\" >G30</th>\n",
       "      <td id=\"T_26d44_row3_col0\" class=\"data row3 col0\" >1913</td>\n",
       "      <td id=\"T_26d44_row3_col1\" class=\"data row3 col1\" >1119</td>\n",
       "      <td id=\"T_26d44_row3_col2\" class=\"data row3 col2\" >509</td>\n",
       "      <td id=\"T_26d44_row3_col3\" class=\"data row3 col3\" >15</td>\n",
       "      <td id=\"T_26d44_row3_col4\" class=\"data row3 col4\" >1069</td>\n",
       "      <td id=\"T_26d44_row3_col5\" class=\"data row3 col5\" >668</td>\n",
       "    </tr>\n",
       "    <tr>\n",
       "      <th id=\"T_26d44_level0_row4\" class=\"row_heading level0 row4\" >G95</th>\n",
       "      <td id=\"T_26d44_row4_col0\" class=\"data row4 col0\" >1498</td>\n",
       "      <td id=\"T_26d44_row4_col1\" class=\"data row4 col1\" >1174</td>\n",
       "      <td id=\"T_26d44_row4_col2\" class=\"data row4 col2\" >362</td>\n",
       "      <td id=\"T_26d44_row4_col3\" class=\"data row4 col3\" >2</td>\n",
       "      <td id=\"T_26d44_row4_col4\" class=\"data row4 col4\" >754</td>\n",
       "      <td id=\"T_26d44_row4_col5\" class=\"data row4 col5\" >358</td>\n",
       "    </tr>\n",
       "    <tr>\n",
       "      <th id=\"T_26d44_level0_row5\" class=\"row_heading level0 row5\" >Gcaps</th>\n",
       "      <td id=\"T_26d44_row5_col0\" class=\"data row5 col0\" >1421</td>\n",
       "      <td id=\"T_26d44_row5_col1\" class=\"data row5 col1\" >686</td>\n",
       "      <td id=\"T_26d44_row5_col2\" class=\"data row5 col2\" >236</td>\n",
       "      <td id=\"T_26d44_row5_col3\" class=\"data row5 col3\" >2</td>\n",
       "      <td id=\"T_26d44_row5_col4\" class=\"data row5 col4\" >640</td>\n",
       "      <td id=\"T_26d44_row5_col5\" class=\"data row5 col5\" >410</td>\n",
       "    </tr>\n",
       "    <tr>\n",
       "      <th id=\"T_26d44_level0_row6\" class=\"row_heading level0 row6\" >G67</th>\n",
       "      <td id=\"T_26d44_row6_col0\" class=\"data row6 col0\" >1246</td>\n",
       "      <td id=\"T_26d44_row6_col1\" class=\"data row6 col1\" >713</td>\n",
       "      <td id=\"T_26d44_row6_col2\" class=\"data row6 col2\" >174</td>\n",
       "      <td id=\"T_26d44_row6_col3\" class=\"data row6 col3\" >14</td>\n",
       "      <td id=\"T_26d44_row6_col4\" class=\"data row6 col4\" >658</td>\n",
       "      <td id=\"T_26d44_row6_col5\" class=\"data row6 col5\" >542</td>\n",
       "    </tr>\n",
       "    <tr>\n",
       "      <th id=\"T_26d44_level0_row7\" class=\"row_heading level0 row7\" >G200</th>\n",
       "      <td id=\"T_26d44_row7_col0\" class=\"data row7 col0\" >1234</td>\n",
       "      <td id=\"T_26d44_row7_col1\" class=\"data row7 col1\" >533</td>\n",
       "      <td id=\"T_26d44_row7_col2\" class=\"data row7 col2\" >183</td>\n",
       "      <td id=\"T_26d44_row7_col3\" class=\"data row7 col3\" >0</td>\n",
       "      <td id=\"T_26d44_row7_col4\" class=\"data row7 col4\" >261</td>\n",
       "      <td id=\"T_26d44_row7_col5\" class=\"data row7 col5\" >293</td>\n",
       "    </tr>\n",
       "    <tr>\n",
       "      <th id=\"T_26d44_level0_row8\" class=\"row_heading level0 row8\" >G89</th>\n",
       "      <td id=\"T_26d44_row8_col0\" class=\"data row8 col0\" >524</td>\n",
       "      <td id=\"T_26d44_row8_col1\" class=\"data row8 col1\" >247</td>\n",
       "      <td id=\"T_26d44_row8_col2\" class=\"data row8 col2\" >190</td>\n",
       "      <td id=\"T_26d44_row8_col3\" class=\"data row8 col3\" >12</td>\n",
       "      <td id=\"T_26d44_row8_col4\" class=\"data row8 col4\" >366</td>\n",
       "      <td id=\"T_26d44_row8_col5\" class=\"data row8 col5\" >248</td>\n",
       "    </tr>\n",
       "    <tr>\n",
       "      <th id=\"T_26d44_level0_row9\" class=\"row_heading level0 row9\" >G112</th>\n",
       "      <td id=\"T_26d44_row9_col0\" class=\"data row9 col0\" >0</td>\n",
       "      <td id=\"T_26d44_row9_col1\" class=\"data row9 col1\" >0</td>\n",
       "      <td id=\"T_26d44_row9_col2\" class=\"data row9 col2\" >0</td>\n",
       "      <td id=\"T_26d44_row9_col3\" class=\"data row9 col3\" >0</td>\n",
       "      <td id=\"T_26d44_row9_col4\" class=\"data row9 col4\" >1091</td>\n",
       "      <td id=\"T_26d44_row9_col5\" class=\"data row9 col5\" >296</td>\n",
       "    </tr>\n",
       "    <tr>\n",
       "      <th id=\"T_26d44_level0_row10\" class=\"row_heading level0 row10\" >total</th>\n",
       "      <td id=\"T_26d44_row10_col0\" class=\"data row10 col0\" >24271</td>\n",
       "      <td id=\"T_26d44_row10_col1\" class=\"data row10 col1\" >11225</td>\n",
       "      <td id=\"T_26d44_row10_col2\" class=\"data row10 col2\" >3920</td>\n",
       "      <td id=\"T_26d44_row10_col3\" class=\"data row10 col3\" >217</td>\n",
       "      <td id=\"T_26d44_row10_col4\" class=\"data row10 col4\" >12472</td>\n",
       "      <td id=\"T_26d44_row10_col5\" class=\"data row10 col5\" >6160</td>\n",
       "    </tr>\n",
       "  </tbody>\n",
       "</table>\n"
      ],
      "text/plain": [
       "<pandas.io.formats.style.Styler at 0x7f7c6c60ccd0>"
      ]
     },
     "execution_count": 21,
     "metadata": {},
     "output_type": "execute_result"
    }
   ],
   "source": [
    "p_total_yoy = ten_yoy[ten_yoy.code.isin(lake_top_ten)].pivot(index=\"code\", columns=\"yx\", values=\"quantity\")\n",
    "p_yoy = p_total_yoy.sort_values(by=\"Year 1\", ascending=False)\n",
    "p_yoy.loc[\"total\"] = p_yoy.sum(axis=0)\n",
    "\n",
    "\n",
    "aqs = p_yoy\n",
    "\n",
    "caption = \"Table 7, Summary statistics of the daily total in pcs or trash per meter. All objects included\"\n",
    "# aqs.to_csv(\"output/csvs/table_7.csv\", index=False)\n",
    "aqs.index.name = None\n",
    "# aqs.astype(\"int\")\n",
    "\n",
    "caption = \"Table 7, Year over year quantity of the top ten objects.\"\n",
    "table_7 = aqs.style.format(precision=0).set_caption(caption).set_table_styles(table_css_styles)\n",
    "\n",
    "table_7"
   ]
  },
  {
   "cell_type": "markdown",
   "metadata": {
    "editable": true,
    "slideshow": {
     "slide_type": ""
    },
    "tags": []
   },
   "source": [
    "### Composition over time Saint Sulpice\n",
    "\n",
    "The top ten from all samples in Saint-Sulpice year over year. "
   ]
  },
  {
   "cell_type": "code",
   "execution_count": 22,
   "metadata": {
    "editable": true,
    "slideshow": {
     "slide_type": ""
    },
    "tags": [
     "remove-input"
    ]
   },
   "outputs": [],
   "source": [
    "sp_beaches = dfBeaches[dfBeaches.city == \"Saint-Sulpice (VD)\"].slug.values\n",
    "swe_cts = fd[fd.slug.isin(sp_beaches)].copy()\n",
    "\n",
    "swe_ten_yoy = swe_cts.groupby([\"yx\",\"code\"], as_index=False).quantity.sum()\n",
    "swe_yx_totals = swe_cts.groupby(\"yx\").quantity.sum()\n",
    "\n",
    "swe_code_totals = swe_cts.groupby(\"code\").quantity.sum()\n",
    "swe_top_ten = swe_code_totals.sort_values(ascending=False)[:10].index\n",
    "for a_year in swe_ten_yoy.yx.unique():\n",
    "    swe_ten_yoy.loc[swe_ten_yoy.yx==a_year, \"p\"] = ((swe_ten_yoy.quantity/swe_yx_totals.loc[a_year])*100).round(1)\n",
    "    \n",
    "swe_p_total_yoy = swe_ten_yoy[swe_ten_yoy.code.isin(swe_top_ten)].pivot(index=\"yx\", columns=\"code\", values=\"p\")\n",
    "\n",
    "swe_p_total_yoy.to_csv(\"output/csvs/figure_8.csv\", index=False)\n",
    "fig, ax = plt.subplots(figsize=(5,5))\n",
    "swe_p_total_yoy.plot.bar(stacked=True, colormap='tab10', alpha=0.5, width=.8, ax=ax)\n",
    "handles, labels = ax.get_legend_handles_labels()\n",
    "new_labels = [f'[{x}]: {code_d[x]}' for x in labels]\n",
    "ax.legend(handles, new_labels, bbox_to_anchor=(0, -.2), loc=\"upper left\")\n",
    "ax.set_xlabel(\"\")\n",
    "ax.set_ylabel(\"% of total\")\n",
    "glue(\"figure-8-swe\", fig, display=False)\n",
    "plt.close()"
   ]
  },
  {
   "cell_type": "markdown",
   "metadata": {
    "editable": true,
    "slideshow": {
     "slide_type": ""
    },
    "tags": []
   },
   "source": [
    "```{glue:figure} figure-8-swe\n",
    ":name: figure-8-swe\n",
    "{glue:text}`blank_caption` \n",
    "```\n",
    "{numref}`figure %s: <figure-8-swe>` Year over percent of total of the top ten Saint Sulpice"
   ]
  },
  {
   "cell_type": "markdown",
   "metadata": {},
   "source": [
    "_Table of values values percent of total of the top ten Saint Sulpice_"
   ]
  },
  {
   "cell_type": "code",
   "execution_count": 23,
   "metadata": {
    "editable": true,
    "jupyter": {
     "source_hidden": true
    },
    "slideshow": {
     "slide_type": ""
    },
    "tags": [
     "hide-input",
     "remove-input"
    ]
   },
   "outputs": [
    {
     "data": {
      "text/html": [
       "<style type=\"text/css\">\n",
       "#T_8fdd1 tr:nth-child(even) {\n",
       "  background-color: rgba(139, 69, 19, 0.08);\n",
       "}\n",
       "#T_8fdd1 tr:nth-child(odd) {\n",
       "  background: #FFF;\n",
       "}\n",
       "#T_8fdd1 tr {\n",
       "  font-size: 12px;\n",
       "}\n",
       "#T_8fdd1 th:nth-child(1) {\n",
       "  background-color: #FFF;\n",
       "  text-align: right;\n",
       "}\n",
       "#T_8fdd1 caption {\n",
       "  font-size: 14px;\n",
       "  font-style: italic;\n",
       "  caption-side: bottom;\n",
       "  text-align: left;\n",
       "  margin-top: 10px;\n",
       "}\n",
       "</style>\n",
       "<table id=\"T_8fdd1\">\n",
       "  <caption>Table 8: Percent total year over year Saint Sulpice</caption>\n",
       "  <thead>\n",
       "    <tr>\n",
       "      <th class=\"index_name level0\" >code</th>\n",
       "      <th id=\"T_8fdd1_level0_col0\" class=\"col_heading level0 col0\" >G100</th>\n",
       "      <th id=\"T_8fdd1_level0_col1\" class=\"col_heading level0 col1\" >G200</th>\n",
       "      <th id=\"T_8fdd1_level0_col2\" class=\"col_heading level0 col2\" >G27</th>\n",
       "      <th id=\"T_8fdd1_level0_col3\" class=\"col_heading level0 col3\" >G30</th>\n",
       "      <th id=\"T_8fdd1_level0_col4\" class=\"col_heading level0 col4\" >G67</th>\n",
       "      <th id=\"T_8fdd1_level0_col5\" class=\"col_heading level0 col5\" >G89</th>\n",
       "      <th id=\"T_8fdd1_level0_col6\" class=\"col_heading level0 col6\" >G95</th>\n",
       "      <th id=\"T_8fdd1_level0_col7\" class=\"col_heading level0 col7\" >Gcaps</th>\n",
       "      <th id=\"T_8fdd1_level0_col8\" class=\"col_heading level0 col8\" >Gfoam</th>\n",
       "      <th id=\"T_8fdd1_level0_col9\" class=\"col_heading level0 col9\" >Gfrags</th>\n",
       "    </tr>\n",
       "  </thead>\n",
       "  <tbody>\n",
       "    <tr>\n",
       "      <th id=\"T_8fdd1_level0_row0\" class=\"row_heading level0 row0\" >Year 1</th>\n",
       "      <td id=\"T_8fdd1_row0_col0\" class=\"data row0 col0\" >2.50</td>\n",
       "      <td id=\"T_8fdd1_row0_col1\" class=\"data row0 col1\" >17.80</td>\n",
       "      <td id=\"T_8fdd1_row0_col2\" class=\"data row0 col2\" >11.20</td>\n",
       "      <td id=\"T_8fdd1_row0_col3\" class=\"data row0 col3\" >7.40</td>\n",
       "      <td id=\"T_8fdd1_row0_col4\" class=\"data row0 col4\" >1.70</td>\n",
       "      <td id=\"T_8fdd1_row0_col5\" class=\"data row0 col5\" >1.50</td>\n",
       "      <td id=\"T_8fdd1_row0_col6\" class=\"data row0 col6\" >9.20</td>\n",
       "      <td id=\"T_8fdd1_row0_col7\" class=\"data row0 col7\" >2.20</td>\n",
       "      <td id=\"T_8fdd1_row0_col8\" class=\"data row0 col8\" >14.90</td>\n",
       "      <td id=\"T_8fdd1_row0_col9\" class=\"data row0 col9\" >19.70</td>\n",
       "    </tr>\n",
       "    <tr>\n",
       "      <th id=\"T_8fdd1_level0_row1\" class=\"row_heading level0 row1\" >Year 2</th>\n",
       "      <td id=\"T_8fdd1_row1_col0\" class=\"data row1 col0\" >3.50</td>\n",
       "      <td id=\"T_8fdd1_row1_col1\" class=\"data row1 col1\" >18.10</td>\n",
       "      <td id=\"T_8fdd1_row1_col2\" class=\"data row1 col2\" >12.20</td>\n",
       "      <td id=\"T_8fdd1_row1_col3\" class=\"data row1 col3\" >9.50</td>\n",
       "      <td id=\"T_8fdd1_row1_col4\" class=\"data row1 col4\" >2.40</td>\n",
       "      <td id=\"T_8fdd1_row1_col5\" class=\"data row1 col5\" >2.60</td>\n",
       "      <td id=\"T_8fdd1_row1_col6\" class=\"data row1 col6\" >5.80</td>\n",
       "      <td id=\"T_8fdd1_row1_col7\" class=\"data row1 col7\" >3.40</td>\n",
       "      <td id=\"T_8fdd1_row1_col8\" class=\"data row1 col8\" >7.60</td>\n",
       "      <td id=\"T_8fdd1_row1_col9\" class=\"data row1 col9\" >2.70</td>\n",
       "    </tr>\n",
       "    <tr>\n",
       "      <th id=\"T_8fdd1_level0_row2\" class=\"row_heading level0 row2\" >Year 3</th>\n",
       "      <td id=\"T_8fdd1_row2_col0\" class=\"data row2 col0\" >1.90</td>\n",
       "      <td id=\"T_8fdd1_row2_col1\" class=\"data row2 col1\" >10.60</td>\n",
       "      <td id=\"T_8fdd1_row2_col2\" class=\"data row2 col2\" >11.60</td>\n",
       "      <td id=\"T_8fdd1_row2_col3\" class=\"data row2 col3\" >7.80</td>\n",
       "      <td id=\"T_8fdd1_row2_col4\" class=\"data row2 col4\" >3.00</td>\n",
       "      <td id=\"T_8fdd1_row2_col5\" class=\"data row2 col5\" >2.60</td>\n",
       "      <td id=\"T_8fdd1_row2_col6\" class=\"data row2 col6\" >4.40</td>\n",
       "      <td id=\"T_8fdd1_row2_col7\" class=\"data row2 col7\" >5.10</td>\n",
       "      <td id=\"T_8fdd1_row2_col8\" class=\"data row2 col8\" >2.50</td>\n",
       "      <td id=\"T_8fdd1_row2_col9\" class=\"data row2 col9\" >35.10</td>\n",
       "    </tr>\n",
       "    <tr>\n",
       "      <th id=\"T_8fdd1_level0_row3\" class=\"row_heading level0 row3\" >Year 4</th>\n",
       "      <td id=\"T_8fdd1_row3_col0\" class=\"data row3 col0\" >5.60</td>\n",
       "      <td id=\"T_8fdd1_row3_col1\" class=\"data row3 col1\" >0.00</td>\n",
       "      <td id=\"T_8fdd1_row3_col2\" class=\"data row3 col2\" >0.00</td>\n",
       "      <td id=\"T_8fdd1_row3_col3\" class=\"data row3 col3\" >2.50</td>\n",
       "      <td id=\"T_8fdd1_row3_col4\" class=\"data row3 col4\" >8.80</td>\n",
       "      <td id=\"T_8fdd1_row3_col5\" class=\"data row3 col5\" >5.60</td>\n",
       "      <td id=\"T_8fdd1_row3_col6\" class=\"data row3 col6\" >0.00</td>\n",
       "      <td id=\"T_8fdd1_row3_col7\" class=\"data row3 col7\" >0.00</td>\n",
       "      <td id=\"T_8fdd1_row3_col8\" class=\"data row3 col8\" >43.80</td>\n",
       "      <td id=\"T_8fdd1_row3_col9\" class=\"data row3 col9\" >8.10</td>\n",
       "    </tr>\n",
       "    <tr>\n",
       "      <th id=\"T_8fdd1_level0_row4\" class=\"row_heading level0 row4\" >Year 5</th>\n",
       "      <td id=\"T_8fdd1_row4_col0\" class=\"data row4 col0\" >1.80</td>\n",
       "      <td id=\"T_8fdd1_row4_col1\" class=\"data row4 col1\" >7.60</td>\n",
       "      <td id=\"T_8fdd1_row4_col2\" class=\"data row4 col2\" >7.20</td>\n",
       "      <td id=\"T_8fdd1_row4_col3\" class=\"data row4 col3\" >5.90</td>\n",
       "      <td id=\"T_8fdd1_row4_col4\" class=\"data row4 col4\" >2.30</td>\n",
       "      <td id=\"T_8fdd1_row4_col5\" class=\"data row4 col5\" >2.80</td>\n",
       "      <td id=\"T_8fdd1_row4_col6\" class=\"data row4 col6\" >3.60</td>\n",
       "      <td id=\"T_8fdd1_row4_col7\" class=\"data row4 col7\" >2.50</td>\n",
       "      <td id=\"T_8fdd1_row4_col8\" class=\"data row4 col8\" >15.50</td>\n",
       "      <td id=\"T_8fdd1_row4_col9\" class=\"data row4 col9\" >14.20</td>\n",
       "    </tr>\n",
       "    <tr>\n",
       "      <th id=\"T_8fdd1_level0_row5\" class=\"row_heading level0 row5\" >Year 6</th>\n",
       "      <td id=\"T_8fdd1_row5_col0\" class=\"data row5 col0\" >0.80</td>\n",
       "      <td id=\"T_8fdd1_row5_col1\" class=\"data row5 col1\" >0.00</td>\n",
       "      <td id=\"T_8fdd1_row5_col2\" class=\"data row5 col2\" >1.90</td>\n",
       "      <td id=\"T_8fdd1_row5_col3\" class=\"data row5 col3\" >0.60</td>\n",
       "      <td id=\"T_8fdd1_row5_col4\" class=\"data row5 col4\" >0.40</td>\n",
       "      <td id=\"T_8fdd1_row5_col5\" class=\"data row5 col5\" >0.30</td>\n",
       "      <td id=\"T_8fdd1_row5_col6\" class=\"data row5 col6\" >1.60</td>\n",
       "      <td id=\"T_8fdd1_row5_col7\" class=\"data row5 col7\" >0.80</td>\n",
       "      <td id=\"T_8fdd1_row5_col8\" class=\"data row5 col8\" >56.10</td>\n",
       "      <td id=\"T_8fdd1_row5_col9\" class=\"data row5 col9\" >7.50</td>\n",
       "    </tr>\n",
       "  </tbody>\n",
       "</table>\n"
      ],
      "text/plain": [
       "<pandas.io.formats.style.Styler at 0x7f7c66ff5370>"
      ]
     },
     "execution_count": 23,
     "metadata": {},
     "output_type": "execute_result"
    }
   ],
   "source": [
    "swe_p_total_yoy.to_csv(\"output/csvs/table_8.csv\", index=False)\n",
    "swe_p_total_yoy.index.name = None\n",
    "\n",
    "caption = \"Table 8: Percent total year over year Saint Sulpice\"\n",
    "table_8 = swe_p_total_yoy.style.format(precision=2).set_caption(caption).set_table_styles(table_css_styles)\n",
    "\n",
    "table_8"
   ]
  },
  {
   "cell_type": "markdown",
   "metadata": {
    "editable": true,
    "slideshow": {
     "slide_type": ""
    },
    "tags": []
   },
   "source": [
    "## Site specific results\n",
    "\n",
    "As mentioned previously the SWE group is the only group that has surveys in each year in the same municipality. Of the beaches surveyed by SWE, two are separated by a short walk through a residential neighborhood. The year over year results from Plage de St-Sulpice (PS) and Parc des Pierrettes (PP) were compared to the base year median set in sampling period one. Both beaches had results greater than the lake median in each year but the pcs/m at each site declined year over year with respect to the first sample. This corresponds with the observations in the previous section reference y-one and y-six. If there is a general trend it appears that these two locations are following it."
   ]
  },
  {
   "cell_type": "code",
   "execution_count": 24,
   "metadata": {
    "editable": true,
    "jupyter": {
     "source_hidden": true
    },
    "slideshow": {
     "slide_type": ""
    },
    "tags": [
     "hide-input",
     "remove-input"
    ]
   },
   "outputs": [
    {
     "data": {
      "text/html": [
       "<style type=\"text/css\">\n",
       "#T_a2e68 tr:nth-child(even) {\n",
       "  background-color: rgba(139, 69, 19, 0.08);\n",
       "}\n",
       "#T_a2e68 tr:nth-child(odd) {\n",
       "  background: #FFF;\n",
       "}\n",
       "#T_a2e68 tr {\n",
       "  font-size: 12px;\n",
       "}\n",
       "#T_a2e68 th:nth-child(1) {\n",
       "  background-color: #FFF;\n",
       "  text-align: right;\n",
       "}\n",
       "#T_a2e68 caption {\n",
       "  font-size: 14px;\n",
       "  font-style: italic;\n",
       "  caption-side: bottom;\n",
       "  text-align: left;\n",
       "  margin-top: 10px;\n",
       "}\n",
       "</style>\n",
       "<table id=\"T_a2e68\">\n",
       "  <caption>Table 9, The difference in survey results from the base year (diff-by) and the first sample (diff-y1) at Plage de St Sulpice and Parc des Pierettes.</caption>\n",
       "  <thead>\n",
       "    <tr>\n",
       "      <th class=\"blank level0\" >&nbsp;</th>\n",
       "      <th id=\"T_a2e68_level0_col0\" class=\"col_heading level0 col0\" >yx</th>\n",
       "      <th id=\"T_a2e68_level0_col1\" class=\"col_heading level0 col1\" >loc_date</th>\n",
       "      <th id=\"T_a2e68_level0_col2\" class=\"col_heading level0 col2\" >slug</th>\n",
       "      <th id=\"T_a2e68_level0_col3\" class=\"col_heading level0 col3\" >pcs/m</th>\n",
       "      <th id=\"T_a2e68_level0_col4\" class=\"col_heading level0 col4\" >quantity</th>\n",
       "      <th id=\"T_a2e68_level0_col5\" class=\"col_heading level0 col5\" >dif-by</th>\n",
       "      <th id=\"T_a2e68_level0_col6\" class=\"col_heading level0 col6\" >dif-y1</th>\n",
       "    </tr>\n",
       "  </thead>\n",
       "  <tbody>\n",
       "    <tr>\n",
       "      <th id=\"T_a2e68_level0_row0\" class=\"row_heading level0 row0\" >0</th>\n",
       "      <td id=\"T_a2e68_row0_col0\" class=\"data row0 col0\" >Year 1</td>\n",
       "      <td id=\"T_a2e68_row0_col1\" class=\"data row0 col1\" >('parc-des-pierrettes', '2016-10-13')</td>\n",
       "      <td id=\"T_a2e68_row0_col2\" class=\"data row0 col2\" >parc-des-pierrettes</td>\n",
       "      <td id=\"T_a2e68_row0_col3\" class=\"data row0 col3\" >14.39</td>\n",
       "      <td id=\"T_a2e68_row0_col4\" class=\"data row0 col4\" >693.00</td>\n",
       "      <td id=\"T_a2e68_row0_col5\" class=\"data row0 col5\" >9.53</td>\n",
       "      <td id=\"T_a2e68_row0_col6\" class=\"data row0 col6\" >0.00</td>\n",
       "    </tr>\n",
       "    <tr>\n",
       "      <th id=\"T_a2e68_level0_row1\" class=\"row_heading level0 row1\" >1</th>\n",
       "      <td id=\"T_a2e68_row1_col0\" class=\"data row1 col0\" >Year 1</td>\n",
       "      <td id=\"T_a2e68_row1_col1\" class=\"data row1 col1\" >('plage-de-st-sulpice', '2016-10-13')</td>\n",
       "      <td id=\"T_a2e68_row1_col2\" class=\"data row1 col2\" >plage-de-st-sulpice</td>\n",
       "      <td id=\"T_a2e68_row1_col3\" class=\"data row1 col3\" >28.13</td>\n",
       "      <td id=\"T_a2e68_row1_col4\" class=\"data row1 col4\" >2028.00</td>\n",
       "      <td id=\"T_a2e68_row1_col5\" class=\"data row1 col5\" >23.27</td>\n",
       "      <td id=\"T_a2e68_row1_col6\" class=\"data row1 col6\" >0.00</td>\n",
       "    </tr>\n",
       "    <tr>\n",
       "      <th id=\"T_a2e68_level0_row2\" class=\"row_heading level0 row2\" >2</th>\n",
       "      <td id=\"T_a2e68_row2_col0\" class=\"data row2 col0\" >Year 2</td>\n",
       "      <td id=\"T_a2e68_row2_col1\" class=\"data row2 col1\" >('parc-des-pierrettes', '2017-10-05')</td>\n",
       "      <td id=\"T_a2e68_row2_col2\" class=\"data row2 col2\" >parc-des-pierrettes</td>\n",
       "      <td id=\"T_a2e68_row2_col3\" class=\"data row2 col3\" >6.15</td>\n",
       "      <td id=\"T_a2e68_row2_col4\" class=\"data row2 col4\" >258.00</td>\n",
       "      <td id=\"T_a2e68_row2_col5\" class=\"data row2 col5\" >1.29</td>\n",
       "      <td id=\"T_a2e68_row2_col6\" class=\"data row2 col6\" >-8.24</td>\n",
       "    </tr>\n",
       "    <tr>\n",
       "      <th id=\"T_a2e68_level0_row3\" class=\"row_heading level0 row3\" >3</th>\n",
       "      <td id=\"T_a2e68_row3_col0\" class=\"data row3 col0\" >Year 2</td>\n",
       "      <td id=\"T_a2e68_row3_col1\" class=\"data row3 col1\" >('plage-de-st-sulpice', '2017-10-05')</td>\n",
       "      <td id=\"T_a2e68_row3_col2\" class=\"data row3 col2\" >plage-de-st-sulpice</td>\n",
       "      <td id=\"T_a2e68_row3_col3\" class=\"data row3 col3\" >8.92</td>\n",
       "      <td id=\"T_a2e68_row3_col4\" class=\"data row3 col4\" >748.00</td>\n",
       "      <td id=\"T_a2e68_row3_col5\" class=\"data row3 col5\" >4.06</td>\n",
       "      <td id=\"T_a2e68_row3_col6\" class=\"data row3 col6\" >-19.21</td>\n",
       "    </tr>\n",
       "    <tr>\n",
       "      <th id=\"T_a2e68_level0_row4\" class=\"row_heading level0 row4\" >4</th>\n",
       "      <td id=\"T_a2e68_row4_col0\" class=\"data row4 col0\" >Year 4</td>\n",
       "      <td id=\"T_a2e68_row4_col1\" class=\"data row4 col1\" >('parc-des-pierrettes', '2019-10-10')</td>\n",
       "      <td id=\"T_a2e68_row4_col2\" class=\"data row4 col2\" >parc-des-pierrettes</td>\n",
       "      <td id=\"T_a2e68_row4_col3\" class=\"data row4 col3\" >5.31</td>\n",
       "      <td id=\"T_a2e68_row4_col4\" class=\"data row4 col4\" >160.00</td>\n",
       "      <td id=\"T_a2e68_row4_col5\" class=\"data row4 col5\" >0.45</td>\n",
       "      <td id=\"T_a2e68_row4_col6\" class=\"data row4 col6\" >-9.08</td>\n",
       "    </tr>\n",
       "    <tr>\n",
       "      <th id=\"T_a2e68_level0_row5\" class=\"row_heading level0 row5\" >5</th>\n",
       "      <td id=\"T_a2e68_row5_col0\" class=\"data row5 col0\" >Year 5</td>\n",
       "      <td id=\"T_a2e68_row5_col1\" class=\"data row5 col1\" >('parc-des-pierrettes', '2020-10-01')</td>\n",
       "      <td id=\"T_a2e68_row5_col2\" class=\"data row5 col2\" >parc-des-pierrettes</td>\n",
       "      <td id=\"T_a2e68_row5_col3\" class=\"data row5 col3\" >10.08</td>\n",
       "      <td id=\"T_a2e68_row5_col4\" class=\"data row5 col4\" >464.00</td>\n",
       "      <td id=\"T_a2e68_row5_col5\" class=\"data row5 col5\" >5.22</td>\n",
       "      <td id=\"T_a2e68_row5_col6\" class=\"data row5 col6\" >-4.31</td>\n",
       "    </tr>\n",
       "    <tr>\n",
       "      <th id=\"T_a2e68_level0_row6\" class=\"row_heading level0 row6\" >6</th>\n",
       "      <td id=\"T_a2e68_row6_col0\" class=\"data row6 col0\" >Year 5</td>\n",
       "      <td id=\"T_a2e68_row6_col1\" class=\"data row6 col1\" >('plage-de-st-sulpice', '2020-10-01')</td>\n",
       "      <td id=\"T_a2e68_row6_col2\" class=\"data row6 col2\" >plage-de-st-sulpice</td>\n",
       "      <td id=\"T_a2e68_row6_col3\" class=\"data row6 col3\" >7.85</td>\n",
       "      <td id=\"T_a2e68_row6_col4\" class=\"data row6 col4\" >326.00</td>\n",
       "      <td id=\"T_a2e68_row6_col5\" class=\"data row6 col5\" >2.99</td>\n",
       "      <td id=\"T_a2e68_row6_col6\" class=\"data row6 col6\" >-20.28</td>\n",
       "    </tr>\n",
       "    <tr>\n",
       "      <th id=\"T_a2e68_level0_row7\" class=\"row_heading level0 row7\" >7</th>\n",
       "      <td id=\"T_a2e68_row7_col0\" class=\"data row7 col0\" >Year 6</td>\n",
       "      <td id=\"T_a2e68_row7_col1\" class=\"data row7 col1\" >('plage-de-st-sulpice', '2021-10-07')</td>\n",
       "      <td id=\"T_a2e68_row7_col2\" class=\"data row7 col2\" >plage-de-st-sulpice</td>\n",
       "      <td id=\"T_a2e68_row7_col3\" class=\"data row7 col3\" >7.40</td>\n",
       "      <td id=\"T_a2e68_row7_col4\" class=\"data row7 col4\" >0.00</td>\n",
       "      <td id=\"T_a2e68_row7_col5\" class=\"data row7 col5\" >2.54</td>\n",
       "      <td id=\"T_a2e68_row7_col6\" class=\"data row7 col6\" >-20.73</td>\n",
       "    </tr>\n",
       "  </tbody>\n",
       "</table>\n"
      ],
      "text/plain": [
       "<pandas.io.formats.style.Styler at 0x7f7c66eb97f0>"
      ]
     },
     "execution_count": 24,
     "metadata": {},
     "output_type": "execute_result"
    }
   ],
   "source": [
    "boi = [\"plage-de-st-sulpice\",\"parc-des-pierrettes\"]\n",
    "sp_ld = fd[fd.slug.isin(boi)].groupby([\"yx\", \"loc_date\", \"slug\"], as_index=False).agg({\"pcs/m\":\"sum\", \"quantity\":\"sum\", })\n",
    "fdsp = fd[fd.slug.isin(boi)].copy()\n",
    "\n",
    "# this the median value from year one for the lake\n",
    "sp_ld[\"dif-by\"] = sp_ld[\"pcs/m\"] - 4.86\n",
    "\n",
    "# substract the first year from all subsequent years:\n",
    "sp_ld.loc[sp_ld.slug==boi[0], \"dif-y1\"] = (sp_ld[\"pcs/m\"] - 28.13).round(2)\n",
    "sp_ld.loc[sp_ld.slug==boi[1], \"dif-y1\"] = (sp_ld[\"pcs/m\"] - 14.39).round(2)\n",
    "\n",
    "aqs = sp_ld\n",
    "aqs.to_csv(\"output/csvs/table_9.csv\", index=False)\n",
    "aqs.index.name = None\n",
    "\n",
    "caption = \"Table 9, The difference in survey results from the base year (diff-by) and the first sample (diff-y1) at Plage de St Sulpice and Parc des Pierettes.\"\n",
    "table_9 = aqs.style.format(precision=2).set_caption(caption).set_table_styles(table_css_styles)\n",
    "\n",
    "table_9"
   ]
  },
  {
   "cell_type": "markdown",
   "metadata": {},
   "source": [
    "Upon collection and sorting, the quantity of each material type was input into the database based on the MLW code classification. Figure x and y (quantities presented in Appendix – Table 5 & 6) show the segmented data for the litter collected at Plage de St-Sulpice (PS) and Parc des Pierrettes (PP) beaches.  \n",
    "\n",
    "Scrutinizing the data further, it can be seen that the majority of the litter is composed of plastics that accounts for approximately 69 and 88% for both PS and PP, respectively. "
   ]
  },
  {
   "cell_type": "code",
   "execution_count": 25,
   "metadata": {
    "editable": true,
    "jupyter": {
     "source_hidden": true
    },
    "slideshow": {
     "slide_type": ""
    },
    "tags": [
     "remove-input"
    ]
   },
   "outputs": [
    {
     "data": {
      "text/html": [
       "<style type=\"text/css\">\n",
       "#T_f5f1c tr:nth-child(even) {\n",
       "  background-color: rgba(139, 69, 19, 0.08);\n",
       "}\n",
       "#T_f5f1c tr:nth-child(odd) {\n",
       "  background: #FFF;\n",
       "}\n",
       "#T_f5f1c tr {\n",
       "  font-size: 12px;\n",
       "}\n",
       "#T_f5f1c th:nth-child(1) {\n",
       "  background-color: #FFF;\n",
       "  text-align: right;\n",
       "}\n",
       "#T_f5f1c caption {\n",
       "  font-size: 14px;\n",
       "  font-style: italic;\n",
       "  caption-side: bottom;\n",
       "  text-align: left;\n",
       "  margin-top: 10px;\n",
       "}\n",
       "</style>\n",
       "<table id=\"T_f5f1c\">\n",
       "  <caption>Table 10, Material composition of the objects identified at the locations of interest</caption>\n",
       "  <thead>\n",
       "    <tr>\n",
       "      <th class=\"index_name level0\" >slug</th>\n",
       "      <th id=\"T_f5f1c_level0_col0\" class=\"col_heading level0 col0\" >parc-des-pierrettes</th>\n",
       "      <th id=\"T_f5f1c_level0_col1\" class=\"col_heading level0 col1\" >plage-de-st-sulpice</th>\n",
       "    </tr>\n",
       "  </thead>\n",
       "  <tbody>\n",
       "    <tr>\n",
       "      <th id=\"T_f5f1c_level0_row0\" class=\"row_heading level0 row0\" >Chemicals</th>\n",
       "      <td id=\"T_f5f1c_row0_col0\" class=\"data row0 col0\" >0.06</td>\n",
       "      <td id=\"T_f5f1c_row0_col1\" class=\"data row0 col1\" >0.00</td>\n",
       "    </tr>\n",
       "    <tr>\n",
       "      <th id=\"T_f5f1c_level0_row1\" class=\"row_heading level0 row1\" >Cloth</th>\n",
       "      <td id=\"T_f5f1c_row1_col0\" class=\"data row1 col0\" >0.95</td>\n",
       "      <td id=\"T_f5f1c_row1_col1\" class=\"data row1 col1\" >0.42</td>\n",
       "    </tr>\n",
       "    <tr>\n",
       "      <th id=\"T_f5f1c_level0_row2\" class=\"row_heading level0 row2\" >Glass</th>\n",
       "      <td id=\"T_f5f1c_row2_col0\" class=\"data row2 col0\" >7.30</td>\n",
       "      <td id=\"T_f5f1c_row2_col1\" class=\"data row2 col1\" >24.89</td>\n",
       "    </tr>\n",
       "    <tr>\n",
       "      <th id=\"T_f5f1c_level0_row3\" class=\"row_heading level0 row3\" >Metal</th>\n",
       "      <td id=\"T_f5f1c_row3_col0\" class=\"data row3 col0\" >1.59</td>\n",
       "      <td id=\"T_f5f1c_row3_col1\" class=\"data row3 col1\" >3.06</td>\n",
       "    </tr>\n",
       "    <tr>\n",
       "      <th id=\"T_f5f1c_level0_row4\" class=\"row_heading level0 row4\" >Paper</th>\n",
       "      <td id=\"T_f5f1c_row4_col0\" class=\"data row4 col0\" >1.21</td>\n",
       "      <td id=\"T_f5f1c_row4_col1\" class=\"data row4 col1\" >0.52</td>\n",
       "    </tr>\n",
       "    <tr>\n",
       "      <th id=\"T_f5f1c_level0_row5\" class=\"row_heading level0 row5\" >Plastic</th>\n",
       "      <td id=\"T_f5f1c_row5_col0\" class=\"data row5 col0\" >88.19</td>\n",
       "      <td id=\"T_f5f1c_row5_col1\" class=\"data row5 col1\" >69.76</td>\n",
       "    </tr>\n",
       "    <tr>\n",
       "      <th id=\"T_f5f1c_level0_row6\" class=\"row_heading level0 row6\" >Rubber</th>\n",
       "      <td id=\"T_f5f1c_row6_col0\" class=\"data row6 col0\" >0.38</td>\n",
       "      <td id=\"T_f5f1c_row6_col1\" class=\"data row6 col1\" >0.93</td>\n",
       "    </tr>\n",
       "    <tr>\n",
       "      <th id=\"T_f5f1c_level0_row7\" class=\"row_heading level0 row7\" >Unidentified</th>\n",
       "      <td id=\"T_f5f1c_row7_col0\" class=\"data row7 col0\" >0.00</td>\n",
       "      <td id=\"T_f5f1c_row7_col1\" class=\"data row7 col1\" >0.00</td>\n",
       "    </tr>\n",
       "    <tr>\n",
       "      <th id=\"T_f5f1c_level0_row8\" class=\"row_heading level0 row8\" >Wood</th>\n",
       "      <td id=\"T_f5f1c_row8_col0\" class=\"data row8 col0\" >0.32</td>\n",
       "      <td id=\"T_f5f1c_row8_col1\" class=\"data row8 col1\" >0.42</td>\n",
       "    </tr>\n",
       "  </tbody>\n",
       "</table>\n"
      ],
      "text/plain": [
       "<pandas.io.formats.style.Styler at 0x7f7c66ff0880>"
      ]
     },
     "execution_count": 25,
     "metadata": {},
     "output_type": "execute_result"
    }
   ],
   "source": [
    "mat_d = dfCodes[\"material\"]\n",
    "\n",
    "fdsp[\"material\"] = fdsp.code.map(lambda x: mat_d[x])\n",
    "mats = fdsp.groupby([\"slug\", \"material\"], as_index=False).quantity.sum()\n",
    "mats.loc[mats.slug == boi[0], \"% of total\"] = round((mats.quantity/mats.loc[mats.slug == boi[0]].quantity.sum())*100, 2)\n",
    "mats.loc[mats.slug == boi[1], \"% of total\"] = round((mats.quantity/mats.loc[mats.slug == boi[1]].quantity.sum())*100, 2)\n",
    "\n",
    "aqs = mats.pivot(columns=\"slug\", index=\"material\", values=\"% of total\")\n",
    "aqs.to_csv(\"output/csvs/table_10.csv\", index=False)\n",
    "aqs.index.name = None\n",
    "\n",
    "caption = \"Table 10, Material composition of the objects identified at the locations of interest\"\n",
    "table_10 = aqs.style.format(precision=2).set_caption(caption).set_table_styles(table_css_styles)\n",
    "\n",
    "table_10"
   ]
  },
  {
   "cell_type": "markdown",
   "metadata": {
    "editable": true,
    "slideshow": {
     "slide_type": ""
    },
    "tags": []
   },
   "source": [
    "<!-- Taking the top 10 litter items from PP and PS, and organising them along with the total surveyed quantities, a comparison of the interquartile range and the outliers is made (Fig. 10). Surprisingly, the items collected, although made of similar material (predominantly artificial polymeric material), are not from the same source.  Litter G100, G200, G30, G87 and G95, are all outliers and represent an ‘above average’ accumulation on the shore of PS (Codes and Description available in Appendix – Table 7). The results for PP are similar in that the most common objects all exceed the median of the combined results of HD and SLR.\n",
    "When all objects are considered, the median survey result at PS (18.5) and PP (10.25) place these locations in the 88th and 73rd percentile rankings respectively with respect to the combined results. Suggesting that there was a better chance of observing elevated litter densities at these two beaches when compared to the rest of the locations. -->\n",
    "\n",
    "\n",
    "\n",
    "Via categorising the AL in accordance to the MLW, and comparing the total surveyed data, it is shown that even with the appearance of the same physical material, in this case predominantly composed of polymeric material, the source it originates from is different along with the quantity. Most probably, the reason for the difference could be the flow in the lake. It takes approximately 10 years for the volume of water to pass through the lake (residence time), and at the same time seasonal fluctuation and the direction of the beach can affect where and by how much the waste accumulates. For instance, the PS beach is somewhat sheltered from the directional flow of water, and thus there is a higher potential of debris accumulating there over time.  PP is mostly parallel to the flow and thus, it attracts a different type of waste. Thus, a quantitative assessment as such helps gain insight as to how ‘healthy’ the shoreline is when used for recreational activities based on the location relative to the flow. "
   ]
  },
  {
   "cell_type": "code",
   "execution_count": 26,
   "metadata": {
    "editable": true,
    "slideshow": {
     "slide_type": ""
    },
    "tags": [
     "hide-input"
    ]
   },
   "outputs": [],
   "source": [
    "\n",
    "\n",
    "code_summary = fdsp[fdsp.yx.isin([\"Year 1\", \"Year 2\", \"Year 5\"])].groupby([\"slug\", \"code\", \"groupname\"], as_index=False).quantity.sum()\n",
    "for code in code_summary.code.unique():\n",
    "    code_summary.loc[code_summary.code == code, \"description\"] = code_d.loc[code]\n",
    "    code_summary.loc[code_summary.code == code, \"material\"] =  mat_d.loc[code]\n",
    "\n",
    "c_sum = []\n",
    "for each_beach in boi:\n",
    "    tten = code_summary[code_summary.slug ==each_beach].sort_values(by=\"quantity\", ascending=False)[:10]\n",
    "    mat = code_summary[code_summary.slug ==each_beach][[\"material\", \"quantity\"]].groupby(\"material\", as_index=False).quantity.sum().sort_values(by=\"quantity\", ascending=False)\n",
    "    groups = code_summary[code_summary.slug ==each_beach][[\"groupname\", \"quantity\"]].groupby(\"groupname\", as_index=False).quantity.sum().sort_values(by=\"quantity\", ascending=False)\n",
    "    \n",
    "    c_sum.append([tten, mat, groups])"
   ]
  },
  {
   "cell_type": "markdown",
   "metadata": {
    "editable": true,
    "slideshow": {
     "slide_type": ""
    },
    "tags": []
   },
   "source": [
    "### Plage de Saint Sulpice:"
   ]
  },
  {
   "cell_type": "code",
   "execution_count": 27,
   "metadata": {
    "editable": true,
    "jupyter": {
     "source_hidden": true
    },
    "slideshow": {
     "slide_type": ""
    },
    "tags": [
     "remove-input"
    ]
   },
   "outputs": [],
   "source": [
    "tdata = c_sum[0][0].pivot(columns=\"code\", index=\"slug\", values=\"quantity\")\n",
    "\n",
    "matdata = c_sum[0][1].copy()\n",
    "matdata[\"slug\"] = \"slug\"\n",
    "matdata = matdata.sort_values(by='quantity', ascending=False).pivot(columns='material', index=\"slug\", values='quantity')\n",
    "\n",
    "gdata = c_sum[0][2]\n",
    "gdata[\"slug\"] = \"slug\"\n",
    "gdata = gdata.sort_values(by='quantity', ascending=False).pivot(columns='groupname', index=\"slug\", values='quantity')\n",
    "    \n",
    "fig, ax = plt.subplots(1,3, figsize=(12,7), sharey=True)\n",
    "\n",
    "tdata.plot.bar(stacked=True, colormap='tab10', alpha=0.5, ax=ax[0], width=.9)\n",
    "\n",
    "ax[0].tick_params(axis='x',  which='both',  bottom=False, labelbottom=False, labelsize=0)\n",
    "h, ls = ax[0].get_legend_handles_labels()\n",
    "new_labels = [f'[{x}]: {code_d[x]}' for x in ls]\n",
    "ax[0].legend(h[::-1], new_labels[::-1], bbox_to_anchor=(0-.05, -.02), loc='upper left', ncol=1,fontsize=9)\n",
    "ax[0].set_title(\"Top ten totals\", pad=12, fontsize=12, loc='left')\n",
    "ax[0].set_ylabel(\"Number of items\", fontsize=12)\n",
    "ax[0].set_xlabel(\"\")\n",
    "\n",
    "matdata.plot.bar(stacked=True, colormap='tab10', alpha=0.5, ax=ax[1])\n",
    "h, ls = ax[1].get_legend_handles_labels()\n",
    "ax[1].tick_params(axis='x',  which='both',  bottom=False, labelbottom=False, labelsize=0)\n",
    "ax[1].legend(h[::-1], ls[::-1], bbox_to_anchor=(.5, -.02), loc='upper center', ncol=1,fontsize=9)\n",
    "ax[1].set_title(\"Material totals\", pad=12, fontsize=12, loc='left')\n",
    "ax[1].set_ylabel(\"Ylabel\", fontsize=14)\n",
    "ax[1].set_xlabel(\"\")\n",
    "\n",
    "gdata.plot.bar(stacked=True, colormap='tab10', alpha=0.5, ax=ax[2])\n",
    "h, ls = ax[2].get_legend_handles_labels()\n",
    "ls = [x.capitalize() for x in ls]\n",
    "ax[2].tick_params(axis='x',  which='both',  bottom=False, labelbottom=False, labelsize=0)\n",
    "ax[2].legend(h[::-1], ls[::-1], bbox_to_anchor=(0.5, -.02), loc='upper center', ncol=1,fontsize=9)\n",
    "ax[2].set_title(\"Group totals\", pad=12, fontsize=12, loc='left')\n",
    "ax[2].set_ylabel(\"Ylabel\", fontsize=14)\n",
    "ax[2].set_xlabel(\"\")\n",
    "\n",
    "plt.tight_layout()\n",
    "\n",
    "glue(\"figure-9-swe\", fig, display=False)\n",
    "plt.close()"
   ]
  },
  {
   "cell_type": "markdown",
   "metadata": {
    "editable": true,
    "slideshow": {
     "slide_type": ""
    },
    "tags": []
   },
   "source": [
    "```{glue:figure} figure-9-swe\n",
    ":name: figure-10-swe\n",
    "{glue:text}`blank_caption` \n",
    "```\n",
    "{numref}`figure %s: <figure-10-swe>` The quantity of the top-ten items and their material composition as well as use or size classification"
   ]
  },
  {
   "cell_type": "code",
   "execution_count": 28,
   "metadata": {
    "editable": true,
    "jupyter": {
     "source_hidden": true
    },
    "slideshow": {
     "slide_type": ""
    },
    "tags": [
     "remove-input"
    ]
   },
   "outputs": [
    {
     "data": {
      "text/html": [
       "<style type=\"text/css\">\n",
       "#T_5857f tr:nth-child(even) {\n",
       "  background-color: rgba(139, 69, 19, 0.08);\n",
       "}\n",
       "#T_5857f tr:nth-child(odd) {\n",
       "  background: #FFF;\n",
       "}\n",
       "#T_5857f tr {\n",
       "  font-size: 12px;\n",
       "}\n",
       "#T_5857f th:nth-child(1) {\n",
       "  background-color: #FFF;\n",
       "  text-align: right;\n",
       "}\n",
       "#T_5857f caption {\n",
       "  font-size: 14px;\n",
       "  font-style: italic;\n",
       "  caption-side: bottom;\n",
       "  text-align: left;\n",
       "  margin-top: 10px;\n",
       "}\n",
       "</style>\n",
       "<table id=\"T_5857f\">\n",
       "  <caption>Top ten totals plage-de-st-sulpice</caption>\n",
       "  <thead>\n",
       "    <tr>\n",
       "      <th class=\"blank level0\" >&nbsp;</th>\n",
       "      <th id=\"T_5857f_level0_col0\" class=\"col_heading level0 col0\" >description</th>\n",
       "      <th id=\"T_5857f_level0_col1\" class=\"col_heading level0 col1\" >quantity</th>\n",
       "    </tr>\n",
       "  </thead>\n",
       "  <tbody>\n",
       "    <tr>\n",
       "      <th id=\"T_5857f_level0_row0\" class=\"row_heading level0 row0\" >274</th>\n",
       "      <td id=\"T_5857f_row0_col0\" class=\"data row0 col0\" >Glass drink bottles, pieces</td>\n",
       "      <td id=\"T_5857f_row0_col1\" class=\"data row0 col1\" >737.00</td>\n",
       "    </tr>\n",
       "    <tr>\n",
       "      <th id=\"T_5857f_level0_row1\" class=\"row_heading level0 row1\" >351</th>\n",
       "      <td id=\"T_5857f_row1_col0\" class=\"data row1 col0\" >Fragmented plastics</td>\n",
       "      <td id=\"T_5857f_row1_col1\" class=\"data row1 col1\" >475.00</td>\n",
       "    </tr>\n",
       "    <tr>\n",
       "      <th id=\"T_5857f_level0_row2\" class=\"row_heading level0 row2\" >289</th>\n",
       "      <td id=\"T_5857f_row2_col0\" class=\"data row2 col0\" >Cigarette filters</td>\n",
       "      <td id=\"T_5857f_row2_col1\" class=\"data row2 col1\" >341.00</td>\n",
       "    </tr>\n",
       "    <tr>\n",
       "      <th id=\"T_5857f_level0_row3\" class=\"row_heading level0 row3\" >293</th>\n",
       "      <td id=\"T_5857f_row3_col0\" class=\"data row3 col0\" >Food wrappers; candy, snacks</td>\n",
       "      <td id=\"T_5857f_row3_col1\" class=\"data row3 col1\" >279.00</td>\n",
       "    </tr>\n",
       "    <tr>\n",
       "      <th id=\"T_5857f_level0_row4\" class=\"row_heading level0 row4\" >343</th>\n",
       "      <td id=\"T_5857f_row4_col0\" class=\"data row4 col0\" >Cotton bud/swab sticks</td>\n",
       "      <td id=\"T_5857f_row4_col1\" class=\"data row4 col1\" >252.00</td>\n",
       "    </tr>\n",
       "    <tr>\n",
       "      <th id=\"T_5857f_level0_row5\" class=\"row_heading level0 row5\" >350</th>\n",
       "      <td id=\"T_5857f_row5_col0\" class=\"data row5 col0\" >Expanded polystyrene</td>\n",
       "      <td id=\"T_5857f_row5_col1\" class=\"data row5 col1\" >142.00</td>\n",
       "    </tr>\n",
       "    <tr>\n",
       "      <th id=\"T_5857f_level0_row6\" class=\"row_heading level0 row6\" >349</th>\n",
       "      <td id=\"T_5857f_row6_col0\" class=\"data row6 col0\" >Plastic bottle lids</td>\n",
       "      <td id=\"T_5857f_row6_col1\" class=\"data row6 col1\" >82.00</td>\n",
       "    </tr>\n",
       "    <tr>\n",
       "      <th id=\"T_5857f_level0_row7\" class=\"row_heading level0 row7\" >325</th>\n",
       "      <td id=\"T_5857f_row7_col0\" class=\"data row7 col0\" >Industrial sheeting</td>\n",
       "      <td id=\"T_5857f_row7_col1\" class=\"data row7 col1\" >65.00</td>\n",
       "    </tr>\n",
       "    <tr>\n",
       "      <th id=\"T_5857f_level0_row8\" class=\"row_heading level0 row8\" >334</th>\n",
       "      <td id=\"T_5857f_row8_col0\" class=\"data row8 col0\" >Tape, masking/duct/packing</td>\n",
       "      <td id=\"T_5857f_row8_col1\" class=\"data row8 col1\" >59.00</td>\n",
       "    </tr>\n",
       "    <tr>\n",
       "      <th id=\"T_5857f_level0_row9\" class=\"row_heading level0 row9\" >178</th>\n",
       "      <td id=\"T_5857f_row9_col0\" class=\"data row9 col0\" >Medical; containers/tubes/ packaging</td>\n",
       "      <td id=\"T_5857f_row9_col1\" class=\"data row9 col1\" >57.00</td>\n",
       "    </tr>\n",
       "  </tbody>\n",
       "</table>\n"
      ],
      "text/plain": [
       "<pandas.io.formats.style.Styler at 0x7f7c6c4be4c0>"
      ]
     },
     "execution_count": 28,
     "metadata": {},
     "output_type": "execute_result"
    }
   ],
   "source": [
    "aqs = c_sum[0][0][[\"description\", \"quantity\"]]\n",
    "aqs.to_csv(\"output/csvs/table_11.csv\", index=False)\n",
    "aqs.index.name = None\n",
    "\n",
    "caption = \"Top ten totals plage-de-st-sulpice\"\n",
    "table_11 = aqs.style.format(precision=2).set_caption(caption).set_table_styles(table_css_styles)\n",
    "\n",
    "table_11"
   ]
  },
  {
   "cell_type": "markdown",
   "metadata": {
    "editable": true,
    "slideshow": {
     "slide_type": ""
    },
    "tags": []
   },
   "source": [
    "### Parc des Pierettes"
   ]
  },
  {
   "cell_type": "code",
   "execution_count": 29,
   "metadata": {
    "editable": true,
    "jupyter": {
     "source_hidden": true
    },
    "slideshow": {
     "slide_type": ""
    },
    "tags": [
     "hide-input"
    ]
   },
   "outputs": [],
   "source": [
    "tdata = c_sum[1][0].pivot(columns=\"code\", index=\"slug\", values=\"quantity\")\n",
    "\n",
    "matdata = c_sum[1][1].copy()\n",
    "matdata[\"slug\"] = \"slug\"\n",
    "matdata = matdata.sort_values(by='quantity', ascending=False).pivot(columns='material', index=\"slug\", values='quantity')\n",
    "\n",
    "gdata = c_sum[1][2]\n",
    "gdata[\"slug\"] = \"slug\"\n",
    "gdata = gdata.sort_values(by='quantity', ascending=False).pivot(columns='groupname', index=\"slug\", values='quantity')\n",
    "    \n",
    "fig, ax = plt.subplots(1,3, figsize=(12,7), sharey=True)\n",
    "\n",
    "tdata.plot.bar(stacked=True, colormap='tab10', alpha=0.5, ax=ax[0], width=.9)\n",
    "\n",
    "ax[0].tick_params(axis='x',  which='both',  bottom=False, labelbottom=False, labelsize=0)\n",
    "h, ls = ax[0].get_legend_handles_labels()\n",
    "new_labels = [f'[{x}]: {code_d[x]}' for x in ls]\n",
    "ax[0].legend(h[::-1], new_labels[::-1], bbox_to_anchor=(0, -.02), loc='upper left', ncol=1,fontsize=9)\n",
    "ax[0].set_title(\"Top ten totals\", pad=12, fontsize=12, loc='left')\n",
    "ax[0].set_ylabel(\"Number of items\", fontsize=12)\n",
    "ax[0].set_xlabel(\"\")\n",
    "\n",
    "matdata.plot.bar(stacked=True, colormap='tab10', alpha=0.5, ax=ax[1])\n",
    "h, ls = ax[1].get_legend_handles_labels()\n",
    "ax[1].tick_params(axis='x',  which='both',  bottom=False, labelbottom=False, labelsize=0)\n",
    "ax[1].legend(h[::-1], ls[::-1], bbox_to_anchor=(0.5, -.02), loc='upper center', ncol=1,fontsize=9)\n",
    "ax[1].set_title(\"Material totals\", pad=12, fontsize=12, loc='left')\n",
    "ax[1].set_ylabel(\"Ylabel\", fontsize=14)\n",
    "ax[1].set_xlabel(\"\")\n",
    "\n",
    "gdata.plot.bar(stacked=True, colormap='tab10', alpha=0.5, ax=ax[2])\n",
    "h, ls = ax[2].get_legend_handles_labels()\n",
    "ls = [x.capitalize() for x in ls]\n",
    "ax[2].tick_params(axis='x',  which='both',  bottom=False, labelbottom=False, labelsize=0)\n",
    "ax[2].legend(h[::-1], ls[::-1], bbox_to_anchor=(0.5, -.02), loc='upper center', ncol=1,fontsize=9)\n",
    "ax[2].set_title(\"Group totals\", pad=12, fontsize=12, loc='left')\n",
    "ax[2].set_ylabel(\"Ylabel\", fontsize=14)\n",
    "ax[2].set_xlabel(\"\")\n",
    "\n",
    "plt.tight_layout()\n",
    "\n",
    "glue(\"figure-10-swe\", fig, display=False)\n",
    "plt.close()"
   ]
  },
  {
   "cell_type": "markdown",
   "metadata": {
    "editable": true,
    "slideshow": {
     "slide_type": ""
    },
    "tags": []
   },
   "source": [
    "```{glue:figure} figure-10-swe\n",
    ":name: figure-9-swe\n",
    "{glue:text}`blank_caption` \n",
    "```\n",
    "{numref}`figure %s: <figure-9-swe>` The quantity of the top-ten items and their material composition as well as use or size classification"
   ]
  },
  {
   "cell_type": "code",
   "execution_count": 30,
   "metadata": {
    "editable": true,
    "jupyter": {
     "source_hidden": true
    },
    "slideshow": {
     "slide_type": ""
    },
    "tags": [
     "remove-input"
    ]
   },
   "outputs": [
    {
     "data": {
      "text/html": [
       "<style type=\"text/css\">\n",
       "#T_5d9d2 tr:nth-child(even) {\n",
       "  background-color: rgba(139, 69, 19, 0.08);\n",
       "}\n",
       "#T_5d9d2 tr:nth-child(odd) {\n",
       "  background: #FFF;\n",
       "}\n",
       "#T_5d9d2 tr {\n",
       "  font-size: 12px;\n",
       "}\n",
       "#T_5d9d2 th:nth-child(1) {\n",
       "  background-color: #FFF;\n",
       "  text-align: right;\n",
       "}\n",
       "#T_5d9d2 caption {\n",
       "  font-size: 14px;\n",
       "  font-style: italic;\n",
       "  caption-side: bottom;\n",
       "  text-align: left;\n",
       "  margin-top: 10px;\n",
       "}\n",
       "</style>\n",
       "<table id=\"T_5d9d2\">\n",
       "  <caption>Top ten totals parc-des-pierrettes</caption>\n",
       "  <thead>\n",
       "    <tr>\n",
       "      <th class=\"blank level0\" >&nbsp;</th>\n",
       "      <th id=\"T_5d9d2_level0_col0\" class=\"col_heading level0 col0\" >description</th>\n",
       "      <th id=\"T_5d9d2_level0_col1\" class=\"col_heading level0 col1\" >quantity</th>\n",
       "    </tr>\n",
       "  </thead>\n",
       "  <tbody>\n",
       "    <tr>\n",
       "      <th id=\"T_5d9d2_level0_row0\" class=\"row_heading level0 row0\" >174</th>\n",
       "      <td id=\"T_5d9d2_row0_col0\" class=\"data row0 col0\" >Expanded polystyrene</td>\n",
       "      <td id=\"T_5d9d2_row0_col1\" class=\"data row0 col1\" >333.00</td>\n",
       "    </tr>\n",
       "    <tr>\n",
       "      <th id=\"T_5d9d2_level0_row1\" class=\"row_heading level0 row1\" >175</th>\n",
       "      <td id=\"T_5d9d2_row1_col0\" class=\"data row1 col0\" >Fragmented plastics</td>\n",
       "      <td id=\"T_5d9d2_row1_col1\" class=\"data row1 col1\" >195.00</td>\n",
       "    </tr>\n",
       "    <tr>\n",
       "      <th id=\"T_5d9d2_level0_row2\" class=\"row_heading level0 row2\" >113</th>\n",
       "      <td id=\"T_5d9d2_row2_col0\" class=\"data row2 col0\" >Cigarette filters</td>\n",
       "      <td id=\"T_5d9d2_row2_col1\" class=\"data row2 col1\" >169.00</td>\n",
       "    </tr>\n",
       "    <tr>\n",
       "      <th id=\"T_5d9d2_level0_row3\" class=\"row_heading level0 row3\" >117</th>\n",
       "      <td id=\"T_5d9d2_row3_col0\" class=\"data row3 col0\" >Food wrappers; candy, snacks</td>\n",
       "      <td id=\"T_5d9d2_row3_col1\" class=\"data row3 col1\" >86.00</td>\n",
       "    </tr>\n",
       "    <tr>\n",
       "      <th id=\"T_5d9d2_level0_row4\" class=\"row_heading level0 row4\" >167</th>\n",
       "      <td id=\"T_5d9d2_row4_col0\" class=\"data row4 col0\" >Cotton bud/swab sticks</td>\n",
       "      <td id=\"T_5d9d2_row4_col1\" class=\"data row4 col1\" >80.00</td>\n",
       "    </tr>\n",
       "    <tr>\n",
       "      <th id=\"T_5d9d2_level0_row5\" class=\"row_heading level0 row5\" >98</th>\n",
       "      <td id=\"T_5d9d2_row5_col0\" class=\"data row5 col0\" >Glass drink bottles, pieces</td>\n",
       "      <td id=\"T_5d9d2_row5_col1\" class=\"data row5 col1\" >80.00</td>\n",
       "    </tr>\n",
       "    <tr>\n",
       "      <th id=\"T_5d9d2_level0_row6\" class=\"row_heading level0 row6\" >2</th>\n",
       "      <td id=\"T_5d9d2_row6_col0\" class=\"data row6 col0\" >Medical; containers/tubes/ packaging</td>\n",
       "      <td id=\"T_5d9d2_row6_col1\" class=\"data row6 col1\" >66.00</td>\n",
       "    </tr>\n",
       "    <tr>\n",
       "      <th id=\"T_5d9d2_level0_row7\" class=\"row_heading level0 row7\" >160</th>\n",
       "      <td id=\"T_5d9d2_row7_col0\" class=\"data row7 col0\" >Plastic construction waste</td>\n",
       "      <td id=\"T_5d9d2_row7_col1\" class=\"data row7 col1\" >49.00</td>\n",
       "    </tr>\n",
       "    <tr>\n",
       "      <th id=\"T_5d9d2_level0_row8\" class=\"row_heading level0 row8\" >25</th>\n",
       "      <td id=\"T_5d9d2_row8_col0\" class=\"data row8 col0\" >Other plastic or foam products</td>\n",
       "      <td id=\"T_5d9d2_row8_col1\" class=\"data row8 col1\" >39.00</td>\n",
       "    </tr>\n",
       "    <tr>\n",
       "      <th id=\"T_5d9d2_level0_row9\" class=\"row_heading level0 row9\" >155</th>\n",
       "      <td id=\"T_5d9d2_row9_col0\" class=\"data row9 col0\" >Foam packaging/insulation/polyurethane</td>\n",
       "      <td id=\"T_5d9d2_row9_col1\" class=\"data row9 col1\" >34.00</td>\n",
       "    </tr>\n",
       "  </tbody>\n",
       "</table>\n"
      ],
      "text/plain": [
       "<pandas.io.formats.style.Styler at 0x7f7c6c553d30>"
      ]
     },
     "execution_count": 30,
     "metadata": {},
     "output_type": "execute_result"
    }
   ],
   "source": [
    "aqs = c_sum[1][0][[\"description\", \"quantity\"]]\n",
    "aqs.to_csv(\"output/csvs/table_12.csv\", index=False)\n",
    "aqs.index.name = None\n",
    "\n",
    "caption = \"Top ten totals parc-des-pierrettes\"\n",
    "table_12 = aqs.style.format(precision=2).set_caption(caption).set_table_styles(table_css_styles)\n",
    "\n",
    "table_12"
   ]
  },
  {
   "cell_type": "markdown",
   "metadata": {
    "editable": true,
    "slideshow": {
     "slide_type": ""
    },
    "tags": []
   },
   "source": [
    "#### Distribution of top-ten"
   ]
  },
  {
   "cell_type": "markdown",
   "metadata": {
    "editable": true,
    "slideshow": {
     "slide_type": ""
    },
    "tags": []
   },
   "source": [
    "At PS all the most common items had lower survey values when compared to year one, at PP it was 6 out of 10. In both cases cigarette ends and broken glass are both less in the last survey year. This also corresponds to the general trend observed in the national report. St Sulpice is moderately dense and would be considered urban under most circumstances."
   ]
  },
  {
   "cell_type": "code",
   "execution_count": 31,
   "metadata": {
    "editable": true,
    "jupyter": {
     "source_hidden": true
    },
    "slideshow": {
     "slide_type": ""
    },
    "tags": [
     "remove-input"
    ]
   },
   "outputs": [],
   "source": [
    "tsp = fd[fd.slug == boi[0]].groupby(\"code\", as_index=False).quantity.sum().sort_values(by=\"quantity\", ascending=False)[:10]\n",
    "tpp = fd[fd.slug == boi[1]].groupby(\"code\", as_index=False).quantity.sum().sort_values(by=\"quantity\", ascending=False)[:10]\n",
    "\n",
    "xaxone = fd[fd.code.isin(tsp.code.values)].groupby([\"loc_date\", \"code\"], as_index=False)[\"pcs/m\"].sum()\n",
    "sone =  fd[(fd.slug == boi[0])&(fd.code.isin(tsp.code.values))&(fd.yx == \"Year 5\")].groupby([\"loc_date\", \"code\"], as_index=False)[\"pcs/m\"].sum()\n",
    "syone =  fd[(fd.slug == boi[0])&(fd.code.isin(tsp.code.values))&(fd.yx == \"Year 1\")].groupby([\"loc_date\", \"code\"], as_index=False)[\"pcs/m\"].sum()\n",
    "xaxtwo = fd[fd.code.isin(tpp.code.values)].groupby([\"loc_date\", \"code\"], as_index=False)[\"pcs/m\"].sum()\n",
    "# stwo =  fd[(fd.slug == boi[1])&(fd.code.isin(tsp.code.values))].groupby([\"loc_date\", \"code\"], as_index=False)[\"pcs/m\"].sum()\n",
    "pone =  fd[(fd.slug == boi[1])&(fd.code.isin(tsp.code.values))&(fd.yx == \"Year 5\")].groupby([\"loc_date\", \"code\"], as_index=False)[\"pcs/m\"].sum()\n",
    "pyone =  fd[(fd.slug == boi[1])&(fd.code.isin(tsp.code.values))&(fd.yx == \"Year 1\")].groupby([\"loc_date\", \"code\"], as_index=False)[\"pcs/m\"].sum()\n",
    "\n",
    "fig, axs = plt.subplots(1,2, figsize=(12,8))\n",
    "\n",
    "axone = axs[0]\n",
    "axtwo = axs[1]\n",
    "\n",
    "sns.boxplot(data=xaxone, x=\"code\", y=\"pcs/m\", showfliers=False, color=\"dodgerblue\", ax=axone)\n",
    "sns.boxplot(data=xaxtwo, x=\"code\", y=\"pcs/m\", showfliers=False, color=\"dodgerblue\", ax=axtwo)\n",
    "\n",
    "sns.stripplot(data=syone, x=\"code\", y=\"pcs/m\", color=\"magenta\", label=\"Year 1\", jitter=.3, size=6,ax=axone)\n",
    "sns.stripplot(data=sone, x=\"code\", y=\"pcs/m\", color=\"black\", label= \"year 5\", jitter=.3, size=6, ax=axone)\n",
    "sns.stripplot(data=pyone, x=\"code\", y=\"pcs/m\", color=\"magenta\", jitter=.3, size=6, label=\"Year 1\", ax=axtwo)\n",
    "sns.stripplot(data=pone, x=\"code\", y=\"pcs/m\", color=\"black\", jitter=.3, size=6, label=\"Year 5\", ax=axtwo)\n",
    "\n",
    "axone.set_xlabel(\" \", fontsize=14)\n",
    "axtwo.set_xlabel(\" \", fontsize=14)\n",
    "\n",
    "axone.tick_params(axis=\"x\", which=\"both\", rotation=90)\n",
    "axtwo.tick_params(axis=\"x\", which=\"both\", rotation=90)\n",
    "axone.set_ylabel(\"pcs/m\", fontsize=14)\n",
    "axtwo.set_ylabel(\"pcs/m\", fontsize=14)\n",
    "h,l = axtwo.get_legend_handles_labels()\n",
    "h1,l1 = axone.get_legend_handles_labels()\n",
    "\n",
    "ls= [l[0], l[-1]]\n",
    "hs = [h[0], h[-1]]\n",
    "\n",
    "axtwo.legend(hs, ls, title=\"Parc-des-Pierettes\")\n",
    "axone.legend([h1[0], h1[-1]], [l1[0], l1[-1]], title=\"Plage-de-St.Sulpice\")\n",
    "\n",
    "glue(\"figure-11-swe\", fig, display=False)\n",
    "plt.close()"
   ]
  },
  {
   "cell_type": "markdown",
   "metadata": {
    "editable": true,
    "slideshow": {
     "slide_type": ""
    },
    "tags": []
   },
   "source": [
    "```{glue:figure} figure-11-swe\n",
    ":name: figure-11-swe\n",
    "{glue:text}`blank_caption` \n",
    "```\n",
    "{numref}`figure %s: <figure-11-swe>` At PS all the most common items had lower survey values when compared to year one, at PP it was 6 out of 10. In both cases cigarette ends and broken glass are both less in the last survey year. This also corresponds to the general trend observed in the national report. St Sulpice is moderately dense and would be considered urban under most circumstances."
   ]
  },
  {
   "cell_type": "code",
   "execution_count": 32,
   "metadata": {
    "editable": true,
    "slideshow": {
     "slide_type": ""
    },
    "tags": [
     "remove-input"
    ]
   },
   "outputs": [],
   "source": [
    "ecdfs = ECDF(a_locdate[\"pcs/m\"].values)\n",
    "\n",
    "fig, ax = plt.subplots(figsize=(5,6))\n",
    "\n",
    "ax.set_xlim(0, 35)\n",
    "somdata = a_locdate[\"pcs/m\"].values\n",
    "lower25 = np.round(np.quantile(somdata, .25), 2)\n",
    "upper25 = np.round(np.quantile(somdata, .75), 2)\n",
    "median = np.round(np.median(somdata), 2)\n",
    "    \n",
    "ax.vlines([lower25, upper25], ymin=0, ymax=1, linestyle=\"dashed\", color=\"dodgerblue\", linewidths=1, zorder=2)\n",
    "ax.fill_between([lower25, upper25], y1=0, y2=1, color=\"dodgerblue\", alpha=0.3, zorder=0, label=f\"All surveys IQR\")\n",
    "ax.vlines(median, ymin=0, ymax=1, color=\"dodgerblue\", linestyle=\"dashdot\", linewidths=2, alpha=1, zorder=2, label=f\"All surveys median\")\n",
    "ax_title = f'All surveys 2015-2021:\\nIQR = [{lower25}, {upper25}]\\nmedian = {median}'\n",
    "ax.annotate(ax_title, (.54, .42), xycoords='axes fraction')\n",
    "        \n",
    "boi = [\"plage-de-st-sulpice\",\"parc-des-pierrettes\"]\n",
    "sp_ld = fd[fd.slug.isin(boi)].groupby([\"loc_date\", \"slug\"], as_index=False)[\"pcs/m\"].sum()\n",
    "sp_ld[\"p\"] = sp_ld[\"pcs/m\"].map(lambda x: combined(x))\n",
    "\n",
    "sns.lineplot(x=ecdfs.x, y=ecdfs.y, ax=ax, label=\"All surveys\", zorder=2, linestyle=\"dashed\", color=\"black\")\n",
    "sns.scatterplot(data=sp_ld, x=\"pcs/m\", y=\"p\", label=\"slug\", s=60, hue=\"slug\", palette=colors[:2], zorder=3, ax=ax)\n",
    "\n",
    "handles, labels = ax.get_legend_handles_labels()\n",
    "\n",
    "new_labels = [*labels[0:3], *labels[4:]]\n",
    "new_handles = [*handles[0:3], *handles[4:]]\n",
    "\n",
    "ax.set_ylabel(\"Cumulative probability\")\n",
    "ax.set_xlabel(\"pcs/m\")\n",
    "ax.legend().get_frame().set_linewidth(0)\n",
    "ax.legend(new_handles, new_labels, bbox_to_anchor=(.5, .35), loc=\"upper left\", fancybox=False, facecolor=\"white\", edgecolor='1.0', framealpha=1)\n",
    "\n",
    "glue(\"figure-12-swe\", fig, display=False)\n",
    "plt.close()"
   ]
  },
  {
   "cell_type": "markdown",
   "metadata": {
    "editable": true,
    "slideshow": {
     "slide_type": ""
    },
    "tags": []
   },
   "source": [
    "```{glue:figure} figure-12-swe\n",
    ":name: figure-12-swe\n",
    "{glue:text}`blank_caption` \n",
    "```\n",
    "{numref}`figure %s: <figure-12-swe>` At PS all the most common items had lower survey values when compared to year one, at PP it was 6 out of 10. In both cases cigarette ends and broken glass are both less in the last survey year. This also corresponds to the general trend observed in the national report. St Sulpice is moderately dense and would be considered urban under most circumstances."
   ]
  },
  {
   "cell_type": "code",
   "execution_count": 33,
   "metadata": {
    "editable": true,
    "slideshow": {
     "slide_type": ""
    },
    "tags": [
     "remove-input"
    ]
   },
   "outputs": [
    {
     "data": {
      "text/html": [
       "<style type=\"text/css\">\n",
       "#T_41cca tr:nth-child(even) {\n",
       "  background-color: rgba(139, 69, 19, 0.08);\n",
       "}\n",
       "#T_41cca tr:nth-child(odd) {\n",
       "  background: #FFF;\n",
       "}\n",
       "#T_41cca tr {\n",
       "  font-size: 12px;\n",
       "}\n",
       "#T_41cca th:nth-child(1) {\n",
       "  background-color: #FFF;\n",
       "  text-align: right;\n",
       "}\n",
       "#T_41cca caption {\n",
       "  font-size: 14px;\n",
       "  font-style: italic;\n",
       "  caption-side: bottom;\n",
       "  text-align: left;\n",
       "  margin-top: 10px;\n",
       "}\n",
       "</style>\n",
       "<table id=\"T_41cca\">\n",
       "  <caption>Top ten totals parc-des-pierrettes</caption>\n",
       "  <thead>\n",
       "    <tr>\n",
       "      <th class=\"blank level0\" >&nbsp;</th>\n",
       "      <th id=\"T_41cca_level0_col0\" class=\"col_heading level0 col0\" >slug</th>\n",
       "      <th id=\"T_41cca_level0_col1\" class=\"col_heading level0 col1\" >pcs/m</th>\n",
       "      <th id=\"T_41cca_level0_col2\" class=\"col_heading level0 col2\" >p</th>\n",
       "    </tr>\n",
       "  </thead>\n",
       "  <tbody>\n",
       "    <tr>\n",
       "      <th id=\"T_41cca_level0_row0\" class=\"row_heading level0 row0\" >0</th>\n",
       "      <td id=\"T_41cca_row0_col0\" class=\"data row0 col0\" >parc-des-pierrettes</td>\n",
       "      <td id=\"T_41cca_row0_col1\" class=\"data row0 col1\" >14.39</td>\n",
       "      <td id=\"T_41cca_row0_col2\" class=\"data row0 col2\" >0.85</td>\n",
       "    </tr>\n",
       "    <tr>\n",
       "      <th id=\"T_41cca_level0_row1\" class=\"row_heading level0 row1\" >1</th>\n",
       "      <td id=\"T_41cca_row1_col0\" class=\"data row1 col0\" >parc-des-pierrettes</td>\n",
       "      <td id=\"T_41cca_row1_col1\" class=\"data row1 col1\" >6.15</td>\n",
       "      <td id=\"T_41cca_row1_col2\" class=\"data row1 col2\" >0.60</td>\n",
       "    </tr>\n",
       "    <tr>\n",
       "      <th id=\"T_41cca_level0_row2\" class=\"row_heading level0 row2\" >2</th>\n",
       "      <td id=\"T_41cca_row2_col0\" class=\"data row2 col0\" >parc-des-pierrettes</td>\n",
       "      <td id=\"T_41cca_row2_col1\" class=\"data row2 col1\" >5.31</td>\n",
       "      <td id=\"T_41cca_row2_col2\" class=\"data row2 col2\" >0.53</td>\n",
       "    </tr>\n",
       "    <tr>\n",
       "      <th id=\"T_41cca_level0_row3\" class=\"row_heading level0 row3\" >3</th>\n",
       "      <td id=\"T_41cca_row3_col0\" class=\"data row3 col0\" >parc-des-pierrettes</td>\n",
       "      <td id=\"T_41cca_row3_col1\" class=\"data row3 col1\" >10.08</td>\n",
       "      <td id=\"T_41cca_row3_col2\" class=\"data row3 col2\" >0.77</td>\n",
       "    </tr>\n",
       "    <tr>\n",
       "      <th id=\"T_41cca_level0_row4\" class=\"row_heading level0 row4\" >4</th>\n",
       "      <td id=\"T_41cca_row4_col0\" class=\"data row4 col0\" >plage-de-st-sulpice</td>\n",
       "      <td id=\"T_41cca_row4_col1\" class=\"data row4 col1\" >28.13</td>\n",
       "      <td id=\"T_41cca_row4_col2\" class=\"data row4 col2\" >0.95</td>\n",
       "    </tr>\n",
       "    <tr>\n",
       "      <th id=\"T_41cca_level0_row5\" class=\"row_heading level0 row5\" >5</th>\n",
       "      <td id=\"T_41cca_row5_col0\" class=\"data row5 col0\" >plage-de-st-sulpice</td>\n",
       "      <td id=\"T_41cca_row5_col1\" class=\"data row5 col1\" >8.92</td>\n",
       "      <td id=\"T_41cca_row5_col2\" class=\"data row5 col2\" >0.73</td>\n",
       "    </tr>\n",
       "    <tr>\n",
       "      <th id=\"T_41cca_level0_row6\" class=\"row_heading level0 row6\" >6</th>\n",
       "      <td id=\"T_41cca_row6_col0\" class=\"data row6 col0\" >plage-de-st-sulpice</td>\n",
       "      <td id=\"T_41cca_row6_col1\" class=\"data row6 col1\" >7.85</td>\n",
       "      <td id=\"T_41cca_row6_col2\" class=\"data row6 col2\" >0.70</td>\n",
       "    </tr>\n",
       "    <tr>\n",
       "      <th id=\"T_41cca_level0_row7\" class=\"row_heading level0 row7\" >7</th>\n",
       "      <td id=\"T_41cca_row7_col0\" class=\"data row7 col0\" >plage-de-st-sulpice</td>\n",
       "      <td id=\"T_41cca_row7_col1\" class=\"data row7 col1\" >7.40</td>\n",
       "      <td id=\"T_41cca_row7_col2\" class=\"data row7 col2\" >0.70</td>\n",
       "    </tr>\n",
       "  </tbody>\n",
       "</table>\n"
      ],
      "text/plain": [
       "<pandas.io.formats.style.Styler at 0x7f7c663e2460>"
      ]
     },
     "execution_count": 33,
     "metadata": {},
     "output_type": "execute_result"
    }
   ],
   "source": [
    "aqs = sp_ld[[\"slug\", \"pcs/m\", \"p\"]]\n",
    "aqs.to_csv(\"output/csvs/table_13.csv\", index=False)\n",
    "aqs.index.name = None\n",
    "\n",
    "# aqs.set_index(\"team\", drop=True, inplace=True)\n",
    "# aqs.index.name = None\n",
    "caption = \"Top ten totals parc-des-pierrettes\"\n",
    "table_13 = aqs.style.format(precision=2).set_caption(caption).set_table_styles(table_css_styles)\n",
    "\n",
    "table_13"
   ]
  },
  {
   "cell_type": "code",
   "execution_count": 34,
   "metadata": {
    "editable": true,
    "jupyter": {
     "source_hidden": true
    },
    "slideshow": {
     "slide_type": ""
    },
    "tags": [
     "remove-input"
    ]
   },
   "outputs": [
    {
     "data": {
      "text/markdown": [
       "\n",
       "\n",
       "This script updated 09/10/2023 in Biel, CH\n",
       "\n",
       "❤️ __what you do everyday:__ *analyst at hammerdirt*\n"
      ],
      "text/plain": [
       "<IPython.core.display.Markdown object>"
      ]
     },
     "execution_count": 34,
     "metadata": {},
     "output_type": "execute_result"
    }
   ],
   "source": [
    "today = dt.datetime.now().date().strftime(\"%d/%m/%Y\")\n",
    "where = \"Biel, CH\"\n",
    "\n",
    "my_block = f\"\"\"\n",
    "\n",
    "This script updated {today} in {where}\n",
    "\n",
    "\\u2764\\ufe0f __what you do everyday:__ *analyst at hammerdirt*\n",
    "\"\"\"\n",
    "\n",
    "md(my_block)"
   ]
  },
  {
   "cell_type": "code",
   "execution_count": 35,
   "metadata": {
    "editable": true,
    "jupyter": {
     "source_hidden": true
    },
    "slideshow": {
     "slide_type": ""
    },
    "tags": [
     "remove-input"
    ]
   },
   "outputs": [
    {
     "name": "stdout",
     "output_type": "stream",
     "text": [
      "Git repo: https://github.com/hammerdirt-analyst/solid-waste-team.git\n",
      "\n",
      "Git branch: main\n",
      "\n",
      "pandas    : 2.0.2\n",
      "numpy     : 1.24.3\n",
      "matplotlib: 3.7.1\n",
      "seaborn   : 0.12.2\n",
      "scipy     : 1.10.1\n",
      "\n"
     ]
    }
   ],
   "source": [
    "%watermark --iversions -b -r"
   ]
  },
  {
   "cell_type": "code",
   "execution_count": null,
   "metadata": {
    "editable": true,
    "jupyter": {
     "source_hidden": true
    },
    "slideshow": {
     "slide_type": ""
    },
    "tags": []
   },
   "outputs": [],
   "source": []
  }
 ],
 "metadata": {
  "kernelspec": {
   "display_name": "Python 3 (ipykernel)",
   "language": "python",
   "name": "python3"
  },
  "language_info": {
   "codemirror_mode": {
    "name": "ipython",
    "version": 3
   },
   "file_extension": ".py",
   "mimetype": "text/x-python",
   "name": "python",
   "nbconvert_exporter": "python",
   "pygments_lexer": "ipython3",
   "version": "3.9.16"
  }
 },
 "nbformat": 4,
 "nbformat_minor": 4
}