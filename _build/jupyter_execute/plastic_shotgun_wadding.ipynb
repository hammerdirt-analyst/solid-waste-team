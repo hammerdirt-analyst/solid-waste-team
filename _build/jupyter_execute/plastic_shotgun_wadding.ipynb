{
 "cells": [
  {
   "cell_type": "code",
   "execution_count": 1,
   "id": "60d29688-34ea-4727-8c83-d1e52de7c808",
   "metadata": {
    "editable": true,
    "jupyter": {
     "source_hidden": true
    },
    "slideshow": {
     "slide_type": ""
    },
    "tags": [
     "remove-input"
    ]
   },
   "outputs": [],
   "source": [
    "import pandas as pd\n",
    "import numpy as np\n",
    "from myst_nb import glue\n",
    "import seaborn as sns\n",
    "import matplotlib.dates as mdates\n",
    "import matplotlib.pyplot as plt\n",
    "\n",
    "# this defines the css rules for the note-book table displays\n",
    "header_row = {'selector': 'th:nth-child(1)', 'props': f'background-color: #FFF; text-align:right'}\n",
    "even_rows = {\"selector\": 'tr:nth-child(even)', 'props': f'background-color: rgba(139, 69, 19, 0.08);'}\n",
    "odd_rows = {'selector': 'tr:nth-child(odd)', 'props': 'background: #FFF;'}\n",
    "table_font = {'selector': 'tr', 'props': 'font-size: 14px;'}\n",
    "table_data = {'selector': 'td', 'props': 'padding: 14px;'}\n",
    "table_caption = {'selector': 'caption', 'props': 'font-size: 14px; font-style: italic; caption-side: bottom; text-align: left; margin-top: 10px'}\n",
    "table_css_styles = [even_rows, odd_rows, table_font, header_row, table_caption]\n",
    "\n",
    "\n",
    "table_large_data = {'selector': 'tr', 'props': 'font-size: 14px; padding: 12px;'}\n",
    "table_large_font = [even_rows, odd_rows, table_large_data, header_row, table_caption]\n",
    "\n",
    "hl1 = pd.read_csv('resources/data/checks/hist_leman.csv')\n",
    "hl2 = pd.read_csv('resources/data/u_all_data.csv')\n",
    "hl2 = hl2[hl2.water_name_slug == 'lac-leman'].copy()\n",
    "\n",
    "yu = [\n",
    "    'canton',\n",
    "    'orchards',\n",
    "    'vineyards',\n",
    "    'buildings',\n",
    "    'forest',\n",
    "    'undefined',\n",
    "    'public_services',\n",
    "    'streets'\n",
    "   \n",
    "]\n",
    "\n",
    "t = hl1[hl1.location == 'maladaire'][yu][:1]\n",
    "missing = hl2[hl2.loc_date == \"('maladaire', '2021-06-02')\"].copy()\n",
    "new_column = {'loc_date':'sample_id', 'water_name_slug':'feature_name', 'water':'feature_type', 'river_bassin':'parent_boundary', 'pcs_m':'pcs/m'}\n",
    "missing.rename(columns=new_column, inplace=True)\n",
    "missing['project'] = 'IQAASL'\n",
    "missing.loc[missing.location == 'maladaire', yu] = t.values[0]\n",
    "p_plastock = pd.concat([hl1, missing])\n",
    "work_data = p_plastock[p_plastock.code == \"G70\"].copy()\n",
    "work_data = work_data.drop_duplicates([\"sample_id\", \"code\"])\n",
    "work_data.loc[work_data.location == 'preverenges', 'region'] = 'Grand lac'\n",
    "work_data.loc[work_data.location == 'vidy', 'region'] = 'Grand lac'\n",
    "work_data.loc[work_data.location == 'tolochenaz', 'region'] = 'Grand lac'\n",
    "work_data.loc[work_data.location == 'maladaire', 'region'] = 'Haut lac'\n",
    "work_data.loc[work_data.location == 'versoix', 'region'] = 'Petit lac'\n",
    "work_data['date'] = pd.to_datetime(work_data['date'], format='%Y-%m-%d')"
   ]
  },
  {
   "cell_type": "markdown",
   "id": "39f7bb8a-8472-46b6-a820-7986da6ae8d0",
   "metadata": {
    "editable": true,
    "slideshow": {
     "slide_type": ""
    },
    "tags": []
   },
   "source": [
    "# Plastic shotgun shell wadding\n",
    "\n",
    "__A summary of observations on Lac Léman__\n",
    "\n",
    "Plastic wadding is commonly used in modern shotgun shells due to its durability and consistency in performance. It helps to cushion the shot or slug as it moves down the barrel, ensuring it stays centered and providing a proper seal to maximize the energy transfer upon firing.\n",
    "\n",
    "Plastic wadding can come in various forms, such as wads or cups, and they can have different designs depending on the specific requirements of the shotgun shell and the desired performance characteristics.\n",
    "\n",
    "When plastic wadding is left behind after shooting activities or improperly disposed of, it can find its way into water bodies and eventually wash up on beaches. Once there, it can pose risks to wildlife through ingestion or entanglement.\n",
    "\n",
    "__Essential statistics: 2015 - 2021__"
   ]
  },
  {
   "cell_type": "code",
   "execution_count": 2,
   "id": "7ba17fa4-5f78-4523-8c8c-927fb0cea58c",
   "metadata": {
    "editable": true,
    "jupyter": {
     "source_hidden": true
    },
    "slideshow": {
     "slide_type": ""
    },
    "tags": [
     "remove-input"
    ]
   },
   "outputs": [
    {
     "name": "stdout",
     "output_type": "stream",
     "text": [
      "Effective dates from 2015-11-23 00:00:00 to 2021-11-14 00:00:00\n",
      "\n",
      "Total found: 949\n",
      "\n",
      "Number of samples: 250\n",
      "\n",
      "Number of municipalities: 15\n",
      "\n",
      "Number of unique sample locations: 38\n",
      "\n",
      "Shotgun wadding found in 54% of samples\n",
      "\n",
      "The average number found per sample 3, the median found 1.0\n",
      "\n",
      "The average number found per meter of shoreline 0.1, the median found per meter of shoreline 0.02\n",
      "\n",
      "Historical average for every 100 meters : 10, historical median 2\n",
      "\n",
      "The historical 95% range per 100 meter {0.05: 0, 0.25: 0, 0.5: 2, 0.75: 8, 0.95: 54}\n"
     ]
    }
   ],
   "source": [
    "quantiles = [0.05, 0.25, 0.5, 0.75, 0.95]\n",
    "\n",
    "start_date, end_date = work_data[\"date\"].min(), work_data['date'].max()\n",
    "nsamples = len(work_data)\n",
    "ncities = work_data.city.nunique()\n",
    "nlocations = work_data.location.nunique()\n",
    "\n",
    "qty = work_data.quantity.sum()\n",
    "fail_rate = np.mean(work_data.quantity > 0)\n",
    "found_qtle = np.quantile(work_data.quantity.values, quantiles)\n",
    "density_qtle = np.quantile(work_data['pcs/m'].values, quantiles)\n",
    "dqtle = {quantiles[i]: int(x * 100) for i, x in enumerate(density_qtle)}\n",
    "found_median, found_mean = work_data.quantity.median(), work_data.quantity.mean()\n",
    "\n",
    "median_density, average_density = work_data['pcs/m'].median(), work_data['pcs/m'].mean()\n",
    "\n",
    "\n",
    "\n",
    "\n",
    "print(f'Effective dates from {start_date} to {end_date}\\n')\n",
    "print(f'Total found: {qty}\\n')\n",
    "print(f'Number of samples: {nsamples}\\n')\n",
    "print(f'Number of municipalities: {ncities}\\n')\n",
    "print(f'Number of unique sample locations: {nlocations}\\n')\n",
    "print(f'Shotgun wadding found in {int(fail_rate * 100)}% of samples\\n')\n",
    "print(f'The average number found per sample {int(found_mean)}, the median found {found_median}\\n')\n",
    "print(f'The average number found per meter of shoreline {round(average_density, 2)}, the median found per meter of shoreline {round(median_density, 2)}\\n')\n",
    "print(f'Historical average for every 100 meters : {int(average_density*100)}, historical median {int(median_density*100)}\\n')\n",
    "print(f'The historical 95% range per 100 meter {dqtle}')"
   ]
  },
  {
   "cell_type": "markdown",
   "id": "47dd280d-c98d-42a6-81aa-27c776058300",
   "metadata": {
    "editable": true,
    "slideshow": {
     "slide_type": ""
    },
    "tags": []
   },
   "source": [
    "## Characteristics and weight of sampling conditions\n",
    "\n",
    "We assume there is a relationship between how the land is used and what it is we find on the ground. Archeaologists and Anthropologists make this basic assumption every time they undertake an excavation and interpret the results in the context of other findings. This interpretation of beach litter data does exactly the same. As discussed in [Near or far](https://hammerdirt-analyst.github.io/landuse/titlepage.html) and the federal report [IQAASL](https://hammerdirt-analyst.github.io/IQAASL-End-0f-Sampling-2021/) : at the national level there is strong evidence to support a correlation between the density of objects found and specific topographic features that can be isolated on a standard topographical map.\n",
    "\n",
    "Here we consider the following features as a % of the dry-land surface area within 1 500 meters of the survey location:\n",
    "\n",
    "1. Buildings: the surface area attributed to constructed spaces\n",
    "2. Forest: the surface are attributed to woods and forest\n",
    "3. Orchards: the surface area attributed to orchards\n",
    "4. Public services: the surface area attributed to any area that is associated to public use, includes hospitals, sports fields, schools etc.\n",
    "5. Undefined: the surface area has no defined use\n",
    "6. Vineyards: the surface area attributed to growing grapes for wine making\n",
    "\n",
    "For a detailed description of how these values are derived: [Extracting land-use values](https://hammerdirt-analyst.github.io/feb_2024/landuse_model_next_itteration.html)"
   ]
  },
  {
   "cell_type": "code",
   "execution_count": 3,
   "id": "aac665ba-b844-4001-922d-d45fada051f5",
   "metadata": {
    "editable": true,
    "jupyter": {
     "source_hidden": true
    },
    "slideshow": {
     "slide_type": ""
    },
    "tags": [
     "remove-input"
    ]
   },
   "outputs": [],
   "source": [
    "normalized_columns = ['orchards', 'vineyards', 'buildings', 'forest', 'undefined', 'public_services']\n",
    "ranked_cols = [f'{x}_rank' for x in normalized_columns]\n",
    "agg = ['mean', 'count']\n",
    "cols = {'mean': 'average_pcs/m', 'count': 'number_of_samples'}\n",
    "val = 'pcs/m'\n",
    "\n",
    "# divide into 5 bins from 0 to 1\n",
    "for col in normalized_columns:\n",
    "    work_data[col + '_rank'] = pd.cut(work_data[col], bins=5, labels=range(1, 6))\n",
    "\n",
    "#average pcs/m and number of samples per category of buildings\n",
    "buildings = work_data.groupby('buildings_rank')[val].agg(agg).reset_index().rename(columns=cols)\n",
    "bdng = buildings.set_index('buildings_rank', drop=True).style.set_table_styles(table_css_styles).format(precision=2)\n",
    "\n",
    "forests = work_data.groupby('forest_rank')[val].agg(agg).reset_index().rename(columns=cols)\n",
    "frst = forests.set_index('forest_rank', drop=True).fillna('-').style.set_table_styles(table_css_styles).format(precision=2)\n",
    "\n",
    "undefined = work_data.groupby('undefined_rank')[val].agg(agg).reset_index().rename(columns=cols)\n",
    "undf = undefined.set_index('undefined_rank', drop=True).fillna('-').style.set_table_styles(table_css_styles).format(precision=2)\n",
    "\n",
    "orchards = work_data.groupby('orchards_rank')[val].agg(agg).reset_index().rename(columns=cols)\n",
    "orch = orchards.set_index('orchards_rank', drop=True).fillna('-').style.set_table_styles(table_css_styles).format(precision=2)\n",
    "\n",
    "public_services = work_data.groupby('public_services_rank')[val].agg(agg).reset_index().rename(columns=cols)\n",
    "pubs = public_services.set_index('public_services_rank', drop=True).fillna('-').style.set_table_styles(table_css_styles).format(precision=2)\n",
    "\n",
    "vineyards = work_data.groupby('vineyards_rank')[val].agg(agg).reset_index().rename(columns=cols)\n",
    "vines = vineyards.set_index('vineyards_rank', drop=True).fillna('-').style.set_table_styles(table_css_styles).format(precision=2)\n",
    "\n",
    "ps = {}\n",
    "for feature in ranked_cols:\n",
    "    ps[feature] = work_data[feature].value_counts(normalize=True)\n",
    "\n",
    "samples_feature = pd.DataFrame(ps)\n",
    "samples_feature.columns = normalized_columns\n",
    "\n",
    "caption = \"Percent of samples collected with the designated land-use feature and category.\"\n",
    "sd = samples_feature.style.set_table_styles(table_css_styles).format('{:.0%}').set_caption(caption)\n",
    "glue('percent_samps_feature', sd, display=False)"
   ]
  },
  {
   "cell_type": "code",
   "execution_count": 4,
   "id": "fa6d5b94-cf1c-496d-ac69-742991b13544",
   "metadata": {
    "editable": true,
    "jupyter": {
     "source_hidden": true
    },
    "slideshow": {
     "slide_type": ""
    },
    "tags": [
     "remove-input"
    ]
   },
   "outputs": [],
   "source": [
    "d = pd.melt(work_data, value_vars=ranked_cols, id_vars=['pcs/m', 'sample_id'])\n",
    "di = d.groupby(['variable', 'value'], as_index=False)['pcs/m'].mean()\n",
    "di = di.pivot(columns='variable', index='value', values='pcs/m')\n",
    "di.columns = [x[:-5] for x in di.columns]\n",
    "di.index.name = None\n",
    "caption = \"The average number of shotgun shells per linear meter of shoreline by feature and category.\"\n",
    "sd = di.style.set_table_styles(table_css_styles).format(precision=2, na_rep='-').set_caption(caption)\n",
    "glue('average_per_feature', sd, display=False)"
   ]
  },
  {
   "cell_type": "markdown",
   "id": "3a357c26-b058-462d-a6da-2c53c18a0faf",
   "metadata": {
    "editable": true,
    "slideshow": {
     "slide_type": ""
    },
    "tags": []
   },
   "source": [
    "::::{grid} 1\n",
    "\n",
    ":::{grid-item}\n",
    "\n",
    "{glue}`percent_samps_feature`\n",
    "\n",
    ":::\n",
    "\n",
    ":::{grid-item}\n",
    "\n",
    "{glue}`average_per_feature`\n",
    "\n",
    ":::\n",
    "::::"
   ]
  },
  {
   "cell_type": "markdown",
   "id": "edb84d02-64da-453b-a188-b966f619131c",
   "metadata": {
    "editable": true,
    "slideshow": {
     "slide_type": ""
    },
    "tags": []
   },
   "source": [
    "## Regional results\n",
    "\n",
    "Lake Geneva is divided into three parts because of its different types of formation (sedimentation, tectonic folding, glacial erosion):\n",
    "\n",
    "* Haut Lac ('Upper Lake'), the eastern part from the Rhône estuary to the line of Meillerie–Rivaz\n",
    "* Grand Lac ('Large Lake'), the largest and deepest basin with the lake's largest width\n",
    "* Petit Lac ('Small Lake'), the most south-west, narrower and less deep part from Yvoire–Promenthoux next Prangins to the exit in Geneva\n",
    "\n",
    "For a brief description of the geography of Lac Léman see: [Wikepedia Lake Geneva](https://en.wikipedia.org/wiki/Lake_Geneva)"
   ]
  },
  {
   "cell_type": "code",
   "execution_count": 5,
   "id": "392e0c9e-2874-49e5-82fe-2942f1f5724c",
   "metadata": {
    "editable": true,
    "slideshow": {
     "slide_type": ""
    },
    "tags": [
     "remove-input"
    ]
   },
   "outputs": [],
   "source": [
    "work_data['date'] = pd.to_datetime(work_data['date'], format='%Y-%m-%d')\n",
    "fig, ax = plt.subplots()\n",
    "sns.scatterplot(data=work_data, x='date', y='pcs/m', hue='region')\n",
    "ax.xaxis.set_minor_locator(mdates.MonthLocator(bymonth=(1, 7)))\n",
    "ax.xaxis.set_major_locator(mdates.YearLocator())\n",
    "plt.tight_layout()\n",
    "glue('region_scatter', fig, display=False)\n",
    "plt.close()\n",
    "\n",
    "fig, ax = plt.subplots()\n",
    "sns.ecdfplot(data=work_data, x=\"pcs/m\", hue='region')\n",
    "plt.tight_layout()\n",
    "glue('region_ecdf', fig, display=False)\n",
    "plt.close()"
   ]
  },
  {
   "cell_type": "markdown",
   "id": "9fd98449-e310-465f-a603-bcea423e7753",
   "metadata": {
    "editable": true,
    "slideshow": {
     "slide_type": ""
    },
    "tags": []
   },
   "source": [
    "::::{grid} 1\n",
    "\n",
    ":::{grid-item}\n",
    "\n",
    "{glue}`region_scatter`\n",
    "\n",
    ":::\n",
    "\n",
    ":::{grid-item}\n",
    "\n",
    "{glue}`region_ecdf`\n",
    "\n",
    ":::\n",
    "::::"
   ]
  },
  {
   "cell_type": "code",
   "execution_count": 6,
   "id": "32d3a371-5aff-4521-8bd5-e67b4d071d36",
   "metadata": {
    "editable": true,
    "slideshow": {
     "slide_type": ""
    },
    "tags": [
     "remove-input"
    ]
   },
   "outputs": [],
   "source": [
    "# regional results\n",
    "regions = work_data.groupby('region').quantity.describe()\n",
    "regions.rename(columns={'count':'nsamples'}, inplace=True)\n",
    "regions.index.name = None\n",
    "caption = \"The distribution of the total number of plastic shotgun wadding found per sample for each region\"\n",
    "rg = regions.style.set_table_styles(table_css_styles).format(precision=0).set_caption(caption)\n",
    "glue('region_qty_dist', rg, display=False)\n",
    "\n",
    "# regional results\n",
    "regions = work_data.groupby('region')['pcs/m'].describe()\n",
    "regions.rename(columns={'count':'nsamples'}, inplace=True)\n",
    "regions.index.name = None\n",
    "caption = \"The distribution of the number of shotgun wadding found per meter of shoreline\"\n",
    "rg = regions.style.set_table_styles(table_css_styles).format(precision=2).set_caption(caption)\n",
    "glue('region_med_dist', rg, display=False)"
   ]
  },
  {
   "cell_type": "markdown",
   "id": "70d5cbae-46a7-49a8-8347-5c8aa1d8db9c",
   "metadata": {
    "editable": true,
    "slideshow": {
     "slide_type": ""
    },
    "tags": []
   },
   "source": [
    "::::{grid} 1\n",
    "\n",
    ":::{grid-item}\n",
    "\n",
    "{glue}`region_med_dist`\n",
    "\n",
    ":::\n",
    "::::"
   ]
  },
  {
   "cell_type": "markdown",
   "id": "65464f63-3159-4f5c-8276-efa3a42fbb20",
   "metadata": {
    "editable": true,
    "slideshow": {
     "slide_type": ""
    },
    "tags": []
   },
   "source": [
    "## Municipal results\n",
    "\n",
    "There are numerous municipalities on the lake, here we consider only the municipalities that were sampled."
   ]
  },
  {
   "cell_type": "code",
   "execution_count": 7,
   "id": "ea8c4ef0-87aa-42fa-931e-078ee953000c",
   "metadata": {
    "editable": true,
    "slideshow": {
     "slide_type": ""
    },
    "tags": [
     "remove-input"
    ]
   },
   "outputs": [
    {
     "name": "stdout",
     "output_type": "stream",
     "text": [
      "Nummber of cities with two or more samples where none were found: 0\n",
      "\n",
      "Cities where none were found, for all cities and number of samples: ['Morges' 'Rolle']\n"
     ]
    }
   ],
   "source": [
    "# cities with more than two samples and none were found\n",
    "two_or_more_samples = work_data.groupby('city').filter(lambda x: len(x) >= 2)\n",
    "cumulative_sum = two_or_more_samples.groupby('city')['quantity'].sum()\n",
    "total = sum(cumulative_sum[cumulative_sum == 0])\n",
    "\n",
    "# locations where none were found\n",
    "by_city = work_data.groupby('city')['quantity'].sum()\n",
    "cities_with_none = by_city[by_city == 0].index\n",
    "\n",
    "print(f'Nummber of cities with two or more samples where none were found: {total}\\n')\n",
    "print(f'Cities where none were found, for all cities and number of samples: {cities_with_none.values}')"
   ]
  },
  {
   "cell_type": "markdown",
   "id": "db00a788-3f65-410a-a891-0ad7dd32a48d",
   "metadata": {
    "editable": true,
    "slideshow": {
     "slide_type": ""
    },
    "tags": []
   },
   "source": [
    "__Municipal results in descending order__"
   ]
  },
  {
   "cell_type": "code",
   "execution_count": 8,
   "id": "37c6936f-3c97-4c75-a7dd-096b2fa2a564",
   "metadata": {
    "editable": true,
    "slideshow": {
     "slide_type": ""
    },
    "tags": [
     "remove-input"
    ]
   },
   "outputs": [
    {
     "data": {
      "text/html": [
       "<style type=\"text/css\">\n",
       "#T_92448 tr:nth-child(even) {\n",
       "  background-color: rgba(139, 69, 19, 0.08);\n",
       "}\n",
       "#T_92448 tr:nth-child(odd) {\n",
       "  background: #FFF;\n",
       "}\n",
       "#T_92448 tr {\n",
       "  font-size: 14px;\n",
       "}\n",
       "#T_92448 th:nth-child(1) {\n",
       "  background-color: #FFF;\n",
       "  text-align: right;\n",
       "}\n",
       "#T_92448 caption {\n",
       "  font-size: 14px;\n",
       "  font-style: italic;\n",
       "  caption-side: bottom;\n",
       "  text-align: left;\n",
       "  margin-top: 10px;\n",
       "}\n",
       "</style>\n",
       "<table id=\"T_92448\">\n",
       "  <thead>\n",
       "    <tr>\n",
       "      <th class=\"blank level0\" >&nbsp;</th>\n",
       "      <th id=\"T_92448_level0_col0\" class=\"col_heading level0 col0\" >pcs/m</th>\n",
       "      <th id=\"T_92448_level0_col1\" class=\"col_heading level0 col1\" >nsamples</th>\n",
       "    </tr>\n",
       "  </thead>\n",
       "  <tbody>\n",
       "    <tr>\n",
       "      <th id=\"T_92448_level0_row0\" class=\"row_heading level0 row0\" >Saint-Gingolph</th>\n",
       "      <td id=\"T_92448_row0_col0\" class=\"data row0 col0\" >0.68</td>\n",
       "      <td id=\"T_92448_row0_col1\" class=\"data row0 col1\" >13</td>\n",
       "    </tr>\n",
       "    <tr>\n",
       "      <th id=\"T_92448_level0_row1\" class=\"row_heading level0 row1\" >Allaman</th>\n",
       "      <td id=\"T_92448_row1_col0\" class=\"data row1 col0\" >0.14</td>\n",
       "      <td id=\"T_92448_row1_col1\" class=\"data row1 col1\" >3</td>\n",
       "    </tr>\n",
       "    <tr>\n",
       "      <th id=\"T_92448_level0_row2\" class=\"row_heading level0 row2\" >Bourg-en-Lavaux</th>\n",
       "      <td id=\"T_92448_row2_col0\" class=\"data row2 col0\" >0.12</td>\n",
       "      <td id=\"T_92448_row2_col1\" class=\"data row2 col1\" >2</td>\n",
       "    </tr>\n",
       "    <tr>\n",
       "      <th id=\"T_92448_level0_row3\" class=\"row_heading level0 row3\" >La Tour-de-Peilz</th>\n",
       "      <td id=\"T_92448_row3_col0\" class=\"data row3 col0\" >0.12</td>\n",
       "      <td id=\"T_92448_row3_col1\" class=\"data row3 col1\" >25</td>\n",
       "    </tr>\n",
       "    <tr>\n",
       "      <th id=\"T_92448_level0_row4\" class=\"row_heading level0 row4\" >Montreux</th>\n",
       "      <td id=\"T_92448_row4_col0\" class=\"data row4 col0\" >0.11</td>\n",
       "      <td id=\"T_92448_row4_col1\" class=\"data row4 col1\" >53</td>\n",
       "    </tr>\n",
       "    <tr>\n",
       "      <th id=\"T_92448_level0_row5\" class=\"row_heading level0 row5\" >Vevey</th>\n",
       "      <td id=\"T_92448_row5_col0\" class=\"data row5 col0\" >0.11</td>\n",
       "      <td id=\"T_92448_row5_col1\" class=\"data row5 col1\" >44</td>\n",
       "    </tr>\n",
       "    <tr>\n",
       "      <th id=\"T_92448_level0_row6\" class=\"row_heading level0 row6\" >Saint-Sulpice (VD)</th>\n",
       "      <td id=\"T_92448_row6_col0\" class=\"data row6 col0\" >0.06</td>\n",
       "      <td id=\"T_92448_row6_col1\" class=\"data row6 col1\" >15</td>\n",
       "    </tr>\n",
       "    <tr>\n",
       "      <th id=\"T_92448_level0_row7\" class=\"row_heading level0 row7\" >Versoix</th>\n",
       "      <td id=\"T_92448_row7_col0\" class=\"data row7 col0\" >0.05</td>\n",
       "      <td id=\"T_92448_row7_col1\" class=\"data row7 col1\" >4</td>\n",
       "    </tr>\n",
       "    <tr>\n",
       "      <th id=\"T_92448_level0_row8\" class=\"row_heading level0 row8\" >Genève</th>\n",
       "      <td id=\"T_92448_row8_col0\" class=\"data row8 col0\" >0.03</td>\n",
       "      <td id=\"T_92448_row8_col1\" class=\"data row8 col1\" >29</td>\n",
       "    </tr>\n",
       "    <tr>\n",
       "      <th id=\"T_92448_level0_row9\" class=\"row_heading level0 row9\" >Préverenges</th>\n",
       "      <td id=\"T_92448_row9_col0\" class=\"data row9 col0\" >0.01</td>\n",
       "      <td id=\"T_92448_row9_col1\" class=\"data row9 col1\" >15</td>\n",
       "    </tr>\n",
       "    <tr>\n",
       "      <th id=\"T_92448_level0_row10\" class=\"row_heading level0 row10\" >Tolochenaz</th>\n",
       "      <td id=\"T_92448_row10_col0\" class=\"data row10 col0\" >0.01</td>\n",
       "      <td id=\"T_92448_row10_col1\" class=\"data row10 col1\" >3</td>\n",
       "    </tr>\n",
       "    <tr>\n",
       "      <th id=\"T_92448_level0_row11\" class=\"row_heading level0 row11\" >Lausanne</th>\n",
       "      <td id=\"T_92448_row11_col0\" class=\"data row11 col0\" >0.01</td>\n",
       "      <td id=\"T_92448_row11_col1\" class=\"data row11 col1\" >20</td>\n",
       "    </tr>\n",
       "    <tr>\n",
       "      <th id=\"T_92448_level0_row12\" class=\"row_heading level0 row12\" >Gland</th>\n",
       "      <td id=\"T_92448_row12_col0\" class=\"data row12 col0\" >0.00</td>\n",
       "      <td id=\"T_92448_row12_col1\" class=\"data row12 col1\" >22</td>\n",
       "    </tr>\n",
       "    <tr>\n",
       "      <th id=\"T_92448_level0_row13\" class=\"row_heading level0 row13\" >Morges</th>\n",
       "      <td id=\"T_92448_row13_col0\" class=\"data row13 col0\" >0.00</td>\n",
       "      <td id=\"T_92448_row13_col1\" class=\"data row13 col1\" >1</td>\n",
       "    </tr>\n",
       "    <tr>\n",
       "      <th id=\"T_92448_level0_row14\" class=\"row_heading level0 row14\" >Rolle</th>\n",
       "      <td id=\"T_92448_row14_col0\" class=\"data row14 col0\" >0.00</td>\n",
       "      <td id=\"T_92448_row14_col1\" class=\"data row14 col1\" >1</td>\n",
       "    </tr>\n",
       "  </tbody>\n",
       "</table>\n"
      ],
      "text/plain": [
       "<pandas.io.formats.style.Styler at 0x7a2c708f6250>"
      ]
     },
     "metadata": {
      "scrapbook": {
       "mime_prefix": "",
       "name": "city_rankings"
      }
     },
     "output_type": "display_data"
    }
   ],
   "source": [
    "# cities with the highest density\n",
    "\n",
    "city_pcs_m = work_data.groupby('city', as_index=False).agg({'pcs/m':'mean', 'sample_id':'nunique'})\n",
    "cpm = city_pcs_m.rename(columns={'sample_id':'nsamples'}, inplace=True)\n",
    "cpm = city_pcs_m.sort_values(by='pcs/m', ascending=False).set_index('city', drop=True)\n",
    "cpm.index.name = None\n",
    "cp = cpm.style.set_table_styles(table_css_styles).format(precision=2)\n",
    "glue('city_rankings', cp, display=True)"
   ]
  },
  {
   "cell_type": "code",
   "execution_count": 9,
   "id": "989efbdc-f400-4894-8424-a5c4856595ca",
   "metadata": {
    "editable": true,
    "pycharm": {
     "name": "#%%\n"
    },
    "slideshow": {
     "slide_type": ""
    },
    "tags": [
     "remove-input"
    ]
   },
   "outputs": [
    {
     "data": {
      "text/markdown": [
       "\n",
       "\n",
       "This script updated 21/03/2024 in Biel, CH\n",
       "\n",
       "❤️ __what you do everyday:__ *analyst at hammerdirt*\n"
      ],
      "text/plain": [
       "<IPython.core.display.Markdown object>"
      ]
     },
     "execution_count": 9,
     "metadata": {},
     "output_type": "execute_result"
    }
   ],
   "source": [
    "import datetime as dt\n",
    "from IPython.display import Markdown as md\n",
    "today = dt.datetime.now().date().strftime(\"%d/%m/%Y\")\n",
    "where = \"Biel, CH\"\n",
    "\n",
    "my_block = f\"\"\"\n",
    "\n",
    "This script updated {today} in {where}\n",
    "\n",
    "\\u2764\\ufe0f __what you do everyday:__ *analyst at hammerdirt*\n",
    "\"\"\"\n",
    "\n",
    "md(my_block)"
   ]
  },
  {
   "cell_type": "code",
   "execution_count": null,
   "id": "11d8473e-9271-4828-b1fc-ecbcf2f28765",
   "metadata": {
    "editable": true,
    "slideshow": {
     "slide_type": ""
    },
    "tags": []
   },
   "outputs": [],
   "source": []
  }
 ],
 "metadata": {
  "kernelspec": {
   "display_name": "Python 3 (ipykernel)",
   "language": "python",
   "name": "python3"
  },
  "language_info": {
   "codemirror_mode": {
    "name": "ipython",
    "version": 3
   },
   "file_extension": ".py",
   "mimetype": "text/x-python",
   "name": "python",
   "nbconvert_exporter": "python",
   "pygments_lexer": "ipython3",
   "version": "3.9.17"
  }
 },
 "nbformat": 4,
 "nbformat_minor": 5
}