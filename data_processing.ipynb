{
 "cells": [
  {
   "cell_type": "code",
   "execution_count": 1,
   "metadata": {
    "editable": true,
    "pycharm": {
     "name": "#%%\n"
    },
    "slideshow": {
     "slide_type": ""
    },
    "tags": [
     "remove-input"
    ]
   },
   "outputs": [],
   "source": [
    "# sys, file and nav packages:\n",
    "%load_ext watermark\n",
    "import datetime as dt\n",
    "# import slugify\n",
    "\n",
    "# math packages:\n",
    "import pandas as pd\n",
    "import numpy as np\n",
    "# from scipy import stats\n",
    "import datetime as dt \n",
    "# from statsmodels.distributions.empirical_distribution import ECDF\n",
    "# from scipy.stats import binom\n",
    "# from scipy import optimize\n",
    "# from scipy.stats import beta\n",
    "\n",
    "# charting:\n",
    "import matplotlib as mpl\n",
    "import matplotlib.pyplot as plt\n",
    "import seaborn as sns\n",
    "\n",
    "\n",
    "# documenting\n",
    "# from IPython.display import display, HTML\n",
    "from IPython.display import Markdown as md\n",
    "from myst_nb import glue\n",
    "\n",
    "\n",
    "dfCodes = pd.read_csv(\"resources/data/u_codes.csv\")\n",
    "\n",
    "\n",
    "columns_i = [\n",
    "    'loc_date',\n",
    "    'slug',\n",
    "    'date',\n",
    "    'doy',\n",
    "    'water_name_slug',\n",
    "    'water',\n",
    "    'river_bassin',\n",
    "    'city',\n",
    "    'code', \n",
    "    'quantity',\n",
    "    'pcs_m', \n",
    "]\n",
    "columns = [\n",
    "    'loc_date',\n",
    "    'slug',\n",
    "    'date',\n",
    "    'doy',\n",
    "    'Project',\n",
    "    'water_name_slug',\n",
    "    'water',\n",
    "    'river_bassin',\n",
    "    'city',\n",
    "    'code', \n",
    "    'quantity',\n",
    "    'pcs_m', \n",
    "]\n",
    "all_data = pd.read_csv(\"resources/data/u_all_data.csv\")\n",
    "all_data[\"date\"] = pd.to_datetime(all_data[\"date\"], format=\"%Y-%m-%d\")\n",
    "all_data[\"slug\"] = all_data.location\n",
    "not_in = ['monte-generoso', 'schiffenensee_duedingen_hirschij', 'sihlsee_einsiedeln_schilligerllacherl']\n",
    "all_data = all_data[~all_data.location.isin(not_in)].copy()\n",
    "\n",
    "\n",
    "lac_leman_regions = pd.read_csv(\"resources/data/lac_leman_regions.csv\")\n",
    "\n",
    "# map to code decriptions\n",
    "dfCodes.set_index(\"code\", inplace=True)\n",
    "code_d = dfCodes[\"description\"]\n",
    "\n",
    "# map to material descriptions\n",
    "mat_d = dfCodes[\"material\"]"
   ]
  },
  {
   "cell_type": "code",
   "execution_count": 2,
   "metadata": {},
   "outputs": [
    {
     "data": {
      "text/html": [
       "<div>\n",
       "<style scoped>\n",
       "    .dataframe tbody tr th:only-of-type {\n",
       "        vertical-align: middle;\n",
       "    }\n",
       "\n",
       "    .dataframe tbody tr th {\n",
       "        vertical-align: top;\n",
       "    }\n",
       "\n",
       "    .dataframe thead th {\n",
       "        text-align: right;\n",
       "    }\n",
       "</style>\n",
       "<table border=\"1\" class=\"dataframe\">\n",
       "  <thead>\n",
       "    <tr style=\"text-align: right;\">\n",
       "      <th></th>\n",
       "      <th>loc_date</th>\n",
       "      <th>location</th>\n",
       "      <th>date</th>\n",
       "      <th>doy</th>\n",
       "      <th>water_name_slug</th>\n",
       "      <th>water</th>\n",
       "      <th>river_bassin</th>\n",
       "      <th>city</th>\n",
       "      <th>code</th>\n",
       "      <th>quantity</th>\n",
       "      <th>pcs_m</th>\n",
       "      <th>slug</th>\n",
       "    </tr>\n",
       "  </thead>\n",
       "  <tbody>\n",
       "    <tr>\n",
       "      <th>0</th>\n",
       "      <td>('aabach', '2020-10-22')</td>\n",
       "      <td>aabach</td>\n",
       "      <td>2020-10-22</td>\n",
       "      <td>296</td>\n",
       "      <td>zurichsee</td>\n",
       "      <td>l</td>\n",
       "      <td>linth</td>\n",
       "      <td>Schmerikon</td>\n",
       "      <td>G1</td>\n",
       "      <td>0</td>\n",
       "      <td>0.0</td>\n",
       "      <td>aabach</td>\n",
       "    </tr>\n",
       "    <tr>\n",
       "      <th>1</th>\n",
       "      <td>('aabach', '2020-10-22')</td>\n",
       "      <td>aabach</td>\n",
       "      <td>2020-10-22</td>\n",
       "      <td>296</td>\n",
       "      <td>zurichsee</td>\n",
       "      <td>l</td>\n",
       "      <td>linth</td>\n",
       "      <td>Schmerikon</td>\n",
       "      <td>G10</td>\n",
       "      <td>0</td>\n",
       "      <td>0.0</td>\n",
       "      <td>aabach</td>\n",
       "    </tr>\n",
       "    <tr>\n",
       "      <th>2</th>\n",
       "      <td>('aabach', '2020-10-22')</td>\n",
       "      <td>aabach</td>\n",
       "      <td>2020-10-22</td>\n",
       "      <td>296</td>\n",
       "      <td>zurichsee</td>\n",
       "      <td>l</td>\n",
       "      <td>linth</td>\n",
       "      <td>Schmerikon</td>\n",
       "      <td>G100</td>\n",
       "      <td>0</td>\n",
       "      <td>0.0</td>\n",
       "      <td>aabach</td>\n",
       "    </tr>\n",
       "    <tr>\n",
       "      <th>3</th>\n",
       "      <td>('aabach', '2020-10-22')</td>\n",
       "      <td>aabach</td>\n",
       "      <td>2020-10-22</td>\n",
       "      <td>296</td>\n",
       "      <td>zurichsee</td>\n",
       "      <td>l</td>\n",
       "      <td>linth</td>\n",
       "      <td>Schmerikon</td>\n",
       "      <td>G101</td>\n",
       "      <td>0</td>\n",
       "      <td>0.0</td>\n",
       "      <td>aabach</td>\n",
       "    </tr>\n",
       "    <tr>\n",
       "      <th>4</th>\n",
       "      <td>('aabach', '2020-10-22')</td>\n",
       "      <td>aabach</td>\n",
       "      <td>2020-10-22</td>\n",
       "      <td>296</td>\n",
       "      <td>zurichsee</td>\n",
       "      <td>l</td>\n",
       "      <td>linth</td>\n",
       "      <td>Schmerikon</td>\n",
       "      <td>G102</td>\n",
       "      <td>0</td>\n",
       "      <td>0.0</td>\n",
       "      <td>aabach</td>\n",
       "    </tr>\n",
       "  </tbody>\n",
       "</table>\n",
       "</div>"
      ],
      "text/plain": [
       "                   loc_date location       date  doy water_name_slug water  \\\n",
       "0  ('aabach', '2020-10-22')   aabach 2020-10-22  296       zurichsee     l   \n",
       "1  ('aabach', '2020-10-22')   aabach 2020-10-22  296       zurichsee     l   \n",
       "2  ('aabach', '2020-10-22')   aabach 2020-10-22  296       zurichsee     l   \n",
       "3  ('aabach', '2020-10-22')   aabach 2020-10-22  296       zurichsee     l   \n",
       "4  ('aabach', '2020-10-22')   aabach 2020-10-22  296       zurichsee     l   \n",
       "\n",
       "  river_bassin        city  code  quantity  pcs_m    slug  \n",
       "0        linth  Schmerikon    G1         0    0.0  aabach  \n",
       "1        linth  Schmerikon   G10         0    0.0  aabach  \n",
       "2        linth  Schmerikon  G100         0    0.0  aabach  \n",
       "3        linth  Schmerikon  G101         0    0.0  aabach  \n",
       "4        linth  Schmerikon  G102         0    0.0  aabach  "
      ]
     },
     "execution_count": 2,
     "metadata": {},
     "output_type": "execute_result"
    }
   ],
   "source": [
    "all_data.head()"
   ]
  },
  {
   "cell_type": "code",
   "execution_count": 3,
   "metadata": {
    "editable": true,
    "slideshow": {
     "slide_type": ""
    },
    "tags": []
   },
   "outputs": [],
   "source": [
    "def data_profile(all_data):\n",
    "    date_min = all_data[\"date\"].min()\n",
    "    date_max = all_data[\"date\"].max()\n",
    "\n",
    "    if \"location\" in all_data.columns:\n",
    "        nlocations = all_data.location.nunique()\n",
    "    else:\n",
    "        nlocations = all_data.slug.nunique()\n",
    "    ncodes = all_data.code.nunique()\n",
    "    ncities = all_data.city.nunique()\n",
    "    nlakes = all_data[all_data.water == \"l\"].water_name_slug.nunique()\n",
    "    nrivers = all_data[all_data.water == \"r\"].water_name_slug.nunique()\n",
    "    quantity = all_data.quantity.sum()\n",
    "    nsamples = all_data.loc_date.nunique()\n",
    "\n",
    "    a_profile = dict(\n",
    "        start = date_min,\n",
    "        end = date_max,\n",
    "        nlocations = nlocations,\n",
    "        ncodes = ncodes,\n",
    "        ncities = ncities,\n",
    "        nlakes = nlakes,\n",
    "        nrivers = nrivers,\n",
    "        quantity = quantity,\n",
    "        nsamples = nsamples\n",
    "    )\n",
    "\n",
    "    return a_profile  "
   ]
  },
  {
   "cell_type": "code",
   "execution_count": 4,
   "metadata": {
    "editable": true,
    "slideshow": {
     "slide_type": ""
    },
    "tags": []
   },
   "outputs": [],
   "source": [
    "# this defines the css rules for the note-book table displays\n",
    "header_row = {'selector': 'th:nth-child(1)', 'props': f'background-color: #FFF; text-align:right'}\n",
    "even_rows = {\"selector\": 'tr:nth-child(even)', 'props': f'background-color: rgba(139, 69, 19, 0.08);'}\n",
    "odd_rows = {'selector': 'tr:nth-child(odd)', 'props': 'background: #FFF;'}\n",
    "table_font = {'selector': 'tr', 'props': 'font-size: 10px;'}\n",
    "table_data = {'selector': 'td', 'props': 'padding: 6px;'}\n",
    "table_caption = {'selector': 'caption', 'props': 'font-size: 14px; font-style: italic; caption-side: bottom; text-align: left; margin-top: 10px'}\n",
    "table_css_styles = [even_rows, odd_rows, table_font, header_row, table_caption]\n",
    "\n",
    "table_large_data = {'selector': 'tr', 'props': 'font-size: 14px;'}\n",
    "table_large_font = [even_rows, odd_rows, table_large_data, header_row, table_caption]"
   ]
  },
  {
   "cell_type": "code",
   "execution_count": 5,
   "metadata": {},
   "outputs": [
    {
     "data": {
      "text/html": [
       "<div>\n",
       "<style scoped>\n",
       "    .dataframe tbody tr th:only-of-type {\n",
       "        vertical-align: middle;\n",
       "    }\n",
       "\n",
       "    .dataframe tbody tr th {\n",
       "        vertical-align: top;\n",
       "    }\n",
       "\n",
       "    .dataframe thead th {\n",
       "        text-align: right;\n",
       "    }\n",
       "</style>\n",
       "<table border=\"1\" class=\"dataframe\">\n",
       "  <thead>\n",
       "    <tr style=\"text-align: right;\">\n",
       "      <th></th>\n",
       "      <th>start</th>\n",
       "      <th>end</th>\n",
       "      <th>nlocations</th>\n",
       "      <th>ncodes</th>\n",
       "      <th>ncities</th>\n",
       "      <th>nlakes</th>\n",
       "      <th>nrivers</th>\n",
       "      <th>quantity</th>\n",
       "      <th>nsamples</th>\n",
       "    </tr>\n",
       "  </thead>\n",
       "  <tbody>\n",
       "    <tr>\n",
       "      <th>0</th>\n",
       "      <td>2015-11-23</td>\n",
       "      <td>2021-11-14</td>\n",
       "      <td>232</td>\n",
       "      <td>228</td>\n",
       "      <td>131</td>\n",
       "      <td>16</td>\n",
       "      <td>38</td>\n",
       "      <td>192380</td>\n",
       "      <td>1432</td>\n",
       "    </tr>\n",
       "  </tbody>\n",
       "</table>\n",
       "</div>"
      ],
      "text/plain": [
       "       start        end  nlocations  ncodes  ncities  nlakes  nrivers  \\\n",
       "0 2015-11-23 2021-11-14         232     228      131      16       38   \n",
       "\n",
       "   quantity  nsamples  \n",
       "0    192380      1432  "
      ]
     },
     "execution_count": 5,
     "metadata": {},
     "output_type": "execute_result"
    }
   ],
   "source": [
    "summary_iqaasl_data = [data_profile(all_data)]\n",
    "\n",
    "pd.DataFrame(summary_iqaasl_data)"
   ]
  },
  {
   "cell_type": "code",
   "execution_count": 6,
   "metadata": {
    "editable": true,
    "slideshow": {
     "slide_type": ""
    },
    "tags": []
   },
   "outputs": [],
   "source": [
    "cois = cities_of_interest = ['Saint-Sulpice (VD)', 'Saint Gingolph', 'Genéve', 'Cully', 'Vevey']\n",
    "toi = trash_of_interest = ['Gfrags', 'G30', 'G27', 'Gfoam', 'G95', 'G144', 'G98','Gcaps', 'G67', 'G35', 'G89', 'G31', 'G32', 'G33', 'G25', 'G70', 'G10']\n",
    "some_quants = [.03, .25, .48, .5, .52, .75, .97]\n",
    "end_training_date = \"2021-05-31\"\n",
    "begin_training_date = \"2015-11-15\"\n",
    "\n",
    "use_groups =  {\n",
    "    'Personal hygiene':['G95', 'G100'],\n",
    "    'Personal consumption':[\n",
    "    'G30', 'Gcaps', 'G10', 'G25', 'G27', 'G35', 'G31', 'G32', 'G33'],\n",
    "    'Industrial/professional': ['G67', 'G89', 'Gfoam'],\n",
    "    'Unknown':['Gfrags'],\n",
    "    'Recreation/sports': ['G70']\n",
    "}\n",
    "\n",
    "use_groups_i =  {\n",
    "    'G95':'Personal hygiene',\n",
    "    'G100':'Personal hygiene', \n",
    "    'G30':'Personal consumption',\n",
    "    'Gcaps':'Personal consumption',\n",
    "    'G10':'Personal consumption',\n",
    "    'G25':'Personal consumption',\n",
    "    'G27':'Personal consumption',\n",
    "    'G35':'Personal consumption',\n",
    "    'G31':'Personal consumption',\n",
    "    'G32':'Personal consumption',\n",
    "    'G33':'Personal consumption',\n",
    "    'G144':'Personal hygiene',\n",
    "    'G98': 'Personal hygiene',\n",
    "    'G67':'Industrial/professional',\n",
    "    'G89':'Industrial/professional',\n",
    "    'Gfoam':'Industrial/professional',\n",
    "    'Gfrags':'Unknown',\n",
    "    'G70':'Recreation/sports'\n",
    "}\n",
    "\n",
    "abbrev_use_g = {'Unknown':'Unk','Personal consumption':'Pc', 'Personal hygiene': 'Ph',    'Recreation/sports': 'Rc', 'Industrial/professional':'Ip'}\n",
    "\n",
    "column_names_groups = {v:k for k,v in abbrev_use_g.items()}\n",
    "code_groups = list(column_names_groups.keys())\n",
    "\n",
    "lake = 'lac-leman'\n",
    "\n",
    "not_these = ['amphion', 'anthy', 'excenevex', 'lugrin', 'meillerie', 'saint-disdille', 'tougues']\n",
    "                               \n",
    "def training_testing_compare(lh_pcs, pcs, post_quants, prior_quants):\n",
    "    \n",
    "\n",
    "    # total_testing = np.sum(lh_pcs)\n",
    "    # lh_ptotal = lh_data.quantity.sum()/total_testing\n",
    "    total_training = len(pcs) + len(lh_pcs)\n",
    "    prior_weight = len(pcs)/total_training\n",
    "    lh_weight = len(lh_pcs)/total_training\n",
    "\n",
    "    number_of_samples = {\"Training\": len(pcs), \"Testing\": len(lh_pcs)}\n",
    "    weights = {\"Training\":prior_weight, \"Testing\": lh_weight}\n",
    "    observed_median = {\"Training\":np.median(pcs), \"Testing\": np.median(lh_pcs)}\n",
    "    observed_average = {\"Training\":np.mean(pcs), \"Testing\": np.mean(lh_pcs)}\n",
    "    observed_25 = {\"Training\": prior_quants[1], \"Testing\":post_quants[1]}\n",
    "    observed_75 = {\"Training\": prior_quants[5], \"Testing\":post_quants[5]}\n",
    "    index = [\"weight all samples\", \"Number of samples\", \"Median\", \"Average\", \"25th percentile\", \"75th percentile\"]\n",
    "    components = [weights, number_of_samples, observed_median, observed_average, observed_25, observed_75]\n",
    "    unks_sum_table = pd.DataFrame(components, index=index).style.format(precision=2).set_table_styles(table_large_font)\n",
    "    styled = unks_sum_table.format(formatter=\"{:.0f}\", subset=pd.IndexSlice[['Number of samples'], :])\n",
    "    \n",
    "    return styled"
   ]
  },
  {
   "cell_type": "code",
   "execution_count": 7,
   "metadata": {
    "editable": true,
    "slideshow": {
     "slide_type": ""
    },
    "tags": []
   },
   "outputs": [
    {
     "data": {
      "text/html": [
       "<div>\n",
       "<style scoped>\n",
       "    .dataframe tbody tr th:only-of-type {\n",
       "        vertical-align: middle;\n",
       "    }\n",
       "\n",
       "    .dataframe tbody tr th {\n",
       "        vertical-align: top;\n",
       "    }\n",
       "\n",
       "    .dataframe thead th {\n",
       "        text-align: right;\n",
       "    }\n",
       "</style>\n",
       "<table border=\"1\" class=\"dataframe\">\n",
       "  <thead>\n",
       "    <tr style=\"text-align: right;\">\n",
       "      <th></th>\n",
       "      <th>location</th>\n",
       "      <th>date</th>\n",
       "      <th>area</th>\n",
       "      <th>length</th>\n",
       "      <th>project</th>\n",
       "      <th>doy</th>\n",
       "      <th>quantity</th>\n",
       "      <th>code</th>\n",
       "      <th>loc_date</th>\n",
       "      <th>pcs/m</th>\n",
       "      <th>pcs/m²</th>\n",
       "      <th>slug</th>\n",
       "      <th>Project</th>\n",
       "      <th>city</th>\n",
       "      <th>water_name_slug</th>\n",
       "      <th>water</th>\n",
       "    </tr>\n",
       "  </thead>\n",
       "  <tbody>\n",
       "    <tr>\n",
       "      <th>0</th>\n",
       "      <td>amphion</td>\n",
       "      <td>2022-02-01</td>\n",
       "      <td>440.0</td>\n",
       "      <td>91.0</td>\n",
       "      <td>plastock</td>\n",
       "      <td>32</td>\n",
       "      <td>1</td>\n",
       "      <td>G113</td>\n",
       "      <td>('amphion', '2022-02-01')</td>\n",
       "      <td>0.010989</td>\n",
       "      <td>0.002273</td>\n",
       "      <td>amphion</td>\n",
       "      <td>Testing</td>\n",
       "      <td>Amphion</td>\n",
       "      <td>lac-leman</td>\n",
       "      <td>l</td>\n",
       "    </tr>\n",
       "    <tr>\n",
       "      <th>1</th>\n",
       "      <td>amphion</td>\n",
       "      <td>2022-02-01</td>\n",
       "      <td>440.0</td>\n",
       "      <td>91.0</td>\n",
       "      <td>plastock</td>\n",
       "      <td>32</td>\n",
       "      <td>40</td>\n",
       "      <td>G114</td>\n",
       "      <td>('amphion', '2022-02-01')</td>\n",
       "      <td>0.439560</td>\n",
       "      <td>0.090909</td>\n",
       "      <td>amphion</td>\n",
       "      <td>Testing</td>\n",
       "      <td>Amphion</td>\n",
       "      <td>lac-leman</td>\n",
       "      <td>l</td>\n",
       "    </tr>\n",
       "    <tr>\n",
       "      <th>2</th>\n",
       "      <td>amphion</td>\n",
       "      <td>2022-02-01</td>\n",
       "      <td>440.0</td>\n",
       "      <td>91.0</td>\n",
       "      <td>plastock</td>\n",
       "      <td>32</td>\n",
       "      <td>1</td>\n",
       "      <td>G131</td>\n",
       "      <td>('amphion', '2022-02-01')</td>\n",
       "      <td>0.010989</td>\n",
       "      <td>0.002273</td>\n",
       "      <td>amphion</td>\n",
       "      <td>Testing</td>\n",
       "      <td>Amphion</td>\n",
       "      <td>lac-leman</td>\n",
       "      <td>l</td>\n",
       "    </tr>\n",
       "    <tr>\n",
       "      <th>3</th>\n",
       "      <td>amphion</td>\n",
       "      <td>2022-02-01</td>\n",
       "      <td>440.0</td>\n",
       "      <td>91.0</td>\n",
       "      <td>plastock</td>\n",
       "      <td>32</td>\n",
       "      <td>1</td>\n",
       "      <td>G148</td>\n",
       "      <td>('amphion', '2022-02-01')</td>\n",
       "      <td>0.010989</td>\n",
       "      <td>0.002273</td>\n",
       "      <td>amphion</td>\n",
       "      <td>Testing</td>\n",
       "      <td>Amphion</td>\n",
       "      <td>lac-leman</td>\n",
       "      <td>l</td>\n",
       "    </tr>\n",
       "    <tr>\n",
       "      <th>4</th>\n",
       "      <td>amphion</td>\n",
       "      <td>2022-02-01</td>\n",
       "      <td>440.0</td>\n",
       "      <td>91.0</td>\n",
       "      <td>plastock</td>\n",
       "      <td>32</td>\n",
       "      <td>2</td>\n",
       "      <td>G211</td>\n",
       "      <td>('amphion', '2022-02-01')</td>\n",
       "      <td>0.021978</td>\n",
       "      <td>0.004545</td>\n",
       "      <td>amphion</td>\n",
       "      <td>Testing</td>\n",
       "      <td>Amphion</td>\n",
       "      <td>lac-leman</td>\n",
       "      <td>l</td>\n",
       "    </tr>\n",
       "  </tbody>\n",
       "</table>\n",
       "</div>"
      ],
      "text/plain": [
       "  location       date   area  length   project  doy  quantity  code  \\\n",
       "0  amphion 2022-02-01  440.0    91.0  plastock   32         1  G113   \n",
       "1  amphion 2022-02-01  440.0    91.0  plastock   32        40  G114   \n",
       "2  amphion 2022-02-01  440.0    91.0  plastock   32         1  G131   \n",
       "3  amphion 2022-02-01  440.0    91.0  plastock   32         1  G148   \n",
       "4  amphion 2022-02-01  440.0    91.0  plastock   32         2  G211   \n",
       "\n",
       "                    loc_date     pcs/m    pcs/m²     slug  Project     city  \\\n",
       "0  ('amphion', '2022-02-01')  0.010989  0.002273  amphion  Testing  Amphion   \n",
       "1  ('amphion', '2022-02-01')  0.439560  0.090909  amphion  Testing  Amphion   \n",
       "2  ('amphion', '2022-02-01')  0.010989  0.002273  amphion  Testing  Amphion   \n",
       "3  ('amphion', '2022-02-01')  0.010989  0.002273  amphion  Testing  Amphion   \n",
       "4  ('amphion', '2022-02-01')  0.021978  0.004545  amphion  Testing  Amphion   \n",
       "\n",
       "  water_name_slug water  \n",
       "0       lac-leman     l  \n",
       "1       lac-leman     l  \n",
       "2       lac-leman     l  \n",
       "3       lac-leman     l  \n",
       "4       lac-leman     l  "
      ]
     },
     "execution_count": 7,
     "metadata": {},
     "output_type": "execute_result"
    }
   ],
   "source": [
    "plastock = pd.read_csv(\"resources/data/u_pstk.csv\")\n",
    "plastock[\"date\"] = pd.to_datetime(plastock['date'])\n",
    "plastock[\"water_name_slug\"] = \"lac-leman\"\n",
    "plastock[\"water\"] = \"l\"\n",
    "plastock.head()"
   ]
  },
  {
   "cell_type": "code",
   "execution_count": 8,
   "metadata": {},
   "outputs": [
    {
     "data": {
      "text/html": [
       "<div>\n",
       "<style scoped>\n",
       "    .dataframe tbody tr th:only-of-type {\n",
       "        vertical-align: middle;\n",
       "    }\n",
       "\n",
       "    .dataframe tbody tr th {\n",
       "        vertical-align: top;\n",
       "    }\n",
       "\n",
       "    .dataframe thead th {\n",
       "        text-align: right;\n",
       "    }\n",
       "</style>\n",
       "<table border=\"1\" class=\"dataframe\">\n",
       "  <thead>\n",
       "    <tr style=\"text-align: right;\">\n",
       "      <th></th>\n",
       "      <th>start</th>\n",
       "      <th>end</th>\n",
       "      <th>nlocations</th>\n",
       "      <th>ncodes</th>\n",
       "      <th>ncities</th>\n",
       "      <th>nlakes</th>\n",
       "      <th>nrivers</th>\n",
       "      <th>quantity</th>\n",
       "      <th>nsamples</th>\n",
       "    </tr>\n",
       "  </thead>\n",
       "  <tbody>\n",
       "    <tr>\n",
       "      <th>0</th>\n",
       "      <td>2022-01-10</td>\n",
       "      <td>2022-12-17</td>\n",
       "      <td>25</td>\n",
       "      <td>74</td>\n",
       "      <td>24</td>\n",
       "      <td>1</td>\n",
       "      <td>0</td>\n",
       "      <td>28421</td>\n",
       "      <td>95</td>\n",
       "    </tr>\n",
       "  </tbody>\n",
       "</table>\n",
       "</div>"
      ],
      "text/plain": [
       "       start        end  nlocations  ncodes  ncities  nlakes  nrivers  \\\n",
       "0 2022-01-10 2022-12-17          25      74       24       1        0   \n",
       "\n",
       "   quantity  nsamples  \n",
       "0     28421        95  "
      ]
     },
     "execution_count": 8,
     "metadata": {},
     "output_type": "execute_result"
    }
   ],
   "source": [
    "summary_plastock_data = [data_profile(plastock)]\n",
    "\n",
    "pd.DataFrame(summary_plastock_data)"
   ]
  },
  {
   "cell_type": "code",
   "execution_count": 9,
   "metadata": {
    "editable": true,
    "slideshow": {
     "slide_type": ""
    },
    "tags": []
   },
   "outputs": [
    {
     "data": {
      "text/html": [
       "<div>\n",
       "<style scoped>\n",
       "    .dataframe tbody tr th:only-of-type {\n",
       "        vertical-align: middle;\n",
       "    }\n",
       "\n",
       "    .dataframe tbody tr th {\n",
       "        vertical-align: top;\n",
       "    }\n",
       "\n",
       "    .dataframe thead th {\n",
       "        text-align: right;\n",
       "    }\n",
       "</style>\n",
       "<table border=\"1\" class=\"dataframe\">\n",
       "  <thead>\n",
       "    <tr style=\"text-align: right;\">\n",
       "      <th></th>\n",
       "      <th>location</th>\n",
       "      <th>loc_date</th>\n",
       "      <th>Orientation</th>\n",
       "      <th>latitude</th>\n",
       "      <th>longitude</th>\n",
       "      <th>position</th>\n",
       "      <th>substrate</th>\n",
       "      <th>area</th>\n",
       "      <th>time</th>\n",
       "      <th>length</th>\n",
       "      <th>city</th>\n",
       "      <th>slug</th>\n",
       "    </tr>\n",
       "  </thead>\n",
       "  <tbody>\n",
       "    <tr>\n",
       "      <th>0</th>\n",
       "      <td>Amphion</td>\n",
       "      <td>74_Amp_1</td>\n",
       "      <td>NE</td>\n",
       "      <td>46.398117</td>\n",
       "      <td>6.534083</td>\n",
       "      <td>1</td>\n",
       "      <td>4</td>\n",
       "      <td>98</td>\n",
       "      <td>50</td>\n",
       "      <td>91</td>\n",
       "      <td>Amphion</td>\n",
       "      <td>amphion</td>\n",
       "    </tr>\n",
       "    <tr>\n",
       "      <th>1</th>\n",
       "      <td>Amphion</td>\n",
       "      <td>74_Amp_10</td>\n",
       "      <td>NNE</td>\n",
       "      <td>46.397900</td>\n",
       "      <td>6.534450</td>\n",
       "      <td>2</td>\n",
       "      <td>4</td>\n",
       "      <td>98</td>\n",
       "      <td>50</td>\n",
       "      <td>91</td>\n",
       "      <td>Amphion</td>\n",
       "      <td>amphion</td>\n",
       "    </tr>\n",
       "    <tr>\n",
       "      <th>2</th>\n",
       "      <td>Amphion</td>\n",
       "      <td>74_Amp_2</td>\n",
       "      <td>NNE</td>\n",
       "      <td>46.398017</td>\n",
       "      <td>6.534250</td>\n",
       "      <td>1</td>\n",
       "      <td>4</td>\n",
       "      <td>98</td>\n",
       "      <td>50</td>\n",
       "      <td>91</td>\n",
       "      <td>Amphion</td>\n",
       "      <td>amphion</td>\n",
       "    </tr>\n",
       "    <tr>\n",
       "      <th>3</th>\n",
       "      <td>Amphion</td>\n",
       "      <td>74_Amp_3</td>\n",
       "      <td>NE</td>\n",
       "      <td>46.398000</td>\n",
       "      <td>6.534350</td>\n",
       "      <td>1</td>\n",
       "      <td>4</td>\n",
       "      <td>98</td>\n",
       "      <td>50</td>\n",
       "      <td>91</td>\n",
       "      <td>Amphion</td>\n",
       "      <td>amphion</td>\n",
       "    </tr>\n",
       "    <tr>\n",
       "      <th>4</th>\n",
       "      <td>Amphion</td>\n",
       "      <td>74_Amp_4</td>\n",
       "      <td>NNE</td>\n",
       "      <td>46.397917</td>\n",
       "      <td>6.534583</td>\n",
       "      <td>1</td>\n",
       "      <td>4</td>\n",
       "      <td>98</td>\n",
       "      <td>50</td>\n",
       "      <td>91</td>\n",
       "      <td>Amphion</td>\n",
       "      <td>amphion</td>\n",
       "    </tr>\n",
       "  </tbody>\n",
       "</table>\n",
       "</div>"
      ],
      "text/plain": [
       "  location   loc_date Orientation   latitude  longitude  position  substrate  \\\n",
       "0  Amphion   74_Amp_1          NE  46.398117   6.534083         1          4   \n",
       "1  Amphion  74_Amp_10         NNE  46.397900   6.534450         2          4   \n",
       "2  Amphion   74_Amp_2         NNE  46.398017   6.534250         1          4   \n",
       "3  Amphion   74_Amp_3          NE  46.398000   6.534350         1          4   \n",
       "4  Amphion   74_Amp_4         NNE  46.397917   6.534583         1          4   \n",
       "\n",
       "   area  time  length     city     slug  \n",
       "0    98    50      91  Amphion  amphion  \n",
       "1    98    50      91  Amphion  amphion  \n",
       "2    98    50      91  Amphion  amphion  \n",
       "3    98    50      91  Amphion  amphion  \n",
       "4    98    50      91  Amphion  amphion  "
      ]
     },
     "execution_count": 9,
     "metadata": {},
     "output_type": "execute_result"
    }
   ],
   "source": [
    "pBeaches = pd.read_csv(\"resources/data/u_asl_beaches.csv\")\n",
    "pBeaches.head()"
   ]
  },
  {
   "cell_type": "code",
   "execution_count": 10,
   "metadata": {
    "editable": true,
    "slideshow": {
     "slide_type": ""
    },
    "tags": []
   },
   "outputs": [
    {
     "data": {
      "text/html": [
       "<div>\n",
       "<style scoped>\n",
       "    .dataframe tbody tr th:only-of-type {\n",
       "        vertical-align: middle;\n",
       "    }\n",
       "\n",
       "    .dataframe tbody tr th {\n",
       "        vertical-align: top;\n",
       "    }\n",
       "\n",
       "    .dataframe thead th {\n",
       "        text-align: right;\n",
       "    }\n",
       "</style>\n",
       "<table border=\"1\" class=\"dataframe\">\n",
       "  <thead>\n",
       "    <tr style=\"text-align: right;\">\n",
       "      <th></th>\n",
       "      <th>loc_date</th>\n",
       "      <th>slug</th>\n",
       "      <th>city</th>\n",
       "      <th>water_name_slug</th>\n",
       "      <th>date</th>\n",
       "      <th>doy</th>\n",
       "      <th>Project</th>\n",
       "      <th>code</th>\n",
       "      <th>pcs/m</th>\n",
       "      <th>quantity</th>\n",
       "      <th>water</th>\n",
       "    </tr>\n",
       "  </thead>\n",
       "  <tbody>\n",
       "    <tr>\n",
       "      <th>0</th>\n",
       "      <td>('anarchy-beach', '2018-04-02')</td>\n",
       "      <td>anarchy-beach</td>\n",
       "      <td>La Tour-de-Peilz</td>\n",
       "      <td>lac-leman</td>\n",
       "      <td>2018-04-02</td>\n",
       "      <td>92</td>\n",
       "      <td>Training</td>\n",
       "      <td>G1</td>\n",
       "      <td>0.00</td>\n",
       "      <td>0.0</td>\n",
       "      <td>l</td>\n",
       "    </tr>\n",
       "    <tr>\n",
       "      <th>1</th>\n",
       "      <td>('anarchy-beach', '2018-04-02')</td>\n",
       "      <td>anarchy-beach</td>\n",
       "      <td>La Tour-de-Peilz</td>\n",
       "      <td>lac-leman</td>\n",
       "      <td>2018-04-02</td>\n",
       "      <td>92</td>\n",
       "      <td>Training</td>\n",
       "      <td>G10</td>\n",
       "      <td>0.06</td>\n",
       "      <td>4.0</td>\n",
       "      <td>l</td>\n",
       "    </tr>\n",
       "    <tr>\n",
       "      <th>2</th>\n",
       "      <td>('anarchy-beach', '2018-04-02')</td>\n",
       "      <td>anarchy-beach</td>\n",
       "      <td>La Tour-de-Peilz</td>\n",
       "      <td>lac-leman</td>\n",
       "      <td>2018-04-02</td>\n",
       "      <td>92</td>\n",
       "      <td>Training</td>\n",
       "      <td>G100</td>\n",
       "      <td>0.14</td>\n",
       "      <td>10.0</td>\n",
       "      <td>l</td>\n",
       "    </tr>\n",
       "    <tr>\n",
       "      <th>3</th>\n",
       "      <td>('anarchy-beach', '2018-04-02')</td>\n",
       "      <td>anarchy-beach</td>\n",
       "      <td>La Tour-de-Peilz</td>\n",
       "      <td>lac-leman</td>\n",
       "      <td>2018-04-02</td>\n",
       "      <td>92</td>\n",
       "      <td>Training</td>\n",
       "      <td>G101</td>\n",
       "      <td>0.00</td>\n",
       "      <td>0.0</td>\n",
       "      <td>l</td>\n",
       "    </tr>\n",
       "    <tr>\n",
       "      <th>4</th>\n",
       "      <td>('anarchy-beach', '2018-04-02')</td>\n",
       "      <td>anarchy-beach</td>\n",
       "      <td>La Tour-de-Peilz</td>\n",
       "      <td>lac-leman</td>\n",
       "      <td>2018-04-02</td>\n",
       "      <td>92</td>\n",
       "      <td>Training</td>\n",
       "      <td>G102</td>\n",
       "      <td>0.00</td>\n",
       "      <td>0.0</td>\n",
       "      <td>l</td>\n",
       "    </tr>\n",
       "  </tbody>\n",
       "</table>\n",
       "</div>"
      ],
      "text/plain": [
       "                          loc_date           slug              city  \\\n",
       "0  ('anarchy-beach', '2018-04-02')  anarchy-beach  La Tour-de-Peilz   \n",
       "1  ('anarchy-beach', '2018-04-02')  anarchy-beach  La Tour-de-Peilz   \n",
       "2  ('anarchy-beach', '2018-04-02')  anarchy-beach  La Tour-de-Peilz   \n",
       "3  ('anarchy-beach', '2018-04-02')  anarchy-beach  La Tour-de-Peilz   \n",
       "4  ('anarchy-beach', '2018-04-02')  anarchy-beach  La Tour-de-Peilz   \n",
       "\n",
       "  water_name_slug        date  doy   Project  code  pcs/m  quantity water  \n",
       "0       lac-leman  2018-04-02   92  Training    G1   0.00       0.0     l  \n",
       "1       lac-leman  2018-04-02   92  Training   G10   0.06       4.0     l  \n",
       "2       lac-leman  2018-04-02   92  Training  G100   0.14      10.0     l  \n",
       "3       lac-leman  2018-04-02   92  Training  G101   0.00       0.0     l  \n",
       "4       lac-leman  2018-04-02   92  Training  G102   0.00       0.0     l  "
      ]
     },
     "execution_count": 10,
     "metadata": {},
     "output_type": "execute_result"
    }
   ],
   "source": [
    "cbdi = pd.read_csv(\"resources/data/u_pstk_iqaasl_all.csv\")\n",
    "cbdi[\"water\"] = \"l\"\n",
    "cbdi[\"water_name_slug\"] = \"lac-leman\"\n",
    "cbd = cbdi[cbdi.code.isin(toi)]\n",
    "cbdi.head()"
   ]
  },
  {
   "cell_type": "code",
   "execution_count": 11,
   "metadata": {},
   "outputs": [
    {
     "data": {
      "text/html": [
       "<div>\n",
       "<style scoped>\n",
       "    .dataframe tbody tr th:only-of-type {\n",
       "        vertical-align: middle;\n",
       "    }\n",
       "\n",
       "    .dataframe tbody tr th {\n",
       "        vertical-align: top;\n",
       "    }\n",
       "\n",
       "    .dataframe thead th {\n",
       "        text-align: right;\n",
       "    }\n",
       "</style>\n",
       "<table border=\"1\" class=\"dataframe\">\n",
       "  <thead>\n",
       "    <tr style=\"text-align: right;\">\n",
       "      <th></th>\n",
       "      <th>start</th>\n",
       "      <th>end</th>\n",
       "      <th>nlocations</th>\n",
       "      <th>ncodes</th>\n",
       "      <th>ncities</th>\n",
       "      <th>nlakes</th>\n",
       "      <th>nrivers</th>\n",
       "      <th>quantity</th>\n",
       "      <th>nsamples</th>\n",
       "    </tr>\n",
       "  </thead>\n",
       "  <tbody>\n",
       "    <tr>\n",
       "      <th>0</th>\n",
       "      <td>2015-11-23</td>\n",
       "      <td>2022-12-17</td>\n",
       "      <td>73</td>\n",
       "      <td>231</td>\n",
       "      <td>38</td>\n",
       "      <td>1</td>\n",
       "      <td>0</td>\n",
       "      <td>108611.0</td>\n",
       "      <td>364</td>\n",
       "    </tr>\n",
       "  </tbody>\n",
       "</table>\n",
       "</div>"
      ],
      "text/plain": [
       "        start         end  nlocations  ncodes  ncities  nlakes  nrivers  \\\n",
       "0  2015-11-23  2022-12-17          73     231       38       1        0   \n",
       "\n",
       "   quantity  nsamples  \n",
       "0  108611.0       364  "
      ]
     },
     "execution_count": 11,
     "metadata": {},
     "output_type": "execute_result"
    }
   ],
   "source": [
    "summary_cbdi = [data_profile(cbdi)]\n",
    "\n",
    "pd.DataFrame(summary_cbdi)"
   ]
  },
  {
   "cell_type": "code",
   "execution_count": 12,
   "metadata": {
    "editable": true,
    "slideshow": {
     "slide_type": ""
    },
    "tags": []
   },
   "outputs": [
    {
     "data": {
      "text/html": [
       "<div>\n",
       "<style scoped>\n",
       "    .dataframe tbody tr th:only-of-type {\n",
       "        vertical-align: middle;\n",
       "    }\n",
       "\n",
       "    .dataframe tbody tr th {\n",
       "        vertical-align: top;\n",
       "    }\n",
       "\n",
       "    .dataframe thead th {\n",
       "        text-align: right;\n",
       "    }\n",
       "</style>\n",
       "<table border=\"1\" class=\"dataframe\">\n",
       "  <thead>\n",
       "    <tr style=\"text-align: right;\">\n",
       "      <th></th>\n",
       "      <th>start</th>\n",
       "      <th>end</th>\n",
       "      <th>nlocations</th>\n",
       "      <th>ncodes</th>\n",
       "      <th>ncities</th>\n",
       "      <th>nlakes</th>\n",
       "      <th>nrivers</th>\n",
       "      <th>quantity</th>\n",
       "      <th>nsamples</th>\n",
       "    </tr>\n",
       "  </thead>\n",
       "  <tbody>\n",
       "    <tr>\n",
       "      <th>0</th>\n",
       "      <td>2021-06-02</td>\n",
       "      <td>2022-10-06</td>\n",
       "      <td>5</td>\n",
       "      <td>228</td>\n",
       "      <td>3</td>\n",
       "      <td>1</td>\n",
       "      <td>0</td>\n",
       "      <td>2938</td>\n",
       "      <td>6</td>\n",
       "    </tr>\n",
       "  </tbody>\n",
       "</table>\n",
       "</div>"
      ],
      "text/plain": [
       "       start        end  nlocations  ncodes  ncities  nlakes  nrivers  \\\n",
       "0 2021-06-02 2022-10-06           5     228        3       1        0   \n",
       "\n",
       "   quantity  nsamples  \n",
       "0      2938         6  "
      ]
     },
     "execution_count": 12,
     "metadata": {},
     "output_type": "execute_result"
    }
   ],
   "source": [
    "sup_after = pd.read_csv(\"resources/data/u_sup_after.csv\")\n",
    "sup_after[\"date\"] = pd.to_datetime(sup_after[\"date\"])\n",
    "\n",
    "summary_sup_after = [data_profile(sup_after)]\n",
    "\n",
    "pd.DataFrame(summary_sup_after)"
   ]
  },
  {
   "cell_type": "markdown",
   "metadata": {
    "editable": true,
    "pycharm": {
     "name": "#%% md\n"
    },
    "slideshow": {
     "slide_type": ""
    },
    "tags": []
   },
   "source": [
    "(data-context)=\n",
    "### Summary test and training data\n",
    "\n",
    "Another way to look at this collection of observations is that each sampling group collected the data for reasons that were specific to that group, the protocol provided a framework for ensuring consistency and a pathway to interpreting the results. However, this does not mean that each group interpreted the protocol in the same manner, nor does it mean that all objects collected were counted. By limiting analysis to specific object-codes, those that appear most often and/or those that are easily identified, uncertainty is reduced by leveraging frequency of occurence and domain experience."
   ]
  },
  {
   "cell_type": "code",
   "execution_count": 13,
   "metadata": {
    "editable": true,
    "slideshow": {
     "slide_type": ""
    },
    "tags": [
     "remove-input"
    ]
   },
   "outputs": [
    {
     "data": {
      "text/html": [
       "<style type=\"text/css\">\n",
       "#T_9a8e7 tr:nth-child(even) {\n",
       "  background-color: rgba(139, 69, 19, 0.08);\n",
       "}\n",
       "#T_9a8e7 tr:nth-child(odd) {\n",
       "  background: #FFF;\n",
       "}\n",
       "#T_9a8e7 tr {\n",
       "  font-size: 14px;\n",
       "}\n",
       "#T_9a8e7 th:nth-child(1) {\n",
       "  background-color: #FFF;\n",
       "  text-align: right;\n",
       "}\n",
       "#T_9a8e7 caption {\n",
       "  font-size: 14px;\n",
       "  font-style: italic;\n",
       "  caption-side: bottom;\n",
       "  text-align: left;\n",
       "  margin-top: 10px;\n",
       "}\n",
       "</style>\n",
       "<table id=\"T_9a8e7\">\n",
       "  <caption>The number of different locations and cities for the data. Note that there are 31 different municipalitites in all.</caption>\n",
       "  <thead>\n",
       "    <tr>\n",
       "      <th class=\"blank level0\" >&nbsp;</th>\n",
       "      <th id=\"T_9a8e7_level0_col0\" class=\"col_heading level0 col0\" >Training</th>\n",
       "      <th id=\"T_9a8e7_level0_col1\" class=\"col_heading level0 col1\" >Testing</th>\n",
       "    </tr>\n",
       "  </thead>\n",
       "  <tbody>\n",
       "    <tr>\n",
       "      <th id=\"T_9a8e7_level0_row0\" class=\"row_heading level0 row0\" >Number of cities</th>\n",
       "      <td id=\"T_9a8e7_row0_col0\" class=\"data row0 col0\" >21</td>\n",
       "      <td id=\"T_9a8e7_row0_col1\" class=\"data row0 col1\" >19</td>\n",
       "    </tr>\n",
       "    <tr>\n",
       "      <th id=\"T_9a8e7_level0_row1\" class=\"row_heading level0 row1\" >Number of locations</th>\n",
       "      <td id=\"T_9a8e7_row1_col0\" class=\"data row1 col0\" >48</td>\n",
       "      <td id=\"T_9a8e7_row1_col1\" class=\"data row1 col1\" >23</td>\n",
       "    </tr>\n",
       "    <tr>\n",
       "      <th id=\"T_9a8e7_level0_row2\" class=\"row_heading level0 row2\" >Total objects</th>\n",
       "      <td id=\"T_9a8e7_row2_col0\" class=\"data row2 col0\" >59,839</td>\n",
       "      <td id=\"T_9a8e7_row2_col1\" class=\"data row2 col1\" >13,804</td>\n",
       "    </tr>\n",
       "  </tbody>\n",
       "</table>\n"
      ],
      "text/plain": [
       "<pandas.io.formats.style.Styler at 0x7f11850720a0>"
      ]
     },
     "metadata": {
      "scrapbook": {
       "mime_prefix": "",
       "name": "data-summ-q"
      }
     },
     "output_type": "display_data"
    }
   ],
   "source": [
    "summ_data = cbd.copy()\n",
    "summ_data = summ_data[~summ_data.slug.isin(not_these)]\n",
    "summ_data[\"use group\"] = summ_data.code.map(lambda x: use_groups_i[x])\n",
    "\n",
    "summ_data[\"ug\"] = summ_data[\"use group\"].apply(lambda x: abbrev_use_g[x])\n",
    "summ_data[summ_data[\"use group\"] == 'Personal consumption'].code.unique()\n",
    "summ_data[\"date\"] = pd.to_datetime(summ_data[\"date\"], format=\"%Y-%m-%d\")\n",
    "\n",
    "sd_x = summ_data.groupby([\"loc_date\", \"date\", \"city\", \"Project\", \"doy\"], as_index=False).agg({\"pcs/m\": 'sum', 'quantity':'sum'})\n",
    "\n",
    "trg = summ_data[summ_data.Project == \"Training\"].copy()\n",
    "tst = summ_data[summ_data.Project == \"Testing\"].copy()\n",
    "trg_c, tst_c = trg.city.nunique(), tst.city.nunique()\n",
    "trg_lc, tst_lc = trg.slug.nunique(), tst.slug.nunique()\n",
    "trg_q, tst_q = trg.quantity.sum(), tst.quantity.sum()\n",
    "\n",
    "data_magnitude = [\n",
    "    {\"Training\":trg_c, \"Testing\":tst_c},\n",
    "    {\"Training\":trg_lc, \"Testing\":tst_lc},\n",
    "    {\"Training\":trg_q, \"Testing\":tst_q}\n",
    "    \n",
    "]\n",
    "\n",
    "cities_set = list(set([*trg.city.unique(), *tst.city.unique()]))\n",
    "n_ind_cities = len(cities_set)\n",
    "\n",
    "caption = f'The number of different locations and cities for the data. Note that there are {n_ind_cities} different municipalitites in all.'\n",
    "\n",
    "data_summ_q = pd.DataFrame(data_magnitude, index=[\"Number of cities\", \"Number of locations\", \"Total objects\"]).astype('int')\n",
    "data_summ_q = data_summ_q.style.format(formatter=\"{:,}\").set_table_styles(table_large_font).set_caption(caption)\n",
    "styled = data_summ_q.format(formatter=\"{:,}\", subset=pd.IndexSlice[['Total objects'], :])\n",
    "glue(\"data-summ-q\", styled, display=True)"
   ]
  },
  {
   "cell_type": "code",
   "execution_count": 14,
   "metadata": {
    "editable": true,
    "pycharm": {
     "name": "#%%\n"
    },
    "slideshow": {
     "slide_type": ""
    },
    "tags": [
     "remove-input"
    ]
   },
   "outputs": [
    {
     "data": {
      "image/png": "[encoded data removed]",
      "text/plain": [
       "<Figure size 600x500 with 1 Axes>"
      ]
     },
     "metadata": {
      "scrapbook": {
       "mime_prefix": "",
       "name": "testing_training_chrono"
      }
     },
     "output_type": "display_data"
    }
   ],
   "source": [
    "# all the data by date\n",
    "the_99th_percentile = np.quantile(sd_x['pcs/m'].values, .99)\n",
    "px = 1/plt.rcParams['figure.dpi']  # pixel in inches\n",
    "fig, ax = plt.subplots(figsize=(600*px,500*px))\n",
    "\n",
    "sns.scatterplot(data=sd_x, x='date', y='pcs/m', hue='Project', hue_order=[\"Training\", \"Testing\"],ax=ax)\n",
    "\n",
    "ax.set_ylim(-1, the_99th_percentile)\n",
    "ax.set_xlabel(\"\")\n",
    "glue(\"testing_training_chrono\", fig, display=True)\n",
    "plt.close()"
   ]
  },
  {
   "cell_type": "code",
   "execution_count": 15,
   "metadata": {
    "editable": true,
    "pycharm": {
     "name": "#%%\n"
    },
    "slideshow": {
     "slide_type": ""
    },
    "tags": [
     "remove-input"
    ]
   },
   "outputs": [
    {
     "data": {
      "image/png": "[encoded data removed]",
      "text/plain": [
       "<Figure size 600x500 with 1 Axes>"
      ]
     },
     "metadata": {
      "scrapbook": {
       "mime_prefix": "",
       "name": "testing_training_doy"
      }
     },
     "output_type": "display_data"
    }
   ],
   "source": [
    "# all the data day of year\n",
    "fig, ax = plt.subplots(figsize=(600*px, 500*px))\n",
    "\n",
    "sns.scatterplot(data=sd_x, x='doy', y='pcs/m', hue='Project',  hue_order=[\"Training\", \"Testing\"],ax=ax)\n",
    "ax.set_ylim(-1, the_99th_percentile)\n",
    "ax.set_xlabel(\"Day of the year\")\n",
    "glue('testing_training_doy', fig, display=True)\n",
    "plt.close()"
   ]
  },
  {
   "cell_type": "code",
   "execution_count": 16,
   "metadata": {
    "editable": true,
    "pycharm": {
     "name": "#%%\n"
    },
    "slideshow": {
     "slide_type": ""
    },
    "tags": [
     "remove-input"
    ]
   },
   "outputs": [
    {
     "data": {
      "text/html": [
       "<style type=\"text/css\">\n",
       "#T_4b768 tr:nth-child(even) {\n",
       "  background-color: rgba(139, 69, 19, 0.08);\n",
       "}\n",
       "#T_4b768 tr:nth-child(odd) {\n",
       "  background: #FFF;\n",
       "}\n",
       "#T_4b768 tr {\n",
       "  font-size: 14px;\n",
       "}\n",
       "#T_4b768 th:nth-child(1) {\n",
       "  background-color: #FFF;\n",
       "  text-align: right;\n",
       "}\n",
       "#T_4b768 caption {\n",
       "  font-size: 14px;\n",
       "  font-style: italic;\n",
       "  caption-side: bottom;\n",
       "  text-align: left;\n",
       "  margin-top: 10px;\n",
       "}\n",
       "</style>\n",
       "<table id=\"T_4b768\">\n",
       "  <caption>The observed values from the training and testing data. Remark that the testing data is only 22% of all the data. This is because we are only in the first year of a six year sampling period</caption>\n",
       "  <thead>\n",
       "    <tr>\n",
       "      <th class=\"blank level0\" >&nbsp;</th>\n",
       "      <th id=\"T_4b768_level0_col0\" class=\"col_heading level0 col0\" >Training</th>\n",
       "      <th id=\"T_4b768_level0_col1\" class=\"col_heading level0 col1\" >Testing</th>\n",
       "    </tr>\n",
       "  </thead>\n",
       "  <tbody>\n",
       "    <tr>\n",
       "      <th id=\"T_4b768_level0_row0\" class=\"row_heading level0 row0\" >weight all samples</th>\n",
       "      <td id=\"T_4b768_row0_col0\" class=\"data row0 col0\" >0.78</td>\n",
       "      <td id=\"T_4b768_row0_col1\" class=\"data row0 col1\" >0.22</td>\n",
       "    </tr>\n",
       "    <tr>\n",
       "      <th id=\"T_4b768_level0_row1\" class=\"row_heading level0 row1\" >Number of samples</th>\n",
       "      <td id=\"T_4b768_row1_col0\" class=\"data row1 col0\" >263</td>\n",
       "      <td id=\"T_4b768_row1_col1\" class=\"data row1 col1\" >73</td>\n",
       "    </tr>\n",
       "    <tr>\n",
       "      <th id=\"T_4b768_level0_row2\" class=\"row_heading level0 row2\" >Median</th>\n",
       "      <td id=\"T_4b768_row2_col0\" class=\"data row2 col0\" >3.62</td>\n",
       "      <td id=\"T_4b768_row2_col1\" class=\"data row2 col1\" >2.34</td>\n",
       "    </tr>\n",
       "    <tr>\n",
       "      <th id=\"T_4b768_level0_row3\" class=\"row_heading level0 row3\" >Average</th>\n",
       "      <td id=\"T_4b768_row3_col0\" class=\"data row3 col0\" >6.35</td>\n",
       "      <td id=\"T_4b768_row3_col1\" class=\"data row3 col1\" >3.16</td>\n",
       "    </tr>\n",
       "    <tr>\n",
       "      <th id=\"T_4b768_level0_row4\" class=\"row_heading level0 row4\" >25th percentile</th>\n",
       "      <td id=\"T_4b768_row4_col0\" class=\"data row4 col0\" >1.63</td>\n",
       "      <td id=\"T_4b768_row4_col1\" class=\"data row4 col1\" >0.78</td>\n",
       "    </tr>\n",
       "    <tr>\n",
       "      <th id=\"T_4b768_level0_row5\" class=\"row_heading level0 row5\" >75th percentile</th>\n",
       "      <td id=\"T_4b768_row5_col0\" class=\"data row5 col0\" >6.87</td>\n",
       "      <td id=\"T_4b768_row5_col1\" class=\"data row5 col1\" >3.99</td>\n",
       "    </tr>\n",
       "  </tbody>\n",
       "</table>\n"
      ],
      "text/plain": [
       "<pandas.io.formats.style.Styler at 0x7f1184bb77c0>"
      ]
     },
     "metadata": {
      "scrapbook": {
       "mime_prefix": "",
       "name": "data-summary"
      }
     },
     "output_type": "display_data"
    }
   ],
   "source": [
    "testing_vals= sd_x[sd_x.Project == \"Testing\"]['pcs/m'].values\n",
    "training_vals = sd_x[sd_x.Project == \"Training\"]['pcs/m'].values\n",
    "\n",
    "train_quantiles = np.quantile(training_vals, some_quants)\n",
    "test_quantiles = np.quantile(testing_vals, some_quants)\n",
    "\n",
    "training_testing_summary = training_testing_compare(testing_vals, training_vals, test_quantiles, train_quantiles)\n",
    "caption = \"The observed values from the training and testing data. Remark that the testing data is only 22% of all the data. This is because we are only in the first year of a six year sampling period\"\n",
    "sum_table = training_testing_summary.set_caption(caption)\n",
    "sum_table.format(formatter=\"{:.0f}\", subset=pd.IndexSlice[['Number of samples'], :])\n",
    "glue(\"data-summary\", sum_table, display=True)"
   ]
  },
  {
   "cell_type": "code",
   "execution_count": 17,
   "metadata": {
    "editable": true,
    "pycharm": {
     "name": "#%%\n"
    },
    "slideshow": {
     "slide_type": ""
    },
    "tags": [
     "remove-input"
    ]
   },
   "outputs": [
    {
     "data": {
      "image/png": "[encoded data removed]",
      "text/plain": [
       "<Figure size 600x500 with 1 Axes>"
      ]
     },
     "metadata": {
      "scrapbook": {
       "mime_prefix": "",
       "name": "testing_training_cumulative"
      }
     },
     "output_type": "display_data"
    }
   ],
   "source": [
    "fig, ax = plt.subplots(figsize=(600*px, 500*px))\n",
    "\n",
    "sns.ecdfplot(data=sd_x, x='pcs/m', hue='Project',  hue_order=[\"Training\", \"Testing\"],ax=ax)\n",
    "ax.set_xlim(-1, the_99th_percentile)\n",
    "ax.set_ylabel(\"Cumulative probability\")\n",
    "glue('testing_training_cumulative', fig, display=True)\n",
    "plt.close()"
   ]
  },
  {
   "cell_type": "markdown",
   "metadata": {
    "editable": true,
    "pycharm": {
     "name": "#%% md\n"
    },
    "slideshow": {
     "slide_type": ""
    },
    "tags": []
   },
   "source": [
    "|Figure 1, Table 1 | Table 2, Figure 3|\n",
    "|:-----------------------:|:---------------------:|\n",
    "|{glue:}`testing_training_chrono` |{glue}`data-summary`|\n",
    "|{glue:}`data-summ-q`|{glue}`testing_training_doy`|"
   ]
  },
  {
   "cell_type": "code",
   "execution_count": 18,
   "metadata": {},
   "outputs": [],
   "source": [
    "add_slugs = [\n",
    "    'aubonne-pk',\n",
    "    'baby-plage-pk',\n",
    "    'bouveret-pk', \n",
    "    'clarens-pk',\n",
    "    'crans-pk',\n",
    "    'cully-pk',\n",
    "    'gland-pk',\n",
    "    'grangettes-pk',\n",
    "    'hermance-pk',\n",
    "    'lutry-pk',\n",
    "    'pichette-pk',\n",
    "    'port-choiseul-pk',\n",
    "    'preverenges-pk',\n",
    "    'rolle-pk',\n",
    "    'savoniere-pk',\n",
    "    'tolochenaz-pk',\n",
    "    'versoix-pk',\n",
    "    'vidy-pk'\n",
    "    ]\n",
    "\n",
    "new_slugs = [\n",
    "    'aubonne',\n",
    "    'baby-plage',\n",
    "    'bouveret', \n",
    "    'clarens',\n",
    "    'crans',\n",
    "    'cully-p',\n",
    "    'gland',\n",
    "    'grangettes',\n",
    "    'hermance',\n",
    "    'lutry',\n",
    "    'pichette',\n",
    "    'port-choiseul',\n",
    "    'preverenges-p',\n",
    "    'rolle',\n",
    "    'savoniere',\n",
    "    'tolochenaz-p',\n",
    "    'versoix-p',\n",
    "    'vidy-p'\n",
    "    ]\n"
   ]
  },
  {
   "cell_type": "code",
   "execution_count": 19,
   "metadata": {
    "editable": true,
    "slideshow": {
     "slide_type": ""
    },
    "tags": []
   },
   "outputs": [
    {
     "data": {
      "text/html": [
       "<div>\n",
       "<style scoped>\n",
       "    .dataframe tbody tr th:only-of-type {\n",
       "        vertical-align: middle;\n",
       "    }\n",
       "\n",
       "    .dataframe tbody tr th {\n",
       "        vertical-align: top;\n",
       "    }\n",
       "\n",
       "    .dataframe thead th {\n",
       "        text-align: right;\n",
       "    }\n",
       "</style>\n",
       "<table border=\"1\" class=\"dataframe\">\n",
       "  <thead>\n",
       "    <tr style=\"text-align: right;\">\n",
       "      <th></th>\n",
       "      <th>slug</th>\n",
       "      <th>magnitude</th>\n",
       "      <th>hex minus</th>\n",
       "      <th>use</th>\n",
       "      <th>scaled</th>\n",
       "      <th>binned</th>\n",
       "    </tr>\n",
       "  </thead>\n",
       "  <tbody>\n",
       "    <tr>\n",
       "      <th>2750</th>\n",
       "      <td>vidy-p</td>\n",
       "      <td>542690</td>\n",
       "      <td>3091890</td>\n",
       "      <td>infrastructure</td>\n",
       "      <td>0.175520</td>\n",
       "      <td>4.0</td>\n",
       "    </tr>\n",
       "    <tr>\n",
       "      <th>2751</th>\n",
       "      <td>vidy-p</td>\n",
       "      <td>308422</td>\n",
       "      <td>3091890</td>\n",
       "      <td>recreation</td>\n",
       "      <td>0.099752</td>\n",
       "      <td>2.0</td>\n",
       "    </tr>\n",
       "    <tr>\n",
       "      <th>2752</th>\n",
       "      <td>vidy-p</td>\n",
       "      <td>3091551</td>\n",
       "      <td>3091890</td>\n",
       "      <td>Siedl</td>\n",
       "      <td>0.999890</td>\n",
       "      <td>20.0</td>\n",
       "    </tr>\n",
       "    <tr>\n",
       "      <th>2753</th>\n",
       "      <td>vidy-p</td>\n",
       "      <td>339</td>\n",
       "      <td>3091890</td>\n",
       "      <td>undefined</td>\n",
       "      <td>0.000110</td>\n",
       "      <td>1.0</td>\n",
       "    </tr>\n",
       "    <tr>\n",
       "      <th>2754</th>\n",
       "      <td>vidy-p</td>\n",
       "      <td>31190</td>\n",
       "      <td>0</td>\n",
       "      <td>Strasse</td>\n",
       "      <td>0.119716</td>\n",
       "      <td>3.0</td>\n",
       "    </tr>\n",
       "    <tr>\n",
       "      <th>2755</th>\n",
       "      <td>vidy-p</td>\n",
       "      <td>0</td>\n",
       "      <td>0</td>\n",
       "      <td>dist</td>\n",
       "      <td>0.000000</td>\n",
       "      <td>0.0</td>\n",
       "    </tr>\n",
       "    <tr>\n",
       "      <th>2756</th>\n",
       "      <td>vidy-p</td>\n",
       "      <td>0</td>\n",
       "      <td>0</td>\n",
       "      <td>Wald</td>\n",
       "      <td>0.000000</td>\n",
       "      <td>0.0</td>\n",
       "    </tr>\n",
       "    <tr>\n",
       "      <th>2757</th>\n",
       "      <td>vidy-p</td>\n",
       "      <td>0</td>\n",
       "      <td>0</td>\n",
       "      <td>Stadtzentr</td>\n",
       "      <td>0.000000</td>\n",
       "      <td>0.0</td>\n",
       "    </tr>\n",
       "    <tr>\n",
       "      <th>2758</th>\n",
       "      <td>vidy-p</td>\n",
       "      <td>0</td>\n",
       "      <td>0</td>\n",
       "      <td>Reben</td>\n",
       "      <td>0.000000</td>\n",
       "      <td>0.0</td>\n",
       "    </tr>\n",
       "    <tr>\n",
       "      <th>2759</th>\n",
       "      <td>vidy-p</td>\n",
       "      <td>0</td>\n",
       "      <td>0</td>\n",
       "      <td>Obstanlage</td>\n",
       "      <td>0.000000</td>\n",
       "      <td>0.0</td>\n",
       "    </tr>\n",
       "    <tr>\n",
       "      <th>2760</th>\n",
       "      <td>vidy-p</td>\n",
       "      <td>0</td>\n",
       "      <td>0</td>\n",
       "      <td>length</td>\n",
       "      <td>0.000000</td>\n",
       "      <td>0.0</td>\n",
       "    </tr>\n",
       "  </tbody>\n",
       "</table>\n",
       "</div>"
      ],
      "text/plain": [
       "        slug  magnitude  hex minus             use    scaled  binned\n",
       "2750  vidy-p     542690    3091890  infrastructure  0.175520     4.0\n",
       "2751  vidy-p     308422    3091890      recreation  0.099752     2.0\n",
       "2752  vidy-p    3091551    3091890           Siedl  0.999890    20.0\n",
       "2753  vidy-p        339    3091890       undefined  0.000110     1.0\n",
       "2754  vidy-p      31190          0         Strasse  0.119716     3.0\n",
       "2755  vidy-p          0          0            dist  0.000000     0.0\n",
       "2756  vidy-p          0          0            Wald  0.000000     0.0\n",
       "2757  vidy-p          0          0      Stadtzentr  0.000000     0.0\n",
       "2758  vidy-p          0          0           Reben  0.000000     0.0\n",
       "2759  vidy-p          0          0      Obstanlage  0.000000     0.0\n",
       "2760  vidy-p          0          0          length  0.000000     0.0"
      ]
     },
     "execution_count": 19,
     "metadata": {},
     "output_type": "execute_result"
    }
   ],
   "source": [
    "new_comb_scale = pd.read_csv(\"resources/data/u_land_use_cover_streets_rivers.csv\")\n",
    "new_comb_scale[new_comb_scale.slug == \"vidy-p\"]"
   ]
  },
  {
   "cell_type": "code",
   "execution_count": 20,
   "metadata": {
    "editable": true,
    "slideshow": {
     "slide_type": ""
    },
    "tags": []
   },
   "outputs": [
    {
     "data": {
      "text/html": [
       "<div>\n",
       "<style scoped>\n",
       "    .dataframe tbody tr th:only-of-type {\n",
       "        vertical-align: middle;\n",
       "    }\n",
       "\n",
       "    .dataframe tbody tr th {\n",
       "        vertical-align: top;\n",
       "    }\n",
       "\n",
       "    .dataframe thead th {\n",
       "        text-align: right;\n",
       "    }\n",
       "</style>\n",
       "<table border=\"1\" class=\"dataframe\">\n",
       "  <thead>\n",
       "    <tr style=\"text-align: right;\">\n",
       "      <th></th>\n",
       "      <th>slug</th>\n",
       "      <th>location</th>\n",
       "      <th>latitude</th>\n",
       "      <th>longitude</th>\n",
       "      <th>water_name</th>\n",
       "      <th>city</th>\n",
       "      <th>river_bassin</th>\n",
       "    </tr>\n",
       "  </thead>\n",
       "  <tbody>\n",
       "    <tr>\n",
       "      <th>0</th>\n",
       "      <td>aabach</td>\n",
       "      <td>Aabach</td>\n",
       "      <td>47.220989</td>\n",
       "      <td>8.940365</td>\n",
       "      <td>Zürichsee</td>\n",
       "      <td>Schmerikon</td>\n",
       "      <td>linth</td>\n",
       "    </tr>\n",
       "    <tr>\n",
       "      <th>1</th>\n",
       "      <td>aare-limmatspitz</td>\n",
       "      <td>Aare Limmatspitz</td>\n",
       "      <td>47.501060</td>\n",
       "      <td>8.237371</td>\n",
       "      <td>Aare</td>\n",
       "      <td>Gebenstorf</td>\n",
       "      <td>aare</td>\n",
       "    </tr>\n",
       "    <tr>\n",
       "      <th>2</th>\n",
       "      <td>aare-port</td>\n",
       "      <td>Aare Port</td>\n",
       "      <td>47.116170</td>\n",
       "      <td>7.269550</td>\n",
       "      <td>Nidau-Büren-Kanal</td>\n",
       "      <td>Port</td>\n",
       "      <td>aare</td>\n",
       "    </tr>\n",
       "    <tr>\n",
       "      <th>3</th>\n",
       "      <td>aare-solothurn-lido-strand</td>\n",
       "      <td>Aare Solothurn Lido Strand</td>\n",
       "      <td>47.196949</td>\n",
       "      <td>7.521643</td>\n",
       "      <td>Aare</td>\n",
       "      <td>Solothurn</td>\n",
       "      <td>aare</td>\n",
       "    </tr>\n",
       "    <tr>\n",
       "      <th>4</th>\n",
       "      <td>aare_bern_caveltin</td>\n",
       "      <td>Aare_Bern_CaveltiN</td>\n",
       "      <td>46.923579</td>\n",
       "      <td>7.473319</td>\n",
       "      <td>Aare</td>\n",
       "      <td>Muri bei Bern</td>\n",
       "      <td>aare</td>\n",
       "    </tr>\n",
       "  </tbody>\n",
       "</table>\n",
       "</div>"
      ],
      "text/plain": [
       "                         slug                    location   latitude  \\\n",
       "0                      aabach                      Aabach  47.220989   \n",
       "1            aare-limmatspitz            Aare Limmatspitz  47.501060   \n",
       "2                   aare-port                   Aare Port  47.116170   \n",
       "3  aare-solothurn-lido-strand  Aare Solothurn Lido Strand  47.196949   \n",
       "4          aare_bern_caveltin          Aare_Bern_CaveltiN  46.923579   \n",
       "\n",
       "   longitude         water_name           city river_bassin  \n",
       "0   8.940365          Zürichsee     Schmerikon        linth  \n",
       "1   8.237371               Aare     Gebenstorf         aare  \n",
       "2   7.269550  Nidau-Büren-Kanal           Port         aare  \n",
       "3   7.521643               Aare      Solothurn         aare  \n",
       "4   7.473319               Aare  Muri bei Bern         aare  "
      ]
     },
     "execution_count": 20,
     "metadata": {},
     "output_type": "execute_result"
    }
   ],
   "source": [
    "beach_columns = ['slug','location', 'latitude', 'longitude', 'water_name', 'city', 'river_bassin']\n",
    "plastock_iqaasl_beaches = pd.read_csv(\"resources/data/u_iq_ps_beaches.csv\")\n",
    "plastock_iqaasl_beaches.head()"
   ]
  },
  {
   "cell_type": "code",
   "execution_count": 25,
   "metadata": {
    "editable": true,
    "slideshow": {
     "slide_type": ""
    },
    "tags": [
     "remove-input"
    ]
   },
   "outputs": [],
   "source": [
    "lu_scaled = new_comb_scale.pivot(columns=\"use\", values=\"scaled\", index=\"slug\").fillna(0)\n",
    "\n",
    "lu_magnitude = new_comb_scale.pivot(columns=\"use\", values=\"magnitude\", index=\"slug\").fillna(0)\n",
    "\n",
    "lu_binned = new_comb_scale.pivot(columns=\"use\", values=\"binned\", index=\"slug\").fillna(0)\n",
    "\n",
    "merge_locations = cbd.slug.unique()\n",
    "cbdu = cbd[~cbd.slug.isin(not_these)].merge(lu_scaled[lu_scaled.index.isin(merge_locations )], left_on=\"slug\", right_on=\"slug\", validate=\"many_to_one\", how=\"outer\")\n",
    "\n",
    "cbdu[\"use group\"] = cbdu.code.map(lambda x: use_groups_i[x])\n",
    "\n",
    "cbdu[\"ug\"] = cbdu[\"use group\"].apply(lambda x: abbrev_use_g[x])\n",
    "cbdu[cbdu[\"use group\"] == 'Personal consumption'].code.unique()\n",
    "cbdu[\"date\"] = pd.to_datetime(cbdu[\"date\"], format=\"%Y-%m-%d\")\n",
    "\n",
    "cbdu.rename(columns={\"pcs/m\":\"pcs_m\"}, inplace=True)"
   ]
  },
  {
   "cell_type": "code",
   "execution_count": 22,
   "metadata": {
    "editable": true,
    "scrolled": true,
    "slideshow": {
     "slide_type": ""
    },
    "tags": [
     "remove-input"
    ]
   },
   "outputs": [
    {
     "data": {
      "image/png": "[encoded data removed]",
      "text/plain": [
       "<Figure size 640x480 with 2 Axes>"
      ]
     },
     "metadata": {
      "scrapbook": {
       "mime_prefix": "",
       "name": "corr_training"
      }
     },
     "output_type": "display_data"
    },
    {
     "data": {
      "image/png": "[encoded data removed]",
      "text/plain": [
       "<Figure size 640x480 with 2 Axes>"
      ]
     },
     "metadata": {
      "scrapbook": {
       "mime_prefix": "",
       "name": "corr_testing"
      }
     },
     "output_type": "display_data"
    }
   ],
   "source": [
    "tst_locs = cbdu[(cbdu.Project == 'Testing')].slug.unique()\n",
    "tr_locs = cbdu[(cbdu.Project == 'Training')].slug.unique()\n",
    "\n",
    "attribute_columns = [x for x in lu_scaled.columns if x not in [\"length\", \"dist\"]]\n",
    "\n",
    "trc = lu_scaled.loc[tr_locs][attribute_columns]\n",
    "tst = lu_scaled.loc[tst_locs][attribute_columns]\n",
    "\n",
    "corr_tst = tst.corr()\n",
    "corr_trc = trc.corr()\n",
    "\n",
    "mask_tr = np.triu(np.ones_like(corr_trc, dtype=bool))\n",
    "mask_ts = np.triu(np.ones_like(corr_tst, dtype=bool))\n",
    "fig, ax = plt.subplots()\n",
    "\n",
    "sns.heatmap(corr_trc, mask=mask_tr, cmap=\"YlOrBr\", ax=ax)\n",
    "\n",
    "\n",
    "ax.set_ylabel(\"\")\n",
    "ax.set_xlabel(\"\")\n",
    "ax.set_title(\"Training data\", loc=\"left\")\n",
    "plt.tight_layout()\n",
    "\n",
    "glue(\"corr_training\", fig, display=True)\n",
    "plt.close()\n",
    "\n",
    "fig, ax = plt.subplots()\n",
    "\n",
    "sns.heatmap(corr_tst, mask=mask_ts, cmap=\"YlOrBr\", ax=ax)\n",
    "\n",
    "ax.set_ylabel(\"\")\n",
    "ax.set_xlabel(\"\")\n",
    "ax.set_title(\"Testing data\", loc=\"left\")\n",
    "plt.tight_layout()\n",
    "\n",
    "glue(\"corr_testing\", fig, display=True)\n",
    "plt.close()"
   ]
  },
  {
   "cell_type": "markdown",
   "metadata": {
    "editable": true,
    "slideshow": {
     "slide_type": ""
    },
    "tags": []
   },
   "source": [
    "|   Figure 3             |     Figure 4                  |\n",
    "|:----------------------:|:-----------------------------:|\n",
    "|{glue:}`corr_training`| {glue:}`corr_testing`    | \n",
    "|Correlation of land-use variables from the prior data. | Correlation of land-use variables from the likelihood data|"
   ]
  },
  {
   "cell_type": "code",
   "execution_count": 23,
   "metadata": {
    "editable": true,
    "pycharm": {
     "name": "#%%\n"
    },
    "slideshow": {
     "slide_type": ""
    },
    "tags": [
     "remove-input"
    ]
   },
   "outputs": [
    {
     "data": {
      "text/markdown": [
       "\n",
       "\n",
       "This script updated 04/10/2023 in Biel, CH\n",
       "\n",
       "❤️ __what you do everyday:__ *analyst at hammerdirt*\n"
      ],
      "text/plain": [
       "<IPython.core.display.Markdown object>"
      ]
     },
     "execution_count": 23,
     "metadata": {},
     "output_type": "execute_result"
    }
   ],
   "source": [
    "today = dt.datetime.now().date().strftime(\"%d/%m/%Y\")\n",
    "where = \"Biel, CH\"\n",
    "\n",
    "my_block = f\"\"\"\n",
    "\n",
    "This script updated {today} in {where}\n",
    "\n",
    "\\u2764\\ufe0f __what you do everyday:__ *analyst at hammerdirt*\n",
    "\"\"\"\n",
    "\n",
    "md(my_block)"
   ]
  },
  {
   "cell_type": "code",
   "execution_count": 24,
   "metadata": {
    "editable": true,
    "pycharm": {
     "name": "#%%\n"
    },
    "slideshow": {
     "slide_type": ""
    },
    "tags": [
     "remove-input"
    ]
   },
   "outputs": [
    {
     "name": "stdout",
     "output_type": "stream",
     "text": [
      "Git repo: https://github.com/hammerdirt-analyst/patelmanuscript.git\n",
      "\n",
      "Git branch: newsummary\n",
      "\n",
      "seaborn   : 0.12.2\n",
      "matplotlib: 3.7.1\n",
      "pandas    : 2.0.2\n",
      "numpy     : 1.24.3\n",
      "\n"
     ]
    }
   ],
   "source": [
    "%watermark --iversions -b -r"
   ]
  }
 ],
 "metadata": {
  "kernelspec": {
   "display_name": "Python 3 (ipykernel)",
   "language": "python",
   "name": "python3"
  },
  "language_info": {
   "codemirror_mode": {
    "name": "ipython",
    "version": 3
   },
   "file_extension": ".py",
   "mimetype": "text/x-python",
   "name": "python",
   "nbconvert_exporter": "python",
   "pygments_lexer": "ipython3",
   "version": "3.9.19"
  }
 },
 "nbformat": 4,
 "nbformat_minor": 4
}
