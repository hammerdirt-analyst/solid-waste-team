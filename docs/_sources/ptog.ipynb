{
 "cells": [
  {
   "cell_type": "code",
   "execution_count": 1,
   "metadata": {
    "editable": true,
    "jupyter": {
     "source_hidden": true
    },
    "slideshow": {
     "slide_type": ""
    },
    "tags": [
     "remove-input"
    ]
   },
   "outputs": [],
   "source": [
    "# sys, file and nav packages:\n",
    "%load_ext watermark\n",
    "import os\n",
    "import datetime as dt\n",
    "\n",
    "\n",
    "# math packages:\n",
    "import pandas as pd\n",
    "import numpy as np\n",
    "from scipy import stats\n",
    "import datetime as dt \n",
    "from statsmodels.distributions.empirical_distribution import ECDF\n",
    "from scipy.stats import nbinom\n",
    "from scipy.stats import gamma\n",
    "from scipy.stats import beta\n",
    "\n",
    "# charting:\n",
    "import matplotlib as mpl\n",
    "import matplotlib.pyplot as plt\n",
    "import matplotlib.dates as mdates\n",
    "from matplotlib import ticker\n",
    "import seaborn as sns\n",
    "import matplotlib.gridspec as gridspec\n",
    "\n",
    "# documenting\n",
    "from IPython.display import display, HTML\n",
    "from IPython.display import Markdown as md\n",
    "from myst_nb import glue\n",
    "\n",
    "from resources.empiricaldist import Pmf\n",
    "import utils\n",
    "from scipy.stats import norm\n",
    "import time\n",
    "\n",
    "# all the data\n",
    "adata = pd.read_csv(\"resources/start_data.csv\")\n",
    "\n",
    "dfCodes = pd.read_csv(\"resources/codes_with_group_names_2015.csv\")\n",
    "dfBeaches = pd.read_csv(\"resources/beaches_with_land_use_rates.csv\")\n",
    "dfBeaches = dfBeaches[dfBeaches.slug != \"clean-up-event-test\"]\n",
    "dfBeaches.set_index(\"slug\", inplace=True)\n",
    "\n",
    "# dfBeaches = dfBeaches.set_index(\"slug\", drop=True)\n",
    "wt_map = dfBeaches.water\n",
    "ct_map = dfBeaches.city\n",
    "wn_map = dfBeaches.water_name\n",
    "rb_map =dfBeaches.river_bassin\n",
    "\n",
    "# all_data = adata.copy()\n",
    "all_data = adata[adata.river_bassin != 'les-alpes'].copy()\n",
    "# print(all_data.columns)\n",
    "columns_i = [\n",
    "    'loc_date',\n",
    "    'location',\n",
    "    'date', \n",
    "    'water_name_slug',\n",
    "    'river_bassin',\n",
    "    'city',\n",
    "    'code', \n",
    "    'quantity',\n",
    "    'pcs_m', \n",
    "]\n",
    "\n",
    "all_data[\"date\"] = pd.to_datetime(all_data[\"date\"], format=\"%Y-%m-%d\")\n",
    "\n",
    "all_data[\"doy\"] = all_data[\"date\"].dt.dayofyear\n",
    "all_data[\"date\"] = all_data[\"date\"].dt.date\n",
    "\n",
    "columns_i = [\n",
    "    'loc_date',\n",
    "    'location',\n",
    "    'date',\n",
    "    'doy',\n",
    "    'water_name_slug',\n",
    "    'water',\n",
    "    'river_bassin',\n",
    "    'city',\n",
    "    'code', \n",
    "    'quantity',\n",
    "    'pcs_m', \n",
    "]\n",
    "\n",
    "all_data[\"water\"]= all_data.location.apply(lambda x: wt_map.loc[x])\n",
    "\n",
    "gfoam = [\"G81\", \"G82\", \"G83\"]\n",
    "plasticpcs = [ \"G78\", \"G79\", \"G80\", \"G75\", \"G76\", \"G77\"]\n",
    "Gcaps = [ \"G21\", \"G23\", \"G24\" ]\n",
    "\n",
    "# the columns that are being kept and the operations per column          \n",
    "# columns = ['loc_date', 'location', 'city', 'date', 'length', \"doy\"]\n",
    "operations = {\"quantity\":\"sum\", \"pcs_m\":\"sum\"}\n",
    "\n",
    "# separate the codes of interest by group from the data frame and add the replacement value\n",
    "all_data_gfrags = all_data[all_data.code.isin(plasticpcs)].groupby(columns_i[:-2], as_index=False).agg(operations)\n",
    "all_data_gfoam = all_data[all_data.code.isin(gfoam)].groupby(columns_i[:-2], as_index=False).agg(operations)\n",
    "all_data_gcaps = all_data[all_data.code.isin(Gcaps)].groupby(columns_i[:-2], as_index=False).agg(operations)\n",
    "\n",
    "all_data_gcaps[\"code\"] = \"Gcaps\"\n",
    "all_data_gfoam[\"code\"] = \"Gfoam\"\n",
    "all_data_gfrags[\"code\"] = \"Gfrags\"\n",
    "\n",
    "# remove the same instances from the work data                                                               \n",
    "all_data_no_frags = all_data[columns_i][~all_data.code.isin([*plasticpcs, *gfoam, *Gcaps])].copy()\n",
    "\n",
    "# formatted plastock data\n",
    "all_data = pd.concat([all_data_no_frags, all_data_gfrags, all_data_gfoam, all_data_gcaps])\n",
    "\n",
    "all_data = all_data.groupby(columns_i[:-2], as_index=False).agg(operations)\n",
    "all_data = all_data[~all_data.location.isin(['schiffenensee_duedingen_hirschij', 'sihlsee_einsiedeln_schilligerllacherl', 'lac-leman-hammerdirt'])]\n",
    "\n",
    "# map to code decriptions\n",
    "dfCodes.set_index(\"code\", inplace=True)\n",
    "dfCodes.loc[\"Gcaps\", [\"material\", \"description\", \"groupname\"]] = [\"Plastic\", \"Plastic bottle lids\", \"food and drink\"]\n",
    "code_d = dfCodes[\"description\"]\n",
    "\n",
    "# map to material descriptions\n",
    "mat_d = dfCodes[\"material\"]"
   ]
  },
  {
   "attachments": {},
   "cell_type": "markdown",
   "metadata": {
    "editable": true,
    "slideshow": {
     "slide_type": ""
    },
    "tags": []
   },
   "source": [
    "# Estimating values\n",
    "\n",
    "__This is in draft. The methods are correct but the narrative, descriptions and references are being defined. The language needs to be standardized to english, there are several data sources in multiple languages (this is Switzerland)__\n",
    "\n",
    "The data gathered by the SWE team in 2020 was included in the federal report on shoreline litter density. Since the puplication of IQAASL in December 2021 there has been addtional data collection events on Lac Léman:\n",
    "\n",
    "1. SWE team\n",
    "2. Association for the Sauvegarde du Léman completed 100 beach litter surveys in 2022\n",
    "\n",
    "__Six year sampling period__\n",
    "\n",
    "The timing of these samples, seven years after the first samples were recorded, could be interpreted as the begining of a new six year sampling period that started in January 2022. The Joint Research Center (JRC) at the EU suggest a six year sampling period with preferably ~ 40 surveys in that time, for each beach that is being monitored. If these conditions are met a baseline value can be established for the location in question. The baseline value, using this method is the median value of the surveys for the time period.\n",
    "\n",
    "There are over 250 samples in the initial six year period, from 30+ locations on the lake. There are no locations that have 40 surveys, therefore the method described previously would not be appropriate for any single location, but it is more than enough for the lake. Recall that we previously discussed the following:\n",
    "\n",
    "1. difference between sampling groups\n",
    "2. correlation between land-use and survey results\n",
    "\n",
    "## Research questions\n",
    "\n",
    "__For the lake and Saint Sulpice:__\n",
    "\n",
    "1. Given the data from 2022, Is there an increase, decrease or no change in the expected survey results given the consolidated results from 2015 - 2021?\n",
    "2. Given the median value for the objects of interest in 2021, what is the chance that a survey in 2022 will exceed this value?\n",
    "3. How do the results from 2022 change the expected survey results going forward?\n",
    "\n",
    "## Practical applications\n",
    "\n",
    "Investments have been made to either prevent or remove litter from the public space. The investments are made with the intention of reducing litter in the environment. The answers to the research questions should help evaluate the return on investment (ROI) from previous projects and provide insights for projects going forward. \n",
    "\n",
    "1. __Did the investment result in a net decline in litter?__\n",
    "2. __What objects were particularly effected?__\n",
    "3. __How does the municpality compare to the rest of the lake?__\n",
    "\n",
    "The prior investments were part of a regional action plan that included all municipal and cantonal administrations on the lake. Therefore, municipal results need to be formulated in the context of the canton and the lake.\n",
    "\n",
    "## Definitions\n",
    "1. __threshold:__ The threshold of interest is the median survey result for an object given the data from 2020-2021.\n",
    "2. __frequency:__ The frequency of exceeding a threshold is the number of times that a threshold was exceeded (k) divided by the number of samples taken (n) or k/n.\n",
    "3. __land-use or land-cover:__ The common topographical features within a radius of 1500m from each survey location. The land-use is quantified by dividing the surface area attributed to a specific attribute by the total surface area of the hexagon minus the surface area attributed to the lake.\n",
    "4. __probability:__ The conditional probability of a survey result at a given municipality being equal to or greater than a given threshold.\n",
    "\n",
    "## Assumptions\n",
    "\n",
    "1. Locations that have similar environmental conditions will yield similar survey results\n",
    "2. There is an exchange of material (trash) between the beach and body of water\n",
    "3. Following from two, the material recovered at the beach is a result of the assumed exchange\n",
    "4. The type of activities adjacent to the survey location are an indicator of the trash that will be found there\n",
    "5. Following from four and three, the local environmental conditions are an indicator of the local contribution to the mix of objects at the beach\n",
    "6. The survey results are a reasonable estimate of the minimum number of objects that were present at the time the survey was completed\n",
    "7. Surveyors are not 100% accurate, some objects will be misidentified or there will be inaccuracies in some object counts\n",
    "  \n",
    "## Method\n",
    "\n",
    "The litter survey data is count data. The survey results are an aggregation of observations from individuals or groups of varying experience using the same protocol. The collected objects are discarded after the survey, so there is no way to go back and _confirm_ a survey result. Thus, the aggregated data has multiple sources of variance inherent to the collection method and associated infrastructure. This problem is not unique in the natural sciences, conservationists and wildlife biologists estimate populations and trends under similar conditions, over the years these estimations have become more accurate. We use conditional probability because the survey results are subject to many variables. Some of these variables can be attributed to the sampling process such as detectability of the objects at a survey location, correct identification of the objects, accuracy of dimensional data and accuracy of data input. Other variables include the environmental conditions of the survey location and the amount of trash suspened in the water. By this we mean that the variance in survey results between locations is not only due to measuring error.  ([summarizing bird counts](https://www.fs.usda.gov/psw/publications/documents/psw_gtr191/psw_gtr191_0762-0770_sauer.pdf), [estimating age of survival](https://besjournals.onlinelibrary.wiley.com/doi/full/10.1111/2041-210X.14077), [estimating tick abundance](https://hal.science/hal-02637100/))\n",
    "\n",
    "Condtional probability and Bayes theorem makes it possible to measure the effects of an unknown parameter as long as the conditions can be quantified. There is no assumption about the underlying relationships between variables except that a realtionship exists, $p(a | b)$, the relationship is defined in the notation exist([Bayes' theorem](https://en.wikipedia.org/wiki/Bayes%27_theorem)) ([conditional proabability](https://en.wikipedia.org/wiki/Conditional_probability)). For this study we are using Bayes theorem in its simplest form to answer the stated research questions. A probability mass function (pmf) is constructed under different conditions (priors) for each code. The limits of the pmf are defined as  $0 \\le x \\le 9.99$ and $0.01 \\le y \\le 0.99$. This accounts for 99% of the data and is computationaly effcient. The x scale corresponds to pieces per meter, multiplying * 100 gives an integer representation of the expected result.\n",
    "\n",
    "### Conditional probability\n",
    "\n",
    "Conditional probability is the measure of the probability of an event occuring given that another event has occurred ([Wikepedia](https://en.wikipedia.org/wiki/Conditional_probability)). For this study the event under consideration is whether or not the threshold was exceeded. The probability of that event is noted $p(\\theta)$, the probability of $\\theta$ given a condition or set of condtions is $p(\\theta | condition(s))$. \n",
    "\n",
    "__The general case__\n",
    "\n",
    "Using the formal definition of conditional probability let a = $\\theta$ and b = _event data_, the probability of an event given a condtion is:\n",
    "\n",
    "$$ \n",
    "\\begin{align}\n",
    "p(a | b) =&\\ \\frac{p(a \\cap b)}{p(b)},\\ 0.01 \\le a \\le 0.99,\\ 0.01 \\le b \\le 0.99\\\\[10pt]\n",
    "and&\\\\\n",
    "p(b | a) =&\\ \\frac{p(b \\cap a)}{p(a)}\\\\[10pt]\n",
    "note&\\\\\n",
    "p(a \\cap b) =&\\ p(b \\cap a)\\\\[10pt]\n",
    "therefore&\\\\\n",
    "p(b | a) =&\\ \\frac{p(b \\cap a)}{p(a)}\\ =\\ \\frac{p(a \\cap b)}{p(a)}\\\\[10pt]\n",
    "p(a)p(b|a) =&\\ p(a \\cap b)\\\\[10pt]\n",
    "finally&\\\\\n",
    "p(a | b) =&\\ \\frac{p(a)p(b|a)}{p(b)}\\\\\n",
    "\\end{align}\n",
    "$$\n",
    "\n",
    "This is Bayes theorem, it tells us that the probability of event _a_ happening given event _b_ is equal to the probability of event _a_ times the the probability of event _b_ given _a_ divided by the probability of _b_. There is a standard nomenclature for the different values in Bayes theorem.\n",
    "$$\n",
    "\\begin{align}\n",
    "posterior =&  \\frac{likelihood*prior}{marginal\\ probability}\\\\ \\\\\n",
    "posterior =&\\ p(a | b) =\\ \\text{The probability of exceeding the threshold given the conditions, the question we are trying to answer.}\\\\[10pt]\n",
    "likelihood =&\\ p(b|a) =\\ \\text{The probability of exceeding the threshold given theta. The current set of data.}\\\\[10pt]\n",
    "prior =&\\ p(a) =\\ \\text{The expected probability given previous studies. Before considering the likelihood}\\\\[10pt]\n",
    "\\text{marginal probability} =&\\ p(b) =\\ \\text{The probability of the data without any conditions}\n",
    "\\end{align}\n",
    "$$\n",
    "\n",
    "Bayes theorem is used extensively in machine learning. Many processes have been optimized for data pipelines ([Scikit Naive Bayes](https://scikit-learn.org/stable/modules/naive_bayes.html)) and solving Generalized Linear Models ([Bayesian regression models using Stan](https://paul-buerkner.github.io/brms/)). Fully developed, the proposed model is similar to a Bayesian Neural Network ([Deep Learning](https://arxiv.org/pdf/2007.06823.pdf)).\n",
    "\n",
    "### The priors\n",
    "\n",
    "The priors refers to the assumptions or expected results before new evidence is taken into account ([wikepedia](https://en.wikipedia.org/wiki/Prior_probability)). \n",
    "\n",
    "> With well-identified parameters and large sample sizes, reasonable choices of prior distributions will have minor effects on posterior inferences. This definition of ‘well identified’ and ‘large’ sample size might seem to be circular, but in practice one can check the dependence on prior distributions by a sensitivity analysis: comparing posterior inferences under different reasonable choices of prior distribution (and, for that matter, different reasonable choices of probability models for data). ([Gelman prior distribution](http://www.stat.columbia.edu/~gelman/research/published/p039-_o.pdf))\n",
    "\n",
    "> If the sample size is small, or available data provide only indirect information about the parameters of interest, the prior distribution becomes more important. In many cases, however, models can be set up hierarchically, so that clusters of parameters have shared prior distributions, which can themselves be estimated from data. ([Gelman prior distribution](http://www.stat.columbia.edu/~gelman/research/published/p039-_o.pdf))\n",
    "\n",
    "The data for this study falls into the second case for any particular municipality or location. How well the density is modeled at the lake level is also complex because of the differences in magnitude and type of inputs for any particular lake. To accomodate small sample sizes a shared prior distribution can be created that is based on the environmental conditions adjacent to the survey location. \n",
    "\n",
    "> __Environmental conditions:__ are the measurable characteristics defined by or derived from an accurate topographic map.\n",
    "\n",
    "The connection between measurable land-use attributes and survey results was illustrated in the swiss national survey ([IQAASL](https://hammerdirt-analyst.github.io/IQAASL-End-0f-Sampling-2021/land_use_correlation.html)) and explored in depth, including early versions of the proposed model in [Near or far](https://hammerdirt-analyst.github.io/landuse/titlepage.html). The source of the land-use data is [swissTLMRegio](https://www.swisstopo.admin.ch/de/geodata/landscape/tlmregio.html), the details of extracting the data and defining the boundary conditions can be found here [New map data](https://hammerdirt-analyst.github.io/landuse/hex-3000-m.html). \n",
    "\n",
    "#### Measured environmental conditions\n",
    "\n",
    "*__Note:__ There are slight changes in the way the land-use variables are handled and described with respect to [Near or far](https://hammerdirt-analyst.github.io/landuse/titlepage.html). Notably the infrastruture and recreation variables are scaled separately from the land-cover variables.* \n",
    "\n",
    "__land-cover__\n",
    "\n",
    "These measured environmental conditions are the labeled polygons from the map layer _Landcover_ defined here ([swissTLMRegio product information](https://www.swisstopo.admin.ch/fr/geodata/landscape/tlm3d.html#dokumente)), they are extracted using vector overlay techniques in QGIS ([QGIS](https://qgis.org/en/site/)). The overlay is a hexagon-grid, each hex is 3000m, circumcscribed by a circle r=1500m. The survey location is located at the center of the hex. The magnitude of the land-use variable is the portion of the total dry surface area for any particular land-use attribute. Areas of the hex that are not defined with a land-use attribute in this map layer are labeled _undefined_ and processed like any other land-use attribute. The land-cover variables of interest are:\n",
    "\n",
    "1. Buildings: built up, urbanized\n",
    "2. Woods: not a park, harvesting of trees may be active\n",
    "3. Vineyards: does not include any other type of agriculture\n",
    "4. Orchards: not vineyards\n",
    "5. Undefined: areas of the map with no predefined label\n",
    "\n",
    "__Land-use__\n",
    "\n",
    "Land-use variables are the labled polygons from the _Freizeitareal_ and  _Nutzungsareal_ map layers, defined in ([swissTLMRegio product information](https://www.swisstopo.admin.ch/fr/geodata/landscape/tlm3d.html#dokumente)). Both layers represent areas used for specific activities. Freizeitareal identifies areas used for recreational purposes and Nutzungsareal represents areas such as hospitals, cemeteries, historical sites or incineration plants. As a ratio of the available dry-land in a hex, these features are relatively small (less than 10%) of the total dry-land. For identified features within a bounding hex the magnitude in meters² of these variables is scaled between 0 and 1, thus the scaled value represents the size of the feature in relation to all other measured values for that feature from all other hexagons.\n",
    "\n",
    "1. Recreation: parks, sports fields, attractions\n",
    "2. Infrastructure: Schools, Hospitals, cemeteries, powerplants\n",
    "\n",
    "__Streets and roads__\n",
    "\n",
    "Streets and roads are the labled polylines from the _TLM Strasse_ map layer defined in ([swissTLMRegio product information](https://www.swisstopo.admin.ch/fr/geodata/landscape/tlm3d.html#dokumente)). All polyines from the map layer within a bounding hex are merged (disolved in QGIS commands) and the combined length of the polylines, in meters, is the magnitude of the variable for the bounding hex.\n",
    "\n",
    "Each survey location has a unique combination of land-use and land-cover variables. The uniqueness stems from the fact that no calculated surface area is exactly the same. In relation to all other survey locations Saint Sulpice is urbanized, has very little undefined land use, little space attributed to forests and an elevated amount of land attributed to infrastructure, (fig 2). The mix of environmental conditions at Saint Sulpice correspond to the expected mix of land-use and land-cover given the table of correlations in fig 3. Specifically we note high levels of buildings and low levels of woods and undefined land."
   ]
  },
  {
   "cell_type": "code",
   "execution_count": 2,
   "metadata": {
    "editable": true,
    "slideshow": {
     "slide_type": ""
    },
    "tags": [
     "remove-input"
    ]
   },
   "outputs": [],
   "source": [
    "def check_nk(anarray, threshold):\n",
    "    gthan = (anarray >= threshold).sum()\n",
    "    pnk = gthan/len(anarray)\n",
    "\n",
    "    return pnk, gthan, len(anarray)\n",
    "\n",
    "\n",
    "def a_nbdist(anarray):\n",
    "    mu = anarray.mean()\n",
    "    sigma = anarray.var()\n",
    "\n",
    "    p = mu/sigma    \n",
    "    n = mu**2/(sigma-mu)\n",
    "\n",
    "    nbrv = nbinom(n,p)\n",
    "\n",
    "    return nbrv\n",
    "    \n",
    "    \n",
    "def a_gammadist(anarray, afunc: callable = None):\n",
    "\n",
    "    if afunc is not None:\n",
    "        mu = afunc(anarray)\n",
    "    else:\n",
    "        if np.median(anarray) == 0:\n",
    "            mu = .001\n",
    "        else:\n",
    "            mu = np.median(anarray)\n",
    "\n",
    "    gammadist = gamma(mu)\n",
    "\n",
    "    return gammadist\n",
    "\n",
    "\n",
    "def make_date_object(astring):\n",
    "    fmat = \"%Y-%m-%d\"\n",
    "\n",
    "    an_obj = dt.datetime.strptime(astring, fmat).date()   \n",
    "\n",
    "    return an_obj\n",
    "\n",
    "def make_post(row):\n",
    "    # print(row)\n",
    "    k = row[\"k\"]\n",
    "    n =row[\"n\"]\n",
    "    if k == 0:\n",
    "        n+=1\n",
    "        k+=1\n",
    "    ks = k+row[\"kl\"]\n",
    "    ns = n + row[\"kn\"]\n",
    "    nmk = ns-ks\n",
    "    if nmk == 0:\n",
    "        nmk = 1\n",
    "    amean = beta(k,nmk).mean()\n",
    "\n",
    "    \n",
    "    return amean\n",
    "\n",
    "def results_and_land_use(all_data, land_use_agg, slr_e, prior_locations, codes):\n",
    "    # the survey results from all the data prior to the date defined by slr_e\n",
    "    # and from locations on lakes. Includes only the codes of interest\n",
    "    # returns two dataframes\n",
    "    p_results = all_data[(all_data.date <= slr_e)&(all_data.water == \"l\")]\n",
    "    p_results = p_results[p_results.code.isin(codes)]\n",
    "\n",
    "    # the landuse values for all the locations in p_results\n",
    "    p_ludata = land_use_agg.loc[prior_locations]\n",
    "    \n",
    "\n",
    "    return p_results, p_ludata\n",
    "\n",
    "def rtn_a_float_between_0_and_one(x, afloat=0.5):\n",
    "    return afloat\n",
    "\n",
    "def rtn_an_array_between_01_and_99(array):\n",
    "    wexp = [x if x > 0 else .01 for x in array]\n",
    "    wexp = [x if x < 1 else .99 for x in wexp]\n",
    "    return wexp\n",
    "\n",
    "\n",
    "def rtn_df_with_lhood_prior_and_post(c,  prior=\"npr\"):\n",
    "\n",
    "    d=c.copy()\n",
    "    \n",
    "    d[\"1-lh\"] = 1 - d.lh\n",
    "    d[f\"1-{prior}\"] = 1 - d[prior]\n",
    "    \n",
    "    \n",
    "    d[f\"lh*{prior}\"] = d.lh * d[prior]\n",
    "    d[f\"1-lh*1-{prior}\"] =d[f\"1-{prior}\"]* d[\"1-lh\"]\n",
    "    d[\"p-total\"] = d[f\"lh*{prior}\"]+d[f\"1-lh*1-{prior}\"]\n",
    "    \n",
    "    d[\"post\"] = d[f\"lh*{prior}\"]/d[\"p-total\"]\n",
    "\n",
    "    return d    \n",
    "    \n",
    "\n",
    "def range_likelihood_prior_df(current, prior, code, xrange, afunc=rtn_a_float_between_0_and_one):\n",
    "\n",
    "    cr = current[current.code == code].pcs_m.values\n",
    "    # cr = np.sort(cr)\n",
    "    kl = [(cr >= x).sum() for x in xrange]\n",
    "    kn = [len(cr) for x in xrange]\n",
    "    \n",
    "    lhood = np.array([(cr >= x).sum()/len(cr) for x in xrange])\n",
    "    lhood = rtn_an_array_between_01_and_99(lhood)\n",
    "\n",
    "    if isinstance(prior, pd.core.frame.DataFrame):\n",
    "        if \"code\" in prior.columns:\n",
    "            # print(\"there is a code\")\n",
    "            pr = prior[prior.code == code].drop_duplicates([\"loc_date\", \"code\"])\n",
    "            pr = pr.pcs_m.values\n",
    "            pr = np.sort(pr)\n",
    "            k = [(pr >= x).sum() for x in xrange]\n",
    "            n = [len(pr) for x in xrange]\n",
    "            cprior = np.array([x/len(pr) for x in k])\n",
    "            # print(\"cprior\", cprior\n",
    "            cprior = rtn_an_array_between_01_and_99(cprior)\n",
    "\n",
    "            data = pd.DataFrame({\"qty\":xrange, \"lh\":lhood, \"pr\": cprior, \"k\": k, \"n\": n, \"kl\":kl, \"kn\":kn})\n",
    "            data[\"post_beta\"] = data.apply(lambda row: make_post(row), axis=1)\n",
    "\n",
    "            return data\n",
    "        else:\n",
    "            cprior = prior.post.values\n",
    "    else:\n",
    "        cprior = rtn_an_array_between_01_and_99(prior)\n",
    "    \n",
    "    \n",
    "        \n",
    "\n",
    "       \n",
    "\n",
    "    data = pd.DataFrame({\"qty\":xrange, \"lh\":lhood, \"pr\": cprior})\n",
    "\n",
    "    return data\n",
    "\n",
    "def an_array_of_posterior_probabilities(lagi, prior_year, codes, xrange):\n",
    "\n",
    "    dfs = []\n",
    "    for i, code in enumerate(codes):\n",
    "        informed = range_likelihood_prior_df(lagi, prior_year, code, xrange)\n",
    "        \n",
    "        informed_posterior = rtn_df_with_lhood_prior_and_post(informed,  prior=\"pr\")\n",
    "      \n",
    "        dfs.append(informed_posterior)\n",
    "    return dfs\n",
    "\n",
    "def an_array_of_sequential_probabilities(lagi, prior_year, codes, xrange):\n",
    "\n",
    "    dfs = []\n",
    "    for i,code in enumerate(codes):\n",
    "        informed = range_likelihood_prior_df(lagi, prior_year[i], code, xrange)\n",
    "        \n",
    "        informed_posterior = rtn_df_with_lhood_prior_and_post(informed,  prior=\"pr\")\n",
    "       \n",
    "        dfs.append(informed_posterior)\n",
    "    return dfs\n",
    "\n",
    "def survey_results_with_land_use(survey_results, land_use_data, locations):\n",
    "    \n",
    "    lu = land_use_data.loc[locations][[\"use\", \"binned\"]]\n",
    "    lu = lu.pivot(columns=\"use\").fillna(0)\n",
    "    lu = lu.droplevel(0, axis=1)\n",
    "    lu.index.name = None\n",
    "\n",
    "    data = survey_results.merge(lu, left_on=\"location\", right_index=True, validate=\"many_to_one\")\n",
    "\n",
    "    return data\n",
    "\n",
    "class SurveyResults:\n",
    "\n",
    "    def __init__(self, start_date, end_date, lake, current_locations, codes_of_interest):\n",
    "        self.prior_data = None\n",
    "        self.prior_locs = None\n",
    "        self.land_use_data = None\n",
    "        self.start_date = start_date\n",
    "        self.end_date = end_date\n",
    "        self.lake = lake\n",
    "        self.current_locs = current_locations\n",
    "        self.current_data = None\n",
    "        self.cois = codes_of_interest\n",
    "        \n",
    "\n",
    "    def prior_locations(self, data):\n",
    "        d = data[(data[\"date\"] <= self.end_date)&(data.water == \"l\")]\n",
    "        self.prior_locs = d.location.unique()\n",
    "\n",
    "    def prior_and_current_data(self, data, land_use_data):\n",
    "        p_results, p_ludata = results_and_land_use(data, land_use_data, self.end_date, self.prior_locs, self.cois)\n",
    "        # self.prior_data = p_results\n",
    "        self.land_use_data = p_ludata\n",
    "        c_results = p_results[p_results.date >= self.start_date].copy()\n",
    "        self.current_data = survey_results_with_land_use(c_results, p_ludata, self.current_locs)\n",
    "        self.prior_data = survey_results_with_land_use(p_results, p_ludata, self.prior_locs)\n",
    "\n",
    "class PosteriorForDateRange:\n",
    "    def __init__(self, current_data, prior_data, thresholds, codes_of_interest, xrange, prior_series: list = None, uninformed: list=None):\n",
    "        self.current_data = current_data\n",
    "        self.prior_data = prior_data\n",
    "        # self.prior_class = prior_class\n",
    "        self.cois = codes_of_interest\n",
    "        self.xrange = xrange\n",
    "        self.prior_series = prior_series\n",
    "        self.uninformed = uninformed\n",
    "        self.thresholds = thresholds\n",
    "        self.sequential = None\n",
    "        self.post_informed = None\n",
    "        self.post_uninformed = None\n",
    "        self.post_sequential = None\n",
    "        self.shared = None\n",
    "    \n",
    "    def prior_shared(self, b):\n",
    "        a =self.current_data.copy()\n",
    "        # b = self.prior_class.twotest_post.shared\n",
    "        t = an_array_of_posterior_probabilities(a, b, self.cois, self.xrange)\n",
    "        post = np.round([t[i].loc[int(self.thresholds.loc[x])][\"post\"] for i, x in enumerate(self.cois)], 2)\n",
    "        self.shared = t\n",
    "        self.post_informed = post\n",
    "        \n",
    "    \n",
    "    def prior_sequential(self):\n",
    "        if isinstance(self.prior_series, (list, np.ndarray)):\n",
    "            st = an_array_of_sequential_probabilities(self.current_data, self.prior_series, self.cois, self.xrange)\n",
    "            post = np.round([st[i].loc[int(self.thresholds.loc[x])][\"post\"] for i, x in enumerate(self.cois)], 2)\n",
    "            self.sequential = st\n",
    "            self.post_sequential = post\n",
    "        else:\n",
    "            print(\"There is no prior series specified: no operation\")        \n",
    "    \n",
    "    def prior_uninformed(self):\n",
    "        qt = an_array_of_posterior_probabilities(self.current_data, self.uninformed, self.cois, self.xrange)\n",
    "        post = np.round([qt[i].loc[int(self.thresholds.loc[x])][\"post\"] for i, x in enumerate(self.cois)], 2)\n",
    "        self.uninformed = qt\n",
    "        self.post_uninformed = post\n",
    "\n",
    "    def table_display(self):\n",
    "        table_data = []\n",
    "        for aseries in [self.post_informed, self.post_uninformed, self.post_sequential]:\n",
    "            if aseries is not None:\n",
    "                table_data.append(aseries)\n",
    "            else:\n",
    "                pass\n",
    "\n",
    "        a_display_table = pd.DataFrame(data=table_data, columns=self.cois)\n",
    "\n",
    "        return a_display_table\n",
    "\n",
    "\n",
    "class GridApproximation:\n",
    "    \n",
    "    def __init__(self, slr_d, slr_e, lake, lake_locations, cois, all_data, land_use_agg, tholds_r, xrange, prior_series=None, uniformed_prior=None):\n",
    "        self.testwo = SurveyResults(slr_d, slr_e, lake, lake_locations, cois)\n",
    "        self.testwo.prior_locations(all_data)\n",
    "        self.testwo.prior_and_current_data(all_data, land_use_agg)\n",
    "        self.uses = self.testwo.land_use_data.use.unique()\n",
    "        self.testwo_post = PosteriorForDateRange(self.testwo.current_data, self.testwo.prior_data, tholds_r, cois, xrange, prior_series, uniformed_prior)\n",
    "        # self.testwo_post.prior_shared()\n",
    "        self.testwo_post.prior_uninformed()\n",
    "        self.testwo_post.prior_sequential()\n",
    "\n",
    "\n",
    "def when_k_is_zero(k, n):\n",
    "\n",
    "    if k == 0:\n",
    "        return .01\n",
    "    else:\n",
    "        kn = k/n\n",
    "\n",
    "        if kn == 1:\n",
    "            return .99\n",
    "        else:\n",
    "            return kn\n",
    "    \n",
    "\n",
    "def y_exceeds_x_one_code_bin_category(data, apmf):\n",
    "    n = len(data)\n",
    "    apmf[\"k\"] = apmf.x.apply(lambda j: (data.pcs_m >= j).sum())\n",
    "    apmf[\"theta\"] = apmf.k.apply(lambda x: when_k_is_zero(x, n))\n",
    "    # print(apmf.head())\n",
    "        \n",
    "    return apmf\n",
    "\n",
    "\n",
    "\n",
    "\n",
    "def make_prior_by_use(data, xtest, profiles_dict, keep_copy=True):\n",
    "\n",
    "    ud = []\n",
    "    prior = np.ones(len(xtest))\n",
    "    \n",
    "    for k, v in profiles_dict.items():\n",
    "        # print(k)\n",
    "        str = data[(data[k].isin(v))].copy()\n",
    "        # print(str.pcs_m.describe())\n",
    "        use_dist = y_exceeds_x_one_code_bin_category(str, xtest)\n",
    "        if keep_copy:\n",
    "            ud.append((use_dist, str))\n",
    "            \n",
    "        # print(\"\\n usedist: \\n\")\n",
    "        # print(use_dist.theta.mean())\n",
    "        # print(use_dist.theta.min(), use_dist.theta.max())\n",
    "        # print(\"\\n prior: \\n\")\n",
    "        # print(prior.mean())\n",
    "        # print(len(prior))\n",
    "        # print(prior.min(), prior.max())\n",
    "        prior *= use_dist.theta\n",
    "\n",
    "    return prior, ud\n",
    "\n",
    "def land_use_profile_from_data(tdata, code, uses):\n",
    "    profile_data = tdata[(tdata.code == code)]\n",
    "    lprofiles = list(set(profile_data.columns).intersection(uses))\n",
    "    profiles_dict = {x:profile_data[x].values for x in lprofiles}\n",
    "\n",
    "    return profile_data, profiles_dict\n",
    "\n"
   ]
  },
  {
   "cell_type": "code",
   "execution_count": 3,
   "metadata": {
    "editable": true,
    "slideshow": {
     "slide_type": ""
    },
    "tags": [
     "remove-input"
    ]
   },
   "outputs": [],
   "source": [
    "# these are the land use values for each hex\n",
    "# nutuzungsareal and freizeit areal are totaled\n",
    "# the surface area of these two use cases gets added\n",
    "# to the total of the land cover surface area\n",
    "dfln = pd.read_csv(\"resources/geodata/infrastructure.csv\")\n",
    "dflf = pd.read_csv(\"resources/geodata/recreation.csv\")\n",
    "locations = all_data.location.unique()\n",
    "\n",
    "# rename the columns and total the surface are for each component\n",
    "dflf.rename(columns={\"OBJEKTART\":\"use\"}, inplace=True)\n",
    "dflf = dflf[~dflf.use.isin(['Reben', 'Obstanlage'])].copy()\n",
    "dflf_t = dflf.groupby([\"slug\", \"city\", \"water_name\", \"water\"], as_index=False).area.sum()\n",
    "dflf_t[\"use\"] = \"recreation\"\n",
    "dflf_t[\"scaled\"] = (dflf_t[\"area\"] - dflf_t[\"area\"].min())/(dflf_t[\"area\"].max() - dflf_t[\"area\"].min())\n",
    "\n",
    "dfln.rename(columns={\"OBJEKTART\":\"use\"}, inplace=True)\n",
    "dfln = dfln[~dfln.use.isin(['Reben', 'Obstanlage'])].copy()\n",
    "dfln_t = dfln.groupby([\"slug\", \"city\", \"water_name\", \"water\"], as_index=False).area.sum()\n",
    "dfln_t[\"use\"] = \"infrastructure\"\n",
    "dfln_t[\"scaled\"] = (dfln_t[\"area\"] - dfln_t[\"area\"].min())/(dfln_t[\"area\"].max() - dfln_t[\"area\"].min())\n",
    "\n",
    "rec_inf = pd.concat([dfln_t, dflf_t])\n",
    "rec_inf = rec_inf[rec_inf.slug.isin(locations)]\n",
    "rec_inf.rename(columns={\"area\":\"magnitude\"}, inplace=True)\n",
    "\n",
    "dflc = pd.read_csv(\"resources/geodata/landcover.csv\")\n",
    "dflc = dflc[dflc.slug.isin(locations)].copy()\n",
    "\n",
    "# sum the unique land cover values for each location\n",
    "area_of_a_hex = 5845672\n",
    "xgr = dflc.groupby([\"slug\", \"city\", \"water_name\", \"OBJVAL\", \"water\"], as_index=False, dropna=False).area.sum()\n",
    "\n",
    "# the sum of all the land cover values for a location\n",
    "xgrt = xgr.groupby([\"slug\", \"city\", \"water_name\", \"water\"], as_index=False).area.sum()\n",
    "\n",
    "# the amount of surface area that is not accounted for \n",
    "xgrt[\"undefined\"] = area_of_a_hex - xgrt.area\n",
    "\n",
    "# format data frame to join to the other land cover totals\n",
    "xgrt[\"OBJVAL\"] = \"undefined\"\n",
    "xgrt[\"area\"] = xgrt[\"undefined\"]\n",
    "xgrt.drop(\"undefined\", inplace=True, axis=1)\n",
    "\n",
    "# add to other totals\n",
    "dflcx = pd.concat([xgr, xgrt])\n",
    "\n",
    "# remove the value of See from the surface area of a hex.\n",
    "# We are considering the magnitude of land use type in relation\n",
    "# to the amount of land that is available to be used, not including \n",
    "# amount of land that is covered by the lake itself\n",
    "# xsee = xgr[xgr.OBJVAL == \"See\"][[\"slug\", \"area\"]]\n",
    "# xsee[\"hex minus\"] = area_of_a_hex - xsee.area\n",
    "# hex_minus = xsee[[\"slug\", \"hex minus\"]].set_index(\"slug\", drop=True)\n",
    "xgr_l = xgr[xgr.water == \"l\"].copy()\n",
    "xgr_r = xgr[xgr.water == \"r\"].copy()\n",
    "xgr_r[\"hex minus\"] = area_of_a_hex\n",
    "\n",
    "xsee = xgr_l[xgr_l.OBJVAL == \"See\"][[\"slug\", \"area\"]]\n",
    "xsee[\"hex minus\"] = area_of_a_hex - xsee.area\n",
    "hex_minus = xsee[[\"slug\", \"hex minus\"]].set_index(\"slug\", drop=True)\n",
    "\n",
    "\n",
    "hex_not_minus = xgr_r[[\"slug\", \"hex minus\"]].drop_duplicates(\"slug\").set_index(\"slug\", drop=True)\n",
    "# hex_not_minus.drop_duplicates(inplace=True)\n",
    "xsee_all = pd.concat([hex_not_minus, hex_minus])\n",
    "\n",
    "# map the adjusted surface area to to the land use\n",
    "# totals and scale the surface column to the adjusted surface area\n",
    "dflcx[\"hex minus\"] = dflcx.slug.apply(lambda x: xsee_all.loc[x, \"hex minus\"])\n",
    "# rec_inf[\"hex minus\"] = rec_inf.slug.apply(lambda x: xsee_all.loc[x, \"hex minus\"])\n",
    "# change column name\n",
    "dflcx.rename(columns={\"OBJVAL\":\"use\"}, inplace=True)\n",
    "\n",
    "land_cover = dflcx.copy()\n",
    "\n",
    "land_cover[\"scaled\"] = land_cover.area/land_cover[\"hex minus\"]\n",
    "\n",
    "# remove See from the data frame\n",
    "land_cover = land_cover[land_cover.use != \"See\"]\n",
    "\n",
    "bind = pd.IntervalIndex.from_tuples([(-1, 0), (0.0000001, .0499999), (.0500000, .0999999), (.1000000, .1499999),(.1500000, .1999999), (.2, .2499), (.25, .2999), (.3000, .3499),\n",
    "        (.35, .3999), (.4000, .449999), (.45, .499999),(.5, .549999), (.55, .5999), (.6000, .6499), (.65, .6999), (.7, .7499), (.75, .7999),\n",
    "        (.8, .8499), (.85, .8999), (.9, .9499), (.95, 1)])\n",
    "\n",
    "# bin the scaled column\n",
    "sbins = pd.cut(land_cover.scaled, bins=bind, labels=np.arange(start=0, stop=21), include_lowest=True, retbins=False)\n",
    "sbins=sbins.cat.rename_categories(np.arange(start=0, stop=21))\n",
    "\n",
    "rbins = pd.cut(rec_inf.scaled, bins=bind, labels=np.arange(start=0, stop=21), include_lowest=True, retbins=False)\n",
    "rbins=rbins.cat.rename_categories(np.arange(start=0, stop=21))\n",
    "rec_inf[\"binned\"] = rbins\n",
    "\n",
    "merge_columns = [\"slug\", \"city\", \"water_name\", \"water\", \"magnitude\", \"use\", \"scaled\", \"binned\"]\n",
    "land_cover[\"binned\"] = sbins\n",
    "land_cover.rename(columns={\"area\":\"magnitude\"}, inplace=True)\n",
    "merge_df = land_cover[merge_columns]\n",
    "agg_land_use = pd.concat([rec_inf, merge_df])\n",
    "\n",
    "dist_ct = pd.read_csv(\"resources/geodata/intersect_length.csv\")\n",
    "dist_ct = dist_ct.groupby([\"slug\",\"city\", \"water_name\", \"water\", \"NAMN\"], as_index=False).length.sum()\n",
    "dist_ct[dist_ct.slug == \"mullermatte\"]\n",
    "\n",
    "dist_dt = pd.read_csv(\"resources/geodata/d_to_intersect.csv\")\n",
    "\n",
    "dist_dt[\"water\"] = dist_dt.slug.apply(lambda x: wt_map.loc[x])\n",
    "dist_dt[\"city\"] = dist_dt.slug.apply(lambda x: ct_map.loc[x])\n",
    "dist_dt[\"water_name\"] = dist_dt.slug.apply(lambda x: wn_map.loc[x])\n",
    "dist_dt = dist_dt.groupby([\"slug\", \"NAMN\", \"water\", \"city\", \"water_name\"], as_index=False).dist.sum()\n",
    "\n",
    "dr = dist_dt[dist_dt.water == \"r\"].copy()\n",
    "dr[\"dist\"] = 0\n",
    "\n",
    "dnr = dist_dt[dist_dt.water != \"r\"].copy()\n",
    "dist_dt = pd.concat([dnr, dr])\n",
    "dist_dt = pd.melt(dist_dt, id_vars = [\"slug\", \"NAMN\", \"water\", \"city\", \"water_name\"], value_vars=[\"dist\"])\n",
    "dist_ct = pd.melt(dist_ct, id_vars = [\"slug\", \"NAMN\", \"water\", \"city\", \"water_name\"], value_vars=[\"length\"])\n",
    "\n",
    "# river network and disttance to intersection\n",
    "dist_it_len = pd.concat([dist_dt, dist_ct])\n",
    "\n",
    "# min max scale\n",
    "dist_it_len[\"scaled\"] = (dist_it_len[\"value\"] - dist_it_len[\"value\"].min())/(dist_it_len[\"value\"].max() - dist_it_len[\"value\"].min())\n",
    "# bin in groups of 0.05 plus one bin for zero\n",
    "sbinsr = pd.cut(dist_it_len.scaled, bins=bind, labels=np.arange(start=0, stop=21), include_lowest=True, retbins=False)\n",
    "sbinsr=sbinsr.cat.rename_categories(np.arange(start=0, stop=21))\n",
    "dist_it_len[\"binned\"] = sbinsr\n",
    "dist_it_len.rename(columns={\"variable\":\"use\", \"value\":\"magnitude\"}, inplace=True)\n",
    "dist_it_len.set_index(\"slug\", inplace=True, drop=True)\n",
    "\n",
    "strasse = pd.read_csv(\"resources/geodata/streets.csv\", low_memory=False)\n",
    "strasse = strasse[strasse.slug.isin(locations)].copy()\n",
    "strasse.fillna(0, inplace=True)\n",
    "stras = strasse.groupby([\"slug\", \"water_name\", \"city\", \"water\"], as_index=False)[\"street len\"].sum()\n",
    "\n",
    "# min max scale\n",
    "stras[\"scaled\"] = (stras[\"street len\"] - stras[\"street len\"].min())/(stras[\"street len\"].max() - stras[\"street len\"].min())\n",
    "sbinsras = pd.cut(stras.scaled, bins=bind, labels=np.arange(start=0, stop=21), include_lowest=True, retbins=False)\n",
    "sbinsras=sbinsras.cat.rename_categories(np.arange(start=0, stop=21))\n",
    "stras[\"binned\"] = sbinsras\n",
    "stras[\"use\"] = \"Strasse\"\n",
    "stras.rename(columns={\"street len\":\"magnitude\"}, inplace=True)\n",
    "\n",
    "land_use_agg = pd.concat([stras, agg_land_use])\n",
    "land_use_agg.fillna(0, inplace=True)\n",
    "land_use_agg.set_index(\"slug\", drop=True, inplace=True)\n",
    "collection_points = dfBeaches[dfBeaches.water == \"l\"].water_name_slug.unique()"
   ]
  },
  {
   "cell_type": "code",
   "execution_count": 4,
   "metadata": {
    "editable": true,
    "slideshow": {
     "slide_type": ""
    },
    "tags": [
     "remove-input"
    ]
   },
   "outputs": [
    {
     "data": {
      "application/papermill.record/image/png": "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",
      "application/papermill.record/text/plain": "<Figure size 1000x500 with 3 Axes>"
     },
     "metadata": {
      "scrapbook": {
       "mime_prefix": "application/papermill.record/",
       "name": "land_use_dist"
      }
     },
     "output_type": "display_data"
    }
   ],
   "source": [
    "st_sulpice = land_use_agg.loc[(land_use_agg.city==\"Saint-Sulpice (VD)\")]\n",
    "sp = st_sulpice[[\"magnitude\", \"scaled\", \"binned\", \"use\"]]\n",
    "uses = sp.use.unique()\n",
    "\n",
    "tcols = [\"binned\", \"scaled\", \"magnitude\", \"use\"]\n",
    "tst = land_use_agg[[*tcols, \"water_name\"]]\n",
    "tst = tst[tst.water_name == wn_map.loc[\"plage-de-st-sulpice\"]]\n",
    "tst = tst[~tst.use.isin([\"Geroell\", \"Stausee\"])]\n",
    "tstx = tst.pivot(columns=\"use\", values=\"scaled\").fillna(0)\n",
    "\n",
    "corr = tstx.corr()\n",
    "mask = np.triu(np.ones_like(corr, dtype=bool))\n",
    "\n",
    "fig, axs = plt.subplots(1, 2, figsize=(10, 5))\n",
    "\n",
    "ax = axs[0]\n",
    "sns.boxplot(data=land_use_agg[land_use_agg.use.isin(uses)], x=\"use\", y=\"scaled\", ax=ax)\n",
    "sns.stripplot(data=sp, x=\"use\", y=\"scaled\", ax=ax, color=\"magenta\", label=\"Saint-Sulpice (VD)\")\n",
    "ax.set_title(\"Distribution of measured variables\", loc=\"left\")\n",
    "ax.tick_params(axis='x', labelrotation = 90)\n",
    "ax.set_xlabel(\" \")\n",
    "h, l = ax.get_legend_handles_labels()\n",
    "ax.legend([h[0]], [l[0]])\n",
    "\n",
    "sns.heatmap(corr, mask=mask, cmap=\"YlOrBr\", ax=axs[1])\n",
    "\n",
    "axs[1].set_ylabel(\"\")\n",
    "axs[1].set_xlabel(\"\")\n",
    "axs[1].set_title(\"Correlation of measured variables\", loc=\"left\")\n",
    "plt.tight_layout()\n",
    "\n",
    "glue(\"land_use_dist\", fig, display=False)\n",
    "plt.close()"
   ]
  },
  {
   "cell_type": "markdown",
   "metadata": {
    "editable": true,
    "slideshow": {
     "slide_type": ""
    },
    "tags": []
   },
   "source": [
    "```{glue:figure} land_use_dist\n",
    "\n",
    "Distribution and correlation of measured environmental variables\n",
    "``` "
   ]
  },
  {
   "cell_type": "markdown",
   "metadata": {
    "editable": true,
    "slideshow": {
     "slide_type": ""
    },
    "tags": []
   },
   "source": [
    "__The land-use profile of a survey location__ is the unique combination of the measured attributes. For example at the _plage-de-saint-sulpice_ 97% of the dry land is occupied buildings, the rest is either woods (2%) or undefined < 1%. In relation to all other survey locations there is more land attributed to infrastructure and less attributed to recreation (table 2). The column _binned_ is the percentile group that the measured-value corresponds to when all survey locations are considered. Recall that the measured variables are grouped by intervals of 0.05, from the scaled column. Therefore, the amount of land attributed to infrstructure at _plage-de-saint-sulpice_ is greater than 70% of all other locations and the amount of land atrributed to buildings is greater than 95% of all other survey locations. Conversely at _plage-de-saint-sulpice_ the amount attributed to woods is less than 95% of all other locations."
   ]
  },
  {
   "cell_type": "code",
   "execution_count": 5,
   "metadata": {
    "editable": true,
    "slideshow": {
     "slide_type": ""
    },
    "tags": [
     "remove-input"
    ]
   },
   "outputs": [],
   "source": [
    "cois = [\n",
    "    'Gfrags', 'G30', 'G27', 'Gfoam', 'G95', 'Gcaps', 'G67', 'G35', 'G89',\n",
    "    'G31', 'G32', 'G100', 'G33', 'G25', 'G70', 'G10'\n",
    "]\n",
    "\n",
    "# this defines the css rules for the note-book table displays\n",
    "header_row = {'selector': 'th:nth-child(1)', 'props': f'background-color: #FFF; text-align:right'}\n",
    "even_rows = {\"selector\": 'tr:nth-child(even)', 'props': f'background-color: rgba(139, 69, 19, 0.08);'}\n",
    "odd_rows = {'selector': 'tr:nth-child(odd)', 'props': 'background: #FFF;'}\n",
    "table_font = {'selector': 'tr', 'props': 'font-size: 12px;'}\n",
    "table_data = {'selector': 'td', 'props': 'padding: 6px;'}\n",
    "table_caption = {'selector': 'caption', 'props': 'font-size: 14px; font-style: italic; caption-side: bottom; text-align: left; margin-top: 10px'}\n",
    "table_css_styles = [even_rows, odd_rows, table_font, header_row, table_caption]\n",
    "\n",
    "# thresholds\n",
    "thold_data = all_data[(all_data.date >= make_date_object(\"2020-04-01\"))&(all_data.date <= make_date_object(\"2021-05-01\"))]\n",
    "thold_data = thold_data[thold_data.water_name_slug == \"lac-leman\"]\n",
    "thold_data = thold_data[thold_data.code.isin(cois)]\n",
    "# thold_data = thold_data.groupby([\"loc_date\", \"code\"], as_index=False).pcs_m.sum()\n",
    "tholds = thold_data.groupby([\"code\"]).pcs_m.median()\n",
    "tholds_r = (tholds * 100).round()\n",
    "thold_data[\"object\"] = thold_data.code.apply(lambda x: code_d.loc[x])\n",
    "tholdsx = thold_data.groupby([\"code\", \"object\"], as_index=False).pcs_m.median()\n",
    "tholdsx.rename(columns={\"pcs_m\":\"threshold\"}, inplace=True)\n",
    "tholdsx.set_index(\"code\", drop=True, inplace=True)\n",
    "tholdsx.index.name = None"
   ]
  },
  {
   "cell_type": "code",
   "execution_count": 6,
   "metadata": {
    "editable": true,
    "slideshow": {
     "slide_type": ""
    },
    "tags": [
     "remove-input"
    ]
   },
   "outputs": [
    {
     "name": "stdout",
     "output_type": "stream",
     "text": [
      "There is no prior series specified: no operation\n"
     ]
    }
   ],
   "source": [
    "# data for the initial sampling period\n",
    "# the dates of the sampling period\n",
    "# the start and end date\n",
    "slr_d, slr_e = make_date_object(\"2015-11-15\"), make_date_object(\"2016-11-14\")\n",
    "\n",
    "# the date range of the samples\n",
    "date_mask = (all_data[\"date\"] >= slr_d) & (all_data[\"date\"] <= slr_e)\n",
    "\n",
    "# likelihood: the locations from the lake of interest that were surveyed during the time frame\n",
    "# these locations furnish the data for the likelihood, they make up the current results\n",
    "lake_locations = all_data[date_mask & (all_data.water_name_slug == 'lac-leman')].location.unique()\n",
    "\n",
    "xrange =  np.arange(0.01, 10, step=.01)\n",
    "xtest = pd.DataFrame(data=xrange, columns=[\"x\"])\n",
    "xtesti = xtest.copy()\n",
    "\n",
    "uniformed_prior = [0.5 for x in xrange]\n",
    "\n",
    "lake = \"lac-leman\"\n",
    "coi = \"Saint-Sulpice (VD)\"\n",
    "code = \"Gfrags\"\n",
    "    \n",
    "yearone = GridApproximation(slr_d, slr_e, lake, lake_locations, cois, all_data, land_use_agg, tholds_r, xrange, uniformed_prior=uniformed_prior)\n",
    "\n",
    "tdata = yearone.testwo.prior_data  \n",
    "uses = yearone.testwo.land_use_data.use.unique()\n",
    "\n",
    "\n",
    "# sample totals per code all lake locations\n",
    "cstart = yearone.testwo.current_data.groupby([\"loc_date\", \"date\", \"code\"], as_index=False).pcs_m.sum()\n",
    "ctot = cstart.groupby([\"loc_date\", \"date\"], as_index=False).pcs_m.sum()\n",
    "city_results = yearone.testwo.current_data[yearone.testwo.current_data.city == coi]\n",
    "\n",
    "# sample totals per code all locations in city\n",
    "city_tot = city_results.groupby([\"loc_date\", \"date\"], as_index=False).pcs_m.sum()\n",
    "city_start = city_results.groupby([\"loc_date\", \"date\", \"code\"], as_index=False).pcs_m.sum()\n",
    "\n",
    "cmedian = cstart.groupby(\"code\", as_index=False).pcs_m.mean()"
   ]
  },
  {
   "cell_type": "code",
   "execution_count": 7,
   "metadata": {
    "editable": true,
    "slideshow": {
     "slide_type": ""
    },
    "tags": [
     "remove-input"
    ]
   },
   "outputs": [],
   "source": [
    "profile_data, profiles_dict =  land_use_profile_from_data(tdata, code, uses)  \n",
    "gradient_p, ud = make_prior_by_use( tdata[(tdata.code == code)], xtest, profiles_dict)\n",
    "\n",
    "xtesti[\"gradient_p\"] = gradient_p\n",
    "\n",
    "parc_pier =  tdata[(tdata.code == code) & (tdata.location == \"parc-des-pierrettes\")]\n",
    "profile_data_pp, profiles_dict_pp =  land_use_profile_from_data(parc_pier, code, yearone.uses)  \n",
    "gradient_pp, udp = make_prior_by_use(tdata[(tdata.code == code)], xtest, profiles_dict_pp)\n",
    "\n",
    "xtesti[\"prior_use_pp\"] = gradient_pp\n",
    "\n",
    "data = tdata[tdata.code == \"Gfrags\"]\n",
    "prior = np.ones(len(xrange))\n",
    "ud = []\n",
    "\n",
    "for k, v in profiles_dict.items():   \n",
    "    \n",
    "    str_i = data[(data[k].isin(v))].copy()\n",
    "   \n",
    "    use_dist_i = y_exceeds_x_one_code_bin_category(str_i, xtest)\n",
    "    ud.append((use_dist_i, str_i))        \n",
    "  \n",
    "    prior *= use_dist_i.theta\n",
    "    \n",
    "xtesti[\"apriori_i\"] = prior"
   ]
  },
  {
   "cell_type": "code",
   "execution_count": 8,
   "metadata": {
    "editable": true,
    "slideshow": {
     "slide_type": ""
    },
    "tags": [
     "remove-input"
    ]
   },
   "outputs": [
    {
     "data": {
      "text/html": [
       "<style type=\"text/css\">\n",
       "#T_3df6c tr:nth-child(even) {\n",
       "  background-color: rgba(139, 69, 19, 0.08);\n",
       "}\n",
       "#T_3df6c tr:nth-child(odd) {\n",
       "  background: #FFF;\n",
       "}\n",
       "#T_3df6c tr {\n",
       "  font-size: 12px;\n",
       "}\n",
       "#T_3df6c th:nth-child(1) {\n",
       "  background-color: #FFF;\n",
       "  text-align: right;\n",
       "}\n",
       "#T_3df6c caption {\n",
       "  font-size: 14px;\n",
       "  font-style: italic;\n",
       "  caption-side: bottom;\n",
       "  text-align: left;\n",
       "  margin-top: 10px;\n",
       "}\n",
       "</style>\n",
       "<table id=\"T_3df6c\">\n",
       "  <caption>Table 1: Land use profile of plage-de-saint-sulpice</caption>\n",
       "  <thead>\n",
       "    <tr>\n",
       "      <th class=\"blank level0\" >&nbsp;</th>\n",
       "      <th id=\"T_3df6c_level0_col0\" class=\"col_heading level0 col0\" >magnitude</th>\n",
       "      <th id=\"T_3df6c_level0_col1\" class=\"col_heading level0 col1\" >scaled</th>\n",
       "      <th id=\"T_3df6c_level0_col2\" class=\"col_heading level0 col2\" >binned</th>\n",
       "    </tr>\n",
       "  </thead>\n",
       "  <tbody>\n",
       "    <tr>\n",
       "      <th id=\"T_3df6c_level0_row0\" class=\"row_heading level0 row0\" >Strasse</th>\n",
       "      <td id=\"T_3df6c_row0_col0\" class=\"data row0 col0\" >65518</td>\n",
       "      <td id=\"T_3df6c_row0_col1\" class=\"data row0 col1\" >0.313693</td>\n",
       "      <td id=\"T_3df6c_row0_col2\" class=\"data row0 col2\" >7</td>\n",
       "    </tr>\n",
       "    <tr>\n",
       "      <th id=\"T_3df6c_level0_row1\" class=\"row_heading level0 row1\" >infrastructure</th>\n",
       "      <td id=\"T_3df6c_row1_col0\" class=\"data row1 col0\" >1022280</td>\n",
       "      <td id=\"T_3df6c_row1_col1\" class=\"data row1 col1\" >0.734544</td>\n",
       "      <td id=\"T_3df6c_row1_col2\" class=\"data row1 col2\" >15</td>\n",
       "    </tr>\n",
       "    <tr>\n",
       "      <th id=\"T_3df6c_level0_row2\" class=\"row_heading level0 row2\" >recreation</th>\n",
       "      <td id=\"T_3df6c_row2_col0\" class=\"data row2 col0\" >99620</td>\n",
       "      <td id=\"T_3df6c_row2_col1\" class=\"data row2 col1\" >0.174540</td>\n",
       "      <td id=\"T_3df6c_row2_col2\" class=\"data row2 col2\" >4</td>\n",
       "    </tr>\n",
       "    <tr>\n",
       "      <th id=\"T_3df6c_level0_row3\" class=\"row_heading level0 row3\" >Siedl</th>\n",
       "      <td id=\"T_3df6c_row3_col0\" class=\"data row3 col0\" >2905921</td>\n",
       "      <td id=\"T_3df6c_row3_col1\" class=\"data row3 col1\" >0.975773</td>\n",
       "      <td id=\"T_3df6c_row3_col2\" class=\"data row3 col2\" >20</td>\n",
       "    </tr>\n",
       "    <tr>\n",
       "      <th id=\"T_3df6c_level0_row4\" class=\"row_heading level0 row4\" >Wald</th>\n",
       "      <td id=\"T_3df6c_row4_col0\" class=\"data row4 col0\" >64229</td>\n",
       "      <td id=\"T_3df6c_row4_col1\" class=\"data row4 col1\" >0.021567</td>\n",
       "      <td id=\"T_3df6c_row4_col2\" class=\"data row4 col2\" >1</td>\n",
       "    </tr>\n",
       "    <tr>\n",
       "      <th id=\"T_3df6c_level0_row5\" class=\"row_heading level0 row5\" >undefined</th>\n",
       "      <td id=\"T_3df6c_row5_col0\" class=\"data row5 col0\" >7921</td>\n",
       "      <td id=\"T_3df6c_row5_col1\" class=\"data row5 col1\" >0.002660</td>\n",
       "      <td id=\"T_3df6c_row5_col2\" class=\"data row5 col2\" >1</td>\n",
       "    </tr>\n",
       "  </tbody>\n",
       "</table>\n"
      ],
      "text/plain": [
       "<pandas.io.formats.style.Styler at 0x7f2dc4353100>"
      ]
     },
     "execution_count": 8,
     "metadata": {},
     "output_type": "execute_result"
    }
   ],
   "source": [
    "caption=\"Table 1: Land use profile of plage-de-saint-sulpice\"\n",
    "table_one = yearone.testwo.land_use_data.loc[\"plage-de-st-sulpice\"][[\"use\",\"magnitude\", \"scaled\", \"binned\"]]\n",
    "table_one.set_index(\"use\", inplace=True, drop=True)\n",
    "table_one.index.name = None\n",
    "table_one.style.set_caption(caption).set_table_styles(table_css_styles)"
   ]
  },
  {
   "cell_type": "markdown",
   "metadata": {
    "editable": true,
    "slideshow": {
     "slide_type": ""
    },
    "tags": []
   },
   "source": [
    "#### Sequential priors\n",
    "\n",
    "Sequential priors use the uninformed posterior distribution (next section) from the previous sampling campaign for the prior of the current sampling campaign. This amounts to considering only the numerical result of the previous surveys and not including survey results from similar locations.\n",
    "\n",
    "#### Uninformed (uniform) priors\n",
    "\n",
    "Uninformed priors are probability distributions that should not influence the expected probability distribution that is derived from the likelihood. In other words, each sampling period is considered a new experience and their is no complentary information to add that might change our expectations. In this study each calculation is a binary result, therefore we use 0.5 to represent the condition that we have no expectation that a particular survey results will exceed a given threshold.\n",
    "\n",
    "#### Priors: summary\n",
    "\n",
    "Using the notation from equation 6 (Bayes theorem) the effect of the different priors on the expected results can be assessed directly, equations 7-9 demonstrate the different calculations for each prior at each aggregation level.\n",
    "\n",
    "$$\n",
    "\\begin{align}\n",
    "p(\\theta | \\text{survey data}) =&\\ \\frac{p(\\text{environmental conditions})p(\\text{survey data}|\\theta)}{p(\\text{survey data})}\\\\[10pt]\n",
    "p(\\theta | \\text{survey data}) =&\\ \\frac{p(\\text{previous results})p(\\text{survey data}|\\theta)}{p(\\text{survey data})}\\\\[10pt]\n",
    "p(\\theta | \\text{survey data}) =&\\ \\frac{p(\\text{uninformed})p(\\text{survey data}|\\theta)}{p(\\text{surveydata})}\\\\[10pt]\n",
    "\\end{align}\n",
    "$$\n",
    "\n"
   ]
  },
  {
   "cell_type": "markdown",
   "metadata": {
    "editable": true,
    "slideshow": {
     "slide_type": ""
    },
    "tags": []
   },
   "source": [
    "## Codes of interest\n",
    "\n",
    "The codes of interest were chosen because they appear in the 2022 results. It was just luck that there are compatible test data for the model based on the previous survey results. The sampling campaign from 2022 did not involve the authors of this study, thus it is truly an independent test of the sampling methods and proposed model. Collectively these 16 codes account for 76% of the objects identified in 2022, 67% of the objects in 2021 and 58% of the objects found by team SWE. From a machine learning standpoint the 2022 results are the test data to the training data that was collected between 2015 and 2021."
   ]
  },
  {
   "cell_type": "code",
   "execution_count": 9,
   "metadata": {
    "editable": true,
    "jupyter": {
     "source_hidden": true
    },
    "slideshow": {
     "slide_type": ""
    },
    "tags": [
     "remove-input"
    ]
   },
   "outputs": [
    {
     "data": {
      "text/html": [
       "<style type=\"text/css\">\n",
       "#T_c60b5 tr:nth-child(even) {\n",
       "  background-color: rgba(139, 69, 19, 0.08);\n",
       "}\n",
       "#T_c60b5 tr:nth-child(odd) {\n",
       "  background: #FFF;\n",
       "}\n",
       "#T_c60b5 tr {\n",
       "  font-size: 12px;\n",
       "}\n",
       "#T_c60b5 th:nth-child(1) {\n",
       "  background-color: #FFF;\n",
       "  text-align: right;\n",
       "}\n",
       "#T_c60b5 caption {\n",
       "  font-size: 14px;\n",
       "  font-style: italic;\n",
       "  caption-side: bottom;\n",
       "  text-align: left;\n",
       "  margin-top: 10px;\n",
       "}\n",
       "</style>\n",
       "<table id=\"T_c60b5\">\n",
       "  <caption>Table 2: Objects of interest and the median survey results from 2021.</caption>\n",
       "  <thead>\n",
       "    <tr>\n",
       "      <th class=\"blank level0\" >&nbsp;</th>\n",
       "      <th id=\"T_c60b5_level0_col0\" class=\"col_heading level0 col0\" >object</th>\n",
       "      <th id=\"T_c60b5_level0_col1\" class=\"col_heading level0 col1\" >threshold</th>\n",
       "    </tr>\n",
       "  </thead>\n",
       "  <tbody>\n",
       "    <tr>\n",
       "      <th id=\"T_c60b5_level0_row0\" class=\"row_heading level0 row0\" >G10</th>\n",
       "      <td id=\"T_c60b5_row0_col0\" class=\"data row0 col0\" >Food containers single use foamed or plastic</td>\n",
       "      <td id=\"T_c60b5_row0_col1\" class=\"data row0 col1\" >0.010000</td>\n",
       "    </tr>\n",
       "    <tr>\n",
       "      <th id=\"T_c60b5_level0_row1\" class=\"row_heading level0 row1\" >G100</th>\n",
       "      <td id=\"T_c60b5_row1_col0\" class=\"data row1 col0\" >Medical; containers/tubes/ packaging</td>\n",
       "      <td id=\"T_c60b5_row1_col1\" class=\"data row1 col1\" >0.020000</td>\n",
       "    </tr>\n",
       "    <tr>\n",
       "      <th id=\"T_c60b5_level0_row2\" class=\"row_heading level0 row2\" >G25</th>\n",
       "      <td id=\"T_c60b5_row2_col0\" class=\"data row2 col0\" >Tobacco; plastic packaging, containers</td>\n",
       "      <td id=\"T_c60b5_row2_col1\" class=\"data row2 col1\" >0.020000</td>\n",
       "    </tr>\n",
       "    <tr>\n",
       "      <th id=\"T_c60b5_level0_row3\" class=\"row_heading level0 row3\" >G27</th>\n",
       "      <td id=\"T_c60b5_row3_col0\" class=\"data row3 col0\" >Cigarette filters</td>\n",
       "      <td id=\"T_c60b5_row3_col1\" class=\"data row3 col1\" >0.470000</td>\n",
       "    </tr>\n",
       "    <tr>\n",
       "      <th id=\"T_c60b5_level0_row4\" class=\"row_heading level0 row4\" >G30</th>\n",
       "      <td id=\"T_c60b5_row4_col0\" class=\"data row4 col0\" >Food wrappers; candy, snacks</td>\n",
       "      <td id=\"T_c60b5_row4_col1\" class=\"data row4 col1\" >0.210000</td>\n",
       "    </tr>\n",
       "    <tr>\n",
       "      <th id=\"T_c60b5_level0_row5\" class=\"row_heading level0 row5\" >G31</th>\n",
       "      <td id=\"T_c60b5_row5_col0\" class=\"data row5 col0\" >Lollypop sticks</td>\n",
       "      <td id=\"T_c60b5_row5_col1\" class=\"data row5 col1\" >0.030000</td>\n",
       "    </tr>\n",
       "    <tr>\n",
       "      <th id=\"T_c60b5_level0_row6\" class=\"row_heading level0 row6\" >G32</th>\n",
       "      <td id=\"T_c60b5_row6_col0\" class=\"data row6 col0\" >Toys and party favors</td>\n",
       "      <td id=\"T_c60b5_row6_col1\" class=\"data row6 col1\" >0.030000</td>\n",
       "    </tr>\n",
       "    <tr>\n",
       "      <th id=\"T_c60b5_level0_row7\" class=\"row_heading level0 row7\" >G33</th>\n",
       "      <td id=\"T_c60b5_row7_col0\" class=\"data row7 col0\" >Cups, lids, single use foamed and hard plastic</td>\n",
       "      <td id=\"T_c60b5_row7_col1\" class=\"data row7 col1\" >0.020000</td>\n",
       "    </tr>\n",
       "    <tr>\n",
       "      <th id=\"T_c60b5_level0_row8\" class=\"row_heading level0 row8\" >G35</th>\n",
       "      <td id=\"T_c60b5_row8_col0\" class=\"data row8 col0\" >Straws and stirrers</td>\n",
       "      <td id=\"T_c60b5_row8_col1\" class=\"data row8 col1\" >0.040000</td>\n",
       "    </tr>\n",
       "    <tr>\n",
       "      <th id=\"T_c60b5_level0_row9\" class=\"row_heading level0 row9\" >G67</th>\n",
       "      <td id=\"T_c60b5_row9_col0\" class=\"data row9 col0\" >Industrial sheeting</td>\n",
       "      <td id=\"T_c60b5_row9_col1\" class=\"data row9 col1\" >0.090000</td>\n",
       "    </tr>\n",
       "    <tr>\n",
       "      <th id=\"T_c60b5_level0_row10\" class=\"row_heading level0 row10\" >G70</th>\n",
       "      <td id=\"T_c60b5_row10_col0\" class=\"data row10 col0\" >Shotgun cartridges</td>\n",
       "      <td id=\"T_c60b5_row10_col1\" class=\"data row10 col1\" >0.010000</td>\n",
       "    </tr>\n",
       "    <tr>\n",
       "      <th id=\"T_c60b5_level0_row11\" class=\"row_heading level0 row11\" >G89</th>\n",
       "      <td id=\"T_c60b5_row11_col0\" class=\"data row11 col0\" >Plastic construction waste</td>\n",
       "      <td id=\"T_c60b5_row11_col1\" class=\"data row11 col1\" >0.060000</td>\n",
       "    </tr>\n",
       "    <tr>\n",
       "      <th id=\"T_c60b5_level0_row12\" class=\"row_heading level0 row12\" >G95</th>\n",
       "      <td id=\"T_c60b5_row12_col0\" class=\"data row12 col0\" >Cotton bud/swab sticks</td>\n",
       "      <td id=\"T_c60b5_row12_col1\" class=\"data row12 col1\" >0.120000</td>\n",
       "    </tr>\n",
       "    <tr>\n",
       "      <th id=\"T_c60b5_level0_row13\" class=\"row_heading level0 row13\" >Gcaps</th>\n",
       "      <td id=\"T_c60b5_row13_col0\" class=\"data row13 col0\" >Plastic bottle lids</td>\n",
       "      <td id=\"T_c60b5_row13_col1\" class=\"data row13 col1\" >0.110000</td>\n",
       "    </tr>\n",
       "    <tr>\n",
       "      <th id=\"T_c60b5_level0_row14\" class=\"row_heading level0 row14\" >Gfoam</th>\n",
       "      <td id=\"T_c60b5_row14_col0\" class=\"data row14 col0\" >Expanded polystyrene</td>\n",
       "      <td id=\"T_c60b5_row14_col1\" class=\"data row14 col1\" >0.280000</td>\n",
       "    </tr>\n",
       "    <tr>\n",
       "      <th id=\"T_c60b5_level0_row15\" class=\"row_heading level0 row15\" >Gfrags</th>\n",
       "      <td id=\"T_c60b5_row15_col0\" class=\"data row15 col0\" >Fragmented plastics</td>\n",
       "      <td id=\"T_c60b5_row15_col1\" class=\"data row15 col1\" >0.610000</td>\n",
       "    </tr>\n",
       "  </tbody>\n",
       "</table>\n"
      ],
      "text/plain": [
       "<pandas.io.formats.style.Styler at 0x7f2d32563520>"
      ]
     },
     "execution_count": 9,
     "metadata": {},
     "output_type": "execute_result"
    }
   ],
   "source": [
    "# the unique land use categories in the current data set\n",
    "caption = \"Table 2: Objects of interest and the median survey results from 2021.\"\n",
    "tholdsx.style.set_caption(caption).set_table_styles(table_css_styles)"
   ]
  },
  {
   "cell_type": "markdown",
   "metadata": {
    "editable": true,
    "slideshow": {
     "slide_type": ""
    },
    "tags": []
   },
   "source": [
    "## Implementation\n",
    "\n",
    "For this initial study we are directly calculating the probability of an event given the events described in the survey results. The result is a point estimate of the probability of that event, given the data and the prior probability of that event.\n",
    "\n",
    "### Inference tables\n",
    "\n",
    "Inference tables are Grid approximations made from a series of point estimates calculated using Bayes theorem. Instead of calculating the probability of every event, we calculate points at fixed intervals between a minimum and maximum range of probable values. The minimum is zero, for this study we set the maximum to 1000 p/100 m or 10 p/m. The maximum can be defined by the data, taking the 99th percentile for example. This method is 100% inspired by Alan Downeys example using _python_ : [Think Bayes 2](https://allendowney.github.io/ThinkBayes2/chap02.html) and using _R_ : [Approximating the posterior](https://www.bayesrulesbook.com/chapter-6.html) in _Bayes Rules! An Introduction to Applied Bayesian Modeling_. Grid approximations leverage basic array functionality and make it easy to implement different methods for handling the priors. Recal that there are two  hypothesis for each event: _h = the threshhold was exceeded_, _h1 = the threshhold was not exceeded_. ([Bayes' theorem](https://en.wikipedia.org/wiki/Bayes%27_theorem)) ([conditional proabability](https://en.wikipedia.org/wiki/Conditional_probability)). \n",
    "\n",
    "#### The grid: year one\n",
    "\n",
    "The grid is defined for each _x_ in the set _(0.0, 0.01, 0.02, ... , 9.99)_, this corresponds to 0p/m - 1000p/m or 98% of all survey results. Each row in the grid is one event that is being evaluated (table 4). From table four, given an uninformed prior (table 4: pr) there was a 40%-41% chance of exceeding the 2021 threshold for Gfrags in 2015 (table 4: post) . The operations are column wise, in this case we consider both hypothesis in each row, the total probability (table 4: ptot) is the sum of the likelihood * prior for both hypothesis."
   ]
  },
  {
   "cell_type": "code",
   "execution_count": 10,
   "metadata": {
    "editable": true,
    "slideshow": {
     "slide_type": ""
    },
    "tags": [
     "remove-input"
    ]
   },
   "outputs": [
    {
     "data": {
      "text/html": [
       "<style type=\"text/css\">\n",
       "#T_32641 tr:nth-child(even) {\n",
       "  background-color: rgba(139, 69, 19, 0.08);\n",
       "}\n",
       "#T_32641 tr:nth-child(odd) {\n",
       "  background: #FFF;\n",
       "}\n",
       "#T_32641 tr {\n",
       "  font-size: 12px;\n",
       "}\n",
       "#T_32641 th:nth-child(1) {\n",
       "  background-color: #FFF;\n",
       "  text-align: right;\n",
       "}\n",
       "#T_32641 caption {\n",
       "  font-size: 14px;\n",
       "  font-style: italic;\n",
       "  caption-side: bottom;\n",
       "  text-align: left;\n",
       "  margin-top: 10px;\n",
       "}\n",
       "</style>\n",
       "<table id=\"T_32641\">\n",
       "  <caption>Table 3: Chance of exceeding the 2021 threshold, Gfrags 2015, prior=0.5. Columns = qty=p/m, lh=likelihood, pr=prior, post=posterior</caption>\n",
       "  <thead>\n",
       "    <tr>\n",
       "      <th class=\"blank level0\" >&nbsp;</th>\n",
       "      <th id=\"T_32641_level0_col0\" class=\"col_heading level0 col0\" >qty</th>\n",
       "      <th id=\"T_32641_level0_col1\" class=\"col_heading level0 col1\" >lh</th>\n",
       "      <th id=\"T_32641_level0_col2\" class=\"col_heading level0 col2\" >pr</th>\n",
       "      <th id=\"T_32641_level0_col3\" class=\"col_heading level0 col3\" >1-lh</th>\n",
       "      <th id=\"T_32641_level0_col4\" class=\"col_heading level0 col4\" >1-pr</th>\n",
       "      <th id=\"T_32641_level0_col5\" class=\"col_heading level0 col5\" >lh*pr</th>\n",
       "      <th id=\"T_32641_level0_col6\" class=\"col_heading level0 col6\" >1-lh*1-pr</th>\n",
       "      <th id=\"T_32641_level0_col7\" class=\"col_heading level0 col7\" >p-total</th>\n",
       "      <th id=\"T_32641_level0_col8\" class=\"col_heading level0 col8\" >post</th>\n",
       "    </tr>\n",
       "  </thead>\n",
       "  <tbody>\n",
       "    <tr>\n",
       "      <th id=\"T_32641_level0_row0\" class=\"row_heading level0 row0\" >58</th>\n",
       "      <td id=\"T_32641_row0_col0\" class=\"data row0 col0\" >0.590000</td>\n",
       "      <td id=\"T_32641_row0_col1\" class=\"data row0 col1\" >0.414634</td>\n",
       "      <td id=\"T_32641_row0_col2\" class=\"data row0 col2\" >0.500000</td>\n",
       "      <td id=\"T_32641_row0_col3\" class=\"data row0 col3\" >0.585366</td>\n",
       "      <td id=\"T_32641_row0_col4\" class=\"data row0 col4\" >0.500000</td>\n",
       "      <td id=\"T_32641_row0_col5\" class=\"data row0 col5\" >0.207317</td>\n",
       "      <td id=\"T_32641_row0_col6\" class=\"data row0 col6\" >0.292683</td>\n",
       "      <td id=\"T_32641_row0_col7\" class=\"data row0 col7\" >0.500000</td>\n",
       "      <td id=\"T_32641_row0_col8\" class=\"data row0 col8\" >0.414634</td>\n",
       "    </tr>\n",
       "    <tr>\n",
       "      <th id=\"T_32641_level0_row1\" class=\"row_heading level0 row1\" >59</th>\n",
       "      <td id=\"T_32641_row1_col0\" class=\"data row1 col0\" >0.600000</td>\n",
       "      <td id=\"T_32641_row1_col1\" class=\"data row1 col1\" >0.414634</td>\n",
       "      <td id=\"T_32641_row1_col2\" class=\"data row1 col2\" >0.500000</td>\n",
       "      <td id=\"T_32641_row1_col3\" class=\"data row1 col3\" >0.585366</td>\n",
       "      <td id=\"T_32641_row1_col4\" class=\"data row1 col4\" >0.500000</td>\n",
       "      <td id=\"T_32641_row1_col5\" class=\"data row1 col5\" >0.207317</td>\n",
       "      <td id=\"T_32641_row1_col6\" class=\"data row1 col6\" >0.292683</td>\n",
       "      <td id=\"T_32641_row1_col7\" class=\"data row1 col7\" >0.500000</td>\n",
       "      <td id=\"T_32641_row1_col8\" class=\"data row1 col8\" >0.414634</td>\n",
       "    </tr>\n",
       "    <tr>\n",
       "      <th id=\"T_32641_level0_row2\" class=\"row_heading level0 row2\" >60</th>\n",
       "      <td id=\"T_32641_row2_col0\" class=\"data row2 col0\" >0.610000</td>\n",
       "      <td id=\"T_32641_row2_col1\" class=\"data row2 col1\" >0.414634</td>\n",
       "      <td id=\"T_32641_row2_col2\" class=\"data row2 col2\" >0.500000</td>\n",
       "      <td id=\"T_32641_row2_col3\" class=\"data row2 col3\" >0.585366</td>\n",
       "      <td id=\"T_32641_row2_col4\" class=\"data row2 col4\" >0.500000</td>\n",
       "      <td id=\"T_32641_row2_col5\" class=\"data row2 col5\" >0.207317</td>\n",
       "      <td id=\"T_32641_row2_col6\" class=\"data row2 col6\" >0.292683</td>\n",
       "      <td id=\"T_32641_row2_col7\" class=\"data row2 col7\" >0.500000</td>\n",
       "      <td id=\"T_32641_row2_col8\" class=\"data row2 col8\" >0.414634</td>\n",
       "    </tr>\n",
       "    <tr>\n",
       "      <th id=\"T_32641_level0_row3\" class=\"row_heading level0 row3\" >61</th>\n",
       "      <td id=\"T_32641_row3_col0\" class=\"data row3 col0\" >0.620000</td>\n",
       "      <td id=\"T_32641_row3_col1\" class=\"data row3 col1\" >0.414634</td>\n",
       "      <td id=\"T_32641_row3_col2\" class=\"data row3 col2\" >0.500000</td>\n",
       "      <td id=\"T_32641_row3_col3\" class=\"data row3 col3\" >0.585366</td>\n",
       "      <td id=\"T_32641_row3_col4\" class=\"data row3 col4\" >0.500000</td>\n",
       "      <td id=\"T_32641_row3_col5\" class=\"data row3 col5\" >0.207317</td>\n",
       "      <td id=\"T_32641_row3_col6\" class=\"data row3 col6\" >0.292683</td>\n",
       "      <td id=\"T_32641_row3_col7\" class=\"data row3 col7\" >0.500000</td>\n",
       "      <td id=\"T_32641_row3_col8\" class=\"data row3 col8\" >0.414634</td>\n",
       "    </tr>\n",
       "    <tr>\n",
       "      <th id=\"T_32641_level0_row4\" class=\"row_heading level0 row4\" >62</th>\n",
       "      <td id=\"T_32641_row4_col0\" class=\"data row4 col0\" >0.630000</td>\n",
       "      <td id=\"T_32641_row4_col1\" class=\"data row4 col1\" >0.402439</td>\n",
       "      <td id=\"T_32641_row4_col2\" class=\"data row4 col2\" >0.500000</td>\n",
       "      <td id=\"T_32641_row4_col3\" class=\"data row4 col3\" >0.597561</td>\n",
       "      <td id=\"T_32641_row4_col4\" class=\"data row4 col4\" >0.500000</td>\n",
       "      <td id=\"T_32641_row4_col5\" class=\"data row4 col5\" >0.201220</td>\n",
       "      <td id=\"T_32641_row4_col6\" class=\"data row4 col6\" >0.298780</td>\n",
       "      <td id=\"T_32641_row4_col7\" class=\"data row4 col7\" >0.500000</td>\n",
       "      <td id=\"T_32641_row4_col8\" class=\"data row4 col8\" >0.402439</td>\n",
       "    </tr>\n",
       "    <tr>\n",
       "      <th id=\"T_32641_level0_row5\" class=\"row_heading level0 row5\" >63</th>\n",
       "      <td id=\"T_32641_row5_col0\" class=\"data row5 col0\" >0.640000</td>\n",
       "      <td id=\"T_32641_row5_col1\" class=\"data row5 col1\" >0.402439</td>\n",
       "      <td id=\"T_32641_row5_col2\" class=\"data row5 col2\" >0.500000</td>\n",
       "      <td id=\"T_32641_row5_col3\" class=\"data row5 col3\" >0.597561</td>\n",
       "      <td id=\"T_32641_row5_col4\" class=\"data row5 col4\" >0.500000</td>\n",
       "      <td id=\"T_32641_row5_col5\" class=\"data row5 col5\" >0.201220</td>\n",
       "      <td id=\"T_32641_row5_col6\" class=\"data row5 col6\" >0.298780</td>\n",
       "      <td id=\"T_32641_row5_col7\" class=\"data row5 col7\" >0.500000</td>\n",
       "      <td id=\"T_32641_row5_col8\" class=\"data row5 col8\" >0.402439</td>\n",
       "    </tr>\n",
       "    <tr>\n",
       "      <th id=\"T_32641_level0_row6\" class=\"row_heading level0 row6\" >64</th>\n",
       "      <td id=\"T_32641_row6_col0\" class=\"data row6 col0\" >0.650000</td>\n",
       "      <td id=\"T_32641_row6_col1\" class=\"data row6 col1\" >0.402439</td>\n",
       "      <td id=\"T_32641_row6_col2\" class=\"data row6 col2\" >0.500000</td>\n",
       "      <td id=\"T_32641_row6_col3\" class=\"data row6 col3\" >0.597561</td>\n",
       "      <td id=\"T_32641_row6_col4\" class=\"data row6 col4\" >0.500000</td>\n",
       "      <td id=\"T_32641_row6_col5\" class=\"data row6 col5\" >0.201220</td>\n",
       "      <td id=\"T_32641_row6_col6\" class=\"data row6 col6\" >0.298780</td>\n",
       "      <td id=\"T_32641_row6_col7\" class=\"data row6 col7\" >0.500000</td>\n",
       "      <td id=\"T_32641_row6_col8\" class=\"data row6 col8\" >0.402439</td>\n",
       "    </tr>\n",
       "  </tbody>\n",
       "</table>\n"
      ],
      "text/plain": [
       "<pandas.io.formats.style.Styler at 0x7f2d323fc1c0>"
      ]
     },
     "execution_count": 10,
     "metadata": {},
     "output_type": "execute_result"
    }
   ],
   "source": [
    "table_four = yearone.testwo_post.uninformed[0]\n",
    "table_four = table_four.loc[58:64]\n",
    "\n",
    "caption = \"Table 3: Chance of exceeding the 2021 threshold, Gfrags 2015, prior=0.5. Columns = qty=p/m, lh=likelihood, pr=prior, post=posterior\"\n",
    "\n",
    "table_four.style.set_caption(caption).set_table_styles(table_css_styles)"
   ]
  },
  {
   "cell_type": "code",
   "execution_count": 11,
   "metadata": {
    "editable": true,
    "slideshow": {
     "slide_type": ""
    },
    "tags": [
     "remove-input"
    ]
   },
   "outputs": [],
   "source": [
    "# table_five = yearone.testwo_post.shared[0]\n",
    "# table_five = table_five.loc[58:64]\n",
    "\n",
    "# caption = \"Table 5: Chance of exceeding the 2021 threshold, Gfrags 2015, prior=shared. Columns = qty=p/m, lh=likelihood, pr=prior, post=posterior\"\n",
    "\n",
    "# table_five.style.set_caption(caption).set_table_styles(table_css_styles)"
   ]
  },
  {
   "cell_type": "markdown",
   "metadata": {},
   "source": [
    "#### The grid: year two"
   ]
  },
  {
   "cell_type": "code",
   "execution_count": 12,
   "metadata": {
    "editable": true,
    "slideshow": {
     "slide_type": ""
    },
    "tags": [
     "remove-input"
    ]
   },
   "outputs": [],
   "source": [
    "slr_d = make_date_object(\"2017-04-01\")\n",
    "slr_e = make_date_object(\"2018-05-01\")\n",
    "date_mask = (all_data[\"date\"] >= slr_d) & (all_data[\"date\"] <= slr_e)\n",
    "\n",
    "lake_locations = all_data[date_mask & (all_data.water_name_slug == 'lac-leman')].location.unique()\n",
    "prior_locations = all_data[(all_data[\"date\"] <= slr_e)&(all_data.water == \"l\")].location.unique()\n",
    "\n",
    "yeartwo = GridApproximation(slr_d, slr_e, lake, lake_locations, cois, all_data, land_use_agg, tholds_r, xrange, prior_series=yearone.testwo_post.uninformed, uniformed_prior=uniformed_prior)\n",
    "\n",
    "yeartwo.testwo_post.prior_shared(yearone.testwo_post.prior_data)\n",
    "tdata = yeartwo.testwo.prior_data\n",
    "\n",
    "c_data2 = tdata[(tdata.code == code)]\n",
    "city_data2 = c_data2[(c_data2.city == \"Saint-Sulpice (VD)\")]\n",
    "lprofiles2 = list(set(city_data2.columns).intersection(uses))\n",
    "profiles_dict2 = {x:c_data2[x].values for x in lprofiles2}\n",
    "\n",
    "gradient_p2, _ = make_prior_by_use(c_data2, xtest, profiles_dict2)\n",
    "xtesti[\"prior_use2\"] = gradient_p2"
   ]
  },
  {
   "cell_type": "code",
   "execution_count": 13,
   "metadata": {
    "editable": true,
    "slideshow": {
     "slide_type": ""
    },
    "tags": [
     "remove-input"
    ]
   },
   "outputs": [
    {
     "data": {
      "text/html": [
       "<style type=\"text/css\">\n",
       "#T_b0857 tr:nth-child(even) {\n",
       "  background-color: rgba(139, 69, 19, 0.08);\n",
       "}\n",
       "#T_b0857 tr:nth-child(odd) {\n",
       "  background: #FFF;\n",
       "}\n",
       "#T_b0857 tr {\n",
       "  font-size: 12px;\n",
       "}\n",
       "#T_b0857 th:nth-child(1) {\n",
       "  background-color: #FFF;\n",
       "  text-align: right;\n",
       "}\n",
       "#T_b0857 caption {\n",
       "  font-size: 14px;\n",
       "  font-style: italic;\n",
       "  caption-side: bottom;\n",
       "  text-align: left;\n",
       "  margin-top: 10px;\n",
       "}\n",
       "</style>\n",
       "<table id=\"T_b0857\">\n",
       "  <caption>Table 4: Chance of exceeding the 2021 threshold, Gfrags 2018, prior=0.5. Columns = qty=p/m, lh=likelihood, pr=prior, post=posterior</caption>\n",
       "  <thead>\n",
       "    <tr>\n",
       "      <th class=\"blank level0\" >&nbsp;</th>\n",
       "      <th id=\"T_b0857_level0_col0\" class=\"col_heading level0 col0\" >qty</th>\n",
       "      <th id=\"T_b0857_level0_col1\" class=\"col_heading level0 col1\" >lh</th>\n",
       "      <th id=\"T_b0857_level0_col2\" class=\"col_heading level0 col2\" >pr</th>\n",
       "      <th id=\"T_b0857_level0_col3\" class=\"col_heading level0 col3\" >1-lh</th>\n",
       "      <th id=\"T_b0857_level0_col4\" class=\"col_heading level0 col4\" >1-pr</th>\n",
       "      <th id=\"T_b0857_level0_col5\" class=\"col_heading level0 col5\" >lh*pr</th>\n",
       "      <th id=\"T_b0857_level0_col6\" class=\"col_heading level0 col6\" >1-lh*1-pr</th>\n",
       "      <th id=\"T_b0857_level0_col7\" class=\"col_heading level0 col7\" >p-total</th>\n",
       "      <th id=\"T_b0857_level0_col8\" class=\"col_heading level0 col8\" >post</th>\n",
       "    </tr>\n",
       "  </thead>\n",
       "  <tbody>\n",
       "    <tr>\n",
       "      <th id=\"T_b0857_level0_row0\" class=\"row_heading level0 row0\" >58</th>\n",
       "      <td id=\"T_b0857_row0_col0\" class=\"data row0 col0\" >0.590000</td>\n",
       "      <td id=\"T_b0857_row0_col1\" class=\"data row0 col1\" >0.391304</td>\n",
       "      <td id=\"T_b0857_row0_col2\" class=\"data row0 col2\" >0.500000</td>\n",
       "      <td id=\"T_b0857_row0_col3\" class=\"data row0 col3\" >0.608696</td>\n",
       "      <td id=\"T_b0857_row0_col4\" class=\"data row0 col4\" >0.500000</td>\n",
       "      <td id=\"T_b0857_row0_col5\" class=\"data row0 col5\" >0.195652</td>\n",
       "      <td id=\"T_b0857_row0_col6\" class=\"data row0 col6\" >0.304348</td>\n",
       "      <td id=\"T_b0857_row0_col7\" class=\"data row0 col7\" >0.500000</td>\n",
       "      <td id=\"T_b0857_row0_col8\" class=\"data row0 col8\" >0.391304</td>\n",
       "    </tr>\n",
       "    <tr>\n",
       "      <th id=\"T_b0857_level0_row1\" class=\"row_heading level0 row1\" >59</th>\n",
       "      <td id=\"T_b0857_row1_col0\" class=\"data row1 col0\" >0.600000</td>\n",
       "      <td id=\"T_b0857_row1_col1\" class=\"data row1 col1\" >0.369565</td>\n",
       "      <td id=\"T_b0857_row1_col2\" class=\"data row1 col2\" >0.500000</td>\n",
       "      <td id=\"T_b0857_row1_col3\" class=\"data row1 col3\" >0.630435</td>\n",
       "      <td id=\"T_b0857_row1_col4\" class=\"data row1 col4\" >0.500000</td>\n",
       "      <td id=\"T_b0857_row1_col5\" class=\"data row1 col5\" >0.184783</td>\n",
       "      <td id=\"T_b0857_row1_col6\" class=\"data row1 col6\" >0.315217</td>\n",
       "      <td id=\"T_b0857_row1_col7\" class=\"data row1 col7\" >0.500000</td>\n",
       "      <td id=\"T_b0857_row1_col8\" class=\"data row1 col8\" >0.369565</td>\n",
       "    </tr>\n",
       "    <tr>\n",
       "      <th id=\"T_b0857_level0_row2\" class=\"row_heading level0 row2\" >60</th>\n",
       "      <td id=\"T_b0857_row2_col0\" class=\"data row2 col0\" >0.610000</td>\n",
       "      <td id=\"T_b0857_row2_col1\" class=\"data row2 col1\" >0.369565</td>\n",
       "      <td id=\"T_b0857_row2_col2\" class=\"data row2 col2\" >0.500000</td>\n",
       "      <td id=\"T_b0857_row2_col3\" class=\"data row2 col3\" >0.630435</td>\n",
       "      <td id=\"T_b0857_row2_col4\" class=\"data row2 col4\" >0.500000</td>\n",
       "      <td id=\"T_b0857_row2_col5\" class=\"data row2 col5\" >0.184783</td>\n",
       "      <td id=\"T_b0857_row2_col6\" class=\"data row2 col6\" >0.315217</td>\n",
       "      <td id=\"T_b0857_row2_col7\" class=\"data row2 col7\" >0.500000</td>\n",
       "      <td id=\"T_b0857_row2_col8\" class=\"data row2 col8\" >0.369565</td>\n",
       "    </tr>\n",
       "    <tr>\n",
       "      <th id=\"T_b0857_level0_row3\" class=\"row_heading level0 row3\" >61</th>\n",
       "      <td id=\"T_b0857_row3_col0\" class=\"data row3 col0\" >0.620000</td>\n",
       "      <td id=\"T_b0857_row3_col1\" class=\"data row3 col1\" >0.369565</td>\n",
       "      <td id=\"T_b0857_row3_col2\" class=\"data row3 col2\" >0.500000</td>\n",
       "      <td id=\"T_b0857_row3_col3\" class=\"data row3 col3\" >0.630435</td>\n",
       "      <td id=\"T_b0857_row3_col4\" class=\"data row3 col4\" >0.500000</td>\n",
       "      <td id=\"T_b0857_row3_col5\" class=\"data row3 col5\" >0.184783</td>\n",
       "      <td id=\"T_b0857_row3_col6\" class=\"data row3 col6\" >0.315217</td>\n",
       "      <td id=\"T_b0857_row3_col7\" class=\"data row3 col7\" >0.500000</td>\n",
       "      <td id=\"T_b0857_row3_col8\" class=\"data row3 col8\" >0.369565</td>\n",
       "    </tr>\n",
       "    <tr>\n",
       "      <th id=\"T_b0857_level0_row4\" class=\"row_heading level0 row4\" >62</th>\n",
       "      <td id=\"T_b0857_row4_col0\" class=\"data row4 col0\" >0.630000</td>\n",
       "      <td id=\"T_b0857_row4_col1\" class=\"data row4 col1\" >0.369565</td>\n",
       "      <td id=\"T_b0857_row4_col2\" class=\"data row4 col2\" >0.500000</td>\n",
       "      <td id=\"T_b0857_row4_col3\" class=\"data row4 col3\" >0.630435</td>\n",
       "      <td id=\"T_b0857_row4_col4\" class=\"data row4 col4\" >0.500000</td>\n",
       "      <td id=\"T_b0857_row4_col5\" class=\"data row4 col5\" >0.184783</td>\n",
       "      <td id=\"T_b0857_row4_col6\" class=\"data row4 col6\" >0.315217</td>\n",
       "      <td id=\"T_b0857_row4_col7\" class=\"data row4 col7\" >0.500000</td>\n",
       "      <td id=\"T_b0857_row4_col8\" class=\"data row4 col8\" >0.369565</td>\n",
       "    </tr>\n",
       "    <tr>\n",
       "      <th id=\"T_b0857_level0_row5\" class=\"row_heading level0 row5\" >63</th>\n",
       "      <td id=\"T_b0857_row5_col0\" class=\"data row5 col0\" >0.640000</td>\n",
       "      <td id=\"T_b0857_row5_col1\" class=\"data row5 col1\" >0.347826</td>\n",
       "      <td id=\"T_b0857_row5_col2\" class=\"data row5 col2\" >0.500000</td>\n",
       "      <td id=\"T_b0857_row5_col3\" class=\"data row5 col3\" >0.652174</td>\n",
       "      <td id=\"T_b0857_row5_col4\" class=\"data row5 col4\" >0.500000</td>\n",
       "      <td id=\"T_b0857_row5_col5\" class=\"data row5 col5\" >0.173913</td>\n",
       "      <td id=\"T_b0857_row5_col6\" class=\"data row5 col6\" >0.326087</td>\n",
       "      <td id=\"T_b0857_row5_col7\" class=\"data row5 col7\" >0.500000</td>\n",
       "      <td id=\"T_b0857_row5_col8\" class=\"data row5 col8\" >0.347826</td>\n",
       "    </tr>\n",
       "    <tr>\n",
       "      <th id=\"T_b0857_level0_row6\" class=\"row_heading level0 row6\" >64</th>\n",
       "      <td id=\"T_b0857_row6_col0\" class=\"data row6 col0\" >0.650000</td>\n",
       "      <td id=\"T_b0857_row6_col1\" class=\"data row6 col1\" >0.347826</td>\n",
       "      <td id=\"T_b0857_row6_col2\" class=\"data row6 col2\" >0.500000</td>\n",
       "      <td id=\"T_b0857_row6_col3\" class=\"data row6 col3\" >0.652174</td>\n",
       "      <td id=\"T_b0857_row6_col4\" class=\"data row6 col4\" >0.500000</td>\n",
       "      <td id=\"T_b0857_row6_col5\" class=\"data row6 col5\" >0.173913</td>\n",
       "      <td id=\"T_b0857_row6_col6\" class=\"data row6 col6\" >0.326087</td>\n",
       "      <td id=\"T_b0857_row6_col7\" class=\"data row6 col7\" >0.500000</td>\n",
       "      <td id=\"T_b0857_row6_col8\" class=\"data row6 col8\" >0.347826</td>\n",
       "    </tr>\n",
       "  </tbody>\n",
       "</table>\n"
      ],
      "text/plain": [
       "<pandas.io.formats.style.Styler at 0x7f2d323a5a30>"
      ]
     },
     "execution_count": 13,
     "metadata": {},
     "output_type": "execute_result"
    }
   ],
   "source": [
    "table_six = yeartwo.testwo_post.uninformed[0]\n",
    "table_six = table_six.loc[58:64]\n",
    "\n",
    "caption = \"Table 4: Chance of exceeding the 2021 threshold, Gfrags 2018, prior=0.5. Columns = qty=p/m, lh=likelihood, pr=prior, post=posterior\"\n",
    "\n",
    "table_six.style.set_caption(caption).set_table_styles(table_css_styles)"
   ]
  },
  {
   "cell_type": "markdown",
   "metadata": {
    "editable": true,
    "slideshow": {
     "slide_type": ""
    },
    "tags": []
   },
   "source": [
    "Shared priors can be applied from the first year, however the pool of similar survey locations is limitted to the survey locations from the first year. As a result, the shared priors are used after the first sampling campaign (table 5). The result is a posterior distribution that is approximately 10% lower than the unifinformed prior. The prior is calculated two ways, post_beta is the result of scipy.stats.beta(kl/ nl).mean()."
   ]
  },
  {
   "cell_type": "code",
   "execution_count": 14,
   "metadata": {
    "editable": true,
    "slideshow": {
     "slide_type": ""
    },
    "tags": [
     "remove-input"
    ]
   },
   "outputs": [
    {
     "data": {
      "text/html": [
       "<style type=\"text/css\">\n",
       "#T_2e129 tr:nth-child(even) {\n",
       "  background-color: rgba(139, 69, 19, 0.08);\n",
       "}\n",
       "#T_2e129 tr:nth-child(odd) {\n",
       "  background: #FFF;\n",
       "}\n",
       "#T_2e129 tr {\n",
       "  font-size: 12px;\n",
       "}\n",
       "#T_2e129 th:nth-child(1) {\n",
       "  background-color: #FFF;\n",
       "  text-align: right;\n",
       "}\n",
       "#T_2e129 caption {\n",
       "  font-size: 14px;\n",
       "  font-style: italic;\n",
       "  caption-side: bottom;\n",
       "  text-align: left;\n",
       "  margin-top: 10px;\n",
       "}\n",
       "</style>\n",
       "<table id=\"T_2e129\">\n",
       "  <caption>Table 5: Chance of exceeding the 2021 threshold, Gfrags 2018, prior=shared. Columns = qty=p/m, lh=likelihood, pr=prior, post=posterior</caption>\n",
       "  <thead>\n",
       "    <tr>\n",
       "      <th class=\"blank level0\" >&nbsp;</th>\n",
       "      <th id=\"T_2e129_level0_col0\" class=\"col_heading level0 col0\" >qty</th>\n",
       "      <th id=\"T_2e129_level0_col1\" class=\"col_heading level0 col1\" >lh</th>\n",
       "      <th id=\"T_2e129_level0_col2\" class=\"col_heading level0 col2\" >pr</th>\n",
       "      <th id=\"T_2e129_level0_col3\" class=\"col_heading level0 col3\" >k</th>\n",
       "      <th id=\"T_2e129_level0_col4\" class=\"col_heading level0 col4\" >n</th>\n",
       "      <th id=\"T_2e129_level0_col5\" class=\"col_heading level0 col5\" >kl</th>\n",
       "      <th id=\"T_2e129_level0_col6\" class=\"col_heading level0 col6\" >kn</th>\n",
       "      <th id=\"T_2e129_level0_col7\" class=\"col_heading level0 col7\" >post_beta</th>\n",
       "      <th id=\"T_2e129_level0_col8\" class=\"col_heading level0 col8\" >1-lh</th>\n",
       "      <th id=\"T_2e129_level0_col9\" class=\"col_heading level0 col9\" >1-pr</th>\n",
       "      <th id=\"T_2e129_level0_col10\" class=\"col_heading level0 col10\" >lh*pr</th>\n",
       "      <th id=\"T_2e129_level0_col11\" class=\"col_heading level0 col11\" >1-lh*1-pr</th>\n",
       "      <th id=\"T_2e129_level0_col12\" class=\"col_heading level0 col12\" >p-total</th>\n",
       "      <th id=\"T_2e129_level0_col13\" class=\"col_heading level0 col13\" >post</th>\n",
       "    </tr>\n",
       "  </thead>\n",
       "  <tbody>\n",
       "    <tr>\n",
       "      <th id=\"T_2e129_level0_row0\" class=\"row_heading level0 row0\" >58</th>\n",
       "      <td id=\"T_2e129_row0_col0\" class=\"data row0 col0\" >0.590000</td>\n",
       "      <td id=\"T_2e129_row0_col1\" class=\"data row0 col1\" >0.391304</td>\n",
       "      <td id=\"T_2e129_row0_col2\" class=\"data row0 col2\" >0.414634</td>\n",
       "      <td id=\"T_2e129_row0_col3\" class=\"data row0 col3\" >34</td>\n",
       "      <td id=\"T_2e129_row0_col4\" class=\"data row0 col4\" >82</td>\n",
       "      <td id=\"T_2e129_row0_col5\" class=\"data row0 col5\" >18</td>\n",
       "      <td id=\"T_2e129_row0_col6\" class=\"data row0 col6\" >46</td>\n",
       "      <td id=\"T_2e129_row0_col7\" class=\"data row0 col7\" >0.309091</td>\n",
       "      <td id=\"T_2e129_row0_col8\" class=\"data row0 col8\" >0.608696</td>\n",
       "      <td id=\"T_2e129_row0_col9\" class=\"data row0 col9\" >0.585366</td>\n",
       "      <td id=\"T_2e129_row0_col10\" class=\"data row0 col10\" >0.162248</td>\n",
       "      <td id=\"T_2e129_row0_col11\" class=\"data row0 col11\" >0.356310</td>\n",
       "      <td id=\"T_2e129_row0_col12\" class=\"data row0 col12\" >0.518558</td>\n",
       "      <td id=\"T_2e129_row0_col13\" class=\"data row0 col13\" >0.312883</td>\n",
       "    </tr>\n",
       "    <tr>\n",
       "      <th id=\"T_2e129_level0_row1\" class=\"row_heading level0 row1\" >59</th>\n",
       "      <td id=\"T_2e129_row1_col0\" class=\"data row1 col0\" >0.600000</td>\n",
       "      <td id=\"T_2e129_row1_col1\" class=\"data row1 col1\" >0.369565</td>\n",
       "      <td id=\"T_2e129_row1_col2\" class=\"data row1 col2\" >0.414634</td>\n",
       "      <td id=\"T_2e129_row1_col3\" class=\"data row1 col3\" >34</td>\n",
       "      <td id=\"T_2e129_row1_col4\" class=\"data row1 col4\" >82</td>\n",
       "      <td id=\"T_2e129_row1_col5\" class=\"data row1 col5\" >17</td>\n",
       "      <td id=\"T_2e129_row1_col6\" class=\"data row1 col6\" >46</td>\n",
       "      <td id=\"T_2e129_row1_col7\" class=\"data row1 col7\" >0.306306</td>\n",
       "      <td id=\"T_2e129_row1_col8\" class=\"data row1 col8\" >0.630435</td>\n",
       "      <td id=\"T_2e129_row1_col9\" class=\"data row1 col9\" >0.585366</td>\n",
       "      <td id=\"T_2e129_row1_col10\" class=\"data row1 col10\" >0.153234</td>\n",
       "      <td id=\"T_2e129_row1_col11\" class=\"data row1 col11\" >0.369035</td>\n",
       "      <td id=\"T_2e129_row1_col12\" class=\"data row1 col12\" >0.522269</td>\n",
       "      <td id=\"T_2e129_row1_col13\" class=\"data row1 col13\" >0.293401</td>\n",
       "    </tr>\n",
       "    <tr>\n",
       "      <th id=\"T_2e129_level0_row2\" class=\"row_heading level0 row2\" >60</th>\n",
       "      <td id=\"T_2e129_row2_col0\" class=\"data row2 col0\" >0.610000</td>\n",
       "      <td id=\"T_2e129_row2_col1\" class=\"data row2 col1\" >0.369565</td>\n",
       "      <td id=\"T_2e129_row2_col2\" class=\"data row2 col2\" >0.414634</td>\n",
       "      <td id=\"T_2e129_row2_col3\" class=\"data row2 col3\" >34</td>\n",
       "      <td id=\"T_2e129_row2_col4\" class=\"data row2 col4\" >82</td>\n",
       "      <td id=\"T_2e129_row2_col5\" class=\"data row2 col5\" >17</td>\n",
       "      <td id=\"T_2e129_row2_col6\" class=\"data row2 col6\" >46</td>\n",
       "      <td id=\"T_2e129_row2_col7\" class=\"data row2 col7\" >0.306306</td>\n",
       "      <td id=\"T_2e129_row2_col8\" class=\"data row2 col8\" >0.630435</td>\n",
       "      <td id=\"T_2e129_row2_col9\" class=\"data row2 col9\" >0.585366</td>\n",
       "      <td id=\"T_2e129_row2_col10\" class=\"data row2 col10\" >0.153234</td>\n",
       "      <td id=\"T_2e129_row2_col11\" class=\"data row2 col11\" >0.369035</td>\n",
       "      <td id=\"T_2e129_row2_col12\" class=\"data row2 col12\" >0.522269</td>\n",
       "      <td id=\"T_2e129_row2_col13\" class=\"data row2 col13\" >0.293401</td>\n",
       "    </tr>\n",
       "    <tr>\n",
       "      <th id=\"T_2e129_level0_row3\" class=\"row_heading level0 row3\" >61</th>\n",
       "      <td id=\"T_2e129_row3_col0\" class=\"data row3 col0\" >0.620000</td>\n",
       "      <td id=\"T_2e129_row3_col1\" class=\"data row3 col1\" >0.369565</td>\n",
       "      <td id=\"T_2e129_row3_col2\" class=\"data row3 col2\" >0.414634</td>\n",
       "      <td id=\"T_2e129_row3_col3\" class=\"data row3 col3\" >34</td>\n",
       "      <td id=\"T_2e129_row3_col4\" class=\"data row3 col4\" >82</td>\n",
       "      <td id=\"T_2e129_row3_col5\" class=\"data row3 col5\" >17</td>\n",
       "      <td id=\"T_2e129_row3_col6\" class=\"data row3 col6\" >46</td>\n",
       "      <td id=\"T_2e129_row3_col7\" class=\"data row3 col7\" >0.306306</td>\n",
       "      <td id=\"T_2e129_row3_col8\" class=\"data row3 col8\" >0.630435</td>\n",
       "      <td id=\"T_2e129_row3_col9\" class=\"data row3 col9\" >0.585366</td>\n",
       "      <td id=\"T_2e129_row3_col10\" class=\"data row3 col10\" >0.153234</td>\n",
       "      <td id=\"T_2e129_row3_col11\" class=\"data row3 col11\" >0.369035</td>\n",
       "      <td id=\"T_2e129_row3_col12\" class=\"data row3 col12\" >0.522269</td>\n",
       "      <td id=\"T_2e129_row3_col13\" class=\"data row3 col13\" >0.293401</td>\n",
       "    </tr>\n",
       "    <tr>\n",
       "      <th id=\"T_2e129_level0_row4\" class=\"row_heading level0 row4\" >62</th>\n",
       "      <td id=\"T_2e129_row4_col0\" class=\"data row4 col0\" >0.630000</td>\n",
       "      <td id=\"T_2e129_row4_col1\" class=\"data row4 col1\" >0.369565</td>\n",
       "      <td id=\"T_2e129_row4_col2\" class=\"data row4 col2\" >0.402439</td>\n",
       "      <td id=\"T_2e129_row4_col3\" class=\"data row4 col3\" >33</td>\n",
       "      <td id=\"T_2e129_row4_col4\" class=\"data row4 col4\" >82</td>\n",
       "      <td id=\"T_2e129_row4_col5\" class=\"data row4 col5\" >17</td>\n",
       "      <td id=\"T_2e129_row4_col6\" class=\"data row4 col6\" >46</td>\n",
       "      <td id=\"T_2e129_row4_col7\" class=\"data row4 col7\" >0.297297</td>\n",
       "      <td id=\"T_2e129_row4_col8\" class=\"data row4 col8\" >0.630435</td>\n",
       "      <td id=\"T_2e129_row4_col9\" class=\"data row4 col9\" >0.597561</td>\n",
       "      <td id=\"T_2e129_row4_col10\" class=\"data row4 col10\" >0.148727</td>\n",
       "      <td id=\"T_2e129_row4_col11\" class=\"data row4 col11\" >0.376723</td>\n",
       "      <td id=\"T_2e129_row4_col12\" class=\"data row4 col12\" >0.525451</td>\n",
       "      <td id=\"T_2e129_row4_col13\" class=\"data row4 col13\" >0.283047</td>\n",
       "    </tr>\n",
       "    <tr>\n",
       "      <th id=\"T_2e129_level0_row5\" class=\"row_heading level0 row5\" >63</th>\n",
       "      <td id=\"T_2e129_row5_col0\" class=\"data row5 col0\" >0.640000</td>\n",
       "      <td id=\"T_2e129_row5_col1\" class=\"data row5 col1\" >0.347826</td>\n",
       "      <td id=\"T_2e129_row5_col2\" class=\"data row5 col2\" >0.402439</td>\n",
       "      <td id=\"T_2e129_row5_col3\" class=\"data row5 col3\" >33</td>\n",
       "      <td id=\"T_2e129_row5_col4\" class=\"data row5 col4\" >82</td>\n",
       "      <td id=\"T_2e129_row5_col5\" class=\"data row5 col5\" >16</td>\n",
       "      <td id=\"T_2e129_row5_col6\" class=\"data row5 col6\" >46</td>\n",
       "      <td id=\"T_2e129_row5_col7\" class=\"data row5 col7\" >0.294643</td>\n",
       "      <td id=\"T_2e129_row5_col8\" class=\"data row5 col8\" >0.652174</td>\n",
       "      <td id=\"T_2e129_row5_col9\" class=\"data row5 col9\" >0.597561</td>\n",
       "      <td id=\"T_2e129_row5_col10\" class=\"data row5 col10\" >0.139979</td>\n",
       "      <td id=\"T_2e129_row5_col11\" class=\"data row5 col11\" >0.389714</td>\n",
       "      <td id=\"T_2e129_row5_col12\" class=\"data row5 col12\" >0.529692</td>\n",
       "      <td id=\"T_2e129_row5_col13\" class=\"data row5 col13\" >0.264264</td>\n",
       "    </tr>\n",
       "    <tr>\n",
       "      <th id=\"T_2e129_level0_row6\" class=\"row_heading level0 row6\" >64</th>\n",
       "      <td id=\"T_2e129_row6_col0\" class=\"data row6 col0\" >0.650000</td>\n",
       "      <td id=\"T_2e129_row6_col1\" class=\"data row6 col1\" >0.347826</td>\n",
       "      <td id=\"T_2e129_row6_col2\" class=\"data row6 col2\" >0.402439</td>\n",
       "      <td id=\"T_2e129_row6_col3\" class=\"data row6 col3\" >33</td>\n",
       "      <td id=\"T_2e129_row6_col4\" class=\"data row6 col4\" >82</td>\n",
       "      <td id=\"T_2e129_row6_col5\" class=\"data row6 col5\" >16</td>\n",
       "      <td id=\"T_2e129_row6_col6\" class=\"data row6 col6\" >46</td>\n",
       "      <td id=\"T_2e129_row6_col7\" class=\"data row6 col7\" >0.294643</td>\n",
       "      <td id=\"T_2e129_row6_col8\" class=\"data row6 col8\" >0.652174</td>\n",
       "      <td id=\"T_2e129_row6_col9\" class=\"data row6 col9\" >0.597561</td>\n",
       "      <td id=\"T_2e129_row6_col10\" class=\"data row6 col10\" >0.139979</td>\n",
       "      <td id=\"T_2e129_row6_col11\" class=\"data row6 col11\" >0.389714</td>\n",
       "      <td id=\"T_2e129_row6_col12\" class=\"data row6 col12\" >0.529692</td>\n",
       "      <td id=\"T_2e129_row6_col13\" class=\"data row6 col13\" >0.264264</td>\n",
       "    </tr>\n",
       "  </tbody>\n",
       "</table>\n"
      ],
      "text/plain": [
       "<pandas.io.formats.style.Styler at 0x7f2d323f1df0>"
      ]
     },
     "execution_count": 14,
     "metadata": {},
     "output_type": "execute_result"
    }
   ],
   "source": [
    "table_7 = yeartwo.testwo_post.shared[0]\n",
    "table_7 = table_7\n",
    "\n",
    "caption = \"Table 5: Chance of exceeding the 2021 threshold, Gfrags 2018, prior=shared. Columns = qty=p/m, lh=likelihood, pr=prior, post=posterior\"\n",
    "\n",
    "table_7.loc[58:64].style.set_caption(caption).set_table_styles(table_css_styles)"
   ]
  },
  {
   "cell_type": "code",
   "execution_count": 15,
   "metadata": {
    "editable": true,
    "jupyter": {
     "source_hidden": true
    },
    "slideshow": {
     "slide_type": ""
    },
    "tags": [
     "remove-input"
    ]
   },
   "outputs": [],
   "source": [
    "# try_beta = table_7[[\"lh\", \"k\", \"n\", \"kl\", \"kn\"]].copy()\n",
    "\n",
    "# def make_post(row):\n",
    "#     # print(row)\n",
    "#     k = row[\"k\"]\n",
    "#     n =row[\"n\"]\n",
    "#     if k == 0:\n",
    "#         n+=1\n",
    "#         k+=1\n",
    "#     ks = k+row[\"kl\"]\n",
    "#     ns = n + row[\"kn\"]\n",
    "#     nmk = ns-ks\n",
    "#     if nmk == 0:\n",
    "#         nmk = 1\n",
    "#     amean = beta(k,nmk).mean()\n",
    "\n",
    "    \n",
    "#     return amean\n",
    "\n",
    "# try_beta[\"post\"] =  try_beta.apply(lambda row: make_post(row), axis=1)\n",
    "\n",
    "# try_beta.loc[58:64]"
   ]
  },
  {
   "cell_type": "code",
   "execution_count": 16,
   "metadata": {
    "editable": true,
    "slideshow": {
     "slide_type": ""
    },
    "tags": [
     "remove-input"
    ]
   },
   "outputs": [
    {
     "data": {
      "text/html": [
       "<style type=\"text/css\">\n",
       "#T_c98fc tr:nth-child(even) {\n",
       "  background-color: rgba(139, 69, 19, 0.08);\n",
       "}\n",
       "#T_c98fc tr:nth-child(odd) {\n",
       "  background: #FFF;\n",
       "}\n",
       "#T_c98fc tr {\n",
       "  font-size: 12px;\n",
       "}\n",
       "#T_c98fc th:nth-child(1) {\n",
       "  background-color: #FFF;\n",
       "  text-align: right;\n",
       "}\n",
       "#T_c98fc caption {\n",
       "  font-size: 14px;\n",
       "  font-style: italic;\n",
       "  caption-side: bottom;\n",
       "  text-align: left;\n",
       "  margin-top: 10px;\n",
       "}\n",
       "</style>\n",
       "<table id=\"T_c98fc\">\n",
       "  <caption>Table 6: Chance of exceeding the 2021 threshold, Gfrags 2018, prior=sequential. Columns = qty=p/m, lh=likelihood, pr=prior, post=posterior</caption>\n",
       "  <thead>\n",
       "    <tr>\n",
       "      <th class=\"blank level0\" >&nbsp;</th>\n",
       "      <th id=\"T_c98fc_level0_col0\" class=\"col_heading level0 col0\" >qty</th>\n",
       "      <th id=\"T_c98fc_level0_col1\" class=\"col_heading level0 col1\" >lh</th>\n",
       "      <th id=\"T_c98fc_level0_col2\" class=\"col_heading level0 col2\" >pr</th>\n",
       "      <th id=\"T_c98fc_level0_col3\" class=\"col_heading level0 col3\" >1-lh</th>\n",
       "      <th id=\"T_c98fc_level0_col4\" class=\"col_heading level0 col4\" >1-pr</th>\n",
       "      <th id=\"T_c98fc_level0_col5\" class=\"col_heading level0 col5\" >lh*pr</th>\n",
       "      <th id=\"T_c98fc_level0_col6\" class=\"col_heading level0 col6\" >1-lh*1-pr</th>\n",
       "      <th id=\"T_c98fc_level0_col7\" class=\"col_heading level0 col7\" >p-total</th>\n",
       "      <th id=\"T_c98fc_level0_col8\" class=\"col_heading level0 col8\" >post</th>\n",
       "    </tr>\n",
       "  </thead>\n",
       "  <tbody>\n",
       "    <tr>\n",
       "      <th id=\"T_c98fc_level0_row0\" class=\"row_heading level0 row0\" >58</th>\n",
       "      <td id=\"T_c98fc_row0_col0\" class=\"data row0 col0\" >0.590000</td>\n",
       "      <td id=\"T_c98fc_row0_col1\" class=\"data row0 col1\" >0.391304</td>\n",
       "      <td id=\"T_c98fc_row0_col2\" class=\"data row0 col2\" >0.414634</td>\n",
       "      <td id=\"T_c98fc_row0_col3\" class=\"data row0 col3\" >0.608696</td>\n",
       "      <td id=\"T_c98fc_row0_col4\" class=\"data row0 col4\" >0.585366</td>\n",
       "      <td id=\"T_c98fc_row0_col5\" class=\"data row0 col5\" >0.162248</td>\n",
       "      <td id=\"T_c98fc_row0_col6\" class=\"data row0 col6\" >0.356310</td>\n",
       "      <td id=\"T_c98fc_row0_col7\" class=\"data row0 col7\" >0.518558</td>\n",
       "      <td id=\"T_c98fc_row0_col8\" class=\"data row0 col8\" >0.312883</td>\n",
       "    </tr>\n",
       "    <tr>\n",
       "      <th id=\"T_c98fc_level0_row1\" class=\"row_heading level0 row1\" >59</th>\n",
       "      <td id=\"T_c98fc_row1_col0\" class=\"data row1 col0\" >0.600000</td>\n",
       "      <td id=\"T_c98fc_row1_col1\" class=\"data row1 col1\" >0.369565</td>\n",
       "      <td id=\"T_c98fc_row1_col2\" class=\"data row1 col2\" >0.414634</td>\n",
       "      <td id=\"T_c98fc_row1_col3\" class=\"data row1 col3\" >0.630435</td>\n",
       "      <td id=\"T_c98fc_row1_col4\" class=\"data row1 col4\" >0.585366</td>\n",
       "      <td id=\"T_c98fc_row1_col5\" class=\"data row1 col5\" >0.153234</td>\n",
       "      <td id=\"T_c98fc_row1_col6\" class=\"data row1 col6\" >0.369035</td>\n",
       "      <td id=\"T_c98fc_row1_col7\" class=\"data row1 col7\" >0.522269</td>\n",
       "      <td id=\"T_c98fc_row1_col8\" class=\"data row1 col8\" >0.293401</td>\n",
       "    </tr>\n",
       "    <tr>\n",
       "      <th id=\"T_c98fc_level0_row2\" class=\"row_heading level0 row2\" >60</th>\n",
       "      <td id=\"T_c98fc_row2_col0\" class=\"data row2 col0\" >0.610000</td>\n",
       "      <td id=\"T_c98fc_row2_col1\" class=\"data row2 col1\" >0.369565</td>\n",
       "      <td id=\"T_c98fc_row2_col2\" class=\"data row2 col2\" >0.414634</td>\n",
       "      <td id=\"T_c98fc_row2_col3\" class=\"data row2 col3\" >0.630435</td>\n",
       "      <td id=\"T_c98fc_row2_col4\" class=\"data row2 col4\" >0.585366</td>\n",
       "      <td id=\"T_c98fc_row2_col5\" class=\"data row2 col5\" >0.153234</td>\n",
       "      <td id=\"T_c98fc_row2_col6\" class=\"data row2 col6\" >0.369035</td>\n",
       "      <td id=\"T_c98fc_row2_col7\" class=\"data row2 col7\" >0.522269</td>\n",
       "      <td id=\"T_c98fc_row2_col8\" class=\"data row2 col8\" >0.293401</td>\n",
       "    </tr>\n",
       "    <tr>\n",
       "      <th id=\"T_c98fc_level0_row3\" class=\"row_heading level0 row3\" >61</th>\n",
       "      <td id=\"T_c98fc_row3_col0\" class=\"data row3 col0\" >0.620000</td>\n",
       "      <td id=\"T_c98fc_row3_col1\" class=\"data row3 col1\" >0.369565</td>\n",
       "      <td id=\"T_c98fc_row3_col2\" class=\"data row3 col2\" >0.414634</td>\n",
       "      <td id=\"T_c98fc_row3_col3\" class=\"data row3 col3\" >0.630435</td>\n",
       "      <td id=\"T_c98fc_row3_col4\" class=\"data row3 col4\" >0.585366</td>\n",
       "      <td id=\"T_c98fc_row3_col5\" class=\"data row3 col5\" >0.153234</td>\n",
       "      <td id=\"T_c98fc_row3_col6\" class=\"data row3 col6\" >0.369035</td>\n",
       "      <td id=\"T_c98fc_row3_col7\" class=\"data row3 col7\" >0.522269</td>\n",
       "      <td id=\"T_c98fc_row3_col8\" class=\"data row3 col8\" >0.293401</td>\n",
       "    </tr>\n",
       "    <tr>\n",
       "      <th id=\"T_c98fc_level0_row4\" class=\"row_heading level0 row4\" >62</th>\n",
       "      <td id=\"T_c98fc_row4_col0\" class=\"data row4 col0\" >0.630000</td>\n",
       "      <td id=\"T_c98fc_row4_col1\" class=\"data row4 col1\" >0.369565</td>\n",
       "      <td id=\"T_c98fc_row4_col2\" class=\"data row4 col2\" >0.402439</td>\n",
       "      <td id=\"T_c98fc_row4_col3\" class=\"data row4 col3\" >0.630435</td>\n",
       "      <td id=\"T_c98fc_row4_col4\" class=\"data row4 col4\" >0.597561</td>\n",
       "      <td id=\"T_c98fc_row4_col5\" class=\"data row4 col5\" >0.148727</td>\n",
       "      <td id=\"T_c98fc_row4_col6\" class=\"data row4 col6\" >0.376723</td>\n",
       "      <td id=\"T_c98fc_row4_col7\" class=\"data row4 col7\" >0.525451</td>\n",
       "      <td id=\"T_c98fc_row4_col8\" class=\"data row4 col8\" >0.283047</td>\n",
       "    </tr>\n",
       "    <tr>\n",
       "      <th id=\"T_c98fc_level0_row5\" class=\"row_heading level0 row5\" >63</th>\n",
       "      <td id=\"T_c98fc_row5_col0\" class=\"data row5 col0\" >0.640000</td>\n",
       "      <td id=\"T_c98fc_row5_col1\" class=\"data row5 col1\" >0.347826</td>\n",
       "      <td id=\"T_c98fc_row5_col2\" class=\"data row5 col2\" >0.402439</td>\n",
       "      <td id=\"T_c98fc_row5_col3\" class=\"data row5 col3\" >0.652174</td>\n",
       "      <td id=\"T_c98fc_row5_col4\" class=\"data row5 col4\" >0.597561</td>\n",
       "      <td id=\"T_c98fc_row5_col5\" class=\"data row5 col5\" >0.139979</td>\n",
       "      <td id=\"T_c98fc_row5_col6\" class=\"data row5 col6\" >0.389714</td>\n",
       "      <td id=\"T_c98fc_row5_col7\" class=\"data row5 col7\" >0.529692</td>\n",
       "      <td id=\"T_c98fc_row5_col8\" class=\"data row5 col8\" >0.264264</td>\n",
       "    </tr>\n",
       "    <tr>\n",
       "      <th id=\"T_c98fc_level0_row6\" class=\"row_heading level0 row6\" >64</th>\n",
       "      <td id=\"T_c98fc_row6_col0\" class=\"data row6 col0\" >0.650000</td>\n",
       "      <td id=\"T_c98fc_row6_col1\" class=\"data row6 col1\" >0.347826</td>\n",
       "      <td id=\"T_c98fc_row6_col2\" class=\"data row6 col2\" >0.402439</td>\n",
       "      <td id=\"T_c98fc_row6_col3\" class=\"data row6 col3\" >0.652174</td>\n",
       "      <td id=\"T_c98fc_row6_col4\" class=\"data row6 col4\" >0.597561</td>\n",
       "      <td id=\"T_c98fc_row6_col5\" class=\"data row6 col5\" >0.139979</td>\n",
       "      <td id=\"T_c98fc_row6_col6\" class=\"data row6 col6\" >0.389714</td>\n",
       "      <td id=\"T_c98fc_row6_col7\" class=\"data row6 col7\" >0.529692</td>\n",
       "      <td id=\"T_c98fc_row6_col8\" class=\"data row6 col8\" >0.264264</td>\n",
       "    </tr>\n",
       "  </tbody>\n",
       "</table>\n"
      ],
      "text/plain": [
       "<pandas.io.formats.style.Styler at 0x7f2d323a5190>"
      ]
     },
     "execution_count": 16,
     "metadata": {},
     "output_type": "execute_result"
    }
   ],
   "source": [
    "table_8 = yeartwo.testwo_post.sequential[0]\n",
    "table_8 = table_8.loc[58:64]\n",
    "\n",
    "caption = \"Table 6: Chance of exceeding the 2021 threshold, Gfrags 2018, prior=sequential. Columns = qty=p/m, lh=likelihood, pr=prior, post=posterior\"\n",
    "\n",
    "table_8.style.set_caption(caption).set_table_styles(table_css_styles)"
   ]
  },
  {
   "cell_type": "markdown",
   "metadata": {},
   "source": [
    "#### The grid: year three"
   ]
  },
  {
   "cell_type": "code",
   "execution_count": 17,
   "metadata": {
    "editable": true,
    "slideshow": {
     "slide_type": ""
    },
    "tags": [
     "remove-input"
    ]
   },
   "outputs": [],
   "source": [
    "slr_d = make_date_object(\"2020-04-01\")\n",
    "slr_e = make_date_object(\"2021-05-01\")\n",
    "date_mask =  (all_data[\"date\"] >= slr_d) & (all_data[\"date\"] <= slr_e)\n",
    "\n",
    "lake_locations = all_data[date_mask & (all_data.water_name_slug == 'lac-leman')].location.unique()\n",
    "prior_locations = all_data[(all_data[\"date\"] <= slr_e) &(all_data.water_name_slug == 'lac-leman')].location.unique()\n",
    "\n",
    "# the survey results and land use attributes associated with the locations\n",
    "# included in the survey results\n",
    "yearthree = GridApproximation(slr_d, slr_e, lake, lake_locations, cois, all_data, land_use_agg, tholds_r, xrange, prior_series=yeartwo.testwo_post.sequential, uniformed_prior=uniformed_prior)\n",
    "yearthree.testwo_post.prior_shared(yeartwo.testwo_post.prior_data)\n",
    "tdata = yearthree.testwo.prior_data\n",
    "\n",
    "c_data3 = tdata[(tdata.code == code)]\n",
    "city_data3 = c_data3[(c_data3.city == coi)]\n",
    "lprofiles3 = list(set(city_data3.columns).intersection(uses))\n",
    "profiles_dict3 = {x:c_data3[x].values for x in lprofiles3}\n",
    "\n",
    "gradient_p3, _ = make_prior_by_use(c_data3, xtest, profiles_dict3)\n",
    "xtesti[\"prior_use3\"] = gradient_p3"
   ]
  },
  {
   "cell_type": "code",
   "execution_count": 18,
   "metadata": {
    "editable": true,
    "slideshow": {
     "slide_type": ""
    },
    "tags": [
     "remove-input"
    ]
   },
   "outputs": [
    {
     "data": {
      "text/html": [
       "<style type=\"text/css\">\n",
       "#T_525f5 tr:nth-child(even) {\n",
       "  background-color: rgba(139, 69, 19, 0.08);\n",
       "}\n",
       "#T_525f5 tr:nth-child(odd) {\n",
       "  background: #FFF;\n",
       "}\n",
       "#T_525f5 tr {\n",
       "  font-size: 12px;\n",
       "}\n",
       "#T_525f5 th:nth-child(1) {\n",
       "  background-color: #FFF;\n",
       "  text-align: right;\n",
       "}\n",
       "#T_525f5 caption {\n",
       "  font-size: 14px;\n",
       "  font-style: italic;\n",
       "  caption-side: bottom;\n",
       "  text-align: left;\n",
       "  margin-top: 10px;\n",
       "}\n",
       "</style>\n",
       "<table id=\"T_525f5\">\n",
       "  <caption>Table 7: Chance of exceeding the 2021 threshold, Gfrags 2021, prior=0.5. Columns = qty=p/m, lh=likelihood, pr=prior, post=posterior</caption>\n",
       "  <thead>\n",
       "    <tr>\n",
       "      <th class=\"blank level0\" >&nbsp;</th>\n",
       "      <th id=\"T_525f5_level0_col0\" class=\"col_heading level0 col0\" >qty</th>\n",
       "      <th id=\"T_525f5_level0_col1\" class=\"col_heading level0 col1\" >lh</th>\n",
       "      <th id=\"T_525f5_level0_col2\" class=\"col_heading level0 col2\" >pr</th>\n",
       "      <th id=\"T_525f5_level0_col3\" class=\"col_heading level0 col3\" >1-lh</th>\n",
       "      <th id=\"T_525f5_level0_col4\" class=\"col_heading level0 col4\" >1-pr</th>\n",
       "      <th id=\"T_525f5_level0_col5\" class=\"col_heading level0 col5\" >lh*pr</th>\n",
       "      <th id=\"T_525f5_level0_col6\" class=\"col_heading level0 col6\" >1-lh*1-pr</th>\n",
       "      <th id=\"T_525f5_level0_col7\" class=\"col_heading level0 col7\" >p-total</th>\n",
       "      <th id=\"T_525f5_level0_col8\" class=\"col_heading level0 col8\" >post</th>\n",
       "    </tr>\n",
       "  </thead>\n",
       "  <tbody>\n",
       "    <tr>\n",
       "      <th id=\"T_525f5_level0_row0\" class=\"row_heading level0 row0\" >58</th>\n",
       "      <td id=\"T_525f5_row0_col0\" class=\"data row0 col0\" >0.590000</td>\n",
       "      <td id=\"T_525f5_row0_col1\" class=\"data row0 col1\" >0.505155</td>\n",
       "      <td id=\"T_525f5_row0_col2\" class=\"data row0 col2\" >0.500000</td>\n",
       "      <td id=\"T_525f5_row0_col3\" class=\"data row0 col3\" >0.494845</td>\n",
       "      <td id=\"T_525f5_row0_col4\" class=\"data row0 col4\" >0.500000</td>\n",
       "      <td id=\"T_525f5_row0_col5\" class=\"data row0 col5\" >0.252577</td>\n",
       "      <td id=\"T_525f5_row0_col6\" class=\"data row0 col6\" >0.247423</td>\n",
       "      <td id=\"T_525f5_row0_col7\" class=\"data row0 col7\" >0.500000</td>\n",
       "      <td id=\"T_525f5_row0_col8\" class=\"data row0 col8\" >0.505155</td>\n",
       "    </tr>\n",
       "    <tr>\n",
       "      <th id=\"T_525f5_level0_row1\" class=\"row_heading level0 row1\" >59</th>\n",
       "      <td id=\"T_525f5_row1_col0\" class=\"data row1 col0\" >0.600000</td>\n",
       "      <td id=\"T_525f5_row1_col1\" class=\"data row1 col1\" >0.505155</td>\n",
       "      <td id=\"T_525f5_row1_col2\" class=\"data row1 col2\" >0.500000</td>\n",
       "      <td id=\"T_525f5_row1_col3\" class=\"data row1 col3\" >0.494845</td>\n",
       "      <td id=\"T_525f5_row1_col4\" class=\"data row1 col4\" >0.500000</td>\n",
       "      <td id=\"T_525f5_row1_col5\" class=\"data row1 col5\" >0.252577</td>\n",
       "      <td id=\"T_525f5_row1_col6\" class=\"data row1 col6\" >0.247423</td>\n",
       "      <td id=\"T_525f5_row1_col7\" class=\"data row1 col7\" >0.500000</td>\n",
       "      <td id=\"T_525f5_row1_col8\" class=\"data row1 col8\" >0.505155</td>\n",
       "    </tr>\n",
       "    <tr>\n",
       "      <th id=\"T_525f5_level0_row2\" class=\"row_heading level0 row2\" >60</th>\n",
       "      <td id=\"T_525f5_row2_col0\" class=\"data row2 col0\" >0.610000</td>\n",
       "      <td id=\"T_525f5_row2_col1\" class=\"data row2 col1\" >0.505155</td>\n",
       "      <td id=\"T_525f5_row2_col2\" class=\"data row2 col2\" >0.500000</td>\n",
       "      <td id=\"T_525f5_row2_col3\" class=\"data row2 col3\" >0.494845</td>\n",
       "      <td id=\"T_525f5_row2_col4\" class=\"data row2 col4\" >0.500000</td>\n",
       "      <td id=\"T_525f5_row2_col5\" class=\"data row2 col5\" >0.252577</td>\n",
       "      <td id=\"T_525f5_row2_col6\" class=\"data row2 col6\" >0.247423</td>\n",
       "      <td id=\"T_525f5_row2_col7\" class=\"data row2 col7\" >0.500000</td>\n",
       "      <td id=\"T_525f5_row2_col8\" class=\"data row2 col8\" >0.505155</td>\n",
       "    </tr>\n",
       "    <tr>\n",
       "      <th id=\"T_525f5_level0_row3\" class=\"row_heading level0 row3\" >61</th>\n",
       "      <td id=\"T_525f5_row3_col0\" class=\"data row3 col0\" >0.620000</td>\n",
       "      <td id=\"T_525f5_row3_col1\" class=\"data row3 col1\" >0.494845</td>\n",
       "      <td id=\"T_525f5_row3_col2\" class=\"data row3 col2\" >0.500000</td>\n",
       "      <td id=\"T_525f5_row3_col3\" class=\"data row3 col3\" >0.505155</td>\n",
       "      <td id=\"T_525f5_row3_col4\" class=\"data row3 col4\" >0.500000</td>\n",
       "      <td id=\"T_525f5_row3_col5\" class=\"data row3 col5\" >0.247423</td>\n",
       "      <td id=\"T_525f5_row3_col6\" class=\"data row3 col6\" >0.252577</td>\n",
       "      <td id=\"T_525f5_row3_col7\" class=\"data row3 col7\" >0.500000</td>\n",
       "      <td id=\"T_525f5_row3_col8\" class=\"data row3 col8\" >0.494845</td>\n",
       "    </tr>\n",
       "    <tr>\n",
       "      <th id=\"T_525f5_level0_row4\" class=\"row_heading level0 row4\" >62</th>\n",
       "      <td id=\"T_525f5_row4_col0\" class=\"data row4 col0\" >0.630000</td>\n",
       "      <td id=\"T_525f5_row4_col1\" class=\"data row4 col1\" >0.484536</td>\n",
       "      <td id=\"T_525f5_row4_col2\" class=\"data row4 col2\" >0.500000</td>\n",
       "      <td id=\"T_525f5_row4_col3\" class=\"data row4 col3\" >0.515464</td>\n",
       "      <td id=\"T_525f5_row4_col4\" class=\"data row4 col4\" >0.500000</td>\n",
       "      <td id=\"T_525f5_row4_col5\" class=\"data row4 col5\" >0.242268</td>\n",
       "      <td id=\"T_525f5_row4_col6\" class=\"data row4 col6\" >0.257732</td>\n",
       "      <td id=\"T_525f5_row4_col7\" class=\"data row4 col7\" >0.500000</td>\n",
       "      <td id=\"T_525f5_row4_col8\" class=\"data row4 col8\" >0.484536</td>\n",
       "    </tr>\n",
       "    <tr>\n",
       "      <th id=\"T_525f5_level0_row5\" class=\"row_heading level0 row5\" >63</th>\n",
       "      <td id=\"T_525f5_row5_col0\" class=\"data row5 col0\" >0.640000</td>\n",
       "      <td id=\"T_525f5_row5_col1\" class=\"data row5 col1\" >0.484536</td>\n",
       "      <td id=\"T_525f5_row5_col2\" class=\"data row5 col2\" >0.500000</td>\n",
       "      <td id=\"T_525f5_row5_col3\" class=\"data row5 col3\" >0.515464</td>\n",
       "      <td id=\"T_525f5_row5_col4\" class=\"data row5 col4\" >0.500000</td>\n",
       "      <td id=\"T_525f5_row5_col5\" class=\"data row5 col5\" >0.242268</td>\n",
       "      <td id=\"T_525f5_row5_col6\" class=\"data row5 col6\" >0.257732</td>\n",
       "      <td id=\"T_525f5_row5_col7\" class=\"data row5 col7\" >0.500000</td>\n",
       "      <td id=\"T_525f5_row5_col8\" class=\"data row5 col8\" >0.484536</td>\n",
       "    </tr>\n",
       "    <tr>\n",
       "      <th id=\"T_525f5_level0_row6\" class=\"row_heading level0 row6\" >64</th>\n",
       "      <td id=\"T_525f5_row6_col0\" class=\"data row6 col0\" >0.650000</td>\n",
       "      <td id=\"T_525f5_row6_col1\" class=\"data row6 col1\" >0.484536</td>\n",
       "      <td id=\"T_525f5_row6_col2\" class=\"data row6 col2\" >0.500000</td>\n",
       "      <td id=\"T_525f5_row6_col3\" class=\"data row6 col3\" >0.515464</td>\n",
       "      <td id=\"T_525f5_row6_col4\" class=\"data row6 col4\" >0.500000</td>\n",
       "      <td id=\"T_525f5_row6_col5\" class=\"data row6 col5\" >0.242268</td>\n",
       "      <td id=\"T_525f5_row6_col6\" class=\"data row6 col6\" >0.257732</td>\n",
       "      <td id=\"T_525f5_row6_col7\" class=\"data row6 col7\" >0.500000</td>\n",
       "      <td id=\"T_525f5_row6_col8\" class=\"data row6 col8\" >0.484536</td>\n",
       "    </tr>\n",
       "  </tbody>\n",
       "</table>\n"
      ],
      "text/plain": [
       "<pandas.io.formats.style.Styler at 0x7f2d3220d130>"
      ]
     },
     "execution_count": 18,
     "metadata": {},
     "output_type": "execute_result"
    }
   ],
   "source": [
    "table_9 = yearthree.testwo_post.uninformed[0]\n",
    "table_9 = table_9.loc[58:64]\n",
    "\n",
    "caption = \"Table 7: Chance of exceeding the 2021 threshold, Gfrags 2021, prior=0.5. Columns = qty=p/m, lh=likelihood, pr=prior, post=posterior\"\n",
    "\n",
    "table_9.style.set_caption(caption).set_table_styles(table_css_styles)"
   ]
  },
  {
   "cell_type": "markdown",
   "metadata": {},
   "source": [
    "Shared priors can be applied from the first year, however the pool of similar survey locations is limitted to the survey locations from the first year. As a result, the likelihood and the prior are the same, (table 5). The result is a posterior distribution that is approximately 10% lower than the unifinformed prior."
   ]
  },
  {
   "cell_type": "code",
   "execution_count": 19,
   "metadata": {
    "editable": true,
    "slideshow": {
     "slide_type": ""
    },
    "tags": [
     "remove-input"
    ]
   },
   "outputs": [
    {
     "data": {
      "text/html": [
       "<style type=\"text/css\">\n",
       "#T_49d6f tr:nth-child(even) {\n",
       "  background-color: rgba(139, 69, 19, 0.08);\n",
       "}\n",
       "#T_49d6f tr:nth-child(odd) {\n",
       "  background: #FFF;\n",
       "}\n",
       "#T_49d6f tr {\n",
       "  font-size: 12px;\n",
       "}\n",
       "#T_49d6f th:nth-child(1) {\n",
       "  background-color: #FFF;\n",
       "  text-align: right;\n",
       "}\n",
       "#T_49d6f caption {\n",
       "  font-size: 14px;\n",
       "  font-style: italic;\n",
       "  caption-side: bottom;\n",
       "  text-align: left;\n",
       "  margin-top: 10px;\n",
       "}\n",
       "</style>\n",
       "<table id=\"T_49d6f\">\n",
       "  <caption>Table 8: Chance of exceeding the 2021 threshold, Gfrags 2021, prior=shared. Columns = qty=p/m, lh=likelihood, pr=prior, post=posterior</caption>\n",
       "  <thead>\n",
       "    <tr>\n",
       "      <th class=\"blank level0\" >&nbsp;</th>\n",
       "      <th id=\"T_49d6f_level0_col0\" class=\"col_heading level0 col0\" >qty</th>\n",
       "      <th id=\"T_49d6f_level0_col1\" class=\"col_heading level0 col1\" >lh</th>\n",
       "      <th id=\"T_49d6f_level0_col2\" class=\"col_heading level0 col2\" >pr</th>\n",
       "      <th id=\"T_49d6f_level0_col3\" class=\"col_heading level0 col3\" >k</th>\n",
       "      <th id=\"T_49d6f_level0_col4\" class=\"col_heading level0 col4\" >n</th>\n",
       "      <th id=\"T_49d6f_level0_col5\" class=\"col_heading level0 col5\" >kl</th>\n",
       "      <th id=\"T_49d6f_level0_col6\" class=\"col_heading level0 col6\" >kn</th>\n",
       "      <th id=\"T_49d6f_level0_col7\" class=\"col_heading level0 col7\" >post_beta</th>\n",
       "      <th id=\"T_49d6f_level0_col8\" class=\"col_heading level0 col8\" >1-lh</th>\n",
       "      <th id=\"T_49d6f_level0_col9\" class=\"col_heading level0 col9\" >1-pr</th>\n",
       "      <th id=\"T_49d6f_level0_col10\" class=\"col_heading level0 col10\" >lh*pr</th>\n",
       "      <th id=\"T_49d6f_level0_col11\" class=\"col_heading level0 col11\" >1-lh*1-pr</th>\n",
       "      <th id=\"T_49d6f_level0_col12\" class=\"col_heading level0 col12\" >p-total</th>\n",
       "      <th id=\"T_49d6f_level0_col13\" class=\"col_heading level0 col13\" >post</th>\n",
       "    </tr>\n",
       "  </thead>\n",
       "  <tbody>\n",
       "    <tr>\n",
       "      <th id=\"T_49d6f_level0_row0\" class=\"row_heading level0 row0\" >58</th>\n",
       "      <td id=\"T_49d6f_row0_col0\" class=\"data row0 col0\" >0.590000</td>\n",
       "      <td id=\"T_49d6f_row0_col1\" class=\"data row0 col1\" >0.505155</td>\n",
       "      <td id=\"T_49d6f_row0_col2\" class=\"data row0 col2\" >0.224537</td>\n",
       "      <td id=\"T_49d6f_row0_col3\" class=\"data row0 col3\" >97</td>\n",
       "      <td id=\"T_49d6f_row0_col4\" class=\"data row0 col4\" >432</td>\n",
       "      <td id=\"T_49d6f_row0_col5\" class=\"data row0 col5\" >49</td>\n",
       "      <td id=\"T_49d6f_row0_col6\" class=\"data row0 col6\" >97</td>\n",
       "      <td id=\"T_49d6f_row0_col7\" class=\"data row0 col7\" >0.202083</td>\n",
       "      <td id=\"T_49d6f_row0_col8\" class=\"data row0 col8\" >0.494845</td>\n",
       "      <td id=\"T_49d6f_row0_col9\" class=\"data row0 col9\" >0.775463</td>\n",
       "      <td id=\"T_49d6f_row0_col10\" class=\"data row0 col10\" >0.113426</td>\n",
       "      <td id=\"T_49d6f_row0_col11\" class=\"data row0 col11\" >0.383734</td>\n",
       "      <td id=\"T_49d6f_row0_col12\" class=\"data row0 col12\" >0.497160</td>\n",
       "      <td id=\"T_49d6f_row0_col13\" class=\"data row0 col13\" >0.228148</td>\n",
       "    </tr>\n",
       "    <tr>\n",
       "      <th id=\"T_49d6f_level0_row1\" class=\"row_heading level0 row1\" >59</th>\n",
       "      <td id=\"T_49d6f_row1_col0\" class=\"data row1 col0\" >0.600000</td>\n",
       "      <td id=\"T_49d6f_row1_col1\" class=\"data row1 col1\" >0.505155</td>\n",
       "      <td id=\"T_49d6f_row1_col2\" class=\"data row1 col2\" >0.222222</td>\n",
       "      <td id=\"T_49d6f_row1_col3\" class=\"data row1 col3\" >96</td>\n",
       "      <td id=\"T_49d6f_row1_col4\" class=\"data row1 col4\" >432</td>\n",
       "      <td id=\"T_49d6f_row1_col5\" class=\"data row1 col5\" >49</td>\n",
       "      <td id=\"T_49d6f_row1_col6\" class=\"data row1 col6\" >97</td>\n",
       "      <td id=\"T_49d6f_row1_col7\" class=\"data row1 col7\" >0.200000</td>\n",
       "      <td id=\"T_49d6f_row1_col8\" class=\"data row1 col8\" >0.494845</td>\n",
       "      <td id=\"T_49d6f_row1_col9\" class=\"data row1 col9\" >0.777778</td>\n",
       "      <td id=\"T_49d6f_row1_col10\" class=\"data row1 col10\" >0.112257</td>\n",
       "      <td id=\"T_49d6f_row1_col11\" class=\"data row1 col11\" >0.384880</td>\n",
       "      <td id=\"T_49d6f_row1_col12\" class=\"data row1 col12\" >0.497136</td>\n",
       "      <td id=\"T_49d6f_row1_col13\" class=\"data row1 col13\" >0.225806</td>\n",
       "    </tr>\n",
       "    <tr>\n",
       "      <th id=\"T_49d6f_level0_row2\" class=\"row_heading level0 row2\" >60</th>\n",
       "      <td id=\"T_49d6f_row2_col0\" class=\"data row2 col0\" >0.610000</td>\n",
       "      <td id=\"T_49d6f_row2_col1\" class=\"data row2 col1\" >0.505155</td>\n",
       "      <td id=\"T_49d6f_row2_col2\" class=\"data row2 col2\" >0.217593</td>\n",
       "      <td id=\"T_49d6f_row2_col3\" class=\"data row2 col3\" >94</td>\n",
       "      <td id=\"T_49d6f_row2_col4\" class=\"data row2 col4\" >432</td>\n",
       "      <td id=\"T_49d6f_row2_col5\" class=\"data row2 col5\" >49</td>\n",
       "      <td id=\"T_49d6f_row2_col6\" class=\"data row2 col6\" >97</td>\n",
       "      <td id=\"T_49d6f_row2_col7\" class=\"data row2 col7\" >0.195833</td>\n",
       "      <td id=\"T_49d6f_row2_col8\" class=\"data row2 col8\" >0.494845</td>\n",
       "      <td id=\"T_49d6f_row2_col9\" class=\"data row2 col9\" >0.782407</td>\n",
       "      <td id=\"T_49d6f_row2_col10\" class=\"data row2 col10\" >0.109918</td>\n",
       "      <td id=\"T_49d6f_row2_col11\" class=\"data row2 col11\" >0.387171</td>\n",
       "      <td id=\"T_49d6f_row2_col12\" class=\"data row2 col12\" >0.497089</td>\n",
       "      <td id=\"T_49d6f_row2_col13\" class=\"data row2 col13\" >0.221123</td>\n",
       "    </tr>\n",
       "    <tr>\n",
       "      <th id=\"T_49d6f_level0_row3\" class=\"row_heading level0 row3\" >61</th>\n",
       "      <td id=\"T_49d6f_row3_col0\" class=\"data row3 col0\" >0.620000</td>\n",
       "      <td id=\"T_49d6f_row3_col1\" class=\"data row3 col1\" >0.494845</td>\n",
       "      <td id=\"T_49d6f_row3_col2\" class=\"data row3 col2\" >0.217593</td>\n",
       "      <td id=\"T_49d6f_row3_col3\" class=\"data row3 col3\" >94</td>\n",
       "      <td id=\"T_49d6f_row3_col4\" class=\"data row3 col4\" >432</td>\n",
       "      <td id=\"T_49d6f_row3_col5\" class=\"data row3 col5\" >48</td>\n",
       "      <td id=\"T_49d6f_row3_col6\" class=\"data row3 col6\" >97</td>\n",
       "      <td id=\"T_49d6f_row3_col7\" class=\"data row3 col7\" >0.195426</td>\n",
       "      <td id=\"T_49d6f_row3_col8\" class=\"data row3 col8\" >0.505155</td>\n",
       "      <td id=\"T_49d6f_row3_col9\" class=\"data row3 col9\" >0.782407</td>\n",
       "      <td id=\"T_49d6f_row3_col10\" class=\"data row3 col10\" >0.107675</td>\n",
       "      <td id=\"T_49d6f_row3_col11\" class=\"data row3 col11\" >0.395237</td>\n",
       "      <td id=\"T_49d6f_row3_col12\" class=\"data row3 col12\" >0.502911</td>\n",
       "      <td id=\"T_49d6f_row3_col13\" class=\"data row3 col13\" >0.214103</td>\n",
       "    </tr>\n",
       "    <tr>\n",
       "      <th id=\"T_49d6f_level0_row4\" class=\"row_heading level0 row4\" >62</th>\n",
       "      <td id=\"T_49d6f_row4_col0\" class=\"data row4 col0\" >0.630000</td>\n",
       "      <td id=\"T_49d6f_row4_col1\" class=\"data row4 col1\" >0.484536</td>\n",
       "      <td id=\"T_49d6f_row4_col2\" class=\"data row4 col2\" >0.215278</td>\n",
       "      <td id=\"T_49d6f_row4_col3\" class=\"data row4 col3\" >93</td>\n",
       "      <td id=\"T_49d6f_row4_col4\" class=\"data row4 col4\" >432</td>\n",
       "      <td id=\"T_49d6f_row4_col5\" class=\"data row4 col5\" >47</td>\n",
       "      <td id=\"T_49d6f_row4_col6\" class=\"data row4 col6\" >97</td>\n",
       "      <td id=\"T_49d6f_row4_col7\" class=\"data row4 col7\" >0.192946</td>\n",
       "      <td id=\"T_49d6f_row4_col8\" class=\"data row4 col8\" >0.515464</td>\n",
       "      <td id=\"T_49d6f_row4_col9\" class=\"data row4 col9\" >0.784722</td>\n",
       "      <td id=\"T_49d6f_row4_col10\" class=\"data row4 col10\" >0.104310</td>\n",
       "      <td id=\"T_49d6f_row4_col11\" class=\"data row4 col11\" >0.404496</td>\n",
       "      <td id=\"T_49d6f_row4_col12\" class=\"data row4 col12\" >0.508806</td>\n",
       "      <td id=\"T_49d6f_row4_col13\" class=\"data row4 col13\" >0.205009</td>\n",
       "    </tr>\n",
       "    <tr>\n",
       "      <th id=\"T_49d6f_level0_row5\" class=\"row_heading level0 row5\" >63</th>\n",
       "      <td id=\"T_49d6f_row5_col0\" class=\"data row5 col0\" >0.640000</td>\n",
       "      <td id=\"T_49d6f_row5_col1\" class=\"data row5 col1\" >0.484536</td>\n",
       "      <td id=\"T_49d6f_row5_col2\" class=\"data row5 col2\" >0.212963</td>\n",
       "      <td id=\"T_49d6f_row5_col3\" class=\"data row5 col3\" >92</td>\n",
       "      <td id=\"T_49d6f_row5_col4\" class=\"data row5 col4\" >432</td>\n",
       "      <td id=\"T_49d6f_row5_col5\" class=\"data row5 col5\" >47</td>\n",
       "      <td id=\"T_49d6f_row5_col6\" class=\"data row5 col6\" >97</td>\n",
       "      <td id=\"T_49d6f_row5_col7\" class=\"data row5 col7\" >0.190871</td>\n",
       "      <td id=\"T_49d6f_row5_col8\" class=\"data row5 col8\" >0.515464</td>\n",
       "      <td id=\"T_49d6f_row5_col9\" class=\"data row5 col9\" >0.787037</td>\n",
       "      <td id=\"T_49d6f_row5_col10\" class=\"data row5 col10\" >0.103188</td>\n",
       "      <td id=\"T_49d6f_row5_col11\" class=\"data row5 col11\" >0.405689</td>\n",
       "      <td id=\"T_49d6f_row5_col12\" class=\"data row5 col12\" >0.508877</td>\n",
       "      <td id=\"T_49d6f_row5_col13\" class=\"data row5 col13\" >0.202776</td>\n",
       "    </tr>\n",
       "    <tr>\n",
       "      <th id=\"T_49d6f_level0_row6\" class=\"row_heading level0 row6\" >64</th>\n",
       "      <td id=\"T_49d6f_row6_col0\" class=\"data row6 col0\" >0.650000</td>\n",
       "      <td id=\"T_49d6f_row6_col1\" class=\"data row6 col1\" >0.484536</td>\n",
       "      <td id=\"T_49d6f_row6_col2\" class=\"data row6 col2\" >0.212963</td>\n",
       "      <td id=\"T_49d6f_row6_col3\" class=\"data row6 col3\" >92</td>\n",
       "      <td id=\"T_49d6f_row6_col4\" class=\"data row6 col4\" >432</td>\n",
       "      <td id=\"T_49d6f_row6_col5\" class=\"data row6 col5\" >47</td>\n",
       "      <td id=\"T_49d6f_row6_col6\" class=\"data row6 col6\" >97</td>\n",
       "      <td id=\"T_49d6f_row6_col7\" class=\"data row6 col7\" >0.190871</td>\n",
       "      <td id=\"T_49d6f_row6_col8\" class=\"data row6 col8\" >0.515464</td>\n",
       "      <td id=\"T_49d6f_row6_col9\" class=\"data row6 col9\" >0.787037</td>\n",
       "      <td id=\"T_49d6f_row6_col10\" class=\"data row6 col10\" >0.103188</td>\n",
       "      <td id=\"T_49d6f_row6_col11\" class=\"data row6 col11\" >0.405689</td>\n",
       "      <td id=\"T_49d6f_row6_col12\" class=\"data row6 col12\" >0.508877</td>\n",
       "      <td id=\"T_49d6f_row6_col13\" class=\"data row6 col13\" >0.202776</td>\n",
       "    </tr>\n",
       "  </tbody>\n",
       "</table>\n"
      ],
      "text/plain": [
       "<pandas.io.formats.style.Styler at 0x7f2d32256580>"
      ]
     },
     "execution_count": 19,
     "metadata": {},
     "output_type": "execute_result"
    }
   ],
   "source": [
    "table_ten= yearthree.testwo_post.shared[0]\n",
    "table_ten = table_ten.loc[58:64]\n",
    "\n",
    "caption = \"Table 8: Chance of exceeding the 2021 threshold, Gfrags 2021, prior=shared. Columns = qty=p/m, lh=likelihood, pr=prior, post=posterior\"\n",
    "\n",
    "table_ten.style.set_caption(caption).set_table_styles(table_css_styles)"
   ]
  },
  {
   "cell_type": "code",
   "execution_count": 20,
   "metadata": {
    "editable": true,
    "slideshow": {
     "slide_type": ""
    },
    "tags": [
     "remove-input"
    ]
   },
   "outputs": [
    {
     "data": {
      "text/html": [
       "<style type=\"text/css\">\n",
       "#T_bb67e tr:nth-child(even) {\n",
       "  background-color: rgba(139, 69, 19, 0.08);\n",
       "}\n",
       "#T_bb67e tr:nth-child(odd) {\n",
       "  background: #FFF;\n",
       "}\n",
       "#T_bb67e tr {\n",
       "  font-size: 12px;\n",
       "}\n",
       "#T_bb67e th:nth-child(1) {\n",
       "  background-color: #FFF;\n",
       "  text-align: right;\n",
       "}\n",
       "#T_bb67e caption {\n",
       "  font-size: 14px;\n",
       "  font-style: italic;\n",
       "  caption-side: bottom;\n",
       "  text-align: left;\n",
       "  margin-top: 10px;\n",
       "}\n",
       "</style>\n",
       "<table id=\"T_bb67e\">\n",
       "  <caption>Table 9: Chance of exceeding the 2021 threshold, Gfrags 2021, prior=shared. Columns = qty=p/m, lh=likelihood, pr=prior, post=posterior</caption>\n",
       "  <thead>\n",
       "    <tr>\n",
       "      <th class=\"blank level0\" >&nbsp;</th>\n",
       "      <th id=\"T_bb67e_level0_col0\" class=\"col_heading level0 col0\" >qty</th>\n",
       "      <th id=\"T_bb67e_level0_col1\" class=\"col_heading level0 col1\" >lh</th>\n",
       "      <th id=\"T_bb67e_level0_col2\" class=\"col_heading level0 col2\" >pr</th>\n",
       "      <th id=\"T_bb67e_level0_col3\" class=\"col_heading level0 col3\" >1-lh</th>\n",
       "      <th id=\"T_bb67e_level0_col4\" class=\"col_heading level0 col4\" >1-pr</th>\n",
       "      <th id=\"T_bb67e_level0_col5\" class=\"col_heading level0 col5\" >lh*pr</th>\n",
       "      <th id=\"T_bb67e_level0_col6\" class=\"col_heading level0 col6\" >1-lh*1-pr</th>\n",
       "      <th id=\"T_bb67e_level0_col7\" class=\"col_heading level0 col7\" >p-total</th>\n",
       "      <th id=\"T_bb67e_level0_col8\" class=\"col_heading level0 col8\" >post</th>\n",
       "    </tr>\n",
       "  </thead>\n",
       "  <tbody>\n",
       "    <tr>\n",
       "      <th id=\"T_bb67e_level0_row0\" class=\"row_heading level0 row0\" >58</th>\n",
       "      <td id=\"T_bb67e_row0_col0\" class=\"data row0 col0\" >0.590000</td>\n",
       "      <td id=\"T_bb67e_row0_col1\" class=\"data row0 col1\" >0.505155</td>\n",
       "      <td id=\"T_bb67e_row0_col2\" class=\"data row0 col2\" >0.312883</td>\n",
       "      <td id=\"T_bb67e_row0_col3\" class=\"data row0 col3\" >0.494845</td>\n",
       "      <td id=\"T_bb67e_row0_col4\" class=\"data row0 col4\" >0.687117</td>\n",
       "      <td id=\"T_bb67e_row0_col5\" class=\"data row0 col5\" >0.158055</td>\n",
       "      <td id=\"T_bb67e_row0_col6\" class=\"data row0 col6\" >0.340016</td>\n",
       "      <td id=\"T_bb67e_row0_col7\" class=\"data row0 col7\" >0.498071</td>\n",
       "      <td id=\"T_bb67e_row0_col8\" class=\"data row0 col8\" >0.317333</td>\n",
       "    </tr>\n",
       "    <tr>\n",
       "      <th id=\"T_bb67e_level0_row1\" class=\"row_heading level0 row1\" >59</th>\n",
       "      <td id=\"T_bb67e_row1_col0\" class=\"data row1 col0\" >0.600000</td>\n",
       "      <td id=\"T_bb67e_row1_col1\" class=\"data row1 col1\" >0.505155</td>\n",
       "      <td id=\"T_bb67e_row1_col2\" class=\"data row1 col2\" >0.293401</td>\n",
       "      <td id=\"T_bb67e_row1_col3\" class=\"data row1 col3\" >0.494845</td>\n",
       "      <td id=\"T_bb67e_row1_col4\" class=\"data row1 col4\" >0.706599</td>\n",
       "      <td id=\"T_bb67e_row1_col5\" class=\"data row1 col5\" >0.148213</td>\n",
       "      <td id=\"T_bb67e_row1_col6\" class=\"data row1 col6\" >0.349657</td>\n",
       "      <td id=\"T_bb67e_row1_col7\" class=\"data row1 col7\" >0.497870</td>\n",
       "      <td id=\"T_bb67e_row1_col8\" class=\"data row1 col8\" >0.297694</td>\n",
       "    </tr>\n",
       "    <tr>\n",
       "      <th id=\"T_bb67e_level0_row2\" class=\"row_heading level0 row2\" >60</th>\n",
       "      <td id=\"T_bb67e_row2_col0\" class=\"data row2 col0\" >0.610000</td>\n",
       "      <td id=\"T_bb67e_row2_col1\" class=\"data row2 col1\" >0.505155</td>\n",
       "      <td id=\"T_bb67e_row2_col2\" class=\"data row2 col2\" >0.293401</td>\n",
       "      <td id=\"T_bb67e_row2_col3\" class=\"data row2 col3\" >0.494845</td>\n",
       "      <td id=\"T_bb67e_row2_col4\" class=\"data row2 col4\" >0.706599</td>\n",
       "      <td id=\"T_bb67e_row2_col5\" class=\"data row2 col5\" >0.148213</td>\n",
       "      <td id=\"T_bb67e_row2_col6\" class=\"data row2 col6\" >0.349657</td>\n",
       "      <td id=\"T_bb67e_row2_col7\" class=\"data row2 col7\" >0.497870</td>\n",
       "      <td id=\"T_bb67e_row2_col8\" class=\"data row2 col8\" >0.297694</td>\n",
       "    </tr>\n",
       "    <tr>\n",
       "      <th id=\"T_bb67e_level0_row3\" class=\"row_heading level0 row3\" >61</th>\n",
       "      <td id=\"T_bb67e_row3_col0\" class=\"data row3 col0\" >0.620000</td>\n",
       "      <td id=\"T_bb67e_row3_col1\" class=\"data row3 col1\" >0.494845</td>\n",
       "      <td id=\"T_bb67e_row3_col2\" class=\"data row3 col2\" >0.293401</td>\n",
       "      <td id=\"T_bb67e_row3_col3\" class=\"data row3 col3\" >0.505155</td>\n",
       "      <td id=\"T_bb67e_row3_col4\" class=\"data row3 col4\" >0.706599</td>\n",
       "      <td id=\"T_bb67e_row3_col5\" class=\"data row3 col5\" >0.145188</td>\n",
       "      <td id=\"T_bb67e_row3_col6\" class=\"data row3 col6\" >0.356942</td>\n",
       "      <td id=\"T_bb67e_row3_col7\" class=\"data row3 col7\" >0.502130</td>\n",
       "      <td id=\"T_bb67e_row3_col8\" class=\"data row3 col8\" >0.289145</td>\n",
       "    </tr>\n",
       "    <tr>\n",
       "      <th id=\"T_bb67e_level0_row4\" class=\"row_heading level0 row4\" >62</th>\n",
       "      <td id=\"T_bb67e_row4_col0\" class=\"data row4 col0\" >0.630000</td>\n",
       "      <td id=\"T_bb67e_row4_col1\" class=\"data row4 col1\" >0.484536</td>\n",
       "      <td id=\"T_bb67e_row4_col2\" class=\"data row4 col2\" >0.283047</td>\n",
       "      <td id=\"T_bb67e_row4_col3\" class=\"data row4 col3\" >0.515464</td>\n",
       "      <td id=\"T_bb67e_row4_col4\" class=\"data row4 col4\" >0.716953</td>\n",
       "      <td id=\"T_bb67e_row4_col5\" class=\"data row4 col5\" >0.137147</td>\n",
       "      <td id=\"T_bb67e_row4_col6\" class=\"data row4 col6\" >0.369563</td>\n",
       "      <td id=\"T_bb67e_row4_col7\" class=\"data row4 col7\" >0.506710</td>\n",
       "      <td id=\"T_bb67e_row4_col8\" class=\"data row4 col8\" >0.270661</td>\n",
       "    </tr>\n",
       "    <tr>\n",
       "      <th id=\"T_bb67e_level0_row5\" class=\"row_heading level0 row5\" >63</th>\n",
       "      <td id=\"T_bb67e_row5_col0\" class=\"data row5 col0\" >0.640000</td>\n",
       "      <td id=\"T_bb67e_row5_col1\" class=\"data row5 col1\" >0.484536</td>\n",
       "      <td id=\"T_bb67e_row5_col2\" class=\"data row5 col2\" >0.264264</td>\n",
       "      <td id=\"T_bb67e_row5_col3\" class=\"data row5 col3\" >0.515464</td>\n",
       "      <td id=\"T_bb67e_row5_col4\" class=\"data row5 col4\" >0.735736</td>\n",
       "      <td id=\"T_bb67e_row5_col5\" class=\"data row5 col5\" >0.128046</td>\n",
       "      <td id=\"T_bb67e_row5_col6\" class=\"data row5 col6\" >0.379245</td>\n",
       "      <td id=\"T_bb67e_row5_col7\" class=\"data row5 col7\" >0.507291</td>\n",
       "      <td id=\"T_bb67e_row5_col8\" class=\"data row5 col8\" >0.252411</td>\n",
       "    </tr>\n",
       "    <tr>\n",
       "      <th id=\"T_bb67e_level0_row6\" class=\"row_heading level0 row6\" >64</th>\n",
       "      <td id=\"T_bb67e_row6_col0\" class=\"data row6 col0\" >0.650000</td>\n",
       "      <td id=\"T_bb67e_row6_col1\" class=\"data row6 col1\" >0.484536</td>\n",
       "      <td id=\"T_bb67e_row6_col2\" class=\"data row6 col2\" >0.264264</td>\n",
       "      <td id=\"T_bb67e_row6_col3\" class=\"data row6 col3\" >0.515464</td>\n",
       "      <td id=\"T_bb67e_row6_col4\" class=\"data row6 col4\" >0.735736</td>\n",
       "      <td id=\"T_bb67e_row6_col5\" class=\"data row6 col5\" >0.128046</td>\n",
       "      <td id=\"T_bb67e_row6_col6\" class=\"data row6 col6\" >0.379245</td>\n",
       "      <td id=\"T_bb67e_row6_col7\" class=\"data row6 col7\" >0.507291</td>\n",
       "      <td id=\"T_bb67e_row6_col8\" class=\"data row6 col8\" >0.252411</td>\n",
       "    </tr>\n",
       "  </tbody>\n",
       "</table>\n"
      ],
      "text/plain": [
       "<pandas.io.formats.style.Styler at 0x7f2d3207b610>"
      ]
     },
     "execution_count": 20,
     "metadata": {},
     "output_type": "execute_result"
    }
   ],
   "source": [
    "table_11= yearthree.testwo_post.sequential[0]\n",
    "table_11 = table_11.loc[58:64]\n",
    "\n",
    "caption = \"Table 9: Chance of exceeding the 2021 threshold, Gfrags 2021, prior=shared. Columns = qty=p/m, lh=likelihood, pr=prior, post=posterior\"\n",
    "\n",
    "table_11.style.set_caption(caption).set_table_styles(table_css_styles)"
   ]
  },
  {
   "cell_type": "code",
   "execution_count": 21,
   "metadata": {
    "editable": true,
    "scrolled": true,
    "slideshow": {
     "slide_type": ""
    },
    "tags": [
     "hide-input"
    ]
   },
   "outputs": [
    {
     "data": {
      "application/papermill.record/image/png": "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",
      "application/papermill.record/text/plain": "<Figure size 1000x800 with 1 Axes>"
     },
     "metadata": {
      "scrapbook": {
       "mime_prefix": "application/papermill.record/",
       "name": "priors_results"
      }
     },
     "output_type": "display_data"
    }
   ],
   "source": [
    "tone_prior =yearone.testwo_post.uninformed[0]\n",
    "ttwo_prior = yeartwo.testwo_post.shared[0]\n",
    "tthree_prior = yearthree.testwo_post.shared[0]\n",
    "\n",
    "tone_prior = tone_prior\n",
    "ttwo_prior = ttwo_prior\n",
    "tthree_prior = tthree_prior\n",
    "\n",
    "hist_data = yearone.testwo.current_data\n",
    "hist_data = hist_data[hist_data.code == code]\n",
    "\n",
    "hist_datatwo = yeartwo.testwo.current_data\n",
    "hist_datatwo = hist_datatwo[hist_datatwo.code == code]\n",
    "\n",
    "hist_datathree = yearthree.testwo.current_data\n",
    "hist_datathree = hist_datathree[hist_datathree.code == code]\n",
    "hist_datathree = hist_datathree[hist_datathree.pcs_m < 11]\n",
    "\n",
    "fig, ax = plt.subplots(figsize=(10, 8))\n",
    "\n",
    "# sns.scatterplot(data=tone_prior, x=\"qty\", y=\"pr\", ax=ax, color=\"lime\", label=\"yearone prior\")\n",
    "sns.scatterplot(data=tone_prior, x=\"qty\", y=\"post\", ax=ax, color=\"lime\", label=\"yearone post\", marker=\"x\", zorder=10)\n",
    "\n",
    "sns.scatterplot(data=ttwo_prior, x=\"qty\", y=\"pr\", ax=ax, color=\"magenta\", label=\"yeartwo prior\")\n",
    "sns.scatterplot(data=ttwo_prior, x=\"qty\", y=\"post\", ax=ax, color=\"magenta\", label=\"yeartwo post\", marker=\"x\", zorder=10)\n",
    "\n",
    "sns.scatterplot(data=tthree_prior, x=\"qty\", y=\"pr\", ax=ax, color=\"dodgerblue\", label=\"yearthree prior\")\n",
    "sns.scatterplot(data=tthree_prior, x=\"qty\", y=\"post\", ax=ax, color=\"dodgerblue\", label=\"yearthree post\", marker=\"x\",  zorder=10)\n",
    "\n",
    "sns.histplot(data=hist_data, x=\"pcs_m\", stat=\"probability\", ax=ax, bins=10, zorder=0)\n",
    "sns.histplot(data=hist_datatwo, x=\"pcs_m\", stat=\"probability\", ax=ax, bins=10, zorder=0)\n",
    "sns.histplot(data=hist_datathree, x=\"pcs_m\", stat=\"probability\", ax=ax, bins=10, zorder=0, color=\"red\")\n",
    "\n",
    "plt.tight_layout()\n",
    "glue(\"priors_results\", fig, display=False)\n",
    "plt.close()"
   ]
  },
  {
   "cell_type": "markdown",
   "metadata": {
    "editable": true,
    "slideshow": {
     "slide_type": ""
    },
    "tags": []
   },
   "source": [
    "```{glue:figure} priors_results\n",
    ":name: \"tbl:df\"\n",
    "\n",
    "Distribution of priors and survey results\n",
    "``` "
   ]
  },
  {
   "cell_type": "code",
   "execution_count": 22,
   "metadata": {
    "editable": true,
    "slideshow": {
     "slide_type": ""
    },
    "tags": []
   },
   "outputs": [
    {
     "data": {
      "text/plain": [
       "0.61"
      ]
     },
     "execution_count": 22,
     "metadata": {},
     "output_type": "execute_result"
    }
   ],
   "source": [
    "gfrags3 = yearthree.testwo.current_data\n",
    "gfrag3 = gfrags3[gfrags3.code == code].copy()\n",
    "gfrag3.pcs_m.median()"
   ]
  },
  {
   "cell_type": "code",
   "execution_count": 23,
   "metadata": {
    "editable": true,
    "slideshow": {
     "slide_type": ""
    },
    "tags": []
   },
   "outputs": [
    {
     "data": {
      "text/plain": [
       "0.25"
      ]
     },
     "execution_count": 23,
     "metadata": {},
     "output_type": "execute_result"
    }
   ],
   "source": [
    "gfrags2 = yeartwo.testwo.current_data\n",
    "gfrag2 = gfrags2[gfrags2.code == code].copy()\n",
    "gfrag2.pcs_m.median()"
   ]
  },
  {
   "cell_type": "code",
   "execution_count": 24,
   "metadata": {
    "editable": true,
    "slideshow": {
     "slide_type": ""
    },
    "tags": []
   },
   "outputs": [
    {
     "data": {
      "text/plain": [
       "0.515"
      ]
     },
     "execution_count": 24,
     "metadata": {},
     "output_type": "execute_result"
    }
   ],
   "source": [
    "gfrags = yearone.testwo.current_data\n",
    "gfrag = gfrags[gfrags.code == code].copy()\n",
    "gfrag.pcs_m.median()"
   ]
  },
  {
   "cell_type": "code",
   "execution_count": 25,
   "metadata": {
    "editable": true,
    "slideshow": {
     "slide_type": ""
    },
    "tags": []
   },
   "outputs": [
    {
     "data": {
      "text/plain": [
       "['Gfrags',\n",
       " 'G30',\n",
       " 'G27',\n",
       " 'Gfoam',\n",
       " 'G95',\n",
       " 'Gcaps',\n",
       " 'G67',\n",
       " 'G35',\n",
       " 'G89',\n",
       " 'G31',\n",
       " 'G32',\n",
       " 'G100',\n",
       " 'G33',\n",
       " 'G25',\n",
       " 'G70',\n",
       " 'G10']"
      ]
     },
     "execution_count": 25,
     "metadata": {},
     "output_type": "execute_result"
    }
   ],
   "source": [
    "cois"
   ]
  },
  {
   "cell_type": "code",
   "execution_count": 26,
   "metadata": {
    "editable": true,
    "slideshow": {
     "slide_type": ""
    },
    "tags": []
   },
   "outputs": [],
   "source": [
    "yearone.testwo_post.post_informed"
   ]
  },
  {
   "cell_type": "code",
   "execution_count": 27,
   "metadata": {
    "editable": true,
    "slideshow": {
     "slide_type": ""
    },
    "tags": []
   },
   "outputs": [
    {
     "data": {
      "text/plain": [
       "array([0.41, 0.51, 0.7 , 0.74, 0.52, 0.67, 0.54, 0.4 , 0.35, 0.38, 0.32,\n",
       "       0.35, 0.54, 0.52, 0.7 , 0.48])"
      ]
     },
     "execution_count": 27,
     "metadata": {},
     "output_type": "execute_result"
    }
   ],
   "source": [
    "yearone.testwo_post.post_uninformed"
   ]
  },
  {
   "cell_type": "code",
   "execution_count": 28,
   "metadata": {
    "editable": true,
    "slideshow": {
     "slide_type": ""
    },
    "tags": []
   },
   "outputs": [],
   "source": [
    "yearone.testwo_post.post_sequential"
   ]
  },
  {
   "cell_type": "code",
   "execution_count": 29,
   "metadata": {
    "editable": true,
    "slideshow": {
     "slide_type": ""
    },
    "tags": []
   },
   "outputs": [
    {
     "data": {
      "text/plain": [
       "array([0.29, 0.58, 0.71, 0.58, 0.74, 0.73, 0.56, 0.28, 0.1 , 0.4 , 0.11,\n",
       "       0.31, 0.4 , 0.46, 0.32, 0.26])"
      ]
     },
     "execution_count": 29,
     "metadata": {},
     "output_type": "execute_result"
    }
   ],
   "source": [
    "yeartwo.testwo_post.post_informed"
   ]
  },
  {
   "cell_type": "code",
   "execution_count": 30,
   "metadata": {
    "editable": true,
    "slideshow": {
     "slide_type": ""
    },
    "tags": []
   },
   "outputs": [
    {
     "data": {
      "text/plain": [
       "array([0.37, 0.57, 0.52, 0.33, 0.72, 0.57, 0.52, 0.37, 0.17, 0.52, 0.22,\n",
       "       0.46, 0.37, 0.43, 0.17, 0.28])"
      ]
     },
     "execution_count": 30,
     "metadata": {},
     "output_type": "execute_result"
    }
   ],
   "source": [
    "yeartwo.testwo_post.post_uninformed"
   ]
  },
  {
   "cell_type": "code",
   "execution_count": 31,
   "metadata": {
    "editable": true,
    "slideshow": {
     "slide_type": ""
    },
    "tags": []
   },
   "outputs": [
    {
     "data": {
      "text/plain": [
       "array([0.29, 0.58, 0.71, 0.58, 0.74, 0.73, 0.56, 0.28, 0.1 , 0.4 , 0.11,\n",
       "       0.31, 0.4 , 0.46, 0.32, 0.26])"
      ]
     },
     "execution_count": 31,
     "metadata": {},
     "output_type": "execute_result"
    }
   ],
   "source": [
    "yeartwo.testwo_post.post_sequential"
   ]
  },
  {
   "cell_type": "code",
   "execution_count": 32,
   "metadata": {
    "editable": true,
    "slideshow": {
     "slide_type": ""
    },
    "tags": []
   },
   "outputs": [
    {
     "data": {
      "text/plain": [
       "array([0.21, 0.35, 0.43, 0.25, 0.21, 0.35, 0.39, 0.2 , 0.14, 0.32, 0.14,\n",
       "       0.16, 0.25, 0.32, 0.18, 0.22])"
      ]
     },
     "execution_count": 32,
     "metadata": {},
     "output_type": "execute_result"
    }
   ],
   "source": [
    "yearthree.testwo_post.post_informed"
   ]
  },
  {
   "cell_type": "code",
   "execution_count": 33,
   "metadata": {
    "editable": true,
    "slideshow": {
     "slide_type": ""
    },
    "tags": []
   },
   "outputs": [
    {
     "data": {
      "text/plain": [
       "array([0.49, 0.49, 0.47, 0.46, 0.49, 0.47, 0.48, 0.47, 0.47, 0.48, 0.41,\n",
       "       0.44, 0.44, 0.48, 0.49, 0.46])"
      ]
     },
     "execution_count": 33,
     "metadata": {},
     "output_type": "execute_result"
    }
   ],
   "source": [
    "yearthree.testwo_post.post_uninformed"
   ]
  },
  {
   "cell_type": "code",
   "execution_count": 34,
   "metadata": {
    "editable": true,
    "slideshow": {
     "slide_type": ""
    },
    "tags": []
   },
   "outputs": [
    {
     "data": {
      "text/plain": [
       "array([0.29, 0.57, 0.69, 0.55, 0.73, 0.7 , 0.54, 0.26, 0.09, 0.38, 0.08,\n",
       "       0.27, 0.35, 0.44, 0.32, 0.24])"
      ]
     },
     "execution_count": 34,
     "metadata": {},
     "output_type": "execute_result"
    }
   ],
   "source": [
    "yearthree.testwo_post.post_sequential"
   ]
  },
  {
   "cell_type": "code",
   "execution_count": 35,
   "metadata": {
    "editable": true,
    "slideshow": {
     "slide_type": ""
    },
    "tags": []
   },
   "outputs": [
    {
     "data": {
      "text/plain": [
       "code\n",
       "G10        1.0\n",
       "G100       2.0\n",
       "G25        2.0\n",
       "G27       47.0\n",
       "G30       21.0\n",
       "G31        3.0\n",
       "G32        3.0\n",
       "G33        2.0\n",
       "G35        4.0\n",
       "G67        9.0\n",
       "G70        1.0\n",
       "G89        6.0\n",
       "G95       12.0\n",
       "Gcaps     11.0\n",
       "Gfoam     28.0\n",
       "Gfrags    61.0\n",
       "Name: pcs_m, dtype: float64"
      ]
     },
     "execution_count": 35,
     "metadata": {},
     "output_type": "execute_result"
    }
   ],
   "source": [
    "tholds_r"
   ]
  },
  {
   "cell_type": "markdown",
   "metadata": {
    "editable": true,
    "slideshow": {
     "slide_type": ""
    },
    "tags": []
   },
   "source": [
    "__Distribution of survey results__\n",
    "\n"
   ]
  },
  {
   "cell_type": "code",
   "execution_count": 36,
   "metadata": {
    "editable": true,
    "slideshow": {
     "slide_type": ""
    },
    "tags": [
     "remove-input"
    ]
   },
   "outputs": [
    {
     "data": {
      "image/png": "[encoded data removed]",
      "text/plain": [
       "<Figure size 800x400 with 1 Axes>"
      ]
     },
     "metadata": {},
     "output_type": "display_data"
    }
   ],
   "source": [
    "# sample totals per code all locations in city\n",
    "\n",
    "city_results = yearthree.testwo.current_data[yearthree.testwo.current_data.city == coi]\n",
    "city_tot = city_results.groupby([\"loc_date\", \"date\"], as_index=False).pcs_m.sum()\n",
    "city_start = city_results.groupby([\"loc_date\", \"date\", \"code\"], as_index=False).pcs_m.sum()\n",
    "\n",
    "fig, ax = plt.subplots(figsize=(8,4))\n",
    "\n",
    "sns.boxplot(data=cstart, x=\"code\", y=\"pcs_m\", showfliers=False,ax=ax, width=.8, dodge=True)\n",
    "\n",
    "sns.scatterplot(data=city_start, x=\"code\", y=\"pcs_m\", ax=ax,s=50, color=\"magenta\", edgecolor=\"white\", label=\"Saint Sulpice\")\n",
    "sns.scatterplot(data=tholds, x=tholds.index, y=tholds, ax=ax, marker=\"v\", s=80, label=\"threshold\")\n",
    "ax.tick_params(rotation=90)\n",
    "ax.set_ylim(-.2, 4.5)\n",
    "ax.set_title(\"Distribution of survey results for each code of interest, 90% interval\", loc=\"left\")\n",
    "\n",
    "plt.show()"
   ]
  },
  {
   "cell_type": "code",
   "execution_count": 37,
   "metadata": {
    "editable": true,
    "slideshow": {
     "slide_type": ""
    },
    "tags": [
     "remove-input"
    ]
   },
   "outputs": [],
   "source": [
    "# fig, axs = plt.subplots(nrows=1, ncols=2, figsize=(8,4))\n",
    "\n",
    "# one = axs[0]\n",
    "# two = axs[1]\n",
    "\n",
    "# months = mdates.MonthLocator(interval=1)\n",
    "# months_fmt = mdates.DateFormatter('%b')\n",
    "# one.xaxis.set_major_locator(months)\n",
    "# one.xaxis.set_major_formatter(months_fmt)\n",
    "\n",
    "# one.tick_params(rotation=90)\n",
    "\n",
    "\n",
    "# sns.scatterplot(data=ctot, x=\"date\", y=\"pcs_m\", ax=one)\n",
    "# sns.scatterplot(data=city_tot, x=\"date\", y=\"pcs_m\", ax=one, color=\"magenta\")\n",
    "# sns.ecdfplot(data=ctot, x=\"pcs_m\", ax=two)\n",
    "# one.set_xlabel(\"\")\n",
    "# one.set_ylabel(\"pcs/m\")\n",
    "# one.set_title(\"Survey total objects of interest\", loc=\"left\")\n",
    "\n",
    "# two.set_title(\"Empirical cumulative distribution\", loc=\"left\")\n",
    "# two.set_xlabel(\"pcs/m\")\n",
    "\n",
    "# plt.tight_layout()\n",
    "\n",
    "\n",
    "# plt.show()"
   ]
  },
  {
   "cell_type": "code",
   "execution_count": 38,
   "metadata": {
    "editable": true,
    "slideshow": {
     "slide_type": ""
    },
    "tags": [
     "remove-input"
    ]
   },
   "outputs": [],
   "source": [
    "# caption_yone = \"Table year one\"\n",
    "# yearone.testwo_post.table_display().style.format(precision=2).background_gradient(axis=None, vmin=0, vmax=1, cmap='YlOrRd').set_caption(caption_yone).set_table_styles(table_css_styles)"
   ]
  },
  {
   "cell_type": "code",
   "execution_count": 39,
   "metadata": {
    "editable": true,
    "slideshow": {
     "slide_type": ""
    },
    "tags": [
     "remove-input"
    ]
   },
   "outputs": [],
   "source": [
    "# testwo_post.table_display().style.format(precision=2).background_gradient(axis=None, vmin=0, vmax=1, cmap='YlOrRd').set_caption(caption_yone).set_table_styles(table_css_styles)"
   ]
  },
  {
   "cell_type": "code",
   "execution_count": 40,
   "metadata": {
    "editable": true,
    "slideshow": {
     "slide_type": ""
    },
    "tags": []
   },
   "outputs": [],
   "source": [
    "# city_results = yearone.testwo_post.current_data[yearone.testwo_post.current_data.city ==  'Saint-Sulpice (VD)'].copy()\n",
    "# prior_luse = {x:city_results[x].drop_duplicates().astype(int).values for x in uses if x in city_results.columns}\n",
    "# somekeys = prior_luse.keys()\n",
    "# strs = [yearone.testwo_post.prior_data[yearone.testwo_post.prior_data[x].isin(prior_luse[x])] for x in somekeys]\n",
    "# strsi = pd.concat(strs)\n",
    "\n",
    "# xt = an_array_of_posterior_probabilities(city_results, strsi, cois, xrange)\n",
    "# xq = an_array_of_posterior_probabilities(city_results, uniformed_prior, cois, xrange)\n",
    "\n",
    "# tc = np.round([xt[i].loc[int(tholds_r.loc[x])][\"post\"] for i, x in enumerate(cois)], 2)\n",
    "# tq = np.round([xq[i].loc[int(tholds_r.loc[x])][\"post\"] for i, x in enumerate(cois)], 2)\n",
    "\n",
    "# pofsp_year_one = pd.DataFrame(data=[tc, tq], columns=cois, index = [\"informed prior\", \"uniformed prior\"])\n",
    "# caption = \"sp year one\"\n",
    "\n",
    "# display_year_one_sp = pofsp_year_one.style.format(precision=2).background_gradient(axis=None, vmin=0, vmax=1, cmap='YlOrRd').set_caption(caption).set_table_styles(table_css_styles)\n",
    "# display_year_one_sp"
   ]
  },
  {
   "cell_type": "code",
   "execution_count": 41,
   "metadata": {
    "editable": true,
    "slideshow": {
     "slide_type": ""
    },
    "tags": [
     "remove-input"
    ]
   },
   "outputs": [],
   "source": [
    "slr_d = make_date_object(\"2017-04-01\")\n",
    "slr_e = make_date_object(\"2018-05-01\")\n",
    "date_mask = (all_data[\"date\"] >= slr_d) & (all_data[\"date\"] <= slr_e)\n",
    "\n",
    "lake_locations = all_data[date_mask & (all_data.water_name_slug == 'lac-leman')].location.unique()\n",
    "prior_locations = all_data[(all_data[\"date\"] <= slr_e)&(all_data.water == \"l\")].location.unique()\n",
    "\n",
    "# the survey results and land use attributes associated with the locations\n",
    "# included in the survey results\n",
    "p_results, p_ludata = results_and_land_use(all_data, land_use_agg, slr_e, prior_locations, cois)\n",
    "c_results = p_results[p_results.date >= slr_d ]\n",
    "\n",
    "lagi2 = survey_results_with_land_use(c_results, p_ludata, lake_locations)\n",
    "pagi2 = survey_results_with_land_use(p_results, p_ludata, prior_locations)\n",
    "\n",
    "city_results = c_results[c_results.city == coi]\n",
    "uses = p_ludata.use.unique()\n",
    "\n",
    "# sample totals per code\n",
    "ctot = c_results.groupby([\"loc_date\", \"date\"], as_index=False).pcs_m.sum()\n",
    "city_tot = city_results.groupby([\"loc_date\", \"date\"], as_index=False).pcs_m.sum()\n",
    "city_start = city_results.groupby([\"loc_date\", \"date\", \"code\"], as_index=False).pcs_m.sum()\n",
    "cstart = c_results.groupby([\"loc_date\", \"date\", \"code\"], as_index=False).pcs_m.sum()\n",
    "cmedian = cstart.groupby(\"code\", as_index=False).pcs_m.mean()"
   ]
  },
  {
   "cell_type": "code",
   "execution_count": 42,
   "metadata": {
    "editable": true,
    "scrolled": true,
    "slideshow": {
     "slide_type": ""
    },
    "tags": [
     "remove-input"
    ]
   },
   "outputs": [],
   "source": [
    "# fig, axs = plt.subplots(nrows=1, ncols=2, figsize=(8,4))\n",
    "\n",
    "# one = axs[0]\n",
    "# two = axs[1]\n",
    "\n",
    "# months = mdates.MonthLocator(interval=1)\n",
    "# months_fmt = mdates.DateFormatter('%b')\n",
    "# one.xaxis.set_major_locator(months)\n",
    "# one.xaxis.set_major_formatter(months_fmt)\n",
    "\n",
    "# one.tick_params(rotation=90)\n",
    "\n",
    "\n",
    "# sns.scatterplot(data=ctot, x=\"date\", y=\"pcs_m\", ax=one)\n",
    "# sns.scatterplot(data=city_tot, x=\"date\", y=\"pcs_m\", ax=one, color=\"magenta\")\n",
    "# sns.ecdfplot(data=ctot, x=\"pcs_m\", ax=two)\n",
    "# one.set_xlabel(\"\")\n",
    "# one.set_ylabel(\"pcs/m\")\n",
    "# one.set_title(\"Survey total objects of interest\", loc=\"left\")\n",
    "\n",
    "# two.set_title(\"Empirical cumulative distribution\", loc=\"left\")\n",
    "# two.set_xlabel(\"pcs/m\")\n",
    "\n",
    "# plt.tight_layout()\n",
    "\n",
    "\n",
    "# plt.show()"
   ]
  },
  {
   "cell_type": "code",
   "execution_count": 43,
   "metadata": {
    "editable": true,
    "slideshow": {
     "slide_type": ""
    },
    "tags": [
     "remove-input"
    ]
   },
   "outputs": [],
   "source": [
    "# uniformed_prior = [0.5 for x in xrange]\n",
    "# year_one_prior = [x.post.values for x in qt]\n",
    "# t2 = an_array_of_posterior_probabilities(lagi2, pagi2, cois, xrange)\n",
    "# qt2 = an_array_of_posterior_probabilities(lagi2, uniformed_prior, cois, xrange)\n",
    "# st2 = an_array_of_sequential_probabilities(lagi2, year_one_prior, cois, xrange)\n",
    "\n",
    "# tp2 = np.round([t2[i].loc[int(tholds_r.loc[x])][\"post\"] for i, x in enumerate(cois)], 2)\n",
    "# qp2 = np.round([qt2[i].loc[int(tholds_r.loc[x])][\"post\"] for i, x in enumerate(cois)], 2)\n",
    "# sp2 = np.round([st2[i].loc[int(tholds_r.loc[x])][\"post\"] for i, x in enumerate(cois)], 2)\n",
    "\n",
    "# pofx_year_two = pd.DataFrame(data=[tp2, qp2,sp2], columns=cois, index = [\"informed prior\", \"uniformed prior\", \"year one prior\"])\n",
    "\n",
    "# caption = \"Table year two\"\n",
    "\n",
    "# display_year_two = pofx_year_two.style.format(precision=2).background_gradient(axis=None, vmin=0, vmax=1, cmap='YlOrRd').set_caption(caption).set_table_styles(table_css_styles)\n",
    "# display_year_two"
   ]
  },
  {
   "cell_type": "code",
   "execution_count": 44,
   "metadata": {
    "editable": true,
    "slideshow": {
     "slide_type": ""
    },
    "tags": [
     "remove-input"
    ]
   },
   "outputs": [],
   "source": [
    "# fig, ax = plt.subplots(figsize=(8,4))\n",
    "\n",
    "# sns.boxplot(data=cstart, x=\"code\", y=\"pcs_m\", showfliers=False,ax=ax, width=.8, dodge=True)\n",
    "\n",
    "# sns.scatterplot(data=city_start, x=\"code\", y=\"pcs_m\", ax=ax,s=50, color=\"magenta\", edgecolor=\"white\", label=\"Saint Sulpice\")\n",
    "# sns.scatterplot(data=tholds, x=tholds.index, y=tholds, ax=ax, marker=\"v\", s=80, label=\"threshold\")\n",
    "# ax.tick_params(rotation=90)\n",
    "# ax.set_ylim(-.2, 3)\n",
    "# ax.set_title(\"Distribution of survey results for each code of interest, 90% interval\", loc=\"left\")\n",
    "\n",
    "# plt.show()"
   ]
  },
  {
   "cell_type": "code",
   "execution_count": 45,
   "metadata": {
    "editable": true,
    "slideshow": {
     "slide_type": ""
    },
    "tags": [
     "remove-input"
    ]
   },
   "outputs": [],
   "source": [
    "# city_results2 = lagi2[lagi2.city ==  'Saint-Sulpice (VD)'].copy()\n",
    "# prior_luse2 = {x:city_results2[x].drop_duplicates().astype(int).values for x in uses if x in city_results2.columns}\n",
    "# somekeys = prior_luse.keys()\n",
    "# strs2 = [pagi2[pagi2[x].isin(prior_luse[x])] for x in somekeys]\n",
    "# strsi2 = pd.concat(strs)\n",
    "# strsi2\n",
    "\n",
    "# xt2 = an_array_of_posterior_probabilities(city_results2, strsi2, cois, xrange)\n",
    "# xq2 = an_array_of_posterior_probabilities(city_results2, uniformed_prior, cois, xrange)\n",
    "# yone_prior = an_array_of_sequential_probabilities(city_results2, xq, cois, xrange)\n",
    "\n",
    "\n",
    "\n",
    "# tc2 = np.round([xt2[i].loc[int(tholds_r.loc[x])][\"post\"] for i, x in enumerate(cois)], 2)\n",
    "# tq2 = np.round([xq2[i].loc[int(tholds_r.loc[x])][\"post\"] for i, x in enumerate(cois)], 2)\n",
    "# tytwo = np.round([yone_prior[i].loc[int(tholds_r.loc[x])][\"post\"] for i, x in enumerate(cois)], 2)\n",
    "\n",
    "# pofsp_year_two = pd.DataFrame(data=[tc2, tq2, tytwo], columns=cois, index = [\"informed prior\", \"uniformed prior\", \"year one prior\"])\n",
    "# caption = \"sp year two\"\n",
    "\n",
    "# display_year_two_sp = pofsp_year_two.style.format(precision=2).background_gradient(axis=None, vmin=0, vmax=1, cmap='YlOrRd').set_caption(caption).set_table_styles(table_css_styles)\n",
    "# display_year_two_sp"
   ]
  },
  {
   "cell_type": "code",
   "execution_count": 46,
   "metadata": {
    "editable": true,
    "slideshow": {
     "slide_type": ""
    },
    "tags": [
     "remove-input"
    ]
   },
   "outputs": [],
   "source": [
    "# slr_d = make_date_object(\"2020-04-01\")\n",
    "# slr_e = make_date_object(\"2021-05-01\")\n",
    "# date_mask =  (all_data[\"date\"] >= slr_d) & (all_data[\"date\"] <= slr_e)\n",
    "\n",
    "# lake_locations = all_data[date_mask & (all_data.water_name_slug == 'lac-leman')].location.unique()\n",
    "# prior_locations = all_data[(all_data[\"date\"] <= slr_e) &(all_data.water_name_slug == 'lac-leman')].location.unique()\n",
    "\n",
    "# # the survey results and land use attributes associated with the locations\n",
    "# # included in the survey results\n",
    "# p_results, p_ludata = results_and_land_use(all_data, land_use_agg, slr_e, prior_locations, cois)\n",
    "\n",
    "# c_results = p_results[p_results.date >= slr_d ]\n",
    "\n",
    "# lagi3 = survey_results_with_land_use(c_results, p_ludata, lake_locations)\n",
    "# pagi3 = survey_results_with_land_use(p_results, p_ludata, prior_locations)\n",
    "# city_results = c_results[c_results.city == coi]\n",
    "# uses = p_ludata.use.unique()\n",
    "\n",
    "# # sample totals per code\n",
    "# ctot = c_results.groupby([\"loc_date\", \"date\"], as_index=False).pcs_m.sum()\n",
    "# city_tot = city_results.groupby([\"loc_date\", \"date\"], as_index=False).pcs_m.sum()\n",
    "# city_start = city_results.groupby([\"loc_date\", \"date\", \"code\"], as_index=False).pcs_m.sum()\n",
    "# cstart = c_results.groupby([\"loc_date\", \"date\", \"code\"], as_index=False).pcs_m.sum()\n",
    "# cmedian = cstart.groupby(\"code\", as_index=False).pcs_m.mean()"
   ]
  },
  {
   "cell_type": "code",
   "execution_count": 47,
   "metadata": {
    "editable": true,
    "slideshow": {
     "slide_type": ""
    },
    "tags": [
     "remove-input"
    ]
   },
   "outputs": [],
   "source": [
    "# fig, axs = plt.subplots(nrows=1, ncols=2, figsize=(8,4))\n",
    "\n",
    "# one = axs[0]\n",
    "# two = axs[1]\n",
    "\n",
    "# months = mdates.MonthLocator(interval=1)\n",
    "# months_fmt = mdates.DateFormatter('%b')\n",
    "# one.xaxis.set_major_locator(months)\n",
    "# one.xaxis.set_major_formatter(months_fmt)\n",
    "\n",
    "# one.tick_params(rotation=90)\n",
    "\n",
    "\n",
    "# sns.scatterplot(data=ctot, x=\"date\", y=\"pcs_m\", ax=one)\n",
    "# sns.scatterplot(data=city_tot, x=\"date\", y=\"pcs_m\", ax=one, color=\"magenta\")\n",
    "# sns.ecdfplot(data=ctot, x=\"pcs_m\", ax=two)\n",
    "# one.set_xlabel(\"\")\n",
    "# one.set_ylabel(\"pcs/m\")\n",
    "# one.set_title(\"Survey total objects of interest\", loc=\"left\")\n",
    "\n",
    "# two.set_title(\"Empirical cumulative distribution\", loc=\"left\")\n",
    "# two.set_xlabel(\"pcs/m\")\n",
    "\n",
    "# plt.tight_layout()\n",
    "\n",
    "\n",
    "# plt.show()"
   ]
  },
  {
   "cell_type": "code",
   "execution_count": 48,
   "metadata": {
    "editable": true,
    "slideshow": {
     "slide_type": ""
    },
    "tags": [
     "remove-input"
    ]
   },
   "outputs": [],
   "source": [
    "uniformed_prior = [0.5 for x in xrange]\n",
    "year_two_prior = [x.post.values for x in yeartwo.testwo_post.shared]\n",
    "# t3 = an_array_of_posterior_probabilities(yearthree.testwo.current_data, yearthree.testwo.prior_data, cois, xrange)\n",
    "# qt3 = an_array_of_posterior_probabilities(yearthree.testwo.current_data, uniformed_prior, cois, xrange)\n",
    "# st3 = an_array_of_sequential_probabilities(yearthree.testwo.current_data, year_two_prior, cois, xrange)\n",
    "\n",
    "# tp3 = np.round([t3[i].loc[int(tholds_r.loc[x])][\"post\"] for i, x in enumerate(cois)], 2)\n",
    "# qp3 = np.round([qt3[i].loc[int(tholds_r.loc[x])][\"post\"] for i, x in enumerate(cois)], 2)\n",
    "# sp3 = np.round([st3[i].loc[int(tholds_r.loc[x])][\"post\"] for i, x in enumerate(cois)], 2)\n",
    "\n",
    "# pofx_year_three = pd.DataFrame(data=[tp3, qp3,sp3], columns=cois, index = [\"informed prior\", \"uniformed prior\", \"year two prior\"])\n",
    "\n",
    "# caption = \"Table year three\"\n",
    "\n",
    "# display_year_three = pofx_year_three.style.format(precision=2).background_gradient(axis=None, vmin=0, vmax=1, cmap='YlOrRd').set_caption(caption).set_table_styles(table_css_styles)\n",
    "# display_year_three"
   ]
  },
  {
   "cell_type": "code",
   "execution_count": 49,
   "metadata": {
    "editable": true,
    "slideshow": {
     "slide_type": ""
    },
    "tags": [
     "remove-input"
    ]
   },
   "outputs": [],
   "source": [
    "# fig, ax = plt.subplots()\n",
    "\n",
    "# for i,res in enumerate(qt3):\n",
    "#     sns.lineplot(data=res, x=\"qty\", y=\"post\", ax=ax, label=cois[i])\n",
    "#     # sns.lineplot(data=spc3[i], x=\"mag\", y=\"p\", ax=ax, label=cois[i])\n",
    "\n",
    "# ax.set_xlabel(\"pcs per meter\")\n",
    "# ax.set_ylabel(\"probability of exceeding x\")\n",
    "# ax.legend(bbox_to_anchor=(1,1))\n",
    "# plt.show()"
   ]
  },
  {
   "cell_type": "code",
   "execution_count": 50,
   "metadata": {
    "editable": true,
    "slideshow": {
     "slide_type": ""
    },
    "tags": [
     "remove-input"
    ]
   },
   "outputs": [],
   "source": [
    "# fig, ax = plt.subplots(figsize=(8,4))\n",
    "\n",
    "# sns.boxplot(data=cstart, x=\"code\", y=\"pcs_m\", showfliers=False,ax=ax, width=.8, dodge=True)\n",
    "\n",
    "# sns.scatterplot(data=city_start, x=\"code\", y=\"pcs_m\", ax=ax,s=50, color=\"magenta\", edgecolor=\"white\", label=\"Saint Sulpice\")\n",
    "# sns.scatterplot(data=tholds, x=tholds.index, y=tholds, ax=ax, marker=\"v\", s=80, label=\"threshold\")\n",
    "# ax.tick_params(rotation=90)\n",
    "# ax.set_ylim(-.2, 4.5)\n",
    "# ax.set_title(\"Distribution of survey results for each code of interest, 90% interval\", loc=\"left\")\n",
    "# ax.legend(loc=\"upper left\")\n",
    "\n",
    "# plt.show()"
   ]
  },
  {
   "cell_type": "code",
   "execution_count": 51,
   "metadata": {
    "editable": true,
    "slideshow": {
     "slide_type": ""
    },
    "tags": [
     "remove-input"
    ]
   },
   "outputs": [],
   "source": [
    "# city_results3 = lagi3[lagi3.city ==  'Saint-Sulpice (VD)'].copy()\n",
    "# prior_luse3 = {x:city_results3[x].drop_duplicates().astype(int).values for x in uses if x in city_results3.columns}\n",
    "# somekeys = prior_luse.keys()\n",
    "# strs3 = [pagi3[pagi3[x].isin(prior_luse[x])] for x in somekeys]\n",
    "# strsi3 = pd.concat(strs3)\n",
    "\n",
    "# xt3 = an_array_of_posterior_probabilities(city_results3, strsi3, cois, xrange)\n",
    "# xq3 = an_array_of_posterior_probabilities(city_results3, uniformed_prior, cois, xrange)\n",
    "# ytwo_prior = an_array_of_sequential_probabilities(city_results3, xq2, cois, xrange)\n",
    "\n",
    "# tc3 = np.round([xt3[i].loc[int(tholds_r.loc[x])][\"post\"] for i, x in enumerate(cois)], 2)\n",
    "# tq3 = np.round([xq3[i].loc[int(tholds_r.loc[x])][\"post\"] for i, x in enumerate(cois)], 2)\n",
    "# tythree = np.round([ytwo_prior[i].loc[int(tholds_r.loc[x])][\"post\"] for i, x in enumerate(cois)], 2)\n",
    "\n",
    "# pofsp_year_three = pd.DataFrame(data=[tc3,  tythree, tq3], columns=cois, index = [\"informed prior\", \"year one prior\", \"uniformed prior\"])\n",
    "# caption = \"sp year three\"\n",
    "\n",
    "# display_year_three_sp = pofsp_year_three.style.format(precision=2).background_gradient(axis=None, vmin=0, vmax=1, cmap='YlOrRd').set_caption(caption).set_table_styles(table_css_styles)\n",
    "# display_year_three_sp"
   ]
  },
  {
   "cell_type": "code",
   "execution_count": 52,
   "metadata": {
    "editable": true,
    "slideshow": {
     "slide_type": ""
    },
    "tags": [
     "remove-input"
    ]
   },
   "outputs": [],
   "source": [
    "# pofsp_all_uin = pd.DataFrame(data=[qp,  qp2, qp3], columns=cois, index = [\"mcbp\", \"slr\", \"iqaasl\"])\n",
    "\n",
    "# caption = \"Probability of exceeding threshhold by sampling campaign: uninformed prior\"\n",
    "\n",
    "# pofsp_all = pofsp_all_uin.style.format(precision=2).background_gradient(axis=None, vmin=0, vmax=1, cmap='YlOrRd').set_caption(caption).set_table_styles(table_css_styles)\n",
    "# pofsp_all"
   ]
  },
  {
   "cell_type": "code",
   "execution_count": 53,
   "metadata": {
    "editable": true,
    "slideshow": {
     "slide_type": ""
    },
    "tags": [
     "remove-input"
    ]
   },
   "outputs": [],
   "source": [
    "# pofsp_all_inf = pd.DataFrame(data=[tp,  tp2, tp3], columns=cois, index = [\"mcbp\", \"slr\", \"iqaasl\"])\n",
    "\n",
    "\n",
    "# caption = \"Probability of exceeding threshhold by sampling campaign: informed prior\"\n",
    "\n",
    "# pofsp_inf = pofsp_all_inf.style.format(precision=2).background_gradient(axis=None, vmin=0, vmax=1, cmap='YlOrRd').set_caption(caption).set_table_styles(table_css_styles)\n",
    "# pofsp_inf"
   ]
  },
  {
   "cell_type": "code",
   "execution_count": 54,
   "metadata": {
    "editable": true,
    "slideshow": {
     "slide_type": ""
    },
    "tags": [
     "remove-input"
    ]
   },
   "outputs": [],
   "source": [
    "# pofsp_all_inf = pd.DataFrame(data=[qp,  sp2, sp3], columns=cois, index = [\"mcbp\", \"slr\", \"iqaasl\"])\n",
    "\n",
    "\n",
    "# caption = \"Probability of exceeding threshhold by sampling campaign: sequential prior\"\n",
    "\n",
    "# pofsp_inf = pofsp_all_inf.style.format(precision=2).background_gradient(axis=None, vmin=0, vmax=1, cmap='YlOrRd').set_caption(caption).set_table_styles(table_css_styles)\n",
    "# pofsp_inf"
   ]
  },
  {
   "cell_type": "code",
   "execution_count": 55,
   "metadata": {
    "editable": true,
    "slideshow": {
     "slide_type": ""
    },
    "tags": [
     "remove-input"
    ]
   },
   "outputs": [],
   "source": [
    "# from scipy.stats import spearmanr\n",
    "\n",
    "# spr_mn = lagi.copy()\n",
    "# spr_mnpr = pagi.copy()\n",
    "# x, y = spr_mn[spr_mn.code == \"G27\"].pcs_m.values, spr_mn[spr_mn.code == \"G27\"][\"Siedl\"].astype(\"int\").values\n",
    "# xp, yp = spr_mnpr[spr_mnpr.code == \"G27\"].pcs_m.values, spr_mnpr[spr_mnpr.code == \"G27\"][\"Siedl\"].astype(\"int\").values\n",
    "# sprmn_rho_lake = spearmanr(x,y)\n",
    "# sprmn_rho_prior = spearmanr(xp, yp)\n",
    "\n",
    "# print((sprmn_rho_lake.statistic, sprmn_rho_lake.pvalue), (sprmn_rho_prior.pvalue, sprmn_rho_prior.pvalue))"
   ]
  },
  {
   "cell_type": "markdown",
   "metadata": {
    "editable": true,
    "slideshow": {
     "slide_type": ""
    },
    "tags": []
   },
   "source": [
    "## Samples after May 2021"
   ]
  },
  {
   "cell_type": "markdown",
   "metadata": {},
   "source": [
    "### Expected results for Saint Sulpice\n",
    "\n",
    "__Observed results October 2021: SWE__"
   ]
  },
  {
   "cell_type": "code",
   "execution_count": 56,
   "metadata": {
    "editable": true,
    "jupyter": {
     "source_hidden": true
    },
    "slideshow": {
     "slide_type": ""
    },
    "tags": [
     "remove-input"
    ]
   },
   "outputs": [
    {
     "data": {
      "text/html": [
       "<div>\n",
       "<style scoped>\n",
       "    .dataframe tbody tr th:only-of-type {\n",
       "        vertical-align: middle;\n",
       "    }\n",
       "\n",
       "    .dataframe tbody tr th {\n",
       "        vertical-align: top;\n",
       "    }\n",
       "\n",
       "    .dataframe thead th {\n",
       "        text-align: right;\n",
       "    }\n",
       "</style>\n",
       "<table border=\"1\" class=\"dataframe\">\n",
       "  <thead>\n",
       "    <tr style=\"text-align: right;\">\n",
       "      <th>code</th>\n",
       "      <th>Gfrags</th>\n",
       "      <th>G30</th>\n",
       "      <th>G27</th>\n",
       "      <th>Gfoam</th>\n",
       "      <th>G95</th>\n",
       "      <th>Gcaps</th>\n",
       "      <th>G67</th>\n",
       "      <th>G35</th>\n",
       "      <th>G89</th>\n",
       "      <th>G31</th>\n",
       "      <th>G32</th>\n",
       "      <th>G100</th>\n",
       "      <th>G33</th>\n",
       "      <th>G25</th>\n",
       "      <th>G70</th>\n",
       "      <th>G10</th>\n",
       "    </tr>\n",
       "  </thead>\n",
       "  <tbody>\n",
       "    <tr>\n",
       "      <th>0</th>\n",
       "      <td>1.41</td>\n",
       "      <td>0.42</td>\n",
       "      <td>0.375</td>\n",
       "      <td>0.035</td>\n",
       "      <td>0.255</td>\n",
       "      <td>0.215</td>\n",
       "      <td>0.095</td>\n",
       "      <td>0.05</td>\n",
       "      <td>0.16</td>\n",
       "      <td>0.075</td>\n",
       "      <td>0.025</td>\n",
       "      <td>0.085</td>\n",
       "      <td>0.01</td>\n",
       "      <td>0.075</td>\n",
       "      <td>0.09</td>\n",
       "      <td>0.04</td>\n",
       "    </tr>\n",
       "  </tbody>\n",
       "</table>\n",
       "</div>"
      ],
      "text/plain": [
       "code  Gfrags   G30    G27  Gfoam    G95  Gcaps    G67   G35   G89    G31  \\\n",
       "0       1.41  0.42  0.375  0.035  0.255  0.215  0.095  0.05  0.16  0.075   \n",
       "\n",
       "code    G32   G100   G33    G25   G70   G10  \n",
       "0     0.025  0.085  0.01  0.075  0.09  0.04  "
      ]
     },
     "execution_count": 56,
     "metadata": {},
     "output_type": "execute_result"
    }
   ],
   "source": [
    "def is_in_range(x, arange):\n",
    "    acount = 0\n",
    "    lows = 0\n",
    "    highs = 0\n",
    "    \n",
    "    if isinstance(x, float):    \n",
    "        gthan = x >= arange[1]\n",
    "        lthan = x <= arange[2]\n",
    "        if gthan and lthan:\n",
    "            ontarget = True\n",
    "            dif = 0\n",
    "            acount += 1\n",
    "        elif not gthan:\n",
    "            ontarget = \"high\"\n",
    "            dif = arange[1] - x\n",
    "            highs += 1\n",
    "            \n",
    "        elif not lthan:\n",
    "            ontarget = \"low\"\n",
    "            dif = arange[2] - x\n",
    "            lows += 1\n",
    "    else:\n",
    "        ontarget = \"No data\"\n",
    "        dif = None\n",
    "    \n",
    "    return arange[0], ontarget, dif, acount, highs, lows\n",
    "\n",
    "\n",
    "lake_after_may = all_data[(all_data.date > slr_e) & (all_data.water_name_slug == 'lac-leman')]\n",
    "after_may_location = lake_after_may.location.unique()\n",
    "l_a_m = lake_after_may[lake_after_may.code.isin(cois)]\n",
    "l_a_mx = l_a_m[l_a_m.location.isin(['plage-de-st-sulpice', 'tiger_duck_beach'])]\n",
    "lam = l_a_mx.groupby(\"code\", as_index=False).pcs_m.mean()\n",
    "lm = pd.DataFrame(data=lam.pcs_m.values, index=lam.code).T\n",
    "xlmc = lm[cois]\n",
    "xlmcv = xlmc.values[0]\n",
    "xlmc"
   ]
  },
  {
   "cell_type": "markdown",
   "metadata": {
    "editable": true,
    "slideshow": {
     "slide_type": ""
    },
    "tags": []
   },
   "source": [
    "#### The probability of the observed results at Saint Sulpice given the informed posterior from lake\n",
    "\n",
    "The observed results +/- .1. See table 12 for probability of the event at the lake."
   ]
  },
  {
   "cell_type": "code",
   "execution_count": 57,
   "metadata": {
    "editable": true,
    "jupyter": {
     "source_hidden": true
    },
    "slideshow": {
     "slide_type": ""
    },
    "tags": [
     "remove-input"
    ]
   },
   "outputs": [],
   "source": [
    "# # the probability of the result after may 2021\n",
    "# h = [x.loc[(x.qty >= xlmcv[i] - .1)&(x.qty <= xlmcv[i] + .1)] for i, x in enumerate(xq3)]\n",
    "# hg = [(cois[i],np.round(x.post.min(), 2), np.round(x.post.max(), 2)) for i, x in enumerate(h)]\n",
    "\n",
    "# # the expected range magnitude with a 96% probability\n",
    "# t = [x.loc[(x.post >= .03) & (x.post <= .97)].qty for i, x in enumerate(xq3)]\n",
    "# tr = [(cois[i], round(x.min(), 2),  round(x.max(), 2)) for i,x in enumerate(t)]\n",
    "\n",
    "# tested = [is_in_range(xlmcv[i], x) for i, x in enumerate(tr)]\n",
    "# print(\"\\nDid the observed results fall within the predicted range?\")\n",
    "# in_range = sum([x[3] for x in tested])\n",
    "# arange = len(tested)\n",
    "# highs = sum([x[4] for x in tested])\n",
    "# lows = sum([x[5] for x in tested])\n",
    "# print(f\"In range: {in_range}, out of: {arange}\\n\")\n",
    "# print(f\"Estmiated high: {highs}, Estimated low: {lows}\")"
   ]
  },
  {
   "cell_type": "markdown",
   "metadata": {
    "editable": true,
    "slideshow": {
     "slide_type": ""
    },
    "tags": []
   },
   "source": [
    "#### The probability of the observed results at Saint Sulpice given the informed posterior from Saint Sulpice\n",
    "\n",
    "The observed results +/- .1. See table 14 for the probability of the event at Saint Sulpice."
   ]
  },
  {
   "cell_type": "code",
   "execution_count": 58,
   "metadata": {
    "editable": true,
    "jupyter": {
     "source_hidden": true
    },
    "slideshow": {
     "slide_type": ""
    },
    "tags": [
     "remove-input"
    ]
   },
   "outputs": [],
   "source": [
    "# # saint sulpice\n",
    "# # the probability of the result after may 2021\n",
    "# h = [x.loc[(x.qty >= xlmcv[i] - .1) & (x.qty <= xlmcv[i] + .1)].post for i, x in enumerate(xt3)]\n",
    "# # [(cois[i], round(x.min(), 2), round(x.max(), 2)) for i, x in enumerate(h)]\n",
    "\n",
    "# # the expected magnitude with probability between .3 and .6\n",
    "# a_p_for_index = xt3\n",
    "# t = [x.loc[(x.post >= .03) & (x.post <= .97)].qty for i, x in enumerate(a_p_for_index)]\n",
    "# tr = [(cois[i], round(x.min(), 2),  round(x.max(), 2)) for i,x in enumerate(t)]\n",
    "\n",
    "\n",
    "# # pstk_gfrags = pstock[pstock.code == \"Gfrags\"].copy()\n",
    "# # pstk_res = pstk_gfrags[\"pcs/m\"].values\n",
    "\n",
    "# tested = [is_in_range(xlmcv[i], x) for i, x in enumerate(tr)]\n",
    "# print(\"\\nDid the observed results fall within the predicted range?\")\n",
    "# in_range = sum([x[3] for x in tested])\n",
    "# arange = len(tested)\n",
    "# highs = sum([x[4] for x in tested])\n",
    "# lows = sum([x[5] for x in tested])\n",
    "# # print(f\"96% probability range = {tr[0]}\")\n",
    "# print(f\"In range: {in_range}, out of: {arange} or {round(in_range/arange, 2)}\\n\")\n",
    "# print(f\"Estmiated high: {highs}, Estimated low: {lows}\")"
   ]
  },
  {
   "cell_type": "markdown",
   "metadata": {
    "editable": true,
    "slideshow": {
     "slide_type": ""
    },
    "tags": []
   },
   "source": [
    "### Plastock\n",
    "\n",
    "100 samples from 2022 on lac leman"
   ]
  },
  {
   "cell_type": "code",
   "execution_count": 59,
   "metadata": {
    "editable": true,
    "jupyter": {
     "source_hidden": true
    },
    "slideshow": {
     "slide_type": ""
    },
    "tags": [
     "remove-input"
    ]
   },
   "outputs": [],
   "source": [
    "plastock = pd.read_csv(\"resources/pstock_2022.csv\")\n",
    "plastock[\"loc_date\"] = list(zip(plastock.location, plastock.date))\n",
    "pstock = plastock[plastock.code.isin(cois)].copy()\n",
    "pstock = pstock.groupby([\"loc_date\", \"location\", \"date\", \"code\"], as_index=False)[\"pcs/m\"].sum()\n",
    "pstock = pstock.groupby([\"location\", \"code\"], as_index=False)[\"pcs/m\"].mean()"
   ]
  },
  {
   "cell_type": "code",
   "execution_count": 60,
   "metadata": {
    "editable": true,
    "jupyter": {
     "source_hidden": true
    },
    "slideshow": {
     "slide_type": ""
    },
    "tags": [
     "remove-input"
    ]
   },
   "outputs": [
    {
     "name": "stdout",
     "output_type": "stream",
     "text": [
      "\n",
      "Did the observed results fall within the predicted range?\n",
      "96% probability range = ('Gfrags', 0.06, 1.58)\n",
      "In range: 16, out of: 25 or 0.64\n",
      "\n",
      "Estmiated high: 0, Estimated low: 9\n"
     ]
    }
   ],
   "source": [
    "a_p_for_index = yearthree.testwo_post.shared\n",
    "t = [x.loc[(x.post >= .03) & (x.post <= .97)].qty for i, x in enumerate(a_p_for_index)]\n",
    "tr = [(cois[i], round(x.min(), 2),  round(x.max(), 2)) for i,x in enumerate(t)]\n",
    "\n",
    "pstk_gfrags = pstock[pstock.code == \"Gfrags\"].copy()\n",
    "pstk_res = pstk_gfrags[\"pcs/m\"].values\n",
    "\n",
    "tested = [is_in_range(x, tr[0]) for x in pstk_res]\n",
    "\n",
    "print(\"\\nDid the observed results fall within the predicted range?\")\n",
    "in_range = sum([x[3] for x in tested])\n",
    "arange = len(tested)\n",
    "highs = sum([x[4] for x in tested])\n",
    "lows = sum([x[5] for x in tested])\n",
    "print(f\"96% probability range = {tr[0]}\")\n",
    "print(f\"In range: {in_range}, out of: {arange} or {round(in_range/arange, 2)}\\n\")\n",
    "print(f\"Estmiated high: {highs}, Estimated low: {lows}\")"
   ]
  },
  {
   "cell_type": "code",
   "execution_count": 61,
   "metadata": {
    "editable": true,
    "jupyter": {
     "source_hidden": true
    },
    "slideshow": {
     "slide_type": ""
    },
    "tags": [
     "remove-input"
    ]
   },
   "outputs": [
    {
     "data": {
      "image/png": "[encoded data removed]",
      "text/plain": [
       "<Figure size 640x480 with 1 Axes>"
      ]
     },
     "metadata": {},
     "output_type": "display_data"
    }
   ],
   "source": [
    "d = a_p_for_index[0]\n",
    "d[\"1-p\"] = 1- d.post\n",
    "\n",
    "fig, ax = plt.subplots()\n",
    "\n",
    "sns.ecdfplot(pstk_res, ax=ax, label=\"observed 2022\")\n",
    "sns.scatterplot(data=d, x=\"qty\", y=\"1-p\", ax=ax, color=\"magenta\", label=\"informed posterior 2021\")\n",
    "ax.set_xlim(0, pstk_res.max())\n",
    "ax.set_title(cois[0], loc=\"left\")\n",
    "\n",
    "plt.show()"
   ]
  },
  {
   "cell_type": "code",
   "execution_count": 62,
   "metadata": {
    "editable": true,
    "jupyter": {
     "source_hidden": true
    },
    "slideshow": {
     "slide_type": ""
    },
    "tags": [
     "remove-input"
    ]
   },
   "outputs": [
    {
     "name": "stdout",
     "output_type": "stream",
     "text": [
      "\n",
      "Did the observed results fall within the predicted range?\n",
      "96% probability range = ('G27', 0.06, 1.8)\n",
      "In range: 20, out of: 25 or 0.8\n",
      "\n",
      "Estmiated high: 4, Estimated low: 1\n"
     ]
    }
   ],
   "source": [
    "pstk_gfrags = pstock[pstock.code == \"G27\"].copy()\n",
    "pstk_res = pstk_gfrags[\"pcs/m\"].values\n",
    "\n",
    "tested = [is_in_range(x, tr[2]) for x in pstk_res]\n",
    "print(\"\\nDid the observed results fall within the predicted range?\")\n",
    "in_range = sum([x[3] for x in tested])\n",
    "arange = len(tested)\n",
    "highs = sum([x[4] for x in tested])\n",
    "lows = sum([x[5] for x in tested])\n",
    "print(f\"96% probability range = {tr[2]}\")\n",
    "print(f\"In range: {in_range}, out of: {arange} or {round(in_range/arange, 2)}\\n\")\n",
    "print(f\"Estmiated high: {highs}, Estimated low: {lows}\")"
   ]
  },
  {
   "cell_type": "code",
   "execution_count": 63,
   "metadata": {
    "editable": true,
    "jupyter": {
     "source_hidden": true
    },
    "slideshow": {
     "slide_type": ""
    },
    "tags": [
     "remove-input"
    ]
   },
   "outputs": [
    {
     "data": {
      "image/png": "[encoded data removed]",
      "text/plain": [
       "<Figure size 640x480 with 1 Axes>"
      ]
     },
     "metadata": {},
     "output_type": "display_data"
    }
   ],
   "source": [
    "d = a_p_for_index[2]\n",
    "d[\"1-p\"] = 1- d.post\n",
    "\n",
    "fig, ax = plt.subplots()\n",
    "\n",
    "sns.ecdfplot(pstk_res, ax=ax, label=\"observed 2022\")\n",
    "sns.scatterplot(data=d, x=\"qty\", y=\"1-p\", ax=ax, color=\"magenta\", label=\"informed posterior 2021\")\n",
    "ax.set_title(cois[2], loc=\"left\")\n",
    "\n",
    "plt.show()"
   ]
  },
  {
   "cell_type": "code",
   "execution_count": 64,
   "metadata": {
    "editable": true,
    "jupyter": {
     "source_hidden": true
    },
    "scrolled": true,
    "slideshow": {
     "slide_type": ""
    },
    "tags": [
     "remove-input"
    ]
   },
   "outputs": [
    {
     "name": "stdout",
     "output_type": "stream",
     "text": [
      "\n",
      "Did the observed results fall within the predicted range?\n",
      "96% probability range = ('G95', 0.01, 0.53)\n",
      "In range: 15, out of: 25 or 0.6\n",
      "\n",
      "Estmiated high: 8, Estimated low: 2\n"
     ]
    }
   ],
   "source": [
    "pstk_gfrags = pstock[pstock.code == \"G95\"].copy()\n",
    "pstk_res = pstk_gfrags[\"pcs/m\"].values\n",
    "\n",
    "tested = [is_in_range(x, tr[4]) for x in pstk_res]\n",
    "print(\"\\nDid the observed results fall within the predicted range?\")\n",
    "in_range = sum([x[3] for x in tested])\n",
    "arange = len(tested)\n",
    "highs = sum([x[4] for x in tested])\n",
    "lows = sum([x[5] for x in tested])\n",
    "print(f\"96% probability range = {tr[4]}\")\n",
    "print(f\"In range: {in_range}, out of: {arange} or {round(in_range/arange, 2)}\\n\")\n",
    "print(f\"Estmiated high: {highs}, Estimated low: {lows}\")"
   ]
  },
  {
   "cell_type": "code",
   "execution_count": 65,
   "metadata": {
    "editable": true,
    "jupyter": {
     "source_hidden": true
    },
    "slideshow": {
     "slide_type": ""
    },
    "tags": [
     "remove-input"
    ]
   },
   "outputs": [
    {
     "data": {
      "image/png": "[encoded data removed]",
      "text/plain": [
       "<Figure size 640x480 with 1 Axes>"
      ]
     },
     "metadata": {},
     "output_type": "display_data"
    }
   ],
   "source": [
    "d = a_p_for_index[4]\n",
    "d[\"1-p\"] = 1- d.post \n",
    "\n",
    "fig, ax = plt.subplots()\n",
    "\n",
    "sns.ecdfplot(pstk_res, ax=ax, label=\"observed 2022\")\n",
    "sns.scatterplot(data=d, x=\"qty\", y=\"1-p\", ax=ax, color=\"magenta\", label=\"informed posterior 2021\")\n",
    "ax.set_xlim(0, pstk_res.max())\n",
    "ax.set_title(cois[4], loc=\"left\")\n",
    "\n",
    "plt.show()"
   ]
  },
  {
   "cell_type": "markdown",
   "metadata": {
    "editable": true,
    "slideshow": {
     "slide_type": ""
    },
    "tags": []
   },
   "source": [
    "#### Expected values and predictions plastock"
   ]
  },
  {
   "cell_type": "code",
   "execution_count": 66,
   "metadata": {
    "editable": true,
    "jupyter": {
     "source_hidden": true
    },
    "slideshow": {
     "slide_type": ""
    },
    "tags": [
     "hide-input"
    ]
   },
   "outputs": [
    {
     "data": {
      "text/html": [
       "<div>\n",
       "<style scoped>\n",
       "    .dataframe tbody tr th:only-of-type {\n",
       "        vertical-align: middle;\n",
       "    }\n",
       "\n",
       "    .dataframe tbody tr th {\n",
       "        vertical-align: top;\n",
       "    }\n",
       "\n",
       "    .dataframe thead th {\n",
       "        text-align: right;\n",
       "    }\n",
       "</style>\n",
       "<table border=\"1\" class=\"dataframe\">\n",
       "  <thead>\n",
       "    <tr style=\"text-align: right;\">\n",
       "      <th></th>\n",
       "      <th>object</th>\n",
       "      <th>rlow</th>\n",
       "      <th>rhigh</th>\n",
       "      <th>o-mean</th>\n",
       "      <th>in range</th>\n",
       "      <th>plow</th>\n",
       "      <th>phigh</th>\n",
       "      <th>o mean in range</th>\n",
       "    </tr>\n",
       "    <tr>\n",
       "      <th>code</th>\n",
       "      <th></th>\n",
       "      <th></th>\n",
       "      <th></th>\n",
       "      <th></th>\n",
       "      <th></th>\n",
       "      <th></th>\n",
       "      <th></th>\n",
       "      <th></th>\n",
       "    </tr>\n",
       "  </thead>\n",
       "  <tbody>\n",
       "    <tr>\n",
       "      <th>Gfrags</th>\n",
       "      <td>Fragmented plastics</td>\n",
       "      <td>0.06</td>\n",
       "      <td>1.58</td>\n",
       "      <td>1.41</td>\n",
       "      <td>16</td>\n",
       "      <td>9</td>\n",
       "      <td>0</td>\n",
       "      <td>True</td>\n",
       "    </tr>\n",
       "    <tr>\n",
       "      <th>G30</th>\n",
       "      <td>Food wrappers; candy, snacks</td>\n",
       "      <td>0.05</td>\n",
       "      <td>0.62</td>\n",
       "      <td>0.28</td>\n",
       "      <td>20</td>\n",
       "      <td>1</td>\n",
       "      <td>4</td>\n",
       "      <td>True</td>\n",
       "    </tr>\n",
       "    <tr>\n",
       "      <th>G27</th>\n",
       "      <td>Cigarette filters</td>\n",
       "      <td>0.06</td>\n",
       "      <td>1.48</td>\n",
       "      <td>0.43</td>\n",
       "      <td>19</td>\n",
       "      <td>2</td>\n",
       "      <td>4</td>\n",
       "      <td>True</td>\n",
       "    </tr>\n",
       "    <tr>\n",
       "      <th>Gfoam</th>\n",
       "      <td>Expanded polystyrene</td>\n",
       "      <td>0.01</td>\n",
       "      <td>1.16</td>\n",
       "      <td>0.21</td>\n",
       "      <td>20</td>\n",
       "      <td>1</td>\n",
       "      <td>4</td>\n",
       "      <td>True</td>\n",
       "    </tr>\n",
       "    <tr>\n",
       "      <th>G95</th>\n",
       "      <td>Cotton bud/swab sticks</td>\n",
       "      <td>0.01</td>\n",
       "      <td>0.52</td>\n",
       "      <td>0.15</td>\n",
       "      <td>16</td>\n",
       "      <td>2</td>\n",
       "      <td>7</td>\n",
       "      <td>True</td>\n",
       "    </tr>\n",
       "    <tr>\n",
       "      <th>Gcaps</th>\n",
       "      <td>Plastic bottle lids</td>\n",
       "      <td>0.01</td>\n",
       "      <td>0.42</td>\n",
       "      <td>0.14</td>\n",
       "      <td>18</td>\n",
       "      <td>1</td>\n",
       "      <td>6</td>\n",
       "      <td>True</td>\n",
       "    </tr>\n",
       "    <tr>\n",
       "      <th>G67</th>\n",
       "      <td>Industrial sheeting</td>\n",
       "      <td>0.01</td>\n",
       "      <td>0.50</td>\n",
       "      <td>0.02</td>\n",
       "      <td>4</td>\n",
       "      <td>0</td>\n",
       "      <td>21</td>\n",
       "      <td>True</td>\n",
       "    </tr>\n",
       "    <tr>\n",
       "      <th>G35</th>\n",
       "      <td>Straws and stirrers</td>\n",
       "      <td>0.01</td>\n",
       "      <td>0.12</td>\n",
       "      <td>0.02</td>\n",
       "      <td>15</td>\n",
       "      <td>1</td>\n",
       "      <td>9</td>\n",
       "      <td>True</td>\n",
       "    </tr>\n",
       "    <tr>\n",
       "      <th>G89</th>\n",
       "      <td>Plastic construction waste</td>\n",
       "      <td>0.01</td>\n",
       "      <td>0.20</td>\n",
       "      <td>0.05</td>\n",
       "      <td>12</td>\n",
       "      <td>2</td>\n",
       "      <td>11</td>\n",
       "      <td>True</td>\n",
       "    </tr>\n",
       "    <tr>\n",
       "      <th>G31</th>\n",
       "      <td>Lollypop sticks</td>\n",
       "      <td>0.01</td>\n",
       "      <td>0.12</td>\n",
       "      <td>0.05</td>\n",
       "      <td>17</td>\n",
       "      <td>2</td>\n",
       "      <td>6</td>\n",
       "      <td>True</td>\n",
       "    </tr>\n",
       "    <tr>\n",
       "      <th>G32</th>\n",
       "      <td>Toys and party favors</td>\n",
       "      <td>0.01</td>\n",
       "      <td>0.08</td>\n",
       "      <td>0.01</td>\n",
       "      <td>8</td>\n",
       "      <td>0</td>\n",
       "      <td>17</td>\n",
       "      <td>True</td>\n",
       "    </tr>\n",
       "    <tr>\n",
       "      <th>G100</th>\n",
       "      <td>Medical; containers/tubes/ packaging</td>\n",
       "      <td>0.01</td>\n",
       "      <td>0.08</td>\n",
       "      <td>0.00</td>\n",
       "      <td>4</td>\n",
       "      <td>0</td>\n",
       "      <td>21</td>\n",
       "      <td>False</td>\n",
       "    </tr>\n",
       "    <tr>\n",
       "      <th>G33</th>\n",
       "      <td>Cups, lids, single use foamed and hard plastic</td>\n",
       "      <td>0.01</td>\n",
       "      <td>0.08</td>\n",
       "      <td>0.01</td>\n",
       "      <td>5</td>\n",
       "      <td>0</td>\n",
       "      <td>20</td>\n",
       "      <td>True</td>\n",
       "    </tr>\n",
       "    <tr>\n",
       "      <th>G25</th>\n",
       "      <td>Tobacco; plastic packaging, containers</td>\n",
       "      <td>0.01</td>\n",
       "      <td>0.13</td>\n",
       "      <td>0.00</td>\n",
       "      <td>2</td>\n",
       "      <td>0</td>\n",
       "      <td>23</td>\n",
       "      <td>False</td>\n",
       "    </tr>\n",
       "    <tr>\n",
       "      <th>G70</th>\n",
       "      <td>Shotgun cartridges</td>\n",
       "      <td>0.01</td>\n",
       "      <td>0.08</td>\n",
       "      <td>0.02</td>\n",
       "      <td>11</td>\n",
       "      <td>2</td>\n",
       "      <td>12</td>\n",
       "      <td>True</td>\n",
       "    </tr>\n",
       "    <tr>\n",
       "      <th>G10</th>\n",
       "      <td>Food containers single use foamed or plastic</td>\n",
       "      <td>0.01</td>\n",
       "      <td>0.07</td>\n",
       "      <td>0.00</td>\n",
       "      <td>3</td>\n",
       "      <td>0</td>\n",
       "      <td>22</td>\n",
       "      <td>False</td>\n",
       "    </tr>\n",
       "  </tbody>\n",
       "</table>\n",
       "</div>"
      ],
      "text/plain": [
       "                                                object  rlow  rhigh  o-mean  \\\n",
       "code                                                                          \n",
       "Gfrags                             Fragmented plastics  0.06   1.58    1.41   \n",
       "G30                       Food wrappers; candy, snacks  0.05   0.62    0.28   \n",
       "G27                                  Cigarette filters  0.06   1.48    0.43   \n",
       "Gfoam                             Expanded polystyrene  0.01   1.16    0.21   \n",
       "G95                             Cotton bud/swab sticks  0.01   0.52    0.15   \n",
       "Gcaps                              Plastic bottle lids  0.01   0.42    0.14   \n",
       "G67                                Industrial sheeting  0.01   0.50    0.02   \n",
       "G35                                Straws and stirrers  0.01   0.12    0.02   \n",
       "G89                         Plastic construction waste  0.01   0.20    0.05   \n",
       "G31                                    Lollypop sticks  0.01   0.12    0.05   \n",
       "G32                              Toys and party favors  0.01   0.08    0.01   \n",
       "G100              Medical; containers/tubes/ packaging  0.01   0.08    0.00   \n",
       "G33     Cups, lids, single use foamed and hard plastic  0.01   0.08    0.01   \n",
       "G25             Tobacco; plastic packaging, containers  0.01   0.13    0.00   \n",
       "G70                                 Shotgun cartridges  0.01   0.08    0.02   \n",
       "G10       Food containers single use foamed or plastic  0.01   0.07    0.00   \n",
       "\n",
       "        in range  plow  phigh  o mean in range  \n",
       "code                                            \n",
       "Gfrags        16     9      0             True  \n",
       "G30           20     1      4             True  \n",
       "G27           19     2      4             True  \n",
       "Gfoam         20     1      4             True  \n",
       "G95           16     2      7             True  \n",
       "Gcaps         18     1      6             True  \n",
       "G67            4     0     21             True  \n",
       "G35           15     1      9             True  \n",
       "G89           12     2     11             True  \n",
       "G31           17     2      6             True  \n",
       "G32            8     0     17             True  \n",
       "G100           4     0     21            False  \n",
       "G33            5     0     20             True  \n",
       "G25            2     0     23            False  \n",
       "G70           11     2     12             True  \n",
       "G10            3     0     22            False  "
      ]
     },
     "execution_count": 66,
     "metadata": {},
     "output_type": "execute_result"
    }
   ],
   "source": [
    "plastock = pd.read_csv(\"resources/pstock_2022.csv\")\n",
    "plastock[\"loc_date\"] = list(zip(plastock.location, plastock.date))\n",
    "pstock = plastock[plastock.code.isin(cois)].copy()\n",
    "pstock = pstock.groupby([\"loc_date\", \"location\", \"date\", \"code\"], as_index=False)[\"pcs/m\"].sum()\n",
    "pstock = pstock.groupby([\"location\", \"code\"], as_index=False)[\"pcs/m\"].mean()\n",
    "t3 = an_array_of_posterior_probabilities(yearthree.testwo.current_data, yearthree.testwo.prior_data, cois, xrange)\n",
    "a_p_for_index = t3\n",
    "t = [x.loc[(x.post >= .03) & (x.post <= .97)].qty for i, x in enumerate(a_p_for_index)]\n",
    "tr = [(cois[i], round(x.min(), 2),  round(x.max(), 2)) for i,x in enumerate(t)]\n",
    "\n",
    "pst = [np.round(pstock[pstock.code == x][\"pcs/m\"].values, 2) for x in cois]\n",
    "\n",
    "n = 0\n",
    "inn = 0\n",
    "ress = []\n",
    "for i,x in enumerate(pst):\n",
    "    tested = [is_in_range(j, tr[i]) for j in x]\n",
    "    # print(\"\\nDid the observed results fall within the predicted range?\")\n",
    "    in_range = sum([k[3] for k in tested])\n",
    "    arange = len(tested)\n",
    "    n += arange\n",
    "    inn += in_range\n",
    "    highs = sum([x[4] for x in tested])\n",
    "    lows = sum([x[5] for x in tested])\n",
    "    arow = {\"code\":tr[i][0],\"rlow\":tr[i][1], \"rhigh\":tr[i][2], \"o-mean\":round(np.mean(x), 2), \"in range\":in_range, \"plow\":lows, \"phigh\":highs}\n",
    "    ress.append(arow)\n",
    "    # print(f\"96% probability range = {tr[i]}\")\n",
    "    # print(f\"In range: {in_range}, out of: {arange} or {round(in_range/arange, 2)}\\n\")\n",
    "    # print(f\"Estmiated high: {highs}, Estimated low: {lows}\")\n",
    "    # print(n, inn)\n",
    "\n",
    "rest = pd.DataFrame(ress)\n",
    "rest[\"o mean in range\"] = (rest[\"o-mean\"] >= rest.rlow) & (rest[\"o-mean\"] <= rest.rhigh)\n",
    "rest[\"object\"] = rest.code.apply(lambda x: code_d.loc[x])\n",
    "rest = rest[[\"object\", *rest.columns[:-1]]]\n",
    "rest.set_index(\"code\", inplace=True, drop=True)\n",
    "rest"
   ]
  },
  {
   "cell_type": "code",
   "execution_count": 67,
   "metadata": {
    "jupyter": {
     "source_hidden": true
    }
   },
   "outputs": [
    {
     "name": "stdout",
     "output_type": "stream",
     "text": [
      "Percent within predicted range: 0.81\n"
     ]
    }
   ],
   "source": [
    "good_p = rest[\"o mean in range\"].sum()\n",
    "rate_goodp = good_p/len(rest)\n",
    "\n",
    "print(f\"Percent within predicted range: {np.round(rate_goodp, 2)}\")"
   ]
  },
  {
   "cell_type": "markdown",
   "metadata": {
    "editable": true,
    "slideshow": {
     "slide_type": ""
    },
    "tags": []
   },
   "source": [
    "#### Mix of objects, % of total"
   ]
  },
  {
   "cell_type": "code",
   "execution_count": 68,
   "metadata": {
    "editable": true,
    "jupyter": {
     "source_hidden": true
    },
    "slideshow": {
     "slide_type": ""
    },
    "tags": [
     "hide-input"
    ]
   },
   "outputs": [
    {
     "data": {
      "text/html": [
       "<div>\n",
       "<style scoped>\n",
       "    .dataframe tbody tr th:only-of-type {\n",
       "        vertical-align: middle;\n",
       "    }\n",
       "\n",
       "    .dataframe tbody tr th {\n",
       "        vertical-align: top;\n",
       "    }\n",
       "\n",
       "    .dataframe thead th {\n",
       "        text-align: right;\n",
       "    }\n",
       "</style>\n",
       "<table border=\"1\" class=\"dataframe\">\n",
       "  <thead>\n",
       "    <tr style=\"text-align: right;\">\n",
       "      <th></th>\n",
       "      <th>plastock %</th>\n",
       "      <th>lake %</th>\n",
       "      <th>SWE %</th>\n",
       "    </tr>\n",
       "    <tr>\n",
       "      <th>code</th>\n",
       "      <th></th>\n",
       "      <th></th>\n",
       "      <th></th>\n",
       "    </tr>\n",
       "  </thead>\n",
       "  <tbody>\n",
       "    <tr>\n",
       "      <th>Gfrags</th>\n",
       "      <td>40.16</td>\n",
       "      <td>6.81</td>\n",
       "      <td>15.74</td>\n",
       "    </tr>\n",
       "    <tr>\n",
       "      <th>G27</th>\n",
       "      <td>11.67</td>\n",
       "      <td>27.21</td>\n",
       "      <td>10.10</td>\n",
       "    </tr>\n",
       "    <tr>\n",
       "      <th>G30</th>\n",
       "      <td>7.35</td>\n",
       "      <td>8.76</td>\n",
       "      <td>8.60</td>\n",
       "    </tr>\n",
       "    <tr>\n",
       "      <th>Gfoam</th>\n",
       "      <td>4.97</td>\n",
       "      <td>4.93</td>\n",
       "      <td>4.17</td>\n",
       "    </tr>\n",
       "    <tr>\n",
       "      <th>Gcaps</th>\n",
       "      <td>3.88</td>\n",
       "      <td>3.72</td>\n",
       "      <td>2.58</td>\n",
       "    </tr>\n",
       "    <tr>\n",
       "      <th>G95</th>\n",
       "      <td>3.67</td>\n",
       "      <td>8.43</td>\n",
       "      <td>7.60</td>\n",
       "    </tr>\n",
       "    <tr>\n",
       "      <th>G89</th>\n",
       "      <td>1.48</td>\n",
       "      <td>1.81</td>\n",
       "      <td>1.73</td>\n",
       "    </tr>\n",
       "    <tr>\n",
       "      <th>G31</th>\n",
       "      <td>1.33</td>\n",
       "      <td>1.11</td>\n",
       "      <td>0.79</td>\n",
       "    </tr>\n",
       "    <tr>\n",
       "      <th>G70</th>\n",
       "      <td>0.70</td>\n",
       "      <td>0.56</td>\n",
       "      <td>0.50</td>\n",
       "    </tr>\n",
       "    <tr>\n",
       "      <th>G35</th>\n",
       "      <td>0.56</td>\n",
       "      <td>0.99</td>\n",
       "      <td>0.59</td>\n",
       "    </tr>\n",
       "    <tr>\n",
       "      <th>G67</th>\n",
       "      <td>0.52</td>\n",
       "      <td>5.36</td>\n",
       "      <td>2.06</td>\n",
       "    </tr>\n",
       "    <tr>\n",
       "      <th>G32</th>\n",
       "      <td>0.23</td>\n",
       "      <td>0.50</td>\n",
       "      <td>0.94</td>\n",
       "    </tr>\n",
       "    <tr>\n",
       "      <th>G33</th>\n",
       "      <td>0.15</td>\n",
       "      <td>0.86</td>\n",
       "      <td>0.21</td>\n",
       "    </tr>\n",
       "    <tr>\n",
       "      <th>G10</th>\n",
       "      <td>0.06</td>\n",
       "      <td>0.32</td>\n",
       "      <td>0.38</td>\n",
       "    </tr>\n",
       "    <tr>\n",
       "      <th>G100</th>\n",
       "      <td>0.05</td>\n",
       "      <td>0.89</td>\n",
       "      <td>1.79</td>\n",
       "    </tr>\n",
       "    <tr>\n",
       "      <th>G25</th>\n",
       "      <td>0.02</td>\n",
       "      <td>1.90</td>\n",
       "      <td>0.47</td>\n",
       "    </tr>\n",
       "  </tbody>\n",
       "</table>\n",
       "</div>"
      ],
      "text/plain": [
       "        plastock %  lake %  SWE %\n",
       "code                             \n",
       "Gfrags       40.16    6.81  15.74\n",
       "G27          11.67   27.21  10.10\n",
       "G30           7.35    8.76   8.60\n",
       "Gfoam         4.97    4.93   4.17\n",
       "Gcaps         3.88    3.72   2.58\n",
       "G95           3.67    8.43   7.60\n",
       "G89           1.48    1.81   1.73\n",
       "G31           1.33    1.11   0.79\n",
       "G70           0.70    0.56   0.50\n",
       "G35           0.56    0.99   0.59\n",
       "G67           0.52    5.36   2.06\n",
       "G32           0.23    0.50   0.94\n",
       "G33           0.15    0.86   0.21\n",
       "G10           0.06    0.32   0.38\n",
       "G100          0.05    0.89   1.79\n",
       "G25           0.02    1.90   0.47"
      ]
     },
     "execution_count": 68,
     "metadata": {},
     "output_type": "execute_result"
    }
   ],
   "source": [
    "# coi % of total\n",
    "code_totals = plastock.groupby(\"code\", as_index=False).quantity.sum()\n",
    "code_totals[\"%\"] = code_totals.quantity/code_totals.quantity.sum()\n",
    "ct_i = code_totals[code_totals.code.isin(cois)].sort_values(by=\"%\", ascending=False)\n",
    "\n",
    "lake_ythree = all_data[date_mask & (all_data.water_name_slug == 'lac-leman')].copy()\n",
    "lake_y3 = lake_ythree.groupby(\"code\", as_index=False).quantity.sum()\n",
    "lake_y3[\"%\"] = lake_y3.quantity/lake_y3.quantity.sum()\n",
    "lake_y3i = lake_y3[lake_y3.code.isin(cois)].sort_values(by=\"%\", ascending=False)\n",
    "\n",
    "l_a_mx = all_data[all_data.location.isin(['plage-de-st-sulpice', 'tiger_duck_beach'])]\n",
    "sp_x = l_a_mx.groupby(\"code\", as_index=False).quantity.sum()\n",
    "sp_x[\"%\"] = sp_x.quantity/sp_x.quantity.sum()\n",
    "sp_xi = sp_x[sp_x.code.isin(cois)].sort_values(by=\"%\", ascending=False)\n",
    "sp_xi.rename(columns={\"%\":\"SWE %\"}, inplace=True)\n",
    "sp_xi.set_index(\"code\", inplace=True, drop=True)\n",
    "\n",
    "\n",
    "\n",
    "code_totals.rename(columns={\"%\":\"plastock %\"}, inplace=True)\n",
    "lake_y3.rename(columns={\"%\":\"lake %\"}, inplace=True)\n",
    "\n",
    "res_pct = code_totals[[\"code\", \"plastock %\"] ].merge(lake_y3[[\"code\", \"lake %\"]], on=\"code\")\n",
    "res_pct = res_pct[res_pct.code.isin(cois)].sort_values(by=\"plastock %\", ascending=False)\n",
    "res_pct.set_index(\"code\", inplace=True, drop=True)\n",
    "res_pct = res_pct.merge(sp_xi[\"SWE %\"], left_index=True, right_index=True)\n",
    "res_pct.apply(lambda x: round(x*100, 2))"
   ]
  },
  {
   "cell_type": "code",
   "execution_count": 69,
   "metadata": {
    "editable": true,
    "slideshow": {
     "slide_type": ""
    },
    "tags": []
   },
   "outputs": [],
   "source": [
    "lfmay = lake_after_may.copy()"
   ]
  },
  {
   "cell_type": "markdown",
   "metadata": {
    "editable": true,
    "slideshow": {
     "slide_type": ""
    },
    "tags": []
   },
   "source": [
    "__Percent of all identified objects concerned by these results__"
   ]
  },
  {
   "cell_type": "code",
   "execution_count": 70,
   "metadata": {
    "editable": true,
    "jupyter": {
     "source_hidden": true
    },
    "slideshow": {
     "slide_type": ""
    },
    "tags": [
     "remove-input"
    ]
   },
   "outputs": [
    {
     "data": {
      "text/plain": [
       "plastock %    0.767988\n",
       "lake %        0.741737\n",
       "SWE %         0.582501\n",
       "dtype: float64"
      ]
     },
     "execution_count": 70,
     "metadata": {},
     "output_type": "execute_result"
    }
   ],
   "source": [
    "res_pct.sum()"
   ]
  },
  {
   "cell_type": "code",
   "execution_count": 71,
   "metadata": {
    "editable": true,
    "jupyter": {
     "source_hidden": true
    },
    "slideshow": {
     "slide_type": ""
    },
    "tags": [
     "remove-input"
    ]
   },
   "outputs": [
    {
     "data": {
      "text/markdown": [
       "\n",
       "\n",
       "This script updated 17/07/2023 in Biel, CH\n",
       "\n",
       "> ❤️ what you do everyday\n",
       "\n",
       "*analyst at hammerdirt*\n"
      ],
      "text/plain": [
       "<IPython.core.display.Markdown object>"
      ]
     },
     "execution_count": 71,
     "metadata": {},
     "output_type": "execute_result"
    }
   ],
   "source": [
    "today = dt.datetime.now().date().strftime(\"%d/%m/%Y\")\n",
    "where = \"Biel, CH\"\n",
    "\n",
    "my_block = f\"\"\"\n",
    "\n",
    "This script updated {today} in {where}\n",
    "\n",
    "> \\u2764\\ufe0f what you do everyday\n",
    "\n",
    "*analyst at hammerdirt*\n",
    "\"\"\"\n",
    "\n",
    "md(my_block)"
   ]
  },
  {
   "cell_type": "code",
   "execution_count": 72,
   "metadata": {
    "editable": true,
    "jupyter": {
     "source_hidden": true
    },
    "slideshow": {
     "slide_type": ""
    },
    "tags": [
     "remove-input"
    ]
   },
   "outputs": [
    {
     "name": "stdout",
     "output_type": "stream",
     "text": [
      "Git repo: https://github.com/hammerdirt-analyst/patelmanuscript.git\n",
      "\n",
      "Git branch: newsummary\n",
      "\n",
      "pandas    : 2.0.2\n",
      "seaborn   : 0.12.2\n",
      "scipy     : 1.10.1\n",
      "numpy     : 1.24.3\n",
      "matplotlib: 3.7.1\n",
      "\n"
     ]
    }
   ],
   "source": [
    "%watermark --iversions -b -r"
   ]
  }
 ],
 "metadata": {
  "kernelspec": {
   "display_name": "Python 3 (ipykernel)",
   "language": "python",
   "name": "python3"
  },
  "language_info": {
   "codemirror_mode": {
    "name": "ipython",
    "version": 3
   },
   "file_extension": ".py",
   "mimetype": "text/x-python",
   "name": "python",
   "nbconvert_exporter": "python",
   "pygments_lexer": "ipython3",
   "version": "3.9.16"
  }
 },
 "nbformat": 4,
 "nbformat_minor": 4
}
