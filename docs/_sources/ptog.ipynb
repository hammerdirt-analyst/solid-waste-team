{
 "cells": [
  {
   "cell_type": "code",
   "execution_count": 1,
   "metadata": {
    "editable": true,
    "jupyter": {
     "source_hidden": true
    },
    "slideshow": {
     "slide_type": ""
    },
    "tags": [
     "remove-input"
    ]
   },
   "outputs": [],
   "source": [
    "# sys, file and nav packages:\n",
    "%load_ext watermark\n",
    "import os\n",
    "import datetime as dt\n",
    "\n",
    "\n",
    "# math packages:\n",
    "import pandas as pd\n",
    "import numpy as np\n",
    "from scipy import stats\n",
    "import datetime as dt \n",
    "from statsmodels.distributions.empirical_distribution import ECDF\n",
    "from scipy.stats import nbinom\n",
    "from scipy.stats import gamma\n",
    "from scipy.stats import beta\n",
    "\n",
    "# charting:\n",
    "import matplotlib as mpl\n",
    "import matplotlib.pyplot as plt\n",
    "import matplotlib.dates as mdates\n",
    "from matplotlib import ticker\n",
    "import seaborn as sns\n",
    "import matplotlib.gridspec as gridspec\n",
    "\n",
    "# documenting\n",
    "from IPython.display import display, HTML\n",
    "from IPython.display import Markdown as md\n",
    "from myst_nb import glue\n",
    "\n",
    "from resources.empiricaldist import Pmf\n",
    "import utils\n",
    "from scipy.stats import norm\n",
    "import time\n",
    "\n",
    "# all the data\n",
    "adata = pd.read_csv(\"resources/start_data.csv\")\n",
    "\n",
    "dfCodes = pd.read_csv(\"resources/codes_with_group_names_2015.csv\")\n",
    "dfBeaches = pd.read_csv(\"resources/beaches_with_land_use_rates.csv\")\n",
    "dfBeaches = dfBeaches[dfBeaches.slug != \"clean-up-event-test\"]\n",
    "dfBeaches.set_index(\"slug\", inplace=True)\n",
    "\n",
    "# dfBeaches = dfBeaches.set_index(\"slug\", drop=True)\n",
    "wt_map = dfBeaches.water\n",
    "ct_map = dfBeaches.city\n",
    "wn_map = dfBeaches.water_name\n",
    "rb_map =dfBeaches.river_bassin\n",
    "\n",
    "# all_data = adata.copy()\n",
    "all_data = adata[adata.river_bassin != 'les-alpes'].copy()\n",
    "# print(all_data.columns)\n",
    "columns_i = [\n",
    "    'loc_date',\n",
    "    'location',\n",
    "    'date', \n",
    "    'water_name_slug',\n",
    "    'river_bassin',\n",
    "    'city',\n",
    "    'code', \n",
    "    'quantity',\n",
    "    'pcs_m', \n",
    "]\n",
    "\n",
    "all_data[\"date\"] = pd.to_datetime(all_data[\"date\"], format=\"%Y-%m-%d\")\n",
    "\n",
    "all_data[\"doy\"] = all_data[\"date\"].dt.dayofyear\n",
    "all_data[\"date\"] = all_data[\"date\"].dt.date\n",
    "\n",
    "columns_i = [\n",
    "    'loc_date',\n",
    "    'location',\n",
    "    'date',\n",
    "    'doy',\n",
    "    'water_name_slug',\n",
    "    'water',\n",
    "    'river_bassin',\n",
    "    'city',\n",
    "    'code', \n",
    "    'quantity',\n",
    "    'pcs_m', \n",
    "]\n",
    "\n",
    "all_data[\"water\"]= all_data.location.apply(lambda x: wt_map.loc[x])\n",
    "\n",
    "gfoam = [\"G81\", \"G82\", \"G83\"]\n",
    "plasticpcs = [ \"G78\", \"G79\", \"G80\", \"G75\", \"G76\", \"G77\"]\n",
    "Gcaps = [ \"G21\", \"G23\", \"G24\" ]\n",
    "\n",
    "# the columns that are being kept and the operations per column          \n",
    "# columns = ['loc_date', 'location', 'city', 'date', 'length', \"doy\"]\n",
    "operations = {\"quantity\":\"sum\", \"pcs_m\":\"sum\"}\n",
    "\n",
    "# separate the codes of interest by group from the data frame and add the replacement value\n",
    "all_data_gfrags = all_data[all_data.code.isin(plasticpcs)].groupby(columns_i[:-2], as_index=False).agg(operations)\n",
    "all_data_gfoam = all_data[all_data.code.isin(gfoam)].groupby(columns_i[:-2], as_index=False).agg(operations)\n",
    "all_data_gcaps = all_data[all_data.code.isin(Gcaps)].groupby(columns_i[:-2], as_index=False).agg(operations)\n",
    "\n",
    "all_data_gcaps[\"code\"] = \"Gcaps\"\n",
    "all_data_gfoam[\"code\"] = \"Gfoam\"\n",
    "all_data_gfrags[\"code\"] = \"Gfrags\"\n",
    "\n",
    "# remove the same instances from the work data                                                               \n",
    "all_data_no_frags = all_data[columns_i][~all_data.code.isin([*plasticpcs, *gfoam, *Gcaps])].copy()\n",
    "\n",
    "# formatted plastock data\n",
    "all_data = pd.concat([all_data_no_frags, all_data_gfrags, all_data_gfoam, all_data_gcaps])\n",
    "\n",
    "all_data = all_data.groupby(columns_i[:-2], as_index=False).agg(operations)\n",
    "all_data = all_data[~all_data.location.isin(['schiffenensee_duedingen_hirschij', 'sihlsee_einsiedeln_schilligerllacherl', 'lac-leman-hammerdirt'])]\n",
    "\n",
    "# map to code decriptions\n",
    "dfCodes.set_index(\"code\", inplace=True)\n",
    "dfCodes.loc[\"Gcaps\", [\"material\", \"description\", \"groupname\"]] = [\"Plastic\", \"Plastic bottle lids\", \"food and drink\"]\n",
    "code_d = dfCodes[\"description\"]\n",
    "\n",
    "# map to material descriptions\n",
    "mat_d = dfCodes[\"material\"]"
   ]
  },
  {
   "attachments": {},
   "cell_type": "markdown",
   "metadata": {
    "editable": true,
    "slideshow": {
     "slide_type": ""
    },
    "tags": []
   },
   "source": [
    "# Estimating values\n",
    "\n",
    "__This is in draft. The methods are correct but the narrative, descriptions and references are being defined. The language needs to be standardized to english, there are several data sources in multiple languages (this is Switzerland)__\n",
    "\n",
    "The data gathered by the SWE team in 2020 was included in the federal report on shoreline litter density. Since the puplication of IQAASL in December 2021 there has been addtional data collection events on Lac Léman:\n",
    "\n",
    "1. SWE team\n",
    "2. Association for the Sauvegarde du Léman completed 100 beach litter surveys in 2022\n",
    "\n",
    "__Six year sampling period__\n",
    "\n",
    "The timing of these samples, seven years after the first samples were recorded, could be interpreted as the begining of a new six year sampling period that started in January 2022. The Joint Research Center (JRC) at the EU suggest a six year sampling period with preferably ~ 40 surveys in that time, for each beach that is being monitored. If these conditions are met a baseline value can be established for the location in question. The baseline value, using this method is the median value of the surveys for the time period.\n",
    "\n",
    "There are over 250 samples in the initial six year period, from 30+ locations on the lake. There are no locations that have 40 surveys, therefore the method described previously would not be appropriate for any single location, but it is more than enough for the lake. Recall that we previously discussed the following:\n",
    "\n",
    "1. difference between sampling groups\n",
    "2. correlation between land-use and survey results\n",
    "\n",
    "## Research questions\n",
    "\n",
    "__For the lake and Saint Sulpice:__\n",
    "\n",
    "1. Given the data from 2022, Is there an increase, decrease or no change in the expected survey results given the consolidated results from 2015 - 2021?\n",
    "2. Given the median value for the objects of interest in 2021, what is the chance that a survey in 2022 will exceed this value?\n",
    "3. How do the results from 2022 change the expected survey results going forward?\n",
    "\n",
    "## Practical applications\n",
    "\n",
    "Investments have been made to either prevent or remove litter from the public space. The investments are made with the intention of reducing litter in the environment. The answers to the research questions should help evaluate the return on investment (ROI) from previous projects and provide insights for projects going forward. \n",
    "\n",
    "1. __Did the investment result in a net decline in litter?__\n",
    "2. __What objects were particularly effected?__\n",
    "3. __How does the municpality compare to the rest of the lake?__\n",
    "\n",
    "The prior investments were part of a regional action plan that included all municipal and cantonal administrations on the lake. Therefore, municipal results need to be formulated in the context of the canton and the lake.\n",
    "\n",
    "## Definitions\n",
    "1. __threshold:__ The threshold of interest is the median survey result for an object given the data from 2020-2021.\n",
    "2. __frequency:__ The frequency of exceeding a threshold is the number of times that a threshold was exceeded (k) divided by the number of samples taken (n) or k/n.\n",
    "3. __land-use or land-cover:__ The common topographical features within a radius of 1500m from each survey location. The land-use is quantified by dividing the surface area attributed to a specific attribute by the total surface area of the hexagon minus the surface area attributed to the lake.\n",
    "4. __probability:__ The conditional probability of a survey result at a given municipality being equal to or greater than a given threshold.\n",
    "\n",
    "## Assumptions\n",
    "\n",
    "1. Locations that have similar environmental conditions will yield similar survey results\n",
    "2. There is an exchange of material (trash) between the beach and body of water\n",
    "3. Following from two, the material recovered at the beach is a result of the assumed exchange\n",
    "4. The type of activities adjacent to the survey location are an indicator of the trash that will be found there\n",
    "5. Following from four and three, the local environmental conditions are an indicator of the local contribution to the mix of objects at the beach\n",
    "6. The survey results are a reasonable estimate of the minimum number of objects that were present at the time the survey was completed\n",
    "7. Surveyors are not 100% accurate, some objects will be misidentified or there will be inaccuracies in some object counts\n",
    "  \n",
    "## Method\n",
    "\n",
    "The litter survey data is count data. The survey results are an aggregation of observations from individuals or groups of varying experience using the same protocol. The collected objects are discarded after the survey, so there is no way to go back and _confirm_ a survey result. Thus, the aggregated data has multiple sources of variance inherent to the collection method and associated infrastructure. This problem is not unique in the natural sciences, conservationists and wildlife biologists estimate populations and trends under similar conditions, over the years these estimations have become more accurate. We use conditional probability because the survey results are subject to many variables. Some of these variables can be attributed to the sampling process such as detectability of the objects at a survey location, correct identification of the objects, accuracy of dimensional data and accuracy of data input. Other variables include the environmental conditions of the survey location and the amount of trash suspened in the water. By this we mean that the variance in survey results between locations is not only due to measuring error.  ([summarizing bird counts](https://www.fs.usda.gov/psw/publications/documents/psw_gtr191/psw_gtr191_0762-0770_sauer.pdf), [estimating age of survival](https://besjournals.onlinelibrary.wiley.com/doi/full/10.1111/2041-210X.14077), [estimating tick abundance](https://hal.science/hal-02637100/))\n",
    "\n",
    "Condtional probability and Bayes theorem makes it possible to measure the effects of an unknown parameter as long as the conditions can be quantified. There is no assumption about the underlying relationships between variables except that a realtionship exists, $p(a | b)$, the relationship is defined in the notation exist([Bayes' theorem](https://en.wikipedia.org/wiki/Bayes%27_theorem)) ([conditional proabability](https://en.wikipedia.org/wiki/Conditional_probability)). For this study we are using Bayes theorem in its simplest form to answer the stated research questions. A probability mass function (pmf) is constructed under different conditions (priors) for each code. The limits of the pmf are defined as  $0 \\le x \\le 9.99$ and $0.01 \\le y \\le 0.99$. This accounts for 99% of the data and is computationaly effcient. The x scale corresponds to pieces per meter, multiplying * 100 gives an integer representation of the expected result.\n",
    "\n",
    "### Conditional probability\n",
    "\n",
    "Conditional probability is the measure of the probability of an event occuring given that another event has occurred ([Wikepedia](https://en.wikipedia.org/wiki/Conditional_probability)). For this study the event under consideration is whether or not the threshold was exceeded. The probability of that event is noted $p(\\theta)$, the probability of $\\theta$ given a condition or set of condtions is $p(\\theta | condition(s))$. \n",
    "\n",
    "__The general case__\n",
    "\n",
    "Using the formal definition of conditional probability let a = $\\theta$ and b = _event data_, the probability of an event given a condtion is:\n",
    "\n",
    "$$ \n",
    "\\begin{align}\n",
    "p(a | b) =&\\ \\frac{p(a \\cap b)}{p(b)},\\ 0.01 \\le a \\le 0.99,\\ 0.01 \\le b \\le 0.99\\\\[10pt]\n",
    "and&\\\\\n",
    "p(b | a) =&\\ \\frac{p(b \\cap a)}{p(a)}\\\\[10pt]\n",
    "note&\\\\\n",
    "p(a \\cap b) =&\\ p(b \\cap a)\\\\[10pt]\n",
    "therefore&\\\\\n",
    "p(b | a) =&\\ \\frac{p(b \\cap a)}{p(a)}\\ =\\ \\frac{p(a \\cap b)}{p(a)}\\\\[10pt]\n",
    "p(a)p(b|a) =&\\ p(a \\cap b)\\\\[10pt]\n",
    "finally&\\\\\n",
    "p(a | b) =&\\ \\frac{p(a)p(b|a)}{p(b)}\\\\\n",
    "\\end{align}\n",
    "$$\n",
    "\n",
    "This is Bayes theorem, it tells us that the probability of event _a_ happening given event _b_ is equal to the probability of event _a_ times the the probability of event _b_ given _a_ divided by the probability of _b_. There is a standard nomenclature for the different values in Bayes theorem.\n",
    "$$\n",
    "\\begin{align}\n",
    "posterior =&  \\frac{likelihood*prior}{marginal\\ probability}\\\\ \\\\\n",
    "posterior =&\\ p(a | b) =\\ \\text{The probability of exceeding the threshold given the conditions, the question we are trying to answer.}\\\\[10pt]\n",
    "likelihood =&\\ p(b|a) =\\ \\text{The probability of exceeding the threshold given theta. The current set of data.}\\\\[10pt]\n",
    "prior =&\\ p(a) =\\ \\text{The expected probability given previous studies. Before considering the likelihood}\\\\[10pt]\n",
    "\\text{marginal probability} =&\\ p(b) =\\ \\text{The probability of the data without any conditions}\n",
    "\\end{align}\n",
    "$$\n",
    "\n",
    "Bayes theorem is used extensively in machine learning. Many processes have been optimized for data pipelines ([Scikit Naive Bayes](https://scikit-learn.org/stable/modules/naive_bayes.html)) and solving Generalized Linear Models ([Bayesian regression models using Stan](https://paul-buerkner.github.io/brms/)). Fully developed, the proposed model is similar to a Bayesian Neural Network ([Deep Learning](https://arxiv.org/pdf/2007.06823.pdf)).\n",
    "\n",
    "### The priors\n",
    "\n",
    "The priors refers to the assumptions or expected results before new evidence is taken into account ([wikepedia](https://en.wikipedia.org/wiki/Prior_probability)). \n",
    "\n",
    "> With well-identified parameters and large sample sizes, reasonable choices of prior distributions will have minor effects on posterior inferences. This definition of ‘well identified’ and ‘large’ sample size might seem to be circular, but in practice one can check the dependence on prior distributions by a sensitivity analysis: comparing posterior inferences under different reasonable choices of prior distribution (and, for that matter, different reasonable choices of probability models for data). ([Gelman prior distribution](http://www.stat.columbia.edu/~gelman/research/published/p039-_o.pdf))\n",
    "\n",
    "> If the sample size is small, or available data provide only indirect information about the parameters of interest, the prior distribution becomes more important. In many cases, however, models can be set up hierarchically, so that clusters of parameters have shared prior distributions, which can themselves be estimated from data. ([Gelman prior distribution](http://www.stat.columbia.edu/~gelman/research/published/p039-_o.pdf))\n",
    "\n",
    "The data for this study falls into the second case for any particular municipality or location. How well the density is modeled at the lake level is also complex because of the differences in magnitude and type of inputs for any particular lake. To accomodate small sample sizes a shared prior distribution can be created that is based on the environmental conditions adjacent to the survey location. \n",
    "\n",
    "> __Environmental conditions:__ are the measurable characteristics defined by or derived from an accurate topographic map.\n",
    "\n",
    "The connection between measurable land-use attributes and survey results was illustrated in the swiss national survey ([IQAASL](https://hammerdirt-analyst.github.io/IQAASL-End-0f-Sampling-2021/land_use_correlation.html)) and explored in depth, including early versions of the proposed model in [Near or far](https://hammerdirt-analyst.github.io/landuse/titlepage.html). The source of the land-use data is [swissTLMRegio](https://www.swisstopo.admin.ch/de/geodata/landscape/tlmregio.html), the details of extracting the data and defining the boundary conditions can be found here [New map data](https://hammerdirt-analyst.github.io/landuse/hex-3000-m.html). \n",
    "\n",
    "#### Measured environmental conditions\n",
    "\n",
    "*__Note:__ There are slight changes in the way the land-use variables are handled and described with respect to [Near or far](https://hammerdirt-analyst.github.io/landuse/titlepage.html). Notably the infrastruture and recreation variables are scaled separately from the land-cover variables.* \n",
    "\n",
    "__land-cover__\n",
    "\n",
    "These measured environmental conditions are the labeled polygons from the map layer _Landcover_ defined here ([swissTLMRegio product information](https://www.swisstopo.admin.ch/fr/geodata/landscape/tlm3d.html#dokumente)), they are extracted using vector overlay techniques in QGIS ([QGIS](https://qgis.org/en/site/)). The overlay is a hexagon-grid, each hex is 3000m, circumcscribed by a circle r=1500m. The survey location is located at the center of the hex. The magnitude of the land-use variable is the portion of the total dry surface area for any particular land-use attribute. Areas of the hex that are not defined with a land-use attribute in this map layer are labeled _undefined_ and processed like any other land-use attribute. The land-cover variables of interest are:\n",
    "\n",
    "1. Buildings: built up, urbanized\n",
    "2. Woods: not a park, harvesting of trees may be active\n",
    "3. Vineyards: does not include any other type of agriculture\n",
    "4. Orchards: not vineyards\n",
    "5. Undefined: areas of the map with no predefined label\n",
    "\n",
    "__Land-use__\n",
    "\n",
    "Land-use variables are the labled polygons from the _Freizeitareal_ and  _Nutzungsareal_ map layers, defined in ([swissTLMRegio product information](https://www.swisstopo.admin.ch/fr/geodata/landscape/tlm3d.html#dokumente)). Both layers represent areas used for specific activities. Freizeitareal identifies areas used for recreational purposes and Nutzungsareal represents areas such as hospitals, cemeteries, historical sites or incineration plants. As a ratio of the available dry-land in a hex, these features are relatively small (less than 10%) of the total dry-land. For identified features within a bounding hex the magnitude in meters² of these variables is scaled between 0 and 1, thus the scaled value represents the size of the feature in relation to all other measured values for that feature from all other hexagons.\n",
    "\n",
    "1. Recreation: parks, sports fields, attractions\n",
    "2. Infrastructure: Schools, Hospitals, cemeteries, powerplants\n",
    "\n",
    "__Streets and roads__\n",
    "\n",
    "Streets and roads are the labled polylines from the _TLM Strasse_ map layer defined in ([swissTLMRegio product information](https://www.swisstopo.admin.ch/fr/geodata/landscape/tlm3d.html#dokumente)). All polyines from the map layer within a bounding hex are merged (disolved in QGIS commands) and the combined length of the polylines, in meters, is the magnitude of the variable for the bounding hex.\n",
    "\n",
    "Each survey location has a unique combination of land-use and land-cover variables. The uniqueness stems from the fact that no calculated surface area is exactly the same. In relation to all other survey locations Saint Sulpice is urbanized, has very little undefined land use, little space attributed to forests and an elevated amount of land attributed to infrastructure, (fig 2). The mix of environmental conditions at Saint Sulpice correspond to the expected mix of land-use and land-cover given the table of correlations in fig 3. Specifically we note high levels of buildings and low levels of woods and undefined land."
   ]
  },
  {
   "cell_type": "code",
   "execution_count": 2,
   "metadata": {
    "editable": true,
    "jupyter": {
     "source_hidden": true
    },
    "slideshow": {
     "slide_type": ""
    },
    "tags": [
     "remove-input"
    ]
   },
   "outputs": [],
   "source": [
    "def check_nk(anarray, threshold):\n",
    "    gthan = (anarray >= threshold).sum()\n",
    "    pnk = gthan/len(anarray)\n",
    "\n",
    "    return pnk, gthan, len(anarray)\n",
    "\n",
    "\n",
    "def a_nbdist(anarray):\n",
    "    mu = anarray.mean()\n",
    "    sigma = anarray.var()\n",
    "\n",
    "    p = mu/sigma    \n",
    "    n = mu**2/(sigma-mu)\n",
    "\n",
    "    nbrv = nbinom(n,p)\n",
    "\n",
    "    return nbrv\n",
    "    \n",
    "    \n",
    "def a_gammadist(anarray, afunc: callable = None):\n",
    "\n",
    "    if afunc is not None:\n",
    "        mu = afunc(anarray)\n",
    "    else:\n",
    "        if np.median(anarray) == 0:\n",
    "            mu = .001\n",
    "        else:\n",
    "            mu = np.median(anarray)\n",
    "\n",
    "    gammadist = gamma(mu)\n",
    "\n",
    "    return gammadist\n",
    "\n",
    "\n",
    "def make_date_object(astring):\n",
    "    fmat = \"%Y-%m-%d\"\n",
    "\n",
    "    an_obj = dt.datetime.strptime(astring, fmat).date()   \n",
    "\n",
    "    return an_obj\n",
    "\n",
    "def make_post(row):\n",
    "    # print(row)\n",
    "    k = row[\"k\"]\n",
    "    n =row[\"n\"]\n",
    "    if k == 0:\n",
    "        n+=1\n",
    "        k+=1\n",
    "    ks = k+row[\"kl\"]\n",
    "    ns = n + row[\"kn\"]\n",
    "    nmk = ns-ks\n",
    "    if nmk == 0:\n",
    "        nmk = 1\n",
    "    amean = beta(k,nmk).mean()\n",
    "\n",
    "    \n",
    "    return amean\n",
    "\n",
    "def results_and_land_use(all_data, land_use_agg, slr_e, prior_locations, codes):\n",
    "    # the survey results from all the data prior to the date defined by slr_e\n",
    "    # and from locations on lakes. Includes only the codes of interest\n",
    "    # returns two dataframes\n",
    "    p_results = all_data[(all_data.date <= slr_e)&(all_data.water == \"l\")]\n",
    "    p_results = p_results[p_results.code.isin(codes)]\n",
    "\n",
    "    # the landuse values for all the locations in p_results\n",
    "    p_ludata = land_use_agg.loc[prior_locations]\n",
    "    \n",
    "\n",
    "    return p_results, p_ludata\n",
    "\n",
    "def rtn_a_float_between_0_and_one(x, afloat=0.5):\n",
    "    return afloat\n",
    "\n",
    "def rtn_an_array_between_01_and_99(array):\n",
    "    wexp = [x if x > 0 else .01 for x in array]\n",
    "    wexp = [x if x < 1 else .99 for x in wexp]\n",
    "    return wexp\n",
    "\n",
    "\n",
    "def rtn_df_with_lhood_prior_and_post(c,  prior=\"npr\"):\n",
    "\n",
    "    d=c.copy()\n",
    "    \n",
    "    d[\"1-lh\"] = 1 - d.lh\n",
    "    d[f\"1-{prior}\"] = 1 - d[prior]\n",
    "    \n",
    "    \n",
    "    d[f\"lh*{prior}\"] = d.lh * d[prior]\n",
    "    d[f\"1-lh*1-{prior}\"] =d[f\"1-{prior}\"]* d[\"1-lh\"]\n",
    "    d[\"p-total\"] = d[f\"lh*{prior}\"]+d[f\"1-lh*1-{prior}\"]\n",
    "    \n",
    "    d[\"post\"] = d[f\"lh*{prior}\"]/d[\"p-total\"]\n",
    "\n",
    "    return d    \n",
    "    \n",
    "\n",
    "def range_likelihood_prior_df(current, prior, code, xrange, afunc=rtn_a_float_between_0_and_one):\n",
    "\n",
    "    cr = current[current.code == code].pcs_m.values\n",
    "    # cr = np.sort(cr)\n",
    "    kl = [(cr >= x).sum() for x in xrange]\n",
    "    kn = [len(cr) for x in xrange]\n",
    "    \n",
    "    lhood = np.array([(cr >= x).sum()/len(cr) for x in xrange])\n",
    "    lhood = rtn_an_array_between_01_and_99(lhood)\n",
    "\n",
    "    if isinstance(prior, pd.core.frame.DataFrame):\n",
    "        if \"code\" in prior.columns:\n",
    "            # print(\"there is a code\")\n",
    "            pr = prior[prior.code == code].drop_duplicates([\"loc_date\", \"code\"])\n",
    "            pr = pr.pcs_m.values\n",
    "            pr = np.sort(pr)\n",
    "            k = [(pr >= x).sum() for x in xrange]\n",
    "            n = [len(pr) for x in xrange]\n",
    "            cprior = np.array([x/len(pr) for x in k])\n",
    "            # print(\"cprior\", cprior\n",
    "            cprior = rtn_an_array_between_01_and_99(cprior)\n",
    "\n",
    "            data = pd.DataFrame({\"qty\":xrange, \"lh\":lhood, \"pr\": cprior, \"k\": k, \"n\": n, \"kl\":kl, \"kn\":kn})\n",
    "            data[\"post_beta\"] = data.apply(lambda row: make_post(row), axis=1)\n",
    "\n",
    "            return data\n",
    "        else:\n",
    "            cprior = prior.post.values\n",
    "    else:\n",
    "        cprior = rtn_an_array_between_01_and_99(prior)\n",
    "    \n",
    "    \n",
    "        \n",
    "\n",
    "       \n",
    "\n",
    "    data = pd.DataFrame({\"qty\":xrange, \"lh\":lhood, \"pr\": cprior})\n",
    "\n",
    "    return data\n",
    "\n",
    "def an_array_of_posterior_probabilities(lagi, prior_year, codes, xrange):\n",
    "\n",
    "    dfs = []\n",
    "    for i, code in enumerate(codes):\n",
    "        informed = range_likelihood_prior_df(lagi, prior_year, code, xrange)\n",
    "        \n",
    "        informed_posterior = rtn_df_with_lhood_prior_and_post(informed,  prior=\"pr\")\n",
    "      \n",
    "        dfs.append(informed_posterior)\n",
    "    return dfs\n",
    "\n",
    "def an_array_of_sequential_probabilities(lagi, prior_year, codes, xrange):\n",
    "\n",
    "    dfs = []\n",
    "    for i,code in enumerate(codes):\n",
    "        informed = range_likelihood_prior_df(lagi, prior_year[i], code, xrange)\n",
    "        \n",
    "        informed_posterior = rtn_df_with_lhood_prior_and_post(informed,  prior=\"pr\")\n",
    "       \n",
    "        dfs.append(informed_posterior)\n",
    "    return dfs\n",
    "\n",
    "def survey_results_with_land_use(survey_results, land_use_data, locations):\n",
    "    \n",
    "    lu = land_use_data.loc[locations][[\"use\", \"binned\"]]\n",
    "    lu = lu.pivot(columns=\"use\").fillna(0)\n",
    "    lu = lu.droplevel(0, axis=1)\n",
    "    lu.index.name = None\n",
    "\n",
    "    data = survey_results.merge(lu, left_on=\"location\", right_index=True, validate=\"many_to_one\")\n",
    "\n",
    "    return data\n",
    "\n",
    "class SurveyResults:\n",
    "\n",
    "    def __init__(self, start_date, end_date, lake, current_locations, codes_of_interest):\n",
    "        self.prior_data = None\n",
    "        self.prior_locs = None\n",
    "        self.land_use_data = None\n",
    "        self.start_date = start_date\n",
    "        self.end_date = end_date\n",
    "        self.lake = lake\n",
    "        self.current_locs = current_locations\n",
    "        self.current_data = None\n",
    "        self.cois = codes_of_interest\n",
    "        \n",
    "\n",
    "    def prior_locations(self, data):\n",
    "        d = data[(data[\"date\"] <= self.end_date)&(data.water == \"l\")]\n",
    "        self.prior_locs = d.location.unique()\n",
    "\n",
    "    def prior_and_current_data(self, data, land_use_data):\n",
    "        p_results, p_ludata = results_and_land_use(data, land_use_data, self.end_date, self.prior_locs, self.cois)\n",
    "        # self.prior_data = p_results\n",
    "        self.land_use_data = p_ludata\n",
    "        c_results = p_results[p_results.date >= self.start_date].copy()\n",
    "        self.current_data = survey_results_with_land_use(c_results, p_ludata, self.current_locs)\n",
    "        self.prior_data = survey_results_with_land_use(p_results, p_ludata, self.prior_locs)\n",
    "\n",
    "class PosteriorForDateRange:\n",
    "    def __init__(self, current_data, prior_data, thresholds, codes_of_interest, xrange, prior_series: list = None, uninformed: list=None):\n",
    "        self.current_data = current_data\n",
    "        self.prior_data = prior_data\n",
    "        # self.prior_class = prior_class\n",
    "        self.cois = codes_of_interest\n",
    "        self.xrange = xrange\n",
    "        self.prior_series = prior_series\n",
    "        self.uninformed = uninformed\n",
    "        self.thresholds = thresholds\n",
    "        self.sequential = None\n",
    "        self.post_informed = None\n",
    "        self.post_uninformed = None\n",
    "        self.post_sequential = None\n",
    "        self.shared = None\n",
    "    \n",
    "    def prior_shared(self, b):\n",
    "        a =self.current_data.copy()\n",
    "        # b = self.prior_class.twotest_post.shared\n",
    "        t = an_array_of_posterior_probabilities(a, b, self.cois, self.xrange)\n",
    "        post = np.round([t[i].loc[int(self.thresholds.loc[x])][\"post\"] for i, x in enumerate(self.cois)], 2)\n",
    "        self.shared = t\n",
    "        self.post_informed = post\n",
    "        \n",
    "    \n",
    "    def prior_sequential(self):\n",
    "        if isinstance(self.prior_series, (list, np.ndarray)):\n",
    "            st = an_array_of_sequential_probabilities(self.current_data, self.prior_series, self.cois, self.xrange)\n",
    "            post = np.round([st[i].loc[int(self.thresholds.loc[x])][\"post\"] for i, x in enumerate(self.cois)], 2)\n",
    "            self.sequential = st\n",
    "            self.post_sequential = post\n",
    "        else:\n",
    "            print(\"There is no prior series specified: no operation\")        \n",
    "    \n",
    "    def prior_uninformed(self):\n",
    "        qt = an_array_of_posterior_probabilities(self.current_data, self.uninformed, self.cois, self.xrange)\n",
    "        post = np.round([qt[i].loc[int(self.thresholds.loc[x])][\"post\"] for i, x in enumerate(self.cois)], 2)\n",
    "        self.uninformed = qt\n",
    "        self.post_uninformed = post\n",
    "\n",
    "    def table_display(self):\n",
    "        table_data = []\n",
    "        for aseries in [self.post_informed, self.post_uninformed, self.post_sequential]:\n",
    "            if aseries is not None:\n",
    "                table_data.append(aseries)\n",
    "            else:\n",
    "                pass\n",
    "\n",
    "        a_display_table = pd.DataFrame(data=table_data, columns=self.cois)\n",
    "\n",
    "        return a_display_table\n",
    "\n",
    "\n",
    "class GridApproximation:\n",
    "    \n",
    "    def __init__(self, slr_d, slr_e, lake, lake_locations, cois, all_data, land_use_agg, tholds_r, xrange, prior_series=None, uniformed_prior=None):\n",
    "        self.testwo = SurveyResults(slr_d, slr_e, lake, lake_locations, cois)\n",
    "        self.testwo.prior_locations(all_data)\n",
    "        self.testwo.prior_and_current_data(all_data, land_use_agg)\n",
    "        self.uses = self.testwo.land_use_data.use.unique()\n",
    "        self.testwo_post = PosteriorForDateRange(self.testwo.current_data, self.testwo.prior_data, tholds_r, cois, xrange, prior_series, uniformed_prior)\n",
    "        # self.testwo_post.prior_shared()\n",
    "        self.testwo_post.prior_uninformed()\n",
    "        self.testwo_post.prior_sequential()\n",
    "\n",
    "\n",
    "def when_k_is_zero(k, n):\n",
    "\n",
    "    if k == 0:\n",
    "        return .01\n",
    "    else:\n",
    "        kn = k/n\n",
    "\n",
    "        if kn == 1:\n",
    "            return .99\n",
    "        else:\n",
    "            return kn\n",
    "    \n",
    "\n",
    "def y_exceeds_x_one_code_bin_category(data, apmf):\n",
    "    n = len(data)\n",
    "    apmf[\"k\"] = apmf.x.apply(lambda j: (data.pcs_m >= j).sum())\n",
    "    apmf[\"theta\"] = apmf.k.apply(lambda x: when_k_is_zero(x, n))\n",
    "    # print(apmf.head())\n",
    "        \n",
    "    return apmf\n",
    "\n",
    "\n",
    "\n",
    "\n",
    "def make_prior_by_use(data, xtest, profiles_dict, keep_copy=True):\n",
    "\n",
    "    ud = []\n",
    "    prior = np.ones(len(xtest))\n",
    "    \n",
    "    for k, v in profiles_dict.items():\n",
    "        # print(k)\n",
    "        str = data[(data[k].isin(v))].copy()\n",
    "        # print(str.pcs_m.describe())\n",
    "        use_dist = y_exceeds_x_one_code_bin_category(str, xtest)\n",
    "        if keep_copy:\n",
    "            ud.append((use_dist, str))\n",
    "            \n",
    "        # print(\"\\n usedist: \\n\")\n",
    "        # print(use_dist.theta.mean())\n",
    "        # print(use_dist.theta.min(), use_dist.theta.max())\n",
    "        # print(\"\\n prior: \\n\")\n",
    "        # print(prior.mean())\n",
    "        # print(len(prior))\n",
    "        # print(prior.min(), prior.max())\n",
    "        prior *= use_dist.theta\n",
    "\n",
    "    return prior, ud\n",
    "\n",
    "def land_use_profile_from_data(tdata, code, uses):\n",
    "    profile_data = tdata[(tdata.code == code)]\n",
    "    lprofiles = list(set(profile_data.columns).intersection(uses))\n",
    "    profiles_dict = {x:profile_data[x].values for x in lprofiles}\n",
    "\n",
    "    return profile_data, profiles_dict\n",
    "\n"
   ]
  },
  {
   "cell_type": "code",
   "execution_count": 3,
   "metadata": {
    "editable": true,
    "jupyter": {
     "source_hidden": true
    },
    "slideshow": {
     "slide_type": ""
    },
    "tags": [
     "remove-input"
    ]
   },
   "outputs": [],
   "source": [
    "# these are the land use values for each hex\n",
    "# nutuzungsareal and freizeit areal are totaled\n",
    "# the surface area of these two use cases gets added\n",
    "# to the total of the land cover surface area\n",
    "dfln = pd.read_csv(\"resources/geodata/infrastructure.csv\")\n",
    "dflf = pd.read_csv(\"resources/geodata/recreation.csv\")\n",
    "locations = all_data.location.unique()\n",
    "\n",
    "# rename the columns and total the surface are for each component\n",
    "dflf.rename(columns={\"OBJEKTART\":\"use\"}, inplace=True)\n",
    "dflf = dflf[~dflf.use.isin(['Reben', 'Obstanlage'])].copy()\n",
    "dflf_t = dflf.groupby([\"slug\", \"city\", \"water_name\", \"water\"], as_index=False).area.sum()\n",
    "dflf_t[\"use\"] = \"recreation\"\n",
    "dflf_t[\"scaled\"] = (dflf_t[\"area\"] - dflf_t[\"area\"].min())/(dflf_t[\"area\"].max() - dflf_t[\"area\"].min())\n",
    "\n",
    "dfln.rename(columns={\"OBJEKTART\":\"use\"}, inplace=True)\n",
    "dfln = dfln[~dfln.use.isin(['Reben', 'Obstanlage'])].copy()\n",
    "dfln_t = dfln.groupby([\"slug\", \"city\", \"water_name\", \"water\"], as_index=False).area.sum()\n",
    "dfln_t[\"use\"] = \"infrastructure\"\n",
    "dfln_t[\"scaled\"] = (dfln_t[\"area\"] - dfln_t[\"area\"].min())/(dfln_t[\"area\"].max() - dfln_t[\"area\"].min())\n",
    "\n",
    "rec_inf = pd.concat([dfln_t, dflf_t])\n",
    "rec_inf = rec_inf[rec_inf.slug.isin(locations)]\n",
    "rec_inf.rename(columns={\"area\":\"magnitude\"}, inplace=True)\n",
    "\n",
    "dflc = pd.read_csv(\"resources/geodata/landcover.csv\")\n",
    "dflc = dflc[dflc.slug.isin(locations)].copy()\n",
    "\n",
    "# sum the unique land cover values for each location\n",
    "area_of_a_hex = 5845672\n",
    "xgr = dflc.groupby([\"slug\", \"city\", \"water_name\", \"OBJVAL\", \"water\"], as_index=False, dropna=False).area.sum()\n",
    "\n",
    "# the sum of all the land cover values for a location\n",
    "xgrt = xgr.groupby([\"slug\", \"city\", \"water_name\", \"water\"], as_index=False).area.sum()\n",
    "\n",
    "# the amount of surface area that is not accounted for \n",
    "xgrt[\"undefined\"] = area_of_a_hex - xgrt.area\n",
    "\n",
    "# format data frame to join to the other land cover totals\n",
    "xgrt[\"OBJVAL\"] = \"undefined\"\n",
    "xgrt[\"area\"] = xgrt[\"undefined\"]\n",
    "xgrt.drop(\"undefined\", inplace=True, axis=1)\n",
    "\n",
    "# add to other totals\n",
    "dflcx = pd.concat([xgr, xgrt])\n",
    "\n",
    "# remove the value of See from the surface area of a hex.\n",
    "# We are considering the magnitude of land use type in relation\n",
    "# to the amount of land that is available to be used, not including \n",
    "# amount of land that is covered by the lake itself\n",
    "# xsee = xgr[xgr.OBJVAL == \"See\"][[\"slug\", \"area\"]]\n",
    "# xsee[\"hex minus\"] = area_of_a_hex - xsee.area\n",
    "# hex_minus = xsee[[\"slug\", \"hex minus\"]].set_index(\"slug\", drop=True)\n",
    "xgr_l = xgr[xgr.water == \"l\"].copy()\n",
    "xgr_r = xgr[xgr.water == \"r\"].copy()\n",
    "xgr_r[\"hex minus\"] = area_of_a_hex\n",
    "\n",
    "xsee = xgr_l[xgr_l.OBJVAL == \"See\"][[\"slug\", \"area\"]]\n",
    "xsee[\"hex minus\"] = area_of_a_hex - xsee.area\n",
    "hex_minus = xsee[[\"slug\", \"hex minus\"]].set_index(\"slug\", drop=True)\n",
    "\n",
    "\n",
    "hex_not_minus = xgr_r[[\"slug\", \"hex minus\"]].drop_duplicates(\"slug\").set_index(\"slug\", drop=True)\n",
    "# hex_not_minus.drop_duplicates(inplace=True)\n",
    "xsee_all = pd.concat([hex_not_minus, hex_minus])\n",
    "\n",
    "# map the adjusted surface area to to the land use\n",
    "# totals and scale the surface column to the adjusted surface area\n",
    "dflcx[\"hex minus\"] = dflcx.slug.apply(lambda x: xsee_all.loc[x, \"hex minus\"])\n",
    "# rec_inf[\"hex minus\"] = rec_inf.slug.apply(lambda x: xsee_all.loc[x, \"hex minus\"])\n",
    "# change column name\n",
    "dflcx.rename(columns={\"OBJVAL\":\"use\"}, inplace=True)\n",
    "\n",
    "land_cover = dflcx.copy()\n",
    "\n",
    "land_cover[\"scaled\"] = land_cover.area/land_cover[\"hex minus\"]\n",
    "\n",
    "# remove See from the data frame\n",
    "land_cover = land_cover[land_cover.use != \"See\"]\n",
    "\n",
    "bind = pd.IntervalIndex.from_tuples([(-1, 0), (0.0000001, .0499999), (.0500000, .0999999), (.1000000, .1499999),(.1500000, .1999999), (.2, .2499), (.25, .2999), (.3000, .3499),\n",
    "        (.35, .3999), (.4000, .449999), (.45, .499999),(.5, .549999), (.55, .5999), (.6000, .6499), (.65, .6999), (.7, .7499), (.75, .7999),\n",
    "        (.8, .8499), (.85, .8999), (.9, .9499), (.95, 1)])\n",
    "\n",
    "# bin the scaled column\n",
    "sbins = pd.cut(land_cover.scaled, bins=bind, labels=np.arange(start=0, stop=21), include_lowest=True, retbins=False)\n",
    "sbins=sbins.cat.rename_categories(np.arange(start=0, stop=21))\n",
    "\n",
    "rbins = pd.cut(rec_inf.scaled, bins=bind, labels=np.arange(start=0, stop=21), include_lowest=True, retbins=False)\n",
    "rbins=rbins.cat.rename_categories(np.arange(start=0, stop=21))\n",
    "rec_inf[\"binned\"] = rbins\n",
    "\n",
    "merge_columns = [\"slug\", \"city\", \"water_name\", \"water\", \"magnitude\", \"use\", \"scaled\", \"binned\"]\n",
    "land_cover[\"binned\"] = sbins\n",
    "land_cover.rename(columns={\"area\":\"magnitude\"}, inplace=True)\n",
    "merge_df = land_cover[merge_columns]\n",
    "agg_land_use = pd.concat([rec_inf, merge_df])\n",
    "\n",
    "dist_ct = pd.read_csv(\"resources/geodata/intersect_length.csv\")\n",
    "dist_ct = dist_ct.groupby([\"slug\",\"city\", \"water_name\", \"water\", \"NAMN\"], as_index=False).length.sum()\n",
    "dist_ct[dist_ct.slug == \"mullermatte\"]\n",
    "\n",
    "dist_dt = pd.read_csv(\"resources/geodata/d_to_intersect.csv\")\n",
    "\n",
    "dist_dt[\"water\"] = dist_dt.slug.apply(lambda x: wt_map.loc[x])\n",
    "dist_dt[\"city\"] = dist_dt.slug.apply(lambda x: ct_map.loc[x])\n",
    "dist_dt[\"water_name\"] = dist_dt.slug.apply(lambda x: wn_map.loc[x])\n",
    "dist_dt = dist_dt.groupby([\"slug\", \"NAMN\", \"water\", \"city\", \"water_name\"], as_index=False).dist.sum()\n",
    "\n",
    "dr = dist_dt[dist_dt.water == \"r\"].copy()\n",
    "dr[\"dist\"] = 0\n",
    "\n",
    "dnr = dist_dt[dist_dt.water != \"r\"].copy()\n",
    "dist_dt = pd.concat([dnr, dr])\n",
    "dist_dt = pd.melt(dist_dt, id_vars = [\"slug\", \"NAMN\", \"water\", \"city\", \"water_name\"], value_vars=[\"dist\"])\n",
    "dist_ct = pd.melt(dist_ct, id_vars = [\"slug\", \"NAMN\", \"water\", \"city\", \"water_name\"], value_vars=[\"length\"])\n",
    "\n",
    "# river network and disttance to intersection\n",
    "dist_it_len = pd.concat([dist_dt, dist_ct])\n",
    "\n",
    "# min max scale\n",
    "dist_it_len[\"scaled\"] = (dist_it_len[\"value\"] - dist_it_len[\"value\"].min())/(dist_it_len[\"value\"].max() - dist_it_len[\"value\"].min())\n",
    "# bin in groups of 0.05 plus one bin for zero\n",
    "sbinsr = pd.cut(dist_it_len.scaled, bins=bind, labels=np.arange(start=0, stop=21), include_lowest=True, retbins=False)\n",
    "sbinsr=sbinsr.cat.rename_categories(np.arange(start=0, stop=21))\n",
    "dist_it_len[\"binned\"] = sbinsr\n",
    "dist_it_len.rename(columns={\"variable\":\"use\", \"value\":\"magnitude\"}, inplace=True)\n",
    "dist_it_len.set_index(\"slug\", inplace=True, drop=True)\n",
    "\n",
    "strasse = pd.read_csv(\"resources/geodata/streets.csv\", low_memory=False)\n",
    "strasse = strasse[strasse.slug.isin(locations)].copy()\n",
    "strasse.fillna(0, inplace=True)\n",
    "stras = strasse.groupby([\"slug\", \"water_name\", \"city\", \"water\"], as_index=False)[\"street len\"].sum()\n",
    "\n",
    "# min max scale\n",
    "stras[\"scaled\"] = (stras[\"street len\"] - stras[\"street len\"].min())/(stras[\"street len\"].max() - stras[\"street len\"].min())\n",
    "sbinsras = pd.cut(stras.scaled, bins=bind, labels=np.arange(start=0, stop=21), include_lowest=True, retbins=False)\n",
    "sbinsras=sbinsras.cat.rename_categories(np.arange(start=0, stop=21))\n",
    "stras[\"binned\"] = sbinsras\n",
    "stras[\"use\"] = \"Strasse\"\n",
    "stras.rename(columns={\"street len\":\"magnitude\"}, inplace=True)\n",
    "\n",
    "land_use_agg = pd.concat([stras, agg_land_use])\n",
    "land_use_agg.fillna(0, inplace=True)\n",
    "land_use_agg.set_index(\"slug\", drop=True, inplace=True)\n",
    "collection_points = dfBeaches[dfBeaches.water == \"l\"].water_name_slug.unique()"
   ]
  },
  {
   "cell_type": "code",
   "execution_count": 4,
   "metadata": {
    "editable": true,
    "jupyter": {
     "source_hidden": true
    },
    "slideshow": {
     "slide_type": ""
    },
    "tags": [
     "remove-input"
    ]
   },
   "outputs": [
    {
     "data": {
      "application/papermill.record/image/png": "iVBORw0KGgoAAAANSUhEUgAAA9QAAAHqCAYAAADlOwZwAAAAOXRFWHRTb2Z0d2FyZQBNYXRwbG90bGliIHZlcnNpb24zLjcuMSwgaHR0cHM6Ly9tYXRwbG90bGliLm9yZy/bCgiHAAAACXBIWXMAAA9hAAAPYQGoP6dpAADrEklEQVR4nOzdd1QU198G8GeXsktHQIp0O3YFUcQCiYodS4wFe4lKjFE0KhoVSySaoMQkltgwgRijUaOJ0RCVqIgG7MYaFRQFUVQsVGHeP3iZn8suvSzg8zlnju6dOzPf2V125s5tEkEQBBARERERERFRiUjVHQARERERERFRdcQCNREREREREVEpsEBNREREREREVAosUBMRERERERGVAgvURERERERERKXAAjURERERERFRKbBATURERERERFQKLFATERERERERlQIL1ERERERERESl8NYWqENCQiCRSMRFLpfD0tISnp6eCAwMRFJSktI2AQEBkEgkJTpOamoqAgICEBERUaLtVB3LwcEBffr0KdF+ivLjjz8iODhY5TqJRIKAgIByPV55O3z4MFxcXKCnpweJRIK9e/eqO6QapzTf+4o2ZswYODg4lGpbDw8PNGvWrFh5q8PfABGV3cWLFzF27Fg4OjpCLpdDX18fbdq0wcqVK/HkyRN1h6cgIiICEomkxPcVAHDlyhUEBAQgNjZWaV1Zflcry5MnTzB06FCYm5tDIpGgf//+6g6pxomNjYVEIkFISIi6QxGV5Tufd78fExNTZN7q8DdAVZOmugNQt61bt6Jx48bIyspCUlISTpw4gRUrVuDLL7/Ejh070LVrVzHvhAkT0KNHjxLtPzU1FYsXLwaQeyNfXKU5Vmn8+OOPuHz5MqZPn660LioqCjY2NhUeQ2kJgoD3338fDRs2xL59+6Cnp4dGjRqpOyyqBAsWLMDHH3+s7jCIqAbYuHEjfH190ahRI3zyySdo0qQJsrKyEBMTg/Xr1yMqKgp79uxRd5jl4sqVK1i8eDE8PDyUCg7V4Xd16dKl2LNnD7Zs2YJ69erBxMRE3SFRJWjTpg2ioqLQpEkTdYdCpNJbX6Bu1qwZXFxcxNeDBg3CjBkz0LFjRwwcOBA3b96EhYUFAMDGxqbCC5ipqanQ1dWtlGMVpX379mo9flEePHiAJ0+eYMCAAXj33XfVHU6Vk5WVBYlEAk3NmvNnnvf3Ua9ePXWHQkQ1QFRUFKZMmYJu3bph7969kMlk4rpu3bph5syZOHjwYLkcK+/3K7/s7Gy8fv1a4djqUB1+Vy9fvox69erBx8dH3aFUSWlpadDR0VF3GOUm7z7G0NCwyt+T0tvtrW3yXRg7OzsEBQXhxYsX2LBhg5iuqunrkSNH4OHhAVNTU+jo6MDOzg6DBg1CamoqYmNjUbt2bQDA4sWLxeblY8aMUdjf2bNn8d5776FWrVriBa2wZrZ79uxBixYtIJfLUbduXaxZs0ZhfV7zlvxNuvI3mfHw8MDvv/+OuLg4hebveVQ1d718+TK8vb1Rq1YtyOVytGrVCtu2bVN5nO3bt2P+/PmoU6cODA0N0bVrV1y/fr3gN/4NJ06cwLvvvgsDAwPo6uqiQ4cO+P3338X1AQEB4gOHOXPmQCKRFNpMJy+mH3/8EXPmzIGVlRX09fXRt29fPHz4EC9evMAHH3wAMzMzmJmZYezYsXj58qXCPgRBwNq1a9GqVSvo6OigVq1aeO+993D79m2FfOHh4fD29oaNjQ3kcjnq16+PSZMm4fHjxwr5Hj16hA8++AC2traQyWSoXbs23N3d8ddff4l5HBwcxO/Lmzw8PBRaPOSd3w8//ICZM2fC2toaMpkM//33HwDgr7/+wrvvvgtDQ0Po6urC3d0dhw8fVtrv77//jlatWkEmk8HR0RFffvllge/pm6ZPnw49PT08f/5cad2QIUNgYWGBrKwsAMCOHTvQvXt3WFlZQUdHB05OTpg7dy5evXqlsN2YMWOgr6+PS5cuoXv37jAwMBAfnKhqlvXtt9+ic+fOMDc3h56eHpo3b46VK1eKx83v+PHjaN++PXR0dGBtbY0FCxYgOzu7yHNNTEzEpEmTYGNjA21tbTg6OmLx4sV4/fq1Qr5169ahZcuW0NfXh4GBARo3box58+YVuX8iqjzLly+HRCLBd999p7JAq62tjX79+omvc3JysHLlSjRu3BgymQzm5uYYNWoU4uPjFbbL61py7NgxdOjQAbq6uhg3bpzYnHblypVYtmwZHB0dIZPJcPToUQBATEwM+vXrBxMTE8jlcrRu3Ro///xzkecRExODoUOHwsHBATo6OnBwcMCwYcMQFxcn5gkJCcHgwYMBAJ6enuI1P69pr6rf1fT0dPj7+8PR0RHa2tqwtrbGhx9+iGfPninky+uSdvDgQbRp0wY6Ojpo3LgxtmzZUmTsQG5Tbl9fX1hbW0NbWxt169bF/PnzkZGRAeB/zZD/+usvXL16VYy9sCbAeTH99ttvaN26tXi9+e2338T3w8nJCXp6enB1dVXZJLg4n8ejR4/g6+uLJk2aQF9fH+bm5njnnXdw/Phxpf0VdV0o6N5P1X1d3vnt3r0brVu3hlwuF1tEFvc69eDBA7z//vswMDCAkZERhgwZgsTExALf0zwXLlyARCLB5s2bldb98ccfkEgk2LdvHwDgv//+w9ixY9GgQQPo6urC2toaffv2xaVLlxS2K+w+RlWT7+J859/09OlTjB07FiYmJtDT00Pfvn2V7t9UKe6937lz59CnTx+Ym5tDJpOhTp066N27t9JvA9VMNafqqpz16tULGhoaOHbsWIF5YmNj0bt3b3Tq1AlbtmyBsbEx7t+/j4MHDyIzMxNWVlY4ePAgevTogfHjx2PChAkAIBay8wwcOBBDhw7F5MmTlQoV+Z0/fx7Tp09HQEAALC0tERYWho8//hiZmZmYNWtWic5x7dq1+OCDD3Dr1q1iNWe7fv06OnToAHNzc6xZswampqYIDQ3FmDFj8PDhQ8yePVsh/7x58+Du7o5Nmzbh+fPnmDNnDvr27YurV69CQ0OjwOP8/fff6NatG1q0aIHNmzdDJpNh7dq16Nu3L7Zv344hQ4ZgwoQJaNmyJQYOHIiPPvoIw4cPL9bT/Xnz5sHT0xMhISGIjY3FrFmzMGzYMGhqaqJly5bYvn07zp07h3nz5sHAwEDhYcWkSZMQEhKCadOmYcWKFXjy5AmWLFmCDh064MKFC2JLhlu3bsHNzQ0TJkyAkZERYmNjsWrVKnTs2BGXLl2ClpYWAGDkyJE4e/YsPvvsMzRs2BDPnj3D2bNnkZycXOR5FMTf3x9ubm5Yv349pFIpzM3NERoailGjRsHb2xvbtm2DlpYWNmzYAC8vLxw6dEgspB4+fBje3t5wc3PDTz/9hOzsbKxcuRIPHz4s8rjjxo3DV199hZ9//ln8ngPAs2fP8Ouvv+LDDz8Uz/vmzZvo1auXWAi/du0aVqxYgX/++QdHjhxR2G9mZib69euHSZMmYe7cuUo3A2+6desWhg8fLt74XbhwAZ999hmuXbumdFOXmJiIoUOHYu7cuViyZAl+//13LFu2DE+fPsU333xT4DESExPh6uoKqVSKhQsXol69eoiKisKyZcsQGxuLrVu3AgB++ukn+Pr64qOPPsKXX34JqVSK//77D1euXCnyvSSiypGdnY0jR47A2dkZtra2xdpmypQp+O677zB16lT06dMHsbGxWLBgASIiInD27FmYmZmJeRMSEjBixAjMnj0by5cvh1T6vzqMNWvWoGHDhvjyyy9haGiIBg0a4OjRo+jRowfatWuH9evXw8jICD/99BOGDBmC1NRUlQ9X88TGxqJRo0YYOnQoTExMkJCQgHXr1qFt27a4cuUKzMzM0Lt3byxfvhzz5s3Dt99+izZt2gAouGZaEAT0798fhw8fhr+/Pzp16oSLFy9i0aJFiIqKQlRUlMJ198KFC5g5cybmzp0LCwsLbNq0CePHj0f9+vXRuXPnAmNPT0+Hp6cnbt26hcWLF6NFixY4fvw4AgMDcf78efz++++wsrJCVFQUfH19kZKSgrCwMAAosgnwhQsX4O/vj/nz58PIyAiLFy/GwIED4e/vj8OHD4sPVObMmYM+ffrgzp07Yg1vcT+PvD72ixYtgqWlJV6+fIk9e/bAw8MDhw8fFh9+V8R14ezZs7h69So+/fRTODo6Qk9Pr9jXqbS0NHTt2hUPHjxAYGAgGjZsiN9//x1Dhgwp8rgtW7ZE69atsXXrVowfP15hXUhICMzNzdGrVy8AuYV2U1NTfP7556hduzaePHmCbdu2oV27djh37pxSVz1V9zGqCvnF+c6/afz48ejWrRt+/PFH3Lt3D59++ik8PDxw8eJFGBsbF3iuxbn3e/XqFbp16wZHR0d8++23sLCwQGJiIo4ePYoXL14U+X5SDSC8pbZu3SoAEKKjowvMY2FhITg5OYmvFy1aJLz5lu3atUsAIJw/f77AfTx69EgAICxatEhpXd7+Fi5cWOC6N9nb2wsSiUTpeN26dRMMDQ2FV69eKZzbnTt3FPIdPXpUACAcPXpUTOvdu7dgb2+vMvb8cQ8dOlSQyWTC3bt3FfL17NlT0NXVFZ49e6ZwnF69eink+/nnnwUAQlRUlMrj5Wnfvr1gbm4uvHjxQkx7/fq10KxZM8HGxkbIyckRBEEQ7ty5IwAQvvjii0L392ZMffv2VUifPn26AECYNm2aQnr//v0FExMT8XVUVJQAQAgKClLId+/ePUFHR0eYPXu2yuPm5OQIWVlZQlxcnABA+PXXX8V1+vr6wvTp0wuN297eXhg9erRSepcuXYQuXboonV/nzp0V8r169UowMTFROu/s7GyhZcuWgqurq5jWrl07oU6dOkJaWpqY9vz5c8HExETpu6hKmzZthA4dOiikrV27VgAgXLp0SeU2ee/P33//LQAQLly4IK4bPXq0AEDYsmWL0najR48u8Hubd35ZWVnC999/L2hoaAhPnjwR13Xp0kXpsxAEQZg4caIglUqFuLg4MS3/38CkSZMEfX19hTyCIAhffvmlAED4999/BUEQhKlTpwrGxsYFxkdE6peYmCgAEIYOHVqs/FevXhUACL6+vgrpp0+fFgAI8+bNE9PyfmcOHz6skDfvulWvXj0hMzNTYV3jxo2F1q1bC1lZWQrpffr0EaysrITs7GxBEFRfy/N7/fq18PLlS0FPT0/46quvxPSdO3cWuG3+39WDBw8KAISVK1cq5NuxY4cAQPjuu+/ENHt7e0Eulyv8NqalpQkmJibCpEmTCoxTEARh/fr1AgDh559/VkhfsWKFAED4888/xbQuXboITZs2LXR/b8ako6MjxMfHi2nnz58XAAhWVlbiPZMgCMLevXsFAMK+ffvEtOJ+Hvm9fv1ayMrKEt59911hwIABYnpxrguq7v0EQfV9nb29vaChoSFcv35dIW9xr1Pr1q0r8FoIQNi6dWuhsa5Zs0YAoHD8J0+eCDKZTJg5c2aB271+/VrIzMwUGjRoIMyYMUNML+g+5s11pfnO5713b34WgiAIkZGRAgBh2bJlYlr+v4Hi3vvFxMQIAIS9e/cWGB/VbGzyXQhBEApd36pVK2hra+ODDz7Atm3bitV0RJVBgwYVO2/Tpk3RsmVLhbThw4fj+fPnOHv2bKmOX1xHjhzBu+++q/Qkf8yYMUhNTUVUVJRC+pvN5ACgRYsWAFBgcxwAePXqFU6fPo333nsP+vr6YrqGhgZGjhyJ+Pj4YjcbVyX/KOlOTk4AgN69eyulP3nyRGz2/dtvv0EikWDEiBF4/fq1uFhaWqJly5YKzZCSkpIwefJk2NraQlNTE1paWrC3twcAXL16Vczn6uqKkJAQLFu2DKdOnSqwaXJJ5P8unTx5Ek+ePMHo0aMV4s7JyUGPHj0QHR2NV69e4dWrV4iOjsbAgQMhl8vF7Q0MDNC3b99iHXvs2LE4efKkwuezdetWtG3bVmFU7du3b2P48OGwtLSEhoYGtLS00KVLFwCK709B51SQc+fOoV+/fjA1NRX3O2rUKGRnZ+PGjRsKeQ0MDJS+n8OHD0dOTk6hrVJ+++03eHp6ok6dOgrvZ8+ePQHktq4Acj/bZ8+eYdiwYfj111+VmvsTUfWT1yw7f02xq6srnJyclLrR1KpVC++8847KffXr109stQPkNou9du2a2Df4zd+XXr16ISEhodBr38uXLzFnzhzUr18fmpqa0NTUhL6+Pl69eqXyd7U48loM5T/fwYMHQ09PT+l8W7VqBTs7O/G1XC5Hw4YNC73m5x1HT08P7733nkJ63nFVdU8qrlatWsHa2lp8nXfN9/DwUOjPnpeeF2tJP4/169ejTZs2kMvl4nX/8OHDStf88r4utGjRAg0bNlRIK+516ujRowVeC4vDx8cHMplMYTTw7du3IyMjA2PHjhXTXr9+jeXLl6NJkybQ1taGpqYmtLW1cfPmzTJd80v6nc/f775Dhw6wt7cX/65VKe69X/369VGrVi3MmTMH69evZ2u0txAL1AV49eoVkpOTUadOnQLz1KtXD3/99RfMzc3x4Ycfol69eqhXrx6++uqrEh3Lysqq2HktLS0LTCtLU+HiSE5OVhlr3nuU//impqYKr/OahqWlpRV4jKdPn0IQhBIdpyTyjwiqra1daHp6ejoA4OHDhxAEARYWFtDS0lJYTp06JV4Yc3Jy0L17d+zevRuzZ8/G4cOH8c8//+DUqVMAFM99x44dGD16NDZt2gQ3NzeYmJhg1KhRxeq/VJD871tec+333ntPKe4VK1ZAEAQ8efIET58+RU5OTqHfr6Lkv7heuXIF0dHRChfWly9folOnTjh9+jSWLVuGiIgIREdHY/fu3QCUvxu6urowNDQs8th3795Fp06dcP/+fXz11Vc4fvw4oqOj8e2336rcb17zfFXnWdj36+HDh9i/f7/Se9m0aVMAEL8HI0eOxJYtWxAXF4dBgwbB3Nwc7dq1Q3h4eJHnQkSVw8zMDLq6urhz506x8uf9NhR0fcr/21HYtb2g3+pZs2Yp/b74+voCQKEFsOHDh+Obb77BhAkTcOjQIfzzzz+Ijo5G7dq1C73mFiY5ORmamppK3dQkEgksLS2LvOYDudf9oo6fnJwMS0tLpb7D5ubm0NTUVNs1Hyje57Fq1SpMmTIF7dq1wy+//IJTp04hOjoaPXr0UDj3irguqPqOFfc6lZycXOi1sCgmJibo168fvv/+e3H8kZCQELi6uorHAgA/Pz8sWLAA/fv3x/79+3H69GlER0ejZcuWKr8bxb0nLul3vqD7m6Ku+cW59zMyMsLff/+NVq1aYd68eWjatCnq1KmDRYsWlUtlCVV97ENdgN9//x3Z2dlFTnXVqVMndOrUCdnZ2YiJicHXX3+N6dOnw8LCAkOHDi3WsUoyx6+qwlZeWt7FLK+GMW8wjzxlfRpqamqKhIQEpfQHDx4AgFJ/ldKoVasWpFJphR+npMzMzCCRSHD8+HGVfbXz0i5fvowLFy4gJCQEo0ePFtfnDQ6Wf5/BwcEIDg7G3bt3sW/fPsydOxdJSUniqLJyuVzpcwRyP0tV70P+71Jenq+//rrAETLzBgyTSCSFfr+KUqtWLXh7e+P777/HsmXLsHXrVsjlcgwbNkzMc+TIETx48AARERFirTQApQFuCjqfguzduxevXr3C7t27xdYAQO6YA6qo6hee/+9IFTMzM7Ro0QKfffaZyvVvPoAbO3Ysxo4di1evXuHYsWNYtGgR+vTpgxs3bijESETqoaGhgXfffRd//PEH4uPji5xZI++3ISEhQSnvgwcPlH6TC/v9Kui32t/fHwMHDlS5TUHTQqakpOC3337DokWLMHfuXDE9IyOjTHNom5qa4vXr13j06JFCoVoQBCQmJqJt27al3nf+45w+fRqCICi8L0lJSXj9+rXarvlA8T6P0NBQeHh4YN26dQrrVfWdLeq68Ob925v3GgXdv6n6jhX3OmVqaop//vlHaX1JHuqPHTsWO3fuRHh4OOzs7BAdHa30PuSN47J8+XKF9MePH6vsu1yc635pvvMF3d/Ur1+/wOMU994PAJo3b46ffvoJgiDg4sWLCAkJwZIlS6Cjo6MQI9VMrKFW4e7du5g1axaMjIwwadKkYm2joaGBdu3aiTViec2vi1MrWxL//vsvLly4oJD2448/wsDAQBxgJG+UzosXLyrkyxtx8U3FeXqc59133xULRG/6/vvvoaurWy5TGujp6aFdu3bYvXu3Qlw5OTkIDQ2FjY2NUvOmytCnTx8IgoD79+/DxcVFaWnevDmA/10I8v/wvjlavCp2dnaYOnUqunXrptB038HBQelzvHHjRrGbvbu7u8PY2BhXrlxRGbeLiwu0tbXFUU53794tPqEHcm8I9u/fX6xjAbkX1wcPHuDAgQMIDQ3FgAEDFC6YpX1/iqJqv4IgYOPGjSrzv3jxQunv4ccff4RUKi108Jw+ffqI07aoei9VtWjR09NDz549MX/+fGRmZuLff/8tzSkSUQXw9/eHIAiYOHEiMjMzldZnZWWJv4F5zbdDQ0MV8kRHR+Pq1atlmr6xUaNGaNCgAS5cuFDgb7WBgYHKbSUSCQRBUPpd3bRpk9LMBSW5J8k7n/zn+8svv+DVq1flNl3lu+++i5cvX2Lv3r0K6d9//71CHJWpJJ+HRCJReu8vXryo1A3uTQVdFwq6fyvJdbi41ylPT88Cr4XF1b17d1hbW2Pr1q0qH6IDqt+f33//Hffv3y/2cfIryXc+T95AdnlOnjyJuLi4QivOinvvlz+2li1bYvXq1TA2Nq7w7phUNbz1NdSXL18W+0QkJSXh+PHj2Lp1KzQ0NLBnzx6lpk5vWr9+PY4cOYLevXvDzs4O6enp4mjCXbt2BZDbV9Pe3h6//vor3n33XZiYmMDMzKzQKZ4KU6dOHfTr1w8BAQGwsrJCaGgowsPDsWLFCrE/UNu2bdGoUSPMmjULr1+/Rq1atbBnzx6cOHFCaX/NmzfH7t27sW7dOjg7O0MqlSrMy/2mRYsWiX1zFi5cCBMTE4SFheH333/HypUrYWRkVKpzyi8wMBDdunWDp6cnZs2aBW1tbaxduxaXL1/G9u3bS1SjX17c3d3xwQcfYOzYsYiJiUHnzp2hp6eHhIQEnDhxAs2bN8eUKVPQuHFj1KtXD3PnzoUgCDAxMcH+/fuVmnSlpKTA09MTw4cPR+PGjWFgYIDo6GgcPHhQ4Wn4yJEjMWLECPj6+mLQoEGIi4vDypUrC/1evklfXx9ff/01Ro8ejSdPnuC9996Dubk5Hj16hAsXLuDRo0fi0+SlS5eiR48e4tyr2dnZWLFiBfT09Ipdy9G9e3fY2NjA19cXiYmJCs29gdw+S7Vq1cLkyZOxaNEiaGlpISwsTOkhUUl169YN2traGDZsGGbPno309HSsW7cOT58+VZnf1NQUU6ZMwd27d9GwYUMcOHAAGzduxJQpUxT6AOa3ZMkShIeHo0OHDpg2bRoaNWqE9PR0xMbG4sCBA1i/fj1sbGwwceJE6OjowN3dHVZWVkhMTERgYCCMjIzKrVaHiMrOzc0N69atg6+vL5ydnTFlyhQ0bdoUWVlZOHfuHL777js0a9YMffv2RaNGjfDBBx/g66+/hlQqRc+ePcVRvm1tbTFjxowyxbJhwwb07NkTXl5eGDNmDKytrfHkyRNcvXoVZ8+exc6dO1VuZ2hoiM6dO+OLL74Q7y/+/vtvbN68WakGMG88i++++w4GBgaQy+VwdHRU2TKnW7du8PLywpw5c/D8+XO4u7uLo3y3bt0aI0eOLNP55hk1ahS+/fZbjB49GrGxsWjevDlOnDiB5cuXo1evXuL9VGUr7ufRp08fLF26FIsWLUKXLl1w/fp1LFmyBI6OjgozUxTnutCrVy+YmJhg/PjxWLJkCTQ1NRESEoJ79+4VO+7iXqdGjRqF1atXY9SoUfjss8/QoEEDHDhwAIcOHSr2sTQ0NDBq1CisWrUKhoaGGDhwoNK9YJ8+fRASEoLGjRujRYsWOHPmDL744osiW4QUpiTf+TwxMTGYMGECBg8ejHv37mH+/PmwtrYWm/CrUtx7v99++w1r165F//79UbduXQiCgN27d+PZs2fo1q1bqc+TqpHKHwetasgb9S9v0dbWFszNzYUuXboIy5cvF5KSkpS2yT/6YlRUlDBgwADB3t5ekMlkgqmpqdClSxeFUSIFQRD++usvoXXr1oJMJhMAiKM25+3v0aNHRR5LEHJHdOzdu7ewa9cuoWnTpoK2trbg4OAgrFq1Smn7GzduCN27dxcMDQ2F2rVrCx999JHw+++/K42S+OTJE+G9994TjI2NBYlEonBMqBid/NKlS0Lfvn0FIyMjQVtbW2jZsqXSSJB5ozHu3LlTIT1vdNOiRo4UBEE4fvy48M477wh6enqCjo6O0L59e2H//v0q91eSUb7zx1TQaO8FfTZbtmwR2rVrJ8ZVr149YdSoUUJMTIyY58qVK0K3bt0EAwMDoVatWsLgwYOFu3fvKryf6enpwuTJk4UWLVoIhoaGgo6OjtCoUSNh0aJFCiOP5uTkCCtXrhTq1q0ryOVywcXFRThy5EiBo3znP788f//9t9C7d2/BxMRE0NLSEqytrYXevXsr5d+3b5/QokULQVtbW7CzsxM+//zzAkcdLci8efMEAIKtra3KUVBPnjwpuLm5Cbq6ukLt2rWFCRMmCGfPnlX6bowePVrQ09NTeQxVo3zv379faNmypSCXywVra2vhk08+Ef744w+l73zeKLERERGCi4uLIJPJBCsrK2HevHlKo7mq+ht49OiRMG3aNMHR0VHQ0tISTExMBGdnZ2H+/PnCy5cvBUEQhG3btgmenp6ChYWFoK2tLdSpU0d4//33hYsXLxb7fSSiynP+/Hlh9OjRgp2dnaCtrS3o6ekJrVu3FhYuXKhwP5CdnS2sWLFCaNiwoaClpSWYmZkJI0aMEO7du6ewv4JGoy7qunXhwgXh/fffF8zNzQUtLS3B0tJSeOedd4T169eLeVSNeBwfHy8MGjRIqFWrlmBgYCD06NFDuHz5ssqZIoKDgwVHR0dBQ0ND4XdX1e9qWlqaMGfOHMHe3l7Q0tISrKyshClTpghPnz5VyJd3f5Jf/mtVQZKTk4XJkycLVlZWgqampmBvby/4+/sL6enpSvsrySjfqmICIHz44YcKaQV9LsX5PDIyMoRZs2YJ1tbWglwuF9q0aSPs3btX6f0s7nXhn3/+ETp06CDo6ekJ1tbWwqJFi4RNmzapHOVb1fkJQvGuU4Lwv++Nvr6+YGBgIAwaNEg4efJkse/VBCH3fjPvXjo8PFxp/dOnT4Xx48cL5ubmgq6urtCxY0fh+PHjJbqPKct3Pu8+788//xRGjhwpGBsbCzo6OkKvXr2EmzdvKhynoBlEirr3u3btmjBs2DChXr16go6OjmBkZCS4uroKISEhxXoPqfqTCEIRQ1kTERERERERkRL2oSYiIiIiIiIqBRaoiYiIiIiIiEqBBWoiIiIiIiKiUmCBmoiIiIiIiKgUWKAmIiIiIiIiKgUWqImIiIiIiIhKQVPdAVS2nJwcPHjwAAYGBpBIJOoOh4iIqiBBEPDixQvUqVMHUimfPRMREZFqb12B+sGDB7C1tVV3GEREVA3cu3cPNjY26g6DiIioSpjUUFam7TfcyCinSKqOt65AbWBgACD3JsnQ0FDN0RARUVX0/Plz2NraitcMIiIiIlXeugJ1XjNvQ0NDFqiJiKhQ7BpERET0P+wEpeytK1ATERERERFRyfE5szIWqImIiIiIiKhIrKFWxgI1ERERERERFYk11MpYoCaicpGdnY2srCx1h0FULFpaWtDQ0FB3GERERFTNsUBNRGUiCAISExPx7NkzdYdCVCLGxsawtLTkwGNERETFxCbfyligJqIyyStMm5ubQ1dXl4UTqvIEQUBqaiqSkpIAAFZWVmqOiIiIqHqQ8jZPCQvURFRq2dnZYmHa1NRU3eEQFZuOjg4AICkpCebm5mz+TUREVAwsTytjrX0FiIyMxODBgxEZGanuUEqtJpwDUHPOo6rK6zOtq6ur5kiISi7ve8u+/0RERFRaai1QHzt2DH379kWdOnUgkUiwd+/eIrf5+++/4ezsDLlcjrp162L9+vUVH2gJpKenIygoCA8fPkRQUBDS09PVHVKJpaenY+nSpXj48CGWLl1aLc8BqBmfRXXBZt5UHdWU762DgwOCg4PVHYZKxb22ExFR9SCVCGVaaiK1FqhfvXqFli1b4ptvvilW/jt37qBXr17o1KkTzp07h3nz5mHatGn45ZdfKjjS4gsNDUVycjIAIDk5GWFhYWqOqOQ2bdqE1NRUAEBqaio2b94M7AXgCkDv///dq7bwiq0mfBZE9Ha7d+8exo8fjzp16kBbWxv29vb4+OOPxd+28lCVC+RERFS1SMq41ERqLVD37NkTy5Ytw8CBA4uVf/369bCzs0NwcDCcnJwwYcIEjBs3Dl9++WUFR1o88fHxCAsLgyDkPn0RBAFhYWGIj49Xc2TF93jTY7zr/y4ORR7ChnMb0PFxR9z/9j4wAEA0gNT//3cgqnShuqp/FoIgIC0trcglNTUVT58+xdOnT5GamlqsbfLOmSpWSEgIjI2N1R1GoUpaUIqNjYVEIsH58+crLCYg9wGXubk5YmNjK2T/GRkZsLOzw5kzZypk/5Xl9u3bcHFxwY0bN7B9+3b8999/WL9+PQ4fPgw3Nzc8efJE3SESEdFbRiop21ITVas+1FFRUejevbtCmpeXF2JiYgrsA5eRkYHnz58rLBVBEASsXr26wPTqUMgR9ggwm2gGp5dO0MnRgdNLJyy7ugxT7kxRkRlAYKWHWCzV4bNIT0+Hl5dXkUuPHj3g7e0Nb29v9OjRo1jbsGl70ZKSkjBp0iTY2dlBJpPB0tISXl5eiIqKKvY+hgwZghs3bpTouB4eHpg+fXqx8m7YsAEtW7aEnp4ejI2N0bp1a6xYsaJExyspW1tbJCQkoFmzZhV6nMDAQPTt2xcODg44c+YMJBIJTpw4oTKvl5cX+vXrBwAYM2YMJBIJJBIJtLS0YGFhgW7dumHLli3IyckRt5HJZJg1axbmzJlToedR0T788ENoa2vjzz//RJcuXWBnZ4eePXvir7/+wv379zF//nwx74sXLzB8+HDo6+ujTp06+PrrrxX2FRAQIH7f69Spg2nTpgHI/U7GxcVhxowZ4nsL5D70GDZsGGxsbKCrq4vmzZtj+/btCvv08PDAtGnTMHv2bJiYmMDS0hIBAQGFntOcOXPQsGFD6Orqom7duliwYIHS9XvZsmUwNzeHgYEBJkyYgLlz56JVq1YKebZu3QonJyfI5XI0btwYa9euLclbS0REpSQt41ITVavzSkxMhIWFhUKahYUFXr9+jcePH6vcJjAwEEZGRuJia2tbIbHFxcUhOjoa2dnZCunZ2dmIjo5GXFxchRy3PGUGZCqlSSGFdbq16g3+reCASqkmfBZUsQYNGoQLFy5g27ZtuHHjBvbt2wcPD48S1fjp6OjA3Ny8QuLbvHkz/Pz8MG3aNFy4cAGRkZGYPXs2Xr58WSHHy6OhoQFLS0toalbcBBBpaWnYvHkzJkyYAABwdnZGy5YtsXXrVqW89+7dw19//YXx48eLaT169EBCQgJiY2Pxxx9/wNPTEx9//DH69OmD169fi/l8fHxw/PhxXL16tcLOpSI9efIEhw4dgq+vrzgieR5LS0v4+Phgx44d4gPCL774Ai1atMDZs2fh7++PGTNmIDw8HACwa9curF69Ghs2bMDNmzexd+9eNG/eHACwe/du2NjYYMmSJUhISEBCQgKA3Id+zs7O+O2333D58mV88MEHGDlyJE6fPq0Qy7Zt26Cnp4fTp09j5cqVWLJkiXhcVQwMDBASEoIrV67gq6++wsaNGxUegIaFheGzzz7DihUrcObMGdjZ2WHdunUK+9i4cSPmz5+Pzz77DFevXsXy5cuxYMECbNu2rZTvNhERURkIVQQAYc+ePYXmadCggbB8+XKFtBMnTggAhISEBJXbpKenCykpKeJy7949AYCQkpJSXqELgiAIOTk5gp+fn+Dh4SF06tRJXDw8PISZM2cKOTk55Xq8ivBa/loQICgtr6E6XXBVW6iFqg6fRU5OjpCamlrk8uTJEzH+J0+eFGubyjy/tLQ04cqVK0JaWlqlHbOsnj59KgAQIiIiCs0XFBQkNGvWTNDV1RVsbGyEKVOmCC9evBDXb926VTAyMhJfL1q0SGjZsqXw/fffC/b29oKhoaEwZMgQ4fnz54IgCMLo0aMF5LbtEJc7d+6oPLa3t7cwZsyYQuPr0qWL8PHHHyttN3r0aPG1vb29sHr1avE1AGHt2rVCjx49BLlcLjg4OAg///yzuP7OnTsCAOHcuXNi2uXLl4VevXoJBgYGgr6+vtCxY0fhv//+E9dv2bJFaNy4sSCTyYRGjRoJ3377baFx//LLL4KZmZlC2po1awR9fX3h5cuXCulLliwRLCwshKysLEEQct9Db29vpX0ePnxYACBs3LhRId3Dw0NYsGBBgbEU9v1NSUmpkGtFcZ06darQ6+KqVasEAMLDhw8Fe3t7oUePHgrrhwwZIvTs2VMQhNzvcsOGDYXMzEyV+8r/PSlIr169hJkzZ4qvu3TpInTs2FEhT9u2bYU5c+aIr4u6tq9cuVJwdnYWX7dr10748MMPFfK4u7sLLVu2FF/b2toKP/74o0KepUuXCm5ubkWeAxERlY1/U60yLTVRtaqhtrS0RGJiokJaUlISNDU1C5wDVyaTwdDQUGGpCBKJBDNmzCgwvTqMJittrvrr8ED+ADnIUUyUAJhX8TGVRnX4LCQSCXR0dIpc5HK5uI1cLi/WNlXh/EpsLypt0Dt9fX3o6+tj7969yMjIKDCfVCrFmjVrcPnyZWzbtg1HjhzB7NmzC933rVu3sHfvXvz222/47bff8Pfff+Pzzz8HAHz11Vdwc3PDxIkTxZrAglrMWFpa4tSpUxXSmmLBggViDf2IESMwbNiwAmtx79+/j86dO0Mul+PIkSM4c+YMxo0bJ9YEl6am8NixY3BxcVFI8/HxQVZWFnbu3CmmCYKAkJAQjB49usga83feeQctW7bE7t27FdJdXV1x/PjxQretroT/r5nO+3t3c3NTWO/m5iZ+roMHD0ZaWhrq1q2LiRMnYs+ePQq1+apkZ2fjs88+Q4sWLWBqagp9fX38+eefuHv3rkK+Fi1aKLy2srJCUlJSgfvdtWsXOnbsCEtLS+jr62PBggUK+7x+/TpcXV0Vtnnz9aNHj8SB2vL+lvX19bFs2TLcunWrwOOq6v5V2N8/ERGpxibfyqrVebm5uSk1Jfvzzz/h4uICLS0tNUX1PzY2NvDx8RFvcCQSCXx8fGBtXUCT6SpGMk8CId9w9jnIwbq663DnyzuKBZ49ALzVEGQx2djYoEmTJgppTZo0qTafxVtlLyp10DtNTU2EhIRg27ZtMDY2hru7O+bNm4eLFy8q5Js+fTo8PT3h6OiId955B0uXLsXPP/9c6L5zcnIQEhKCZs2aoVOnThg5ciQOHz4MADAyMoK2tjZ0dXVhaWkJS0tLaGhoqNzPokWLYGxsDAcHBzRq1AhjxozBzz//rNBPuLQGDx6MCRMmoGHDhli6dClcXFyU+tvm+fbbb2FkZISffvoJLi4uaNiwIcaOHYtGjRoBAJYuXYqgoCAMHDgQjo6OGDhwIGbMmIENGzYUePzY2FjUqVNHIc3ExAT9+/dXaPYdERGB27dvY9y4ccU6r8aNGysNcmZtbV1hA59VtPr160MikeDKlSsq11+7dg21atWCmZlZgfvIuxbZ2tri+vXr+Pbbb6GjowNfX1907ty50Pm3g4KCsHr1asyePRtHjhzB+fPn4eXlhcxMxa5B+a+9EomkwO/pqVOnMHToUPTs2RO//fYbzp07h/nz5yvtM/9DQeGNcS/y9r1x40acP39eXC5fvoxTp04VeD75u38ZGRkhMLCKDgRCRFSFSSRlW2oitRaoX758KV4Mgdxpsc6fPy8+rfb398eoUaPE/JMnT0ZcXBz8/Pxw9epVbNmyBZs3b8asWbPUEb5KI0aMEGvLzczM4OPjo+aISqA/INktwTXDa0iVpuKKwRV82uRTnLE5g3oz6wGnAbxE7r9VuDAN5I7y/e+/ip28//333yozyndxSfdJseHcBhyKPARZJ1mVHlm91JarSKvgQe8GDRqEBw8eYN++ffDy8kJERATatGmDkJAQMc/Ro0fRrVs3WFtbw8DAAKNGjUJycjJevXpV4H4dHBxgYGAgvi6qtg4AmjZtKtay9ezZU9wuKioKly5dwrRp05CVlYXRo0ejR48eZS5UF1aTmd/58+fRqVMnlQ8sS1tTmJaWptDyIs/48eNx7Ngx/PfffwCALVu2wN3dXSy8F0UQBKWCmI6OjjgFYHVjamqKbt26Ye3atUhLS1NYl5iYiLCwMAwZMkQ85/yFyVOnTqFx48biax0dHfTr1w9r1qxBRESE+P0CAG1tbaUxJ44fPw5vb2+MGDECLVu2RN26dXHz5s0ynVNkZCTs7e0xf/58uLi4oEGDBkqtMBo1aoR//vlHIS0mJkb8v4WFBaytrXH79m3Ur19fYXF0dCzw2P7+/khJSVFY/P39y3Q+RERvI9ZQK6u4kWeKISYmBp6enuJrPz8/AMDo0aMREhKChIQEhaZgjo6OOHDgAGbMmIFvv/0WderUwZo1azBo0KBKj70gcrkcM2fORHBwMKZPn67yxrEqi7GJgV9LP8XEtNzPKn8zzapK+P/RvFU1fV69ejW+/PLL6tEsei8gGyqDE5xyX59Bbs3tbgD91RZV+StocLsKHvROLpejW7du6NatGxYuXIgJEyZg0aJFGDNmDOLi4tCrVy9MnjwZS5cuhYmJCU6cOIHx48cXWqtXktq6PAcOHBD3mX/wqWbNmqFZs2b48MMPceLECXTq1Al///03PD09IZVKlUasLyy2whT095A/nje9WVPYrl07hXUF1bwDuQ8anz59qpTetWtX2NvbIyQkBLNnz8bu3bvxzTffFCd8AMDVq1eVClRPnjxB7dq1i72Pquabb75Bhw4d4OXlhWXLlsHR0RH//vsvPvnkE1hbW+Ozzz4T80ZGRmLlypXo378/wsPDsXPnTvz+++8Acqd4y87ORrt27aCrq4sffvgBOjo6sLe3B5D7IOjYsWMYOnQoZDIZzMzMUL9+ffzyyy84efIkatWqhVWrViExMRFOTk6lPp/69evj7t27+Omnn9C2bVv8/vvv2LNnj0Kejz76CBMnToSLiws6dOiAHTt24OLFi6hbt66YJyAgANOmTYOhoSF69uyJjIwMxMTE4OnTp+J9RH4ymQwymazUsRMRERVErQ8KPDw8VA11JdYShYSEICIiQmGbLl264OzZs8jIyMCdO3cwefLkyg+8CO7u7ti5cyfc3d3VHUqJ5OTkFDjlSUBAQLk0N60MNWaUbzXU3KpF0xKmV5AmTZqItc8xMTF4/fo1goKC0L59ezRs2BAPHjwo8zFU1QTa29uLNWyFdUnI68KQF2Pt2rXFEZmB3O/35cuXi4yhqJrMN7Vo0QLHjx9XWVAvbU1h69atVTZjlkgkGDt2LLZt24Yff/wRUqkU77//fpHnAwBHjhzBpUuXlB6uXr58Ga1bty7WPqqiBg0aICYmBvXq1cOQIUNQr149fPDBB/D09ERUVBRMTEzEvDNnzsSZM2fQunVrsSm+l5cXAMDY2BgbN26Eu7s7WrRogcOHD2P//v1ia6olS5YgNjYW9erVEx9ALFiwAG3atIGXlxc8PDxgaWmJ/v37l+l8vL29MWPGDEydOhWtWrXCyZMnsWDBAoU8Pj4+8Pf3x6xZs9CmTRvcuXMHY8aMUXg4PWHCBGzatAkhISFo3rw5unTpgpCQkEK/d0REVD44D7UytdZQU9USFRVV4Dzdz58/R1RUVLV4SGBvb4+2bdvi7NmzCoUXDQ0NODs7i7UyVZ6aam4r3Tzk1ry/WdlagYPeJScnY/DgwRg3bhxatGgBAwMDxMTEYOXKlfD2zu3LUK9ePbx+/Rpff/01+vbti8jISKxfv77Mx3ZwcMDp06cRGxsLfX19mJiYQCpVfq45ZcoU1KlTB++88w5sbGyQkJCAZcuWoXbt2mKT7XfeeQd+fn74/fffUa9ePaxevRrPnj0rMoadO3fCxcUFHTt2RFhYGP755x9s3rxZZd6pU6fi66+/xtChQ+Hv7w8jIyOcOnUKrq6uaNSoUalqCr28vODv74+nT5+iVq1aCuvGjh2LJUuWYN68eRg6dCj09PSUts/IyEBiYiKys7Px8OFDHDx4EIGBgejTp49CFyEgt9ny0qVLi3xPqjJ7e3uVU4q9qah+4v379y+0MNy+fXtcuHBBIc3ExAR79+4tdL/5H3gDUNomfyuKlStXYuXKlQpp+edmX7BggUJBu1u3bqhfv75CnuHDh2P48OGFxkdEROVPHWXitWvX4osvvkBCQgKaNm2K4OBgdOrUqcD8GRkZWLJkCUJDQ5GYmAgbGxvMnz+/2OOylFRNbcpOpeDm5lbgKOhGRkZKfS+rquowynexVJGa2wrXH7nN2Ctp0Dt9fX20a9cOq1evRufOndGsWTMsWLAAEydOFJsYt2rVCqtWrcKKFSvQrFkzhIWFlcsARrNmzYKGhgaaNGmC2rVrK42YnKdr1644deoUBg8ejIYNG2LQoEGQy+U4fPiwWKs4btw4jB49GqNGjUKXLl3g6Oio0IWmIIsXL8ZPP/2EFi1aYNu2bQgLC1MawC+Pqakpjhw5gpcvX6JLly5wdnbGxo0bxabtpakpbN68OVxcXFQO8GZnZ4euXbvi6dOnBV70Dh48CCsrKzg4OKBHjx44evQo1qxZg19//VWhqXlUVBRSUlLw3nvvFfmeUNWRmpqKVatW4d9//8W1a9ewaNEi/PXXXxg9erS6QyMiIlR+H+odO3Zg+vTpmD9/Ps6dO4dOnTqhZ8+eBd5DAcD777+Pw4cPY/Pmzbh+/Tq2b99eYGu88iAR8j8+ruGeP38OIyMjpKSkVNgUWtVZTEyMWLPU8XFHjLw3Eg6pDshxyoHeMr1q1Xd306ZN+OGHH8TBikaNGoXx48erO6zi2wsIAwVIhDceAEhQpUZYT09Px507d+Do6Fjtxgt4G0kkEuzZs6fMTXfL6sCBA5g1axYuX76ssoa+PAwePBitW7fGvHkFN3Uo7PvLa4V6pKWloW/fvmLXrkaNGuHTTz/FwIED1R0aEREB+Kyldpm2n38hs+hMb2jXrh3atGmDdevWiWlOTk7o37+/ysqOgwcPYujQobh9+7ZC16iKxBpqUmBpaQkgtzC9/OpyOL10gk6ODvT+1avQqYwqQrUecR0A+gOZ2zNxxeAKUqWpyHHJqVKFaaLS6tWrFyZNmoT79+9XyP4zMjLQsmVLlS1VqGrT0dHBX3/9hSdPnuDVq1c4e/YsC9NERDVIRkYGnj9/rrBkZGSozJuZmYkzZ86ge/fuCundu3fHyZMnVW6zb98+uLi4YOXKlbC2tkbDhg0xa9YspRkzyhML1CTKGx1bKpVi5L2RKjKgWg2IlTfiuoWFBfz8/KplDWpOvxxMbjUZPdx7IONYBgvTVGN8/PHHsLW1rZB9y2QyfPrpp4WOUk5EREQlV9Ym34GBgTAyMlJYCupW9/jxY2RnZ8PCwkIh3cLCAomJiSq3uX37Nk6cOIHLly9jz549CA4Oxq5du/Dhhx+W+dwLwkHJSJQ3OjYAOKQ6qM5UzQbEcnd3rxYDqRFVhreshw8RERGVs7KO1O3v7680cGlR0xrmH/8orzunKjk5OZBIJAgLC4ORkREAYNWqVXjvvffw7bffVsjDdtZQkyhvdGwNDQ3E6saqzlTTBsQiIiIiIqJikZRxkclkMDQ0VFgKKlCbmZlBQ0NDqTY6KSlJqdY6j5WVFaytrcXCNJDb51oQBMTHx5f+xAvBAjWJ3hwd+wfbH5CDfPNOV+BURvT/9kJhtGvpPv6JEhEREdHbR1tbG87OzggPD1dIDw8PR4cOHVRu4+7ujgcPHuDly5di2o0bNyCVSmFjY1MhcfJunRTY2NjAx8cHkbUj8anTp7hicAVZsqwKn8qIkFuYHgAgGkBq7r/aw7TR8XFHtYZVHDk5OUVnIqpi+L0lIiIqGamkbEtJ+fn5YdOmTdiyZQuuXr2KGTNm4O7du5g8eTKA3Cbko0aNEvMPHz4cpqamGDt2LK5cuYJjx47hk08+wbhx4ypsbBX2oSYlI0aMwIEDB3BCOIHrTtcRFhYGLbmWusOq+ZYrJ0kECUbEj8AJsxOVH08xaGtrQyqV4sGDB6hduza0tbWrzzzf9NYSBAGZmZl49OgRpFIptLXLNgUIERHR20KCyh2PZciQIUhOTsaSJUuQkJCAZs2a4cCBA7C3twcAJCQkKMxJra+vj/DwcHz00UdwcXGBqakp3n//fSxbtqzCYuQ81KRSZGQkgoODMX36dA7qVVn0kFsznU+qNBU93Hvg0KFDVXLU4szMTCQkJCA1VUXwRFWYrq4urKysVBaoea0gIiJStrpN2SrZZpzNKqdIqg7WUJNKHB1bDZoit7l3PrF6sZUdSYloa2vDzs4Or1+/RnZ2trrDISoWDQ0NaGpqskUFERFRCbC/sDIWqImqinkABgJvtqQRJAJCbUPVFVGxSSQSaGlpQUuLXQOIiIiI6O3BhwxEVUV/ALuhMMp35k+ZOGFaNftPExEREdHbRSIp21ITsYaaqCrp///L/8tJywG+UVMsREQ12APfWuoOQVRn7VN1h0BEVCysjVXGAjUREREREREVqabWMpcFHzKQSpGRkRg8eDAiIyPVHQoREREREVUB0jIuNVFNPS8qg/T0dAQFBeHhw4cICgpCenq6ukN6O+0FZJ1kCD8RjkORhyCvJc/tX71XzXEREREREREAFqhJhdDQUCQnJwMAkpOTERYWpuaI3kJ7AQwApGekkAky6OToQJIhyZ1WayBYqCYiIiKiSieVlG2piVigJgXx8fEICwuDIOTO3SQIAsLCwhAfH6/myN4yywtZJwAIrKxAiIiIiIhyScq41EQsUJNIEASsXr26wPS8QjZVgn/LuJ6IiIiIqJyxhloZC9QkiouLQ3R0NLKzsxXSs7OzER0djbi4ODVF9hZqWsb1RERERERU4VigJpG9vT3atm0LDQ0NhXQNDQ24urrC3t5eTZG9heah4HYxkv9fT0RERERUiSSSsi01EQvUJJJIJJgxY0aB6ZKa+ldQFfUHsBvIcclBhiQDadI0CDIhd5TvPQC81RseEREREb19OG2Wspp6XlRKNjY28PHxEQvPEokEPj4+sLa2VnNkb6H+QMaxDHTr2A1e7l5If5oOnAYL00RERESkFuxDrYwFalIyYsQImJqaAgDMzMzg4+Oj5oiIiIiIiEjd2ORbGQvUpEQul2PmzJmwsLCAn58f5HK5ukMiIqJqLjY2FhKJBOfPn1d3KEREROWGBWpSyd3dHTt37oS7u7u6QyEioipgzJgxkEgkkEgk0NTUhJ2dHaZMmYKnT5+qOzQiIqokbPKtjAVqIiIiKpYePXogISEBsbGx2LRpE/bv3w9fX191h0VERJVEUsalJmKBmoiIiIpFJpPB0tISNjY26N69O4YMGYI///xTXL9161Y4OTlBLpejcePGWLt2rdI+rl27hg4dOkAul6Np06aIiIhQWH/lyhX06tUL+vr6sLCwwMiRI/H48WNxvYeHB6ZNm4bZs2fDxMQElpaWCAgIqKhTJiKiN0glQpmWmogF6mISBAFpaWlFLqmpqXj69CmePn2K1NTUYm0jCDXzy0VERDXX7du3cfDgQWhpaQEANm7ciPnz5+Ozzz7D1atXsXz5cixYsADbtm1T2O6TTz7BzJkzce7cOXTo0AH9+vVDcnIyACAhIQFdunRBq1atEBMTg4MHD+Lhw4d4//33Ffaxbds26Onp4fTp01i5ciWWLFmC8PDwyjlxIqK3GJt8K9NUdwDVRXp6Ory8vCpk34cOHYKOjk6F7JuIiKi8/Pbbb9DX10d2djbS09MBAKtWrQIALF26FEFBQRg4cCAAwNHREVeuXMGGDRswevRocR9Tp07FoEGDAADr1q3DwYMHsXnzZsyePRvr1q1DmzZtsHz5cjH/li1bYGtrixs3bqBhw4YAgBYtWmDRokUAgAYNGuCbb77B4cOH0a1bt4p/E4iIiN7AAjUREREVi6enJ9atW4fU1FRs2rQJN27cwEcffYRHjx7h3r17GD9+PCZOnCjmf/36NYyMjBT24ebmJv5fU1MTLi4uuHr1KgDgzJkzOHr0KPT19ZWOfevWLYUC9ZusrKyQlJRUYNwZGRnIyMhQTMsWINOoodUlREQVpKZOfVUWLFAXk1wux6FDh4rMl56eDm9vbwDAr7/+WqwppzgtFRERVQd6enqoX78+AGDNmjXw9PTE4sWLMXXqVAC5zb7btWunsI2GhkaR+5X8/x1aTk4O+vbtixUrVijlsbKyEv+f18z8ze1zcnIK3H9gYCAWL16skObnIsPMtmwdRkRUEuwvrIwF6mKSSCQlbpYtl8vZlJuIiGqsRYsWoWfPnpgyZQqsra1x+/Zt+Pj4FLrNqVOn0LlzZwC5NdhnzpwRC+Rt2rTBL7/8AgcHB2hqlt8tir+/P/z8/BTSkj+xK7f9ExG9LVhDrYwPGYiqkr0AXAHo5f4r3cc/USKqujw8PNC0aVMsX74cAQEBCAwMxFdffYUbN27g0qVL2Lp1q9jHOs+3336LPXv24Nq1a/jwww/x9OlTjBs3DgDw4Ycf4smTJxg2bBj++ecf3L59G3/++SfGjRuH7OzsUscpk8lgaGiosLC5NxERlQferRNVFXsBDAAQDSA191/tYdro+LijWsMiIiqMn58fNm7cCC8vL2zatAkhISFo3rw5unTpgpCQEDg6Oirk//zzz7FixQq0bNkSx48fx6+//gozMzMAQJ06dRAZGYns7Gx4eXmhWbNm+Pjjj2FkZASplLcsRETqxlG+lUmEt2zOpufPn8PIyAgpKSkwNDQs9/2npaWJo4Fz9G4qEVfkFqbzuWJwBZNbTeb3iagSVfS1gtTvgW8tdYcgqrP2qbpDICIqll89ytYdxzvidTlFUnXwcS9RVfGv6mSHVw6VGgYRERERkSqSMi6lsXbtWjg6OkIul8PZ2RnHjx8v1naRkZHQ1NREq1atSnnk4mGBmqiqaKo6OVYvtlLDICIiIiJSpbKbfO/YsQPTp0/H/Pnzce7cOXTq1Ak9e/bE3bt3C90uJSUFo0aNwrvvvlvKMy0+FqiJqop5UHp0J0gEhNqGqiUcIiIiIiJ1WrVqFcaPH48JEybAyckJwcHBsLW1xbp16wrdbtKkSRg+fDjc3NwqPEYWqImqiv4AdkNhlO/MnzJxwvSEWsMiIiIiIgJyp80qy1ISmZmZOHPmDLp3766Q3r17d5w8ebLA7bZu3Ypbt25h0aJFpTnFEmOBmmq0TZs2wcPDA5s2bVJ3KMXTH8BpAC9z/83pm6PeeIiIiIiI/l9Zm3xnZGTg+fPnCktGRobKYz1+/BjZ2dmwsLBQSLewsEBiYqLKbW7evIm5c+ciLCwMmpplG0CtuFigphrr2bNnCA0NRU5ODkJDQ/Hs2TN1h0REREREVG1Jy7gEBgbCyMhIYQkMDCz0mJJ8VduCICilAUB2djaGDx+OxYsXo2HDhmU6z5KonGI7kRrMnz8fOTm5Nbw5OTn49NNP8c0336g5KiIiIiKi6qmkzbbz8/f3h5+fn0KaTCZTmdfMzAwaGhpKtdFJSUlKtdYA8OLFC8TExODcuXOYOnUqgNwygCAI0NTUxJ9//ol33nmnbCegAgvUVCPFxMTg0qVLCmkXL15ETEwMXFxc1BQVEREREdHbSyaTFViAzk9bWxvOzs4IDw/HgAEDxPTw8HB4e3sr5Tc0NFS6/1+7di2OHDmCXbt2wdHRsWzBF4AFaqpxcnJyEBAQoHJdQEAA9u3bB6mUvR2IiIiIiEqiNFNflYWfnx9GjhwJFxcXuLm54bvvvsPdu3cxefJkALk13vfv38f3338PqVSKZs2aKWxvbm4OuVyulF6eWKCmGicqKgrPnz9Xue758+eIioqCu7t7JUdFRERERFS9lbXJd0kNGTIEycnJWLJkCRISEtCsWTMcOHAA9vb2AICEhIQi56SuaGqvplu7di0cHR0hl8vh7OyM48ePF5o/LCwMLVu2hK6uLqysrDB27FgkJydXUrRUHbi5ucHQ0FDlOiMjo0qZj46IiIiIqKYp66BkpeHr64vY2FhkZGTgzJkz6Ny5s7guJCQEERERBW4bEBCA8+fPl/LIxaPWAvWOHTswffp0zJ8/H+fOnUOnTp3Qs2fPAp8ynDhxAqNGjcL48ePx77//YufOnYiOjsaECRMqOXKqyqRSaYFNvhcvXszm3kREREREVC7UWrJYtWoVxo8fjwkTJsDJyQnBwcGwtbXFunXrVOY/deoUHBwcMG3aNDg6OqJjx46YNGkSYmJiKjlyqupcXFzQvHlzhbQWLVqgTZs2aoqIiIiIiKh6k0qEMi01kdr6UGdmZuLMmTOYO3euQnr37t1x8uRJldt06NAB8+fPx4EDB9CzZ08kJSVh165d6N27d4HHycjIUJgsvKC+tVTzfPbZZ+jfvz9ycnIglUqxbNkydYdERERVhNXHvuoOQSRcnq7uEESSZsHqDoGIqrDK7kNdHaithvrx48fIzs5WmkPMwsJCaa6xPB06dEBYWBiGDBkCbW1tWFpawtjYGF9//XWBx8k/ebitrW25ngdVXcbGxhgxYgSkUilGjBgBY2NjdYdERERERFRtSSVlW2oitXcmleR7zCEIglJanitXrmDatGlYuHAhzpw5g4MHD+LOnTvisOmq+Pv7IyUlRVzu3btXrvFT1TZhwgRERESwnz0RERERURlJyrjURGpr8m1mZgYNDQ2l2uikpCSlWus8gYGBcHd3xyeffAIgt0+snp4eOnXqhGXLlsHKykppm5JMHk5UVoIgID09vdz29+a+ynO/ACCXywt8eEVEREREREVTW4FaW1sbzs7OCA8Px4ABA8T08PBweHt7q9wmNTUVmpqKIWtoaADILcgQqVt6ejq8vLwqZN8F/V2U1qFDh6Cjo1Ou+yQiIiKimqumNtsuC7UVqAHAz88PI0eOhIuLC9zc3PDdd9/h7t27YhNuf39/3L9/H99//z0AoG/fvpg4cSLWrVsHLy8vJCQkYPr06XB1dUWdOnXUeSpEREREREQ1GgvUytRaoB4yZAiSk5OxZMkSJCQkoFmzZjhw4ADs7e0BAAkJCQpzUo8ZMwYvXrzAN998g5kzZ8LY2BjvvPMOVqxYoa5TICrQHADaZdyHACDr//+vhbL3PckEwL8WIiIiIioN9hZUptYCNQD4+vrC11f11BUhISFKaR999BE++uijCo6KqOy0AWiXw/AL5TsCALtGUNVU3PEHBEEQp0KUyWTFGgeA4wUQERGVD7WPaF0Fqb1ATUREVJHjD3C8ACIiIqooLFATERERERFRkdjgSxkL1KRSZGQkgoODMX36dLi7u6s7HCKq4eRyOQ4dOlRkvvT0dHHE+19//RVyubxY+yYiIqKyYxcqZWwGT0rS09MRFBSEhw8fIigoqNznPyYiyk8ikUBHR6fI5c3CsVwuL9Y2vPhXLRKJBHv37i3TPsaMGYP+/fuLrz08PDB9+vQy7ZOIiIomkZZtqYlq6GlRWYSGhiI5ORkAkJycjLCwMDVHRERE1UVSUhImTZoEOzs7yGQyWFpawsvLC1FRUQByZ/Do2bOnmqMkIqLSkEgkZVpqIjb5JgXx8fEICwuDIOSOBi0IAsLCwuDl5QUbGxs1R0dERFXdoEGDkJWVhW3btqFu3bp4+PAhDh8+jCdPngAALC0t1RwhERFR+WENNYkEQcDq1asLTM8rZBOVVGRkJAYPHozIyEh1h0JEFejZs2c4ceIEVqxYAU9PT9jb28PV1RX+/v7o3bs3AOUm3/fv38eQIUNQq1YtmJqawtvbG7GxseL67Oxs+Pn5wdjYGKamppg9ezavR0REaiKRlG2piVigJlFcXByio6ORnZ2tkJ6dnY3o6GjExcWpKTKqztgnn+jtoa+vD319fezdu1ecL7wwqamp8PT0hL6+Po4dO4YTJ05AX18fPXr0QGZmJgAgKCgIW7ZswebNm3HixAk8efIEe/bsqehTISIiFdjkWxkL1CSyt7dH27ZtoaGhoZCuoaEBV1dX2Nvbqykyqs7YJ5/o7aGpqYmQkBBs27YNxsbGcHd3x7x583Dx4kWV+X/66SdIpVJs2rQJzZs3h5OTE7Zu3Yq7d+8iIiICABAcHAx/f38MGjQITk5OWL9+PYyMjCrxrIiIKA8L1MpYoCaRRCLBjBkzCkyvqX8EVHEK6pMfHx+v5siIqKIMGjQIDx48wL59++Dl5YWIiAi0adMGISEhSnnPnDmD//77DwYGBmLttomJCdLT03Hr1i2kpKQgISEBbm5u4jaamppwcXEpUUwZGRl4/vy5wpKR+bqsp0pERMQCNb1hL2Az0AYHTxzEhnMb0PFxRwBAkyZNYG1trd7YqNphn3yit5dcLke3bt2wcOFCnDx5EmPGjMGiRYuU8uXk5MDZ2Rnnz59XWG7cuIHhw4eXWzyBgYEwMjJSWAI3nCy3/RMRvS3Yh1oZC9SUay+AAQCiAdlrGZxeOmHZ1WXo+Lgj/v33X9YoUomxTz4R5WnSpAlevXqllN6mTRvcvHkT5ubmqF+/vsKSV/C1srLCqVOnxG1ev36NM2fOlOj4/v7+SElJUVj8J3Uo83kREb1t2ORbGQvUlGu5cpIUUoyIHwEArFGkEmOffKK3T3JyMt555x2Ehobi4sWLuHPnDnbu3ImVK1fC29tbKb+Pjw/MzMzg7e2N48eP486dO/j777/x8ccfiw9yP/74Y3z++efYs2cPrl27Bl9fXzx79qxEcclkMhgaGiosMm3OHEpEVFKsoVbGqwnl+ld1ssMrB4UaRQcHh0oNi6qvvL73I0eOVJleU59SEr3N9PX10a5dO6xevRq3bt1CVlYWbG1tMXHiRMybN08pv66uLo4dO4Y5c+Zg4MCBePHiBaytrfHuu+/C0NAQADBz5kwkJCRgzJgxkEqlGDduHAYMGICUlJTKPj0ioreeRMr7t/xYoKZcTQFEKyfH6sVCQ0MDzs7OrFGkErOxsYGPjw9++OEHCIIAiUQCHx8f9sknqqFkMhkCAwMRGBhYYJ78rZ0sLS2xbdu2AvNramoiODgYwcHBBebJGxGciIiosrHJN+WaByDfA6cc5CDUNpQ1ilQmI0aMgKmpKQDAzMwMPj4+ao6IiIiIiEqDTb6VsUBNufoD2A3AFciSZeGKwRV82uRTRJpFskaRykQul2PmzJmwsLCAn58f5HK5ukMiIiIiolLgoGTK2OSb/qd/7pKdno1Ph3+Kx48fo7ZZbdYoUpm5u7vD3d1d3WEQERERURnU0DJxmbCGmpTI5XL06tULUqkUPXv2rNY1ipGRkRg8eDAiIyPVHQoRERERUbWmjhrqtWvXwtHREXK5HM7Ozjh+/HiBeXfv3o1u3bqhdu3aMDQ0hJubGw4dOlTa0y0WFqhJSXp6Og4cOICcnBwcOHAA6enp6g6pVNLT0xEUFISHDx8iKCio2p4HEREREdHbaMeOHZg+fTrmz5+Pc+fOoVOnTujZsyfu3r2rMv+xY8fQrVs3HDhwAGfOnIGnpyf69u2Lc+fOVViMLFCTktDQUCQnJwPInVM0LCxMzRGVTk05DyIiIiKiqqCya6hXrVqF8ePHY8KECXByckJwcDBsbW2xbt06lfmDg4Mxe/ZstG3bFg0aNMDy5cvRoEED7N+/v6ynXiAWqElBfHw8wsLCxGlNBEFAWFgY4uPj1RxZydSU86gp2PSeiIiIqPqrzFG+MzMzcebMGXTv3l0hvXv37jh58mSx9pGTk4MXL17AxMSkZAcvARaoSSQIAlavXl1gev65Q6uqmnIeNQWb3hMRERHVDGWtoc7IyMDz588VloyMDJXHevz4MbKzs2FhYaGQbmFhgcTExGLFGxQUhFevXuH9998v87kXhAVqEsXFxSE6OhrZ2dkK6dnZ2YiOjkZcXJyaIiuZmnIeNQWb3hMRERERAAQGBsLIyEhhCQwMLHSb/E3FBUEoVvPx7du3IyAgADt27IC5uXmZ4i4MC9Qksre3R9u2baGhoaGQrqGhAVdXV9jb26spspKpKedRE7DpPREREVHNIZGWbfH390dKSorC4u/vr/JYZmZm0NDQUKqNTkpKUqq1zm/Hjh0YP348fv75Z3Tt2rXczl8VFqhJJJFIMGPGjALTq8tk7DXlPKo7Nr0nIiIiqlnK2uRbJpPB0NBQYZHJZCqPpa2tDWdnZ4SHhyukh4eHo0OHDgXGuH37dowZMwY//vgjevfuXa7nrwoL1KTAxsYGPj4+YqFTIpHAx8cH1tbWao6sZGrKeVRnbHpPREREVLNU5qBkAODn54dNmzZhy5YtuHr1KmbMmIG7d+9i8uTJAHJrvEeNGiXm3759O0aNGoWgoCC0b98eiYmJSExMREpKSnm9BUpYoCYlI0aMgKmpKYDcphY+Pj5qjqh0asp5VFdsek9ERERUs1T2tFlDhgxBcHAwlixZglatWuHYsWM4cOCAeB+ZkJCgMCf1hg0b8Pr1a3z44YewsrISl48//rjc3oP8NCtsz1RtyeVyzJw5E8HBwZg+fTrkcrm6QyqVmnIe1VVeE/uRI0eqTGfTeyJSq2N71R3B/+RUnS4wDzeYqjsEkcXXyeoOgYiqAF9fX/j6+qpcFxISovA6IiKi4gPKhwVqUsnd3R3u7u7qDqPMasp5VFd5Te9/+OEHcURGNr0nIiIiqp5YIaKMTb5JpcjISAwePBiRkZHqDoWqOTa9JyIiIqoZKrsPdXXAAjUpSU9Px/Lly/Hw4UMsX74c6enp6g6JqjG5XI5evXpBKpWiZ8+ebHpPREREVE1Vdh/q6oAFalISEhKCFy9eAABevHiBbdu2qTkiqs7S09Nx4MAB5OTk4MCBA3xAQ0RERFRNlXUe6pqohp4WlVZ8fDy2b9+ukPbjjz8iPj5eTRFRdRcaGork5NyBZZKTkxEWFqbmiIiIiIiIygcL1CQSBAGBgYEQBKFY6URFiY+PR1hYmPjdEQQBYWFhfEBDREREVA2xybcyFqhJFBsbi0uXLqlcd+nSJcTGxlZuQOWAg6upjyAIWL16dYHpfEBDREREVL1wUDJlLFBTjZWeno6goCA8fPgQQUFB7LtbyeLi4hAdHY3s7GyF9OzsbERHRyMuLk5NkRERERFRabCGWhkL1CRycHBAixYtVK5r2bIlHBwcKjegMmLfXfWyt7dH27ZtlX48JRIJXF1dYW9vr6bIiIiIiIjKBwvUJJJIJJg7d65SAUgqlapMr8rYd1f9JBIJhg0bprJP/rBhw6rV94mIiIiIWEOtCgvUpMDGxgbDhg1TSBs2bBisra3VFFHJse9u1SAIArZv366yhvrHH3/k50BUTTg4OCA4OFjdYRARURXAPtTKWKAmJWPGjIGuri4AQFdXF6NHj1ZzRCXDvrtVQ97noKqGmp8DUdkkJSVh0qRJsLOzg0wmg6WlJby8vBAVFQUg98HV3r17K+TYFbnvwrBgT0SkfqyhVqap7gCoanqzqXR1k9d39+zZswqFag0NDTg7O7PvbiXh50BUcQYNGoSsrCxs27YNdevWxcOHD3H48GE8efJE3aGpVXZ2NiQSCaRS1hcQEVWEGlomLhNecUhJSEgI0tLSAABpaWnYtm2bmiMqGYlEghkzZhSYXlOfjlU1/ByIKsazZ89w4sQJrFixAp6enrC3t4erqyv8/f3Ru3dvcQDJAQMGQCKRiK9v3boFb29vWFhYQF9fH23btsVff/2lsO+kpCT07dsXOjo6cHR0VBrMsaB9Ozg4FFoTcf/+fQwZMgS1atWCqakpvL29FaZiHDNmDPr3748vv/wSVlZWMDU1xYcffoisrCwAgIeHB+Li4sTfjrx9h4SEwNjYGL/99huaNGkCmUzG1i9ERFSpWKAmBfHx8di+fbtC2o8//ljtBvOysbGBj4+PeNMlkUjg4+NTrfqC1wT8HIjKn76+PvT19bF3715kZGQorY+OjgYAbN26FQkJCeLrly9folevXvjrr79w7tw5eHl5oW/fvrh796647ZgxYxAbG4sjR45g165dWLt2LZKSkorcd3R0NBISEpCQkID4+Hi0b98enTp1AgCkpqbC09MT+vr6OHbsGE6cOAF9fX306NEDmZmZ4r6PHj2KW7du4ejRo9i2bRtCQkIQEhICANi9ezdsbGywZMkS8Th5UlNTERgYiE2bNuHff/+Fubl5ebzNRESkgkQqKdNSE7FATSJBEBAYGKiyz6uq9KpuxIgRMDU1BQCYmZnBx8dHzRG9nfg5EJUvTU1NhISEYNu2bTA2Noa7uzvmzZuHixcvAgBq164NADA2NoalpaX4umXLlpg0aRKaN2+OBg0aYNmyZahbty727dsHALhx4wb++OMPbNq0CW5ubnB2dsbmzZvFFkuF7bt27dqwtLSEpaUlVq5ciYSEBPzyyy8AgJ9++glSqRSbNm1C8+bN4eTkhK1bt+Lu3buIiIgQ912rVi188803aNy4Mfr06YPevXvj8OHDAAATExNoaGjAwMBAPE6erKwsrF27Fh06dECjRo2gp6dXEW87EREBHJVMBRaoSRQbG4tLly6pXHfp0iWF5nnVgVwuR69evSCVStGzZ0/I5XJ1h/RWksvlmDlzJiwsLODn58fPgagcDBo0CA8ePMC+ffvg5eWFiIgItGnTRqzRVeXVq1eYPXs2mjRpAmNjY+jr6+PatWtiDfXVq1ehqakJFxcXcZvGjRvD2Ni42HF999132Lx5M3799VexsH3mzBn8999/MDAwEGvXTUxMkJ6ejlu3bonbNm3aFBoaGuJrKysrhdrxgmhra6NFixaF5snIyMDz588VloysnGKfFxER5WJ5WhkHJaMaKz09HQcOHEBOTg4OHDiAESNGsDCnJu7u7nB3d1d3GEQ1ilwuR7du3dCtWzcsXLgQEyZMwKJFizBmzBiV+T/55BMcOnQIX375JerXrw8dHR289957YrPrvFZIpR3fICIiAh999BG2b9+Oli1biuk5OTlwdnZW6o8N/K/GGwC0tLQU1kkkEuTkFF3o1dHRKTLmwMBALF68WCFtYR8zBPRj83AiohKpoc22y4I11CRycHAo8Cl/y5YtxcFnqovQ0FAkJycDAJKTk1XezBER1RRNmjTBq1evAOQWTvNPHXj8+HGMGTMGAwYMQPPmzWFpaanQ8sjJyQmvX79GTEyMmHb9+nU8e/ZMYT+q9v3ff/9h0KBBmDdvHgYOHKiwrk2bNrh58ybMzc1Rv359hcXIyKjY56etra103OLy9/dHSkqKwuLf06xU+yIiInqT2gvUa9euhaOjI+RyOZydnXH8+PFC82dkZGD+/Pmwt7eHTCZDvXr1sGXLlkqKtmaTSCSYO3dugenVaVTm+Ph4hIWFKUz/FRYWVu0GVyMiyi85ORnvvPMOQkNDcfHiRdy5cwc7d+7EypUr4e3tDSD3Aenhw4eRmJiIp0+fAgDq16+P3bt34/z587hw4QKGDx+uUAPcqFEj9OjRAxMnTsTp06dx5swZTJgwATo6OgrHz7/vtLQ09O3bF61atcIHH3yAxMREcQEAHx8fmJmZwdvbG8ePH8edO3fw999/4+OPPy7Rb7KDgwOOHTuG+/fv4/HjxyV6z2QyGQwNDRUWmZbab4GIiKodzkOtTK1Xkx07dmD69OmYP38+zp07h06dOqFnz54KI47m9/777+Pw4cPYvHkzrl+/ju3bt6Nx48aVGHXNZmNjg6ZNmyqkNW3atFqNyiwIAlavXl1genUbXI2I6E36+vpo164dVq9ejc6dO6NZs2ZYsGABJk6ciG+++QYAEBQUhPDwcNja2qJ169YAgNWrV6NWrVro0KED+vbtCy8vL7Rp00Zh31u3boWtrS26dOmCgQMH4oMPPlAaNTv/vh8+fIhr167hyJEjqFOnDqysrMQFAHR1dXHs2DHY2dlh4MCBcHJywrhx45CWlgZDQ8Nin/eSJUsQGxuLevXqKTQVJyKiysM+1MokghpLF+3atUObNm2wbt06Mc3JyQn9+/dHYGCgUv6DBw9i6NChuH37NkxMTEp1zOfPn8PIyAgpKSklupAXV1paGry8vAAAhw4dUnqyX9XFx8dj5MiRCs3qNDU18f3338PGxkaNkRVfbGwsRo0aVeD677//vsKar7/5+S8AoI2q9cuRCQFL////1fH7SVRZv7EVfa0g9RM2Ni06U2XJqToPepMuP1R3CCKLr5PVHQIR5ZMyr06Ztjda/qCcIqk61FZDnZmZiTNnzqB79+4K6d27d8fJkydVbrNv3z64uLhg5cqVsLa2RsOGDTFr1iyFKT3yUzWyJ6lWU2p27e3t0bZtW4XRYgFAQ0MDrq6usLe3V1NkNYsgCEhLSytySU1NxdOnT/H06VOkpqYWa5vq8l0jIiIioreb2kb5fvz4MbKzs2FhYaGQbmFhIfa7yu/27ds4ceIE5HI59uzZg8ePH8PX1xdPnjwpsB+1qpE9SbW4uDhER0crpWdnZyM6OhpxcXHVYmAyiUSCGTNmYOTIkSrTa2r/jcqWnp4u1hSWN9aeExEREVU9Eo7yrUTtI3LkL9wIglBggScnJwcSiQRhYWFwdXVFr169sGrVKoSEhBRYS51/ZM979+6V+znUFDWpZtfGxgY+Pj7id0kikcDHx6da9QUnIiIiIqpSJGVcaiC11VCbmZlBQ0NDqTY6KSlJqdY6j5WVFaytrRWm2XBycoIgCIiPj0eDBg2UtpHJZJDJZOUbfA1V02p2R4wYgQMHDuDx48cwMzODj4+PukOqUeRyOQ4dOlRkvvT0dHHk4V9//bVYc4FzvnAiIiKiqqe6lQcqg9pqqLW1teHs7Izw8HCF9PDwcHTo0EHlNu7u7njw4AFevnwppt24cQNSqbTaDJhV1dnY2GDIkCEKaUOGDKmWNbtyuRwzZ86EhYUF/Pz8WEgrZxKJBDo6OkUub77vcrm8WNvwx5qIiIioCpKWcamB1Hpafn5+2LRpE7Zs2YKrV69ixowZuHv3LiZPngwgt7n2m6M1Dx8+HKamphg7diyuXLmCY8eO4ZNPPsG4cePY35JUcnd3x86dO+Hu7q7uUIiIiIiIqIZRa4F6yJAhCA4OxpIlS9CqVSscO3YMBw4cEPvqJiQkKMxJra+vj/DwcDx79gwuLi7w8fFB3759sWbNGnWdQo0THx+PHTt2KKTt2LED8fHxaopIGUeXJiIiIiKqfBKJpExLaaxduxaOjo6Qy+VwdnbG8ePHC83/999/w9nZGXK5HHXr1sX69etLddziUlsf6jy+vr7w9fVVuS4kJEQprXHjxkrNxKl8FDVt1pdfflklmuJydGkiIiIiospX2WWBHTt2YPr06Vi7di3c3d2xYcMG9OzZE1euXIGdnZ1S/jt37qBXr16YOHEiQkNDERkZCV9fX9SuXRuDBg2qkBhraEt2Ko28abOys7MV0t+cNouIiIiIiN5SlTzK96pVqzB+/HhMmDABTk5OCA4Ohq2tLdatW6cy//r162FnZ4fg4GA4OTlhwoQJGDduHL788suSH7yY1F5DTVVH3rRZZ8+eVShUa2howNnZucpMm8XRpYmIiIiIKl9lzkOdmZmJM2fOYO7cuQrp3bt3x8mTJ1VuExUVhe7duyukeXl5YfPmzcjKyoKWlla5x8kCNYmqy7RZeaNLl0Te6NJERERERKQeGRkZyMjIUEgraJrjx48fIzs7W2lKZQsLC6Wpl/MkJiaqzP/69Ws8fvwYVlZWZTwDZcUuUO/bt6/YO+3Xr1+pgiH1s7GxgY+PD3744QcIggCJRAIfH59qOW0WERERERGVozJWsAUGBmLx4sUKaYsWLUJAQEAhh1Q8Zl4ZpST5VaWXl2IXqPv376/wWiKRKIyI/GaA+fvgUvUyYsQIHDhwAI8fP4aZmRl8fHzUHRIREREREalZWcuk/v7+8PPzU0hTVTsNAGZmZtDQ0FCqjU5KSlKqhc5jaWmpMr+mpiZMTU3LEHnBil2gzsnJEf//119/Yc6cOVi+fDnc3NwgkUhw8uRJfPrpp1i+fHmFBEqVRy6XY+bMmQgODsb06dPZr5iIiGoe957qjuB/Ys+qOwLRhm//U3cIImPn8u/rWFrTzmSpOwSiqqGMfagLat6tira2NpydnREeHo4BAwaI6eHh4eI4Sfm5ublh//79Cml//vknXFxcKqT/NFDKPtTTp0/H+vXr0bFjRzHNy8sLurq6+OCDD3D16tVyC5DUw93dHe7u7uoOg4iIiIiI3lJ+fn4YOXIkXFxc4Obmhu+++w53797F5MmTAeTWeN+/fx/ff/89AGDy5Mn45ptv4Ofnh4kTJyIqKgqbN2/G9u3bKyzGUhWob926BSMjI6V0IyMjxMbGljUmIiIiIiIiqmIqe5DiIUOGIDk5GUuWLEFCQgKaNWuGAwcOiLMPJSQk4O7du2J+R0dHHDhwADNmzMC3336LOnXqYM2aNRU2BzVQygJ127ZtMX36dISGhoojpSUmJmLmzJlwdXUt1wCJiIiIiIhI/dQx6Y+vry98fX1VrgsJCVFK69KlC86erbyuNNLSbLRlyxYkJSXB3t4e9evXR/369WFnZ4eEhARs3ry5vGMkNYiMjMTgwYMRGRmp7lCIiIiIiKgqkEjKttRApaqhrl+/Pi5evIjw8HBcu3YNgiCgSZMm6Nq1a5WZq5hKLz09HUFBQXj8+DGCgoLg7OzMgcmIkPugKW+wPo4xQERERG8bSRkHJauJSlWgBnLbz3fv3h2dO3eGTCZjQboGCQ0NRXJyMgAgOTkZYWFhGD9+vJqjIlIvPmgiIiIiovxK1eQ7JycHS5cuhbW1NfT19XHnzh0AwIIFC9jku5qLj49HWFiYOMe4IAgICwtDfHy8miMjUi9VD5qIiIiI3iqSMi41UKkK1MuWLUNISAhWrlwJbW1tMb158+bYtGlTuQVHlUsQBKxevbrA9LxCNtHbhg+aiIiIiHJbKZdlqYlKVaD+/vvv8d1338HHxwcaGhpieosWLXDt2rVyC44qV1xcHKKjo5Gdna2Qnp2djejoaMTFxakpMiL14YMmIiIiov8nlZRtqYFKVaC+f/8+6tevr5Sek5ODrKysMgdF6mFvb4+2bdsqPCQBAA0NDbi6uorzvRG9TfigiYiIiCgXB/lWVqoCddOmTXH8+HGl9J07d6J169ZlDorUQyKRYMaMGQWm19RmGkSF4YMmIiIiIipIqQrUixYtwtSpU7FixQrk5ORg9+7dmDhxIpYvX46FCxeWd4xUiWxsbODj4yMWniUSCXx8fGBtba3myIjUgw+a6G2RlJSESZMmwc7ODjKZDJaWlvDy8kJUVBSA3O/83r171RskERGpF6uolZSqQN23b1/s2LEDBw4cgEQiwcKFC3H16lXs378f3bp1K+8YqZKNGDFCnA5IR0cHPj4+ao6ISL34oIneBoMGDcKFCxewbds23LhxA/v27YOHhweePHlS7H2w2xcRUc3GQcmUlapADQBeXl74+++/8fLlS6SmpuLEiRPo3r17ecZGapKeno60tDQAQGpqKtLT09UcEZH6jRgxAqampgAAMzMzPmiiGuXZs2c4ceIEVqxYAU9PT9jb28PV1RX+/v7o3bs3HBwcAAADBgyARCIRXwcEBKBVq1bYsmUL6tatC5lMBkEQcPDgQXTs2BHGxsYwNTVFnz59cOvWLfF4mZmZmDp1KqysrCCXy+Hg4IDAwEBxfUBAgFhTXqdOHUybNk1h29mzZ8Pa2hp6enpo164dIiIiKuNtIiJ660mkZVtqohp6WlQW/v7+Cq/nzZunpkiIqg65XI6ZM2fCwsICfn5+YisOoppAX18f+vr62Lt3LzIyMpTWR0dHAwC2bt2KhIQE8TUA/Pfff/j555/xyy+/4Pz58wCAV69ewc/PD9HR0Th8+DCkUikGDBiAnJwcAMCaNWuwb98+/Pzzz7h+/TpCQ0PFQvquXbuwevVqbNiwATdv3sTevXvRvHlz8Xhjx45FZGQkfvrpJ1y8eBGDBw9Gjx49cPPmzQp6d4iISMQm30o0i5uxVq1axa6mL0nzMKpaYmJi8O+//yqkXb58GTExMXBxcVFTVERVg7u7O9zd3dUdBlG509TUREhICCZOnIj169ejTZs26NKlC4YOHYoWLVqgdu3aAABjY2NYWloqbJuZmYkffvhBzAPkNh9/0+bNm2Fubo4rV66gWbNmuHv3Lho0aICOHTtCIpEoDO539+5dWFpaomvXrtDS0oKdnR1cXV0BALdu3cL27dsRHx+POnXqAABmzZqFgwcPYuvWrVi+fHmFvD9EREQFKXaBOjg4uALDoKogJyenwEHlFi5ciN9++w1SKRs1EBHVRIMGDULv3r1x/PhxREVF4eDBg1i5ciU2bdqEMWPGFLidvb29QmEayC34LliwAKdOncLjx4/Fmum7d++iWbNmGDNmDLp164ZGjRqhR48e6NOnj9htbPDgwQgODkbdunXRo0cP9OrVC3379oWmpibOnj0LQRDQsGFDheNlZGSIXTJUycjIUKp51858DZl2sW+DiIgIqLH9oMui2FeS0aNHV2QcaiMIQpn6CEv3SaH1hRYkVyUQnARkT//fXLXl3fdYLpdX6Jc4KioKL1++VLnu5cuXiIqKYu0cEVENJpfL0a1bN3Tr1g0LFy7EhAkTsGjRokIL1Hp6ekppffv2ha2tLTZu3Ig6deogJycHzZo1Q2ZmJgCgTZs2uHPnDv744w/89ddfeP/999G1a1fs2rULtra2uH79OsLDw/HXX3/B19cXX3zxBf7++2/k5ORAQ0MDZ86cUZrKTl9fv8AYAwMDsXjxYoW0hb5uCPiwQwneHSIigpQF6vzK/Gg2LS1NaVRPQ0PDsu620qSnp8PLy6tU23Z83BHLr/6veZnkjAS6I3XR0akjTpidgLe3d3mFCQA4dOgQdHR0ynWfb7KysirTeiIiqlmaNGkiTpWlpaWF7OzswjcAkJycjKtXr2LDhg3o1KkTAODEiRNK+QwNDTFkyBAMGTIE7733Hnr06IEnT57AxMQEOjo66NevH/r164cPP/wQjRs3xqVLl9C6dWtkZ2cjKSlJ3Hdx+Pv7w8/PTyFN+zan+SQiKjHWUCspVYH61atXmDNnDn7++WckJycrrS/OBbcmGHlvpFKaFFKMiB+BE2b/u3no+LgjRt4bCYdUB8TqxuIH2x8U1lcVjo6OsLa2xv3795XW2djYwNHRUQ1RERFRRUtOTsbgwYMxbtw4tGjRAgYGBoiJicHKlSvFh8MODg44fPgw3N3dIZPJUKtWLZX7qlWrFkxNTfHdd9/BysoKd+/exdy5cxXyrF69GlZWVmjVqhWkUil27twJS0tLGBsbIyQkBNnZ2WjXrh10dXXxww8/QEdHB/b29jA1NYWPjw9GjRqFoKAgtG7dGo8fP8aRI0fQvHlz9OrVS2VMMpkMMplMIU1gc28iIioHpbqazJ49G0ePHsXatWsxatQofPvtt7h//z42bNiAzz//vLxjrDSv2vgA0uK/JQ5R9VWnpzfAq9bDAakmPG45YPnxruI6p5dOWHb1M3zS9zAi6scVfZCc19A7G1bsmMpCEAQ8ffpU5bonT55AEAT2myAiqoH09fXRrl07rF69Grdu3UJWVhZsbW0xceJEcaaHoKAg+Pn5YePGjbC2tkZsbKzKfUmlUvz000+YNm0amjVrhkaNGmHNmjXw8PBQON6KFStw8+ZNaGhooG3btjhw4ACkUimMjY3x+eefw8/PD9nZ2WjevDn2798v9pHeunUrli1bhpkzZ+L+/fswNTWFm5tbgYVpIiIqRywLKClVgXr//v34/vvv4eHhgXHjxqFTp06oX78+7O3tERYWVn3nZ5VqAhpaxc5+yywFzRLNlNJvmz4DtHUBAGOjWykfBhKMjW6JiEYPShtphTh58iRSU1NVrktNTcXJkyfRsWPHSo6KiIgqmkwmQ2BgoMJc0Pn17dsXffv2VUgLCAhAQECAUt6uXbviypUrCmmCIIj/nzhxIiZOnKjyOP3790f//v0LjENLSwuLFy9W6hNNRESVgH2olZRqyOYnT56IzX8NDQ3FabI6duyIY8eOlV90VdzWdpeQA0EhLQcCtrS/LL6u99hI5bZ1k40rMrRSsba2LtN6IiIiIiKqwTgPtZJSFajr1q0rNvVq0qQJfv75ZwC5NdfGxsblFVuVF9HgHj7xjsBly0dI1crCZctHmNU/An/XvyfmuWWWonLb26bPKinK4rOzsyuwSbdEIoGdnV0lR0RERERERFWGRFq2pQYqVZPvsWPH4sKFC+jSpQv8/f3Ru3dvfP3113j9+jVWrVpV3jFWaREN7iGiwb0C129tdwlf/OoBKf5XUM1fi11VREVFKTTJe5MgCIiKimKTbyIiIiIiov9XqgL1jBkzxP97enri2rVriImJQb169dCyZctyC64myKvFHnu6GeomG+O26TNsaX9ZoRa7qmCTbyIiIiIiKhD7UCsplzkj7Ozs2By4EEXVYlcVDg4OsLGxQXx8vNI6W1tbODg4VH5QRERERERUNdTQftBlUaqG7NOmTcOaNWuU0r/55htMnz69rDGRmgiCIA4wl19ycnKBzcGJiIiIiOgtwEHJlJSqQP3LL7/A3d1dKb1Dhw7YtWtXmYMi9SjOtFlUuDcfOmQCyIRQxRbVsRIRERERFUkqKdtSA5WqyXdycjKMjJSngzI0NMTjx4/LHBSpB/tQl11GRob4/xVqjKM4MjIyoKurq+4wiIiIiIiqrVLVUNevXx8HDx5USv/jjz9Qt27dMgdF6uHg4CDOL55f3bp12YeaiIiIiOhtxmmzlJSqhtrPzw9Tp07Fo0eP8M477wAADh8+jC+//BJfffVVuQZIlcvAwEBlur6+fiVHUj3JZDLx/3MAaKsvFJUy8b+a8zdjJSIiIiIqUhVttv306VNMmzYN+/btAwD069cPX3/9NYyNjVXmz8rKwqeffooDBw7g9u3bMDIyQteuXfH555+jTp06JTp2qQrU48aNQ0ZGBj777DMsXboUAODo6Ij169dj1KhRpdklVQFxcXG4ePGiynUXL15EXFxc9a6l3gtgOYB/ATQFMA9A//I9hOSNwRa0AWijqv3o/K/ftKSGDgxBRERERBWkit4/Dh8+HPHx8WIr6g8++AAjR47E/v37VeZPTU3F2bNnsWDBArRs2RJPnz7F9OnT0a9fP8TExJTo2KUqUKelpWH06NGYMmUKHj16hIcPHyI8PBwWFhal2R1VEXZ2dtDX18fLly+V1unr61frqdGk+6TA0DcSogEMBLAb5V6oJiIiIiKiynH16lUcPHgQp06dQrt27QAAGzduhJubG65fv45GjRopbWNkZITw8HCFtK+//hqurq64e/duico9pWrI7u3tje+//x4AoKWlha5du2LVqlXo378/1q1bV5pdUiURBAFpaWkqlxs3bqgsTAPAy5cvcePGjQK3reojRmt9oaWcKAAIrPRQiIiIiIiqpyo4bVZUVBSMjIzEwjQAtG/fHkZGRiWapSglJQUSiaTAZuIFKVUN9dmzZ7F69WoAwK5du2BhYYFz587hl19+wcKFCzFlypTS7JYqQXp6Ory8vEq17QcffFDgukOHDkFHR6e0YVU4ydUC/oD/rdw4iIioanj580/qDkGkY1p1ZlxYGH1Y3SGIhJ+mqTsEkXCn6jyBlzj6qzsEepuVsQ91RkaGwqw4QO64PmUZ2ycxMRHm5uZK6ebm5khMTCzWPtLT0zF37lwMHz4choaGJTp+qWqoU1NTxcGr/vzzTwwcOBBSqRTt27dHXFxcaXZJVKEEpwJq0JtWbhxEb6PCWsaUdElPTxf3m56eXm77rQ4tbYiIiNSujDXUgYGBMDIyUlgCA1U/sAoICIBEIil0yevvrGpsIEEQijVmUFZWFoYOHYqcnBysXbu2xG9JqWqo69evj71792LAgAE4dOgQZsyYAQBISkoqcYmeKpdcLsehQ4cKXH///n2MHz9e4cZSIpFgy5YthY54J5fLyzXO8pb1SRZkw2RvjskFSJA7MBkRVaiytIwpjLe3d7nur6q3tCEiIlK7Mk595e/vDz8/P4W0gmqnp06diqFDh6pcl8fBwQEXL17Ew4cPldY9evSoyDG+srKy8P777+POnTs4cuRIqcqypSpQL1y4EMOHD8eMGTPw7rvvws3NDUBubXXr1q1Ls0uqJBKJpNAbxvr162Pw4MH4+eefxbThw4ejXr16lRFehcnpl5M7AFkgFEf5Lt/7cSIiIiIiKkBJmnebmZnBzMysyHxubm5ISUnBP//8A1dXVwDA6dOnkZKSgg4dOhS4XV5h+ubNmzh69ChMTU2LdxL5lKpA/d5776Fjx45ISEhAy5YtxfR3330XAwYMKFUgVHX4+PiIBWpDQ0OMHj1azRGVTcfHHSHrJAOuIrcgHQqO7E2kJh07doSGhkaptxcEATk5OQAAqVRa5unfsrOzceLEiTLtg4iI6K1RBeehdnJyQo8ePTBx4kRs2LABQO7YT3369FEY4btx48YIDAzEgAED8Pr1a7z33ns4e/YsfvvtN2RnZ4v9rU1MTKCtrV3s45eqQA0AlpaWsLS0VEjLeyJA1dubzbdnzpxZ5ZtzF6bj445YfnX5/xI4XRaRWmloaJSpQE1ERERqVEXnoQ4LC8O0adPQvXt3AEC/fv3wzTffKOS5fv06UlJSAADx8fHYt28fAKBVq1YK+Y4ePQoPD49iH7vUBWp6O7Rv317dIZTJyHsjlRPzpsvqX8nBEBERERFVZ1W0QG1iYoLQ0NBC87w5RpSDg0O5DUZatl7l5WDt2rVwdHSEXC6Hs7Mzjh8/XqztIiMjoampqfREgehNDqkOqldwuiwiIiIiopKRSsq21EBqLVDv2LED06dPx/z583Hu3Dl06tQJPXv2xN27dwvdLiUlBaNGjcK7775bSZFSdRWrG6t6BafLIiIiIiKiMlJrgXrVqlUYP348JkyYACcnJwQHB8PW1hbr1q0rdLtJkyZh+PDh4ujiRAX5wfYH5CBHMZHTZVEpRUZGYvDgwYiMjFR3KERERESVTyIt21IDqe2sMjMzcebMGbHjeJ7u3bvj5MmTBW63detW3Lp1C4sWLaroEKkGOGF2Ap86fYoclxxAD4ArgD3gdFlUYunp6QgKCsLDhw8RFBSE9PR0dYdEREREVLkkkrItNZDaCtSPHz9Gdna20mTbFhYW4pDl+d28eRNz585FWFgYNDWLN55aRkYGnj9/rrDQ2+WE2QlkHMsAXgI4DRamqVRCQ0ORnJwMAEhOTkZYWJiaIyKq+SIiIiCRSPDs2bMC84SEhMDY2LjSYiIiequxD7UStde7559DVBAElfOKZmdnY/jw4Vi8eDEaNmxY7P0HBgbCyMhIXGxtbcscMxG9XeLj4xEWFiaOBikIAsLCwhAfH6/myIiqjvXr18PAwACvX78W016+fAktLS106tRJIe/x48chkUhw48aNyg6TiIioXKmtQG1mZgYNDQ2l2uikpCSlWmsAePHiBWJiYjB16lRoampCU1MTS5YswYULF6CpqYkjR46oPI6/vz9SUlLE5d69exVyPkRUMwmCgNWrVxeYXl5TLhBVd56ennj58iViYmLEtOPHj8PS0hLR0dFITU0V0yMiIlCnTp0SPSAnIqIqgE2+laitQK2trQ1nZ2eEh4crpIeHh6NDhw5K+Q0NDXHp0iWcP39eXCZPnoxGjRrh/PnzaNeuncrjyGQyGBoaKixERMUVFxeH6OhoZGdnK6RnZ2cjOjoacXFxaoqMqGpp1KgR6tSpg4iICDEtIiIC3t7eqFevnsL4KBEREfD09ERoaChcXFxgYGAAS0tLDB8+HElJSYUeJyQkBHZ2dtDV1cWAAQPErhhERFQJWKBWotYm335+fti0aRO2bNmCq1evYsaMGbh79y4mT54MILd2edSoUbmBSqVo1qyZwmJubg65XI5mzZpBT09PnadCRDWUvb092rZtCw0NDYV0DQ0NuLq6wt7eXk2REVU9Hh4eOHr0qPj66NGj8PDwQJcuXcT0zMxMREVFwdPTE5mZmVi6dCkuXLiAvXv34s6dOxgzZkyB+z99+jTGjRsHX19fnD9/Hp6enli2bFlFnxYREeWRSsu21EDFG9mrggwZMgTJyclYsmQJEhIS0KxZMxw4cEC8QU1ISChyTmoioookkUgwY8YMjBw5UmW6qjEfiN5WHh4emDFjBl6/fo20tDScO3cOnTt3RnZ2NtasWQMAOHXqFNLS0uDp6Ym6deuK29atWxdr1qyBq6srXr58CX19faX9f/XVV/Dy8sLcuXMBAA0bNsTJkydx8ODByjlBIqK3He97lKj9MYGvry9iY2ORkZGBM2fOoHPnzuK6kJAQhaZj+QUEBOD8+fMVHyQRvdVsbGzg4+MjFp4lEgl8fHxgbW2t5siIqhZPT0+8evUK0dHROH78OBo2bAhzc3N06dIF0dHRePXqFSIiImBnZ4e6devi3Llz8Pb2hr29PQwMDODh4QEABT5Mv3r1Ktzc3BTS8r9WRdWMHxmvOf4BERGVndoL1ERE1cGIESNgamoKIHdQRR8fHzVHRFT11K9fHzY2Njh69CiOHj2KLl26AAAsLS3h6OiIyMhIHD16FO+88w5evXqF7t27Q19fH6GhoYiOjsaePXsA5DYLV6W0gwDmn/HDyMgIQSdelO4kiYjeZuxDrYQFaiKiYpDL5Zg5cyYsLCzg5+cHuVyu7pCIqiRPT09EREQgIiJCrHEGgC5duuDQoUM4deoUPD09ce3aNTx+/Biff/45OnXqhMaNGxc5IFmTJk1w6tQphbT8r1XJP+NHSkoKZnY0KNX5ERG91TgPtRK19qEmIqpO3N3d4e7uru4wiKo0T09PfPjhh8jKyhJrqIHcAvWUKVOQnp4OT09PyOVyaGtr4+uvv8bkyZNx+fJlLF26tNB9T5s2DR06dMDKlSvRv39//Pnnn8XqPy2TySCTyRTSXmjWzBs7IqIKVUNrmcuCNdTlzOOmLbaF9sKJ4GHYFtoLHjdt1R0SERFRpfH09ERaWhrq168PCwsLMb1Lly548eIF6tWrB1tbW9SuXRshISHYuXMnmjRpgs8//xxffvlloftu3749Nm3ahK+//hqtWrXCn3/+iU8//bSiT4mIiPJIpGVbaiDWUJcjj5u2CPrVU3zdLNEMX/zqgU+8IxDR4J76AiMiIqokDg4OKvs629jYKKUPGzYMw4YNU0h7M4+Hh4fSNuPGjcO4ceMU0mbOnFnWsImIiEqlZj4mUJOxp5srpUkhwdjTzdQQDRERERERUTliH2olrKEuR/UeG6lMr5tsXLmBEBERERERlbca2my7LPiOlKNbZikq02+bPqvcQIiIiIiIiMob+1ArqZlnpSZb211CDhT7euVAwJb2l9UUEREREREREVUUFqjLUUSDe/jEOwKXLR8hVSsLly0fYVb/CPxdnwOSERERERFRNSfRKNtSA7EPdTmLaHCPI3oTEREREVENxPrY/N76ArXCdBzZWeoLpCBvxKRqGhIiIiIiIqJKUUP7QZfFW1+gzsjIEP+vd+5HNUZStIyMDOjq6qo7DCIiIiIiehuxQK2E7wgRERERERFRKbz1NdQymUz8/6vWwwENLTVGo0J2llhz/masRERERERElYo11Ere+gK1RCL53wsNrapXoH6DQqxERERERESViQVqJW99gbqiedy0xdjTzVHvsRFumaVga7tLHAWciIiIiIiqHxaolfAdqUAeN20R9KsnmiWaQee1FpolmuGLXz3gcdNW3aERERERERGVjERatqWCPH36FCNHjoSRkRGMjIwwcuRIPHv2rNjbT5o0CRKJBMHBwSU+NmuoK9DY082V0qSQYOzpZqylJiIiUiP9ri7qDuF/0tLUHYFon5enukMQtWqgp+4QREGBAeoOQRQcfETdIYgkPcLVHQIRAGD48OGIj4/HwYMHAQAffPABRo4cif379xe57d69e3H69GnUqVOnVMdmgboC1XtspDK9brJx5QZCVEKCICA9Pb1c9vXmfsprn3nkcjnHFiAiIiKqLFWwyffVq1dx8OBBnDp1Cu3atQMAbNy4EW5ubrh+/ToaNWpU4Lb379/H1KlTcejQIfTu3btUx2eBugLdMktBs0QzpfTbps8qPxiiEkhPT4eXl1e579fb27tc93fo0CHo6OiU6z6JiIiIqABVsEAdFRUFIyMjsTANAO3bt4eRkRFOnjxZYIE6JycHI0eOxCeffIKmTZuW+vhV7x2pQba2u4QcCAppORCwpf1lNUVERGURGRmJwYMHIzIyUt2hEBEREVW+MvahzsjIwPPnzxWWjIyMMoWUmJgIc3NzpXRzc3MkJiYWuN2KFSugqamJadOmlen4rKGuQBEN7uET7wiMPd0MdZONcdv0Gba0v4y/67P/NFUf/Vr5QlNa+unkBEFAds5rAICGVLPMTbRf52Rh3/m1ZdpHaaSnpyMoKAiPHz9GUFAQnJ2dIZfLKz0OIiIiIrUpYw11YGAgFi9erJC2aNEiBAQEKOUNCAhQyptfdHR0blgq7i8FQSjwvvPMmTP46quvcPbs2TLfm7JAXcEiGtzjAGRUrWlKtaCpoV2mfWhBVk7RqE9oaCiSk5MBAMnJyQgLC8P48ePVHBURERFR9eHv7w8/Pz+FNJlM9X3i1KlTMXTo0EL35+DggIsXL+Lhw4dK6x49egQLCwuV2x0/fhxJSUmws7MT07KzszFz5kwEBwcjNja2iDP5Hxao6e2xF8ByAP8CaApgHoD+aoyHqo34+HiEhYVBEHK7cAiCgLCwMHh5ecHGxkbN0RERERFVkjLWUMtksgIL0PmZmZnBzEx5PKr83NzckJKSgn/++Qeurq4AgNOnTyMlJQUdOnRQuc3IkSPRtWtXhTQvLy+MHDkSY8eOLVZ8ediHmt4K0n1SYACAaACp///vQOQWsokKIQgCVq9eXWB6XiGbiIiIqMargvNQOzk5oUePHpg4cSJOnTqFU6dOYeLEiejTp4/CgGSNGzfGnj17AACmpqZo1qyZwqKlpQVLS8tCRwVXhQVqeitofaGiD7AAILDSQ6FqJi4uDtHR0cjOzlZIz87ORnR0NOLi4tQUGREREVElq4IFagAICwtD8+bN0b17d3Tv3h0tWrTADz/8oJDn+vXrSElJKfdjs8k3vRUkVwsYbODfyo2Dqh97e3u0bdsWZ8+eVShUa2howNnZGfb29mqMjoiIiIhMTEwQGhpaaJ6iWhWWpN/0m1hDTW8FwamAP6DSTzlHbwmJRIIZM2YUmF7WkSGJiIiIqg2JRtmWGogFanorZH2SBeQv90iQOzAZURFsbGzg4+OjkObj4wNra2s1RUTVgYeHB6ZPn17s/NeuXUP79u0hl8vRqlWrCouLiIio1Kpok291qplnRZRPTr8cYDcAVwB6///vHgDeag2LqpH33nsPUmnuT6ZUKsWgQYPUHBFVdbt378bSpUuLnX/RokXQ09PD9evXcfjw4QqLa8yYMejfv3+F7T8/iUSCvXv3VtrxiIioArFAraRmnhWRKv0BnAbw8v//ZWGaSmDXrl0K02b98ssvao6IqjoTExMYGBgUO/+tW7fQsWNH2Nvbw9TUVGWerKys8gqvSJV5rOLIzMxUdwhERMQCtZKaeVZULQmCgLS0tHJb0tPTxX2np6eX2345TdLbp6B5qOPj49UcGVVlbzb5dnBwwPLlyzFu3DgYGBjAzs4O3333nZhXIpHgzJkzWLJkCSQSCQICAhAbGwuJRIKff/4ZHh4ekMvlCA0NRXJyMoYNGwYbGxvo6uqiefPm2L59u8Kxd+3ahebNm0NHRwempqbo2rUrXr16hYCAAGzbtg2//vorJBIJJBIJIiIiCjxWQECAUvPz4OBgODg4KKRt2bIFTZs2hUwmg5WVFaZOnSqeNwAMGDAAEolEfK2qlnz69Onw8PBQeP+mTp0KPz8/mJmZoVu3bgCAK1euoFevXtDX14eFhQVGjhyJx48fl/wDIiIiKgcc5ZuqjPT0dHh5eVXIvr29y686+tChQ9DR0Sm3/VHVVtQ81F9++SUHJqNiCQoKwtKlSzFv3jzs2rULU6ZMQefOndG4cWMkJCSga9eu6NGjB2bNmgV9fX2xkDhnzhwEBQVh69atkMlkSE9Ph7OzM+bMmQNDQ0P8/vvvGDlyJOrWrYt27dohISEBw4YNw8qVKzFgwAC8ePECx48fhyAImDVrFq5evYrnz59j69atAHJr0h88eKDyWG8W+guybt06+Pn54fPPP0fPnj2RkpKCyMhIAEB0dDTMzc2xdetW9OjRAxoaJRuQZtu2bZgyZQoiIyMhCAISEhLQpUsXTJw4EatWrUJaWhrmzJmD999/H0eOHCnRvomIqBRqaC1zWbBATURUiLx5qPN7cx7q/LV1RKr06tULvr6+AHILrqtXr0ZERAQaN24MS0tLaGpqQl9fH5aWlgAgFqinT5+OgQMHKuxr1qxZ4v8/+ugjHDx4EDt37hQL1K9fv8bAgQPFad2aN28u5tfR0UFGRoZ4nDepOlZRli1bhpkzZ+Ljjz8W09q2bQsAqF27NgDA2NhY5fGKUr9+faxcuVJ8vXDhQrRp0wb/196dx0VRPn4A/+wisNweoIIiC6KGinnmraA/hbyx0rwPNE3NA/PKDMyDTFE8UgtNJU3NPLJvJRqCCmreeZEi4pWgIh6JcsjO7w9yY12OBRZmdvm8e+0rdnZ29jPI7PM8M888z8KFC9XLvv32Wzg7O+Pq1auoW7dukT+DiIiKgA1qLWxQkyRl98wu+V+nAODVtMEm0B7luyheAiY/G+dQ/1QwzkNN+tKoUSP1zzKZDNWrV8f9+/cLfV/z5s01nmdnZ+OLL77A9u3b8ffffyMjIwMZGRmwsrICALz55pvo3LkzPD094ePjg65du+Ldd99FpUqVivxZhbl//z7u3r2Lzp07F+l9uno9z+nTpxEVFQVra2utdRMSEvJtUL/6HeVmlpkNczN+rxMRFQkb1Fr4GyFpqqCHhykAxb8PUz1sj8olzkNN+mJqaqrxXCaTQaVSFfq+Vw3lV0JCQrBs2TJMnz4dBw8exLlz5+Dj46MetMvExAQHDhzAb7/9hvr162PlypWoV68eEhMTi/xZcrlca9yI3IOVFff2l8K2m18elUqFnj174ty5cxqP+Ph4dOjQId/PCw4Ohp2dncYjeHN8sbITEZVrHJRMi3HuFRGRHr2ah/pV41kmk3EeahLNkSNH0Lt3bwwePBhvvvkm3NzcEB+v2TiUyWRo27Yt5s6di7Nnz8LMzAy7d+8GAJiZmWn0tiiIg4MDkpOTNRq/586dU/9sY2MDpVJZ4DRfpqamWp/n4OCApKQkjWW5t5ufpk2b4tKlS1AqlXB3d9d4vN74zm3WrFl48uSJxmPW4DqFfh4REVFh2KAuBV7xzti0uRtiQgdg0+Zu8Ip3FjsSiSATQCaEEj0yIODZv4+MEm4r50HFNXjwYPVURvb29hg0aJDIiai8cnd3x4EDB3D06FHExcVhzJgxSE5OVr/+xx9/YOHChTh16hRu3bqFXbt24cGDB/Dw8ACQM/L2+fPnceXKFaSkpBQ4PZaXlxcePHiAL7/8EgkJCfjqq6/w22+/aawTFBSEkJAQrFixAvHx8Thz5gxWrlypfv1Vgzs5ORmPHj0CAHTq1AmnTp1CeHg44uPjERgYiIsXLxa67+PHj0dqaioGDBiAEydO4Pr169i/fz9GjhxZ4EkCc3Nz2NraajzY3ZuIqBh4hVoLO7LqmVe8M0J+8lY/b5hsj8U/eWFa72hE17ktXjAqc4vEDkB6pVAoMHXqVISGhmLy5MlQKBRiR6Jyas6cOUhMTISPjw8sLS3xwQcfoE+fPnjy5AkAwNbWFocPH0ZoaCiePn0KFxcXhISE4O233wYAjB49GtHR0WjevDmePXuGqKiofAfW8/DwwOrVq7Fw4ULMmzcP77zzDj7++GON0b+HDRuG9PR0LFu2DB9//DHs7e3x7rvvql8PCQlBQEAAwsLCUKNGDdy4cQM+Pj6YM2cOpk+fjvT0dIwcORJDhw7FhQsXCtx3JycnxMbGYsaMGfDx8UFGRgZcXFzg6+sLudw4K2pERJJipI3ikmCDWs9G/OGptUwOGUb80ZANaiID17ZtW7Rt21bsGAYnd3dhXbsal5XcefQ9x3x0dLT65xs3bmi9/noX59efK5XKPDNVrlwZe/bsyfdzPTw8sG/fvnxfd3BwwP79+7WW57f/Y8eOxdixYzWWffLJJxrPx4wZgzFjxuT5/p49e6Jnz55ay+fOnYu5c+fmmzP37y+3OnXqYNeuXfm+j4iIShEb1FrYoM5N9bLEm6idYpfncreHFYHs/LvV5UsPmajsKBQKRERE6G176enp6jm0f/rpJ71eFeUVVioruUdXjomJETFJwTIyMmBpaSl2DCIiIjIgbFDnYnVmS4m3cUPRBh7PPPJYHg+rU5tKvH2SNplMVuxRbwujUChKbdtERERERIXiFWotbFDr2XfO32F+3HzIc433poIKm503i5iKiChHbGys+j7wsuq+bm5urv65Xbt2MDGRzmBQ2dnZ6qvmuXMSERFRHtig1lLuG9Sl0UX307afYvCdwfBQeUDwEJA1LQtzes4p8bbZRZeISiI9PR0hISFISUlBSEgImjVrVibfK7nn6jYxMZFUgzo3zilORERUCDaotZT7BnVpdNGNsY9BjH0MIiIiYGFhAXPwqgcRiW/z5s14+PAhAODhw4fYsmUL/P39RU5FREREhoMN6tfxN0JEVA7cuXMHW7ZsUY/kLAgCtmzZgjt37oicjIiIiMhwsUFNRGTkBEHAsmXL8l2u7+miiIiIyEjJZCV7GCHRG9SrV6+Gq6srFAoFmjVrhiNHjuS77q5du9ClSxc4ODjA1tYWrVu31uv9z0REBYmNjcV7772H2NhYsaMUyc2bN3Hy5EmtOaCzs7Nx8uRJ3Lx5U6RkREREZFBk8pI9jJCoe7V9+3ZMnjwZs2fPxtmzZ9G+fXu8/fbbuHXrVp7rHz58GF26dMGvv/6K06dPw9vbGz179sTZs2fLODkRlTevBvS6d+8eQkJCkJ6eLnYknbm4uKBFixZag4GZmJjgrbfegouLi0jJiIiIyLDISvgwPqI2qJcuXQp/f3+MGjUKHh4eCA0NhbOzM9asWZPn+qGhoZg+fTpatGiBOnXqYOHChahTpw5+/vnnMk5OROVNXgN6GQqZTIYpU6bku5yjWxMREZFO2OVbi2gN6szMTJw+fRpdu3bVWN61a1ccPXpUp22oVCr8888/qFy5cmlEJCICYBwDetWsWRODBg1SN55lMhkGDRqEGjVqiJyMiIiIyHCJNm1WSkoKsrOzUa1aNY3l1apVQ3Jysk7bCAkJQVpaGvr165fvOhkZGcjIyFA/f/r0afECS5wgCHrrgpp7O/ru1qpQKHg1jAxKYQN6LVmyxGD+pgcPHoxff/0VKSkpsLe3x6BBg8SORERERIbESO+DLgnR56F+vSIqCIJOldOtW7ciKCgIP/30E6pWrZrvesHBwZg7d26Jc0pdeno6fHx89L7d3r1763V7r+bmJjIUrwb0el3uAb2USmXZB8tF1xNqgiBgzJgx+OabbzB+/HgIgoAXL14U+B6eBCMiIqL/sE7wOtEa1Pb29jAxMdG6Gn3//n2tq9av2759O/z9/bFjxw783//9X4Hrzpo1CwEBAernT58+hbOzc/GDE1G58mpArzNnzmiMkm1iYoJmzZpJYkCv4pxQCwoK0mk9ngQjo5WSKnaC/1gqxE6g1nN+D7EjqN34NlLsCGrjmpkUvlIZWf9ZtNgR1OqGSuf30mFfduErUcnxJLsW0RrUZmZmaNasGQ4cOAA/Pz/18gMHDhR4VXTr1q0YOXIktm7diu7duxf6Oebm5jA3N9dLZkPxVYfHMDcp/ryyggBkqnJ+NpOX/LjJyJZh/OGKJdsIlanc8xK/zM4SMYm23HnKYv7kVwN3DRkyJM/lvHpLREREVH6J2uU7ICAAQ4YMQfPmzdG6dWt88803uHXrFsaOHQsg5+ry33//jfDwcAA5jemhQ4di+fLlaNWqlfrqtoWFBezs7ETbD6kxNxGgKOEJQ/1ejyr9Rg/pV+5xB/b+uVrEJAXLyMiApaVlqX/OqwG9vvvuO/VtKVIa0EuhUCAiIqLQ9dLT09UnLH/66ScoFIVfFdNlHSIiIiovpHkP9aNHjzBx4kTs3bsXANCrVy+sXLkSFStWLPB9cXFxmDFjBg4dOgSVSoUGDRrghx9+QK1atXT+bFEb1P3798fDhw/x+eefIykpCQ0bNsSvv/6q7kKZlJSkMSf1119/jZcvX2L8+PEYP368evmwYcOwcePGso5PEtf+fHsM3T8UrsmuSKyeiPCu4TjS6IjYschASXlAL5lMVuRu2QqFgl25iYiIqGgk2jNv4MCBuHPnDvbt2wcA+OCDDzBkyJACp1dOSEhAu3bt4O/vj7lz58LOzg5xcXFFvpgg+qBk48aNw7hx4/J87fVGcnR0dOkHIqPQ/nx7fLHuC/Xz+rfqY+H6hfjE/xM2qnWQ+zaJXm+OQwUTUxHTaHqZnaW+al6Wt3MoFApMnToVoaGhmDx5Mq/cEhERUfkjwVG+4+LisG/fPhw/fhwtW7YEAISFhaF169a4cuUK6tWrl+f7Zs+ejW7duuHLL79UL3Nzcyvy50vvN0KkB0P3D9VaJhfkGHJgSB5r0+ty3xdcwcQUFUzMJPQwzTNnWWjbti127NiBtm3blunnEhEREUmDrESPjIwMPH36VOOR+1bD4jh27Bjs7OzUjWkAaNWqFezs7HD06NE836NSqfDLL7+gbt268PHxQdWqVdGyZUvs2bOnyJ/PBjUZJddk17yXJ+W9nIiIiIiISldwcDDs7Ow0HsHBwSXaZnJycp7TKFetWlVrRqlX7t+/j2fPnuGLL76Ar68v9u/fDz8/P/Tt2xeHDh0q0uezQU1GKbF6Yt7LHfNeTkREREREhZDJSvSYNWsWnjx5ovGYNWtWnh8VFBQEmUxW4OPUqVP/xtLutfhqINm8qFQ5Uxr17t0bU6ZMQePGjTFz5kz06NEDa9euLdKvRPR7qIlKQ3jXcCxcvxBy4b9zRiqZCuFdwkVMRVIkCALS09N1Wu9VlyRzc/NCu5srFApOqUVERETGpYT3UBdlSuMJEybg/fffL3AdpVKJ8+fP4969e1qvPXjwANWqVcvzffb29qhQoQLq16+vsdzDwwMxMTE65XuFDWoySkcaHcEn/p9gyIEhcE1yRaJjIsK7hCOmUdEOEDJ+6enp8PHx0ft2IyIiOIo2ERERGZmyu1hgb28Pe3v7Qtdr3bo1njx5ghMnTuCtt94CAPzxxx948uQJ2rRpk+d7zMzM0KJFC1y5ckVj+dWrV9UzTumKDWoyWkcaHeGI3kRERERE+iLB3nceHh7w9fXF6NGj8fXXXwPImTarR48eGiN8v/HGGwgODoafnx8AYNq0aejfvz86dOgAb29v7Nu3Dz///HORZ5Zig5qIyjWFQoGIiIhC10tPT0fv3r0BAD/99FOh02ZxWi2iwslkMuzevRt9+vQROwoRERmwLVu2YOLEiejatSsAoFevXli1apXGOleuXMGTJ0/Uz/38/LB27VoEBwdj4sSJqFevHnbu3Il27doV6bPZoCaick0mkxW5a7ZCoWB3bqIiCAoKwp49e3Du3DmN5UlJSahUqZI4oYiIqMhkEpyHGgAqV66MzZs3F7iOIAhay0aOHImRI0eW6LPZoCYiIjICmZmZMDMz0+s2s7KyYGpqWviKxVS9evVS2zYREZUG6XX5Fps0TzEQERFRgby8vDBhwgQEBATA3t4eXbp0weXLl9GtWzdYW1ujWrVqGDJkCFJSUtTvUalUWLRoEdzd3WFubo5atWphwYIFAIAbN25AJpPhhx9+gJeXFxQKhfps/4YNG+Dh4QGFQoE33ngDq1ev1sgyY8YM1K1bF5aWlnBzc8OcOXOQlZUFANi4cSPmzp2LP//8Uz3NycaNGwHk9BDZs2ePejsXLlxAp06dYGFhgSpVquCDDz7As2fP1K8PHz4cffr0wZIlS+Do6IgqVapg/Pjx6s8iIqJSVsJps4wRr1ATEREZqE2bNuHDDz9EbGwsUlNT0bFjR4wePRpLly7FixcvMGPGDPTr1w8HDx4EAMyaNQthYWFYtmwZ2rVrh6SkJPz1118a25wxYwZCQkKwYcMGmJubIywsDIGBgVi1ahWaNGmCs2fPYvTo0bCyssKwYcMAADY2Nti4cSOcnJxw4cIFjB49GjY2Npg+fTr69++PixcvYt++ffj9998BAHZ2dlr78vz5c/j6+qJVq1Y4efIk7t+/j1GjRmHChAnqBjgAREVFwdHREVFRUbh27Rr69++Pxo0bY/To0aX0WyYiIsofG9REREQGyt3dHV9++SUA4LPPPkPTpk2xcOFC9evffvstnJ2dcfXqVTg6OmL58uVYtWqVuiFcu3ZtrcFXJk+ejL59+6qfz5s3DyEhIeplrq6uuHz5Mr7++mv1dj799FP1+kqlElOnTsX27dsxffp0WFhYwNraGhUqVCiwi/eWLVvw4sULhIeHw8rKCgCwatUq9OzZE4sWLVLPJVqpUiWsWrUKJiYmeOONN9C9e3dERkayQU1EVCbYwfl1bFATEREZqObNm6t/Pn36NKKiomBtba21XkJCAh4/foyMjAx07txZ520+ePAAt2/fhr+/v0aD9eXLlxpXmX/88UeEhobi2rVrePbsGV6+fAlbW9si7UtcXBzefPNNdWMaANq2bQuVSoUrV66oG9QNGjSAiYmJeh1HR0dcuHChwG1nZGQgIyNDY5lZlgrmpqwYEhEViZF22y4JNqiJiIgMVO7Gp0qlUl/NfZ2joyOuX79erG0CQFhYGFq2bKmx3qtG7fHjx/H+++9j7ty58PHxgZ2dHbZt24aQkJAi7YsgCJDlU1HLvfz1QdJkMpk6Z36Cg4Mxd+5cjWWf9a+FoPddipSRiKjcY4NaCxvURERERqBp06bYuXMnlEolKlTQLt7r1KkDCwsLREZGYtSoUTpts1q1aqhRowauX7+OQYMG5blObGwsXFxcMHv2bPWymzdvaqxjZmaG7OzsAj+rfv362LRpE9LS0tSN+tjYWMjlctStW1envPmZNWsWAgICNDNFdCvRNomIyif27HkdfyNERERGYPz48UhNTcWAAQNw4sQJXL9+Hfv378fIkSORnZ0NhUKBGTNmYPr06QgPD0dCQgKOHz+O9evXF7jdoKAgBAcHY/ny5bh69SouXLiADRs2YOnSpQBy7uO+desWtm3bhoSEBKxYsQK7d+/W2IZSqURiYiLOnTuHlJQUre7XADBo0CAoFAoMGzYMFy9eRFRUFD766CMMGTJE3d27uMzNzWFra6vxYHdvIiLSB5YmRERERsDJyQmxsbHIzs6Gj48PGjZsiEmTJsHOzg5yeU5xP2fOHEydOhWfffYZPDw80L9/f9y/f7/A7Y4aNQrr1q3Dxo0b4enpiY4dO2Ljxo1wdXUFAPTu3RtTpkzBhAkT0LhxYxw9ehRz5szR2MY777wDX19feHt7w8HBAVu3btX6HEtLS0RERCA1NRUtWrTAu+++i86dO2PVqlV6+g0REVGJcdosLezyTUan/fn2GLp/KFyTXZFYPRHhXcNxpNERsWMREelVdHS01rI6depg165d+b5HLpdj9uzZGt2zX1EqlRAEIc/3DRw4EAMHDsx3u19++aV6tPFXJk+erP7Z3NwcP/74o9b7Xv88T09P9RRfeck9fdYroaGh+a5PRER6ZqSN4pLgFWoyKu3Pt8cX675A/Vv1YZFpgfq36mPh+oVof7692NGIiIiIiAycvIQP42Oce0Xl1tD9Q7WWyQU5hhwYIkIaIiIiIiIjwi7fWtigJqPimuya9/KkvJcTEREREREVF++hJsnQuJfuZfG2kVgtEfVv19deXj2x2Nt8PU9+9xgSERERERk347zKXBJsUJNk5J5GxeRnk2JtY7P1ZszHfMhzdb5QQYUt1ltgsrt423xdRkYGLC0t9bItQ/BSlVWi9wuCgGxVzhkJE3kFyErY3aekeYiIiIiomGTs4Pw6NqjJqMTYx+BTj08x+M5gKNOUuGF1A5udNyOmSozY0QzW3nOri7R+u5R2GHJ7CJTPlbhheQPfOX+HGHv+/omIiIgMnpHeB10SbFAbidzdkDOyRQySh9x5CuoubW5urv45u2d2sf86D/37n169/O+qee6cpKldSjssjFuofu7xzAPz4+bjU49P2agmIiIiIqPDBrWRyN1devzhSiImKVhB3aU1ugJXgGT/OkvaZdkQKBQKREREFPl95u21TzbIIcfgO4MRYx+Dn376CQqFQh8RAUCv2yIiIiKiwhh/PbioJNpkISIxyWQyWFhYFP2NcXkvVqYpAeQ0gIu13XJKEASkp6frbXu5t6XP7QI5/7bl4WQTERFRucZ7qLWwQW0kcndD/qrDI5jrZ/wtvcjI/u+qObtLG7kGAE5qL75hdaOskxhMY7Sghmh6ejp8fHz09lm59e7dW6/bi4iI0OlkSXZ2ye5JEQQBKpUKACCXy0vciC9pHiIiovKFJ89fxwa1kchdqTQ3ARQSalDnxitYRu4TAH0B5LpVXpAJ2Oy8ucyjGEpjVNeGqLGIieG99ERERIaLdfnXsUFNRPrTB8AuAMEALgFoAGROzUTMKjaiSmqx18cwNzEr0TYEQUDmv9OOmclNS3yCKyM7E9Oil5RoG0RERESGjA1qItKvPv8+/qV6oQJWiZTlX1417GFSwsajIAhQ/XvlXS4rWW+LbEFA9N8pRXqPuYkZzCuUrEENAAqU/W0XxR3kLi/p6enqHgIc5I6IiKiM8R5qLWxQE5HRM5HJUEFe0i5KeuzipNLfpgxBsQe5KwQHuSMiIipr7PL9OjaoiYiIqNzZ8uUxsSOodWxoJXYENedvLosdQU2Z0F3sCP/pNlnsBGpL234gdgQ1/7XDxI6gFtFZOs0an8iXYkcoRWxQv046f3lEREREREQkYezy/Tr+RoiIiIiIiIiKgQ1qIipV8r1yfH32a0TERsC8vTmwR+xEZFBmAbBGTg8za6DCHHasIiIiEo1MVrKHEWKDmohKzx7A/H1zeDzzgIXKAvLT8px5qveInMtACMJ/E3pnZGci46XEHtmZeWbVm1kAvgCQ9u/zNKBCSAWMThyt/88iIiIiHchK+Cgdjx49wpAhQ2BnZwc7OzsMGTIEjx8/LvA9z549w4QJE1CzZk1YWFjAw8MDa9asKfJn81Q/SZM+xnIQAGT/+7MJSnYMG/PYEqVlD4DBeSwXAEyHxtRalLeMjAz1z1Kf7zkjIwOWlpb63ehK7UUyyPDu3XcR5hqm388iIiIiHUjzKvPAgQNx584d7Nu3DwDwwQcfYMiQIfj555/zfc+UKVMQFRWFzZs3Q6lUYv/+/Rg3bhycnJzUU3Tqgg1qkiSTn03EjkAlsQeAXwGvx/+7Tp8yyEKGKy3vxQoV54smIiISh/Q6OMfFxWHfvn04fvw4WrZsCQAICwtD69atceXKFdSrVy/P9x07dgzDhg2Dl5cXgJxG+Ndff41Tp06xQU1EIluowzrBMKgGdd3bLdD2Ul/YP3ZGSsXbiG2wC1edT5bqZ5qbm6t/Xuz1McxNzEr184oqIztTfeU8d1a9sUKejep0ebr+P4uIiIhKXUZGhkYPPCCnDlGSesSxY8dgZ2enbkwDQKtWrWBnZ4ejR4/m26Bu164d9u7di5EjR8LJyQnR0dG4evUqli9fXqTPZ4PaCGVky5DTr7Z4BAHIVOX8bCYv+fgBOXkKp1AoEBERUbIPyyU9PV19dumnn36CQqGfq1r62o5Ru6SndSSi7u0WeO/wDPVzp4d18O7hafixw+JSbVTLch185iZmMK8grQZ1brLSGGjkI+TcQ52LAAE/1vhR/59FREREhStheR+8MBhz587VWBYYGIigoKBibzM5ORlVq1bVWl61alUkJyfn+74VK1Zg9OjRqFmzJipUqAC5XI5169ahXbt2Rfp8NqiN0PjDFcWOUCwymQwWFhalsm2FQlFq26Y8NABQWDuzQVkE0Y+2l/pqLZNBjjaX+pb6VepyLfjf/69EzpVqK+Dlhy8R9gfvnyYiIhJHyRrUs2bNQkBAgMay/K5OBwUFaTW+X3fyZE49LK8T+4IgFHjCf8WKFTh+/Dj27t0LFxcXHD58GOPGjYOjoyP+7//+r7BdUWODmoj07xPkjOadX0cJ2b/rGAj7x855Lnd4UrOMk5RDwfivYQ3g5YuXgI9oaYiIiMq5kt1DXZTu3RMmTMD7779f4DpKpRLnz5/HvXv3tF578OABqlWrluf7Xrx4gU8++QS7d+9G9+7dAQCNGjXCuXPnsGTJEjaoyyN9dpcura7SALtLlxt9AOwCEAwIlwTcyb4DAKhpUhOyBrKcxrTuYz2ILqXibTg9rKO1/IHdHRHSEJWu6OhoeHt749GjR6hYsaJO73n+/DmGDBmCAwcO4J9//sGjR4/QuHFjTJ48GZMnTy7VvF5eXmjcuDFCQ0NL9XOIiKhs2dvbw97evtD1WrdujSdPnuDEiRN46623AAB//PEHnjx5gjZt2uT5nqysLGRlZUEu1zxBYGJiApVKVaScbFAbidLqLs2u0lRsfXIe6S/SMchnEADgwPgDMA8xBwYip8v3Jyi1gclyz4ucrSrZHMmH6+9C/yPTIMt1VlaACkfq78TLYmw7d55Smb85H9aX7WF/SAnz+1bIqJqGlI438Kx+Spl9PhmvTZs24ciRIzh69Cjs7e1hZ2eHkydPwsrKSuxoRESkV9KbNsvDwwO+vr4YPXo0vv76awA5I3b36NFDY0CyN954A8HBwfDz84OtrS06duyIadOmwcLCAi4uLjh06BDCw8OxdOnSIn0+G9REVCbapbSD+fu5uvicRE638F0olUZ17hEko++WrNEYiV9w3uMJBt8ZDGWaEjesbmCz82bEIAYo4UXqUpm/OQ/Wl+3h/H0j9XOLv21Rc6sn7gy4wEY1lVhCQgI8PDzQsGFD9TIHBwcRExERUakojUFI9WDLli2YOHEiunbtCgDo1asXVq1apbHOlStX8OTJE/Xzbdu2YdasWRg0aBBSU1Ph4uKCBQsWYOzYsUX6bOlNJEaS0S6lHczbm+dMXfMWcuYNJiqmIbeHaC8UoHF/rJTF2MdgbOOx8G3ri7GNxyKmSozYkYrE/pBSa5lMkMH+sEvZhyG9USqVWl2dGzdurB4tVSaTYd26dfDz84OlpSXq1KmDvXv3aqz/66+/om7durCwsIC3tzdu3Lih9TlHjx5Fhw4dYGFhAWdnZ0ycOBFpaTlzmnl5eSEkJASHDx+GTCZTz+f5ejZdsly+fBndunWDtbU1qlWrhiFDhiAl5b8TPmlpaRg6dCisra3h6OiIkJCQ4v3iiIiomGQlfJSOypUrY/PmzXj69CmePn2KzZs3a922JAgChg8frn5evXp1bNiwAX///TdevHiBv/76CwEBAUWeuYRXqClP7VLaYWFcrsmES/lqIhk/5XNl3i+U0vRZuQe8aO9YBSYlPKMqCAJe9dSWy0o2TVS2IOBI0kOtnAXJyM4s9ucBgNn9vK+Cm92zQsbL4m27pJmobMydOxdffvklFi9ejJUrV2LQoEG4efMmKleujNu3b6Nv374YO3YsPvzwQ5w6dQpTp07VeP+FCxfg4+ODefPmYf369Xjw4AEmTJiACRMmYMOGDdi1axdmzpyJixcvYteuXTAzy396t4KyJCUloWPHjhg9ejSWLl2KFy9eYMaMGejXrx8OHjwIAJg2bRqioqKwe/duVK9eHZ988glOnz6Nxo0bl+avkIiI1Hg99nWiN6hXr16NxYsXIykpCQ0aNEBoaCjat2+f7/qHDh1CQEAALl26BCcnJ0yfPr3Il+WpcAVeTexTxmHIKNywvAGPZx7aL5TS9Fm5G7yvGq9SpGvDfFr0khJ9ztfmLvDI0v79X1FcxcTIhXm8w0DsAbAQOSdmSvm+fEM1fPhwDBgwAACwcOFCrFy5EidOnICvry/WrFkDNzc3LFu2DDKZDPXq1cOFCxewaNEi9fsXL16MgQMHqgcXq1OnDlasWIGOHTtizZo1qFy5MiwtLWFmZobq1auXKEvTpk2xcOF/f4/ffvstnJ2dcfXqVTg5OWH9+vUIDw9Hly5dAOTcu12zJkfbJyIi8Yh6imH79u2YPHkyZs+ejbNnz6J9+/Z4++23cevWrTzXT0xMRLdu3dC+fXucPXsWn3zyCSZOnIidO3eWcXLjV9ZXE8n4fef8HQTZawNwGdj0WYbsO+fvoILmqJUqqLDZebNIiYpHvleOLSe3IPpINBRWCsAPOT1onuO/njR7RAwoQY0a/XfvvJWVFWxsbHD//n0AQFxcHFq1aqVxYqd169Ya7z99+jQ2btwIa2tr9cPHxwcqlQqJiYl6y3L69GlERUVpfM4bb7wBIOce7YSEBGRmZmrkq1y5ssaAM/nJyMhQdwN89cgq4WCFRETlkzS7fItJ1CvUS5cuhb+/P0aNGgUACA0NRUREBNasWYPgYO0bK9euXYtatWqp78ny8PDAqVOnsGTJErzzzjtlGd3olfXVRDJ+MfYxyNyaCfOl5ppXE0tp+ix9TiUHlN50cgVtR9/78Hznc9wadwvKNCXMGpshe0Y25vSco5dtl8mUeHsA8/fN4Yx/5wXPqz1UznrSyOVyrZHis7KyNJ6bmppqPJfJZOopQXQZZV6lUmHMmDGYOHGi1mu1atUqUt6CsqhUKvTs2VPj6vgrjo6OiI+PL9Jn5RYcHIy5c+dqLPOrKUNfZ5Nib5OIqFyS6KBkYhKtQZ2ZmYnTp09j5syZGsu7du2Ko0eP5vmeY8eOqUdue8XHxwfr169HVlaWVkGtT4IgID09vdD1cq+jy/pATkW0JPdjFoUu+5Geno7vnL/D/Lj5kOeeJkgmIHNqJlQvtOdmk9o+ANL+tyiv+/C863Ooer329/NC+z362Addp5LTdT+KSor7kNU9C2Mb59wio+tJASn9PZnPN9f4Tsp3W5cEpL/4b1tl+f1U1hwcHJCUlKR+/vTp0yJdNa5fvz727Nmjsez48eMaz5s2bYpLly7B3d29RFkL07RpU+zcuRNKpRIVKmhXT9zd3WFqaorjx4+rG/KPHj3C1atX0bFjxwK3PWvWLAQEBGgs29m1sv7CExGVG7yH+nWiNahTUlKQnZ2NatWqaSyvVq0akpOT83xPcnJynuu/fPkSKSkpcHR01HpPRkaGxvQ5T58+LVbe9PR0+Pj4FOk9r65mFSYiIqLM5nrWeT/sgU89PtWeJmhVDLBKe3VJ7kMuUvu34D4UzBj+noxhHwBp/T1FnI2ABQrPEiePw1if/8bWKMt/i7LWqVMnbNy4ET179kSlSpUwZ84cmJjoftV17NixCAkJQUBAAMaMGaPu3p3bjBkz0KpVK4wfPx6jR4+GlZUV4uLicODAAaxcuVJv+zJ+/HiEhYVhwIABmDZtGuzt7XHt2jVs27YNYWFhsLa2hr+/P6ZNm4YqVaqgWrVqmD17NuTywit35ubmWgMAmsqN8yQLEVHp4nfn60QflOz1qwaCIBR4JSGv9fNa/kpe3bxINzH2MYixN6ypgYjIeOV7K0ouhnhfeEnMmjUL169fR48ePWBnZ4d58+YV6Qp1rVq1sHPnTkyZMgWrV6/GW2+9hYULF2LkyJHqdRo1aoRDhw5h9uzZaN++PQRBQO3atdG/f3+97ouTkxNiY2MxY8YM+Pj4ICMjAy4uLvD19VU3mhcvXoxnz56hV69esLGxwdSpUzXmFCUiIiprMkGXG6hKQWZmJiwtLbFjxw74+fmpl0+aNAnnzp3DoUOHtN7ToUMHNGnSBMuXL1cv2717N/r164fnz5/n2eU7ryvUzs7OePLkCWxtbXXOq2uXSkEQ1J9nbm6uUzdDqXWXNoZ9eLWeVPeD+1AwY/h7MoZ9AKT19yTfK4fZADPIhNdOrEIAzAHBU0DWtCyoemreVlCcfXj69Cns7OyKXFaQ4djcpvRuEyuqjg2txI6g5vzNZbEjqAmbuosd4T/dJoudQG1s2w/EjqC2dlses8KIZP+0jWJHUPOJfCl2hNKTfaVk7zcpfCBJQyPaFWozMzM0a9YMBw4c0GhQHzhwIN+uiK1bt8bPP/+ssWz//v1o3rx5vvdP59XNqzh0vZcRACwt857vVQp03Q9j2AdAuvvBfZAOY9iPcrMP/QGYA5gOIOHfZbUB2WIZ0BuQQQZzlPz7noiIiPJhpGOSlISod5UHBARg3bp1+PbbbxEXF4cpU6bg1q1b6nmlZ82ahaFDh6rXHzt2LG7evImAgADExcXh22+/xfr16/Hxxx+LtQtERFSW+gC4CiD738dVlNpI8URERPQ6eQkfxkfUe6j79++Phw8f4vPPP0dSUhIaNmyIX3/9FS4uLgCApKQkjTmpXV1d8euvv2LKlCn46quv4OTkhBUrVnDKLCIiIiIiIipzog9KNm7cOIwbNy7P114faRQAOnbsiDNnzpRyKiIiIiIiItLELt+vE71BTURERERERIaADerXsUFNREREREREhZMZ533QJcEGNREREREREemAV6hfx1MMRERERERERMXAK9RERERERESkA16hfh0b1ERERERERKQDNqhfxwY1ERERERERFY6Dkmlhg5qIiIiIiIh0wCvUryt3DWpBEAAAT58+FTkJERFJ1asy4lWZQURERJQnoZy5ffu2AIAPPvjggw8+Cn3cvn1b7GKLJCo9PV0IDAwU0tPTxY7CLMxisFkEQVp5mIWKQyYI5ev0u0qlwt27d2FjYwOZrHS6LDx9+hTOzs64ffs2bG1tS+UzSpsx7ANgHPvBfZAOY9gP7oNuBEHAP//8AycnJ8jlvF+MtD19+hR2dnZ48uSJ6McSszCLoWaRWh5moeIod12+5XI5atasWSafZWtra/AHgDHsA2Ac+8F9kA5j2A/uQ+Hs7OxKbdtERERkHHjanYiIiIiIiKgY2KAmIiIiIiIiKgY2qEuBubk5AgMDYW5uLnaUYjOGfQCMYz+4D9JhDPvBfSDSDyn9HTILsxhqFkBaeZiFiqPcDUpGREREREREpA+8Qk1ERERERERUDGxQExERERERERUDG9RERERERERExcAGNREREREREVExsEFNRERERAZPEATcvHkTL168EDsKEZUjHOVbjxISErBhwwYkJCRg+fLlqFq1Kvbt2wdnZ2c0aNBA7HhFcu3aNSQkJKBDhw6wsLCAIAiQyWRixzJqAQEBOq+7dOnSUkxCxui7777D2rVrkZiYiGPHjsHFxQWhoaFwdXVF7969xY5HZDB4LOWQYpmlUqmgUChw6dIl1KlTp0w+szDGVDcsDaxvkjGoIHYAY3Ho0CG8/fbbaNu2LQ4fPowFCxagatWqOH/+PNatW4cff/xR7Ig6efjwIfr374+DBw9CJpMhPj4ebm5uGDVqFCpWrIiQkBCxIxYqOzsbGzduRGRkJO7fvw+VSqXx+sGDB0VKVrCzZ8/qtJ6UC5pKlSrpnC81NbWU0+hPZGRkvn9P3377rUipdLdmzRp89tlnmDx5MhYsWIDs7GwAQMWKFREaGirZRoAUK+xUvknxWBLr+0mKZZZcLkedOnXw8OFDSTSoxa4bSrlMllJ9U+x6I8s6w8cGtZ7MnDkT8+fPR0BAAGxsbNTLvb29sXz5chGTFc2UKVNQoUIF3Lp1Cx4eHurl/fv3x5QpUwyiQT1p0iRs3LgR3bt3R8OGDSXdAM0tKipK7AglFhoaqv754cOHmD9/Pnx8fNC6dWsAwLFjxxAREYE5c+aIlLDo5s6di88//xzNmzeHo6Ojwfw95bZy5UqEhYWhT58++OKLL9TLmzdvjo8//ljEZAV7vcJ++vRpZGdno169egCAq1evwsTEBM2aNRMjHpVDUjuWxPx+kmqZ9eWXX2LatGlYs2YNGjZsKGoWseuGUi6TpVTfFLveyLLOCAikF1ZWVsL169cFQRAEa2trISEhQRAEQUhMTBTMzc3FjFYk1apVE86dOycIguZ+XL9+XbCyshIzms6qVKki/PLLL2LHKPf69u0rrFy5Umv5ypUrhd69e5d9oGKqXr26EB4eLnaMElEoFMKNGzcEQdA8rq9evSooFAoxo+ksJCRE6Nmzp5CamqpelpqaKvTu3VtYsmSJiMmoPJHasWQM30/6VrFiRcHMzEyQy+WCQqEQKlWqpPEoS1KqG0qtTJZSfVNK9UaWdYaJV6j1pGLFikhKSoKrq6vG8rNnz6JGjRoipSq6tLQ0WFpaai1PSUmBubm5CImKzszMDO7u7mLHKLK+ffvqvO6uXbtKMYl+REREYNGiRVrLfXx8MHPmTBESFU9mZibatGkjdowScXV1xblz5+Di4qKx/LfffkP9+vVFSlU0ISEh2L9/PypVqqReVqlSJcyfPx9du3bF1KlTRUxH5YXUjiUxv5+kWmYtW7ZMMj2JpFQ3lFqZLKX6ppTqjSzrDBNH+daTgQMHYsaMGUhOToZMJoNKpUJsbCw+/vhjDB06VOx4OuvQoQPCw8PVz1/ty+LFi+Ht7S1iMt1NnToVy5cvh2Bg4+3Z2dmpH7a2toiMjMSpU6fUr58+fRqRkZGws7MTMaXuqlSpgt27d2st37NnD6pUqSJCouIZNWoUvv/+e7FjlMi0adMwfvx4bN++HYIg4MSJE1iwYAE++eQTTJs2Tex4Onn69Cnu3buntfz+/fv4559/REhE5ZHUjiUxv5+kWmYNHz4cw4YNy/dRlqRUN5RamSyl+qaU6o0s6wwTR/nWk6ysLAwfPhzbtm2DIAioUKECsrOzMXDgQGzcuBEmJiZiR9TJ5cuX4eXlhWbNmuHgwYPo1asXLl26hNTUVMTGxqJ27dpiRyyUn58foqKiULlyZTRo0ACmpqYarxvC1d0ZM2YgNTUVa9euVf/tZGdnY9y4cbC1tcXixYtFTli4jRs3wt/fH76+vur7tY4fP459+/Zh3bp1GD58uLgBdTRp0iSEh4ejUaNGaNSokdbfk6EMEBIWFob58+fj9u3bAIAaNWogKCgI/v7+IifTzdChQ3Ho0CGEhISgVatWAHL+nqZNm4YOHTpg06ZNIiek8kJKx5JUvp+kVGaZmJggKSkJVatW1Vj+8OFDVK1aVT2QXFmQUt1QamWylOqbUqo3sqwzTGxQ69n169dx5swZqFQqNGnSRBKjTBZVcnIy1qxZg9OnT0OlUqFp06YYP348HB0dxY6mkxEjRhT4+oYNG8ooSfE5ODggJiZGPSDFK1euXEGbNm3w8OFDkZIVzR9//IEVK1YgLi4OgiCgfv36mDhxIlq2bCl2NJ0VdKZcJpNJdtT4/KSkpEClUmlVNqXu+fPn+Pjjj/Htt98iKysLAFChQgX4+/tj8eLFsLKyEjkhlTdSOJak8v0kpTJLLpcjOTlZ69/l7t27qF27tihzVEulbii1Mlkq9U0p1RtZ1hkmNqhLSXZ2Ni5cuAAXFxeN+yCkLCsrC127dsXXX3+NunXrih2nXKtUqRI2bNiAPn36aCzfs2cPRowYgUePHokTjEhkaWlpSEhIgCAIcHd3Z+WCSAKkUGatWLECQM7o0fPmzYO1tbX6tezsbBw+fBg3btzQebqv0mCIdcPSwPpm4VjWGRYOSqYnkydPhqenJ/z9/ZGdnY2OHTvi6NGjsLS0xP/+9z94eXmJHbFQpqamuHjxomQG8yipBw8e4MqVK5DJZKhbty4cHBzEjqSzESNGYOTIkbh27ZpGl58vvvii0DOpYnr69KnO69ra2pZiEv27du0aEhIS0KFDB1hYWEAQBIM5Vpo0aZJnVplMBoVCAXd3dwwfPtwgxklISkpCUlKSQf47kOGT6rEk9veTFMqsZcuWAQAEQdDoeg7kDDqlVCqxdu3aMsnyith1Q6mWyVKtb0qp3siyzsCU6ZjiRqxGjRrCyZMnBUEQhN27dwuOjo7ClStXhNmzZwtt2rQROZ3uAgIChBkzZogdo0SePXsmjBgxQjAxMRFkMpkgk8mEChUqCCNHjhTS0tLEjqeT7OxsYdGiRYKTk5N6H5ycnIRFixYJL1++FDtevmQymSCXywt8vFrHUKSkpAidOnVS5341tcfIkSOFgIAAkdPpZubMmYKdnZ3Qrl07ISAgQJgyZYrQvn17wc7OTpg0aZLQpUsXQS6XC3v27BE7ar6M4d+BDJ/UjiWpHBdSKrO8vLw0phwSk9h1QymXyVKqb0qp3iiVY5qKhl2+9UShUODatWuoWbMmPvjgA1haWiI0NBSJiYl48803i3SWUEwfffQRwsPD4e7ujubNm2t1MTGEAZjGjBmD33//HatWrULbtm0BADExMZg4cSK6dOmCNWvWiJywaF797RjCFd1Dhw7pvG7Hjh1LMYn+DB06FPfv38e6devg4eGBP//8E25ubti/fz+mTJmCS5cuiR2xUKNHj0atWrUwZ84cjeXz58/HzZs3ERYWhsDAQPzyyy8ao/RKiTH8O5Dhk9qxJMXjwpDKrNImdt1QymWylOqbUqo3SvGYpsKxQa0nLi4uCAsLQ+fOneHq6orVq1ejR48euHTpEtq1a2cw97xKZYCTkrC3t8ePP/6o1ZUqKioK/fr1w4MHD8QJVkQvX75EdHQ0EhISMHDgQNjY2ODu3buwtbXVuDeMSlf16tURERGBN998EzY2NurCLTExEZ6ennj27JnYEQtlZ2eH06dPa82zee3aNTRr1gxPnjzBX3/9hRYtWkh2Wg5j+Hcgwye1Y0lKx4VUyqzs7Gxs3LgRkZGRuH//PlQqlcbrZVmPMZa6YWmQUn1TSvVGKR3TpDveQ60nI0aMQL9+/eDo6AiZTIYuXboAyBlR8Y033hA5ne6ioqLEjlBiz58/R7Vq1bSWV61aFc+fPxchUdHdvHkTvr6+uHXrFjIyMtClSxfY2Njgyy+/RHp6epnfB1YSz58/x61bt5CZmamxvFGjRiIlKpq0tDRYWlpqLU9JSYG5ubkIiYpOoVDg6NGjWo2Ao0ePQqFQAABUKpWk98cY/h3I8EntWJLKcSGlMmvSpEnYuHEjunfvjoYNG4p636kU64ZSKZOlVN+UUr1RKsc0FQ0b1HoSFBSEhg0b4vbt23jvvffUf/QmJiaYOXOmyOnKl9atWyMwMBDh4eHqCs6LFy8wd+5c9dyLUjdp0iQ0b94cf/75J6pUqaJe7ufnh1GjRomYTHcPHjzAiBEj8Ntvv+X5elnOBVoSHTp0QHh4OObNmwcg58y5SqXC4sWLDWIQLyCna93YsWNx+vRptGjRAjKZDCdOnMC6devwySefAAAiIiLQpEkTkZPmzxj+HcjwSe1YkspxIaUya9u2bfjhhx/QrVu3Mv3cvEipbmgsZXJpkFK9USrHNBUNu3yXosePH6NixYpixygSb2/vAs/mGkKX74sXL8LX1xfp6el48803IZPJcO7cOSgUCkRERKBBgwZiRyyUvb09YmNjUa9ePY0uPzdu3ED9+vUN4kr7oEGDcOPGDYSGhsLb2xu7d+/GvXv3MH/+fISEhKB79+5iR9TJ5cuX4eXlhWbNmuHgwYPo1asXLl26hNTUVMTGxqJ27dpiR9TJli1bsGrVKly5cgUAUK9ePXz00UcYOHAggJzKw6uRiqXIWP4dyPBJ6ViSynEhpTLLyckJ0dHRkp2OSay6odTKZCnVN6VUb5TKMU1FwyvUerJo0SIolUr0798fANCvXz/s3LkTjo6O+PXXXw2me2vjxo01nmdlZeHcuXO4ePEihg0bJk6oImrYsCHi4+OxefNm/PXXXxAEAe+//z4GDRoECwsLsePpRKVS5Xm2+M6dO7CxsREhUdEdPHgQP/30E1q0aAG5XA4XFxd06dIFtra2CA4ONpgGdf369XH+/HmsWbMGJiYmSEtLQ9++fTF+/Hg4OjqKHU9ngwYNwqBBg/J9XerHhrH8O5Dhk9KxJJXjQkpl1tSpU7F8+XKsWrVK9GmGpFQ3lFqZLKX6ppTqjVI5pqloeIVaT9zc3LB582a0adMGBw4cQL9+/bB9+3b88MMPuHXrFvbv3y92xBIJCgrCs2fPsGTJErGjlAv9+/eHnZ0dvvnmG9jY2OD8+fNwcHBA7969UatWLWzYsEHsiIWytbXF+fPnoVQqoVQqsWXLFrRt2xaJiYlo0KCBQVxlJyKiwkmpzPLz80NUVBQqV66MBg0awNTUVOP1Xbt2lVkWKdUNDaVMZn2TDBGvUOtJUlISnJ2dAQD/+9//0K9fP3Tt2hVKpRItW7YUOV3JDR48GG+99ZZkv+D27t2Lt99+G6ampti7d2+B6/bq1auMUhXfsmXL4O3tjfr16yM9PR0DBw5EfHw87O3tsXXrVrHj6aRevXq4cuUKlEolGjdujK+//hpKpRJr1641uLOsjx49wvr16xEXFweZTAYPDw+MGDEClStXFjuaTrKzs7Fs2TJ1Je71wWhSU1NFSlY0jx8/xokTJ/IcuXfo0KEipaLyRIrHkhS+n6RUZlWsWBF+fn5l+pn5kVLd0FDK5LKqb0q53siyzgCJNQG2sXF0dBRiY2MFQRCEunXrCj/88IMgCILw119/CTY2NmJG04vw8HDB0dFR7Bj5kslkwr1799Q/5/eQy+UiJ9Xd8+fPhfXr1wvjx48XPvzwQyEsLEx4/vy52LEKFR8fLwiCIGzevFnYsGGDIAiCcObMGcHBwUGQy+WCQqEQtm3bJmLCoomOjhbs7OwEZ2dnwc/PT/Dz8xNq1aol2NraCtHR0WLH08mcOXMER0dHYfHixYJCoRDmzZsn+Pv7C1WqVBGWL18udjyd7N27V7CxsRHkcrlgZ2cnVKxYUf2oVKmS2PGonJDasSSl7ydDLbNKkxTqhoZWJpdVfVOq9UaWdYaJXb71ZMKECfjf//6HOnXq4OzZs7hx4wasra2xfft2LFq0CGfOnBE7ok769u2r8VwQBCQlJeHUqVOYM2cOAgMDRUpGhkIul6NGjRrw9vZWP5RKJZ4/f46//voLtWrVgr29vdgxddawYUO0adNGfT8TkHOVaty4cYiNjcXFixdFTli42rVrY8WKFejevTtsbGxw7tw59bLjx4/j+++/FztioerWrYtu3bph4cKFeU4pQlQWpHYsGcP3U2mQypzYUqgbSrVMZn0zbyzrDBMb1HqSlZWF5cuX4/bt2xg+fLh6yozQ0FBYW1sbzFRHw4cP1xjEQy6Xw8HBAZ06dULXrl1FTKa78PBw9O/fX2u+vszMTGzbtk2y3WWk3P2oKI4cOYJDhw4hOjoax44dQ3p6OmrVqoVOnTqpC/MaNWqIHVNnFhYWOHfuHOrVq6ex/MqVK2jcuDFevHghUjLdWVlZIS4uDrVq1YKjoyN++eUXNG3aFNevX0eTJk3w5MkTsSMWysrKChcuXICbm5vYUagck9qxJOb3k1TLrNfnxL569Src3NwwefLkMp8TWwp1Q6mWyVKqb0qp3siyzkCJeXmcqDTI5XJ1N57cUlJSJN3lW6rdj0oiMzNTOHTokDB37lzB29tbsLCwEORyuVC3bl2xo+msTZs2wu7du7WW7969W2jVqlXZByqGunXrCsePHxcEQRDatWsnBAcHC4IgCNu2bRMcHBzEjKYzPz8/Yfv27WLHoHJOaseSmN9PUi2zevfuLQwePFjIyMgQrK2thYSEBEEQcrrHu7u7l2kWqTGGMrk0SKneyLLOMHFQMj27fPlyngOVSPmKYm5ubm44efIkqlSporH88ePH6rPwUicIQp5TZdy5cwd2dnYiJNJN7oEnXh+EwlCZmpqiQ4cOaNGiBVq3bo2IiAiEhYXh2rVrYkcr0Pnz59U/T5w4EZMmTcK1a9fQqlUrAMDx48fx1Vdf4YsvvhArYpH4+fkhMjISLVu2xKRJkzBgwACsX78et27dwpQpU8SOp5Pu3btj2rRpuHz5Mjw9PbVG7jWU71gybFI4lqTy/STVMismJgaxsbEwMzPTWO7i4oK///5blExSqRtKqUyWUn1TSvVGlnWGiV2+9eT69evw8/PDhQsXIJPJ8OrX+uoAzWt+RimSy+VITk5G1apVNZbfu3cPtWrVQkZGhkjJCtekSRPIZDL8+eefaNCgASpU+O98UXZ2NhITE+Hr64sffvhBxJQF++OPP5Camoq3335bvSw8PByBgYFIS0tDnz59sHLlSq1uSVKTnp6Oo0ePIioqCtHR0Th58iRcXV3RsWNHdOjQAR07dpR0t2+5XK5xHOdHJpMZzLGd2/Hjx3H06FG4u7sbTOEsl8vzfc1Q/x3I8IlxLEnp+0mKZVblypURExOD+vXrw8bGBn/++Sfc3NwQExODd955B/fu3SuzLFKpG0qxTJZCfVOK9UaWdYaJV6j1ZNKkSXB1dcXvv/8ONzc3nDhxAg8fPsTUqVMlO9VUbrnvf4qIiNA4I5ednY3IyEgolUoRkumuT58+AIBz587Bx8dHY+ARMzMzKJVKvPPOOyKl001QUBC8vLzUlZMLFy7A398fw4cPh4eHBxYvXgwnJycEBQWJG7QAHTt2xMmTJ1G7dm106NABH330ETp27Ihq1aqJHU1niYmJYkcoVa1atVJfzTIUUroCRvSKGMeSlL6fpFhmdenSBaGhofjmm28A5DRCnj17hsDAQHTr1q3McgDSqBtKrUyWUn1TivVGlnWGiVeo9cTe3h4HDx5Eo0aNYGdnhxMnTqBevXo4ePAgpk6dirNnz4odsUCvzojlddbb1NQUSqUSISEh6NGjhxjximTTpk3o378/FAqF2FGKzNHRET///DOaN28OAJg9ezYOHTqEmJgYAMCOHTsQGBiIy5cvixmzQKampnB0dESfPn3g5eWFDh06GNSo3saisEGCcjOUq9REYuCxlD8plll3796Ft7c3TExMEB8fj+bNm6vnxD58+LDWFdHSJIW6odTKZCnWNw253kjSwCvUepKdna0+s2Vvb4+7d++iXr16cHFxwZUrV0ROV7hXZ8RcXV1x8uRJg24ADRs2TOwIxfbo0SONs8aHDh2Cr6+v+nmLFi1w+/ZtMaLp7PHjxzhy5Aiio6OxaNEiDBgwAHXr1kXHjh3h5eWFjh07wsHBQeyYRfLdd99h7dq1SExMxLFjx+Di4oLQ0FC4urqid+/eYsfL06sz74WRcheyFStW4IMPPoBCocCKFSsKXHfixIlllIrKG6kfS2J+P0mxzHJycsK5c+ewdetWnDlzBiqVCv7+/hg0aBAsLCzKNIsU6oZSK5OlWN8Uu97Iss4IiDMWmvFp166deqTNAQMGCL6+vkJMTIwwdOhQoUGDBuKGK2devnwpLF68WGjRooVQrVo1oVKlShoPKatVq5Zw6NAhQRAEISMjQ7CwsBB+//139evnz5+X/D687unTp8Kvv/4qTJs2TWjRooVgZmZmUMfE6tWrBXt7e2H+/PmChYWFesTYDRs2CF5eXiKnM25KpVJISUlR/5zfw9XVVeSkROIQ+/vJGMssfZJi3dDQy+TSIHa9kWWd4WODWk/27dsn7Ny5UxAEQUhISBA8PDwEmUwm2NvbC5GRkSKn091HH30kLF++XGv5ypUrhUmTJpV9oGKYM2eO4OjoKCxevFhQKBTCvHnzBH9/f6FKlSp57puUfPDBB0Lr1q2Fw4cPCwEBAUKVKlWEjIwM9eubN28WmjdvLmLCosvOzhaOHz8uBAcHC127dhUsLS0NauovDw8PdYUo9xQsFy5cEKpUqSJiMuP3+PFjsSMQSZrY309SLLPkcrng5eUlPHz4UGN5cnJymZc9UqwbSqVMllJ9U+x6I8s6w8d7qEtRamoqKlWqlOdQ/FJVo0YN7N27F82aNdNYfubMGfTq1Qt37twRKZnuateujRUrVqB79+6wsbHBuXPn1MuOHz+O77//XuyI+Xrw4AH69u2L2NhYWFtbY9OmTfDz81O/3rlzZ7Rq1QoLFiwQMWXBVCoVTp06hejoaERFRSE2NhZpaWmoUaMGvL291Q8XFxexo+rEwsICf/31F1xcXDRGjI2Pj0ejRo3w4sULsSPqJDIyEpGRkbh//77WoCfffvutSKkKZmJigqSkJFStWhWdOnXCrl27ULFiRbFjUTknpWNJ7O8nKZZZcrkcrVq1QnJyMvbu3YuGDRsCyBk92tHRUfRBn8q6bijVMllK9U2x640s6wwf76HWg5cvX0KhUODcuXPqL24gZ+oGQ/Pw4cM859yztbVFSkqKCImKLjk5GZ6engAAa2trPHnyBADQo0cPzJkzR8xohXJwcMCRI0fw5MkTWFtbw8TEROP1HTt2aIxCKUUVK1ZEWloaHB0d4eXlhaVLl8Lb2xu1a9cWO1qxuLq64ty5c1qVjd9++w0eHh4ipSqauXPn4vPPP0fz5s3h6OhoMCf5rK2t8fDhQ1StWhXR0dHIysoSOxKVc1I7lsT+fpJimSWTybBz50588cUXaNOmDb777jv1veRl+e8llbqhVMtkKdU3xa43sqwzfGxQ60GFChXg4uIi2YF9isLd3R379u3DhAkTNJb/9ttvcHNzEylV0dSsWRNJSUmoVasW3N3dsX//fjRt2hQnT56U/PzNr+RVyACGcZJm8eLF8Pb2Rt26dcWOohfTpk3D+PHjkZ6eDkEQcOLECWzduhULFy7E+vXrxY6nk7Vr12Ljxo0YMmSI2FGK5P/+7//g7e2tbhj4+fnBzMwsz3UPHjxYltGonJLasSSV7ycplVmCIMDExATLly9HgwYN0L9/f3z66acYNWpUmeaQSt1QqmWylOqbYtcbWdYZPjao9eTTTz/FrFmzsHnzZoNo9OQnICAAEyZMwIMHD9CpUycAOd3bQkJCEBoaKm44Hfn5+SEyMhItW7bEpEmTMGDAAKxfvx63bt3ClClTxI5n9MaMGSN2BL0aMWIEXr58ienTp+P58+cYOHAgatSogZUrV6J9+/Zix9NJZmYm2rRpI3aMItu8eTM2bdqEhIQEHDp0CA0aNIClpaXYsagck9qxZAzfT6Xpgw8+QN26dfHuu+/i0KFDZf75UqgbSrVMllJ9U+x6I8s6w8d7qPWkSZMmuHbtGrKysuDi4gIrKyuN18+cOSNSsqJbs2YNFixYgLt37wIAlEolgoKCMHToUJGTFc/x48dx9OhRuLu7l7s5Qkm/UlJSoFKpkJ2djYULF2LdunUGcQ/1jBkzYG1tLflbHgri7e2N3bt3874yEpWUjyVD/X7SN1dXV5w6dQpVqlRRL7t27Rp69uyJq1evlukVY2OqG5YGqdY3xaw3sqwzTGxQ60lQUFCB9+YEBgaWYRr9ePDgASwsLCR/zy5RaXj8+DHGjx+P/fv3w9TUFDNnzsSECRMwd+5cLFmyBPXr10dAQAAGDBggdtRCTZo0CeHh4WjUqBEaNWoEU1NTjdeXLl0qUrKiy8zMRGJiImrXro0KFdjJisqWVI4lY/p+Kivp6em4d+9emQ6+ZYx1w9LA+qY2lnWGhQ1qMkrfffcd1q5di8TERBw7dgwuLi4IDQ2Fq6urenASooKMGzcOP//8M/r37499+/YhLi4OPj4+SE9PR2BgIDp27Ch2RJ15e3vn+5pMJjOIe7JevHiBCRMmYNOmTQCAq1evws3NDRMnToSTkxNmzpwpckIqD6RyLBnT95O+ubm54eTJkxpXqIGckxBNmzbF9evXRUpGUiaVeiPLOgMl0nRdRsfV1VU9KXtujx49MqiJ2F9NHJ/fwxCsXr1asLe3F+bPny9YWFio5+XcsGGD4OXlJXI6MhS1atUSDhw4IAhCzvyhMpnMYOZiN0YTJ04UmjVrJhw5ckSwsrJSH9c//fST0LhxY5HTEZUtfj/lTyaTCffu3dNanpycLJiZmZVpFmOpG5YGKdU3pVRvZFlnmNiHQE9u3LiR5305GRkZBjF38yuTJ0/WeJ6VlYWzZ89i3759mDZtmjihimjlypUICwtDnz598MUXX6iXN2/eHB9//LGIyciQ3L17F/Xr1weQc8VDoVCU+Six9J89e/Zg+/btaNWqlUYXyvr16yMhIUHEZERlj99P2vbu3av+OSIiQmPk8ezsbERGRkKpVJZpJmOpG5YGKdU3pVRvZFlnmNigLiFdvsBdXV3FiFYskyZNynP5V199hVOnTpVxmuJJTExEkyZNtJabm5sjLS1NhERkiFQqlcb9kSYmJloDyhiSkydPYseOHbh16xYyMzM1Xtu1a5dIqXT34MEDVK1aVWt5Wlqa6HMBU/kihWPJ2L6f9KFPnz4AcrreDxs2TOM1U1NTKJVKhISElEkWY6sblgYp1TelVG9kWWeY2KAuISl9gZemt99+G7NmzcKGDRvEjlIoV1dXnDt3Tmvgkd9++019Rp+oMIIgYPjw4eo5KNPT0zF27FitSqshNEa3bduGoUOHomvXrjhw4AC6du2K+Ph4JCcnw8/PT+x4OmnRogV++eUXfPTRRwCgrliEhYWhdevWYkajckQqx5IxfT/pi0qlApBTBzh58iTs7e1Fy1Je6oalQYz6ppTqjSzrDBMb1CUkpS/w0vTjjz8azPza06ZNw/jx45Geng5BEHDixAls3boVwcHBWLdundjxyEC8XgkaPHiwSElKbuHChVi2bBnGjx8PGxsbLF++HK6urhgzZgwcHR3FjqeT4OBg+Pr64vLly3j58iWWL1+OS5cu4dixY6LML0vlk1SOJWP6ftK3xMREsSOUm7phaRCjvimleiPLOsPEUb5L6I8//kBqairefvtt9bLw8HAEBgYiLS0Nffr0wcqVK9VnkaWuSZMmGl1KBEFAcnIyHjx4gNWrV+ODDz4QMZ3uwsLCMH/+fNy+fRsAUKNGDQQFBcHf31/kZERlz8rKCpcuXYJSqYS9vT2ioqLg6emJuLg4dOrUCUlJSWJH1MmFCxewZMkSnD59GiqVCk2bNsWMGTPg6ekpdjQqJ4zlWDI2K1as0HndiRMnlmKSHMZWNywNUqtvSqneyLLO8PAKdQkFBgbC29tb/aV54cIF+Pv7Y/jw4fDw8MDixYvh5OSEoKAgcYPq6FU3pVfkcjkcHBzg5eWFN954Q5xQRfDy5Uts2bIFPXv2xOjRo5GSkgKVSpXn/ShE5UXlypXxzz//AMipJFy8eBGenp54/Pgxnj9/LnI63Xl6eqqnEiESg7EcS8Zm2bJlGs8fPHiA58+fo2LFigBypsyytLRE1apVy6RBbWx1w9IglfqmFOuNLOsMDxvUJfTnn39i/vz56ufbtm1Dy5YtERYWBgBwdnZGYGCgQXxpvnz5EkqlEj4+PqhevbrYcYqlQoUK+PDDDxEXFwcA7GZFBKB9+/Y4cOAAPD090a9fP0yaNAkHDx7EgQMH0LlzZ7Hj5evp06c6r2tra1uKSYhyGOqxZOxyd/P+/vvvsXr1aqxfvx716tUDAFy5cgWjR4/GmDFjyiSPMdUNS4OU6ptSqDeyrDN87PJdQgqFAvHx8XB2dgYAtGvXDr6+vvj0008B5EyZ4OnpqT6jLXWWlpaIi4vTGpjBkHh7e2PSpElaZz+JyqvU1FSkp6fDyckJKpUKS5YsQUxMDNzd3TFnzhxUqlRJ7Ih5ksvlOo9qmtfUNET6ZqjHUnlSu3Zt/Pjjj1qjNp8+fRrvvvtumdxjbWx1w9Igpfqm2PVGlnWGj1eoS6hatWpITEyEs7MzMjMzcebMGcydO1f9+j///KMxtYXUtWzZEmfPnpXEF1xxjRs3DlOnTsWdO3fQrFkzrVFPGzVqJFIyInHkHuBFLpdj+vTpmD59uoiJdBMVFaX++caNG5g5cyaGDx+uHun02LFj2LRpE4KDg8WKSOWMoR5L5UlSUhKysrK0lmdnZ+PevXtlksHY6oalQUr1TbHrjSzrDB+vUJfQmDFjcOHCBSxatAh79uzBpk2bcPfuXZiZmQEAtmzZgtDQUJw8eVLkpLrZsWMHZs6ciSlTphhsY1Qul2stk8lkEAQBMpmMZ/eo3DExMUFSUpLWPWEPHz5E1apVDeKY6Ny5M0aNGoUBAwZoLP/+++/xzTffIDo6WpxgVK4Yw7Fk7Hr27Ilbt25h/fr1aNasGWQyGU6dOoXRo0fD2dlZY47o0mJsdcPSIKX6ppTqjSzrDBMb1CX04MED9O3bF7GxsbC2tsamTZs05qLs3LkzWrVqhQULFoiYUndS+lIprps3bxb4uhTOhhKVJblcjuTkZK1GwN27d1G7dm28ePFCpGS6s7S0xJ9//ok6depoLL969SoaN27MAaGoTBjDsWTsHjx4gGHDhmHfvn3qq8AvX76Ej48PNm7cWCaDTRlb3bA0SKm+KaV6I8s6w8Qu3yXk4OCAI0eO4MmTJ7C2toaJiYnG6zt27IC1tbVI6YpOCvM3lhQbzEQ5Xk0lI5PJsG7dOo3vouzsbBw+fNggRu8HcgbxWbt2LUJCQjSWf/311+r7FIlKizEdS8bOwcEBv/76K65evYq//voLgiDAw8MDdevWLdMMxlQ3LA1Sqm9Kqd7Iss4w8Qo1aTh8+DDatGmDChU0z7W8fPkSR48eRYcOHURKprvg4GBUq1YNI0eO1Fj+7bff4sGDB5gxY4ZIyYjKlqurK4Ccs+81a9bUqNSZmZlBqVTi888/R8uWLcWKqLNff/0V77zzDmrXro1WrVoBAI4fP46EhATs3LkT3bp1EzkhGTNjOpaIpEBK9U0p1RtZ1hkmNqhJgzHcH6ZUKvH999+jTZs2Gsv/+OMPvP/++5I6K0pUFry9vbFr1y6DH4H4zp07WL16tfqqU/369TF27FietacyYyzHkrG7c+cO9u7di1u3biEzM1PjtaVLl4qUinKTUn1TavVGlnWGh12+ScOre1de9/DhQ60BI6QqOTkZjo6OWssdHByQlJQkQiIiceUeQRTI6aJ64cIFuLi4GFTDoGbNmli4cKHYMagcM5ZjyZhFRkaiV69ecHV1xZUrV9CwYUPcuHEDgiCgadOmYsejf0mpvim1eiPLOsPDBjUBAPr27Qsg5/6w4cOHw9zcXP1adnY2zp8/r3XmTqqcnZ0RGxur7qL3SmxsLJycnERKRSSeyZMnw9PTE/7+/sjOzkaHDh1w7NgxWFpa4n//+x+8vLzEjqiTx48f48SJE7h//z5UKpXGa0OHDhUpFZUnxnIsGbNZs2Zh6tSp+Pzzz2FjY4OdO3eiatWqGDRoEHx9fcWOV+5Jsb4ptXojyzrDwwY1AQDs7OwA5JwxtLGxgYWFhfo1MzMztGrVCqNHjxYrXpGMGjUKkydPRlZWFjp16gQg54z19OnTMXXqVJHTEZW9HTt2YPDgwQCAn3/+GTdu3MBff/2F8PBwzJ49G7GxsSInLNzPP/+MQYMGIS0tDTY2NhpXNmQyGSsZVCaM4VgydnFxcdi6dSsAoEKFCnjx4gWsra3x+eefo3fv3vjwww9FTli+SbG+KaV6I8s6w8QGNQEANmzYACDnPpKPP/7YYLp352X69OlITU3FuHHj1PdOKRQKzJgxA7NmzRI5HVHZe/jwIapXrw4gZ8CT9957D3Xr1oW/v7969GKpmzp1KkaOHImFCxfC0tJS7DhUThnDsWTsrKyskJGRAQBwcnJCQkICGjRoAABISUkRMxpBmvVNKdUbWdYZJg5KRhpevHgBQRDUB/HNmzexe/du1K9fH127dhU5XdE8e/YMcXFxsLCwQJ06dTS6FRGVJy4uLggLC0Pnzp3h6uqK1atXo0ePHrh06RLatWuHR48eiR2xUFZWVrhw4QLc3NzEjkLlmDEcS8auT58+6N69O0aPHo3p06dj9+7dGD58uHowud9//13siARp1jelUG9kWWeYtGdVp3Ktd+/eCA8PB5BzD8dbb72FkJAQ9O7dG2vWrBE5XdEkJycjNTUVtWvXhrm5OXjuiMqrESNGoF+/fmjYsCFkMhm6dOkCIGcEU0OZO9fHxwenTp0SOwaVc8ZwLBm7pUuXqqcvCwoKQpcuXbB9+3a4uLhg/fr1IqejV6RY35RCvZFlnWFil2/ScObMGSxbtgwA8OOPP6J69eo4e/Ysdu7cic8++8wg7j16+PAh+vXrh6ioKMhkMsTHx8PNzQ2jRo1CxYoVERISInZEojIVFBSEhg0b4vbt23jvvffUZ91NTEwwc+ZMkdPppnv37pg2bRouX74MT09PmJqaarzeq1cvkZJReWIMx5Kxy31lz9LSEqtXrxYxDeVHSvVNKdUbWdYZJnb5Jg2Wlpb466+/UKtWLfTr1w8NGjRAYGAgbt++jXr16uH58+diRyzU0KFDcf/+faxbtw4eHh74888/4ebmhv3792PKlCm4dOmS2BGJqIjk8vw7VMlksjKds5SIpMvNzQ0nT55ElSpVNJY/fvwYTZs2xfXr10VKRrlJqb4ppXojyzrDxC7fpMHd3R179uzB7du3ERERob6P5f79+7C1tRU5nW7279+PRYsWoWbNmhrL69Spg5s3b4qUikhckZGR6NGjB2rXrg13d3f06NHDoO4lVKlU+T5YwaCyZOjHkrG7ceNGnt8JGRkZ+Pvvv0VIRHmRUn1TSvVGlnWGiV2+ScNnn32GgQMHYsqUKejcuTNat24NIOfLpkmTJiKn001aWlqeIyOmpKRwYDIql1atWoUpU6bg3XffxaRJkwAAx48fR7du3bB06VJMmDBB5ISF+/zzz/N9TSaTYc6cOWWYhsorYziWjNXevXvVP0dERKinZwJy5jeOjIyEUqkUIRnlRUr1TSnVG1nWGSZ2+SYtycnJSEpKwptvvqnuenLixAnY2toaxKAr3bt3R9OmTTFv3jzY2Njg/PnzcHFxwfvvvw+VSoUff/xR7IhEZapGjRqYNWuWVmX/q6++woIFC3D37l2Rkunu9QpWVlYWEhMTUaFCBdSuXRtnzpwRKRmVJ8ZwLBmrV/UVmUymNZiUqakplEolQkJC0KNHDzHiUR6kUt+UUr2RZZ1hYoOajE5cXBw6duyIZs2a4eDBg+jVqxcuXbqE1NRUxMbGonbt2mJHJCpTNjY2OHv2LNzd3TWWx8fHo0mTJnj27JlIyUrm6dOnGD58OPz8/DBkyBCx41A5YKzHkjFxdXXFyZMnYW9vL3YUMhBSrzeyrJM+NqhJy8mTJ7Fjxw7cunVLPcH9K7t27RIplW6ysrLQtWtXBAcH47fffsPp06ehUqnQtGlTjB8/Ho6OjmJHJCpzgwYNQuPGjTFt2jSN5UuWLMHp06exdetWkZKV3MWLF9GjRw/cuHFD7ChUDhjzsWTo/vjjD6SmpuLtt99WLwsPD0dgYCDS0tLQp08frFy5krd+SYgU6puGUm9kWSdtvIeaNGzbtg1Dhw5F165dceDAAXTt2hXx8fFITk6Gn5+f2PEKZWpqiosXL6JKlSqYO3eu2HGIRLNixQr1zx4eHliwYAGio6PV96kdP34csbGxmDp1qlgR9eLx48d48uSJ2DHIiJWXY8nQBQYGwtvbW92gvnDhAvz9/TF8+HB4eHhg8eLFcHJyQlBQkLhBCYB06puGUm9kWSdtvEJNGho1aoQxY8Zg/PjxsLGxwZ9//glXV1eMGTMGjo6Okv6yeWXq1KkwNTXFF198IXYUItG4urrqtJ5MJjOIaWRyN2oAQBAEJCUl4bvvvkOHDh14ZZBKjbEdS8bK0dERP//8M5o3bw4AmD17Ng4dOoSYmBgAwI4dOxAYGIjLly+LGZP+JaX6ppTqjSzrDBMb1KTBysoKly5dglKphL29PaKiouDp6Ym4uDh06tQJSUlJYkcs1EcffYTw8HC4u7ujefPmsLKy0nh96dKlIiUjEldKSgpkMpnW/KyG4PVGjVwuh4ODAzp16oRZs2bBxsZGpGRUHhnysWSsFAoF4uPj4ezsDABo164dfH198emnnwLImU7L09MT//zzj5gx6V9Sqm9Kqd7Iss4wscs3aahcubK6sKlRowYuXrwIT09PPH78GM+fPxc5nW4uXryIpk2bAgCuXr2q8ZpMJhMjEpFoHj9+jNmzZ2P79u149OgRAKBSpUp4//33MX/+fFSsWFHcgDpKTEwUOwKVc8ZyLBmratWqITExEc7OzsjMzMSZM2c0rnL+888/MDU1FTEh5Sal+qaU6o0s6wwTG9SkoX379jhw4AA8PT3Rr18/TJo0CQcPHsSBAwfQuXNnsePpJCoqSuwIRJKQmpqK1q1b4++//8agQYPg4eEBQRAQFxeHjRs3IjIyEkePHkWlSpXEjkokaTyWpM/X1xczZ87EokWLsGfPHlhaWqJ9+/bq18+fPy/6aM30HynVN1lvpJJil2/SkJqaivT0dDg5OUGlUmHJkiWIiYmBu7s75syZw8oCkQGZPHkyIiMj8fvvv6NatWoaryUnJ6Nr167o3Lkzli1bJlJCIsPAY0n6Hjx4gL59+yI2NhbW1tbYtGmTxuBWnTt3RqtWrbBgwQIRU9IrrG+SMWGDmtRevnyJLVu2wMfHB9WrVxc7DhGVkFKpxNdffw0fH588X9+3bx/Gjh3LaTiICsFjyXA8efIE1tbWMDEx0ViempoKa2trmJmZiZSMXmF9k4wNG9SkwdLSEnFxcXBxcRE7ChGVkLm5ORISElCzZs08X79z5w7c3d2Rnp5exsmIDAuPJSL9Yn2TjIlc7AAkLS1btsTZs2fFjkFEemBvb1/gFbPExESOUkykAx5LRPrF+iYZEw5KRhrGjRuHqVOn4s6dO2jWrJnW1AGNGjUSKRkRFZWvry9mz56NAwcOaHVzzMjIwJw5c+Dr6ytSOiLDwWOJSL9Y3yRjwi7fpEEu1+60IJPJIAgCZDIZsrOzRUhFRMVx584dNG/eHObm5hg/fjzeeOMNAMDly5exevVqZGRk4NSpU+p5W4kobzyWiPSL9U0yJmxQk4abN28W+DrvdSEyLImJiRg3bhz279+PV1/3MpkMXbp0wapVq+Du7i5yQiLDwGOJSH9Y3yRjwgY1oWnTpoiMjESlSpXw+eef4+OPP4alpaXYsYhIjx49eoT4+HgAgLu7OypXrixyIiLDxGOJqHhY3yRjxQY1wcLCAvHx8ahZsyZMTEyQlJSEqlWrih2LiIiIiIwE65tkrDgoGaFx48YYMWIE2rVrB0EQsGTJElhbW+e57meffVbG6YiIiIjI0LG+ScaKV6gJV65cQWBgIBISEnDmzBnUr18fFSpon2uRyWQ4c+aMCAmJiIiIyJCxvknGig1q0iCXy5GcnMwuOERERERUKljfJGPCBjURERERERFRMfAeatJy9epVREdH4/79+1CpVBqv8Z4WIiIiIiop1jfJWPAKNWkICwvDhx9+CHt7e1SvXh0ymUz9Gu9pISIiIqKSYn2TjAkb1KTBxcUF48aNw4wZM8SOQkRERERGiPVNMiZsUJMGW1tbnDt3Dm5ubmJHISIiIiIjxPomGRO52AFIWt577z3s379f7BhEREREZKRY3yRjwkHJSIO7uzvmzJmD48ePw9PTE6amphqvT5w4UaRkRERERGQMWN8kY8Iu36TB1dU139dkMhmuX79ehmmIiIiIyNiwvknGhA1qIiIiIiIiomJgl29CQEAA5s2bBysrKwQEBOS7nkwmQ0hISBkmIyIiIiJjwPomGSs2qAlnz55FVlaW+uf85J4jkIiIiIhIV6xvkrFil28iIiIiIiKiYuC0WURERERERETFwAY1ERERERERUTGwQU1ERERERERUDGxQExERERERERUDG9RERERERERExcAGNREREREREVExsEFNREREREREVAxsUBMREREREREVAxvURERERERERMXABjURERERERFRMbBBTURERERERFQMbFATERERERERFQMb1ERERERERETFwAY1ERERERERUTGwQU1ERERERERUDGxQExERERERERUDG9RERERERERExcAGNREREREREVExsEFNREREREREVAxsUBMREREREREVAxvURERERERERMXABjURERERERFRMbBBTURERERERFQMbFATERERERERFQMb1ERERERERETFwAY1ERERERERUTGwQU1ERERERERUDGxQExERERERERXD/wPxRC/V7t+5TQAAAABJRU5ErkJggg==",
      "application/papermill.record/text/plain": "<Figure size 1000x500 with 3 Axes>"
     },
     "metadata": {
      "scrapbook": {
       "mime_prefix": "application/papermill.record/",
       "name": "land_use_dist"
      }
     },
     "output_type": "display_data"
    }
   ],
   "source": [
    "st_sulpice = land_use_agg.loc[(land_use_agg.city==\"Saint-Sulpice (VD)\")]\n",
    "sp = st_sulpice[[\"magnitude\", \"scaled\", \"binned\", \"use\"]]\n",
    "uses = sp.use.unique()\n",
    "\n",
    "tcols = [\"binned\", \"scaled\", \"magnitude\", \"use\"]\n",
    "tst = land_use_agg[[*tcols, \"water_name\"]]\n",
    "tst = tst[tst.water_name == wn_map.loc[\"plage-de-st-sulpice\"]]\n",
    "tst = tst[~tst.use.isin([\"Geroell\", \"Stausee\"])]\n",
    "tstx = tst.pivot(columns=\"use\", values=\"scaled\").fillna(0)\n",
    "\n",
    "corr = tstx.corr()\n",
    "mask = np.triu(np.ones_like(corr, dtype=bool))\n",
    "\n",
    "fig, axs = plt.subplots(1, 2, figsize=(10, 5))\n",
    "\n",
    "ax = axs[0]\n",
    "sns.boxplot(data=land_use_agg[land_use_agg.use.isin(uses)], x=\"use\", y=\"scaled\", ax=ax)\n",
    "sns.stripplot(data=sp, x=\"use\", y=\"scaled\", ax=ax, color=\"magenta\", label=\"Saint-Sulpice (VD)\")\n",
    "ax.set_title(\"Distribution of measured variables\", loc=\"left\")\n",
    "ax.tick_params(axis='x', labelrotation = 90)\n",
    "ax.set_xlabel(\" \")\n",
    "h, l = ax.get_legend_handles_labels()\n",
    "ax.legend([h[0]], [l[0]])\n",
    "\n",
    "sns.heatmap(corr, mask=mask, cmap=\"YlOrBr\", ax=axs[1])\n",
    "\n",
    "axs[1].set_ylabel(\"\")\n",
    "axs[1].set_xlabel(\"\")\n",
    "axs[1].set_title(\"Correlation of measured variables\", loc=\"left\")\n",
    "plt.tight_layout()\n",
    "\n",
    "glue(\"land_use_dist\", fig, display=False)\n",
    "plt.close()"
   ]
  },
  {
   "cell_type": "markdown",
   "metadata": {
    "editable": true,
    "slideshow": {
     "slide_type": ""
    },
    "tags": []
   },
   "source": [
    "```{glue:figure} land_use_dist\n",
    "\n",
    "Distribution and correlation of measured environmental variables\n",
    "``` "
   ]
  },
  {
   "cell_type": "markdown",
   "metadata": {
    "editable": true,
    "slideshow": {
     "slide_type": ""
    },
    "tags": []
   },
   "source": [
    "__The land-use profile of a survey location__ is the unique combination of the measured attributes. For example at the _plage-de-saint-sulpice_ 97% of the dry land is occupied buildings, the rest is either woods (2%) or undefined < 1%. In relation to all other survey locations there is more land attributed to infrastructure and less attributed to recreation (table 1). The column _binned_ is the percentile group that the measured-value corresponds to when all survey locations are considered. Recall that the measured variables are grouped by intervals of 0.05, from the scaled column. Therefore, the amount of land attributed to infrstructure at _plage-de-saint-sulpice_ is greater than 70% of all other locations and the amount of land atrributed to buildings is greater than 95% of all other survey locations. Conversely at _plage-de-saint-sulpice_ the amount attributed to woods is less than 95% of all other locations."
   ]
  },
  {
   "cell_type": "code",
   "execution_count": 5,
   "metadata": {
    "editable": true,
    "jupyter": {
     "source_hidden": true
    },
    "slideshow": {
     "slide_type": ""
    },
    "tags": [
     "remove-input"
    ]
   },
   "outputs": [],
   "source": [
    "cois = [\n",
    "    'Gfrags', 'G30', 'G27', 'Gfoam', 'G95', 'Gcaps', 'G67', 'G35', 'G89',\n",
    "    'G31', 'G32', 'G100', 'G33', 'G25', 'G70', 'G10'\n",
    "]\n",
    "\n",
    "# this defines the css rules for the note-book table displays\n",
    "header_row = {'selector': 'th:nth-child(1)', 'props': f'background-color: #FFF; text-align:right'}\n",
    "even_rows = {\"selector\": 'tr:nth-child(even)', 'props': f'background-color: rgba(139, 69, 19, 0.08);'}\n",
    "odd_rows = {'selector': 'tr:nth-child(odd)', 'props': 'background: #FFF;'}\n",
    "table_font = {'selector': 'tr', 'props': 'font-size: 12px;'}\n",
    "table_data = {'selector': 'td', 'props': 'padding: 6px;'}\n",
    "table_caption = {'selector': 'caption', 'props': 'font-size: 14px; font-style: italic; caption-side: bottom; text-align: left; margin-top: 10px'}\n",
    "table_css_styles = [even_rows, odd_rows, table_font, header_row, table_caption]\n",
    "\n",
    "# thresholds\n",
    "thold_data = all_data[(all_data.date >= make_date_object(\"2020-04-01\"))&(all_data.date <= make_date_object(\"2021-05-01\"))]\n",
    "thold_data = thold_data[thold_data.water_name_slug == \"lac-leman\"]\n",
    "thold_data = thold_data[thold_data.code.isin(cois)]\n",
    "# thold_data = thold_data.groupby([\"loc_date\", \"code\"], as_index=False).pcs_m.sum()\n",
    "tholds = thold_data.groupby([\"code\"]).pcs_m.median()\n",
    "tholds_r = (tholds * 100).round()\n",
    "thold_data[\"object\"] = thold_data.code.apply(lambda x: code_d.loc[x])\n",
    "tholdsx = thold_data.groupby([\"code\", \"object\"], as_index=False).pcs_m.median()\n",
    "tholdsx.rename(columns={\"pcs_m\":\"threshold\"}, inplace=True)\n",
    "tholdsx.set_index(\"code\", drop=True, inplace=True)\n",
    "tholdsx.index.name = None"
   ]
  },
  {
   "cell_type": "code",
   "execution_count": 6,
   "metadata": {
    "editable": true,
    "jupyter": {
     "source_hidden": true
    },
    "slideshow": {
     "slide_type": ""
    },
    "tags": [
     "remove-input"
    ]
   },
   "outputs": [
    {
     "name": "stdout",
     "output_type": "stream",
     "text": [
      "There is no prior series specified: no operation\n"
     ]
    }
   ],
   "source": [
    "# data for the initial sampling period\n",
    "# the dates of the sampling period\n",
    "# the start and end date\n",
    "slr_d, slr_e = make_date_object(\"2015-11-15\"), make_date_object(\"2016-11-14\")\n",
    "\n",
    "# the date range of the samples\n",
    "date_mask = (all_data[\"date\"] >= slr_d) & (all_data[\"date\"] <= slr_e)\n",
    "\n",
    "# likelihood: the locations from the lake of interest that were surveyed during the time frame\n",
    "# these locations furnish the data for the likelihood, they make up the current results\n",
    "lake_locations = all_data[date_mask & (all_data.water_name_slug == 'lac-leman')].location.unique()\n",
    "\n",
    "xrange =  np.arange(0.01, 10, step=.01)\n",
    "xtest = pd.DataFrame(data=xrange, columns=[\"x\"])\n",
    "xtesti = xtest.copy()\n",
    "\n",
    "uniformed_prior = [0.5 for x in xrange]\n",
    "\n",
    "lake = \"lac-leman\"\n",
    "coi = \"Saint-Sulpice (VD)\"\n",
    "code = \"Gfrags\"\n",
    "    \n",
    "yearone = GridApproximation(slr_d, slr_e, lake, lake_locations, cois, all_data, land_use_agg, tholds_r, xrange, uniformed_prior=uniformed_prior)\n",
    "\n",
    "tdata = yearone.testwo.prior_data  \n",
    "uses = yearone.testwo.land_use_data.use.unique()\n",
    "\n",
    "\n",
    "# sample totals per code all lake locations\n",
    "cstart = yearone.testwo.current_data.groupby([\"loc_date\", \"date\", \"code\"], as_index=False).pcs_m.sum()\n",
    "ctot = cstart.groupby([\"loc_date\", \"date\"], as_index=False).pcs_m.sum()\n",
    "city_results = yearone.testwo.current_data[yearone.testwo.current_data.city == coi]\n",
    "\n",
    "# sample totals per code all locations in city\n",
    "city_tot = city_results.groupby([\"loc_date\", \"date\"], as_index=False).pcs_m.sum()\n",
    "city_start = city_results.groupby([\"loc_date\", \"date\", \"code\"], as_index=False).pcs_m.sum()\n",
    "\n",
    "cmedian = cstart.groupby(\"code\", as_index=False).pcs_m.mean()"
   ]
  },
  {
   "cell_type": "code",
   "execution_count": 7,
   "metadata": {
    "editable": true,
    "jupyter": {
     "source_hidden": true
    },
    "slideshow": {
     "slide_type": ""
    },
    "tags": [
     "remove-input"
    ]
   },
   "outputs": [],
   "source": [
    "profile_data, profiles_dict =  land_use_profile_from_data(tdata, code, uses)  \n",
    "gradient_p, ud = make_prior_by_use( tdata[(tdata.code == code)], xtest, profiles_dict)\n",
    "\n",
    "xtesti[\"gradient_p\"] = gradient_p\n",
    "\n",
    "parc_pier =  tdata[(tdata.code == code) & (tdata.location == \"parc-des-pierrettes\")]\n",
    "profile_data_pp, profiles_dict_pp =  land_use_profile_from_data(parc_pier, code, yearone.uses)  \n",
    "gradient_pp, udp = make_prior_by_use(tdata[(tdata.code == code)], xtest, profiles_dict_pp)\n",
    "\n",
    "xtesti[\"prior_use_pp\"] = gradient_pp\n",
    "\n",
    "data = tdata[tdata.code == \"Gfrags\"]\n",
    "prior = np.ones(len(xrange))\n",
    "ud = []\n",
    "\n",
    "for k, v in profiles_dict.items():   \n",
    "    \n",
    "    str_i = data[(data[k].isin(v))].copy()\n",
    "   \n",
    "    use_dist_i = y_exceeds_x_one_code_bin_category(str_i, xtest)\n",
    "    ud.append((use_dist_i, str_i))        \n",
    "  \n",
    "    prior *= use_dist_i.theta\n",
    "    \n",
    "xtesti[\"apriori_i\"] = prior"
   ]
  },
  {
   "cell_type": "code",
   "execution_count": 8,
   "metadata": {
    "editable": true,
    "jupyter": {
     "source_hidden": true
    },
    "slideshow": {
     "slide_type": ""
    },
    "tags": [
     "remove-input"
    ]
   },
   "outputs": [
    {
     "data": {
      "text/html": [
       "<style type=\"text/css\">\n",
       "#T_0242c tr:nth-child(even) {\n",
       "  background-color: rgba(139, 69, 19, 0.08);\n",
       "}\n",
       "#T_0242c tr:nth-child(odd) {\n",
       "  background: #FFF;\n",
       "}\n",
       "#T_0242c tr {\n",
       "  font-size: 12px;\n",
       "}\n",
       "#T_0242c th:nth-child(1) {\n",
       "  background-color: #FFF;\n",
       "  text-align: right;\n",
       "}\n",
       "#T_0242c caption {\n",
       "  font-size: 14px;\n",
       "  font-style: italic;\n",
       "  caption-side: bottom;\n",
       "  text-align: left;\n",
       "  margin-top: 10px;\n",
       "}\n",
       "</style>\n",
       "<table id=\"T_0242c\">\n",
       "  <caption>Table 1: Land use profile of plage-de-saint-sulpice</caption>\n",
       "  <thead>\n",
       "    <tr>\n",
       "      <th class=\"blank level0\" >&nbsp;</th>\n",
       "      <th id=\"T_0242c_level0_col0\" class=\"col_heading level0 col0\" >magnitude</th>\n",
       "      <th id=\"T_0242c_level0_col1\" class=\"col_heading level0 col1\" >scaled</th>\n",
       "      <th id=\"T_0242c_level0_col2\" class=\"col_heading level0 col2\" >binned</th>\n",
       "    </tr>\n",
       "  </thead>\n",
       "  <tbody>\n",
       "    <tr>\n",
       "      <th id=\"T_0242c_level0_row0\" class=\"row_heading level0 row0\" >Strasse</th>\n",
       "      <td id=\"T_0242c_row0_col0\" class=\"data row0 col0\" >65518</td>\n",
       "      <td id=\"T_0242c_row0_col1\" class=\"data row0 col1\" >0.313693</td>\n",
       "      <td id=\"T_0242c_row0_col2\" class=\"data row0 col2\" >7</td>\n",
       "    </tr>\n",
       "    <tr>\n",
       "      <th id=\"T_0242c_level0_row1\" class=\"row_heading level0 row1\" >infrastructure</th>\n",
       "      <td id=\"T_0242c_row1_col0\" class=\"data row1 col0\" >1022280</td>\n",
       "      <td id=\"T_0242c_row1_col1\" class=\"data row1 col1\" >0.734544</td>\n",
       "      <td id=\"T_0242c_row1_col2\" class=\"data row1 col2\" >15</td>\n",
       "    </tr>\n",
       "    <tr>\n",
       "      <th id=\"T_0242c_level0_row2\" class=\"row_heading level0 row2\" >recreation</th>\n",
       "      <td id=\"T_0242c_row2_col0\" class=\"data row2 col0\" >99620</td>\n",
       "      <td id=\"T_0242c_row2_col1\" class=\"data row2 col1\" >0.174540</td>\n",
       "      <td id=\"T_0242c_row2_col2\" class=\"data row2 col2\" >4</td>\n",
       "    </tr>\n",
       "    <tr>\n",
       "      <th id=\"T_0242c_level0_row3\" class=\"row_heading level0 row3\" >Siedl</th>\n",
       "      <td id=\"T_0242c_row3_col0\" class=\"data row3 col0\" >2905921</td>\n",
       "      <td id=\"T_0242c_row3_col1\" class=\"data row3 col1\" >0.975773</td>\n",
       "      <td id=\"T_0242c_row3_col2\" class=\"data row3 col2\" >20</td>\n",
       "    </tr>\n",
       "    <tr>\n",
       "      <th id=\"T_0242c_level0_row4\" class=\"row_heading level0 row4\" >Wald</th>\n",
       "      <td id=\"T_0242c_row4_col0\" class=\"data row4 col0\" >64229</td>\n",
       "      <td id=\"T_0242c_row4_col1\" class=\"data row4 col1\" >0.021567</td>\n",
       "      <td id=\"T_0242c_row4_col2\" class=\"data row4 col2\" >1</td>\n",
       "    </tr>\n",
       "    <tr>\n",
       "      <th id=\"T_0242c_level0_row5\" class=\"row_heading level0 row5\" >undefined</th>\n",
       "      <td id=\"T_0242c_row5_col0\" class=\"data row5 col0\" >7921</td>\n",
       "      <td id=\"T_0242c_row5_col1\" class=\"data row5 col1\" >0.002660</td>\n",
       "      <td id=\"T_0242c_row5_col2\" class=\"data row5 col2\" >1</td>\n",
       "    </tr>\n",
       "  </tbody>\n",
       "</table>\n"
      ],
      "text/plain": [
       "<pandas.io.formats.style.Styler at 0x7feff42de0a0>"
      ]
     },
     "execution_count": 8,
     "metadata": {},
     "output_type": "execute_result"
    }
   ],
   "source": [
    "caption=\"Table 1: Land use profile of plage-de-saint-sulpice\"\n",
    "table_one = yearone.testwo.land_use_data.loc[\"plage-de-st-sulpice\"][[\"use\",\"magnitude\", \"scaled\", \"binned\"]]\n",
    "table_one.set_index(\"use\", inplace=True, drop=True)\n",
    "table_one.index.name = None\n",
    "table_one.style.set_caption(caption).set_table_styles(table_css_styles)"
   ]
  },
  {
   "cell_type": "markdown",
   "metadata": {
    "editable": true,
    "slideshow": {
     "slide_type": ""
    },
    "tags": []
   },
   "source": [
    "#### Sequential priors\n",
    "\n",
    "Sequential priors use the uninformed posterior distribution (next section) from the previous sampling campaign for the prior of the current sampling campaign. This amounts to considering only the numerical result of the previous surveys and not including survey results from similar locations.\n",
    "\n",
    "#### Uninformed (uniform) priors\n",
    "\n",
    "Uninformed priors are probability distributions that should not influence the expected probability distribution that is derived from the likelihood. In other words, each sampling period is considered a new experience and their is no complentary information to add that might change our expectations. In this study each calculation is a binary result, therefore we use 0.5 to represent the condition that we have no expectation that a particular survey results will exceed a given threshold.\n",
    "\n",
    "#### Priors: summary\n",
    "\n",
    "Using the notation from equation 6 (Bayes theorem) the effect of the different priors on the expected results can be assessed directly, equations 7-9 demonstrate the different calculations for each prior at each aggregation level.\n",
    "\n",
    "$$\n",
    "\\begin{align}\n",
    "p(\\theta | \\text{survey data}) =&\\ \\frac{p(\\text{environmental conditions})p(\\text{survey data}|\\theta)}{p(\\text{survey data})}\\\\[10pt]\n",
    "p(\\theta | \\text{survey data}) =&\\ \\frac{p(\\text{previous results})p(\\text{survey data}|\\theta)}{p(\\text{survey data})}\\\\[10pt]\n",
    "p(\\theta | \\text{survey data}) =&\\ \\frac{p(\\text{uninformed})p(\\text{survey data}|\\theta)}{p(\\text{surveydata})}\\\\[10pt]\n",
    "\\end{align}\n",
    "$$\n",
    "\n"
   ]
  },
  {
   "cell_type": "markdown",
   "metadata": {
    "editable": true,
    "slideshow": {
     "slide_type": ""
    },
    "tags": []
   },
   "source": [
    "## Codes of interest\n",
    "\n",
    "The codes of interest were chosen because they appear in the 2022 results. It was just luck that there are compatible test data for the model based on the previous survey results. The sampling campaign from 2022 did not involve the authors of this study, thus it is truly an independent test of the sampling methods and proposed model. Collectively these 16 codes account for 76% of the objects identified in 2022, 67% of the objects in 2021 and 58% of the objects found by team SWE, (table 2). From a machine learning standpoint the 2022 results are the test data to the training data that was collected between 2015 and 2021."
   ]
  },
  {
   "cell_type": "code",
   "execution_count": 9,
   "metadata": {
    "editable": true,
    "jupyter": {
     "source_hidden": true
    },
    "slideshow": {
     "slide_type": ""
    },
    "tags": [
     "remove-input"
    ]
   },
   "outputs": [
    {
     "data": {
      "text/html": [
       "<style type=\"text/css\">\n",
       "#T_6216b tr:nth-child(even) {\n",
       "  background-color: rgba(139, 69, 19, 0.08);\n",
       "}\n",
       "#T_6216b tr:nth-child(odd) {\n",
       "  background: #FFF;\n",
       "}\n",
       "#T_6216b tr {\n",
       "  font-size: 12px;\n",
       "}\n",
       "#T_6216b th:nth-child(1) {\n",
       "  background-color: #FFF;\n",
       "  text-align: right;\n",
       "}\n",
       "#T_6216b caption {\n",
       "  font-size: 14px;\n",
       "  font-style: italic;\n",
       "  caption-side: bottom;\n",
       "  text-align: left;\n",
       "  margin-top: 10px;\n",
       "}\n",
       "</style>\n",
       "<table id=\"T_6216b\">\n",
       "  <caption>Table 2: Objects of interest and the median survey results from 2021.</caption>\n",
       "  <thead>\n",
       "    <tr>\n",
       "      <th class=\"blank level0\" >&nbsp;</th>\n",
       "      <th id=\"T_6216b_level0_col0\" class=\"col_heading level0 col0\" >object</th>\n",
       "      <th id=\"T_6216b_level0_col1\" class=\"col_heading level0 col1\" >threshold</th>\n",
       "    </tr>\n",
       "  </thead>\n",
       "  <tbody>\n",
       "    <tr>\n",
       "      <th id=\"T_6216b_level0_row0\" class=\"row_heading level0 row0\" >G10</th>\n",
       "      <td id=\"T_6216b_row0_col0\" class=\"data row0 col0\" >Food containers single use foamed or plastic</td>\n",
       "      <td id=\"T_6216b_row0_col1\" class=\"data row0 col1\" >0.010000</td>\n",
       "    </tr>\n",
       "    <tr>\n",
       "      <th id=\"T_6216b_level0_row1\" class=\"row_heading level0 row1\" >G100</th>\n",
       "      <td id=\"T_6216b_row1_col0\" class=\"data row1 col0\" >Medical; containers/tubes/ packaging</td>\n",
       "      <td id=\"T_6216b_row1_col1\" class=\"data row1 col1\" >0.020000</td>\n",
       "    </tr>\n",
       "    <tr>\n",
       "      <th id=\"T_6216b_level0_row2\" class=\"row_heading level0 row2\" >G25</th>\n",
       "      <td id=\"T_6216b_row2_col0\" class=\"data row2 col0\" >Tobacco; plastic packaging, containers</td>\n",
       "      <td id=\"T_6216b_row2_col1\" class=\"data row2 col1\" >0.020000</td>\n",
       "    </tr>\n",
       "    <tr>\n",
       "      <th id=\"T_6216b_level0_row3\" class=\"row_heading level0 row3\" >G27</th>\n",
       "      <td id=\"T_6216b_row3_col0\" class=\"data row3 col0\" >Cigarette filters</td>\n",
       "      <td id=\"T_6216b_row3_col1\" class=\"data row3 col1\" >0.470000</td>\n",
       "    </tr>\n",
       "    <tr>\n",
       "      <th id=\"T_6216b_level0_row4\" class=\"row_heading level0 row4\" >G30</th>\n",
       "      <td id=\"T_6216b_row4_col0\" class=\"data row4 col0\" >Food wrappers; candy, snacks</td>\n",
       "      <td id=\"T_6216b_row4_col1\" class=\"data row4 col1\" >0.210000</td>\n",
       "    </tr>\n",
       "    <tr>\n",
       "      <th id=\"T_6216b_level0_row5\" class=\"row_heading level0 row5\" >G31</th>\n",
       "      <td id=\"T_6216b_row5_col0\" class=\"data row5 col0\" >Lollypop sticks</td>\n",
       "      <td id=\"T_6216b_row5_col1\" class=\"data row5 col1\" >0.030000</td>\n",
       "    </tr>\n",
       "    <tr>\n",
       "      <th id=\"T_6216b_level0_row6\" class=\"row_heading level0 row6\" >G32</th>\n",
       "      <td id=\"T_6216b_row6_col0\" class=\"data row6 col0\" >Toys and party favors</td>\n",
       "      <td id=\"T_6216b_row6_col1\" class=\"data row6 col1\" >0.030000</td>\n",
       "    </tr>\n",
       "    <tr>\n",
       "      <th id=\"T_6216b_level0_row7\" class=\"row_heading level0 row7\" >G33</th>\n",
       "      <td id=\"T_6216b_row7_col0\" class=\"data row7 col0\" >Cups, lids, single use foamed and hard plastic</td>\n",
       "      <td id=\"T_6216b_row7_col1\" class=\"data row7 col1\" >0.020000</td>\n",
       "    </tr>\n",
       "    <tr>\n",
       "      <th id=\"T_6216b_level0_row8\" class=\"row_heading level0 row8\" >G35</th>\n",
       "      <td id=\"T_6216b_row8_col0\" class=\"data row8 col0\" >Straws and stirrers</td>\n",
       "      <td id=\"T_6216b_row8_col1\" class=\"data row8 col1\" >0.040000</td>\n",
       "    </tr>\n",
       "    <tr>\n",
       "      <th id=\"T_6216b_level0_row9\" class=\"row_heading level0 row9\" >G67</th>\n",
       "      <td id=\"T_6216b_row9_col0\" class=\"data row9 col0\" >Industrial sheeting</td>\n",
       "      <td id=\"T_6216b_row9_col1\" class=\"data row9 col1\" >0.090000</td>\n",
       "    </tr>\n",
       "    <tr>\n",
       "      <th id=\"T_6216b_level0_row10\" class=\"row_heading level0 row10\" >G70</th>\n",
       "      <td id=\"T_6216b_row10_col0\" class=\"data row10 col0\" >Shotgun cartridges</td>\n",
       "      <td id=\"T_6216b_row10_col1\" class=\"data row10 col1\" >0.010000</td>\n",
       "    </tr>\n",
       "    <tr>\n",
       "      <th id=\"T_6216b_level0_row11\" class=\"row_heading level0 row11\" >G89</th>\n",
       "      <td id=\"T_6216b_row11_col0\" class=\"data row11 col0\" >Plastic construction waste</td>\n",
       "      <td id=\"T_6216b_row11_col1\" class=\"data row11 col1\" >0.060000</td>\n",
       "    </tr>\n",
       "    <tr>\n",
       "      <th id=\"T_6216b_level0_row12\" class=\"row_heading level0 row12\" >G95</th>\n",
       "      <td id=\"T_6216b_row12_col0\" class=\"data row12 col0\" >Cotton bud/swab sticks</td>\n",
       "      <td id=\"T_6216b_row12_col1\" class=\"data row12 col1\" >0.120000</td>\n",
       "    </tr>\n",
       "    <tr>\n",
       "      <th id=\"T_6216b_level0_row13\" class=\"row_heading level0 row13\" >Gcaps</th>\n",
       "      <td id=\"T_6216b_row13_col0\" class=\"data row13 col0\" >Plastic bottle lids</td>\n",
       "      <td id=\"T_6216b_row13_col1\" class=\"data row13 col1\" >0.110000</td>\n",
       "    </tr>\n",
       "    <tr>\n",
       "      <th id=\"T_6216b_level0_row14\" class=\"row_heading level0 row14\" >Gfoam</th>\n",
       "      <td id=\"T_6216b_row14_col0\" class=\"data row14 col0\" >Expanded polystyrene</td>\n",
       "      <td id=\"T_6216b_row14_col1\" class=\"data row14 col1\" >0.280000</td>\n",
       "    </tr>\n",
       "    <tr>\n",
       "      <th id=\"T_6216b_level0_row15\" class=\"row_heading level0 row15\" >Gfrags</th>\n",
       "      <td id=\"T_6216b_row15_col0\" class=\"data row15 col0\" >Fragmented plastics</td>\n",
       "      <td id=\"T_6216b_row15_col1\" class=\"data row15 col1\" >0.610000</td>\n",
       "    </tr>\n",
       "  </tbody>\n",
       "</table>\n"
      ],
      "text/plain": [
       "<pandas.io.formats.style.Styler at 0x7feff42de220>"
      ]
     },
     "execution_count": 9,
     "metadata": {},
     "output_type": "execute_result"
    }
   ],
   "source": [
    "# the unique land use categories in the current data set\n",
    "caption = \"Table 2: Objects of interest and the median survey results from 2021.\"\n",
    "tholdsx.style.set_caption(caption).set_table_styles(table_css_styles)"
   ]
  },
  {
   "cell_type": "markdown",
   "metadata": {
    "editable": true,
    "slideshow": {
     "slide_type": ""
    },
    "tags": []
   },
   "source": [
    "## Implementation\n",
    "\n",
    "For this initial study we are directly calculating the probability of an event given the events described in the survey results. The result is a point estimate of the probability of that event, given the data and the prior probability of that event.\n",
    "\n",
    "### Inference tables\n",
    "\n",
    "Inference tables are Grid approximations made from a series of point estimates calculated using Bayes theorem. Instead of calculating the probability of every event, we calculate points at fixed intervals between a minimum and maximum range of probable values. The minimum is zero, for this study we set the maximum to 1000 p/100 m or 10 p/m. The maximum can be defined by the data, taking the 99th percentile for example. This method is 100% inspired by Alan Downeys example using _python_ : [Think Bayes 2](https://allendowney.github.io/ThinkBayes2/chap02.html) and using _R_ : [Approximating the posterior](https://www.bayesrulesbook.com/chapter-6.html) in _Bayes Rules! An Introduction to Applied Bayesian Modeling_. Grid approximations leverage basic array functionality and make it easy to implement different methods for handling the priors. Recal that there are two  hypothesis for each event: _h = the threshhold was exceeded_, _h1 = the threshhold was not exceeded_. ([Bayes' theorem](https://en.wikipedia.org/wiki/Bayes%27_theorem)) ([conditional proabability](https://en.wikipedia.org/wiki/Conditional_probability)). \n",
    "\n",
    "#### The grid\n",
    "\n",
    "There is a grid for each code. The grid contains the density in pcs/m, the likelihood of the event, the prior probability of the event and the calculations required to determine the posterior probability of the event. There are 1000 rows in each grid or one row for every .01 in the range of 0.00 to 9.99.  \n",
    "\n",
    "__Example one: Gfrags 2015 - 2016, prior = uninformed__\n",
    "\n",
    "The grid is defined for each _x_ in the set _(0.0, 0.01, 0.02, ... , 9.99)_, this corresponds to 0p/m - 1000p/m or 98% of all survey results. Each row in the grid is one event that is being evaluated (table 3). From table three, given an uninformed prior (table 3: pr) there was a 40%-41% chance of exceeding the 2021 threshold for Gfrags in 2015 (table 3: post) . The operations are column wise, in this case we consider both hypothesis in each row, the total probability (table 3: ptot) is the sum of the likelihood * prior for both hypothesis."
   ]
  },
  {
   "cell_type": "code",
   "execution_count": 10,
   "metadata": {
    "editable": true,
    "jupyter": {
     "source_hidden": true
    },
    "slideshow": {
     "slide_type": ""
    },
    "tags": [
     "remove-input"
    ]
   },
   "outputs": [
    {
     "data": {
      "text/html": [
       "<style type=\"text/css\">\n",
       "#T_e80e3 tr:nth-child(even) {\n",
       "  background-color: rgba(139, 69, 19, 0.08);\n",
       "}\n",
       "#T_e80e3 tr:nth-child(odd) {\n",
       "  background: #FFF;\n",
       "}\n",
       "#T_e80e3 tr {\n",
       "  font-size: 12px;\n",
       "}\n",
       "#T_e80e3 th:nth-child(1) {\n",
       "  background-color: #FFF;\n",
       "  text-align: right;\n",
       "}\n",
       "#T_e80e3 caption {\n",
       "  font-size: 14px;\n",
       "  font-style: italic;\n",
       "  caption-side: bottom;\n",
       "  text-align: left;\n",
       "  margin-top: 10px;\n",
       "}\n",
       "</style>\n",
       "<table id=\"T_e80e3\">\n",
       "  <caption>Table 3: Chance of exceeding the 2021 threshold, Gfrags 2015, prior=0.5. Columns = qty=p/m, lh=likelihood, pr=prior, post=posterior</caption>\n",
       "  <thead>\n",
       "    <tr>\n",
       "      <th class=\"blank level0\" >&nbsp;</th>\n",
       "      <th id=\"T_e80e3_level0_col0\" class=\"col_heading level0 col0\" >qty</th>\n",
       "      <th id=\"T_e80e3_level0_col1\" class=\"col_heading level0 col1\" >lh</th>\n",
       "      <th id=\"T_e80e3_level0_col2\" class=\"col_heading level0 col2\" >pr</th>\n",
       "      <th id=\"T_e80e3_level0_col3\" class=\"col_heading level0 col3\" >p-total</th>\n",
       "      <th id=\"T_e80e3_level0_col4\" class=\"col_heading level0 col4\" >post</th>\n",
       "    </tr>\n",
       "  </thead>\n",
       "  <tbody>\n",
       "    <tr>\n",
       "      <th id=\"T_e80e3_level0_row0\" class=\"row_heading level0 row0\" >58</th>\n",
       "      <td id=\"T_e80e3_row0_col0\" class=\"data row0 col0\" >0.590000</td>\n",
       "      <td id=\"T_e80e3_row0_col1\" class=\"data row0 col1\" >0.414634</td>\n",
       "      <td id=\"T_e80e3_row0_col2\" class=\"data row0 col2\" >0.500000</td>\n",
       "      <td id=\"T_e80e3_row0_col3\" class=\"data row0 col3\" >0.500000</td>\n",
       "      <td id=\"T_e80e3_row0_col4\" class=\"data row0 col4\" >0.414634</td>\n",
       "    </tr>\n",
       "    <tr>\n",
       "      <th id=\"T_e80e3_level0_row1\" class=\"row_heading level0 row1\" >59</th>\n",
       "      <td id=\"T_e80e3_row1_col0\" class=\"data row1 col0\" >0.600000</td>\n",
       "      <td id=\"T_e80e3_row1_col1\" class=\"data row1 col1\" >0.414634</td>\n",
       "      <td id=\"T_e80e3_row1_col2\" class=\"data row1 col2\" >0.500000</td>\n",
       "      <td id=\"T_e80e3_row1_col3\" class=\"data row1 col3\" >0.500000</td>\n",
       "      <td id=\"T_e80e3_row1_col4\" class=\"data row1 col4\" >0.414634</td>\n",
       "    </tr>\n",
       "    <tr>\n",
       "      <th id=\"T_e80e3_level0_row2\" class=\"row_heading level0 row2\" >60</th>\n",
       "      <td id=\"T_e80e3_row2_col0\" class=\"data row2 col0\" >0.610000</td>\n",
       "      <td id=\"T_e80e3_row2_col1\" class=\"data row2 col1\" >0.414634</td>\n",
       "      <td id=\"T_e80e3_row2_col2\" class=\"data row2 col2\" >0.500000</td>\n",
       "      <td id=\"T_e80e3_row2_col3\" class=\"data row2 col3\" >0.500000</td>\n",
       "      <td id=\"T_e80e3_row2_col4\" class=\"data row2 col4\" >0.414634</td>\n",
       "    </tr>\n",
       "    <tr>\n",
       "      <th id=\"T_e80e3_level0_row3\" class=\"row_heading level0 row3\" >61</th>\n",
       "      <td id=\"T_e80e3_row3_col0\" class=\"data row3 col0\" >0.620000</td>\n",
       "      <td id=\"T_e80e3_row3_col1\" class=\"data row3 col1\" >0.414634</td>\n",
       "      <td id=\"T_e80e3_row3_col2\" class=\"data row3 col2\" >0.500000</td>\n",
       "      <td id=\"T_e80e3_row3_col3\" class=\"data row3 col3\" >0.500000</td>\n",
       "      <td id=\"T_e80e3_row3_col4\" class=\"data row3 col4\" >0.414634</td>\n",
       "    </tr>\n",
       "    <tr>\n",
       "      <th id=\"T_e80e3_level0_row4\" class=\"row_heading level0 row4\" >62</th>\n",
       "      <td id=\"T_e80e3_row4_col0\" class=\"data row4 col0\" >0.630000</td>\n",
       "      <td id=\"T_e80e3_row4_col1\" class=\"data row4 col1\" >0.402439</td>\n",
       "      <td id=\"T_e80e3_row4_col2\" class=\"data row4 col2\" >0.500000</td>\n",
       "      <td id=\"T_e80e3_row4_col3\" class=\"data row4 col3\" >0.500000</td>\n",
       "      <td id=\"T_e80e3_row4_col4\" class=\"data row4 col4\" >0.402439</td>\n",
       "    </tr>\n",
       "    <tr>\n",
       "      <th id=\"T_e80e3_level0_row5\" class=\"row_heading level0 row5\" >63</th>\n",
       "      <td id=\"T_e80e3_row5_col0\" class=\"data row5 col0\" >0.640000</td>\n",
       "      <td id=\"T_e80e3_row5_col1\" class=\"data row5 col1\" >0.402439</td>\n",
       "      <td id=\"T_e80e3_row5_col2\" class=\"data row5 col2\" >0.500000</td>\n",
       "      <td id=\"T_e80e3_row5_col3\" class=\"data row5 col3\" >0.500000</td>\n",
       "      <td id=\"T_e80e3_row5_col4\" class=\"data row5 col4\" >0.402439</td>\n",
       "    </tr>\n",
       "    <tr>\n",
       "      <th id=\"T_e80e3_level0_row6\" class=\"row_heading level0 row6\" >64</th>\n",
       "      <td id=\"T_e80e3_row6_col0\" class=\"data row6 col0\" >0.650000</td>\n",
       "      <td id=\"T_e80e3_row6_col1\" class=\"data row6 col1\" >0.402439</td>\n",
       "      <td id=\"T_e80e3_row6_col2\" class=\"data row6 col2\" >0.500000</td>\n",
       "      <td id=\"T_e80e3_row6_col3\" class=\"data row6 col3\" >0.500000</td>\n",
       "      <td id=\"T_e80e3_row6_col4\" class=\"data row6 col4\" >0.402439</td>\n",
       "    </tr>\n",
       "  </tbody>\n",
       "</table>\n"
      ],
      "text/plain": [
       "<pandas.io.formats.style.Styler at 0x7feff3a6c610>"
      ]
     },
     "execution_count": 10,
     "metadata": {},
     "output_type": "execute_result"
    }
   ],
   "source": [
    "table_four = yearone.testwo_post.uninformed[0]\n",
    "table_four = table_four.loc[58:64]\n",
    "\n",
    "caption = \"Table 3: Chance of exceeding the 2021 threshold, Gfrags 2015, prior=0.5. Columns = qty=p/m, lh=likelihood, pr=prior, post=posterior\"\n",
    "\n",
    "disp_short = [\"qty\", \"lh\", \"pr\", \"p-total\", \"post\"]\n",
    "\n",
    "table_four[disp_short].style.set_caption(caption).set_table_styles(table_css_styles)"
   ]
  },
  {
   "cell_type": "code",
   "execution_count": 11,
   "metadata": {
    "editable": true,
    "jupyter": {
     "source_hidden": true
    },
    "slideshow": {
     "slide_type": ""
    },
    "tags": [
     "remove-input"
    ]
   },
   "outputs": [],
   "source": [
    "# table_five = yearone.testwo_post.shared[0]\n",
    "# table_five = table_five.loc[58:64]\n",
    "\n",
    "# caption = \"Table 5: Chance of exceeding the 2021 threshold, Gfrags 2015, prior=shared. Columns = qty=p/m, lh=likelihood, pr=prior, post=posterior\"\n",
    "\n",
    "# table_five.style.set_caption(caption).set_table_styles(table_css_styles)"
   ]
  },
  {
   "cell_type": "markdown",
   "metadata": {
    "editable": true,
    "slideshow": {
     "slide_type": ""
    },
    "tags": []
   },
   "source": [
    "__Example two: Gfrags 2017 - 2018, prior = shared__\n",
    "\n"
   ]
  },
  {
   "cell_type": "code",
   "execution_count": 12,
   "metadata": {
    "editable": true,
    "jupyter": {
     "source_hidden": true
    },
    "slideshow": {
     "slide_type": ""
    },
    "tags": [
     "remove-input"
    ]
   },
   "outputs": [],
   "source": [
    "slr_d = make_date_object(\"2017-04-01\")\n",
    "slr_e = make_date_object(\"2018-05-01\")\n",
    "date_mask = (all_data[\"date\"] >= slr_d) & (all_data[\"date\"] <= slr_e)\n",
    "\n",
    "lake_locations = all_data[date_mask & (all_data.water_name_slug == 'lac-leman')].location.unique()\n",
    "prior_locations = all_data[(all_data[\"date\"] <= slr_e)&(all_data.water == \"l\")].location.unique()\n",
    "\n",
    "yeartwo = GridApproximation(slr_d, slr_e, lake, lake_locations, cois, all_data, land_use_agg, tholds_r, xrange, prior_series=yearone.testwo_post.uninformed, uniformed_prior=uniformed_prior)\n",
    "\n",
    "yeartwo.testwo_post.prior_shared(yearone.testwo_post.prior_data)\n",
    "tdata = yeartwo.testwo.prior_data\n",
    "\n",
    "c_data2 = tdata[(tdata.code == code)]\n",
    "city_data2 = c_data2[(c_data2.city == \"Saint-Sulpice (VD)\")]\n",
    "lprofiles2 = list(set(city_data2.columns).intersection(uses))\n",
    "profiles_dict2 = {x:c_data2[x].values for x in lprofiles2}\n",
    "\n",
    "gradient_p2, _ = make_prior_by_use(c_data2, xtest, profiles_dict2)\n",
    "xtesti[\"prior_use2\"] = gradient_p2"
   ]
  },
  {
   "cell_type": "code",
   "execution_count": 13,
   "metadata": {
    "editable": true,
    "slideshow": {
     "slide_type": ""
    },
    "tags": [
     "remove-input"
    ]
   },
   "outputs": [
    {
     "data": {
      "text/html": [
       "<style type=\"text/css\">\n",
       "#T_42678 tr:nth-child(even) {\n",
       "  background-color: rgba(139, 69, 19, 0.08);\n",
       "}\n",
       "#T_42678 tr:nth-child(odd) {\n",
       "  background: #FFF;\n",
       "}\n",
       "#T_42678 tr {\n",
       "  font-size: 12px;\n",
       "}\n",
       "#T_42678 th:nth-child(1) {\n",
       "  background-color: #FFF;\n",
       "  text-align: right;\n",
       "}\n",
       "#T_42678 caption {\n",
       "  font-size: 14px;\n",
       "  font-style: italic;\n",
       "  caption-side: bottom;\n",
       "  text-align: left;\n",
       "  margin-top: 10px;\n",
       "}\n",
       "</style>\n",
       "<table id=\"T_42678\">\n",
       "  <caption>Table 4: Chance of exceeding the 2021 threshold, Gfrags 2018, prior=shared. Columns = qty=p/m, lh=likelihood, pr=prior, post=posterior</caption>\n",
       "  <thead>\n",
       "    <tr>\n",
       "      <th class=\"blank level0\" >&nbsp;</th>\n",
       "      <th id=\"T_42678_level0_col0\" class=\"col_heading level0 col0\" >qty</th>\n",
       "      <th id=\"T_42678_level0_col1\" class=\"col_heading level0 col1\" >lh</th>\n",
       "      <th id=\"T_42678_level0_col2\" class=\"col_heading level0 col2\" >pr</th>\n",
       "      <th id=\"T_42678_level0_col3\" class=\"col_heading level0 col3\" >p-total</th>\n",
       "      <th id=\"T_42678_level0_col4\" class=\"col_heading level0 col4\" >post</th>\n",
       "      <th id=\"T_42678_level0_col5\" class=\"col_heading level0 col5\" >post_beta</th>\n",
       "    </tr>\n",
       "  </thead>\n",
       "  <tbody>\n",
       "    <tr>\n",
       "      <th id=\"T_42678_level0_row0\" class=\"row_heading level0 row0\" >58</th>\n",
       "      <td id=\"T_42678_row0_col0\" class=\"data row0 col0\" >0.590000</td>\n",
       "      <td id=\"T_42678_row0_col1\" class=\"data row0 col1\" >0.391304</td>\n",
       "      <td id=\"T_42678_row0_col2\" class=\"data row0 col2\" >0.414634</td>\n",
       "      <td id=\"T_42678_row0_col3\" class=\"data row0 col3\" >0.518558</td>\n",
       "      <td id=\"T_42678_row0_col4\" class=\"data row0 col4\" >0.312883</td>\n",
       "      <td id=\"T_42678_row0_col5\" class=\"data row0 col5\" >0.309091</td>\n",
       "    </tr>\n",
       "    <tr>\n",
       "      <th id=\"T_42678_level0_row1\" class=\"row_heading level0 row1\" >59</th>\n",
       "      <td id=\"T_42678_row1_col0\" class=\"data row1 col0\" >0.600000</td>\n",
       "      <td id=\"T_42678_row1_col1\" class=\"data row1 col1\" >0.369565</td>\n",
       "      <td id=\"T_42678_row1_col2\" class=\"data row1 col2\" >0.414634</td>\n",
       "      <td id=\"T_42678_row1_col3\" class=\"data row1 col3\" >0.522269</td>\n",
       "      <td id=\"T_42678_row1_col4\" class=\"data row1 col4\" >0.293401</td>\n",
       "      <td id=\"T_42678_row1_col5\" class=\"data row1 col5\" >0.306306</td>\n",
       "    </tr>\n",
       "    <tr>\n",
       "      <th id=\"T_42678_level0_row2\" class=\"row_heading level0 row2\" >60</th>\n",
       "      <td id=\"T_42678_row2_col0\" class=\"data row2 col0\" >0.610000</td>\n",
       "      <td id=\"T_42678_row2_col1\" class=\"data row2 col1\" >0.369565</td>\n",
       "      <td id=\"T_42678_row2_col2\" class=\"data row2 col2\" >0.414634</td>\n",
       "      <td id=\"T_42678_row2_col3\" class=\"data row2 col3\" >0.522269</td>\n",
       "      <td id=\"T_42678_row2_col4\" class=\"data row2 col4\" >0.293401</td>\n",
       "      <td id=\"T_42678_row2_col5\" class=\"data row2 col5\" >0.306306</td>\n",
       "    </tr>\n",
       "    <tr>\n",
       "      <th id=\"T_42678_level0_row3\" class=\"row_heading level0 row3\" >61</th>\n",
       "      <td id=\"T_42678_row3_col0\" class=\"data row3 col0\" >0.620000</td>\n",
       "      <td id=\"T_42678_row3_col1\" class=\"data row3 col1\" >0.369565</td>\n",
       "      <td id=\"T_42678_row3_col2\" class=\"data row3 col2\" >0.414634</td>\n",
       "      <td id=\"T_42678_row3_col3\" class=\"data row3 col3\" >0.522269</td>\n",
       "      <td id=\"T_42678_row3_col4\" class=\"data row3 col4\" >0.293401</td>\n",
       "      <td id=\"T_42678_row3_col5\" class=\"data row3 col5\" >0.306306</td>\n",
       "    </tr>\n",
       "    <tr>\n",
       "      <th id=\"T_42678_level0_row4\" class=\"row_heading level0 row4\" >62</th>\n",
       "      <td id=\"T_42678_row4_col0\" class=\"data row4 col0\" >0.630000</td>\n",
       "      <td id=\"T_42678_row4_col1\" class=\"data row4 col1\" >0.369565</td>\n",
       "      <td id=\"T_42678_row4_col2\" class=\"data row4 col2\" >0.402439</td>\n",
       "      <td id=\"T_42678_row4_col3\" class=\"data row4 col3\" >0.525451</td>\n",
       "      <td id=\"T_42678_row4_col4\" class=\"data row4 col4\" >0.283047</td>\n",
       "      <td id=\"T_42678_row4_col5\" class=\"data row4 col5\" >0.297297</td>\n",
       "    </tr>\n",
       "    <tr>\n",
       "      <th id=\"T_42678_level0_row5\" class=\"row_heading level0 row5\" >63</th>\n",
       "      <td id=\"T_42678_row5_col0\" class=\"data row5 col0\" >0.640000</td>\n",
       "      <td id=\"T_42678_row5_col1\" class=\"data row5 col1\" >0.347826</td>\n",
       "      <td id=\"T_42678_row5_col2\" class=\"data row5 col2\" >0.402439</td>\n",
       "      <td id=\"T_42678_row5_col3\" class=\"data row5 col3\" >0.529692</td>\n",
       "      <td id=\"T_42678_row5_col4\" class=\"data row5 col4\" >0.264264</td>\n",
       "      <td id=\"T_42678_row5_col5\" class=\"data row5 col5\" >0.294643</td>\n",
       "    </tr>\n",
       "    <tr>\n",
       "      <th id=\"T_42678_level0_row6\" class=\"row_heading level0 row6\" >64</th>\n",
       "      <td id=\"T_42678_row6_col0\" class=\"data row6 col0\" >0.650000</td>\n",
       "      <td id=\"T_42678_row6_col1\" class=\"data row6 col1\" >0.347826</td>\n",
       "      <td id=\"T_42678_row6_col2\" class=\"data row6 col2\" >0.402439</td>\n",
       "      <td id=\"T_42678_row6_col3\" class=\"data row6 col3\" >0.529692</td>\n",
       "      <td id=\"T_42678_row6_col4\" class=\"data row6 col4\" >0.264264</td>\n",
       "      <td id=\"T_42678_row6_col5\" class=\"data row6 col5\" >0.294643</td>\n",
       "    </tr>\n",
       "  </tbody>\n",
       "</table>\n"
      ],
      "text/plain": [
       "<pandas.io.formats.style.Styler at 0x7feff384d520>"
      ]
     },
     "execution_count": 13,
     "metadata": {},
     "output_type": "execute_result"
    }
   ],
   "source": [
    "table_7 = yeartwo.testwo_post.shared[0]\n",
    "table_7 = table_7\n",
    "\n",
    "caption = \"Table 4: Chance of exceeding the 2021 threshold, Gfrags 2018, prior=shared. Columns = qty=p/m, lh=likelihood, pr=prior, post=posterior\"\n",
    "disp_long = [\"qty\", \"lh\", \"pr\", \"p-total\", \"post\", \"post_beta\"]\n",
    "table_7[disp_long].loc[58:64].style.set_caption(caption).set_table_styles(table_css_styles)"
   ]
  },
  {
   "cell_type": "markdown",
   "metadata": {
    "editable": true,
    "slideshow": {
     "slide_type": ""
    },
    "tags": []
   },
   "source": [
    "#### Grid approximation by year and prior\n",
    "\n",
    "The probability of exceeding the 2021 national threshold for the codes of interest is given in tables 5 - 7.  In table 5, we consider the year over year probabbility using the uniform prior. This means the survey results for each year are conditioned on the expectation that we expect a success rate of 0.5 at at each event. The sequential priors, table 6, use the uninformed expectations from the previous year as the prior for the current year. In table 7 the prior data is shared, the survey results from all other locations with similar land use characteristics is used in the prior."
   ]
  },
  {
   "cell_type": "code",
   "execution_count": 14,
   "metadata": {
    "editable": true,
    "jupyter": {
     "source_hidden": true
    },
    "slideshow": {
     "slide_type": ""
    },
    "tags": [
     "remove-input"
    ]
   },
   "outputs": [],
   "source": [
    "slr_d = make_date_object(\"2020-04-01\")\n",
    "slr_e = make_date_object(\"2021-05-01\")\n",
    "date_mask =  (all_data[\"date\"] >= slr_d) & (all_data[\"date\"] <= slr_e)\n",
    "\n",
    "lake_locations = all_data[date_mask & (all_data.water_name_slug == 'lac-leman')].location.unique()\n",
    "prior_locations = all_data[(all_data[\"date\"] <= slr_e) &(all_data.water_name_slug == 'lac-leman')].location.unique()\n",
    "\n",
    "# the survey results and land use attributes associated with the locations\n",
    "# included in the survey results\n",
    "yearthree = GridApproximation(slr_d, slr_e, lake, lake_locations, cois, all_data, land_use_agg, tholds_r, xrange, prior_series=yeartwo.testwo_post.sequential, uniformed_prior=uniformed_prior)\n",
    "yearthree.testwo_post.prior_shared(yeartwo.testwo_post.prior_data)\n",
    "tdata = yearthree.testwo.prior_data\n",
    "\n",
    "c_data3 = tdata[(tdata.code == code)]\n",
    "city_data3 = c_data3[(c_data3.city == coi)]\n",
    "lprofiles3 = list(set(city_data3.columns).intersection(uses))\n",
    "profiles_dict3 = {x:c_data3[x].values for x in lprofiles3}\n",
    "\n",
    "gradient_p3, _ = make_prior_by_use(c_data3, xtest, profiles_dict3)\n",
    "xtesti[\"prior_use3\"] = gradient_p3"
   ]
  },
  {
   "cell_type": "code",
   "execution_count": 15,
   "metadata": {
    "editable": true,
    "slideshow": {
     "slide_type": ""
    },
    "tags": [
     "remove-input"
    ]
   },
   "outputs": [
    {
     "data": {
      "text/html": [
       "<style type=\"text/css\">\n",
       "#T_f08d3 tr:nth-child(even) {\n",
       "  background-color: rgba(139, 69, 19, 0.08);\n",
       "}\n",
       "#T_f08d3 tr:nth-child(odd) {\n",
       "  background: #FFF;\n",
       "}\n",
       "#T_f08d3 tr {\n",
       "  font-size: 12px;\n",
       "}\n",
       "#T_f08d3 th:nth-child(1) {\n",
       "  background-color: #FFF;\n",
       "  text-align: right;\n",
       "}\n",
       "#T_f08d3 caption {\n",
       "  font-size: 14px;\n",
       "  font-style: italic;\n",
       "  caption-side: bottom;\n",
       "  text-align: left;\n",
       "  margin-top: 10px;\n",
       "}\n",
       "</style>\n",
       "<table id=\"T_f08d3\">\n",
       "  <caption>Table 5: The probability of exceeding the 2021 threshold, prior = uninformed.</caption>\n",
       "  <thead>\n",
       "    <tr>\n",
       "      <th class=\"blank level0\" >&nbsp;</th>\n",
       "      <th id=\"T_f08d3_level0_col0\" class=\"col_heading level0 col0\" >Gfrags</th>\n",
       "      <th id=\"T_f08d3_level0_col1\" class=\"col_heading level0 col1\" >G30</th>\n",
       "      <th id=\"T_f08d3_level0_col2\" class=\"col_heading level0 col2\" >G27</th>\n",
       "      <th id=\"T_f08d3_level0_col3\" class=\"col_heading level0 col3\" >Gfoam</th>\n",
       "      <th id=\"T_f08d3_level0_col4\" class=\"col_heading level0 col4\" >G95</th>\n",
       "      <th id=\"T_f08d3_level0_col5\" class=\"col_heading level0 col5\" >Gcaps</th>\n",
       "      <th id=\"T_f08d3_level0_col6\" class=\"col_heading level0 col6\" >G67</th>\n",
       "      <th id=\"T_f08d3_level0_col7\" class=\"col_heading level0 col7\" >G35</th>\n",
       "      <th id=\"T_f08d3_level0_col8\" class=\"col_heading level0 col8\" >G89</th>\n",
       "      <th id=\"T_f08d3_level0_col9\" class=\"col_heading level0 col9\" >G31</th>\n",
       "      <th id=\"T_f08d3_level0_col10\" class=\"col_heading level0 col10\" >G32</th>\n",
       "      <th id=\"T_f08d3_level0_col11\" class=\"col_heading level0 col11\" >G100</th>\n",
       "      <th id=\"T_f08d3_level0_col12\" class=\"col_heading level0 col12\" >G33</th>\n",
       "      <th id=\"T_f08d3_level0_col13\" class=\"col_heading level0 col13\" >G25</th>\n",
       "      <th id=\"T_f08d3_level0_col14\" class=\"col_heading level0 col14\" >G70</th>\n",
       "      <th id=\"T_f08d3_level0_col15\" class=\"col_heading level0 col15\" >G10</th>\n",
       "    </tr>\n",
       "  </thead>\n",
       "  <tbody>\n",
       "    <tr>\n",
       "      <th id=\"T_f08d3_level0_row0\" class=\"row_heading level0 row0\" >2015-2016</th>\n",
       "      <td id=\"T_f08d3_row0_col0\" class=\"data row0 col0\" >0.410000</td>\n",
       "      <td id=\"T_f08d3_row0_col1\" class=\"data row0 col1\" >0.510000</td>\n",
       "      <td id=\"T_f08d3_row0_col2\" class=\"data row0 col2\" >0.700000</td>\n",
       "      <td id=\"T_f08d3_row0_col3\" class=\"data row0 col3\" >0.740000</td>\n",
       "      <td id=\"T_f08d3_row0_col4\" class=\"data row0 col4\" >0.520000</td>\n",
       "      <td id=\"T_f08d3_row0_col5\" class=\"data row0 col5\" >0.670000</td>\n",
       "      <td id=\"T_f08d3_row0_col6\" class=\"data row0 col6\" >0.540000</td>\n",
       "      <td id=\"T_f08d3_row0_col7\" class=\"data row0 col7\" >0.400000</td>\n",
       "      <td id=\"T_f08d3_row0_col8\" class=\"data row0 col8\" >0.350000</td>\n",
       "      <td id=\"T_f08d3_row0_col9\" class=\"data row0 col9\" >0.380000</td>\n",
       "      <td id=\"T_f08d3_row0_col10\" class=\"data row0 col10\" >0.320000</td>\n",
       "      <td id=\"T_f08d3_row0_col11\" class=\"data row0 col11\" >0.350000</td>\n",
       "      <td id=\"T_f08d3_row0_col12\" class=\"data row0 col12\" >0.540000</td>\n",
       "      <td id=\"T_f08d3_row0_col13\" class=\"data row0 col13\" >0.520000</td>\n",
       "      <td id=\"T_f08d3_row0_col14\" class=\"data row0 col14\" >0.700000</td>\n",
       "      <td id=\"T_f08d3_row0_col15\" class=\"data row0 col15\" >0.480000</td>\n",
       "    </tr>\n",
       "    <tr>\n",
       "      <th id=\"T_f08d3_level0_row1\" class=\"row_heading level0 row1\" >2017-2018</th>\n",
       "      <td id=\"T_f08d3_row1_col0\" class=\"data row1 col0\" >0.370000</td>\n",
       "      <td id=\"T_f08d3_row1_col1\" class=\"data row1 col1\" >0.570000</td>\n",
       "      <td id=\"T_f08d3_row1_col2\" class=\"data row1 col2\" >0.520000</td>\n",
       "      <td id=\"T_f08d3_row1_col3\" class=\"data row1 col3\" >0.330000</td>\n",
       "      <td id=\"T_f08d3_row1_col4\" class=\"data row1 col4\" >0.720000</td>\n",
       "      <td id=\"T_f08d3_row1_col5\" class=\"data row1 col5\" >0.570000</td>\n",
       "      <td id=\"T_f08d3_row1_col6\" class=\"data row1 col6\" >0.520000</td>\n",
       "      <td id=\"T_f08d3_row1_col7\" class=\"data row1 col7\" >0.370000</td>\n",
       "      <td id=\"T_f08d3_row1_col8\" class=\"data row1 col8\" >0.170000</td>\n",
       "      <td id=\"T_f08d3_row1_col9\" class=\"data row1 col9\" >0.520000</td>\n",
       "      <td id=\"T_f08d3_row1_col10\" class=\"data row1 col10\" >0.220000</td>\n",
       "      <td id=\"T_f08d3_row1_col11\" class=\"data row1 col11\" >0.460000</td>\n",
       "      <td id=\"T_f08d3_row1_col12\" class=\"data row1 col12\" >0.370000</td>\n",
       "      <td id=\"T_f08d3_row1_col13\" class=\"data row1 col13\" >0.430000</td>\n",
       "      <td id=\"T_f08d3_row1_col14\" class=\"data row1 col14\" >0.170000</td>\n",
       "      <td id=\"T_f08d3_row1_col15\" class=\"data row1 col15\" >0.280000</td>\n",
       "    </tr>\n",
       "    <tr>\n",
       "      <th id=\"T_f08d3_level0_row2\" class=\"row_heading level0 row2\" >2020-2021</th>\n",
       "      <td id=\"T_f08d3_row2_col0\" class=\"data row2 col0\" >0.490000</td>\n",
       "      <td id=\"T_f08d3_row2_col1\" class=\"data row2 col1\" >0.490000</td>\n",
       "      <td id=\"T_f08d3_row2_col2\" class=\"data row2 col2\" >0.470000</td>\n",
       "      <td id=\"T_f08d3_row2_col3\" class=\"data row2 col3\" >0.460000</td>\n",
       "      <td id=\"T_f08d3_row2_col4\" class=\"data row2 col4\" >0.490000</td>\n",
       "      <td id=\"T_f08d3_row2_col5\" class=\"data row2 col5\" >0.470000</td>\n",
       "      <td id=\"T_f08d3_row2_col6\" class=\"data row2 col6\" >0.480000</td>\n",
       "      <td id=\"T_f08d3_row2_col7\" class=\"data row2 col7\" >0.470000</td>\n",
       "      <td id=\"T_f08d3_row2_col8\" class=\"data row2 col8\" >0.470000</td>\n",
       "      <td id=\"T_f08d3_row2_col9\" class=\"data row2 col9\" >0.480000</td>\n",
       "      <td id=\"T_f08d3_row2_col10\" class=\"data row2 col10\" >0.410000</td>\n",
       "      <td id=\"T_f08d3_row2_col11\" class=\"data row2 col11\" >0.440000</td>\n",
       "      <td id=\"T_f08d3_row2_col12\" class=\"data row2 col12\" >0.440000</td>\n",
       "      <td id=\"T_f08d3_row2_col13\" class=\"data row2 col13\" >0.480000</td>\n",
       "      <td id=\"T_f08d3_row2_col14\" class=\"data row2 col14\" >0.490000</td>\n",
       "      <td id=\"T_f08d3_row2_col15\" class=\"data row2 col15\" >0.460000</td>\n",
       "    </tr>\n",
       "  </tbody>\n",
       "</table>\n"
      ],
      "text/plain": [
       "<pandas.io.formats.style.Styler at 0x7ff0757ce460>"
      ]
     },
     "execution_count": 15,
     "metadata": {},
     "output_type": "execute_result"
    }
   ],
   "source": [
    "uninformeds = [yearone.testwo_post.post_uninformed, yeartwo.testwo_post.post_uninformed, yearthree.testwo_post.post_uninformed]\n",
    "\n",
    "year_index = [\"2015-2016\", \"2017-2018\", \"2020-2021\"]\n",
    "caption = \"Table 5: The probability of exceeding the 2021 threshold, prior = uninformed.\"\n",
    "pd.DataFrame(uninformeds, columns=cois, index=year_index).style.set_caption(caption).set_table_styles(table_css_styles)"
   ]
  },
  {
   "cell_type": "code",
   "execution_count": 16,
   "metadata": {
    "editable": true,
    "slideshow": {
     "slide_type": ""
    },
    "tags": [
     "remove-input"
    ]
   },
   "outputs": [
    {
     "data": {
      "text/html": [
       "<style type=\"text/css\">\n",
       "#T_0dbbe tr:nth-child(even) {\n",
       "  background-color: rgba(139, 69, 19, 0.08);\n",
       "}\n",
       "#T_0dbbe tr:nth-child(odd) {\n",
       "  background: #FFF;\n",
       "}\n",
       "#T_0dbbe tr {\n",
       "  font-size: 12px;\n",
       "}\n",
       "#T_0dbbe th:nth-child(1) {\n",
       "  background-color: #FFF;\n",
       "  text-align: right;\n",
       "}\n",
       "#T_0dbbe caption {\n",
       "  font-size: 14px;\n",
       "  font-style: italic;\n",
       "  caption-side: bottom;\n",
       "  text-align: left;\n",
       "  margin-top: 10px;\n",
       "}\n",
       "</style>\n",
       "<table id=\"T_0dbbe\">\n",
       "  <caption>Table 6: The probability of exceeding the 2021 threshold, prior = sequential.</caption>\n",
       "  <thead>\n",
       "    <tr>\n",
       "      <th class=\"blank level0\" >&nbsp;</th>\n",
       "      <th id=\"T_0dbbe_level0_col0\" class=\"col_heading level0 col0\" >Gfrags</th>\n",
       "      <th id=\"T_0dbbe_level0_col1\" class=\"col_heading level0 col1\" >G30</th>\n",
       "      <th id=\"T_0dbbe_level0_col2\" class=\"col_heading level0 col2\" >G27</th>\n",
       "      <th id=\"T_0dbbe_level0_col3\" class=\"col_heading level0 col3\" >Gfoam</th>\n",
       "      <th id=\"T_0dbbe_level0_col4\" class=\"col_heading level0 col4\" >G95</th>\n",
       "      <th id=\"T_0dbbe_level0_col5\" class=\"col_heading level0 col5\" >Gcaps</th>\n",
       "      <th id=\"T_0dbbe_level0_col6\" class=\"col_heading level0 col6\" >G67</th>\n",
       "      <th id=\"T_0dbbe_level0_col7\" class=\"col_heading level0 col7\" >G35</th>\n",
       "      <th id=\"T_0dbbe_level0_col8\" class=\"col_heading level0 col8\" >G89</th>\n",
       "      <th id=\"T_0dbbe_level0_col9\" class=\"col_heading level0 col9\" >G31</th>\n",
       "      <th id=\"T_0dbbe_level0_col10\" class=\"col_heading level0 col10\" >G32</th>\n",
       "      <th id=\"T_0dbbe_level0_col11\" class=\"col_heading level0 col11\" >G100</th>\n",
       "      <th id=\"T_0dbbe_level0_col12\" class=\"col_heading level0 col12\" >G33</th>\n",
       "      <th id=\"T_0dbbe_level0_col13\" class=\"col_heading level0 col13\" >G25</th>\n",
       "      <th id=\"T_0dbbe_level0_col14\" class=\"col_heading level0 col14\" >G70</th>\n",
       "      <th id=\"T_0dbbe_level0_col15\" class=\"col_heading level0 col15\" >G10</th>\n",
       "    </tr>\n",
       "  </thead>\n",
       "  <tbody>\n",
       "    <tr>\n",
       "      <th id=\"T_0dbbe_level0_row0\" class=\"row_heading level0 row0\" >2017-2018</th>\n",
       "      <td id=\"T_0dbbe_row0_col0\" class=\"data row0 col0\" >0.290000</td>\n",
       "      <td id=\"T_0dbbe_row0_col1\" class=\"data row0 col1\" >0.580000</td>\n",
       "      <td id=\"T_0dbbe_row0_col2\" class=\"data row0 col2\" >0.710000</td>\n",
       "      <td id=\"T_0dbbe_row0_col3\" class=\"data row0 col3\" >0.580000</td>\n",
       "      <td id=\"T_0dbbe_row0_col4\" class=\"data row0 col4\" >0.740000</td>\n",
       "      <td id=\"T_0dbbe_row0_col5\" class=\"data row0 col5\" >0.730000</td>\n",
       "      <td id=\"T_0dbbe_row0_col6\" class=\"data row0 col6\" >0.560000</td>\n",
       "      <td id=\"T_0dbbe_row0_col7\" class=\"data row0 col7\" >0.280000</td>\n",
       "      <td id=\"T_0dbbe_row0_col8\" class=\"data row0 col8\" >0.100000</td>\n",
       "      <td id=\"T_0dbbe_row0_col9\" class=\"data row0 col9\" >0.400000</td>\n",
       "      <td id=\"T_0dbbe_row0_col10\" class=\"data row0 col10\" >0.110000</td>\n",
       "      <td id=\"T_0dbbe_row0_col11\" class=\"data row0 col11\" >0.310000</td>\n",
       "      <td id=\"T_0dbbe_row0_col12\" class=\"data row0 col12\" >0.400000</td>\n",
       "      <td id=\"T_0dbbe_row0_col13\" class=\"data row0 col13\" >0.460000</td>\n",
       "      <td id=\"T_0dbbe_row0_col14\" class=\"data row0 col14\" >0.320000</td>\n",
       "      <td id=\"T_0dbbe_row0_col15\" class=\"data row0 col15\" >0.260000</td>\n",
       "    </tr>\n",
       "    <tr>\n",
       "      <th id=\"T_0dbbe_level0_row1\" class=\"row_heading level0 row1\" >2020-2021</th>\n",
       "      <td id=\"T_0dbbe_row1_col0\" class=\"data row1 col0\" >0.290000</td>\n",
       "      <td id=\"T_0dbbe_row1_col1\" class=\"data row1 col1\" >0.570000</td>\n",
       "      <td id=\"T_0dbbe_row1_col2\" class=\"data row1 col2\" >0.690000</td>\n",
       "      <td id=\"T_0dbbe_row1_col3\" class=\"data row1 col3\" >0.550000</td>\n",
       "      <td id=\"T_0dbbe_row1_col4\" class=\"data row1 col4\" >0.730000</td>\n",
       "      <td id=\"T_0dbbe_row1_col5\" class=\"data row1 col5\" >0.700000</td>\n",
       "      <td id=\"T_0dbbe_row1_col6\" class=\"data row1 col6\" >0.540000</td>\n",
       "      <td id=\"T_0dbbe_row1_col7\" class=\"data row1 col7\" >0.260000</td>\n",
       "      <td id=\"T_0dbbe_row1_col8\" class=\"data row1 col8\" >0.090000</td>\n",
       "      <td id=\"T_0dbbe_row1_col9\" class=\"data row1 col9\" >0.380000</td>\n",
       "      <td id=\"T_0dbbe_row1_col10\" class=\"data row1 col10\" >0.080000</td>\n",
       "      <td id=\"T_0dbbe_row1_col11\" class=\"data row1 col11\" >0.270000</td>\n",
       "      <td id=\"T_0dbbe_row1_col12\" class=\"data row1 col12\" >0.350000</td>\n",
       "      <td id=\"T_0dbbe_row1_col13\" class=\"data row1 col13\" >0.440000</td>\n",
       "      <td id=\"T_0dbbe_row1_col14\" class=\"data row1 col14\" >0.320000</td>\n",
       "      <td id=\"T_0dbbe_row1_col15\" class=\"data row1 col15\" >0.240000</td>\n",
       "    </tr>\n",
       "  </tbody>\n",
       "</table>\n"
      ],
      "text/plain": [
       "<pandas.io.formats.style.Styler at 0x7feff384dd30>"
      ]
     },
     "execution_count": 16,
     "metadata": {},
     "output_type": "execute_result"
    }
   ],
   "source": [
    "sequentials = [yeartwo.testwo_post.post_sequential, yearthree.testwo_post.post_sequential]\n",
    "caption = \"Table 6: The probability of exceeding the 2021 threshold, prior = sequential.\"\n",
    "pd.DataFrame(sequentials, columns=cois,index=[\"2017-2018\", \"2020-2021\"]).style.set_caption(caption).set_table_styles(table_css_styles)"
   ]
  },
  {
   "cell_type": "code",
   "execution_count": 17,
   "metadata": {
    "editable": true,
    "slideshow": {
     "slide_type": ""
    },
    "tags": [
     "remove-input"
    ]
   },
   "outputs": [
    {
     "data": {
      "text/html": [
       "<style type=\"text/css\">\n",
       "#T_71476 tr:nth-child(even) {\n",
       "  background-color: rgba(139, 69, 19, 0.08);\n",
       "}\n",
       "#T_71476 tr:nth-child(odd) {\n",
       "  background: #FFF;\n",
       "}\n",
       "#T_71476 tr {\n",
       "  font-size: 12px;\n",
       "}\n",
       "#T_71476 th:nth-child(1) {\n",
       "  background-color: #FFF;\n",
       "  text-align: right;\n",
       "}\n",
       "#T_71476 caption {\n",
       "  font-size: 14px;\n",
       "  font-style: italic;\n",
       "  caption-side: bottom;\n",
       "  text-align: left;\n",
       "  margin-top: 10px;\n",
       "}\n",
       "</style>\n",
       "<table id=\"T_71476\">\n",
       "  <caption>Table 7: The probability of exceeding the 2021 threshold, prior = shared.</caption>\n",
       "  <thead>\n",
       "    <tr>\n",
       "      <th class=\"blank level0\" >&nbsp;</th>\n",
       "      <th id=\"T_71476_level0_col0\" class=\"col_heading level0 col0\" >Gfrags</th>\n",
       "      <th id=\"T_71476_level0_col1\" class=\"col_heading level0 col1\" >G30</th>\n",
       "      <th id=\"T_71476_level0_col2\" class=\"col_heading level0 col2\" >G27</th>\n",
       "      <th id=\"T_71476_level0_col3\" class=\"col_heading level0 col3\" >Gfoam</th>\n",
       "      <th id=\"T_71476_level0_col4\" class=\"col_heading level0 col4\" >G95</th>\n",
       "      <th id=\"T_71476_level0_col5\" class=\"col_heading level0 col5\" >Gcaps</th>\n",
       "      <th id=\"T_71476_level0_col6\" class=\"col_heading level0 col6\" >G67</th>\n",
       "      <th id=\"T_71476_level0_col7\" class=\"col_heading level0 col7\" >G35</th>\n",
       "      <th id=\"T_71476_level0_col8\" class=\"col_heading level0 col8\" >G89</th>\n",
       "      <th id=\"T_71476_level0_col9\" class=\"col_heading level0 col9\" >G31</th>\n",
       "      <th id=\"T_71476_level0_col10\" class=\"col_heading level0 col10\" >G32</th>\n",
       "      <th id=\"T_71476_level0_col11\" class=\"col_heading level0 col11\" >G100</th>\n",
       "      <th id=\"T_71476_level0_col12\" class=\"col_heading level0 col12\" >G33</th>\n",
       "      <th id=\"T_71476_level0_col13\" class=\"col_heading level0 col13\" >G25</th>\n",
       "      <th id=\"T_71476_level0_col14\" class=\"col_heading level0 col14\" >G70</th>\n",
       "      <th id=\"T_71476_level0_col15\" class=\"col_heading level0 col15\" >G10</th>\n",
       "    </tr>\n",
       "  </thead>\n",
       "  <tbody>\n",
       "    <tr>\n",
       "      <th id=\"T_71476_level0_row0\" class=\"row_heading level0 row0\" >2017-2018</th>\n",
       "      <td id=\"T_71476_row0_col0\" class=\"data row0 col0\" >0.290000</td>\n",
       "      <td id=\"T_71476_row0_col1\" class=\"data row0 col1\" >0.580000</td>\n",
       "      <td id=\"T_71476_row0_col2\" class=\"data row0 col2\" >0.710000</td>\n",
       "      <td id=\"T_71476_row0_col3\" class=\"data row0 col3\" >0.580000</td>\n",
       "      <td id=\"T_71476_row0_col4\" class=\"data row0 col4\" >0.740000</td>\n",
       "      <td id=\"T_71476_row0_col5\" class=\"data row0 col5\" >0.730000</td>\n",
       "      <td id=\"T_71476_row0_col6\" class=\"data row0 col6\" >0.560000</td>\n",
       "      <td id=\"T_71476_row0_col7\" class=\"data row0 col7\" >0.280000</td>\n",
       "      <td id=\"T_71476_row0_col8\" class=\"data row0 col8\" >0.100000</td>\n",
       "      <td id=\"T_71476_row0_col9\" class=\"data row0 col9\" >0.400000</td>\n",
       "      <td id=\"T_71476_row0_col10\" class=\"data row0 col10\" >0.110000</td>\n",
       "      <td id=\"T_71476_row0_col11\" class=\"data row0 col11\" >0.310000</td>\n",
       "      <td id=\"T_71476_row0_col12\" class=\"data row0 col12\" >0.400000</td>\n",
       "      <td id=\"T_71476_row0_col13\" class=\"data row0 col13\" >0.460000</td>\n",
       "      <td id=\"T_71476_row0_col14\" class=\"data row0 col14\" >0.320000</td>\n",
       "      <td id=\"T_71476_row0_col15\" class=\"data row0 col15\" >0.260000</td>\n",
       "    </tr>\n",
       "    <tr>\n",
       "      <th id=\"T_71476_level0_row1\" class=\"row_heading level0 row1\" >2020-2021</th>\n",
       "      <td id=\"T_71476_row1_col0\" class=\"data row1 col0\" >0.210000</td>\n",
       "      <td id=\"T_71476_row1_col1\" class=\"data row1 col1\" >0.350000</td>\n",
       "      <td id=\"T_71476_row1_col2\" class=\"data row1 col2\" >0.430000</td>\n",
       "      <td id=\"T_71476_row1_col3\" class=\"data row1 col3\" >0.250000</td>\n",
       "      <td id=\"T_71476_row1_col4\" class=\"data row1 col4\" >0.210000</td>\n",
       "      <td id=\"T_71476_row1_col5\" class=\"data row1 col5\" >0.350000</td>\n",
       "      <td id=\"T_71476_row1_col6\" class=\"data row1 col6\" >0.390000</td>\n",
       "      <td id=\"T_71476_row1_col7\" class=\"data row1 col7\" >0.200000</td>\n",
       "      <td id=\"T_71476_row1_col8\" class=\"data row1 col8\" >0.140000</td>\n",
       "      <td id=\"T_71476_row1_col9\" class=\"data row1 col9\" >0.320000</td>\n",
       "      <td id=\"T_71476_row1_col10\" class=\"data row1 col10\" >0.140000</td>\n",
       "      <td id=\"T_71476_row1_col11\" class=\"data row1 col11\" >0.160000</td>\n",
       "      <td id=\"T_71476_row1_col12\" class=\"data row1 col12\" >0.250000</td>\n",
       "      <td id=\"T_71476_row1_col13\" class=\"data row1 col13\" >0.320000</td>\n",
       "      <td id=\"T_71476_row1_col14\" class=\"data row1 col14\" >0.180000</td>\n",
       "      <td id=\"T_71476_row1_col15\" class=\"data row1 col15\" >0.220000</td>\n",
       "    </tr>\n",
       "  </tbody>\n",
       "</table>\n"
      ],
      "text/plain": [
       "<pandas.io.formats.style.Styler at 0x7feff36e9fa0>"
      ]
     },
     "execution_count": 17,
     "metadata": {},
     "output_type": "execute_result"
    }
   ],
   "source": [
    "informeds = [yeartwo.testwo_post.post_informed, yearthree.testwo_post.post_informed]\n",
    "caption = \"Table 7: The probability of exceeding the 2021 threshold, prior = shared.\"\n",
    "pd.DataFrame(informeds, columns=cois, index=[\"2017-2018\", \"2020-2021\"]).style.set_caption(caption).set_table_styles(table_css_styles)"
   ]
  },
  {
   "cell_type": "code",
   "execution_count": 18,
   "metadata": {
    "editable": true,
    "jupyter": {
     "source_hidden": true
    },
    "scrolled": true,
    "slideshow": {
     "slide_type": ""
    },
    "tags": [
     "remove-input"
    ]
   },
   "outputs": [
    {
     "data": {
      "application/papermill.record/image/png": "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",
      "application/papermill.record/text/plain": "<Figure size 800x800 with 4 Axes>"
     },
     "metadata": {
      "scrapbook": {
       "mime_prefix": "application/papermill.record/",
       "name": "priors_results"
      }
     },
     "output_type": "display_data"
    }
   ],
   "source": [
    "tone_prior =yearone.testwo_post.uninformed[0]\n",
    "ttwo_prior = yeartwo.testwo_post.shared[0]\n",
    "tthree_prior = yearthree.testwo_post.shared[0]\n",
    "\n",
    "tone_prior = tone_prior\n",
    "ttwo_prior = ttwo_prior\n",
    "tthree_prior = tthree_prior\n",
    "\n",
    "hist_data = yearone.testwo.current_data\n",
    "hist_data = hist_data[hist_data.code == code]\n",
    "\n",
    "hist_datatwo = yeartwo.testwo.current_data\n",
    "hist_datatwo = hist_datatwo[hist_datatwo.code == code]\n",
    "\n",
    "hist_datathree = yearthree.testwo.current_data\n",
    "hist_datathree = hist_datathree[hist_datathree.code == code]\n",
    "hist_datathree = hist_datathree[hist_datathree.pcs_m < 11]\n",
    "\n",
    "fig, axs = plt.subplots(2,2, figsize=(8, 8))\n",
    "\n",
    "# sns.scatterplot(data=tone_prior, x=\"qty\", y=\"pr\", ax=ax, color=\"lime\", label=\"yearone prior\")\n",
    "sns.scatterplot(data=tone_prior, x=\"qty\", y=\"post\", ax=axs[0,0], color=\"lime\", label=\"yearone posterior\", marker=\"x\", zorder=10)\n",
    "\n",
    "# sns.scatterplot(data=ttwo_prior, x=\"qty\", y=\"pr\", ax=ax, color=\"magenta\", label=\"yeartwo prior\")\n",
    "sns.scatterplot(data=ttwo_prior, x=\"qty\", y=\"post\", ax=axs[0,1], color=\"magenta\", label=\"yeartwo posterior\", marker=\"x\", zorder=10)\n",
    "\n",
    "# sns.scatterplot(data=tthree_prior, x=\"qty\", y=\"pr\", ax=ax, color=\"dodgerblue\", label=\"yearthree prior\")\n",
    "sns.scatterplot(data=tthree_prior, x=\"qty\", y=\"post\", ax=axs[1,0], color=\"dodgerblue\", label=\"yearthree posterior\", marker=\"x\",  zorder=10)\n",
    "\n",
    "sns.histplot(data=hist_data, x=\"pcs_m\", stat=\"probability\", ax=axs[0,0], bins=10, color=\"darkslategrey\", alpha=.4, label=\"2015-2016 surveys\", zorder=0)\n",
    "sns.histplot(data=hist_datatwo, x=\"pcs_m\", stat=\"probability\", ax=axs[0,1], bins=10, color=\"darkslategrey\",alpha=.4, label=\"2017-2018 surveys\",zorder=0)\n",
    "sns.histplot(data=hist_datathree, x=\"pcs_m\", stat=\"probability\", ax=axs[1,0], bins=10, zorder=0, color=\"darkslategrey\", label=\"2020-2021 surveys\",alpha=0.4)\n",
    "axs[0,0].legend()\n",
    "axs[0,1].legend()\n",
    "axs[1,0].legend()\n",
    "plt.tight_layout()\n",
    "glue(\"priors_results\", fig, display=False)\n",
    "plt.close()"
   ]
  },
  {
   "cell_type": "markdown",
   "metadata": {
    "editable": true,
    "slideshow": {
     "slide_type": ""
    },
    "tags": []
   },
   "source": [
    "```{glue:figure} priors_results\n",
    ":name: \"tbl:df\"\n",
    "\n",
    "Distribution of priors and survey results\n",
    "``` "
   ]
  },
  {
   "cell_type": "markdown",
   "metadata": {
    "editable": true,
    "slideshow": {
     "slide_type": ""
    },
    "tags": []
   },
   "source": [
    "__Distribution of survey results__\n",
    "\n"
   ]
  },
  {
   "cell_type": "code",
   "execution_count": 19,
   "metadata": {
    "editable": true,
    "jupyter": {
     "source_hidden": true
    },
    "slideshow": {
     "slide_type": ""
    },
    "tags": [
     "remove-input"
    ]
   },
   "outputs": [
    {
     "data": {
      "image/png": "[encoded data removed]",
      "text/plain": [
       "<Figure size 800x400 with 1 Axes>"
      ]
     },
     "metadata": {},
     "output_type": "display_data"
    }
   ],
   "source": [
    "# sample totals per code all locations in city\n",
    "\n",
    "city_results = yearthree.testwo.current_data[yearthree.testwo.current_data.city == coi]\n",
    "city_tot = city_results.groupby([\"loc_date\", \"date\"], as_index=False).pcs_m.sum()\n",
    "city_start = city_results.groupby([\"loc_date\", \"date\", \"code\"], as_index=False).pcs_m.sum()\n",
    "\n",
    "fig, ax = plt.subplots(figsize=(8,4))\n",
    "\n",
    "sns.boxplot(data=cstart, x=\"code\", y=\"pcs_m\", showfliers=False,ax=ax, width=.8, dodge=True)\n",
    "\n",
    "sns.scatterplot(data=city_start, x=\"code\", y=\"pcs_m\", ax=ax,s=50, color=\"magenta\", edgecolor=\"white\", label=\"Saint Sulpice\")\n",
    "sns.scatterplot(data=tholds, x=tholds.index, y=tholds, ax=ax, marker=\"v\", s=80, label=\"threshold\")\n",
    "ax.tick_params(rotation=90)\n",
    "ax.set_ylim(-.2, 4.5)\n",
    "ax.set_title(\"Distribution of survey results for each code of interest, 90% interval\", loc=\"left\")\n",
    "\n",
    "plt.show()"
   ]
  },
  {
   "cell_type": "markdown",
   "metadata": {
    "editable": true,
    "slideshow": {
     "slide_type": ""
    },
    "tags": []
   },
   "source": [
    "## Test data: Samples after May 2021"
   ]
  },
  {
   "cell_type": "code",
   "execution_count": 20,
   "metadata": {
    "editable": true,
    "jupyter": {
     "source_hidden": true
    },
    "slideshow": {
     "slide_type": ""
    },
    "tags": [
     "remove-input"
    ]
   },
   "outputs": [],
   "source": [
    "def is_in_range(x, arange):\n",
    "    acount = 0\n",
    "    lows = 0\n",
    "    highs = 0\n",
    "    \n",
    "    if isinstance(x, float):    \n",
    "        gthan = x >= arange[1]\n",
    "        lthan = x <= arange[2]\n",
    "        if gthan and lthan:\n",
    "            ontarget = True\n",
    "            dif = 0\n",
    "            acount += 1\n",
    "        elif not gthan:\n",
    "            ontarget = \"high\"\n",
    "            dif = arange[1] - x\n",
    "            highs += 1\n",
    "            \n",
    "        elif not lthan:\n",
    "            ontarget = \"low\"\n",
    "            dif = arange[2] - x\n",
    "            lows += 1\n",
    "    else:\n",
    "        ontarget = \"No data\"\n",
    "        dif = None\n",
    "    \n",
    "    return arange[0], ontarget, dif, acount, highs, lows\n",
    "\n",
    "\n",
    "lake_after_may = all_data[(all_data.date > slr_e) & (all_data.water_name_slug == 'lac-leman')]\n",
    "after_may_location = lake_after_may.location.unique()\n",
    "l_a_m = lake_after_may[lake_after_may.code.isin(cois)]\n",
    "l_a_mx = l_a_m[l_a_m.location.isin(['plage-de-st-sulpice', 'tiger_duck_beach'])]\n",
    "lam = l_a_mx.groupby(\"code\", as_index=False).pcs_m.mean()\n",
    "lm = pd.DataFrame(data=lam.pcs_m.values, index=lam.code).T\n",
    "# xlmc = lm[cois]\n",
    "# xlmcv = xlmc.values[0]\n",
    "# xlmc"
   ]
  },
  {
   "cell_type": "markdown",
   "metadata": {
    "editable": true,
    "slideshow": {
     "slide_type": ""
    },
    "tags": []
   },
   "source": [
    "### Plastock\n",
    "\n",
    "The mean of the 2022 survey results falls in the predicted range of the 2021 posterior distribution for 13/16 of the codes of interest, table 8. Note that if we had to generalize the expected amount from 2021 was greater than the observed amount in 2022. The number of high predictions _phigh_ exceeds the the number of low predictions _plow_  for all codes except _Gfrags_."
   ]
  },
  {
   "cell_type": "markdown",
   "metadata": {
    "editable": true,
    "slideshow": {
     "slide_type": ""
    },
    "tags": []
   },
   "source": [
    "#### Expected values and predictions plastock"
   ]
  },
  {
   "cell_type": "code",
   "execution_count": 21,
   "metadata": {
    "editable": true,
    "slideshow": {
     "slide_type": ""
    },
    "tags": [
     "hide-input"
    ]
   },
   "outputs": [
    {
     "data": {
      "text/html": [
       "<style type=\"text/css\">\n",
       "#T_7c52b tr:nth-child(even) {\n",
       "  background-color: rgba(139, 69, 19, 0.08);\n",
       "}\n",
       "#T_7c52b tr:nth-child(odd) {\n",
       "  background: #FFF;\n",
       "}\n",
       "#T_7c52b tr {\n",
       "  font-size: 12px;\n",
       "}\n",
       "#T_7c52b th:nth-child(1) {\n",
       "  background-color: #FFF;\n",
       "  text-align: right;\n",
       "}\n",
       "#T_7c52b caption {\n",
       "  font-size: 14px;\n",
       "  font-style: italic;\n",
       "  caption-side: bottom;\n",
       "  text-align: left;\n",
       "  margin-top: 10px;\n",
       "}\n",
       "</style>\n",
       "<table id=\"T_7c52b\">\n",
       "  <caption>Table 8: The expected distribution of survey results. The observed mean of 2022 compared to the posterior distribution from 2015 - 2021</caption>\n",
       "  <thead>\n",
       "    <tr>\n",
       "      <th class=\"blank level0\" >&nbsp;</th>\n",
       "      <th id=\"T_7c52b_level0_col0\" class=\"col_heading level0 col0\" >object</th>\n",
       "      <th id=\"T_7c52b_level0_col1\" class=\"col_heading level0 col1\" >rlow</th>\n",
       "      <th id=\"T_7c52b_level0_col2\" class=\"col_heading level0 col2\" >rhigh</th>\n",
       "      <th id=\"T_7c52b_level0_col3\" class=\"col_heading level0 col3\" >o-mean</th>\n",
       "      <th id=\"T_7c52b_level0_col4\" class=\"col_heading level0 col4\" >in range</th>\n",
       "      <th id=\"T_7c52b_level0_col5\" class=\"col_heading level0 col5\" >plow</th>\n",
       "      <th id=\"T_7c52b_level0_col6\" class=\"col_heading level0 col6\" >phigh</th>\n",
       "      <th id=\"T_7c52b_level0_col7\" class=\"col_heading level0 col7\" >o mean in range</th>\n",
       "    </tr>\n",
       "  </thead>\n",
       "  <tbody>\n",
       "    <tr>\n",
       "      <th id=\"T_7c52b_level0_row0\" class=\"row_heading level0 row0\" >Gfrags</th>\n",
       "      <td id=\"T_7c52b_row0_col0\" class=\"data row0 col0\" >Fragmented plastics</td>\n",
       "      <td id=\"T_7c52b_row0_col1\" class=\"data row0 col1\" >0.060000</td>\n",
       "      <td id=\"T_7c52b_row0_col2\" class=\"data row0 col2\" >1.580000</td>\n",
       "      <td id=\"T_7c52b_row0_col3\" class=\"data row0 col3\" >1.410000</td>\n",
       "      <td id=\"T_7c52b_row0_col4\" class=\"data row0 col4\" >16</td>\n",
       "      <td id=\"T_7c52b_row0_col5\" class=\"data row0 col5\" >9</td>\n",
       "      <td id=\"T_7c52b_row0_col6\" class=\"data row0 col6\" >0</td>\n",
       "      <td id=\"T_7c52b_row0_col7\" class=\"data row0 col7\" >True</td>\n",
       "    </tr>\n",
       "    <tr>\n",
       "      <th id=\"T_7c52b_level0_row1\" class=\"row_heading level0 row1\" >G30</th>\n",
       "      <td id=\"T_7c52b_row1_col0\" class=\"data row1 col0\" >Food wrappers; candy, snacks</td>\n",
       "      <td id=\"T_7c52b_row1_col1\" class=\"data row1 col1\" >0.050000</td>\n",
       "      <td id=\"T_7c52b_row1_col2\" class=\"data row1 col2\" >0.620000</td>\n",
       "      <td id=\"T_7c52b_row1_col3\" class=\"data row1 col3\" >0.280000</td>\n",
       "      <td id=\"T_7c52b_row1_col4\" class=\"data row1 col4\" >20</td>\n",
       "      <td id=\"T_7c52b_row1_col5\" class=\"data row1 col5\" >1</td>\n",
       "      <td id=\"T_7c52b_row1_col6\" class=\"data row1 col6\" >4</td>\n",
       "      <td id=\"T_7c52b_row1_col7\" class=\"data row1 col7\" >True</td>\n",
       "    </tr>\n",
       "    <tr>\n",
       "      <th id=\"T_7c52b_level0_row2\" class=\"row_heading level0 row2\" >G27</th>\n",
       "      <td id=\"T_7c52b_row2_col0\" class=\"data row2 col0\" >Cigarette filters</td>\n",
       "      <td id=\"T_7c52b_row2_col1\" class=\"data row2 col1\" >0.060000</td>\n",
       "      <td id=\"T_7c52b_row2_col2\" class=\"data row2 col2\" >1.480000</td>\n",
       "      <td id=\"T_7c52b_row2_col3\" class=\"data row2 col3\" >0.430000</td>\n",
       "      <td id=\"T_7c52b_row2_col4\" class=\"data row2 col4\" >19</td>\n",
       "      <td id=\"T_7c52b_row2_col5\" class=\"data row2 col5\" >2</td>\n",
       "      <td id=\"T_7c52b_row2_col6\" class=\"data row2 col6\" >4</td>\n",
       "      <td id=\"T_7c52b_row2_col7\" class=\"data row2 col7\" >True</td>\n",
       "    </tr>\n",
       "    <tr>\n",
       "      <th id=\"T_7c52b_level0_row3\" class=\"row_heading level0 row3\" >Gfoam</th>\n",
       "      <td id=\"T_7c52b_row3_col0\" class=\"data row3 col0\" >Expanded polystyrene</td>\n",
       "      <td id=\"T_7c52b_row3_col1\" class=\"data row3 col1\" >0.010000</td>\n",
       "      <td id=\"T_7c52b_row3_col2\" class=\"data row3 col2\" >1.160000</td>\n",
       "      <td id=\"T_7c52b_row3_col3\" class=\"data row3 col3\" >0.210000</td>\n",
       "      <td id=\"T_7c52b_row3_col4\" class=\"data row3 col4\" >20</td>\n",
       "      <td id=\"T_7c52b_row3_col5\" class=\"data row3 col5\" >1</td>\n",
       "      <td id=\"T_7c52b_row3_col6\" class=\"data row3 col6\" >4</td>\n",
       "      <td id=\"T_7c52b_row3_col7\" class=\"data row3 col7\" >True</td>\n",
       "    </tr>\n",
       "    <tr>\n",
       "      <th id=\"T_7c52b_level0_row4\" class=\"row_heading level0 row4\" >G95</th>\n",
       "      <td id=\"T_7c52b_row4_col0\" class=\"data row4 col0\" >Cotton bud/swab sticks</td>\n",
       "      <td id=\"T_7c52b_row4_col1\" class=\"data row4 col1\" >0.010000</td>\n",
       "      <td id=\"T_7c52b_row4_col2\" class=\"data row4 col2\" >0.520000</td>\n",
       "      <td id=\"T_7c52b_row4_col3\" class=\"data row4 col3\" >0.150000</td>\n",
       "      <td id=\"T_7c52b_row4_col4\" class=\"data row4 col4\" >16</td>\n",
       "      <td id=\"T_7c52b_row4_col5\" class=\"data row4 col5\" >2</td>\n",
       "      <td id=\"T_7c52b_row4_col6\" class=\"data row4 col6\" >7</td>\n",
       "      <td id=\"T_7c52b_row4_col7\" class=\"data row4 col7\" >True</td>\n",
       "    </tr>\n",
       "    <tr>\n",
       "      <th id=\"T_7c52b_level0_row5\" class=\"row_heading level0 row5\" >Gcaps</th>\n",
       "      <td id=\"T_7c52b_row5_col0\" class=\"data row5 col0\" >Plastic bottle lids</td>\n",
       "      <td id=\"T_7c52b_row5_col1\" class=\"data row5 col1\" >0.010000</td>\n",
       "      <td id=\"T_7c52b_row5_col2\" class=\"data row5 col2\" >0.420000</td>\n",
       "      <td id=\"T_7c52b_row5_col3\" class=\"data row5 col3\" >0.140000</td>\n",
       "      <td id=\"T_7c52b_row5_col4\" class=\"data row5 col4\" >18</td>\n",
       "      <td id=\"T_7c52b_row5_col5\" class=\"data row5 col5\" >1</td>\n",
       "      <td id=\"T_7c52b_row5_col6\" class=\"data row5 col6\" >6</td>\n",
       "      <td id=\"T_7c52b_row5_col7\" class=\"data row5 col7\" >True</td>\n",
       "    </tr>\n",
       "    <tr>\n",
       "      <th id=\"T_7c52b_level0_row6\" class=\"row_heading level0 row6\" >G67</th>\n",
       "      <td id=\"T_7c52b_row6_col0\" class=\"data row6 col0\" >Industrial sheeting</td>\n",
       "      <td id=\"T_7c52b_row6_col1\" class=\"data row6 col1\" >0.010000</td>\n",
       "      <td id=\"T_7c52b_row6_col2\" class=\"data row6 col2\" >0.500000</td>\n",
       "      <td id=\"T_7c52b_row6_col3\" class=\"data row6 col3\" >0.020000</td>\n",
       "      <td id=\"T_7c52b_row6_col4\" class=\"data row6 col4\" >4</td>\n",
       "      <td id=\"T_7c52b_row6_col5\" class=\"data row6 col5\" >0</td>\n",
       "      <td id=\"T_7c52b_row6_col6\" class=\"data row6 col6\" >21</td>\n",
       "      <td id=\"T_7c52b_row6_col7\" class=\"data row6 col7\" >True</td>\n",
       "    </tr>\n",
       "    <tr>\n",
       "      <th id=\"T_7c52b_level0_row7\" class=\"row_heading level0 row7\" >G35</th>\n",
       "      <td id=\"T_7c52b_row7_col0\" class=\"data row7 col0\" >Straws and stirrers</td>\n",
       "      <td id=\"T_7c52b_row7_col1\" class=\"data row7 col1\" >0.010000</td>\n",
       "      <td id=\"T_7c52b_row7_col2\" class=\"data row7 col2\" >0.120000</td>\n",
       "      <td id=\"T_7c52b_row7_col3\" class=\"data row7 col3\" >0.020000</td>\n",
       "      <td id=\"T_7c52b_row7_col4\" class=\"data row7 col4\" >15</td>\n",
       "      <td id=\"T_7c52b_row7_col5\" class=\"data row7 col5\" >1</td>\n",
       "      <td id=\"T_7c52b_row7_col6\" class=\"data row7 col6\" >9</td>\n",
       "      <td id=\"T_7c52b_row7_col7\" class=\"data row7 col7\" >True</td>\n",
       "    </tr>\n",
       "    <tr>\n",
       "      <th id=\"T_7c52b_level0_row8\" class=\"row_heading level0 row8\" >G89</th>\n",
       "      <td id=\"T_7c52b_row8_col0\" class=\"data row8 col0\" >Plastic construction waste</td>\n",
       "      <td id=\"T_7c52b_row8_col1\" class=\"data row8 col1\" >0.010000</td>\n",
       "      <td id=\"T_7c52b_row8_col2\" class=\"data row8 col2\" >0.200000</td>\n",
       "      <td id=\"T_7c52b_row8_col3\" class=\"data row8 col3\" >0.050000</td>\n",
       "      <td id=\"T_7c52b_row8_col4\" class=\"data row8 col4\" >12</td>\n",
       "      <td id=\"T_7c52b_row8_col5\" class=\"data row8 col5\" >2</td>\n",
       "      <td id=\"T_7c52b_row8_col6\" class=\"data row8 col6\" >11</td>\n",
       "      <td id=\"T_7c52b_row8_col7\" class=\"data row8 col7\" >True</td>\n",
       "    </tr>\n",
       "    <tr>\n",
       "      <th id=\"T_7c52b_level0_row9\" class=\"row_heading level0 row9\" >G31</th>\n",
       "      <td id=\"T_7c52b_row9_col0\" class=\"data row9 col0\" >Lollypop sticks</td>\n",
       "      <td id=\"T_7c52b_row9_col1\" class=\"data row9 col1\" >0.010000</td>\n",
       "      <td id=\"T_7c52b_row9_col2\" class=\"data row9 col2\" >0.120000</td>\n",
       "      <td id=\"T_7c52b_row9_col3\" class=\"data row9 col3\" >0.050000</td>\n",
       "      <td id=\"T_7c52b_row9_col4\" class=\"data row9 col4\" >17</td>\n",
       "      <td id=\"T_7c52b_row9_col5\" class=\"data row9 col5\" >2</td>\n",
       "      <td id=\"T_7c52b_row9_col6\" class=\"data row9 col6\" >6</td>\n",
       "      <td id=\"T_7c52b_row9_col7\" class=\"data row9 col7\" >True</td>\n",
       "    </tr>\n",
       "    <tr>\n",
       "      <th id=\"T_7c52b_level0_row10\" class=\"row_heading level0 row10\" >G32</th>\n",
       "      <td id=\"T_7c52b_row10_col0\" class=\"data row10 col0\" >Toys and party favors</td>\n",
       "      <td id=\"T_7c52b_row10_col1\" class=\"data row10 col1\" >0.010000</td>\n",
       "      <td id=\"T_7c52b_row10_col2\" class=\"data row10 col2\" >0.080000</td>\n",
       "      <td id=\"T_7c52b_row10_col3\" class=\"data row10 col3\" >0.010000</td>\n",
       "      <td id=\"T_7c52b_row10_col4\" class=\"data row10 col4\" >8</td>\n",
       "      <td id=\"T_7c52b_row10_col5\" class=\"data row10 col5\" >0</td>\n",
       "      <td id=\"T_7c52b_row10_col6\" class=\"data row10 col6\" >17</td>\n",
       "      <td id=\"T_7c52b_row10_col7\" class=\"data row10 col7\" >True</td>\n",
       "    </tr>\n",
       "    <tr>\n",
       "      <th id=\"T_7c52b_level0_row11\" class=\"row_heading level0 row11\" >G100</th>\n",
       "      <td id=\"T_7c52b_row11_col0\" class=\"data row11 col0\" >Medical; containers/tubes/ packaging</td>\n",
       "      <td id=\"T_7c52b_row11_col1\" class=\"data row11 col1\" >0.010000</td>\n",
       "      <td id=\"T_7c52b_row11_col2\" class=\"data row11 col2\" >0.080000</td>\n",
       "      <td id=\"T_7c52b_row11_col3\" class=\"data row11 col3\" >0.000000</td>\n",
       "      <td id=\"T_7c52b_row11_col4\" class=\"data row11 col4\" >4</td>\n",
       "      <td id=\"T_7c52b_row11_col5\" class=\"data row11 col5\" >0</td>\n",
       "      <td id=\"T_7c52b_row11_col6\" class=\"data row11 col6\" >21</td>\n",
       "      <td id=\"T_7c52b_row11_col7\" class=\"data row11 col7\" >False</td>\n",
       "    </tr>\n",
       "    <tr>\n",
       "      <th id=\"T_7c52b_level0_row12\" class=\"row_heading level0 row12\" >G33</th>\n",
       "      <td id=\"T_7c52b_row12_col0\" class=\"data row12 col0\" >Cups, lids, single use foamed and hard plastic</td>\n",
       "      <td id=\"T_7c52b_row12_col1\" class=\"data row12 col1\" >0.010000</td>\n",
       "      <td id=\"T_7c52b_row12_col2\" class=\"data row12 col2\" >0.080000</td>\n",
       "      <td id=\"T_7c52b_row12_col3\" class=\"data row12 col3\" >0.010000</td>\n",
       "      <td id=\"T_7c52b_row12_col4\" class=\"data row12 col4\" >5</td>\n",
       "      <td id=\"T_7c52b_row12_col5\" class=\"data row12 col5\" >0</td>\n",
       "      <td id=\"T_7c52b_row12_col6\" class=\"data row12 col6\" >20</td>\n",
       "      <td id=\"T_7c52b_row12_col7\" class=\"data row12 col7\" >True</td>\n",
       "    </tr>\n",
       "    <tr>\n",
       "      <th id=\"T_7c52b_level0_row13\" class=\"row_heading level0 row13\" >G25</th>\n",
       "      <td id=\"T_7c52b_row13_col0\" class=\"data row13 col0\" >Tobacco; plastic packaging, containers</td>\n",
       "      <td id=\"T_7c52b_row13_col1\" class=\"data row13 col1\" >0.010000</td>\n",
       "      <td id=\"T_7c52b_row13_col2\" class=\"data row13 col2\" >0.130000</td>\n",
       "      <td id=\"T_7c52b_row13_col3\" class=\"data row13 col3\" >0.000000</td>\n",
       "      <td id=\"T_7c52b_row13_col4\" class=\"data row13 col4\" >2</td>\n",
       "      <td id=\"T_7c52b_row13_col5\" class=\"data row13 col5\" >0</td>\n",
       "      <td id=\"T_7c52b_row13_col6\" class=\"data row13 col6\" >23</td>\n",
       "      <td id=\"T_7c52b_row13_col7\" class=\"data row13 col7\" >False</td>\n",
       "    </tr>\n",
       "    <tr>\n",
       "      <th id=\"T_7c52b_level0_row14\" class=\"row_heading level0 row14\" >G70</th>\n",
       "      <td id=\"T_7c52b_row14_col0\" class=\"data row14 col0\" >Shotgun cartridges</td>\n",
       "      <td id=\"T_7c52b_row14_col1\" class=\"data row14 col1\" >0.010000</td>\n",
       "      <td id=\"T_7c52b_row14_col2\" class=\"data row14 col2\" >0.080000</td>\n",
       "      <td id=\"T_7c52b_row14_col3\" class=\"data row14 col3\" >0.020000</td>\n",
       "      <td id=\"T_7c52b_row14_col4\" class=\"data row14 col4\" >11</td>\n",
       "      <td id=\"T_7c52b_row14_col5\" class=\"data row14 col5\" >2</td>\n",
       "      <td id=\"T_7c52b_row14_col6\" class=\"data row14 col6\" >12</td>\n",
       "      <td id=\"T_7c52b_row14_col7\" class=\"data row14 col7\" >True</td>\n",
       "    </tr>\n",
       "    <tr>\n",
       "      <th id=\"T_7c52b_level0_row15\" class=\"row_heading level0 row15\" >G10</th>\n",
       "      <td id=\"T_7c52b_row15_col0\" class=\"data row15 col0\" >Food containers single use foamed or plastic</td>\n",
       "      <td id=\"T_7c52b_row15_col1\" class=\"data row15 col1\" >0.010000</td>\n",
       "      <td id=\"T_7c52b_row15_col2\" class=\"data row15 col2\" >0.070000</td>\n",
       "      <td id=\"T_7c52b_row15_col3\" class=\"data row15 col3\" >0.000000</td>\n",
       "      <td id=\"T_7c52b_row15_col4\" class=\"data row15 col4\" >3</td>\n",
       "      <td id=\"T_7c52b_row15_col5\" class=\"data row15 col5\" >0</td>\n",
       "      <td id=\"T_7c52b_row15_col6\" class=\"data row15 col6\" >22</td>\n",
       "      <td id=\"T_7c52b_row15_col7\" class=\"data row15 col7\" >False</td>\n",
       "    </tr>\n",
       "  </tbody>\n",
       "</table>\n"
      ],
      "text/plain": [
       "<pandas.io.formats.style.Styler at 0x7fefe960c520>"
      ]
     },
     "execution_count": 21,
     "metadata": {},
     "output_type": "execute_result"
    }
   ],
   "source": [
    "plastock = pd.read_csv(\"resources/pstock_2022.csv\")\n",
    "plastock[\"loc_date\"] = list(zip(plastock.location, plastock.date))\n",
    "pstock = plastock[plastock.code.isin(cois)].copy()\n",
    "pstock = pstock.groupby([\"loc_date\", \"location\", \"date\", \"code\"], as_index=False)[\"pcs/m\"].sum()\n",
    "pstock = pstock.groupby([\"location\", \"code\"], as_index=False)[\"pcs/m\"].mean()\n",
    "\n",
    "t3 = an_array_of_posterior_probabilities(yearthree.testwo.current_data, yearthree.testwo.prior_data, cois, xrange)\n",
    "a_p_for_index = t3\n",
    "\n",
    "t = [x.loc[(x.post >= .03) & (x.post <= .97)].qty for i, x in enumerate(a_p_for_index)]\n",
    "tr = [(cois[i], round(x.min(), 2),  round(x.max(), 2)) for i,x in enumerate(t)]\n",
    "\n",
    "pst = [np.round(pstock[pstock.code == x][\"pcs/m\"].values, 2) for x in cois]\n",
    "\n",
    "n = 0\n",
    "inn = 0\n",
    "ress = []\n",
    "for i,x in enumerate(pst):\n",
    "    tested = [is_in_range(j, tr[i]) for j in x]\n",
    "    # print(\"\\nDid the observed results fall within the predicted range?\")\n",
    "    in_range = sum([k[3] for k in tested])\n",
    "    arange = len(tested)\n",
    "    n += arange\n",
    "    inn += in_range\n",
    "    highs = sum([x[4] for x in tested])\n",
    "    lows = sum([x[5] for x in tested])\n",
    "    arow = {\"code\":tr[i][0],\"rlow\":tr[i][1], \"rhigh\":tr[i][2], \"o-mean\":round(np.mean(x), 2), \"in range\":in_range, \"plow\":lows, \"phigh\":highs}\n",
    "    ress.append(arow)\n",
    "    # print(f\"96% probability range = {tr[i]}\")\n",
    "    # print(f\"In range: {in_range}, out of: {arange} or {round(in_range/arange, 2)}\\n\")\n",
    "    # print(f\"Estmiated high: {highs}, Estimated low: {lows}\")\n",
    "    # print(n, inn)\n",
    "\n",
    "rest = pd.DataFrame(ress)\n",
    "rest[\"o mean in range\"] = (rest[\"o-mean\"] >= rest.rlow) & (rest[\"o-mean\"] <= rest.rhigh)\n",
    "rest[\"object\"] = rest.code.apply(lambda x: code_d.loc[x])\n",
    "rest = rest[[\"object\", *rest.columns[:-1]]]\n",
    "rest.set_index(\"code\", inplace=True, drop=True)\n",
    "rest.index.name = None\n",
    "caption = \"Table 8: The expected distribution of survey results. The observed mean of 2022 compared to the posterior distribution from 2015 - 2021\"\n",
    "\n",
    "rest.style.set_caption(caption).set_table_styles(table_css_styles)"
   ]
  },
  {
   "cell_type": "code",
   "execution_count": 22,
   "metadata": {
    "editable": true,
    "slideshow": {
     "slide_type": ""
    },
    "tags": []
   },
   "outputs": [
    {
     "name": "stdout",
     "output_type": "stream",
     "text": [
      "Percent within predicted range: 0.81\n"
     ]
    }
   ],
   "source": [
    "good_p = rest[\"o mean in range\"].sum()\n",
    "rate_goodp = good_p/len(rest)\n",
    "\n",
    "print(f\"Percent within predicted range: {np.round(rate_goodp, 2)}\")"
   ]
  },
  {
   "cell_type": "markdown",
   "metadata": {
    "editable": true,
    "slideshow": {
     "slide_type": ""
    },
    "tags": []
   },
   "source": [
    "<!-- #### The probability of the observed results at Saint Sulpice given the informed posterior from lake\n",
    "\n",
    "The observed results +/- .1. See table 12 for probability of the event at the lake. -->"
   ]
  },
  {
   "cell_type": "code",
   "execution_count": 23,
   "metadata": {
    "editable": true,
    "slideshow": {
     "slide_type": ""
    },
    "tags": [
     "remove-input"
    ]
   },
   "outputs": [],
   "source": [
    "# # the probability of the result after may 2021\n",
    "# h = [x.loc[(x.qty >= xlmcv[i] - .1)&(x.qty <= xlmcv[i] + .1)] for i, x in enumerate(xq3)]\n",
    "# hg = [(cois[i],np.round(x.post.min(), 2), np.round(x.post.max(), 2)) for i, x in enumerate(h)]\n",
    "\n",
    "# # the expected range magnitude with a 96% probability\n",
    "# t = [x.loc[(x.post >= .03) & (x.post <= .97)].qty for i, x in enumerate(xq3)]\n",
    "# tr = [(cois[i], round(x.min(), 2),  round(x.max(), 2)) for i,x in enumerate(t)]\n",
    "\n",
    "# tested = [is_in_range(xlmcv[i], x) for i, x in enumerate(tr)]\n",
    "# print(\"\\nDid the observed results fall within the predicted range?\")\n",
    "# in_range = sum([x[3] for x in tested])\n",
    "# arange = len(tested)\n",
    "# highs = sum([x[4] for x in tested])\n",
    "# lows = sum([x[5] for x in tested])\n",
    "# print(f\"In range: {in_range}, out of: {arange}\\n\")\n",
    "# print(f\"Estmiated high: {highs}, Estimated low: {lows}\")"
   ]
  },
  {
   "cell_type": "markdown",
   "metadata": {
    "editable": true,
    "slideshow": {
     "slide_type": ""
    },
    "tags": []
   },
   "source": [
    "<!-- #### The probability of the observed results at Saint Sulpice given the informed posterior from Saint Sulpice\n",
    "\n",
    "The observed results +/- .1. See table 14 for the probability of the event at Saint Sulpice. -->"
   ]
  },
  {
   "cell_type": "code",
   "execution_count": 24,
   "metadata": {
    "editable": true,
    "jupyter": {
     "source_hidden": true
    },
    "slideshow": {
     "slide_type": ""
    },
    "tags": [
     "remove-input"
    ]
   },
   "outputs": [],
   "source": [
    "# # saint sulpice\n",
    "# # the probability of the result after may 2021\n",
    "# h = [x.loc[(x.qty >= xlmcv[i] - .1) & (x.qty <= xlmcv[i] + .1)].post for i, x in enumerate(xt3)]\n",
    "# # [(cois[i], round(x.min(), 2), round(x.max(), 2)) for i, x in enumerate(h)]\n",
    "\n",
    "# # the expected magnitude with probability between .3 and .6\n",
    "# a_p_for_index = xt3\n",
    "# t = [x.loc[(x.post >= .03) & (x.post <= .97)].qty for i, x in enumerate(a_p_for_index)]\n",
    "# tr = [(cois[i], round(x.min(), 2),  round(x.max(), 2)) for i,x in enumerate(t)]\n",
    "\n",
    "\n",
    "# # pstk_gfrags = pstock[pstock.code == \"Gfrags\"].copy()\n",
    "# # pstk_res = pstk_gfrags[\"pcs/m\"].values\n",
    "\n",
    "# tested = [is_in_range(xlmcv[i], x) for i, x in enumerate(tr)]\n",
    "# print(\"\\nDid the observed results fall within the predicted range?\")\n",
    "# in_range = sum([x[3] for x in tested])\n",
    "# arange = len(tested)\n",
    "# highs = sum([x[4] for x in tested])\n",
    "# lows = sum([x[5] for x in tested])\n",
    "# # print(f\"96% probability range = {tr[0]}\")\n",
    "# print(f\"In range: {in_range}, out of: {arange} or {round(in_range/arange, 2)}\\n\")\n",
    "# print(f\"Estmiated high: {highs}, Estimated low: {lows}\")"
   ]
  },
  {
   "cell_type": "code",
   "execution_count": 25,
   "metadata": {
    "editable": true,
    "slideshow": {
     "slide_type": ""
    },
    "tags": [
     "remove-input"
    ]
   },
   "outputs": [],
   "source": [
    "# plastock = pd.read_csv(\"resources/pstock_2022.csv\")\n",
    "# plastock[\"loc_date\"] = list(zip(plastock.location, plastock.date))\n",
    "# pstock = plastock[plastock.code.isin(cois)].copy()\n",
    "# pstock = pstock.groupby([\"loc_date\", \"location\", \"date\", \"code\"], as_index=False)[\"pcs/m\"].sum()\n",
    "# pstock = pstock.groupby([\"location\", \"code\"], as_index=False)[\"pcs/m\"].mean()"
   ]
  },
  {
   "cell_type": "code",
   "execution_count": 26,
   "metadata": {
    "editable": true,
    "slideshow": {
     "slide_type": ""
    },
    "tags": [
     "remove-input"
    ]
   },
   "outputs": [],
   "source": [
    "# a_p_for_index = yearthree.testwo_post.shared\n",
    "# t = [x.loc[(x.post >= .03) & (x.post <= .97)].qty for i, x in enumerate(a_p_for_index)]\n",
    "# tr = [(cois[i], round(x.min(), 2),  round(x.max(), 2)) for i,x in enumerate(t)]\n",
    "\n",
    "# pstk_gfrags = pstock[pstock.code == \"Gfrags\"].copy()\n",
    "# pstk_res = pstk_gfrags[\"pcs/m\"].values\n",
    "\n",
    "# tested = [is_in_range(x, tr[0]) for x in pstk_res]\n",
    "\n",
    "# print(\"\\nDid the observed results fall within the predicted range?\")\n",
    "# in_range = sum([x[3] for x in tested])\n",
    "# arange = len(tested)\n",
    "# highs = sum([x[4] for x in tested])\n",
    "# lows = sum([x[5] for x in tested])\n",
    "# print(f\"96% probability range = {tr[0]}\")\n",
    "# print(f\"In range: {in_range}, out of: {arange} or {round(in_range/arange, 2)}\\n\")\n",
    "# print(f\"Estmiated high: {highs}, Estimated low: {lows}\")"
   ]
  },
  {
   "cell_type": "code",
   "execution_count": 27,
   "metadata": {
    "editable": true,
    "slideshow": {
     "slide_type": ""
    },
    "tags": [
     "remove-input"
    ]
   },
   "outputs": [],
   "source": [
    "# d = a_p_for_index[0]\n",
    "# d[\"1-p\"] = 1- d.post\n",
    "\n",
    "# fig, ax = plt.subplots()\n",
    "\n",
    "# sns.ecdfplot(pstk_res, ax=ax, label=\"observed 2022\")\n",
    "# sns.scatterplot(data=d, x=\"qty\", y=\"1-p\", ax=ax, color=\"magenta\", label=\"informed posterior 2021\")\n",
    "# ax.set_xlim(0, pstk_res.max())\n",
    "# ax.set_title(cois[0], loc=\"left\")\n",
    "\n",
    "# plt.show()"
   ]
  },
  {
   "cell_type": "markdown",
   "metadata": {
    "editable": true,
    "slideshow": {
     "slide_type": ""
    },
    "tags": []
   },
   "source": [
    "#### Mix of objects, % of total"
   ]
  },
  {
   "cell_type": "code",
   "execution_count": 28,
   "metadata": {
    "editable": true,
    "jupyter": {
     "source_hidden": true
    },
    "slideshow": {
     "slide_type": ""
    },
    "tags": [
     "hide-input"
    ]
   },
   "outputs": [
    {
     "data": {
      "text/html": [
       "<div>\n",
       "<style scoped>\n",
       "    .dataframe tbody tr th:only-of-type {\n",
       "        vertical-align: middle;\n",
       "    }\n",
       "\n",
       "    .dataframe tbody tr th {\n",
       "        vertical-align: top;\n",
       "    }\n",
       "\n",
       "    .dataframe thead th {\n",
       "        text-align: right;\n",
       "    }\n",
       "</style>\n",
       "<table border=\"1\" class=\"dataframe\">\n",
       "  <thead>\n",
       "    <tr style=\"text-align: right;\">\n",
       "      <th></th>\n",
       "      <th>plastock %</th>\n",
       "      <th>lake %</th>\n",
       "      <th>SWE %</th>\n",
       "    </tr>\n",
       "    <tr>\n",
       "      <th>code</th>\n",
       "      <th></th>\n",
       "      <th></th>\n",
       "      <th></th>\n",
       "    </tr>\n",
       "  </thead>\n",
       "  <tbody>\n",
       "    <tr>\n",
       "      <th>Gfrags</th>\n",
       "      <td>40.16</td>\n",
       "      <td>15.29</td>\n",
       "      <td>15.74</td>\n",
       "    </tr>\n",
       "    <tr>\n",
       "      <th>G27</th>\n",
       "      <td>11.67</td>\n",
       "      <td>11.27</td>\n",
       "      <td>10.10</td>\n",
       "    </tr>\n",
       "    <tr>\n",
       "      <th>G30</th>\n",
       "      <td>7.35</td>\n",
       "      <td>6.09</td>\n",
       "      <td>8.60</td>\n",
       "    </tr>\n",
       "    <tr>\n",
       "      <th>Gfoam</th>\n",
       "      <td>4.97</td>\n",
       "      <td>13.13</td>\n",
       "      <td>4.17</td>\n",
       "    </tr>\n",
       "    <tr>\n",
       "      <th>Gcaps</th>\n",
       "      <td>3.88</td>\n",
       "      <td>3.80</td>\n",
       "      <td>2.58</td>\n",
       "    </tr>\n",
       "    <tr>\n",
       "      <th>G95</th>\n",
       "      <td>3.67</td>\n",
       "      <td>4.07</td>\n",
       "      <td>7.60</td>\n",
       "    </tr>\n",
       "    <tr>\n",
       "      <th>G89</th>\n",
       "      <td>1.48</td>\n",
       "      <td>2.14</td>\n",
       "      <td>1.73</td>\n",
       "    </tr>\n",
       "    <tr>\n",
       "      <th>G31</th>\n",
       "      <td>1.33</td>\n",
       "      <td>0.87</td>\n",
       "      <td>0.79</td>\n",
       "    </tr>\n",
       "    <tr>\n",
       "      <th>G70</th>\n",
       "      <td>0.70</td>\n",
       "      <td>1.27</td>\n",
       "      <td>0.50</td>\n",
       "    </tr>\n",
       "    <tr>\n",
       "      <th>G35</th>\n",
       "      <td>0.56</td>\n",
       "      <td>1.02</td>\n",
       "      <td>0.59</td>\n",
       "    </tr>\n",
       "    <tr>\n",
       "      <th>G67</th>\n",
       "      <td>0.52</td>\n",
       "      <td>3.90</td>\n",
       "      <td>2.06</td>\n",
       "    </tr>\n",
       "    <tr>\n",
       "      <th>G32</th>\n",
       "      <td>0.23</td>\n",
       "      <td>0.70</td>\n",
       "      <td>0.94</td>\n",
       "    </tr>\n",
       "    <tr>\n",
       "      <th>G33</th>\n",
       "      <td>0.15</td>\n",
       "      <td>0.72</td>\n",
       "      <td>0.21</td>\n",
       "    </tr>\n",
       "    <tr>\n",
       "      <th>G10</th>\n",
       "      <td>0.06</td>\n",
       "      <td>1.05</td>\n",
       "      <td>0.38</td>\n",
       "    </tr>\n",
       "    <tr>\n",
       "      <th>G100</th>\n",
       "      <td>0.05</td>\n",
       "      <td>0.64</td>\n",
       "      <td>1.79</td>\n",
       "    </tr>\n",
       "    <tr>\n",
       "      <th>G25</th>\n",
       "      <td>0.02</td>\n",
       "      <td>1.07</td>\n",
       "      <td>0.47</td>\n",
       "    </tr>\n",
       "  </tbody>\n",
       "</table>\n",
       "</div>"
      ],
      "text/plain": [
       "        plastock %  lake %  SWE %\n",
       "code                             \n",
       "Gfrags       40.16   15.29  15.74\n",
       "G27          11.67   11.27  10.10\n",
       "G30           7.35    6.09   8.60\n",
       "Gfoam         4.97   13.13   4.17\n",
       "Gcaps         3.88    3.80   2.58\n",
       "G95           3.67    4.07   7.60\n",
       "G89           1.48    2.14   1.73\n",
       "G31           1.33    0.87   0.79\n",
       "G70           0.70    1.27   0.50\n",
       "G35           0.56    1.02   0.59\n",
       "G67           0.52    3.90   2.06\n",
       "G32           0.23    0.70   0.94\n",
       "G33           0.15    0.72   0.21\n",
       "G10           0.06    1.05   0.38\n",
       "G100          0.05    0.64   1.79\n",
       "G25           0.02    1.07   0.47"
      ]
     },
     "execution_count": 28,
     "metadata": {},
     "output_type": "execute_result"
    }
   ],
   "source": [
    "# coi % of total\n",
    "code_totals = plastock.groupby(\"code\", as_index=False).quantity.sum()\n",
    "code_totals[\"%\"] = code_totals.quantity/code_totals.quantity.sum()\n",
    "ct_i = code_totals[code_totals.code.isin(cois)].sort_values(by=\"%\", ascending=False)\n",
    "\n",
    "lake_ythree = all_data[date_mask & (all_data.water_name_slug == 'lac-leman')].copy()\n",
    "lake_y3 = lake_ythree.groupby(\"code\", as_index=False).quantity.sum()\n",
    "lake_y3[\"%\"] = lake_y3.quantity/lake_y3.quantity.sum()\n",
    "lake_y3i = lake_y3[lake_y3.code.isin(cois)].sort_values(by=\"%\", ascending=False)\n",
    "\n",
    "l_a_mx = all_data[all_data.location.isin(['plage-de-st-sulpice', 'tiger_duck_beach'])]\n",
    "sp_x = l_a_mx.groupby(\"code\", as_index=False).quantity.sum()\n",
    "sp_x[\"%\"] = sp_x.quantity/sp_x.quantity.sum()\n",
    "sp_xi = sp_x[sp_x.code.isin(cois)].sort_values(by=\"%\", ascending=False)\n",
    "sp_xi.rename(columns={\"%\":\"SWE %\"}, inplace=True)\n",
    "sp_xi.set_index(\"code\", inplace=True, drop=True)\n",
    "\n",
    "\n",
    "\n",
    "code_totals.rename(columns={\"%\":\"plastock %\"}, inplace=True)\n",
    "lake_y3.rename(columns={\"%\":\"lake %\"}, inplace=True)\n",
    "\n",
    "res_pct = code_totals[[\"code\", \"plastock %\"] ].merge(lake_y3[[\"code\", \"lake %\"]], on=\"code\")\n",
    "res_pct = res_pct[res_pct.code.isin(cois)].sort_values(by=\"plastock %\", ascending=False)\n",
    "res_pct.set_index(\"code\", inplace=True, drop=True)\n",
    "res_pct = res_pct.merge(sp_xi[\"SWE %\"], left_index=True, right_index=True)\n",
    "res_pct.apply(lambda x: round(x*100, 2))"
   ]
  },
  {
   "cell_type": "code",
   "execution_count": 29,
   "metadata": {
    "editable": true,
    "slideshow": {
     "slide_type": ""
    },
    "tags": []
   },
   "outputs": [],
   "source": [
    "lfmay = lake_after_may.copy()"
   ]
  },
  {
   "cell_type": "markdown",
   "metadata": {
    "editable": true,
    "slideshow": {
     "slide_type": ""
    },
    "tags": []
   },
   "source": [
    "__Percent of all identified objects concerned by these results__"
   ]
  },
  {
   "cell_type": "code",
   "execution_count": 30,
   "metadata": {
    "editable": true,
    "jupyter": {
     "source_hidden": true
    },
    "slideshow": {
     "slide_type": ""
    },
    "tags": [
     "remove-input"
    ]
   },
   "outputs": [
    {
     "data": {
      "text/plain": [
       "plastock %    0.767988\n",
       "lake %        0.670193\n",
       "SWE %         0.582501\n",
       "dtype: float64"
      ]
     },
     "execution_count": 30,
     "metadata": {},
     "output_type": "execute_result"
    }
   ],
   "source": [
    "res_pct.sum()"
   ]
  },
  {
   "cell_type": "code",
   "execution_count": 31,
   "metadata": {
    "editable": true,
    "jupyter": {
     "source_hidden": true
    },
    "slideshow": {
     "slide_type": ""
    },
    "tags": [
     "remove-input"
    ]
   },
   "outputs": [
    {
     "data": {
      "text/markdown": [
       "\n",
       "\n",
       "This script updated 18/07/2023 in Biel, CH\n",
       "\n",
       "> ❤️ what you do everyday\n",
       "\n",
       "*analyst at hammerdirt*\n"
      ],
      "text/plain": [
       "<IPython.core.display.Markdown object>"
      ]
     },
     "execution_count": 31,
     "metadata": {},
     "output_type": "execute_result"
    }
   ],
   "source": [
    "today = dt.datetime.now().date().strftime(\"%d/%m/%Y\")\n",
    "where = \"Biel, CH\"\n",
    "\n",
    "my_block = f\"\"\"\n",
    "\n",
    "This script updated {today} in {where}\n",
    "\n",
    "> \\u2764\\ufe0f what you do everyday\n",
    "\n",
    "*analyst at hammerdirt*\n",
    "\"\"\"\n",
    "\n",
    "md(my_block)"
   ]
  },
  {
   "cell_type": "code",
   "execution_count": 32,
   "metadata": {
    "editable": true,
    "jupyter": {
     "source_hidden": true
    },
    "slideshow": {
     "slide_type": ""
    },
    "tags": [
     "remove-input"
    ]
   },
   "outputs": [
    {
     "name": "stdout",
     "output_type": "stream",
     "text": [
      "Git repo: https://github.com/hammerdirt-analyst/patelmanuscript.git\n",
      "\n",
      "Git branch: newsummary\n",
      "\n",
      "matplotlib: 3.7.1\n",
      "seaborn   : 0.12.2\n",
      "pandas    : 2.0.2\n",
      "numpy     : 1.24.3\n",
      "scipy     : 1.10.1\n",
      "\n"
     ]
    }
   ],
   "source": [
    "%watermark --iversions -b -r"
   ]
  }
 ],
 "metadata": {
  "kernelspec": {
   "display_name": "Python 3 (ipykernel)",
   "language": "python",
   "name": "python3"
  },
  "language_info": {
   "codemirror_mode": {
    "name": "ipython",
    "version": 3
   },
   "file_extension": ".py",
   "mimetype": "text/x-python",
   "name": "python",
   "nbconvert_exporter": "python",
   "pygments_lexer": "ipython3",
   "version": "3.9.16"
  }
 },
 "nbformat": 4,
 "nbformat_minor": 4
}
