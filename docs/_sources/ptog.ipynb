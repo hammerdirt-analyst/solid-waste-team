{
 "cells": [
  {
   "cell_type": "code",
   "execution_count": 1,
   "metadata": {
    "editable": true,
    "jupyter": {
     "source_hidden": true
    },
    "slideshow": {
     "slide_type": ""
    },
    "tags": [
     "remove-input"
    ]
   },
   "outputs": [],
   "source": [
    "# sys, file and nav packages:\n",
    "%load_ext watermark\n",
    "import os\n",
    "import datetime as dt\n",
    "\n",
    "\n",
    "# math packages:\n",
    "import pandas as pd\n",
    "import numpy as np\n",
    "from scipy import stats\n",
    "import datetime as dt \n",
    "from statsmodels.distributions.empirical_distribution import ECDF\n",
    "from scipy.stats import nbinom\n",
    "from scipy.stats import gamma\n",
    "from scipy.stats import beta\n",
    "\n",
    "# charting:\n",
    "import matplotlib as mpl\n",
    "import matplotlib.pyplot as plt\n",
    "import matplotlib.dates as mdates\n",
    "from matplotlib import ticker\n",
    "import seaborn as sns\n",
    "import matplotlib.gridspec as gridspec\n",
    "\n",
    "# documenting\n",
    "from IPython.display import display, HTML\n",
    "from IPython.display import Markdown as md\n",
    "from myst_nb import glue\n",
    "\n",
    "from resources.empiricaldist import Pmf\n",
    "import utils\n",
    "from scipy.stats import norm\n",
    "import time\n",
    "\n",
    "# all the data\n",
    "adata = pd.read_csv(\"resources/start_data.csv\")\n",
    "\n",
    "dfCodes = pd.read_csv(\"resources/codes_with_group_names_2015.csv\")\n",
    "dfBeaches = pd.read_csv(\"resources/beaches_with_land_use_rates.csv\")\n",
    "dfBeaches = dfBeaches[dfBeaches.slug != \"clean-up-event-test\"]\n",
    "dfBeaches.set_index(\"slug\", inplace=True)\n",
    "\n",
    "# dfBeaches = dfBeaches.set_index(\"slug\", drop=True)\n",
    "wt_map = dfBeaches.water\n",
    "ct_map = dfBeaches.city\n",
    "wn_map = dfBeaches.water_name\n",
    "rb_map =dfBeaches.river_bassin\n",
    "\n",
    "# all_data = adata.copy()\n",
    "all_data = adata[adata.river_bassin != 'les-alpes'].copy()\n",
    "# print(all_data.columns)\n",
    "columns_i = [\n",
    "    'loc_date',\n",
    "    'location',\n",
    "    'date', \n",
    "    'water_name_slug',\n",
    "    'river_bassin',\n",
    "    'city',\n",
    "    'code', \n",
    "    'quantity',\n",
    "    'pcs_m', \n",
    "]\n",
    "\n",
    "all_data[\"date\"] = pd.to_datetime(all_data[\"date\"], format=\"%Y-%m-%d\")\n",
    "\n",
    "all_data[\"doy\"] = all_data[\"date\"].dt.dayofyear\n",
    "all_data[\"date\"] = all_data[\"date\"].dt.date\n",
    "\n",
    "columns_i = [\n",
    "    'loc_date',\n",
    "    'location',\n",
    "    'date',\n",
    "    'doy',\n",
    "    'water_name_slug',\n",
    "    'water',\n",
    "    'river_bassin',\n",
    "    'city',\n",
    "    'code', \n",
    "    'quantity',\n",
    "    'pcs_m', \n",
    "]\n",
    "\n",
    "all_data[\"water\"]= all_data.location.apply(lambda x: wt_map.loc[x])\n",
    "\n",
    "gfoam = [\"G81\", \"G82\", \"G83\"]\n",
    "plasticpcs = [ \"G78\", \"G79\", \"G80\", \"G75\", \"G76\", \"G77\"]\n",
    "Gcaps = [ \"G21\", \"G23\", \"G24\" ]\n",
    "\n",
    "# the columns that are being kept and the operations per column          \n",
    "# columns = ['loc_date', 'location', 'city', 'date', 'length', \"doy\"]\n",
    "operations = {\"quantity\":\"sum\", \"pcs_m\":\"sum\"}\n",
    "\n",
    "# separate the codes of interest by group from the data frame and add the replacement value\n",
    "all_data_gfrags = all_data[all_data.code.isin(plasticpcs)].groupby(columns_i[:-2], as_index=False).agg(operations)\n",
    "all_data_gfoam = all_data[all_data.code.isin(gfoam)].groupby(columns_i[:-2], as_index=False).agg(operations)\n",
    "all_data_gcaps = all_data[all_data.code.isin(Gcaps)].groupby(columns_i[:-2], as_index=False).agg(operations)\n",
    "\n",
    "all_data_gcaps[\"code\"] = \"Gcaps\"\n",
    "all_data_gfoam[\"code\"] = \"Gfoam\"\n",
    "all_data_gfrags[\"code\"] = \"Gfrags\"\n",
    "\n",
    "# remove the same instances from the work data                                                               \n",
    "all_data_no_frags = all_data[columns_i][~all_data.code.isin([*plasticpcs, *gfoam, *Gcaps])].copy()\n",
    "\n",
    "# formatted plastock data\n",
    "all_data = pd.concat([all_data_no_frags, all_data_gfrags, all_data_gfoam, all_data_gcaps])\n",
    "\n",
    "all_data = all_data.groupby(columns_i[:-2], as_index=False).agg(operations)\n",
    "all_data = all_data[~all_data.location.isin(['schiffenensee_duedingen_hirschij', 'sihlsee_einsiedeln_schilligerllacherl', 'lac-leman-hammerdirt'])]\n",
    "\n",
    "# map to code decriptions\n",
    "dfCodes.set_index(\"code\", inplace=True)\n",
    "dfCodes.loc[\"Gcaps\", [\"material\", \"description\", \"groupname\"]] = [\"Plastic\", \"Plastic bottle lids\", \"food and drink\"]\n",
    "code_d = dfCodes[\"description\"]\n",
    "\n",
    "# map to material descriptions\n",
    "mat_d = dfCodes[\"material\"]"
   ]
  },
  {
   "attachments": {},
   "cell_type": "markdown",
   "metadata": {
    "editable": true,
    "slideshow": {
     "slide_type": ""
    },
    "tags": []
   },
   "source": [
    "# Estimating values\n",
    "\n",
    "__This is in draft. The methods are correct but the narrative, descriptions and references are being defined. The language needs to be standardized to english, there are several data sources in multiple languages (this is Switzerland)__\n",
    "\n",
    "The data gathered by the SWE team in 2020 was included in the federal report on shoreline litter density. Since the puplication of IQAASL in December 2021 there has been addtional data collection events on Lac Léman:\n",
    "\n",
    "1. SWE team\n",
    "2. Association for the Sauvegarde du Léman completed 100 beach litter surveys in 2022\n",
    "\n",
    "__Six year sampling period__\n",
    "\n",
    "The timing of these samples, seven years after the first samples were recorded, could be interpreted as the begining of a new six year sampling period that started in January 2022. The Joint Research Center (JRC) at the EU suggest a six year sampling period with preferably ~ 40 surveys in that time, for each beach that is being monitored. If these conditions are met a baseline value can be established for the location in question. The baseline value, using this method is the median value of the surveys for the time period.\n",
    "\n",
    "There are over 250 samples in the initial six year period, from 30+ locations on the lake. There are no locations that have 40 surveys, therefore the method described previously would not be appropriate for any single location, but it is more than enough for the lake. Recall that we previously discussed the following:\n",
    "\n",
    "1. difference between sampling groups\n",
    "2. correlation between land-use and survey results\n",
    "\n",
    "## Research questions\n",
    "\n",
    "__For the lake and Saint Sulpice:__\n",
    "\n",
    "1. Given the data from 2022, Is there an increase, decrease or no change in the expected survey results given the consolidated results from 2015 - 2021?\n",
    "2. Given the median value for the objects of interest in 2021, what is the chance that a survey in 2022 will exceed this value?\n",
    "3. How do the results from 2022 change the expected survey results going forward?\n",
    "\n",
    "## Practical applications\n",
    "\n",
    "Investments have been made to either prevent or remove litter from the public space. The investments are made with the intention of reducing litter in the environment. The answers to the research questions should help evaluate the return on investment (ROI) from previous projects and provide insights for projects going forward. \n",
    "\n",
    "1. __Did the investment result in a net decline in litter?__\n",
    "2. __What objects were particularly effected?__\n",
    "3. __How does the municpality compare to the rest of the lake?__\n",
    "\n",
    "The prior investments were part of a regional action plan that included all municipal and cantonal administrations on the lake. Therefore, municipal results need to be formulated in the context of the canton and the lake.\n",
    "\n",
    "## Definitions\n",
    "1. __threshold:__ The threshold of interest is the median survey result for an object given the data from 2020-2021.\n",
    "2. __frequency:__ The frequency of exceeding a threshold is the number of times that a threshold was exceeded (k) divided by the number of samples taken (n) or k/n.\n",
    "3. __land-use or land-cover:__ The common topographical features within a radius of 1500m from each survey location. The land-use is quantified by dividing the surface area attributed to a specific attribute by the total surface area of the hexagon minus the surface area attributed to the lake.\n",
    "4. __probability:__ The conditional probability of a survey result at a given municipality being equal to or greater than a given threshold.\n",
    "\n",
    "## Assumptions\n",
    "\n",
    "1. Locations that have similar environmental conditions will yield similar survey results\n",
    "2. There is an exchange of material (trash) between the beach and body of water\n",
    "3. Following from two, the material recovered at the beach is a result of the assumed exchange\n",
    "4. The type of activities adjacent to the survey location are an indicator of the trash that will be found there\n",
    "5. Following from four and three, the local environmental conditions are an indicator of the local contribution to the mix of objects at the beach\n",
    "6. The survey results are a reasonable estimate of the minimum number of objects that were present at the time the survey was completed\n",
    "7. Surveyors are not 100% accurate, some objects will be misidentified or there will be inaccuracies in some object counts\n",
    "  \n",
    "## Method\n",
    "\n",
    "The litter survey data is count data. The survey results are an aggregation of observations from individuals or groups of varying experience using the same protocol. The collected objects are discarded after the survey, so there is no way to go back and _confirm_ a survey result. Thus, the aggregated data has multiple sources of variance inherent to the collection method and associated infrastructure. This problem is not unique in the natural sciences, conservationists and wildlife biologists estimate populations and trends under similar conditions, over the years these estimations have become more accurate. We use conditional probability because the survey results are subject to many variables. Some of these variables can be attributed to the sampling process such as detectability of the objects at a survey location, correct identification of the objects, accuracy of dimensional data and accuracy of data input. Other variables include the environmental conditions of the survey location and the amount of trash suspened in the water. By this we mean that the variance in survey results between locations is not only due to measuring error.  ([summarizing bird counts](https://www.fs.usda.gov/psw/publications/documents/psw_gtr191/psw_gtr191_0762-0770_sauer.pdf), [estimating age of survival](https://besjournals.onlinelibrary.wiley.com/doi/full/10.1111/2041-210X.14077), [estimating tick abundance](https://hal.science/hal-02637100/))\n",
    "\n",
    "Condtional probability and Bayes theorem makes it possible to measure the effects of an unknown parameter as long as the conditions can be quantified. There is no assumption about the underlying relationships between variables except that a realtionship exists, $p(a | b)$, the relationship is defined in the notation exist([Bayes' theorem](https://en.wikipedia.org/wiki/Bayes%27_theorem)) ([conditional proabability](https://en.wikipedia.org/wiki/Conditional_probability)). For this study we are using Bayes theorem in its simplest form to answer the stated research questions. A probability mass function (pmf) is constructed under different conditions (priors) for each code. The limits of the pmf are defined as  $0 \\le x \\le 9.99$ and $0.01 \\le y \\le 0.99$. This accounts for 99% of the data and is computationaly effcient. The x scale corresponds to pieces per meter, multiplying * 100 gives an integer representation of the expected result.\n",
    "\n",
    "### Conditional probability\n",
    "\n",
    "Conditional probability is the measure of the probability of an event occuring given that another event has occurred ([Wikepedia](https://en.wikipedia.org/wiki/Conditional_probability)). For this study the event under consideration is whether or not the threshold was exceeded. The probability of that event is noted $p(\\theta)$, the probability of $\\theta$ given a condition or set of condtions is $p(\\theta | condition(s))$. \n",
    "\n",
    "__The general case__\n",
    "\n",
    "Using the formal definition of conditional probability let a = $\\theta$ and b = _event data_, the probability of an event given a condtion is:\n",
    "\n",
    "$$ \n",
    "\\begin{align}\n",
    "p(a | b) =&\\ \\frac{p(a \\cap b)}{p(b)},\\ 0.01 \\le a \\le 0.99,\\ 0.01 \\le b \\le 0.99\\\\[10pt]\n",
    "and&\\\\\n",
    "p(b | a) =&\\ \\frac{p(b \\cap a)}{p(a)}\\\\[10pt]\n",
    "note&\\\\\n",
    "p(a \\cap b) =&\\ p(b \\cap a)\\\\[10pt]\n",
    "therefore&\\\\\n",
    "p(b | a) =&\\ \\frac{p(b \\cap a)}{p(a)}\\ =\\ \\frac{p(a \\cap b)}{p(a)}\\\\[10pt]\n",
    "p(a)p(b|a) =&\\ p(a \\cap b)\\\\[10pt]\n",
    "finally&\\\\\n",
    "p(a | b) =&\\ \\frac{p(a)p(b|a)}{p(b)}\\\\\n",
    "\\end{align}\n",
    "$$\n",
    "\n",
    "This is Bayes theorem, it tells us that the probability of event _a_ happening given event _b_ is equal to the probability of event _a_ times the the probability of event _b_ given _a_ divided by the probability of _b_. There is a standard nomenclature for the different values in Bayes theorem.\n",
    "$$\n",
    "\\begin{align}\n",
    "posterior =&  \\frac{likelihood*prior}{marginal\\ probability}\\\\ \\\\\n",
    "posterior =&\\ p(a | b) =\\ \\text{The probability of exceeding the threshold given the conditions, the question we are trying to answer.}\\\\[10pt]\n",
    "likelihood =&\\ p(b|a) =\\ \\text{The probability of exceeding the threshold given theta. The current set of data.}\\\\[10pt]\n",
    "prior =&\\ p(a) =\\ \\text{The expected probability given previous studies. Before considering the likelihood}\\\\[10pt]\n",
    "\\text{marginal probability} =&\\ p(b) =\\ \\text{The probability of the data without any conditions}\n",
    "\\end{align}\n",
    "$$\n",
    "\n",
    "Bayes theorem is used extensively in machine learning. Many processes have been optimized for data pipelines ([Scikit Naive Bayes](https://scikit-learn.org/stable/modules/naive_bayes.html)) and solving Generalized Linear Models ([Bayesian regression models using Stan](https://paul-buerkner.github.io/brms/)). Fully developed, the proposed model is similar to a Bayesian Neural Network ([Deep Learning](https://arxiv.org/pdf/2007.06823.pdf)).\n",
    "\n",
    "### The priors\n",
    "\n",
    "The priors refers to the assumptions or expected results before new evidence is taken into account ([wikepedia](https://en.wikipedia.org/wiki/Prior_probability)). \n",
    "\n",
    "> With well-identified parameters and large sample sizes, reasonable choices of prior distributions will have minor effects on posterior inferences. This definition of ‘well identified’ and ‘large’ sample size might seem to be circular, but in practice one can check the dependence on prior distributions by a sensitivity analysis: comparing posterior inferences under different reasonable choices of prior distribution (and, for that matter, different reasonable choices of probability models for data). ([Gelman prior distribution](http://www.stat.columbia.edu/~gelman/research/published/p039-_o.pdf))\n",
    "\n",
    "> If the sample size is small, or available data provide only indirect information about the parameters of interest, the prior distribution becomes more important. In many cases, however, models can be set up hierarchically, so that clusters of parameters have shared prior distributions, which can themselves be estimated from data. ([Gelman prior distribution](http://www.stat.columbia.edu/~gelman/research/published/p039-_o.pdf))\n",
    "\n",
    "The data for this study falls into the second case for any particular municipality or location. How well the density is modeled at the lake level is also complex because of the differences in magnitude and type of inputs for any particular lake. To accomodate small sample sizes a shared prior distribution can be created that is based on the environmental conditions adjacent to the survey location. \n",
    "\n",
    "> __Environmental conditions:__ are the measurable characteristics defined by or derived from an accurate topographic map.\n",
    "\n",
    "The connection between measurable land-use attributes and survey results was illustrated in the swiss national survey ([IQAASL](https://hammerdirt-analyst.github.io/IQAASL-End-0f-Sampling-2021/land_use_correlation.html)) and explored in depth, including early versions of the proposed model in [Near or far](https://hammerdirt-analyst.github.io/landuse/titlepage.html). The source of the land-use data is [swissTLMRegio](https://www.swisstopo.admin.ch/de/geodata/landscape/tlmregio.html), the details of extracting the data and defining the boundary conditions can be found here [New map data](https://hammerdirt-analyst.github.io/landuse/hex-3000-m.html). \n",
    "\n",
    "#### Measured environmental conditions\n",
    "\n",
    "*__Note:__ There are slight changes in the way the land-use variables are handled and described with respect to [Near or far](https://hammerdirt-analyst.github.io/landuse/titlepage.html). Notably the infrastruture and recreation variables are scaled separately from the land-cover variables.* \n",
    "\n",
    "__land-cover__\n",
    "\n",
    "These measured environmental conditions are the labeled polygons from the map layer _Landcover_ defined here ([swissTLMRegio product information](https://www.swisstopo.admin.ch/fr/geodata/landscape/tlm3d.html#dokumente)), they are extracted using vector overlay techniques in QGIS ([QGIS](https://qgis.org/en/site/)). The overlay is a hexagon-grid, each hex is 3000m, circumcscribed by a circle r=1500m. The survey location is located at the center of the hex. The magnitude of the land-use variable is the portion of the total dry surface area for any particular land-use attribute. Areas of the hex that are not defined with a land-use attribute in this map layer are labeled _undefined_ and processed like any other land-use attribute. The land-cover variables of interest are:\n",
    "\n",
    "1. Buildings: built up, urbanized\n",
    "2. Woods: not a park, harvesting of trees may be active\n",
    "3. Vineyards: does not include any other type of agriculture\n",
    "4. Orchards: not vineyards\n",
    "5. Undefined: areas of the map with no predefined label\n",
    "\n",
    "__Land-use__\n",
    "\n",
    "Land-use variables are the labled polygons from the _Freizeitareal_ and  _Nutzungsareal_ map layers, defined in ([swissTLMRegio product information](https://www.swisstopo.admin.ch/fr/geodata/landscape/tlm3d.html#dokumente)). Both layers represent areas used for specific activities. Freizeitareal identifies areas used for recreational purposes and Nutzungsareal represents areas such as hospitals, cemeteries, historical sites or incineration plants. As a ratio of the available dry-land in a hex, these features are relatively small (less than 10%) of the total dry-land. For identified features within a bounding hex the magnitude in meters² of these variables is scaled between 0 and 1, thus the scaled value represents the size of the feature in relation to all other measured values for that feature from all other hexagons.\n",
    "\n",
    "1. Recreation: parks, sports fields, attractions\n",
    "2. Infrastructure: Schools, Hospitals, cemeteries, powerplants\n",
    "\n",
    "__Streets and roads__\n",
    "\n",
    "Streets and roads are the labled polylines from the _TLM Strasse_ map layer defined in ([swissTLMRegio product information](https://www.swisstopo.admin.ch/fr/geodata/landscape/tlm3d.html#dokumente)). All polyines from the map layer within a bounding hex are merged (disolved in QGIS commands) and the combined length of the polylines, in meters, is the magnitude of the variable for the bounding hex.\n",
    "\n",
    "Each survey location has a unique combination of land-use and land-cover variables. The uniqueness stems from the fact that no calculated surface area is exactly the same. In relation to all other survey locations Saint Sulpice is urbanized, has very little undefined land use, little space attributed to forests and an elevated amount of land attributed to infrastructure, (fig 2). The mix of environmental conditions at Saint Sulpice correspond to the expected mix of land-use and land-cover given the table of correlations in fig 3. Specifically we note high levels of buildings and low levels of woods and undefined land."
   ]
  },
  {
   "cell_type": "code",
   "execution_count": 2,
   "metadata": {
    "editable": true,
    "jupyter": {
     "source_hidden": true
    },
    "slideshow": {
     "slide_type": ""
    },
    "tags": [
     "remove-input"
    ]
   },
   "outputs": [],
   "source": [
    "def check_nk(anarray, threshold):\n",
    "    gthan = (anarray >= threshold).sum()\n",
    "    pnk = gthan/len(anarray)\n",
    "\n",
    "    return pnk, gthan, len(anarray)\n",
    "\n",
    "\n",
    "def a_nbdist(anarray):\n",
    "    mu = anarray.mean()\n",
    "    sigma = anarray.var()\n",
    "\n",
    "    p = mu/sigma    \n",
    "    n = mu**2/(sigma-mu)\n",
    "\n",
    "    nbrv = nbinom(n,p)\n",
    "\n",
    "    return nbrv\n",
    "    \n",
    "    \n",
    "def a_gammadist(anarray, afunc: callable = None):\n",
    "\n",
    "    if afunc is not None:\n",
    "        mu = afunc(anarray)\n",
    "    else:\n",
    "        if np.median(anarray) == 0:\n",
    "            mu = .001\n",
    "        else:\n",
    "            mu = np.median(anarray)\n",
    "\n",
    "    gammadist = gamma(mu)\n",
    "\n",
    "    return gammadist\n",
    "\n",
    "\n",
    "def make_date_object(astring):\n",
    "    fmat = \"%Y-%m-%d\"\n",
    "\n",
    "    an_obj = dt.datetime.strptime(astring, fmat).date()   \n",
    "\n",
    "    return an_obj\n",
    "\n",
    "def make_post(row):\n",
    "    # print(row)\n",
    "    k = row[\"k\"]\n",
    "    n =row[\"n\"]\n",
    "    if k == 0:\n",
    "        n+=1\n",
    "        k+=1\n",
    "    ks = k+row[\"kl\"]\n",
    "    ns = n + row[\"kn\"]\n",
    "    nmk = ns-ks\n",
    "    if nmk == 0:\n",
    "        nmk = 1\n",
    "    amean = beta(k,nmk).mean()\n",
    "\n",
    "    \n",
    "    return amean\n",
    "\n",
    "def results_and_land_use(all_data, land_use_agg, slr_e, prior_locations, codes):\n",
    "    # the survey results from all the data prior to the date defined by slr_e\n",
    "    # and from locations on lakes. Includes only the codes of interest\n",
    "    # returns two dataframes\n",
    "    p_results = all_data[(all_data.date <= slr_e)&(all_data.water == \"l\")]\n",
    "    p_results = p_results[p_results.code.isin(codes)]\n",
    "\n",
    "    # the landuse values for all the locations in p_results\n",
    "    p_ludata = land_use_agg.loc[prior_locations]\n",
    "    \n",
    "\n",
    "    return p_results, p_ludata\n",
    "\n",
    "def rtn_a_float_between_0_and_one(x, afloat=0.5):\n",
    "    return afloat\n",
    "\n",
    "def rtn_an_array_between_01_and_99(array):\n",
    "    wexp = [x if x > 0 else .01 for x in array]\n",
    "    wexp = [x if x < 1 else .99 for x in wexp]\n",
    "    return wexp\n",
    "\n",
    "\n",
    "def rtn_df_with_lhood_prior_and_post(c,  prior=\"npr\"):\n",
    "\n",
    "    d=c.copy()\n",
    "    \n",
    "    d[\"1-lh\"] = 1 - d.lh\n",
    "    d[f\"1-{prior}\"] = 1 - d[prior]\n",
    "    \n",
    "    \n",
    "    d[f\"lh*{prior}\"] = d.lh * d[prior]\n",
    "    d[f\"1-lh*1-{prior}\"] =d[f\"1-{prior}\"]* d[\"1-lh\"]\n",
    "    d[\"p-total\"] = d[f\"lh*{prior}\"]+d[f\"1-lh*1-{prior}\"]\n",
    "    \n",
    "    d[\"post\"] = d[f\"lh*{prior}\"]/d[\"p-total\"]\n",
    "\n",
    "    return d    \n",
    "    \n",
    "\n",
    "def range_likelihood_prior_df(current, prior, code, xrange, afunc=rtn_a_float_between_0_and_one):\n",
    "\n",
    "    cr = current[current.code == code].pcs_m.values\n",
    "    # cr = np.sort(cr)\n",
    "    kl = [(cr >= x).sum() for x in xrange]\n",
    "    kn = [len(cr) for x in xrange]\n",
    "    \n",
    "    lhood = np.array([(cr >= x).sum()/len(cr) for x in xrange])\n",
    "    lhood = rtn_an_array_between_01_and_99(lhood)\n",
    "\n",
    "    if isinstance(prior, pd.core.frame.DataFrame):\n",
    "        if \"code\" in prior.columns:\n",
    "            # print(\"there is a code\")\n",
    "            pr = prior[prior.code == code].drop_duplicates([\"loc_date\", \"code\"])\n",
    "            pr = pr.pcs_m.values\n",
    "            pr = np.sort(pr)\n",
    "            k = [(pr >= x).sum() for x in xrange]\n",
    "            n = [len(pr) for x in xrange]\n",
    "            cprior = np.array([x/len(pr) for x in k])\n",
    "            # print(\"cprior\", cprior\n",
    "            cprior = rtn_an_array_between_01_and_99(cprior)\n",
    "\n",
    "            data = pd.DataFrame({\"qty\":xrange, \"lh\":lhood, \"pr\": cprior, \"k\": k, \"n\": n, \"kl\":kl, \"kn\":kn})\n",
    "            data[\"post_beta\"] = data.apply(lambda row: make_post(row), axis=1)\n",
    "\n",
    "            return data\n",
    "        else:\n",
    "            cprior = prior.post.values\n",
    "    else:\n",
    "        cprior = rtn_an_array_between_01_and_99(prior)\n",
    "    \n",
    "    \n",
    "        \n",
    "\n",
    "       \n",
    "\n",
    "    data = pd.DataFrame({\"qty\":xrange, \"lh\":lhood, \"pr\": cprior})\n",
    "\n",
    "    return data\n",
    "\n",
    "def an_array_of_posterior_probabilities(lagi, prior_year, codes, xrange):\n",
    "\n",
    "    dfs = []\n",
    "    for i, code in enumerate(codes):\n",
    "        informed = range_likelihood_prior_df(lagi, prior_year, code, xrange)\n",
    "        \n",
    "        informed_posterior = rtn_df_with_lhood_prior_and_post(informed,  prior=\"pr\")\n",
    "      \n",
    "        dfs.append(informed_posterior)\n",
    "    return dfs\n",
    "\n",
    "def an_array_of_sequential_probabilities(lagi, prior_year, codes, xrange):\n",
    "\n",
    "    dfs = []\n",
    "    for i,code in enumerate(codes):\n",
    "        informed = range_likelihood_prior_df(lagi, prior_year[i], code, xrange)\n",
    "        \n",
    "        informed_posterior = rtn_df_with_lhood_prior_and_post(informed,  prior=\"pr\")\n",
    "       \n",
    "        dfs.append(informed_posterior)\n",
    "    return dfs\n",
    "\n",
    "def survey_results_with_land_use(survey_results, land_use_data, locations):\n",
    "    \n",
    "    lu = land_use_data.loc[locations][[\"use\", \"binned\"]]\n",
    "    lu = lu.pivot(columns=\"use\").fillna(0)\n",
    "    lu = lu.droplevel(0, axis=1)\n",
    "    lu.index.name = None\n",
    "\n",
    "    data = survey_results.merge(lu, left_on=\"location\", right_index=True, validate=\"many_to_one\")\n",
    "\n",
    "    return data\n",
    "\n",
    "class SurveyResults:\n",
    "\n",
    "    def __init__(self, start_date, end_date, lake, current_locations, codes_of_interest):\n",
    "        self.prior_data = None\n",
    "        self.prior_locs = None\n",
    "        self.land_use_data = None\n",
    "        self.start_date = start_date\n",
    "        self.end_date = end_date\n",
    "        self.lake = lake\n",
    "        self.current_locs = current_locations\n",
    "        self.current_data = None\n",
    "        self.cois = codes_of_interest\n",
    "        \n",
    "\n",
    "    def prior_locations(self, data):\n",
    "        d = data[(data[\"date\"] <= self.end_date)&(data.water == \"l\")]\n",
    "        self.prior_locs = d.location.unique()\n",
    "\n",
    "    def prior_and_current_data(self, data, land_use_data):\n",
    "        p_results, p_ludata = results_and_land_use(data, land_use_data, self.end_date, self.prior_locs, self.cois)\n",
    "        # self.prior_data = p_results\n",
    "        self.land_use_data = p_ludata\n",
    "        c_results = p_results[p_results.date >= self.start_date].copy()\n",
    "        self.current_data = survey_results_with_land_use(c_results, p_ludata, self.current_locs)\n",
    "        self.prior_data = survey_results_with_land_use(p_results, p_ludata, self.prior_locs)\n",
    "\n",
    "class PosteriorForDateRange:\n",
    "    def __init__(self, current_data, prior_data, thresholds, codes_of_interest, xrange, prior_series: list = None, uninformed: list=None):\n",
    "        self.current_data = current_data\n",
    "        self.prior_data = prior_data\n",
    "        # self.prior_class = prior_class\n",
    "        self.cois = codes_of_interest\n",
    "        self.xrange = xrange\n",
    "        self.prior_series = prior_series\n",
    "        self.uninformed = uninformed\n",
    "        self.thresholds = thresholds\n",
    "        self.sequential = None\n",
    "        self.post_informed = None\n",
    "        self.post_uninformed = None\n",
    "        self.post_sequential = None\n",
    "        self.shared = None\n",
    "    \n",
    "    def prior_shared(self, b):\n",
    "        a =self.current_data.copy()\n",
    "        # b = self.prior_class.twotest_post.shared\n",
    "        t = an_array_of_posterior_probabilities(a, b, self.cois, self.xrange)\n",
    "        post = np.round([t[i].loc[int(self.thresholds.loc[x])][\"post\"] for i, x in enumerate(self.cois)], 2)\n",
    "        self.shared = t\n",
    "        self.post_informed = post\n",
    "        \n",
    "    \n",
    "    def prior_sequential(self):\n",
    "        if isinstance(self.prior_series, (list, np.ndarray)):\n",
    "            st = an_array_of_sequential_probabilities(self.current_data, self.prior_series, self.cois, self.xrange)\n",
    "            post = np.round([st[i].loc[int(self.thresholds.loc[x])][\"post\"] for i, x in enumerate(self.cois)], 2)\n",
    "            self.sequential = st\n",
    "            self.post_sequential = post\n",
    "        else:\n",
    "            print(\"There is no prior series specified: no operation\")        \n",
    "    \n",
    "    def prior_uninformed(self):\n",
    "        qt = an_array_of_posterior_probabilities(self.current_data, self.uninformed, self.cois, self.xrange)\n",
    "        post = np.round([qt[i].loc[int(self.thresholds.loc[x])][\"post\"] for i, x in enumerate(self.cois)], 2)\n",
    "        self.uninformed = qt\n",
    "        self.post_uninformed = post\n",
    "\n",
    "    def table_display(self):\n",
    "        table_data = []\n",
    "        for aseries in [self.post_informed, self.post_uninformed, self.post_sequential]:\n",
    "            if aseries is not None:\n",
    "                table_data.append(aseries)\n",
    "            else:\n",
    "                pass\n",
    "\n",
    "        a_display_table = pd.DataFrame(data=table_data, columns=self.cois)\n",
    "\n",
    "        return a_display_table\n",
    "\n",
    "\n",
    "class GridApproximation:\n",
    "    \n",
    "    def __init__(self, slr_d, slr_e, lake, lake_locations, cois, all_data, land_use_agg, tholds_r, xrange, prior_series=None, uniformed_prior=None):\n",
    "        self.testwo = SurveyResults(slr_d, slr_e, lake, lake_locations, cois)\n",
    "        self.testwo.prior_locations(all_data)\n",
    "        self.testwo.prior_and_current_data(all_data, land_use_agg)\n",
    "        self.uses = self.testwo.land_use_data.use.unique()\n",
    "        self.testwo_post = PosteriorForDateRange(self.testwo.current_data, self.testwo.prior_data, tholds_r, cois, xrange, prior_series, uniformed_prior)\n",
    "        # self.testwo_post.prior_shared()\n",
    "        self.testwo_post.prior_uninformed()\n",
    "        self.testwo_post.prior_sequential()\n",
    "\n",
    "\n",
    "def when_k_is_zero(k, n):\n",
    "\n",
    "    if k == 0:\n",
    "        return .01\n",
    "    else:\n",
    "        kn = k/n\n",
    "\n",
    "        if kn == 1:\n",
    "            return .99\n",
    "        else:\n",
    "            return kn\n",
    "    \n",
    "\n",
    "def y_exceeds_x_one_code_bin_category(data, apmf):\n",
    "    n = len(data)\n",
    "    apmf[\"k\"] = apmf.x.apply(lambda j: (data.pcs_m >= j).sum())\n",
    "    apmf[\"theta\"] = apmf.k.apply(lambda x: when_k_is_zero(x, n))\n",
    "    # print(apmf.head())\n",
    "        \n",
    "    return apmf\n",
    "\n",
    "\n",
    "\n",
    "\n",
    "def make_prior_by_use(data, xtest, profiles_dict, keep_copy=True):\n",
    "\n",
    "    ud = []\n",
    "    prior = np.ones(len(xtest))\n",
    "    \n",
    "    for k, v in profiles_dict.items():\n",
    "        # print(k)\n",
    "        str = data[(data[k].isin(v))].copy()\n",
    "        # print(str.pcs_m.describe())\n",
    "        use_dist = y_exceeds_x_one_code_bin_category(str, xtest)\n",
    "        if keep_copy:\n",
    "            ud.append((use_dist, str))\n",
    "            \n",
    "        # print(\"\\n usedist: \\n\")\n",
    "        # print(use_dist.theta.mean())\n",
    "        # print(use_dist.theta.min(), use_dist.theta.max())\n",
    "        # print(\"\\n prior: \\n\")\n",
    "        # print(prior.mean())\n",
    "        # print(len(prior))\n",
    "        # print(prior.min(), prior.max())\n",
    "        prior *= use_dist.theta\n",
    "\n",
    "    return prior, ud\n",
    "\n",
    "def land_use_profile_from_data(tdata, code, uses):\n",
    "    profile_data = tdata[(tdata.code == code)]\n",
    "    lprofiles = list(set(profile_data.columns).intersection(uses))\n",
    "    profiles_dict = {x:profile_data[x].values for x in lprofiles}\n",
    "\n",
    "    return profile_data, profiles_dict\n",
    "\n"
   ]
  },
  {
   "cell_type": "code",
   "execution_count": 3,
   "metadata": {
    "editable": true,
    "jupyter": {
     "source_hidden": true
    },
    "slideshow": {
     "slide_type": ""
    },
    "tags": [
     "remove-input"
    ]
   },
   "outputs": [],
   "source": [
    "# these are the land use values for each hex\n",
    "# nutuzungsareal and freizeit areal are totaled\n",
    "# the surface area of these two use cases gets added\n",
    "# to the total of the land cover surface area\n",
    "dfln = pd.read_csv(\"resources/geodata/infrastructure.csv\")\n",
    "dflf = pd.read_csv(\"resources/geodata/recreation.csv\")\n",
    "locations = all_data.location.unique()\n",
    "\n",
    "# rename the columns and total the surface are for each component\n",
    "dflf.rename(columns={\"OBJEKTART\":\"use\"}, inplace=True)\n",
    "dflf = dflf[~dflf.use.isin(['Reben', 'Obstanlage'])].copy()\n",
    "dflf_t = dflf.groupby([\"slug\", \"city\", \"water_name\", \"water\"], as_index=False).area.sum()\n",
    "dflf_t[\"use\"] = \"recreation\"\n",
    "dflf_t[\"scaled\"] = (dflf_t[\"area\"] - dflf_t[\"area\"].min())/(dflf_t[\"area\"].max() - dflf_t[\"area\"].min())\n",
    "\n",
    "dfln.rename(columns={\"OBJEKTART\":\"use\"}, inplace=True)\n",
    "dfln = dfln[~dfln.use.isin(['Reben', 'Obstanlage'])].copy()\n",
    "dfln_t = dfln.groupby([\"slug\", \"city\", \"water_name\", \"water\"], as_index=False).area.sum()\n",
    "dfln_t[\"use\"] = \"infrastructure\"\n",
    "dfln_t[\"scaled\"] = (dfln_t[\"area\"] - dfln_t[\"area\"].min())/(dfln_t[\"area\"].max() - dfln_t[\"area\"].min())\n",
    "\n",
    "rec_inf = pd.concat([dfln_t, dflf_t])\n",
    "rec_inf = rec_inf[rec_inf.slug.isin(locations)]\n",
    "rec_inf.rename(columns={\"area\":\"magnitude\"}, inplace=True)\n",
    "\n",
    "dflc = pd.read_csv(\"resources/geodata/landcover.csv\")\n",
    "dflc = dflc[dflc.slug.isin(locations)].copy()\n",
    "\n",
    "# sum the unique land cover values for each location\n",
    "area_of_a_hex = 5845672\n",
    "xgr = dflc.groupby([\"slug\", \"city\", \"water_name\", \"OBJVAL\", \"water\"], as_index=False, dropna=False).area.sum()\n",
    "\n",
    "# the sum of all the land cover values for a location\n",
    "xgrt = xgr.groupby([\"slug\", \"city\", \"water_name\", \"water\"], as_index=False).area.sum()\n",
    "\n",
    "# the amount of surface area that is not accounted for \n",
    "xgrt[\"undefined\"] = area_of_a_hex - xgrt.area\n",
    "\n",
    "# format data frame to join to the other land cover totals\n",
    "xgrt[\"OBJVAL\"] = \"undefined\"\n",
    "xgrt[\"area\"] = xgrt[\"undefined\"]\n",
    "xgrt.drop(\"undefined\", inplace=True, axis=1)\n",
    "\n",
    "# add to other totals\n",
    "dflcx = pd.concat([xgr, xgrt])\n",
    "\n",
    "# remove the value of See from the surface area of a hex.\n",
    "# We are considering the magnitude of land use type in relation\n",
    "# to the amount of land that is available to be used, not including \n",
    "# amount of land that is covered by the lake itself\n",
    "# xsee = xgr[xgr.OBJVAL == \"See\"][[\"slug\", \"area\"]]\n",
    "# xsee[\"hex minus\"] = area_of_a_hex - xsee.area\n",
    "# hex_minus = xsee[[\"slug\", \"hex minus\"]].set_index(\"slug\", drop=True)\n",
    "xgr_l = xgr[xgr.water == \"l\"].copy()\n",
    "xgr_r = xgr[xgr.water == \"r\"].copy()\n",
    "xgr_r[\"hex minus\"] = area_of_a_hex\n",
    "\n",
    "xsee = xgr_l[xgr_l.OBJVAL == \"See\"][[\"slug\", \"area\"]]\n",
    "xsee[\"hex minus\"] = area_of_a_hex - xsee.area\n",
    "hex_minus = xsee[[\"slug\", \"hex minus\"]].set_index(\"slug\", drop=True)\n",
    "\n",
    "\n",
    "hex_not_minus = xgr_r[[\"slug\", \"hex minus\"]].drop_duplicates(\"slug\").set_index(\"slug\", drop=True)\n",
    "# hex_not_minus.drop_duplicates(inplace=True)\n",
    "xsee_all = pd.concat([hex_not_minus, hex_minus])\n",
    "\n",
    "# map the adjusted surface area to to the land use\n",
    "# totals and scale the surface column to the adjusted surface area\n",
    "dflcx[\"hex minus\"] = dflcx.slug.apply(lambda x: xsee_all.loc[x, \"hex minus\"])\n",
    "# rec_inf[\"hex minus\"] = rec_inf.slug.apply(lambda x: xsee_all.loc[x, \"hex minus\"])\n",
    "# change column name\n",
    "dflcx.rename(columns={\"OBJVAL\":\"use\"}, inplace=True)\n",
    "\n",
    "land_cover = dflcx.copy()\n",
    "\n",
    "land_cover[\"scaled\"] = land_cover.area/land_cover[\"hex minus\"]\n",
    "\n",
    "# remove See from the data frame\n",
    "land_cover = land_cover[land_cover.use != \"See\"]\n",
    "\n",
    "bind = pd.IntervalIndex.from_tuples([(-1, 0), (0.0000001, .0499999), (.0500000, .0999999), (.1000000, .1499999),(.1500000, .1999999), (.2, .2499), (.25, .2999), (.3000, .3499),\n",
    "        (.35, .3999), (.4000, .449999), (.45, .499999),(.5, .549999), (.55, .5999), (.6000, .6499), (.65, .6999), (.7, .7499), (.75, .7999),\n",
    "        (.8, .8499), (.85, .8999), (.9, .9499), (.95, 1)])\n",
    "\n",
    "# bin the scaled column\n",
    "sbins = pd.cut(land_cover.scaled, bins=bind, labels=np.arange(start=0, stop=21), include_lowest=True, retbins=False)\n",
    "sbins=sbins.cat.rename_categories(np.arange(start=0, stop=21))\n",
    "\n",
    "rbins = pd.cut(rec_inf.scaled, bins=bind, labels=np.arange(start=0, stop=21), include_lowest=True, retbins=False)\n",
    "rbins=rbins.cat.rename_categories(np.arange(start=0, stop=21))\n",
    "rec_inf[\"binned\"] = rbins\n",
    "\n",
    "merge_columns = [\"slug\", \"city\", \"water_name\", \"water\", \"magnitude\", \"use\", \"scaled\", \"binned\"]\n",
    "land_cover[\"binned\"] = sbins\n",
    "land_cover.rename(columns={\"area\":\"magnitude\"}, inplace=True)\n",
    "merge_df = land_cover[merge_columns]\n",
    "agg_land_use = pd.concat([rec_inf, merge_df])\n",
    "\n",
    "dist_ct = pd.read_csv(\"resources/geodata/intersect_length.csv\")\n",
    "dist_ct = dist_ct.groupby([\"slug\",\"city\", \"water_name\", \"water\", \"NAMN\"], as_index=False).length.sum()\n",
    "dist_ct[dist_ct.slug == \"mullermatte\"]\n",
    "\n",
    "dist_dt = pd.read_csv(\"resources/geodata/d_to_intersect.csv\")\n",
    "\n",
    "dist_dt[\"water\"] = dist_dt.slug.apply(lambda x: wt_map.loc[x])\n",
    "dist_dt[\"city\"] = dist_dt.slug.apply(lambda x: ct_map.loc[x])\n",
    "dist_dt[\"water_name\"] = dist_dt.slug.apply(lambda x: wn_map.loc[x])\n",
    "dist_dt = dist_dt.groupby([\"slug\", \"NAMN\", \"water\", \"city\", \"water_name\"], as_index=False).dist.sum()\n",
    "\n",
    "dr = dist_dt[dist_dt.water == \"r\"].copy()\n",
    "dr[\"dist\"] = 0\n",
    "\n",
    "dnr = dist_dt[dist_dt.water != \"r\"].copy()\n",
    "dist_dt = pd.concat([dnr, dr])\n",
    "dist_dt = pd.melt(dist_dt, id_vars = [\"slug\", \"NAMN\", \"water\", \"city\", \"water_name\"], value_vars=[\"dist\"])\n",
    "dist_ct = pd.melt(dist_ct, id_vars = [\"slug\", \"NAMN\", \"water\", \"city\", \"water_name\"], value_vars=[\"length\"])\n",
    "\n",
    "# river network and disttance to intersection\n",
    "dist_it_len = pd.concat([dist_dt, dist_ct])\n",
    "\n",
    "# min max scale\n",
    "dist_it_len[\"scaled\"] = (dist_it_len[\"value\"] - dist_it_len[\"value\"].min())/(dist_it_len[\"value\"].max() - dist_it_len[\"value\"].min())\n",
    "# bin in groups of 0.05 plus one bin for zero\n",
    "sbinsr = pd.cut(dist_it_len.scaled, bins=bind, labels=np.arange(start=0, stop=21), include_lowest=True, retbins=False)\n",
    "sbinsr=sbinsr.cat.rename_categories(np.arange(start=0, stop=21))\n",
    "dist_it_len[\"binned\"] = sbinsr\n",
    "dist_it_len.rename(columns={\"variable\":\"use\", \"value\":\"magnitude\"}, inplace=True)\n",
    "dist_it_len.set_index(\"slug\", inplace=True, drop=True)\n",
    "\n",
    "strasse = pd.read_csv(\"resources/geodata/streets.csv\", low_memory=False)\n",
    "strasse = strasse[strasse.slug.isin(locations)].copy()\n",
    "strasse.fillna(0, inplace=True)\n",
    "stras = strasse.groupby([\"slug\", \"water_name\", \"city\", \"water\"], as_index=False)[\"street len\"].sum()\n",
    "\n",
    "# min max scale\n",
    "stras[\"scaled\"] = (stras[\"street len\"] - stras[\"street len\"].min())/(stras[\"street len\"].max() - stras[\"street len\"].min())\n",
    "sbinsras = pd.cut(stras.scaled, bins=bind, labels=np.arange(start=0, stop=21), include_lowest=True, retbins=False)\n",
    "sbinsras=sbinsras.cat.rename_categories(np.arange(start=0, stop=21))\n",
    "stras[\"binned\"] = sbinsras\n",
    "stras[\"use\"] = \"Strasse\"\n",
    "stras.rename(columns={\"street len\":\"magnitude\"}, inplace=True)\n",
    "\n",
    "land_use_agg = pd.concat([stras, agg_land_use])\n",
    "land_use_agg.fillna(0, inplace=True)\n",
    "land_use_agg.set_index(\"slug\", drop=True, inplace=True)\n",
    "collection_points = dfBeaches[dfBeaches.water == \"l\"].water_name_slug.unique()"
   ]
  },
  {
   "cell_type": "code",
   "execution_count": 4,
   "metadata": {
    "editable": true,
    "jupyter": {
     "source_hidden": true
    },
    "slideshow": {
     "slide_type": ""
    },
    "tags": [
     "remove-input"
    ]
   },
   "outputs": [
    {
     "data": {
      "application/papermill.record/image/png": "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",
      "application/papermill.record/text/plain": "<Figure size 1000x500 with 3 Axes>"
     },
     "metadata": {
      "scrapbook": {
       "mime_prefix": "application/papermill.record/",
       "name": "land_use_dist"
      }
     },
     "output_type": "display_data"
    }
   ],
   "source": [
    "st_sulpice = land_use_agg.loc[(land_use_agg.city==\"Saint-Sulpice (VD)\")]\n",
    "sp = st_sulpice[[\"magnitude\", \"scaled\", \"binned\", \"use\"]]\n",
    "uses = sp.use.unique()\n",
    "\n",
    "tcols = [\"binned\", \"scaled\", \"magnitude\", \"use\"]\n",
    "tst = land_use_agg[[*tcols, \"water_name\"]]\n",
    "tst = tst[tst.water_name == wn_map.loc[\"plage-de-st-sulpice\"]]\n",
    "tst = tst[~tst.use.isin([\"Geroell\", \"Stausee\"])]\n",
    "tstx = tst.pivot(columns=\"use\", values=\"scaled\").fillna(0)\n",
    "\n",
    "corr = tstx.corr()\n",
    "mask = np.triu(np.ones_like(corr, dtype=bool))\n",
    "\n",
    "fig, axs = plt.subplots(1, 2, figsize=(10, 5))\n",
    "\n",
    "ax = axs[0]\n",
    "sns.boxplot(data=land_use_agg[land_use_agg.use.isin(uses)], x=\"use\", y=\"scaled\", ax=ax)\n",
    "sns.stripplot(data=sp, x=\"use\", y=\"scaled\", ax=ax, color=\"magenta\", label=\"Saint-Sulpice (VD)\")\n",
    "ax.set_title(\"Distribution of measured variables\", loc=\"left\")\n",
    "ax.tick_params(axis='x', labelrotation = 90)\n",
    "ax.set_xlabel(\" \")\n",
    "h, l = ax.get_legend_handles_labels()\n",
    "ax.legend([h[0]], [l[0]])\n",
    "\n",
    "sns.heatmap(corr, mask=mask, cmap=\"YlOrBr\", ax=axs[1])\n",
    "\n",
    "axs[1].set_ylabel(\"\")\n",
    "axs[1].set_xlabel(\"\")\n",
    "axs[1].set_title(\"Correlation of measured variables\", loc=\"left\")\n",
    "plt.tight_layout()\n",
    "\n",
    "glue(\"land_use_dist\", fig, display=False)\n",
    "plt.close()"
   ]
  },
  {
   "cell_type": "markdown",
   "metadata": {
    "editable": true,
    "slideshow": {
     "slide_type": ""
    },
    "tags": []
   },
   "source": [
    "```{glue:figure} land_use_dist\n",
    "\n",
    "Distribution and correlation of measured environmental variables\n",
    "``` "
   ]
  },
  {
   "cell_type": "markdown",
   "metadata": {
    "editable": true,
    "slideshow": {
     "slide_type": ""
    },
    "tags": []
   },
   "source": [
    "__The land-use profile of a survey location__ is the unique combination of the measured attributes. For example at the _plage-de-saint-sulpice_ 97% of the dry land is occupied buildings, the rest is either woods (2%) or undefined < 1%. In relation to all other survey locations there is more land attributed to infrastructure and less attributed to recreation (table 1). The column _binned_ is the percentile group that the measured-value corresponds to when all survey locations are considered. Recall that the measured variables are grouped by intervals of 0.05, from the scaled column. Therefore, the amount of land attributed to infrstructure at _plage-de-saint-sulpice_ is greater than 70% of all other locations and the amount of land atrributed to buildings is greater than 95% of all other survey locations. Conversely at _plage-de-saint-sulpice_ the amount attributed to woods is less than 95% of all other locations."
   ]
  },
  {
   "cell_type": "code",
   "execution_count": 5,
   "metadata": {
    "editable": true,
    "jupyter": {
     "source_hidden": true
    },
    "slideshow": {
     "slide_type": ""
    },
    "tags": [
     "remove-input"
    ]
   },
   "outputs": [],
   "source": [
    "cois = [\n",
    "    'Gfrags', 'G30', 'G27', 'Gfoam', 'G95', 'Gcaps', 'G67', 'G35', 'G89',\n",
    "    'G31', 'G32', 'G100', 'G33', 'G25', 'G70', 'G10'\n",
    "]\n",
    "\n",
    "# this defines the css rules for the note-book table displays\n",
    "header_row = {'selector': 'th:nth-child(1)', 'props': f'background-color: #FFF; text-align:right'}\n",
    "even_rows = {\"selector\": 'tr:nth-child(even)', 'props': f'background-color: rgba(139, 69, 19, 0.08);'}\n",
    "odd_rows = {'selector': 'tr:nth-child(odd)', 'props': 'background: #FFF;'}\n",
    "table_font = {'selector': 'tr', 'props': 'font-size: 12px;'}\n",
    "table_data = {'selector': 'td', 'props': 'padding: 6px;'}\n",
    "table_caption = {'selector': 'caption', 'props': 'font-size: 14px; font-style: italic; caption-side: bottom; text-align: left; margin-top: 10px'}\n",
    "table_css_styles = [even_rows, odd_rows, table_font, header_row, table_caption]\n",
    "\n",
    "# thresholds\n",
    "thold_data = all_data[(all_data.date >= make_date_object(\"2020-04-01\"))&(all_data.date <= make_date_object(\"2021-05-01\"))]\n",
    "thold_data = thold_data[thold_data.water_name_slug == \"lac-leman\"]\n",
    "thold_data = thold_data[thold_data.code.isin(cois)]\n",
    "# thold_data = thold_data.groupby([\"loc_date\", \"code\"], as_index=False).pcs_m.sum()\n",
    "tholds = thold_data.groupby([\"code\"]).pcs_m.median()\n",
    "tholds_r = (tholds * 100).round()\n",
    "thold_data[\"object\"] = thold_data.code.apply(lambda x: code_d.loc[x])\n",
    "tholdsx = thold_data.groupby([\"code\", \"object\"], as_index=False).pcs_m.median()\n",
    "tholdsx.rename(columns={\"pcs_m\":\"threshold\"}, inplace=True)\n",
    "tholdsx.set_index(\"code\", drop=True, inplace=True)\n",
    "tholdsx.index.name = None"
   ]
  },
  {
   "cell_type": "code",
   "execution_count": 6,
   "metadata": {
    "editable": true,
    "jupyter": {
     "source_hidden": true
    },
    "slideshow": {
     "slide_type": ""
    },
    "tags": [
     "remove-input"
    ]
   },
   "outputs": [
    {
     "name": "stdout",
     "output_type": "stream",
     "text": [
      "There is no prior series specified: no operation\n"
     ]
    }
   ],
   "source": [
    "# data for the initial sampling period\n",
    "# the dates of the sampling period\n",
    "# the start and end date\n",
    "slr_d, slr_e = make_date_object(\"2015-11-15\"), make_date_object(\"2016-11-14\")\n",
    "\n",
    "# the date range of the samples\n",
    "date_mask = (all_data[\"date\"] >= slr_d) & (all_data[\"date\"] <= slr_e)\n",
    "\n",
    "# likelihood: the locations from the lake of interest that were surveyed during the time frame\n",
    "# these locations furnish the data for the likelihood, they make up the current results\n",
    "lake_locations = all_data[date_mask & (all_data.water_name_slug == 'lac-leman')].location.unique()\n",
    "\n",
    "xrange =  np.arange(0.01, 10, step=.01)\n",
    "xtest = pd.DataFrame(data=xrange, columns=[\"x\"])\n",
    "xtesti = xtest.copy()\n",
    "\n",
    "uniformed_prior = [0.5 for x in xrange]\n",
    "\n",
    "lake = \"lac-leman\"\n",
    "coi = \"Saint-Sulpice (VD)\"\n",
    "code = \"Gfrags\"\n",
    "    \n",
    "yearone = GridApproximation(slr_d, slr_e, lake, lake_locations, cois, all_data, land_use_agg, tholds_r, xrange, uniformed_prior=uniformed_prior)\n",
    "\n",
    "tdata = yearone.testwo.prior_data  \n",
    "uses = yearone.testwo.land_use_data.use.unique()\n",
    "\n",
    "\n",
    "# sample totals per code all lake locations\n",
    "cstart = yearone.testwo.current_data.groupby([\"loc_date\", \"date\", \"code\"], as_index=False).pcs_m.sum()\n",
    "ctot = cstart.groupby([\"loc_date\", \"date\"], as_index=False).pcs_m.sum()\n",
    "city_results = yearone.testwo.current_data[yearone.testwo.current_data.city == coi]\n",
    "\n",
    "# sample totals per code all locations in city\n",
    "city_tot = city_results.groupby([\"loc_date\", \"date\"], as_index=False).pcs_m.sum()\n",
    "city_start = city_results.groupby([\"loc_date\", \"date\", \"code\"], as_index=False).pcs_m.sum()\n",
    "\n",
    "cmedian = cstart.groupby(\"code\", as_index=False).pcs_m.mean()"
   ]
  },
  {
   "cell_type": "code",
   "execution_count": 7,
   "metadata": {
    "editable": true,
    "jupyter": {
     "source_hidden": true
    },
    "slideshow": {
     "slide_type": ""
    },
    "tags": [
     "remove-input"
    ]
   },
   "outputs": [],
   "source": [
    "profile_data, profiles_dict =  land_use_profile_from_data(tdata, code, uses)  \n",
    "gradient_p, ud = make_prior_by_use( tdata[(tdata.code == code)], xtest, profiles_dict)\n",
    "\n",
    "xtesti[\"gradient_p\"] = gradient_p\n",
    "\n",
    "parc_pier =  tdata[(tdata.code == code) & (tdata.location == \"parc-des-pierrettes\")]\n",
    "profile_data_pp, profiles_dict_pp =  land_use_profile_from_data(parc_pier, code, yearone.uses)  \n",
    "gradient_pp, udp = make_prior_by_use(tdata[(tdata.code == code)], xtest, profiles_dict_pp)\n",
    "\n",
    "xtesti[\"prior_use_pp\"] = gradient_pp\n",
    "\n",
    "data = tdata[tdata.code == \"Gfrags\"]\n",
    "prior = np.ones(len(xrange))\n",
    "ud = []\n",
    "\n",
    "for k, v in profiles_dict.items():   \n",
    "    \n",
    "    str_i = data[(data[k].isin(v))].copy()\n",
    "   \n",
    "    use_dist_i = y_exceeds_x_one_code_bin_category(str_i, xtest)\n",
    "    ud.append((use_dist_i, str_i))        \n",
    "  \n",
    "    prior *= use_dist_i.theta\n",
    "    \n",
    "xtesti[\"apriori_i\"] = prior"
   ]
  },
  {
   "cell_type": "code",
   "execution_count": 8,
   "metadata": {
    "editable": true,
    "jupyter": {
     "source_hidden": true
    },
    "slideshow": {
     "slide_type": ""
    },
    "tags": [
     "remove-input"
    ]
   },
   "outputs": [
    {
     "data": {
      "text/html": [
       "<style type=\"text/css\">\n",
       "#T_e5ef4 tr:nth-child(even) {\n",
       "  background-color: rgba(139, 69, 19, 0.08);\n",
       "}\n",
       "#T_e5ef4 tr:nth-child(odd) {\n",
       "  background: #FFF;\n",
       "}\n",
       "#T_e5ef4 tr {\n",
       "  font-size: 12px;\n",
       "}\n",
       "#T_e5ef4 th:nth-child(1) {\n",
       "  background-color: #FFF;\n",
       "  text-align: right;\n",
       "}\n",
       "#T_e5ef4 caption {\n",
       "  font-size: 14px;\n",
       "  font-style: italic;\n",
       "  caption-side: bottom;\n",
       "  text-align: left;\n",
       "  margin-top: 10px;\n",
       "}\n",
       "</style>\n",
       "<table id=\"T_e5ef4\">\n",
       "  <caption>Table 1: Land use profile of plage-de-saint-sulpice</caption>\n",
       "  <thead>\n",
       "    <tr>\n",
       "      <th class=\"blank level0\" >&nbsp;</th>\n",
       "      <th id=\"T_e5ef4_level0_col0\" class=\"col_heading level0 col0\" >magnitude</th>\n",
       "      <th id=\"T_e5ef4_level0_col1\" class=\"col_heading level0 col1\" >scaled</th>\n",
       "      <th id=\"T_e5ef4_level0_col2\" class=\"col_heading level0 col2\" >binned</th>\n",
       "    </tr>\n",
       "  </thead>\n",
       "  <tbody>\n",
       "    <tr>\n",
       "      <th id=\"T_e5ef4_level0_row0\" class=\"row_heading level0 row0\" >Strasse</th>\n",
       "      <td id=\"T_e5ef4_row0_col0\" class=\"data row0 col0\" >65518</td>\n",
       "      <td id=\"T_e5ef4_row0_col1\" class=\"data row0 col1\" >0.313693</td>\n",
       "      <td id=\"T_e5ef4_row0_col2\" class=\"data row0 col2\" >7</td>\n",
       "    </tr>\n",
       "    <tr>\n",
       "      <th id=\"T_e5ef4_level0_row1\" class=\"row_heading level0 row1\" >infrastructure</th>\n",
       "      <td id=\"T_e5ef4_row1_col0\" class=\"data row1 col0\" >1022280</td>\n",
       "      <td id=\"T_e5ef4_row1_col1\" class=\"data row1 col1\" >0.734544</td>\n",
       "      <td id=\"T_e5ef4_row1_col2\" class=\"data row1 col2\" >15</td>\n",
       "    </tr>\n",
       "    <tr>\n",
       "      <th id=\"T_e5ef4_level0_row2\" class=\"row_heading level0 row2\" >recreation</th>\n",
       "      <td id=\"T_e5ef4_row2_col0\" class=\"data row2 col0\" >99620</td>\n",
       "      <td id=\"T_e5ef4_row2_col1\" class=\"data row2 col1\" >0.174540</td>\n",
       "      <td id=\"T_e5ef4_row2_col2\" class=\"data row2 col2\" >4</td>\n",
       "    </tr>\n",
       "    <tr>\n",
       "      <th id=\"T_e5ef4_level0_row3\" class=\"row_heading level0 row3\" >Siedl</th>\n",
       "      <td id=\"T_e5ef4_row3_col0\" class=\"data row3 col0\" >2905921</td>\n",
       "      <td id=\"T_e5ef4_row3_col1\" class=\"data row3 col1\" >0.975773</td>\n",
       "      <td id=\"T_e5ef4_row3_col2\" class=\"data row3 col2\" >20</td>\n",
       "    </tr>\n",
       "    <tr>\n",
       "      <th id=\"T_e5ef4_level0_row4\" class=\"row_heading level0 row4\" >Wald</th>\n",
       "      <td id=\"T_e5ef4_row4_col0\" class=\"data row4 col0\" >64229</td>\n",
       "      <td id=\"T_e5ef4_row4_col1\" class=\"data row4 col1\" >0.021567</td>\n",
       "      <td id=\"T_e5ef4_row4_col2\" class=\"data row4 col2\" >1</td>\n",
       "    </tr>\n",
       "    <tr>\n",
       "      <th id=\"T_e5ef4_level0_row5\" class=\"row_heading level0 row5\" >undefined</th>\n",
       "      <td id=\"T_e5ef4_row5_col0\" class=\"data row5 col0\" >7921</td>\n",
       "      <td id=\"T_e5ef4_row5_col1\" class=\"data row5 col1\" >0.002660</td>\n",
       "      <td id=\"T_e5ef4_row5_col2\" class=\"data row5 col2\" >1</td>\n",
       "    </tr>\n",
       "  </tbody>\n",
       "</table>\n"
      ],
      "text/plain": [
       "<pandas.io.formats.style.Styler at 0x7f412af843a0>"
      ]
     },
     "execution_count": 8,
     "metadata": {},
     "output_type": "execute_result"
    }
   ],
   "source": [
    "caption=\"Table 1: Land use profile of plage-de-saint-sulpice\"\n",
    "table_one = yearone.testwo.land_use_data.loc[\"plage-de-st-sulpice\"][[\"use\",\"magnitude\", \"scaled\", \"binned\"]]\n",
    "table_one.set_index(\"use\", inplace=True, drop=True)\n",
    "table_one.index.name = None\n",
    "table_one.style.set_caption(caption).set_table_styles(table_css_styles)"
   ]
  },
  {
   "cell_type": "markdown",
   "metadata": {
    "editable": true,
    "slideshow": {
     "slide_type": ""
    },
    "tags": []
   },
   "source": [
    "#### Sequential priors\n",
    "\n",
    "Sequential priors use the uninformed posterior distribution (next section) from the previous sampling campaign for the prior of the current sampling campaign. This amounts to considering only the numerical result of the previous surveys and not including survey results from similar locations.\n",
    "\n",
    "#### Uninformed (uniform) priors\n",
    "\n",
    "Uninformed priors are probability distributions that should not influence the expected probability distribution that is derived from the likelihood. In other words, each sampling period is considered a new experience and their is no complentary information to add that might change our expectations. In this study each calculation is a binary result, therefore we use 0.5 to represent the condition that we have no expectation that a particular survey results will exceed a given threshold.\n",
    "\n",
    "#### Shared priors\n",
    "\n",
    "Locations that are similar topographically are assumed to have similar survey results. The shared prior is the survey results for all locations that have similar land use attributes. Specifically, the locations that have at least one common _bin_ are considered _similar_ (table 1). The combined survey results of all similar locations is the shared prior.\n",
    "\n",
    "#### Priors: summary\n",
    "\n",
    "Using the notation from equation 6 (Bayes theorem) the effect of the different priors on the expected results can be assessed directly, equations 7-9 demonstrate the different calculations for each prior at each aggregation level.\n",
    "\n",
    "$$\n",
    "\\begin{align}\n",
    "p(\\theta | \\text{survey data}) =&\\ \\frac{p(\\text{environmental conditions})p(\\text{survey data}|\\theta)}{p(\\text{survey data})}\\\\[10pt]\n",
    "p(\\theta | \\text{survey data}) =&\\ \\frac{p(\\text{previous results})p(\\text{survey data}|\\theta)}{p(\\text{survey data})}\\\\[10pt]\n",
    "p(\\theta | \\text{survey data}) =&\\ \\frac{p(\\text{uninformed})p(\\text{survey data}|\\theta)}{p(\\text{surveydata})}\\\\[10pt]\n",
    "\\end{align}\n",
    "$$\n",
    "\n"
   ]
  },
  {
   "cell_type": "markdown",
   "metadata": {
    "editable": true,
    "slideshow": {
     "slide_type": ""
    },
    "tags": []
   },
   "source": [
    "## Codes of interest\n",
    "\n",
    "The codes of interest were chosen because they appear in the 2022 results. It was just luck that there are compatible test data for the model based on the previous survey results. The sampling campaign from 2022 did not involve the authors of this study, thus it is truly an independent test of the sampling methods and proposed model. Collectively these 16 codes account for 76% of the objects identified in 2022, 67% of the objects in 2021 and 58% of the objects found by team SWE, (table 2). From a machine learning standpoint the 2022 results are the test data to the training data that was collected between 2015 and 2021."
   ]
  },
  {
   "cell_type": "code",
   "execution_count": 9,
   "metadata": {
    "editable": true,
    "jupyter": {
     "source_hidden": true
    },
    "slideshow": {
     "slide_type": ""
    },
    "tags": [
     "remove-input"
    ]
   },
   "outputs": [
    {
     "data": {
      "text/html": [
       "<style type=\"text/css\">\n",
       "#T_c650f tr:nth-child(even) {\n",
       "  background-color: rgba(139, 69, 19, 0.08);\n",
       "}\n",
       "#T_c650f tr:nth-child(odd) {\n",
       "  background: #FFF;\n",
       "}\n",
       "#T_c650f tr {\n",
       "  font-size: 12px;\n",
       "}\n",
       "#T_c650f th:nth-child(1) {\n",
       "  background-color: #FFF;\n",
       "  text-align: right;\n",
       "}\n",
       "#T_c650f caption {\n",
       "  font-size: 14px;\n",
       "  font-style: italic;\n",
       "  caption-side: bottom;\n",
       "  text-align: left;\n",
       "  margin-top: 10px;\n",
       "}\n",
       "</style>\n",
       "<table id=\"T_c650f\">\n",
       "  <caption>Table 2: Objects of interest and the median survey results from 2021.</caption>\n",
       "  <thead>\n",
       "    <tr>\n",
       "      <th class=\"blank level0\" >&nbsp;</th>\n",
       "      <th id=\"T_c650f_level0_col0\" class=\"col_heading level0 col0\" >object</th>\n",
       "      <th id=\"T_c650f_level0_col1\" class=\"col_heading level0 col1\" >threshold</th>\n",
       "    </tr>\n",
       "  </thead>\n",
       "  <tbody>\n",
       "    <tr>\n",
       "      <th id=\"T_c650f_level0_row0\" class=\"row_heading level0 row0\" >G10</th>\n",
       "      <td id=\"T_c650f_row0_col0\" class=\"data row0 col0\" >Food containers single use foamed or plastic</td>\n",
       "      <td id=\"T_c650f_row0_col1\" class=\"data row0 col1\" >0.010000</td>\n",
       "    </tr>\n",
       "    <tr>\n",
       "      <th id=\"T_c650f_level0_row1\" class=\"row_heading level0 row1\" >G100</th>\n",
       "      <td id=\"T_c650f_row1_col0\" class=\"data row1 col0\" >Medical; containers/tubes/ packaging</td>\n",
       "      <td id=\"T_c650f_row1_col1\" class=\"data row1 col1\" >0.020000</td>\n",
       "    </tr>\n",
       "    <tr>\n",
       "      <th id=\"T_c650f_level0_row2\" class=\"row_heading level0 row2\" >G25</th>\n",
       "      <td id=\"T_c650f_row2_col0\" class=\"data row2 col0\" >Tobacco; plastic packaging, containers</td>\n",
       "      <td id=\"T_c650f_row2_col1\" class=\"data row2 col1\" >0.020000</td>\n",
       "    </tr>\n",
       "    <tr>\n",
       "      <th id=\"T_c650f_level0_row3\" class=\"row_heading level0 row3\" >G27</th>\n",
       "      <td id=\"T_c650f_row3_col0\" class=\"data row3 col0\" >Cigarette filters</td>\n",
       "      <td id=\"T_c650f_row3_col1\" class=\"data row3 col1\" >0.470000</td>\n",
       "    </tr>\n",
       "    <tr>\n",
       "      <th id=\"T_c650f_level0_row4\" class=\"row_heading level0 row4\" >G30</th>\n",
       "      <td id=\"T_c650f_row4_col0\" class=\"data row4 col0\" >Food wrappers; candy, snacks</td>\n",
       "      <td id=\"T_c650f_row4_col1\" class=\"data row4 col1\" >0.210000</td>\n",
       "    </tr>\n",
       "    <tr>\n",
       "      <th id=\"T_c650f_level0_row5\" class=\"row_heading level0 row5\" >G31</th>\n",
       "      <td id=\"T_c650f_row5_col0\" class=\"data row5 col0\" >Lollypop sticks</td>\n",
       "      <td id=\"T_c650f_row5_col1\" class=\"data row5 col1\" >0.030000</td>\n",
       "    </tr>\n",
       "    <tr>\n",
       "      <th id=\"T_c650f_level0_row6\" class=\"row_heading level0 row6\" >G32</th>\n",
       "      <td id=\"T_c650f_row6_col0\" class=\"data row6 col0\" >Toys and party favors</td>\n",
       "      <td id=\"T_c650f_row6_col1\" class=\"data row6 col1\" >0.030000</td>\n",
       "    </tr>\n",
       "    <tr>\n",
       "      <th id=\"T_c650f_level0_row7\" class=\"row_heading level0 row7\" >G33</th>\n",
       "      <td id=\"T_c650f_row7_col0\" class=\"data row7 col0\" >Cups, lids, single use foamed and hard plastic</td>\n",
       "      <td id=\"T_c650f_row7_col1\" class=\"data row7 col1\" >0.020000</td>\n",
       "    </tr>\n",
       "    <tr>\n",
       "      <th id=\"T_c650f_level0_row8\" class=\"row_heading level0 row8\" >G35</th>\n",
       "      <td id=\"T_c650f_row8_col0\" class=\"data row8 col0\" >Straws and stirrers</td>\n",
       "      <td id=\"T_c650f_row8_col1\" class=\"data row8 col1\" >0.040000</td>\n",
       "    </tr>\n",
       "    <tr>\n",
       "      <th id=\"T_c650f_level0_row9\" class=\"row_heading level0 row9\" >G67</th>\n",
       "      <td id=\"T_c650f_row9_col0\" class=\"data row9 col0\" >Industrial sheeting</td>\n",
       "      <td id=\"T_c650f_row9_col1\" class=\"data row9 col1\" >0.090000</td>\n",
       "    </tr>\n",
       "    <tr>\n",
       "      <th id=\"T_c650f_level0_row10\" class=\"row_heading level0 row10\" >G70</th>\n",
       "      <td id=\"T_c650f_row10_col0\" class=\"data row10 col0\" >Shotgun cartridges</td>\n",
       "      <td id=\"T_c650f_row10_col1\" class=\"data row10 col1\" >0.010000</td>\n",
       "    </tr>\n",
       "    <tr>\n",
       "      <th id=\"T_c650f_level0_row11\" class=\"row_heading level0 row11\" >G89</th>\n",
       "      <td id=\"T_c650f_row11_col0\" class=\"data row11 col0\" >Plastic construction waste</td>\n",
       "      <td id=\"T_c650f_row11_col1\" class=\"data row11 col1\" >0.060000</td>\n",
       "    </tr>\n",
       "    <tr>\n",
       "      <th id=\"T_c650f_level0_row12\" class=\"row_heading level0 row12\" >G95</th>\n",
       "      <td id=\"T_c650f_row12_col0\" class=\"data row12 col0\" >Cotton bud/swab sticks</td>\n",
       "      <td id=\"T_c650f_row12_col1\" class=\"data row12 col1\" >0.120000</td>\n",
       "    </tr>\n",
       "    <tr>\n",
       "      <th id=\"T_c650f_level0_row13\" class=\"row_heading level0 row13\" >Gcaps</th>\n",
       "      <td id=\"T_c650f_row13_col0\" class=\"data row13 col0\" >Plastic bottle lids</td>\n",
       "      <td id=\"T_c650f_row13_col1\" class=\"data row13 col1\" >0.110000</td>\n",
       "    </tr>\n",
       "    <tr>\n",
       "      <th id=\"T_c650f_level0_row14\" class=\"row_heading level0 row14\" >Gfoam</th>\n",
       "      <td id=\"T_c650f_row14_col0\" class=\"data row14 col0\" >Expanded polystyrene</td>\n",
       "      <td id=\"T_c650f_row14_col1\" class=\"data row14 col1\" >0.280000</td>\n",
       "    </tr>\n",
       "    <tr>\n",
       "      <th id=\"T_c650f_level0_row15\" class=\"row_heading level0 row15\" >Gfrags</th>\n",
       "      <td id=\"T_c650f_row15_col0\" class=\"data row15 col0\" >Fragmented plastics</td>\n",
       "      <td id=\"T_c650f_row15_col1\" class=\"data row15 col1\" >0.610000</td>\n",
       "    </tr>\n",
       "  </tbody>\n",
       "</table>\n"
      ],
      "text/plain": [
       "<pandas.io.formats.style.Styler at 0x7f412af84940>"
      ]
     },
     "execution_count": 9,
     "metadata": {},
     "output_type": "execute_result"
    }
   ],
   "source": [
    "# the unique land use categories in the current data set\n",
    "caption = \"Table 2: Objects of interest and the median survey results from 2021.\"\n",
    "tholdsx.style.set_caption(caption).set_table_styles(table_css_styles)"
   ]
  },
  {
   "cell_type": "markdown",
   "metadata": {
    "editable": true,
    "slideshow": {
     "slide_type": ""
    },
    "tags": []
   },
   "source": [
    "## Implementation\n",
    "\n",
    "For this initial study we are directly calculating the probability of an event given the events described in the survey results. The result is a point estimate of the probability of that event, given the data and the prior probability of that event.\n",
    "\n",
    "### Inference tables\n",
    "\n",
    "Inference tables are Grid approximations made from a series of point estimates calculated using Bayes theorem. Instead of calculating the probability of every event, we calculate points at fixed intervals between a minimum and maximum range of probable values. The minimum is zero, for this study we set the maximum to 1000 p/100 m or 10 p/m. The maximum can be defined by the data, taking the 99th percentile for example. This method is 100% inspired by Alan Downeys example using _python_ : [Think Bayes 2](https://allendowney.github.io/ThinkBayes2/chap02.html) and using _R_ : [Approximating the posterior](https://www.bayesrulesbook.com/chapter-6.html) in _Bayes Rules! An Introduction to Applied Bayesian Modeling_. Grid approximations leverage basic array functionality and make it easy to implement different methods for handling the priors. Recal that there are two  hypothesis for each event: _h = the threshhold was exceeded_, _h1 = the threshhold was not exceeded_. ([Bayes' theorem](https://en.wikipedia.org/wiki/Bayes%27_theorem)) ([conditional proabability](https://en.wikipedia.org/wiki/Conditional_probability)). \n",
    "\n",
    "#### The grid\n",
    "\n",
    "There is a grid for each code. The grid contains the density in pcs/m, the likelihood of the event, the prior probability of the event and the calculations required to determine the posterior probability of the event. There are 1000 rows in each grid or one row for every .01 in the range of 0.00 to 9.99.  \n",
    "\n",
    "__Example one: Gfrags 2015 - 2016, prior = uninformed__\n",
    "\n",
    "The grid is defined for each _x_ in the set _(0.0, 0.01, 0.02, ... , 9.99)_, this corresponds to 0p/m - 1000p/m or 98% of all survey results. Each row in the grid is one event that is being evaluated (table 3). From table three, given an uninformed prior (table 3: pr) there was a 40%-41% chance of exceeding the 2021 threshold for Gfrags in 2015 (table 3: post) . The operations are column wise, in this case we consider both hypothesis in each row, the total probability (table 3: ptot) is the sum of the likelihood * prior for both hypothesis."
   ]
  },
  {
   "cell_type": "code",
   "execution_count": 10,
   "metadata": {
    "editable": true,
    "jupyter": {
     "source_hidden": true
    },
    "slideshow": {
     "slide_type": ""
    },
    "tags": [
     "remove-input"
    ]
   },
   "outputs": [
    {
     "data": {
      "text/html": [
       "<style type=\"text/css\">\n",
       "#T_b28a7 tr:nth-child(even) {\n",
       "  background-color: rgba(139, 69, 19, 0.08);\n",
       "}\n",
       "#T_b28a7 tr:nth-child(odd) {\n",
       "  background: #FFF;\n",
       "}\n",
       "#T_b28a7 tr {\n",
       "  font-size: 12px;\n",
       "}\n",
       "#T_b28a7 th:nth-child(1) {\n",
       "  background-color: #FFF;\n",
       "  text-align: right;\n",
       "}\n",
       "#T_b28a7 caption {\n",
       "  font-size: 14px;\n",
       "  font-style: italic;\n",
       "  caption-side: bottom;\n",
       "  text-align: left;\n",
       "  margin-top: 10px;\n",
       "}\n",
       "</style>\n",
       "<table id=\"T_b28a7\">\n",
       "  <caption>Table 3: Chance of exceeding the 2021 threshold, Gfrags 2015, prior=0.5. Columns = qty=p/m, lh=likelihood, pr=prior, post=posterior</caption>\n",
       "  <thead>\n",
       "    <tr>\n",
       "      <th class=\"blank level0\" >&nbsp;</th>\n",
       "      <th id=\"T_b28a7_level0_col0\" class=\"col_heading level0 col0\" >qty</th>\n",
       "      <th id=\"T_b28a7_level0_col1\" class=\"col_heading level0 col1\" >lh</th>\n",
       "      <th id=\"T_b28a7_level0_col2\" class=\"col_heading level0 col2\" >pr</th>\n",
       "      <th id=\"T_b28a7_level0_col3\" class=\"col_heading level0 col3\" >p-total</th>\n",
       "      <th id=\"T_b28a7_level0_col4\" class=\"col_heading level0 col4\" >post</th>\n",
       "    </tr>\n",
       "  </thead>\n",
       "  <tbody>\n",
       "    <tr>\n",
       "      <th id=\"T_b28a7_level0_row0\" class=\"row_heading level0 row0\" >58</th>\n",
       "      <td id=\"T_b28a7_row0_col0\" class=\"data row0 col0\" >0.590000</td>\n",
       "      <td id=\"T_b28a7_row0_col1\" class=\"data row0 col1\" >0.414634</td>\n",
       "      <td id=\"T_b28a7_row0_col2\" class=\"data row0 col2\" >0.500000</td>\n",
       "      <td id=\"T_b28a7_row0_col3\" class=\"data row0 col3\" >0.500000</td>\n",
       "      <td id=\"T_b28a7_row0_col4\" class=\"data row0 col4\" >0.414634</td>\n",
       "    </tr>\n",
       "    <tr>\n",
       "      <th id=\"T_b28a7_level0_row1\" class=\"row_heading level0 row1\" >59</th>\n",
       "      <td id=\"T_b28a7_row1_col0\" class=\"data row1 col0\" >0.600000</td>\n",
       "      <td id=\"T_b28a7_row1_col1\" class=\"data row1 col1\" >0.414634</td>\n",
       "      <td id=\"T_b28a7_row1_col2\" class=\"data row1 col2\" >0.500000</td>\n",
       "      <td id=\"T_b28a7_row1_col3\" class=\"data row1 col3\" >0.500000</td>\n",
       "      <td id=\"T_b28a7_row1_col4\" class=\"data row1 col4\" >0.414634</td>\n",
       "    </tr>\n",
       "    <tr>\n",
       "      <th id=\"T_b28a7_level0_row2\" class=\"row_heading level0 row2\" >60</th>\n",
       "      <td id=\"T_b28a7_row2_col0\" class=\"data row2 col0\" >0.610000</td>\n",
       "      <td id=\"T_b28a7_row2_col1\" class=\"data row2 col1\" >0.414634</td>\n",
       "      <td id=\"T_b28a7_row2_col2\" class=\"data row2 col2\" >0.500000</td>\n",
       "      <td id=\"T_b28a7_row2_col3\" class=\"data row2 col3\" >0.500000</td>\n",
       "      <td id=\"T_b28a7_row2_col4\" class=\"data row2 col4\" >0.414634</td>\n",
       "    </tr>\n",
       "    <tr>\n",
       "      <th id=\"T_b28a7_level0_row3\" class=\"row_heading level0 row3\" >61</th>\n",
       "      <td id=\"T_b28a7_row3_col0\" class=\"data row3 col0\" >0.620000</td>\n",
       "      <td id=\"T_b28a7_row3_col1\" class=\"data row3 col1\" >0.414634</td>\n",
       "      <td id=\"T_b28a7_row3_col2\" class=\"data row3 col2\" >0.500000</td>\n",
       "      <td id=\"T_b28a7_row3_col3\" class=\"data row3 col3\" >0.500000</td>\n",
       "      <td id=\"T_b28a7_row3_col4\" class=\"data row3 col4\" >0.414634</td>\n",
       "    </tr>\n",
       "    <tr>\n",
       "      <th id=\"T_b28a7_level0_row4\" class=\"row_heading level0 row4\" >62</th>\n",
       "      <td id=\"T_b28a7_row4_col0\" class=\"data row4 col0\" >0.630000</td>\n",
       "      <td id=\"T_b28a7_row4_col1\" class=\"data row4 col1\" >0.402439</td>\n",
       "      <td id=\"T_b28a7_row4_col2\" class=\"data row4 col2\" >0.500000</td>\n",
       "      <td id=\"T_b28a7_row4_col3\" class=\"data row4 col3\" >0.500000</td>\n",
       "      <td id=\"T_b28a7_row4_col4\" class=\"data row4 col4\" >0.402439</td>\n",
       "    </tr>\n",
       "    <tr>\n",
       "      <th id=\"T_b28a7_level0_row5\" class=\"row_heading level0 row5\" >63</th>\n",
       "      <td id=\"T_b28a7_row5_col0\" class=\"data row5 col0\" >0.640000</td>\n",
       "      <td id=\"T_b28a7_row5_col1\" class=\"data row5 col1\" >0.402439</td>\n",
       "      <td id=\"T_b28a7_row5_col2\" class=\"data row5 col2\" >0.500000</td>\n",
       "      <td id=\"T_b28a7_row5_col3\" class=\"data row5 col3\" >0.500000</td>\n",
       "      <td id=\"T_b28a7_row5_col4\" class=\"data row5 col4\" >0.402439</td>\n",
       "    </tr>\n",
       "    <tr>\n",
       "      <th id=\"T_b28a7_level0_row6\" class=\"row_heading level0 row6\" >64</th>\n",
       "      <td id=\"T_b28a7_row6_col0\" class=\"data row6 col0\" >0.650000</td>\n",
       "      <td id=\"T_b28a7_row6_col1\" class=\"data row6 col1\" >0.402439</td>\n",
       "      <td id=\"T_b28a7_row6_col2\" class=\"data row6 col2\" >0.500000</td>\n",
       "      <td id=\"T_b28a7_row6_col3\" class=\"data row6 col3\" >0.500000</td>\n",
       "      <td id=\"T_b28a7_row6_col4\" class=\"data row6 col4\" >0.402439</td>\n",
       "    </tr>\n",
       "  </tbody>\n",
       "</table>\n"
      ],
      "text/plain": [
       "<pandas.io.formats.style.Styler at 0x7f40b90550d0>"
      ]
     },
     "execution_count": 10,
     "metadata": {},
     "output_type": "execute_result"
    }
   ],
   "source": [
    "table_four = yearone.testwo_post.uninformed[0]\n",
    "table_four = table_four.loc[58:64]\n",
    "\n",
    "caption = \"Table 3: Chance of exceeding the 2021 threshold, Gfrags 2015, prior=0.5. Columns = qty=p/m, lh=likelihood, pr=prior, post=posterior\"\n",
    "\n",
    "disp_short = [\"qty\", \"lh\", \"pr\", \"p-total\", \"post\"]\n",
    "\n",
    "table_four[disp_short].style.set_caption(caption).set_table_styles(table_css_styles)"
   ]
  },
  {
   "cell_type": "code",
   "execution_count": 11,
   "metadata": {
    "editable": true,
    "jupyter": {
     "source_hidden": true
    },
    "slideshow": {
     "slide_type": ""
    },
    "tags": [
     "remove-input"
    ]
   },
   "outputs": [],
   "source": [
    "# table_five = yearone.testwo_post.shared[0]\n",
    "# table_five = table_five.loc[58:64]\n",
    "\n",
    "# caption = \"Table 5: Chance of exceeding the 2021 threshold, Gfrags 2015, prior=shared. Columns = qty=p/m, lh=likelihood, pr=prior, post=posterior\"\n",
    "\n",
    "# table_five.style.set_caption(caption).set_table_styles(table_css_styles)"
   ]
  },
  {
   "cell_type": "markdown",
   "metadata": {
    "editable": true,
    "slideshow": {
     "slide_type": ""
    },
    "tags": []
   },
   "source": [
    "__Example two: Gfrags 2017 - 2018, prior = shared__\n",
    "\n"
   ]
  },
  {
   "cell_type": "code",
   "execution_count": 12,
   "metadata": {
    "editable": true,
    "jupyter": {
     "source_hidden": true
    },
    "slideshow": {
     "slide_type": ""
    },
    "tags": [
     "remove-input"
    ]
   },
   "outputs": [],
   "source": [
    "slr_d = make_date_object(\"2017-04-01\")\n",
    "slr_e = make_date_object(\"2018-05-01\")\n",
    "date_mask = (all_data[\"date\"] >= slr_d) & (all_data[\"date\"] <= slr_e)\n",
    "\n",
    "lake_locations = all_data[date_mask & (all_data.water_name_slug == 'lac-leman')].location.unique()\n",
    "prior_locations = all_data[(all_data[\"date\"] <= slr_e)&(all_data.water == \"l\")].location.unique()\n",
    "\n",
    "yeartwo = GridApproximation(slr_d, slr_e, lake, lake_locations, cois, all_data, land_use_agg, tholds_r, xrange, prior_series=yearone.testwo_post.uninformed, uniformed_prior=uniformed_prior)\n",
    "\n",
    "yeartwo.testwo_post.prior_shared(yearone.testwo_post.prior_data)\n",
    "tdata = yeartwo.testwo.prior_data\n",
    "\n",
    "c_data2 = tdata[(tdata.code == code)]\n",
    "city_data2 = c_data2[(c_data2.city == \"Saint-Sulpice (VD)\")]\n",
    "lprofiles2 = list(set(city_data2.columns).intersection(uses))\n",
    "profiles_dict2 = {x:c_data2[x].values for x in lprofiles2}\n",
    "\n",
    "gradient_p2, _ = make_prior_by_use(c_data2, xtest, profiles_dict2)\n",
    "xtesti[\"prior_use2\"] = gradient_p2"
   ]
  },
  {
   "cell_type": "code",
   "execution_count": 13,
   "metadata": {
    "editable": true,
    "slideshow": {
     "slide_type": ""
    },
    "tags": [
     "remove-input"
    ]
   },
   "outputs": [
    {
     "data": {
      "text/html": [
       "<style type=\"text/css\">\n",
       "#T_6ef8f tr:nth-child(even) {\n",
       "  background-color: rgba(139, 69, 19, 0.08);\n",
       "}\n",
       "#T_6ef8f tr:nth-child(odd) {\n",
       "  background: #FFF;\n",
       "}\n",
       "#T_6ef8f tr {\n",
       "  font-size: 12px;\n",
       "}\n",
       "#T_6ef8f th:nth-child(1) {\n",
       "  background-color: #FFF;\n",
       "  text-align: right;\n",
       "}\n",
       "#T_6ef8f caption {\n",
       "  font-size: 14px;\n",
       "  font-style: italic;\n",
       "  caption-side: bottom;\n",
       "  text-align: left;\n",
       "  margin-top: 10px;\n",
       "}\n",
       "</style>\n",
       "<table id=\"T_6ef8f\">\n",
       "  <caption>Table 4: Chance of exceeding the 2021 threshold, Gfrags 2018, prior=shared. Columns = qty=p/m, lh=likelihood, pr=prior, post=posterior</caption>\n",
       "  <thead>\n",
       "    <tr>\n",
       "      <th class=\"blank level0\" >&nbsp;</th>\n",
       "      <th id=\"T_6ef8f_level0_col0\" class=\"col_heading level0 col0\" >qty</th>\n",
       "      <th id=\"T_6ef8f_level0_col1\" class=\"col_heading level0 col1\" >lh</th>\n",
       "      <th id=\"T_6ef8f_level0_col2\" class=\"col_heading level0 col2\" >pr</th>\n",
       "      <th id=\"T_6ef8f_level0_col3\" class=\"col_heading level0 col3\" >p-total</th>\n",
       "      <th id=\"T_6ef8f_level0_col4\" class=\"col_heading level0 col4\" >post</th>\n",
       "      <th id=\"T_6ef8f_level0_col5\" class=\"col_heading level0 col5\" >post_beta</th>\n",
       "    </tr>\n",
       "  </thead>\n",
       "  <tbody>\n",
       "    <tr>\n",
       "      <th id=\"T_6ef8f_level0_row0\" class=\"row_heading level0 row0\" >58</th>\n",
       "      <td id=\"T_6ef8f_row0_col0\" class=\"data row0 col0\" >0.590000</td>\n",
       "      <td id=\"T_6ef8f_row0_col1\" class=\"data row0 col1\" >0.391304</td>\n",
       "      <td id=\"T_6ef8f_row0_col2\" class=\"data row0 col2\" >0.414634</td>\n",
       "      <td id=\"T_6ef8f_row0_col3\" class=\"data row0 col3\" >0.518558</td>\n",
       "      <td id=\"T_6ef8f_row0_col4\" class=\"data row0 col4\" >0.312883</td>\n",
       "      <td id=\"T_6ef8f_row0_col5\" class=\"data row0 col5\" >0.309091</td>\n",
       "    </tr>\n",
       "    <tr>\n",
       "      <th id=\"T_6ef8f_level0_row1\" class=\"row_heading level0 row1\" >59</th>\n",
       "      <td id=\"T_6ef8f_row1_col0\" class=\"data row1 col0\" >0.600000</td>\n",
       "      <td id=\"T_6ef8f_row1_col1\" class=\"data row1 col1\" >0.369565</td>\n",
       "      <td id=\"T_6ef8f_row1_col2\" class=\"data row1 col2\" >0.414634</td>\n",
       "      <td id=\"T_6ef8f_row1_col3\" class=\"data row1 col3\" >0.522269</td>\n",
       "      <td id=\"T_6ef8f_row1_col4\" class=\"data row1 col4\" >0.293401</td>\n",
       "      <td id=\"T_6ef8f_row1_col5\" class=\"data row1 col5\" >0.306306</td>\n",
       "    </tr>\n",
       "    <tr>\n",
       "      <th id=\"T_6ef8f_level0_row2\" class=\"row_heading level0 row2\" >60</th>\n",
       "      <td id=\"T_6ef8f_row2_col0\" class=\"data row2 col0\" >0.610000</td>\n",
       "      <td id=\"T_6ef8f_row2_col1\" class=\"data row2 col1\" >0.369565</td>\n",
       "      <td id=\"T_6ef8f_row2_col2\" class=\"data row2 col2\" >0.414634</td>\n",
       "      <td id=\"T_6ef8f_row2_col3\" class=\"data row2 col3\" >0.522269</td>\n",
       "      <td id=\"T_6ef8f_row2_col4\" class=\"data row2 col4\" >0.293401</td>\n",
       "      <td id=\"T_6ef8f_row2_col5\" class=\"data row2 col5\" >0.306306</td>\n",
       "    </tr>\n",
       "    <tr>\n",
       "      <th id=\"T_6ef8f_level0_row3\" class=\"row_heading level0 row3\" >61</th>\n",
       "      <td id=\"T_6ef8f_row3_col0\" class=\"data row3 col0\" >0.620000</td>\n",
       "      <td id=\"T_6ef8f_row3_col1\" class=\"data row3 col1\" >0.369565</td>\n",
       "      <td id=\"T_6ef8f_row3_col2\" class=\"data row3 col2\" >0.414634</td>\n",
       "      <td id=\"T_6ef8f_row3_col3\" class=\"data row3 col3\" >0.522269</td>\n",
       "      <td id=\"T_6ef8f_row3_col4\" class=\"data row3 col4\" >0.293401</td>\n",
       "      <td id=\"T_6ef8f_row3_col5\" class=\"data row3 col5\" >0.306306</td>\n",
       "    </tr>\n",
       "    <tr>\n",
       "      <th id=\"T_6ef8f_level0_row4\" class=\"row_heading level0 row4\" >62</th>\n",
       "      <td id=\"T_6ef8f_row4_col0\" class=\"data row4 col0\" >0.630000</td>\n",
       "      <td id=\"T_6ef8f_row4_col1\" class=\"data row4 col1\" >0.369565</td>\n",
       "      <td id=\"T_6ef8f_row4_col2\" class=\"data row4 col2\" >0.402439</td>\n",
       "      <td id=\"T_6ef8f_row4_col3\" class=\"data row4 col3\" >0.525451</td>\n",
       "      <td id=\"T_6ef8f_row4_col4\" class=\"data row4 col4\" >0.283047</td>\n",
       "      <td id=\"T_6ef8f_row4_col5\" class=\"data row4 col5\" >0.297297</td>\n",
       "    </tr>\n",
       "    <tr>\n",
       "      <th id=\"T_6ef8f_level0_row5\" class=\"row_heading level0 row5\" >63</th>\n",
       "      <td id=\"T_6ef8f_row5_col0\" class=\"data row5 col0\" >0.640000</td>\n",
       "      <td id=\"T_6ef8f_row5_col1\" class=\"data row5 col1\" >0.347826</td>\n",
       "      <td id=\"T_6ef8f_row5_col2\" class=\"data row5 col2\" >0.402439</td>\n",
       "      <td id=\"T_6ef8f_row5_col3\" class=\"data row5 col3\" >0.529692</td>\n",
       "      <td id=\"T_6ef8f_row5_col4\" class=\"data row5 col4\" >0.264264</td>\n",
       "      <td id=\"T_6ef8f_row5_col5\" class=\"data row5 col5\" >0.294643</td>\n",
       "    </tr>\n",
       "    <tr>\n",
       "      <th id=\"T_6ef8f_level0_row6\" class=\"row_heading level0 row6\" >64</th>\n",
       "      <td id=\"T_6ef8f_row6_col0\" class=\"data row6 col0\" >0.650000</td>\n",
       "      <td id=\"T_6ef8f_row6_col1\" class=\"data row6 col1\" >0.347826</td>\n",
       "      <td id=\"T_6ef8f_row6_col2\" class=\"data row6 col2\" >0.402439</td>\n",
       "      <td id=\"T_6ef8f_row6_col3\" class=\"data row6 col3\" >0.529692</td>\n",
       "      <td id=\"T_6ef8f_row6_col4\" class=\"data row6 col4\" >0.264264</td>\n",
       "      <td id=\"T_6ef8f_row6_col5\" class=\"data row6 col5\" >0.294643</td>\n",
       "    </tr>\n",
       "  </tbody>\n",
       "</table>\n"
      ],
      "text/plain": [
       "<pandas.io.formats.style.Styler at 0x7f40b90389a0>"
      ]
     },
     "execution_count": 13,
     "metadata": {},
     "output_type": "execute_result"
    }
   ],
   "source": [
    "table_7 = yeartwo.testwo_post.shared[0]\n",
    "table_7 = table_7\n",
    "\n",
    "caption = \"Table 4: Chance of exceeding the 2021 threshold, Gfrags 2018, prior=shared. Columns = qty=p/m, lh=likelihood, pr=prior, post=posterior\"\n",
    "disp_long = [\"qty\", \"lh\", \"pr\", \"p-total\", \"post\", \"post_beta\"]\n",
    "table_7[disp_long].loc[58:64].style.set_caption(caption).set_table_styles(table_css_styles)"
   ]
  },
  {
   "cell_type": "markdown",
   "metadata": {
    "editable": true,
    "slideshow": {
     "slide_type": ""
    },
    "tags": []
   },
   "source": [
    "#### Grid approximation by year and prior\n",
    "\n",
    "The probability of exceeding the 2021 national threshold for the codes of interest is given in tables 5 - 7.  In table 5, we consider the year over year probabbility using the uniform prior. This means the survey results for each year are conditioned on the expectation that we expect a success rate of 0.5 at at each event. The sequential priors, table 6, use the uninformed expectations from the previous year as the prior for the current year. In table 7 the prior data is shared, the survey results from all other locations with similar land use characteristics is used in the prior."
   ]
  },
  {
   "cell_type": "code",
   "execution_count": 14,
   "metadata": {
    "editable": true,
    "jupyter": {
     "source_hidden": true
    },
    "slideshow": {
     "slide_type": ""
    },
    "tags": [
     "remove-input"
    ]
   },
   "outputs": [],
   "source": [
    "slr_d = make_date_object(\"2020-04-01\")\n",
    "slr_e = make_date_object(\"2021-05-01\")\n",
    "date_mask =  (all_data[\"date\"] >= slr_d) & (all_data[\"date\"] <= slr_e)\n",
    "\n",
    "lake_locations = all_data[date_mask & (all_data.water_name_slug == 'lac-leman')].location.unique()\n",
    "prior_locations = all_data[(all_data[\"date\"] <= slr_e) &(all_data.water_name_slug == 'lac-leman')].location.unique()\n",
    "\n",
    "# the survey results and land use attributes associated with the locations\n",
    "# included in the survey results\n",
    "yearthree = GridApproximation(slr_d, slr_e, lake, lake_locations, cois, all_data, land_use_agg, tholds_r, xrange, prior_series=yeartwo.testwo_post.sequential, uniformed_prior=uniformed_prior)\n",
    "yearthree.testwo_post.prior_shared(yeartwo.testwo_post.prior_data)\n",
    "tdata = yearthree.testwo.prior_data\n",
    "\n",
    "c_data3 = tdata[(tdata.code == code)]\n",
    "city_data3 = c_data3[(c_data3.city == coi)]\n",
    "lprofiles3 = list(set(city_data3.columns).intersection(uses))\n",
    "profiles_dict3 = {x:c_data3[x].values for x in lprofiles3}\n",
    "\n",
    "gradient_p3, _ = make_prior_by_use(c_data3, xtest, profiles_dict3)\n",
    "xtesti[\"prior_use3\"] = gradient_p3"
   ]
  },
  {
   "cell_type": "code",
   "execution_count": 15,
   "metadata": {
    "editable": true,
    "slideshow": {
     "slide_type": ""
    },
    "tags": [
     "remove-input"
    ]
   },
   "outputs": [
    {
     "data": {
      "text/html": [
       "<style type=\"text/css\">\n",
       "#T_0bafd tr:nth-child(even) {\n",
       "  background-color: rgba(139, 69, 19, 0.08);\n",
       "}\n",
       "#T_0bafd tr:nth-child(odd) {\n",
       "  background: #FFF;\n",
       "}\n",
       "#T_0bafd tr {\n",
       "  font-size: 12px;\n",
       "}\n",
       "#T_0bafd th:nth-child(1) {\n",
       "  background-color: #FFF;\n",
       "  text-align: right;\n",
       "}\n",
       "#T_0bafd caption {\n",
       "  font-size: 14px;\n",
       "  font-style: italic;\n",
       "  caption-side: bottom;\n",
       "  text-align: left;\n",
       "  margin-top: 10px;\n",
       "}\n",
       "</style>\n",
       "<table id=\"T_0bafd\">\n",
       "  <caption>Table 5: The probability of exceeding the 2021 threshold, prior = uninformed.</caption>\n",
       "  <thead>\n",
       "    <tr>\n",
       "      <th class=\"blank level0\" >&nbsp;</th>\n",
       "      <th id=\"T_0bafd_level0_col0\" class=\"col_heading level0 col0\" >Gfrags</th>\n",
       "      <th id=\"T_0bafd_level0_col1\" class=\"col_heading level0 col1\" >G30</th>\n",
       "      <th id=\"T_0bafd_level0_col2\" class=\"col_heading level0 col2\" >G27</th>\n",
       "      <th id=\"T_0bafd_level0_col3\" class=\"col_heading level0 col3\" >Gfoam</th>\n",
       "      <th id=\"T_0bafd_level0_col4\" class=\"col_heading level0 col4\" >G95</th>\n",
       "      <th id=\"T_0bafd_level0_col5\" class=\"col_heading level0 col5\" >Gcaps</th>\n",
       "      <th id=\"T_0bafd_level0_col6\" class=\"col_heading level0 col6\" >G67</th>\n",
       "      <th id=\"T_0bafd_level0_col7\" class=\"col_heading level0 col7\" >G35</th>\n",
       "      <th id=\"T_0bafd_level0_col8\" class=\"col_heading level0 col8\" >G89</th>\n",
       "      <th id=\"T_0bafd_level0_col9\" class=\"col_heading level0 col9\" >G31</th>\n",
       "      <th id=\"T_0bafd_level0_col10\" class=\"col_heading level0 col10\" >G32</th>\n",
       "      <th id=\"T_0bafd_level0_col11\" class=\"col_heading level0 col11\" >G100</th>\n",
       "      <th id=\"T_0bafd_level0_col12\" class=\"col_heading level0 col12\" >G33</th>\n",
       "      <th id=\"T_0bafd_level0_col13\" class=\"col_heading level0 col13\" >G25</th>\n",
       "      <th id=\"T_0bafd_level0_col14\" class=\"col_heading level0 col14\" >G70</th>\n",
       "      <th id=\"T_0bafd_level0_col15\" class=\"col_heading level0 col15\" >G10</th>\n",
       "    </tr>\n",
       "  </thead>\n",
       "  <tbody>\n",
       "    <tr>\n",
       "      <th id=\"T_0bafd_level0_row0\" class=\"row_heading level0 row0\" >2015-2016</th>\n",
       "      <td id=\"T_0bafd_row0_col0\" class=\"data row0 col0\" >0.410000</td>\n",
       "      <td id=\"T_0bafd_row0_col1\" class=\"data row0 col1\" >0.510000</td>\n",
       "      <td id=\"T_0bafd_row0_col2\" class=\"data row0 col2\" >0.700000</td>\n",
       "      <td id=\"T_0bafd_row0_col3\" class=\"data row0 col3\" >0.740000</td>\n",
       "      <td id=\"T_0bafd_row0_col4\" class=\"data row0 col4\" >0.520000</td>\n",
       "      <td id=\"T_0bafd_row0_col5\" class=\"data row0 col5\" >0.670000</td>\n",
       "      <td id=\"T_0bafd_row0_col6\" class=\"data row0 col6\" >0.540000</td>\n",
       "      <td id=\"T_0bafd_row0_col7\" class=\"data row0 col7\" >0.400000</td>\n",
       "      <td id=\"T_0bafd_row0_col8\" class=\"data row0 col8\" >0.350000</td>\n",
       "      <td id=\"T_0bafd_row0_col9\" class=\"data row0 col9\" >0.380000</td>\n",
       "      <td id=\"T_0bafd_row0_col10\" class=\"data row0 col10\" >0.320000</td>\n",
       "      <td id=\"T_0bafd_row0_col11\" class=\"data row0 col11\" >0.350000</td>\n",
       "      <td id=\"T_0bafd_row0_col12\" class=\"data row0 col12\" >0.540000</td>\n",
       "      <td id=\"T_0bafd_row0_col13\" class=\"data row0 col13\" >0.520000</td>\n",
       "      <td id=\"T_0bafd_row0_col14\" class=\"data row0 col14\" >0.700000</td>\n",
       "      <td id=\"T_0bafd_row0_col15\" class=\"data row0 col15\" >0.480000</td>\n",
       "    </tr>\n",
       "    <tr>\n",
       "      <th id=\"T_0bafd_level0_row1\" class=\"row_heading level0 row1\" >2017-2018</th>\n",
       "      <td id=\"T_0bafd_row1_col0\" class=\"data row1 col0\" >0.370000</td>\n",
       "      <td id=\"T_0bafd_row1_col1\" class=\"data row1 col1\" >0.570000</td>\n",
       "      <td id=\"T_0bafd_row1_col2\" class=\"data row1 col2\" >0.520000</td>\n",
       "      <td id=\"T_0bafd_row1_col3\" class=\"data row1 col3\" >0.330000</td>\n",
       "      <td id=\"T_0bafd_row1_col4\" class=\"data row1 col4\" >0.720000</td>\n",
       "      <td id=\"T_0bafd_row1_col5\" class=\"data row1 col5\" >0.570000</td>\n",
       "      <td id=\"T_0bafd_row1_col6\" class=\"data row1 col6\" >0.520000</td>\n",
       "      <td id=\"T_0bafd_row1_col7\" class=\"data row1 col7\" >0.370000</td>\n",
       "      <td id=\"T_0bafd_row1_col8\" class=\"data row1 col8\" >0.170000</td>\n",
       "      <td id=\"T_0bafd_row1_col9\" class=\"data row1 col9\" >0.520000</td>\n",
       "      <td id=\"T_0bafd_row1_col10\" class=\"data row1 col10\" >0.220000</td>\n",
       "      <td id=\"T_0bafd_row1_col11\" class=\"data row1 col11\" >0.460000</td>\n",
       "      <td id=\"T_0bafd_row1_col12\" class=\"data row1 col12\" >0.370000</td>\n",
       "      <td id=\"T_0bafd_row1_col13\" class=\"data row1 col13\" >0.430000</td>\n",
       "      <td id=\"T_0bafd_row1_col14\" class=\"data row1 col14\" >0.170000</td>\n",
       "      <td id=\"T_0bafd_row1_col15\" class=\"data row1 col15\" >0.280000</td>\n",
       "    </tr>\n",
       "    <tr>\n",
       "      <th id=\"T_0bafd_level0_row2\" class=\"row_heading level0 row2\" >2020-2021</th>\n",
       "      <td id=\"T_0bafd_row2_col0\" class=\"data row2 col0\" >0.490000</td>\n",
       "      <td id=\"T_0bafd_row2_col1\" class=\"data row2 col1\" >0.490000</td>\n",
       "      <td id=\"T_0bafd_row2_col2\" class=\"data row2 col2\" >0.470000</td>\n",
       "      <td id=\"T_0bafd_row2_col3\" class=\"data row2 col3\" >0.460000</td>\n",
       "      <td id=\"T_0bafd_row2_col4\" class=\"data row2 col4\" >0.490000</td>\n",
       "      <td id=\"T_0bafd_row2_col5\" class=\"data row2 col5\" >0.470000</td>\n",
       "      <td id=\"T_0bafd_row2_col6\" class=\"data row2 col6\" >0.480000</td>\n",
       "      <td id=\"T_0bafd_row2_col7\" class=\"data row2 col7\" >0.470000</td>\n",
       "      <td id=\"T_0bafd_row2_col8\" class=\"data row2 col8\" >0.470000</td>\n",
       "      <td id=\"T_0bafd_row2_col9\" class=\"data row2 col9\" >0.480000</td>\n",
       "      <td id=\"T_0bafd_row2_col10\" class=\"data row2 col10\" >0.410000</td>\n",
       "      <td id=\"T_0bafd_row2_col11\" class=\"data row2 col11\" >0.440000</td>\n",
       "      <td id=\"T_0bafd_row2_col12\" class=\"data row2 col12\" >0.440000</td>\n",
       "      <td id=\"T_0bafd_row2_col13\" class=\"data row2 col13\" >0.480000</td>\n",
       "      <td id=\"T_0bafd_row2_col14\" class=\"data row2 col14\" >0.490000</td>\n",
       "      <td id=\"T_0bafd_row2_col15\" class=\"data row2 col15\" >0.460000</td>\n",
       "    </tr>\n",
       "  </tbody>\n",
       "</table>\n"
      ],
      "text/plain": [
       "<pandas.io.formats.style.Styler at 0x7f412af93880>"
      ]
     },
     "execution_count": 15,
     "metadata": {},
     "output_type": "execute_result"
    }
   ],
   "source": [
    "uninformeds = [yearone.testwo_post.post_uninformed, yeartwo.testwo_post.post_uninformed, yearthree.testwo_post.post_uninformed]\n",
    "\n",
    "year_index = [\"2015-2016\", \"2017-2018\", \"2020-2021\"]\n",
    "caption = \"Table 5: The probability of exceeding the 2021 threshold, prior = uninformed.\"\n",
    "pd.DataFrame(uninformeds, columns=cois, index=year_index).style.set_caption(caption).set_table_styles(table_css_styles)"
   ]
  },
  {
   "cell_type": "code",
   "execution_count": 16,
   "metadata": {
    "editable": true,
    "slideshow": {
     "slide_type": ""
    },
    "tags": [
     "remove-input"
    ]
   },
   "outputs": [
    {
     "data": {
      "text/html": [
       "<style type=\"text/css\">\n",
       "#T_dc0a3 tr:nth-child(even) {\n",
       "  background-color: rgba(139, 69, 19, 0.08);\n",
       "}\n",
       "#T_dc0a3 tr:nth-child(odd) {\n",
       "  background: #FFF;\n",
       "}\n",
       "#T_dc0a3 tr {\n",
       "  font-size: 12px;\n",
       "}\n",
       "#T_dc0a3 th:nth-child(1) {\n",
       "  background-color: #FFF;\n",
       "  text-align: right;\n",
       "}\n",
       "#T_dc0a3 caption {\n",
       "  font-size: 14px;\n",
       "  font-style: italic;\n",
       "  caption-side: bottom;\n",
       "  text-align: left;\n",
       "  margin-top: 10px;\n",
       "}\n",
       "</style>\n",
       "<table id=\"T_dc0a3\">\n",
       "  <caption>Table 6: The probability of exceeding the 2021 threshold, prior = sequential.</caption>\n",
       "  <thead>\n",
       "    <tr>\n",
       "      <th class=\"blank level0\" >&nbsp;</th>\n",
       "      <th id=\"T_dc0a3_level0_col0\" class=\"col_heading level0 col0\" >Gfrags</th>\n",
       "      <th id=\"T_dc0a3_level0_col1\" class=\"col_heading level0 col1\" >G30</th>\n",
       "      <th id=\"T_dc0a3_level0_col2\" class=\"col_heading level0 col2\" >G27</th>\n",
       "      <th id=\"T_dc0a3_level0_col3\" class=\"col_heading level0 col3\" >Gfoam</th>\n",
       "      <th id=\"T_dc0a3_level0_col4\" class=\"col_heading level0 col4\" >G95</th>\n",
       "      <th id=\"T_dc0a3_level0_col5\" class=\"col_heading level0 col5\" >Gcaps</th>\n",
       "      <th id=\"T_dc0a3_level0_col6\" class=\"col_heading level0 col6\" >G67</th>\n",
       "      <th id=\"T_dc0a3_level0_col7\" class=\"col_heading level0 col7\" >G35</th>\n",
       "      <th id=\"T_dc0a3_level0_col8\" class=\"col_heading level0 col8\" >G89</th>\n",
       "      <th id=\"T_dc0a3_level0_col9\" class=\"col_heading level0 col9\" >G31</th>\n",
       "      <th id=\"T_dc0a3_level0_col10\" class=\"col_heading level0 col10\" >G32</th>\n",
       "      <th id=\"T_dc0a3_level0_col11\" class=\"col_heading level0 col11\" >G100</th>\n",
       "      <th id=\"T_dc0a3_level0_col12\" class=\"col_heading level0 col12\" >G33</th>\n",
       "      <th id=\"T_dc0a3_level0_col13\" class=\"col_heading level0 col13\" >G25</th>\n",
       "      <th id=\"T_dc0a3_level0_col14\" class=\"col_heading level0 col14\" >G70</th>\n",
       "      <th id=\"T_dc0a3_level0_col15\" class=\"col_heading level0 col15\" >G10</th>\n",
       "    </tr>\n",
       "  </thead>\n",
       "  <tbody>\n",
       "    <tr>\n",
       "      <th id=\"T_dc0a3_level0_row0\" class=\"row_heading level0 row0\" >2017-2018</th>\n",
       "      <td id=\"T_dc0a3_row0_col0\" class=\"data row0 col0\" >0.290000</td>\n",
       "      <td id=\"T_dc0a3_row0_col1\" class=\"data row0 col1\" >0.580000</td>\n",
       "      <td id=\"T_dc0a3_row0_col2\" class=\"data row0 col2\" >0.710000</td>\n",
       "      <td id=\"T_dc0a3_row0_col3\" class=\"data row0 col3\" >0.580000</td>\n",
       "      <td id=\"T_dc0a3_row0_col4\" class=\"data row0 col4\" >0.740000</td>\n",
       "      <td id=\"T_dc0a3_row0_col5\" class=\"data row0 col5\" >0.730000</td>\n",
       "      <td id=\"T_dc0a3_row0_col6\" class=\"data row0 col6\" >0.560000</td>\n",
       "      <td id=\"T_dc0a3_row0_col7\" class=\"data row0 col7\" >0.280000</td>\n",
       "      <td id=\"T_dc0a3_row0_col8\" class=\"data row0 col8\" >0.100000</td>\n",
       "      <td id=\"T_dc0a3_row0_col9\" class=\"data row0 col9\" >0.400000</td>\n",
       "      <td id=\"T_dc0a3_row0_col10\" class=\"data row0 col10\" >0.110000</td>\n",
       "      <td id=\"T_dc0a3_row0_col11\" class=\"data row0 col11\" >0.310000</td>\n",
       "      <td id=\"T_dc0a3_row0_col12\" class=\"data row0 col12\" >0.400000</td>\n",
       "      <td id=\"T_dc0a3_row0_col13\" class=\"data row0 col13\" >0.460000</td>\n",
       "      <td id=\"T_dc0a3_row0_col14\" class=\"data row0 col14\" >0.320000</td>\n",
       "      <td id=\"T_dc0a3_row0_col15\" class=\"data row0 col15\" >0.260000</td>\n",
       "    </tr>\n",
       "    <tr>\n",
       "      <th id=\"T_dc0a3_level0_row1\" class=\"row_heading level0 row1\" >2020-2021</th>\n",
       "      <td id=\"T_dc0a3_row1_col0\" class=\"data row1 col0\" >0.290000</td>\n",
       "      <td id=\"T_dc0a3_row1_col1\" class=\"data row1 col1\" >0.570000</td>\n",
       "      <td id=\"T_dc0a3_row1_col2\" class=\"data row1 col2\" >0.690000</td>\n",
       "      <td id=\"T_dc0a3_row1_col3\" class=\"data row1 col3\" >0.550000</td>\n",
       "      <td id=\"T_dc0a3_row1_col4\" class=\"data row1 col4\" >0.730000</td>\n",
       "      <td id=\"T_dc0a3_row1_col5\" class=\"data row1 col5\" >0.700000</td>\n",
       "      <td id=\"T_dc0a3_row1_col6\" class=\"data row1 col6\" >0.540000</td>\n",
       "      <td id=\"T_dc0a3_row1_col7\" class=\"data row1 col7\" >0.260000</td>\n",
       "      <td id=\"T_dc0a3_row1_col8\" class=\"data row1 col8\" >0.090000</td>\n",
       "      <td id=\"T_dc0a3_row1_col9\" class=\"data row1 col9\" >0.380000</td>\n",
       "      <td id=\"T_dc0a3_row1_col10\" class=\"data row1 col10\" >0.080000</td>\n",
       "      <td id=\"T_dc0a3_row1_col11\" class=\"data row1 col11\" >0.270000</td>\n",
       "      <td id=\"T_dc0a3_row1_col12\" class=\"data row1 col12\" >0.350000</td>\n",
       "      <td id=\"T_dc0a3_row1_col13\" class=\"data row1 col13\" >0.440000</td>\n",
       "      <td id=\"T_dc0a3_row1_col14\" class=\"data row1 col14\" >0.320000</td>\n",
       "      <td id=\"T_dc0a3_row1_col15\" class=\"data row1 col15\" >0.240000</td>\n",
       "    </tr>\n",
       "  </tbody>\n",
       "</table>\n"
      ],
      "text/plain": [
       "<pandas.io.formats.style.Styler at 0x7f40b8fe3d00>"
      ]
     },
     "execution_count": 16,
     "metadata": {},
     "output_type": "execute_result"
    }
   ],
   "source": [
    "sequentials = [yeartwo.testwo_post.post_sequential, yearthree.testwo_post.post_sequential]\n",
    "caption = \"Table 6: The probability of exceeding the 2021 threshold, prior = sequential.\"\n",
    "pd.DataFrame(sequentials, columns=cois,index=[\"2017-2018\", \"2020-2021\"]).style.set_caption(caption).set_table_styles(table_css_styles)"
   ]
  },
  {
   "cell_type": "code",
   "execution_count": 17,
   "metadata": {
    "editable": true,
    "slideshow": {
     "slide_type": ""
    },
    "tags": [
     "remove-input"
    ]
   },
   "outputs": [
    {
     "data": {
      "text/html": [
       "<style type=\"text/css\">\n",
       "#T_a4982 tr:nth-child(even) {\n",
       "  background-color: rgba(139, 69, 19, 0.08);\n",
       "}\n",
       "#T_a4982 tr:nth-child(odd) {\n",
       "  background: #FFF;\n",
       "}\n",
       "#T_a4982 tr {\n",
       "  font-size: 12px;\n",
       "}\n",
       "#T_a4982 th:nth-child(1) {\n",
       "  background-color: #FFF;\n",
       "  text-align: right;\n",
       "}\n",
       "#T_a4982 caption {\n",
       "  font-size: 14px;\n",
       "  font-style: italic;\n",
       "  caption-side: bottom;\n",
       "  text-align: left;\n",
       "  margin-top: 10px;\n",
       "}\n",
       "</style>\n",
       "<table id=\"T_a4982\">\n",
       "  <caption>Table 7: The probability of exceeding the 2021 threshold, prior = shared.</caption>\n",
       "  <thead>\n",
       "    <tr>\n",
       "      <th class=\"blank level0\" >&nbsp;</th>\n",
       "      <th id=\"T_a4982_level0_col0\" class=\"col_heading level0 col0\" >Gfrags</th>\n",
       "      <th id=\"T_a4982_level0_col1\" class=\"col_heading level0 col1\" >G30</th>\n",
       "      <th id=\"T_a4982_level0_col2\" class=\"col_heading level0 col2\" >G27</th>\n",
       "      <th id=\"T_a4982_level0_col3\" class=\"col_heading level0 col3\" >Gfoam</th>\n",
       "      <th id=\"T_a4982_level0_col4\" class=\"col_heading level0 col4\" >G95</th>\n",
       "      <th id=\"T_a4982_level0_col5\" class=\"col_heading level0 col5\" >Gcaps</th>\n",
       "      <th id=\"T_a4982_level0_col6\" class=\"col_heading level0 col6\" >G67</th>\n",
       "      <th id=\"T_a4982_level0_col7\" class=\"col_heading level0 col7\" >G35</th>\n",
       "      <th id=\"T_a4982_level0_col8\" class=\"col_heading level0 col8\" >G89</th>\n",
       "      <th id=\"T_a4982_level0_col9\" class=\"col_heading level0 col9\" >G31</th>\n",
       "      <th id=\"T_a4982_level0_col10\" class=\"col_heading level0 col10\" >G32</th>\n",
       "      <th id=\"T_a4982_level0_col11\" class=\"col_heading level0 col11\" >G100</th>\n",
       "      <th id=\"T_a4982_level0_col12\" class=\"col_heading level0 col12\" >G33</th>\n",
       "      <th id=\"T_a4982_level0_col13\" class=\"col_heading level0 col13\" >G25</th>\n",
       "      <th id=\"T_a4982_level0_col14\" class=\"col_heading level0 col14\" >G70</th>\n",
       "      <th id=\"T_a4982_level0_col15\" class=\"col_heading level0 col15\" >G10</th>\n",
       "    </tr>\n",
       "  </thead>\n",
       "  <tbody>\n",
       "    <tr>\n",
       "      <th id=\"T_a4982_level0_row0\" class=\"row_heading level0 row0\" >2017-2018</th>\n",
       "      <td id=\"T_a4982_row0_col0\" class=\"data row0 col0\" >0.290000</td>\n",
       "      <td id=\"T_a4982_row0_col1\" class=\"data row0 col1\" >0.580000</td>\n",
       "      <td id=\"T_a4982_row0_col2\" class=\"data row0 col2\" >0.710000</td>\n",
       "      <td id=\"T_a4982_row0_col3\" class=\"data row0 col3\" >0.580000</td>\n",
       "      <td id=\"T_a4982_row0_col4\" class=\"data row0 col4\" >0.740000</td>\n",
       "      <td id=\"T_a4982_row0_col5\" class=\"data row0 col5\" >0.730000</td>\n",
       "      <td id=\"T_a4982_row0_col6\" class=\"data row0 col6\" >0.560000</td>\n",
       "      <td id=\"T_a4982_row0_col7\" class=\"data row0 col7\" >0.280000</td>\n",
       "      <td id=\"T_a4982_row0_col8\" class=\"data row0 col8\" >0.100000</td>\n",
       "      <td id=\"T_a4982_row0_col9\" class=\"data row0 col9\" >0.400000</td>\n",
       "      <td id=\"T_a4982_row0_col10\" class=\"data row0 col10\" >0.110000</td>\n",
       "      <td id=\"T_a4982_row0_col11\" class=\"data row0 col11\" >0.310000</td>\n",
       "      <td id=\"T_a4982_row0_col12\" class=\"data row0 col12\" >0.400000</td>\n",
       "      <td id=\"T_a4982_row0_col13\" class=\"data row0 col13\" >0.460000</td>\n",
       "      <td id=\"T_a4982_row0_col14\" class=\"data row0 col14\" >0.320000</td>\n",
       "      <td id=\"T_a4982_row0_col15\" class=\"data row0 col15\" >0.260000</td>\n",
       "    </tr>\n",
       "    <tr>\n",
       "      <th id=\"T_a4982_level0_row1\" class=\"row_heading level0 row1\" >2020-2021</th>\n",
       "      <td id=\"T_a4982_row1_col0\" class=\"data row1 col0\" >0.210000</td>\n",
       "      <td id=\"T_a4982_row1_col1\" class=\"data row1 col1\" >0.350000</td>\n",
       "      <td id=\"T_a4982_row1_col2\" class=\"data row1 col2\" >0.430000</td>\n",
       "      <td id=\"T_a4982_row1_col3\" class=\"data row1 col3\" >0.250000</td>\n",
       "      <td id=\"T_a4982_row1_col4\" class=\"data row1 col4\" >0.210000</td>\n",
       "      <td id=\"T_a4982_row1_col5\" class=\"data row1 col5\" >0.350000</td>\n",
       "      <td id=\"T_a4982_row1_col6\" class=\"data row1 col6\" >0.390000</td>\n",
       "      <td id=\"T_a4982_row1_col7\" class=\"data row1 col7\" >0.200000</td>\n",
       "      <td id=\"T_a4982_row1_col8\" class=\"data row1 col8\" >0.140000</td>\n",
       "      <td id=\"T_a4982_row1_col9\" class=\"data row1 col9\" >0.320000</td>\n",
       "      <td id=\"T_a4982_row1_col10\" class=\"data row1 col10\" >0.140000</td>\n",
       "      <td id=\"T_a4982_row1_col11\" class=\"data row1 col11\" >0.160000</td>\n",
       "      <td id=\"T_a4982_row1_col12\" class=\"data row1 col12\" >0.250000</td>\n",
       "      <td id=\"T_a4982_row1_col13\" class=\"data row1 col13\" >0.320000</td>\n",
       "      <td id=\"T_a4982_row1_col14\" class=\"data row1 col14\" >0.180000</td>\n",
       "      <td id=\"T_a4982_row1_col15\" class=\"data row1 col15\" >0.220000</td>\n",
       "    </tr>\n",
       "  </tbody>\n",
       "</table>\n"
      ],
      "text/plain": [
       "<pandas.io.formats.style.Styler at 0x7f40b9038100>"
      ]
     },
     "execution_count": 17,
     "metadata": {},
     "output_type": "execute_result"
    }
   ],
   "source": [
    "informeds = [yeartwo.testwo_post.post_informed, yearthree.testwo_post.post_informed]\n",
    "caption = \"Table 7: The probability of exceeding the 2021 threshold, prior = shared.\"\n",
    "pd.DataFrame(informeds, columns=cois, index=[\"2017-2018\", \"2020-2021\"]).style.set_caption(caption).set_table_styles(table_css_styles)"
   ]
  },
  {
   "cell_type": "code",
   "execution_count": 18,
   "metadata": {
    "editable": true,
    "jupyter": {
     "source_hidden": true
    },
    "scrolled": true,
    "slideshow": {
     "slide_type": ""
    },
    "tags": [
     "remove-input"
    ]
   },
   "outputs": [
    {
     "data": {
      "application/papermill.record/image/png": "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",
      "application/papermill.record/text/plain": "<Figure size 800x800 with 4 Axes>"
     },
     "metadata": {
      "scrapbook": {
       "mime_prefix": "application/papermill.record/",
       "name": "priors_results"
      }
     },
     "output_type": "display_data"
    }
   ],
   "source": [
    "tone_prior =yearone.testwo_post.uninformed[0]\n",
    "ttwo_prior = yeartwo.testwo_post.shared[0]\n",
    "tthree_prior = yearthree.testwo_post.shared[0]\n",
    "\n",
    "tone_prior = tone_prior\n",
    "ttwo_prior = ttwo_prior\n",
    "tthree_prior = tthree_prior\n",
    "\n",
    "hist_data = yearone.testwo.current_data\n",
    "hist_data = hist_data[hist_data.code == code]\n",
    "\n",
    "hist_datatwo = yeartwo.testwo.current_data\n",
    "hist_datatwo = hist_datatwo[hist_datatwo.code == code]\n",
    "\n",
    "hist_datathree = yearthree.testwo.current_data\n",
    "hist_datathree = hist_datathree[hist_datathree.code == code]\n",
    "hist_datathree = hist_datathree[hist_datathree.pcs_m < 11]\n",
    "\n",
    "fig, axs = plt.subplots(2,2, figsize=(8, 8))\n",
    "\n",
    "# sns.scatterplot(data=tone_prior, x=\"qty\", y=\"pr\", ax=ax, color=\"lime\", label=\"yearone prior\")\n",
    "sns.scatterplot(data=tone_prior, x=\"qty\", y=\"post\", ax=axs[0,0], color=\"lime\", label=\"yearone posterior\", marker=\"x\", zorder=10)\n",
    "\n",
    "# sns.scatterplot(data=ttwo_prior, x=\"qty\", y=\"pr\", ax=ax, color=\"magenta\", label=\"yeartwo prior\")\n",
    "sns.scatterplot(data=ttwo_prior, x=\"qty\", y=\"post\", ax=axs[0,1], color=\"magenta\", label=\"yeartwo posterior\", marker=\"x\", zorder=10)\n",
    "\n",
    "# sns.scatterplot(data=tthree_prior, x=\"qty\", y=\"pr\", ax=ax, color=\"dodgerblue\", label=\"yearthree prior\")\n",
    "sns.scatterplot(data=tthree_prior, x=\"qty\", y=\"post\", ax=axs[1,0], color=\"dodgerblue\", label=\"yearthree posterior\", marker=\"x\",  zorder=10)\n",
    "\n",
    "sns.histplot(data=hist_data, x=\"pcs_m\", stat=\"probability\", ax=axs[0,0], bins=10, color=\"darkslategrey\", alpha=.4, label=\"2015-2016 surveys\", zorder=0)\n",
    "sns.histplot(data=hist_datatwo, x=\"pcs_m\", stat=\"probability\", ax=axs[0,1], bins=10, color=\"darkslategrey\",alpha=.4, label=\"2017-2018 surveys\",zorder=0)\n",
    "sns.histplot(data=hist_datathree, x=\"pcs_m\", stat=\"probability\", ax=axs[1,0], bins=10, zorder=0, color=\"darkslategrey\", label=\"2020-2021 surveys\",alpha=0.4)\n",
    "axs[0,0].legend()\n",
    "axs[0,1].legend()\n",
    "axs[1,0].legend()\n",
    "plt.tight_layout()\n",
    "glue(\"priors_results\", fig, display=False)\n",
    "plt.close()"
   ]
  },
  {
   "cell_type": "markdown",
   "metadata": {
    "editable": true,
    "slideshow": {
     "slide_type": ""
    },
    "tags": []
   },
   "source": [
    "```{glue:figure} priors_results\n",
    ":name: \"tbl:df\"\n",
    "\n",
    "Distribution of priors and survey results\n",
    "``` "
   ]
  },
  {
   "cell_type": "markdown",
   "metadata": {
    "editable": true,
    "slideshow": {
     "slide_type": ""
    },
    "tags": []
   },
   "source": [
    "__Distribution of survey results__\n",
    "\n"
   ]
  },
  {
   "cell_type": "code",
   "execution_count": 19,
   "metadata": {
    "editable": true,
    "jupyter": {
     "source_hidden": true
    },
    "slideshow": {
     "slide_type": ""
    },
    "tags": [
     "remove-input"
    ]
   },
   "outputs": [
    {
     "data": {
      "image/png": "[encoded data removed]",
      "text/plain": [
       "<Figure size 800x400 with 1 Axes>"
      ]
     },
     "metadata": {},
     "output_type": "display_data"
    }
   ],
   "source": [
    "# sample totals per code all locations in city\n",
    "\n",
    "city_results = yearthree.testwo.current_data[yearthree.testwo.current_data.city == coi]\n",
    "city_tot = city_results.groupby([\"loc_date\", \"date\"], as_index=False).pcs_m.sum()\n",
    "city_start = city_results.groupby([\"loc_date\", \"date\", \"code\"], as_index=False).pcs_m.sum()\n",
    "\n",
    "fig, ax = plt.subplots(figsize=(8,4))\n",
    "\n",
    "sns.boxplot(data=cstart, x=\"code\", y=\"pcs_m\", showfliers=False,ax=ax, width=.8, dodge=True)\n",
    "\n",
    "sns.scatterplot(data=city_start, x=\"code\", y=\"pcs_m\", ax=ax,s=50, color=\"magenta\", edgecolor=\"white\", label=\"Saint Sulpice\")\n",
    "sns.scatterplot(data=tholds, x=tholds.index, y=tholds, ax=ax, marker=\"v\", s=80, label=\"threshold\")\n",
    "ax.tick_params(rotation=90)\n",
    "ax.set_ylim(-.2, 4.5)\n",
    "ax.set_title(\"Distribution of survey results for each code of interest, 90% interval\", loc=\"left\")\n",
    "\n",
    "plt.show()"
   ]
  },
  {
   "cell_type": "markdown",
   "metadata": {
    "editable": true,
    "slideshow": {
     "slide_type": ""
    },
    "tags": []
   },
   "source": [
    "## Test data: Samples after May 2021"
   ]
  },
  {
   "cell_type": "code",
   "execution_count": 20,
   "metadata": {
    "editable": true,
    "jupyter": {
     "source_hidden": true
    },
    "slideshow": {
     "slide_type": ""
    },
    "tags": [
     "remove-input"
    ]
   },
   "outputs": [],
   "source": [
    "def is_in_range(x, arange):\n",
    "    acount = 0\n",
    "    lows = 0\n",
    "    highs = 0\n",
    "    \n",
    "    if isinstance(x, float):    \n",
    "        gthan = x >= arange[1]\n",
    "        lthan = x <= arange[2]\n",
    "        if gthan and lthan:\n",
    "            ontarget = True\n",
    "            dif = 0\n",
    "            acount += 1\n",
    "        elif not gthan:\n",
    "            ontarget = \"high\"\n",
    "            dif = arange[1] - x\n",
    "            highs += 1\n",
    "            \n",
    "        elif not lthan:\n",
    "            ontarget = \"low\"\n",
    "            dif = arange[2] - x\n",
    "            lows += 1\n",
    "    else:\n",
    "        ontarget = \"No data\"\n",
    "        dif = None\n",
    "    \n",
    "    return arange[0], ontarget, dif, acount, highs, lows\n",
    "\n",
    "\n",
    "lake_after_may = all_data[(all_data.date > slr_e) & (all_data.water_name_slug == 'lac-leman')]\n",
    "after_may_location = lake_after_may.location.unique()\n",
    "l_a_m = lake_after_may[lake_after_may.code.isin(cois)]\n",
    "l_a_mx = l_a_m[l_a_m.location.isin(['plage-de-st-sulpice', 'tiger_duck_beach'])]\n",
    "lam = l_a_mx.groupby(\"code\", as_index=False).pcs_m.mean()\n",
    "lm = pd.DataFrame(data=lam.pcs_m.values, index=lam.code).T\n",
    "# xlmc = lm[cois]\n",
    "# xlmcv = xlmc.values[0]\n",
    "# xlmc"
   ]
  },
  {
   "cell_type": "markdown",
   "metadata": {
    "editable": true,
    "slideshow": {
     "slide_type": ""
    },
    "tags": []
   },
   "source": [
    "### Plastock\n",
    "\n",
    "The mean of the 2022 survey results falls in the predicted range of the 2021 posterior distribution for 13/16 of the codes of interest, table 8. Note that if we had to generalize the expected amount from 2021 was greater than the observed amount in 2022. The number of high predictions _phigh_ exceeds the the number of low predictions _plow_  for all codes except _Gfrags_."
   ]
  },
  {
   "cell_type": "markdown",
   "metadata": {
    "editable": true,
    "slideshow": {
     "slide_type": ""
    },
    "tags": []
   },
   "source": [
    "#### Expected values and predictions plastock"
   ]
  },
  {
   "cell_type": "code",
   "execution_count": 21,
   "metadata": {
    "editable": true,
    "slideshow": {
     "slide_type": ""
    },
    "tags": [
     "hide-input"
    ]
   },
   "outputs": [
    {
     "data": {
      "text/html": [
       "<style type=\"text/css\">\n",
       "#T_97e88 tr:nth-child(even) {\n",
       "  background-color: rgba(139, 69, 19, 0.08);\n",
       "}\n",
       "#T_97e88 tr:nth-child(odd) {\n",
       "  background: #FFF;\n",
       "}\n",
       "#T_97e88 tr {\n",
       "  font-size: 12px;\n",
       "}\n",
       "#T_97e88 th:nth-child(1) {\n",
       "  background-color: #FFF;\n",
       "  text-align: right;\n",
       "}\n",
       "#T_97e88 caption {\n",
       "  font-size: 14px;\n",
       "  font-style: italic;\n",
       "  caption-side: bottom;\n",
       "  text-align: left;\n",
       "  margin-top: 10px;\n",
       "}\n",
       "</style>\n",
       "<table id=\"T_97e88\">\n",
       "  <caption>Table 8: The expected distribution of survey results. The observed mean of 2022 compared to the posterior distribution from 2015 - 2021</caption>\n",
       "  <thead>\n",
       "    <tr>\n",
       "      <th class=\"blank level0\" >&nbsp;</th>\n",
       "      <th id=\"T_97e88_level0_col0\" class=\"col_heading level0 col0\" >object</th>\n",
       "      <th id=\"T_97e88_level0_col1\" class=\"col_heading level0 col1\" >rlow</th>\n",
       "      <th id=\"T_97e88_level0_col2\" class=\"col_heading level0 col2\" >rhigh</th>\n",
       "      <th id=\"T_97e88_level0_col3\" class=\"col_heading level0 col3\" >o-mean</th>\n",
       "      <th id=\"T_97e88_level0_col4\" class=\"col_heading level0 col4\" >in range</th>\n",
       "      <th id=\"T_97e88_level0_col5\" class=\"col_heading level0 col5\" >plow</th>\n",
       "      <th id=\"T_97e88_level0_col6\" class=\"col_heading level0 col6\" >phigh</th>\n",
       "      <th id=\"T_97e88_level0_col7\" class=\"col_heading level0 col7\" >o mean in range</th>\n",
       "    </tr>\n",
       "  </thead>\n",
       "  <tbody>\n",
       "    <tr>\n",
       "      <th id=\"T_97e88_level0_row0\" class=\"row_heading level0 row0\" >Gfrags</th>\n",
       "      <td id=\"T_97e88_row0_col0\" class=\"data row0 col0\" >Fragmented plastics</td>\n",
       "      <td id=\"T_97e88_row0_col1\" class=\"data row0 col1\" >0.060000</td>\n",
       "      <td id=\"T_97e88_row0_col2\" class=\"data row0 col2\" >1.580000</td>\n",
       "      <td id=\"T_97e88_row0_col3\" class=\"data row0 col3\" >1.410000</td>\n",
       "      <td id=\"T_97e88_row0_col4\" class=\"data row0 col4\" >16</td>\n",
       "      <td id=\"T_97e88_row0_col5\" class=\"data row0 col5\" >9</td>\n",
       "      <td id=\"T_97e88_row0_col6\" class=\"data row0 col6\" >0</td>\n",
       "      <td id=\"T_97e88_row0_col7\" class=\"data row0 col7\" >True</td>\n",
       "    </tr>\n",
       "    <tr>\n",
       "      <th id=\"T_97e88_level0_row1\" class=\"row_heading level0 row1\" >G30</th>\n",
       "      <td id=\"T_97e88_row1_col0\" class=\"data row1 col0\" >Food wrappers; candy, snacks</td>\n",
       "      <td id=\"T_97e88_row1_col1\" class=\"data row1 col1\" >0.050000</td>\n",
       "      <td id=\"T_97e88_row1_col2\" class=\"data row1 col2\" >0.620000</td>\n",
       "      <td id=\"T_97e88_row1_col3\" class=\"data row1 col3\" >0.280000</td>\n",
       "      <td id=\"T_97e88_row1_col4\" class=\"data row1 col4\" >20</td>\n",
       "      <td id=\"T_97e88_row1_col5\" class=\"data row1 col5\" >1</td>\n",
       "      <td id=\"T_97e88_row1_col6\" class=\"data row1 col6\" >4</td>\n",
       "      <td id=\"T_97e88_row1_col7\" class=\"data row1 col7\" >True</td>\n",
       "    </tr>\n",
       "    <tr>\n",
       "      <th id=\"T_97e88_level0_row2\" class=\"row_heading level0 row2\" >G27</th>\n",
       "      <td id=\"T_97e88_row2_col0\" class=\"data row2 col0\" >Cigarette filters</td>\n",
       "      <td id=\"T_97e88_row2_col1\" class=\"data row2 col1\" >0.060000</td>\n",
       "      <td id=\"T_97e88_row2_col2\" class=\"data row2 col2\" >1.480000</td>\n",
       "      <td id=\"T_97e88_row2_col3\" class=\"data row2 col3\" >0.430000</td>\n",
       "      <td id=\"T_97e88_row2_col4\" class=\"data row2 col4\" >19</td>\n",
       "      <td id=\"T_97e88_row2_col5\" class=\"data row2 col5\" >2</td>\n",
       "      <td id=\"T_97e88_row2_col6\" class=\"data row2 col6\" >4</td>\n",
       "      <td id=\"T_97e88_row2_col7\" class=\"data row2 col7\" >True</td>\n",
       "    </tr>\n",
       "    <tr>\n",
       "      <th id=\"T_97e88_level0_row3\" class=\"row_heading level0 row3\" >Gfoam</th>\n",
       "      <td id=\"T_97e88_row3_col0\" class=\"data row3 col0\" >Expanded polystyrene</td>\n",
       "      <td id=\"T_97e88_row3_col1\" class=\"data row3 col1\" >0.010000</td>\n",
       "      <td id=\"T_97e88_row3_col2\" class=\"data row3 col2\" >1.160000</td>\n",
       "      <td id=\"T_97e88_row3_col3\" class=\"data row3 col3\" >0.210000</td>\n",
       "      <td id=\"T_97e88_row3_col4\" class=\"data row3 col4\" >20</td>\n",
       "      <td id=\"T_97e88_row3_col5\" class=\"data row3 col5\" >1</td>\n",
       "      <td id=\"T_97e88_row3_col6\" class=\"data row3 col6\" >4</td>\n",
       "      <td id=\"T_97e88_row3_col7\" class=\"data row3 col7\" >True</td>\n",
       "    </tr>\n",
       "    <tr>\n",
       "      <th id=\"T_97e88_level0_row4\" class=\"row_heading level0 row4\" >G95</th>\n",
       "      <td id=\"T_97e88_row4_col0\" class=\"data row4 col0\" >Cotton bud/swab sticks</td>\n",
       "      <td id=\"T_97e88_row4_col1\" class=\"data row4 col1\" >0.010000</td>\n",
       "      <td id=\"T_97e88_row4_col2\" class=\"data row4 col2\" >0.520000</td>\n",
       "      <td id=\"T_97e88_row4_col3\" class=\"data row4 col3\" >0.150000</td>\n",
       "      <td id=\"T_97e88_row4_col4\" class=\"data row4 col4\" >16</td>\n",
       "      <td id=\"T_97e88_row4_col5\" class=\"data row4 col5\" >2</td>\n",
       "      <td id=\"T_97e88_row4_col6\" class=\"data row4 col6\" >7</td>\n",
       "      <td id=\"T_97e88_row4_col7\" class=\"data row4 col7\" >True</td>\n",
       "    </tr>\n",
       "    <tr>\n",
       "      <th id=\"T_97e88_level0_row5\" class=\"row_heading level0 row5\" >Gcaps</th>\n",
       "      <td id=\"T_97e88_row5_col0\" class=\"data row5 col0\" >Plastic bottle lids</td>\n",
       "      <td id=\"T_97e88_row5_col1\" class=\"data row5 col1\" >0.010000</td>\n",
       "      <td id=\"T_97e88_row5_col2\" class=\"data row5 col2\" >0.420000</td>\n",
       "      <td id=\"T_97e88_row5_col3\" class=\"data row5 col3\" >0.140000</td>\n",
       "      <td id=\"T_97e88_row5_col4\" class=\"data row5 col4\" >18</td>\n",
       "      <td id=\"T_97e88_row5_col5\" class=\"data row5 col5\" >1</td>\n",
       "      <td id=\"T_97e88_row5_col6\" class=\"data row5 col6\" >6</td>\n",
       "      <td id=\"T_97e88_row5_col7\" class=\"data row5 col7\" >True</td>\n",
       "    </tr>\n",
       "    <tr>\n",
       "      <th id=\"T_97e88_level0_row6\" class=\"row_heading level0 row6\" >G67</th>\n",
       "      <td id=\"T_97e88_row6_col0\" class=\"data row6 col0\" >Industrial sheeting</td>\n",
       "      <td id=\"T_97e88_row6_col1\" class=\"data row6 col1\" >0.010000</td>\n",
       "      <td id=\"T_97e88_row6_col2\" class=\"data row6 col2\" >0.500000</td>\n",
       "      <td id=\"T_97e88_row6_col3\" class=\"data row6 col3\" >0.020000</td>\n",
       "      <td id=\"T_97e88_row6_col4\" class=\"data row6 col4\" >4</td>\n",
       "      <td id=\"T_97e88_row6_col5\" class=\"data row6 col5\" >0</td>\n",
       "      <td id=\"T_97e88_row6_col6\" class=\"data row6 col6\" >21</td>\n",
       "      <td id=\"T_97e88_row6_col7\" class=\"data row6 col7\" >True</td>\n",
       "    </tr>\n",
       "    <tr>\n",
       "      <th id=\"T_97e88_level0_row7\" class=\"row_heading level0 row7\" >G35</th>\n",
       "      <td id=\"T_97e88_row7_col0\" class=\"data row7 col0\" >Straws and stirrers</td>\n",
       "      <td id=\"T_97e88_row7_col1\" class=\"data row7 col1\" >0.010000</td>\n",
       "      <td id=\"T_97e88_row7_col2\" class=\"data row7 col2\" >0.120000</td>\n",
       "      <td id=\"T_97e88_row7_col3\" class=\"data row7 col3\" >0.020000</td>\n",
       "      <td id=\"T_97e88_row7_col4\" class=\"data row7 col4\" >15</td>\n",
       "      <td id=\"T_97e88_row7_col5\" class=\"data row7 col5\" >1</td>\n",
       "      <td id=\"T_97e88_row7_col6\" class=\"data row7 col6\" >9</td>\n",
       "      <td id=\"T_97e88_row7_col7\" class=\"data row7 col7\" >True</td>\n",
       "    </tr>\n",
       "    <tr>\n",
       "      <th id=\"T_97e88_level0_row8\" class=\"row_heading level0 row8\" >G89</th>\n",
       "      <td id=\"T_97e88_row8_col0\" class=\"data row8 col0\" >Plastic construction waste</td>\n",
       "      <td id=\"T_97e88_row8_col1\" class=\"data row8 col1\" >0.010000</td>\n",
       "      <td id=\"T_97e88_row8_col2\" class=\"data row8 col2\" >0.200000</td>\n",
       "      <td id=\"T_97e88_row8_col3\" class=\"data row8 col3\" >0.050000</td>\n",
       "      <td id=\"T_97e88_row8_col4\" class=\"data row8 col4\" >12</td>\n",
       "      <td id=\"T_97e88_row8_col5\" class=\"data row8 col5\" >2</td>\n",
       "      <td id=\"T_97e88_row8_col6\" class=\"data row8 col6\" >11</td>\n",
       "      <td id=\"T_97e88_row8_col7\" class=\"data row8 col7\" >True</td>\n",
       "    </tr>\n",
       "    <tr>\n",
       "      <th id=\"T_97e88_level0_row9\" class=\"row_heading level0 row9\" >G31</th>\n",
       "      <td id=\"T_97e88_row9_col0\" class=\"data row9 col0\" >Lollypop sticks</td>\n",
       "      <td id=\"T_97e88_row9_col1\" class=\"data row9 col1\" >0.010000</td>\n",
       "      <td id=\"T_97e88_row9_col2\" class=\"data row9 col2\" >0.120000</td>\n",
       "      <td id=\"T_97e88_row9_col3\" class=\"data row9 col3\" >0.050000</td>\n",
       "      <td id=\"T_97e88_row9_col4\" class=\"data row9 col4\" >17</td>\n",
       "      <td id=\"T_97e88_row9_col5\" class=\"data row9 col5\" >2</td>\n",
       "      <td id=\"T_97e88_row9_col6\" class=\"data row9 col6\" >6</td>\n",
       "      <td id=\"T_97e88_row9_col7\" class=\"data row9 col7\" >True</td>\n",
       "    </tr>\n",
       "    <tr>\n",
       "      <th id=\"T_97e88_level0_row10\" class=\"row_heading level0 row10\" >G32</th>\n",
       "      <td id=\"T_97e88_row10_col0\" class=\"data row10 col0\" >Toys and party favors</td>\n",
       "      <td id=\"T_97e88_row10_col1\" class=\"data row10 col1\" >0.010000</td>\n",
       "      <td id=\"T_97e88_row10_col2\" class=\"data row10 col2\" >0.080000</td>\n",
       "      <td id=\"T_97e88_row10_col3\" class=\"data row10 col3\" >0.010000</td>\n",
       "      <td id=\"T_97e88_row10_col4\" class=\"data row10 col4\" >8</td>\n",
       "      <td id=\"T_97e88_row10_col5\" class=\"data row10 col5\" >0</td>\n",
       "      <td id=\"T_97e88_row10_col6\" class=\"data row10 col6\" >17</td>\n",
       "      <td id=\"T_97e88_row10_col7\" class=\"data row10 col7\" >True</td>\n",
       "    </tr>\n",
       "    <tr>\n",
       "      <th id=\"T_97e88_level0_row11\" class=\"row_heading level0 row11\" >G100</th>\n",
       "      <td id=\"T_97e88_row11_col0\" class=\"data row11 col0\" >Medical; containers/tubes/ packaging</td>\n",
       "      <td id=\"T_97e88_row11_col1\" class=\"data row11 col1\" >0.010000</td>\n",
       "      <td id=\"T_97e88_row11_col2\" class=\"data row11 col2\" >0.080000</td>\n",
       "      <td id=\"T_97e88_row11_col3\" class=\"data row11 col3\" >0.000000</td>\n",
       "      <td id=\"T_97e88_row11_col4\" class=\"data row11 col4\" >4</td>\n",
       "      <td id=\"T_97e88_row11_col5\" class=\"data row11 col5\" >0</td>\n",
       "      <td id=\"T_97e88_row11_col6\" class=\"data row11 col6\" >21</td>\n",
       "      <td id=\"T_97e88_row11_col7\" class=\"data row11 col7\" >False</td>\n",
       "    </tr>\n",
       "    <tr>\n",
       "      <th id=\"T_97e88_level0_row12\" class=\"row_heading level0 row12\" >G33</th>\n",
       "      <td id=\"T_97e88_row12_col0\" class=\"data row12 col0\" >Cups, lids, single use foamed and hard plastic</td>\n",
       "      <td id=\"T_97e88_row12_col1\" class=\"data row12 col1\" >0.010000</td>\n",
       "      <td id=\"T_97e88_row12_col2\" class=\"data row12 col2\" >0.080000</td>\n",
       "      <td id=\"T_97e88_row12_col3\" class=\"data row12 col3\" >0.010000</td>\n",
       "      <td id=\"T_97e88_row12_col4\" class=\"data row12 col4\" >5</td>\n",
       "      <td id=\"T_97e88_row12_col5\" class=\"data row12 col5\" >0</td>\n",
       "      <td id=\"T_97e88_row12_col6\" class=\"data row12 col6\" >20</td>\n",
       "      <td id=\"T_97e88_row12_col7\" class=\"data row12 col7\" >True</td>\n",
       "    </tr>\n",
       "    <tr>\n",
       "      <th id=\"T_97e88_level0_row13\" class=\"row_heading level0 row13\" >G25</th>\n",
       "      <td id=\"T_97e88_row13_col0\" class=\"data row13 col0\" >Tobacco; plastic packaging, containers</td>\n",
       "      <td id=\"T_97e88_row13_col1\" class=\"data row13 col1\" >0.010000</td>\n",
       "      <td id=\"T_97e88_row13_col2\" class=\"data row13 col2\" >0.130000</td>\n",
       "      <td id=\"T_97e88_row13_col3\" class=\"data row13 col3\" >0.000000</td>\n",
       "      <td id=\"T_97e88_row13_col4\" class=\"data row13 col4\" >2</td>\n",
       "      <td id=\"T_97e88_row13_col5\" class=\"data row13 col5\" >0</td>\n",
       "      <td id=\"T_97e88_row13_col6\" class=\"data row13 col6\" >23</td>\n",
       "      <td id=\"T_97e88_row13_col7\" class=\"data row13 col7\" >False</td>\n",
       "    </tr>\n",
       "    <tr>\n",
       "      <th id=\"T_97e88_level0_row14\" class=\"row_heading level0 row14\" >G70</th>\n",
       "      <td id=\"T_97e88_row14_col0\" class=\"data row14 col0\" >Shotgun cartridges</td>\n",
       "      <td id=\"T_97e88_row14_col1\" class=\"data row14 col1\" >0.010000</td>\n",
       "      <td id=\"T_97e88_row14_col2\" class=\"data row14 col2\" >0.080000</td>\n",
       "      <td id=\"T_97e88_row14_col3\" class=\"data row14 col3\" >0.020000</td>\n",
       "      <td id=\"T_97e88_row14_col4\" class=\"data row14 col4\" >11</td>\n",
       "      <td id=\"T_97e88_row14_col5\" class=\"data row14 col5\" >2</td>\n",
       "      <td id=\"T_97e88_row14_col6\" class=\"data row14 col6\" >12</td>\n",
       "      <td id=\"T_97e88_row14_col7\" class=\"data row14 col7\" >True</td>\n",
       "    </tr>\n",
       "    <tr>\n",
       "      <th id=\"T_97e88_level0_row15\" class=\"row_heading level0 row15\" >G10</th>\n",
       "      <td id=\"T_97e88_row15_col0\" class=\"data row15 col0\" >Food containers single use foamed or plastic</td>\n",
       "      <td id=\"T_97e88_row15_col1\" class=\"data row15 col1\" >0.010000</td>\n",
       "      <td id=\"T_97e88_row15_col2\" class=\"data row15 col2\" >0.070000</td>\n",
       "      <td id=\"T_97e88_row15_col3\" class=\"data row15 col3\" >0.000000</td>\n",
       "      <td id=\"T_97e88_row15_col4\" class=\"data row15 col4\" >3</td>\n",
       "      <td id=\"T_97e88_row15_col5\" class=\"data row15 col5\" >0</td>\n",
       "      <td id=\"T_97e88_row15_col6\" class=\"data row15 col6\" >22</td>\n",
       "      <td id=\"T_97e88_row15_col7\" class=\"data row15 col7\" >False</td>\n",
       "    </tr>\n",
       "  </tbody>\n",
       "</table>\n"
      ],
      "text/plain": [
       "<pandas.io.formats.style.Styler at 0x7f40b8ed75b0>"
      ]
     },
     "execution_count": 21,
     "metadata": {},
     "output_type": "execute_result"
    }
   ],
   "source": [
    "plastock = pd.read_csv(\"resources/pstock_2022.csv\")\n",
    "plastock[\"loc_date\"] = list(zip(plastock.location, plastock.date))\n",
    "pstock = plastock[plastock.code.isin(cois)].copy()\n",
    "pstock = pstock.groupby([\"loc_date\", \"location\", \"date\", \"code\"], as_index=False)[\"pcs/m\"].sum()\n",
    "pstock = pstock.groupby([\"location\", \"code\"], as_index=False)[\"pcs/m\"].mean()\n",
    "\n",
    "t3 = an_array_of_posterior_probabilities(yearthree.testwo.current_data, yearthree.testwo.prior_data, cois, xrange)\n",
    "a_p_for_index = t3\n",
    "\n",
    "t = [x.loc[(x.post >= .03) & (x.post <= .97)].qty for i, x in enumerate(a_p_for_index)]\n",
    "tr = [(cois[i], round(x.min(), 2),  round(x.max(), 2)) for i,x in enumerate(t)]\n",
    "\n",
    "pst = [np.round(pstock[pstock.code == x][\"pcs/m\"].values, 2) for x in cois]\n",
    "\n",
    "n = 0\n",
    "inn = 0\n",
    "ress = []\n",
    "for i,x in enumerate(pst):\n",
    "    tested = [is_in_range(j, tr[i]) for j in x]\n",
    "    # print(\"\\nDid the observed results fall within the predicted range?\")\n",
    "    in_range = sum([k[3] for k in tested])\n",
    "    arange = len(tested)\n",
    "    n += arange\n",
    "    inn += in_range\n",
    "    highs = sum([x[4] for x in tested])\n",
    "    lows = sum([x[5] for x in tested])\n",
    "    arow = {\"code\":tr[i][0],\"rlow\":tr[i][1], \"rhigh\":tr[i][2], \"o-mean\":round(np.mean(x), 2), \"in range\":in_range, \"plow\":lows, \"phigh\":highs}\n",
    "    ress.append(arow)\n",
    "    # print(f\"96% probability range = {tr[i]}\")\n",
    "    # print(f\"In range: {in_range}, out of: {arange} or {round(in_range/arange, 2)}\\n\")\n",
    "    # print(f\"Estmiated high: {highs}, Estimated low: {lows}\")\n",
    "    # print(n, inn)\n",
    "\n",
    "rest = pd.DataFrame(ress)\n",
    "rest[\"o mean in range\"] = (rest[\"o-mean\"] >= rest.rlow) & (rest[\"o-mean\"] <= rest.rhigh)\n",
    "rest[\"object\"] = rest.code.apply(lambda x: code_d.loc[x])\n",
    "rest = rest[[\"object\", *rest.columns[:-1]]]\n",
    "rest.set_index(\"code\", inplace=True, drop=True)\n",
    "rest.index.name = None\n",
    "caption = \"Table 8: The expected distribution of survey results. The observed mean of 2022 compared to the posterior distribution from 2015 - 2021\"\n",
    "\n",
    "rest.style.set_caption(caption).set_table_styles(table_css_styles)"
   ]
  },
  {
   "cell_type": "code",
   "execution_count": 22,
   "metadata": {
    "editable": true,
    "slideshow": {
     "slide_type": ""
    },
    "tags": []
   },
   "outputs": [
    {
     "name": "stdout",
     "output_type": "stream",
     "text": [
      "Percent within predicted range: 0.81\n"
     ]
    }
   ],
   "source": [
    "good_p = rest[\"o mean in range\"].sum()\n",
    "rate_goodp = good_p/len(rest)\n",
    "\n",
    "print(f\"Percent within predicted range: {np.round(rate_goodp, 2)}\")"
   ]
  },
  {
   "cell_type": "markdown",
   "metadata": {
    "editable": true,
    "slideshow": {
     "slide_type": ""
    },
    "tags": []
   },
   "source": [
    "<!-- #### The probability of the observed results at Saint Sulpice given the informed posterior from lake\n",
    "\n",
    "The observed results +/- .1. See table 12 for probability of the event at the lake. -->"
   ]
  },
  {
   "cell_type": "code",
   "execution_count": 23,
   "metadata": {
    "editable": true,
    "slideshow": {
     "slide_type": ""
    },
    "tags": [
     "remove-input"
    ]
   },
   "outputs": [],
   "source": [
    "# # the probability of the result after may 2021\n",
    "# h = [x.loc[(x.qty >= xlmcv[i] - .1)&(x.qty <= xlmcv[i] + .1)] for i, x in enumerate(xq3)]\n",
    "# hg = [(cois[i],np.round(x.post.min(), 2), np.round(x.post.max(), 2)) for i, x in enumerate(h)]\n",
    "\n",
    "# # the expected range magnitude with a 96% probability\n",
    "# t = [x.loc[(x.post >= .03) & (x.post <= .97)].qty for i, x in enumerate(xq3)]\n",
    "# tr = [(cois[i], round(x.min(), 2),  round(x.max(), 2)) for i,x in enumerate(t)]\n",
    "\n",
    "# tested = [is_in_range(xlmcv[i], x) for i, x in enumerate(tr)]\n",
    "# print(\"\\nDid the observed results fall within the predicted range?\")\n",
    "# in_range = sum([x[3] for x in tested])\n",
    "# arange = len(tested)\n",
    "# highs = sum([x[4] for x in tested])\n",
    "# lows = sum([x[5] for x in tested])\n",
    "# print(f\"In range: {in_range}, out of: {arange}\\n\")\n",
    "# print(f\"Estmiated high: {highs}, Estimated low: {lows}\")"
   ]
  },
  {
   "cell_type": "markdown",
   "metadata": {
    "editable": true,
    "slideshow": {
     "slide_type": ""
    },
    "tags": []
   },
   "source": [
    "<!-- #### The probability of the observed results at Saint Sulpice given the informed posterior from Saint Sulpice\n",
    "\n",
    "The observed results +/- .1. See table 14 for the probability of the event at Saint Sulpice. -->"
   ]
  },
  {
   "cell_type": "code",
   "execution_count": 24,
   "metadata": {
    "editable": true,
    "jupyter": {
     "source_hidden": true
    },
    "slideshow": {
     "slide_type": ""
    },
    "tags": [
     "remove-input"
    ]
   },
   "outputs": [],
   "source": [
    "# # saint sulpice\n",
    "# # the probability of the result after may 2021\n",
    "# h = [x.loc[(x.qty >= xlmcv[i] - .1) & (x.qty <= xlmcv[i] + .1)].post for i, x in enumerate(xt3)]\n",
    "# # [(cois[i], round(x.min(), 2), round(x.max(), 2)) for i, x in enumerate(h)]\n",
    "\n",
    "# # the expected magnitude with probability between .3 and .6\n",
    "# a_p_for_index = xt3\n",
    "# t = [x.loc[(x.post >= .03) & (x.post <= .97)].qty for i, x in enumerate(a_p_for_index)]\n",
    "# tr = [(cois[i], round(x.min(), 2),  round(x.max(), 2)) for i,x in enumerate(t)]\n",
    "\n",
    "\n",
    "# # pstk_gfrags = pstock[pstock.code == \"Gfrags\"].copy()\n",
    "# # pstk_res = pstk_gfrags[\"pcs/m\"].values\n",
    "\n",
    "# tested = [is_in_range(xlmcv[i], x) for i, x in enumerate(tr)]\n",
    "# print(\"\\nDid the observed results fall within the predicted range?\")\n",
    "# in_range = sum([x[3] for x in tested])\n",
    "# arange = len(tested)\n",
    "# highs = sum([x[4] for x in tested])\n",
    "# lows = sum([x[5] for x in tested])\n",
    "# # print(f\"96% probability range = {tr[0]}\")\n",
    "# print(f\"In range: {in_range}, out of: {arange} or {round(in_range/arange, 2)}\\n\")\n",
    "# print(f\"Estmiated high: {highs}, Estimated low: {lows}\")"
   ]
  },
  {
   "cell_type": "code",
   "execution_count": 25,
   "metadata": {
    "editable": true,
    "slideshow": {
     "slide_type": ""
    },
    "tags": [
     "remove-input"
    ]
   },
   "outputs": [],
   "source": [
    "# plastock = pd.read_csv(\"resources/pstock_2022.csv\")\n",
    "# plastock[\"loc_date\"] = list(zip(plastock.location, plastock.date))\n",
    "# pstock = plastock[plastock.code.isin(cois)].copy()\n",
    "# pstock = pstock.groupby([\"loc_date\", \"location\", \"date\", \"code\"], as_index=False)[\"pcs/m\"].sum()\n",
    "# pstock = pstock.groupby([\"location\", \"code\"], as_index=False)[\"pcs/m\"].mean()"
   ]
  },
  {
   "cell_type": "code",
   "execution_count": 26,
   "metadata": {
    "editable": true,
    "slideshow": {
     "slide_type": ""
    },
    "tags": [
     "remove-input"
    ]
   },
   "outputs": [],
   "source": [
    "# a_p_for_index = yearthree.testwo_post.shared\n",
    "# t = [x.loc[(x.post >= .03) & (x.post <= .97)].qty for i, x in enumerate(a_p_for_index)]\n",
    "# tr = [(cois[i], round(x.min(), 2),  round(x.max(), 2)) for i,x in enumerate(t)]\n",
    "\n",
    "# pstk_gfrags = pstock[pstock.code == \"Gfrags\"].copy()\n",
    "# pstk_res = pstk_gfrags[\"pcs/m\"].values\n",
    "\n",
    "# tested = [is_in_range(x, tr[0]) for x in pstk_res]\n",
    "\n",
    "# print(\"\\nDid the observed results fall within the predicted range?\")\n",
    "# in_range = sum([x[3] for x in tested])\n",
    "# arange = len(tested)\n",
    "# highs = sum([x[4] for x in tested])\n",
    "# lows = sum([x[5] for x in tested])\n",
    "# print(f\"96% probability range = {tr[0]}\")\n",
    "# print(f\"In range: {in_range}, out of: {arange} or {round(in_range/arange, 2)}\\n\")\n",
    "# print(f\"Estmiated high: {highs}, Estimated low: {lows}\")"
   ]
  },
  {
   "cell_type": "code",
   "execution_count": 27,
   "metadata": {
    "editable": true,
    "slideshow": {
     "slide_type": ""
    },
    "tags": [
     "remove-input"
    ]
   },
   "outputs": [],
   "source": [
    "# d = a_p_for_index[0]\n",
    "# d[\"1-p\"] = 1- d.post\n",
    "\n",
    "# fig, ax = plt.subplots()\n",
    "\n",
    "# sns.ecdfplot(pstk_res, ax=ax, label=\"observed 2022\")\n",
    "# sns.scatterplot(data=d, x=\"qty\", y=\"1-p\", ax=ax, color=\"magenta\", label=\"informed posterior 2021\")\n",
    "# ax.set_xlim(0, pstk_res.max())\n",
    "# ax.set_title(cois[0], loc=\"left\")\n",
    "\n",
    "# plt.show()"
   ]
  },
  {
   "cell_type": "markdown",
   "metadata": {
    "editable": true,
    "slideshow": {
     "slide_type": ""
    },
    "tags": []
   },
   "source": [
    "#### Mix of objects, % of total"
   ]
  },
  {
   "cell_type": "code",
   "execution_count": 28,
   "metadata": {
    "editable": true,
    "jupyter": {
     "source_hidden": true
    },
    "slideshow": {
     "slide_type": ""
    },
    "tags": [
     "hide-input"
    ]
   },
   "outputs": [
    {
     "data": {
      "text/html": [
       "<div>\n",
       "<style scoped>\n",
       "    .dataframe tbody tr th:only-of-type {\n",
       "        vertical-align: middle;\n",
       "    }\n",
       "\n",
       "    .dataframe tbody tr th {\n",
       "        vertical-align: top;\n",
       "    }\n",
       "\n",
       "    .dataframe thead th {\n",
       "        text-align: right;\n",
       "    }\n",
       "</style>\n",
       "<table border=\"1\" class=\"dataframe\">\n",
       "  <thead>\n",
       "    <tr style=\"text-align: right;\">\n",
       "      <th></th>\n",
       "      <th>plastock %</th>\n",
       "      <th>lake %</th>\n",
       "      <th>SWE %</th>\n",
       "    </tr>\n",
       "    <tr>\n",
       "      <th>code</th>\n",
       "      <th></th>\n",
       "      <th></th>\n",
       "      <th></th>\n",
       "    </tr>\n",
       "  </thead>\n",
       "  <tbody>\n",
       "    <tr>\n",
       "      <th>Gfrags</th>\n",
       "      <td>40.16</td>\n",
       "      <td>15.29</td>\n",
       "      <td>15.74</td>\n",
       "    </tr>\n",
       "    <tr>\n",
       "      <th>G27</th>\n",
       "      <td>11.67</td>\n",
       "      <td>11.27</td>\n",
       "      <td>10.10</td>\n",
       "    </tr>\n",
       "    <tr>\n",
       "      <th>G30</th>\n",
       "      <td>7.35</td>\n",
       "      <td>6.09</td>\n",
       "      <td>8.60</td>\n",
       "    </tr>\n",
       "    <tr>\n",
       "      <th>Gfoam</th>\n",
       "      <td>4.97</td>\n",
       "      <td>13.13</td>\n",
       "      <td>4.17</td>\n",
       "    </tr>\n",
       "    <tr>\n",
       "      <th>Gcaps</th>\n",
       "      <td>3.88</td>\n",
       "      <td>3.80</td>\n",
       "      <td>2.58</td>\n",
       "    </tr>\n",
       "    <tr>\n",
       "      <th>G95</th>\n",
       "      <td>3.67</td>\n",
       "      <td>4.07</td>\n",
       "      <td>7.60</td>\n",
       "    </tr>\n",
       "    <tr>\n",
       "      <th>G89</th>\n",
       "      <td>1.48</td>\n",
       "      <td>2.14</td>\n",
       "      <td>1.73</td>\n",
       "    </tr>\n",
       "    <tr>\n",
       "      <th>G31</th>\n",
       "      <td>1.33</td>\n",
       "      <td>0.87</td>\n",
       "      <td>0.79</td>\n",
       "    </tr>\n",
       "    <tr>\n",
       "      <th>G70</th>\n",
       "      <td>0.70</td>\n",
       "      <td>1.27</td>\n",
       "      <td>0.50</td>\n",
       "    </tr>\n",
       "    <tr>\n",
       "      <th>G35</th>\n",
       "      <td>0.56</td>\n",
       "      <td>1.02</td>\n",
       "      <td>0.59</td>\n",
       "    </tr>\n",
       "    <tr>\n",
       "      <th>G67</th>\n",
       "      <td>0.52</td>\n",
       "      <td>3.90</td>\n",
       "      <td>2.06</td>\n",
       "    </tr>\n",
       "    <tr>\n",
       "      <th>G32</th>\n",
       "      <td>0.23</td>\n",
       "      <td>0.70</td>\n",
       "      <td>0.94</td>\n",
       "    </tr>\n",
       "    <tr>\n",
       "      <th>G33</th>\n",
       "      <td>0.15</td>\n",
       "      <td>0.72</td>\n",
       "      <td>0.21</td>\n",
       "    </tr>\n",
       "    <tr>\n",
       "      <th>G10</th>\n",
       "      <td>0.06</td>\n",
       "      <td>1.05</td>\n",
       "      <td>0.38</td>\n",
       "    </tr>\n",
       "    <tr>\n",
       "      <th>G100</th>\n",
       "      <td>0.05</td>\n",
       "      <td>0.64</td>\n",
       "      <td>1.79</td>\n",
       "    </tr>\n",
       "    <tr>\n",
       "      <th>G25</th>\n",
       "      <td>0.02</td>\n",
       "      <td>1.07</td>\n",
       "      <td>0.47</td>\n",
       "    </tr>\n",
       "  </tbody>\n",
       "</table>\n",
       "</div>"
      ],
      "text/plain": [
       "        plastock %  lake %  SWE %\n",
       "code                             \n",
       "Gfrags       40.16   15.29  15.74\n",
       "G27          11.67   11.27  10.10\n",
       "G30           7.35    6.09   8.60\n",
       "Gfoam         4.97   13.13   4.17\n",
       "Gcaps         3.88    3.80   2.58\n",
       "G95           3.67    4.07   7.60\n",
       "G89           1.48    2.14   1.73\n",
       "G31           1.33    0.87   0.79\n",
       "G70           0.70    1.27   0.50\n",
       "G35           0.56    1.02   0.59\n",
       "G67           0.52    3.90   2.06\n",
       "G32           0.23    0.70   0.94\n",
       "G33           0.15    0.72   0.21\n",
       "G10           0.06    1.05   0.38\n",
       "G100          0.05    0.64   1.79\n",
       "G25           0.02    1.07   0.47"
      ]
     },
     "execution_count": 28,
     "metadata": {},
     "output_type": "execute_result"
    }
   ],
   "source": [
    "# coi % of total\n",
    "code_totals = plastock.groupby(\"code\", as_index=False).quantity.sum()\n",
    "code_totals[\"%\"] = code_totals.quantity/code_totals.quantity.sum()\n",
    "ct_i = code_totals[code_totals.code.isin(cois)].sort_values(by=\"%\", ascending=False)\n",
    "\n",
    "lake_ythree = all_data[date_mask & (all_data.water_name_slug == 'lac-leman')].copy()\n",
    "lake_y3 = lake_ythree.groupby(\"code\", as_index=False).quantity.sum()\n",
    "lake_y3[\"%\"] = lake_y3.quantity/lake_y3.quantity.sum()\n",
    "lake_y3i = lake_y3[lake_y3.code.isin(cois)].sort_values(by=\"%\", ascending=False)\n",
    "\n",
    "l_a_mx = all_data[all_data.location.isin(['plage-de-st-sulpice', 'tiger_duck_beach'])]\n",
    "sp_x = l_a_mx.groupby(\"code\", as_index=False).quantity.sum()\n",
    "sp_x[\"%\"] = sp_x.quantity/sp_x.quantity.sum()\n",
    "sp_xi = sp_x[sp_x.code.isin(cois)].sort_values(by=\"%\", ascending=False)\n",
    "sp_xi.rename(columns={\"%\":\"SWE %\"}, inplace=True)\n",
    "sp_xi.set_index(\"code\", inplace=True, drop=True)\n",
    "\n",
    "\n",
    "\n",
    "code_totals.rename(columns={\"%\":\"plastock %\"}, inplace=True)\n",
    "lake_y3.rename(columns={\"%\":\"lake %\"}, inplace=True)\n",
    "\n",
    "res_pct = code_totals[[\"code\", \"plastock %\"] ].merge(lake_y3[[\"code\", \"lake %\"]], on=\"code\")\n",
    "res_pct = res_pct[res_pct.code.isin(cois)].sort_values(by=\"plastock %\", ascending=False)\n",
    "res_pct.set_index(\"code\", inplace=True, drop=True)\n",
    "res_pct = res_pct.merge(sp_xi[\"SWE %\"], left_index=True, right_index=True)\n",
    "res_pct.apply(lambda x: round(x*100, 2))"
   ]
  },
  {
   "cell_type": "code",
   "execution_count": 29,
   "metadata": {
    "editable": true,
    "slideshow": {
     "slide_type": ""
    },
    "tags": []
   },
   "outputs": [],
   "source": [
    "lfmay = lake_after_may.copy()"
   ]
  },
  {
   "cell_type": "markdown",
   "metadata": {
    "editable": true,
    "slideshow": {
     "slide_type": ""
    },
    "tags": []
   },
   "source": [
    "__Percent of all identified objects concerned by these results__"
   ]
  },
  {
   "cell_type": "code",
   "execution_count": 30,
   "metadata": {
    "editable": true,
    "jupyter": {
     "source_hidden": true
    },
    "slideshow": {
     "slide_type": ""
    },
    "tags": [
     "remove-input"
    ]
   },
   "outputs": [
    {
     "data": {
      "text/plain": [
       "plastock %    0.767988\n",
       "lake %        0.670193\n",
       "SWE %         0.582501\n",
       "dtype: float64"
      ]
     },
     "execution_count": 30,
     "metadata": {},
     "output_type": "execute_result"
    }
   ],
   "source": [
    "res_pct.sum()"
   ]
  },
  {
   "cell_type": "code",
   "execution_count": 31,
   "metadata": {
    "editable": true,
    "jupyter": {
     "source_hidden": true
    },
    "slideshow": {
     "slide_type": ""
    },
    "tags": [
     "remove-input"
    ]
   },
   "outputs": [
    {
     "data": {
      "text/markdown": [
       "\n",
       "\n",
       "This script updated 18/07/2023 in Biel, CH\n",
       "\n",
       "> ❤️ what you do everyday\n",
       "\n",
       "*analyst at hammerdirt*\n"
      ],
      "text/plain": [
       "<IPython.core.display.Markdown object>"
      ]
     },
     "execution_count": 31,
     "metadata": {},
     "output_type": "execute_result"
    }
   ],
   "source": [
    "today = dt.datetime.now().date().strftime(\"%d/%m/%Y\")\n",
    "where = \"Biel, CH\"\n",
    "\n",
    "my_block = f\"\"\"\n",
    "\n",
    "This script updated {today} in {where}\n",
    "\n",
    "> \\u2764\\ufe0f what you do everyday\n",
    "\n",
    "*analyst at hammerdirt*\n",
    "\"\"\"\n",
    "\n",
    "md(my_block)"
   ]
  },
  {
   "cell_type": "code",
   "execution_count": 32,
   "metadata": {
    "editable": true,
    "jupyter": {
     "source_hidden": true
    },
    "slideshow": {
     "slide_type": ""
    },
    "tags": [
     "remove-input"
    ]
   },
   "outputs": [
    {
     "name": "stdout",
     "output_type": "stream",
     "text": [
      "Git repo: https://github.com/hammerdirt-analyst/patelmanuscript.git\n",
      "\n",
      "Git branch: newsummary\n",
      "\n",
      "matplotlib: 3.7.1\n",
      "seaborn   : 0.12.2\n",
      "scipy     : 1.10.1\n",
      "pandas    : 2.0.2\n",
      "numpy     : 1.24.3\n",
      "\n"
     ]
    }
   ],
   "source": [
    "%watermark --iversions -b -r"
   ]
  }
 ],
 "metadata": {
  "kernelspec": {
   "display_name": "Python 3 (ipykernel)",
   "language": "python",
   "name": "python3"
  },
  "language_info": {
   "codemirror_mode": {
    "name": "ipython",
    "version": 3
   },
   "file_extension": ".py",
   "mimetype": "text/x-python",
   "name": "python",
   "nbconvert_exporter": "python",
   "pygments_lexer": "ipython3",
   "version": "3.9.16"
  }
 },
 "nbformat": 4,
 "nbformat_minor": 4
}
