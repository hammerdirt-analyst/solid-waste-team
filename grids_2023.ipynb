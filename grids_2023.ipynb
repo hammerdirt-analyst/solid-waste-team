{
 "cells": [
  {
   "cell_type": "code",
   "execution_count": 1,
   "metadata": {
    "editable": true,
    "pycharm": {
     "name": "#%%\n"
    },
    "slideshow": {
     "slide_type": ""
    },
    "tags": [
     "remove-input"
    ]
   },
   "outputs": [],
   "source": [
    "%load_ext watermark\n",
    "\n",
    "import pandas as pd\n",
    "import numpy as np\n",
    "import datetime as dt \n",
    "from statsmodels.distributions.empirical_distribution import ECDF\n",
    "from scipy.stats import beta\n",
    "import matplotlib.pyplot as plt\n",
    "import seaborn as sns\n",
    "from IPython.display import Markdown as md\n",
    "from myst_nb import glue\n",
    "\n",
    "dfCodes = pd.read_csv(\"resources/data/u_codes.csv\")\n",
    "dfBeaches = pd.read_csv(\"resources/data/u_beaches.csv\")\n",
    "dfBeaches.set_index(\"slug\", inplace=True)\n",
    "\n",
    "all_data = pd.read_csv(\"resources/data/u_all_data.csv\")\n",
    "all_data = all_data[all_data.river_bassin != 'les-alpes'].copy()\n",
    "all_data[\"date\"] = pd.to_datetime(all_data[\"date\"], format=\"%Y-%m-%d\")\n",
    "\n",
    "# import regional labels. labels are used\n",
    "# to identify the regional priors\n",
    "lac_leman_regions = pd.read_csv(\"resources/data/lac_leman_regions.csv\")\n",
    "\n",
    "# map to code decriptions\n",
    "dfCodes.set_index(\"code\", inplace=True)\n",
    "dfCodes.loc[\"Gcaps\", [\"material\", \"description\", \"groupname\"]] = [\"Plastic\", \"Plastic bottle lids\", \"food and drink\"]"
   ]
  },
  {
   "cell_type": "code",
   "execution_count": 2,
   "metadata": {
    "editable": true,
    "pycharm": {
     "name": "#%%\n"
    },
    "slideshow": {
     "slide_type": ""
    },
    "tags": [
     "remove-input"
    ]
   },
   "outputs": [],
   "source": [
    "# this defines the css rules for the note-book table displays\n",
    "header_row = {'selector': 'th:nth-child(1)', 'props': f'background-color: #FFF; text-align:right'}\n",
    "even_rows = {\"selector\": 'tr:nth-child(even)', 'props': f'background-color: rgba(139, 69, 19, 0.08);'}\n",
    "odd_rows = {'selector': 'tr:nth-child(odd)', 'props': 'background: #FFF;'}\n",
    "table_font = {'selector': 'tr', 'props': 'font-size: 10px;'}\n",
    "table_data = {'selector': 'td', 'props': 'padding: 12px;'}\n",
    "table_caption = {'selector': 'caption', 'props': 'font-size: 14px; font-style: italic; caption-side: bottom; text-align: left; margin-top: 10px'}\n",
    "table_css_styles = [even_rows, odd_rows, table_font, header_row, table_caption]\n",
    "\n",
    "\n",
    "table_large_data = {'selector': 'tr', 'props': 'font-size: 14px; padding: 12px;'}\n",
    "table_large_font = [even_rows, odd_rows, table_large_data, header_row, table_caption]"
   ]
  },
  {
   "cell_type": "markdown",
   "metadata": {
    "editable": true,
    "pycharm": {
     "name": "#%% md\n"
    },
    "slideshow": {
     "slide_type": ""
    },
    "tags": []
   },
   "source": [
    "# Testing 2023 predictions\n",
    "\n",
    "## The solid waste experience\n",
    "\n",
    "This is the seventh year that the Solid Waste Team from the EPFL collect beach litter samples. In the maritime environment people have been measuring beach litter for decades. There is a standard protocol ([Guidance on Monitoring Marine Litter in European Seas](https://publications.jrc.ec.europa.eu/repository/handle/JRC83985)) for the EU area and threshold values for good environmental standing ([Beach litter thresholds](https://mcc.jrc.ec.europa.eu/main/dev.py?N=41&O=454)). \n",
    "\n",
    "In Switzerland we started monitoring shoreline trash in 2015, it was not obvious to most observers (except for Prof Ludwig) why this might be of interest. However, by 2016 the EU realized that monitoring trash flows in rivers and lakes ([monitoring trash in rivers](https://mcc.jrc.ec.europa.eu/documents/201703034325.pdf)) might be a good way to monitor flows into the oceans. All the while conservationists and biologists have raised concerns about the presence of plastics and diminshing biodiversity. The threshold established by the EU is based on the principle of precaution: _the health effects are unknown, it is prudent to reduce contact with plastics when possible_ ([Beach litter thresholds](https://mcc.jrc.ec.europa.eu/main/dev.py?N=41&O=454)).\n",
    "\n",
    "### Observations and interpretations\n",
    "\n",
    "A beach litter survey is a detailed observation of the quantity and type of objects that were found at the beach. This observation is further defined by the time and place it occured. The location of the beach litter survey can be described numerically using a topographical map and some common overlay techniques in QGIS.\n",
    "\n",
    "The information gathered from the map are part of the _conditions_ that describe a survey location in particular. When beach litter surveys are considered in terms of their shared attributes we can use very simple techniques to find correlations between the conditions and the amount of trash found. For example, we can use Spearmans ranked correlation coefficient to quickly identify topographical attributes where specfic objects tend to accumulate. We wrote an article about it:  ([Near or far](https://hammerdirt-analyst.github.io/landuse/titlepage.html)).\n",
    "\n",
    "### A unique problem and a unique solution\n",
    "\n",
    "Trash in the environment is a unique problem. In general we know how an object becomes litter: either on purpose or on accident, people create the conditions that increase the chance that an end of lifecycle object will evade the waste recovery system. Resources are employed to change the behavior of people and therefore improve the chance that an end of lifcycle object will be approriately discarded, _(need reference)_. \n",
    "\n",
    "There are public services that are dedicated to collecting inappropriately discarded items. Beach litter surveys are the observed result of the difference between the effect of the systems in place to reduce litter and the amount of litter produced. Indifferent of how that litter was produced or the measures in place to prevent it. Therefore this environmental assessment is reliant on individual observations. We can look to orntithologists and botanists for examples on how to interpret this data.\n",
    "\n",
    "```{admonition} Asessing the environment:\n",
    "\n",
    "__What and how much are the volunteers likely to find?__\n",
    "      \n",
    "_This is the most honest answer that can be derived from the data._\n",
    "```\n",
    "\n",
    "There are 336 observations from 66 locations that describe the conditions under which 73,000 items were found on the 145km shore-line of Lake Geneva. Although this is only a small portion of the lake shore, this is still a good amount of samples in a six year period. It would be difficult to find a comparable stretch of coastline anywhere in the world that has that many samples in seven years. We can use that data to form our opinion of what we might find on October 5th.\n",
    "\n",
    "```{admonition} Asessing the environment:\n",
    "\n",
    "We can not tell you how much there is. __Only how much you are likely to find.__\n",
    "      \n",
    "What the difference is between the two statements is a philosophical discussion. In reality it may be hard to make such a distinction.\n",
    "```\n",
    "\n",
    "\n",
    "### Reducing dimensionality: find the most common\n",
    "\n",
    "There are 228 different categories of objects. We are interested in what we might find and how likely we are to find it. Therefore we limit the search to items that were previously identified in at least 50% of the surveys AND/OR objects that are distinctive (easy to identify). This accounts for 74% of all objects previously recorded."
   ]
  },
  {
   "cell_type": "code",
   "execution_count": 3,
   "metadata": {
    "editable": true,
    "slideshow": {
     "slide_type": ""
    },
    "tags": [
     "remove-input"
    ]
   },
   "outputs": [],
   "source": [
    "def prior_distributions(prior_data: pd.DataFrame = None, start: str = None, end: str = None,\n",
    "                        xrange: np.array = None, uninformed_prior: np.array = None):\n",
    "    data_args = {\n",
    "        'start':start,\n",
    "        'end':end,\n",
    "        'data': prior_data,\n",
    "    }\n",
    "    prior_pcs = period_pieces(*data_args.values())         \n",
    "\n",
    "    # get n and k for the prior data\n",
    "    prior_k, prior_notk, prior_k_n_minus_k = period_k_and_n(prior_pcs, xrange)\n",
    "   \n",
    "    # make the likelihood parameters\n",
    "    lhx = list(zip(prior_k, prior_notk))\n",
    "\n",
    "    # make the prior distribution\n",
    "    p_ui, prior_bmean = make_expected(lhx, uninformed_prior, xrange)\n",
    "\n",
    "    # the uninformed beta approximation of the prior data\n",
    "    prior_beta = [period_beta(x) for x in prior_k_n_minus_k]\n",
    "    p_beta= [x.mean() for x in prior_beta]\n",
    "\n",
    "    results=pd.DataFrame({\"x\":xrange, \"p\":p_ui})\n",
    "    results[\"pn\"] = results.p/results.p.sum()\n",
    "    \n",
    "    return np.array(p_ui), np.array(p_beta), prior_k_n_minus_k, results, prior_pcs\n",
    "\n",
    "def posterior_distribution(lh_data: pd.DataFrame = None, start: str = None, end: str = None,\n",
    "                           informed_prior: np.array = None, un_informed: np.array = None):\n",
    "                               \n",
    "    \n",
    "    data_args = {\n",
    "        'start': start,\n",
    "        'end':end,\n",
    "        'data': lh_data,   \n",
    "        }\n",
    "\n",
    "    period_all = period_pieces(*data_args.values())\n",
    "    \n",
    "    pall_k, pall_notk, pall_k_n_minus_k = period_k_and_n(period_all, xrange)\n",
    "    \n",
    "    lh_and_informed = np.array(pall_k_n_minus_k) + np.array(informed_prior)\n",
    "    lhx = list(zip(pall_k, pall_notk))        \n",
    "    \n",
    "    probi, probi_beta = make_expected(pall_k_n_minus_k, np.array(informed_prior), xrange)\n",
    "    grid_prox, grid_prox_beta = make_expected(pall_k_n_minus_k, un_informed, xrange)\n",
    "    \n",
    "    # beta distribution \n",
    "    pall_beta = [period_beta((x[0]+1, x[1]+1)) for x in pall_k_n_minus_k]\n",
    "    pall_bmean = [x.mean() for x in pall_beta]\n",
    "    return np.array(probi), np.array(grid_prox), pall_bmean, period_all\n",
    "                               \n",
    "def training_testing_compare(lh_pcs, pcs, post_quants, prior_quants):\n",
    "    \n",
    "    total_training = len(pcs) + len(lh_pcs)\n",
    "    prior_weight = len(pcs)/total_training\n",
    "    lh_weight = len(lh_pcs)/total_training\n",
    "\n",
    "    number_of_samples = {\"before may 2021\": len(pcs), \"after may 2021\": len(lh_pcs)}\n",
    "    weights = {\"before may 2021\":prior_weight, \"after may 2021\": lh_weight}\n",
    "    observed_median = {\"before may 2021\":np.median(pcs), \"after may 2021\": np.median(lh_pcs)}\n",
    "    observed_average = {\"before may 2021\":np.mean(pcs), \"after may 2021\": np.mean(lh_pcs)}\n",
    "    observed_25 = {\"before may 2021\": prior_quants[1], \"after may 2021\":post_quants[1]}\n",
    "    observed_75 = {\"before may 2021\": prior_quants[5], \"after may 2021\":post_quants[5]}\n",
    "    index = [\"weight all samples\", \"Number of samples\", \"Median\", \"Average\", \"25th percentile\", \"75th percentile\"]\n",
    "    components = [weights, number_of_samples, observed_median, observed_average, observed_25, observed_75]\n",
    "    unks_sum_table = pd.DataFrame(components, index=index).style.format(precision=2).set_table_styles(table_large_font)\n",
    "    styled = unks_sum_table.format(formatter=\"{:.0f}\", subset=pd.IndexSlice[['Number of samples'], :])\n",
    "    \n",
    "    return styled\n",
    "\n",
    "def predicted_summary(lh_pcs, pcs, prior_quants, median_2024):\n",
    "    \n",
    "\n",
    "    predicted = ((lh_pcs <= prior_quants[5])&(lh_pcs >= prior_quants[1])).sum()/len(lh_pcs)\n",
    "    predicted_94 = ((lh_pcs <= prior_quants[-1])&(lh_pcs >= prior_quants[0])).sum()/len(lh_pcs)\n",
    "    past_present_future = {\n",
    "        \"Median 2021\": np.median(pcs), \n",
    "        \"Median 2022\": np.median(lh_pcs), \n",
    "        \"Expected sampling median 2024\":median_2024,\n",
    "        \"% 2022 in 50% IQR  predicted\": predicted,\n",
    "        \"% 2022 in 94% IQR  predicted\": predicted_94,\n",
    "    }\n",
    "        \n",
    "    \n",
    "    ppf = pd.DataFrame(past_present_future, index=[\"pcs/m\"]).T\n",
    "\n",
    "    return ppf\n",
    "\n",
    "\n",
    "def make_results_df(prior_df, lh_c, source=None, source_norm=None):\n",
    "    \n",
    "    prior_df[source] = lh_c\n",
    "    prior_df[source_norm] = prior_df[source]/prior_df[source].sum()\n",
    "\n",
    "    return prior_df\n",
    "\n",
    "def data_profile(all_data):\n",
    "    date_min = all_data[\"date\"].min()\n",
    "    date_max = all_data[\"date\"].max()\n",
    "\n",
    "    if \"location\" in all_data.columns:\n",
    "        nlocations = all_data.location.nunique()\n",
    "    else:\n",
    "        nlocations = all_data.slug.nunique()\n",
    "    ncodes = all_data.code.nunique()\n",
    "    ncities = all_data.city.nunique()\n",
    "    quantity = all_data.quantity.sum()\n",
    "    nsamples = all_data.loc_date.nunique()\n",
    "\n",
    "    a_profile = dict(\n",
    "        start = date_min,\n",
    "        end = date_max,\n",
    "        nlocations = nlocations,\n",
    "        ncodes = ncodes,\n",
    "        ncities = ncities,\n",
    "        quantity = quantity,\n",
    "        nsamples = nsamples\n",
    "    )\n",
    "\n",
    "    return a_profile\n",
    "\n",
    "def a_fail_rate(x, total_number_of_samples):\n",
    "    return x[\"fail\"].sum()/total_number_of_samples\n",
    "\n",
    "\n",
    "def the_most_abundant(x):\n",
    "    t = x.groupby(\"code\").quantity.sum().copy()\n",
    "    t.sort_values(\"quantity\", ascending=False, inplace=True)\n",
    "    return t  "
   ]
  },
  {
   "cell_type": "code",
   "execution_count": 4,
   "metadata": {
    "editable": true,
    "slideshow": {
     "slide_type": ""
    },
    "tags": [
     "remove-input"
    ]
   },
   "outputs": [],
   "source": [
    "use_groups =  {\n",
    "    'Personal hygiene':['G95', 'G96'],\n",
    "    'Personal consumption':['G30', 'Gcaps', 'G27'],\n",
    "    'Industrial/professional': ['G67', 'G89', 'G112'],\n",
    "    'Unknown':['Gfrags', 'Gfoam'],\n",
    "    'Recreation/sports': ['G70', 'G32'],\n",
    "    \n",
    "}\n",
    "\n",
    "use_groups_i =  {\n",
    "    'G95':'Personal hygiene',\n",
    "    'G96': 'Personal hygiene',\n",
    "    'G30':'Personal consumption',\n",
    "    'Gcaps':'Personal consumption',\n",
    "    'G27':'Personal consumption',\n",
    "    'G67':'Industrial/professional',\n",
    "    'G89':'Industrial/professional',\n",
    "    'G112': 'Industrial/professional',\n",
    "    'Gfoam':'Unknown',\n",
    "    'Gfrags':'Unknown',\n",
    "    'G70':'Recreation/sports',\n",
    "    'G32':'Recreation/sports',\n",
    "}\n",
    "\n",
    "abbrev_use_g = {'Unknown':'Unk','Personal consumption':'Pc', 'Personal hygiene': 'Ph',    'Recreation/sports': 'Rc', 'Industrial/professional':'Ip'}\n",
    "toi = list(use_groups_i.keys())\n"
   ]
  },
  {
   "cell_type": "code",
   "execution_count": 5,
   "metadata": {
    "editable": true,
    "slideshow": {
     "slide_type": ""
    },
    "tags": [
     "remove-input"
    ]
   },
   "outputs": [
    {
     "data": {
      "text/html": [
       "<style type=\"text/css\">\n",
       "#T_b6a13 tr:nth-child(even) {\n",
       "  background-color: rgba(139, 69, 19, 0.08);\n",
       "}\n",
       "#T_b6a13 tr:nth-child(odd) {\n",
       "  background: #FFF;\n",
       "}\n",
       "#T_b6a13 tr {\n",
       "  font-size: 14px;\n",
       "  padding: 12px;\n",
       "}\n",
       "#T_b6a13 th:nth-child(1) {\n",
       "  background-color: #FFF;\n",
       "  text-align: right;\n",
       "}\n",
       "#T_b6a13 caption {\n",
       "  font-size: 14px;\n",
       "  font-style: italic;\n",
       "  caption-side: bottom;\n",
       "  text-align: left;\n",
       "  margin-top: 10px;\n",
       "}\n",
       "</style>\n",
       "<table id=\"T_b6a13\">\n",
       "  <caption>Table 1: The objects of interest. The average pcs/m per sample for each object. The fail rate is the % of all samples that the object appeared in.</caption>\n",
       "  <thead>\n",
       "    <tr>\n",
       "      <th class=\"blank\" >&nbsp;</th>\n",
       "      <th class=\"blank level0\" >&nbsp;</th>\n",
       "      <th id=\"T_b6a13_level0_col0\" class=\"col_heading level0 col0\" >pcs/m</th>\n",
       "      <th id=\"T_b6a13_level0_col1\" class=\"col_heading level0 col1\" >quantity</th>\n",
       "      <th id=\"T_b6a13_level0_col2\" class=\"col_heading level0 col2\" >fail rate</th>\n",
       "      <th id=\"T_b6a13_level0_col3\" class=\"col_heading level0 col3\" >% of total</th>\n",
       "    </tr>\n",
       "    <tr>\n",
       "      <th class=\"index_name level0\" >code</th>\n",
       "      <th class=\"index_name level1\" >object</th>\n",
       "      <th class=\"blank col0\" >&nbsp;</th>\n",
       "      <th class=\"blank col1\" >&nbsp;</th>\n",
       "      <th class=\"blank col2\" >&nbsp;</th>\n",
       "      <th class=\"blank col3\" >&nbsp;</th>\n",
       "    </tr>\n",
       "  </thead>\n",
       "  <tbody>\n",
       "    <tr>\n",
       "      <th id=\"T_b6a13_level0_row0\" class=\"row_heading level0 row0\" >G112</th>\n",
       "      <th id=\"T_b6a13_level1_row0\" class=\"row_heading level1 row0\" >Industrial pellets (nurdles)</th>\n",
       "      <td id=\"T_b6a13_row0_col0\" class=\"data row0 col0\" >0.16</td>\n",
       "      <td id=\"T_b6a13_row0_col1\" class=\"data row0 col1\" >2686</td>\n",
       "      <td id=\"T_b6a13_row0_col2\" class=\"data row0 col2\" >0.22</td>\n",
       "      <td id=\"T_b6a13_row0_col3\" class=\"data row0 col3\" >0.02</td>\n",
       "    </tr>\n",
       "    <tr>\n",
       "      <th id=\"T_b6a13_level0_row1\" class=\"row_heading level0 row1\" >G27</th>\n",
       "      <th id=\"T_b6a13_level1_row1\" class=\"row_heading level1 row1\" >Cigarette filters</th>\n",
       "      <td id=\"T_b6a13_row1_col0\" class=\"data row1 col0\" >1.12</td>\n",
       "      <td id=\"T_b6a13_row1_col1\" class=\"data row1 col1\" >16458</td>\n",
       "      <td id=\"T_b6a13_row1_col2\" class=\"data row1 col2\" >0.85</td>\n",
       "      <td id=\"T_b6a13_row1_col3\" class=\"data row1 col3\" >0.15</td>\n",
       "    </tr>\n",
       "    <tr>\n",
       "      <th id=\"T_b6a13_level0_row2\" class=\"row_heading level0 row2\" >G30</th>\n",
       "      <th id=\"T_b6a13_level1_row2\" class=\"row_heading level1 row2\" >Food wrappers; candy, snacks</th>\n",
       "      <td id=\"T_b6a13_row2_col0\" class=\"data row2 col0\" >0.54</td>\n",
       "      <td id=\"T_b6a13_row2_col1\" class=\"data row2 col1\" >6767</td>\n",
       "      <td id=\"T_b6a13_row2_col2\" class=\"data row2 col2\" >0.86</td>\n",
       "      <td id=\"T_b6a13_row2_col3\" class=\"data row2 col3\" >0.06</td>\n",
       "    </tr>\n",
       "    <tr>\n",
       "      <th id=\"T_b6a13_level0_row3\" class=\"row_heading level0 row3\" >G32</th>\n",
       "      <th id=\"T_b6a13_level1_row3\" class=\"row_heading level1 row3\" >Toys and party favors</th>\n",
       "      <td id=\"T_b6a13_row3_col0\" class=\"data row3 col0\" >0.05</td>\n",
       "      <td id=\"T_b6a13_row3_col1\" class=\"data row3 col1\" >606</td>\n",
       "      <td id=\"T_b6a13_row3_col2\" class=\"data row3 col2\" >0.48</td>\n",
       "      <td id=\"T_b6a13_row3_col3\" class=\"data row3 col3\" >0.01</td>\n",
       "    </tr>\n",
       "    <tr>\n",
       "      <th id=\"T_b6a13_level0_row4\" class=\"row_heading level0 row4\" >G67</th>\n",
       "      <th id=\"T_b6a13_level1_row4\" class=\"row_heading level1 row4\" >Industrial sheeting</th>\n",
       "      <td id=\"T_b6a13_row4_col0\" class=\"data row4 col0\" >0.30</td>\n",
       "      <td id=\"T_b6a13_row4_col1\" class=\"data row4 col1\" >3356</td>\n",
       "      <td id=\"T_b6a13_row4_col2\" class=\"data row4 col2\" >0.57</td>\n",
       "      <td id=\"T_b6a13_row4_col3\" class=\"data row4 col3\" >0.03</td>\n",
       "    </tr>\n",
       "    <tr>\n",
       "      <th id=\"T_b6a13_level0_row5\" class=\"row_heading level0 row5\" >G70</th>\n",
       "      <th id=\"T_b6a13_level1_row5\" class=\"row_heading level1 row5\" >Shotgun cartridges</th>\n",
       "      <td id=\"T_b6a13_row5_col0\" class=\"data row5 col0\" >0.08</td>\n",
       "      <td id=\"T_b6a13_row5_col1\" class=\"data row5 col1\" >1030</td>\n",
       "      <td id=\"T_b6a13_row5_col2\" class=\"data row5 col2\" >0.48</td>\n",
       "      <td id=\"T_b6a13_row5_col3\" class=\"data row5 col3\" >0.01</td>\n",
       "    </tr>\n",
       "    <tr>\n",
       "      <th id=\"T_b6a13_level0_row6\" class=\"row_heading level0 row6\" >G89</th>\n",
       "      <th id=\"T_b6a13_level1_row6\" class=\"row_heading level1 row6\" >Plastic construction waste</th>\n",
       "      <td id=\"T_b6a13_row6_col0\" class=\"data row6 col0\" >0.14</td>\n",
       "      <td id=\"T_b6a13_row6_col1\" class=\"data row6 col1\" >1970</td>\n",
       "      <td id=\"T_b6a13_row6_col2\" class=\"data row6 col2\" >0.51</td>\n",
       "      <td id=\"T_b6a13_row6_col3\" class=\"data row6 col3\" >0.02</td>\n",
       "    </tr>\n",
       "    <tr>\n",
       "      <th id=\"T_b6a13_level0_row7\" class=\"row_heading level0 row7\" >G95</th>\n",
       "      <th id=\"T_b6a13_level1_row7\" class=\"row_heading level1 row7\" >Cotton bud/swab sticks</th>\n",
       "      <td id=\"T_b6a13_row7_col0\" class=\"data row7 col0\" >0.39</td>\n",
       "      <td id=\"T_b6a13_row7_col1\" class=\"data row7 col1\" >4777</td>\n",
       "      <td id=\"T_b6a13_row7_col2\" class=\"data row7 col2\" >0.74</td>\n",
       "      <td id=\"T_b6a13_row7_col3\" class=\"data row7 col3\" >0.04</td>\n",
       "    </tr>\n",
       "    <tr>\n",
       "      <th id=\"T_b6a13_level0_row8\" class=\"row_heading level0 row8\" >G96</th>\n",
       "      <th id=\"T_b6a13_level1_row8\" class=\"row_heading level1 row8\" >Sanitary pads /panty liners/tampons and applicators</th>\n",
       "      <td id=\"T_b6a13_row8_col0\" class=\"data row8 col0\" >0.04</td>\n",
       "      <td id=\"T_b6a13_row8_col1\" class=\"data row8 col1\" >373</td>\n",
       "      <td id=\"T_b6a13_row8_col2\" class=\"data row8 col2\" >0.29</td>\n",
       "      <td id=\"T_b6a13_row8_col3\" class=\"data row8 col3\" >0.00</td>\n",
       "    </tr>\n",
       "    <tr>\n",
       "      <th id=\"T_b6a13_level0_row9\" class=\"row_heading level0 row9\" >Gcaps</th>\n",
       "      <th id=\"T_b6a13_level1_row9\" class=\"row_heading level1 row9\" >Plastic bottle lids</th>\n",
       "      <td id=\"T_b6a13_row9_col0\" class=\"data row9 col0\" >0.31</td>\n",
       "      <td id=\"T_b6a13_row9_col1\" class=\"data row9 col1\" >3953</td>\n",
       "      <td id=\"T_b6a13_row9_col2\" class=\"data row9 col2\" >0.84</td>\n",
       "      <td id=\"T_b6a13_row9_col3\" class=\"data row9 col3\" >0.04</td>\n",
       "    </tr>\n",
       "    <tr>\n",
       "      <th id=\"T_b6a13_level0_row10\" class=\"row_heading level0 row10\" >Gfoam</th>\n",
       "      <th id=\"T_b6a13_level1_row10\" class=\"row_heading level1 row10\" >Expanded polystyrene</th>\n",
       "      <td id=\"T_b6a13_row10_col0\" class=\"data row10 col0\" >1.02</td>\n",
       "      <td id=\"T_b6a13_row10_col1\" class=\"data row10 col1\" >12871</td>\n",
       "      <td id=\"T_b6a13_row10_col2\" class=\"data row10 col2\" >0.81</td>\n",
       "      <td id=\"T_b6a13_row10_col3\" class=\"data row10 col3\" >0.12</td>\n",
       "    </tr>\n",
       "    <tr>\n",
       "      <th id=\"T_b6a13_level0_row11\" class=\"row_heading level0 row11\" >Gfrags</th>\n",
       "      <th id=\"T_b6a13_level1_row11\" class=\"row_heading level1 row11\" >Fragmented plastics</th>\n",
       "      <td id=\"T_b6a13_row11_col0\" class=\"data row11 col0\" >1.34</td>\n",
       "      <td id=\"T_b6a13_row11_col1\" class=\"data row11 col1\" >17479</td>\n",
       "      <td id=\"T_b6a13_row11_col2\" class=\"data row11 col2\" >0.93</td>\n",
       "      <td id=\"T_b6a13_row11_col3\" class=\"data row11 col3\" >0.16</td>\n",
       "    </tr>\n",
       "  </tbody>\n",
       "</table>\n"
      ],
      "text/plain": [
       "<pandas.io.formats.style.Styler at 0x7ffa123d44f0>"
      ]
     },
     "execution_count": 5,
     "metadata": {},
     "output_type": "execute_result"
    }
   ],
   "source": [
    "cbdi = pd.read_csv(\"resources/data/u_pstk_iqaasl_all.csv\")\n",
    "not_these = ['amphion', 'anthy', 'excenevex', 'lugrin', 'meillerie', 'saint-disdille', 'tougues']\n",
    "cbd = cbdi[~cbdi.slug.isin(not_these)]\n",
    "cbd = cbd[cbd.code.isin(toi)].copy()\n",
    "cbd[\"fail\"] = cbd.quantity > 0\n",
    "\n",
    "\n",
    "cbd.loc[cbd.Project == \"Testing\", \"Project\"] = \"after may 2021\"\n",
    "cbd.loc[cbd.Project == \"Training\", \"Project\"] = \"before may 2021\"\n",
    "\n",
    "column_names_groups = {v:k for k,v in abbrev_use_g.items()}\n",
    "code_groups = list(column_names_groups.keys())\n",
    "\n",
    "cois = cities_of_interest = ['Saint-Sulpice (VD)', 'Saint Gingolph', 'Genéve', 'Cully', 'Vevey']\n",
    "\n",
    "some_quants = [.03, .25, .48, .5, .52, .75, .97]\n",
    "end_training_date = \"2021-05-31\"\n",
    "begin_training_date = \"2015-11-15\"\n",
    "codes_of_interest = cbd.groupby([\"code\"], as_index=False).agg({\"quantity\":\"sum\", \"pcs/m\":\"mean\", \"fail\": \"sum\"})\n",
    "codes_of_interest[\"fail rate\"] = (codes_of_interest.fail/cbd.loc_date.nunique()).round(2)\n",
    "code_d = dfCodes[\"description\"]\n",
    "codes_of_interest[\"object\"] = codes_of_interest.code.apply(lambda x: code_d.loc[x])\n",
    "codes_of_interest = codes_of_interest[[\"code\", \"object\", \"pcs/m\", \"quantity\", \"fail rate\"]]\n",
    "codes_of_interest.set_index([\"code\", \"object\"], inplace=True, drop=True)\n",
    "codes_of_interest[\"quantity\"] = codes_of_interest.quantity.astype(\"int\")\n",
    "codes_of_interest[\"% of total\"] = (codes_of_interest.quantity/cbdi.quantity.sum()).round(2)\n",
    "codes_of_interest.index.name = None\n",
    "caption = \"Table 1: The objects of interest. The average pcs/m per sample for each object. The fail rate is the % of all samples that the object appeared in.\" \n",
    "codes_of_interest.style.format(precision=2).set_table_styles(table_large_font).set_caption(caption)"
   ]
  },
  {
   "cell_type": "markdown",
   "metadata": {
    "editable": true,
    "slideshow": {
     "slide_type": ""
    },
    "tags": []
   },
   "source": [
    "### Assessing the environment\n",
    "\n",
    "{Download}`Download the form </resources/figures/survey_estimates.pdf>`\n",
    "\n",
    "The goal for todays excercise in 2023 is to determine how well our previous experiences inform us about the present. This is a simple process. There are four steps:\n",
    "\n",
    "1. Start with your current understanding of the problem, consult the data here and form an opinion of how many of each item in the previous section you might find in 100 meters of shoreline. For example your might think 200 cigarette ends per 100m is a likely amount.\n",
    "2. Use the provided form and note your estimate for each item in red ink. Put your name on the form and the name of the beach.\n",
    "3. At the end of the litter survey note what you found for each item.\n",
    "\n",
    "After the survey we will compare what we found to what we though we might find and the predicted amount using the model that was explained in the previous section. \n",
    "\n",
    "### Semester project\n",
    "\n",
    "The semester project (if you choose to do it) is about documenting the process of updating the models and accessing data. It could be a narrated screencast. Something that next years class will consult. For those who are interested in data-science or application development we would be using python, R, Git and Annaconda. If you do not know what those things are then the project is not for you. \n",
    "\n",
    "However, if you have done a data-science course or if you have some experience with application development you might find this an easy project that will allow you to demonstrate those skills and some creativity. Those that know how to use Git and Annaconda will find this fairly easy."
   ]
  },
  {
   "cell_type": "markdown",
   "metadata": {
    "editable": true,
    "pycharm": {
     "name": "#%% md\n"
    },
    "slideshow": {
     "slide_type": ""
    },
    "tags": []
   },
   "source": [
    "(data-context)=\n",
    "## Summary of previous results\n",
    "\n",
    "__Lake Geneva sample totals__\n",
    "\n",
    "The total pcs/m for all surveys is given in figure 1 and figure 2. Samples after May 2021 are considered separately, this is a new six year sampling period for the lake.  The distribution of the sample totals is given in table 2."
   ]
  },
  {
   "cell_type": "code",
   "execution_count": 6,
   "metadata": {
    "editable": true,
    "slideshow": {
     "slide_type": ""
    },
    "tags": [
     "remove-input"
    ]
   },
   "outputs": [
    {
     "data": {
      "application/papermill.record/text/html": "<style type=\"text/css\">\n#T_25c23 tr:nth-child(even) {\n  background-color: rgba(139, 69, 19, 0.08);\n}\n#T_25c23 tr:nth-child(odd) {\n  background: #FFF;\n}\n#T_25c23 tr {\n  font-size: 14px;\n  padding: 12px;\n}\n#T_25c23 th:nth-child(1) {\n  background-color: #FFF;\n  text-align: right;\n}\n#T_25c23 caption {\n  font-size: 14px;\n  font-style: italic;\n  caption-side: bottom;\n  text-align: left;\n  margin-top: 10px;\n}\n</style>\n<table id=\"T_25c23\">\n  <caption>The number of different locations and cities for the data. Note that there are 31 different municipalitites in all.</caption>\n  <thead>\n    <tr>\n      <th class=\"blank level0\" >&nbsp;</th>\n      <th id=\"T_25c23_level0_col0\" class=\"col_heading level0 col0\" >before may 2021</th>\n      <th id=\"T_25c23_level0_col1\" class=\"col_heading level0 col1\" >after may 2021</th>\n    </tr>\n  </thead>\n  <tbody>\n    <tr>\n      <th id=\"T_25c23_level0_row0\" class=\"row_heading level0 row0\" >Number of cities</th>\n      <td id=\"T_25c23_row0_col0\" class=\"data row0 col0\" >21</td>\n      <td id=\"T_25c23_row0_col1\" class=\"data row0 col1\" >19</td>\n    </tr>\n    <tr>\n      <th id=\"T_25c23_level0_row1\" class=\"row_heading level0 row1\" >Number of locations</th>\n      <td id=\"T_25c23_row1_col0\" class=\"data row1 col0\" >48</td>\n      <td id=\"T_25c23_row1_col1\" class=\"data row1 col1\" >23</td>\n    </tr>\n    <tr>\n      <th id=\"T_25c23_level0_row2\" class=\"row_heading level0 row2\" >Total objects</th>\n      <td id=\"T_25c23_row2_col0\" class=\"data row2 col0\" >57,623</td>\n      <td id=\"T_25c23_row2_col1\" class=\"data row2 col1\" >14,703</td>\n    </tr>\n  </tbody>\n</table>\n",
      "application/papermill.record/text/plain": "<pandas.io.formats.style.Styler at 0x7ffa12217af0>"
     },
     "metadata": {
      "scrapbook": {
       "mime_prefix": "application/papermill.record/",
       "name": "data-summ-q2"
      }
     },
     "output_type": "display_data"
    }
   ],
   "source": [
    "summ_data = cbd.copy()\n",
    "\n",
    "summ_data[\"use group\"] = summ_data.code.map(lambda x: use_groups_i[x])\n",
    "\n",
    "summ_data[\"ug\"] = summ_data[\"use group\"].apply(lambda x: abbrev_use_g[x])\n",
    "summ_data[summ_data[\"use group\"] == 'Personal consumption'].code.unique()\n",
    "summ_data[\"date\"] = pd.to_datetime(summ_data[\"date\"], format=\"%Y-%m-%d\")\n",
    "\n",
    "sd_x = summ_data.groupby([\"loc_date\", \"date\", \"city\", \"Project\", \"doy\"], as_index=False).agg({\"pcs/m\": 'sum', 'quantity':'sum'})\n",
    "sd_x_sp = sd_x[sd_x.city == 'Saint-Sulpice (VD)'].groupby([\"loc_date\", \"date\", \"city\", \"Project\", \"doy\"], as_index=False).agg({\"pcs/m\": 'sum', 'quantity':'sum'})\n",
    "\n",
    "trg = summ_data[summ_data.Project == \"before may 2021\"].copy()\n",
    "tst = summ_data[summ_data.Project == \"after may 2021\"].copy()\n",
    "trg_c, tst_c = trg.city.nunique(), tst.city.nunique()\n",
    "trg_lc, tst_lc = trg.slug.nunique(), tst.slug.nunique()\n",
    "trg_q, tst_q = trg.quantity.sum(), tst.quantity.sum()\n",
    "\n",
    "data_magnitude = [\n",
    "    {\"before may 2021\":trg_c, \"after may 2021\":tst_c},\n",
    "    {\"before may 2021\":trg_lc, \"after may 2021\":tst_lc},\n",
    "    {\"before may 2021\":trg_q, \"after may 2021\":tst_q}\n",
    "    \n",
    "]\n",
    "\n",
    "cities_set = list(set([*trg.city.unique(), *tst.city.unique()]))\n",
    "n_ind_cities = len(cities_set)\n",
    "\n",
    "caption = f'The number of different locations and cities for the data. Note that there are {n_ind_cities} different municipalitites in all.'\n",
    "\n",
    "data_summ_q = pd.DataFrame(data_magnitude, index=[\"Number of cities\", \"Number of locations\", \"Total objects\"]).astype('int')\n",
    "data_summ_q = data_summ_q.style.format(formatter=\"{:,}\").set_table_styles(table_large_font).set_caption(caption)\n",
    "styled = data_summ_q.format(formatter=\"{:,}\", subset=pd.IndexSlice[['Total objects'], :])\n",
    "glue(\"data-summ-q2\", styled, display=False)"
   ]
  },
  {
   "cell_type": "code",
   "execution_count": 7,
   "metadata": {
    "editable": true,
    "pycharm": {
     "name": "#%%\n"
    },
    "slideshow": {
     "slide_type": ""
    },
    "tags": [
     "remove-input"
    ]
   },
   "outputs": [
    {
     "data": {
      "application/papermill.record/image/png": "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",
      "application/papermill.record/text/plain": "<Figure size 600x500 with 1 Axes>"
     },
     "metadata": {
      "scrapbook": {
       "mime_prefix": "application/papermill.record/",
       "name": "testing_training_chrono"
      }
     },
     "output_type": "display_data"
    }
   ],
   "source": [
    "# all the data by date\n",
    "the_99th_percentile = np.quantile(sd_x['pcs/m'].values, .99)\n",
    "px = 1/plt.rcParams['figure.dpi']  # pixel in inches\n",
    "fig, ax = plt.subplots(figsize=(600*px,500*px))\n",
    "\n",
    "sns.scatterplot(data=sd_x, x='date', y='pcs/m',ax=ax, color=\"dodgerblue\", alpha=0.6,label=\"lac léman\")\n",
    "sns.scatterplot(data=sd_x_sp, x='date', y='pcs/m', color=\"magenta\", label=\"solid-waste-team\", ax=ax)\n",
    "\n",
    "ax.set_ylim(-1, the_99th_percentile)\n",
    "ax.legend(loc=\"upper left\")\n",
    "ax.set_xlabel(\"\")\n",
    "glue(\"testing_training_chrono\", fig, display=False)\n",
    "plt.close()"
   ]
  },
  {
   "cell_type": "code",
   "execution_count": 8,
   "metadata": {
    "editable": true,
    "pycharm": {
     "name": "#%%\n"
    },
    "slideshow": {
     "slide_type": ""
    },
    "tags": [
     "remove-input"
    ]
   },
   "outputs": [
    {
     "data": {
      "application/papermill.record/image/png": "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",
      "application/papermill.record/text/plain": "<Figure size 600x500 with 1 Axes>"
     },
     "metadata": {
      "scrapbook": {
       "mime_prefix": "application/papermill.record/",
       "name": "testing_training_doy"
      }
     },
     "output_type": "display_data"
    }
   ],
   "source": [
    "# all the data day of year\n",
    "fig, ax = plt.subplots(figsize=(600*px, 500*px))\n",
    "\n",
    "sns.scatterplot(data=sd_x, x='doy', y='pcs/m', ax=ax, color=\"dodgerblue\", alpha=0.6,label=\"lac léman\")\n",
    "sns.scatterplot(data=sd_x_sp, x='doy', y='pcs/m', color=\"magenta\", label=\"solid-waste-team\", ax=ax)\n",
    "ax.set_ylim(-1, the_99th_percentile)\n",
    "ax.set_xlabel(\"Day of the year\")\n",
    "glue('testing_training_doy', fig, display=False)\n",
    "plt.close()"
   ]
  },
  {
   "cell_type": "code",
   "execution_count": 9,
   "metadata": {
    "editable": true,
    "pycharm": {
     "name": "#%%\n"
    },
    "slideshow": {
     "slide_type": ""
    },
    "tags": [
     "remove-input"
    ]
   },
   "outputs": [
    {
     "data": {
      "application/papermill.record/text/html": "<style type=\"text/css\">\n#T_6b669 tr:nth-child(even) {\n  background-color: rgba(139, 69, 19, 0.08);\n}\n#T_6b669 tr:nth-child(odd) {\n  background: #FFF;\n}\n#T_6b669 tr {\n  font-size: 14px;\n  padding: 12px;\n}\n#T_6b669 th:nth-child(1) {\n  background-color: #FFF;\n  text-align: right;\n}\n#T_6b669 caption {\n  font-size: 14px;\n  font-style: italic;\n  caption-side: bottom;\n  text-align: left;\n  margin-top: 10px;\n}\n</style>\n<table id=\"T_6b669\">\n  <caption>The observed values from the training and testing data. Remark that the testing data is only 22% of all the data. This is because we are only in the first year of a six year sampling period</caption>\n  <thead>\n    <tr>\n      <th class=\"blank level0\" >&nbsp;</th>\n      <th id=\"T_6b669_level0_col0\" class=\"col_heading level0 col0\" >before may 2021</th>\n      <th id=\"T_6b669_level0_col1\" class=\"col_heading level0 col1\" >after may 2021</th>\n    </tr>\n  </thead>\n  <tbody>\n    <tr>\n      <th id=\"T_6b669_level0_row0\" class=\"row_heading level0 row0\" >weight all samples</th>\n      <td id=\"T_6b669_row0_col0\" class=\"data row0 col0\" >0.78</td>\n      <td id=\"T_6b669_row0_col1\" class=\"data row0 col1\" >0.22</td>\n    </tr>\n    <tr>\n      <th id=\"T_6b669_level0_row1\" class=\"row_heading level0 row1\" >Number of samples</th>\n      <td id=\"T_6b669_row1_col0\" class=\"data row1 col0\" >263</td>\n      <td id=\"T_6b669_row1_col1\" class=\"data row1 col1\" >73</td>\n    </tr>\n    <tr>\n      <th id=\"T_6b669_level0_row2\" class=\"row_heading level0 row2\" >Median</th>\n      <td id=\"T_6b669_row2_col0\" class=\"data row2 col0\" >3.47</td>\n      <td id=\"T_6b669_row2_col1\" class=\"data row2 col1\" >2.28</td>\n    </tr>\n    <tr>\n      <th id=\"T_6b669_level0_row3\" class=\"row_heading level0 row3\" >Average</th>\n      <td id=\"T_6b669_row3_col0\" class=\"data row3 col0\" >6.13</td>\n      <td id=\"T_6b669_row3_col1\" class=\"data row3 col1\" >3.25</td>\n    </tr>\n    <tr>\n      <th id=\"T_6b669_level0_row4\" class=\"row_heading level0 row4\" >25th percentile</th>\n      <td id=\"T_6b669_row4_col0\" class=\"data row4 col0\" >1.52</td>\n      <td id=\"T_6b669_row4_col1\" class=\"data row4 col1\" >0.78</td>\n    </tr>\n    <tr>\n      <th id=\"T_6b669_level0_row5\" class=\"row_heading level0 row5\" >75th percentile</th>\n      <td id=\"T_6b669_row5_col0\" class=\"data row5 col0\" >6.69</td>\n      <td id=\"T_6b669_row5_col1\" class=\"data row5 col1\" >4.31</td>\n    </tr>\n  </tbody>\n</table>\n",
      "application/papermill.record/text/plain": "<pandas.io.formats.style.Styler at 0x7ffa09d29820>"
     },
     "metadata": {
      "scrapbook": {
       "mime_prefix": "application/papermill.record/",
       "name": "data-summary"
      }
     },
     "output_type": "display_data"
    }
   ],
   "source": [
    "testing_vals= sd_x[sd_x.Project == \"after may 2021\"]['pcs/m'].values\n",
    "training_vals = sd_x[sd_x.Project == \"before may 2021\"]['pcs/m'].values\n",
    "\n",
    "\n",
    "train_quantiles = np.quantile(training_vals, some_quants)\n",
    "test_quantiles = np.quantile(testing_vals, some_quants)\n",
    "\n",
    "training_testing_summary = training_testing_compare(testing_vals, training_vals, test_quantiles, train_quantiles)\n",
    "caption = \"The observed values from the training and testing data. Remark that the testing data is only 22% of all the data. This is because we are only in the first year of a six year sampling period\"\n",
    "sum_table = training_testing_summary.set_caption(caption)\n",
    "sum_table.format(formatter=\"{:.0f}\", subset=pd.IndexSlice[['Number of samples'], :])\n",
    "glue(\"data-summary\", sum_table, display=False)"
   ]
  },
  {
   "cell_type": "code",
   "execution_count": 10,
   "metadata": {
    "editable": true,
    "pycharm": {
     "name": "#%%\n"
    },
    "slideshow": {
     "slide_type": ""
    },
    "tags": [
     "remove-input"
    ]
   },
   "outputs": [
    {
     "data": {
      "application/papermill.record/image/png": "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",
      "application/papermill.record/text/plain": "<Figure size 600x500 with 1 Axes>"
     },
     "metadata": {
      "scrapbook": {
       "mime_prefix": "application/papermill.record/",
       "name": "testing_training_cumulative"
      }
     },
     "output_type": "display_data"
    }
   ],
   "source": [
    "fig, ax = plt.subplots(figsize=(600*px, 500*px))\n",
    "\n",
    "sns.ecdfplot(data=sd_x, x='pcs/m', hue='Project',  hue_order=[\"before may 2021\", \"after may 2021\"],ax=ax)\n",
    "ax.set_xlim(-1, the_99th_percentile)\n",
    "ax.set_ylabel(\"Cumulative probability\")\n",
    "glue('testing_training_cumulative', fig, display=False)\n",
    "plt.close()"
   ]
  },
  {
   "cell_type": "markdown",
   "metadata": {
    "editable": true,
    "pycharm": {
     "name": "#%% md\n"
    },
    "slideshow": {
     "slide_type": ""
    },
    "tags": []
   },
   "source": [
    "|Figure 1, Table 1 | Table 2, Figure 2|\n",
    "|:-----------------------:|:---------------------:|\n",
    "|{glue:}`testing_training_chrono` |{glue}`data-summary`|\n",
    "|{glue:}`data-summ-q2`|{glue}`testing_training_doy`|"
   ]
  },
  {
   "cell_type": "code",
   "execution_count": 11,
   "metadata": {
    "editable": true,
    "slideshow": {
     "slide_type": ""
    },
    "tags": [
     "remove-input"
    ]
   },
   "outputs": [
    {
     "data": {
      "application/papermill.record/text/html": "<style type=\"text/css\">\n#T_abc2e tr:nth-child(even) {\n  background-color: rgba(139, 69, 19, 0.08);\n}\n#T_abc2e tr:nth-child(odd) {\n  background: #FFF;\n}\n#T_abc2e tr {\n  font-size: 14px;\n  padding: 12px;\n}\n#T_abc2e th:nth-child(1) {\n  background-color: #FFF;\n  text-align: right;\n}\n#T_abc2e caption {\n  font-size: 14px;\n  font-style: italic;\n  caption-side: bottom;\n  text-align: left;\n  margin-top: 10px;\n}\n</style>\n<table id=\"T_abc2e\">\n  <caption>The number of different locations and cities for the data. Note that there are 31 different municipalitites in all.</caption>\n  <thead>\n    <tr>\n      <th class=\"blank level0\" >&nbsp;</th>\n      <th id=\"T_abc2e_level0_col0\" class=\"col_heading level0 col0\" >before may 2021</th>\n      <th id=\"T_abc2e_level0_col1\" class=\"col_heading level0 col1\" >after may 2021</th>\n    </tr>\n  </thead>\n  <tbody>\n    <tr>\n      <th id=\"T_abc2e_level0_row0\" class=\"row_heading level0 row0\" >Number of cities</th>\n      <td id=\"T_abc2e_row0_col0\" class=\"data row0 col0\" >21</td>\n      <td id=\"T_abc2e_row0_col1\" class=\"data row0 col1\" >19</td>\n    </tr>\n    <tr>\n      <th id=\"T_abc2e_level0_row1\" class=\"row_heading level0 row1\" >Number of locations</th>\n      <td id=\"T_abc2e_row1_col0\" class=\"data row1 col0\" >48</td>\n      <td id=\"T_abc2e_row1_col1\" class=\"data row1 col1\" >23</td>\n    </tr>\n    <tr>\n      <th id=\"T_abc2e_level0_row2\" class=\"row_heading level0 row2\" >Total objects</th>\n      <td id=\"T_abc2e_row2_col0\" class=\"data row2 col0\" >57,623</td>\n      <td id=\"T_abc2e_row2_col1\" class=\"data row2 col1\" >14,703</td>\n    </tr>\n  </tbody>\n</table>\n",
      "application/papermill.record/text/plain": "<pandas.io.formats.style.Styler at 0x7ffa12217d00>"
     },
     "metadata": {
      "scrapbook": {
       "mime_prefix": "application/papermill.record/",
       "name": "data-summ-q2"
      }
     },
     "output_type": "display_data"
    }
   ],
   "source": [
    "summ_data = cbd.copy()\n",
    "\n",
    "summ_data[\"use group\"] = summ_data.code.map(lambda x: use_groups_i[x])\n",
    "\n",
    "summ_data[\"ug\"] = summ_data[\"use group\"].apply(lambda x: abbrev_use_g[x])\n",
    "summ_data[summ_data[\"use group\"] == 'Personal consumption'].code.unique()\n",
    "summ_data[\"date\"] = pd.to_datetime(summ_data[\"date\"], format=\"%Y-%m-%d\")\n",
    "\n",
    "sd_x = summ_data.groupby([\"loc_date\", \"date\", \"city\", \"Project\", \"doy\"], as_index=False).agg({\"pcs/m\": 'sum', 'quantity':'sum'})\n",
    "sd_x_sp = sd_x[sd_x.city == 'Saint-Sulpice (VD)'].groupby([\"loc_date\", \"date\", \"city\", \"Project\", \"doy\"], as_index=False).agg({\"pcs/m\": 'sum', 'quantity':'sum'})\n",
    "\n",
    "trg = summ_data[summ_data.Project == \"before may 2021\"].copy()\n",
    "tst = summ_data[summ_data.Project == \"after may 2021\"].copy()\n",
    "trg_c, tst_c = trg.city.nunique(), tst.city.nunique()\n",
    "trg_lc, tst_lc = trg.slug.nunique(), tst.slug.nunique()\n",
    "trg_q, tst_q = trg.quantity.sum(), tst.quantity.sum()\n",
    "\n",
    "data_magnitude = [\n",
    "    {\"before may 2021\":trg_c, \"after may 2021\":tst_c},\n",
    "    {\"before may 2021\":trg_lc, \"after may 2021\":tst_lc},\n",
    "    {\"before may 2021\":trg_q, \"after may 2021\":tst_q}\n",
    "    \n",
    "]\n",
    "\n",
    "cities_set = list(set([*trg.city.unique(), *tst.city.unique()]))\n",
    "n_ind_cities = len(cities_set)\n",
    "\n",
    "caption = f'The number of different locations and cities for the data. Note that there are {n_ind_cities} different municipalitites in all.'\n",
    "\n",
    "data_summ_q = pd.DataFrame(data_magnitude, index=[\"Number of cities\", \"Number of locations\", \"Total objects\"]).astype('int')\n",
    "data_summ_q = data_summ_q.style.format(formatter=\"{:,}\").set_table_styles(table_large_font).set_caption(caption)\n",
    "styled = data_summ_q.format(formatter=\"{:,}\", subset=pd.IndexSlice[['Total objects'], :])\n",
    "glue(\"data-summ-q2\", styled, display=False)"
   ]
  },
  {
   "cell_type": "code",
   "execution_count": 12,
   "metadata": {
    "editable": true,
    "pycharm": {
     "name": "#%%\n"
    },
    "slideshow": {
     "slide_type": ""
    },
    "tags": [
     "remove-input"
    ]
   },
   "outputs": [],
   "source": [
    "def sampler_from_multinomial(normed, xrange, nsamples):\n",
    "    \n",
    "    choose = np.random.default_rng()\n",
    "    nunique = np.unique(normed)\n",
    "    norm_nunique = nunique/np.sum(nunique)\n",
    "    found = choose.multinomial(1, pvals=norm_nunique, size=nsamples)\n",
    "    ft = found.sum(axis=0)\n",
    "    samples = []\n",
    "    for i, asum in enumerate(ft):\n",
    "        if asum == 0:\n",
    "            samples += [0]\n",
    "        else:\n",
    "            choices = np.where(normed == nunique[i])\n",
    "            samps = choose.choice(choices[0], size=asum)\n",
    "            samples.extend(xrange[samps])\n",
    "\n",
    "    return samples, nunique, norm_nunique, ft\n",
    "\n",
    "def period_pieces(start, end, data):\n",
    "    # the results in pieces per meter for one code from a subset of data\n",
    "    date_mask = (data[\"date\"] >= start) & (data[\"date\"] <= end)\n",
    "    period_one = data[date_mask]\n",
    "    pone_pcs = period_one.pcs_m.values\n",
    "\n",
    "    return pone_pcs\n",
    "\n",
    "def period_k_and_n(data, xrange, add_one=False):\n",
    "\n",
    "    pone_k = [(data >= x).sum() for x in xrange]\n",
    "    pone_notk = [(data < x).sum() for x in xrange]\n",
    "\n",
    "    if add_one:\n",
    "        # if the use is for beta dist. This is the same\n",
    "        # as mulitplying the likelihood * uninform prior (0.5) or beta(1,1)\n",
    "        pone_k_n_minus_k = [(x+1, len(data) - x+1) for x in pone_k]\n",
    "    else:\n",
    "        pone_k_n_minus_k = [(x, len(data) - x) for x in pone_k]\n",
    "        \n",
    "    \n",
    "\n",
    "    return np.array(pone_k), np.array(pone_notk), np.array(pone_k_n_minus_k)\n",
    "\n",
    "def period_beta(k):\n",
    "    \n",
    "         \n",
    "    return beta(*k)\n",
    "        \n",
    "\n",
    "def current_possible_prior_locations(landuse, locations, attribute):    \n",
    "\n",
    "    # indentify the magnitude(s) of the attribute of interest from the\n",
    "    # locations in the current data there may be more than one, in this \n",
    "    # example we use all the possible magnitudes for the attribute\n",
    "    # locations = data[data.city == city].location.unique()\n",
    "\n",
    "    # magnitudes for the attribute from all the locations in the municipality\n",
    "    moa = magnitude_of_attribute = landuse.loc[locations][attribute].unique().astype('int')\n",
    "\n",
    "    # identify locations that have the same attribute by magnitude of attribute\n",
    "    possible_locations = landuse[landuse[attribute].isin(moa)].index\n",
    "\n",
    "    # remove the locations that are in the likelihood function\n",
    "    prior_locations = [x for x in possible_locations if x not in locations]\n",
    "\n",
    "    return locations, possible_locations, prior_locations\n",
    "\n",
    "\n",
    "def make_expected(lh_tuple, prior_tuple, xrange):\n",
    "    res = []\n",
    "    betas=[]\n",
    "    # print(lh_tuple, prior_tuple)\n",
    "    for i in np.arange(len(xrange)):\n",
    "        alpha = prior_tuple[i][0]\n",
    "        betai = prior_tuple[i][1]\n",
    "        success = lh_tuple[i][0]\n",
    "        n = lh_tuple[i][1] + lh_tuple[i][0] \n",
    "        numerator = alpha + success\n",
    "        denominator = alpha + betai + n\n",
    "        if numerator == 0:\n",
    "            numerator = 1\n",
    "        abeta = beta(numerator, (betai + lh_tuple[i][1] + lh_tuple[i][0])).mean()\n",
    "        betas.append(abeta)\n",
    "        # print(alpha, betai, success, numerator, n, denominator)\n",
    "        if numerator >= denominator:\n",
    "            numerator = denominator-1\n",
    "            \n",
    "        expected = numerator/denominator\n",
    "        res.append(expected)\n",
    "    return np.array(res), np.array(betas) "
   ]
  },
  {
   "cell_type": "code",
   "execution_count": 13,
   "metadata": {
    "editable": true,
    "slideshow": {
     "slide_type": ""
    },
    "tags": [
     "remove-input"
    ]
   },
   "outputs": [],
   "source": [
    "comb_lu_agg = pd.read_csv(\"resources/data/u_comb_lu_cover_street_rivers.csv\")\n",
    "\n",
    "lu_scaled = comb_lu_agg.pivot(columns=\"use\", values=\"scaled\", index=\"slug\").fillna(0)\n",
    "\n",
    "lu_magnitude = comb_lu_agg.pivot(columns=\"use\", values=\"magnitude\", index=\"slug\").fillna(0)\n",
    "\n",
    "lu_binned = comb_lu_agg.pivot(columns=\"use\", values=\"binned\", index=\"slug\").fillna(0)\n",
    "\n",
    "# not_these = ['amphion', 'anthy', 'excenevex', 'lugrin', 'meillerie', 'saint-disdille', 'tougues']\n",
    "merge_locations = cbd.slug.unique()\n",
    "cbdu = cbd[~cbd.slug.isin(not_these)].merge(lu_scaled[lu_scaled.index.isin(merge_locations )], left_on=\"slug\", right_index=True, validate=\"many_to_one\", how=\"outer\")\n",
    "\n",
    "cbdu[\"use group\"] = cbdu.code.map(lambda x: use_groups_i[x])\n",
    "\n",
    "cbdu[\"ug\"] = cbdu[\"use group\"].apply(lambda x: abbrev_use_g[x])\n",
    "cbdu[cbdu[\"use group\"] == 'Personal consumption'].code.unique()\n",
    "cbdu[\"date\"] = pd.to_datetime(cbdu[\"date\"], format=\"%Y-%m-%d\")\n",
    "\n",
    "attribute_columns = [x for x in lu_scaled.columns if x not in [\"Geroell\", \"Stausee\", \"See\", \"Sumpf\", \"Stadtzentr\", \"Fels\"]]\n",
    "work_columns = [x for x in cbdu.columns if x not in [\"Geroell\", \"Stausee\", \"See\", \"Sumpf\", \"Stadtzentr\", \"Fels\"]]\n",
    "cbdu = cbdu[work_columns].copy()\n",
    "cbdu.rename(columns={\"pcs/m\":\"pcs_m\"}, inplace=True)\n"
   ]
  },
  {
   "cell_type": "markdown",
   "metadata": {
    "editable": true,
    "pycharm": {
     "name": "#%% md\n"
    },
    "slideshow": {
     "slide_type": ""
    },
    "tags": []
   },
   "source": [
    "## Expected survey results Saint Sulpice\n",
    "\n",
    "The expected survey results will be revealed once the class has made the recomendations."
   ]
  },
  {
   "cell_type": "code",
   "execution_count": 14,
   "metadata": {
    "editable": true,
    "slideshow": {
     "slide_type": ""
    },
    "tags": [
     "remove-input"
    ]
   },
   "outputs": [],
   "source": [
    "city =  'Saint-Sulpice (VD)'\n",
    "start, end = \"2015-11-15\", \"2021-05-31\"\n",
    "g_resa = cbdu.copy()\n",
    "g_resa = g_resa.groupby(['loc_date', 'date','slug', 'city', 'Project', 'ug'], as_index=False).agg({'pcs_m':'sum', 'quantity':'sum'})\n",
    "g_resa.rename(columns={\"ug\":\"code\"}, inplace=True)\n",
    "g_resadt = g_resa.groupby(['loc_date', 'date','slug', 'city', 'Project'], as_index=False).agg({'pcs_m':'sum', 'quantity':'sum'})"
   ]
  },
  {
   "cell_type": "code",
   "execution_count": 15,
   "metadata": {
    "editable": true,
    "slideshow": {
     "slide_type": ""
    },
    "tags": [
     "remove-input"
    ]
   },
   "outputs": [],
   "source": [
    "index_range = (0.0, 10)\n",
    "\n",
    "xrange =  np.arange(*index_range, step=.01)\n",
    "uninformed_tuple = np.array([(1,1) for x in xrange])\n",
    "this_attribute = attribute_columns[2]\n",
    "# define the prior, likelihood data and likelihood locations\n",
    "# removing the results from saint sulpice from the prior data\n",
    "prior_data = g_resadt[(g_resadt.Project ==\"before may 2021\")&(g_resadt.city != city)]\n",
    "\n",
    "# the likelihood data\n",
    "lh_data = g_resadt[(g_resadt.city == city)].copy()\n",
    "lh_locations = lh_data.slug.unique()\n",
    "\n",
    "# find other locations in the regions\n",
    "regions = lac_leman_regions[~lac_leman_regions.slug.isin(not_these)].copy()\n",
    "lh_regions = regions[regions.slug.isin(lh_locations)].alabel.unique()\n",
    "regional_locations = regions[regions.alabel.isin(lh_regions)].slug.unique()\n",
    "\n",
    "# compare the landuse values of locations in the region\n",
    "# select locations that are similar to the locations in Saint Sulpice\n",
    "# use the this_attribute to compare \n",
    "land_use_data_of_interest = lu_binned.loc[regional_locations]\n",
    "locations, possible_locations, prior_locations = current_possible_prior_locations(land_use_data_of_interest, lh_locations, this_attribute)\n",
    "\n",
    "prior_args = {\n",
    "    'prior_data':prior_data[prior_data.slug.isin(prior_locations)],\n",
    "    'start': start,\n",
    "    'end': end,\n",
    "    'xrange':xrange,\n",
    "    'uninformed_prior': uninformed_tuple,\n",
    "}\n",
    "# grid approximation of the prior\n",
    "# this returns a calculated grid approximation\n",
    "# the beta approximation, the beta parameters\n",
    "# and the data used to make the inference\n",
    "grid_prior, beta_prior, prior_k_n, prior_df, pcs = prior_distributions(**prior_args)\n",
    "\n",
    "posterior_args = {\n",
    "    'lh_data':lh_data,\n",
    "    'start': start,\n",
    "    'end': \"2022-12-31\",\n",
    "    'un_informed': uninformed_tuple,\n",
    "    'informed_prior': prior_k_n\n",
    "}\n",
    "\n",
    "# grid approximation of posterior\n",
    "informed, uninformed, beta_p, lh_pcs = posterior_distribution(**posterior_args)\n",
    "\n",
    "prior_df[\"Informed\"] = informed\n",
    "prior_df[\"Ip_n\"] = prior_df.Informed/prior_df.Informed.sum()\n",
    "prior_df[\"Uninformed post\"] = uninformed\n",
    "\n",
    "# the quantiles from the observed data\n",
    "prior_quants = np.quantile(pcs, some_quants)"
   ]
  },
  {
   "cell_type": "code",
   "execution_count": 16,
   "metadata": {
    "editable": true,
    "slideshow": {
     "slide_type": ""
    },
    "tags": [
     "remove-input"
    ]
   },
   "outputs": [
    {
     "data": {
      "application/papermill.record/text/html": "<style type=\"text/css\">\n#T_73270 tr:nth-child(even) {\n  background-color: rgba(139, 69, 19, 0.08);\n}\n#T_73270 tr:nth-child(odd) {\n  background: #FFF;\n}\n#T_73270 tr {\n  font-size: 14px;\n  padding: 12px;\n}\n#T_73270 th:nth-child(1) {\n  background-color: #FFF;\n  text-align: right;\n}\n#T_73270 caption {\n  font-size: 14px;\n  font-style: italic;\n  caption-side: bottom;\n  text-align: left;\n  margin-top: 10px;\n}\n</style>\n<table id=\"T_73270\">\n  <caption>Previous and expected median values of the combined daily totals of the Unkown objects group</caption>\n  <thead>\n    <tr>\n      <th class=\"blank level0\" >&nbsp;</th>\n      <th id=\"T_73270_level0_col0\" class=\"col_heading level0 col0\" >pcs/m</th>\n    </tr>\n  </thead>\n  <tbody>\n    <tr>\n      <th id=\"T_73270_level0_row0\" class=\"row_heading level0 row0\" >Median 2021</th>\n      <td id=\"T_73270_row0_col0\" class=\"data row0 col0\" >5.51</td>\n    </tr>\n    <tr>\n      <th id=\"T_73270_level0_row1\" class=\"row_heading level0 row1\" >Median 2022</th>\n      <td id=\"T_73270_row1_col0\" class=\"data row1 col0\" >6.90</td>\n    </tr>\n    <tr>\n      <th id=\"T_73270_level0_row2\" class=\"row_heading level0 row2\" >Expected sampling median 2024</th>\n      <td id=\"T_73270_row2_col0\" class=\"data row2 col0\" >6.32</td>\n    </tr>\n    <tr>\n      <th id=\"T_73270_level0_row3\" class=\"row_heading level0 row3\" >% 2022 in 50% IQR  predicted</th>\n      <td id=\"T_73270_row3_col0\" class=\"data row3 col0\" >0.47</td>\n    </tr>\n    <tr>\n      <th id=\"T_73270_level0_row4\" class=\"row_heading level0 row4\" >% 2022 in 94% IQR  predicted</th>\n      <td id=\"T_73270_row4_col0\" class=\"data row4 col0\" >0.88</td>\n    </tr>\n  </tbody>\n</table>\n",
      "application/papermill.record/text/plain": "<pandas.io.formats.style.Styler at 0x7ffa11eab790>"
     },
     "metadata": {
      "scrapbook": {
       "mime_prefix": "application/papermill.record/",
       "name": "ssp-2024-meds"
      }
     },
     "output_type": "display_data"
    },
    {
     "data": {
      "application/papermill.record/text/html": "<style type=\"text/css\">\n#T_13779 tr:nth-child(even) {\n  background-color: rgba(139, 69, 19, 0.08);\n}\n#T_13779 tr:nth-child(odd) {\n  background: #FFF;\n}\n#T_13779 tr {\n  font-size: 14px;\n  padding: 12px;\n}\n#T_13779 th:nth-child(1) {\n  background-color: #FFF;\n  text-align: right;\n}\n#T_13779 caption {\n  font-size: 14px;\n  font-style: italic;\n  caption-side: bottom;\n  text-align: left;\n  margin-top: 10px;\n}\n</style>\n<table id=\"T_13779\">\n  <caption>The observed values from the training and testing data.</caption>\n  <thead>\n    <tr>\n      <th class=\"blank level0\" >&nbsp;</th>\n      <th id=\"T_13779_level0_col0\" class=\"col_heading level0 col0\" >before may 2021</th>\n      <th id=\"T_13779_level0_col1\" class=\"col_heading level0 col1\" >after may 2021</th>\n    </tr>\n  </thead>\n  <tbody>\n    <tr>\n      <th id=\"T_13779_level0_row0\" class=\"row_heading level0 row0\" >weight all samples</th>\n      <td id=\"T_13779_row0_col0\" class=\"data row0 col0\" >0.55</td>\n      <td id=\"T_13779_row0_col1\" class=\"data row0 col1\" >0.45</td>\n    </tr>\n    <tr>\n      <th id=\"T_13779_level0_row1\" class=\"row_heading level0 row1\" >Number of samples</th>\n      <td id=\"T_13779_row1_col0\" class=\"data row1 col0\" >21</td>\n      <td id=\"T_13779_row1_col1\" class=\"data row1 col1\" >17</td>\n    </tr>\n    <tr>\n      <th id=\"T_13779_level0_row2\" class=\"row_heading level0 row2\" >Median</th>\n      <td id=\"T_13779_row2_col0\" class=\"data row2 col0\" >5.51</td>\n      <td id=\"T_13779_row2_col1\" class=\"data row2 col1\" >6.90</td>\n    </tr>\n    <tr>\n      <th id=\"T_13779_level0_row3\" class=\"row_heading level0 row3\" >Average</th>\n      <td id=\"T_13779_row3_col0\" class=\"data row3 col0\" >8.27</td>\n      <td id=\"T_13779_row3_col1\" class=\"data row3 col1\" >11.98</td>\n    </tr>\n    <tr>\n      <th id=\"T_13779_level0_row4\" class=\"row_heading level0 row4\" >25th percentile</th>\n      <td id=\"T_13779_row4_col0\" class=\"data row4 col0\" >2.73</td>\n      <td id=\"T_13779_row4_col1\" class=\"data row4 col1\" >3.56</td>\n    </tr>\n    <tr>\n      <th id=\"T_13779_level0_row5\" class=\"row_heading level0 row5\" >75th percentile</th>\n      <td id=\"T_13779_row5_col0\" class=\"data row5 col0\" >7.08</td>\n      <td id=\"T_13779_row5_col1\" class=\"data row5 col1\" >11.44</td>\n    </tr>\n  </tbody>\n</table>\n",
      "application/papermill.record/text/plain": "<pandas.io.formats.style.Styler at 0x7ffa099e3970>"
     },
     "metadata": {
      "scrapbook": {
       "mime_prefix": "application/papermill.record/",
       "name": "ssp-summary"
      }
     },
     "output_type": "display_data"
    }
   ],
   "source": [
    "# the quantiles from the posterior\n",
    "post_quants = np.quantile(lh_pcs, some_quants)\n",
    "\n",
    "# samples from posterior\n",
    "# the grid approximation uses the mean of the binomial\n",
    "# distribution that describes wether a sample will exceed a given value\n",
    "# therefore we can use a multinomial distribution for that\n",
    "choose = np.random.default_rng()\n",
    "sim_2024, nunique, norm_nunique, ft = sampler_from_multinomial(prior_df[\"Ip_n\"].values, xrange, 200)\n",
    "x_median_2024 = prior_df.loc[prior_df[\"Informed\"].between(.45, .55), \"x\"].mean()\n",
    "\n",
    "# observed in relation to predicted\n",
    "ppf = predicted_summary(lh_pcs, pcs, prior_quants, x_median_2024)\n",
    "caption=\"Previous and expected median values of the combined daily totals of the Unkown objects group\"\n",
    "\n",
    "ppf_d = ppf.style.format(precision=2).set_caption(caption).set_table_styles(table_large_font)\n",
    "glue(\"ssp-2024-meds\", ppf_d, display=False)\n",
    "\n",
    "# comparing training to testing\n",
    "unks_sum_table = training_testing_compare(lh_pcs, pcs, post_quants, prior_quants)\n",
    "caption = \"The observed values from the training and testing data.\"\n",
    "sum_table = unks_sum_table.set_caption(caption)\n",
    "glue(\"ssp-summary\", sum_table, display=False)"
   ]
  },
  {
   "cell_type": "code",
   "execution_count": 17,
   "metadata": {
    "editable": true,
    "slideshow": {
     "slide_type": ""
    },
    "tags": [
     "remove-input"
    ]
   },
   "outputs": [
    {
     "data": {
      "application/papermill.record/image/png": "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",
      "application/papermill.record/text/plain": "<Figure size 640x480 with 1 Axes>"
     },
     "metadata": {
      "scrapbook": {
       "mime_prefix": "application/papermill.record/",
       "name": "ssp-outlook-2024"
      }
     },
     "output_type": "display_data"
    }
   ],
   "source": [
    "fig, ax = plt.subplots()\n",
    "\n",
    "# points\n",
    "median_prior = np.median(pcs)\n",
    "median_lh = np.median(lh_pcs)\n",
    "quants_2024 = np.quantile(sim_2024, some_quants)\n",
    "\n",
    "# posterior\n",
    "ax.plot(xrange, informed, c=\"magenta\", linewidth=3,linestyle=':', zorder=20, label='Outlook 2024')\n",
    "ax.plot([x_median_2024], [.5],  c=\"black\", markersize=6, marker=\"x\", zorder=27, label=\"Expected median 2024\")\n",
    "ax.plot(xrange, uninformed, c=\"darkslategrey\",  linestyle=':', linewidth=3, zorder=11, alpha=0.5,  label='2022')\n",
    "ax.plot([median_lh], [.5], c=\"blue\", markersize=5, marker=\"o\", zorder=25, label=\"2022 median\")\n",
    "ax.plot(xrange, grid_prior, c=\"cornflowerblue\", linestyle=':',  linewidth=4, zorder=11, alpha=0.5, label=\"2021\")\n",
    "ax.plot([median_prior], [.5], c=\"red\", markersize=5, marker=\"o\", zorder=25, label=\"2021 median\")\n",
    "\n",
    "# 50% IQR\n",
    "ax.axvspan(xmin=prior_quants[1], xmax=prior_quants[5], ymin=0.25, ymax=0.75, facecolor='cornflowerblue', zorder=13, alpha=0.2, label=\"IQR - 2021\")\n",
    "ax.axvspan(xmin=post_quants[1], xmax=post_quants[5], ymin=0.25, ymax=0.75, facecolor='darkslategrey', zorder=13, alpha=0.2, label=\"IQR - 2022\")\n",
    "ax.axvspan(xmin=quants_2024[1], xmax=quants_2024[5], ymin=0.25, ymax=0.75, facecolor='black', zorder=15, alpha=0.2, label=\"IQR - 2024\")\n",
    "\n",
    "ax.set_xlabel('pcs/m')\n",
    "ax.set_xlim(-.1, 10)\n",
    "ax.set_ylim(-.01, 1)\n",
    "ax.set_ylabel('probability')\n",
    "h, l = ax.get_legend_handles_labels()\n",
    "ax.legend(h, l, bbox_to_anchor=(0,1.05), loc=\"lower left\", ncol=2 )\n",
    "glue('ssp-outlook-2024', fig, display=False)\n",
    "plt.close()"
   ]
  },
  {
   "cell_type": "code",
   "execution_count": 18,
   "metadata": {
    "editable": true,
    "slideshow": {
     "slide_type": ""
    },
    "tags": [
     "remove-input"
    ]
   },
   "outputs": [
    {
     "data": {
      "application/papermill.record/image/png": "iVBORw0KGgoAAAANSUhEUgAAAkAAAAIiCAYAAAAgpndnAAAAOXRFWHRTb2Z0d2FyZQBNYXRwbG90bGliIHZlcnNpb24zLjcuMSwgaHR0cHM6Ly9tYXRwbG90bGliLm9yZy/bCgiHAAAACXBIWXMAAA9hAAAPYQGoP6dpAACE60lEQVR4nO3dd3xTVf8H8E+a1XRDCx3QwW7ZG0pB8AHKkqUMBRmCPCKzVFEQeQBlyK6oRWbRn1AQAUFFoOyNUqaUJRTKaKlldNA2bZLz+6MSCE2hI23S5vP2lZfce88993uTJvnm3HPPkQghBIiIiIisiI25AyAiIiIqaUyAiIiIyOowASIiIiKrwwSIiIiIrA4TICIiIrI6TICIiIjI6jABIiIiIqvDBIiIiIisjszcAVgqrVaL7Oxsc4dBREQmplAoYGPD3//WjgnQc4QQSEhIwKNHj8wdChERFQMbGxtUqVIFCoXC3KGQGUk4FYah+Ph4PHr0CBUrVoSdnR0kEom5QyIiIhPR6XS4e/cu5HI5fHx8+BlvxdgC9AytVqtPflxdXc0dDhERFYMKFSrg7t270Gg0kMvl5g6HzIQXQZ/xpM+PnZ2dmSMhIqLi8uTSl1arNXMkZE5MgIxgkygRUdnFz3gCmAARERGRFWIfICvk5+eHkJAQhISEmDsUkyhr50NPxcXFISkpqcSO5+bmBh8fn2Kpu6z9nZa18yErJEgvIyNDxMTEiIyMDHOHUihxcXFi2LBhwtPTU8jlcuHj4yPGjRsnkpKSDMr5+vqKxYsXmyfIYvCy81m+fLlo3bq1cHFxES4uLqJ9+/bixIkTucp98803ws/PTyiVStG4cWNx8OBBg+2bNm0SwcHBwtXVVQAQp0+fzlVH27ZtBQCDR//+/Yt6imLTpk2iQ4cOws3NTTg6OoqWLVuKHTt25Cr3008/iYCAAKFQKERAQIDYvHmzwfbZs2eLpk2bCgcHB1GhQgXRs2dPcenSJf32rKws8dFHH4m6desKOzs74enpKQYNGiTu3LlT5HMoqJs3bwo7O7tcz2dxPuzs7MTNmzcLFCffd8aZ4n2X37/HZcuWibZt2wpHR0cBQDx8+PCFsZf2z3oyDbYAlRHXr19HYGAgatasicjISFSpUgUXLlzAxIkT8fvvv+P48eMoX768WWLTarWQSCRmG3hs//79eOutt9CqVSvY2tpi3rx5CA4OxoULF1CpUiUAwIYNGxASEoLw8HAEBQVh2bJl6NKlC2JiYvQtAo8fP0ZQUBD69u2LESNG5Hm8ESNG4LPPPtMvq1SqIp/DwYMH0bFjR8yePRsuLi6IiIhA9+7dceLECTRq1AgAcOzYMfTv3x+ff/45evfujS1btqBfv344fPgwWrRoAQA4cOAARo8ejWbNmkGj0WDKlCkIDg5GTEwM7O3tkZ6ejlOnTmHq1Klo0KABHj58iJCQEPTo0QMnT54s8nkURFJSEtLT0zFhxip4+9Uq9uPdunEZi6cNR1JSUr5bgfi+y5sp3nf5/XtMT09H586d0blzZ0yePNks50ulkLkzMEti7FeBTqcTaWlpZnnodLp8x965c2dRuXJlkZ6ebrA+Pj5e2NnZiZEjR+rX+fr6is8++0y89dZbwt7eXnh6eoolS5YY7Ddt2jTh7e0tFAqF8PT0FGPHjtVvU6vVYuLEicLLy0vY2dmJ5s2bi3379um3R0RECGdnZ/HLL7+IgIAAIZVKxbfffiuUSmWuX2Zjx44Vr7zyin75yJEjok2bNsLW1lZUrlxZjB07VqSlpem337t3T7z22mvC1tZW+Pn5iR9++KHAv6w1Go1wdHQU3333nX5d8+bNDZ4jIYTw9/cXkyZNyrV/bGzsC1uAxo8fn+9YiqJ27dpixowZ+uV+/fqJzp07G5Tp1KmTePPNN/OsIzExUQAQBw4cyLPMH3/8IQAUuGWkqKKjowUAsei7w2LricfF/lj03WEBQERHR+c7Rr7vFuf7uSrq++6JF/097tu3jy1AlG/sBP0S6enpcHBwMMsjPT09XzE+ePAAO3fuxKhRo3K1Nnh4eGDgwIHYsGEDxDNjXs6fPx/169fHqVOnMHnyZEyYMAFRUVEAgJ9++gmLFy/GsmXLcPXqVfz888+oV6+eft933nkHR44cwfr163Hu3Dn07dsXnTt3xtWrVw2etzlz5mDlypW4cOEC3n77bbi4uGDTpk36MlqtFj/++CMGDhwIADh//jw6deqE119/HefOncOGDRtw+PBhjBkzRr/P0KFDcePGDezduxc//fQTwsPDkZiYWIBXNCe27Oxs/S/zrKwsREdHIzg42KBccHAwjh49WqC6AWDt2rVwc3NDnTp18OGHHyI1NbXAdbyMTqdDamqqQevCsWPHcp1Dp06dXngOycnJAPDCVork5GRIJBK4uLgULegyhu8787zv+PdIpsJLYGXA1atXIYRAQECA0e0BAQF4+PAh/vnnH1SsWBEAEBQUhEmTJgEAatasiSNHjmDx4sXo2LEj4uLi4OHhgQ4dOuhHS23evDkA4Nq1a4iMjMTt27fh5eUFAPjwww+xY8cOREREYPbs2QByxlQKDw9HgwYN9HH0798f69atw/DhwwEAe/bswcOHD9G3b18AOV8OAwYM0HeqrFGjBpYsWYK2bdti6dKliIuL019WeHJJZ9WqVXmed14mTZqESpUqoUOHDgByLrVotVq4u7sblHN3d0dCQkKB6h44cCCqVKkCDw8P/PXXX5g8eTLOnj2r/5IzlYULF+Lx48fo16+ffl1CQkKBzkEIgdDQULRu3Rp169Y1WiYzMxOTJk3CgAED4OTkZLoTKAP4viv59x3/HsmUmAC9hJ2dHdLS0sx2bFN48gv02bEvAgMDDcoEBgYiLCwMANC3b1+EhYWhatWq6Ny5M7p27Yru3btDJpPh1KlTEEKgZs2aBvur1WqD0bMVCgXq169vUGbgwIEIDAzE3bt34eXlhbVr16Jr164oV64cACA6Ohp///031q5daxC7TqdDbGwsrly5AplMhqZNm+q3+/v7F+iX4Lx58xAZGYn9+/fD1tbWYNvzY4MIIQo8XsizfYPq1q2LGjVqoGnTpjh16hQaN26cq/zatWvx3nvv6Zd///13tGnT5oXHiIyMxPTp07F161b9F2thzmHMmDE4d+4cDh8+bHR7dnY23nzzTeh0OoSHh78wJsqN77unTPG+498jmRoToJeQSCSwt7c3dxgvVL16dUgkEsTExKBXr165tl+6dAnlypWDm5vbC+t58qHj7e2Ny5cvIyoqCrt378aoUaMwf/58HDhwADqdDlKpFNHR0ZBKpQb7Ozg46P+tUqlyfYg1b94c1apVw/r16/H+++9jy5YtiIiI0G/X6XR47733MG7cuFyx+fj44PLlywZxFtSCBQswe/Zs7N692+BLws3NDVKpNNevzsTExFy/TguqcePGkMvluHr1qtEEqEePHvpf1QD0nUPzsmHDBgwfPhwbN27U/5J+wsPDI9/nMHbsWGzbtg0HDx5E5cqVc23Pzs5Gv379EBsbi7179/LXthF83+WPKd53/Huk4sAEqAxwdXVFx44dER4ejgkTJhj0R0hISMDatWsxePBggw+w48ePG9Rx/Phx+Pv765dVKhV69OiBHj16YPTo0fD398f58+fRqFEjaLVaJCYmvrSlwpgBAwZg7dq1qFy5MmxsbNCtWzf9tsaNG+PChQuoXr260X0DAgKg0Whw8uRJ/aWBy5cv49GjRy897vz58zFz5kzs3LnT4JcskPOruUmTJoiKikLv3r3166OiotCzZ88Cn+OzLly4gOzsbHh6ehrd7ujoCEdHx3zVFRkZiWHDhiEyMtLgeXsiMDAQUVFRmDBhgn7drl270KpVK/2yEAJjx47Fli1bsH//flSpUiVXPU++bK5evYp9+/ZxXrw88H336KXHNcX7jn+PVFyYAJURX3/9NVq1aoVOnTph5syZBrfjVqpUCbNmzTIof+TIEcybNw+9evVCVFQUNm7ciN9++w0AsGbNGmi1WrRo0QJ2dnb4v//7P6hUKvj6+sLV1RUDBw7E4MGDsXDhQjRq1AhJSUnYu3cv6tWrh65du74wzoEDB2LGjBmYNWsW+vTpY9Ac/vHHH6Nly5YYPXo0RowYAXt7e1y8eBFRUVH46quvUKtWLXTu3BkjRozA8uXLIZPJEBIS8tLbzOfNm4epU6di3bp18PPz0//ifNLZHABCQ0MxaNAgNG3aFIGBgVi+fDni4uIwcuRIfT0PHjxAXFwc7t69CwD6X8YeHh7w8PDAtWvX9JcX3NzcEBMTgw8++ACNGjVCUFBQfl7GPEVGRmLw4MH48ssv0bJlS/05qFQqODs7AwDGjx+PV155BXPnzkXPnj2xdetW7N692+AS1+jRo7Fu3Tps3boVjo6O+nqcnZ2hUqmg0WjQp08fnDp1Cr/++iu0Wq2+TPny5fVzKJWkWzcuW+xx+L7Lmyned/n9e0xISEBCQgL+/vtvADkdux0dHeHj42O2YQioFDDDnWcWq7TfGnnjxg0xdOhQ4eHhIeRyufD29hZjx441OiDbjBkzRL9+/YSdnZ1wd3cXYWFh+u1btmwRLVq0EE5OTsLe3l60bNlS7N69W789KytL/O9//xN+fn5CLpcLDw8P0bt3b3Hu3DkhxNPbcfPSrFkzAUDs3bs317Y//vhDdOzYUTg4OAh7e3tRv359MWvWLP32+Ph40a1bN6FUKoWPj4/4/vvvX3o7rq+vr9FB76ZNm2ZQ7ptvvhG+vr5CoVCIxo0b57o1PCIi4oX1xMXFiVdeeUWUL19eKBQKUa1aNTFu3Dhx//79PGPLL2MDLAIQQ4YMMSi3ceNGUatWLSGXy4W/v7/YtGmTwXZjdQAQERERQoint/gbezx7y3VJKC0DIfJ9Z5wp3nf5/XucNm3aC/+un1faP+vJNCRCPHOPppXLzMxEbGwsqlSpkqujHhGVvLI0FQZZDn7WE8BLYERkwXx8fJiQEFGx4ECIREREZHWYABEREZHVYQJEREREVocJEBEREVkdJkBERERkdZgAERERkdVhAkRERERWhwkQERHlW7t27RASEmLuMIiKjAmQFfLz80NYWJi5wzCZsnY+9Iw4AKdK8BFXsPCGDh0KiUSS69G5c+fCn3MxKMmkZfPmzejYsSMqVKgAJycnBAYGYufOnbnKbdq0CbVr14ZSqUTt2rWxZcsWg+1z5sxBs2bN4OjoiIoVK6JXr176+feMee+99yCRSPhZQPnGBKgMuXXrFoYPHw4vLy8oFAr4+vpi/PjxuH//vrlDM6sVK1agTZs2KFeuHMqVK4cOHTrgjz/+yFUuPDxcPzR+kyZNcOjQIYPtmzdvRqdOneDm5gaJRIIzZ87kqqNdu3a5vgzffPPNIp9DSX6p5Oc8S0QcoPPXAU1QYg+dv67ASVDnzp0RHx9v8IiMjCzKmZdqBw8eRMeOHbF9+3ZER0fj1VdfRffu3XH69Gl9mWPHjqF///4YNGgQzp49i0GDBqFfv344ceKEvsyBAwcwevRoHD9+HFFRUdBoNAgODsbjx49zHfPnn3/GiRMn4OXlVSLnSGUDp8IoI65fv47AwEDUrFkTkZGRBrNS//777zh+/LjZZkXWarWQSCSwsTFPvr1//3689dZbaNWqFWxtbTFv3jwEBwfjwoULqFSpEgBgw4YNCAkJQXh4OIKCgrBs2TJ06dIFMTEx+qkYHj9+jKCgIPTt2xcjRozI83gjRozAZ599pl9+2azZ+fHkS2X27NlwcXFBREQEunfvjhMnTqBRo0YAnn6pfP755+jduze2bNmCfv364fDhw2jRogWAp18qzZo1g0ajwZQpUxAcHIyYmBjY29sX6DyLXRJgk2GDTb03IalC8c8H5vaPG97Y8gaQBKAAs28olUp4eHgY3bZ//34EBwdjz549aNOmDQBg4cKFmDNnDs6fPw9PT0+0a9cOdevWBQD88MMPkEqleP/99/H5559DIpEAALKysvDpp59i7dq1ePToEerWrYu5c+eiXbt2+mMdOXIEn3zyCf78808olUo0b94c69evx4QJE3DgwAEcOHAAX375JQAgNjYWfn5+iImJwYcffoiDBw/C3t4ewcHBWLx4Mdzc3ADk/C28//772Lx5MxwdHfHhhx++9Pl4vgVm9uzZ2Lp1K3755Rf932pYWBg6duyIyZMnAwAmT56MAwcOICwsTJ887tixw6CeiIgIVKxYEdHR0XjllVf06+/cuYMxY8Zg586d6Nat20vjI3qCLUAvIYSAOts8j4LMUzt69GgoFArs2rULbdu2hY+PD7p06YLdu3fjzp07mDJlikH51NRUDBgwAA4ODvDy8sJXX31lsH369Onw8fGBUqmEl5cXxo0bp9+WlZWFjz76CJUqVYK9vT1atGiB/fv367evWbMGLi4u+PXXX/WtEStWrICtrS0ePXpkcJxx48ahbdu2+uWjR4/ilVdegUqlgre3N8aNG2fwiy8xMRHdu3eHSqVClSpVsHbt2pc+N2vXrsWoUaPQsGFD+Pv7Y8WKFdDpdNizZ4++zKJFizB8+HC8++67CAgIQFhYGLy9vbF06VJ9mUGDBuF///sfOnTo8MLj2dnZwcPDQ/9wdnZ+aYwvExYWho8++gjNmjVDjRo1MHv2bNSoUQO//PKLQZknXyr+/v6YPHky2rdvb/CFtGPHDgwdOhR16tRBgwYNEBERgbi4OERHRxf4PEtKUoUkxHvGF/ujOJKsJ5eeBg0ahOTkZJw9exZTpkzBihUr4OnpqS/33XffQSaT4cSJE1iyZAkWL16MlStX6re/8847OHLkCNavX49z586hb9++6Ny5M65evQoAOHPmDNq3b486derg2LFjOHz4MLp37w6tVosvv/wSgYGBGDFihL6FytvbG/Hx8Wjbti0aNmyIkydPYseOHbh37x769eunP+7EiROxb98+bNmyBbt27cL+/fsN/lbyQ6fTITU11eAH2LFjxxAcHGxQrlOnTjh69Gie9SQnJwOAQT06nQ6DBg3CxIkTUadOnQLFRcQWoJfI0gBjVjw0y7G/HlEOSvnLyz148AA7d+7ErFmzcrU2eHh4YODAgdiwYQPCw8P1vyjnz5+PTz75BNOnT8fOnTsxYcIE+Pv7o2PHjvjpp5+wePFirF+/HnXq1EFCQgLOnj2rr/Odd97BjRs3sH79enh5eWHLli3o3Lkzzp8/jxo1agAA0tPTMWfOHKxcuRKurq6oXLkypk2bhk2bNmH48OEAclqGfvzxR31ryfnz59GpUyd8/vnnWLVqFf755x+MGTMGY8aMQUREBICcPhe3bt3C3r17oVAoMG7cOCQmJhboeU1PT0d2drb+gzQrKwvR0dGYNGmSQbng4OAXfiDnZe3atfjhhx/g7u6OLl26YNq0aXB0dCxwPS+S15fKhAkTDMp16tTphX0ijH2pUMH8+uuvcHBwMFj38ccfY+rUqQCAmTNnYvfu3fjvf/+LCxcuYNCgQejdu7dBeW9vbyxevBgSiQS1atXC+fPnsXjxYowYMQLXrl1DZGQkbt++rb/E8+GHH2LHjh2IiIjA7NmzMW/ePDRt2hTh4eH6Op9NCBQKhT4xf2Lp0qVo3LgxZs+erV+3evVqeHt748qVK/Dy8sKqVavw/fffo2PHjgByErXKlSsX6PlZuHAhHj9+bJBYJSQkwN3d3aCcu7s7EhISjNYhhEBoaChat26tby0DgLlz50Imkxn8QCPKLyZAZcDVq1chhEBAQIDR7QEBAXj48CH++ecfVKxYEQAQFBSk/8KvWbMmjhw5gsWLF6Njx46Ii4uDh4cHOnToALlcDh8fHzRv3hwA8vVhDADZ2dkIDw9HgwYN9HH0798f69at0ydAe/bswcOHD9G3b18AOUnZgAED9J01a9SogSVLlqBt27ZYunQp4uLi9JfznlzSWbVqVZ7nnZdJkyahUqVK+haOpKQkaLXaAn0g52XgwIGoUqUKPDw88Ndff2Hy5Mk4e/YsoqKiClTPyxTnlwoVzKuvvmrQUggYJpQKhQI//PAD6tevD19fX6MJacuWLfU/TgAgMDAQCxcuhFarxalTpyCEQM2aNQ32UavVcHV1BZDTAvTkfZRf0dHR2LdvX67kDch5n2dkZCArKwuBgYEG51WrVq18HyMyMhLTp0/H1q1b9Z89Tzx7vkDO3+Pz654YM2YMzp07h8OHDxvE/+WXX+LUqVN57kf0IkyAXkIhy2mJMdexTeHJpbTnP2CfFRgYqP9g7tu3L8LCwlC1alV07twZXbt2Rffu3SGTyfL1YQzkfOjXr1/foMzAgQMRGBiIu3fvwsvLC2vXrkXXrl1RrlzO8xsdHY2///7b4LKWEAI6nQ6xsbG4cuUKZDIZmjZtqt/u7+8PFxeXfD8X8+bNQ2RkJPbv3w9bW1uDbQX5QM7Ls31m6tatixo1aqBp06Y4deoUGjdunKv82rVr8d577+mXf//9d31fkbwU55cKFZy9vT2qV6/+wjJPWhIfPHiABw8e6Ptb5YdOp4NUKkV0dDSkUqnBtifJS2H6mel0OnTv3h1z587Ntc3T01N/ea2wNmzYgOHDh2Pjxo25Lqd6eHjkSswTExNzJfAAMHbsWGzbtg0HDx40aH06dOgQEhMT9X30gJxW5Q8++ABhYWG4ceNGkeKnso8J0EtIJJJ8XYYyp+rVq0MikSAmJga9evXKtf3SpUsoV66cvmNjXp58UXp7e+Py5cuIiorC7t27MWrUKMyfPx8HDhzI14cxkPOB/PwXb/PmzVGtWjWsX78e77//PrZs2aK/tAXkfCC/9957RpuzfXx89HcrFfbX3oIFCzB79mzs3r3bIDlzc3ODVCrN9wdyQTRu3BhyuRxXr141mgD16NFD35oFQN8pOy/F/aVCpnft2jVMmDABK1aswI8//ojBgwdjz549BjcFHD9+3GCf48ePo0aNGpBKpWjUqBG0Wi0SExPzTI7r16+PPXv2YMaMGUa3KxQKaLVag3WNGzfGpk2b4OfnB5ks91dB9erVIZfLcfz4cX2S8fDhQ1y5csWg354xkZGRGDZsGCIjI412TA4MDERUVJTBJdtdu3ahVatW+mUhBMaOHYstW7Zg//79qFKlikEdgwYNyvUe6NSpEwYNGoR33nnnhfERAUyAygRXV1d07NgR4eHhmDBhgsGvwYSEBKxduxaDBw82SByMfeD6+/vrl1UqFXr06IEePXpg9OjR8Pf3x/nz5/P1YfwiAwYMwNq1a1G5cmXY2NgYfDg2btwYFy5cyPPXdEBAADQaDU6ePKm/JHf58uVcHauNmT9/PmbOnImdO3catCABOV8OTZo0QVRUlEHfjKioKPTs2bPA5/isCxcuIDs726DD67McHR3z3T+oJL5UqODUanWuxFMmk8HNzQ1arRaDBg1CcHAw3nnnHXTp0gX16tXDwoULMXHiRH35W7duITQ0FO+99x5OnTqFr776CgsXLgSQc4l64MCBGDx4MBYuXIhGjRohKSkJe/fuRb169dC1a1dMnjwZ9erVw6hRozBy5EgoFArs27cPffv2hZubG/z8/HDixAncuHEDDg4OKF++PEaPHo0VK1bgrbfewsSJE+Hm5oa///4b69evx4oVK+Dg4IDhw4dj4sSJcHV1hbu7O6ZMmfLSuzkjIyMxePBgfPnll2jZsqX+uVGpVPobAsaPH49XXnkFc+fORc+ePbF161bs3r3boDVy9OjRWLduHbZu3QpHR0d9Pc7OzlCpVHB1dTVodQYAuVwODw+PAl2mI+vFBKiM+Prrr9GqVSt06tQJM2fONLgNvlKlSpg1a5ZB+SNHjmDevHno1asXoqKisHHjRvz2228Acu7i0mq1aNGiBezs7PB///d/UKlU8PX1haur60s/jF9k4MCBmDFjBmbNmoU+ffoYXIb6+OOP0bJlS4wePRojRoyAvb09Ll68iKioKHz11VeoVasWOnfujBEjRmD58uWQyWQICQl5afP/vHnzMHXqVKxbtw5+fn76D1IHBwd9q1VoaCgGDRqEpk2bIjAwEMuXL0dcXBxGjhypr+fBgweIi4vD3bt3AUDfIvXkbq9r167pL+u5ubkhJiYGH3zwARo1aoSgoKD8vIx5KqkvlfycZ0lz++fFLZfmPs6OHTtyJbi1atXCpUuXMGvWLNy4cUN/t56HhwdWrlyJfv36oWPHjmjYsCEAYPDgwcjIyEDz5s0hlUoxduxY/Pe//9XXFxERgZkzZ+KDDz7AnTt34OrqisDAQP37rWbNmti1axc++eQTNG/eHCqVCi1atMBbb70FIKef3pAhQ1C7dm1kZGTob4M/cuQIPv74Y3Tq1AlqtRq+vr7o3LmzPsmZP38+0tLS0KNHDzg6OuKDDz7Qd5zPy7Jly6DRaDB69GiMHj1av37IkCFYs2YNAKBVq1ZYv349Pv30U0ydOhXVqlXDhg0bDFpDn/SrevZW/yfPxdChQ/PxyhC9hCC9jIwMERMTIzIyMswdSqHcuHFDDB06VHh4eAi5XC68vb3F2LFjRVJSkkE5X19fMWPGDNGvXz9hZ2cn3N3dRVhYmH77li1bRIsWLYSTk5Owt7cXLVu2FLt379Zvz8rKEv/73/+En5+fkMvlwsPDQ/Tu3VucO3dOCCFERESEcHZ2zjPOZs2aCQBi7969ubb98ccfomPHjsLBwUHY29uL+vXri1mzZum3x8fHi27dugmlUil8fHzE999/L3x9fcXixYvzPJ6vr68AkOsxbdo0g3LffPON8PX1FQqFQjRu3FgcOHDAYHtERMQL64mLixOvvPKKKF++vFAoFKJatWpi3Lhx4v79+3nGll9t27Y1euwhQ4YYlNu4caOoVauWkMvlwt/fX2zatMlgu7E6AIiIiIh8n2eJuSmEVqUVOQNClMxDq9IKcbOkTjBH27Ztxfjx40v2oFautH/Wk2lIhCjAYDNlXGZmJmJjY/WjARORmcUhZ2DCkuKGAg2CaArt2rVDw4YNOYVDCeJnPQG8BEZElswHJZ6QEJF1YAJERGRGz46iTkQlh1NhEBERkdVhAkRERERWhwkQERERWR0mQERERGR1mAARERGR1WECRERERFaHt8FbIT8/P4SEhCAkJMTcoZhEWTsfeiouLg5JSSU3EqKbm5vB7OKmVNb+Tsva+ZAVMvdQ1JaktA+PHhcXJ4YNGyY8PT2FXC4XPj4+Yty4cUanwnjR1BGlzcvOZ/ny5aJ169bCxcVFuLi4iPbt24sTJ07kKvfNN98IPz8/oVQqRePGjcXBgwf127KyssRHH30k6tatK+zs7ISnp6cYNGiQuHPnjr7M/fv3xZgxY0TNmjWFSqXST0Xy6NEjk56vtbh586ZQqVR5Tt9RHA+VSiVu3izYXBh83xlnye+70v5ZT6bBFqAy4vr16wgMDETNmjURGRlpMBnq77//juPHj6N8+fJmiU2r1UIikbx0Funisn//frz11lto1aoVbG1tMW/ePAQHB+PChQuoVKkSAGDDhg0ICQlBeHg4goKCsGzZMnTp0gUxMTHw8fFBeno6Tp06halTp6JBgwZ4+PAhQkJC0KNHD5w8eRIAcPfuXdy9excLFixA7dq1cfPmTYwcORJ3797FTz/9ZJZzL82SkpKQkZGBoaNGwePf16k4Jdy5gzXh4UhKSsp3KxDfd3nj+44snrkzMEtSmn8VdO7cWVSuXFmkp6cbrI+Pjxd2dnZi5MiR+nW+vr7is88+E2+99Zawt7cXnp6eYsmSJQb7TZs2TXh7ewuFQiE8PT3F2LFj9dvUarWYOHGi8PLyEnZ2dqJ58+Zi3759+u1PJkP95ZdfREBAgJBKpeLbb78VSqVSPHz40OA4Y8eOFa+88op++ciRI6JNmzbC1tZWVK5cWYwdO1akpaXpt9+7d0+89tprwtbWVvj5+YkffvihwL+sNRqNcHR0FN99951+XfPmzQ2eIyGE8Pf3F5MmTcqznj/++EMAeGGLwY8//igUCoXIzs7Od3yUIzo6WgAQk2bNEuHr1hX7Y9KsWQKAiI6OzneMfN8tzvdzZUnvu9L8WU+mw07QLyGEQEZmplkeIp/z1D548AA7d+7EqFGjoFKpDLZ5eHhg4MCB2LBhg0F98+fPR/369XHq1ClMnjwZEyZMQFRUFADgp59+wuLFi7Fs2TJcvXoVP//8M+rVq6ff95133sGRI0ewfv16nDt3Dn379kXnzp1x9epVfZn09HTMmTMHK1euxIULF/D222/DxcUFmzZt0pfRarX48ccfMXDgQADA+fPn0alTJ7z++us4d+4cNmzYgMOHD2PMmDH6fYYOHYobN25g7969+OmnnxAeHo7ExMQCvKI5sWVnZ+t/mWdlZSE6OhrBwcEG5YKDg3H06NE860lOToZEIoGLi8sLyzg5OUEmY2NrWcP3Hd93VLrxr+MlMtVqBL75plmOfWz9eqjyMVPx1atXIYRAQECA0e0BAQF4+PAh/vnnH1SsWBEAEBQUhEmTJgEAatasiSNHjmDx4sXo2LEj4uLi4OHhgQ4dOkAul8PHxwfNmzcHAFy7dg2RkZG4ffs2vLy8AAAffvghduzYgYiICMyePRsAkJ2djfDwcDRo0EAfR//+/bFu3ToMHz4cALBnzx48fPgQffv2BZDz5TBgwAB9p8oaNWpgyZIlaNu2LZYuXYq4uDj9ZYUWLVoAAFatWpXneedl0qRJqFSpEjp06AAg51KLVquFu7u7QTl3d3ckJCQYrSMzMxOTJk3CgAED4OTkZLTM/fv38fnnn+O9994rUHxUOvB9x/cdlW5sAbICT36BSiQS/brAwECDMoGBgbh48SIAoG/fvsjIyEDVqlUxYsQIbNmyBRqNBgBw6tQpCCFQs2ZNODg46B8HDhzAtWvX9PUpFArUr1/f4BgDBw7E/v37cffuXQDA2rVr0bVrV5QrVw4AEB0djTVr1hjU26lTJ+h0OsTGxuLixYuQyWRo2rSpvk5/f/8X/hJ83rx58xAZGYnNmzfD9rnk8tnn58nz9vw6IOdL5s0334ROp0N4eLjR46SkpKBbt26oXbs2pk2blu/4qOzg++4pvu/IErEF6CVslUocW7/ebMfOj+rVq0MikSAmJga9evXKtf3SpUsoV64c3NzcXljPkw8db29vXL58GVFRUdi9ezdGjRqF+fPn48CBA9DpdJBKpYiOjoZUKjXY38HBQf9vlUqV60OsefPmqFatGtavX4/3338fW7ZsQUREhH67TqfDe++9h3HjxuWKzcfHB5cvXzaIs6AWLFiA2bNnY/fu3QZfEm5ubpBKpbl+dSYmJub6dZqdnY1+/fohNjYWe/fuNforNDU1FZ07d4aDgwO2bNkCuVxeqHjJsvF9lz9835GlYgL0EhKJJF+XoczJ1dUVHTt2RHh4OCZMmGDQHyEhIQFr167F4MGDDT7Ajh8/blDH8ePH4e/vr19WqVTo0aMHevTogdGjR8Pf3x/nz59Ho0aNoNVqkZiYiDZt2hQ41gEDBmDt2rWoXLkybGxs0K1bN/22xo0b48KFC6hevbrRfQMCAqDRaHDy5En9pYHLly/j0aNHLz3u/PnzMXPmTOzcudPglyyQ86u5SZMmiIqKQu/evfXro6Ki0LNnT/3ykw/hq1evYt++fXB1dc11nJSUFHTq1AlKpRLbtm3L9WuXyg6+7x699Lh835El4yWwMuLrr7+GWq1Gp06dcPDgQdy6dQs7duxAx44dUalSJcyaNcug/JEjRzBv3jxcuXIF33zzDTZu3Ijx48cDANasWYNVq1bhr7/+wvXr1/F///d/UKlU8PX1Rc2aNTFw4EAMHjwYmzdvRmxsLP7880/MnTsX27dvf2mcAwcOxKlTpzBr1iz06dPH4IPq448/xrFjxzB69GicOXMGV69exbZt2zB27FgAQK1atdC5c2eMGDECJ06cQHR0NN59991cHVCfN2/ePHz66adYvXo1/Pz8kJCQgISEBKSlpenLhIaGYuXKlVi9ejUuXryICRMmIC4uDiNHjgQAaDQa9OnTBydPnsTatWuh1Wr19WRlZQHI+QUaHByMx48fY9WqVUhJSdGX0Wq1+XgVqbTh+y5vfN+RpWMLUBlRo0YNnDx5EtOnT0f//v1x//59eHh4oFevXpg2bVqusUg++OADREdHY8aMGXB0dMTChQvRqVMnAICLiwu++OILhIaGQqvVol69evjll1/0v7wiIiIwc+ZMfPDBB7hz5w5cXV0RGBiIrl275ivOZs2a4c8//0RYWJjBtvr16+PAgQOYMmUK2rRpAyEEqlWrhv79++vLRERE4N1330Xbtm3h7u6OmTNnYurUqS88Znh4OLKystCnTx+D9dOmTcP06dMBQP+cffbZZ4iPj0fdunWxfft2+Pr6AgBu376Nbdu2AQAaNmxoUM++ffvQrl07REdH48SJEwCQ69d0bGws/Pz8Xvr8UG4Jd+5Y7HH4vssb33dk6SQiv/daW4HMzEzExsaiSpUqbEIlMrO4uDj4+/sjIyOjxI6pUqlw6dKlYpsOgywDP+sJYAsQEVkoHx8fXLp0qczMBUZEloUJEBFZLB8fHyYkRFQs2AmaiIiIrA4TICIiIrI6TICIiIjI6jABIiIiIqvDBIiIiIisDhMgIiIisjpMgIiIiMjqMAGiUqtdu3YICQkxdxhERFQKMQEqI4YOHQqJRJLr0blzZ3OHZqAkk5bNmzejY8eOqFChApycnBAYGIidO3fmKrdp0ybUrl0bSqUStWvXxpYtWwy2z5kzB82aNYOjoyMqVqyIXr164fLly3ke97333oNEIsk15xIREVkOJkBlSOfOnREfH2/wiIyMNHdYZnPw4EF07NgR27dvR3R0NF599VV0794dp0+f1pc5duwY+vfvj0GDBuHs2bMYNGgQ+vXrp59cEQAOHDiA0aNH4/jx44iKioJGo9HPPv28n3/+GSdOnICXl1eJnCMRERWSIL2MjAwRExMjMjIycm9MfO6R/YKKni+b9YKy/zxXVl2YyIUYMmSI6NmzZ57b9+3bJ+RyuTh48KB+3YIFC4Srq6u4e/euEEKItm3bitGjR4vRo0cLZ2dnUb58eTFlyhSh0+n0+6jVajFx4kTh5eUl7OzsRPPmzcW+ffsMjnX48GHxyiuvCJVKJVxcXERwcLB48OCBGDJkiABg8IiNjRVCCHHhwgXRpUsXYW9vLypWrCjefvtt8c8//+jrTEtLE4MGDRL29vbCw8NDLFiwQLRt21aMHz++QM9T7dq1xYwZM/TL/fr1E507dzYo06lTJ/Hmm2/mWUdiYqIAIA4cOGCw/vbt26JSpUrir7/+Er6+vmLx4sUFio2ISsYLP+vJarAFKL8qPvfI+woI4Pdc2TMvKBvwXNmjRQ/VmCeXngYNGoTk5GScPXsWU6ZMwYoVK+Dp6akv991330Emk+HEiRNYsmQJFi9ejJUrV+q3v/POOzhy5AjWr1+Pc+fOoW/fvujcuTOuXr0KADhz5gzat2+POnXq4NixYzh8+DC6d+8OrVaLL7/8EoGBgRgxYoS+hcrb2xvx8fFo27YtGjZsiJMnT2LHjh24d+8e+vXrpz/uxIkTsW/fPmzZsgW7du3C/v37ER0dXaDnQKfTITU1FeXLl9evO3bsGIKDgw3KderUCUeP5v1CJCcnA4BBPTqdDoMGDcLEiRNRp06dAsVFRERmYO4MzJK88FcBnnv89YKK7J4r+8cLyro9V3ZfIQIXOS1AUqlU2NvbGzw+++wzfRm1Wi0aNWok+vXrJ+rUqSPeffddgzratm0rAgICDFp8Pv74YxEQECCEEOLvv/8WEolE3Llzx2C/9u3bi8mTJwshhHjrrbdEUFBQnnEaa7WZOnWqCA4ONlh369YtAUBcvnxZpKamCoVCIdavX6/ffv/+faFSqQrUAjRv3jxRvnx5ce/ePf06uVwu1q5da1Bu7dq1QqFQGK1Dp9OJ7t27i9atWxusnz17tujYsaP+uWMLEJHlYgsQCSEEZ4MvQ1599VUsXbrUYN2zrRQKhQI//PAD6tevD19fX6OddFu2bAmJRKJfDgwMxMKFC6HVanHq1CkIIVCzZk2DfdRqNVxdXQHktAD17du3QHFHR0dj3759cHBwyLXt2rVryMjIQFZWFgIDAw3Oq1atWvk+RmRkJKZPn46tW7eiYsWKBtuePV8AEELkWvfEmDFjcO7cORw+fNgg/i+//BKnTp3Kcz8iIrIsTIDKEHt7e1SvXv2FZZ5c2nnw4AEePHgAe3v7fNev0+kglUoRHR0NqVRqsO1J8qJSqQoYdU693bt3x9y5c3Nt8/T01F9eK6wNGzZg+PDh2LhxIzp06GCwzcPDAwkJCQbrEhMT4e7unquesWPHYtu2bTh48CAqV66sX3/o0CEkJibCx8dHv06r1eKDDz5AWFgYbty4UaT4iYjI9NgHKL8Sn3u8qPHhxnNlG76g7MXnyrYqeqh5uXbtGiZMmIAVK1agZcuWGDx4MHQ6nUGZ48eP51quUaMGpFIpGjVqBK1Wi8TERFSvXt3g4eHhAQCoX78+9uzZk2cMCoUCWq3WYF3jxo1x4cIF+Pn55ar3SVInl8sNYnv48CGuXLny0nOOjIzE0KFDsW7dOnTr1i3X9sDAQERFRRms27VrF1q1evpCCCEwZswYbN68GXv37kWVKlUMyg8aNAjnzp3DmTNn9A8vLy9MnDjR6G33RERkAcx8Cc6ilObrwkOGDBGdO3cW8fHxBo8nd1JpNBoRGBgoXn/9dSGEEPHx8cLNzU3MmzdPX0fbtm2Fg4ODmDBhgrh06ZJYt26dsLe3F99++62+zMCBA4Wfn5/YtGmTuH79uvjjjz/EF198IX777TchhBCXL18WCoVCvP/+++Ls2bPi4sWLIjw8XB/HiBEjRLNmzURsbKz4559/hFarFXfu3BEVKlQQffr0ESdOnBDXrl0TO3fuFO+8847QaDRCCCFGjhwpfHx8xO7du8X58+dFjx49hIODwwv7AK1bt07IZDLxzTffGDwnjx490pc5cuSIkEql4osvvhAXL14UX3zxhZDJZOL48eP6Mu+//75wdnYW+/fvN6gnPT09z2OzDxCR5SrNn/VkOkyAnlGa3xTGbjEHIGrVqiWEEGLGjBnC09NTJCUl6ff5+eefhUKhEKdPnxZC5CRAo0aNEiNHjhROTk6iXLlyYtKkSQadorOyssT//vc/4efnJ+RyufDw8BC9e/cW586d05fZv3+/aNWqlVAqlcLFxUV06tRJPHz4UAiRkyC1bNlSqFQqg9vgr1y5Inr37i1cXFyESqUS/v7+IiQkRH/s1NRU8fbbbws7Ozvh7u4u5s2b99Lb4Nu2bWv0ORkyZIhBuY0bN4patWoJuVwu/P39xaZNmwy2G6sDgIiIiMjz2EyAiCxXaf6sJ9ORCCFEiTc7WajMzEzExsaiSpUqsLW1NXc4Ja5du3Zo2LAhRzAmojLN2j/rKQf7ABEREZHVYQJEREREVoe3wZPe/v37zR0CERFRiWALEBEREVkdJkBERERkdZgAGcEb44iIyi5+xhPABMiAXC4HAKSnp5s5EiIiKi5ZWVkAkGtKH7Iu7AT9DKlUChcXFyQmJgIA7OzsOLklEVEZotPp8M8//8DOzg4yGb8CrRlf/ec8mdPqSRJERERli42NDXx8fPgD18pxJOg8aLVaZGdnmzsMIiIyMYVCARsb9gCxdkyAiIiIyOowBSYiIiKrwwSIiIiIrA4TICIiIrI6TICIiIjI6jABIiIiIqvDBIiIiIisDhMgIiIisjpMgIiIiMjqMAEiIiIiq8MEiIiIiKwOEyAiIiKyOkyAiIiIyOowASIiIiKrwwSIiIiIrA4TICIiIrI6TICIiIjI6jABIiIiIqvDBIiIiIisjlkToIMHD6J79+7w8vKCRCLBzz///NJ9Dhw4gCZNmsDW1hZVq1bFt99+W/yBEhERUZli1gTo8ePHaNCgAb7++ut8lY+NjUXXrl3Rpk0bnD59Gp988gnGjRuHTZs2FXOkREREVJZIhBDC3EEAgEQiwZYtW9CrV688y3z88cfYtm0bLl68qF83cuRInD17FseOHSuBKImIiKgskJk7gII4duwYgoODDdZ16tQJq1atQnZ2NuRyea591Go11Gq1flmn0+HBgwdwdXWFRCIp9piJiIio6IQQSE1NhZeXF2xsin4Bq1QlQAkJCXB3dzdY5+7uDo1Gg6SkJHh6eubaZ86cOZgxY0ZJhUhERETF6NatW6hcuXKR6ylVCRCAXK02T67g5dWaM3nyZISGhuqXk5OT4ePjg1u3bsHJyan4AiUiIiKTSUlJgbe3NxwdHU1SX6lKgDw8PJCQkGCwLjExETKZDK6urkb3USqVUCqVudY7OTkxASIiIiplTNV9pVSNAxQYGIioqCiDdbt27ULTpk2N9v8hIiIiMsasCVBaWhrOnDmDM2fOAMi5zf3MmTOIi4sDkHP5avDgwfryI0eOxM2bNxEaGoqLFy9i9erVWLVqFT788ENzhE9ERESllFkvgZ08eRKvvvqqfvlJX50hQ4ZgzZo1iI+P1ydDAFClShVs374dEyZMwDfffAMvLy8sWbIEb7zxRonHTkRERKWXxYwDVFJSUlLg7OyM5ORk9gEiIiIqJUz9/V2q+gARERERmQITICIiIrI6TICIiIjI6jABIiIiIqvDBIiIiIisDhMgIiIisjpMgIiIiMjqMAEiIiIiq8MEiIiIiKwOEyAiIiKyOkyAiIiIyOowASIiIiKrwwSIiIiIrA4TICIiIrI6TICIiIjI6jABIiIiIqvDBIiIiIisDhMgIiIisjpMgIiIiMjqMAEiIiIiq8MEiIiIiKwOEyAiIiKyOkyAiIiIyOowASIiIiKrwwSIiIiIrA4TICIiIrI6TICIiIjI6jABIiIiIqvDBIiIiIisDhMgIiIisjpMgIiIiMjqMAEiIiIiq8MEiIiIiKwOEyAiIiKyOkyAiIiIyOowASIiIiKrwwSIiIiIrA4TICIiIrI6TICIiIjI6jABIiIiIqvDBIiIiIisDhMgIiIisjpMgIiIiMjqMAEiIiIiq8MEiIiIiKwOEyAiIiKyOkyAiIiIyOowASIiIiKrwwSIiIiIrA4TICIiIrI6TICIiIjI6jABIiIiIqvDBIiIiIisDhMgIiIisjpMgIiIiMjqMAEiIiIiq8MEiIiIiKwOEyAiIiKyOkyAiIiIyOowASIiIiKrwwSIiIiIrA4TICIiIrI6MnMHQERERE8JIZClMXcUlketESatz+wJUHh4OObPn4/4+HjUqVMHYWFhaNOmTZ7l165di3nz5uHq1atwdnZG586dsWDBAri6upZg1ERERKYnhMDcLam4lsAMqLiZ9RLYhg0bEBISgilTpuD06dNo06YNunTpgri4OKPlDx8+jMGDB2P48OG4cOECNm7ciD///BPvvvtuCUdORERkelkaMPkpIRIhhGnblAqgRYsWaNy4MZYuXapfFxAQgF69emHOnDm5yi9YsABLly7FtWvX9Ou++uorzJs3D7du3crXMVNSUuDs7Izk5GQ4OTkV/SSIiIhMRJ0tMGbFQwDAwqEuUMolZo7IcqSkpqCiq4vJvr/NdgksKysL0dHRmDRpksH64OBgHD161Og+rVq1wpQpU7B9+3Z06dIFiYmJ+Omnn9CtW7c8j6NWq6FWq/XLKSkppjkBIiKiYqSUS5gAPUMpM+1zYbZLYElJSdBqtXB3dzdY7+7ujoSEBKP7tGrVCmvXrkX//v2hUCjg4eEBFxcXfPXVV3keZ86cOXB2dtY/vL29TXoeREREVPqY/TZ4icQwoxNC5Fr3RExMDMaNG4f//e9/iI6Oxo4dOxAbG4uRI0fmWf/kyZORnJysf+T3UhkRERGVXWa7BObm5gapVJqrtScxMTFXq9ATc+bMQVBQECZOnAgAqF+/Puzt7dGmTRvMnDkTnp6eufZRKpVQKpWmPwEiIiIqtczWAqRQKNCkSRNERUUZrI+KikKrVq2M7pOeng4bG8OQpVIpgJyWIyIiIqL8MOslsNDQUKxcuRKrV6/GxYsXMWHCBMTFxekvaU2ePBmDBw/Wl+/evTs2b96MpUuX4vr16zhy5AjGjRuH5s2bw8vLy1ynQURERKWMWQdC7N+/P+7fv4/PPvsM8fHxqFu3LrZv3w5fX18AQHx8vMGYQEOHDkVqaiq+/vprfPDBB3BxccF//vMfzJ0711ynQERERKWQWccBMgeOA0RERJbq2XGAvh5RjrfBP8PU399mvwuMiIiIqKQxASIiIiKrwwSIiIiIrA4TICIiIrI6Zr0LjIiIiMqo7wA8O/3mawCq5FF2LYAHzyx3AlCzmOL6FxMgIiIqMUIIZGnMHYXlUmeXjRuzhRAQ0wRsbj690JTpmQltRa3R8qpZKthcfKbsmkxoKxmWffz4sUljZAJEREQlQgiBuVtScS2BGVBZJoRA69at8cPNH1DlmSafPn374Df8ZnSf8ziPuqirXx4ydAh+HPpjscbJPkBERFQisjRg8pNP1T1kUJTSJor09HQcPXrU3GG8VCl9eomIqDRbONSFg/y9gEIGSCSl+/k5hmOoFFRJP2fnxmkboWuhM1pW8b4C2ptPL3mt+XgNVrddbVAmJSXFpNNeMQEiIqISp5RLmACVcQMxED139oTCXgEAUEGVd+HvDReNldVqjfcfKixeAiMiIiKrwwSIiIiIrA4TICIiIrI6TICIiIjINMYAqvoqnMZpHMRByL633K7GlhsZERGRFRJCID09Xb+smKCA5PbTDuPZIdnQBeVxN9UkBSTXnik7Khu6V42XlU+Xw+bC03YQzXANtJ2NdzSWz5bD5vQzZQdqoO2Vu6zyhhKy6zI0REMAQFZ8ltH6LAETICIiIgvxZBDBZ8fR+Qt/oQ7q6JcH/D4AG7HR6P4ncALN0Vy/POL3EViDNUbL7sVevIpX9cvjfx+PcIQbLfsrfkU3dNMvf/L7J5iP+bnKrcEaNERDNECDnPNxsNyRrXkJjIiIyEKUlkEE8zIKo3AZl/XLikoKM0bzYhIhhOWmZ8UgJSUFzs7OSE5OhpOTk7nDISKyGupsgTErHgIAvh5RjuMAGfH48WM4ODgAAO7duwd7e3uomqpgc+mZebK+y4T2DeOXqmzb2kIaLdUvq5eqoRlkfPRt2y62kB56puxCNTTvGS+rfEMJ2c6nF42yPs9C9oRs42UHKSHbIoPwFJCclwCueZxsAZn6+5uXwIiIiCyQvb097O3tgQ8AJD1db9vMFrDPY6exAOKfLipbKaG0VxovOxJA12fKtn1B2eEA2j1dVLRT6Ac4zGUwgGBA0sN0yU9xYAJERERkyd4tQNkhBSg7oABl+xagbK8ClDUjJkBERESW4C5g28kWh3AIqUiFcpASWAfA1tyBlU1MgIiIiCzBQ0D6lxSt0TpneQsAy+1DXOrxLjAiIiJLkGq4KOwFv6WLEVuAiIjohYQQyDJ+c1CBqLOt6qbjgns+AXIQkIB3yhUXJkBERJQnIQTmbknFtQQTZEAEJABikACOANAC2R9lI3tSzu3kkioSZH+TjUmjJ8ERjvg89HMokcddWVRkTICIiChPWRqYPPmp7iGDwkq/fcSnApLdT1t1Zs+cjRkzZxgtO230NCZAxchK/wSJiKigFg51McnghQoZIJFY56Ud3RkdpHg6+GAgAo2WCwoKgp2dXUmFZXJCCGSq1SatM8PE9TEBIiKifFHKJRy9uYgkaYbPX8daHZEWnZarnJ2dXalNEoUQGDp5Ms5eumTuUF6ICRAREVEJyfgjA17OXqiN2ti3ah9sW9nmjPZchmSq1Raf/ABMgIiIiEqOFEhBCo7jOLT9tXlPaVFG7F2zBipb04zkmJKaCo+tW01SF8AEiIiIiIqJytbWZAlQdlaWSep5gkMsERERkdVhAkRERERWh5fAiIjIsggAlwCoAPjlUeYSgHvPLHsDqJpH2asA7j6z7AWgRh5lrwG4/cyyOwD/PMreAHDzmeUKAGrnUTYOQCxgk2GDOqiDC7iQR0EqKUyAiIjIcggA/QD8BGRNzkL2lGyjxRQzFZCvleuXs0KykD0zj7LzFJCvfFo2e0Q2shYb708i/0oOxZdPZyDNHpiNrGV5lF0uh2LO07Ka3hqo/8/4WDXy7+VQTFVABRXsYQ8bXoAxO74CRERkOf4C8FPOP2fPmQ0HBwejj7Vr1xrsFhYWlmfZFStXGJRdvmJ5nmW//PJLg7Jr167Ns+zsObMNym7esjnPsp9O/VRf7gROQAstVDVUpnveqMCYABERkeV45pKSAgrMwzzzxVLMJLVL50CHZYVECGFV0/OmpKTA2dkZycnJcHJyMnc4REQWTZ0tMGbFQwDA1yPKFf9I0JEABjxd1NTSQB2d+7KSIlQB2U9Pe3Fkv5ed5+Uy+RQ55P/3zCWwwdl5Xi6Tz5RDvvxpWU0fDbIW5XEJbLEc8sXPlH1Ng6xw42VlS2VPL5dJADQAJMslQDWjxUu1jMxMBL75JgDg2Pr1phsHyMTf3+wDREREliPVcFHiLDE+UvKyfx//Uvz7n1Fh/z7yU3bOv49/yf/9z6hP/33kp+yH/z7IYvASGBERWY7XgIxtGXgdr2MIhiA71HhLDVFRsQWIiMiKCSGQpcl7uzq7hHtJeAE6Zx22YAsAIPy18JI9PlkNJkBERFZKCIG5W1JxLeEFGRBRGcVLYEREVipLg3wnP9U9ZFDwJzOVIfxzJiIiLBzq8sI7vBQyQCIppjvADgLY+XRR5sevJip+/CsjIiIo5ZLiv8UdOZfd0tPTDdbJD8qhmP3MXVkdij0MIl4CIyKikiGEQOvWrV84SjIARO2OMlOEZE2YABERUYlIT0/H0aNH810+KCgIdnZ2xRgRWTNeAiMiohJ37949/QCH0u1SaDY+7Ywd3CAYaSFpsLOzK75+R2T1mAAREVGJkE+XYx3WIRWpKDezHOQD5EBLAH3/fTwjz5GaywAhBDLVxmeNLwsyMjPNHUK+MAEiIqISId0rxVt4K2fhKwANkZMAWREhBIZOnoyzly6ZOxSrxz5ARERUIiSpz13OcjRPHOaUqVZbTfLTMCAAtkqlucPIE1uAiIioZKQ9t2yFCdCz9q5ZY7KZ0i2RrVJp0X24mAAREVGJyB6fjYWTFsIRjhg5cCTkfnnMnG4lVLa2ZToBsnRMgIiIyCSEEMiMyoRi8tMOzMJTQL0hp8Pv43ceY8qkKQCAYcuGQW5v3QkQmRcTICIiKrIngxyWO1oOv+JX/frruI5qDtXMGBmRcewETURERVaQQQ45wCFZArYAERFRsfHz80PaX4a9nznAIVkCJkBERGQyZ3EW6m/VUP57+7ONg41+xGciS8IEiIioDBNCIEtjfJs6W5j8eLdxG5q3NVDaW+74L0QAEyAiojJLCIG5W1JxLSGPDIjIirETNBFRGZWlQb6Sn+oeMij4c5isDP/kiYiswMKhLlDKjXc8VsjATslkddgCRERkBZRySZ4PUyQ/tu1sISBwC7egaqrCM0MBEVkksydA4eHhqFKlCmxtbdGkSRMcOnToheXVajWmTJkCX19fKJVKVKtWDatXry6haImIrJsQAo8fP871kFzOSaIqozJsLtkAmWYOlOglzJoAbdiwASEhIZgyZQpOnz6NNm3aoEuXLoiLi8tzn379+mHPnj1YtWoVLl++jMjISPj7+5dg1ERE1unJaM8ODg65HjNTZxoWtvKJTsnymTUBWrRoEYYPH453330XAQEBCAsLg7e3N5YuXWq0/I4dO3DgwAFs374dHTp0gJ+fH5o3b45WrVqVcORERNbnRaM9hyPccEXNEgiIqAjMlgBlZWUhOjoawcHBBuuDg4PzfINt27YNTZs2xbx581CpUiXUrFkTH374ITIyMvI8jlqtRkpKisGDiIgKTtlbiUM4hO3YjoweGUg/mo60tDSkpaXh+rXrAAAhF8AnAKqYN1ailzHbXWBJSUnQarVwd3c3WO/u7o6EhASj+1y/fh2HDx+Gra0ttmzZgqSkJIwaNQoPHjzIsx/QnDlzMGPGDJPHT0RkbaTRUrRG65yFbQAmAHgyyLMvgDuAxEUCcJovKgXM3gn6+bsPhBB53pGg0+kgkUiwdu1aNG/eHF27dsWiRYuwZs2aPFuBJk+ejOTkZP3j1q1bJj8HIiKrkPrc8rP9fKQAvMDkh0qNQrUAPX78uMhzu7i5uUEqleZq7UlMTMzVKvSEp6cnKlWqBGdnZ/26gIAACCFw+/Zt1KhRI9c+SqVSPycNEREVUhYgyX7ux2kxdnQWQiBTrS6+A5hJRiZvj7MUhUqA3N3d0a9fPwwbNgytW7cu1IEVCgWaNGmCqKgo9O7dW78+KioKPXv2NLpPUFAQNm7ciLS0NDg4OAAArly5AhsbG1SuXLlQcRARUT5IgMxVmQgZHgJHOGLWx7OgcFcUy6GEEBg6eTLOXrpULPUTAYW8BBYZGYnk5GS0b98eNWvWxBdffIG7d+8WuJ7Q0FCsXLkSq1evxsWLFzFhwgTExcVh5MiRAHIuXw0ePFhffsCAAXB1dcU777yDmJgYHDx4EBMnTsSwYcOgUqkKcypERJQfckDbX4tlWIYFWIDsqdmA88t3K4xMtbrMJz8NAwJgy6sTZlWoFqDu3buje/fuuH//Pr7//nusWbMGU6dORadOnTBs2DD06NEDMtnLq+7fvz/u37+Pzz77DPHx8ahbty62b98OX19fAEB8fLzBmEAODg6IiorC2LFj0bRpU7i6uqJfv36YOXNmXocgIqKiyAZwBEAdmKV/z941a6CytS35AxczW6WS04+YmUQIIUxR0VdffYWJEyciKysLbm5uGDlyJCZNmgQ7O8vqEZeSkgJnZ2ckJyfDycnJ3OEQERUbdbbAmBUPAQBfjyiX51xgeRIAugDYCWTszEBqw1R9H820tLQi9wXNS0ZmJgLffBMAcGz9+jKZAFHBmfr7u0i3wSckJOD7779HREQE4uLi0KdPHwwfPhx3797FF198gePHj2PXrl1FDpKIiMwgBsDOnH8GdwrGURgfo42oNCpUArR582ZERERg586dqF27NkaPHo23334bLi4u+jINGzZEo0aNTBUnERGVtDtP/2kHO6zESgzDMAQFBVlc6z5RQRUqAXrnnXfw5ptv4siRI2jWrJnRMlWrVsWUKVOKFBwRERknhECW5sVl1NlF7OHwzLg/m7AJtlVt0e9cP9jZ2bH/CpV6hUqA4uPjX5r9q1QqTJs2rVBBERFR3oQQmLslFdcSXpIBFdUzCZADHKB10hZbvx+iklao2+AdHR2RmJiYa/39+/chlUqLHBQREeUtS4MCJT/VPWRQFObnbhMg6/MsfI7PEYYwaN/QFqISIstUqBagvG4cU6vVUCiKZ2AsIiLKbeFQl5fe3aWQ5Z52KF/qAdlVs/G/qf8DAIyYMAIK8DOeyoYCJUBLliwBkPNGWrlypX40ZgDQarU4ePAg/P39TRshERHlSSmXFPz2diIqWAK0ePFiADktQN9++63B5S6FQgE/Pz98++23po2QiIiIyMQKlADFxsYCAF599VVs3rwZ5cqVK5agiIioZAghkJ6erl+WfSWDzcWn3UOzu2WbIyyiYleoPkD79u0zdRxERFTChBBo3bo1jh59OsDhDuxAJ3TSL3/2/WfmCI2o2OU7AQoNDcXnn38Oe3t7hIaGvrDsokWLihwYEREVr/T0dIPk50U4+CGVNflOgE6fPo3s7Gz9v/PCwbGIiEqfe/fuwd7eHsqeSmDP0/Vz5szB52M/5+CHVObkOwF69rIXL4EREZUt9vb2OYMc9gVQ/+l6ZUsllPZKs8VFVFyKNBkqERGVUjrkzPb+vPdKOhAi88h3AvT666/nu9LNmzcXKhgiIiohuwC7rnZIRjJSkQrbTrbAYXMHRVRy8p0AOTs7F2ccRERUklIBiZDA6d//dIk6c0dEVKLynQBFREQUZxxERFSSUg0XhWMRZ44nKmXYB4iIyBo9lwDBBJO8CyGQqVYXuZ6MzMyiB0P0EvlOgBo3bow9e/agXLlyaNSo0Qtvhzx16pRJgiPLERcXh6SkJHOHQUQAsrUSAL4AgDNnzkAuzaP1RgAV/68iym8tD2m6FEntk3Bj9A0AgLSmFFgGfPDeB3CEI+a9NQ+aU/mfYT7XoYTAnIgI/H37dqHrICpJ+U6AevbsCaUy51bIXr16FVc8ZIHi4uLg7++PjIwMc4dCZHFkipIfHFCmsMPbcy8DAFq3bg1NVrrRcq/gFRzAAf3y75G/Y0TkCKNld47aWaSYbKRS1HvttSLV8byGAQGwVfIWfCoeEiGEVV34TUlJgbOzM5KTk+Hk5GTucEqFU6dOoUmTJhg6ahQ8KlUydzhEFkEASHboBY3Mw6xxuD5aCQmMt9y02tcU3XcH65ev4ipqomaucpV9fTFwxIgiDXSo0WoRFR0NAPhPo0aQ2tjkKnPv7l2sXbEChw8fRsOGDV9ap61SycEXSc/U399F6gN08uRJXLx4ERKJBAEBAWjSpEmRAyLL5VGpEnyqVDF3GEQWQSukuP/IvMmPvfQhfPy8kVeOUOF4RYPlGqiBxatX5yqnMEGika3RAP8mQH5Vq0Iuy/31IpNKodNqoVQooLK1LdLxiIqqUAnQ7du38dZbb+HIkSNwcXEBADx69AitWrVCZGQkvL29TRkjEZFFq+e8DzYSbYkf1wbaPJMfALjSPBZf/jIXlVEZY+qEIKFOEpRMPIgAFDIBGjZsGLKzs3Hx4kXUqlULAHD58mUMGzYMw4cPx65du0waJBGRJbORaCE1QwL0Mg8qPcJ6rAcAVPqgNpMfomcUKgE6dOgQjh49qk9+AKBWrVr46quvEBQUZLLgiIiIiIpD7l5q+eDj46OfGf5ZGo0GldhJloiIiCxcoRKgefPmYezYsTh58iSe3ER28uRJjB8/HgsWLDBpgERERESmlu9LYOXKlTO4S+Dx48do0aIFZP/29NdoNJDJZBg2bBjHCSIiIiKLlu8EKCwsrBjDICIiIio5+U6AhgwZUpxxEBGRifWZ2xnNcQSpSEXVb2ohuv8FPKycYu6wiCxCkSdDzcjIyNUhmiMsExGZn3tsBVSGZ85CNHCu52XzBkRkQQrVCfrx48cYM2YMKlasCAcHB5QrV87gQURE5iXRSiDPMvyNm6Uq/GSnRGVNoRKgjz76CHv37kV4eDiUSiVWrlyJGTNmwMvLC99//72pYyQiogKSZ+Zu4M+2zT18CZG1KtQlsF9++QXff/892rVrh2HDhqFNmzaoXr06fH19sXbtWgwcONDUcRIRUQFo5Vr8/t8D+Hn5OjjCEX16DITaIcvcYRFZjEIlQA8ePECVfyfFdHJywoMHDwAArVu3xvvvv2+66IiIqFC0Ch0ut7yO5cuXAwAq96oDpZJTYRA9UahLYFWrVsWNGzcAALVr18aPP/4IIKdl6MnkqERERESWqlAJ0DvvvIOzZ88CACZPnqzvCzRhwgRMnDjRpAESERERmVqhLoFNmDBB/+9XX30VFy9eRHR0NKpVq4YGDRqYLDgiInMQAtBB+sIyOvHi7eagSJOj1qEq+mWNRgMb2EAHnRmjIrJMRR4HCAB8fX3h6+triqqIiMxKCOBKanM81lr2kB5CCGSp1QbrVPcVaP1/TQzWMQEiMq7QCdCePXuwePFiXLx4ERKJBP7+/ggJCUGHDh1MGR8RUYnSQVqg5Mde+hA20BZjRLkJIbBwxgxcv3LFYH11VMdQvFHsx9Zoc5+vRsMxhqh0KVQC9PXXX2PChAno06cPxo8fDwA4fvw4unbtikWLFmHMmDEmDZKIyBzqOe+DjeTFyY0NtHhmnugSkaVW50p+XqRazZpQKJVFPq4QAlv37MG9+/eLXBeRuRUqAZozZw4WL15skOiMGzcOQUFBmDVrFhMgIioTbCRaSF+SAJmDbZoSKqiQgQzMXbpUn9w4PLDDzdV3DMoumLACcjsFJCbI0jRa7UuTHw83N8ikltc/iuh5hUqAUlJS0Llz51zrg4OD8fHHHxc5KCIiytugqb0wEgOghRaaUA12fHAYd2snIttLh+2fHjQoq0DRW36MGdyzJ2Sy3F8hMqnUJMkWUXEr1G3wPXr0wJYtW3Kt37p1K7p3717koIiIKG/yTDkAQAoplBlKaGUl38lZJpNBbuTB5IdKi3y3AC1ZskT/74CAAMyaNQv79+9HYGAggJw+QEeOHMEHH3xg+iiJiCiHDlCo5QarOMcXUcHlOwFavHixwXK5cuUQExODmJgY/ToXFxesXr0an376qekiJCIiPbnayCSnnOWdqMDynQDFxsYWZxxERJQP2UoNloWtw9yQT+EIR0yZNBuPXTLMHRZRqVPkgRCFEADA675EZHWEEBCPtOi6rJ3B+p3vHkKmgzpXeRuNBN2/bm+wbveQo3hcLt1o/d2XtIeN7uln674Bx5FSMQ1ZSjVikfOj9G7NRCjlnOSUqKAKnQB9//33mD9/Pq5evQoAqFmzJiZOnIhBgwaZLDgiIkv1ZDDCB1cSMRoPDbZ9Nu5DxCM+1z5yyDEOWQbr5n3wKf7G30aPMRpZkONpf59e517DOZwzQfREVKgEaNGiRZg6dSrGjBmDoKAgCCFw5MgRjBw5EklJSQZzhRERlUVPBiN0gYvZYjDVAIdE1qhQCdBXX32FpUuXYvDgwfp1PXv2RJ06dTB9+nQmQERk1WYsXITH5XL3y7HR2AD/NVw3Zc4XeOSeYrQemxFSPDvLxsTpM5Dk87S1SaFUsvsBUSEVKgGKj49Hq1atcq1v1aoV4uNzN/sSEZVVGcjAob5/Gg4KWE4KpW3ufjkSnQTH3jptsE7rKoyWBYATb56F5JkhfjTuujzLElHBFCoBql69On788Ud88sknBus3bNiAGjVqmCQwIqLSQA01orv8la/ERNgInOl+Kd91n+2W/7JEVDCFSoBmzJiB/v374+DBgwgKCoJEIsHhw4exZ88e/Pjjj6aOkYiIiMikCpUAvfHGG/jjjz+waNEi/PzzzxBCoHbt2vjjjz/QqFEjU8dIRKQnBKBD8U22qROcyJPIGhQ4AcrOzsZ///tfTJ06FT/88ENxxEREFi45ORnp6cbHrilOAsB9RRdk27iXyPESEhJgg9yjLEt0QN3jNdEHfZCKVChPSPFPlURo5JY3c7wpabRPzy8hIaHAs74nJSUBAC5evJhnGTc3N/j4+BQuQKICKHACJJfLsWXLFkydOrU44iEiC5ecnIxvvvkG2dklP/+UVGaLrqOGlsixHtw9i19+Cje6zUFrj7//jkZfvJazYhnQtOp/cFt+t0RiMxeJRAL3WrUAABGrV+sHws2v7MxMAMDbb7+dZxk7OztcvHiRSRAVu0JdAuvduzd+/vlnhIaGmjoeIrJw6enpyM7ORst2PeDs4layB5c8/cjKuv0DIEw/B1b125545/eO8Hj4CoALmNs7Ehd8bhiUKZfmCN3fOtjARr+u+Wu9UEeVafJ4LIlWp8VfV04AANp3HwypTcFagO4n3MFv3y1B6IxVqOxXK9f2WzcuY/G04UhKSmICRMWu0HeBff755zh69CiaNGkCe3t7g+3jxo0zSXBEZLmcXdxQzs2jRI8pIMWTC28u5V0hgYkvOQngvyu7wv2+s37Vvk1rsAd7DIpVQzUMwUlMwzRUR3UAgK1XOSikBWsRKW202qcJZzlXd0ilBfsKedICVNmvFqr5s78omVehEqCVK1fCxcUF0dHRiI6ONtgmkUiYABFRqSTV2sA9ydlgnRe8cpW79u9/0zANAPDQ+TF0ZTz5ISprCpUAPTszPCdDJaKyQqmW51rXvs87cGzUxmh554UVoH2kw69dThV3aERkYjYvL2LcqlWrULduXdja2sLW1hZ169bFypUrTRkbEVGJSrdXY8znK+EMZ7RHe6zuvweX6idArlAafawcth+fzFiP6CaxL6/cTIQQ0Go1JnsQlRWFagGaOnUqFi9ejLFjxyIwMBAAcOzYMUyYMAE3btzAzJkzTRokEVFJETYCKUjBXuyFf/03IVfkPdnoPffkEoys4IQQOH3uAFJSH5g7FCKLU6gWoKVLl2LFihWYM2cOevTogR49emDOnDlYvnw5vv322wLVFR4ejipVqsDW1hZNmjTBoUOH8rXfkSNHIJPJ0LBhw0KcARFR2afTaYsl+XFycoVNAe8AI7I0hWoB0mq1aNq0aa71TZo0gUaT/ybSDRs2ICQkBOHh4QgKCsKyZcvQpUsXxMTEvPAWyOTkZAwePBjt27fHvXv3CnMKRERWpVXzrgW+aysvNjZS9vukUq9QLUBvv/02li5dmmv98uXLMXDgwHzXs2jRIgwfPhzvvvsuAgICEBYWBm9vb6N1P+u9997DgAED9JffiIjoxaRSmckeTH6oLCj0z4FVq1Zh165daNmyJQDg+PHjuHXrFgYPHmwwQOKiRYuM7p+VlYXo6GhMmjTJYH1wcDCOHj2a53EjIiJw7do1/PDDD/nqa6RWq6FWq/XLKSkpL92HiCyXLBvwuSWDQ5o7JNAisUIKUpwzjJatdKccVBkK/fI/bqlIdjE+hYfnXRfYpyuh0WTDG964hVvFEj8RWYZCJUB//fUXGjduDAC4du0aAKBChQqoUKEC/vrrL325F/1KSEpKglarhbu74Zw+7u7uSEhIMLrP1atXMWnSJBw6dAgyWf5CnzNnDmbMmJGvskRk2ZwfqTDuW2e43ZcC6AAAWNvrII42u2y0fPdfGsP/WiX98sZuR7G/1QWjZbv83gD1L/kisdwjLIAO0mKccJWIzK9QCdC+fftMFsDzSZIQwmjipNVqMWDAAMyYMQM1a9bMd/2TJ082aJFKSUmBt7d34QMmIrNpFl3l3+TnqX0/f49VP68yWr43ouCPpwnQod/WI/y3r4yW7YStqA9fVHzogtu4DQA4ve46vht62ETRE5ElMU2PuEJwc3ODVCrN1dqTmJiYq1UIAFJTU3Hy5EmcPn0aY8aMAQDodDoIISCTybBr1y785z//ybWfUqmEUpn3baxEVHq43FeV6PHivSz7NnciKjyzJUAKhQJNmjRBVFQUevfurV8fFRWFnj175irv5OSE8+fPG6wLDw/H3r178dNPP6FKlSrFHjMRmdfG145j8xvu8LwnxQdhDpAKG7TuOxDKhi2MlnddVxUpN572+WnRsQ+0zeoZLeuxMQApV3PKaqU6XKmZgH3tYkx/EkRkEcyWAAFAaGgoBg0ahKZNmyIwMBDLly9HXFwcRo4cCSDn8tWdO3fw/fffw8bGBnXr1jXYv2LFivpRqImo7NPIdMhwFLjqqMHYmWugUOR8hMlhvJXX2OWrvMquG3jMdIESkcUzawLUv39/3L9/H5999hni4+NRt25dbN++Hb6+vgCA+Ph4xMXFmTNEIiqinNkCTdShmHdfE5GJmDUBAoBRo0Zh1KhRRretWbPmhftOnz4d06dPN31QRGQSAkCmshV00vLmDoWIyEChJ0MlIno5abEkPwnXjgPQmrxeIrIeZm8BIiLrYJe+C0VNWrKz1FgxYyw0WekYNWu5aQIjIqvEBIiISogWkucSoAbnfOB9202/fN3vHmJq3zG6d50LlVH3XCUoskbgS3xZrJESUdnHBIiISkR2ljpXAlQrxhOtomvpl/cECZytft3o/jUvuiPwVC0EIgwLsABZn2sRNvZ3JFbk9DZEVHBMgIio2Agh9P9+cunqWY2xEq3wNAE6eyQK4Uc+MFpXHXyDtqgDAJBBBlmmDGqFphiiJiJrwASIiIpNx521US7dHpm2An6aqdiMjTiFU4WqSwPDZOe25wMkOxuf2JSI6GWYABFRsal/yRu+d3IGHuyASfDtHYhjTa/ot9v+WQN/3LiqXy5foyFGNTTeudn5dHX88XdO2UflM3Ao6BLHBSKiQmMCRETFRqmWGyxn2wNyxdORmP8MuoE/g24YlMlrpObTLW7hdItbJo+RiKwTEyAiKyOEgEZb+NvRNVotJBIJtDottNoX98F5PgHKkGe+dB8yHT7XRHljAkRkRYQQ2LpnD+7dv1+ketxr1cJfV068tNzaSgqUy3KGnUYFe40Ku2/8gusPbhfp2EREpsAEiMiKaLTaIic/BbGy1k8ldizKm5OTK2xsTDQfG1EZwQSIyEoN7tkTMlnBPwISEhIQsXo12ncfjHKu7i8sm5WlQbZzdwCAPPkX/eztVLJsbKSQSNhjnOhZ/DQisiISrQRjYgaixT8NUPFUeUgkEsTWv4Vjr582Wr7u/pqov99fv3wrIB4b2/4CnVYLnUYL3TN9iZqfro5Xj9TTL8f63MMPnQ9CKsvp1CyVyiCV8iOHiCwDP42IrEjDHQFoc7VJzsKjnP/tiPsNE34dZrT8VExFBwTplw/F7cfcnZ8AACIXTzUoa4tQDMGr+uWY+JNYc/pDDF3c33QnQERkIpwNnsiKeF50e3mhYiKTK8x2bCKi57EFiMiK7Bx8CB//tgDOWY4Ij54G20wlmga2wuIRq42Wb7GtAfDz0+X6TZrg4zdmIyIiAu1fG4xybk/7AAUdrgf8/rSsT406GDH0K2T/u8w+KERkSZgAEZVhQgA6PL3757FjBq453YJPmhd2v3UcSqUtkiumQaa0N7r/jRb/IM3j6e3uqW7pkCntIVPYQa60g0xhp992qc4/+D/no/rlFKd0yBV2+gSIiMiSMAEqw+Li4pCUlFTkei5evAgASEpKgtzWtsj1UckQAO4ruiDb5mkrjVajBrANcQ53sblhTX0H5Sf9gXJxAlDv+ZUN0HXU2wCAZ2fiiq2S8yAiKg2YAJVRcXFxCAgIQHq66SaL3Lx5MxOgUkQqs0XXUUPNHQYAwEb7AEDhR58mIjI1JkBlVFJSEtLT0zFhxip4+9UqUl23b1zGomnDEdiuJ1w9KpkoQip2kqdv76zbPwBCA3Vmhn5deuxqKG1VBa42/vZ1XDh9GK3a94GXd36bfLSct5SILAoToDLO268Wqvk3MkldTi6uKOfmYZK6qPgJSPWXqFzKu0ICLTIzHgOxT9aVh63KeN+fF0l5mACtJhMQGkjYqkNEpRRvgyeyErJsGzimqeCU5WDuUIiIzI4tQERWIDtLjdZH/dH3t1YAhuIf5QPoDttgUcjvUNvyPi0isj5sASIqo4QQ+n+vmDEWJ37brF+uoC4P9/su0Mh4CYuIrBMTIKIySpOdZbB8AzcMlpPKpUIr05VgREREloOXwIiswNDJC9DiSg0gMmc5WZ6Kn3ocN29QRERmxASIyArIFUpcqpeAT6quw/GTO/FImYqggNcg5UcAEVkpfvoRWQmNXAe1YxYe2CabOxQiIrNjAkRUBgVc8sIbm1sgw06FTKVAYrkgbHzzxMt3JCKyEkyAiMoghzRbuD10BB7mLNt6upk3ICIiC8MEiKgUE0JAp8t9K7s8U2qwnKnIglargVarKanQiIgsGhMgolJKCIErJ/9AzRtesNOq8Hulg3gy4Vb1KzIAgfqyCZl3cOjYNvMESvSc2zcuv3D9xYsXSzIcKiXS0tJMWh8TIKJSyi5FjpW//g+V0t0BICcB+ldUpaOIdbwNO40K9hoVEm3vG+zr5OQKGxvDViKi4vY45REAYNG04S8s9/bbb5dANGTtmAAR5SFnHGXLTRLqXvDVJz8AcGXXAWgkOZe4YgDsldvhzc/PAADkyb+gjaKHvqyNjRQSCednp5KlzsyZnrf1a2/Cu1pAru0pj+7j2P6teP311+Hmxn5rZEidmYnFn39usvqYABEZIQBkKltBJy1v7lDyZJ8hN1jeEnQXP72eYbSs0tYONhKO+kyWwdm1IipW9su1Xm5rC7mtLTwrV4anp2fJB0YWLSM93aT1MQGiUsnloT0cHiuLrX6dxAZXa1hu8gMAtmrDFhynVOMz29hoH0DC5IeIyAATICp1XB7aY/L8HlBmy19euJDUCoExi3PuIV/4sQuUWSVzuUgtz8aCkN+Q7PLyXzoXfJ1wJeAR7DUqVC3vj9tVUmCXHmukpBa82EVEZIgJEJU6Do+VUGbLMa3uYtywv108B5HJocBHAICxDT4BNNnFc5xn+D2ujBl/TYBTmhwpLi+fpf1q1ds4/nAnAKBlk06wVdkz0SEiyicmQFRq3bC/jctO14ulbolUgbr//vuKYyyENuuF5YmIqHQx3mmAiIiIqAxjAkRERERWh5fAiCyBAFr+0wjZyEbwjrpY3/MIkp2Nd4R+a0tryLRSaLUaNFSXw/JaP5ZwsEREpR8TICIL0ONOB7x/PWf02/qX/fDWvG6IQYzRsvOQBnvY4zIuY0vwbuh4izsRUYExASKyAG0Smxkse8IzzwToiQd4iPExg/BYloFyD7yw/z+XkOaQWZxhEhGVGUyAiCyAk8bBYPnTll+iVvejRsvKpiuAbCAQLYF/RwG4l5aM7d3OFneYRERlBhMgIgsQa3cL6uQ0NEdzAECSRxrkCuMjXR9scwlSrQ10Qoc7d/9GkvIR7vdSQicVJRkyEVGpxgSIyALMCvgaJ+N/zfn3qI1IrJL3SNC/dTkNANBqNTh0bBsAoI1jD0j5diYiyjfeBk9ERERWhwkQERERWR0mQERERGR1mAARERGR1WGvSSqTJFJFkfa3kRq/A8vUlFoFQi+9i2b362MyPsL3+L5EjktEZO2YAFGZU7XNJNi71jB3GPky8EZP9LzbESdxEulIRxebrvC464x4n5SX7qvVakogQiKisokJEJUpEqnCpMnP4/tXIbRZJqvvef4p1QAATdEUG7ER0AEJO5KwRHxTbMckIiImQFSGxWwPgU6rLlIdxZn8AICdRpVr3YoCTm7q5OQKGxupqUIiIrIKTICozNJp1cWewBTV0qo/4PGpONST1EfbCp3wY5UdqNisJtpU7pHvOmxspJBIJMUYJRFR2cMEiMiMzrlcxEn8io02P6Fe4B8AgDcltSGV8q1JRFSceBs8ERERWR0mQERERGR1mAARERGR1WFHAyITqZDpCkeNvX75kTwFD5SPjJZ1yywHJ40jdFoNHqE6riO2hKIkIiKACRBRgQghoNNpjW577+pbeC2hvX75e59N+Kr6GqNlh17vgz53uiLdJgOvoRsTICKiEsYEiCifhBCI+fMQ0pIfGN1+H30MlhPiruFk3K9GyyaiCwDATqfCLMxCmjYNkj8c8FGz+aYNmoiIjDJ7H6Dw8HBUqVIFtra2aNKkCQ4dOpRn2c2bN6Njx46oUKECnJycEBgYiJ07d5ZgtGTNdDptnslPUQQiEB3REdVTfKCT6ExePxER5WbWFqANGzYgJCQE4eHhCAoKwrJly9ClSxfExMTAx8cnV/mDBw+iY8eOmD17NlxcXBAREYHu3bvjxIkTaNSokRnOgKxJp4S2+BFLkIpU6JxkuOh0FYtqrtRvd42pDCQ8Le/hUw1Nq79mtK6Kl/2AO0+Xb9jdxvRGnP6CiKikmDUBWrRoEYYPH453330XABAWFoadO3di6dKlmDNnTq7yYWFhBsuzZ8/G1q1b8csvvzABomJXPtsZVVAlZyEFyJZpDAYsnFnva8ys97XBPtI83mILaq/Agtor9MsCAmo708dMRETGme0SWFZWFqKjoxEcHGywPjg4GEePHs1XHTqdDqmpqShfvnyeZdRqNVJSUgweRIXx/Lxd6dIMM0VCRERFZbYEKCkpCVqtFu7u7gbr3d3dkZCQkMdehhYuXIjHjx+jX79+eZaZM2cOnJ2d9Q9vb+8ixU3Wy077XAIkYwJERFRamf0usOcncRRC5Gtix8jISEyfPh1bt25FxYoV8yw3efJkhIaG6pdTUlKYBJVREqkCNlJlsdW/zTMKm+K+hwMcULdWK8Tb/1NsxyIiouJltgTIzc0NUqk0V2tPYmJirlah523YsAHDhw/Hxo0b0aFDhxeWVSqVUCqL70uRLEPVNpNg71qjWI9x0/4OTiLntvamlVI4YSkRUSlmtktgCoUCTZo0QVRUlMH6qKgotGrVKs/9IiMjMXToUKxbtw7dunUr7jCpFJBIFbmSn8f3r0Jos4pUr0pji+D4NnjrZg+0TWxRpLqIiMiymPUnbGhoKAYNGoSmTZsiMDAQy5cvR1xcHEaOHAkg5/LVnTt38P333wPISX4GDx6ML7/8Ei1bttS3HqlUKjg7O5vtPMhyxGwPgU6rLnLyAwEsOTUN9ZL9AQCHXP/EbpeDJoiQiIgsgVkToP79++P+/fv47LPPEB8fj7p162L79u3w9fUFAMTHxyMuLk5fftmyZdBoNBg9ejRGjx6tXz9kyBCsWbOmpMMnC2SS5AdAlTRvffIDAFn3U3DqwO9FrpeIiCyD2TsxjBo1CqNGjTK67fmkZv/+/cUfEBGAcpmOBsvt8XSOLweX8rCxkZrsWALCZHUREVH+mD0BIrJEEtggAQlwhjNUyLn9vel/ckZ1trGR5utOxfwQEMhSAsJ0+RQREeUDEyAiI/4ofwae8AQANH+1B+xgV2x3fT2b/DS8HwCpL9+WRETFzeyToRJZOp1EhwxZZrEfp3aiLyIOzzZZ6xIREeWNCRCRhbARNpCAyQ8RUUlgAkRERERWhwkQERERWR32tqQyRwgBnU6rX66bXAv/jX1Lv3xf8QgzaocZ3bdmahWMuTYEQgjcxACMxmij5YiIqHRjAlTGOd5XwPlS0fqVVLxhj0ZoBL9ED5RHeRNFVoR4Ep3y3CaEQMyfh5CW/EC/zgNAIJrol6/jOk4m/Gp0f0e8qi+7BsvhAQ+4Z7oh1TYdamnRB1gkIiLLwASoDPOGNwZ/3AiK7KK+zA0xEKeASJOEZTIKde7zEjqtQfJTFMuxPOcfR4EFtZbjJx+OBE1EVFYwASrD3OAGRbYMX7f7EXdc/il0PSmP/sGx/dtQvW5TqOwdX75DMQtMaoyR1wZCrnnx6IGN23aBjVSKGknNgHNP1ytt7dC01WtG96n1oD5wxnDdI3kKDlb8o4hRExGRJWECZAXuuPyDG253C73/A8TjNE4j294Z9k4upguskHwfV8pXORupFFKpDDcd47GkRoR+fZosPc9BDe86JBqUTZdl4qhbNBJt7xctaCIisihMgKjMkGqB9gmtUB7pSEUqfFL9cNMpHnfsErDOb1u+6rinSsp3WSIiKr2YAJFFk0gVudbpZDKoFQJCJodEqoCNVAkAsEuXYPb5DwB8kFPwT6DrK0PxQJlcghETEVFpwASILFbVNpNg71oj1/p7AMbgIYDxqPvMetvM3He7PZZlFFt8RERUenEgRLJIEqnCaPLzIuLeLYNlLbRQ2/DWdSIiyo0tQGTxYraHQKdV65fbJwRhasxYhNSejjMel/Trqz/yQqxdKOTpEjjCEUImAafWIiIiY9gCRBZPp1VDaLP0DxuNBsosCSSabP06nUaNS3Z/o0+z9+ANb7jABR3bDDR36EREZKHYAkSlnrHRnwGw9YeIiPLEBIhKPZ2R0Z8dXMrDxubFAyUSkXEuD+3h8Fhp8no1D7yRiEaodr8yKt/OPa2O0yOBepm14Xm7Itwyy5n8+JmOaqS5pZu8XiqdmABRmfJk9GcbGykkEjYBERWUy0N7TJ7fA8pseTHU/hqAKYDxqfj+NQRYXAyHBpClyMaGBduZBBEAJkBUBnx1+jM8xCikIhXKKy5YU+0nxKsKP/WHub1osldLIP2nEtIya6NKoicq2uRvctw0ezUelXtczJGRKTg8VkKZLce0uotxw/62Set+lJSAW9cuwqdGXTiXr5Bre2ZmOm7fuIyAgADYqVQmPbZ3amVMPBkC21QlEyACwASISjmJkKDlw0ZPV8QDP/r+VmzHExDFVnd5tTN00GFw5CvFdgzTGQ/czH9ptTwbcyZuYxJUitywv43LTtdNWmfS41u4htNIs5OjvFNqru0ZsjRck52DzEkOBwcHkx6b6HlMgKhUU2lz91NIL6bBDwUEspSAKKauRQ4ae9jABl9U+wYX3Uz7xWNKqSkPcO/uTXhUrgYHh5e3Vvk9rowZf02Aw2MlEyAishhMgKhUs9PkbiZPl2YW2/GKK/mRaAGpyBmVIk51x+S/vE3pkSYRt2WX8dBeBycn03dUJSIqCUyAqFRLl2VgTq1v8ODyDTjCEdW9G5TI9BfKYuhCIOF9+0REJYYJEJUajR/UgVRIUTXNBwCg0toiXZaJzZV24OTlnNtKmtZ4DVKbkvmzZsJCRFR6MQEii6fTaqDTajDn7Mdw1jjq17unu0Kr1UCn1ZoxOiIiKo2YAJFFEuLp3VanDuyAJisdWmQblPnl5nqcvHm4pEMjIqIygHOBkUUSuoK36nD0ZyIiyi+2AJHFa9g6GIAGj46nQasRUOoUcNDYo4tfX2RWddGX4+jPVNKKa8oIc7L0gTiJTIUJEOWbjUwJiVRRIseSSJ625NhIbSCBDAOCxgMAguPb4LO/QnHbIQFSKf+EyTyKd8oI81Oo+d6iso1/4ZQv3UO3w71aixI7nkSHYhxzmajoinPKCHMKTGqMkdcGQq7h5WQq25gA0UtJbBQlmvwAwKzpznBOsUG6LAtp4mvMrhOOU+X/KtEYiPKjOKaMMCffx5XMHQJRiWACRAUSsz0EOq262I8jS1kORbYzFNlKuMCTY+4QEZFJMQGiAtFp1RDarGI/jp3WcIqLdGnxj+5MRETWgwkQ5UvV6zLUuyBHRqo3/ra7ZrRM/5uvoYK6vH45yuNwnpcG3rjVGZ4ZFfXL+yoexwWXKwAAqU4Kpc6ws3VGMc7vRURE1ocJEL1UvX9q4KOfHSHVSXCofkVcVl42Wq7L3XbwT6umX75ifx0x9leMlu0Y3wYNk2vrl+Ns7+KcYwwAQCe0eKPpe7h18jQc4YhG9f6DBNU/JjwjIiKydkyA6KVa32kMqS6nD871mNO4qjmEZCTnKpeOGQbL12NO42TMr0brTMPHBss3L5/Tz+cFAH8+sy2lgh1vdyciIpPiSND0Uo5qO/2/39T2wwRMKLFjc3RnIiIqDvxZTS9lp7HV//sN0RsJVVPQ1O+1XOWir1/G3cyH+mVlJU80dc5dDgDO3YjFo/Snd5NJPF3RtFzushzdmYiIigMTIHqpf1QPcNdDA6VaAllqOh4rMoxeklpV48dc66R5/Il9X21zvstS2VDWplgoa+dDZG34jUMv9WWDH1AluAEA4NzPIyCBzswRUWlSXu0CHXQYHPmKuUMpFpwygqh04jv3iTgASeYOwnRUF1Xwh7+5wyCCo8YeNrDBF9W+wUW3sjNiMqeMICrdmAABQByg89fBJqPs9AkPQADWYR0AQJpetLoEBLQatf7f5p6lSyPRIkOaCa1E9288VBrEqe5wyggishhMgAAgCbDJsMGm3puQVKFsNAP9k/QPMjZnYBZmQVqEgZuFEEhGCk7tfT9nhd2Ly5eE7VWPYHvVI+YOg4iISjEmQM9IqpCEeM94c4dhEvGIRypSi1yP1yM3/PdED/xR4TzWV/3NBJGVfhKtuSMgInrKIckOtqlKc4dhcpmOaqS5FfESxgswAaK8CeDDqEHwSqmAWMfbaNg2DDG/h5q9E3T7hCBMjRmLkNrTccbjklli4OSsRGQJHJLs0P/DrlBkyc0disllKbKxYcH2YkuCmACVUQIAFAqoIaCTSgGbgr/Ujhl28EqpoF/2SrLDTZ09MmzSTBdoIciEFCqtLaTChokIEVk121QlFFlyzG8ahluOt80djsl4p1bGxJMhsE1VMgGi/BMARPX3YL/YD2PwEEA/OBSiHrd/nnYKr5nih75LXNEjkJ2Oiah4paeb/gsvPSMDAJCUlIR420ST1282STnX5C/LruKq/G8zB2M66bLcr5c607STYjMBKoMEZIC9X5Hrsc182rrS5l5T6CQCmeIx2OhCRMVBk51zx8bFixdNX7cmGwCwefNmnLeNMXn95lIvszbex9u4ePEizsrOmTsckzH2eum0pu2AyQSojFv4sQvmt1iOv6sVvHN3RpIn7jq9AblaCnuNCtnQMPkhomKj1WoAAB6Vq8HewbQjbVdOqw6cBQLb9YSXR0uT1m1OvgnuwHdAZb9aSHMoO2NSGXu9stSZWB82zWTHYAJUximzJLDRagGdpsD73ih/C2N7fYFrydcAAJo7D+GA8qYOkYjIgEKpgsquMBfu82aryRnDw8nFFeXcys4vOafMnM9kW1s7kz9n5mTs9VJnZpj0GGVn5D8qdkLC/j9ERFQ2MAEiIiIiq8NLYM+wzbCF/WN7AECWPAvZimyj5ZSZSsi0T5+6bHk2shTGh1tWqpWQaZ4pK8tGltJ4WYVaAbnm6VgOGpkGaqXaeNksBeTZz5SVaqC2NV5WrpXBKcP+aVkbLdKVxnvTKzRy2GYr9MsZmrLTVExERPQEE6BnDPm/Ifp/73l1Dw69cshouW7bu6H++fr65UOtD2FP+z1GywbvCkaTU030y8dbHMeOzjuMlv3Pvv+g5YmnnfOiG0Xjlx6/GC3b+lBrvHL46eza5+uex6Y3NuUq9xiP0SyuDj491Fq/7g/vvzD/P98ZjzemOd75s6d++YzHJQxtMcloWSIiotKKCVAZJMTTvjrucMfEm+PRCU8ToLu3/sZP3y0wum8lZAN4mgAlJZSdgbWIiIieYB+gMkijKfgdX/khseGfCxERlQ1sASrjYhGLC75XgJtP13l5V0ef/3xotHyDmNbAn0+XK3j66P8tkbA/EBERlQ1MgJ7x3eDvcM/9HoCcjs15+bXbrwb9eLJleZfdGbzToH+QRpZ368ze/+zFwVcOPi0rzbvsoTaHcDzw+EvL2sEOf/pcwKY2B56WtdFCJlcYLb+vzikcq/WXfjlLkg2k5BkGERFRqcQE6BmZtplIt3v5HDRZyixkwfidXEUqq8jK826y52UrsvO8Sy1XWakGqbb5m1snW6ZB9jNJmk6Yd+Z3IiJTqpho2hGmza2snU9JYgJERERlXnm1C3TQYXDkKy8vXAop1Pw6LyizP2Ph4eGYP38+4uPjUadOHYSFhaFNmzZ5lj9w4ABCQ0Nx4cIFeHl54aOPPsLIkSNLMGIiIiptHDX2sIENvqj2DS66XTd3OCYTmNQYI68NhFxTduYBKylmTYA2bNiAkJAQhIeHIygoCMuWLUOXLl0QExMDHx+fXOVjY2PRtWtXjBgxAj/88AOOHDmCUaNGoUKFCnjjjTfMcAZERFSaxKnu4LJT2UmAfB9XMncIpZZZ72tetGgRhg8fjnfffRcBAQEICwuDt7c3li5darT8t99+Cx8fH4SFhSEgIADvvvsuhg0bhgULjI9pQ0RERGSM2RKgrKwsREdHIzg42GB9cHAwjh49anSfY8eO5SrfqVMnnDx5EtnZ+esQTERERGS2S2BJSUnQarVwd3c3WO/u7o6EhASj+yQkJBgtr9FokJSUBE9Pz1z7qNVqqNVP58hKTk4GAKSkPHNvd1rO/+zu2sEly6UQZ2NZMrRaJP3bKpqKVKjuAg6awt3NpYUOcM35t/sdZyjlShNFWXi2aUAKUuB4Tw7XdPPHYyql5bzsM13hmFkLLndcoEh6eZyl5bwKiudVcKq0CrBHfbgluME2NXfdBf3bKgi+XqWLY5YMKUjB35dOIzbxDgBAk51zl/Szsx0UiTCTO3fuCADi6NGjButnzpwpatWqZXSfGjVqiNmzZxusO3z4sAAg4uPjje4zbdo0AYAPPvjggw8++CgDj2vXrpkkDzFbC5CbmxukUmmu1p7ExMRcrTxPeHh4GC0vk8ng6upqdJ/JkycjNDRUv6zT6fDgwQO4urrqRzZOSUmBt7c3bt26BScnjqlgTnwtLANfB8vA18Ey8HWwDMnJyfDx8UH58uVNUp/ZEiCFQoEmTZogKioKvXv31q+PiopCz549je4TGBiIX34xnB19165daNq0KeRyudF9lEollErDZkEXFxejZZ2cnPjHbSH4WlgGvg6Wga+DZeDrYBlsTDQvpVnvAgsNDcXKlSuxevVqXLx4ERMmTEBcXJx+XJ/Jkydj8ODB+vIjR47EzZs3ERoaiosXL2L16tVYtWoVPvzQ+LxWRERERMaYdRyg/v374/79+/jss88QHx+PunXrYvv27fD19QUAxMfHIy4uTl++SpUq2L59OyZMmIBvvvkGXl5eWLJkCccAIiIiogIx+0jQo0aNwqhRo4xuW7NmTa51bdu2xalTp0wag1KpxLRp03JdKqOSx9fCMvB1sAx8HSwDXwfLYOrXQSKEqe4nIyIiIiodzNoHiIiIiMgcmAARERGR1WECRERERFaHCRARERFZHSZAAMLDw1GlShXY2tqiSZMmOHTokLlDsipz5sxBs2bN4OjoiIoVK6JXr164fPmyucOyenPmzIFEIkFISIi5Q7FKd+7cwdtvvw1XV1fY2dmhYcOGiI6ONndYVkWj0eDTTz9FlSpVoFKpULVqVXz22WfQ6Qo3tyLlz8GDB9G9e3d4eXlBIpHg559/NtguhMD06dPh5eUFlUqFdu3a4cKFCwU+jtUnQBs2bEBISAimTJmC06dPo02bNujSpYvB+ENUvA4cOIDRo0fj+PHjiIqKgkajQXBwMB4/fmzu0KzWn3/+ieXLl6N+/frmDsUqPXz4EEFBQZDL5fj9998RExODhQsX5jmKPRWPuXPn4ttvv8XXX3+NixcvYt68eZg/fz6++uorc4dWpj1+/BgNGjTA119/bXT7vHnzsGjRInz99df4888/4eHhgY4dOyI1NbVgBzLJjGKlWPPmzcXIkSMN1vn7+4tJkyaZKSJKTEwUAMSBAwfMHYpVSk1NFTVq1BBRUVGibdu2Yvz48eYOyep8/PHHonXr1uYOw+p169ZNDBs2zGDd66+/Lt5++20zRWR9AIgtW7bol3U6nfDw8BBffPGFfl1mZqZwdnYW3377bYHqtuoWoKysLERHRyM4ONhgfXBwMI4ePWqmqCg5ORkATDbhHRXM6NGj0a1bN3To0MHcoVitbdu2oWnTpujbty8qVqyIRo0aYcWKFeYOy+q0bt0ae/bswZUrVwAAZ8+exeHDh9G1a1czR2a9YmNjkZCQYPC9rVQq0bZt2wJ/b5t9JGhzSkpKglarzTX7vLu7e65Z56lkCCEQGhqK1q1bo27duuYOx+qsX78ep06dwp9//mnuUKza9evXsXTpUoSGhuKTTz7BH3/8gXHjxkGpVBrMj0jF6+OPP0ZycjL8/f0hlUqh1Woxa9YsvPXWW+YOzWo9+W429r198+bNAtVl1QnQExKJxGBZCJFrHZWMMWPG4Ny5czh8+LC5Q7E6t27dwvjx47Fr1y7Y2tqaOxyrptPp0LRpU8yePRsA0KhRI1y4cAFLly5lAlSCNmzYgB9++AHr1q1DnTp1cObMGYSEhMDLywtDhgwxd3hWzRTf21adALm5uUEqleZq7UlMTMyVXVLxGzt2LLZt24aDBw+icuXK5g7H6kRHRyMxMRFNmjTRr9NqtTh48CC+/vprqNVqSKVSM0ZoPTw9PVG7dm2DdQEBAdi0aZOZIrJOEydOxKRJk/Dmm28CAOrVq4ebN29izpw5TIDMxMPDA0BOS5Cnp6d+fWG+t626D5BCoUCTJk0QFRVlsD4qKgqtWrUyU1TWRwiBMWPGYPPmzdi7dy+qVKli7pCsUvv27XH+/HmcOXNG/2jatCkGDhyIM2fOMPkpQUFBQbmGgrhy5Qp8fX3NFJF1Sk9Ph42N4dekVCrlbfBmVKVKFXh4eBh8b2dlZeHAgQMF/t626hYgAAgNDcWgQYPQtGlTBAYGYvny5YiLi8PIkSPNHZrVGD16NNatW4etW7fC0dFR3yLn7OwMlUpl5uish6OjY65+V/b29nB1dWV/rBI2YcIEtGrVCrNnz0a/fv3wxx9/YPny5Vi+fLm5Q7Mq3bt3x6xZs+Dj44M6derg9OnTWLRoEYYNG2bu0Mq0tLQ0/P333/rl2NhYnDlzBuXLl4ePjw9CQkIwe/Zs1KhRAzVq1MDs2bNhZ2eHAQMGFOxAprhNrbT75ptvhK+vr1AoFKJx48a8/bqEATD6iIiIMHdoVo+3wZvPL7/8IurWrSuUSqXw9/cXy5cvN3dIViclJUWMHz9e+Pj4CFtbW1G1alUxZcoUoVarzR1ambZv3z6j3wlDhgwRQuTcCj9t2jTh4eEhlEqleOWVV8T58+cLfByJEEKYImMjIiIiKi2sug8QERERWScmQERERGR1mAARERGR1WECRERERFaHCRARERFZHSZAREREZHWYABEREZHVYQJEREREVocJEBGVeRkZGbCzs8OlS5fMHQoRWQgmQERU5kVFRcHb2xv+/v7mDoWILAQTICIyu3bt2mHMmDEYM2YMXFxc4Orqik8//RRPZupRq9X46KOP4O3tDaVSiRo1amDVqlUAgIcPH2LgwIGoUKECVCoVatSogYiICIP6t27dih49egAApk+fjoYNG2L16tXw8fGBg4MD3n//fWi1WsybNw8eHh6oWLEiZs2aVbJPAhGVKKufDZ6ILMN3332H4cOH48SJEzh58iT++9//wtfXFyNGjMDgwYNx7NgxLFmyBA0aNEBsbCySkpIAAFOnTkVMTAx+//13uLm54e+//0ZGRoa+Xp1Oh19//RWbNm3Sr7t27Rp+//137NixA9euXUOfPn0QGxuLmjVr4sCBAzh69CiGDRuG9u3bo2XLliX+XBBR8WMCREQWwdvbG4sXL4ZEIkGtWrVw/vx5LF68GG3btsWPP/6IqKgodOjQAQBQtWpV/X5xcXFo1KgRmjZtCgDw8/MzqPf48ePQ6XRo1aqVfp1Op8Pq1avh6OiI2rVr49VXX8Xly5exfft22NjYoFatWpg7dy7279/PBIiojOIlMCKyCC1btoREItEvBwYG4urVqzh9+jSkUinatm1rdL/3338f69evR8OGDfHRRx/h6NGjBtu3bt2K1157DTY2Tz/u/Pz84OjoqF92d3dH7dq1Dcq4u7sjMTHRVKdHRBaGCRARWTRbW9sXbu/SpQtu3ryJkJAQ3L17F+3bt8eHH36o375t2zb07NnTYB+5XG6wLJFIjK7T6XRFjJ6ILBUTICKyCMePH8+1XKNGDTRo0AA6nQ4HDhzIc98KFSpg6NCh+OGHHxAWFobly5cDAK5evYobN24gODi4WGMnotKHCRARWYRbt24hNDQUly9fRmRkJL766iuMHz8efn5+GDJkCIYNG4aff/4ZsbGx2L9/P3788UcAwP/+9z9s3boVf//9Ny5cuIBff/0VAQEBAHIuf3Xo0AF2dnbmPDUiskDsBE1EFmHw4MHIyMhA8+bNIZVKMXbsWPz3v/8FACxduhSffPIJRo0ahfv378PHxweffPIJAEChUGDy5Mm4ceMGVCoV2rRpg/Xr1wPISYCGDBlitnMiIsslEU8G2iAiMpN27dqhYcOGCAsLM1mdSUlJ8PT0xK1bt+Dh4WGyeomobOAlMCIqkx48eIBFixYx+SEio3gJjIjKpJo1a6JmzZrmDoOILBQvgREREZHV4SUwIiIisjpMgIiIiMjqMAEiIiIiq8MEiIiIiKwOEyAiIiKyOkyAiIiIyOowASIiIiKrwwSIiIiIrA4TICIiIrI6/w8xtALqbPKFTgAAAABJRU5ErkJggg==",
      "application/papermill.record/text/plain": "<Figure size 640x480 with 1 Axes>"
     },
     "metadata": {
      "scrapbook": {
       "mime_prefix": "application/papermill.record/",
       "name": "ssp-predicted_samples"
      }
     },
     "output_type": "display_data"
    }
   ],
   "source": [
    "fig, ax = plt.subplots()\n",
    "\n",
    "unin_2022 = prior_df[\"Uninformed post\"].values\n",
    "\n",
    "# hists = pd.DataFrame({\"Observed 2021\": pcs, \"Expected 2024\": sim_2024, \"Observed 2022\": lh_pcs}, index=xrange)\n",
    "\n",
    "sns.ecdfplot([*lh_pcs, *pcs], label=\"Observed 2015 - 2022\",  c=\"black\", stat=\"proportion\", ax=ax, zorder=10)\n",
    "sns.ecdfplot(pcs, ax=ax, label=\"Observed 2015 - 2021\",color=\"cornflowerblue\", stat=\"proportion\", zorder=10)\n",
    "sns.ecdfplot(lh_pcs, ax=ax, label=\"Observed 2022\", color=\"darkslategrey\", stat=\"proportion\", zorder=10)\n",
    "# sns.ecdfplot(sim_2024, ax=ax, label=\"Observed 2022\", color=\"magenta\", stat=\"proportion\", zorder=11)\n",
    "\n",
    "# ax.plot(xrange, grid_prior, linestyle=':', c=\"blue\", linewidth=4,label=\"Grid prior\", zorder=11)\n",
    "ax.plot(xrange, (1-informed), linestyle=':', c=\"magenta\", linewidth=3,label=\"Expected 2024\", zorder=11)\n",
    "# ax.plot(xrange, unin_2022, linestyle=':', c=\"purple\", linewidth=4, label=\"Grid uninformed 2022\", zorder=11)\n",
    "# ax.hlines(y=0.5, xmin=0, xmax=2, color=\"r\", linestyle=\"-.\", zorder=15)\n",
    "\n",
    "# sns.histplot(lh_pcs, ax=ax, label=\"observed 2022\", stat=\"probability\")\n",
    "sns.histplot(pcs, ax=ax, label=\"Observed 2021\", color=\"cornflowerblue\", alpha=0.5, zorder=0, stat=\"probability\")\n",
    "sns.histplot(sim_2024, ax=ax, label=\"Expected 2024\", color=\"black\", zorder=2, alpha=0.5, edgecolor=\"magenta\", linewidth=1, stat=\"probability\")\n",
    "sns.histplot(lh_pcs, ax=ax, label=\"Observed 2022\", color=\"darkslategrey\", alpha=0.5, stat=\"probability\", zorder=0)\n",
    "\n",
    "\n",
    "ax.set_xlabel('pcs/m')\n",
    "ax.set_xlim(-.1, 10)\n",
    "ax.set_ylabel('probability')\n",
    "# h, l = ax.get_legend_handles_labels()\n",
    "ax.legend(bbox_to_anchor=(0,1.05), loc=\"lower left\", ncol=2 )\n",
    "glue('ssp-predicted_samples', fig, display=False)\n",
    "plt.close()"
   ]
  },
  {
   "cell_type": "markdown",
   "metadata": {
    "editable": true,
    "slideshow": {
     "slide_type": ""
    },
    "tags": []
   },
   "source": [
    "<!-- ### Previous and expected survey totals -->"
   ]
  },
  {
   "cell_type": "markdown",
   "metadata": {
    "editable": true,
    "slideshow": {
     "slide_type": ""
    },
    "tags": []
   },
   "source": [
    "<!-- |     Figure 11, Table 11  |    Table 12, Figure 12       | \n",
    "|:------------------------:|:----------------------------:|\n",
    "|{glue:}`ssp-outlook-2024` | {glue:}`ssp-2024-meds`|\n",
    "|{glue:}`ssp-summary` | {glue:}`ssp-predicted_samples`| -->\n",
    "\n"
   ]
  },
  {
   "cell_type": "code",
   "execution_count": 19,
   "metadata": {
    "editable": true,
    "slideshow": {
     "slide_type": ""
    },
    "tags": [
     "remove-input",
     "remove-output"
    ]
   },
   "outputs": [],
   "source": [
    "city =  'Saint-Sulpice (VD)'\n",
    "start, end = \"2015-11-15\", \"2021-05-31\"\n",
    "\n",
    "g_resa = cbdu.copy()\n",
    "g_resa = g_resa.groupby(['loc_date', 'date','slug', 'city', 'Project', 'code'], as_index=False).agg({'pcs_m':'sum', 'quantity':'sum'})\n",
    "g_resadt = g_resa.groupby(['loc_date', 'date','slug', 'city', 'Project'], as_index=False).agg({'pcs_m':'sum', 'quantity':'sum'})\n",
    "\n",
    "# define the prior, likelihood data and likelihood locations\n",
    "posterior_df = pd.DataFrame(index=xrange)\n",
    "predictions = {}\n",
    "\n",
    "for code in toi:\n",
    "    \n",
    "    # code_index = 1\n",
    "    city_index = 0\n",
    "    attribute_index = 2\n",
    "    \n",
    "    this_code =  code\n",
    "    this_attribute = attribute_columns[attribute_index]\n",
    "    this_city = cois[city_index]\n",
    "    \n",
    "    prior_data = g_resa[(g_resa.code == this_code)&(g_resa.city != city)&(g_resa.Project ==\"before may 2021\")]\n",
    "    lh_data = g_resa[(g_resa.code == this_code)&(g_resa.city == city)]\n",
    "    lh_locations = lh_data.slug.unique()\n",
    "    \n",
    "    regions = lac_leman_regions[~lac_leman_regions.slug.isin(not_these)].copy()\n",
    "    lh_regions = regions[regions.slug.isin(lh_locations)].alabel.unique()\n",
    "    regional_locations = regions[regions.alabel.isin(lh_regions)].slug.unique()\n",
    "    land_use_data_of_interest = lu_binned.loc[regional_locations]\n",
    "    \n",
    "    locations, possible_locations, prior_locations = current_possible_prior_locations(land_use_data_of_interest, lh_locations, this_attribute)\n",
    "    \n",
    "    prior_args = {\n",
    "        'prior_data':prior_data[prior_data.slug.isin(prior_locations)],\n",
    "        'start': start,\n",
    "        'end': end,\n",
    "        'xrange':xrange,\n",
    "        'uninformed_prior': uninformed_tuple,\n",
    "    }\n",
    "    # grid approximation of the prior\n",
    "    grid_prior, beta_prior, prior_k_n, prior_df, pcs = prior_distributions(**prior_args)\n",
    "    \n",
    "    posterior_args = {\n",
    "        'lh_data':lh_data,\n",
    "        'start': start,\n",
    "        'end': \"2022-12-31\",\n",
    "        'un_informed': uninformed_tuple,\n",
    "        'informed_prior': prior_k_n\n",
    "    }\n",
    "    \n",
    "    # grid approximation of posterior\n",
    "    informed, uninformed, beta_p, lh_pcs = posterior_distribution(**posterior_args)\n",
    "    \n",
    "    # the quantiles from the observed data\n",
    "    prior_quants = np.quantile(pcs, some_quants)\n",
    "    post_quants = np.quantile(lh_pcs, some_quants)\n",
    "    \n",
    "    # data frame with normalized results\n",
    "    post_df = make_results_df(prior_df.copy(), informed, source=\"Informed post\", source_norm=\"Ip_n\")\n",
    "    post_df = make_results_df(post_df, uninformed, source=\"Uninformed post\", source_norm=\"Un_n\")\n",
    "    \n",
    "    # samples from posterior \n",
    "    sim_2024 = sampler_from_multinomial(post_df[\"Ip_n\"].values, xrange, len(pcs) + len(lh_pcs))\n",
    "    sim_quants = np.quantile(sim_2024[0], some_quants)\n",
    "    \n",
    "    \n",
    "    predictions.update({this_code:sim_quants})\n",
    "    posterior_df[this_code]=informed\n",
    "\n",
    "index = ['{:.0%}'.format(x) for x in some_quants]\n",
    "pred_quants = pd.DataFrame(predictions, index=index)"
   ]
  },
  {
   "cell_type": "code",
   "execution_count": 20,
   "metadata": {
    "editable": true,
    "slideshow": {
     "slide_type": ""
    },
    "tags": [
     "remove-input",
     "remove-output"
    ]
   },
   "outputs": [
    {
     "data": {
      "text/html": [
       "<style type=\"text/css\">\n",
       "#T_47a6d tr:nth-child(even) {\n",
       "  background-color: rgba(139, 69, 19, 0.08);\n",
       "}\n",
       "#T_47a6d tr:nth-child(odd) {\n",
       "  background: #FFF;\n",
       "}\n",
       "#T_47a6d tr {\n",
       "  font-size: 14px;\n",
       "  padding: 12px;\n",
       "}\n",
       "#T_47a6d th:nth-child(1) {\n",
       "  background-color: #FFF;\n",
       "  text-align: right;\n",
       "}\n",
       "#T_47a6d caption {\n",
       "  font-size: 14px;\n",
       "  font-style: italic;\n",
       "  caption-side: bottom;\n",
       "  text-align: left;\n",
       "  margin-top: 10px;\n",
       "}\n",
       "</style>\n",
       "<table id=\"T_47a6d\">\n",
       "  <thead>\n",
       "    <tr>\n",
       "      <th class=\"blank level0\" >&nbsp;</th>\n",
       "      <th id=\"T_47a6d_level0_col0\" class=\"col_heading level0 col0\" >G95</th>\n",
       "      <th id=\"T_47a6d_level0_col1\" class=\"col_heading level0 col1\" >G96</th>\n",
       "      <th id=\"T_47a6d_level0_col2\" class=\"col_heading level0 col2\" >G30</th>\n",
       "      <th id=\"T_47a6d_level0_col3\" class=\"col_heading level0 col3\" >Gcaps</th>\n",
       "      <th id=\"T_47a6d_level0_col4\" class=\"col_heading level0 col4\" >G27</th>\n",
       "      <th id=\"T_47a6d_level0_col5\" class=\"col_heading level0 col5\" >G67</th>\n",
       "      <th id=\"T_47a6d_level0_col6\" class=\"col_heading level0 col6\" >G89</th>\n",
       "      <th id=\"T_47a6d_level0_col7\" class=\"col_heading level0 col7\" >G112</th>\n",
       "      <th id=\"T_47a6d_level0_col8\" class=\"col_heading level0 col8\" >Gfoam</th>\n",
       "      <th id=\"T_47a6d_level0_col9\" class=\"col_heading level0 col9\" >Gfrags</th>\n",
       "      <th id=\"T_47a6d_level0_col10\" class=\"col_heading level0 col10\" >G70</th>\n",
       "      <th id=\"T_47a6d_level0_col11\" class=\"col_heading level0 col11\" >G32</th>\n",
       "    </tr>\n",
       "  </thead>\n",
       "  <tbody>\n",
       "    <tr>\n",
       "      <th id=\"T_47a6d_level0_row0\" class=\"row_heading level0 row0\" >3%</th>\n",
       "      <td id=\"T_47a6d_row0_col0\" class=\"data row0 col0\" >0.00</td>\n",
       "      <td id=\"T_47a6d_row0_col1\" class=\"data row0 col1\" >0.00</td>\n",
       "      <td id=\"T_47a6d_row0_col2\" class=\"data row0 col2\" >0.00</td>\n",
       "      <td id=\"T_47a6d_row0_col3\" class=\"data row0 col3\" >0.00</td>\n",
       "      <td id=\"T_47a6d_row0_col4\" class=\"data row0 col4\" >0.00</td>\n",
       "      <td id=\"T_47a6d_row0_col5\" class=\"data row0 col5\" >0.00</td>\n",
       "      <td id=\"T_47a6d_row0_col6\" class=\"data row0 col6\" >0.00</td>\n",
       "      <td id=\"T_47a6d_row0_col7\" class=\"data row0 col7\" >0.00</td>\n",
       "      <td id=\"T_47a6d_row0_col8\" class=\"data row0 col8\" >0.00</td>\n",
       "      <td id=\"T_47a6d_row0_col9\" class=\"data row0 col9\" >0.00</td>\n",
       "      <td id=\"T_47a6d_row0_col10\" class=\"data row0 col10\" >0.00</td>\n",
       "      <td id=\"T_47a6d_row0_col11\" class=\"data row0 col11\" >0.00</td>\n",
       "    </tr>\n",
       "    <tr>\n",
       "      <th id=\"T_47a6d_level0_row1\" class=\"row_heading level0 row1\" >25%</th>\n",
       "      <td id=\"T_47a6d_row1_col0\" class=\"data row1 col0\" >0.00</td>\n",
       "      <td id=\"T_47a6d_row1_col1\" class=\"data row1 col1\" >0.02</td>\n",
       "      <td id=\"T_47a6d_row1_col2\" class=\"data row1 col2\" >0.01</td>\n",
       "      <td id=\"T_47a6d_row1_col3\" class=\"data row1 col3\" >0.00</td>\n",
       "      <td id=\"T_47a6d_row1_col4\" class=\"data row1 col4\" >0.02</td>\n",
       "      <td id=\"T_47a6d_row1_col5\" class=\"data row1 col5\" >0.02</td>\n",
       "      <td id=\"T_47a6d_row1_col6\" class=\"data row1 col6\" >0.01</td>\n",
       "      <td id=\"T_47a6d_row1_col7\" class=\"data row1 col7\" >0.00</td>\n",
       "      <td id=\"T_47a6d_row1_col8\" class=\"data row1 col8\" >0.00</td>\n",
       "      <td id=\"T_47a6d_row1_col9\" class=\"data row1 col9\" >0.00</td>\n",
       "      <td id=\"T_47a6d_row1_col10\" class=\"data row1 col10\" >0.00</td>\n",
       "      <td id=\"T_47a6d_row1_col11\" class=\"data row1 col11\" >0.00</td>\n",
       "    </tr>\n",
       "    <tr>\n",
       "      <th id=\"T_47a6d_level0_row2\" class=\"row_heading level0 row2\" >48%</th>\n",
       "      <td id=\"T_47a6d_row2_col0\" class=\"data row2 col0\" >0.32</td>\n",
       "      <td id=\"T_47a6d_row2_col1\" class=\"data row2 col1\" >0.04</td>\n",
       "      <td id=\"T_47a6d_row2_col2\" class=\"data row2 col2\" >0.13</td>\n",
       "      <td id=\"T_47a6d_row2_col3\" class=\"data row2 col3\" >0.08</td>\n",
       "      <td id=\"T_47a6d_row2_col4\" class=\"data row2 col4\" >0.43</td>\n",
       "      <td id=\"T_47a6d_row2_col5\" class=\"data row2 col5\" >0.13</td>\n",
       "      <td id=\"T_47a6d_row2_col6\" class=\"data row2 col6\" >0.08</td>\n",
       "      <td id=\"T_47a6d_row2_col7\" class=\"data row2 col7\" >0.01</td>\n",
       "      <td id=\"T_47a6d_row2_col8\" class=\"data row2 col8\" >0.13</td>\n",
       "      <td id=\"T_47a6d_row2_col9\" class=\"data row2 col9\" >0.51</td>\n",
       "      <td id=\"T_47a6d_row2_col10\" class=\"data row2 col10\" >0.00</td>\n",
       "      <td id=\"T_47a6d_row2_col11\" class=\"data row2 col11\" >0.03</td>\n",
       "    </tr>\n",
       "    <tr>\n",
       "      <th id=\"T_47a6d_level0_row3\" class=\"row_heading level0 row3\" >50%</th>\n",
       "      <td id=\"T_47a6d_row3_col0\" class=\"data row3 col0\" >0.33</td>\n",
       "      <td id=\"T_47a6d_row3_col1\" class=\"data row3 col1\" >0.04</td>\n",
       "      <td id=\"T_47a6d_row3_col2\" class=\"data row3 col2\" >0.13</td>\n",
       "      <td id=\"T_47a6d_row3_col3\" class=\"data row3 col3\" >0.12</td>\n",
       "      <td id=\"T_47a6d_row3_col4\" class=\"data row3 col4\" >0.46</td>\n",
       "      <td id=\"T_47a6d_row3_col5\" class=\"data row3 col5\" >0.15</td>\n",
       "      <td id=\"T_47a6d_row3_col6\" class=\"data row3 col6\" >0.10</td>\n",
       "      <td id=\"T_47a6d_row3_col7\" class=\"data row3 col7\" >0.01</td>\n",
       "      <td id=\"T_47a6d_row3_col8\" class=\"data row3 col8\" >0.20</td>\n",
       "      <td id=\"T_47a6d_row3_col9\" class=\"data row3 col9\" >0.69</td>\n",
       "      <td id=\"T_47a6d_row3_col10\" class=\"data row3 col10\" >0.00</td>\n",
       "      <td id=\"T_47a6d_row3_col11\" class=\"data row3 col11\" >0.04</td>\n",
       "    </tr>\n",
       "    <tr>\n",
       "      <th id=\"T_47a6d_level0_row4\" class=\"row_heading level0 row4\" >52%</th>\n",
       "      <td id=\"T_47a6d_row4_col0\" class=\"data row4 col0\" >0.33</td>\n",
       "      <td id=\"T_47a6d_row4_col1\" class=\"data row4 col1\" >0.04</td>\n",
       "      <td id=\"T_47a6d_row4_col2\" class=\"data row4 col2\" >0.13</td>\n",
       "      <td id=\"T_47a6d_row4_col3\" class=\"data row4 col3\" >0.12</td>\n",
       "      <td id=\"T_47a6d_row4_col4\" class=\"data row4 col4\" >0.48</td>\n",
       "      <td id=\"T_47a6d_row4_col5\" class=\"data row4 col5\" >0.16</td>\n",
       "      <td id=\"T_47a6d_row4_col6\" class=\"data row4 col6\" >0.11</td>\n",
       "      <td id=\"T_47a6d_row4_col7\" class=\"data row4 col7\" >0.01</td>\n",
       "      <td id=\"T_47a6d_row4_col8\" class=\"data row4 col8\" >0.21</td>\n",
       "      <td id=\"T_47a6d_row4_col9\" class=\"data row4 col9\" >0.77</td>\n",
       "      <td id=\"T_47a6d_row4_col10\" class=\"data row4 col10\" >0.00</td>\n",
       "      <td id=\"T_47a6d_row4_col11\" class=\"data row4 col11\" >0.04</td>\n",
       "    </tr>\n",
       "    <tr>\n",
       "      <th id=\"T_47a6d_level0_row5\" class=\"row_heading level0 row5\" >75%</th>\n",
       "      <td id=\"T_47a6d_row5_col0\" class=\"data row5 col0\" >0.59</td>\n",
       "      <td id=\"T_47a6d_row5_col1\" class=\"data row5 col1\" >0.10</td>\n",
       "      <td id=\"T_47a6d_row5_col2\" class=\"data row5 col2\" >0.49</td>\n",
       "      <td id=\"T_47a6d_row5_col3\" class=\"data row5 col3\" >0.21</td>\n",
       "      <td id=\"T_47a6d_row5_col4\" class=\"data row5 col4\" >0.92</td>\n",
       "      <td id=\"T_47a6d_row5_col5\" class=\"data row5 col5\" >0.30</td>\n",
       "      <td id=\"T_47a6d_row5_col6\" class=\"data row5 col6\" >0.20</td>\n",
       "      <td id=\"T_47a6d_row5_col7\" class=\"data row5 col7\" >0.23</td>\n",
       "      <td id=\"T_47a6d_row5_col8\" class=\"data row5 col8\" >0.70</td>\n",
       "      <td id=\"T_47a6d_row5_col9\" class=\"data row5 col9\" >0.96</td>\n",
       "      <td id=\"T_47a6d_row5_col10\" class=\"data row5 col10\" >0.04</td>\n",
       "      <td id=\"T_47a6d_row5_col11\" class=\"data row5 col11\" >0.07</td>\n",
       "    </tr>\n",
       "    <tr>\n",
       "      <th id=\"T_47a6d_level0_row6\" class=\"row_heading level0 row6\" >97%</th>\n",
       "      <td id=\"T_47a6d_row6_col0\" class=\"data row6 col0\" >1.11</td>\n",
       "      <td id=\"T_47a6d_row6_col1\" class=\"data row6 col1\" >0.20</td>\n",
       "      <td id=\"T_47a6d_row6_col2\" class=\"data row6 col2\" >0.99</td>\n",
       "      <td id=\"T_47a6d_row6_col3\" class=\"data row6 col3\" >0.70</td>\n",
       "      <td id=\"T_47a6d_row6_col4\" class=\"data row6 col4\" >1.97</td>\n",
       "      <td id=\"T_47a6d_row6_col5\" class=\"data row6 col5\" >0.86</td>\n",
       "      <td id=\"T_47a6d_row6_col6\" class=\"data row6 col6\" >0.39</td>\n",
       "      <td id=\"T_47a6d_row6_col7\" class=\"data row6 col7\" >1.03</td>\n",
       "      <td id=\"T_47a6d_row6_col8\" class=\"data row6 col8\" >2.53</td>\n",
       "      <td id=\"T_47a6d_row6_col9\" class=\"data row6 col9\" >2.01</td>\n",
       "      <td id=\"T_47a6d_row6_col10\" class=\"data row6 col10\" >0.07</td>\n",
       "      <td id=\"T_47a6d_row6_col11\" class=\"data row6 col11\" >0.14</td>\n",
       "    </tr>\n",
       "  </tbody>\n",
       "</table>\n"
      ],
      "text/plain": [
       "<pandas.io.formats.style.Styler at 0x7ffa08f72bb0>"
      ]
     },
     "execution_count": 20,
     "metadata": {},
     "output_type": "execute_result"
    }
   ],
   "source": [
    "pred_quants.style.format(precision=2).set_table_styles(table_large_font)"
   ]
  },
  {
   "cell_type": "markdown",
   "metadata": {
    "editable": true,
    "pycharm": {
     "name": "#%% md\n"
    },
    "slideshow": {
     "slide_type": ""
    },
    "tags": []
   },
   "source": [
    "## Discussion\n",
    "\n",
    "## Conclusions\n",
    "\n",
    "To be completed on the 6th of October.\n",
    "\n",
    "### Next steps\n",
    "\n",
    "Make hierarchical model"
   ]
  },
  {
   "cell_type": "code",
   "execution_count": 21,
   "metadata": {
    "editable": true,
    "pycharm": {
     "name": "#%%\n"
    },
    "slideshow": {
     "slide_type": ""
    },
    "tags": [
     "remove-input"
    ]
   },
   "outputs": [
    {
     "data": {
      "text/markdown": [
       "\n",
       "\n",
       "This script updated 05/10/2023 in Biel, CH\n",
       "\n",
       "❤️ __what you do everyday:__ *analyst at hammerdirt*\n"
      ],
      "text/plain": [
       "<IPython.core.display.Markdown object>"
      ]
     },
     "execution_count": 21,
     "metadata": {},
     "output_type": "execute_result"
    }
   ],
   "source": [
    "today = dt.datetime.now().date().strftime(\"%d/%m/%Y\")\n",
    "where = \"Biel, CH\"\n",
    "\n",
    "my_block = f\"\"\"\n",
    "\n",
    "This script updated {today} in {where}\n",
    "\n",
    "\\u2764\\ufe0f __what you do everyday:__ *analyst at hammerdirt*\n",
    "\"\"\"\n",
    "\n",
    "md(my_block)"
   ]
  },
  {
   "cell_type": "code",
   "execution_count": 22,
   "metadata": {
    "editable": true,
    "pycharm": {
     "name": "#%%\n"
    },
    "slideshow": {
     "slide_type": ""
    },
    "tags": [
     "remove-input"
    ]
   },
   "outputs": [
    {
     "name": "stdout",
     "output_type": "stream",
     "text": [
      "Git repo: https://github.com/hammerdirt-analyst/patelmanuscript.git\n",
      "\n",
      "Git branch: newsummary\n",
      "\n",
      "matplotlib: 3.7.1\n",
      "seaborn   : 0.12.2\n",
      "numpy     : 1.24.3\n",
      "pandas    : 2.0.2\n",
      "\n"
     ]
    }
   ],
   "source": [
    "%watermark --iversions -b -r"
   ]
  }
 ],
 "metadata": {
  "kernelspec": {
   "display_name": "Python 3 (ipykernel)",
   "language": "python",
   "name": "python3"
  },
  "language_info": {
   "codemirror_mode": {
    "name": "ipython",
    "version": 3
   },
   "file_extension": ".py",
   "mimetype": "text/x-python",
   "name": "python",
   "nbconvert_exporter": "python",
   "pygments_lexer": "ipython3",
   "version": "3.9.16"
  }
 },
 "nbformat": 4,
 "nbformat_minor": 4
}
