{
 "cells": [
  {
   "cell_type": "code",
   "execution_count": 1,
   "metadata": {
    "editable": true,
    "pycharm": {
     "name": "#%%\n"
    },
    "slideshow": {
     "slide_type": ""
    },
    "tags": [
     "remove-input"
    ]
   },
   "outputs": [],
   "source": [
    "%load_ext watermark\n",
    "\n",
    "import pandas as pd\n",
    "import numpy as np\n",
    "import datetime as dt \n",
    "from statsmodels.distributions.empirical_distribution import ECDF\n",
    "from scipy.stats import beta\n",
    "import matplotlib.pyplot as plt\n",
    "import seaborn as sns\n",
    "from IPython.display import Markdown as md\n",
    "from myst_nb import glue\n",
    "\n",
    "from bisect import bisect\n",
    "from bisect import bisect_left, bisect_right\n",
    "\n",
    "dfCodes = pd.read_csv(\"resources/data/u_codes.csv\")\n",
    "dfBeaches = pd.read_csv(\"resources/data/u_beaches.csv\")\n",
    "dfBeaches.set_index(\"slug\", inplace=True)\n",
    "\n",
    "all_data = pd.read_csv(\"resources/data/u_all_data.csv\")\n",
    "all_data = all_data[all_data.river_bassin != 'les-alpes'].copy()\n",
    "all_data[\"date\"] = pd.to_datetime(all_data[\"date\"], format=\"%Y-%m-%d\")\n",
    "\n",
    "# import regional labels. labels are used\n",
    "# to identify the regional priors\n",
    "lac_leman_regions = pd.read_csv(\"resources/data/lac_leman_regions.csv\")\n",
    "\n",
    "# map to code decriptions\n",
    "dfCodes.set_index(\"code\", inplace=True)\n",
    "dfCodes.loc[\"Gcaps\", [\"material\", \"description\", \"groupname\"]] = [\"Plastic\", \"Plastic bottle lids\", \"food and drink\"]"
   ]
  },
  {
   "cell_type": "code",
   "execution_count": 2,
   "metadata": {
    "editable": true,
    "pycharm": {
     "name": "#%%\n"
    },
    "slideshow": {
     "slide_type": ""
    },
    "tags": [
     "remove-input"
    ]
   },
   "outputs": [],
   "source": [
    "# this defines the css rules for the note-book table displays\n",
    "header_row = {'selector': 'th:nth-child(1)', 'props': f'background-color: #FFF; text-align:right'}\n",
    "even_rows = {\"selector\": 'tr:nth-child(even)', 'props': f'background-color: rgba(139, 69, 19, 0.08);'}\n",
    "odd_rows = {'selector': 'tr:nth-child(odd)', 'props': 'background: #FFF;'}\n",
    "table_font = {'selector': 'tr', 'props': 'font-size: 10px;'}\n",
    "table_data = {'selector': 'td', 'props': 'padding: 12px;'}\n",
    "table_caption = {'selector': 'caption', 'props': 'font-size: 14px; font-style: italic; caption-side: bottom; text-align: left; margin-top: 10px'}\n",
    "table_css_styles = [even_rows, odd_rows, table_font, header_row, table_caption]\n",
    "\n",
    "\n",
    "table_large_data = {'selector': 'tr', 'props': 'font-size: 14px; padding: 12px;'}\n",
    "table_large_font = [even_rows, odd_rows, table_large_data, header_row, table_caption]"
   ]
  },
  {
   "cell_type": "markdown",
   "metadata": {
    "editable": true,
    "pycharm": {
     "name": "#%% md\n"
    },
    "slideshow": {
     "slide_type": ""
    },
    "tags": []
   },
   "source": [
    "# Testing 2023 predictions\n",
    "\n",
    "## The solid waste experience\n",
    "\n",
    "This is the seventh year that the Solid Waste Team from the EPFL collect beach litter samples. In the maritime environment people have been measuring beach litter for decades. There is a standard protocol ([Guidance on Monitoring Marine Litter in European Seas](https://publications.jrc.ec.europa.eu/repository/handle/JRC83985)) for the EU area and threshold values for good environmental standing ([Beach litter thresholds](https://mcc.jrc.ec.europa.eu/main/dev.py?N=41&O=454)). \n",
    "\n",
    "In Switzerland we started monitoring shoreline trash in 2015, it was not obvious to most observers (except for Prof Ludwig) why this might be of interest. However, by 2016 the EU realized that monitoring trash flows in rivers and lakes ([monitoring trash in rivers](https://mcc.jrc.ec.europa.eu/documents/201703034325.pdf)) might be a good way to monitor flows into the oceans. All the while conservationists and biologists have raised concerns about the presence of plastics and diminshing biodiversity. The threshold established by the EU is based on the principle of precaution: _the health effects are unknown, it is prudent to reduce contact with plastics when possible_ ([Beach litter thresholds](https://mcc.jrc.ec.europa.eu/main/dev.py?N=41&O=454)).\n",
    "\n",
    "### Observations and interpretations\n",
    "\n",
    "A beach litter survey is a detailed observation of the quantity and type of objects that were found at the beach. This observation is further defined by the time and place it occured. The location of the beach litter survey can be described numerically using a topographical map and some common overlay techniques in QGIS.\n",
    "\n",
    "The information gathered from the map are part of the _conditions_ that describe a survey location in particular. When beach litter surveys are considered in terms of their shared attributes we can use very simple techniques to find correlations between the conditions and the amount of trash found. For example, we can use Spearmans ranked correlation coefficient to quickly identify topographical attributes where specfic objects tend to accumulate. We wrote an article about it:  ([Near or far](https://hammerdirt-analyst.github.io/landuse/titlepage.html)).\n",
    "\n",
    "### A unique problem and a unique solution\n",
    "\n",
    "Trash in the environment is a unique problem. In general we know how an object becomes litter: either on purpose or on accident, people create the conditions that increase the chance that an end of lifecycle object will evade the waste recovery system. Resources are employed to change the behavior of people and therefore improve the chance that an end of lifcycle object will be approriately discarded, _(need reference)_. \n",
    "\n",
    "There are public services that are dedicated to collecting inappropriately discarded items. Beach litter surveys are the observed result of the difference between the effect of the systems in place to reduce litter and the amount of litter produced. Indifferent of how that litter was produced or the measures in place to prevent it. Therefore this environmental assessment is reliant on individual observations. We can look to orntithologists and botanists for examples on how to interpret this data.\n",
    "\n",
    "```{admonition} Asessing the environment:\n",
    "\n",
    "__What and how much are the volunteers likely to find?__\n",
    "      \n",
    "_This is the most honest answer that can be derived from the data._\n",
    "```\n",
    "\n",
    "There are 336 observations from 66 locations that describe the conditions under which 73,000 items were found on the 145km shore-line of Lake Geneva. Although this is only a small portion of the lake shore, this is still a good amount of samples in a six year period. It would be difficult to find a comparable stretch of coastline anywhere in the world that has that many samples in seven years. We can use that data to form our opinion of what we might find on October 5th.\n",
    "\n",
    "```{admonition} Asessing the environment:\n",
    "\n",
    "We can not tell you how much there is. __Only how much you are likely to find.__\n",
    "      \n",
    "What the difference is between the two statements is a philosophical discussion. In reality it may be hard to make such a distinction.\n",
    "```\n",
    "\n",
    "\n",
    "### Reducing dimensionality: find the most common\n",
    "\n",
    "There are 228 different categories of objects. We are interested in what we might find and how likely we are to find it. Therefore we limit the search to items that were previously identified in at least 50% of the surveys AND/OR objects that are distinctive (easy to identify). This accounts for 74% of all objects previously recorded."
   ]
  },
  {
   "cell_type": "code",
   "execution_count": 3,
   "metadata": {
    "editable": true,
    "pycharm": {
     "name": "#%%\n"
    },
    "slideshow": {
     "slide_type": ""
    },
    "tags": [
     "remove-input"
    ]
   },
   "outputs": [],
   "source": [
    "def prior_distributions(prior_data: pd.DataFrame = None, start: str = None, end: str = None,\n",
    "                        xrange: np.array = None, uninformed_prior: np.array = None):\n",
    "    data_args = {\n",
    "        'start':start,\n",
    "        'end':end,\n",
    "        'data': prior_data,\n",
    "    }\n",
    "    prior_pcs = period_pieces(*data_args.values())         \n",
    "\n",
    "    # get n and k for the prior data\n",
    "    prior_k, prior_notk, prior_k_n_minus_k = period_k_and_n(prior_pcs, xrange)\n",
    "   \n",
    "    # make the likelihood parameters\n",
    "    lhx = list(zip(prior_k, prior_notk))\n",
    "\n",
    "    # make the prior distribution\n",
    "    p_ui, prior_bmean = make_expected(lhx, uninformed_prior, xrange)\n",
    "\n",
    "    # the uninformed beta approximation of the prior data\n",
    "    prior_beta = [period_beta(x) for x in prior_k_n_minus_k]\n",
    "    p_beta= [x.mean() for x in prior_beta]\n",
    "\n",
    "    results=pd.DataFrame({\"x\":xrange, \"p\":p_ui})\n",
    "    results[\"pn\"] = results.p/results.p.sum()\n",
    "    \n",
    "    return np.array(p_ui), np.array(p_beta), prior_k_n_minus_k, results, prior_pcs\n",
    "\n",
    "def posterior_distribution(lh_data: pd.DataFrame = None, start: str = None, end: str = None,\n",
    "                           informed_prior: np.array = None, un_informed: np.array = None):\n",
    "                               \n",
    "    \n",
    "    data_args = {\n",
    "        'start': start,\n",
    "        'end':end,\n",
    "        'data': lh_data,   \n",
    "        }\n",
    "\n",
    "    period_all = period_pieces(*data_args.values())\n",
    "    \n",
    "    pall_k, pall_notk, pall_k_n_minus_k = period_k_and_n(period_all, xrange)\n",
    "    \n",
    "    lh_and_informed = np.array(pall_k_n_minus_k) + np.array(informed_prior)\n",
    "    lhx = list(zip(pall_k, pall_notk))        \n",
    "    \n",
    "    probi, probi_beta = make_expected(pall_k_n_minus_k, np.array(informed_prior), xrange)\n",
    "    grid_prox, grid_prox_beta = make_expected(pall_k_n_minus_k, un_informed, xrange)\n",
    "    \n",
    "    # beta distribution \n",
    "    pall_beta = [period_beta((x[0]+1, x[1]+1)) for x in pall_k_n_minus_k]\n",
    "    pall_bmean = [x.mean() for x in pall_beta]\n",
    "    return np.array(probi), np.array(grid_prox), pall_bmean, period_all\n",
    "                               \n",
    "def training_testing_compare(lh_pcs, pcs, post_quants, prior_quants):\n",
    "    \n",
    "    total_training = len(pcs) + len(lh_pcs)\n",
    "    prior_weight = len(pcs)/total_training\n",
    "    lh_weight = len(lh_pcs)/total_training\n",
    "\n",
    "    number_of_samples = {\"before may 2021\": len(pcs), \"after may 2021\": len(lh_pcs)}\n",
    "    weights = {\"before may 2021\":prior_weight, \"after may 2021\": lh_weight}\n",
    "    observed_median = {\"before may 2021\":np.median(pcs), \"after may 2021\": np.median(lh_pcs)}\n",
    "    observed_average = {\"before may 2021\":np.mean(pcs), \"after may 2021\": np.mean(lh_pcs)}\n",
    "    observed_25 = {\"before may 2021\": prior_quants[1], \"after may 2021\":post_quants[1]}\n",
    "    observed_75 = {\"before may 2021\": prior_quants[5], \"after may 2021\":post_quants[5]}\n",
    "    index = [\"weight all samples\", \"Number of samples\", \"Median\", \"Average\", \"25th percentile\", \"75th percentile\"]\n",
    "    components = [weights, number_of_samples, observed_median, observed_average, observed_25, observed_75]\n",
    "    unks_sum_table = pd.DataFrame(components, index=index).style.format(precision=2).set_table_styles(table_large_font)\n",
    "    styled = unks_sum_table.format(formatter=\"{:.0f}\", subset=pd.IndexSlice[['Number of samples'], :])\n",
    "    \n",
    "    return styled\n",
    "\n",
    "def predicted_summary(lh_pcs, pcs, prior_quants, median_2024):\n",
    "    \n",
    "\n",
    "    predicted = ((lh_pcs <= prior_quants[5])&(lh_pcs >= prior_quants[1])).sum()/len(lh_pcs)\n",
    "    predicted_94 = ((lh_pcs <= prior_quants[-1])&(lh_pcs >= prior_quants[0])).sum()/len(lh_pcs)\n",
    "    past_present_future = {\n",
    "        \"Median 2021\": np.median(pcs), \n",
    "        \"Median 2022\": np.median(lh_pcs), \n",
    "        \"Expected sampling median 2024\":median_2024,\n",
    "        \"% 2022 in 50% IQR  predicted\": predicted,\n",
    "        \"% 2022 in 94% IQR  predicted\": predicted_94,\n",
    "    }\n",
    "        \n",
    "    \n",
    "    ppf = pd.DataFrame(past_present_future, index=[\"pcs/m\"]).T\n",
    "\n",
    "    return ppf\n",
    "\n",
    "\n",
    "def make_results_df(prior_df, lh_c, source=None, source_norm=None):\n",
    "    \n",
    "    prior_df[source] = lh_c\n",
    "    prior_df[source_norm] = prior_df[source]/prior_df[source].sum()\n",
    "\n",
    "    return prior_df\n",
    "\n",
    "def data_profile(all_data):\n",
    "    date_min = all_data[\"date\"].min()\n",
    "    date_max = all_data[\"date\"].max()\n",
    "\n",
    "    if \"location\" in all_data.columns:\n",
    "        nlocations = all_data.location.nunique()\n",
    "    else:\n",
    "        nlocations = all_data.slug.nunique()\n",
    "    ncodes = all_data.code.nunique()\n",
    "    ncities = all_data.city.nunique()\n",
    "    quantity = all_data.quantity.sum()\n",
    "    nsamples = all_data.loc_date.nunique()\n",
    "\n",
    "    a_profile = dict(\n",
    "        start = date_min,\n",
    "        end = date_max,\n",
    "        nlocations = nlocations,\n",
    "        ncodes = ncodes,\n",
    "        ncities = ncities,\n",
    "        quantity = quantity,\n",
    "        nsamples = nsamples\n",
    "    )\n",
    "\n",
    "    return a_profile\n",
    "\n",
    "def a_fail_rate(x, total_number_of_samples):\n",
    "    return x[\"fail\"].sum()/total_number_of_samples\n",
    "\n",
    "\n",
    "def the_most_abundant(x):\n",
    "    t = x.groupby(\"code\").quantity.sum().copy()\n",
    "    t.sort_values(\"quantity\", ascending=False, inplace=True)\n",
    "    return t  "
   ]
  },
  {
   "cell_type": "code",
   "execution_count": 4,
   "metadata": {
    "editable": true,
    "pycharm": {
     "name": "#%%\n"
    },
    "slideshow": {
     "slide_type": ""
    },
    "tags": [
     "remove-input"
    ]
   },
   "outputs": [],
   "source": [
    "use_groups =  {\n",
    "    'Personal hygiene':['G95', 'G96'],\n",
    "    'Personal consumption':['G30', 'Gcaps', 'G27'],\n",
    "    'Industrial/professional': ['G67', 'G89', 'G112'],\n",
    "    'Unknown':['Gfrags', 'Gfoam'],\n",
    "    'Recreation/sports': ['G70', 'G32'],\n",
    "    \n",
    "}\n",
    "\n",
    "use_groups_i =  {\n",
    "    'G95':'Personal hygiene',\n",
    "    'G96': 'Personal hygiene',\n",
    "    'G30':'Personal consumption',\n",
    "    'Gcaps':'Personal consumption',\n",
    "    'G27':'Personal consumption',\n",
    "    'G67':'Industrial/professional',\n",
    "    'G89':'Industrial/professional',\n",
    "    'G112': 'Industrial/professional',\n",
    "    'Gfoam':'Unknown',\n",
    "    'Gfrags':'Unknown',\n",
    "    'G70':'Recreation/sports',\n",
    "    'G32':'Recreation/sports',\n",
    "}\n",
    "\n",
    "abbrev_use_g = {'Unknown':'Unk','Personal consumption':'Pc', 'Personal hygiene': 'Ph',    'Recreation/sports': 'Rc', 'Industrial/professional':'Ip'}\n",
    "toi = list(use_groups_i.keys())\n",
    "cbdi = pd.read_csv(\"resources/data/u_pstk_iqaasl_all.csv\")\n",
    "not_these = ['amphion', 'anthy', 'excenevex', 'lugrin', 'meillerie', 'saint-disdille', 'tougues']\n",
    "cbd = cbdi[~cbdi.slug.isin(not_these)]\n",
    "ssp = cbd[(cbd.city == 'Saint-Sulpice (VD)')].copy()\n",
    "ssp['quantity'] = 0\n",
    "\n",
    "ssp.to_csv('resources/data/swt_all.csv', index=False)"
   ]
  },
  {
   "cell_type": "code",
   "execution_count": 5,
   "metadata": {
    "editable": true,
    "pycharm": {
     "name": "#%%\n"
    },
    "slideshow": {
     "slide_type": ""
    },
    "tags": [
     "remove-input"
    ]
   },
   "outputs": [
    {
     "data": {
      "text/html": [
       "<style type=\"text/css\">\n",
       "#T_040b2 tr:nth-child(even) {\n",
       "  background-color: rgba(139, 69, 19, 0.08);\n",
       "}\n",
       "#T_040b2 tr:nth-child(odd) {\n",
       "  background: #FFF;\n",
       "}\n",
       "#T_040b2 tr {\n",
       "  font-size: 14px;\n",
       "  padding: 12px;\n",
       "}\n",
       "#T_040b2 th:nth-child(1) {\n",
       "  background-color: #FFF;\n",
       "  text-align: right;\n",
       "}\n",
       "#T_040b2 caption {\n",
       "  font-size: 14px;\n",
       "  font-style: italic;\n",
       "  caption-side: bottom;\n",
       "  text-align: left;\n",
       "  margin-top: 10px;\n",
       "}\n",
       "</style>\n",
       "<table id=\"T_040b2\">\n",
       "  <caption>Table 1: The objects of interest. The average pcs/m per sample for each object. The fail rate is the % of all samples that the object appeared in.</caption>\n",
       "  <thead>\n",
       "    <tr>\n",
       "      <th class=\"blank\" >&nbsp;</th>\n",
       "      <th class=\"blank level0\" >&nbsp;</th>\n",
       "      <th id=\"T_040b2_level0_col0\" class=\"col_heading level0 col0\" >pcs/m</th>\n",
       "      <th id=\"T_040b2_level0_col1\" class=\"col_heading level0 col1\" >quantity</th>\n",
       "      <th id=\"T_040b2_level0_col2\" class=\"col_heading level0 col2\" >fail rate</th>\n",
       "      <th id=\"T_040b2_level0_col3\" class=\"col_heading level0 col3\" >% of total</th>\n",
       "    </tr>\n",
       "    <tr>\n",
       "      <th class=\"index_name level0\" >code</th>\n",
       "      <th class=\"index_name level1\" >object</th>\n",
       "      <th class=\"blank col0\" >&nbsp;</th>\n",
       "      <th class=\"blank col1\" >&nbsp;</th>\n",
       "      <th class=\"blank col2\" >&nbsp;</th>\n",
       "      <th class=\"blank col3\" >&nbsp;</th>\n",
       "    </tr>\n",
       "  </thead>\n",
       "  <tbody>\n",
       "    <tr>\n",
       "      <th id=\"T_040b2_level0_row0\" class=\"row_heading level0 row0\" >G112</th>\n",
       "      <th id=\"T_040b2_level1_row0\" class=\"row_heading level1 row0\" >Industrial pellets (nurdles)</th>\n",
       "      <td id=\"T_040b2_row0_col0\" class=\"data row0 col0\" >0.16</td>\n",
       "      <td id=\"T_040b2_row0_col1\" class=\"data row0 col1\" >2686</td>\n",
       "      <td id=\"T_040b2_row0_col2\" class=\"data row0 col2\" >0.22</td>\n",
       "      <td id=\"T_040b2_row0_col3\" class=\"data row0 col3\" >0.02</td>\n",
       "    </tr>\n",
       "    <tr>\n",
       "      <th id=\"T_040b2_level0_row1\" class=\"row_heading level0 row1\" >G27</th>\n",
       "      <th id=\"T_040b2_level1_row1\" class=\"row_heading level1 row1\" >Cigarette filters</th>\n",
       "      <td id=\"T_040b2_row1_col0\" class=\"data row1 col0\" >1.12</td>\n",
       "      <td id=\"T_040b2_row1_col1\" class=\"data row1 col1\" >16458</td>\n",
       "      <td id=\"T_040b2_row1_col2\" class=\"data row1 col2\" >0.85</td>\n",
       "      <td id=\"T_040b2_row1_col3\" class=\"data row1 col3\" >0.15</td>\n",
       "    </tr>\n",
       "    <tr>\n",
       "      <th id=\"T_040b2_level0_row2\" class=\"row_heading level0 row2\" >G30</th>\n",
       "      <th id=\"T_040b2_level1_row2\" class=\"row_heading level1 row2\" >Food wrappers; candy, snacks</th>\n",
       "      <td id=\"T_040b2_row2_col0\" class=\"data row2 col0\" >0.54</td>\n",
       "      <td id=\"T_040b2_row2_col1\" class=\"data row2 col1\" >6767</td>\n",
       "      <td id=\"T_040b2_row2_col2\" class=\"data row2 col2\" >0.86</td>\n",
       "      <td id=\"T_040b2_row2_col3\" class=\"data row2 col3\" >0.06</td>\n",
       "    </tr>\n",
       "    <tr>\n",
       "      <th id=\"T_040b2_level0_row3\" class=\"row_heading level0 row3\" >G32</th>\n",
       "      <th id=\"T_040b2_level1_row3\" class=\"row_heading level1 row3\" >Toys and party favors</th>\n",
       "      <td id=\"T_040b2_row3_col0\" class=\"data row3 col0\" >0.05</td>\n",
       "      <td id=\"T_040b2_row3_col1\" class=\"data row3 col1\" >606</td>\n",
       "      <td id=\"T_040b2_row3_col2\" class=\"data row3 col2\" >0.48</td>\n",
       "      <td id=\"T_040b2_row3_col3\" class=\"data row3 col3\" >0.01</td>\n",
       "    </tr>\n",
       "    <tr>\n",
       "      <th id=\"T_040b2_level0_row4\" class=\"row_heading level0 row4\" >G67</th>\n",
       "      <th id=\"T_040b2_level1_row4\" class=\"row_heading level1 row4\" >Industrial sheeting</th>\n",
       "      <td id=\"T_040b2_row4_col0\" class=\"data row4 col0\" >0.30</td>\n",
       "      <td id=\"T_040b2_row4_col1\" class=\"data row4 col1\" >3356</td>\n",
       "      <td id=\"T_040b2_row4_col2\" class=\"data row4 col2\" >0.57</td>\n",
       "      <td id=\"T_040b2_row4_col3\" class=\"data row4 col3\" >0.03</td>\n",
       "    </tr>\n",
       "    <tr>\n",
       "      <th id=\"T_040b2_level0_row5\" class=\"row_heading level0 row5\" >G70</th>\n",
       "      <th id=\"T_040b2_level1_row5\" class=\"row_heading level1 row5\" >Shotgun cartridges</th>\n",
       "      <td id=\"T_040b2_row5_col0\" class=\"data row5 col0\" >0.08</td>\n",
       "      <td id=\"T_040b2_row5_col1\" class=\"data row5 col1\" >1030</td>\n",
       "      <td id=\"T_040b2_row5_col2\" class=\"data row5 col2\" >0.48</td>\n",
       "      <td id=\"T_040b2_row5_col3\" class=\"data row5 col3\" >0.01</td>\n",
       "    </tr>\n",
       "    <tr>\n",
       "      <th id=\"T_040b2_level0_row6\" class=\"row_heading level0 row6\" >G89</th>\n",
       "      <th id=\"T_040b2_level1_row6\" class=\"row_heading level1 row6\" >Plastic construction waste</th>\n",
       "      <td id=\"T_040b2_row6_col0\" class=\"data row6 col0\" >0.14</td>\n",
       "      <td id=\"T_040b2_row6_col1\" class=\"data row6 col1\" >1970</td>\n",
       "      <td id=\"T_040b2_row6_col2\" class=\"data row6 col2\" >0.51</td>\n",
       "      <td id=\"T_040b2_row6_col3\" class=\"data row6 col3\" >0.02</td>\n",
       "    </tr>\n",
       "    <tr>\n",
       "      <th id=\"T_040b2_level0_row7\" class=\"row_heading level0 row7\" >G95</th>\n",
       "      <th id=\"T_040b2_level1_row7\" class=\"row_heading level1 row7\" >Cotton bud/swab sticks</th>\n",
       "      <td id=\"T_040b2_row7_col0\" class=\"data row7 col0\" >0.39</td>\n",
       "      <td id=\"T_040b2_row7_col1\" class=\"data row7 col1\" >4777</td>\n",
       "      <td id=\"T_040b2_row7_col2\" class=\"data row7 col2\" >0.74</td>\n",
       "      <td id=\"T_040b2_row7_col3\" class=\"data row7 col3\" >0.04</td>\n",
       "    </tr>\n",
       "    <tr>\n",
       "      <th id=\"T_040b2_level0_row8\" class=\"row_heading level0 row8\" >G96</th>\n",
       "      <th id=\"T_040b2_level1_row8\" class=\"row_heading level1 row8\" >Sanitary pads /panty liners/tampons and applicators</th>\n",
       "      <td id=\"T_040b2_row8_col0\" class=\"data row8 col0\" >0.04</td>\n",
       "      <td id=\"T_040b2_row8_col1\" class=\"data row8 col1\" >373</td>\n",
       "      <td id=\"T_040b2_row8_col2\" class=\"data row8 col2\" >0.29</td>\n",
       "      <td id=\"T_040b2_row8_col3\" class=\"data row8 col3\" >0.00</td>\n",
       "    </tr>\n",
       "    <tr>\n",
       "      <th id=\"T_040b2_level0_row9\" class=\"row_heading level0 row9\" >Gcaps</th>\n",
       "      <th id=\"T_040b2_level1_row9\" class=\"row_heading level1 row9\" >Plastic bottle lids</th>\n",
       "      <td id=\"T_040b2_row9_col0\" class=\"data row9 col0\" >0.31</td>\n",
       "      <td id=\"T_040b2_row9_col1\" class=\"data row9 col1\" >3953</td>\n",
       "      <td id=\"T_040b2_row9_col2\" class=\"data row9 col2\" >0.84</td>\n",
       "      <td id=\"T_040b2_row9_col3\" class=\"data row9 col3\" >0.04</td>\n",
       "    </tr>\n",
       "    <tr>\n",
       "      <th id=\"T_040b2_level0_row10\" class=\"row_heading level0 row10\" >Gfoam</th>\n",
       "      <th id=\"T_040b2_level1_row10\" class=\"row_heading level1 row10\" >Expanded polystyrene</th>\n",
       "      <td id=\"T_040b2_row10_col0\" class=\"data row10 col0\" >1.02</td>\n",
       "      <td id=\"T_040b2_row10_col1\" class=\"data row10 col1\" >12871</td>\n",
       "      <td id=\"T_040b2_row10_col2\" class=\"data row10 col2\" >0.81</td>\n",
       "      <td id=\"T_040b2_row10_col3\" class=\"data row10 col3\" >0.12</td>\n",
       "    </tr>\n",
       "    <tr>\n",
       "      <th id=\"T_040b2_level0_row11\" class=\"row_heading level0 row11\" >Gfrags</th>\n",
       "      <th id=\"T_040b2_level1_row11\" class=\"row_heading level1 row11\" >Fragmented plastics</th>\n",
       "      <td id=\"T_040b2_row11_col0\" class=\"data row11 col0\" >1.34</td>\n",
       "      <td id=\"T_040b2_row11_col1\" class=\"data row11 col1\" >17479</td>\n",
       "      <td id=\"T_040b2_row11_col2\" class=\"data row11 col2\" >0.93</td>\n",
       "      <td id=\"T_040b2_row11_col3\" class=\"data row11 col3\" >0.16</td>\n",
       "    </tr>\n",
       "  </tbody>\n",
       "</table>\n"
      ],
      "text/plain": [
       "<pandas.io.formats.style.Styler at 0x7ada623d2040>"
      ]
     },
     "execution_count": 5,
     "metadata": {},
     "output_type": "execute_result"
    }
   ],
   "source": [
    "\n",
    "cbd = cbd[cbd.code.isin(toi)].copy()\n",
    "cbd[\"fail\"] = cbd.quantity > 0\n",
    "\n",
    "\n",
    "cbd.loc[cbd.Project == \"Testing\", \"Project\"] = \"after may 2021\"\n",
    "cbd.loc[cbd.Project == \"Training\", \"Project\"] = \"before may 2021\"\n",
    "\n",
    "column_names_groups = {v:k for k,v in abbrev_use_g.items()}\n",
    "code_groups = list(column_names_groups.keys())\n",
    "\n",
    "cois = cities_of_interest = ['Saint-Sulpice (VD)', 'Saint Gingolph', 'Genéve', 'Cully', 'Vevey']\n",
    "\n",
    "some_quants = [.03, .25, .48, .5, .52, .75, .97]\n",
    "end_training_date = \"2021-05-31\"\n",
    "begin_training_date = \"2015-11-15\"\n",
    "codes_of_interest = cbd.groupby([\"code\"], as_index=False).agg({\"quantity\":\"sum\", \"pcs/m\":\"mean\", \"fail\": \"sum\"})\n",
    "codes_of_interest[\"fail rate\"] = (codes_of_interest.fail/cbd.loc_date.nunique()).round(2)\n",
    "code_d = dfCodes[\"description\"]\n",
    "codes_of_interest[\"object\"] = codes_of_interest.code.apply(lambda x: code_d.loc[x])\n",
    "codes_of_interest = codes_of_interest[[\"code\", \"object\", \"pcs/m\", \"quantity\", \"fail rate\"]]\n",
    "codes_of_interest.set_index([\"code\", \"object\"], inplace=True, drop=True)\n",
    "codes_of_interest[\"quantity\"] = codes_of_interest.quantity.astype(\"int\")\n",
    "codes_of_interest[\"% of total\"] = (codes_of_interest.quantity/cbdi.quantity.sum()).round(2)\n",
    "codes_of_interest.index.name = None\n",
    "caption = \"Table 1: The objects of interest. The average pcs/m per sample for each object. The fail rate is the % of all samples that the object appeared in.\" \n",
    "codes_of_interest.style.format(precision=2).set_table_styles(table_large_font).set_caption(caption)"
   ]
  },
  {
   "cell_type": "markdown",
   "metadata": {
    "editable": true,
    "pycharm": {
     "name": "#%% md\n"
    },
    "slideshow": {
     "slide_type": ""
    },
    "tags": []
   },
   "source": [
    "### Assessing the environment\n",
    "\n",
    "{Download}`Download the form </resources/figures/survey_estimates.pdf>`\n",
    "\n",
    "The goal for todays excercise in 2023 is to determine how well our previous experiences inform us about the present. This is a simple process. There are four steps:\n",
    "\n",
    "1. Start with your current understanding of the problem, consult the data here and form an opinion of how many of each item in the previous section you might find in 100 meters of shoreline. For example your might think 200 cigarette ends per 100m is a likely amount.\n",
    "2. Use the provided form and note your estimate for each item in red ink. Put your name on the form and the name of the beach.\n",
    "3. At the end of the litter survey note what you found for each item.\n",
    "\n",
    "After the survey we will compare what we found to what we though we might find and the predicted amount using the model that was explained in the previous section. \n",
    "\n",
    "### Semester project\n",
    "\n",
    "The semester project (if you choose to do it) is about documenting the process of updating the models and accessing data. It could be a narrated screencast. Something that next years class will consult. For those who are interested in data-science or application development we would be using python, R, Git and Annaconda.\n",
    "\n",
    "Specifically we would be adding survey results from this years experience:\n",
    "1. The results for Gfoams\n",
    "2. The reults for Plage de Pélican\n",
    "\n",
    "However, if you have done a data-science course or if you have some experience with application development you might find this an easy project that will allow you to demonstrate those skills and some creativity. Those that know how to use Git and Annaconda will find this fairly easy."
   ]
  },
  {
   "cell_type": "markdown",
   "metadata": {
    "editable": true,
    "pycharm": {
     "name": "#%% md\n"
    },
    "slideshow": {
     "slide_type": ""
    },
    "tags": []
   },
   "source": [
    "(data-context)=\n",
    "## Summary of previous results\n",
    "\n",
    "__Lake Geneva sample totals__\n",
    "\n",
    "The total pcs/m for all surveys is given in figure 1 and figure 2. Samples after May 2021 are considered separately, this is a new six year sampling period for the lake.  The distribution of the sample totals is given in table 2."
   ]
  },
  {
   "cell_type": "markdown",
   "metadata": {
    "collapsed": false,
    "jupyter": {
     "outputs_hidden": false
    },
    "pycharm": {
     "name": "#%% md\n"
    }
   },
   "source": [
    "```{figure} resources/figures/lac-leman_city_labels.jpeg\n",
    "---\n",
    "name: lac_leman_cities\n",
    "---\n",
    "Previous survey results from Lake Geneva\n",
    "```"
   ]
  },
  {
   "cell_type": "code",
   "execution_count": 6,
   "metadata": {
    "collapsed": false,
    "editable": true,
    "jupyter": {
     "outputs_hidden": false
    },
    "pycharm": {
     "name": "#%%\n"
    },
    "slideshow": {
     "slide_type": ""
    },
    "tags": [
     "remove-input"
    ]
   },
   "outputs": [
    {
     "data": {
      "application/papermill.record/text/html": "<style type=\"text/css\">\n#T_da91d tr:nth-child(even) {\n  background-color: rgba(139, 69, 19, 0.08);\n}\n#T_da91d tr:nth-child(odd) {\n  background: #FFF;\n}\n#T_da91d tr {\n  font-size: 14px;\n  padding: 12px;\n}\n#T_da91d th:nth-child(1) {\n  background-color: #FFF;\n  text-align: right;\n}\n#T_da91d caption {\n  font-size: 14px;\n  font-style: italic;\n  caption-side: bottom;\n  text-align: left;\n  margin-top: 10px;\n}\n</style>\n<table id=\"T_da91d\">\n  <caption>The number of different locations and cities for the data. Note that there are 31 different municipalitites in all.</caption>\n  <thead>\n    <tr>\n      <th class=\"blank level0\" >&nbsp;</th>\n      <th id=\"T_da91d_level0_col0\" class=\"col_heading level0 col0\" >before may 2021</th>\n      <th id=\"T_da91d_level0_col1\" class=\"col_heading level0 col1\" >after may 2021</th>\n    </tr>\n  </thead>\n  <tbody>\n    <tr>\n      <th id=\"T_da91d_level0_row0\" class=\"row_heading level0 row0\" >Number of cities</th>\n      <td id=\"T_da91d_row0_col0\" class=\"data row0 col0\" >21</td>\n      <td id=\"T_da91d_row0_col1\" class=\"data row0 col1\" >19</td>\n    </tr>\n    <tr>\n      <th id=\"T_da91d_level0_row1\" class=\"row_heading level0 row1\" >Number of locations</th>\n      <td id=\"T_da91d_row1_col0\" class=\"data row1 col0\" >48</td>\n      <td id=\"T_da91d_row1_col1\" class=\"data row1 col1\" >23</td>\n    </tr>\n    <tr>\n      <th id=\"T_da91d_level0_row2\" class=\"row_heading level0 row2\" >Total objects</th>\n      <td id=\"T_da91d_row2_col0\" class=\"data row2 col0\" >57,623</td>\n      <td id=\"T_da91d_row2_col1\" class=\"data row2 col1\" >14,703</td>\n    </tr>\n  </tbody>\n</table>\n",
      "application/papermill.record/text/plain": "<pandas.io.formats.style.Styler at 0x7ada623bed60>"
     },
     "metadata": {
      "scrapbook": {
       "mime_prefix": "application/papermill.record/",
       "name": "data-summ-q3"
      }
     },
     "output_type": "display_data"
    }
   ],
   "source": [
    "summ_data = cbd.copy()\n",
    "\n",
    "summ_data[\"use group\"] = summ_data.code.map(lambda x: use_groups_i[x])\n",
    "\n",
    "summ_data[\"ug\"] = summ_data[\"use group\"].apply(lambda x: abbrev_use_g[x])\n",
    "summ_data[summ_data[\"use group\"] == 'Personal consumption'].code.unique()\n",
    "summ_data[\"date\"] = pd.to_datetime(summ_data[\"date\"], format=\"%Y-%m-%d\")\n",
    "\n",
    "sd_x = summ_data.groupby([\"loc_date\", \"date\", \"city\", \"Project\", \"doy\"], as_index=False).agg({\"pcs/m\": 'sum', 'quantity':'sum'})\n",
    "sd_x_sp = sd_x[sd_x.city == 'Saint-Sulpice (VD)'].groupby([\"loc_date\", \"date\", \"city\", \"Project\", \"doy\"], as_index=False).agg({\"pcs/m\": 'sum', 'quantity':'sum'})\n",
    "\n",
    "trg = summ_data[summ_data.Project == \"before may 2021\"].copy()\n",
    "tst = summ_data[summ_data.Project == \"after may 2021\"].copy()\n",
    "trg_c, tst_c = trg.city.nunique(), tst.city.nunique()\n",
    "trg_lc, tst_lc = trg.slug.nunique(), tst.slug.nunique()\n",
    "trg_q, tst_q = trg.quantity.sum(), tst.quantity.sum()\n",
    "\n",
    "data_magnitude = [\n",
    "    {\"before may 2021\":trg_c, \"after may 2021\":tst_c},\n",
    "    {\"before may 2021\":trg_lc, \"after may 2021\":tst_lc},\n",
    "    {\"before may 2021\":trg_q, \"after may 2021\":tst_q}\n",
    "    \n",
    "]\n",
    "\n",
    "cities_set = list(set([*trg.city.unique(), *tst.city.unique()]))\n",
    "n_ind_cities = len(cities_set)\n",
    "\n",
    "caption = f'The number of different locations and cities for the data. Note that there are {n_ind_cities} different municipalitites in all.'\n",
    "\n",
    "data_summ_q = pd.DataFrame(data_magnitude, index=[\"Number of cities\", \"Number of locations\", \"Total objects\"]).astype('int')\n",
    "data_summ_q = data_summ_q.style.format(formatter=\"{:,}\").set_table_styles(table_large_font).set_caption(caption)\n",
    "styled = data_summ_q.format(formatter=\"{:,}\", subset=pd.IndexSlice[['Total objects'], :])\n",
    "glue(\"data-summ-q3\", styled, display=False)"
   ]
  },
  {
   "cell_type": "code",
   "execution_count": 7,
   "metadata": {
    "collapsed": false,
    "editable": true,
    "jupyter": {
     "outputs_hidden": false
    },
    "pycharm": {
     "name": "#%%\n"
    },
    "slideshow": {
     "slide_type": ""
    },
    "tags": [
     "remove-input"
    ]
   },
   "outputs": [
    {
     "data": {
      "application/papermill.record/image/png": "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",
      "application/papermill.record/text/plain": "<Figure size 600x500 with 1 Axes>"
     },
     "metadata": {
      "scrapbook": {
       "mime_prefix": "application/papermill.record/",
       "name": "testing_training_chrono_2"
      }
     },
     "output_type": "display_data"
    }
   ],
   "source": [
    "# all the data by date\n",
    "the_99th_percentile = np.quantile(sd_x['pcs/m'].values, .99)\n",
    "px = 1/plt.rcParams['figure.dpi']  # pixel in inches\n",
    "fig, ax = plt.subplots(figsize=(600*px,500*px))\n",
    "\n",
    "sns.scatterplot(data=sd_x, x='date', y='pcs/m',ax=ax, color=\"dodgerblue\", alpha=0.6,label=\"lac léman\")\n",
    "sns.scatterplot(data=sd_x_sp, x='date', y='pcs/m', color=\"magenta\", label=\"solid-waste-team\", ax=ax)\n",
    "\n",
    "ax.set_ylim(-1, the_99th_percentile)\n",
    "ax.legend(loc=\"upper left\")\n",
    "ax.set_xlabel(\"\")\n",
    "glue(\"testing_training_chrono_2\", fig, display=False)\n",
    "plt.close()"
   ]
  },
  {
   "cell_type": "code",
   "execution_count": 8,
   "metadata": {
    "collapsed": false,
    "editable": true,
    "jupyter": {
     "outputs_hidden": false
    },
    "pycharm": {
     "name": "#%%\n"
    },
    "slideshow": {
     "slide_type": ""
    },
    "tags": [
     "remove-input"
    ]
   },
   "outputs": [
    {
     "data": {
      "application/papermill.record/image/png": "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",
      "application/papermill.record/text/plain": "<Figure size 600x500 with 1 Axes>"
     },
     "metadata": {
      "scrapbook": {
       "mime_prefix": "application/papermill.record/",
       "name": "testing_training_doy_2"
      }
     },
     "output_type": "display_data"
    }
   ],
   "source": [
    "# all the data day of year\n",
    "fig, ax = plt.subplots(figsize=(600*px, 500*px))\n",
    "\n",
    "sns.scatterplot(data=sd_x, x='doy', y='pcs/m', ax=ax, color=\"dodgerblue\", alpha=0.6,label=\"lac léman\")\n",
    "sns.scatterplot(data=sd_x_sp, x='doy', y='pcs/m', color=\"magenta\", label=\"solid-waste-team\", ax=ax)\n",
    "ax.set_ylim(-1, the_99th_percentile)\n",
    "ax.set_xlabel(\"Day of the year\")\n",
    "glue('testing_training_doy_2', fig, display=False)\n",
    "plt.close()"
   ]
  },
  {
   "cell_type": "code",
   "execution_count": 9,
   "metadata": {
    "collapsed": false,
    "editable": true,
    "jupyter": {
     "outputs_hidden": false
    },
    "pycharm": {
     "name": "#%%\n"
    },
    "slideshow": {
     "slide_type": ""
    },
    "tags": [
     "remove-input"
    ]
   },
   "outputs": [
    {
     "data": {
      "application/papermill.record/text/html": "<style type=\"text/css\">\n#T_0f88d tr:nth-child(even) {\n  background-color: rgba(139, 69, 19, 0.08);\n}\n#T_0f88d tr:nth-child(odd) {\n  background: #FFF;\n}\n#T_0f88d tr {\n  font-size: 14px;\n  padding: 12px;\n}\n#T_0f88d th:nth-child(1) {\n  background-color: #FFF;\n  text-align: right;\n}\n#T_0f88d caption {\n  font-size: 14px;\n  font-style: italic;\n  caption-side: bottom;\n  text-align: left;\n  margin-top: 10px;\n}\n</style>\n<table id=\"T_0f88d\">\n  <caption>The observed values from the training and testing data. Remark that the testing data is only 22% of all the data. This is because we are only in the first year of a six year sampling period</caption>\n  <thead>\n    <tr>\n      <th class=\"blank level0\" >&nbsp;</th>\n      <th id=\"T_0f88d_level0_col0\" class=\"col_heading level0 col0\" >before may 2021</th>\n      <th id=\"T_0f88d_level0_col1\" class=\"col_heading level0 col1\" >after may 2021</th>\n    </tr>\n  </thead>\n  <tbody>\n    <tr>\n      <th id=\"T_0f88d_level0_row0\" class=\"row_heading level0 row0\" >weight all samples</th>\n      <td id=\"T_0f88d_row0_col0\" class=\"data row0 col0\" >0.78</td>\n      <td id=\"T_0f88d_row0_col1\" class=\"data row0 col1\" >0.22</td>\n    </tr>\n    <tr>\n      <th id=\"T_0f88d_level0_row1\" class=\"row_heading level0 row1\" >Number of samples</th>\n      <td id=\"T_0f88d_row1_col0\" class=\"data row1 col0\" >263</td>\n      <td id=\"T_0f88d_row1_col1\" class=\"data row1 col1\" >73</td>\n    </tr>\n    <tr>\n      <th id=\"T_0f88d_level0_row2\" class=\"row_heading level0 row2\" >Median</th>\n      <td id=\"T_0f88d_row2_col0\" class=\"data row2 col0\" >3.47</td>\n      <td id=\"T_0f88d_row2_col1\" class=\"data row2 col1\" >2.28</td>\n    </tr>\n    <tr>\n      <th id=\"T_0f88d_level0_row3\" class=\"row_heading level0 row3\" >Average</th>\n      <td id=\"T_0f88d_row3_col0\" class=\"data row3 col0\" >6.13</td>\n      <td id=\"T_0f88d_row3_col1\" class=\"data row3 col1\" >3.25</td>\n    </tr>\n    <tr>\n      <th id=\"T_0f88d_level0_row4\" class=\"row_heading level0 row4\" >25th percentile</th>\n      <td id=\"T_0f88d_row4_col0\" class=\"data row4 col0\" >1.52</td>\n      <td id=\"T_0f88d_row4_col1\" class=\"data row4 col1\" >0.78</td>\n    </tr>\n    <tr>\n      <th id=\"T_0f88d_level0_row5\" class=\"row_heading level0 row5\" >75th percentile</th>\n      <td id=\"T_0f88d_row5_col0\" class=\"data row5 col0\" >6.69</td>\n      <td id=\"T_0f88d_row5_col1\" class=\"data row5 col1\" >4.31</td>\n    </tr>\n  </tbody>\n</table>\n",
      "application/papermill.record/text/plain": "<pandas.io.formats.style.Styler at 0x7ada57e6ac40>"
     },
     "metadata": {
      "scrapbook": {
       "mime_prefix": "application/papermill.record/",
       "name": "data-summary_2"
      }
     },
     "output_type": "display_data"
    }
   ],
   "source": [
    "testing_vals= sd_x[sd_x.Project == \"after may 2021\"]['pcs/m'].values\n",
    "training_vals = sd_x[sd_x.Project == \"before may 2021\"]['pcs/m'].values\n",
    "\n",
    "\n",
    "train_quantiles = np.quantile(training_vals, some_quants)\n",
    "test_quantiles = np.quantile(testing_vals, some_quants)\n",
    "\n",
    "training_testing_summary = training_testing_compare(testing_vals, training_vals, test_quantiles, train_quantiles)\n",
    "caption = \"The observed values from the training and testing data. Remark that the testing data is only 22% of all the data. This is because we are only in the first year of a six year sampling period\"\n",
    "sum_table = training_testing_summary.set_caption(caption)\n",
    "sum_table.format(formatter=\"{:.0f}\", subset=pd.IndexSlice[['Number of samples'], :])\n",
    "glue(\"data-summary_2\", sum_table, display=False)"
   ]
  },
  {
   "cell_type": "markdown",
   "metadata": {
    "collapsed": false,
    "editable": true,
    "jupyter": {
     "outputs_hidden": false
    },
    "pycharm": {
     "name": "#%% md\n"
    },
    "slideshow": {
     "slide_type": ""
    },
    "tags": []
   },
   "source": [
    "|Figure 1, Table 2 | Table 3, Figure 2|\n",
    "|:-----------------------:|:---------------------:|\n",
    "|{glue:}`testing_training_chrono_2` |{glue}`data-summary_2`|\n",
    "|{glue:}`data-summ-q3`|{glue}`testing_training_doy_2`|"
   ]
  },
  {
   "cell_type": "code",
   "execution_count": 10,
   "metadata": {
    "collapsed": false,
    "editable": true,
    "jupyter": {
     "outputs_hidden": false
    },
    "pycharm": {
     "name": "#%%\n"
    },
    "slideshow": {
     "slide_type": ""
    },
    "tags": [
     "remove-input"
    ]
   },
   "outputs": [],
   "source": [
    "def sampler_from_multinomial(normed, xrange, nsamples):\n",
    "    \n",
    "    choose = np.random.default_rng()\n",
    "    nunique = np.unique(normed)\n",
    "    norm_nunique = nunique/np.sum(nunique)\n",
    "    found = choose.multinomial(1, pvals=norm_nunique, size=nsamples)\n",
    "    ft = found.sum(axis=0)\n",
    "    samples = []\n",
    "    for i, asum in enumerate(ft):\n",
    "        if asum == 0:\n",
    "            samples += [0]\n",
    "        else:\n",
    "            choices = np.where(normed == nunique[i])\n",
    "            samps = choose.choice(choices[0], size=asum)\n",
    "            samples.extend(xrange[samps])\n",
    "\n",
    "    return samples, nunique, norm_nunique, ft\n",
    "\n",
    "def period_pieces(start, end, data):\n",
    "    # the results in pieces per meter for one code from a subset of data\n",
    "    date_mask = (data[\"date\"] >= start) & (data[\"date\"] <= end)\n",
    "    period_one = data[date_mask]\n",
    "    pone_pcs = period_one.pcs_m.values\n",
    "\n",
    "    return pone_pcs\n",
    "\n",
    "def period_k_and_n(data, xrange, add_one=False):\n",
    "\n",
    "    pone_k = [(data >= x).sum() for x in xrange]\n",
    "    pone_notk = [(data < x).sum() for x in xrange]\n",
    "\n",
    "    if add_one:\n",
    "        # if the use is for beta dist. This is the same\n",
    "        # as mulitplying the likelihood * uninform prior (0.5) or beta(1,1)\n",
    "        pone_k_n_minus_k = [(x+1, len(data) - x+1) for x in pone_k]\n",
    "    else:\n",
    "        pone_k_n_minus_k = [(x, len(data) - x) for x in pone_k]\n",
    "        \n",
    "    \n",
    "\n",
    "    return np.array(pone_k), np.array(pone_notk), np.array(pone_k_n_minus_k)\n",
    "\n",
    "def period_beta(k):\n",
    "    \n",
    "         \n",
    "    return beta(*k)\n",
    "        \n",
    "\n",
    "def current_possible_prior_locations(landuse, locations, attribute):    \n",
    "\n",
    "    # indentify the magnitude(s) of the attribute of interest from the\n",
    "    # locations in the current data there may be more than one, in this \n",
    "    # example we use all the possible magnitudes for the attribute\n",
    "    # locations = data[data.city == city].location.unique()\n",
    "\n",
    "    # magnitudes for the attribute from all the locations in the municipality\n",
    "    moa = magnitude_of_attribute = landuse.loc[locations][attribute].unique().astype('int')\n",
    "\n",
    "    # identify locations that have the same attribute by magnitude of attribute\n",
    "    possible_locations = landuse[landuse[attribute].isin(moa)].index\n",
    "\n",
    "    # remove the locations that are in the likelihood function\n",
    "    prior_locations = [x for x in possible_locations if x not in locations]\n",
    "\n",
    "    return locations, possible_locations, prior_locations\n",
    "\n",
    "\n",
    "def make_expected(lh_tuple, prior_tuple, xrange):\n",
    "    res = []\n",
    "    betas=[]\n",
    "    # print(lh_tuple, prior_tuple)\n",
    "    for i in np.arange(len(xrange)):\n",
    "        alpha = prior_tuple[i][0]\n",
    "        betai = prior_tuple[i][1]\n",
    "        success = lh_tuple[i][0]\n",
    "        n = lh_tuple[i][1] + lh_tuple[i][0] \n",
    "        numerator = alpha + success\n",
    "        denominator = alpha + betai + n\n",
    "        if numerator == 0:\n",
    "            numerator = 1\n",
    "        abeta = beta(numerator, (betai + lh_tuple[i][1] + lh_tuple[i][0])).mean()\n",
    "        betas.append(abeta)\n",
    "        # print(alpha, betai, success, numerator, n, denominator)\n",
    "        if numerator >= denominator:\n",
    "            numerator = denominator-1\n",
    "            \n",
    "        expected = numerator/denominator\n",
    "        res.append(expected)\n",
    "    return np.array(res), np.array(betas) "
   ]
  },
  {
   "cell_type": "code",
   "execution_count": 11,
   "metadata": {
    "collapsed": false,
    "editable": true,
    "jupyter": {
     "outputs_hidden": false
    },
    "pycharm": {
     "name": "#%%\n"
    },
    "slideshow": {
     "slide_type": ""
    },
    "tags": [
     "remove-input"
    ]
   },
   "outputs": [],
   "source": [
    "an_xrange = np.arange(0, 11)\n"
   ]
  },
  {
   "cell_type": "code",
   "execution_count": 12,
   "metadata": {
    "collapsed": false,
    "editable": true,
    "jupyter": {
     "outputs_hidden": false
    },
    "pycharm": {
     "name": "#%%\n"
    },
    "slideshow": {
     "slide_type": ""
    },
    "tags": [
     "remove-input"
    ]
   },
   "outputs": [],
   "source": [
    "comb_lu_agg = pd.read_csv(\"resources/data/u_comb_lu_cover_street_rivers.csv\")\n",
    "\n",
    "lu_scaled = comb_lu_agg.pivot(columns=\"use\", values=\"scaled\", index=\"slug\").fillna(0)\n",
    "\n",
    "lu_magnitude = comb_lu_agg.pivot(columns=\"use\", values=\"magnitude\", index=\"slug\").fillna(0)\n",
    "\n",
    "lu_binned = comb_lu_agg.pivot(columns=\"use\", values=\"binned\", index=\"slug\").fillna(0)\n",
    "\n",
    "# not_these = ['amphion', 'anthy', 'excenevex', 'lugrin', 'meillerie', 'saint-disdille', 'tougues']\n",
    "merge_locations = cbd.slug.unique()\n",
    "cbdu = cbd[~cbd.slug.isin(not_these)].merge(lu_scaled[lu_scaled.index.isin(merge_locations )], left_on=\"slug\", right_index=True, validate=\"many_to_one\", how=\"outer\")\n",
    "\n",
    "cbdu[\"use group\"] = cbdu.code.map(lambda x: use_groups_i[x])\n",
    "\n",
    "cbdu[\"ug\"] = cbdu[\"use group\"].apply(lambda x: abbrev_use_g[x])\n",
    "cbdu[cbdu[\"use group\"] == 'Personal consumption'].code.unique()\n",
    "cbdu[\"date\"] = pd.to_datetime(cbdu[\"date\"], format=\"%Y-%m-%d\")\n",
    "\n",
    "attribute_columns = [x for x in lu_scaled.columns if x not in [\"Geroell\", \"Stausee\", \"See\", \"Sumpf\", \"Stadtzentr\", \"Fels\"]]\n",
    "work_columns = [x for x in cbdu.columns if x not in [\"Geroell\", \"Stausee\", \"See\", \"Sumpf\", \"Stadtzentr\", \"Fels\"]]\n",
    "cbdu = cbdu[work_columns].copy()\n",
    "cbdu.rename(columns={\"pcs/m\":\"pcs_m\"}, inplace=True)\n"
   ]
  },
  {
   "cell_type": "markdown",
   "metadata": {
    "collapsed": false,
    "jupyter": {
     "outputs_hidden": false
    },
    "pycharm": {
     "name": "#%% md\n"
    }
   },
   "source": [
    "## Expected survey results Saint Sulpice\n",
    "\n",
    "### Predicted values using empirical Bayes method\n",
    "\n",
    "The method proposed in chapter two produced the following expected survey results for October 5, 2023 at Saint Sulpice:"
   ]
  },
  {
   "cell_type": "markdown",
   "metadata": {
    "collapsed": false,
    "jupyter": {
     "outputs_hidden": false
    },
    "pycharm": {
     "name": "#%% md\n"
    }
   },
   "source": [
    "<!-- |     Figure 11, Table 11  |    Table 12, Figure 12       | \n",
    "|:------------------------:|:----------------------------:|\n",
    "|{glue:}`ssp-outlook-2024` | {glue:}`ssp-2024-meds`|\n",
    "|{glue:}`ssp-summary` | {glue:}`ssp-predicted_samples`| -->\n",
    "\n"
   ]
  },
  {
   "cell_type": "code",
   "execution_count": 13,
   "metadata": {
    "collapsed": false,
    "editable": true,
    "jupyter": {
     "outputs_hidden": false
    },
    "pycharm": {
     "name": "#%%\n"
    },
    "slideshow": {
     "slide_type": ""
    },
    "tags": [
     "remove-input"
    ]
   },
   "outputs": [],
   "source": [
    "city =  'Saint-Sulpice (VD)'\n",
    "start, end = \"2015-11-15\", \"2021-05-31\"\n",
    "index_range = (0.0, 10)\n",
    "xrange =  np.arange(*index_range, step=.01)\n",
    "uninformed_tuple = np.array([(1,1) for x in xrange])\n",
    "\n",
    "\n",
    "g_resa = cbdu.copy()\n",
    "g_resa = g_resa.groupby(['loc_date', 'date','slug', 'city', 'Project', 'code'], as_index=False).agg({'pcs_m':'sum', 'quantity':'sum'})\n",
    "g_resadt = g_resa.groupby(['loc_date', 'date','slug', 'city', 'Project'], as_index=False).agg({'pcs_m':'sum', 'quantity':'sum'})\n",
    "\n",
    "# define the prior, likelihood data and likelihood locations\n",
    "posterior_df = pd.DataFrame(index=xrange)\n",
    "predictions = {}\n",
    "\n",
    "for code in toi:\n",
    "    \n",
    "    # code_index = 1\n",
    "    city_index = 0\n",
    "    attribute_index = 2\n",
    "    \n",
    "    this_code =  code\n",
    "    this_attribute = attribute_columns[attribute_index]\n",
    "    this_city = cois[city_index]\n",
    "    \n",
    "    prior_data = g_resa[(g_resa.code == this_code)&(g_resa.city != city)&(g_resa.Project ==\"before may 2021\")]\n",
    "    lh_data = g_resa[(g_resa.code == this_code)&(g_resa.city == city)]\n",
    "\n",
    "    # here the locations from Saint Sulpice are indentified\n",
    "    lh_locations = lh_data.slug.unique()\n",
    "\n",
    "    # remove any location with no land-use data\n",
    "    regions = lac_leman_regions[~lac_leman_regions.slug.isin(not_these)].copy()\n",
    "    # identify the region of interest\n",
    "    lh_regions = regions[regions.slug.isin(lh_locations)].alabel.unique()\n",
    "    # retireve any other survey locations in the region\n",
    "    regional_locations = regions[regions.alabel.isin(lh_regions)].slug.unique()\n",
    "    # retrieve the land use values of all locations in the region\n",
    "    land_use_data_of_interest = lu_binned.loc[regional_locations]\n",
    "\n",
    "    # the locations from Saint Sulpice as well as regional locations are passed\n",
    "    # to the current_possible_prior_locations method. The land use values are\n",
    "    # compared and the locations with similar land use values are identified.\n",
    "    locations, possible_locations, prior_locations = current_possible_prior_locations(land_use_data_of_interest, lh_locations, this_attribute)\n",
    "    \n",
    "    prior_args = {\n",
    "        'prior_data':prior_data[prior_data.slug.isin(prior_locations)],\n",
    "        'start': start,\n",
    "        'end': end,\n",
    "        'xrange':xrange,\n",
    "        'uninformed_prior': uninformed_tuple,\n",
    "    }\n",
    "    # grid approximation of the prior\n",
    "    grid_prior, beta_prior, prior_k_n, prior_df, pcs = prior_distributions(**prior_args)\n",
    "    \n",
    "    posterior_args = {\n",
    "        'lh_data':lh_data,\n",
    "        'start': start,\n",
    "        'end': \"2022-12-31\",\n",
    "        'un_informed': uninformed_tuple,\n",
    "        'informed_prior': prior_k_n\n",
    "    }\n",
    "    \n",
    "    # grid approximation of posterior\n",
    "    informed, uninformed, beta_p, lh_pcs = posterior_distribution(**posterior_args)\n",
    "    \n",
    "    # the quantiles from the observed data\n",
    "    prior_quants = np.quantile(pcs, some_quants)\n",
    "    post_quants = np.quantile(lh_pcs, some_quants)\n",
    "    \n",
    "    # data frame with normalized results\n",
    "    post_df = make_results_df(prior_df.copy(), informed, source=\"Informed post\", source_norm=\"Ip_n\")\n",
    "    post_df = make_results_df(post_df, uninformed, source=\"Uninformed post\", source_norm=\"Un_n\")\n",
    "    \n",
    "    # samples from posterior \n",
    "    sim_2024 = sampler_from_multinomial(post_df[\"Ip_n\"].values, xrange, len(pcs) + len(lh_pcs))\n",
    "    sim_quants = np.quantile(sim_2024[0], some_quants)\n",
    "    \n",
    "    \n",
    "    predictions.update({this_code:sim_quants})\n",
    "    posterior_df[this_code]=informed\n",
    "\n",
    "index = ['{:.0%}'.format(x) for x in some_quants]\n",
    "pred_quants = pd.DataFrame(predictions, index=index)"
   ]
  },
  {
   "cell_type": "code",
   "execution_count": 14,
   "metadata": {
    "collapsed": false,
    "editable": true,
    "jupyter": {
     "outputs_hidden": false
    },
    "pycharm": {
     "name": "#%%\n"
    },
    "slideshow": {
     "slide_type": ""
    },
    "tags": [
     "remove-input"
    ]
   },
   "outputs": [
    {
     "data": {
      "text/html": [
       "<style type=\"text/css\">\n",
       "#T_aa5cc tr:nth-child(even) {\n",
       "  background-color: rgba(139, 69, 19, 0.08);\n",
       "}\n",
       "#T_aa5cc tr:nth-child(odd) {\n",
       "  background: #FFF;\n",
       "}\n",
       "#T_aa5cc tr {\n",
       "  font-size: 14px;\n",
       "  padding: 12px;\n",
       "}\n",
       "#T_aa5cc th:nth-child(1) {\n",
       "  background-color: #FFF;\n",
       "  text-align: right;\n",
       "}\n",
       "#T_aa5cc caption {\n",
       "  font-size: 14px;\n",
       "  font-style: italic;\n",
       "  caption-side: bottom;\n",
       "  text-align: left;\n",
       "  margin-top: 10px;\n",
       "}\n",
       "</style>\n",
       "<table id=\"T_aa5cc\">\n",
       "  <caption>Table 4: The 94% probability interval of the objects of interest for Saint Sulpice. The median value is used for the predictions</caption>\n",
       "  <thead>\n",
       "    <tr>\n",
       "      <th class=\"blank level0\" >&nbsp;</th>\n",
       "      <th id=\"T_aa5cc_level0_col0\" class=\"col_heading level0 col0\" >G112</th>\n",
       "      <th id=\"T_aa5cc_level0_col1\" class=\"col_heading level0 col1\" >G27</th>\n",
       "      <th id=\"T_aa5cc_level0_col2\" class=\"col_heading level0 col2\" >G30</th>\n",
       "      <th id=\"T_aa5cc_level0_col3\" class=\"col_heading level0 col3\" >G32</th>\n",
       "      <th id=\"T_aa5cc_level0_col4\" class=\"col_heading level0 col4\" >G67</th>\n",
       "      <th id=\"T_aa5cc_level0_col5\" class=\"col_heading level0 col5\" >G70</th>\n",
       "      <th id=\"T_aa5cc_level0_col6\" class=\"col_heading level0 col6\" >G95</th>\n",
       "      <th id=\"T_aa5cc_level0_col7\" class=\"col_heading level0 col7\" >G96</th>\n",
       "      <th id=\"T_aa5cc_level0_col8\" class=\"col_heading level0 col8\" >Gcaps</th>\n",
       "      <th id=\"T_aa5cc_level0_col9\" class=\"col_heading level0 col9\" >Gfrags</th>\n",
       "    </tr>\n",
       "  </thead>\n",
       "  <tbody>\n",
       "    <tr>\n",
       "      <th id=\"T_aa5cc_level0_row0\" class=\"row_heading level0 row0\" >3%</th>\n",
       "      <td id=\"T_aa5cc_row0_col0\" class=\"data row0 col0\" >0.00</td>\n",
       "      <td id=\"T_aa5cc_row0_col1\" class=\"data row0 col1\" >0.00</td>\n",
       "      <td id=\"T_aa5cc_row0_col2\" class=\"data row0 col2\" >0.00</td>\n",
       "      <td id=\"T_aa5cc_row0_col3\" class=\"data row0 col3\" >0.00</td>\n",
       "      <td id=\"T_aa5cc_row0_col4\" class=\"data row0 col4\" >0.00</td>\n",
       "      <td id=\"T_aa5cc_row0_col5\" class=\"data row0 col5\" >0.00</td>\n",
       "      <td id=\"T_aa5cc_row0_col6\" class=\"data row0 col6\" >0.00</td>\n",
       "      <td id=\"T_aa5cc_row0_col7\" class=\"data row0 col7\" >0.00</td>\n",
       "      <td id=\"T_aa5cc_row0_col8\" class=\"data row0 col8\" >0.00</td>\n",
       "      <td id=\"T_aa5cc_row0_col9\" class=\"data row0 col9\" >0.00</td>\n",
       "    </tr>\n",
       "    <tr>\n",
       "      <th id=\"T_aa5cc_level0_row1\" class=\"row_heading level0 row1\" >25%</th>\n",
       "      <td id=\"T_aa5cc_row1_col0\" class=\"data row1 col0\" >0.00</td>\n",
       "      <td id=\"T_aa5cc_row1_col1\" class=\"data row1 col1\" >0.00</td>\n",
       "      <td id=\"T_aa5cc_row1_col2\" class=\"data row1 col2\" >0.04</td>\n",
       "      <td id=\"T_aa5cc_row1_col3\" class=\"data row1 col3\" >0.01</td>\n",
       "      <td id=\"T_aa5cc_row1_col4\" class=\"data row1 col4\" >0.03</td>\n",
       "      <td id=\"T_aa5cc_row1_col5\" class=\"data row1 col5\" >0.00</td>\n",
       "      <td id=\"T_aa5cc_row1_col6\" class=\"data row1 col6\" >0.00</td>\n",
       "      <td id=\"T_aa5cc_row1_col7\" class=\"data row1 col7\" >0.00</td>\n",
       "      <td id=\"T_aa5cc_row1_col8\" class=\"data row1 col8\" >0.04</td>\n",
       "      <td id=\"T_aa5cc_row1_col9\" class=\"data row1 col9\" >0.00</td>\n",
       "    </tr>\n",
       "    <tr>\n",
       "      <th id=\"T_aa5cc_level0_row2\" class=\"row_heading level0 row2\" >48%</th>\n",
       "      <td id=\"T_aa5cc_row2_col0\" class=\"data row2 col0\" >0.04</td>\n",
       "      <td id=\"T_aa5cc_row2_col1\" class=\"data row2 col1\" >0.36</td>\n",
       "      <td id=\"T_aa5cc_row2_col2\" class=\"data row2 col2\" >0.18</td>\n",
       "      <td id=\"T_aa5cc_row2_col3\" class=\"data row2 col3\" >0.05</td>\n",
       "      <td id=\"T_aa5cc_row2_col4\" class=\"data row2 col4\" >0.15</td>\n",
       "      <td id=\"T_aa5cc_row2_col5\" class=\"data row2 col5\" >0.00</td>\n",
       "      <td id=\"T_aa5cc_row2_col6\" class=\"data row2 col6\" >0.32</td>\n",
       "      <td id=\"T_aa5cc_row2_col7\" class=\"data row2 col7\" >0.04</td>\n",
       "      <td id=\"T_aa5cc_row2_col8\" class=\"data row2 col8\" >0.14</td>\n",
       "      <td id=\"T_aa5cc_row2_col9\" class=\"data row2 col9\" >0.57</td>\n",
       "    </tr>\n",
       "    <tr>\n",
       "      <th id=\"T_aa5cc_level0_row3\" class=\"row_heading level0 row3\" >50%</th>\n",
       "      <td id=\"T_aa5cc_row3_col0\" class=\"data row3 col0\" >0.06</td>\n",
       "      <td id=\"T_aa5cc_row3_col1\" class=\"data row3 col1\" >0.42</td>\n",
       "      <td id=\"T_aa5cc_row3_col2\" class=\"data row3 col2\" >0.27</td>\n",
       "      <td id=\"T_aa5cc_row3_col3\" class=\"data row3 col3\" >0.05</td>\n",
       "      <td id=\"T_aa5cc_row3_col4\" class=\"data row3 col4\" >0.17</td>\n",
       "      <td id=\"T_aa5cc_row3_col5\" class=\"data row3 col5\" >0.00</td>\n",
       "      <td id=\"T_aa5cc_row3_col6\" class=\"data row3 col6\" >0.33</td>\n",
       "      <td id=\"T_aa5cc_row3_col7\" class=\"data row3 col7\" >0.05</td>\n",
       "      <td id=\"T_aa5cc_row3_col8\" class=\"data row3 col8\" >0.14</td>\n",
       "      <td id=\"T_aa5cc_row3_col9\" class=\"data row3 col9\" >0.59</td>\n",
       "    </tr>\n",
       "    <tr>\n",
       "      <th id=\"T_aa5cc_level0_row4\" class=\"row_heading level0 row4\" >52%</th>\n",
       "      <td id=\"T_aa5cc_row4_col0\" class=\"data row4 col0\" >0.07</td>\n",
       "      <td id=\"T_aa5cc_row4_col1\" class=\"data row4 col1\" >0.45</td>\n",
       "      <td id=\"T_aa5cc_row4_col2\" class=\"data row4 col2\" >0.30</td>\n",
       "      <td id=\"T_aa5cc_row4_col3\" class=\"data row4 col3\" >0.05</td>\n",
       "      <td id=\"T_aa5cc_row4_col4\" class=\"data row4 col4\" >0.18</td>\n",
       "      <td id=\"T_aa5cc_row4_col5\" class=\"data row4 col5\" >0.00</td>\n",
       "      <td id=\"T_aa5cc_row4_col6\" class=\"data row4 col6\" >0.34</td>\n",
       "      <td id=\"T_aa5cc_row4_col7\" class=\"data row4 col7\" >0.07</td>\n",
       "      <td id=\"T_aa5cc_row4_col8\" class=\"data row4 col8\" >0.14</td>\n",
       "      <td id=\"T_aa5cc_row4_col9\" class=\"data row4 col9\" >0.62</td>\n",
       "    </tr>\n",
       "    <tr>\n",
       "      <th id=\"T_aa5cc_level0_row5\" class=\"row_heading level0 row5\" >75%</th>\n",
       "      <td id=\"T_aa5cc_row5_col0\" class=\"data row5 col0\" >0.62</td>\n",
       "      <td id=\"T_aa5cc_row5_col1\" class=\"data row5 col1\" >0.91</td>\n",
       "      <td id=\"T_aa5cc_row5_col2\" class=\"data row5 col2\" >0.56</td>\n",
       "      <td id=\"T_aa5cc_row5_col3\" class=\"data row5 col3\" >0.06</td>\n",
       "      <td id=\"T_aa5cc_row5_col4\" class=\"data row5 col4\" >0.31</td>\n",
       "      <td id=\"T_aa5cc_row5_col5\" class=\"data row5 col5\" >0.04</td>\n",
       "      <td id=\"T_aa5cc_row5_col6\" class=\"data row5 col6\" >0.43</td>\n",
       "      <td id=\"T_aa5cc_row5_col7\" class=\"data row5 col7\" >0.12</td>\n",
       "      <td id=\"T_aa5cc_row5_col8\" class=\"data row5 col8\" >0.21</td>\n",
       "      <td id=\"T_aa5cc_row5_col9\" class=\"data row5 col9\" >0.86</td>\n",
       "    </tr>\n",
       "    <tr>\n",
       "      <th id=\"T_aa5cc_level0_row6\" class=\"row_heading level0 row6\" >97%</th>\n",
       "      <td id=\"T_aa5cc_row6_col0\" class=\"data row6 col0\" >1.09</td>\n",
       "      <td id=\"T_aa5cc_row6_col1\" class=\"data row6 col1\" >1.43</td>\n",
       "      <td id=\"T_aa5cc_row6_col2\" class=\"data row6 col2\" >1.92</td>\n",
       "      <td id=\"T_aa5cc_row6_col3\" class=\"data row6 col3\" >5.65</td>\n",
       "      <td id=\"T_aa5cc_row6_col4\" class=\"data row6 col4\" >0.87</td>\n",
       "      <td id=\"T_aa5cc_row6_col5\" class=\"data row6 col5\" >0.14</td>\n",
       "      <td id=\"T_aa5cc_row6_col6\" class=\"data row6 col6\" >1.03</td>\n",
       "      <td id=\"T_aa5cc_row6_col7\" class=\"data row6 col7\" >0.44</td>\n",
       "      <td id=\"T_aa5cc_row6_col8\" class=\"data row6 col8\" >0.37</td>\n",
       "      <td id=\"T_aa5cc_row6_col9\" class=\"data row6 col9\" >4.50</td>\n",
       "    </tr>\n",
       "  </tbody>\n",
       "</table>\n"
      ],
      "text/plain": [
       "<pandas.io.formats.style.Styler at 0x7ada575f3940>"
      ]
     },
     "execution_count": 14,
     "metadata": {},
     "output_type": "execute_result"
    }
   ],
   "source": [
    "objects = [\"G112\", \"G27\", \"G30\", \"G32\", \"G67\", \"G70\", \"G95\", \"G96\", \"Gcaps\", \"Gfrags\"]\n",
    "pred_quants = pred_quants[objects]\n",
    "caption = \"Table 4: The 94% probability interval of the objects of interest for Saint Sulpice. The median value is used for the predictions\"\n",
    "pred_quants.style.format(precision=2).set_table_styles(table_large_font).set_caption(caption)"
   ]
  },
  {
   "cell_type": "markdown",
   "metadata": {
    "collapsed": false,
    "jupyter": {
     "outputs_hidden": false
    },
    "pycharm": {
     "name": "#%% md\n"
    }
   },
   "source": [
    "Recall that the previous results from Saint Sulpice are not used to make the predictions. Only locations in the same region with similar land-use characteristics are used."
   ]
  },
  {
   "cell_type": "markdown",
   "metadata": {
    "collapsed": false,
    "jupyter": {
     "outputs_hidden": false
    },
    "pycharm": {
     "name": "#%% md\n"
    }
   },
   "source": [
    "### Estimates from participants\n",
    "\n",
    "After a classroom discusion and review of the previous years results (but not the predicted results) the participants made an estimate of how many they expect to find of each item of interest."
   ]
  },
  {
   "cell_type": "code",
   "execution_count": 15,
   "metadata": {
    "collapsed": false,
    "editable": true,
    "jupyter": {
     "outputs_hidden": false
    },
    "pycharm": {
     "name": "#%%\n"
    },
    "slideshow": {
     "slide_type": ""
    },
    "tags": [
     "remove-input"
    ]
   },
   "outputs": [],
   "source": [
    "length_p = 49.3\n",
    "\n",
    "estimated_p =[\n",
    "    [.16, 1.12, .54, .05, .30, .08, .39, .04, .31, 1.34],\n",
    "    [6, 3, .6, .1, .4, .03, .8, 1, 2, 1.34],\n",
    "    [.4, 1.5, .3, .1, 1.1, .01, .5, .2, .4, 2]    \n",
    "]\n",
    "\n",
    "def make_rows(estimated, objects):\n",
    "    rows = []\n",
    "    for row in estimated:\n",
    "        row = {objects[i]: x for i,x in enumerate(row)}\n",
    "        rows.append(row)\n",
    "    return rows\n",
    "\n",
    "found_p = [4, 51, 7, 2, 0, 0, 12, 1, 12, 266]\n",
    "found_pm = [x/length_p for x in found_p]\n",
    "\n",
    "pierrette_rows = make_rows(estimated_p, objects)\n",
    "pierrette = pd.DataFrame(pierrette_rows)"
   ]
  },
  {
   "cell_type": "code",
   "execution_count": 16,
   "metadata": {
    "collapsed": false,
    "editable": true,
    "jupyter": {
     "outputs_hidden": false
    },
    "pycharm": {
     "name": "#%%\n"
    },
    "slideshow": {
     "slide_type": ""
    },
    "tags": [
     "remove-input"
    ]
   },
   "outputs": [],
   "source": [
    "found_pel = [4, 51, 7, 2, 0, 0, 12, 1, 12, 266]\n",
    "found_pelm = [x/length_p for x in found_p]"
   ]
  },
  {
   "cell_type": "code",
   "execution_count": 17,
   "metadata": {
    "collapsed": false,
    "editable": true,
    "jupyter": {
     "outputs_hidden": false
    },
    "pycharm": {
     "name": "#%%\n"
    },
    "slideshow": {
     "slide_type": ""
    },
    "tags": [
     "remove-input"
    ]
   },
   "outputs": [
    {
     "data": {
      "text/html": [
       "<style type=\"text/css\">\n",
       "#T_ec6ec tr:nth-child(even) {\n",
       "  background-color: rgba(139, 69, 19, 0.08);\n",
       "}\n",
       "#T_ec6ec tr:nth-child(odd) {\n",
       "  background: #FFF;\n",
       "}\n",
       "#T_ec6ec tr {\n",
       "  font-size: 14px;\n",
       "  padding: 12px;\n",
       "}\n",
       "#T_ec6ec th:nth-child(1) {\n",
       "  background-color: #FFF;\n",
       "  text-align: right;\n",
       "}\n",
       "#T_ec6ec caption {\n",
       "  font-size: 14px;\n",
       "  font-style: italic;\n",
       "  caption-side: bottom;\n",
       "  text-align: left;\n",
       "  margin-top: 10px;\n",
       "}\n",
       "</style>\n",
       "<table id=\"T_ec6ec\">\n",
       "  <caption>Table 5: The estimated amount in pcs/meter for each object that the participants expected to find.</caption>\n",
       "  <thead>\n",
       "    <tr>\n",
       "      <th class=\"blank level0\" >&nbsp;</th>\n",
       "      <th id=\"T_ec6ec_level0_col0\" class=\"col_heading level0 col0\" >G112</th>\n",
       "      <th id=\"T_ec6ec_level0_col1\" class=\"col_heading level0 col1\" >G27</th>\n",
       "      <th id=\"T_ec6ec_level0_col2\" class=\"col_heading level0 col2\" >G30</th>\n",
       "      <th id=\"T_ec6ec_level0_col3\" class=\"col_heading level0 col3\" >G32</th>\n",
       "      <th id=\"T_ec6ec_level0_col4\" class=\"col_heading level0 col4\" >G67</th>\n",
       "      <th id=\"T_ec6ec_level0_col5\" class=\"col_heading level0 col5\" >G70</th>\n",
       "      <th id=\"T_ec6ec_level0_col6\" class=\"col_heading level0 col6\" >G95</th>\n",
       "      <th id=\"T_ec6ec_level0_col7\" class=\"col_heading level0 col7\" >G96</th>\n",
       "      <th id=\"T_ec6ec_level0_col8\" class=\"col_heading level0 col8\" >Gcaps</th>\n",
       "      <th id=\"T_ec6ec_level0_col9\" class=\"col_heading level0 col9\" >Gfrags</th>\n",
       "    </tr>\n",
       "  </thead>\n",
       "  <tbody>\n",
       "    <tr>\n",
       "      <th id=\"T_ec6ec_level0_row0\" class=\"row_heading level0 row0\" >0</th>\n",
       "      <td id=\"T_ec6ec_row0_col0\" class=\"data row0 col0\" >0.16</td>\n",
       "      <td id=\"T_ec6ec_row0_col1\" class=\"data row0 col1\" >1.12</td>\n",
       "      <td id=\"T_ec6ec_row0_col2\" class=\"data row0 col2\" >0.54</td>\n",
       "      <td id=\"T_ec6ec_row0_col3\" class=\"data row0 col3\" >0.05</td>\n",
       "      <td id=\"T_ec6ec_row0_col4\" class=\"data row0 col4\" >0.30</td>\n",
       "      <td id=\"T_ec6ec_row0_col5\" class=\"data row0 col5\" >0.08</td>\n",
       "      <td id=\"T_ec6ec_row0_col6\" class=\"data row0 col6\" >0.39</td>\n",
       "      <td id=\"T_ec6ec_row0_col7\" class=\"data row0 col7\" >0.04</td>\n",
       "      <td id=\"T_ec6ec_row0_col8\" class=\"data row0 col8\" >0.31</td>\n",
       "      <td id=\"T_ec6ec_row0_col9\" class=\"data row0 col9\" >1.34</td>\n",
       "    </tr>\n",
       "    <tr>\n",
       "      <th id=\"T_ec6ec_level0_row1\" class=\"row_heading level0 row1\" >1</th>\n",
       "      <td id=\"T_ec6ec_row1_col0\" class=\"data row1 col0\" >0.15</td>\n",
       "      <td id=\"T_ec6ec_row1_col1\" class=\"data row1 col1\" >0.57</td>\n",
       "      <td id=\"T_ec6ec_row1_col2\" class=\"data row1 col2\" >0.24</td>\n",
       "      <td id=\"T_ec6ec_row1_col3\" class=\"data row1 col3\" >0.08</td>\n",
       "      <td id=\"T_ec6ec_row1_col4\" class=\"data row1 col4\" >0.05</td>\n",
       "      <td id=\"T_ec6ec_row1_col5\" class=\"data row1 col5\" >0.05</td>\n",
       "      <td id=\"T_ec6ec_row1_col6\" class=\"data row1 col6\" >0.16</td>\n",
       "      <td id=\"T_ec6ec_row1_col7\" class=\"data row1 col7\" >0.10</td>\n",
       "      <td id=\"T_ec6ec_row1_col8\" class=\"data row1 col8\" >0.14</td>\n",
       "      <td id=\"T_ec6ec_row1_col9\" class=\"data row1 col9\" >0.22</td>\n",
       "    </tr>\n",
       "    <tr>\n",
       "      <th id=\"T_ec6ec_level0_row2\" class=\"row_heading level0 row2\" >2</th>\n",
       "      <td id=\"T_ec6ec_row2_col0\" class=\"data row2 col0\" >0.05</td>\n",
       "      <td id=\"T_ec6ec_row2_col1\" class=\"data row2 col1\" >0.80</td>\n",
       "      <td id=\"T_ec6ec_row2_col2\" class=\"data row2 col2\" >0.20</td>\n",
       "      <td id=\"T_ec6ec_row2_col3\" class=\"data row2 col3\" >0.02</td>\n",
       "      <td id=\"T_ec6ec_row2_col4\" class=\"data row2 col4\" >0.15</td>\n",
       "      <td id=\"T_ec6ec_row2_col5\" class=\"data row2 col5\" >0.04</td>\n",
       "      <td id=\"T_ec6ec_row2_col6\" class=\"data row2 col6\" >0.30</td>\n",
       "      <td id=\"T_ec6ec_row2_col7\" class=\"data row2 col7\" >0.01</td>\n",
       "      <td id=\"T_ec6ec_row2_col8\" class=\"data row2 col8\" >0.25</td>\n",
       "      <td id=\"T_ec6ec_row2_col9\" class=\"data row2 col9\" >1.20</td>\n",
       "    </tr>\n",
       "    <tr>\n",
       "      <th id=\"T_ec6ec_level0_row3\" class=\"row_heading level0 row3\" >3</th>\n",
       "      <td id=\"T_ec6ec_row3_col0\" class=\"data row3 col0\" >0.10</td>\n",
       "      <td id=\"T_ec6ec_row3_col1\" class=\"data row3 col1\" >0.35</td>\n",
       "      <td id=\"T_ec6ec_row3_col2\" class=\"data row3 col2\" >0.15</td>\n",
       "      <td id=\"T_ec6ec_row3_col3\" class=\"data row3 col3\" >0.03</td>\n",
       "      <td id=\"T_ec6ec_row3_col4\" class=\"data row3 col4\" >0.05</td>\n",
       "      <td id=\"T_ec6ec_row3_col5\" class=\"data row3 col5\" >0.01</td>\n",
       "      <td id=\"T_ec6ec_row3_col6\" class=\"data row3 col6\" >0.06</td>\n",
       "      <td id=\"T_ec6ec_row3_col7\" class=\"data row3 col7\" >0.10</td>\n",
       "      <td id=\"T_ec6ec_row3_col8\" class=\"data row3 col8\" >0.15</td>\n",
       "      <td id=\"T_ec6ec_row3_col9\" class=\"data row3 col9\" >0.50</td>\n",
       "    </tr>\n",
       "    <tr>\n",
       "      <th id=\"T_ec6ec_level0_row4\" class=\"row_heading level0 row4\" >4</th>\n",
       "      <td id=\"T_ec6ec_row4_col0\" class=\"data row4 col0\" >0.07</td>\n",
       "      <td id=\"T_ec6ec_row4_col1\" class=\"data row4 col1\" >0.15</td>\n",
       "      <td id=\"T_ec6ec_row4_col2\" class=\"data row4 col2\" >0.05</td>\n",
       "      <td id=\"T_ec6ec_row4_col3\" class=\"data row4 col3\" >0.02</td>\n",
       "      <td id=\"T_ec6ec_row4_col4\" class=\"data row4 col4\" >0.01</td>\n",
       "      <td id=\"T_ec6ec_row4_col5\" class=\"data row4 col5\" >0.00</td>\n",
       "      <td id=\"T_ec6ec_row4_col6\" class=\"data row4 col6\" >0.04</td>\n",
       "      <td id=\"T_ec6ec_row4_col7\" class=\"data row4 col7\" >0.01</td>\n",
       "      <td id=\"T_ec6ec_row4_col8\" class=\"data row4 col8\" >0.08</td>\n",
       "      <td id=\"T_ec6ec_row4_col9\" class=\"data row4 col9\" >0.12</td>\n",
       "    </tr>\n",
       "    <tr>\n",
       "      <th id=\"T_ec6ec_level0_row5\" class=\"row_heading level0 row5\" >5</th>\n",
       "      <td id=\"T_ec6ec_row5_col0\" class=\"data row5 col0\" >0.15</td>\n",
       "      <td id=\"T_ec6ec_row5_col1\" class=\"data row5 col1\" >0.50</td>\n",
       "      <td id=\"T_ec6ec_row5_col2\" class=\"data row5 col2\" >0.30</td>\n",
       "      <td id=\"T_ec6ec_row5_col3\" class=\"data row5 col3\" >0.03</td>\n",
       "      <td id=\"T_ec6ec_row5_col4\" class=\"data row5 col4\" >0.01</td>\n",
       "      <td id=\"T_ec6ec_row5_col5\" class=\"data row5 col5\" >0.00</td>\n",
       "      <td id=\"T_ec6ec_row5_col6\" class=\"data row5 col6\" >0.05</td>\n",
       "      <td id=\"T_ec6ec_row5_col7\" class=\"data row5 col7\" >0.05</td>\n",
       "      <td id=\"T_ec6ec_row5_col8\" class=\"data row5 col8\" >0.20</td>\n",
       "      <td id=\"T_ec6ec_row5_col9\" class=\"data row5 col9\" >0.20</td>\n",
       "    </tr>\n",
       "    <tr>\n",
       "      <th id=\"T_ec6ec_level0_row6\" class=\"row_heading level0 row6\" >6</th>\n",
       "      <td id=\"T_ec6ec_row6_col0\" class=\"data row6 col0\" >0.16</td>\n",
       "      <td id=\"T_ec6ec_row6_col1\" class=\"data row6 col1\" >1.12</td>\n",
       "      <td id=\"T_ec6ec_row6_col2\" class=\"data row6 col2\" >0.54</td>\n",
       "      <td id=\"T_ec6ec_row6_col3\" class=\"data row6 col3\" >0.05</td>\n",
       "      <td id=\"T_ec6ec_row6_col4\" class=\"data row6 col4\" >0.30</td>\n",
       "      <td id=\"T_ec6ec_row6_col5\" class=\"data row6 col5\" >0.08</td>\n",
       "      <td id=\"T_ec6ec_row6_col6\" class=\"data row6 col6\" >0.39</td>\n",
       "      <td id=\"T_ec6ec_row6_col7\" class=\"data row6 col7\" >0.04</td>\n",
       "      <td id=\"T_ec6ec_row6_col8\" class=\"data row6 col8\" >0.31</td>\n",
       "      <td id=\"T_ec6ec_row6_col9\" class=\"data row6 col9\" >1.34</td>\n",
       "    </tr>\n",
       "    <tr>\n",
       "      <th id=\"T_ec6ec_level0_row7\" class=\"row_heading level0 row7\" >7</th>\n",
       "      <td id=\"T_ec6ec_row7_col0\" class=\"data row7 col0\" >6.00</td>\n",
       "      <td id=\"T_ec6ec_row7_col1\" class=\"data row7 col1\" >3.00</td>\n",
       "      <td id=\"T_ec6ec_row7_col2\" class=\"data row7 col2\" >0.60</td>\n",
       "      <td id=\"T_ec6ec_row7_col3\" class=\"data row7 col3\" >0.10</td>\n",
       "      <td id=\"T_ec6ec_row7_col4\" class=\"data row7 col4\" >0.40</td>\n",
       "      <td id=\"T_ec6ec_row7_col5\" class=\"data row7 col5\" >0.03</td>\n",
       "      <td id=\"T_ec6ec_row7_col6\" class=\"data row7 col6\" >0.80</td>\n",
       "      <td id=\"T_ec6ec_row7_col7\" class=\"data row7 col7\" >1.00</td>\n",
       "      <td id=\"T_ec6ec_row7_col8\" class=\"data row7 col8\" >2.00</td>\n",
       "      <td id=\"T_ec6ec_row7_col9\" class=\"data row7 col9\" >1.34</td>\n",
       "    </tr>\n",
       "    <tr>\n",
       "      <th id=\"T_ec6ec_level0_row8\" class=\"row_heading level0 row8\" >8</th>\n",
       "      <td id=\"T_ec6ec_row8_col0\" class=\"data row8 col0\" >0.40</td>\n",
       "      <td id=\"T_ec6ec_row8_col1\" class=\"data row8 col1\" >1.50</td>\n",
       "      <td id=\"T_ec6ec_row8_col2\" class=\"data row8 col2\" >0.30</td>\n",
       "      <td id=\"T_ec6ec_row8_col3\" class=\"data row8 col3\" >0.10</td>\n",
       "      <td id=\"T_ec6ec_row8_col4\" class=\"data row8 col4\" >1.10</td>\n",
       "      <td id=\"T_ec6ec_row8_col5\" class=\"data row8 col5\" >0.01</td>\n",
       "      <td id=\"T_ec6ec_row8_col6\" class=\"data row8 col6\" >0.50</td>\n",
       "      <td id=\"T_ec6ec_row8_col7\" class=\"data row8 col7\" >0.20</td>\n",
       "      <td id=\"T_ec6ec_row8_col8\" class=\"data row8 col8\" >0.40</td>\n",
       "      <td id=\"T_ec6ec_row8_col9\" class=\"data row8 col9\" >2.00</td>\n",
       "    </tr>\n",
       "  </tbody>\n",
       "</table>\n"
      ],
      "text/plain": [
       "<pandas.io.formats.style.Styler at 0x7ada56c352e0>"
      ]
     },
     "execution_count": 17,
     "metadata": {},
     "output_type": "execute_result"
    }
   ],
   "source": [
    "estimated_td = [\n",
    "    [.16, 1.12, .54, .05, .30, .08, .39, .04, .31, 1.34],\n",
    "    [.15, .57,.24,.08,.05,.05,.16,.1,.14, .22],\n",
    "    [.05, .8, .2, .02, .15, .04, .3, .01, .25, 1.2],\n",
    "    [.1,.35,.15,.03, .05, .01, .06, .1, .15, .5],\n",
    "    [.07, .15, .05, .02, .01, 0, .04, .01, .08, .12],\n",
    "    [.15, .5, .3, .03, .01, 0, .05, .05, .2, .2]\n",
    "]\n",
    "\n",
    "length_td=16.5\n",
    "\n",
    "found_td = [11, 60, 9, 3, 0, 0,13, 1, 3, 179]\n",
    "found_tdm = np.array([x/length_td for x in found_td])\n",
    "\n",
    "tiger_duck_rows = make_rows(estimated_td, objects)\n",
    "tiger_duck = pd.DataFrame(tiger_duck_rows)\n",
    "\n",
    "found = pd.DataFrame([found_tdm, found_pm], columns=objects)\n",
    "fmelted = pd.melt(found, value_vars=found.columns)\n",
    "fmelted[\"source\"] = \"found\"\n",
    "\n",
    "combined = pd.concat([tiger_duck, pierrette])\n",
    "caption = \"Table 5: The estimated amount in pcs/meter for each object that the participants expected to find.\"\n",
    "combined.reset_index(inplace=True, drop=True)\n",
    "combined.style.format(precision=2).set_table_styles(table_large_font).set_caption(caption)"
   ]
  },
  {
   "cell_type": "markdown",
   "metadata": {
    "collapsed": false,
    "jupyter": {
     "outputs_hidden": false
    },
    "pycharm": {
     "name": "#%% md\n"
    }
   },
   "source": [
    "## Survey results October 5, 2023 Saint Sulpice\n",
    "\n",
    "After the particpants completed the forms, surveys were conducted at three beaches within the city limits of Saint Sulpice. Only the forms for two beaches were returned."
   ]
  },
  {
   "cell_type": "code",
   "execution_count": 18,
   "metadata": {
    "collapsed": false,
    "editable": true,
    "jupyter": {
     "outputs_hidden": false
    },
    "pycharm": {
     "name": "#%%\n"
    },
    "slideshow": {
     "slide_type": ""
    },
    "tags": [
     "remove-input"
    ]
   },
   "outputs": [
    {
     "data": {
      "text/html": [
       "<style type=\"text/css\">\n",
       "#T_b3e3b tr:nth-child(even) {\n",
       "  background-color: rgba(139, 69, 19, 0.08);\n",
       "}\n",
       "#T_b3e3b tr:nth-child(odd) {\n",
       "  background: #FFF;\n",
       "}\n",
       "#T_b3e3b tr {\n",
       "  font-size: 14px;\n",
       "  padding: 12px;\n",
       "}\n",
       "#T_b3e3b th:nth-child(1) {\n",
       "  background-color: #FFF;\n",
       "  text-align: right;\n",
       "}\n",
       "#T_b3e3b caption {\n",
       "  font-size: 14px;\n",
       "  font-style: italic;\n",
       "  caption-side: bottom;\n",
       "  text-align: left;\n",
       "  margin-top: 10px;\n",
       "}\n",
       "</style>\n",
       "<table id=\"T_b3e3b\">\n",
       "  <caption>Table 6: The survey results of the objects of interest on October 5, 2023 in pieces per meter</caption>\n",
       "  <thead>\n",
       "    <tr>\n",
       "      <th class=\"blank level0\" >&nbsp;</th>\n",
       "      <th id=\"T_b3e3b_level0_col0\" class=\"col_heading level0 col0\" >G112</th>\n",
       "      <th id=\"T_b3e3b_level0_col1\" class=\"col_heading level0 col1\" >G27</th>\n",
       "      <th id=\"T_b3e3b_level0_col2\" class=\"col_heading level0 col2\" >G30</th>\n",
       "      <th id=\"T_b3e3b_level0_col3\" class=\"col_heading level0 col3\" >G32</th>\n",
       "      <th id=\"T_b3e3b_level0_col4\" class=\"col_heading level0 col4\" >G67</th>\n",
       "      <th id=\"T_b3e3b_level0_col5\" class=\"col_heading level0 col5\" >G70</th>\n",
       "      <th id=\"T_b3e3b_level0_col6\" class=\"col_heading level0 col6\" >G95</th>\n",
       "      <th id=\"T_b3e3b_level0_col7\" class=\"col_heading level0 col7\" >G96</th>\n",
       "      <th id=\"T_b3e3b_level0_col8\" class=\"col_heading level0 col8\" >Gcaps</th>\n",
       "      <th id=\"T_b3e3b_level0_col9\" class=\"col_heading level0 col9\" >Gfrags</th>\n",
       "    </tr>\n",
       "  </thead>\n",
       "  <tbody>\n",
       "    <tr>\n",
       "      <th id=\"T_b3e3b_level0_row0\" class=\"row_heading level0 row0\" >tiger-duck-beach</th>\n",
       "      <td id=\"T_b3e3b_row0_col0\" class=\"data row0 col0\" >0.67</td>\n",
       "      <td id=\"T_b3e3b_row0_col1\" class=\"data row0 col1\" >3.64</td>\n",
       "      <td id=\"T_b3e3b_row0_col2\" class=\"data row0 col2\" >0.55</td>\n",
       "      <td id=\"T_b3e3b_row0_col3\" class=\"data row0 col3\" >0.18</td>\n",
       "      <td id=\"T_b3e3b_row0_col4\" class=\"data row0 col4\" >0.00</td>\n",
       "      <td id=\"T_b3e3b_row0_col5\" class=\"data row0 col5\" >0.00</td>\n",
       "      <td id=\"T_b3e3b_row0_col6\" class=\"data row0 col6\" >0.79</td>\n",
       "      <td id=\"T_b3e3b_row0_col7\" class=\"data row0 col7\" >0.06</td>\n",
       "      <td id=\"T_b3e3b_row0_col8\" class=\"data row0 col8\" >0.18</td>\n",
       "      <td id=\"T_b3e3b_row0_col9\" class=\"data row0 col9\" >10.85</td>\n",
       "    </tr>\n",
       "    <tr>\n",
       "      <th id=\"T_b3e3b_level0_row1\" class=\"row_heading level0 row1\" >parc-des-pierrettes</th>\n",
       "      <td id=\"T_b3e3b_row1_col0\" class=\"data row1 col0\" >0.08</td>\n",
       "      <td id=\"T_b3e3b_row1_col1\" class=\"data row1 col1\" >1.03</td>\n",
       "      <td id=\"T_b3e3b_row1_col2\" class=\"data row1 col2\" >0.14</td>\n",
       "      <td id=\"T_b3e3b_row1_col3\" class=\"data row1 col3\" >0.04</td>\n",
       "      <td id=\"T_b3e3b_row1_col4\" class=\"data row1 col4\" >0.00</td>\n",
       "      <td id=\"T_b3e3b_row1_col5\" class=\"data row1 col5\" >0.00</td>\n",
       "      <td id=\"T_b3e3b_row1_col6\" class=\"data row1 col6\" >0.24</td>\n",
       "      <td id=\"T_b3e3b_row1_col7\" class=\"data row1 col7\" >0.02</td>\n",
       "      <td id=\"T_b3e3b_row1_col8\" class=\"data row1 col8\" >0.24</td>\n",
       "      <td id=\"T_b3e3b_row1_col9\" class=\"data row1 col9\" >5.40</td>\n",
       "    </tr>\n",
       "  </tbody>\n",
       "</table>\n"
      ],
      "text/plain": [
       "<pandas.io.formats.style.Styler at 0x7ada56e22a30>"
      ]
     },
     "execution_count": 18,
     "metadata": {},
     "output_type": "execute_result"
    }
   ],
   "source": [
    "caption=\"Table 6: The survey results of the objects of interest on October 5, 2023 in pieces per meter\"\n",
    "found_display = found.copy()\n",
    "found_display.loc[0, \"beach\"] = \"tiger-duck-beach\"\n",
    "found_display.loc[1, \"beach\"] = \"parc-des-pierrettes\"\n",
    "found_display.set_index(\"beach\", inplace=True, drop=True)\n",
    "found_display.index.name = None\n",
    "found_display.style.format(precision=2).set_table_styles(table_large_font).set_caption(caption)"
   ]
  },
  {
   "cell_type": "markdown",
   "metadata": {
    "editable": true,
    "pycharm": {
     "name": "#%% md\n"
    },
    "slideshow": {
     "slide_type": ""
    },
    "tags": []
   },
   "source": [
    "## Survey results October 5, 2023 Saint Sulpice\n",
    "\n",
    "After the particpants completed the forms, surveys were conducted at three beaches within the city limits of Saint Sulpice. Only the forms for two beaches were returned."
   ]
  },
  {
   "cell_type": "code",
   "execution_count": 19,
   "metadata": {
    "editable": true,
    "pycharm": {
     "name": "#%%\n"
    },
    "slideshow": {
     "slide_type": ""
    },
    "tags": [
     "remove-input"
    ]
   },
   "outputs": [
    {
     "data": {
      "text/html": [
       "<style type=\"text/css\">\n",
       "#T_81565 tr:nth-child(even) {\n",
       "  background-color: rgba(139, 69, 19, 0.08);\n",
       "}\n",
       "#T_81565 tr:nth-child(odd) {\n",
       "  background: #FFF;\n",
       "}\n",
       "#T_81565 tr {\n",
       "  font-size: 14px;\n",
       "  padding: 12px;\n",
       "}\n",
       "#T_81565 th:nth-child(1) {\n",
       "  background-color: #FFF;\n",
       "  text-align: right;\n",
       "}\n",
       "#T_81565 caption {\n",
       "  font-size: 14px;\n",
       "  font-style: italic;\n",
       "  caption-side: bottom;\n",
       "  text-align: left;\n",
       "  margin-top: 10px;\n",
       "}\n",
       "</style>\n",
       "<table id=\"T_81565\">\n",
       "  <caption>Table 6: The survey results of the objects of interest on October 5, 2023 in pieces per meter</caption>\n",
       "  <thead>\n",
       "    <tr>\n",
       "      <th class=\"blank level0\" >&nbsp;</th>\n",
       "      <th id=\"T_81565_level0_col0\" class=\"col_heading level0 col0\" >G112</th>\n",
       "      <th id=\"T_81565_level0_col1\" class=\"col_heading level0 col1\" >G27</th>\n",
       "      <th id=\"T_81565_level0_col2\" class=\"col_heading level0 col2\" >G30</th>\n",
       "      <th id=\"T_81565_level0_col3\" class=\"col_heading level0 col3\" >G32</th>\n",
       "      <th id=\"T_81565_level0_col4\" class=\"col_heading level0 col4\" >G67</th>\n",
       "      <th id=\"T_81565_level0_col5\" class=\"col_heading level0 col5\" >G70</th>\n",
       "      <th id=\"T_81565_level0_col6\" class=\"col_heading level0 col6\" >G95</th>\n",
       "      <th id=\"T_81565_level0_col7\" class=\"col_heading level0 col7\" >G96</th>\n",
       "      <th id=\"T_81565_level0_col8\" class=\"col_heading level0 col8\" >Gcaps</th>\n",
       "      <th id=\"T_81565_level0_col9\" class=\"col_heading level0 col9\" >Gfrags</th>\n",
       "    </tr>\n",
       "  </thead>\n",
       "  <tbody>\n",
       "    <tr>\n",
       "      <th id=\"T_81565_level0_row0\" class=\"row_heading level0 row0\" >tiger-duck-beach</th>\n",
       "      <td id=\"T_81565_row0_col0\" class=\"data row0 col0\" >0.67</td>\n",
       "      <td id=\"T_81565_row0_col1\" class=\"data row0 col1\" >3.64</td>\n",
       "      <td id=\"T_81565_row0_col2\" class=\"data row0 col2\" >0.55</td>\n",
       "      <td id=\"T_81565_row0_col3\" class=\"data row0 col3\" >0.18</td>\n",
       "      <td id=\"T_81565_row0_col4\" class=\"data row0 col4\" >0.00</td>\n",
       "      <td id=\"T_81565_row0_col5\" class=\"data row0 col5\" >0.00</td>\n",
       "      <td id=\"T_81565_row0_col6\" class=\"data row0 col6\" >0.79</td>\n",
       "      <td id=\"T_81565_row0_col7\" class=\"data row0 col7\" >0.06</td>\n",
       "      <td id=\"T_81565_row0_col8\" class=\"data row0 col8\" >0.18</td>\n",
       "      <td id=\"T_81565_row0_col9\" class=\"data row0 col9\" >10.85</td>\n",
       "    </tr>\n",
       "    <tr>\n",
       "      <th id=\"T_81565_level0_row1\" class=\"row_heading level0 row1\" >parc-des-pierrettes</th>\n",
       "      <td id=\"T_81565_row1_col0\" class=\"data row1 col0\" >0.08</td>\n",
       "      <td id=\"T_81565_row1_col1\" class=\"data row1 col1\" >1.03</td>\n",
       "      <td id=\"T_81565_row1_col2\" class=\"data row1 col2\" >0.14</td>\n",
       "      <td id=\"T_81565_row1_col3\" class=\"data row1 col3\" >0.04</td>\n",
       "      <td id=\"T_81565_row1_col4\" class=\"data row1 col4\" >0.00</td>\n",
       "      <td id=\"T_81565_row1_col5\" class=\"data row1 col5\" >0.00</td>\n",
       "      <td id=\"T_81565_row1_col6\" class=\"data row1 col6\" >0.24</td>\n",
       "      <td id=\"T_81565_row1_col7\" class=\"data row1 col7\" >0.02</td>\n",
       "      <td id=\"T_81565_row1_col8\" class=\"data row1 col8\" >0.24</td>\n",
       "      <td id=\"T_81565_row1_col9\" class=\"data row1 col9\" >5.40</td>\n",
       "    </tr>\n",
       "  </tbody>\n",
       "</table>\n"
      ],
      "text/plain": [
       "<pandas.io.formats.style.Styler at 0x7ada56651250>"
      ]
     },
     "execution_count": 19,
     "metadata": {},
     "output_type": "execute_result"
    }
   ],
   "source": [
    "caption=\"Table 6: The survey results of the objects of interest on October 5, 2023 in pieces per meter\"\n",
    "found_display = found.copy()\n",
    "found_display.loc[0, \"beach\"] = \"tiger-duck-beach\"\n",
    "found_display.loc[1, \"beach\"] = \"parc-des-pierrettes\"\n",
    "found_display.set_index(\"beach\", inplace=True, drop=True)\n",
    "found_display.index.name = None\n",
    "found_display.style.format(precision=2).set_table_styles(table_large_font).set_caption(caption)"
   ]
  },
  {
   "cell_type": "markdown",
   "metadata": {
    "editable": true,
    "pycharm": {
     "name": "#%% md\n"
    },
    "slideshow": {
     "slide_type": ""
    },
    "tags": []
   },
   "source": [
    "## Results: Estimated, found and predicted\n",
    "\n",
    "It appears that both the participants and the model underestimated the amount of plastic fragments. Recall that the participants were given the cumulative results for these objects, table 1."
   ]
  },
  {
   "cell_type": "code",
   "execution_count": 20,
   "metadata": {
    "editable": true,
    "pycharm": {
     "name": "#%%\n"
    },
    "slideshow": {
     "slide_type": ""
    },
    "tags": [
     "remove-input"
    ]
   },
   "outputs": [
    {
     "data": {
      "application/papermill.record/image/png": "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",
      "application/papermill.record/text/plain": "<Figure size 640x480 with 1 Axes>"
     },
     "metadata": {
      "scrapbook": {
       "mime_prefix": "application/papermill.record/",
       "name": "estimated-found-predicted-2023"
      }
     },
     "output_type": "display_data"
    }
   ],
   "source": [
    "\n",
    "combined.reset_index(inplace=True, drop=True)\n",
    "comb_long = pd.melt(combined, value_vars=combined.columns)\n",
    "comb_long[\"source\"] = \"estimated\"\n",
    "\n",
    "predicted_median = list(zip(objects,pred_quants.loc[\"50%\"]))\n",
    "pmelted = pd.DataFrame(predicted_median, columns=[\"variable\", \"value\"])\n",
    "pmelted[\"source\"] = \"predicted\"\n",
    "\n",
    "predict_estimate_found = pd.concat([fmelted, pmelted, comb_long])\n",
    "\n",
    "fig, ax = plt.subplots()\n",
    "\n",
    "data_one = predict_estimate_found[predict_estimate_found.source == \"estimated\"]\n",
    "data_two = predict_estimate_found[predict_estimate_found.source == \"found\"]\n",
    "data_three = predict_estimate_found[predict_estimate_found.source == \"predicted\"]\n",
    "sns.scatterplot(data=data_one, x=\"variable\", y=\"value\", color=\"magenta\", zorder=0,ax=ax, label=\"estimated\")\n",
    "sns.scatterplot(data=data_two, x=\"variable\", y=\"value\", color=\"dodgerblue\", marker=\"X\", s=60, zorder=2,ax=ax, label=\"found\")\n",
    "sns.scatterplot(data=data_three, x=\"variable\", y=\"value\", color=\"black\", zorder=3,ax=ax,label=\"predicted\")\n",
    "ax.set_xlabel(\"\")\n",
    "ax.set_ylabel(\"pcs/m\")\n",
    "ax.legend()\n",
    "glue('estimated-found-predicted-2023', fig, display=False)\n",
    "plt.close()"
   ]
  },
  {
   "cell_type": "markdown",
   "metadata": {
    "editable": true,
    "pycharm": {
     "name": "#%% md\n"
    },
    "slideshow": {
     "slide_type": ""
    },
    "tags": []
   },
   "source": [
    "|Figure 3|\n",
    "|:------------:|\n",
    "|{glue:}`estimated-found-predicted-2023`|\n",
    "|Figure 3: _The Estimated, observed and predicted results for the objects of interest, Saint Sulpice October 5, 2023_|\n",
    " "
   ]
  },
  {
   "cell_type": "markdown",
   "metadata": {
    "editable": true,
    "pycharm": {
     "name": "#%% md\n"
    },
    "slideshow": {
     "slide_type": ""
    },
    "tags": []
   },
   "source": [
    "The predicted values from the model were all closer than the predicted values by the participants, table 7. In total 17/20 oserved results fell within the 96% probability interval predicted by the model, 7/20 fell within the 50% probability interval, Annex: table 8. Of the objects not within the 96% interval there is:\n",
    "1. Fragmented plastics, (both surveys)\n",
    "2. Cigarette ends\n",
    "3. Toys and party favors\n",
    "\n",
    "From figure 4 we can see how close the predictions and the estimates are."
   ]
  },
  {
   "cell_type": "code",
   "execution_count": 21,
   "metadata": {
    "editable": true,
    "pycharm": {
     "name": "#%%\n"
    },
    "slideshow": {
     "slide_type": ""
    },
    "tags": [
     "remove-input"
    ]
   },
   "outputs": [],
   "source": [
    "def calculate_the_difference_estimated_found(combined, found_tdm, objects):\n",
    "    diffs = []\n",
    "    for i, o in enumerate(objects):\n",
    "        diff = combined[objects[i]] - found_tdm[i]\n",
    "        # diffpr = combined[objects[i]] - found_pm[i]\n",
    "        diff_sq = (diff**2)**.5\n",
    "        diffs.append(diff_sq)\n",
    "    return diffs\n",
    "difference_estimated_found_td = calculate_the_difference_estimated_found(tiger_duck, found_tdm, objects)\n",
    "difference_estimated_found_pr = calculate_the_difference_estimated_found(pierrette, found_pm, objects)\n",
    "td_diff = pd.DataFrame(difference_estimated_found_td).T\n",
    "pier_diff = pd.DataFrame(difference_estimated_found_pr).T\n",
    "combined_diffs = pd.concat([td_diff, pier_diff])\n",
    "c_diff_estimated = pd.melt(combined_diffs, value_vars=combined_diffs.columns)\n",
    "c_diff_estimated[\"source\"] = \"difference² of estimated\""
   ]
  },
  {
   "cell_type": "code",
   "execution_count": 22,
   "metadata": {
    "editable": true,
    "pycharm": {
     "name": "#%%\n"
    },
    "slideshow": {
     "slide_type": ""
    },
    "tags": [
     "remove-input"
    ]
   },
   "outputs": [],
   "source": [
    "predicted_median = pred_quants.loc[\"50%\"].values\n",
    "diff_1 = []\n",
    "diff_2 = []\n",
    "for i, o in enumerate(objects):    \n",
    "    diffp = predicted_median[i] - found_tdm[i]\n",
    "    diffpr = predicted_median[i] - found_pm[i]\n",
    "    diff_sq = (np.array([diffp, diffpr])**2)**.5\n",
    "    diff_1.append(diff_sq[0])\n",
    "    diff_2.append(diff_sq[1])\n",
    "\n",
    "\n",
    "pred_diffs = pd.DataFrame([diff_1, diff_2], columns=objects)\n",
    "p_diff_predicted = pd.melt(pred_diffs, value_vars=pred_diffs.columns)\n",
    "p_diff_predicted[\"source\"] = \"difference² of predicted\""
   ]
  },
  {
   "cell_type": "code",
   "execution_count": 23,
   "metadata": {
    "editable": true,
    "pycharm": {
     "name": "#%%\n"
    },
    "slideshow": {
     "slide_type": ""
    },
    "tags": [
     "remove-input"
    ]
   },
   "outputs": [
    {
     "data": {
      "application/papermill.record/image/png": "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",
      "application/papermill.record/text/plain": "<Figure size 640x480 with 1 Axes>"
     },
     "metadata": {
      "scrapbook": {
       "mime_prefix": "application/papermill.record/",
       "name": "diference-estimated-found-predicted-2023"
      }
     },
     "output_type": "display_data"
    }
   ],
   "source": [
    "results = pd.concat([c_diff_estimated, p_diff_predicted])\n",
    "\n",
    "fig, ax = plt.subplots()\n",
    "\n",
    "ax.plot(objects, [*[0]*len(objects)], label=\"zero\")\n",
    "sns.scatterplot(data=results, x=\"variable\", y=\"value\", ax=ax, hue=\"source\", palette=[\"magenta\", \"black\"])\n",
    "ax.set_xlabel(\"\")\n",
    "ax.set_ylabel(\"pcs/m\")\n",
    "ax.legend()\n",
    "glue('diference-estimated-found-predicted-2023', fig, display=False)\n",
    "plt.close()"
   ]
  },
  {
   "cell_type": "markdown",
   "metadata": {
    "editable": true,
    "pycharm": {
     "name": "#%% md\n"
    },
    "slideshow": {
     "slide_type": ""
    },
    "tags": []
   },
   "source": [
    "|Figure 4|\n",
    "|:------------:|\n",
    "|{glue:}`diference-estimated-found-predicted-2023`|\n",
    "|Figure 4: _The root of the squared difference between observed estimated and predicted, Saint Sulpice October 5, 2023_| "
   ]
  },
  {
   "cell_type": "code",
   "execution_count": 24,
   "metadata": {
    "editable": true,
    "pycharm": {
     "name": "#%%\n"
    },
    "slideshow": {
     "slide_type": ""
    },
    "tags": [
     "remove-input"
    ]
   },
   "outputs": [
    {
     "data": {
      "text/html": [
       "<style type=\"text/css\">\n",
       "#T_6c5f4 tr:nth-child(even) {\n",
       "  background-color: rgba(139, 69, 19, 0.08);\n",
       "}\n",
       "#T_6c5f4 tr:nth-child(odd) {\n",
       "  background: #FFF;\n",
       "}\n",
       "#T_6c5f4 tr {\n",
       "  font-size: 14px;\n",
       "  padding: 12px;\n",
       "}\n",
       "#T_6c5f4 th:nth-child(1) {\n",
       "  background-color: #FFF;\n",
       "  text-align: right;\n",
       "}\n",
       "#T_6c5f4 caption {\n",
       "  font-size: 14px;\n",
       "  font-style: italic;\n",
       "  caption-side: bottom;\n",
       "  text-align: left;\n",
       "  margin-top: 10px;\n",
       "}\n",
       "</style>\n",
       "<table id=\"T_6c5f4\">\n",
       "  <caption>Table 7: The average difference between what was found and the estimates of the participants and what was predicted using the empirical Bayes method</caption>\n",
       "  <thead>\n",
       "    <tr>\n",
       "      <th class=\"blank level0\" >&nbsp;</th>\n",
       "      <th id=\"T_6c5f4_level0_col0\" class=\"col_heading level0 col0\" colspan=\"2\">average</th>\n",
       "    </tr>\n",
       "    <tr>\n",
       "      <th class=\"index_name level1\" >source</th>\n",
       "      <th id=\"T_6c5f4_level1_col0\" class=\"col_heading level1 col0\" >difference² of estimated</th>\n",
       "      <th id=\"T_6c5f4_level1_col1\" class=\"col_heading level1 col1\" >difference² of predicted</th>\n",
       "    </tr>\n",
       "  </thead>\n",
       "  <tbody>\n",
       "    <tr>\n",
       "      <th id=\"T_6c5f4_level0_row0\" class=\"row_heading level0 row0\" >G112</th>\n",
       "      <td id=\"T_6c5f4_row0_col0\" class=\"data row0 col0\" >1.07</td>\n",
       "      <td id=\"T_6c5f4_row0_col1\" class=\"data row0 col1\" >0.32</td>\n",
       "    </tr>\n",
       "    <tr>\n",
       "      <th id=\"T_6c5f4_level0_row1\" class=\"row_heading level0 row1\" >G27</th>\n",
       "      <td id=\"T_6c5f4_row1_col0\" class=\"data row1 col0\" >2.32</td>\n",
       "      <td id=\"T_6c5f4_row1_col1\" class=\"data row1 col1\" >1.92</td>\n",
       "    </tr>\n",
       "    <tr>\n",
       "      <th id=\"T_6c5f4_level0_row2\" class=\"row_heading level0 row2\" >G30</th>\n",
       "      <td id=\"T_6c5f4_row2_col0\" class=\"data row2 col0\" >0.31</td>\n",
       "      <td id=\"T_6c5f4_row2_col1\" class=\"data row2 col1\" >0.20</td>\n",
       "    </tr>\n",
       "    <tr>\n",
       "      <th id=\"T_6c5f4_level0_row3\" class=\"row_heading level0 row3\" >G32</th>\n",
       "      <td id=\"T_6c5f4_row3_col0\" class=\"data row3 col0\" >0.11</td>\n",
       "      <td id=\"T_6c5f4_row3_col1\" class=\"data row3 col1\" >0.07</td>\n",
       "    </tr>\n",
       "    <tr>\n",
       "      <th id=\"T_6c5f4_level0_row4\" class=\"row_heading level0 row4\" >G67</th>\n",
       "      <td id=\"T_6c5f4_row4_col0\" class=\"data row4 col0\" >0.26</td>\n",
       "      <td id=\"T_6c5f4_row4_col1\" class=\"data row4 col1\" >0.17</td>\n",
       "    </tr>\n",
       "    <tr>\n",
       "      <th id=\"T_6c5f4_level0_row5\" class=\"row_heading level0 row5\" >G70</th>\n",
       "      <td id=\"T_6c5f4_row5_col0\" class=\"data row5 col0\" >0.03</td>\n",
       "      <td id=\"T_6c5f4_row5_col1\" class=\"data row5 col1\" >0.00</td>\n",
       "    </tr>\n",
       "    <tr>\n",
       "      <th id=\"T_6c5f4_level0_row6\" class=\"row_heading level0 row6\" >G95</th>\n",
       "      <td id=\"T_6c5f4_row6_col0\" class=\"data row6 col0\" >0.52</td>\n",
       "      <td id=\"T_6c5f4_row6_col1\" class=\"data row6 col1\" >0.27</td>\n",
       "    </tr>\n",
       "    <tr>\n",
       "      <th id=\"T_6c5f4_level0_row7\" class=\"row_heading level0 row7\" >G96</th>\n",
       "      <td id=\"T_6c5f4_row7_col0\" class=\"data row7 col0\" >0.15</td>\n",
       "      <td id=\"T_6c5f4_row7_col1\" class=\"data row7 col1\" >0.02</td>\n",
       "    </tr>\n",
       "    <tr>\n",
       "      <th id=\"T_6c5f4_level0_row8\" class=\"row_heading level0 row8\" >Gcaps</th>\n",
       "      <td id=\"T_6c5f4_row8_col0\" class=\"data row8 col0\" >0.26</td>\n",
       "      <td id=\"T_6c5f4_row8_col1\" class=\"data row8 col1\" >0.07</td>\n",
       "    </tr>\n",
       "    <tr>\n",
       "      <th id=\"T_6c5f4_level0_row9\" class=\"row_heading level0 row9\" >Gfrags</th>\n",
       "      <td id=\"T_6c5f4_row9_col0\" class=\"data row9 col0\" >8.11</td>\n",
       "      <td id=\"T_6c5f4_row9_col1\" class=\"data row9 col1\" >7.53</td>\n",
       "    </tr>\n",
       "  </tbody>\n",
       "</table>\n"
      ],
      "text/plain": [
       "<pandas.io.formats.style.Styler at 0x7ada564f9520>"
      ]
     },
     "execution_count": 24,
     "metadata": {},
     "output_type": "execute_result"
    }
   ],
   "source": [
    "r = results.groupby([\"source\", \"variable\"], as_index=False).value.mean()\n",
    "r.rename(columns={\"value\":\"average\"}, inplace=True)\n",
    "rp = r.pivot(index=\"variable\", columns=\"source\")\n",
    "rp.index.name = None\n",
    "caption = \"Table 7: The average difference between what was found and the estimates of the participants and what was predicted using the empirical Bayes method\"\n",
    "rp.style.set_table_styles(table_large_font).format(precision=2).set_caption(caption)"
   ]
  },
  {
   "cell_type": "code",
   "execution_count": 25,
   "metadata": {
    "editable": true,
    "pycharm": {
     "name": "#%%\n"
    },
    "slideshow": {
     "slide_type": ""
    },
    "tags": [
     "remove-input"
    ]
   },
   "outputs": [],
   "source": [
    "def are_the_observed_values_within_the_hdi(found, objects, predicted, index=0):\n",
    "    place = []\n",
    "    for i, o in enumerate(objects):\n",
    "        f = found.loc[index, o]\n",
    "        p = predicted[o].values\n",
    "        ip = bisect_left(p, f)\n",
    "        if ip >= 0 and ip <= 6:\n",
    "            # is within 94% HDI\n",
    "            within_96 = True\n",
    "        else:\n",
    "            within_96 = False                  \n",
    "        if ip >= 1 and ip <= 5:\n",
    "            # is within 50% HDI           \n",
    "            within_50 = True\n",
    "        else:          \n",
    "            within_50 = False    \n",
    "            \n",
    "        place.append([o, within_96, within_50])\n",
    "    return place\n",
    "\n",
    "simple_results_td = are_the_observed_values_within_the_hdi(found, objects, pred_quants)\n",
    "td_predicted_results = pd.DataFrame(simple_results_td, columns=[\"object\",\"within 96% HDI\", \"within 50% HDI\"])\n",
    "\n",
    "simple_results_p = are_the_observed_values_within_the_hdi(found, objects, pred_quants, index=1)\n",
    "p_predicted_results = pd.DataFrame(simple_results_p, columns=[\"object\",\"within 96% HDI\", \"within 50% HDI\"])\n",
    "\n",
    "all_predicted_results = pd.concat([td_predicted_results, p_predicted_results])"
   ]
  },
  {
   "cell_type": "markdown",
   "metadata": {
    "editable": true,
    "pycharm": {
     "name": "#%% md\n"
    },
    "slideshow": {
     "slide_type": ""
    },
    "tags": []
   },
   "source": [
    "## Discussion\n",
    "\n",
    "There were three surveys completed, two are reflected in the report. Neither the the estimated amounts from the particpants or the survey results were returned for the third survey. On location the participants were shown examples of the objects of interest. The limits of the survey area were defined and the survey was conducted in small groups. The objects found on the beach were separated and counted on location. The identification or the differentiation of fragmented plastics and foams remains difficult for new participants. This is in one part due to the constraints of time and on the other to the lack of experience. Many times what initially appears to be an unidentifiable piece of plastic can actually be placed in a more precise category with reasonable certainty. The new paritcipants do not have the time to consider other possibilities or simply are unaware of the original use of the item in questions.\n",
    "\n",
    "Many participants used the previous aggregated survey results to estimate the expected values. This reasonable strategy produced estimates that were very close to the predicted survey results. This suggests that previous survey results can serve as an indicator for expected results as long as the objects have been identified correctly and consistently in the past. Yet, from table 7 it is clear that predictions are more accurate when a formal method is used. \n",
    "\n",
    "## Conclusions\n",
    "\n",
    "From this experience we conclude that the expected values in table 4 do represent probable beach-litter densities in the region. \n",
    "\n",
    "### Next steps\n",
    "\n",
    "Make hierarchical model"
   ]
  },
  {
   "cell_type": "markdown",
   "metadata": {
    "editable": true,
    "pycharm": {
     "name": "#%% md\n"
    },
    "slideshow": {
     "slide_type": ""
    },
    "tags": []
   },
   "source": [
    "## Annex"
   ]
  },
  {
   "cell_type": "markdown",
   "metadata": {
    "editable": true,
    "pycharm": {
     "name": "#%% md\n"
    },
    "slideshow": {
     "slide_type": ""
    },
    "tags": []
   },
   "source": [
    "### The accuracy of the predictions in relation to what was found"
   ]
  },
  {
   "cell_type": "code",
   "execution_count": 26,
   "metadata": {
    "editable": true,
    "pycharm": {
     "name": "#%%\n"
    },
    "slideshow": {
     "slide_type": ""
    },
    "tags": [
     "remove-input"
    ]
   },
   "outputs": [
    {
     "data": {
      "text/html": [
       "<style type=\"text/css\">\n",
       "#T_4d9a6 tr:nth-child(even) {\n",
       "  background-color: rgba(139, 69, 19, 0.08);\n",
       "}\n",
       "#T_4d9a6 tr:nth-child(odd) {\n",
       "  background: #FFF;\n",
       "}\n",
       "#T_4d9a6 tr {\n",
       "  font-size: 14px;\n",
       "  padding: 12px;\n",
       "}\n",
       "#T_4d9a6 th:nth-child(1) {\n",
       "  background-color: #FFF;\n",
       "  text-align: right;\n",
       "}\n",
       "#T_4d9a6 caption {\n",
       "  font-size: 14px;\n",
       "  font-style: italic;\n",
       "  caption-side: bottom;\n",
       "  text-align: left;\n",
       "  margin-top: 10px;\n",
       "}\n",
       "</style>\n",
       "<table id=\"T_4d9a6\">\n",
       "  <caption>Table 8: Whether the observed value fell within the predicted interval</caption>\n",
       "  <thead>\n",
       "    <tr>\n",
       "      <th class=\"blank level0\" >&nbsp;</th>\n",
       "      <th id=\"T_4d9a6_level0_col0\" class=\"col_heading level0 col0\" >object</th>\n",
       "      <th id=\"T_4d9a6_level0_col1\" class=\"col_heading level0 col1\" >within 96% HDI</th>\n",
       "      <th id=\"T_4d9a6_level0_col2\" class=\"col_heading level0 col2\" >within 50% HDI</th>\n",
       "    </tr>\n",
       "  </thead>\n",
       "  <tbody>\n",
       "    <tr>\n",
       "      <th id=\"T_4d9a6_level0_row0\" class=\"row_heading level0 row0\" >0</th>\n",
       "      <td id=\"T_4d9a6_row0_col0\" class=\"data row0 col0\" >G112</td>\n",
       "      <td id=\"T_4d9a6_row0_col1\" class=\"data row0 col1\" >True</td>\n",
       "      <td id=\"T_4d9a6_row0_col2\" class=\"data row0 col2\" >False</td>\n",
       "    </tr>\n",
       "    <tr>\n",
       "      <th id=\"T_4d9a6_level0_row1\" class=\"row_heading level0 row1\" >1</th>\n",
       "      <td id=\"T_4d9a6_row1_col0\" class=\"data row1 col0\" >G27</td>\n",
       "      <td id=\"T_4d9a6_row1_col1\" class=\"data row1 col1\" >False</td>\n",
       "      <td id=\"T_4d9a6_row1_col2\" class=\"data row1 col2\" >False</td>\n",
       "    </tr>\n",
       "    <tr>\n",
       "      <th id=\"T_4d9a6_level0_row2\" class=\"row_heading level0 row2\" >2</th>\n",
       "      <td id=\"T_4d9a6_row2_col0\" class=\"data row2 col0\" >G30</td>\n",
       "      <td id=\"T_4d9a6_row2_col1\" class=\"data row2 col1\" >True</td>\n",
       "      <td id=\"T_4d9a6_row2_col2\" class=\"data row2 col2\" >True</td>\n",
       "    </tr>\n",
       "    <tr>\n",
       "      <th id=\"T_4d9a6_level0_row3\" class=\"row_heading level0 row3\" >3</th>\n",
       "      <td id=\"T_4d9a6_row3_col0\" class=\"data row3 col0\" >G32</td>\n",
       "      <td id=\"T_4d9a6_row3_col1\" class=\"data row3 col1\" >True</td>\n",
       "      <td id=\"T_4d9a6_row3_col2\" class=\"data row3 col2\" >False</td>\n",
       "    </tr>\n",
       "    <tr>\n",
       "      <th id=\"T_4d9a6_level0_row4\" class=\"row_heading level0 row4\" >4</th>\n",
       "      <td id=\"T_4d9a6_row4_col0\" class=\"data row4 col0\" >G67</td>\n",
       "      <td id=\"T_4d9a6_row4_col1\" class=\"data row4 col1\" >True</td>\n",
       "      <td id=\"T_4d9a6_row4_col2\" class=\"data row4 col2\" >False</td>\n",
       "    </tr>\n",
       "    <tr>\n",
       "      <th id=\"T_4d9a6_level0_row5\" class=\"row_heading level0 row5\" >5</th>\n",
       "      <td id=\"T_4d9a6_row5_col0\" class=\"data row5 col0\" >G70</td>\n",
       "      <td id=\"T_4d9a6_row5_col1\" class=\"data row5 col1\" >True</td>\n",
       "      <td id=\"T_4d9a6_row5_col2\" class=\"data row5 col2\" >False</td>\n",
       "    </tr>\n",
       "    <tr>\n",
       "      <th id=\"T_4d9a6_level0_row6\" class=\"row_heading level0 row6\" >6</th>\n",
       "      <td id=\"T_4d9a6_row6_col0\" class=\"data row6 col0\" >G95</td>\n",
       "      <td id=\"T_4d9a6_row6_col1\" class=\"data row6 col1\" >True</td>\n",
       "      <td id=\"T_4d9a6_row6_col2\" class=\"data row6 col2\" >False</td>\n",
       "    </tr>\n",
       "    <tr>\n",
       "      <th id=\"T_4d9a6_level0_row7\" class=\"row_heading level0 row7\" >7</th>\n",
       "      <td id=\"T_4d9a6_row7_col0\" class=\"data row7 col0\" >G96</td>\n",
       "      <td id=\"T_4d9a6_row7_col1\" class=\"data row7 col1\" >True</td>\n",
       "      <td id=\"T_4d9a6_row7_col2\" class=\"data row7 col2\" >True</td>\n",
       "    </tr>\n",
       "    <tr>\n",
       "      <th id=\"T_4d9a6_level0_row8\" class=\"row_heading level0 row8\" >8</th>\n",
       "      <td id=\"T_4d9a6_row8_col0\" class=\"data row8 col0\" >Gcaps</td>\n",
       "      <td id=\"T_4d9a6_row8_col1\" class=\"data row8 col1\" >True</td>\n",
       "      <td id=\"T_4d9a6_row8_col2\" class=\"data row8 col2\" >True</td>\n",
       "    </tr>\n",
       "    <tr>\n",
       "      <th id=\"T_4d9a6_level0_row9\" class=\"row_heading level0 row9\" >9</th>\n",
       "      <td id=\"T_4d9a6_row9_col0\" class=\"data row9 col0\" >Gfrags</td>\n",
       "      <td id=\"T_4d9a6_row9_col1\" class=\"data row9 col1\" >False</td>\n",
       "      <td id=\"T_4d9a6_row9_col2\" class=\"data row9 col2\" >False</td>\n",
       "    </tr>\n",
       "    <tr>\n",
       "      <th id=\"T_4d9a6_level0_row10\" class=\"row_heading level0 row10\" >0</th>\n",
       "      <td id=\"T_4d9a6_row10_col0\" class=\"data row10 col0\" >G112</td>\n",
       "      <td id=\"T_4d9a6_row10_col1\" class=\"data row10 col1\" >True</td>\n",
       "      <td id=\"T_4d9a6_row10_col2\" class=\"data row10 col2\" >True</td>\n",
       "    </tr>\n",
       "    <tr>\n",
       "      <th id=\"T_4d9a6_level0_row11\" class=\"row_heading level0 row11\" >1</th>\n",
       "      <td id=\"T_4d9a6_row11_col0\" class=\"data row11 col0\" >G27</td>\n",
       "      <td id=\"T_4d9a6_row11_col1\" class=\"data row11 col1\" >True</td>\n",
       "      <td id=\"T_4d9a6_row11_col2\" class=\"data row11 col2\" >False</td>\n",
       "    </tr>\n",
       "    <tr>\n",
       "      <th id=\"T_4d9a6_level0_row12\" class=\"row_heading level0 row12\" >2</th>\n",
       "      <td id=\"T_4d9a6_row12_col0\" class=\"data row12 col0\" >G30</td>\n",
       "      <td id=\"T_4d9a6_row12_col1\" class=\"data row12 col1\" >True</td>\n",
       "      <td id=\"T_4d9a6_row12_col2\" class=\"data row12 col2\" >True</td>\n",
       "    </tr>\n",
       "    <tr>\n",
       "      <th id=\"T_4d9a6_level0_row13\" class=\"row_heading level0 row13\" >3</th>\n",
       "      <td id=\"T_4d9a6_row13_col0\" class=\"data row13 col0\" >G32</td>\n",
       "      <td id=\"T_4d9a6_row13_col1\" class=\"data row13 col1\" >True</td>\n",
       "      <td id=\"T_4d9a6_row13_col2\" class=\"data row13 col2\" >True</td>\n",
       "    </tr>\n",
       "    <tr>\n",
       "      <th id=\"T_4d9a6_level0_row14\" class=\"row_heading level0 row14\" >4</th>\n",
       "      <td id=\"T_4d9a6_row14_col0\" class=\"data row14 col0\" >G67</td>\n",
       "      <td id=\"T_4d9a6_row14_col1\" class=\"data row14 col1\" >True</td>\n",
       "      <td id=\"T_4d9a6_row14_col2\" class=\"data row14 col2\" >False</td>\n",
       "    </tr>\n",
       "    <tr>\n",
       "      <th id=\"T_4d9a6_level0_row15\" class=\"row_heading level0 row15\" >5</th>\n",
       "      <td id=\"T_4d9a6_row15_col0\" class=\"data row15 col0\" >G70</td>\n",
       "      <td id=\"T_4d9a6_row15_col1\" class=\"data row15 col1\" >True</td>\n",
       "      <td id=\"T_4d9a6_row15_col2\" class=\"data row15 col2\" >False</td>\n",
       "    </tr>\n",
       "    <tr>\n",
       "      <th id=\"T_4d9a6_level0_row16\" class=\"row_heading level0 row16\" >6</th>\n",
       "      <td id=\"T_4d9a6_row16_col0\" class=\"data row16 col0\" >G95</td>\n",
       "      <td id=\"T_4d9a6_row16_col1\" class=\"data row16 col1\" >True</td>\n",
       "      <td id=\"T_4d9a6_row16_col2\" class=\"data row16 col2\" >True</td>\n",
       "    </tr>\n",
       "    <tr>\n",
       "      <th id=\"T_4d9a6_level0_row17\" class=\"row_heading level0 row17\" >7</th>\n",
       "      <td id=\"T_4d9a6_row17_col0\" class=\"data row17 col0\" >G96</td>\n",
       "      <td id=\"T_4d9a6_row17_col1\" class=\"data row17 col1\" >True</td>\n",
       "      <td id=\"T_4d9a6_row17_col2\" class=\"data row17 col2\" >True</td>\n",
       "    </tr>\n",
       "    <tr>\n",
       "      <th id=\"T_4d9a6_level0_row18\" class=\"row_heading level0 row18\" >8</th>\n",
       "      <td id=\"T_4d9a6_row18_col0\" class=\"data row18 col0\" >Gcaps</td>\n",
       "      <td id=\"T_4d9a6_row18_col1\" class=\"data row18 col1\" >True</td>\n",
       "      <td id=\"T_4d9a6_row18_col2\" class=\"data row18 col2\" >False</td>\n",
       "    </tr>\n",
       "    <tr>\n",
       "      <th id=\"T_4d9a6_level0_row19\" class=\"row_heading level0 row19\" >9</th>\n",
       "      <td id=\"T_4d9a6_row19_col0\" class=\"data row19 col0\" >Gfrags</td>\n",
       "      <td id=\"T_4d9a6_row19_col1\" class=\"data row19 col1\" >False</td>\n",
       "      <td id=\"T_4d9a6_row19_col2\" class=\"data row19 col2\" >False</td>\n",
       "    </tr>\n",
       "  </tbody>\n",
       "</table>\n"
      ],
      "text/plain": [
       "<pandas.io.formats.style.Styler at 0x7ada56b7c5e0>"
      ]
     },
     "execution_count": 26,
     "metadata": {},
     "output_type": "execute_result"
    }
   ],
   "source": [
    "caption = \"Table 8: Whether the observed value fell within the predicted interval\"\n",
    "all_predicted_results.style.set_table_styles(table_large_font).set_caption(caption)"
   ]
  },
  {
   "cell_type": "code",
   "execution_count": 27,
   "metadata": {
    "editable": true,
    "pycharm": {
     "name": "#%%\n"
    },
    "slideshow": {
     "slide_type": ""
    },
    "tags": [
     "remove-input"
    ]
   },
   "outputs": [
    {
     "data": {
      "text/plain": [
       "within 96% HDI    0.85\n",
       "within 50% HDI    0.40\n",
       "dtype: float64"
      ]
     },
     "execution_count": 27,
     "metadata": {},
     "output_type": "execute_result"
    }
   ],
   "source": [
    "alr = all_predicted_results[[\"within 96% HDI\", \"within 50% HDI\"]].sum()\n",
    "alr/len(all_predicted_results)"
   ]
  },
  {
   "cell_type": "code",
   "execution_count": 28,
   "metadata": {
    "editable": true,
    "pycharm": {
     "name": "#%%\n"
    },
    "slideshow": {
     "slide_type": ""
    },
    "tags": [
     "remove-input"
    ]
   },
   "outputs": [
    {
     "data": {
      "text/plain": [
       "within 96% HDI    17\n",
       "within 50% HDI     8\n",
       "dtype: int64"
      ]
     },
     "execution_count": 28,
     "metadata": {},
     "output_type": "execute_result"
    }
   ],
   "source": [
    "alr"
   ]
  },
  {
   "cell_type": "code",
   "execution_count": 29,
   "metadata": {
    "editable": true,
    "pycharm": {
     "name": "#%%\n"
    },
    "slideshow": {
     "slide_type": ""
    },
    "tags": [
     "remove-input"
    ]
   },
   "outputs": [
    {
     "data": {
      "text/markdown": [
       "\n",
       "\n",
       "This script updated 22/08/2024 in Biel, CH\n",
       "\n",
       "❤️ __what you do everyday:__ *analyst at hammerdirt*\n"
      ],
      "text/plain": [
       "<IPython.core.display.Markdown object>"
      ]
     },
     "execution_count": 29,
     "metadata": {},
     "output_type": "execute_result"
    }
   ],
   "source": [
    "today = dt.datetime.now().date().strftime(\"%d/%m/%Y\")\n",
    "where = \"Biel, CH\"\n",
    "\n",
    "my_block = f\"\"\"\n",
    "\n",
    "This script updated {today} in {where}\n",
    "\n",
    "\\u2764\\ufe0f __what you do everyday:__ *analyst at hammerdirt*\n",
    "\"\"\"\n",
    "\n",
    "md(my_block)"
   ]
  },
  {
   "cell_type": "code",
   "execution_count": 30,
   "metadata": {
    "editable": true,
    "pycharm": {
     "name": "#%%\n"
    },
    "slideshow": {
     "slide_type": ""
    },
    "tags": [
     "remove-input"
    ]
   },
   "outputs": [
    {
     "name": "stdout",
     "output_type": "stream",
     "text": [
      "Git repo: https://github.com/hammerdirt-analyst/solid-waste-team.git\n",
      "\n",
      "Git branch: main\n",
      "\n",
      "numpy     : 1.26.4\n",
      "seaborn   : 0.13.2\n",
      "matplotlib: 3.8.4\n",
      "pandas    : 2.2.2\n",
      "\n"
     ]
    }
   ],
   "source": [
    "%watermark --iversions -b -r"
   ]
  },
  {
   "cell_type": "code",
   "execution_count": null,
   "metadata": {
    "editable": true,
    "slideshow": {
     "slide_type": ""
    },
    "tags": []
   },
   "outputs": [],
   "source": []
  }
 ],
 "metadata": {
  "kernelspec": {
   "display_name": "Python 3 (ipykernel)",
   "language": "python",
   "name": "python3"
  },
  "language_info": {
   "codemirror_mode": {
    "name": "ipython",
    "version": 3
   },
   "file_extension": ".py",
   "mimetype": "text/x-python",
   "name": "python",
   "nbconvert_exporter": "python",
   "pygments_lexer": "ipython3",
   "version": "3.9.19"
  }
 },
 "nbformat": 4,
 "nbformat_minor": 4
}
