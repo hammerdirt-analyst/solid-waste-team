{
 "cells": [
  {
   "cell_type": "code",
   "execution_count": 1,
   "metadata": {
    "editable": true,
    "pycharm": {
     "name": "#%%\n"
    },
    "slideshow": {
     "slide_type": ""
    },
    "tags": [
     "remove-input"
    ]
   },
   "outputs": [],
   "source": [
    "%load_ext watermark\n",
    "\n",
    "import pandas as pd\n",
    "import numpy as np\n",
    "import datetime as dt \n",
    "from statsmodels.distributions.empirical_distribution import ECDF\n",
    "from scipy.stats import beta\n",
    "import matplotlib.pyplot as plt\n",
    "import seaborn as sns\n",
    "from IPython.display import Markdown as md\n",
    "from myst_nb import glue\n",
    "\n",
    "from bisect import bisect\n",
    "from bisect import bisect_left, bisect_right\n",
    "\n",
    "dfCodes = pd.read_csv(\"resources/data/u_codes.csv\")\n",
    "dfBeaches = pd.read_csv(\"resources/data/u_beaches.csv\")\n",
    "dfBeaches.set_index(\"slug\", inplace=True)\n",
    "\n",
    "all_data = pd.read_csv(\"resources/data/u_all_data.csv\")\n",
    "all_data = all_data[all_data.river_bassin != 'les-alpes'].copy()\n",
    "all_data[\"date\"] = pd.to_datetime(all_data[\"date\"], format=\"%Y-%m-%d\")\n",
    "\n",
    "# import regional labels. labels are used\n",
    "# to identify the regional priors\n",
    "lac_leman_regions = pd.read_csv(\"resources/data/lac_leman_regions.csv\")\n",
    "\n",
    "# map to code decriptions\n",
    "dfCodes.set_index(\"code\", inplace=True)\n",
    "dfCodes.loc[\"Gcaps\", [\"material\", \"description\", \"groupname\"]] = [\"Plastic\", \"Plastic bottle lids\", \"food and drink\"]"
   ]
  },
  {
   "cell_type": "code",
   "execution_count": 2,
   "metadata": {
    "editable": true,
    "pycharm": {
     "name": "#%%\n"
    },
    "slideshow": {
     "slide_type": ""
    },
    "tags": [
     "remove-input"
    ]
   },
   "outputs": [],
   "source": [
    "# this defines the css rules for the note-book table displays\n",
    "header_row = {'selector': 'th:nth-child(1)', 'props': f'background-color: #FFF; text-align:right'}\n",
    "even_rows = {\"selector\": 'tr:nth-child(even)', 'props': f'background-color: rgba(139, 69, 19, 0.08);'}\n",
    "odd_rows = {'selector': 'tr:nth-child(odd)', 'props': 'background: #FFF;'}\n",
    "table_font = {'selector': 'tr', 'props': 'font-size: 10px;'}\n",
    "table_data = {'selector': 'td', 'props': 'padding: 12px;'}\n",
    "table_caption = {'selector': 'caption', 'props': 'font-size: 14px; font-style: italic; caption-side: bottom; text-align: left; margin-top: 10px'}\n",
    "table_css_styles = [even_rows, odd_rows, table_font, header_row, table_caption]\n",
    "\n",
    "\n",
    "table_large_data = {'selector': 'tr', 'props': 'font-size: 14px; padding: 12px;'}\n",
    "table_large_font = [even_rows, odd_rows, table_large_data, header_row, table_caption]"
   ]
  },
  {
   "cell_type": "markdown",
   "metadata": {
    "editable": true,
    "pycharm": {
     "name": "#%% md\n"
    },
    "slideshow": {
     "slide_type": ""
    },
    "tags": []
   },
   "source": [
    "# Testing 2023 predictions\n",
    "\n",
    "## The solid waste experience\n",
    "\n",
    "This is the seventh year that the Solid Waste Team from the EPFL collect beach litter samples. In the maritime environment people have been measuring beach litter for decades. There is a standard protocol ([Guidance on Monitoring Marine Litter in European Seas](https://publications.jrc.ec.europa.eu/repository/handle/JRC83985)) for the EU area and threshold values for good environmental standing ([Beach litter thresholds](https://mcc.jrc.ec.europa.eu/main/dev.py?N=41&O=454)). \n",
    "\n",
    "In Switzerland we started monitoring shoreline trash in 2015, it was not obvious to most observers (except for Prof Ludwig) why this might be of interest. However, by 2016 the EU realized that monitoring trash flows in rivers and lakes ([monitoring trash in rivers](https://mcc.jrc.ec.europa.eu/documents/201703034325.pdf)) might be a good way to monitor flows into the oceans. All the while conservationists and biologists have raised concerns about the presence of plastics and diminshing biodiversity. The threshold established by the EU is based on the principle of precaution: _the health effects are unknown, it is prudent to reduce contact with plastics when possible_ ([Beach litter thresholds](https://mcc.jrc.ec.europa.eu/main/dev.py?N=41&O=454)).\n",
    "\n",
    "### Observations and interpretations\n",
    "\n",
    "A beach litter survey is a detailed observation of the quantity and type of objects that were found at the beach. This observation is further defined by the time and place it occured. The location of the beach litter survey can be described numerically using a topographical map and some common overlay techniques in QGIS.\n",
    "\n",
    "The information gathered from the map are part of the _conditions_ that describe a survey location in particular. When beach litter surveys are considered in terms of their shared attributes we can use very simple techniques to find correlations between the conditions and the amount of trash found. For example, we can use Spearmans ranked correlation coefficient to quickly identify topographical attributes where specfic objects tend to accumulate. We wrote an article about it:  ([Near or far](https://hammerdirt-analyst.github.io/landuse/titlepage.html)).\n",
    "\n",
    "### A unique problem and a unique solution\n",
    "\n",
    "Trash in the environment is a unique problem. In general we know how an object becomes litter: either on purpose or on accident, people create the conditions that increase the chance that an end of lifecycle object will evade the waste recovery system. Resources are employed to change the behavior of people and therefore improve the chance that an end of lifcycle object will be approriately discarded, _(need reference)_. \n",
    "\n",
    "There are public services that are dedicated to collecting inappropriately discarded items. Beach litter surveys are the observed result of the difference between the effect of the systems in place to reduce litter and the amount of litter produced. Indifferent of how that litter was produced or the measures in place to prevent it. Therefore this environmental assessment is reliant on individual observations. We can look to orntithologists and botanists for examples on how to interpret this data.\n",
    "\n",
    "```{admonition} Asessing the environment:\n",
    "\n",
    "__What and how much are the volunteers likely to find?__\n",
    "      \n",
    "_This is the most honest answer that can be derived from the data._\n",
    "```\n",
    "\n",
    "There are 336 observations from 66 locations that describe the conditions under which 73,000 items were found on the 145km shore-line of Lake Geneva. Although this is only a small portion of the lake shore, this is still a good amount of samples in a six year period. It would be difficult to find a comparable stretch of coastline anywhere in the world that has that many samples in seven years. We can use that data to form our opinion of what we might find on October 5th.\n",
    "\n",
    "```{admonition} Asessing the environment:\n",
    "\n",
    "We can not tell you how much there is. __Only how much you are likely to find.__\n",
    "      \n",
    "What the difference is between the two statements is a philosophical discussion. In reality it may be hard to make such a distinction.\n",
    "```\n",
    "\n",
    "\n",
    "### Reducing dimensionality: find the most common\n",
    "\n",
    "There are 228 different categories of objects. We are interested in what we might find and how likely we are to find it. Therefore we limit the search to items that were previously identified in at least 50% of the surveys AND/OR objects that are distinctive (easy to identify). This accounts for 74% of all objects previously recorded."
   ]
  },
  {
   "cell_type": "code",
   "execution_count": 3,
   "metadata": {
    "editable": true,
    "pycharm": {
     "name": "#%%\n"
    },
    "slideshow": {
     "slide_type": ""
    },
    "tags": [
     "remove-input"
    ]
   },
   "outputs": [],
   "source": [
    "def prior_distributions(prior_data: pd.DataFrame = None, start: str = None, end: str = None,\n",
    "                        xrange: np.array = None, uninformed_prior: np.array = None):\n",
    "    data_args = {\n",
    "        'start':start,\n",
    "        'end':end,\n",
    "        'data': prior_data,\n",
    "    }\n",
    "    prior_pcs = period_pieces(*data_args.values())         \n",
    "\n",
    "    # get n and k for the prior data\n",
    "    prior_k, prior_notk, prior_k_n_minus_k = period_k_and_n(prior_pcs, xrange)\n",
    "   \n",
    "    # make the likelihood parameters\n",
    "    lhx = list(zip(prior_k, prior_notk))\n",
    "\n",
    "    # make the prior distribution\n",
    "    p_ui, prior_bmean = make_expected(lhx, uninformed_prior, xrange)\n",
    "\n",
    "    # the uninformed beta approximation of the prior data\n",
    "    prior_beta = [period_beta(x) for x in prior_k_n_minus_k]\n",
    "    p_beta= [x.mean() for x in prior_beta]\n",
    "\n",
    "    results=pd.DataFrame({\"x\":xrange, \"p\":p_ui})\n",
    "    results[\"pn\"] = results.p/results.p.sum()\n",
    "    \n",
    "    return np.array(p_ui), np.array(p_beta), prior_k_n_minus_k, results, prior_pcs\n",
    "\n",
    "def posterior_distribution(lh_data: pd.DataFrame = None, start: str = None, end: str = None,\n",
    "                           informed_prior: np.array = None, un_informed: np.array = None):\n",
    "                               \n",
    "    \n",
    "    data_args = {\n",
    "        'start': start,\n",
    "        'end':end,\n",
    "        'data': lh_data,   \n",
    "        }\n",
    "\n",
    "    period_all = period_pieces(*data_args.values())\n",
    "    \n",
    "    pall_k, pall_notk, pall_k_n_minus_k = period_k_and_n(period_all, xrange)\n",
    "    \n",
    "    lh_and_informed = np.array(pall_k_n_minus_k) + np.array(informed_prior)\n",
    "    lhx = list(zip(pall_k, pall_notk))        \n",
    "    \n",
    "    probi, probi_beta = make_expected(pall_k_n_minus_k, np.array(informed_prior), xrange)\n",
    "    grid_prox, grid_prox_beta = make_expected(pall_k_n_minus_k, un_informed, xrange)\n",
    "    \n",
    "    # beta distribution \n",
    "    pall_beta = [period_beta((x[0]+1, x[1]+1)) for x in pall_k_n_minus_k]\n",
    "    pall_bmean = [x.mean() for x in pall_beta]\n",
    "    return np.array(probi), np.array(grid_prox), pall_bmean, period_all\n",
    "                               \n",
    "def training_testing_compare(lh_pcs, pcs, post_quants, prior_quants):\n",
    "    \n",
    "    total_training = len(pcs) + len(lh_pcs)\n",
    "    prior_weight = len(pcs)/total_training\n",
    "    lh_weight = len(lh_pcs)/total_training\n",
    "\n",
    "    number_of_samples = {\"before may 2021\": len(pcs), \"after may 2021\": len(lh_pcs)}\n",
    "    weights = {\"before may 2021\":prior_weight, \"after may 2021\": lh_weight}\n",
    "    observed_median = {\"before may 2021\":np.median(pcs), \"after may 2021\": np.median(lh_pcs)}\n",
    "    observed_average = {\"before may 2021\":np.mean(pcs), \"after may 2021\": np.mean(lh_pcs)}\n",
    "    observed_25 = {\"before may 2021\": prior_quants[1], \"after may 2021\":post_quants[1]}\n",
    "    observed_75 = {\"before may 2021\": prior_quants[5], \"after may 2021\":post_quants[5]}\n",
    "    index = [\"weight all samples\", \"Number of samples\", \"Median\", \"Average\", \"25th percentile\", \"75th percentile\"]\n",
    "    components = [weights, number_of_samples, observed_median, observed_average, observed_25, observed_75]\n",
    "    unks_sum_table = pd.DataFrame(components, index=index).style.format(precision=2).set_table_styles(table_large_font)\n",
    "    styled = unks_sum_table.format(formatter=\"{:.0f}\", subset=pd.IndexSlice[['Number of samples'], :])\n",
    "    \n",
    "    return styled\n",
    "\n",
    "def predicted_summary(lh_pcs, pcs, prior_quants, median_2024):\n",
    "    \n",
    "\n",
    "    predicted = ((lh_pcs <= prior_quants[5])&(lh_pcs >= prior_quants[1])).sum()/len(lh_pcs)\n",
    "    predicted_94 = ((lh_pcs <= prior_quants[-1])&(lh_pcs >= prior_quants[0])).sum()/len(lh_pcs)\n",
    "    past_present_future = {\n",
    "        \"Median 2021\": np.median(pcs), \n",
    "        \"Median 2022\": np.median(lh_pcs), \n",
    "        \"Expected sampling median 2024\":median_2024,\n",
    "        \"% 2022 in 50% IQR  predicted\": predicted,\n",
    "        \"% 2022 in 94% IQR  predicted\": predicted_94,\n",
    "    }\n",
    "        \n",
    "    \n",
    "    ppf = pd.DataFrame(past_present_future, index=[\"pcs/m\"]).T\n",
    "\n",
    "    return ppf\n",
    "\n",
    "\n",
    "def make_results_df(prior_df, lh_c, source=None, source_norm=None):\n",
    "    \n",
    "    prior_df[source] = lh_c\n",
    "    prior_df[source_norm] = prior_df[source]/prior_df[source].sum()\n",
    "\n",
    "    return prior_df\n",
    "\n",
    "def data_profile(all_data):\n",
    "    date_min = all_data[\"date\"].min()\n",
    "    date_max = all_data[\"date\"].max()\n",
    "\n",
    "    if \"location\" in all_data.columns:\n",
    "        nlocations = all_data.location.nunique()\n",
    "    else:\n",
    "        nlocations = all_data.slug.nunique()\n",
    "    ncodes = all_data.code.nunique()\n",
    "    ncities = all_data.city.nunique()\n",
    "    quantity = all_data.quantity.sum()\n",
    "    nsamples = all_data.loc_date.nunique()\n",
    "\n",
    "    a_profile = dict(\n",
    "        start = date_min,\n",
    "        end = date_max,\n",
    "        nlocations = nlocations,\n",
    "        ncodes = ncodes,\n",
    "        ncities = ncities,\n",
    "        quantity = quantity,\n",
    "        nsamples = nsamples\n",
    "    )\n",
    "\n",
    "    return a_profile\n",
    "\n",
    "def a_fail_rate(x, total_number_of_samples):\n",
    "    return x[\"fail\"].sum()/total_number_of_samples\n",
    "\n",
    "\n",
    "def the_most_abundant(x):\n",
    "    t = x.groupby(\"code\").quantity.sum().copy()\n",
    "    t.sort_values(\"quantity\", ascending=False, inplace=True)\n",
    "    return t  "
   ]
  },
  {
   "cell_type": "code",
   "execution_count": 4,
   "metadata": {
    "editable": true,
    "pycharm": {
     "name": "#%%\n"
    },
    "slideshow": {
     "slide_type": ""
    },
    "tags": [
     "remove-input"
    ]
   },
   "outputs": [],
   "source": [
    "use_groups =  {\n",
    "    'Personal hygiene':['G95', 'G96'],\n",
    "    'Personal consumption':['G30', 'Gcaps', 'G27'],\n",
    "    'Industrial/professional': ['G67', 'G89', 'G112'],\n",
    "    'Unknown':['Gfrags', 'Gfoam'],\n",
    "    'Recreation/sports': ['G70', 'G32'],\n",
    "    \n",
    "}\n",
    "\n",
    "use_groups_i =  {\n",
    "    'G95':'Personal hygiene',\n",
    "    'G96': 'Personal hygiene',\n",
    "    'G30':'Personal consumption',\n",
    "    'Gcaps':'Personal consumption',\n",
    "    'G27':'Personal consumption',\n",
    "    'G67':'Industrial/professional',\n",
    "    'G89':'Industrial/professional',\n",
    "    'G112': 'Industrial/professional',\n",
    "    'Gfoam':'Unknown',\n",
    "    'Gfrags':'Unknown',\n",
    "    'G70':'Recreation/sports',\n",
    "    'G32':'Recreation/sports',\n",
    "}\n",
    "\n",
    "abbrev_use_g = {'Unknown':'Unk','Personal consumption':'Pc', 'Personal hygiene': 'Ph',    'Recreation/sports': 'Rc', 'Industrial/professional':'Ip'}\n",
    "toi = list(use_groups_i.keys())\n",
    "cbdi = pd.read_csv(\"resources/data/u_pstk_iqaasl_all.csv\")\n",
    "not_these = ['amphion', 'anthy', 'excenevex', 'lugrin', 'meillerie', 'saint-disdille', 'tougues']\n",
    "cbd = cbdi[~cbdi.slug.isin(not_these)]\n",
    "ssp = cbd[(cbd.city == 'Saint-Sulpice (VD)')].copy()\n",
    "ssp['quantity'] = 0\n",
    "\n",
    "ssp.to_csv('resources/data/swt_all.csv', index=False)"
   ]
  },
  {
   "cell_type": "code",
   "execution_count": 5,
   "metadata": {},
   "outputs": [
    {
     "data": {
      "text/html": [
       "<div>\n",
       "<style scoped>\n",
       "    .dataframe tbody tr th:only-of-type {\n",
       "        vertical-align: middle;\n",
       "    }\n",
       "\n",
       "    .dataframe tbody tr th {\n",
       "        vertical-align: top;\n",
       "    }\n",
       "\n",
       "    .dataframe thead th {\n",
       "        text-align: right;\n",
       "    }\n",
       "</style>\n",
       "<table border=\"1\" class=\"dataframe\">\n",
       "  <thead>\n",
       "    <tr style=\"text-align: right;\">\n",
       "      <th></th>\n",
       "      <th>loc_date</th>\n",
       "      <th>slug</th>\n",
       "      <th>city</th>\n",
       "      <th>water_name_slug</th>\n",
       "      <th>date</th>\n",
       "      <th>doy</th>\n",
       "      <th>Project</th>\n",
       "      <th>code</th>\n",
       "      <th>pcs/m</th>\n",
       "      <th>quantity</th>\n",
       "    </tr>\n",
       "  </thead>\n",
       "  <tbody>\n",
       "    <tr>\n",
       "      <th>29392</th>\n",
       "      <td>('parc-des-pierrettes', '2016-10-13')</td>\n",
       "      <td>parc-des-pierrettes</td>\n",
       "      <td>Saint-Sulpice (VD)</td>\n",
       "      <td>lac-leman</td>\n",
       "      <td>2016-10-13</td>\n",
       "      <td>287</td>\n",
       "      <td>Training</td>\n",
       "      <td>G1</td>\n",
       "      <td>0.00</td>\n",
       "      <td>0</td>\n",
       "    </tr>\n",
       "    <tr>\n",
       "      <th>29393</th>\n",
       "      <td>('parc-des-pierrettes', '2016-10-13')</td>\n",
       "      <td>parc-des-pierrettes</td>\n",
       "      <td>Saint-Sulpice (VD)</td>\n",
       "      <td>lac-leman</td>\n",
       "      <td>2016-10-13</td>\n",
       "      <td>287</td>\n",
       "      <td>Training</td>\n",
       "      <td>G10</td>\n",
       "      <td>0.02</td>\n",
       "      <td>0</td>\n",
       "    </tr>\n",
       "    <tr>\n",
       "      <th>29394</th>\n",
       "      <td>('parc-des-pierrettes', '2016-10-13')</td>\n",
       "      <td>parc-des-pierrettes</td>\n",
       "      <td>Saint-Sulpice (VD)</td>\n",
       "      <td>lac-leman</td>\n",
       "      <td>2016-10-13</td>\n",
       "      <td>287</td>\n",
       "      <td>Training</td>\n",
       "      <td>G100</td>\n",
       "      <td>0.79</td>\n",
       "      <td>0</td>\n",
       "    </tr>\n",
       "    <tr>\n",
       "      <th>29395</th>\n",
       "      <td>('parc-des-pierrettes', '2016-10-13')</td>\n",
       "      <td>parc-des-pierrettes</td>\n",
       "      <td>Saint-Sulpice (VD)</td>\n",
       "      <td>lac-leman</td>\n",
       "      <td>2016-10-13</td>\n",
       "      <td>287</td>\n",
       "      <td>Training</td>\n",
       "      <td>G101</td>\n",
       "      <td>0.00</td>\n",
       "      <td>0</td>\n",
       "    </tr>\n",
       "    <tr>\n",
       "      <th>29396</th>\n",
       "      <td>('parc-des-pierrettes', '2016-10-13')</td>\n",
       "      <td>parc-des-pierrettes</td>\n",
       "      <td>Saint-Sulpice (VD)</td>\n",
       "      <td>lac-leman</td>\n",
       "      <td>2016-10-13</td>\n",
       "      <td>287</td>\n",
       "      <td>Training</td>\n",
       "      <td>G102</td>\n",
       "      <td>0.00</td>\n",
       "      <td>0</td>\n",
       "    </tr>\n",
       "  </tbody>\n",
       "</table>\n",
       "</div>"
      ],
      "text/plain": [
       "                                    loc_date                 slug  \\\n",
       "29392  ('parc-des-pierrettes', '2016-10-13')  parc-des-pierrettes   \n",
       "29393  ('parc-des-pierrettes', '2016-10-13')  parc-des-pierrettes   \n",
       "29394  ('parc-des-pierrettes', '2016-10-13')  parc-des-pierrettes   \n",
       "29395  ('parc-des-pierrettes', '2016-10-13')  parc-des-pierrettes   \n",
       "29396  ('parc-des-pierrettes', '2016-10-13')  parc-des-pierrettes   \n",
       "\n",
       "                     city water_name_slug        date  doy   Project  code  \\\n",
       "29392  Saint-Sulpice (VD)       lac-leman  2016-10-13  287  Training    G1   \n",
       "29393  Saint-Sulpice (VD)       lac-leman  2016-10-13  287  Training   G10   \n",
       "29394  Saint-Sulpice (VD)       lac-leman  2016-10-13  287  Training  G100   \n",
       "29395  Saint-Sulpice (VD)       lac-leman  2016-10-13  287  Training  G101   \n",
       "29396  Saint-Sulpice (VD)       lac-leman  2016-10-13  287  Training  G102   \n",
       "\n",
       "       pcs/m  quantity  \n",
       "29392   0.00         0  \n",
       "29393   0.02         0  \n",
       "29394   0.79         0  \n",
       "29395   0.00         0  \n",
       "29396   0.00         0  "
      ]
     },
     "execution_count": 5,
     "metadata": {},
     "output_type": "execute_result"
    }
   ],
   "source": [
    "ssp.head()"
   ]
  },
  {
   "cell_type": "code",
   "execution_count": 6,
   "metadata": {
    "editable": true,
    "pycharm": {
     "name": "#%%\n"
    },
    "slideshow": {
     "slide_type": ""
    },
    "tags": [
     "remove-input"
    ]
   },
   "outputs": [
    {
     "data": {
      "text/html": [
       "<style type=\"text/css\">\n",
       "#T_556fc tr:nth-child(even) {\n",
       "  background-color: rgba(139, 69, 19, 0.08);\n",
       "}\n",
       "#T_556fc tr:nth-child(odd) {\n",
       "  background: #FFF;\n",
       "}\n",
       "#T_556fc tr {\n",
       "  font-size: 14px;\n",
       "  padding: 12px;\n",
       "}\n",
       "#T_556fc th:nth-child(1) {\n",
       "  background-color: #FFF;\n",
       "  text-align: right;\n",
       "}\n",
       "#T_556fc caption {\n",
       "  font-size: 14px;\n",
       "  font-style: italic;\n",
       "  caption-side: bottom;\n",
       "  text-align: left;\n",
       "  margin-top: 10px;\n",
       "}\n",
       "</style>\n",
       "<table id=\"T_556fc\">\n",
       "  <caption>Table 1: The objects of interest. The average pcs/m per sample for each object. The fail rate is the % of all samples that the object appeared in.</caption>\n",
       "  <thead>\n",
       "    <tr>\n",
       "      <th class=\"blank\" >&nbsp;</th>\n",
       "      <th class=\"blank level0\" >&nbsp;</th>\n",
       "      <th id=\"T_556fc_level0_col0\" class=\"col_heading level0 col0\" >pcs/m</th>\n",
       "      <th id=\"T_556fc_level0_col1\" class=\"col_heading level0 col1\" >quantity</th>\n",
       "      <th id=\"T_556fc_level0_col2\" class=\"col_heading level0 col2\" >fail rate</th>\n",
       "      <th id=\"T_556fc_level0_col3\" class=\"col_heading level0 col3\" >% of total</th>\n",
       "    </tr>\n",
       "    <tr>\n",
       "      <th class=\"index_name level0\" >code</th>\n",
       "      <th class=\"index_name level1\" >object</th>\n",
       "      <th class=\"blank col0\" >&nbsp;</th>\n",
       "      <th class=\"blank col1\" >&nbsp;</th>\n",
       "      <th class=\"blank col2\" >&nbsp;</th>\n",
       "      <th class=\"blank col3\" >&nbsp;</th>\n",
       "    </tr>\n",
       "  </thead>\n",
       "  <tbody>\n",
       "    <tr>\n",
       "      <th id=\"T_556fc_level0_row0\" class=\"row_heading level0 row0\" >G112</th>\n",
       "      <th id=\"T_556fc_level1_row0\" class=\"row_heading level1 row0\" >Industrial pellets (nurdles)</th>\n",
       "      <td id=\"T_556fc_row0_col0\" class=\"data row0 col0\" >0.16</td>\n",
       "      <td id=\"T_556fc_row0_col1\" class=\"data row0 col1\" >2686</td>\n",
       "      <td id=\"T_556fc_row0_col2\" class=\"data row0 col2\" >0.22</td>\n",
       "      <td id=\"T_556fc_row0_col3\" class=\"data row0 col3\" >0.02</td>\n",
       "    </tr>\n",
       "    <tr>\n",
       "      <th id=\"T_556fc_level0_row1\" class=\"row_heading level0 row1\" >G27</th>\n",
       "      <th id=\"T_556fc_level1_row1\" class=\"row_heading level1 row1\" >Cigarette filters</th>\n",
       "      <td id=\"T_556fc_row1_col0\" class=\"data row1 col0\" >1.12</td>\n",
       "      <td id=\"T_556fc_row1_col1\" class=\"data row1 col1\" >16458</td>\n",
       "      <td id=\"T_556fc_row1_col2\" class=\"data row1 col2\" >0.85</td>\n",
       "      <td id=\"T_556fc_row1_col3\" class=\"data row1 col3\" >0.15</td>\n",
       "    </tr>\n",
       "    <tr>\n",
       "      <th id=\"T_556fc_level0_row2\" class=\"row_heading level0 row2\" >G30</th>\n",
       "      <th id=\"T_556fc_level1_row2\" class=\"row_heading level1 row2\" >Food wrappers; candy, snacks</th>\n",
       "      <td id=\"T_556fc_row2_col0\" class=\"data row2 col0\" >0.54</td>\n",
       "      <td id=\"T_556fc_row2_col1\" class=\"data row2 col1\" >6767</td>\n",
       "      <td id=\"T_556fc_row2_col2\" class=\"data row2 col2\" >0.86</td>\n",
       "      <td id=\"T_556fc_row2_col3\" class=\"data row2 col3\" >0.06</td>\n",
       "    </tr>\n",
       "    <tr>\n",
       "      <th id=\"T_556fc_level0_row3\" class=\"row_heading level0 row3\" >G32</th>\n",
       "      <th id=\"T_556fc_level1_row3\" class=\"row_heading level1 row3\" >Toys and party favors</th>\n",
       "      <td id=\"T_556fc_row3_col0\" class=\"data row3 col0\" >0.05</td>\n",
       "      <td id=\"T_556fc_row3_col1\" class=\"data row3 col1\" >606</td>\n",
       "      <td id=\"T_556fc_row3_col2\" class=\"data row3 col2\" >0.48</td>\n",
       "      <td id=\"T_556fc_row3_col3\" class=\"data row3 col3\" >0.01</td>\n",
       "    </tr>\n",
       "    <tr>\n",
       "      <th id=\"T_556fc_level0_row4\" class=\"row_heading level0 row4\" >G67</th>\n",
       "      <th id=\"T_556fc_level1_row4\" class=\"row_heading level1 row4\" >Industrial sheeting</th>\n",
       "      <td id=\"T_556fc_row4_col0\" class=\"data row4 col0\" >0.30</td>\n",
       "      <td id=\"T_556fc_row4_col1\" class=\"data row4 col1\" >3356</td>\n",
       "      <td id=\"T_556fc_row4_col2\" class=\"data row4 col2\" >0.57</td>\n",
       "      <td id=\"T_556fc_row4_col3\" class=\"data row4 col3\" >0.03</td>\n",
       "    </tr>\n",
       "    <tr>\n",
       "      <th id=\"T_556fc_level0_row5\" class=\"row_heading level0 row5\" >G70</th>\n",
       "      <th id=\"T_556fc_level1_row5\" class=\"row_heading level1 row5\" >Shotgun cartridges</th>\n",
       "      <td id=\"T_556fc_row5_col0\" class=\"data row5 col0\" >0.08</td>\n",
       "      <td id=\"T_556fc_row5_col1\" class=\"data row5 col1\" >1030</td>\n",
       "      <td id=\"T_556fc_row5_col2\" class=\"data row5 col2\" >0.48</td>\n",
       "      <td id=\"T_556fc_row5_col3\" class=\"data row5 col3\" >0.01</td>\n",
       "    </tr>\n",
       "    <tr>\n",
       "      <th id=\"T_556fc_level0_row6\" class=\"row_heading level0 row6\" >G89</th>\n",
       "      <th id=\"T_556fc_level1_row6\" class=\"row_heading level1 row6\" >Plastic construction waste</th>\n",
       "      <td id=\"T_556fc_row6_col0\" class=\"data row6 col0\" >0.14</td>\n",
       "      <td id=\"T_556fc_row6_col1\" class=\"data row6 col1\" >1970</td>\n",
       "      <td id=\"T_556fc_row6_col2\" class=\"data row6 col2\" >0.51</td>\n",
       "      <td id=\"T_556fc_row6_col3\" class=\"data row6 col3\" >0.02</td>\n",
       "    </tr>\n",
       "    <tr>\n",
       "      <th id=\"T_556fc_level0_row7\" class=\"row_heading level0 row7\" >G95</th>\n",
       "      <th id=\"T_556fc_level1_row7\" class=\"row_heading level1 row7\" >Cotton bud/swab sticks</th>\n",
       "      <td id=\"T_556fc_row7_col0\" class=\"data row7 col0\" >0.39</td>\n",
       "      <td id=\"T_556fc_row7_col1\" class=\"data row7 col1\" >4777</td>\n",
       "      <td id=\"T_556fc_row7_col2\" class=\"data row7 col2\" >0.74</td>\n",
       "      <td id=\"T_556fc_row7_col3\" class=\"data row7 col3\" >0.04</td>\n",
       "    </tr>\n",
       "    <tr>\n",
       "      <th id=\"T_556fc_level0_row8\" class=\"row_heading level0 row8\" >G96</th>\n",
       "      <th id=\"T_556fc_level1_row8\" class=\"row_heading level1 row8\" >Sanitary pads /panty liners/tampons and applicators</th>\n",
       "      <td id=\"T_556fc_row8_col0\" class=\"data row8 col0\" >0.04</td>\n",
       "      <td id=\"T_556fc_row8_col1\" class=\"data row8 col1\" >373</td>\n",
       "      <td id=\"T_556fc_row8_col2\" class=\"data row8 col2\" >0.29</td>\n",
       "      <td id=\"T_556fc_row8_col3\" class=\"data row8 col3\" >0.00</td>\n",
       "    </tr>\n",
       "    <tr>\n",
       "      <th id=\"T_556fc_level0_row9\" class=\"row_heading level0 row9\" >Gcaps</th>\n",
       "      <th id=\"T_556fc_level1_row9\" class=\"row_heading level1 row9\" >Plastic bottle lids</th>\n",
       "      <td id=\"T_556fc_row9_col0\" class=\"data row9 col0\" >0.31</td>\n",
       "      <td id=\"T_556fc_row9_col1\" class=\"data row9 col1\" >3953</td>\n",
       "      <td id=\"T_556fc_row9_col2\" class=\"data row9 col2\" >0.84</td>\n",
       "      <td id=\"T_556fc_row9_col3\" class=\"data row9 col3\" >0.04</td>\n",
       "    </tr>\n",
       "    <tr>\n",
       "      <th id=\"T_556fc_level0_row10\" class=\"row_heading level0 row10\" >Gfoam</th>\n",
       "      <th id=\"T_556fc_level1_row10\" class=\"row_heading level1 row10\" >Expanded polystyrene</th>\n",
       "      <td id=\"T_556fc_row10_col0\" class=\"data row10 col0\" >1.02</td>\n",
       "      <td id=\"T_556fc_row10_col1\" class=\"data row10 col1\" >12871</td>\n",
       "      <td id=\"T_556fc_row10_col2\" class=\"data row10 col2\" >0.81</td>\n",
       "      <td id=\"T_556fc_row10_col3\" class=\"data row10 col3\" >0.12</td>\n",
       "    </tr>\n",
       "    <tr>\n",
       "      <th id=\"T_556fc_level0_row11\" class=\"row_heading level0 row11\" >Gfrags</th>\n",
       "      <th id=\"T_556fc_level1_row11\" class=\"row_heading level1 row11\" >Fragmented plastics</th>\n",
       "      <td id=\"T_556fc_row11_col0\" class=\"data row11 col0\" >1.34</td>\n",
       "      <td id=\"T_556fc_row11_col1\" class=\"data row11 col1\" >17479</td>\n",
       "      <td id=\"T_556fc_row11_col2\" class=\"data row11 col2\" >0.93</td>\n",
       "      <td id=\"T_556fc_row11_col3\" class=\"data row11 col3\" >0.16</td>\n",
       "    </tr>\n",
       "  </tbody>\n",
       "</table>\n"
      ],
      "text/plain": [
       "<pandas.io.formats.style.Styler at 0x7c6c3ed037f0>"
      ]
     },
     "execution_count": 6,
     "metadata": {},
     "output_type": "execute_result"
    }
   ],
   "source": [
    "\n",
    "cbd = cbd[cbd.code.isin(toi)].copy()\n",
    "cbd[\"fail\"] = cbd.quantity > 0\n",
    "\n",
    "\n",
    "cbd.loc[cbd.Project == \"Testing\", \"Project\"] = \"after may 2021\"\n",
    "cbd.loc[cbd.Project == \"Training\", \"Project\"] = \"before may 2021\"\n",
    "\n",
    "column_names_groups = {v:k for k,v in abbrev_use_g.items()}\n",
    "code_groups = list(column_names_groups.keys())\n",
    "\n",
    "cois = cities_of_interest = ['Saint-Sulpice (VD)', 'Saint Gingolph', 'Genéve', 'Cully', 'Vevey']\n",
    "\n",
    "some_quants = [.03, .25, .48, .5, .52, .75, .97]\n",
    "end_training_date = \"2021-05-31\"\n",
    "begin_training_date = \"2015-11-15\"\n",
    "codes_of_interest = cbd.groupby([\"code\"], as_index=False).agg({\"quantity\":\"sum\", \"pcs/m\":\"mean\", \"fail\": \"sum\"})\n",
    "codes_of_interest[\"fail rate\"] = (codes_of_interest.fail/cbd.loc_date.nunique()).round(2)\n",
    "code_d = dfCodes[\"description\"]\n",
    "codes_of_interest[\"object\"] = codes_of_interest.code.apply(lambda x: code_d.loc[x])\n",
    "codes_of_interest = codes_of_interest[[\"code\", \"object\", \"pcs/m\", \"quantity\", \"fail rate\"]]\n",
    "codes_of_interest.set_index([\"code\", \"object\"], inplace=True, drop=True)\n",
    "codes_of_interest[\"quantity\"] = codes_of_interest.quantity.astype(\"int\")\n",
    "codes_of_interest[\"% of total\"] = (codes_of_interest.quantity/cbdi.quantity.sum()).round(2)\n",
    "codes_of_interest.index.name = None\n",
    "caption = \"Table 1: The objects of interest. The average pcs/m per sample for each object. The fail rate is the % of all samples that the object appeared in.\" \n",
    "codes_of_interest.style.format(precision=2).set_table_styles(table_large_font).set_caption(caption)"
   ]
  },
  {
   "cell_type": "markdown",
   "metadata": {
    "editable": true,
    "pycharm": {
     "name": "#%% md\n"
    },
    "slideshow": {
     "slide_type": ""
    },
    "tags": []
   },
   "source": [
    "### Assessing the environment\n",
    "\n",
    "{Download}`Download the form </resources/figures/survey_estimates.pdf>`\n",
    "\n",
    "The goal for todays excercise in 2023 is to determine how well our previous experiences inform us about the present. This is a simple process. There are four steps:\n",
    "\n",
    "1. Start with your current understanding of the problem, consult the data here and form an opinion of how many of each item in the previous section you might find in 100 meters of shoreline. For example your might think 200 cigarette ends per 100m is a likely amount.\n",
    "2. Use the provided form and note your estimate for each item in red ink. Put your name on the form and the name of the beach.\n",
    "3. At the end of the litter survey note what you found for each item.\n",
    "\n",
    "After the survey we will compare what we found to what we though we might find and the predicted amount using the model that was explained in the previous section. \n",
    "\n",
    "### Semester project\n",
    "\n",
    "The semester project (if you choose to do it) is about documenting the process of updating the models and accessing data. It could be a narrated screencast. Something that next years class will consult. For those who are interested in data-science or application development we would be using python, R, Git and Annaconda.\n",
    "\n",
    "Specifically we would be adding survey results from this years experience:\n",
    "1. The results for Gfoams\n",
    "2. The reults for Plage de Pélican\n",
    "\n",
    "However, if you have done a data-science course or if you have some experience with application development you might find this an easy project that will allow you to demonstrate those skills and some creativity. Those that know how to use Git and Annaconda will find this fairly easy."
   ]
  },
  {
   "cell_type": "markdown",
   "metadata": {
    "editable": true,
    "pycharm": {
     "name": "#%% md\n"
    },
    "slideshow": {
     "slide_type": ""
    },
    "tags": []
   },
   "source": [
    "(data-context)=\n",
    "## Summary of previous results\n",
    "\n",
    "__Lake Geneva sample totals__\n",
    "\n",
    "The total pcs/m for all surveys is given in figure 1 and figure 2. Samples after May 2021 are considered separately, this is a new six year sampling period for the lake.  The distribution of the sample totals is given in table 2."
   ]
  },
  {
   "cell_type": "markdown",
   "metadata": {
    "collapsed": false,
    "jupyter": {
     "outputs_hidden": false
    },
    "pycharm": {
     "name": "#%% md\n"
    }
   },
   "source": [
    "```{figure} resources/figures/lac-leman_city_labels.jpeg\n",
    "---\n",
    "name: lac_leman_cities\n",
    "---\n",
    "Previous survey results from Lake Geneva\n",
    "```"
   ]
  },
  {
   "cell_type": "code",
   "execution_count": 7,
   "metadata": {
    "collapsed": false,
    "editable": true,
    "jupyter": {
     "outputs_hidden": false
    },
    "pycharm": {
     "name": "#%%\n"
    },
    "slideshow": {
     "slide_type": ""
    },
    "tags": [
     "remove-input"
    ]
   },
   "outputs": [
    {
     "data": {
      "application/papermill.record/text/html": "<style type=\"text/css\">\n#T_540d8 tr:nth-child(even) {\n  background-color: rgba(139, 69, 19, 0.08);\n}\n#T_540d8 tr:nth-child(odd) {\n  background: #FFF;\n}\n#T_540d8 tr {\n  font-size: 14px;\n  padding: 12px;\n}\n#T_540d8 th:nth-child(1) {\n  background-color: #FFF;\n  text-align: right;\n}\n#T_540d8 caption {\n  font-size: 14px;\n  font-style: italic;\n  caption-side: bottom;\n  text-align: left;\n  margin-top: 10px;\n}\n</style>\n<table id=\"T_540d8\">\n  <caption>The number of different locations and cities for the data. Note that there are 31 different municipalitites in all.</caption>\n  <thead>\n    <tr>\n      <th class=\"blank level0\" >&nbsp;</th>\n      <th id=\"T_540d8_level0_col0\" class=\"col_heading level0 col0\" >before may 2021</th>\n      <th id=\"T_540d8_level0_col1\" class=\"col_heading level0 col1\" >after may 2021</th>\n    </tr>\n  </thead>\n  <tbody>\n    <tr>\n      <th id=\"T_540d8_level0_row0\" class=\"row_heading level0 row0\" >Number of cities</th>\n      <td id=\"T_540d8_row0_col0\" class=\"data row0 col0\" >21</td>\n      <td id=\"T_540d8_row0_col1\" class=\"data row0 col1\" >19</td>\n    </tr>\n    <tr>\n      <th id=\"T_540d8_level0_row1\" class=\"row_heading level0 row1\" >Number of locations</th>\n      <td id=\"T_540d8_row1_col0\" class=\"data row1 col0\" >48</td>\n      <td id=\"T_540d8_row1_col1\" class=\"data row1 col1\" >23</td>\n    </tr>\n    <tr>\n      <th id=\"T_540d8_level0_row2\" class=\"row_heading level0 row2\" >Total objects</th>\n      <td id=\"T_540d8_row2_col0\" class=\"data row2 col0\" >57,623</td>\n      <td id=\"T_540d8_row2_col1\" class=\"data row2 col1\" >14,703</td>\n    </tr>\n  </tbody>\n</table>\n",
      "application/papermill.record/text/plain": "<pandas.io.formats.style.Styler at 0x7c6c3ec92fa0>"
     },
     "metadata": {
      "scrapbook": {
       "mime_prefix": "application/papermill.record/",
       "name": "data-summ-q3"
      }
     },
     "output_type": "display_data"
    }
   ],
   "source": [
    "summ_data = cbd.copy()\n",
    "\n",
    "summ_data[\"use group\"] = summ_data.code.map(lambda x: use_groups_i[x])\n",
    "\n",
    "summ_data[\"ug\"] = summ_data[\"use group\"].apply(lambda x: abbrev_use_g[x])\n",
    "summ_data[summ_data[\"use group\"] == 'Personal consumption'].code.unique()\n",
    "summ_data[\"date\"] = pd.to_datetime(summ_data[\"date\"], format=\"%Y-%m-%d\")\n",
    "\n",
    "sd_x = summ_data.groupby([\"loc_date\", \"date\", \"city\", \"Project\", \"doy\"], as_index=False).agg({\"pcs/m\": 'sum', 'quantity':'sum'})\n",
    "sd_x_sp = sd_x[sd_x.city == 'Saint-Sulpice (VD)'].groupby([\"loc_date\", \"date\", \"city\", \"Project\", \"doy\"], as_index=False).agg({\"pcs/m\": 'sum', 'quantity':'sum'})\n",
    "\n",
    "trg = summ_data[summ_data.Project == \"before may 2021\"].copy()\n",
    "tst = summ_data[summ_data.Project == \"after may 2021\"].copy()\n",
    "trg_c, tst_c = trg.city.nunique(), tst.city.nunique()\n",
    "trg_lc, tst_lc = trg.slug.nunique(), tst.slug.nunique()\n",
    "trg_q, tst_q = trg.quantity.sum(), tst.quantity.sum()\n",
    "\n",
    "data_magnitude = [\n",
    "    {\"before may 2021\":trg_c, \"after may 2021\":tst_c},\n",
    "    {\"before may 2021\":trg_lc, \"after may 2021\":tst_lc},\n",
    "    {\"before may 2021\":trg_q, \"after may 2021\":tst_q}\n",
    "    \n",
    "]\n",
    "\n",
    "cities_set = list(set([*trg.city.unique(), *tst.city.unique()]))\n",
    "n_ind_cities = len(cities_set)\n",
    "\n",
    "caption = f'The number of different locations and cities for the data. Note that there are {n_ind_cities} different municipalitites in all.'\n",
    "\n",
    "data_summ_q = pd.DataFrame(data_magnitude, index=[\"Number of cities\", \"Number of locations\", \"Total objects\"]).astype('int')\n",
    "data_summ_q = data_summ_q.style.format(formatter=\"{:,}\").set_table_styles(table_large_font).set_caption(caption)\n",
    "styled = data_summ_q.format(formatter=\"{:,}\", subset=pd.IndexSlice[['Total objects'], :])\n",
    "glue(\"data-summ-q3\", styled, display=False)"
   ]
  },
  {
   "cell_type": "code",
   "execution_count": 8,
   "metadata": {
    "collapsed": false,
    "editable": true,
    "jupyter": {
     "outputs_hidden": false
    },
    "pycharm": {
     "name": "#%%\n"
    },
    "slideshow": {
     "slide_type": ""
    },
    "tags": [
     "remove-input"
    ]
   },
   "outputs": [
    {
     "data": {
      "application/papermill.record/image/png": "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",
      "application/papermill.record/text/plain": "<Figure size 600x500 with 1 Axes>"
     },
     "metadata": {
      "scrapbook": {
       "mime_prefix": "application/papermill.record/",
       "name": "testing_training_chrono_2"
      }
     },
     "output_type": "display_data"
    }
   ],
   "source": [
    "# all the data by date\n",
    "the_99th_percentile = np.quantile(sd_x['pcs/m'].values, .99)\n",
    "px = 1/plt.rcParams['figure.dpi']  # pixel in inches\n",
    "fig, ax = plt.subplots(figsize=(600*px,500*px))\n",
    "\n",
    "sns.scatterplot(data=sd_x, x='date', y='pcs/m',ax=ax, color=\"dodgerblue\", alpha=0.6,label=\"lac léman\")\n",
    "sns.scatterplot(data=sd_x_sp, x='date', y='pcs/m', color=\"magenta\", label=\"solid-waste-team\", ax=ax)\n",
    "\n",
    "ax.set_ylim(-1, the_99th_percentile)\n",
    "ax.legend(loc=\"upper left\")\n",
    "ax.set_xlabel(\"\")\n",
    "glue(\"testing_training_chrono_2\", fig, display=False)\n",
    "plt.close()"
   ]
  },
  {
   "cell_type": "code",
   "execution_count": 9,
   "metadata": {
    "collapsed": false,
    "editable": true,
    "jupyter": {
     "outputs_hidden": false
    },
    "pycharm": {
     "name": "#%%\n"
    },
    "slideshow": {
     "slide_type": ""
    },
    "tags": [
     "remove-input"
    ]
   },
   "outputs": [
    {
     "data": {
      "application/papermill.record/image/png": "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",
      "application/papermill.record/text/plain": "<Figure size 600x500 with 1 Axes>"
     },
     "metadata": {
      "scrapbook": {
       "mime_prefix": "application/papermill.record/",
       "name": "testing_training_doy_2"
      }
     },
     "output_type": "display_data"
    }
   ],
   "source": [
    "# all the data day of year\n",
    "fig, ax = plt.subplots(figsize=(600*px, 500*px))\n",
    "\n",
    "sns.scatterplot(data=sd_x, x='doy', y='pcs/m', ax=ax, color=\"dodgerblue\", alpha=0.6,label=\"lac léman\")\n",
    "sns.scatterplot(data=sd_x_sp, x='doy', y='pcs/m', color=\"magenta\", label=\"solid-waste-team\", ax=ax)\n",
    "ax.set_ylim(-1, the_99th_percentile)\n",
    "ax.set_xlabel(\"Day of the year\")\n",
    "glue('testing_training_doy_2', fig, display=False)\n",
    "plt.close()"
   ]
  },
  {
   "cell_type": "code",
   "execution_count": 10,
   "metadata": {
    "collapsed": false,
    "editable": true,
    "jupyter": {
     "outputs_hidden": false
    },
    "pycharm": {
     "name": "#%%\n"
    },
    "slideshow": {
     "slide_type": ""
    },
    "tags": [
     "remove-input"
    ]
   },
   "outputs": [
    {
     "data": {
      "application/papermill.record/text/html": "<style type=\"text/css\">\n#T_59f14 tr:nth-child(even) {\n  background-color: rgba(139, 69, 19, 0.08);\n}\n#T_59f14 tr:nth-child(odd) {\n  background: #FFF;\n}\n#T_59f14 tr {\n  font-size: 14px;\n  padding: 12px;\n}\n#T_59f14 th:nth-child(1) {\n  background-color: #FFF;\n  text-align: right;\n}\n#T_59f14 caption {\n  font-size: 14px;\n  font-style: italic;\n  caption-side: bottom;\n  text-align: left;\n  margin-top: 10px;\n}\n</style>\n<table id=\"T_59f14\">\n  <caption>The observed values from the training and testing data. Remark that the testing data is only 22% of all the data. This is because we are only in the first year of a six year sampling period</caption>\n  <thead>\n    <tr>\n      <th class=\"blank level0\" >&nbsp;</th>\n      <th id=\"T_59f14_level0_col0\" class=\"col_heading level0 col0\" >before may 2021</th>\n      <th id=\"T_59f14_level0_col1\" class=\"col_heading level0 col1\" >after may 2021</th>\n    </tr>\n  </thead>\n  <tbody>\n    <tr>\n      <th id=\"T_59f14_level0_row0\" class=\"row_heading level0 row0\" >weight all samples</th>\n      <td id=\"T_59f14_row0_col0\" class=\"data row0 col0\" >0.78</td>\n      <td id=\"T_59f14_row0_col1\" class=\"data row0 col1\" >0.22</td>\n    </tr>\n    <tr>\n      <th id=\"T_59f14_level0_row1\" class=\"row_heading level0 row1\" >Number of samples</th>\n      <td id=\"T_59f14_row1_col0\" class=\"data row1 col0\" >263</td>\n      <td id=\"T_59f14_row1_col1\" class=\"data row1 col1\" >73</td>\n    </tr>\n    <tr>\n      <th id=\"T_59f14_level0_row2\" class=\"row_heading level0 row2\" >Median</th>\n      <td id=\"T_59f14_row2_col0\" class=\"data row2 col0\" >3.47</td>\n      <td id=\"T_59f14_row2_col1\" class=\"data row2 col1\" >2.28</td>\n    </tr>\n    <tr>\n      <th id=\"T_59f14_level0_row3\" class=\"row_heading level0 row3\" >Average</th>\n      <td id=\"T_59f14_row3_col0\" class=\"data row3 col0\" >6.13</td>\n      <td id=\"T_59f14_row3_col1\" class=\"data row3 col1\" >3.25</td>\n    </tr>\n    <tr>\n      <th id=\"T_59f14_level0_row4\" class=\"row_heading level0 row4\" >25th percentile</th>\n      <td id=\"T_59f14_row4_col0\" class=\"data row4 col0\" >1.52</td>\n      <td id=\"T_59f14_row4_col1\" class=\"data row4 col1\" >0.78</td>\n    </tr>\n    <tr>\n      <th id=\"T_59f14_level0_row5\" class=\"row_heading level0 row5\" >75th percentile</th>\n      <td id=\"T_59f14_row5_col0\" class=\"data row5 col0\" >6.69</td>\n      <td id=\"T_59f14_row5_col1\" class=\"data row5 col1\" >4.31</td>\n    </tr>\n  </tbody>\n</table>\n",
      "application/papermill.record/text/plain": "<pandas.io.formats.style.Styler at 0x7c6bfdf61a00>"
     },
     "metadata": {
      "scrapbook": {
       "mime_prefix": "application/papermill.record/",
       "name": "data-summary_2"
      }
     },
     "output_type": "display_data"
    }
   ],
   "source": [
    "testing_vals= sd_x[sd_x.Project == \"after may 2021\"]['pcs/m'].values\n",
    "training_vals = sd_x[sd_x.Project == \"before may 2021\"]['pcs/m'].values\n",
    "\n",
    "\n",
    "train_quantiles = np.quantile(training_vals, some_quants)\n",
    "test_quantiles = np.quantile(testing_vals, some_quants)\n",
    "\n",
    "training_testing_summary = training_testing_compare(testing_vals, training_vals, test_quantiles, train_quantiles)\n",
    "caption = \"The observed values from the training and testing data. Remark that the testing data is only 22% of all the data. This is because we are only in the first year of a six year sampling period\"\n",
    "sum_table = training_testing_summary.set_caption(caption)\n",
    "sum_table.format(formatter=\"{:.0f}\", subset=pd.IndexSlice[['Number of samples'], :])\n",
    "glue(\"data-summary_2\", sum_table, display=False)"
   ]
  },
  {
   "cell_type": "markdown",
   "metadata": {
    "collapsed": false,
    "editable": true,
    "jupyter": {
     "outputs_hidden": false
    },
    "pycharm": {
     "name": "#%% md\n"
    },
    "slideshow": {
     "slide_type": ""
    },
    "tags": []
   },
   "source": [
    "|Figure 1, Table 2 | Table 3, Figure 2|\n",
    "|:-----------------------:|:---------------------:|\n",
    "|{glue:}`testing_training_chrono_2` |{glue}`data-summary_2`|\n",
    "|{glue:}`data-summ-q3`|{glue}`testing_training_doy_2`|"
   ]
  },
  {
   "cell_type": "code",
   "execution_count": 11,
   "metadata": {
    "collapsed": false,
    "editable": true,
    "jupyter": {
     "outputs_hidden": false
    },
    "pycharm": {
     "name": "#%%\n"
    },
    "slideshow": {
     "slide_type": ""
    },
    "tags": [
     "remove-input"
    ]
   },
   "outputs": [],
   "source": [
    "def sampler_from_multinomial(normed, xrange, nsamples):\n",
    "    \n",
    "    choose = np.random.default_rng()\n",
    "    nunique = np.unique(normed)\n",
    "    norm_nunique = nunique/np.sum(nunique)\n",
    "    found = choose.multinomial(1, pvals=norm_nunique, size=nsamples)\n",
    "    ft = found.sum(axis=0)\n",
    "    samples = []\n",
    "    for i, asum in enumerate(ft):\n",
    "        if asum == 0:\n",
    "            samples += [0]\n",
    "        else:\n",
    "            choices = np.where(normed == nunique[i])\n",
    "            samps = choose.choice(choices[0], size=asum)\n",
    "            samples.extend(xrange[samps])\n",
    "\n",
    "    return samples, nunique, norm_nunique, ft\n",
    "\n",
    "def period_pieces(start, end, data):\n",
    "    # the results in pieces per meter for one code from a subset of data\n",
    "    date_mask = (data[\"date\"] >= start) & (data[\"date\"] <= end)\n",
    "    period_one = data[date_mask]\n",
    "    pone_pcs = period_one.pcs_m.values\n",
    "\n",
    "    return pone_pcs\n",
    "\n",
    "def period_k_and_n(data, xrange, add_one=False):\n",
    "\n",
    "    pone_k = [(data >= x).sum() for x in xrange]\n",
    "    pone_notk = [(data < x).sum() for x in xrange]\n",
    "\n",
    "    if add_one:\n",
    "        # if the use is for beta dist. This is the same\n",
    "        # as mulitplying the likelihood * uninform prior (0.5) or beta(1,1)\n",
    "        pone_k_n_minus_k = [(x+1, len(data) - x+1) for x in pone_k]\n",
    "    else:\n",
    "        pone_k_n_minus_k = [(x, len(data) - x) for x in pone_k]\n",
    "        \n",
    "    \n",
    "\n",
    "    return np.array(pone_k), np.array(pone_notk), np.array(pone_k_n_minus_k)\n",
    "\n",
    "def period_beta(k):\n",
    "    \n",
    "         \n",
    "    return beta(*k)\n",
    "        \n",
    "\n",
    "def current_possible_prior_locations(landuse, locations, attribute):    \n",
    "\n",
    "    # indentify the magnitude(s) of the attribute of interest from the\n",
    "    # locations in the current data there may be more than one, in this \n",
    "    # example we use all the possible magnitudes for the attribute\n",
    "    # locations = data[data.city == city].location.unique()\n",
    "\n",
    "    # magnitudes for the attribute from all the locations in the municipality\n",
    "    moa = magnitude_of_attribute = landuse.loc[locations][attribute].unique().astype('int')\n",
    "\n",
    "    # identify locations that have the same attribute by magnitude of attribute\n",
    "    possible_locations = landuse[landuse[attribute].isin(moa)].index\n",
    "\n",
    "    # remove the locations that are in the likelihood function\n",
    "    prior_locations = [x for x in possible_locations if x not in locations]\n",
    "\n",
    "    return locations, possible_locations, prior_locations\n",
    "\n",
    "\n",
    "def make_expected(lh_tuple, prior_tuple, xrange):\n",
    "    res = []\n",
    "    betas=[]\n",
    "    # print(lh_tuple, prior_tuple)\n",
    "    for i in np.arange(len(xrange)):\n",
    "        alpha = prior_tuple[i][0]\n",
    "        betai = prior_tuple[i][1]\n",
    "        success = lh_tuple[i][0]\n",
    "        n = lh_tuple[i][1] + lh_tuple[i][0] \n",
    "        numerator = alpha + success\n",
    "        denominator = alpha + betai + n\n",
    "        if numerator == 0:\n",
    "            numerator = 1\n",
    "        abeta = beta(numerator, (betai + lh_tuple[i][1] + lh_tuple[i][0])).mean()\n",
    "        betas.append(abeta)\n",
    "        # print(alpha, betai, success, numerator, n, denominator)\n",
    "        if numerator >= denominator:\n",
    "            numerator = denominator-1\n",
    "            \n",
    "        expected = numerator/denominator\n",
    "        res.append(expected)\n",
    "    return np.array(res), np.array(betas) "
   ]
  },
  {
   "cell_type": "code",
   "execution_count": 12,
   "metadata": {
    "collapsed": false,
    "editable": true,
    "jupyter": {
     "outputs_hidden": false
    },
    "pycharm": {
     "name": "#%%\n"
    },
    "slideshow": {
     "slide_type": ""
    },
    "tags": [
     "remove-input"
    ]
   },
   "outputs": [],
   "source": [
    "an_xrange = np.arange(0, 11)\n"
   ]
  },
  {
   "cell_type": "code",
   "execution_count": 13,
   "metadata": {
    "collapsed": false,
    "editable": true,
    "jupyter": {
     "outputs_hidden": false
    },
    "pycharm": {
     "name": "#%%\n"
    },
    "slideshow": {
     "slide_type": ""
    },
    "tags": [
     "remove-input"
    ]
   },
   "outputs": [],
   "source": [
    "comb_lu_agg = pd.read_csv(\"resources/data/u_comb_lu_cover_street_rivers.csv\")\n",
    "\n",
    "lu_scaled = comb_lu_agg.pivot(columns=\"use\", values=\"scaled\", index=\"slug\").fillna(0)\n",
    "\n",
    "lu_magnitude = comb_lu_agg.pivot(columns=\"use\", values=\"magnitude\", index=\"slug\").fillna(0)\n",
    "\n",
    "lu_binned = comb_lu_agg.pivot(columns=\"use\", values=\"binned\", index=\"slug\").fillna(0)\n",
    "\n",
    "# not_these = ['amphion', 'anthy', 'excenevex', 'lugrin', 'meillerie', 'saint-disdille', 'tougues']\n",
    "merge_locations = cbd.slug.unique()\n",
    "cbdu = cbd[~cbd.slug.isin(not_these)].merge(lu_scaled[lu_scaled.index.isin(merge_locations )], left_on=\"slug\", right_index=True, validate=\"many_to_one\", how=\"outer\")\n",
    "\n",
    "cbdu[\"use group\"] = cbdu.code.map(lambda x: use_groups_i[x])\n",
    "\n",
    "cbdu[\"ug\"] = cbdu[\"use group\"].apply(lambda x: abbrev_use_g[x])\n",
    "cbdu[cbdu[\"use group\"] == 'Personal consumption'].code.unique()\n",
    "cbdu[\"date\"] = pd.to_datetime(cbdu[\"date\"], format=\"%Y-%m-%d\")\n",
    "\n",
    "attribute_columns = [x for x in lu_scaled.columns if x not in [\"Geroell\", \"Stausee\", \"See\", \"Sumpf\", \"Stadtzentr\", \"Fels\"]]\n",
    "work_columns = [x for x in cbdu.columns if x not in [\"Geroell\", \"Stausee\", \"See\", \"Sumpf\", \"Stadtzentr\", \"Fels\"]]\n",
    "cbdu = cbdu[work_columns].copy()\n",
    "cbdu.rename(columns={\"pcs/m\":\"pcs_m\"}, inplace=True)\n"
   ]
  },
  {
   "cell_type": "markdown",
   "metadata": {
    "collapsed": false,
    "jupyter": {
     "outputs_hidden": false
    },
    "pycharm": {
     "name": "#%% md\n"
    }
   },
   "source": [
    "## Expected survey results Saint Sulpice\n",
    "\n",
    "### Predicted values using empirical Bayes method\n",
    "\n",
    "The method proposed in chapter two produced the following expected survey results for October 5, 2023 at Saint Sulpice:"
   ]
  },
  {
   "cell_type": "markdown",
   "metadata": {
    "collapsed": false,
    "jupyter": {
     "outputs_hidden": false
    },
    "pycharm": {
     "name": "#%% md\n"
    }
   },
   "source": [
    "<!-- |     Figure 11, Table 11  |    Table 12, Figure 12       | \n",
    "|:------------------------:|:----------------------------:|\n",
    "|{glue:}`ssp-outlook-2024` | {glue:}`ssp-2024-meds`|\n",
    "|{glue:}`ssp-summary` | {glue:}`ssp-predicted_samples`| -->\n",
    "\n"
   ]
  },
  {
   "cell_type": "code",
   "execution_count": 14,
   "metadata": {
    "collapsed": false,
    "editable": true,
    "jupyter": {
     "outputs_hidden": false
    },
    "pycharm": {
     "name": "#%%\n"
    },
    "slideshow": {
     "slide_type": ""
    },
    "tags": [
     "remove-input"
    ]
   },
   "outputs": [],
   "source": [
    "city =  'Saint-Sulpice (VD)'\n",
    "start, end = \"2015-11-15\", \"2021-05-31\"\n",
    "index_range = (0.0, 10)\n",
    "xrange =  np.arange(*index_range, step=.01)\n",
    "uninformed_tuple = np.array([(1,1) for x in xrange])\n",
    "\n",
    "\n",
    "g_resa = cbdu.copy()\n",
    "g_resa = g_resa.groupby(['loc_date', 'date','slug', 'city', 'Project', 'code'], as_index=False).agg({'pcs_m':'sum', 'quantity':'sum'})\n",
    "g_resadt = g_resa.groupby(['loc_date', 'date','slug', 'city', 'Project'], as_index=False).agg({'pcs_m':'sum', 'quantity':'sum'})\n",
    "\n",
    "# define the prior, likelihood data and likelihood locations\n",
    "posterior_df = pd.DataFrame(index=xrange)\n",
    "predictions = {}\n",
    "\n",
    "for code in toi:\n",
    "    \n",
    "    # code_index = 1\n",
    "    city_index = 0\n",
    "    attribute_index = 2\n",
    "    \n",
    "    this_code =  code\n",
    "    this_attribute = attribute_columns[attribute_index]\n",
    "    this_city = cois[city_index]\n",
    "    \n",
    "    prior_data = g_resa[(g_resa.code == this_code)&(g_resa.city != city)&(g_resa.Project ==\"before may 2021\")]\n",
    "    lh_data = g_resa[(g_resa.code == this_code)&(g_resa.city == city)]\n",
    "\n",
    "    # here the locations from Saint Sulpice are indentified\n",
    "    lh_locations = lh_data.slug.unique()\n",
    "\n",
    "    # remove any location with no land-use data\n",
    "    regions = lac_leman_regions[~lac_leman_regions.slug.isin(not_these)].copy()\n",
    "    # identify the region of interest\n",
    "    lh_regions = regions[regions.slug.isin(lh_locations)].alabel.unique()\n",
    "    # retireve any other survey locations in the region\n",
    "    regional_locations = regions[regions.alabel.isin(lh_regions)].slug.unique()\n",
    "    # retrieve the land use values of all locations in the region\n",
    "    land_use_data_of_interest = lu_binned.loc[regional_locations]\n",
    "\n",
    "    # the locations from Saint Sulpice as well as regional locations are passed\n",
    "    # to the current_possible_prior_locations method. The land use values are\n",
    "    # compared and the locations with similar land use values are identified.\n",
    "    locations, possible_locations, prior_locations = current_possible_prior_locations(land_use_data_of_interest, lh_locations, this_attribute)\n",
    "    \n",
    "    prior_args = {\n",
    "        'prior_data':prior_data[prior_data.slug.isin(prior_locations)],\n",
    "        'start': start,\n",
    "        'end': end,\n",
    "        'xrange':xrange,\n",
    "        'uninformed_prior': uninformed_tuple,\n",
    "    }\n",
    "    # grid approximation of the prior\n",
    "    grid_prior, beta_prior, prior_k_n, prior_df, pcs = prior_distributions(**prior_args)\n",
    "    \n",
    "    posterior_args = {\n",
    "        'lh_data':lh_data,\n",
    "        'start': start,\n",
    "        'end': \"2022-12-31\",\n",
    "        'un_informed': uninformed_tuple,\n",
    "        'informed_prior': prior_k_n\n",
    "    }\n",
    "    \n",
    "    # grid approximation of posterior\n",
    "    informed, uninformed, beta_p, lh_pcs = posterior_distribution(**posterior_args)\n",
    "    \n",
    "    # the quantiles from the observed data\n",
    "    prior_quants = np.quantile(pcs, some_quants)\n",
    "    post_quants = np.quantile(lh_pcs, some_quants)\n",
    "    \n",
    "    # data frame with normalized results\n",
    "    post_df = make_results_df(prior_df.copy(), informed, source=\"Informed post\", source_norm=\"Ip_n\")\n",
    "    post_df = make_results_df(post_df, uninformed, source=\"Uninformed post\", source_norm=\"Un_n\")\n",
    "    \n",
    "    # samples from posterior \n",
    "    sim_2024 = sampler_from_multinomial(post_df[\"Ip_n\"].values, xrange, len(pcs) + len(lh_pcs))\n",
    "    sim_quants = np.quantile(sim_2024[0], some_quants)\n",
    "    \n",
    "    \n",
    "    predictions.update({this_code:sim_quants})\n",
    "    posterior_df[this_code]=informed\n",
    "\n",
    "index = ['{:.0%}'.format(x) for x in some_quants]\n",
    "pred_quants = pd.DataFrame(predictions, index=index)"
   ]
  },
  {
   "cell_type": "code",
   "execution_count": 15,
   "metadata": {
    "collapsed": false,
    "editable": true,
    "jupyter": {
     "outputs_hidden": false
    },
    "pycharm": {
     "name": "#%%\n"
    },
    "slideshow": {
     "slide_type": ""
    },
    "tags": [
     "remove-input"
    ]
   },
   "outputs": [
    {
     "data": {
      "text/html": [
       "<style type=\"text/css\">\n",
       "#T_9a101 tr:nth-child(even) {\n",
       "  background-color: rgba(139, 69, 19, 0.08);\n",
       "}\n",
       "#T_9a101 tr:nth-child(odd) {\n",
       "  background: #FFF;\n",
       "}\n",
       "#T_9a101 tr {\n",
       "  font-size: 14px;\n",
       "  padding: 12px;\n",
       "}\n",
       "#T_9a101 th:nth-child(1) {\n",
       "  background-color: #FFF;\n",
       "  text-align: right;\n",
       "}\n",
       "#T_9a101 caption {\n",
       "  font-size: 14px;\n",
       "  font-style: italic;\n",
       "  caption-side: bottom;\n",
       "  text-align: left;\n",
       "  margin-top: 10px;\n",
       "}\n",
       "</style>\n",
       "<table id=\"T_9a101\">\n",
       "  <caption>Table 4: The 94% probability interval of the objects of interest for Saint Sulpice. The median value is used for the predictions</caption>\n",
       "  <thead>\n",
       "    <tr>\n",
       "      <th class=\"blank level0\" >&nbsp;</th>\n",
       "      <th id=\"T_9a101_level0_col0\" class=\"col_heading level0 col0\" >G112</th>\n",
       "      <th id=\"T_9a101_level0_col1\" class=\"col_heading level0 col1\" >G27</th>\n",
       "      <th id=\"T_9a101_level0_col2\" class=\"col_heading level0 col2\" >G30</th>\n",
       "      <th id=\"T_9a101_level0_col3\" class=\"col_heading level0 col3\" >G32</th>\n",
       "      <th id=\"T_9a101_level0_col4\" class=\"col_heading level0 col4\" >G67</th>\n",
       "      <th id=\"T_9a101_level0_col5\" class=\"col_heading level0 col5\" >G70</th>\n",
       "      <th id=\"T_9a101_level0_col6\" class=\"col_heading level0 col6\" >G95</th>\n",
       "      <th id=\"T_9a101_level0_col7\" class=\"col_heading level0 col7\" >G96</th>\n",
       "      <th id=\"T_9a101_level0_col8\" class=\"col_heading level0 col8\" >Gcaps</th>\n",
       "      <th id=\"T_9a101_level0_col9\" class=\"col_heading level0 col9\" >Gfrags</th>\n",
       "    </tr>\n",
       "  </thead>\n",
       "  <tbody>\n",
       "    <tr>\n",
       "      <th id=\"T_9a101_level0_row0\" class=\"row_heading level0 row0\" >3%</th>\n",
       "      <td id=\"T_9a101_row0_col0\" class=\"data row0 col0\" >0.00</td>\n",
       "      <td id=\"T_9a101_row0_col1\" class=\"data row0 col1\" >0.00</td>\n",
       "      <td id=\"T_9a101_row0_col2\" class=\"data row0 col2\" >0.00</td>\n",
       "      <td id=\"T_9a101_row0_col3\" class=\"data row0 col3\" >0.00</td>\n",
       "      <td id=\"T_9a101_row0_col4\" class=\"data row0 col4\" >0.00</td>\n",
       "      <td id=\"T_9a101_row0_col5\" class=\"data row0 col5\" >0.00</td>\n",
       "      <td id=\"T_9a101_row0_col6\" class=\"data row0 col6\" >0.00</td>\n",
       "      <td id=\"T_9a101_row0_col7\" class=\"data row0 col7\" >0.00</td>\n",
       "      <td id=\"T_9a101_row0_col8\" class=\"data row0 col8\" >0.00</td>\n",
       "      <td id=\"T_9a101_row0_col9\" class=\"data row0 col9\" >0.00</td>\n",
       "    </tr>\n",
       "    <tr>\n",
       "      <th id=\"T_9a101_level0_row1\" class=\"row_heading level0 row1\" >25%</th>\n",
       "      <td id=\"T_9a101_row1_col0\" class=\"data row1 col0\" >0.00</td>\n",
       "      <td id=\"T_9a101_row1_col1\" class=\"data row1 col1\" >0.05</td>\n",
       "      <td id=\"T_9a101_row1_col2\" class=\"data row1 col2\" >0.03</td>\n",
       "      <td id=\"T_9a101_row1_col3\" class=\"data row1 col3\" >0.00</td>\n",
       "      <td id=\"T_9a101_row1_col4\" class=\"data row1 col4\" >0.05</td>\n",
       "      <td id=\"T_9a101_row1_col5\" class=\"data row1 col5\" >0.00</td>\n",
       "      <td id=\"T_9a101_row1_col6\" class=\"data row1 col6\" >0.01</td>\n",
       "      <td id=\"T_9a101_row1_col7\" class=\"data row1 col7\" >0.00</td>\n",
       "      <td id=\"T_9a101_row1_col8\" class=\"data row1 col8\" >0.04</td>\n",
       "      <td id=\"T_9a101_row1_col9\" class=\"data row1 col9\" >0.00</td>\n",
       "    </tr>\n",
       "    <tr>\n",
       "      <th id=\"T_9a101_level0_row2\" class=\"row_heading level0 row2\" >48%</th>\n",
       "      <td id=\"T_9a101_row2_col0\" class=\"data row2 col0\" >0.08</td>\n",
       "      <td id=\"T_9a101_row2_col1\" class=\"data row2 col1\" >0.46</td>\n",
       "      <td id=\"T_9a101_row2_col2\" class=\"data row2 col2\" >0.35</td>\n",
       "      <td id=\"T_9a101_row2_col3\" class=\"data row2 col3\" >0.03</td>\n",
       "      <td id=\"T_9a101_row2_col4\" class=\"data row2 col4\" >0.16</td>\n",
       "      <td id=\"T_9a101_row2_col5\" class=\"data row2 col5\" >0.00</td>\n",
       "      <td id=\"T_9a101_row2_col6\" class=\"data row2 col6\" >0.32</td>\n",
       "      <td id=\"T_9a101_row2_col7\" class=\"data row2 col7\" >0.04</td>\n",
       "      <td id=\"T_9a101_row2_col8\" class=\"data row2 col8\" >0.11</td>\n",
       "      <td id=\"T_9a101_row2_col9\" class=\"data row2 col9\" >0.68</td>\n",
       "    </tr>\n",
       "    <tr>\n",
       "      <th id=\"T_9a101_level0_row3\" class=\"row_heading level0 row3\" >50%</th>\n",
       "      <td id=\"T_9a101_row3_col0\" class=\"data row3 col0\" >0.12</td>\n",
       "      <td id=\"T_9a101_row3_col1\" class=\"data row3 col1\" >0.47</td>\n",
       "      <td id=\"T_9a101_row3_col2\" class=\"data row3 col2\" >0.39</td>\n",
       "      <td id=\"T_9a101_row3_col3\" class=\"data row3 col3\" >0.04</td>\n",
       "      <td id=\"T_9a101_row3_col4\" class=\"data row3 col4\" >0.16</td>\n",
       "      <td id=\"T_9a101_row3_col5\" class=\"data row3 col5\" >0.01</td>\n",
       "      <td id=\"T_9a101_row3_col6\" class=\"data row3 col6\" >0.32</td>\n",
       "      <td id=\"T_9a101_row3_col7\" class=\"data row3 col7\" >0.04</td>\n",
       "      <td id=\"T_9a101_row3_col8\" class=\"data row3 col8\" >0.11</td>\n",
       "      <td id=\"T_9a101_row3_col9\" class=\"data row3 col9\" >0.74</td>\n",
       "    </tr>\n",
       "    <tr>\n",
       "      <th id=\"T_9a101_level0_row4\" class=\"row_heading level0 row4\" >52%</th>\n",
       "      <td id=\"T_9a101_row4_col0\" class=\"data row4 col0\" >0.22</td>\n",
       "      <td id=\"T_9a101_row4_col1\" class=\"data row4 col1\" >0.48</td>\n",
       "      <td id=\"T_9a101_row4_col2\" class=\"data row4 col2\" >0.43</td>\n",
       "      <td id=\"T_9a101_row4_col3\" class=\"data row4 col3\" >0.04</td>\n",
       "      <td id=\"T_9a101_row4_col4\" class=\"data row4 col4\" >0.22</td>\n",
       "      <td id=\"T_9a101_row4_col5\" class=\"data row4 col5\" >0.02</td>\n",
       "      <td id=\"T_9a101_row4_col6\" class=\"data row4 col6\" >0.34</td>\n",
       "      <td id=\"T_9a101_row4_col7\" class=\"data row4 col7\" >0.05</td>\n",
       "      <td id=\"T_9a101_row4_col8\" class=\"data row4 col8\" >0.12</td>\n",
       "      <td id=\"T_9a101_row4_col9\" class=\"data row4 col9\" >0.74</td>\n",
       "    </tr>\n",
       "    <tr>\n",
       "      <th id=\"T_9a101_level0_row5\" class=\"row_heading level0 row5\" >75%</th>\n",
       "      <td id=\"T_9a101_row5_col0\" class=\"data row5 col0\" >0.68</td>\n",
       "      <td id=\"T_9a101_row5_col1\" class=\"data row5 col1\" >0.93</td>\n",
       "      <td id=\"T_9a101_row5_col2\" class=\"data row5 col2\" >0.57</td>\n",
       "      <td id=\"T_9a101_row5_col3\" class=\"data row5 col3\" >0.08</td>\n",
       "      <td id=\"T_9a101_row5_col4\" class=\"data row5 col4\" >0.33</td>\n",
       "      <td id=\"T_9a101_row5_col5\" class=\"data row5 col5\" >0.05</td>\n",
       "      <td id=\"T_9a101_row5_col6\" class=\"data row5 col6\" >0.52</td>\n",
       "      <td id=\"T_9a101_row5_col7\" class=\"data row5 col7\" >0.08</td>\n",
       "      <td id=\"T_9a101_row5_col8\" class=\"data row5 col8\" >0.23</td>\n",
       "      <td id=\"T_9a101_row5_col9\" class=\"data row5 col9\" >1.24</td>\n",
       "    </tr>\n",
       "    <tr>\n",
       "      <th id=\"T_9a101_level0_row6\" class=\"row_heading level0 row6\" >97%</th>\n",
       "      <td id=\"T_9a101_row6_col0\" class=\"data row6 col0\" >1.46</td>\n",
       "      <td id=\"T_9a101_row6_col1\" class=\"data row6 col1\" >1.47</td>\n",
       "      <td id=\"T_9a101_row6_col2\" class=\"data row6 col2\" >1.21</td>\n",
       "      <td id=\"T_9a101_row6_col3\" class=\"data row6 col3\" >0.11</td>\n",
       "      <td id=\"T_9a101_row6_col4\" class=\"data row6 col4\" >0.64</td>\n",
       "      <td id=\"T_9a101_row6_col5\" class=\"data row6 col5\" >5.58</td>\n",
       "      <td id=\"T_9a101_row6_col6\" class=\"data row6 col6\" >1.11</td>\n",
       "      <td id=\"T_9a101_row6_col7\" class=\"data row6 col7\" >0.20</td>\n",
       "      <td id=\"T_9a101_row6_col8\" class=\"data row6 col8\" >0.50</td>\n",
       "      <td id=\"T_9a101_row6_col9\" class=\"data row6 col9\" >5.05</td>\n",
       "    </tr>\n",
       "  </tbody>\n",
       "</table>\n"
      ],
      "text/plain": [
       "<pandas.io.formats.style.Styler at 0x7c6c3ec29580>"
      ]
     },
     "execution_count": 15,
     "metadata": {},
     "output_type": "execute_result"
    }
   ],
   "source": [
    "objects = [\"G112\", \"G27\", \"G30\", \"G32\", \"G67\", \"G70\", \"G95\", \"G96\", \"Gcaps\", \"Gfrags\"]\n",
    "pred_quants = pred_quants[objects]\n",
    "caption = \"Table 4: The 94% probability interval of the objects of interest for Saint Sulpice. The median value is used for the predictions\"\n",
    "pred_quants.style.format(precision=2).set_table_styles(table_large_font).set_caption(caption)"
   ]
  },
  {
   "cell_type": "markdown",
   "metadata": {
    "collapsed": false,
    "jupyter": {
     "outputs_hidden": false
    },
    "pycharm": {
     "name": "#%% md\n"
    }
   },
   "source": [
    "Recall that the previous results from Saint Sulpice are not used to make the predictions. Only locations in the same region with similar land-use characteristics are used."
   ]
  },
  {
   "cell_type": "markdown",
   "metadata": {
    "collapsed": false,
    "jupyter": {
     "outputs_hidden": false
    },
    "pycharm": {
     "name": "#%% md\n"
    }
   },
   "source": [
    "### Estimates from participants\n",
    "\n",
    "After a classroom discusion and review of the previous years results (but not the predicted results) the participants made an estimate of how many they expect to find of each item of interest."
   ]
  },
  {
   "cell_type": "code",
   "execution_count": 16,
   "metadata": {
    "collapsed": false,
    "editable": true,
    "jupyter": {
     "outputs_hidden": false
    },
    "pycharm": {
     "name": "#%%\n"
    },
    "slideshow": {
     "slide_type": ""
    },
    "tags": [
     "remove-input"
    ]
   },
   "outputs": [],
   "source": [
    "length_p = 49.3\n",
    "\n",
    "estimated_p =[\n",
    "    [.16, 1.12, .54, .05, .30, .08, .39, .04, .31, 1.34],\n",
    "    [6, 3, .6, .1, .4, .03, .8, 1, 2, 1.34],\n",
    "    [.4, 1.5, .3, .1, 1.1, .01, .5, .2, .4, 2]    \n",
    "]\n",
    "\n",
    "def make_rows(estimated, objects):\n",
    "    rows = []\n",
    "    for row in estimated:\n",
    "        row = {objects[i]: x for i,x in enumerate(row)}\n",
    "        rows.append(row)\n",
    "    return rows\n",
    "\n",
    "found_p = [4, 51, 7, 2, 0, 0, 12, 1, 12, 266]\n",
    "found_pm = [x/length_p for x in found_p]\n",
    "\n",
    "pierrette_rows = make_rows(estimated_p, objects)\n",
    "pierrette = pd.DataFrame(pierrette_rows)"
   ]
  },
  {
   "cell_type": "code",
   "execution_count": 17,
   "metadata": {
    "collapsed": false,
    "editable": true,
    "jupyter": {
     "outputs_hidden": false
    },
    "pycharm": {
     "name": "#%%\n"
    },
    "slideshow": {
     "slide_type": ""
    },
    "tags": [
     "remove-input"
    ]
   },
   "outputs": [],
   "source": [
    "found_pel = [4, 51, 7, 2, 0, 0, 12, 1, 12, 266]\n",
    "found_pelm = [x/length_p for x in found_p]"
   ]
  },
  {
   "cell_type": "code",
   "execution_count": 18,
   "metadata": {
    "collapsed": false,
    "editable": true,
    "jupyter": {
     "outputs_hidden": false
    },
    "pycharm": {
     "name": "#%%\n"
    },
    "slideshow": {
     "slide_type": ""
    },
    "tags": [
     "remove-input"
    ]
   },
   "outputs": [
    {
     "data": {
      "text/html": [
       "<style type=\"text/css\">\n",
       "#T_abf7a tr:nth-child(even) {\n",
       "  background-color: rgba(139, 69, 19, 0.08);\n",
       "}\n",
       "#T_abf7a tr:nth-child(odd) {\n",
       "  background: #FFF;\n",
       "}\n",
       "#T_abf7a tr {\n",
       "  font-size: 14px;\n",
       "  padding: 12px;\n",
       "}\n",
       "#T_abf7a th:nth-child(1) {\n",
       "  background-color: #FFF;\n",
       "  text-align: right;\n",
       "}\n",
       "#T_abf7a caption {\n",
       "  font-size: 14px;\n",
       "  font-style: italic;\n",
       "  caption-side: bottom;\n",
       "  text-align: left;\n",
       "  margin-top: 10px;\n",
       "}\n",
       "</style>\n",
       "<table id=\"T_abf7a\">\n",
       "  <caption>Table 5: The estimated amount in pcs/meter for each object that the participants expected to find.</caption>\n",
       "  <thead>\n",
       "    <tr>\n",
       "      <th class=\"blank level0\" >&nbsp;</th>\n",
       "      <th id=\"T_abf7a_level0_col0\" class=\"col_heading level0 col0\" >G112</th>\n",
       "      <th id=\"T_abf7a_level0_col1\" class=\"col_heading level0 col1\" >G27</th>\n",
       "      <th id=\"T_abf7a_level0_col2\" class=\"col_heading level0 col2\" >G30</th>\n",
       "      <th id=\"T_abf7a_level0_col3\" class=\"col_heading level0 col3\" >G32</th>\n",
       "      <th id=\"T_abf7a_level0_col4\" class=\"col_heading level0 col4\" >G67</th>\n",
       "      <th id=\"T_abf7a_level0_col5\" class=\"col_heading level0 col5\" >G70</th>\n",
       "      <th id=\"T_abf7a_level0_col6\" class=\"col_heading level0 col6\" >G95</th>\n",
       "      <th id=\"T_abf7a_level0_col7\" class=\"col_heading level0 col7\" >G96</th>\n",
       "      <th id=\"T_abf7a_level0_col8\" class=\"col_heading level0 col8\" >Gcaps</th>\n",
       "      <th id=\"T_abf7a_level0_col9\" class=\"col_heading level0 col9\" >Gfrags</th>\n",
       "    </tr>\n",
       "  </thead>\n",
       "  <tbody>\n",
       "    <tr>\n",
       "      <th id=\"T_abf7a_level0_row0\" class=\"row_heading level0 row0\" >0</th>\n",
       "      <td id=\"T_abf7a_row0_col0\" class=\"data row0 col0\" >0.16</td>\n",
       "      <td id=\"T_abf7a_row0_col1\" class=\"data row0 col1\" >1.12</td>\n",
       "      <td id=\"T_abf7a_row0_col2\" class=\"data row0 col2\" >0.54</td>\n",
       "      <td id=\"T_abf7a_row0_col3\" class=\"data row0 col3\" >0.05</td>\n",
       "      <td id=\"T_abf7a_row0_col4\" class=\"data row0 col4\" >0.30</td>\n",
       "      <td id=\"T_abf7a_row0_col5\" class=\"data row0 col5\" >0.08</td>\n",
       "      <td id=\"T_abf7a_row0_col6\" class=\"data row0 col6\" >0.39</td>\n",
       "      <td id=\"T_abf7a_row0_col7\" class=\"data row0 col7\" >0.04</td>\n",
       "      <td id=\"T_abf7a_row0_col8\" class=\"data row0 col8\" >0.31</td>\n",
       "      <td id=\"T_abf7a_row0_col9\" class=\"data row0 col9\" >1.34</td>\n",
       "    </tr>\n",
       "    <tr>\n",
       "      <th id=\"T_abf7a_level0_row1\" class=\"row_heading level0 row1\" >1</th>\n",
       "      <td id=\"T_abf7a_row1_col0\" class=\"data row1 col0\" >0.15</td>\n",
       "      <td id=\"T_abf7a_row1_col1\" class=\"data row1 col1\" >0.57</td>\n",
       "      <td id=\"T_abf7a_row1_col2\" class=\"data row1 col2\" >0.24</td>\n",
       "      <td id=\"T_abf7a_row1_col3\" class=\"data row1 col3\" >0.08</td>\n",
       "      <td id=\"T_abf7a_row1_col4\" class=\"data row1 col4\" >0.05</td>\n",
       "      <td id=\"T_abf7a_row1_col5\" class=\"data row1 col5\" >0.05</td>\n",
       "      <td id=\"T_abf7a_row1_col6\" class=\"data row1 col6\" >0.16</td>\n",
       "      <td id=\"T_abf7a_row1_col7\" class=\"data row1 col7\" >0.10</td>\n",
       "      <td id=\"T_abf7a_row1_col8\" class=\"data row1 col8\" >0.14</td>\n",
       "      <td id=\"T_abf7a_row1_col9\" class=\"data row1 col9\" >0.22</td>\n",
       "    </tr>\n",
       "    <tr>\n",
       "      <th id=\"T_abf7a_level0_row2\" class=\"row_heading level0 row2\" >2</th>\n",
       "      <td id=\"T_abf7a_row2_col0\" class=\"data row2 col0\" >0.05</td>\n",
       "      <td id=\"T_abf7a_row2_col1\" class=\"data row2 col1\" >0.80</td>\n",
       "      <td id=\"T_abf7a_row2_col2\" class=\"data row2 col2\" >0.20</td>\n",
       "      <td id=\"T_abf7a_row2_col3\" class=\"data row2 col3\" >0.02</td>\n",
       "      <td id=\"T_abf7a_row2_col4\" class=\"data row2 col4\" >0.15</td>\n",
       "      <td id=\"T_abf7a_row2_col5\" class=\"data row2 col5\" >0.04</td>\n",
       "      <td id=\"T_abf7a_row2_col6\" class=\"data row2 col6\" >0.30</td>\n",
       "      <td id=\"T_abf7a_row2_col7\" class=\"data row2 col7\" >0.01</td>\n",
       "      <td id=\"T_abf7a_row2_col8\" class=\"data row2 col8\" >0.25</td>\n",
       "      <td id=\"T_abf7a_row2_col9\" class=\"data row2 col9\" >1.20</td>\n",
       "    </tr>\n",
       "    <tr>\n",
       "      <th id=\"T_abf7a_level0_row3\" class=\"row_heading level0 row3\" >3</th>\n",
       "      <td id=\"T_abf7a_row3_col0\" class=\"data row3 col0\" >0.10</td>\n",
       "      <td id=\"T_abf7a_row3_col1\" class=\"data row3 col1\" >0.35</td>\n",
       "      <td id=\"T_abf7a_row3_col2\" class=\"data row3 col2\" >0.15</td>\n",
       "      <td id=\"T_abf7a_row3_col3\" class=\"data row3 col3\" >0.03</td>\n",
       "      <td id=\"T_abf7a_row3_col4\" class=\"data row3 col4\" >0.05</td>\n",
       "      <td id=\"T_abf7a_row3_col5\" class=\"data row3 col5\" >0.01</td>\n",
       "      <td id=\"T_abf7a_row3_col6\" class=\"data row3 col6\" >0.06</td>\n",
       "      <td id=\"T_abf7a_row3_col7\" class=\"data row3 col7\" >0.10</td>\n",
       "      <td id=\"T_abf7a_row3_col8\" class=\"data row3 col8\" >0.15</td>\n",
       "      <td id=\"T_abf7a_row3_col9\" class=\"data row3 col9\" >0.50</td>\n",
       "    </tr>\n",
       "    <tr>\n",
       "      <th id=\"T_abf7a_level0_row4\" class=\"row_heading level0 row4\" >4</th>\n",
       "      <td id=\"T_abf7a_row4_col0\" class=\"data row4 col0\" >0.07</td>\n",
       "      <td id=\"T_abf7a_row4_col1\" class=\"data row4 col1\" >0.15</td>\n",
       "      <td id=\"T_abf7a_row4_col2\" class=\"data row4 col2\" >0.05</td>\n",
       "      <td id=\"T_abf7a_row4_col3\" class=\"data row4 col3\" >0.02</td>\n",
       "      <td id=\"T_abf7a_row4_col4\" class=\"data row4 col4\" >0.01</td>\n",
       "      <td id=\"T_abf7a_row4_col5\" class=\"data row4 col5\" >0.00</td>\n",
       "      <td id=\"T_abf7a_row4_col6\" class=\"data row4 col6\" >0.04</td>\n",
       "      <td id=\"T_abf7a_row4_col7\" class=\"data row4 col7\" >0.01</td>\n",
       "      <td id=\"T_abf7a_row4_col8\" class=\"data row4 col8\" >0.08</td>\n",
       "      <td id=\"T_abf7a_row4_col9\" class=\"data row4 col9\" >0.12</td>\n",
       "    </tr>\n",
       "    <tr>\n",
       "      <th id=\"T_abf7a_level0_row5\" class=\"row_heading level0 row5\" >5</th>\n",
       "      <td id=\"T_abf7a_row5_col0\" class=\"data row5 col0\" >0.15</td>\n",
       "      <td id=\"T_abf7a_row5_col1\" class=\"data row5 col1\" >0.50</td>\n",
       "      <td id=\"T_abf7a_row5_col2\" class=\"data row5 col2\" >0.30</td>\n",
       "      <td id=\"T_abf7a_row5_col3\" class=\"data row5 col3\" >0.03</td>\n",
       "      <td id=\"T_abf7a_row5_col4\" class=\"data row5 col4\" >0.01</td>\n",
       "      <td id=\"T_abf7a_row5_col5\" class=\"data row5 col5\" >0.00</td>\n",
       "      <td id=\"T_abf7a_row5_col6\" class=\"data row5 col6\" >0.05</td>\n",
       "      <td id=\"T_abf7a_row5_col7\" class=\"data row5 col7\" >0.05</td>\n",
       "      <td id=\"T_abf7a_row5_col8\" class=\"data row5 col8\" >0.20</td>\n",
       "      <td id=\"T_abf7a_row5_col9\" class=\"data row5 col9\" >0.20</td>\n",
       "    </tr>\n",
       "    <tr>\n",
       "      <th id=\"T_abf7a_level0_row6\" class=\"row_heading level0 row6\" >6</th>\n",
       "      <td id=\"T_abf7a_row6_col0\" class=\"data row6 col0\" >0.16</td>\n",
       "      <td id=\"T_abf7a_row6_col1\" class=\"data row6 col1\" >1.12</td>\n",
       "      <td id=\"T_abf7a_row6_col2\" class=\"data row6 col2\" >0.54</td>\n",
       "      <td id=\"T_abf7a_row6_col3\" class=\"data row6 col3\" >0.05</td>\n",
       "      <td id=\"T_abf7a_row6_col4\" class=\"data row6 col4\" >0.30</td>\n",
       "      <td id=\"T_abf7a_row6_col5\" class=\"data row6 col5\" >0.08</td>\n",
       "      <td id=\"T_abf7a_row6_col6\" class=\"data row6 col6\" >0.39</td>\n",
       "      <td id=\"T_abf7a_row6_col7\" class=\"data row6 col7\" >0.04</td>\n",
       "      <td id=\"T_abf7a_row6_col8\" class=\"data row6 col8\" >0.31</td>\n",
       "      <td id=\"T_abf7a_row6_col9\" class=\"data row6 col9\" >1.34</td>\n",
       "    </tr>\n",
       "    <tr>\n",
       "      <th id=\"T_abf7a_level0_row7\" class=\"row_heading level0 row7\" >7</th>\n",
       "      <td id=\"T_abf7a_row7_col0\" class=\"data row7 col0\" >6.00</td>\n",
       "      <td id=\"T_abf7a_row7_col1\" class=\"data row7 col1\" >3.00</td>\n",
       "      <td id=\"T_abf7a_row7_col2\" class=\"data row7 col2\" >0.60</td>\n",
       "      <td id=\"T_abf7a_row7_col3\" class=\"data row7 col3\" >0.10</td>\n",
       "      <td id=\"T_abf7a_row7_col4\" class=\"data row7 col4\" >0.40</td>\n",
       "      <td id=\"T_abf7a_row7_col5\" class=\"data row7 col5\" >0.03</td>\n",
       "      <td id=\"T_abf7a_row7_col6\" class=\"data row7 col6\" >0.80</td>\n",
       "      <td id=\"T_abf7a_row7_col7\" class=\"data row7 col7\" >1.00</td>\n",
       "      <td id=\"T_abf7a_row7_col8\" class=\"data row7 col8\" >2.00</td>\n",
       "      <td id=\"T_abf7a_row7_col9\" class=\"data row7 col9\" >1.34</td>\n",
       "    </tr>\n",
       "    <tr>\n",
       "      <th id=\"T_abf7a_level0_row8\" class=\"row_heading level0 row8\" >8</th>\n",
       "      <td id=\"T_abf7a_row8_col0\" class=\"data row8 col0\" >0.40</td>\n",
       "      <td id=\"T_abf7a_row8_col1\" class=\"data row8 col1\" >1.50</td>\n",
       "      <td id=\"T_abf7a_row8_col2\" class=\"data row8 col2\" >0.30</td>\n",
       "      <td id=\"T_abf7a_row8_col3\" class=\"data row8 col3\" >0.10</td>\n",
       "      <td id=\"T_abf7a_row8_col4\" class=\"data row8 col4\" >1.10</td>\n",
       "      <td id=\"T_abf7a_row8_col5\" class=\"data row8 col5\" >0.01</td>\n",
       "      <td id=\"T_abf7a_row8_col6\" class=\"data row8 col6\" >0.50</td>\n",
       "      <td id=\"T_abf7a_row8_col7\" class=\"data row8 col7\" >0.20</td>\n",
       "      <td id=\"T_abf7a_row8_col8\" class=\"data row8 col8\" >0.40</td>\n",
       "      <td id=\"T_abf7a_row8_col9\" class=\"data row8 col9\" >2.00</td>\n",
       "    </tr>\n",
       "  </tbody>\n",
       "</table>\n"
      ],
      "text/plain": [
       "<pandas.io.formats.style.Styler at 0x7c6c098db280>"
      ]
     },
     "execution_count": 18,
     "metadata": {},
     "output_type": "execute_result"
    }
   ],
   "source": [
    "estimated_td = [\n",
    "    [.16, 1.12, .54, .05, .30, .08, .39, .04, .31, 1.34],\n",
    "    [.15, .57,.24,.08,.05,.05,.16,.1,.14, .22],\n",
    "    [.05, .8, .2, .02, .15, .04, .3, .01, .25, 1.2],\n",
    "    [.1,.35,.15,.03, .05, .01, .06, .1, .15, .5],\n",
    "    [.07, .15, .05, .02, .01, 0, .04, .01, .08, .12],\n",
    "    [.15, .5, .3, .03, .01, 0, .05, .05, .2, .2]\n",
    "]\n",
    "\n",
    "length_td=16.5\n",
    "\n",
    "found_td = [11, 60, 9, 3, 0, 0,13, 1, 3, 179]\n",
    "found_tdm = np.array([x/length_td for x in found_td])\n",
    "\n",
    "tiger_duck_rows = make_rows(estimated_td, objects)\n",
    "tiger_duck = pd.DataFrame(tiger_duck_rows)\n",
    "\n",
    "found = pd.DataFrame([found_tdm, found_pm], columns=objects)\n",
    "fmelted = pd.melt(found, value_vars=found.columns)\n",
    "fmelted[\"source\"] = \"found\"\n",
    "\n",
    "combined = pd.concat([tiger_duck, pierrette])\n",
    "caption = \"Table 5: The estimated amount in pcs/meter for each object that the participants expected to find.\"\n",
    "combined.reset_index(inplace=True, drop=True)\n",
    "combined.style.format(precision=2).set_table_styles(table_large_font).set_caption(caption)"
   ]
  },
  {
   "cell_type": "markdown",
   "metadata": {
    "collapsed": false,
    "jupyter": {
     "outputs_hidden": false
    },
    "pycharm": {
     "name": "#%% md\n"
    }
   },
   "source": [
    "## Survey results October 5, 2023 Saint Sulpice\n",
    "\n",
    "After the particpants completed the forms, surveys were conducted at three beaches within the city limits of Saint Sulpice. Only the forms for two beaches were returned."
   ]
  },
  {
   "cell_type": "code",
   "execution_count": 19,
   "metadata": {
    "collapsed": false,
    "editable": true,
    "jupyter": {
     "outputs_hidden": false
    },
    "pycharm": {
     "name": "#%%\n"
    },
    "slideshow": {
     "slide_type": ""
    },
    "tags": [
     "remove-input"
    ]
   },
   "outputs": [
    {
     "data": {
      "text/html": [
       "<style type=\"text/css\">\n",
       "#T_b354f tr:nth-child(even) {\n",
       "  background-color: rgba(139, 69, 19, 0.08);\n",
       "}\n",
       "#T_b354f tr:nth-child(odd) {\n",
       "  background: #FFF;\n",
       "}\n",
       "#T_b354f tr {\n",
       "  font-size: 14px;\n",
       "  padding: 12px;\n",
       "}\n",
       "#T_b354f th:nth-child(1) {\n",
       "  background-color: #FFF;\n",
       "  text-align: right;\n",
       "}\n",
       "#T_b354f caption {\n",
       "  font-size: 14px;\n",
       "  font-style: italic;\n",
       "  caption-side: bottom;\n",
       "  text-align: left;\n",
       "  margin-top: 10px;\n",
       "}\n",
       "</style>\n",
       "<table id=\"T_b354f\">\n",
       "  <caption>Table 6: The survey results of the objects of interest on October 5, 2023 in pieces per meter</caption>\n",
       "  <thead>\n",
       "    <tr>\n",
       "      <th class=\"blank level0\" >&nbsp;</th>\n",
       "      <th id=\"T_b354f_level0_col0\" class=\"col_heading level0 col0\" >G112</th>\n",
       "      <th id=\"T_b354f_level0_col1\" class=\"col_heading level0 col1\" >G27</th>\n",
       "      <th id=\"T_b354f_level0_col2\" class=\"col_heading level0 col2\" >G30</th>\n",
       "      <th id=\"T_b354f_level0_col3\" class=\"col_heading level0 col3\" >G32</th>\n",
       "      <th id=\"T_b354f_level0_col4\" class=\"col_heading level0 col4\" >G67</th>\n",
       "      <th id=\"T_b354f_level0_col5\" class=\"col_heading level0 col5\" >G70</th>\n",
       "      <th id=\"T_b354f_level0_col6\" class=\"col_heading level0 col6\" >G95</th>\n",
       "      <th id=\"T_b354f_level0_col7\" class=\"col_heading level0 col7\" >G96</th>\n",
       "      <th id=\"T_b354f_level0_col8\" class=\"col_heading level0 col8\" >Gcaps</th>\n",
       "      <th id=\"T_b354f_level0_col9\" class=\"col_heading level0 col9\" >Gfrags</th>\n",
       "    </tr>\n",
       "  </thead>\n",
       "  <tbody>\n",
       "    <tr>\n",
       "      <th id=\"T_b354f_level0_row0\" class=\"row_heading level0 row0\" >tiger-duck-beach</th>\n",
       "      <td id=\"T_b354f_row0_col0\" class=\"data row0 col0\" >0.67</td>\n",
       "      <td id=\"T_b354f_row0_col1\" class=\"data row0 col1\" >3.64</td>\n",
       "      <td id=\"T_b354f_row0_col2\" class=\"data row0 col2\" >0.55</td>\n",
       "      <td id=\"T_b354f_row0_col3\" class=\"data row0 col3\" >0.18</td>\n",
       "      <td id=\"T_b354f_row0_col4\" class=\"data row0 col4\" >0.00</td>\n",
       "      <td id=\"T_b354f_row0_col5\" class=\"data row0 col5\" >0.00</td>\n",
       "      <td id=\"T_b354f_row0_col6\" class=\"data row0 col6\" >0.79</td>\n",
       "      <td id=\"T_b354f_row0_col7\" class=\"data row0 col7\" >0.06</td>\n",
       "      <td id=\"T_b354f_row0_col8\" class=\"data row0 col8\" >0.18</td>\n",
       "      <td id=\"T_b354f_row0_col9\" class=\"data row0 col9\" >10.85</td>\n",
       "    </tr>\n",
       "    <tr>\n",
       "      <th id=\"T_b354f_level0_row1\" class=\"row_heading level0 row1\" >parc-des-pierrettes</th>\n",
       "      <td id=\"T_b354f_row1_col0\" class=\"data row1 col0\" >0.08</td>\n",
       "      <td id=\"T_b354f_row1_col1\" class=\"data row1 col1\" >1.03</td>\n",
       "      <td id=\"T_b354f_row1_col2\" class=\"data row1 col2\" >0.14</td>\n",
       "      <td id=\"T_b354f_row1_col3\" class=\"data row1 col3\" >0.04</td>\n",
       "      <td id=\"T_b354f_row1_col4\" class=\"data row1 col4\" >0.00</td>\n",
       "      <td id=\"T_b354f_row1_col5\" class=\"data row1 col5\" >0.00</td>\n",
       "      <td id=\"T_b354f_row1_col6\" class=\"data row1 col6\" >0.24</td>\n",
       "      <td id=\"T_b354f_row1_col7\" class=\"data row1 col7\" >0.02</td>\n",
       "      <td id=\"T_b354f_row1_col8\" class=\"data row1 col8\" >0.24</td>\n",
       "      <td id=\"T_b354f_row1_col9\" class=\"data row1 col9\" >5.40</td>\n",
       "    </tr>\n",
       "  </tbody>\n",
       "</table>\n"
      ],
      "text/plain": [
       "<pandas.io.formats.style.Styler at 0x7c6bfdd33850>"
      ]
     },
     "execution_count": 19,
     "metadata": {},
     "output_type": "execute_result"
    }
   ],
   "source": [
    "caption=\"Table 6: The survey results of the objects of interest on October 5, 2023 in pieces per meter\"\n",
    "found_display = found.copy()\n",
    "found_display.loc[0, \"beach\"] = \"tiger-duck-beach\"\n",
    "found_display.loc[1, \"beach\"] = \"parc-des-pierrettes\"\n",
    "found_display.set_index(\"beach\", inplace=True, drop=True)\n",
    "found_display.index.name = None\n",
    "found_display.style.format(precision=2).set_table_styles(table_large_font).set_caption(caption)"
   ]
  },
  {
   "cell_type": "markdown",
   "metadata": {
    "editable": true,
    "pycharm": {
     "name": "#%% md\n"
    },
    "slideshow": {
     "slide_type": ""
    },
    "tags": []
   },
   "source": [
    "## Survey results October 5, 2023 Saint Sulpice\n",
    "\n",
    "After the particpants completed the forms, surveys were conducted at three beaches within the city limits of Saint Sulpice. Only the forms for two beaches were returned."
   ]
  },
  {
   "cell_type": "code",
   "execution_count": 20,
   "metadata": {
    "editable": true,
    "pycharm": {
     "name": "#%%\n"
    },
    "slideshow": {
     "slide_type": ""
    },
    "tags": [
     "remove-input"
    ]
   },
   "outputs": [
    {
     "data": {
      "text/html": [
       "<style type=\"text/css\">\n",
       "#T_075e0 tr:nth-child(even) {\n",
       "  background-color: rgba(139, 69, 19, 0.08);\n",
       "}\n",
       "#T_075e0 tr:nth-child(odd) {\n",
       "  background: #FFF;\n",
       "}\n",
       "#T_075e0 tr {\n",
       "  font-size: 14px;\n",
       "  padding: 12px;\n",
       "}\n",
       "#T_075e0 th:nth-child(1) {\n",
       "  background-color: #FFF;\n",
       "  text-align: right;\n",
       "}\n",
       "#T_075e0 caption {\n",
       "  font-size: 14px;\n",
       "  font-style: italic;\n",
       "  caption-side: bottom;\n",
       "  text-align: left;\n",
       "  margin-top: 10px;\n",
       "}\n",
       "</style>\n",
       "<table id=\"T_075e0\">\n",
       "  <caption>Table 6: The survey results of the objects of interest on October 5, 2023 in pieces per meter</caption>\n",
       "  <thead>\n",
       "    <tr>\n",
       "      <th class=\"blank level0\" >&nbsp;</th>\n",
       "      <th id=\"T_075e0_level0_col0\" class=\"col_heading level0 col0\" >G112</th>\n",
       "      <th id=\"T_075e0_level0_col1\" class=\"col_heading level0 col1\" >G27</th>\n",
       "      <th id=\"T_075e0_level0_col2\" class=\"col_heading level0 col2\" >G30</th>\n",
       "      <th id=\"T_075e0_level0_col3\" class=\"col_heading level0 col3\" >G32</th>\n",
       "      <th id=\"T_075e0_level0_col4\" class=\"col_heading level0 col4\" >G67</th>\n",
       "      <th id=\"T_075e0_level0_col5\" class=\"col_heading level0 col5\" >G70</th>\n",
       "      <th id=\"T_075e0_level0_col6\" class=\"col_heading level0 col6\" >G95</th>\n",
       "      <th id=\"T_075e0_level0_col7\" class=\"col_heading level0 col7\" >G96</th>\n",
       "      <th id=\"T_075e0_level0_col8\" class=\"col_heading level0 col8\" >Gcaps</th>\n",
       "      <th id=\"T_075e0_level0_col9\" class=\"col_heading level0 col9\" >Gfrags</th>\n",
       "    </tr>\n",
       "  </thead>\n",
       "  <tbody>\n",
       "    <tr>\n",
       "      <th id=\"T_075e0_level0_row0\" class=\"row_heading level0 row0\" >tiger-duck-beach</th>\n",
       "      <td id=\"T_075e0_row0_col0\" class=\"data row0 col0\" >0.67</td>\n",
       "      <td id=\"T_075e0_row0_col1\" class=\"data row0 col1\" >3.64</td>\n",
       "      <td id=\"T_075e0_row0_col2\" class=\"data row0 col2\" >0.55</td>\n",
       "      <td id=\"T_075e0_row0_col3\" class=\"data row0 col3\" >0.18</td>\n",
       "      <td id=\"T_075e0_row0_col4\" class=\"data row0 col4\" >0.00</td>\n",
       "      <td id=\"T_075e0_row0_col5\" class=\"data row0 col5\" >0.00</td>\n",
       "      <td id=\"T_075e0_row0_col6\" class=\"data row0 col6\" >0.79</td>\n",
       "      <td id=\"T_075e0_row0_col7\" class=\"data row0 col7\" >0.06</td>\n",
       "      <td id=\"T_075e0_row0_col8\" class=\"data row0 col8\" >0.18</td>\n",
       "      <td id=\"T_075e0_row0_col9\" class=\"data row0 col9\" >10.85</td>\n",
       "    </tr>\n",
       "    <tr>\n",
       "      <th id=\"T_075e0_level0_row1\" class=\"row_heading level0 row1\" >parc-des-pierrettes</th>\n",
       "      <td id=\"T_075e0_row1_col0\" class=\"data row1 col0\" >0.08</td>\n",
       "      <td id=\"T_075e0_row1_col1\" class=\"data row1 col1\" >1.03</td>\n",
       "      <td id=\"T_075e0_row1_col2\" class=\"data row1 col2\" >0.14</td>\n",
       "      <td id=\"T_075e0_row1_col3\" class=\"data row1 col3\" >0.04</td>\n",
       "      <td id=\"T_075e0_row1_col4\" class=\"data row1 col4\" >0.00</td>\n",
       "      <td id=\"T_075e0_row1_col5\" class=\"data row1 col5\" >0.00</td>\n",
       "      <td id=\"T_075e0_row1_col6\" class=\"data row1 col6\" >0.24</td>\n",
       "      <td id=\"T_075e0_row1_col7\" class=\"data row1 col7\" >0.02</td>\n",
       "      <td id=\"T_075e0_row1_col8\" class=\"data row1 col8\" >0.24</td>\n",
       "      <td id=\"T_075e0_row1_col9\" class=\"data row1 col9\" >5.40</td>\n",
       "    </tr>\n",
       "  </tbody>\n",
       "</table>\n"
      ],
      "text/plain": [
       "<pandas.io.formats.style.Styler at 0x7c6bfd855ac0>"
      ]
     },
     "execution_count": 20,
     "metadata": {},
     "output_type": "execute_result"
    }
   ],
   "source": [
    "caption=\"Table 6: The survey results of the objects of interest on October 5, 2023 in pieces per meter\"\n",
    "found_display = found.copy()\n",
    "found_display.loc[0, \"beach\"] = \"tiger-duck-beach\"\n",
    "found_display.loc[1, \"beach\"] = \"parc-des-pierrettes\"\n",
    "found_display.set_index(\"beach\", inplace=True, drop=True)\n",
    "found_display.index.name = None\n",
    "found_display.style.format(precision=2).set_table_styles(table_large_font).set_caption(caption)"
   ]
  },
  {
   "cell_type": "markdown",
   "metadata": {
    "editable": true,
    "pycharm": {
     "name": "#%% md\n"
    },
    "slideshow": {
     "slide_type": ""
    },
    "tags": []
   },
   "source": [
    "## Results: Estimated, found and predicted\n",
    "\n",
    "It appears that both the participants and the model underestimated the amount of plastic fragments. Recall that the participants were given the cumulative results for these objects, table 1."
   ]
  },
  {
   "cell_type": "code",
   "execution_count": 21,
   "metadata": {
    "editable": true,
    "pycharm": {
     "name": "#%%\n"
    },
    "slideshow": {
     "slide_type": ""
    },
    "tags": [
     "remove-input"
    ]
   },
   "outputs": [
    {
     "data": {
      "application/papermill.record/image/png": "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",
      "application/papermill.record/text/plain": "<Figure size 640x480 with 1 Axes>"
     },
     "metadata": {
      "scrapbook": {
       "mime_prefix": "application/papermill.record/",
       "name": "estimated-found-predicted-2023"
      }
     },
     "output_type": "display_data"
    }
   ],
   "source": [
    "\n",
    "combined.reset_index(inplace=True, drop=True)\n",
    "comb_long = pd.melt(combined, value_vars=combined.columns)\n",
    "comb_long[\"source\"] = \"estimated\"\n",
    "\n",
    "predicted_median = list(zip(objects,pred_quants.loc[\"50%\"]))\n",
    "pmelted = pd.DataFrame(predicted_median, columns=[\"variable\", \"value\"])\n",
    "pmelted[\"source\"] = \"predicted\"\n",
    "\n",
    "predict_estimate_found = pd.concat([fmelted, pmelted, comb_long])\n",
    "\n",
    "fig, ax = plt.subplots()\n",
    "\n",
    "data_one = predict_estimate_found[predict_estimate_found.source == \"estimated\"]\n",
    "data_two = predict_estimate_found[predict_estimate_found.source == \"found\"]\n",
    "data_three = predict_estimate_found[predict_estimate_found.source == \"predicted\"]\n",
    "sns.scatterplot(data=data_one, x=\"variable\", y=\"value\", color=\"magenta\", zorder=0,ax=ax, label=\"estimated\")\n",
    "sns.scatterplot(data=data_two, x=\"variable\", y=\"value\", color=\"dodgerblue\", marker=\"X\", s=60, zorder=2,ax=ax, label=\"found\")\n",
    "sns.scatterplot(data=data_three, x=\"variable\", y=\"value\", color=\"black\", zorder=3,ax=ax,label=\"predicted\")\n",
    "ax.set_xlabel(\"\")\n",
    "ax.set_ylabel(\"pcs/m\")\n",
    "ax.legend()\n",
    "glue('estimated-found-predicted-2023', fig, display=False)\n",
    "plt.close()"
   ]
  },
  {
   "cell_type": "markdown",
   "metadata": {
    "editable": true,
    "pycharm": {
     "name": "#%% md\n"
    },
    "slideshow": {
     "slide_type": ""
    },
    "tags": []
   },
   "source": [
    "|Figure 3|\n",
    "|:------------:|\n",
    "|{glue:}`estimated-found-predicted-2023`|\n",
    "|Figure 3: _The Estimated, observed and predicted results for the objects of interest, Saint Sulpice October 5, 2023_|\n",
    " "
   ]
  },
  {
   "cell_type": "markdown",
   "metadata": {
    "editable": true,
    "pycharm": {
     "name": "#%% md\n"
    },
    "slideshow": {
     "slide_type": ""
    },
    "tags": []
   },
   "source": [
    "The predicted values from the model were all closer than the predicted values by the participants, table 7. In total 17/20 oserved results fell within the 96% probability interval predicted by the model, 7/20 fell within the 50% probability interval, Annex: table 8. Of the objects not within the 96% interval there is:\n",
    "1. Fragmented plastics, (both surveys)\n",
    "2. Cigarette ends\n",
    "3. Toys and party favors\n",
    "\n",
    "From figure 4 we can see how close the predictions and the estimates are."
   ]
  },
  {
   "cell_type": "code",
   "execution_count": 22,
   "metadata": {
    "editable": true,
    "pycharm": {
     "name": "#%%\n"
    },
    "slideshow": {
     "slide_type": ""
    },
    "tags": [
     "remove-input"
    ]
   },
   "outputs": [],
   "source": [
    "def calculate_the_difference_estimated_found(combined, found_tdm, objects):\n",
    "    diffs = []\n",
    "    for i, o in enumerate(objects):\n",
    "        diff = combined[objects[i]] - found_tdm[i]\n",
    "        # diffpr = combined[objects[i]] - found_pm[i]\n",
    "        diff_sq = (diff**2)**.5\n",
    "        diffs.append(diff_sq)\n",
    "    return diffs\n",
    "difference_estimated_found_td = calculate_the_difference_estimated_found(tiger_duck, found_tdm, objects)\n",
    "difference_estimated_found_pr = calculate_the_difference_estimated_found(pierrette, found_pm, objects)\n",
    "td_diff = pd.DataFrame(difference_estimated_found_td).T\n",
    "pier_diff = pd.DataFrame(difference_estimated_found_pr).T\n",
    "combined_diffs = pd.concat([td_diff, pier_diff])\n",
    "c_diff_estimated = pd.melt(combined_diffs, value_vars=combined_diffs.columns)\n",
    "c_diff_estimated[\"source\"] = \"difference² of estimated\""
   ]
  },
  {
   "cell_type": "code",
   "execution_count": 23,
   "metadata": {
    "editable": true,
    "pycharm": {
     "name": "#%%\n"
    },
    "slideshow": {
     "slide_type": ""
    },
    "tags": [
     "remove-input"
    ]
   },
   "outputs": [],
   "source": [
    "predicted_median = pred_quants.loc[\"50%\"]\n",
    "diff_1 = []\n",
    "diff_2 = []\n",
    "for i, o in enumerate(objects):    \n",
    "    diffp = predicted_median[i] - found_tdm[i]\n",
    "    diffpr = predicted_median[i] - found_pm[i]\n",
    "    diff_sq = (np.array([diffp, diffpr])**2)**.5\n",
    "    diff_1.append(diff_sq[0])\n",
    "    diff_2.append(diff_sq[1])\n",
    "\n",
    "\n",
    "pred_diffs = pd.DataFrame([diff_1, diff_2], columns=objects)\n",
    "p_diff_predicted = pd.melt(pred_diffs, value_vars=pred_diffs.columns)\n",
    "p_diff_predicted[\"source\"] = \"difference² of predicted\""
   ]
  },
  {
   "cell_type": "code",
   "execution_count": 24,
   "metadata": {
    "editable": true,
    "pycharm": {
     "name": "#%%\n"
    },
    "slideshow": {
     "slide_type": ""
    },
    "tags": [
     "remove-input"
    ]
   },
   "outputs": [
    {
     "data": {
      "application/papermill.record/image/png": "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",
      "application/papermill.record/text/plain": "<Figure size 640x480 with 1 Axes>"
     },
     "metadata": {
      "scrapbook": {
       "mime_prefix": "application/papermill.record/",
       "name": "diference-estimated-found-predicted-2023"
      }
     },
     "output_type": "display_data"
    }
   ],
   "source": [
    "results = pd.concat([c_diff_estimated, p_diff_predicted])\n",
    "\n",
    "fig, ax = plt.subplots()\n",
    "\n",
    "ax.plot(objects, [*[0]*len(objects)], label=\"zero\")\n",
    "sns.scatterplot(data=results, x=\"variable\", y=\"value\", ax=ax, hue=\"source\", palette=[\"magenta\", \"black\"])\n",
    "ax.set_xlabel(\"\")\n",
    "ax.set_ylabel(\"pcs/m\")\n",
    "ax.legend()\n",
    "glue('diference-estimated-found-predicted-2023', fig, display=False)\n",
    "plt.close()"
   ]
  },
  {
   "cell_type": "markdown",
   "metadata": {
    "editable": true,
    "pycharm": {
     "name": "#%% md\n"
    },
    "slideshow": {
     "slide_type": ""
    },
    "tags": []
   },
   "source": [
    "|Figure 4|\n",
    "|:------------:|\n",
    "|{glue:}`diference-estimated-found-predicted-2023`|\n",
    "|Figure 4: _The root of the squared difference between observed estimated and predicted, Saint Sulpice October 5, 2023_| "
   ]
  },
  {
   "cell_type": "code",
   "execution_count": 25,
   "metadata": {
    "editable": true,
    "pycharm": {
     "name": "#%%\n"
    },
    "slideshow": {
     "slide_type": ""
    },
    "tags": [
     "remove-input"
    ]
   },
   "outputs": [
    {
     "data": {
      "text/html": [
       "<style type=\"text/css\">\n",
       "#T_565a7 tr:nth-child(even) {\n",
       "  background-color: rgba(139, 69, 19, 0.08);\n",
       "}\n",
       "#T_565a7 tr:nth-child(odd) {\n",
       "  background: #FFF;\n",
       "}\n",
       "#T_565a7 tr {\n",
       "  font-size: 14px;\n",
       "  padding: 12px;\n",
       "}\n",
       "#T_565a7 th:nth-child(1) {\n",
       "  background-color: #FFF;\n",
       "  text-align: right;\n",
       "}\n",
       "#T_565a7 caption {\n",
       "  font-size: 14px;\n",
       "  font-style: italic;\n",
       "  caption-side: bottom;\n",
       "  text-align: left;\n",
       "  margin-top: 10px;\n",
       "}\n",
       "</style>\n",
       "<table id=\"T_565a7\">\n",
       "  <caption>Table 7: The average difference between what was found and the estimates of the participants and what was predicted using the empirical Bayes method</caption>\n",
       "  <thead>\n",
       "    <tr>\n",
       "      <th class=\"blank level0\" >&nbsp;</th>\n",
       "      <th id=\"T_565a7_level0_col0\" class=\"col_heading level0 col0\" colspan=\"2\">average</th>\n",
       "    </tr>\n",
       "    <tr>\n",
       "      <th class=\"index_name level1\" >source</th>\n",
       "      <th id=\"T_565a7_level1_col0\" class=\"col_heading level1 col0\" >difference² of estimated</th>\n",
       "      <th id=\"T_565a7_level1_col1\" class=\"col_heading level1 col1\" >difference² of predicted</th>\n",
       "    </tr>\n",
       "  </thead>\n",
       "  <tbody>\n",
       "    <tr>\n",
       "      <th id=\"T_565a7_level0_row0\" class=\"row_heading level0 row0\" >G112</th>\n",
       "      <td id=\"T_565a7_row0_col0\" class=\"data row0 col0\" >1.07</td>\n",
       "      <td id=\"T_565a7_row0_col1\" class=\"data row0 col1\" >0.29</td>\n",
       "    </tr>\n",
       "    <tr>\n",
       "      <th id=\"T_565a7_level0_row1\" class=\"row_heading level0 row1\" >G27</th>\n",
       "      <td id=\"T_565a7_row1_col0\" class=\"data row1 col0\" >2.32</td>\n",
       "      <td id=\"T_565a7_row1_col1\" class=\"data row1 col1\" >1.87</td>\n",
       "    </tr>\n",
       "    <tr>\n",
       "      <th id=\"T_565a7_level0_row2\" class=\"row_heading level0 row2\" >G30</th>\n",
       "      <td id=\"T_565a7_row2_col0\" class=\"data row2 col0\" >0.31</td>\n",
       "      <td id=\"T_565a7_row2_col1\" class=\"data row2 col1\" >0.20</td>\n",
       "    </tr>\n",
       "    <tr>\n",
       "      <th id=\"T_565a7_level0_row3\" class=\"row_heading level0 row3\" >G32</th>\n",
       "      <td id=\"T_565a7_row3_col0\" class=\"data row3 col0\" >0.11</td>\n",
       "      <td id=\"T_565a7_row3_col1\" class=\"data row3 col1\" >0.07</td>\n",
       "    </tr>\n",
       "    <tr>\n",
       "      <th id=\"T_565a7_level0_row4\" class=\"row_heading level0 row4\" >G67</th>\n",
       "      <td id=\"T_565a7_row4_col0\" class=\"data row4 col0\" >0.26</td>\n",
       "      <td id=\"T_565a7_row4_col1\" class=\"data row4 col1\" >0.16</td>\n",
       "    </tr>\n",
       "    <tr>\n",
       "      <th id=\"T_565a7_level0_row5\" class=\"row_heading level0 row5\" >G70</th>\n",
       "      <td id=\"T_565a7_row5_col0\" class=\"data row5 col0\" >0.03</td>\n",
       "      <td id=\"T_565a7_row5_col1\" class=\"data row5 col1\" >0.01</td>\n",
       "    </tr>\n",
       "    <tr>\n",
       "      <th id=\"T_565a7_level0_row6\" class=\"row_heading level0 row6\" >G95</th>\n",
       "      <td id=\"T_565a7_row6_col0\" class=\"data row6 col0\" >0.52</td>\n",
       "      <td id=\"T_565a7_row6_col1\" class=\"data row6 col1\" >0.27</td>\n",
       "    </tr>\n",
       "    <tr>\n",
       "      <th id=\"T_565a7_level0_row7\" class=\"row_heading level0 row7\" >G96</th>\n",
       "      <td id=\"T_565a7_row7_col0\" class=\"data row7 col0\" >0.15</td>\n",
       "      <td id=\"T_565a7_row7_col1\" class=\"data row7 col1\" >0.02</td>\n",
       "    </tr>\n",
       "    <tr>\n",
       "      <th id=\"T_565a7_level0_row8\" class=\"row_heading level0 row8\" >Gcaps</th>\n",
       "      <td id=\"T_565a7_row8_col0\" class=\"data row8 col0\" >0.26</td>\n",
       "      <td id=\"T_565a7_row8_col1\" class=\"data row8 col1\" >0.10</td>\n",
       "    </tr>\n",
       "    <tr>\n",
       "      <th id=\"T_565a7_level0_row9\" class=\"row_heading level0 row9\" >Gfrags</th>\n",
       "      <td id=\"T_565a7_row9_col0\" class=\"data row9 col0\" >8.11</td>\n",
       "      <td id=\"T_565a7_row9_col1\" class=\"data row9 col1\" >7.38</td>\n",
       "    </tr>\n",
       "  </tbody>\n",
       "</table>\n"
      ],
      "text/plain": [
       "<pandas.io.formats.style.Styler at 0x7c6c0c679be0>"
      ]
     },
     "execution_count": 25,
     "metadata": {},
     "output_type": "execute_result"
    }
   ],
   "source": [
    "r = results.groupby([\"source\", \"variable\"], as_index=False).value.mean()\n",
    "r.rename(columns={\"value\":\"average\"}, inplace=True)\n",
    "rp = r.pivot(index=\"variable\", columns=\"source\")\n",
    "rp.index.name = None\n",
    "caption = \"Table 7: The average difference between what was found and the estimates of the participants and what was predicted using the empirical Bayes method\"\n",
    "rp.style.set_table_styles(table_large_font).format(precision=2).set_caption(caption)"
   ]
  },
  {
   "cell_type": "code",
   "execution_count": 26,
   "metadata": {
    "editable": true,
    "pycharm": {
     "name": "#%%\n"
    },
    "slideshow": {
     "slide_type": ""
    },
    "tags": [
     "remove-input"
    ]
   },
   "outputs": [],
   "source": [
    "def are_the_observed_values_within_the_hdi(found, objects, predicted, index=0):\n",
    "    place = []\n",
    "    for i, o in enumerate(objects):\n",
    "        f = found.loc[index, o]\n",
    "        p = predicted[o].values\n",
    "        ip = bisect_left(p, f)\n",
    "        if ip >= 0 and ip <= 6:\n",
    "            # is within 94% HDI\n",
    "            within_96 = True\n",
    "        else:\n",
    "            within_96 = False                  \n",
    "        if ip >= 1 and ip <= 5:\n",
    "            # is within 50% HDI           \n",
    "            within_50 = True\n",
    "        else:          \n",
    "            within_50 = False    \n",
    "            \n",
    "        place.append([o, within_96, within_50])\n",
    "    return place\n",
    "\n",
    "simple_results_td = are_the_observed_values_within_the_hdi(found, objects, pred_quants)\n",
    "td_predicted_results = pd.DataFrame(simple_results_td, columns=[\"object\",\"within 96% HDI\", \"within 50% HDI\"])\n",
    "\n",
    "simple_results_p = are_the_observed_values_within_the_hdi(found, objects, pred_quants, index=1)\n",
    "p_predicted_results = pd.DataFrame(simple_results_p, columns=[\"object\",\"within 96% HDI\", \"within 50% HDI\"])\n",
    "\n",
    "all_predicted_results = pd.concat([td_predicted_results, p_predicted_results])"
   ]
  },
  {
   "cell_type": "markdown",
   "metadata": {
    "editable": true,
    "pycharm": {
     "name": "#%% md\n"
    },
    "slideshow": {
     "slide_type": ""
    },
    "tags": []
   },
   "source": [
    "## Discussion\n",
    "\n",
    "There were three surveys completed, two are reflected in the report. Neither the the estimated amounts from the particpants or the survey results were returned for the third survey. On location the participants were shown examples of the objects of interest. The limits of the survey area were defined and the survey was conducted in small groups. The objects found on the beach were separated and counted on location. The identification or the differentiation of fragmented plastics and foams remains difficult for new participants. This is in one part due to the constraints of time and on the other to the lack of experience. Many times what initially appears to be an unidentifiable piece of plastic can actually be placed in a more precise category with reasonable certainty. The new paritcipants do not have the time to consider other possibilities or simply are unaware of the original use of the item in questions.\n",
    "\n",
    "Many participants used the previous aggregated survey results to estimate the expected values. This reasonable strategy produced estimates that were very close to the predicted survey results. This suggests that previous survey results can serve as an indicator for expected results as long as the objects have been identified correctly and consistently in the past. Yet, from table 7 it is clear that predictions are more accurate when a formal method is used. \n",
    "\n",
    "## Conclusions\n",
    "\n",
    "From this experience we conclude that the expected values in table 4 do represent probable beach-litter densities in the region. \n",
    "\n",
    "### Next steps\n",
    "\n",
    "Make hierarchical model"
   ]
  },
  {
   "cell_type": "markdown",
   "metadata": {
    "editable": true,
    "pycharm": {
     "name": "#%% md\n"
    },
    "slideshow": {
     "slide_type": ""
    },
    "tags": []
   },
   "source": [
    "## Annex"
   ]
  },
  {
   "cell_type": "markdown",
   "metadata": {
    "editable": true,
    "pycharm": {
     "name": "#%% md\n"
    },
    "slideshow": {
     "slide_type": ""
    },
    "tags": []
   },
   "source": [
    "### The accuracy of the predictions in relation to what was found"
   ]
  },
  {
   "cell_type": "code",
   "execution_count": 27,
   "metadata": {
    "editable": true,
    "pycharm": {
     "name": "#%%\n"
    },
    "slideshow": {
     "slide_type": ""
    },
    "tags": [
     "remove-input"
    ]
   },
   "outputs": [
    {
     "data": {
      "text/html": [
       "<style type=\"text/css\">\n",
       "#T_5cefd tr:nth-child(even) {\n",
       "  background-color: rgba(139, 69, 19, 0.08);\n",
       "}\n",
       "#T_5cefd tr:nth-child(odd) {\n",
       "  background: #FFF;\n",
       "}\n",
       "#T_5cefd tr {\n",
       "  font-size: 14px;\n",
       "  padding: 12px;\n",
       "}\n",
       "#T_5cefd th:nth-child(1) {\n",
       "  background-color: #FFF;\n",
       "  text-align: right;\n",
       "}\n",
       "#T_5cefd caption {\n",
       "  font-size: 14px;\n",
       "  font-style: italic;\n",
       "  caption-side: bottom;\n",
       "  text-align: left;\n",
       "  margin-top: 10px;\n",
       "}\n",
       "</style>\n",
       "<table id=\"T_5cefd\">\n",
       "  <caption>Table 8: Whether the observed value fell within the predicted interval</caption>\n",
       "  <thead>\n",
       "    <tr>\n",
       "      <th class=\"blank level0\" >&nbsp;</th>\n",
       "      <th id=\"T_5cefd_level0_col0\" class=\"col_heading level0 col0\" >object</th>\n",
       "      <th id=\"T_5cefd_level0_col1\" class=\"col_heading level0 col1\" >within 96% HDI</th>\n",
       "      <th id=\"T_5cefd_level0_col2\" class=\"col_heading level0 col2\" >within 50% HDI</th>\n",
       "    </tr>\n",
       "  </thead>\n",
       "  <tbody>\n",
       "    <tr>\n",
       "      <th id=\"T_5cefd_level0_row0\" class=\"row_heading level0 row0\" >0</th>\n",
       "      <td id=\"T_5cefd_row0_col0\" class=\"data row0 col0\" >G112</td>\n",
       "      <td id=\"T_5cefd_row0_col1\" class=\"data row0 col1\" >True</td>\n",
       "      <td id=\"T_5cefd_row0_col2\" class=\"data row0 col2\" >True</td>\n",
       "    </tr>\n",
       "    <tr>\n",
       "      <th id=\"T_5cefd_level0_row1\" class=\"row_heading level0 row1\" >1</th>\n",
       "      <td id=\"T_5cefd_row1_col0\" class=\"data row1 col0\" >G27</td>\n",
       "      <td id=\"T_5cefd_row1_col1\" class=\"data row1 col1\" >False</td>\n",
       "      <td id=\"T_5cefd_row1_col2\" class=\"data row1 col2\" >False</td>\n",
       "    </tr>\n",
       "    <tr>\n",
       "      <th id=\"T_5cefd_level0_row2\" class=\"row_heading level0 row2\" >2</th>\n",
       "      <td id=\"T_5cefd_row2_col0\" class=\"data row2 col0\" >G30</td>\n",
       "      <td id=\"T_5cefd_row2_col1\" class=\"data row2 col1\" >True</td>\n",
       "      <td id=\"T_5cefd_row2_col2\" class=\"data row2 col2\" >True</td>\n",
       "    </tr>\n",
       "    <tr>\n",
       "      <th id=\"T_5cefd_level0_row3\" class=\"row_heading level0 row3\" >3</th>\n",
       "      <td id=\"T_5cefd_row3_col0\" class=\"data row3 col0\" >G32</td>\n",
       "      <td id=\"T_5cefd_row3_col1\" class=\"data row3 col1\" >False</td>\n",
       "      <td id=\"T_5cefd_row3_col2\" class=\"data row3 col2\" >False</td>\n",
       "    </tr>\n",
       "    <tr>\n",
       "      <th id=\"T_5cefd_level0_row4\" class=\"row_heading level0 row4\" >4</th>\n",
       "      <td id=\"T_5cefd_row4_col0\" class=\"data row4 col0\" >G67</td>\n",
       "      <td id=\"T_5cefd_row4_col1\" class=\"data row4 col1\" >True</td>\n",
       "      <td id=\"T_5cefd_row4_col2\" class=\"data row4 col2\" >False</td>\n",
       "    </tr>\n",
       "    <tr>\n",
       "      <th id=\"T_5cefd_level0_row5\" class=\"row_heading level0 row5\" >5</th>\n",
       "      <td id=\"T_5cefd_row5_col0\" class=\"data row5 col0\" >G70</td>\n",
       "      <td id=\"T_5cefd_row5_col1\" class=\"data row5 col1\" >True</td>\n",
       "      <td id=\"T_5cefd_row5_col2\" class=\"data row5 col2\" >False</td>\n",
       "    </tr>\n",
       "    <tr>\n",
       "      <th id=\"T_5cefd_level0_row6\" class=\"row_heading level0 row6\" >6</th>\n",
       "      <td id=\"T_5cefd_row6_col0\" class=\"data row6 col0\" >G95</td>\n",
       "      <td id=\"T_5cefd_row6_col1\" class=\"data row6 col1\" >True</td>\n",
       "      <td id=\"T_5cefd_row6_col2\" class=\"data row6 col2\" >False</td>\n",
       "    </tr>\n",
       "    <tr>\n",
       "      <th id=\"T_5cefd_level0_row7\" class=\"row_heading level0 row7\" >7</th>\n",
       "      <td id=\"T_5cefd_row7_col0\" class=\"data row7 col0\" >G96</td>\n",
       "      <td id=\"T_5cefd_row7_col1\" class=\"data row7 col1\" >True</td>\n",
       "      <td id=\"T_5cefd_row7_col2\" class=\"data row7 col2\" >True</td>\n",
       "    </tr>\n",
       "    <tr>\n",
       "      <th id=\"T_5cefd_level0_row8\" class=\"row_heading level0 row8\" >8</th>\n",
       "      <td id=\"T_5cefd_row8_col0\" class=\"data row8 col0\" >Gcaps</td>\n",
       "      <td id=\"T_5cefd_row8_col1\" class=\"data row8 col1\" >True</td>\n",
       "      <td id=\"T_5cefd_row8_col2\" class=\"data row8 col2\" >True</td>\n",
       "    </tr>\n",
       "    <tr>\n",
       "      <th id=\"T_5cefd_level0_row9\" class=\"row_heading level0 row9\" >9</th>\n",
       "      <td id=\"T_5cefd_row9_col0\" class=\"data row9 col0\" >Gfrags</td>\n",
       "      <td id=\"T_5cefd_row9_col1\" class=\"data row9 col1\" >False</td>\n",
       "      <td id=\"T_5cefd_row9_col2\" class=\"data row9 col2\" >False</td>\n",
       "    </tr>\n",
       "    <tr>\n",
       "      <th id=\"T_5cefd_level0_row10\" class=\"row_heading level0 row10\" >0</th>\n",
       "      <td id=\"T_5cefd_row10_col0\" class=\"data row10 col0\" >G112</td>\n",
       "      <td id=\"T_5cefd_row10_col1\" class=\"data row10 col1\" >True</td>\n",
       "      <td id=\"T_5cefd_row10_col2\" class=\"data row10 col2\" >True</td>\n",
       "    </tr>\n",
       "    <tr>\n",
       "      <th id=\"T_5cefd_level0_row11\" class=\"row_heading level0 row11\" >1</th>\n",
       "      <td id=\"T_5cefd_row11_col0\" class=\"data row11 col0\" >G27</td>\n",
       "      <td id=\"T_5cefd_row11_col1\" class=\"data row11 col1\" >True</td>\n",
       "      <td id=\"T_5cefd_row11_col2\" class=\"data row11 col2\" >False</td>\n",
       "    </tr>\n",
       "    <tr>\n",
       "      <th id=\"T_5cefd_level0_row12\" class=\"row_heading level0 row12\" >2</th>\n",
       "      <td id=\"T_5cefd_row12_col0\" class=\"data row12 col0\" >G30</td>\n",
       "      <td id=\"T_5cefd_row12_col1\" class=\"data row12 col1\" >True</td>\n",
       "      <td id=\"T_5cefd_row12_col2\" class=\"data row12 col2\" >True</td>\n",
       "    </tr>\n",
       "    <tr>\n",
       "      <th id=\"T_5cefd_level0_row13\" class=\"row_heading level0 row13\" >3</th>\n",
       "      <td id=\"T_5cefd_row13_col0\" class=\"data row13 col0\" >G32</td>\n",
       "      <td id=\"T_5cefd_row13_col1\" class=\"data row13 col1\" >True</td>\n",
       "      <td id=\"T_5cefd_row13_col2\" class=\"data row13 col2\" >True</td>\n",
       "    </tr>\n",
       "    <tr>\n",
       "      <th id=\"T_5cefd_level0_row14\" class=\"row_heading level0 row14\" >4</th>\n",
       "      <td id=\"T_5cefd_row14_col0\" class=\"data row14 col0\" >G67</td>\n",
       "      <td id=\"T_5cefd_row14_col1\" class=\"data row14 col1\" >True</td>\n",
       "      <td id=\"T_5cefd_row14_col2\" class=\"data row14 col2\" >False</td>\n",
       "    </tr>\n",
       "    <tr>\n",
       "      <th id=\"T_5cefd_level0_row15\" class=\"row_heading level0 row15\" >5</th>\n",
       "      <td id=\"T_5cefd_row15_col0\" class=\"data row15 col0\" >G70</td>\n",
       "      <td id=\"T_5cefd_row15_col1\" class=\"data row15 col1\" >True</td>\n",
       "      <td id=\"T_5cefd_row15_col2\" class=\"data row15 col2\" >False</td>\n",
       "    </tr>\n",
       "    <tr>\n",
       "      <th id=\"T_5cefd_level0_row16\" class=\"row_heading level0 row16\" >6</th>\n",
       "      <td id=\"T_5cefd_row16_col0\" class=\"data row16 col0\" >G95</td>\n",
       "      <td id=\"T_5cefd_row16_col1\" class=\"data row16 col1\" >True</td>\n",
       "      <td id=\"T_5cefd_row16_col2\" class=\"data row16 col2\" >True</td>\n",
       "    </tr>\n",
       "    <tr>\n",
       "      <th id=\"T_5cefd_level0_row17\" class=\"row_heading level0 row17\" >7</th>\n",
       "      <td id=\"T_5cefd_row17_col0\" class=\"data row17 col0\" >G96</td>\n",
       "      <td id=\"T_5cefd_row17_col1\" class=\"data row17 col1\" >True</td>\n",
       "      <td id=\"T_5cefd_row17_col2\" class=\"data row17 col2\" >True</td>\n",
       "    </tr>\n",
       "    <tr>\n",
       "      <th id=\"T_5cefd_level0_row18\" class=\"row_heading level0 row18\" >8</th>\n",
       "      <td id=\"T_5cefd_row18_col0\" class=\"data row18 col0\" >Gcaps</td>\n",
       "      <td id=\"T_5cefd_row18_col1\" class=\"data row18 col1\" >True</td>\n",
       "      <td id=\"T_5cefd_row18_col2\" class=\"data row18 col2\" >False</td>\n",
       "    </tr>\n",
       "    <tr>\n",
       "      <th id=\"T_5cefd_level0_row19\" class=\"row_heading level0 row19\" >9</th>\n",
       "      <td id=\"T_5cefd_row19_col0\" class=\"data row19 col0\" >Gfrags</td>\n",
       "      <td id=\"T_5cefd_row19_col1\" class=\"data row19 col1\" >False</td>\n",
       "      <td id=\"T_5cefd_row19_col2\" class=\"data row19 col2\" >False</td>\n",
       "    </tr>\n",
       "  </tbody>\n",
       "</table>\n"
      ],
      "text/plain": [
       "<pandas.io.formats.style.Styler at 0x7c6bfcfdc5e0>"
      ]
     },
     "execution_count": 27,
     "metadata": {},
     "output_type": "execute_result"
    }
   ],
   "source": [
    "caption = \"Table 8: Whether the observed value fell within the predicted interval\"\n",
    "all_predicted_results.style.set_table_styles(table_large_font).set_caption(caption)"
   ]
  },
  {
   "cell_type": "code",
   "execution_count": 28,
   "metadata": {
    "editable": true,
    "pycharm": {
     "name": "#%%\n"
    },
    "slideshow": {
     "slide_type": ""
    },
    "tags": [
     "remove-input"
    ]
   },
   "outputs": [
    {
     "data": {
      "text/plain": [
       "within 96% HDI    0.80\n",
       "within 50% HDI    0.45\n",
       "dtype: float64"
      ]
     },
     "execution_count": 28,
     "metadata": {},
     "output_type": "execute_result"
    }
   ],
   "source": [
    "alr = all_predicted_results[[\"within 96% HDI\", \"within 50% HDI\"]].sum()\n",
    "alr/len(all_predicted_results)"
   ]
  },
  {
   "cell_type": "code",
   "execution_count": 29,
   "metadata": {
    "editable": true,
    "pycharm": {
     "name": "#%%\n"
    },
    "slideshow": {
     "slide_type": ""
    },
    "tags": [
     "remove-input"
    ]
   },
   "outputs": [
    {
     "data": {
      "text/plain": [
       "within 96% HDI    16\n",
       "within 50% HDI     9\n",
       "dtype: int64"
      ]
     },
     "execution_count": 29,
     "metadata": {},
     "output_type": "execute_result"
    }
   ],
   "source": [
    "alr"
   ]
  },
  {
   "cell_type": "code",
   "execution_count": 30,
   "metadata": {
    "editable": true,
    "pycharm": {
     "name": "#%%\n"
    },
    "slideshow": {
     "slide_type": ""
    },
    "tags": [
     "remove-input"
    ]
   },
   "outputs": [
    {
     "data": {
      "text/markdown": [
       "\n",
       "\n",
       "This script updated 21/03/2024 in Biel, CH\n",
       "\n",
       "❤️ __what you do everyday:__ *analyst at hammerdirt*\n"
      ],
      "text/plain": [
       "<IPython.core.display.Markdown object>"
      ]
     },
     "execution_count": 30,
     "metadata": {},
     "output_type": "execute_result"
    }
   ],
   "source": [
    "today = dt.datetime.now().date().strftime(\"%d/%m/%Y\")\n",
    "where = \"Biel, CH\"\n",
    "\n",
    "my_block = f\"\"\"\n",
    "\n",
    "This script updated {today} in {where}\n",
    "\n",
    "\\u2764\\ufe0f __what you do everyday:__ *analyst at hammerdirt*\n",
    "\"\"\"\n",
    "\n",
    "md(my_block)"
   ]
  },
  {
   "cell_type": "code",
   "execution_count": 31,
   "metadata": {
    "editable": true,
    "pycharm": {
     "name": "#%%\n"
    },
    "slideshow": {
     "slide_type": ""
    },
    "tags": [
     "remove-input"
    ]
   },
   "outputs": [
    {
     "name": "stdout",
     "output_type": "stream",
     "text": [
      "Git repo: https://github.com/hammerdirt-analyst/solid-waste-team.git\n",
      "\n",
      "Git branch: main\n",
      "\n",
      "pandas    : 2.0.3\n",
      "numpy     : 1.25.2\n",
      "matplotlib: 3.7.1\n",
      "seaborn   : 0.12.2\n",
      "\n"
     ]
    }
   ],
   "source": [
    "%watermark --iversions -b -r"
   ]
  }
 ],
 "metadata": {
  "kernelspec": {
   "display_name": "Python 3 (ipykernel)",
   "language": "python",
   "name": "python3"
  },
  "language_info": {
   "codemirror_mode": {
    "name": "ipython",
    "version": 3
   },
   "file_extension": ".py",
   "mimetype": "text/x-python",
   "name": "python",
   "nbconvert_exporter": "python",
   "pygments_lexer": "ipython3",
   "version": "3.9.17"
  }
 },
 "nbformat": 4,
 "nbformat_minor": 4
}
