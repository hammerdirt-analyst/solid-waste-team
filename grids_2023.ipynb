{
 "cells": [
  {
   "cell_type": "code",
   "execution_count": 1,
   "metadata": {
    "editable": true,
    "pycharm": {
     "name": "#%%\n"
    },
    "slideshow": {
     "slide_type": ""
    },
    "tags": [
     "remove-input"
    ]
   },
   "outputs": [],
   "source": [
    "%load_ext watermark\n",
    "\n",
    "import pandas as pd\n",
    "import numpy as np\n",
    "import datetime as dt \n",
    "from statsmodels.distributions.empirical_distribution import ECDF\n",
    "from scipy.stats import beta\n",
    "import matplotlib.pyplot as plt\n",
    "import seaborn as sns\n",
    "from IPython.display import Markdown as md\n",
    "from myst_nb import glue\n",
    "\n",
    "from bisect import bisect\n",
    "from bisect import bisect_left, bisect_right\n",
    "\n",
    "dfCodes = pd.read_csv(\"resources/data/u_codes.csv\")\n",
    "dfBeaches = pd.read_csv(\"resources/data/u_beaches.csv\")\n",
    "dfBeaches.set_index(\"slug\", inplace=True)\n",
    "\n",
    "all_data = pd.read_csv(\"resources/data/u_all_data.csv\")\n",
    "all_data = all_data[all_data.river_bassin != 'les-alpes'].copy()\n",
    "all_data[\"date\"] = pd.to_datetime(all_data[\"date\"], format=\"%Y-%m-%d\")\n",
    "\n",
    "# import regional labels. labels are used\n",
    "# to identify the regional priors\n",
    "lac_leman_regions = pd.read_csv(\"resources/data/lac_leman_regions.csv\")\n",
    "\n",
    "# map to code decriptions\n",
    "dfCodes.set_index(\"code\", inplace=True)\n",
    "dfCodes.loc[\"Gcaps\", [\"material\", \"description\", \"groupname\"]] = [\"Plastic\", \"Plastic bottle lids\", \"food and drink\"]"
   ]
  },
  {
   "cell_type": "code",
   "execution_count": 2,
   "metadata": {
    "editable": true,
    "pycharm": {
     "name": "#%%\n"
    },
    "slideshow": {
     "slide_type": ""
    },
    "tags": [
     "remove-input"
    ]
   },
   "outputs": [],
   "source": [
    "# this defines the css rules for the note-book table displays\n",
    "header_row = {'selector': 'th:nth-child(1)', 'props': f'background-color: #FFF; text-align:right'}\n",
    "even_rows = {\"selector\": 'tr:nth-child(even)', 'props': f'background-color: rgba(139, 69, 19, 0.08);'}\n",
    "odd_rows = {'selector': 'tr:nth-child(odd)', 'props': 'background: #FFF;'}\n",
    "table_font = {'selector': 'tr', 'props': 'font-size: 10px;'}\n",
    "table_data = {'selector': 'td', 'props': 'padding: 12px;'}\n",
    "table_caption = {'selector': 'caption', 'props': 'font-size: 14px; font-style: italic; caption-side: bottom; text-align: left; margin-top: 10px'}\n",
    "table_css_styles = [even_rows, odd_rows, table_font, header_row, table_caption]\n",
    "\n",
    "\n",
    "table_large_data = {'selector': 'tr', 'props': 'font-size: 14px; padding: 12px;'}\n",
    "table_large_font = [even_rows, odd_rows, table_large_data, header_row, table_caption]"
   ]
  },
  {
   "cell_type": "markdown",
   "metadata": {
    "editable": true,
    "pycharm": {
     "name": "#%% md\n"
    },
    "slideshow": {
     "slide_type": ""
    },
    "tags": []
   },
   "source": [
    "# Testing 2023 predictions\n",
    "\n",
    "## The solid waste experience\n",
    "\n",
    "This is the seventh year that the Solid Waste Team from the EPFL collect beach litter samples. In the maritime environment people have been measuring beach litter for decades. There is a standard protocol ([Guidance on Monitoring Marine Litter in European Seas](https://publications.jrc.ec.europa.eu/repository/handle/JRC83985)) for the EU area and threshold values for good environmental standing ([Beach litter thresholds](https://mcc.jrc.ec.europa.eu/main/dev.py?N=41&O=454)). \n",
    "\n",
    "In Switzerland we started monitoring shoreline trash in 2015, it was not obvious to most observers (except for Prof Ludwig) why this might be of interest. However, by 2016 the EU realized that monitoring trash flows in rivers and lakes ([monitoring trash in rivers](https://mcc.jrc.ec.europa.eu/documents/201703034325.pdf)) might be a good way to monitor flows into the oceans. All the while conservationists and biologists have raised concerns about the presence of plastics and diminshing biodiversity. The threshold established by the EU is based on the principle of precaution: _the health effects are unknown, it is prudent to reduce contact with plastics when possible_ ([Beach litter thresholds](https://mcc.jrc.ec.europa.eu/main/dev.py?N=41&O=454)).\n",
    "\n",
    "### Observations and interpretations\n",
    "\n",
    "A beach litter survey is a detailed observation of the quantity and type of objects that were found at the beach. This observation is further defined by the time and place it occured. The location of the beach litter survey can be described numerically using a topographical map and some common overlay techniques in QGIS.\n",
    "\n",
    "The information gathered from the map are part of the _conditions_ that describe a survey location in particular. When beach litter surveys are considered in terms of their shared attributes we can use very simple techniques to find correlations between the conditions and the amount of trash found. For example, we can use Spearmans ranked correlation coefficient to quickly identify topographical attributes where specfic objects tend to accumulate. We wrote an article about it:  ([Near or far](https://hammerdirt-analyst.github.io/landuse/titlepage.html)).\n",
    "\n",
    "### A unique problem and a unique solution\n",
    "\n",
    "Trash in the environment is a unique problem. In general we know how an object becomes litter: either on purpose or on accident, people create the conditions that increase the chance that an end of lifecycle object will evade the waste recovery system. Resources are employed to change the behavior of people and therefore improve the chance that an end of lifcycle object will be approriately discarded, _(need reference)_. \n",
    "\n",
    "There are public services that are dedicated to collecting inappropriately discarded items. Beach litter surveys are the observed result of the difference between the effect of the systems in place to reduce litter and the amount of litter produced. Indifferent of how that litter was produced or the measures in place to prevent it. Therefore this environmental assessment is reliant on individual observations. We can look to orntithologists and botanists for examples on how to interpret this data.\n",
    "\n",
    "```{admonition} Asessing the environment:\n",
    "\n",
    "__What and how much are the volunteers likely to find?__\n",
    "      \n",
    "_This is the most honest answer that can be derived from the data._\n",
    "```\n",
    "\n",
    "There are 336 observations from 66 locations that describe the conditions under which 73,000 items were found on the 145km shore-line of Lake Geneva. Although this is only a small portion of the lake shore, this is still a good amount of samples in a six year period. It would be difficult to find a comparable stretch of coastline anywhere in the world that has that many samples in seven years. We can use that data to form our opinion of what we might find on October 5th.\n",
    "\n",
    "```{admonition} Asessing the environment:\n",
    "\n",
    "We can not tell you how much there is. __Only how much you are likely to find.__\n",
    "      \n",
    "What the difference is between the two statements is a philosophical discussion. In reality it may be hard to make such a distinction.\n",
    "```\n",
    "\n",
    "\n",
    "### Reducing dimensionality: find the most common\n",
    "\n",
    "There are 228 different categories of objects. We are interested in what we might find and how likely we are to find it. Therefore we limit the search to items that were previously identified in at least 50% of the surveys AND/OR objects that are distinctive (easy to identify). This accounts for 74% of all objects previously recorded."
   ]
  },
  {
   "cell_type": "code",
   "execution_count": 3,
   "metadata": {
    "editable": true,
    "pycharm": {
     "name": "#%%\n"
    },
    "slideshow": {
     "slide_type": ""
    },
    "tags": [
     "remove-input"
    ]
   },
   "outputs": [],
   "source": [
    "def prior_distributions(prior_data: pd.DataFrame = None, start: str = None, end: str = None,\n",
    "                        xrange: np.array = None, uninformed_prior: np.array = None):\n",
    "    data_args = {\n",
    "        'start':start,\n",
    "        'end':end,\n",
    "        'data': prior_data,\n",
    "    }\n",
    "    prior_pcs = period_pieces(*data_args.values())         \n",
    "\n",
    "    # get n and k for the prior data\n",
    "    prior_k, prior_notk, prior_k_n_minus_k = period_k_and_n(prior_pcs, xrange)\n",
    "   \n",
    "    # make the likelihood parameters\n",
    "    lhx = list(zip(prior_k, prior_notk))\n",
    "\n",
    "    # make the prior distribution\n",
    "    p_ui, prior_bmean = make_expected(lhx, uninformed_prior, xrange)\n",
    "\n",
    "    # the uninformed beta approximation of the prior data\n",
    "    prior_beta = [period_beta(x) for x in prior_k_n_minus_k]\n",
    "    p_beta= [x.mean() for x in prior_beta]\n",
    "\n",
    "    results=pd.DataFrame({\"x\":xrange, \"p\":p_ui})\n",
    "    results[\"pn\"] = results.p/results.p.sum()\n",
    "    \n",
    "    return np.array(p_ui), np.array(p_beta), prior_k_n_minus_k, results, prior_pcs\n",
    "\n",
    "def posterior_distribution(lh_data: pd.DataFrame = None, start: str = None, end: str = None,\n",
    "                           informed_prior: np.array = None, un_informed: np.array = None):\n",
    "                               \n",
    "    \n",
    "    data_args = {\n",
    "        'start': start,\n",
    "        'end':end,\n",
    "        'data': lh_data,   \n",
    "        }\n",
    "\n",
    "    period_all = period_pieces(*data_args.values())\n",
    "    \n",
    "    pall_k, pall_notk, pall_k_n_minus_k = period_k_and_n(period_all, xrange)\n",
    "    \n",
    "    lh_and_informed = np.array(pall_k_n_minus_k) + np.array(informed_prior)\n",
    "    lhx = list(zip(pall_k, pall_notk))        \n",
    "    \n",
    "    probi, probi_beta = make_expected(pall_k_n_minus_k, np.array(informed_prior), xrange)\n",
    "    grid_prox, grid_prox_beta = make_expected(pall_k_n_minus_k, un_informed, xrange)\n",
    "    \n",
    "    # beta distribution \n",
    "    pall_beta = [period_beta((x[0]+1, x[1]+1)) for x in pall_k_n_minus_k]\n",
    "    pall_bmean = [x.mean() for x in pall_beta]\n",
    "    return np.array(probi), np.array(grid_prox), pall_bmean, period_all\n",
    "                               \n",
    "def training_testing_compare(lh_pcs, pcs, post_quants, prior_quants):\n",
    "    \n",
    "    total_training = len(pcs) + len(lh_pcs)\n",
    "    prior_weight = len(pcs)/total_training\n",
    "    lh_weight = len(lh_pcs)/total_training\n",
    "\n",
    "    number_of_samples = {\"before may 2021\": len(pcs), \"after may 2021\": len(lh_pcs)}\n",
    "    weights = {\"before may 2021\":prior_weight, \"after may 2021\": lh_weight}\n",
    "    observed_median = {\"before may 2021\":np.median(pcs), \"after may 2021\": np.median(lh_pcs)}\n",
    "    observed_average = {\"before may 2021\":np.mean(pcs), \"after may 2021\": np.mean(lh_pcs)}\n",
    "    observed_25 = {\"before may 2021\": prior_quants[1], \"after may 2021\":post_quants[1]}\n",
    "    observed_75 = {\"before may 2021\": prior_quants[5], \"after may 2021\":post_quants[5]}\n",
    "    index = [\"weight all samples\", \"Number of samples\", \"Median\", \"Average\", \"25th percentile\", \"75th percentile\"]\n",
    "    components = [weights, number_of_samples, observed_median, observed_average, observed_25, observed_75]\n",
    "    unks_sum_table = pd.DataFrame(components, index=index).style.format(precision=2).set_table_styles(table_large_font)\n",
    "    styled = unks_sum_table.format(formatter=\"{:.0f}\", subset=pd.IndexSlice[['Number of samples'], :])\n",
    "    \n",
    "    return styled\n",
    "\n",
    "def predicted_summary(lh_pcs, pcs, prior_quants, median_2024):\n",
    "    \n",
    "\n",
    "    predicted = ((lh_pcs <= prior_quants[5])&(lh_pcs >= prior_quants[1])).sum()/len(lh_pcs)\n",
    "    predicted_94 = ((lh_pcs <= prior_quants[-1])&(lh_pcs >= prior_quants[0])).sum()/len(lh_pcs)\n",
    "    past_present_future = {\n",
    "        \"Median 2021\": np.median(pcs), \n",
    "        \"Median 2022\": np.median(lh_pcs), \n",
    "        \"Expected sampling median 2024\":median_2024,\n",
    "        \"% 2022 in 50% IQR  predicted\": predicted,\n",
    "        \"% 2022 in 94% IQR  predicted\": predicted_94,\n",
    "    }\n",
    "        \n",
    "    \n",
    "    ppf = pd.DataFrame(past_present_future, index=[\"pcs/m\"]).T\n",
    "\n",
    "    return ppf\n",
    "\n",
    "\n",
    "def make_results_df(prior_df, lh_c, source=None, source_norm=None):\n",
    "    \n",
    "    prior_df[source] = lh_c\n",
    "    prior_df[source_norm] = prior_df[source]/prior_df[source].sum()\n",
    "\n",
    "    return prior_df\n",
    "\n",
    "def data_profile(all_data):\n",
    "    date_min = all_data[\"date\"].min()\n",
    "    date_max = all_data[\"date\"].max()\n",
    "\n",
    "    if \"location\" in all_data.columns:\n",
    "        nlocations = all_data.location.nunique()\n",
    "    else:\n",
    "        nlocations = all_data.slug.nunique()\n",
    "    ncodes = all_data.code.nunique()\n",
    "    ncities = all_data.city.nunique()\n",
    "    quantity = all_data.quantity.sum()\n",
    "    nsamples = all_data.loc_date.nunique()\n",
    "\n",
    "    a_profile = dict(\n",
    "        start = date_min,\n",
    "        end = date_max,\n",
    "        nlocations = nlocations,\n",
    "        ncodes = ncodes,\n",
    "        ncities = ncities,\n",
    "        quantity = quantity,\n",
    "        nsamples = nsamples\n",
    "    )\n",
    "\n",
    "    return a_profile\n",
    "\n",
    "def a_fail_rate(x, total_number_of_samples):\n",
    "    return x[\"fail\"].sum()/total_number_of_samples\n",
    "\n",
    "\n",
    "def the_most_abundant(x):\n",
    "    t = x.groupby(\"code\").quantity.sum().copy()\n",
    "    t.sort_values(\"quantity\", ascending=False, inplace=True)\n",
    "    return t  "
   ]
  },
  {
   "cell_type": "code",
   "execution_count": 4,
   "metadata": {
    "editable": true,
    "pycharm": {
     "name": "#%%\n"
    },
    "slideshow": {
     "slide_type": ""
    },
    "tags": [
     "remove-input"
    ]
   },
   "outputs": [],
   "source": [
    "use_groups =  {\n",
    "    'Personal hygiene':['G95', 'G96'],\n",
    "    'Personal consumption':['G30', 'Gcaps', 'G27'],\n",
    "    'Industrial/professional': ['G67', 'G89', 'G112'],\n",
    "    'Unknown':['Gfrags', 'Gfoam'],\n",
    "    'Recreation/sports': ['G70', 'G32'],\n",
    "    \n",
    "}\n",
    "\n",
    "use_groups_i =  {\n",
    "    'G95':'Personal hygiene',\n",
    "    'G96': 'Personal hygiene',\n",
    "    'G30':'Personal consumption',\n",
    "    'Gcaps':'Personal consumption',\n",
    "    'G27':'Personal consumption',\n",
    "    'G67':'Industrial/professional',\n",
    "    'G89':'Industrial/professional',\n",
    "    'G112': 'Industrial/professional',\n",
    "    'Gfoam':'Unknown',\n",
    "    'Gfrags':'Unknown',\n",
    "    'G70':'Recreation/sports',\n",
    "    'G32':'Recreation/sports',\n",
    "}\n",
    "\n",
    "abbrev_use_g = {'Unknown':'Unk','Personal consumption':'Pc', 'Personal hygiene': 'Ph',    'Recreation/sports': 'Rc', 'Industrial/professional':'Ip'}\n",
    "toi = list(use_groups_i.keys())\n",
    "cbdi = pd.read_csv(\"resources/data/u_pstk_iqaasl_all.csv\")\n",
    "not_these = ['amphion', 'anthy', 'excenevex', 'lugrin', 'meillerie', 'saint-disdille', 'tougues']\n",
    "cbd = cbdi[~cbdi.slug.isin(not_these)]\n",
    "ssp = cbd[(cbd.city == 'Saint-Sulpice (VD)')].copy()\n",
    "ssp['quantity'] = 0\n",
    "\n",
    "ssp.to_csv('resources/data/swt_all.csv', index=False)"
   ]
  },
  {
   "cell_type": "code",
   "execution_count": 5,
   "metadata": {},
   "outputs": [
    {
     "data": {
      "text/html": [
       "<div>\n",
       "<style scoped>\n",
       "    .dataframe tbody tr th:only-of-type {\n",
       "        vertical-align: middle;\n",
       "    }\n",
       "\n",
       "    .dataframe tbody tr th {\n",
       "        vertical-align: top;\n",
       "    }\n",
       "\n",
       "    .dataframe thead th {\n",
       "        text-align: right;\n",
       "    }\n",
       "</style>\n",
       "<table border=\"1\" class=\"dataframe\">\n",
       "  <thead>\n",
       "    <tr style=\"text-align: right;\">\n",
       "      <th></th>\n",
       "      <th>loc_date</th>\n",
       "      <th>slug</th>\n",
       "      <th>city</th>\n",
       "      <th>water_name_slug</th>\n",
       "      <th>date</th>\n",
       "      <th>doy</th>\n",
       "      <th>Project</th>\n",
       "      <th>code</th>\n",
       "      <th>pcs/m</th>\n",
       "      <th>quantity</th>\n",
       "    </tr>\n",
       "  </thead>\n",
       "  <tbody>\n",
       "    <tr>\n",
       "      <th>29392</th>\n",
       "      <td>('parc-des-pierrettes', '2016-10-13')</td>\n",
       "      <td>parc-des-pierrettes</td>\n",
       "      <td>Saint-Sulpice (VD)</td>\n",
       "      <td>lac-leman</td>\n",
       "      <td>2016-10-13</td>\n",
       "      <td>287</td>\n",
       "      <td>Training</td>\n",
       "      <td>G1</td>\n",
       "      <td>0.00</td>\n",
       "      <td>0</td>\n",
       "    </tr>\n",
       "    <tr>\n",
       "      <th>29393</th>\n",
       "      <td>('parc-des-pierrettes', '2016-10-13')</td>\n",
       "      <td>parc-des-pierrettes</td>\n",
       "      <td>Saint-Sulpice (VD)</td>\n",
       "      <td>lac-leman</td>\n",
       "      <td>2016-10-13</td>\n",
       "      <td>287</td>\n",
       "      <td>Training</td>\n",
       "      <td>G10</td>\n",
       "      <td>0.02</td>\n",
       "      <td>0</td>\n",
       "    </tr>\n",
       "    <tr>\n",
       "      <th>29394</th>\n",
       "      <td>('parc-des-pierrettes', '2016-10-13')</td>\n",
       "      <td>parc-des-pierrettes</td>\n",
       "      <td>Saint-Sulpice (VD)</td>\n",
       "      <td>lac-leman</td>\n",
       "      <td>2016-10-13</td>\n",
       "      <td>287</td>\n",
       "      <td>Training</td>\n",
       "      <td>G100</td>\n",
       "      <td>0.79</td>\n",
       "      <td>0</td>\n",
       "    </tr>\n",
       "    <tr>\n",
       "      <th>29395</th>\n",
       "      <td>('parc-des-pierrettes', '2016-10-13')</td>\n",
       "      <td>parc-des-pierrettes</td>\n",
       "      <td>Saint-Sulpice (VD)</td>\n",
       "      <td>lac-leman</td>\n",
       "      <td>2016-10-13</td>\n",
       "      <td>287</td>\n",
       "      <td>Training</td>\n",
       "      <td>G101</td>\n",
       "      <td>0.00</td>\n",
       "      <td>0</td>\n",
       "    </tr>\n",
       "    <tr>\n",
       "      <th>29396</th>\n",
       "      <td>('parc-des-pierrettes', '2016-10-13')</td>\n",
       "      <td>parc-des-pierrettes</td>\n",
       "      <td>Saint-Sulpice (VD)</td>\n",
       "      <td>lac-leman</td>\n",
       "      <td>2016-10-13</td>\n",
       "      <td>287</td>\n",
       "      <td>Training</td>\n",
       "      <td>G102</td>\n",
       "      <td>0.00</td>\n",
       "      <td>0</td>\n",
       "    </tr>\n",
       "  </tbody>\n",
       "</table>\n",
       "</div>"
      ],
      "text/plain": [
       "                                    loc_date                 slug  \\\n",
       "29392  ('parc-des-pierrettes', '2016-10-13')  parc-des-pierrettes   \n",
       "29393  ('parc-des-pierrettes', '2016-10-13')  parc-des-pierrettes   \n",
       "29394  ('parc-des-pierrettes', '2016-10-13')  parc-des-pierrettes   \n",
       "29395  ('parc-des-pierrettes', '2016-10-13')  parc-des-pierrettes   \n",
       "29396  ('parc-des-pierrettes', '2016-10-13')  parc-des-pierrettes   \n",
       "\n",
       "                     city water_name_slug        date  doy   Project  code  \\\n",
       "29392  Saint-Sulpice (VD)       lac-leman  2016-10-13  287  Training    G1   \n",
       "29393  Saint-Sulpice (VD)       lac-leman  2016-10-13  287  Training   G10   \n",
       "29394  Saint-Sulpice (VD)       lac-leman  2016-10-13  287  Training  G100   \n",
       "29395  Saint-Sulpice (VD)       lac-leman  2016-10-13  287  Training  G101   \n",
       "29396  Saint-Sulpice (VD)       lac-leman  2016-10-13  287  Training  G102   \n",
       "\n",
       "       pcs/m  quantity  \n",
       "29392   0.00         0  \n",
       "29393   0.02         0  \n",
       "29394   0.79         0  \n",
       "29395   0.00         0  \n",
       "29396   0.00         0  "
      ]
     },
     "execution_count": 5,
     "metadata": {},
     "output_type": "execute_result"
    }
   ],
   "source": [
    "ssp.head()"
   ]
  },
  {
   "cell_type": "code",
   "execution_count": 6,
   "metadata": {
    "editable": true,
    "pycharm": {
     "name": "#%%\n"
    },
    "slideshow": {
     "slide_type": ""
    },
    "tags": [
     "remove-input"
    ]
   },
   "outputs": [
    {
     "data": {
      "text/html": [
       "<style type=\"text/css\">\n",
       "#T_91b2c tr:nth-child(even) {\n",
       "  background-color: rgba(139, 69, 19, 0.08);\n",
       "}\n",
       "#T_91b2c tr:nth-child(odd) {\n",
       "  background: #FFF;\n",
       "}\n",
       "#T_91b2c tr {\n",
       "  font-size: 14px;\n",
       "  padding: 12px;\n",
       "}\n",
       "#T_91b2c th:nth-child(1) {\n",
       "  background-color: #FFF;\n",
       "  text-align: right;\n",
       "}\n",
       "#T_91b2c caption {\n",
       "  font-size: 14px;\n",
       "  font-style: italic;\n",
       "  caption-side: bottom;\n",
       "  text-align: left;\n",
       "  margin-top: 10px;\n",
       "}\n",
       "</style>\n",
       "<table id=\"T_91b2c\">\n",
       "  <caption>Table 1: The objects of interest. The average pcs/m per sample for each object. The fail rate is the % of all samples that the object appeared in.</caption>\n",
       "  <thead>\n",
       "    <tr>\n",
       "      <th class=\"blank\" >&nbsp;</th>\n",
       "      <th class=\"blank level0\" >&nbsp;</th>\n",
       "      <th id=\"T_91b2c_level0_col0\" class=\"col_heading level0 col0\" >pcs/m</th>\n",
       "      <th id=\"T_91b2c_level0_col1\" class=\"col_heading level0 col1\" >quantity</th>\n",
       "      <th id=\"T_91b2c_level0_col2\" class=\"col_heading level0 col2\" >fail rate</th>\n",
       "      <th id=\"T_91b2c_level0_col3\" class=\"col_heading level0 col3\" >% of total</th>\n",
       "    </tr>\n",
       "    <tr>\n",
       "      <th class=\"index_name level0\" >code</th>\n",
       "      <th class=\"index_name level1\" >object</th>\n",
       "      <th class=\"blank col0\" >&nbsp;</th>\n",
       "      <th class=\"blank col1\" >&nbsp;</th>\n",
       "      <th class=\"blank col2\" >&nbsp;</th>\n",
       "      <th class=\"blank col3\" >&nbsp;</th>\n",
       "    </tr>\n",
       "  </thead>\n",
       "  <tbody>\n",
       "    <tr>\n",
       "      <th id=\"T_91b2c_level0_row0\" class=\"row_heading level0 row0\" >G112</th>\n",
       "      <th id=\"T_91b2c_level1_row0\" class=\"row_heading level1 row0\" >Industrial pellets (nurdles)</th>\n",
       "      <td id=\"T_91b2c_row0_col0\" class=\"data row0 col0\" >0.16</td>\n",
       "      <td id=\"T_91b2c_row0_col1\" class=\"data row0 col1\" >2686</td>\n",
       "      <td id=\"T_91b2c_row0_col2\" class=\"data row0 col2\" >0.22</td>\n",
       "      <td id=\"T_91b2c_row0_col3\" class=\"data row0 col3\" >0.02</td>\n",
       "    </tr>\n",
       "    <tr>\n",
       "      <th id=\"T_91b2c_level0_row1\" class=\"row_heading level0 row1\" >G27</th>\n",
       "      <th id=\"T_91b2c_level1_row1\" class=\"row_heading level1 row1\" >Cigarette filters</th>\n",
       "      <td id=\"T_91b2c_row1_col0\" class=\"data row1 col0\" >1.12</td>\n",
       "      <td id=\"T_91b2c_row1_col1\" class=\"data row1 col1\" >16458</td>\n",
       "      <td id=\"T_91b2c_row1_col2\" class=\"data row1 col2\" >0.85</td>\n",
       "      <td id=\"T_91b2c_row1_col3\" class=\"data row1 col3\" >0.15</td>\n",
       "    </tr>\n",
       "    <tr>\n",
       "      <th id=\"T_91b2c_level0_row2\" class=\"row_heading level0 row2\" >G30</th>\n",
       "      <th id=\"T_91b2c_level1_row2\" class=\"row_heading level1 row2\" >Food wrappers; candy, snacks</th>\n",
       "      <td id=\"T_91b2c_row2_col0\" class=\"data row2 col0\" >0.54</td>\n",
       "      <td id=\"T_91b2c_row2_col1\" class=\"data row2 col1\" >6767</td>\n",
       "      <td id=\"T_91b2c_row2_col2\" class=\"data row2 col2\" >0.86</td>\n",
       "      <td id=\"T_91b2c_row2_col3\" class=\"data row2 col3\" >0.06</td>\n",
       "    </tr>\n",
       "    <tr>\n",
       "      <th id=\"T_91b2c_level0_row3\" class=\"row_heading level0 row3\" >G32</th>\n",
       "      <th id=\"T_91b2c_level1_row3\" class=\"row_heading level1 row3\" >Toys and party favors</th>\n",
       "      <td id=\"T_91b2c_row3_col0\" class=\"data row3 col0\" >0.05</td>\n",
       "      <td id=\"T_91b2c_row3_col1\" class=\"data row3 col1\" >606</td>\n",
       "      <td id=\"T_91b2c_row3_col2\" class=\"data row3 col2\" >0.48</td>\n",
       "      <td id=\"T_91b2c_row3_col3\" class=\"data row3 col3\" >0.01</td>\n",
       "    </tr>\n",
       "    <tr>\n",
       "      <th id=\"T_91b2c_level0_row4\" class=\"row_heading level0 row4\" >G67</th>\n",
       "      <th id=\"T_91b2c_level1_row4\" class=\"row_heading level1 row4\" >Industrial sheeting</th>\n",
       "      <td id=\"T_91b2c_row4_col0\" class=\"data row4 col0\" >0.30</td>\n",
       "      <td id=\"T_91b2c_row4_col1\" class=\"data row4 col1\" >3356</td>\n",
       "      <td id=\"T_91b2c_row4_col2\" class=\"data row4 col2\" >0.57</td>\n",
       "      <td id=\"T_91b2c_row4_col3\" class=\"data row4 col3\" >0.03</td>\n",
       "    </tr>\n",
       "    <tr>\n",
       "      <th id=\"T_91b2c_level0_row5\" class=\"row_heading level0 row5\" >G70</th>\n",
       "      <th id=\"T_91b2c_level1_row5\" class=\"row_heading level1 row5\" >Shotgun cartridges</th>\n",
       "      <td id=\"T_91b2c_row5_col0\" class=\"data row5 col0\" >0.08</td>\n",
       "      <td id=\"T_91b2c_row5_col1\" class=\"data row5 col1\" >1030</td>\n",
       "      <td id=\"T_91b2c_row5_col2\" class=\"data row5 col2\" >0.48</td>\n",
       "      <td id=\"T_91b2c_row5_col3\" class=\"data row5 col3\" >0.01</td>\n",
       "    </tr>\n",
       "    <tr>\n",
       "      <th id=\"T_91b2c_level0_row6\" class=\"row_heading level0 row6\" >G89</th>\n",
       "      <th id=\"T_91b2c_level1_row6\" class=\"row_heading level1 row6\" >Plastic construction waste</th>\n",
       "      <td id=\"T_91b2c_row6_col0\" class=\"data row6 col0\" >0.14</td>\n",
       "      <td id=\"T_91b2c_row6_col1\" class=\"data row6 col1\" >1970</td>\n",
       "      <td id=\"T_91b2c_row6_col2\" class=\"data row6 col2\" >0.51</td>\n",
       "      <td id=\"T_91b2c_row6_col3\" class=\"data row6 col3\" >0.02</td>\n",
       "    </tr>\n",
       "    <tr>\n",
       "      <th id=\"T_91b2c_level0_row7\" class=\"row_heading level0 row7\" >G95</th>\n",
       "      <th id=\"T_91b2c_level1_row7\" class=\"row_heading level1 row7\" >Cotton bud/swab sticks</th>\n",
       "      <td id=\"T_91b2c_row7_col0\" class=\"data row7 col0\" >0.39</td>\n",
       "      <td id=\"T_91b2c_row7_col1\" class=\"data row7 col1\" >4777</td>\n",
       "      <td id=\"T_91b2c_row7_col2\" class=\"data row7 col2\" >0.74</td>\n",
       "      <td id=\"T_91b2c_row7_col3\" class=\"data row7 col3\" >0.04</td>\n",
       "    </tr>\n",
       "    <tr>\n",
       "      <th id=\"T_91b2c_level0_row8\" class=\"row_heading level0 row8\" >G96</th>\n",
       "      <th id=\"T_91b2c_level1_row8\" class=\"row_heading level1 row8\" >Sanitary pads /panty liners/tampons and applicators</th>\n",
       "      <td id=\"T_91b2c_row8_col0\" class=\"data row8 col0\" >0.04</td>\n",
       "      <td id=\"T_91b2c_row8_col1\" class=\"data row8 col1\" >373</td>\n",
       "      <td id=\"T_91b2c_row8_col2\" class=\"data row8 col2\" >0.29</td>\n",
       "      <td id=\"T_91b2c_row8_col3\" class=\"data row8 col3\" >0.00</td>\n",
       "    </tr>\n",
       "    <tr>\n",
       "      <th id=\"T_91b2c_level0_row9\" class=\"row_heading level0 row9\" >Gcaps</th>\n",
       "      <th id=\"T_91b2c_level1_row9\" class=\"row_heading level1 row9\" >Plastic bottle lids</th>\n",
       "      <td id=\"T_91b2c_row9_col0\" class=\"data row9 col0\" >0.31</td>\n",
       "      <td id=\"T_91b2c_row9_col1\" class=\"data row9 col1\" >3953</td>\n",
       "      <td id=\"T_91b2c_row9_col2\" class=\"data row9 col2\" >0.84</td>\n",
       "      <td id=\"T_91b2c_row9_col3\" class=\"data row9 col3\" >0.04</td>\n",
       "    </tr>\n",
       "    <tr>\n",
       "      <th id=\"T_91b2c_level0_row10\" class=\"row_heading level0 row10\" >Gfoam</th>\n",
       "      <th id=\"T_91b2c_level1_row10\" class=\"row_heading level1 row10\" >Expanded polystyrene</th>\n",
       "      <td id=\"T_91b2c_row10_col0\" class=\"data row10 col0\" >1.02</td>\n",
       "      <td id=\"T_91b2c_row10_col1\" class=\"data row10 col1\" >12871</td>\n",
       "      <td id=\"T_91b2c_row10_col2\" class=\"data row10 col2\" >0.81</td>\n",
       "      <td id=\"T_91b2c_row10_col3\" class=\"data row10 col3\" >0.12</td>\n",
       "    </tr>\n",
       "    <tr>\n",
       "      <th id=\"T_91b2c_level0_row11\" class=\"row_heading level0 row11\" >Gfrags</th>\n",
       "      <th id=\"T_91b2c_level1_row11\" class=\"row_heading level1 row11\" >Fragmented plastics</th>\n",
       "      <td id=\"T_91b2c_row11_col0\" class=\"data row11 col0\" >1.34</td>\n",
       "      <td id=\"T_91b2c_row11_col1\" class=\"data row11 col1\" >17479</td>\n",
       "      <td id=\"T_91b2c_row11_col2\" class=\"data row11 col2\" >0.93</td>\n",
       "      <td id=\"T_91b2c_row11_col3\" class=\"data row11 col3\" >0.16</td>\n",
       "    </tr>\n",
       "  </tbody>\n",
       "</table>\n"
      ],
      "text/plain": [
       "<pandas.io.formats.style.Styler at 0x7892583c6370>"
      ]
     },
     "execution_count": 6,
     "metadata": {},
     "output_type": "execute_result"
    }
   ],
   "source": [
    "\n",
    "cbd = cbd[cbd.code.isin(toi)].copy()\n",
    "cbd[\"fail\"] = cbd.quantity > 0\n",
    "\n",
    "\n",
    "cbd.loc[cbd.Project == \"Testing\", \"Project\"] = \"after may 2021\"\n",
    "cbd.loc[cbd.Project == \"Training\", \"Project\"] = \"before may 2021\"\n",
    "\n",
    "column_names_groups = {v:k for k,v in abbrev_use_g.items()}\n",
    "code_groups = list(column_names_groups.keys())\n",
    "\n",
    "cois = cities_of_interest = ['Saint-Sulpice (VD)', 'Saint Gingolph', 'Genéve', 'Cully', 'Vevey']\n",
    "\n",
    "some_quants = [.03, .25, .48, .5, .52, .75, .97]\n",
    "end_training_date = \"2021-05-31\"\n",
    "begin_training_date = \"2015-11-15\"\n",
    "codes_of_interest = cbd.groupby([\"code\"], as_index=False).agg({\"quantity\":\"sum\", \"pcs/m\":\"mean\", \"fail\": \"sum\"})\n",
    "codes_of_interest[\"fail rate\"] = (codes_of_interest.fail/cbd.loc_date.nunique()).round(2)\n",
    "code_d = dfCodes[\"description\"]\n",
    "codes_of_interest[\"object\"] = codes_of_interest.code.apply(lambda x: code_d.loc[x])\n",
    "codes_of_interest = codes_of_interest[[\"code\", \"object\", \"pcs/m\", \"quantity\", \"fail rate\"]]\n",
    "codes_of_interest.set_index([\"code\", \"object\"], inplace=True, drop=True)\n",
    "codes_of_interest[\"quantity\"] = codes_of_interest.quantity.astype(\"int\")\n",
    "codes_of_interest[\"% of total\"] = (codes_of_interest.quantity/cbdi.quantity.sum()).round(2)\n",
    "codes_of_interest.index.name = None\n",
    "caption = \"Table 1: The objects of interest. The average pcs/m per sample for each object. The fail rate is the % of all samples that the object appeared in.\" \n",
    "codes_of_interest.style.format(precision=2).set_table_styles(table_large_font).set_caption(caption)"
   ]
  },
  {
   "cell_type": "markdown",
   "metadata": {
    "editable": true,
    "pycharm": {
     "name": "#%% md\n"
    },
    "slideshow": {
     "slide_type": ""
    },
    "tags": []
   },
   "source": [
    "### Assessing the environment\n",
    "\n",
    "{Download}`Download the form </resources/figures/survey_estimates.pdf>`\n",
    "\n",
    "The goal for todays excercise in 2023 is to determine how well our previous experiences inform us about the present. This is a simple process. There are four steps:\n",
    "\n",
    "1. Start with your current understanding of the problem, consult the data here and form an opinion of how many of each item in the previous section you might find in 100 meters of shoreline. For example your might think 200 cigarette ends per 100m is a likely amount.\n",
    "2. Use the provided form and note your estimate for each item in red ink. Put your name on the form and the name of the beach.\n",
    "3. At the end of the litter survey note what you found for each item.\n",
    "\n",
    "After the survey we will compare what we found to what we though we might find and the predicted amount using the model that was explained in the previous section. \n",
    "\n",
    "### Semester project\n",
    "\n",
    "The semester project (if you choose to do it) is about documenting the process of updating the models and accessing data. It could be a narrated screencast. Something that next years class will consult. For those who are interested in data-science or application development we would be using python, R, Git and Annaconda.\n",
    "\n",
    "Specifically we would be adding survey results from this years experience:\n",
    "1. The results for Gfoams\n",
    "2. The reults for Plage de Pélican\n",
    "\n",
    "However, if you have done a data-science course or if you have some experience with application development you might find this an easy project that will allow you to demonstrate those skills and some creativity. Those that know how to use Git and Annaconda will find this fairly easy."
   ]
  },
  {
   "cell_type": "markdown",
   "metadata": {
    "editable": true,
    "pycharm": {
     "name": "#%% md\n"
    },
    "slideshow": {
     "slide_type": ""
    },
    "tags": []
   },
   "source": [
    "(data-context)=\n",
    "## Summary of previous results\n",
    "\n",
    "__Lake Geneva sample totals__\n",
    "\n",
    "The total pcs/m for all surveys is given in figure 1 and figure 2. Samples after May 2021 are considered separately, this is a new six year sampling period for the lake.  The distribution of the sample totals is given in table 2."
   ]
  },
  {
   "cell_type": "markdown",
   "metadata": {
    "collapsed": false,
    "jupyter": {
     "outputs_hidden": false
    },
    "pycharm": {
     "name": "#%% md\n"
    }
   },
   "source": [
    "```{figure} resources/figures/lac-leman_city_labels.jpeg\n",
    "---\n",
    "name: lac_leman_cities\n",
    "---\n",
    "Previous survey results from Lake Geneva\n",
    "```"
   ]
  },
  {
   "cell_type": "code",
   "execution_count": 7,
   "metadata": {
    "collapsed": false,
    "editable": true,
    "jupyter": {
     "outputs_hidden": false
    },
    "pycharm": {
     "name": "#%%\n"
    },
    "slideshow": {
     "slide_type": ""
    },
    "tags": [
     "remove-input"
    ]
   },
   "outputs": [
    {
     "data": {
      "application/papermill.record/text/html": "<style type=\"text/css\">\n#T_0b679 tr:nth-child(even) {\n  background-color: rgba(139, 69, 19, 0.08);\n}\n#T_0b679 tr:nth-child(odd) {\n  background: #FFF;\n}\n#T_0b679 tr {\n  font-size: 14px;\n  padding: 12px;\n}\n#T_0b679 th:nth-child(1) {\n  background-color: #FFF;\n  text-align: right;\n}\n#T_0b679 caption {\n  font-size: 14px;\n  font-style: italic;\n  caption-side: bottom;\n  text-align: left;\n  margin-top: 10px;\n}\n</style>\n<table id=\"T_0b679\">\n  <caption>The number of different locations and cities for the data. Note that there are 31 different municipalitites in all.</caption>\n  <thead>\n    <tr>\n      <th class=\"blank level0\" >&nbsp;</th>\n      <th id=\"T_0b679_level0_col0\" class=\"col_heading level0 col0\" >before may 2021</th>\n      <th id=\"T_0b679_level0_col1\" class=\"col_heading level0 col1\" >after may 2021</th>\n    </tr>\n  </thead>\n  <tbody>\n    <tr>\n      <th id=\"T_0b679_level0_row0\" class=\"row_heading level0 row0\" >Number of cities</th>\n      <td id=\"T_0b679_row0_col0\" class=\"data row0 col0\" >21</td>\n      <td id=\"T_0b679_row0_col1\" class=\"data row0 col1\" >19</td>\n    </tr>\n    <tr>\n      <th id=\"T_0b679_level0_row1\" class=\"row_heading level0 row1\" >Number of locations</th>\n      <td id=\"T_0b679_row1_col0\" class=\"data row1 col0\" >48</td>\n      <td id=\"T_0b679_row1_col1\" class=\"data row1 col1\" >23</td>\n    </tr>\n    <tr>\n      <th id=\"T_0b679_level0_row2\" class=\"row_heading level0 row2\" >Total objects</th>\n      <td id=\"T_0b679_row2_col0\" class=\"data row2 col0\" >57,623</td>\n      <td id=\"T_0b679_row2_col1\" class=\"data row2 col1\" >14,703</td>\n    </tr>\n  </tbody>\n</table>\n",
      "application/papermill.record/text/plain": "<pandas.io.formats.style.Styler at 0x7892325c5af0>"
     },
     "metadata": {
      "scrapbook": {
       "mime_prefix": "application/papermill.record/",
       "name": "data-summ-q3"
      }
     },
     "output_type": "display_data"
    }
   ],
   "source": [
    "summ_data = cbd.copy()\n",
    "\n",
    "summ_data[\"use group\"] = summ_data.code.map(lambda x: use_groups_i[x])\n",
    "\n",
    "summ_data[\"ug\"] = summ_data[\"use group\"].apply(lambda x: abbrev_use_g[x])\n",
    "summ_data[summ_data[\"use group\"] == 'Personal consumption'].code.unique()\n",
    "summ_data[\"date\"] = pd.to_datetime(summ_data[\"date\"], format=\"%Y-%m-%d\")\n",
    "\n",
    "sd_x = summ_data.groupby([\"loc_date\", \"date\", \"city\", \"Project\", \"doy\"], as_index=False).agg({\"pcs/m\": 'sum', 'quantity':'sum'})\n",
    "sd_x_sp = sd_x[sd_x.city == 'Saint-Sulpice (VD)'].groupby([\"loc_date\", \"date\", \"city\", \"Project\", \"doy\"], as_index=False).agg({\"pcs/m\": 'sum', 'quantity':'sum'})\n",
    "\n",
    "trg = summ_data[summ_data.Project == \"before may 2021\"].copy()\n",
    "tst = summ_data[summ_data.Project == \"after may 2021\"].copy()\n",
    "trg_c, tst_c = trg.city.nunique(), tst.city.nunique()\n",
    "trg_lc, tst_lc = trg.slug.nunique(), tst.slug.nunique()\n",
    "trg_q, tst_q = trg.quantity.sum(), tst.quantity.sum()\n",
    "\n",
    "data_magnitude = [\n",
    "    {\"before may 2021\":trg_c, \"after may 2021\":tst_c},\n",
    "    {\"before may 2021\":trg_lc, \"after may 2021\":tst_lc},\n",
    "    {\"before may 2021\":trg_q, \"after may 2021\":tst_q}\n",
    "    \n",
    "]\n",
    "\n",
    "cities_set = list(set([*trg.city.unique(), *tst.city.unique()]))\n",
    "n_ind_cities = len(cities_set)\n",
    "\n",
    "caption = f'The number of different locations and cities for the data. Note that there are {n_ind_cities} different municipalitites in all.'\n",
    "\n",
    "data_summ_q = pd.DataFrame(data_magnitude, index=[\"Number of cities\", \"Number of locations\", \"Total objects\"]).astype('int')\n",
    "data_summ_q = data_summ_q.style.format(formatter=\"{:,}\").set_table_styles(table_large_font).set_caption(caption)\n",
    "styled = data_summ_q.format(formatter=\"{:,}\", subset=pd.IndexSlice[['Total objects'], :])\n",
    "glue(\"data-summ-q3\", styled, display=False)"
   ]
  },
  {
   "cell_type": "code",
   "execution_count": 8,
   "metadata": {
    "collapsed": false,
    "editable": true,
    "jupyter": {
     "outputs_hidden": false
    },
    "pycharm": {
     "name": "#%%\n"
    },
    "slideshow": {
     "slide_type": ""
    },
    "tags": [
     "remove-input"
    ]
   },
   "outputs": [
    {
     "data": {
      "application/papermill.record/image/png": "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",
      "application/papermill.record/text/plain": "<Figure size 600x500 with 1 Axes>"
     },
     "metadata": {
      "scrapbook": {
       "mime_prefix": "application/papermill.record/",
       "name": "testing_training_chrono_2"
      }
     },
     "output_type": "display_data"
    }
   ],
   "source": [
    "# all the data by date\n",
    "the_99th_percentile = np.quantile(sd_x['pcs/m'].values, .99)\n",
    "px = 1/plt.rcParams['figure.dpi']  # pixel in inches\n",
    "fig, ax = plt.subplots(figsize=(600*px,500*px))\n",
    "\n",
    "sns.scatterplot(data=sd_x, x='date', y='pcs/m',ax=ax, color=\"dodgerblue\", alpha=0.6,label=\"lac léman\")\n",
    "sns.scatterplot(data=sd_x_sp, x='date', y='pcs/m', color=\"magenta\", label=\"solid-waste-team\", ax=ax)\n",
    "\n",
    "ax.set_ylim(-1, the_99th_percentile)\n",
    "ax.legend(loc=\"upper left\")\n",
    "ax.set_xlabel(\"\")\n",
    "glue(\"testing_training_chrono_2\", fig, display=False)\n",
    "plt.close()"
   ]
  },
  {
   "cell_type": "code",
   "execution_count": 9,
   "metadata": {
    "collapsed": false,
    "editable": true,
    "jupyter": {
     "outputs_hidden": false
    },
    "pycharm": {
     "name": "#%%\n"
    },
    "slideshow": {
     "slide_type": ""
    },
    "tags": [
     "remove-input"
    ]
   },
   "outputs": [
    {
     "data": {
      "application/papermill.record/image/png": "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",
      "application/papermill.record/text/plain": "<Figure size 600x500 with 1 Axes>"
     },
     "metadata": {
      "scrapbook": {
       "mime_prefix": "application/papermill.record/",
       "name": "testing_training_doy_2"
      }
     },
     "output_type": "display_data"
    }
   ],
   "source": [
    "# all the data day of year\n",
    "fig, ax = plt.subplots(figsize=(600*px, 500*px))\n",
    "\n",
    "sns.scatterplot(data=sd_x, x='doy', y='pcs/m', ax=ax, color=\"dodgerblue\", alpha=0.6,label=\"lac léman\")\n",
    "sns.scatterplot(data=sd_x_sp, x='doy', y='pcs/m', color=\"magenta\", label=\"solid-waste-team\", ax=ax)\n",
    "ax.set_ylim(-1, the_99th_percentile)\n",
    "ax.set_xlabel(\"Day of the year\")\n",
    "glue('testing_training_doy_2', fig, display=False)\n",
    "plt.close()"
   ]
  },
  {
   "cell_type": "code",
   "execution_count": 10,
   "metadata": {
    "collapsed": false,
    "editable": true,
    "jupyter": {
     "outputs_hidden": false
    },
    "pycharm": {
     "name": "#%%\n"
    },
    "slideshow": {
     "slide_type": ""
    },
    "tags": [
     "remove-input"
    ]
   },
   "outputs": [
    {
     "data": {
      "application/papermill.record/text/html": "<style type=\"text/css\">\n#T_ce82c tr:nth-child(even) {\n  background-color: rgba(139, 69, 19, 0.08);\n}\n#T_ce82c tr:nth-child(odd) {\n  background: #FFF;\n}\n#T_ce82c tr {\n  font-size: 14px;\n  padding: 12px;\n}\n#T_ce82c th:nth-child(1) {\n  background-color: #FFF;\n  text-align: right;\n}\n#T_ce82c caption {\n  font-size: 14px;\n  font-style: italic;\n  caption-side: bottom;\n  text-align: left;\n  margin-top: 10px;\n}\n</style>\n<table id=\"T_ce82c\">\n  <caption>The observed values from the training and testing data. Remark that the testing data is only 22% of all the data. This is because we are only in the first year of a six year sampling period</caption>\n  <thead>\n    <tr>\n      <th class=\"blank level0\" >&nbsp;</th>\n      <th id=\"T_ce82c_level0_col0\" class=\"col_heading level0 col0\" >before may 2021</th>\n      <th id=\"T_ce82c_level0_col1\" class=\"col_heading level0 col1\" >after may 2021</th>\n    </tr>\n  </thead>\n  <tbody>\n    <tr>\n      <th id=\"T_ce82c_level0_row0\" class=\"row_heading level0 row0\" >weight all samples</th>\n      <td id=\"T_ce82c_row0_col0\" class=\"data row0 col0\" >0.78</td>\n      <td id=\"T_ce82c_row0_col1\" class=\"data row0 col1\" >0.22</td>\n    </tr>\n    <tr>\n      <th id=\"T_ce82c_level0_row1\" class=\"row_heading level0 row1\" >Number of samples</th>\n      <td id=\"T_ce82c_row1_col0\" class=\"data row1 col0\" >263</td>\n      <td id=\"T_ce82c_row1_col1\" class=\"data row1 col1\" >73</td>\n    </tr>\n    <tr>\n      <th id=\"T_ce82c_level0_row2\" class=\"row_heading level0 row2\" >Median</th>\n      <td id=\"T_ce82c_row2_col0\" class=\"data row2 col0\" >3.47</td>\n      <td id=\"T_ce82c_row2_col1\" class=\"data row2 col1\" >2.28</td>\n    </tr>\n    <tr>\n      <th id=\"T_ce82c_level0_row3\" class=\"row_heading level0 row3\" >Average</th>\n      <td id=\"T_ce82c_row3_col0\" class=\"data row3 col0\" >6.13</td>\n      <td id=\"T_ce82c_row3_col1\" class=\"data row3 col1\" >3.25</td>\n    </tr>\n    <tr>\n      <th id=\"T_ce82c_level0_row4\" class=\"row_heading level0 row4\" >25th percentile</th>\n      <td id=\"T_ce82c_row4_col0\" class=\"data row4 col0\" >1.52</td>\n      <td id=\"T_ce82c_row4_col1\" class=\"data row4 col1\" >0.78</td>\n    </tr>\n    <tr>\n      <th id=\"T_ce82c_level0_row5\" class=\"row_heading level0 row5\" >75th percentile</th>\n      <td id=\"T_ce82c_row5_col0\" class=\"data row5 col0\" >6.69</td>\n      <td id=\"T_ce82c_row5_col1\" class=\"data row5 col1\" >4.31</td>\n    </tr>\n  </tbody>\n</table>\n",
      "application/papermill.record/text/plain": "<pandas.io.formats.style.Styler at 0x7892321768e0>"
     },
     "metadata": {
      "scrapbook": {
       "mime_prefix": "application/papermill.record/",
       "name": "data-summary_2"
      }
     },
     "output_type": "display_data"
    }
   ],
   "source": [
    "testing_vals= sd_x[sd_x.Project == \"after may 2021\"]['pcs/m'].values\n",
    "training_vals = sd_x[sd_x.Project == \"before may 2021\"]['pcs/m'].values\n",
    "\n",
    "\n",
    "train_quantiles = np.quantile(training_vals, some_quants)\n",
    "test_quantiles = np.quantile(testing_vals, some_quants)\n",
    "\n",
    "training_testing_summary = training_testing_compare(testing_vals, training_vals, test_quantiles, train_quantiles)\n",
    "caption = \"The observed values from the training and testing data. Remark that the testing data is only 22% of all the data. This is because we are only in the first year of a six year sampling period\"\n",
    "sum_table = training_testing_summary.set_caption(caption)\n",
    "sum_table.format(formatter=\"{:.0f}\", subset=pd.IndexSlice[['Number of samples'], :])\n",
    "glue(\"data-summary_2\", sum_table, display=False)"
   ]
  },
  {
   "cell_type": "markdown",
   "metadata": {
    "collapsed": false,
    "editable": true,
    "jupyter": {
     "outputs_hidden": false
    },
    "pycharm": {
     "name": "#%% md\n"
    },
    "slideshow": {
     "slide_type": ""
    },
    "tags": []
   },
   "source": [
    "|Figure 1, Table 2 | Table 3, Figure 2|\n",
    "|:-----------------------:|:---------------------:|\n",
    "|{glue:}`testing_training_chrono_2` |{glue}`data-summary_2`|\n",
    "|{glue:}`data-summ-q3`|{glue}`testing_training_doy_2`|"
   ]
  },
  {
   "cell_type": "code",
   "execution_count": 11,
   "metadata": {
    "collapsed": false,
    "editable": true,
    "jupyter": {
     "outputs_hidden": false
    },
    "pycharm": {
     "name": "#%%\n"
    },
    "slideshow": {
     "slide_type": ""
    },
    "tags": [
     "remove-input"
    ]
   },
   "outputs": [],
   "source": [
    "def sampler_from_multinomial(normed, xrange, nsamples):\n",
    "    \n",
    "    choose = np.random.default_rng()\n",
    "    nunique = np.unique(normed)\n",
    "    norm_nunique = nunique/np.sum(nunique)\n",
    "    found = choose.multinomial(1, pvals=norm_nunique, size=nsamples)\n",
    "    ft = found.sum(axis=0)\n",
    "    samples = []\n",
    "    for i, asum in enumerate(ft):\n",
    "        if asum == 0:\n",
    "            samples += [0]\n",
    "        else:\n",
    "            choices = np.where(normed == nunique[i])\n",
    "            samps = choose.choice(choices[0], size=asum)\n",
    "            samples.extend(xrange[samps])\n",
    "\n",
    "    return samples, nunique, norm_nunique, ft\n",
    "\n",
    "def period_pieces(start, end, data):\n",
    "    # the results in pieces per meter for one code from a subset of data\n",
    "    date_mask = (data[\"date\"] >= start) & (data[\"date\"] <= end)\n",
    "    period_one = data[date_mask]\n",
    "    pone_pcs = period_one.pcs_m.values\n",
    "\n",
    "    return pone_pcs\n",
    "\n",
    "def period_k_and_n(data, xrange, add_one=False):\n",
    "\n",
    "    pone_k = [(data >= x).sum() for x in xrange]\n",
    "    pone_notk = [(data < x).sum() for x in xrange]\n",
    "\n",
    "    if add_one:\n",
    "        # if the use is for beta dist. This is the same\n",
    "        # as mulitplying the likelihood * uninform prior (0.5) or beta(1,1)\n",
    "        pone_k_n_minus_k = [(x+1, len(data) - x+1) for x in pone_k]\n",
    "    else:\n",
    "        pone_k_n_minus_k = [(x, len(data) - x) for x in pone_k]\n",
    "        \n",
    "    \n",
    "\n",
    "    return np.array(pone_k), np.array(pone_notk), np.array(pone_k_n_minus_k)\n",
    "\n",
    "def period_beta(k):\n",
    "    \n",
    "         \n",
    "    return beta(*k)\n",
    "        \n",
    "\n",
    "def current_possible_prior_locations(landuse, locations, attribute):    \n",
    "\n",
    "    # indentify the magnitude(s) of the attribute of interest from the\n",
    "    # locations in the current data there may be more than one, in this \n",
    "    # example we use all the possible magnitudes for the attribute\n",
    "    # locations = data[data.city == city].location.unique()\n",
    "\n",
    "    # magnitudes for the attribute from all the locations in the municipality\n",
    "    moa = magnitude_of_attribute = landuse.loc[locations][attribute].unique().astype('int')\n",
    "\n",
    "    # identify locations that have the same attribute by magnitude of attribute\n",
    "    possible_locations = landuse[landuse[attribute].isin(moa)].index\n",
    "\n",
    "    # remove the locations that are in the likelihood function\n",
    "    prior_locations = [x for x in possible_locations if x not in locations]\n",
    "\n",
    "    return locations, possible_locations, prior_locations\n",
    "\n",
    "\n",
    "def make_expected(lh_tuple, prior_tuple, xrange):\n",
    "    res = []\n",
    "    betas=[]\n",
    "    # print(lh_tuple, prior_tuple)\n",
    "    for i in np.arange(len(xrange)):\n",
    "        alpha = prior_tuple[i][0]\n",
    "        betai = prior_tuple[i][1]\n",
    "        success = lh_tuple[i][0]\n",
    "        n = lh_tuple[i][1] + lh_tuple[i][0] \n",
    "        numerator = alpha + success\n",
    "        denominator = alpha + betai + n\n",
    "        if numerator == 0:\n",
    "            numerator = 1\n",
    "        abeta = beta(numerator, (betai + lh_tuple[i][1] + lh_tuple[i][0])).mean()\n",
    "        betas.append(abeta)\n",
    "        # print(alpha, betai, success, numerator, n, denominator)\n",
    "        if numerator >= denominator:\n",
    "            numerator = denominator-1\n",
    "            \n",
    "        expected = numerator/denominator\n",
    "        res.append(expected)\n",
    "    return np.array(res), np.array(betas) "
   ]
  },
  {
   "cell_type": "code",
   "execution_count": 12,
   "metadata": {
    "collapsed": false,
    "editable": true,
    "jupyter": {
     "outputs_hidden": false
    },
    "pycharm": {
     "name": "#%%\n"
    },
    "slideshow": {
     "slide_type": ""
    },
    "tags": [
     "remove-input"
    ]
   },
   "outputs": [],
   "source": [
    "an_xrange = np.arange(0, 11)\n"
   ]
  },
  {
   "cell_type": "code",
   "execution_count": 13,
   "metadata": {
    "collapsed": false,
    "editable": true,
    "jupyter": {
     "outputs_hidden": false
    },
    "pycharm": {
     "name": "#%%\n"
    },
    "slideshow": {
     "slide_type": ""
    },
    "tags": [
     "remove-input"
    ]
   },
   "outputs": [],
   "source": [
    "comb_lu_agg = pd.read_csv(\"resources/data/u_comb_lu_cover_street_rivers.csv\")\n",
    "\n",
    "lu_scaled = comb_lu_agg.pivot(columns=\"use\", values=\"scaled\", index=\"slug\").fillna(0)\n",
    "\n",
    "lu_magnitude = comb_lu_agg.pivot(columns=\"use\", values=\"magnitude\", index=\"slug\").fillna(0)\n",
    "\n",
    "lu_binned = comb_lu_agg.pivot(columns=\"use\", values=\"binned\", index=\"slug\").fillna(0)\n",
    "\n",
    "# not_these = ['amphion', 'anthy', 'excenevex', 'lugrin', 'meillerie', 'saint-disdille', 'tougues']\n",
    "merge_locations = cbd.slug.unique()\n",
    "cbdu = cbd[~cbd.slug.isin(not_these)].merge(lu_scaled[lu_scaled.index.isin(merge_locations )], left_on=\"slug\", right_index=True, validate=\"many_to_one\", how=\"outer\")\n",
    "\n",
    "cbdu[\"use group\"] = cbdu.code.map(lambda x: use_groups_i[x])\n",
    "\n",
    "cbdu[\"ug\"] = cbdu[\"use group\"].apply(lambda x: abbrev_use_g[x])\n",
    "cbdu[cbdu[\"use group\"] == 'Personal consumption'].code.unique()\n",
    "cbdu[\"date\"] = pd.to_datetime(cbdu[\"date\"], format=\"%Y-%m-%d\")\n",
    "\n",
    "attribute_columns = [x for x in lu_scaled.columns if x not in [\"Geroell\", \"Stausee\", \"See\", \"Sumpf\", \"Stadtzentr\", \"Fels\"]]\n",
    "work_columns = [x for x in cbdu.columns if x not in [\"Geroell\", \"Stausee\", \"See\", \"Sumpf\", \"Stadtzentr\", \"Fels\"]]\n",
    "cbdu = cbdu[work_columns].copy()\n",
    "cbdu.rename(columns={\"pcs/m\":\"pcs_m\"}, inplace=True)\n"
   ]
  },
  {
   "cell_type": "markdown",
   "metadata": {
    "collapsed": false,
    "jupyter": {
     "outputs_hidden": false
    },
    "pycharm": {
     "name": "#%% md\n"
    }
   },
   "source": [
    "## Expected survey results Saint Sulpice\n",
    "\n",
    "### Predicted values using empirical Bayes method\n",
    "\n",
    "The method proposed in chapter two produced the following expected survey results for October 5, 2023 at Saint Sulpice:"
   ]
  },
  {
   "cell_type": "markdown",
   "metadata": {
    "collapsed": false,
    "jupyter": {
     "outputs_hidden": false
    },
    "pycharm": {
     "name": "#%% md\n"
    }
   },
   "source": [
    "<!-- |     Figure 11, Table 11  |    Table 12, Figure 12       | \n",
    "|:------------------------:|:----------------------------:|\n",
    "|{glue:}`ssp-outlook-2024` | {glue:}`ssp-2024-meds`|\n",
    "|{glue:}`ssp-summary` | {glue:}`ssp-predicted_samples`| -->\n",
    "\n"
   ]
  },
  {
   "cell_type": "code",
   "execution_count": 14,
   "metadata": {
    "collapsed": false,
    "editable": true,
    "jupyter": {
     "outputs_hidden": false
    },
    "pycharm": {
     "name": "#%%\n"
    },
    "slideshow": {
     "slide_type": ""
    },
    "tags": [
     "remove-input"
    ]
   },
   "outputs": [],
   "source": [
    "city =  'Saint-Sulpice (VD)'\n",
    "start, end = \"2015-11-15\", \"2021-05-31\"\n",
    "index_range = (0.0, 10)\n",
    "xrange =  np.arange(*index_range, step=.01)\n",
    "uninformed_tuple = np.array([(1,1) for x in xrange])\n",
    "\n",
    "\n",
    "g_resa = cbdu.copy()\n",
    "g_resa = g_resa.groupby(['loc_date', 'date','slug', 'city', 'Project', 'code'], as_index=False).agg({'pcs_m':'sum', 'quantity':'sum'})\n",
    "g_resadt = g_resa.groupby(['loc_date', 'date','slug', 'city', 'Project'], as_index=False).agg({'pcs_m':'sum', 'quantity':'sum'})\n",
    "\n",
    "# define the prior, likelihood data and likelihood locations\n",
    "posterior_df = pd.DataFrame(index=xrange)\n",
    "predictions = {}\n",
    "\n",
    "for code in toi:\n",
    "    \n",
    "    # code_index = 1\n",
    "    city_index = 0\n",
    "    attribute_index = 2\n",
    "    \n",
    "    this_code =  code\n",
    "    this_attribute = attribute_columns[attribute_index]\n",
    "    this_city = cois[city_index]\n",
    "    \n",
    "    prior_data = g_resa[(g_resa.code == this_code)&(g_resa.city != city)&(g_resa.Project ==\"before may 2021\")]\n",
    "    lh_data = g_resa[(g_resa.code == this_code)&(g_resa.city == city)]\n",
    "\n",
    "    # here the locations from Saint Sulpice are indentified\n",
    "    lh_locations = lh_data.slug.unique()\n",
    "\n",
    "    # remove any location with no land-use data\n",
    "    regions = lac_leman_regions[~lac_leman_regions.slug.isin(not_these)].copy()\n",
    "    # identify the region of interest\n",
    "    lh_regions = regions[regions.slug.isin(lh_locations)].alabel.unique()\n",
    "    # retireve any other survey locations in the region\n",
    "    regional_locations = regions[regions.alabel.isin(lh_regions)].slug.unique()\n",
    "    # retrieve the land use values of all locations in the region\n",
    "    land_use_data_of_interest = lu_binned.loc[regional_locations]\n",
    "\n",
    "    # the locations from Saint Sulpice as well as regional locations are passed\n",
    "    # to the current_possible_prior_locations method. The land use values are\n",
    "    # compared and the locations with similar land use values are identified.\n",
    "    locations, possible_locations, prior_locations = current_possible_prior_locations(land_use_data_of_interest, lh_locations, this_attribute)\n",
    "    \n",
    "    prior_args = {\n",
    "        'prior_data':prior_data[prior_data.slug.isin(prior_locations)],\n",
    "        'start': start,\n",
    "        'end': end,\n",
    "        'xrange':xrange,\n",
    "        'uninformed_prior': uninformed_tuple,\n",
    "    }\n",
    "    # grid approximation of the prior\n",
    "    grid_prior, beta_prior, prior_k_n, prior_df, pcs = prior_distributions(**prior_args)\n",
    "    \n",
    "    posterior_args = {\n",
    "        'lh_data':lh_data,\n",
    "        'start': start,\n",
    "        'end': \"2022-12-31\",\n",
    "        'un_informed': uninformed_tuple,\n",
    "        'informed_prior': prior_k_n\n",
    "    }\n",
    "    \n",
    "    # grid approximation of posterior\n",
    "    informed, uninformed, beta_p, lh_pcs = posterior_distribution(**posterior_args)\n",
    "    \n",
    "    # the quantiles from the observed data\n",
    "    prior_quants = np.quantile(pcs, some_quants)\n",
    "    post_quants = np.quantile(lh_pcs, some_quants)\n",
    "    \n",
    "    # data frame with normalized results\n",
    "    post_df = make_results_df(prior_df.copy(), informed, source=\"Informed post\", source_norm=\"Ip_n\")\n",
    "    post_df = make_results_df(post_df, uninformed, source=\"Uninformed post\", source_norm=\"Un_n\")\n",
    "    \n",
    "    # samples from posterior \n",
    "    sim_2024 = sampler_from_multinomial(post_df[\"Ip_n\"].values, xrange, len(pcs) + len(lh_pcs))\n",
    "    sim_quants = np.quantile(sim_2024[0], some_quants)\n",
    "    \n",
    "    \n",
    "    predictions.update({this_code:sim_quants})\n",
    "    posterior_df[this_code]=informed\n",
    "\n",
    "index = ['{:.0%}'.format(x) for x in some_quants]\n",
    "pred_quants = pd.DataFrame(predictions, index=index)"
   ]
  },
  {
   "cell_type": "code",
   "execution_count": 15,
   "metadata": {
    "collapsed": false,
    "editable": true,
    "jupyter": {
     "outputs_hidden": false
    },
    "pycharm": {
     "name": "#%%\n"
    },
    "slideshow": {
     "slide_type": ""
    },
    "tags": [
     "remove-input"
    ]
   },
   "outputs": [
    {
     "data": {
      "text/html": [
       "<style type=\"text/css\">\n",
       "#T_b12f4 tr:nth-child(even) {\n",
       "  background-color: rgba(139, 69, 19, 0.08);\n",
       "}\n",
       "#T_b12f4 tr:nth-child(odd) {\n",
       "  background: #FFF;\n",
       "}\n",
       "#T_b12f4 tr {\n",
       "  font-size: 14px;\n",
       "  padding: 12px;\n",
       "}\n",
       "#T_b12f4 th:nth-child(1) {\n",
       "  background-color: #FFF;\n",
       "  text-align: right;\n",
       "}\n",
       "#T_b12f4 caption {\n",
       "  font-size: 14px;\n",
       "  font-style: italic;\n",
       "  caption-side: bottom;\n",
       "  text-align: left;\n",
       "  margin-top: 10px;\n",
       "}\n",
       "</style>\n",
       "<table id=\"T_b12f4\">\n",
       "  <caption>Table 4: The 94% probability interval of the objects of interest for Saint Sulpice. The median value is used for the predictions</caption>\n",
       "  <thead>\n",
       "    <tr>\n",
       "      <th class=\"blank level0\" >&nbsp;</th>\n",
       "      <th id=\"T_b12f4_level0_col0\" class=\"col_heading level0 col0\" >G112</th>\n",
       "      <th id=\"T_b12f4_level0_col1\" class=\"col_heading level0 col1\" >G27</th>\n",
       "      <th id=\"T_b12f4_level0_col2\" class=\"col_heading level0 col2\" >G30</th>\n",
       "      <th id=\"T_b12f4_level0_col3\" class=\"col_heading level0 col3\" >G32</th>\n",
       "      <th id=\"T_b12f4_level0_col4\" class=\"col_heading level0 col4\" >G67</th>\n",
       "      <th id=\"T_b12f4_level0_col5\" class=\"col_heading level0 col5\" >G70</th>\n",
       "      <th id=\"T_b12f4_level0_col6\" class=\"col_heading level0 col6\" >G95</th>\n",
       "      <th id=\"T_b12f4_level0_col7\" class=\"col_heading level0 col7\" >G96</th>\n",
       "      <th id=\"T_b12f4_level0_col8\" class=\"col_heading level0 col8\" >Gcaps</th>\n",
       "      <th id=\"T_b12f4_level0_col9\" class=\"col_heading level0 col9\" >Gfrags</th>\n",
       "    </tr>\n",
       "  </thead>\n",
       "  <tbody>\n",
       "    <tr>\n",
       "      <th id=\"T_b12f4_level0_row0\" class=\"row_heading level0 row0\" >3%</th>\n",
       "      <td id=\"T_b12f4_row0_col0\" class=\"data row0 col0\" >0.00</td>\n",
       "      <td id=\"T_b12f4_row0_col1\" class=\"data row0 col1\" >0.00</td>\n",
       "      <td id=\"T_b12f4_row0_col2\" class=\"data row0 col2\" >0.00</td>\n",
       "      <td id=\"T_b12f4_row0_col3\" class=\"data row0 col3\" >0.00</td>\n",
       "      <td id=\"T_b12f4_row0_col4\" class=\"data row0 col4\" >0.00</td>\n",
       "      <td id=\"T_b12f4_row0_col5\" class=\"data row0 col5\" >0.00</td>\n",
       "      <td id=\"T_b12f4_row0_col6\" class=\"data row0 col6\" >0.00</td>\n",
       "      <td id=\"T_b12f4_row0_col7\" class=\"data row0 col7\" >0.00</td>\n",
       "      <td id=\"T_b12f4_row0_col8\" class=\"data row0 col8\" >0.00</td>\n",
       "      <td id=\"T_b12f4_row0_col9\" class=\"data row0 col9\" >0.00</td>\n",
       "    </tr>\n",
       "    <tr>\n",
       "      <th id=\"T_b12f4_level0_row1\" class=\"row_heading level0 row1\" >25%</th>\n",
       "      <td id=\"T_b12f4_row1_col0\" class=\"data row1 col0\" >0.00</td>\n",
       "      <td id=\"T_b12f4_row1_col1\" class=\"data row1 col1\" >0.00</td>\n",
       "      <td id=\"T_b12f4_row1_col2\" class=\"data row1 col2\" >0.04</td>\n",
       "      <td id=\"T_b12f4_row1_col3\" class=\"data row1 col3\" >0.01</td>\n",
       "      <td id=\"T_b12f4_row1_col4\" class=\"data row1 col4\" >0.09</td>\n",
       "      <td id=\"T_b12f4_row1_col5\" class=\"data row1 col5\" >0.00</td>\n",
       "      <td id=\"T_b12f4_row1_col6\" class=\"data row1 col6\" >0.00</td>\n",
       "      <td id=\"T_b12f4_row1_col7\" class=\"data row1 col7\" >0.00</td>\n",
       "      <td id=\"T_b12f4_row1_col8\" class=\"data row1 col8\" >0.04</td>\n",
       "      <td id=\"T_b12f4_row1_col9\" class=\"data row1 col9\" >0.01</td>\n",
       "    </tr>\n",
       "    <tr>\n",
       "      <th id=\"T_b12f4_level0_row2\" class=\"row_heading level0 row2\" >48%</th>\n",
       "      <td id=\"T_b12f4_row2_col0\" class=\"data row2 col0\" >0.04</td>\n",
       "      <td id=\"T_b12f4_row2_col1\" class=\"data row2 col1\" >0.45</td>\n",
       "      <td id=\"T_b12f4_row2_col2\" class=\"data row2 col2\" >0.28</td>\n",
       "      <td id=\"T_b12f4_row2_col3\" class=\"data row2 col3\" >0.04</td>\n",
       "      <td id=\"T_b12f4_row2_col4\" class=\"data row2 col4\" >0.19</td>\n",
       "      <td id=\"T_b12f4_row2_col5\" class=\"data row2 col5\" >0.00</td>\n",
       "      <td id=\"T_b12f4_row2_col6\" class=\"data row2 col6\" >0.18</td>\n",
       "      <td id=\"T_b12f4_row2_col7\" class=\"data row2 col7\" >0.05</td>\n",
       "      <td id=\"T_b12f4_row2_col8\" class=\"data row2 col8\" >0.10</td>\n",
       "      <td id=\"T_b12f4_row2_col9\" class=\"data row2 col9\" >0.57</td>\n",
       "    </tr>\n",
       "    <tr>\n",
       "      <th id=\"T_b12f4_level0_row3\" class=\"row_heading level0 row3\" >50%</th>\n",
       "      <td id=\"T_b12f4_row3_col0\" class=\"data row3 col0\" >0.11</td>\n",
       "      <td id=\"T_b12f4_row3_col1\" class=\"data row3 col1\" >0.47</td>\n",
       "      <td id=\"T_b12f4_row3_col2\" class=\"data row3 col2\" >0.29</td>\n",
       "      <td id=\"T_b12f4_row3_col3\" class=\"data row3 col3\" >0.04</td>\n",
       "      <td id=\"T_b12f4_row3_col4\" class=\"data row3 col4\" >0.21</td>\n",
       "      <td id=\"T_b12f4_row3_col5\" class=\"data row3 col5\" >0.00</td>\n",
       "      <td id=\"T_b12f4_row3_col6\" class=\"data row3 col6\" >0.19</td>\n",
       "      <td id=\"T_b12f4_row3_col7\" class=\"data row3 col7\" >0.07</td>\n",
       "      <td id=\"T_b12f4_row3_col8\" class=\"data row3 col8\" >0.12</td>\n",
       "      <td id=\"T_b12f4_row3_col9\" class=\"data row3 col9\" >0.59</td>\n",
       "    </tr>\n",
       "    <tr>\n",
       "      <th id=\"T_b12f4_level0_row4\" class=\"row_heading level0 row4\" >52%</th>\n",
       "      <td id=\"T_b12f4_row4_col0\" class=\"data row4 col0\" >0.11</td>\n",
       "      <td id=\"T_b12f4_row4_col1\" class=\"data row4 col1\" >0.49</td>\n",
       "      <td id=\"T_b12f4_row4_col2\" class=\"data row4 col2\" >0.30</td>\n",
       "      <td id=\"T_b12f4_row4_col3\" class=\"data row4 col3\" >0.05</td>\n",
       "      <td id=\"T_b12f4_row4_col4\" class=\"data row4 col4\" >0.22</td>\n",
       "      <td id=\"T_b12f4_row4_col5\" class=\"data row4 col5\" >0.00</td>\n",
       "      <td id=\"T_b12f4_row4_col6\" class=\"data row4 col6\" >0.20</td>\n",
       "      <td id=\"T_b12f4_row4_col7\" class=\"data row4 col7\" >0.08</td>\n",
       "      <td id=\"T_b12f4_row4_col8\" class=\"data row4 col8\" >0.12</td>\n",
       "      <td id=\"T_b12f4_row4_col9\" class=\"data row4 col9\" >0.62</td>\n",
       "    </tr>\n",
       "    <tr>\n",
       "      <th id=\"T_b12f4_level0_row5\" class=\"row_heading level0 row5\" >75%</th>\n",
       "      <td id=\"T_b12f4_row5_col0\" class=\"data row5 col0\" >0.50</td>\n",
       "      <td id=\"T_b12f4_row5_col1\" class=\"data row5 col1\" >0.90</td>\n",
       "      <td id=\"T_b12f4_row5_col2\" class=\"data row5 col2\" >0.61</td>\n",
       "      <td id=\"T_b12f4_row5_col3\" class=\"data row5 col3\" >0.08</td>\n",
       "      <td id=\"T_b12f4_row5_col4\" class=\"data row5 col4\" >0.33</td>\n",
       "      <td id=\"T_b12f4_row5_col5\" class=\"data row5 col5\" >0.06</td>\n",
       "      <td id=\"T_b12f4_row5_col6\" class=\"data row5 col6\" >0.51</td>\n",
       "      <td id=\"T_b12f4_row5_col7\" class=\"data row5 col7\" >0.09</td>\n",
       "      <td id=\"T_b12f4_row5_col8\" class=\"data row5 col8\" >0.22</td>\n",
       "      <td id=\"T_b12f4_row5_col9\" class=\"data row5 col9\" >0.89</td>\n",
       "    </tr>\n",
       "    <tr>\n",
       "      <th id=\"T_b12f4_level0_row6\" class=\"row_heading level0 row6\" >97%</th>\n",
       "      <td id=\"T_b12f4_row6_col0\" class=\"data row6 col0\" >1.16</td>\n",
       "      <td id=\"T_b12f4_row6_col1\" class=\"data row6 col1\" >1.42</td>\n",
       "      <td id=\"T_b12f4_row6_col2\" class=\"data row6 col2\" >2.25</td>\n",
       "      <td id=\"T_b12f4_row6_col3\" class=\"data row6 col3\" >0.24</td>\n",
       "      <td id=\"T_b12f4_row6_col4\" class=\"data row6 col4\" >0.88</td>\n",
       "      <td id=\"T_b12f4_row6_col5\" class=\"data row6 col5\" >4.51</td>\n",
       "      <td id=\"T_b12f4_row6_col6\" class=\"data row6 col6\" >0.99</td>\n",
       "      <td id=\"T_b12f4_row6_col7\" class=\"data row6 col7\" >4.96</td>\n",
       "      <td id=\"T_b12f4_row6_col8\" class=\"data row6 col8\" >0.36</td>\n",
       "      <td id=\"T_b12f4_row6_col9\" class=\"data row6 col9\" >3.68</td>\n",
       "    </tr>\n",
       "  </tbody>\n",
       "</table>\n"
      ],
      "text/plain": [
       "<pandas.io.formats.style.Styler at 0x78923211d1f0>"
      ]
     },
     "execution_count": 15,
     "metadata": {},
     "output_type": "execute_result"
    }
   ],
   "source": [
    "objects = [\"G112\", \"G27\", \"G30\", \"G32\", \"G67\", \"G70\", \"G95\", \"G96\", \"Gcaps\", \"Gfrags\"]\n",
    "pred_quants = pred_quants[objects]\n",
    "caption = \"Table 4: The 94% probability interval of the objects of interest for Saint Sulpice. The median value is used for the predictions\"\n",
    "pred_quants.style.format(precision=2).set_table_styles(table_large_font).set_caption(caption)"
   ]
  },
  {
   "cell_type": "markdown",
   "metadata": {
    "collapsed": false,
    "jupyter": {
     "outputs_hidden": false
    },
    "pycharm": {
     "name": "#%% md\n"
    }
   },
   "source": [
    "Recall that the previous results from Saint Sulpice are not used to make the predictions. Only locations in the same region with similar land-use characteristics are used."
   ]
  },
  {
   "cell_type": "markdown",
   "metadata": {
    "collapsed": false,
    "jupyter": {
     "outputs_hidden": false
    },
    "pycharm": {
     "name": "#%% md\n"
    }
   },
   "source": [
    "### Estimates from participants\n",
    "\n",
    "After a classroom discusion and review of the previous years results (but not the predicted results) the participants made an estimate of how many they expect to find of each item of interest."
   ]
  },
  {
   "cell_type": "code",
   "execution_count": 16,
   "metadata": {
    "collapsed": false,
    "editable": true,
    "jupyter": {
     "outputs_hidden": false
    },
    "pycharm": {
     "name": "#%%\n"
    },
    "slideshow": {
     "slide_type": ""
    },
    "tags": [
     "remove-input"
    ]
   },
   "outputs": [],
   "source": [
    "length_p = 49.3\n",
    "\n",
    "estimated_p =[\n",
    "    [.16, 1.12, .54, .05, .30, .08, .39, .04, .31, 1.34],\n",
    "    [6, 3, .6, .1, .4, .03, .8, 1, 2, 1.34],\n",
    "    [.4, 1.5, .3, .1, 1.1, .01, .5, .2, .4, 2]    \n",
    "]\n",
    "\n",
    "def make_rows(estimated, objects):\n",
    "    rows = []\n",
    "    for row in estimated:\n",
    "        row = {objects[i]: x for i,x in enumerate(row)}\n",
    "        rows.append(row)\n",
    "    return rows\n",
    "\n",
    "found_p = [4, 51, 7, 2, 0, 0, 12, 1, 12, 266]\n",
    "found_pm = [x/length_p for x in found_p]\n",
    "\n",
    "pierrette_rows = make_rows(estimated_p, objects)\n",
    "pierrette = pd.DataFrame(pierrette_rows)"
   ]
  },
  {
   "cell_type": "code",
   "execution_count": 17,
   "metadata": {
    "collapsed": false,
    "editable": true,
    "jupyter": {
     "outputs_hidden": false
    },
    "pycharm": {
     "name": "#%%\n"
    },
    "slideshow": {
     "slide_type": ""
    },
    "tags": [
     "remove-input"
    ]
   },
   "outputs": [],
   "source": [
    "found_pel = [4, 51, 7, 2, 0, 0, 12, 1, 12, 266]\n",
    "found_pelm = [x/length_p for x in found_p]"
   ]
  },
  {
   "cell_type": "code",
   "execution_count": 18,
   "metadata": {
    "collapsed": false,
    "editable": true,
    "jupyter": {
     "outputs_hidden": false
    },
    "pycharm": {
     "name": "#%%\n"
    },
    "slideshow": {
     "slide_type": ""
    },
    "tags": [
     "remove-input"
    ]
   },
   "outputs": [
    {
     "data": {
      "text/html": [
       "<style type=\"text/css\">\n",
       "#T_14fed tr:nth-child(even) {\n",
       "  background-color: rgba(139, 69, 19, 0.08);\n",
       "}\n",
       "#T_14fed tr:nth-child(odd) {\n",
       "  background: #FFF;\n",
       "}\n",
       "#T_14fed tr {\n",
       "  font-size: 14px;\n",
       "  padding: 12px;\n",
       "}\n",
       "#T_14fed th:nth-child(1) {\n",
       "  background-color: #FFF;\n",
       "  text-align: right;\n",
       "}\n",
       "#T_14fed caption {\n",
       "  font-size: 14px;\n",
       "  font-style: italic;\n",
       "  caption-side: bottom;\n",
       "  text-align: left;\n",
       "  margin-top: 10px;\n",
       "}\n",
       "</style>\n",
       "<table id=\"T_14fed\">\n",
       "  <caption>Table 5: The estimated amount in pcs/meter for each object that the participants expected to find.</caption>\n",
       "  <thead>\n",
       "    <tr>\n",
       "      <th class=\"blank level0\" >&nbsp;</th>\n",
       "      <th id=\"T_14fed_level0_col0\" class=\"col_heading level0 col0\" >G112</th>\n",
       "      <th id=\"T_14fed_level0_col1\" class=\"col_heading level0 col1\" >G27</th>\n",
       "      <th id=\"T_14fed_level0_col2\" class=\"col_heading level0 col2\" >G30</th>\n",
       "      <th id=\"T_14fed_level0_col3\" class=\"col_heading level0 col3\" >G32</th>\n",
       "      <th id=\"T_14fed_level0_col4\" class=\"col_heading level0 col4\" >G67</th>\n",
       "      <th id=\"T_14fed_level0_col5\" class=\"col_heading level0 col5\" >G70</th>\n",
       "      <th id=\"T_14fed_level0_col6\" class=\"col_heading level0 col6\" >G95</th>\n",
       "      <th id=\"T_14fed_level0_col7\" class=\"col_heading level0 col7\" >G96</th>\n",
       "      <th id=\"T_14fed_level0_col8\" class=\"col_heading level0 col8\" >Gcaps</th>\n",
       "      <th id=\"T_14fed_level0_col9\" class=\"col_heading level0 col9\" >Gfrags</th>\n",
       "    </tr>\n",
       "  </thead>\n",
       "  <tbody>\n",
       "    <tr>\n",
       "      <th id=\"T_14fed_level0_row0\" class=\"row_heading level0 row0\" >0</th>\n",
       "      <td id=\"T_14fed_row0_col0\" class=\"data row0 col0\" >0.16</td>\n",
       "      <td id=\"T_14fed_row0_col1\" class=\"data row0 col1\" >1.12</td>\n",
       "      <td id=\"T_14fed_row0_col2\" class=\"data row0 col2\" >0.54</td>\n",
       "      <td id=\"T_14fed_row0_col3\" class=\"data row0 col3\" >0.05</td>\n",
       "      <td id=\"T_14fed_row0_col4\" class=\"data row0 col4\" >0.30</td>\n",
       "      <td id=\"T_14fed_row0_col5\" class=\"data row0 col5\" >0.08</td>\n",
       "      <td id=\"T_14fed_row0_col6\" class=\"data row0 col6\" >0.39</td>\n",
       "      <td id=\"T_14fed_row0_col7\" class=\"data row0 col7\" >0.04</td>\n",
       "      <td id=\"T_14fed_row0_col8\" class=\"data row0 col8\" >0.31</td>\n",
       "      <td id=\"T_14fed_row0_col9\" class=\"data row0 col9\" >1.34</td>\n",
       "    </tr>\n",
       "    <tr>\n",
       "      <th id=\"T_14fed_level0_row1\" class=\"row_heading level0 row1\" >1</th>\n",
       "      <td id=\"T_14fed_row1_col0\" class=\"data row1 col0\" >0.15</td>\n",
       "      <td id=\"T_14fed_row1_col1\" class=\"data row1 col1\" >0.57</td>\n",
       "      <td id=\"T_14fed_row1_col2\" class=\"data row1 col2\" >0.24</td>\n",
       "      <td id=\"T_14fed_row1_col3\" class=\"data row1 col3\" >0.08</td>\n",
       "      <td id=\"T_14fed_row1_col4\" class=\"data row1 col4\" >0.05</td>\n",
       "      <td id=\"T_14fed_row1_col5\" class=\"data row1 col5\" >0.05</td>\n",
       "      <td id=\"T_14fed_row1_col6\" class=\"data row1 col6\" >0.16</td>\n",
       "      <td id=\"T_14fed_row1_col7\" class=\"data row1 col7\" >0.10</td>\n",
       "      <td id=\"T_14fed_row1_col8\" class=\"data row1 col8\" >0.14</td>\n",
       "      <td id=\"T_14fed_row1_col9\" class=\"data row1 col9\" >0.22</td>\n",
       "    </tr>\n",
       "    <tr>\n",
       "      <th id=\"T_14fed_level0_row2\" class=\"row_heading level0 row2\" >2</th>\n",
       "      <td id=\"T_14fed_row2_col0\" class=\"data row2 col0\" >0.05</td>\n",
       "      <td id=\"T_14fed_row2_col1\" class=\"data row2 col1\" >0.80</td>\n",
       "      <td id=\"T_14fed_row2_col2\" class=\"data row2 col2\" >0.20</td>\n",
       "      <td id=\"T_14fed_row2_col3\" class=\"data row2 col3\" >0.02</td>\n",
       "      <td id=\"T_14fed_row2_col4\" class=\"data row2 col4\" >0.15</td>\n",
       "      <td id=\"T_14fed_row2_col5\" class=\"data row2 col5\" >0.04</td>\n",
       "      <td id=\"T_14fed_row2_col6\" class=\"data row2 col6\" >0.30</td>\n",
       "      <td id=\"T_14fed_row2_col7\" class=\"data row2 col7\" >0.01</td>\n",
       "      <td id=\"T_14fed_row2_col8\" class=\"data row2 col8\" >0.25</td>\n",
       "      <td id=\"T_14fed_row2_col9\" class=\"data row2 col9\" >1.20</td>\n",
       "    </tr>\n",
       "    <tr>\n",
       "      <th id=\"T_14fed_level0_row3\" class=\"row_heading level0 row3\" >3</th>\n",
       "      <td id=\"T_14fed_row3_col0\" class=\"data row3 col0\" >0.10</td>\n",
       "      <td id=\"T_14fed_row3_col1\" class=\"data row3 col1\" >0.35</td>\n",
       "      <td id=\"T_14fed_row3_col2\" class=\"data row3 col2\" >0.15</td>\n",
       "      <td id=\"T_14fed_row3_col3\" class=\"data row3 col3\" >0.03</td>\n",
       "      <td id=\"T_14fed_row3_col4\" class=\"data row3 col4\" >0.05</td>\n",
       "      <td id=\"T_14fed_row3_col5\" class=\"data row3 col5\" >0.01</td>\n",
       "      <td id=\"T_14fed_row3_col6\" class=\"data row3 col6\" >0.06</td>\n",
       "      <td id=\"T_14fed_row3_col7\" class=\"data row3 col7\" >0.10</td>\n",
       "      <td id=\"T_14fed_row3_col8\" class=\"data row3 col8\" >0.15</td>\n",
       "      <td id=\"T_14fed_row3_col9\" class=\"data row3 col9\" >0.50</td>\n",
       "    </tr>\n",
       "    <tr>\n",
       "      <th id=\"T_14fed_level0_row4\" class=\"row_heading level0 row4\" >4</th>\n",
       "      <td id=\"T_14fed_row4_col0\" class=\"data row4 col0\" >0.07</td>\n",
       "      <td id=\"T_14fed_row4_col1\" class=\"data row4 col1\" >0.15</td>\n",
       "      <td id=\"T_14fed_row4_col2\" class=\"data row4 col2\" >0.05</td>\n",
       "      <td id=\"T_14fed_row4_col3\" class=\"data row4 col3\" >0.02</td>\n",
       "      <td id=\"T_14fed_row4_col4\" class=\"data row4 col4\" >0.01</td>\n",
       "      <td id=\"T_14fed_row4_col5\" class=\"data row4 col5\" >0.00</td>\n",
       "      <td id=\"T_14fed_row4_col6\" class=\"data row4 col6\" >0.04</td>\n",
       "      <td id=\"T_14fed_row4_col7\" class=\"data row4 col7\" >0.01</td>\n",
       "      <td id=\"T_14fed_row4_col8\" class=\"data row4 col8\" >0.08</td>\n",
       "      <td id=\"T_14fed_row4_col9\" class=\"data row4 col9\" >0.12</td>\n",
       "    </tr>\n",
       "    <tr>\n",
       "      <th id=\"T_14fed_level0_row5\" class=\"row_heading level0 row5\" >5</th>\n",
       "      <td id=\"T_14fed_row5_col0\" class=\"data row5 col0\" >0.15</td>\n",
       "      <td id=\"T_14fed_row5_col1\" class=\"data row5 col1\" >0.50</td>\n",
       "      <td id=\"T_14fed_row5_col2\" class=\"data row5 col2\" >0.30</td>\n",
       "      <td id=\"T_14fed_row5_col3\" class=\"data row5 col3\" >0.03</td>\n",
       "      <td id=\"T_14fed_row5_col4\" class=\"data row5 col4\" >0.01</td>\n",
       "      <td id=\"T_14fed_row5_col5\" class=\"data row5 col5\" >0.00</td>\n",
       "      <td id=\"T_14fed_row5_col6\" class=\"data row5 col6\" >0.05</td>\n",
       "      <td id=\"T_14fed_row5_col7\" class=\"data row5 col7\" >0.05</td>\n",
       "      <td id=\"T_14fed_row5_col8\" class=\"data row5 col8\" >0.20</td>\n",
       "      <td id=\"T_14fed_row5_col9\" class=\"data row5 col9\" >0.20</td>\n",
       "    </tr>\n",
       "    <tr>\n",
       "      <th id=\"T_14fed_level0_row6\" class=\"row_heading level0 row6\" >6</th>\n",
       "      <td id=\"T_14fed_row6_col0\" class=\"data row6 col0\" >0.16</td>\n",
       "      <td id=\"T_14fed_row6_col1\" class=\"data row6 col1\" >1.12</td>\n",
       "      <td id=\"T_14fed_row6_col2\" class=\"data row6 col2\" >0.54</td>\n",
       "      <td id=\"T_14fed_row6_col3\" class=\"data row6 col3\" >0.05</td>\n",
       "      <td id=\"T_14fed_row6_col4\" class=\"data row6 col4\" >0.30</td>\n",
       "      <td id=\"T_14fed_row6_col5\" class=\"data row6 col5\" >0.08</td>\n",
       "      <td id=\"T_14fed_row6_col6\" class=\"data row6 col6\" >0.39</td>\n",
       "      <td id=\"T_14fed_row6_col7\" class=\"data row6 col7\" >0.04</td>\n",
       "      <td id=\"T_14fed_row6_col8\" class=\"data row6 col8\" >0.31</td>\n",
       "      <td id=\"T_14fed_row6_col9\" class=\"data row6 col9\" >1.34</td>\n",
       "    </tr>\n",
       "    <tr>\n",
       "      <th id=\"T_14fed_level0_row7\" class=\"row_heading level0 row7\" >7</th>\n",
       "      <td id=\"T_14fed_row7_col0\" class=\"data row7 col0\" >6.00</td>\n",
       "      <td id=\"T_14fed_row7_col1\" class=\"data row7 col1\" >3.00</td>\n",
       "      <td id=\"T_14fed_row7_col2\" class=\"data row7 col2\" >0.60</td>\n",
       "      <td id=\"T_14fed_row7_col3\" class=\"data row7 col3\" >0.10</td>\n",
       "      <td id=\"T_14fed_row7_col4\" class=\"data row7 col4\" >0.40</td>\n",
       "      <td id=\"T_14fed_row7_col5\" class=\"data row7 col5\" >0.03</td>\n",
       "      <td id=\"T_14fed_row7_col6\" class=\"data row7 col6\" >0.80</td>\n",
       "      <td id=\"T_14fed_row7_col7\" class=\"data row7 col7\" >1.00</td>\n",
       "      <td id=\"T_14fed_row7_col8\" class=\"data row7 col8\" >2.00</td>\n",
       "      <td id=\"T_14fed_row7_col9\" class=\"data row7 col9\" >1.34</td>\n",
       "    </tr>\n",
       "    <tr>\n",
       "      <th id=\"T_14fed_level0_row8\" class=\"row_heading level0 row8\" >8</th>\n",
       "      <td id=\"T_14fed_row8_col0\" class=\"data row8 col0\" >0.40</td>\n",
       "      <td id=\"T_14fed_row8_col1\" class=\"data row8 col1\" >1.50</td>\n",
       "      <td id=\"T_14fed_row8_col2\" class=\"data row8 col2\" >0.30</td>\n",
       "      <td id=\"T_14fed_row8_col3\" class=\"data row8 col3\" >0.10</td>\n",
       "      <td id=\"T_14fed_row8_col4\" class=\"data row8 col4\" >1.10</td>\n",
       "      <td id=\"T_14fed_row8_col5\" class=\"data row8 col5\" >0.01</td>\n",
       "      <td id=\"T_14fed_row8_col6\" class=\"data row8 col6\" >0.50</td>\n",
       "      <td id=\"T_14fed_row8_col7\" class=\"data row8 col7\" >0.20</td>\n",
       "      <td id=\"T_14fed_row8_col8\" class=\"data row8 col8\" >0.40</td>\n",
       "      <td id=\"T_14fed_row8_col9\" class=\"data row8 col9\" >2.00</td>\n",
       "    </tr>\n",
       "  </tbody>\n",
       "</table>\n"
      ],
      "text/plain": [
       "<pandas.io.formats.style.Styler at 0x789227f61d00>"
      ]
     },
     "execution_count": 18,
     "metadata": {},
     "output_type": "execute_result"
    }
   ],
   "source": [
    "estimated_td = [\n",
    "    [.16, 1.12, .54, .05, .30, .08, .39, .04, .31, 1.34],\n",
    "    [.15, .57,.24,.08,.05,.05,.16,.1,.14, .22],\n",
    "    [.05, .8, .2, .02, .15, .04, .3, .01, .25, 1.2],\n",
    "    [.1,.35,.15,.03, .05, .01, .06, .1, .15, .5],\n",
    "    [.07, .15, .05, .02, .01, 0, .04, .01, .08, .12],\n",
    "    [.15, .5, .3, .03, .01, 0, .05, .05, .2, .2]\n",
    "]\n",
    "\n",
    "length_td=16.5\n",
    "\n",
    "found_td = [11, 60, 9, 3, 0, 0,13, 1, 3, 179]\n",
    "found_tdm = np.array([x/length_td for x in found_td])\n",
    "\n",
    "tiger_duck_rows = make_rows(estimated_td, objects)\n",
    "tiger_duck = pd.DataFrame(tiger_duck_rows)\n",
    "\n",
    "found = pd.DataFrame([found_tdm, found_pm], columns=objects)\n",
    "fmelted = pd.melt(found, value_vars=found.columns)\n",
    "fmelted[\"source\"] = \"found\"\n",
    "\n",
    "combined = pd.concat([tiger_duck, pierrette])\n",
    "caption = \"Table 5: The estimated amount in pcs/meter for each object that the participants expected to find.\"\n",
    "combined.reset_index(inplace=True, drop=True)\n",
    "combined.style.format(precision=2).set_table_styles(table_large_font).set_caption(caption)"
   ]
  },
  {
   "cell_type": "markdown",
   "metadata": {
    "collapsed": false,
    "jupyter": {
     "outputs_hidden": false
    },
    "pycharm": {
     "name": "#%% md\n"
    }
   },
   "source": [
    "## Survey results October 5, 2023 Saint Sulpice\n",
    "\n",
    "After the particpants completed the forms, surveys were conducted at three beaches within the city limits of Saint Sulpice. Only the forms for two beaches were returned."
   ]
  },
  {
   "cell_type": "code",
   "execution_count": 19,
   "metadata": {
    "collapsed": false,
    "editable": true,
    "jupyter": {
     "outputs_hidden": false
    },
    "pycharm": {
     "name": "#%%\n"
    },
    "slideshow": {
     "slide_type": ""
    },
    "tags": [
     "remove-input"
    ]
   },
   "outputs": [
    {
     "data": {
      "text/html": [
       "<style type=\"text/css\">\n",
       "#T_a6b0f tr:nth-child(even) {\n",
       "  background-color: rgba(139, 69, 19, 0.08);\n",
       "}\n",
       "#T_a6b0f tr:nth-child(odd) {\n",
       "  background: #FFF;\n",
       "}\n",
       "#T_a6b0f tr {\n",
       "  font-size: 14px;\n",
       "  padding: 12px;\n",
       "}\n",
       "#T_a6b0f th:nth-child(1) {\n",
       "  background-color: #FFF;\n",
       "  text-align: right;\n",
       "}\n",
       "#T_a6b0f caption {\n",
       "  font-size: 14px;\n",
       "  font-style: italic;\n",
       "  caption-side: bottom;\n",
       "  text-align: left;\n",
       "  margin-top: 10px;\n",
       "}\n",
       "</style>\n",
       "<table id=\"T_a6b0f\">\n",
       "  <caption>Table 6: The survey results of the objects of interest on October 5, 2023 in pieces per meter</caption>\n",
       "  <thead>\n",
       "    <tr>\n",
       "      <th class=\"blank level0\" >&nbsp;</th>\n",
       "      <th id=\"T_a6b0f_level0_col0\" class=\"col_heading level0 col0\" >G112</th>\n",
       "      <th id=\"T_a6b0f_level0_col1\" class=\"col_heading level0 col1\" >G27</th>\n",
       "      <th id=\"T_a6b0f_level0_col2\" class=\"col_heading level0 col2\" >G30</th>\n",
       "      <th id=\"T_a6b0f_level0_col3\" class=\"col_heading level0 col3\" >G32</th>\n",
       "      <th id=\"T_a6b0f_level0_col4\" class=\"col_heading level0 col4\" >G67</th>\n",
       "      <th id=\"T_a6b0f_level0_col5\" class=\"col_heading level0 col5\" >G70</th>\n",
       "      <th id=\"T_a6b0f_level0_col6\" class=\"col_heading level0 col6\" >G95</th>\n",
       "      <th id=\"T_a6b0f_level0_col7\" class=\"col_heading level0 col7\" >G96</th>\n",
       "      <th id=\"T_a6b0f_level0_col8\" class=\"col_heading level0 col8\" >Gcaps</th>\n",
       "      <th id=\"T_a6b0f_level0_col9\" class=\"col_heading level0 col9\" >Gfrags</th>\n",
       "    </tr>\n",
       "  </thead>\n",
       "  <tbody>\n",
       "    <tr>\n",
       "      <th id=\"T_a6b0f_level0_row0\" class=\"row_heading level0 row0\" >tiger-duck-beach</th>\n",
       "      <td id=\"T_a6b0f_row0_col0\" class=\"data row0 col0\" >0.67</td>\n",
       "      <td id=\"T_a6b0f_row0_col1\" class=\"data row0 col1\" >3.64</td>\n",
       "      <td id=\"T_a6b0f_row0_col2\" class=\"data row0 col2\" >0.55</td>\n",
       "      <td id=\"T_a6b0f_row0_col3\" class=\"data row0 col3\" >0.18</td>\n",
       "      <td id=\"T_a6b0f_row0_col4\" class=\"data row0 col4\" >0.00</td>\n",
       "      <td id=\"T_a6b0f_row0_col5\" class=\"data row0 col5\" >0.00</td>\n",
       "      <td id=\"T_a6b0f_row0_col6\" class=\"data row0 col6\" >0.79</td>\n",
       "      <td id=\"T_a6b0f_row0_col7\" class=\"data row0 col7\" >0.06</td>\n",
       "      <td id=\"T_a6b0f_row0_col8\" class=\"data row0 col8\" >0.18</td>\n",
       "      <td id=\"T_a6b0f_row0_col9\" class=\"data row0 col9\" >10.85</td>\n",
       "    </tr>\n",
       "    <tr>\n",
       "      <th id=\"T_a6b0f_level0_row1\" class=\"row_heading level0 row1\" >parc-des-pierrettes</th>\n",
       "      <td id=\"T_a6b0f_row1_col0\" class=\"data row1 col0\" >0.08</td>\n",
       "      <td id=\"T_a6b0f_row1_col1\" class=\"data row1 col1\" >1.03</td>\n",
       "      <td id=\"T_a6b0f_row1_col2\" class=\"data row1 col2\" >0.14</td>\n",
       "      <td id=\"T_a6b0f_row1_col3\" class=\"data row1 col3\" >0.04</td>\n",
       "      <td id=\"T_a6b0f_row1_col4\" class=\"data row1 col4\" >0.00</td>\n",
       "      <td id=\"T_a6b0f_row1_col5\" class=\"data row1 col5\" >0.00</td>\n",
       "      <td id=\"T_a6b0f_row1_col6\" class=\"data row1 col6\" >0.24</td>\n",
       "      <td id=\"T_a6b0f_row1_col7\" class=\"data row1 col7\" >0.02</td>\n",
       "      <td id=\"T_a6b0f_row1_col8\" class=\"data row1 col8\" >0.24</td>\n",
       "      <td id=\"T_a6b0f_row1_col9\" class=\"data row1 col9\" >5.40</td>\n",
       "    </tr>\n",
       "  </tbody>\n",
       "</table>\n"
      ],
      "text/plain": [
       "<pandas.io.formats.style.Styler at 0x789227f042b0>"
      ]
     },
     "execution_count": 19,
     "metadata": {},
     "output_type": "execute_result"
    }
   ],
   "source": [
    "caption=\"Table 6: The survey results of the objects of interest on October 5, 2023 in pieces per meter\"\n",
    "found_display = found.copy()\n",
    "found_display.loc[0, \"beach\"] = \"tiger-duck-beach\"\n",
    "found_display.loc[1, \"beach\"] = \"parc-des-pierrettes\"\n",
    "found_display.set_index(\"beach\", inplace=True, drop=True)\n",
    "found_display.index.name = None\n",
    "found_display.style.format(precision=2).set_table_styles(table_large_font).set_caption(caption)"
   ]
  },
  {
   "cell_type": "markdown",
   "metadata": {
    "editable": true,
    "pycharm": {
     "name": "#%% md\n"
    },
    "slideshow": {
     "slide_type": ""
    },
    "tags": []
   },
   "source": [
    "## Survey results October 5, 2023 Saint Sulpice\n",
    "\n",
    "After the particpants completed the forms, surveys were conducted at three beaches within the city limits of Saint Sulpice. Only the forms for two beaches were returned."
   ]
  },
  {
   "cell_type": "code",
   "execution_count": 20,
   "metadata": {
    "editable": true,
    "pycharm": {
     "name": "#%%\n"
    },
    "slideshow": {
     "slide_type": ""
    },
    "tags": [
     "remove-input"
    ]
   },
   "outputs": [
    {
     "data": {
      "text/html": [
       "<style type=\"text/css\">\n",
       "#T_96377 tr:nth-child(even) {\n",
       "  background-color: rgba(139, 69, 19, 0.08);\n",
       "}\n",
       "#T_96377 tr:nth-child(odd) {\n",
       "  background: #FFF;\n",
       "}\n",
       "#T_96377 tr {\n",
       "  font-size: 14px;\n",
       "  padding: 12px;\n",
       "}\n",
       "#T_96377 th:nth-child(1) {\n",
       "  background-color: #FFF;\n",
       "  text-align: right;\n",
       "}\n",
       "#T_96377 caption {\n",
       "  font-size: 14px;\n",
       "  font-style: italic;\n",
       "  caption-side: bottom;\n",
       "  text-align: left;\n",
       "  margin-top: 10px;\n",
       "}\n",
       "</style>\n",
       "<table id=\"T_96377\">\n",
       "  <caption>Table 6: The survey results of the objects of interest on October 5, 2023 in pieces per meter</caption>\n",
       "  <thead>\n",
       "    <tr>\n",
       "      <th class=\"blank level0\" >&nbsp;</th>\n",
       "      <th id=\"T_96377_level0_col0\" class=\"col_heading level0 col0\" >G112</th>\n",
       "      <th id=\"T_96377_level0_col1\" class=\"col_heading level0 col1\" >G27</th>\n",
       "      <th id=\"T_96377_level0_col2\" class=\"col_heading level0 col2\" >G30</th>\n",
       "      <th id=\"T_96377_level0_col3\" class=\"col_heading level0 col3\" >G32</th>\n",
       "      <th id=\"T_96377_level0_col4\" class=\"col_heading level0 col4\" >G67</th>\n",
       "      <th id=\"T_96377_level0_col5\" class=\"col_heading level0 col5\" >G70</th>\n",
       "      <th id=\"T_96377_level0_col6\" class=\"col_heading level0 col6\" >G95</th>\n",
       "      <th id=\"T_96377_level0_col7\" class=\"col_heading level0 col7\" >G96</th>\n",
       "      <th id=\"T_96377_level0_col8\" class=\"col_heading level0 col8\" >Gcaps</th>\n",
       "      <th id=\"T_96377_level0_col9\" class=\"col_heading level0 col9\" >Gfrags</th>\n",
       "    </tr>\n",
       "  </thead>\n",
       "  <tbody>\n",
       "    <tr>\n",
       "      <th id=\"T_96377_level0_row0\" class=\"row_heading level0 row0\" >tiger-duck-beach</th>\n",
       "      <td id=\"T_96377_row0_col0\" class=\"data row0 col0\" >0.67</td>\n",
       "      <td id=\"T_96377_row0_col1\" class=\"data row0 col1\" >3.64</td>\n",
       "      <td id=\"T_96377_row0_col2\" class=\"data row0 col2\" >0.55</td>\n",
       "      <td id=\"T_96377_row0_col3\" class=\"data row0 col3\" >0.18</td>\n",
       "      <td id=\"T_96377_row0_col4\" class=\"data row0 col4\" >0.00</td>\n",
       "      <td id=\"T_96377_row0_col5\" class=\"data row0 col5\" >0.00</td>\n",
       "      <td id=\"T_96377_row0_col6\" class=\"data row0 col6\" >0.79</td>\n",
       "      <td id=\"T_96377_row0_col7\" class=\"data row0 col7\" >0.06</td>\n",
       "      <td id=\"T_96377_row0_col8\" class=\"data row0 col8\" >0.18</td>\n",
       "      <td id=\"T_96377_row0_col9\" class=\"data row0 col9\" >10.85</td>\n",
       "    </tr>\n",
       "    <tr>\n",
       "      <th id=\"T_96377_level0_row1\" class=\"row_heading level0 row1\" >parc-des-pierrettes</th>\n",
       "      <td id=\"T_96377_row1_col0\" class=\"data row1 col0\" >0.08</td>\n",
       "      <td id=\"T_96377_row1_col1\" class=\"data row1 col1\" >1.03</td>\n",
       "      <td id=\"T_96377_row1_col2\" class=\"data row1 col2\" >0.14</td>\n",
       "      <td id=\"T_96377_row1_col3\" class=\"data row1 col3\" >0.04</td>\n",
       "      <td id=\"T_96377_row1_col4\" class=\"data row1 col4\" >0.00</td>\n",
       "      <td id=\"T_96377_row1_col5\" class=\"data row1 col5\" >0.00</td>\n",
       "      <td id=\"T_96377_row1_col6\" class=\"data row1 col6\" >0.24</td>\n",
       "      <td id=\"T_96377_row1_col7\" class=\"data row1 col7\" >0.02</td>\n",
       "      <td id=\"T_96377_row1_col8\" class=\"data row1 col8\" >0.24</td>\n",
       "      <td id=\"T_96377_row1_col9\" class=\"data row1 col9\" >5.40</td>\n",
       "    </tr>\n",
       "  </tbody>\n",
       "</table>\n"
      ],
      "text/plain": [
       "<pandas.io.formats.style.Styler at 0x789230d09fa0>"
      ]
     },
     "execution_count": 20,
     "metadata": {},
     "output_type": "execute_result"
    }
   ],
   "source": [
    "caption=\"Table 6: The survey results of the objects of interest on October 5, 2023 in pieces per meter\"\n",
    "found_display = found.copy()\n",
    "found_display.loc[0, \"beach\"] = \"tiger-duck-beach\"\n",
    "found_display.loc[1, \"beach\"] = \"parc-des-pierrettes\"\n",
    "found_display.set_index(\"beach\", inplace=True, drop=True)\n",
    "found_display.index.name = None\n",
    "found_display.style.format(precision=2).set_table_styles(table_large_font).set_caption(caption)"
   ]
  },
  {
   "cell_type": "markdown",
   "metadata": {
    "editable": true,
    "pycharm": {
     "name": "#%% md\n"
    },
    "slideshow": {
     "slide_type": ""
    },
    "tags": []
   },
   "source": [
    "## Results: Estimated, found and predicted\n",
    "\n",
    "It appears that both the participants and the model underestimated the amount of plastic fragments. Recall that the participants were given the cumulative results for these objects, table 1."
   ]
  },
  {
   "cell_type": "code",
   "execution_count": 21,
   "metadata": {
    "editable": true,
    "pycharm": {
     "name": "#%%\n"
    },
    "slideshow": {
     "slide_type": ""
    },
    "tags": [
     "remove-input"
    ]
   },
   "outputs": [
    {
     "data": {
      "application/papermill.record/image/png": "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",
      "application/papermill.record/text/plain": "<Figure size 640x480 with 1 Axes>"
     },
     "metadata": {
      "scrapbook": {
       "mime_prefix": "application/papermill.record/",
       "name": "estimated-found-predicted-2023"
      }
     },
     "output_type": "display_data"
    }
   ],
   "source": [
    "\n",
    "combined.reset_index(inplace=True, drop=True)\n",
    "comb_long = pd.melt(combined, value_vars=combined.columns)\n",
    "comb_long[\"source\"] = \"estimated\"\n",
    "\n",
    "predicted_median = list(zip(objects,pred_quants.loc[\"50%\"]))\n",
    "pmelted = pd.DataFrame(predicted_median, columns=[\"variable\", \"value\"])\n",
    "pmelted[\"source\"] = \"predicted\"\n",
    "\n",
    "predict_estimate_found = pd.concat([fmelted, pmelted, comb_long])\n",
    "\n",
    "fig, ax = plt.subplots()\n",
    "\n",
    "data_one = predict_estimate_found[predict_estimate_found.source == \"estimated\"]\n",
    "data_two = predict_estimate_found[predict_estimate_found.source == \"found\"]\n",
    "data_three = predict_estimate_found[predict_estimate_found.source == \"predicted\"]\n",
    "sns.scatterplot(data=data_one, x=\"variable\", y=\"value\", color=\"magenta\", zorder=0,ax=ax, label=\"estimated\")\n",
    "sns.scatterplot(data=data_two, x=\"variable\", y=\"value\", color=\"dodgerblue\", marker=\"X\", s=60, zorder=2,ax=ax, label=\"found\")\n",
    "sns.scatterplot(data=data_three, x=\"variable\", y=\"value\", color=\"black\", zorder=3,ax=ax,label=\"predicted\")\n",
    "ax.set_xlabel(\"\")\n",
    "ax.set_ylabel(\"pcs/m\")\n",
    "ax.legend()\n",
    "glue('estimated-found-predicted-2023', fig, display=False)\n",
    "plt.close()"
   ]
  },
  {
   "cell_type": "markdown",
   "metadata": {
    "editable": true,
    "pycharm": {
     "name": "#%% md\n"
    },
    "slideshow": {
     "slide_type": ""
    },
    "tags": []
   },
   "source": [
    "|Figure 3|\n",
    "|:------------:|\n",
    "|{glue:}`estimated-found-predicted-2023`|\n",
    "|Figure 3: _The Estimated, observed and predicted results for the objects of interest, Saint Sulpice October 5, 2023_|\n",
    " "
   ]
  },
  {
   "cell_type": "markdown",
   "metadata": {
    "editable": true,
    "pycharm": {
     "name": "#%% md\n"
    },
    "slideshow": {
     "slide_type": ""
    },
    "tags": []
   },
   "source": [
    "The predicted values from the model were all closer than the predicted values by the participants, table 7. In total 17/20 oserved results fell within the 96% probability interval predicted by the model, 7/20 fell within the 50% probability interval, Annex: table 8. Of the objects not within the 96% interval there is:\n",
    "1. Fragmented plastics, (both surveys)\n",
    "2. Cigarette ends\n",
    "3. Toys and party favors\n",
    "\n",
    "From figure 4 we can see how close the predictions and the estimates are."
   ]
  },
  {
   "cell_type": "code",
   "execution_count": 22,
   "metadata": {
    "editable": true,
    "pycharm": {
     "name": "#%%\n"
    },
    "slideshow": {
     "slide_type": ""
    },
    "tags": [
     "remove-input"
    ]
   },
   "outputs": [],
   "source": [
    "def calculate_the_difference_estimated_found(combined, found_tdm, objects):\n",
    "    diffs = []\n",
    "    for i, o in enumerate(objects):\n",
    "        diff = combined[objects[i]] - found_tdm[i]\n",
    "        # diffpr = combined[objects[i]] - found_pm[i]\n",
    "        diff_sq = (diff**2)**.5\n",
    "        diffs.append(diff_sq)\n",
    "    return diffs\n",
    "difference_estimated_found_td = calculate_the_difference_estimated_found(tiger_duck, found_tdm, objects)\n",
    "difference_estimated_found_pr = calculate_the_difference_estimated_found(pierrette, found_pm, objects)\n",
    "td_diff = pd.DataFrame(difference_estimated_found_td).T\n",
    "pier_diff = pd.DataFrame(difference_estimated_found_pr).T\n",
    "combined_diffs = pd.concat([td_diff, pier_diff])\n",
    "c_diff_estimated = pd.melt(combined_diffs, value_vars=combined_diffs.columns)\n",
    "c_diff_estimated[\"source\"] = \"difference² of estimated\""
   ]
  },
  {
   "cell_type": "code",
   "execution_count": 23,
   "metadata": {
    "editable": true,
    "pycharm": {
     "name": "#%%\n"
    },
    "slideshow": {
     "slide_type": ""
    },
    "tags": [
     "remove-input"
    ]
   },
   "outputs": [],
   "source": [
    "predicted_median = pred_quants.loc[\"50%\"].values\n",
    "diff_1 = []\n",
    "diff_2 = []\n",
    "for i, o in enumerate(objects):    \n",
    "    diffp = predicted_median[i] - found_tdm[i]\n",
    "    diffpr = predicted_median[i] - found_pm[i]\n",
    "    diff_sq = (np.array([diffp, diffpr])**2)**.5\n",
    "    diff_1.append(diff_sq[0])\n",
    "    diff_2.append(diff_sq[1])\n",
    "\n",
    "\n",
    "# pred_diffs = pd.DataFrame([diff_1, diff_2], columns=objects)\n",
    "# p_diff_predicted = pd.melt(pred_diffs, value_vars=pred_diffs.columns)\n",
    "# p_diff_predicted[\"source\"] = \"difference² of predicted\""
   ]
  },
  {
   "cell_type": "code",
   "execution_count": 24,
   "metadata": {
    "editable": true,
    "pycharm": {
     "name": "#%%\n"
    },
    "slideshow": {
     "slide_type": ""
    },
    "tags": [
     "remove-input"
    ]
   },
   "outputs": [
    {
     "ename": "NameError",
     "evalue": "name 'p_diff_predicted' is not defined",
     "output_type": "error",
     "traceback": [
      "\u001b[0;31m---------------------------------------------------------------------------\u001b[0m",
      "\u001b[0;31mNameError\u001b[0m                                 Traceback (most recent call last)",
      "Cell \u001b[0;32mIn[24], line 1\u001b[0m\n\u001b[0;32m----> 1\u001b[0m results \u001b[38;5;241m=\u001b[39m pd\u001b[38;5;241m.\u001b[39mconcat([c_diff_estimated, \u001b[43mp_diff_predicted\u001b[49m])\n\u001b[1;32m      3\u001b[0m fig, ax \u001b[38;5;241m=\u001b[39m plt\u001b[38;5;241m.\u001b[39msubplots()\n\u001b[1;32m      5\u001b[0m ax\u001b[38;5;241m.\u001b[39mplot(objects, [\u001b[38;5;241m*\u001b[39m[\u001b[38;5;241m0\u001b[39m]\u001b[38;5;241m*\u001b[39m\u001b[38;5;28mlen\u001b[39m(objects)], label\u001b[38;5;241m=\u001b[39m\u001b[38;5;124m\"\u001b[39m\u001b[38;5;124mzero\u001b[39m\u001b[38;5;124m\"\u001b[39m)\n",
      "\u001b[0;31mNameError\u001b[0m: name 'p_diff_predicted' is not defined"
     ]
    }
   ],
   "source": [
    "results = pd.concat([c_diff_estimated, p_diff_predicted])\n",
    "\n",
    "fig, ax = plt.subplots()\n",
    "\n",
    "ax.plot(objects, [*[0]*len(objects)], label=\"zero\")\n",
    "sns.scatterplot(data=results, x=\"variable\", y=\"value\", ax=ax, hue=\"source\", palette=[\"magenta\", \"black\"])\n",
    "ax.set_xlabel(\"\")\n",
    "ax.set_ylabel(\"pcs/m\")\n",
    "ax.legend()\n",
    "glue('diference-estimated-found-predicted-2023', fig, display=False)\n",
    "plt.close()"
   ]
  },
  {
   "cell_type": "markdown",
   "metadata": {
    "editable": true,
    "pycharm": {
     "name": "#%% md\n"
    },
    "slideshow": {
     "slide_type": ""
    },
    "tags": []
   },
   "source": [
    "|Figure 4|\n",
    "|:------------:|\n",
    "|{glue:}`diference-estimated-found-predicted-2023`|\n",
    "|Figure 4: _The root of the squared difference between observed estimated and predicted, Saint Sulpice October 5, 2023_| "
   ]
  },
  {
   "cell_type": "code",
   "execution_count": null,
   "metadata": {
    "editable": true,
    "pycharm": {
     "name": "#%%\n"
    },
    "slideshow": {
     "slide_type": ""
    },
    "tags": [
     "remove-input"
    ]
   },
   "outputs": [],
   "source": [
    "r = results.groupby([\"source\", \"variable\"], as_index=False).value.mean()\n",
    "r.rename(columns={\"value\":\"average\"}, inplace=True)\n",
    "rp = r.pivot(index=\"variable\", columns=\"source\")\n",
    "rp.index.name = None\n",
    "caption = \"Table 7: The average difference between what was found and the estimates of the participants and what was predicted using the empirical Bayes method\"\n",
    "rp.style.set_table_styles(table_large_font).format(precision=2).set_caption(caption)"
   ]
  },
  {
   "cell_type": "code",
   "execution_count": null,
   "metadata": {
    "editable": true,
    "pycharm": {
     "name": "#%%\n"
    },
    "slideshow": {
     "slide_type": ""
    },
    "tags": [
     "remove-input"
    ]
   },
   "outputs": [],
   "source": [
    "def are_the_observed_values_within_the_hdi(found, objects, predicted, index=0):\n",
    "    place = []\n",
    "    for i, o in enumerate(objects):\n",
    "        f = found.loc[index, o]\n",
    "        p = predicted[o].values\n",
    "        ip = bisect_left(p, f)\n",
    "        if ip >= 0 and ip <= 6:\n",
    "            # is within 94% HDI\n",
    "            within_96 = True\n",
    "        else:\n",
    "            within_96 = False                  \n",
    "        if ip >= 1 and ip <= 5:\n",
    "            # is within 50% HDI           \n",
    "            within_50 = True\n",
    "        else:          \n",
    "            within_50 = False    \n",
    "            \n",
    "        place.append([o, within_96, within_50])\n",
    "    return place\n",
    "\n",
    "simple_results_td = are_the_observed_values_within_the_hdi(found, objects, pred_quants)\n",
    "td_predicted_results = pd.DataFrame(simple_results_td, columns=[\"object\",\"within 96% HDI\", \"within 50% HDI\"])\n",
    "\n",
    "simple_results_p = are_the_observed_values_within_the_hdi(found, objects, pred_quants, index=1)\n",
    "p_predicted_results = pd.DataFrame(simple_results_p, columns=[\"object\",\"within 96% HDI\", \"within 50% HDI\"])\n",
    "\n",
    "all_predicted_results = pd.concat([td_predicted_results, p_predicted_results])"
   ]
  },
  {
   "cell_type": "markdown",
   "metadata": {
    "editable": true,
    "pycharm": {
     "name": "#%% md\n"
    },
    "slideshow": {
     "slide_type": ""
    },
    "tags": []
   },
   "source": [
    "## Discussion\n",
    "\n",
    "There were three surveys completed, two are reflected in the report. Neither the the estimated amounts from the particpants or the survey results were returned for the third survey. On location the participants were shown examples of the objects of interest. The limits of the survey area were defined and the survey was conducted in small groups. The objects found on the beach were separated and counted on location. The identification or the differentiation of fragmented plastics and foams remains difficult for new participants. This is in one part due to the constraints of time and on the other to the lack of experience. Many times what initially appears to be an unidentifiable piece of plastic can actually be placed in a more precise category with reasonable certainty. The new paritcipants do not have the time to consider other possibilities or simply are unaware of the original use of the item in questions.\n",
    "\n",
    "Many participants used the previous aggregated survey results to estimate the expected values. This reasonable strategy produced estimates that were very close to the predicted survey results. This suggests that previous survey results can serve as an indicator for expected results as long as the objects have been identified correctly and consistently in the past. Yet, from table 7 it is clear that predictions are more accurate when a formal method is used. \n",
    "\n",
    "## Conclusions\n",
    "\n",
    "From this experience we conclude that the expected values in table 4 do represent probable beach-litter densities in the region. \n",
    "\n",
    "### Next steps\n",
    "\n",
    "Make hierarchical model"
   ]
  },
  {
   "cell_type": "markdown",
   "metadata": {
    "editable": true,
    "pycharm": {
     "name": "#%% md\n"
    },
    "slideshow": {
     "slide_type": ""
    },
    "tags": []
   },
   "source": [
    "## Annex"
   ]
  },
  {
   "cell_type": "markdown",
   "metadata": {
    "editable": true,
    "pycharm": {
     "name": "#%% md\n"
    },
    "slideshow": {
     "slide_type": ""
    },
    "tags": []
   },
   "source": [
    "### The accuracy of the predictions in relation to what was found"
   ]
  },
  {
   "cell_type": "code",
   "execution_count": null,
   "metadata": {
    "editable": true,
    "pycharm": {
     "name": "#%%\n"
    },
    "slideshow": {
     "slide_type": ""
    },
    "tags": [
     "remove-input"
    ]
   },
   "outputs": [],
   "source": [
    "caption = \"Table 8: Whether the observed value fell within the predicted interval\"\n",
    "all_predicted_results.style.set_table_styles(table_large_font).set_caption(caption)"
   ]
  },
  {
   "cell_type": "code",
   "execution_count": null,
   "metadata": {
    "editable": true,
    "pycharm": {
     "name": "#%%\n"
    },
    "slideshow": {
     "slide_type": ""
    },
    "tags": [
     "remove-input"
    ]
   },
   "outputs": [],
   "source": [
    "alr = all_predicted_results[[\"within 96% HDI\", \"within 50% HDI\"]].sum()\n",
    "alr/len(all_predicted_results)"
   ]
  },
  {
   "cell_type": "code",
   "execution_count": null,
   "metadata": {
    "editable": true,
    "pycharm": {
     "name": "#%%\n"
    },
    "slideshow": {
     "slide_type": ""
    },
    "tags": [
     "remove-input"
    ]
   },
   "outputs": [],
   "source": [
    "alr"
   ]
  },
  {
   "cell_type": "code",
   "execution_count": null,
   "metadata": {
    "editable": true,
    "pycharm": {
     "name": "#%%\n"
    },
    "slideshow": {
     "slide_type": ""
    },
    "tags": [
     "remove-input"
    ]
   },
   "outputs": [],
   "source": [
    "today = dt.datetime.now().date().strftime(\"%d/%m/%Y\")\n",
    "where = \"Biel, CH\"\n",
    "\n",
    "my_block = f\"\"\"\n",
    "\n",
    "This script updated {today} in {where}\n",
    "\n",
    "\\u2764\\ufe0f __what you do everyday:__ *analyst at hammerdirt*\n",
    "\"\"\"\n",
    "\n",
    "md(my_block)"
   ]
  },
  {
   "cell_type": "code",
   "execution_count": null,
   "metadata": {
    "editable": true,
    "pycharm": {
     "name": "#%%\n"
    },
    "slideshow": {
     "slide_type": ""
    },
    "tags": [
     "remove-input"
    ]
   },
   "outputs": [],
   "source": [
    "%watermark --iversions -b -r"
   ]
  }
 ],
 "metadata": {
  "kernelspec": {
   "display_name": "Python 3 (ipykernel)",
   "language": "python",
   "name": "python3"
  },
  "language_info": {
   "codemirror_mode": {
    "name": "ipython",
    "version": 3
   },
   "file_extension": ".py",
   "mimetype": "text/x-python",
   "name": "python",
   "nbconvert_exporter": "python",
   "pygments_lexer": "ipython3",
   "version": "3.9.19"
  }
 },
 "nbformat": 4,
 "nbformat_minor": 4
}
