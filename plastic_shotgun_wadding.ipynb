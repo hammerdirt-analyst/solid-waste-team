{
 "cells": [
  {
   "cell_type": "code",
   "execution_count": 7,
   "id": "60d29688-34ea-4727-8c83-d1e52de7c808",
   "metadata": {
    "editable": true,
    "pycharm": {
     "name": "#%%\n"
    },
    "slideshow": {
     "slide_type": ""
    },
    "tags": [
     "remove-input"
    ]
   },
   "outputs": [],
   "source": [
    "import pandas as pd\n",
    "import numpy as np\n",
    "from myst_nb import glue\n",
    "import seaborn as sns\n",
    "import matplotlib.dates as mdates\n",
    "import matplotlib.pyplot as plt\n",
    "from IPython.display import display, Markdown\n",
    "import geopandas as gpd\n",
    "\n",
    "# this defines the css rules for the note-book table displays\n",
    "header_row = {'selector': 'th:nth-child(1)', 'props': f'background-color: #FFF; text-align:right'}\n",
    "even_rows = {\"selector\": 'tr:nth-child(even)', 'props': f'background-color: rgba(139, 69, 19, 0.08);'}\n",
    "odd_rows = {'selector': 'tr:nth-child(odd)', 'props': 'background: #FFF;'}\n",
    "table_font = {'selector': 'tr', 'props': 'font-size: 14px;'}\n",
    "table_data = {'selector': 'td', 'props': 'padding: 14px;'}\n",
    "table_caption = {'selector': 'caption', 'props': 'font-size: 14px; font-style: italic; caption-side: bottom; text-align: left; margin-top: 10px'}\n",
    "table_css_styles = [even_rows, odd_rows, table_font, header_row, table_caption]\n",
    "\n",
    "\n",
    "table_large_data = {'selector': 'tr', 'props': 'font-size: 14px; padding: 12px;'}\n",
    "table_large_font = [even_rows, odd_rows, table_large_data, header_row, table_caption]\n",
    "\n",
    "hl1 = pd.read_csv('resources/data/checks/hist_leman.csv')\n",
    "hl2 = pd.read_csv('resources/data/u_all_data.csv')\n",
    "hl2 = hl2[hl2.water_name_slug == 'lac-leman'].copy()\n",
    "\n",
    "yu = [\n",
    "    'canton',\n",
    "    'orchards',\n",
    "    'vineyards',\n",
    "    'buildings',\n",
    "    'forest',\n",
    "    'undefined',\n",
    "    'public_services',\n",
    "    'streets'\n",
    "   \n",
    "]\n",
    "\n",
    "t = hl1[hl1.location == 'maladaire'][yu][:1]\n",
    "missing = hl2[hl2.loc_date == \"('maladaire', '2021-06-02')\"].copy()\n",
    "new_column = {'loc_date':'sample_id', 'water_name_slug':'feature_name', 'water':'feature_type', 'river_bassin':'parent_boundary', 'pcs_m':'pcs/m'}\n",
    "missing.rename(columns=new_column, inplace=True)\n",
    "missing['project'] = 'IQAASL'\n",
    "missing.loc[missing.location == 'maladaire', yu] = t.values[0]\n",
    "p_plastock = pd.concat([hl1, missing])\n",
    "\n",
    "work_data = p_plastock.drop_duplicates([\"sample_id\", \"code\"])\n",
    "work_data.loc[work_data.location == 'preverenges', 'region'] = 'Grand lac'\n",
    "work_data.loc[work_data.location == 'vidy', 'region'] = 'Grand lac'\n",
    "work_data.loc[work_data.location == 'tolochenaz', 'region'] = 'Grand lac'\n",
    "work_data.loc[work_data.location == 'maladaire', 'region'] = 'Haut lac'\n",
    "work_data.loc[work_data.location == 'versoix', 'region'] = 'Petit lac'\n",
    "\n",
    "work_data.to_csv('resources/data/checks/hist_leman.csv', index=False)\n",
    "# work_data['date'] = pd.to_datetime(work_data['date'], format='%Y-%m-%d')\n",
    "# work_data = work_data[work_data.code == \"G70\"].copy()"
   ]
  },
  {
   "cell_type": "code",
   "execution_count": 8,
   "id": "dd4458b0-f455-4d62-92cd-e27a6cf12b0c",
   "metadata": {},
   "outputs": [],
   "source": [
    "shotgun = work_data[work_data.code == 'G70'].copy()\n",
    "\n",
    "mask1 = (shotgun['date'] < '2016-11-15')\n",
    "mask2 = (shotgun['date'] >= '2017-04-01') & (shotgun['date'] <= '2020-03-31')\n",
    "mask3 = (shotgun['date'] >= '2020-04-01') & (shotgun['date'] <= '2021-05-31')"
   ]
  },
  {
   "cell_type": "code",
   "execution_count": 9,
   "id": "19811286-a6de-450f-9bd6-74dc44f4fc2b",
   "metadata": {},
   "outputs": [],
   "source": [
    "ps = pd.read_csv('resources/data/macro_data_linearm.csv')\n",
    "ps = ps[ps.code == 'G70'].copy()"
   ]
  },
  {
   "cell_type": "code",
   "execution_count": 10,
   "id": "06082a62-0918-466e-9e54-2829843825b7",
   "metadata": {},
   "outputs": [
    {
     "data": {
      "text/plain": [
       "array(['anthy', 'aubonne', 'baby-plage', 'crans', 'cully', 'excenevex',\n",
       "       'gland', 'grangettes', 'hermance', 'lugrin', 'lutry', 'meillerie',\n",
       "       'pichette', 'port-choiseul', 'preverenges', 'rolle', 'savonniere',\n",
       "       'tolochenaz', 'tougues', 'versoix', 'amphion', 'bouveret',\n",
       "       'clarens', 'saint-disdille', 'vidy'], dtype=object)"
      ]
     },
     "execution_count": 10,
     "metadata": {},
     "output_type": "execute_result"
    }
   ],
   "source": [
    "ps.slug.unique()"
   ]
  },
  {
   "cell_type": "markdown",
   "id": "39f7bb8a-8472-46b6-a820-7986da6ae8d0",
   "metadata": {
    "editable": true,
    "pycharm": {
     "name": "#%% md\n"
    },
    "slideshow": {
     "slide_type": ""
    },
    "tags": []
   },
   "source": [
    "# Plastic shotgun shell wadding\n",
    "\n",
    "__A summary of observations on Lac Léman__\n",
    "\n",
    "Plastic wadding is commonly used in modern shotgun shells due to its durability and consistency in performance. It helps to cushion the shot or slug as it moves down the barrel, ensuring it stays centered and providing a proper seal to maximize the energy transfer upon firing.\n",
    "\n",
    "Plastic wadding can come in various forms, such as wads or cups, and they can have different designs depending on the specific requirements of the shotgun shell and the desired performance characteristics.\n",
    "\n",
    "When plastic wadding is left behind after shooting activities or improperly disposed of, it can find its way into water bodies and eventually wash up on beaches. Once there, it can pose risks to wildlife through ingestion or entanglement.\n",
    "\n",
    "\n",
    "## Sampling campaigns 2015 - 2022\n",
    "\n",
    "Plastic shotgun wadding has been identified in every major sampling campaign in the Léman region since monitoring of plastics began.\n",
    "\n",
    "1. Montreux Clean Beach Project (MCBP): November 2015 - November 2016. Sampling campaign  by local organization\n",
    "2. Swiss Litter Report (SLR): April 2017 - May 2018. Sampling campaign by the WWF Switzerland.\n",
    "3. Identification Qauntitification of Anthropogenc Litter Switzerlnd (IQAASL): April 2020 - May 2021. Sampling campaign mandated by the Swiss confederation. \n",
    "4. Pla'stock: January 2022 - December 2022. Sampling campaign by Association pour la Sauvegard du Léman.\n",
    "\n",
    "### Essential statistics: 2015 - 2021"
   ]
  },
  {
   "cell_type": "code",
   "execution_count": 11,
   "id": "7ba17fa4-5f78-4523-8c8c-927fb0cea58c",
   "metadata": {
    "editable": true,
    "pycharm": {
     "name": "#%%\n"
    },
    "slideshow": {
     "slide_type": ""
    },
    "tags": [
     "remove-input"
    ]
   },
   "outputs": [
    {
     "data": {
      "text/markdown": [
       "\n",
       "\n",
       "From 2015-11-23 to 2021-11-14 a total of 949 plastic waddings (PW) were found in 250 separate samples. The samples were from 38 different locations,\n",
       "representing 15 different municipalities and three cantons. PW were indentified in 54% of samples. The average number found per sample was 3, \n",
       "the median found was 1.0. Which means that for any given visit to the shoreline on Lake Geneva we found at leat 1 PW 50% of the time and it\n",
       "was not uncommon to find more.\n",
       "\n",
       "On a per meter basis (pcs/m) we found 1 PW for every ten meters or 10 for 100. The median rate was 2 for every 100 meters. Values in excess of\n",
       "50 PW per 100 meters were encountered less than 5% of the time.\n"
      ],
      "text/plain": [
       "<IPython.core.display.Markdown object>"
      ]
     },
     "execution_count": 11,
     "metadata": {},
     "output_type": "execute_result"
    }
   ],
   "source": [
    "quantiles = [0.05, 0.25, 0.5, 0.75, 0.95]\n",
    "\n",
    "start_date, end_date = shotgun[\"date\"].min(), shotgun['date'].max()\n",
    "nsamples = len(shotgun)\n",
    "ncities = shotgun.city.nunique()\n",
    "nlocations = shotgun.location.nunique()\n",
    "\n",
    "qty = shotgun.quantity.sum()\n",
    "fail_rate = np.mean(shotgun.quantity > 0)\n",
    "found_qtle = np.quantile(shotgun.quantity.values, quantiles)\n",
    "density_qtle = np.quantile(shotgun['pcs/m'].values, quantiles)\n",
    "dqtle = {quantiles[i]: int(x * 100) for i, x in enumerate(density_qtle)}\n",
    "found_median, found_mean = shotgun.quantity.median(), shotgun.quantity.mean()\n",
    "\n",
    "median_density, average_density = shotgun['pcs/m'].median(), shotgun['pcs/m'].mean()\n",
    "\n",
    "summary_2015_2021 = f\"\"\"\n",
    "\n",
    "From {start_date} to {end_date} a total of {qty} plastic waddings (PW) were found in {nsamples} separate samples. The samples were from {nlocations} different locations,\n",
    "representing {ncities} different municipalities and three cantons. PW were indentified in {int(fail_rate * 100)}% of samples. The average number found per sample was {int(found_mean)}, \n",
    "the median found was {found_median}. Which means that for any given visit to the shoreline on Lake Geneva we found at leat 1 PW 50% of the time and it\n",
    "was not uncommon to find more.\n",
    "\n",
    "On a per meter basis (pcs/m) we found 1 PW for every ten meters or 10 for 100. The median rate was 2 for every 100 meters. Values in excess of\n",
    "50 PW per 100 meters were encountered less than 5% of the time.\n",
    "\"\"\"\n",
    "\n",
    "Markdown(summary_2015_2021)"
   ]
  },
  {
   "cell_type": "markdown",
   "id": "862149e3-8faa-4674-a36e-7baa78351d4d",
   "metadata": {},
   "source": [
    "### Essential statistics: 2022\n",
    "\n",
    "In 2022, contrary to the previous sampling campaigns, the french side of the lake was also sampled according to same protocol as the previous years."
   ]
  },
  {
   "cell_type": "code",
   "execution_count": 12,
   "id": "74bb25dd-1bbb-41d1-9b83-88e844e79691",
   "metadata": {},
   "outputs": [
    {
     "data": {
      "text/markdown": [
       "\n",
       "\n",
       "From 2022-01-10 to 2022-12-17 a total of 199 plastic waddings (PW) were found in 98 separate samples. The samples were from 25 different locations,\n",
       "representing 24 different municipalities and three cantons (Switzerland) and one department (France). PW were indentified in 38% of samples. The average number found per sample was 2, \n",
       "the median found was 0.0. Which means that we found a PW in 4/10 samples or we had a 40% chance of finding at least one for each visit to the shoreline. Values in excess of 9 PW for 100 meters of\n",
       "shoreline were encountered less than 5% of the time. Both of these results are lower than the period 2015 - 2021.\n",
       "\n"
      ],
      "text/plain": [
       "<IPython.core.display.Markdown object>"
      ]
     },
     "execution_count": 12,
     "metadata": {},
     "output_type": "execute_result"
    }
   ],
   "source": [
    "quantiles = [0.05, 0.25, 0.5, 0.75, 0.95]\n",
    "\n",
    "start_date, end_date = ps[\"date\"].min(), ps['date'].max()\n",
    "nsamples = len(ps)\n",
    "# ncities = ps.city.nunique()\n",
    "nlocations = ps.slug.nunique()\n",
    "\n",
    "qty = ps['quantité'].sum()\n",
    "fail_rate = np.mean(ps['quantité'] > 0)\n",
    "found_qtle = np.quantile(ps['quantité'].values, quantiles)\n",
    "density_qtle = np.quantile(ps['pcs/m'].values, quantiles)\n",
    "dqtle = {quantiles[i]: int(x * 100) for i, x in enumerate(density_qtle)}\n",
    "found_median, found_mean = ps['quantité'].median(), ps['quantité'].mean()\n",
    "\n",
    "median_density, average_density = ps['pcs/m'].median(), ps['pcs/m'].mean()\n",
    "\n",
    "\n",
    "summary_2022 = f\"\"\"\n",
    "\n",
    "From {start_date} to {end_date} a total of {qty} plastic waddings (PW) were found in {nsamples} separate samples. The samples were from {nlocations} different locations,\n",
    "representing {nlocations -1} different municipalities and three cantons (Switzerland) and one department (France). PW were indentified in {int(fail_rate * 100)}% of samples. The average number found per sample was {int(found_mean)}, \n",
    "the median found was {found_median}. Which means that we found a PW in 4/10 samples or we had a 40% chance of finding at least one for each visit to the shoreline. Values in excess of 9 PW for 100 meters of\n",
    "shoreline were encountered less than 5% of the time. Both of these results are lower than the period 2015 - 2021.\n",
    "\n",
    "\"\"\"\n",
    "\n",
    "Markdown(summary_2022)"
   ]
  },
  {
   "cell_type": "code",
   "execution_count": 13,
   "id": "530dc284-919d-47b4-a2f1-f4fe75ab1f13",
   "metadata": {},
   "outputs": [
    {
     "ename": "DriverError",
     "evalue": "data/ignorethis/shapes/kantons.shp: No such file or directory",
     "output_type": "error",
     "traceback": [
      "\u001b[0;31m---------------------------------------------------------------------------\u001b[0m",
      "\u001b[0;31mCPLE_OpenFailedError\u001b[0m                      Traceback (most recent call last)",
      "File \u001b[0;32mfiona/ogrext.pyx:136\u001b[0m, in \u001b[0;36mfiona.ogrext.gdal_open_vector\u001b[0;34m()\u001b[0m\n",
      "File \u001b[0;32mfiona/_err.pyx:291\u001b[0m, in \u001b[0;36mfiona._err.exc_wrap_pointer\u001b[0;34m()\u001b[0m\n",
      "\u001b[0;31mCPLE_OpenFailedError\u001b[0m: data/ignorethis/shapes/kantons.shp: No such file or directory",
      "\nDuring handling of the above exception, another exception occurred:\n",
      "\u001b[0;31mDriverError\u001b[0m                               Traceback (most recent call last)",
      "Cell \u001b[0;32mIn[13], line 3\u001b[0m\n\u001b[1;32m      1\u001b[0m \u001b[38;5;66;03m# Create a GeoDataFrame from the list of locations\u001b[39;00m\n\u001b[1;32m      2\u001b[0m cantons \u001b[38;5;241m=\u001b[39m [\u001b[38;5;124m'\u001b[39m\u001b[38;5;124mVaud\u001b[39m\u001b[38;5;124m'\u001b[39m, \u001b[38;5;124m'\u001b[39m\u001b[38;5;124mValais\u001b[39m\u001b[38;5;124m'\u001b[39m, \u001b[38;5;124m'\u001b[39m\u001b[38;5;124mGenève\u001b[39m\u001b[38;5;124m'\u001b[39m]\n\u001b[0;32m----> 3\u001b[0m dbc \u001b[38;5;241m=\u001b[39m \u001b[43mgpd\u001b[49m\u001b[38;5;241;43m.\u001b[39;49m\u001b[43mread_file\u001b[49m\u001b[43m(\u001b[49m\u001b[38;5;124;43m'\u001b[39;49m\u001b[38;5;124;43mdata/ignorethis/shapes/kantons.shp\u001b[39;49m\u001b[38;5;124;43m'\u001b[39;49m\u001b[43m)\u001b[49m\n\u001b[1;32m      4\u001b[0m dbc \u001b[38;5;241m=\u001b[39m dbc\u001b[38;5;241m.\u001b[39mto_crs(epsg\u001b[38;5;241m=\u001b[39m\u001b[38;5;241m4326\u001b[39m)\n\u001b[1;32m      5\u001b[0m dbc \u001b[38;5;241m=\u001b[39m dbc[dbc\u001b[38;5;241m.\u001b[39mNAME\u001b[38;5;241m.\u001b[39misin(cantons)]\u001b[38;5;241m.\u001b[39mcopy()\n",
      "File \u001b[0;32m~/anaconda3/envs/cantonal_report/lib/python3.9/site-packages/geopandas/io/file.py:289\u001b[0m, in \u001b[0;36m_read_file\u001b[0;34m(filename, bbox, mask, rows, engine, **kwargs)\u001b[0m\n\u001b[1;32m    286\u001b[0m     \u001b[38;5;28;01melse\u001b[39;00m:\n\u001b[1;32m    287\u001b[0m         path_or_bytes \u001b[38;5;241m=\u001b[39m filename\n\u001b[0;32m--> 289\u001b[0m     \u001b[38;5;28;01mreturn\u001b[39;00m \u001b[43m_read_file_fiona\u001b[49m\u001b[43m(\u001b[49m\n\u001b[1;32m    290\u001b[0m \u001b[43m        \u001b[49m\u001b[43mpath_or_bytes\u001b[49m\u001b[43m,\u001b[49m\u001b[43m \u001b[49m\u001b[43mfrom_bytes\u001b[49m\u001b[43m,\u001b[49m\u001b[43m \u001b[49m\u001b[43mbbox\u001b[49m\u001b[38;5;241;43m=\u001b[39;49m\u001b[43mbbox\u001b[49m\u001b[43m,\u001b[49m\u001b[43m \u001b[49m\u001b[43mmask\u001b[49m\u001b[38;5;241;43m=\u001b[39;49m\u001b[43mmask\u001b[49m\u001b[43m,\u001b[49m\u001b[43m \u001b[49m\u001b[43mrows\u001b[49m\u001b[38;5;241;43m=\u001b[39;49m\u001b[43mrows\u001b[49m\u001b[43m,\u001b[49m\u001b[43m \u001b[49m\u001b[38;5;241;43m*\u001b[39;49m\u001b[38;5;241;43m*\u001b[39;49m\u001b[43mkwargs\u001b[49m\n\u001b[1;32m    291\u001b[0m \u001b[43m    \u001b[49m\u001b[43m)\u001b[49m\n\u001b[1;32m    293\u001b[0m \u001b[38;5;28;01melse\u001b[39;00m:\n\u001b[1;32m    294\u001b[0m     \u001b[38;5;28;01mraise\u001b[39;00m \u001b[38;5;167;01mValueError\u001b[39;00m(\u001b[38;5;124mf\u001b[39m\u001b[38;5;124m\"\u001b[39m\u001b[38;5;124munknown engine \u001b[39m\u001b[38;5;124m'\u001b[39m\u001b[38;5;132;01m{\u001b[39;00mengine\u001b[38;5;132;01m}\u001b[39;00m\u001b[38;5;124m'\u001b[39m\u001b[38;5;124m\"\u001b[39m)\n",
      "File \u001b[0;32m~/anaconda3/envs/cantonal_report/lib/python3.9/site-packages/geopandas/io/file.py:315\u001b[0m, in \u001b[0;36m_read_file_fiona\u001b[0;34m(path_or_bytes, from_bytes, bbox, mask, rows, where, **kwargs)\u001b[0m\n\u001b[1;32m    312\u001b[0m     reader \u001b[38;5;241m=\u001b[39m fiona\u001b[38;5;241m.\u001b[39mopen\n\u001b[1;32m    314\u001b[0m \u001b[38;5;28;01mwith\u001b[39;00m fiona_env():\n\u001b[0;32m--> 315\u001b[0m     \u001b[38;5;28;01mwith\u001b[39;00m \u001b[43mreader\u001b[49m\u001b[43m(\u001b[49m\u001b[43mpath_or_bytes\u001b[49m\u001b[43m,\u001b[49m\u001b[43m \u001b[49m\u001b[38;5;241;43m*\u001b[39;49m\u001b[38;5;241;43m*\u001b[39;49m\u001b[43mkwargs\u001b[49m\u001b[43m)\u001b[49m \u001b[38;5;28;01mas\u001b[39;00m features:\n\u001b[1;32m    316\u001b[0m         crs \u001b[38;5;241m=\u001b[39m features\u001b[38;5;241m.\u001b[39mcrs_wkt\n\u001b[1;32m    317\u001b[0m         \u001b[38;5;66;03m# attempt to get EPSG code\u001b[39;00m\n",
      "File \u001b[0;32m~/anaconda3/envs/cantonal_report/lib/python3.9/site-packages/fiona/env.py:457\u001b[0m, in \u001b[0;36mensure_env_with_credentials.<locals>.wrapper\u001b[0;34m(*args, **kwds)\u001b[0m\n\u001b[1;32m    454\u001b[0m     session \u001b[38;5;241m=\u001b[39m DummySession()\n\u001b[1;32m    456\u001b[0m \u001b[38;5;28;01mwith\u001b[39;00m env_ctor(session\u001b[38;5;241m=\u001b[39msession):\n\u001b[0;32m--> 457\u001b[0m     \u001b[38;5;28;01mreturn\u001b[39;00m \u001b[43mf\u001b[49m\u001b[43m(\u001b[49m\u001b[38;5;241;43m*\u001b[39;49m\u001b[43margs\u001b[49m\u001b[43m,\u001b[49m\u001b[43m \u001b[49m\u001b[38;5;241;43m*\u001b[39;49m\u001b[38;5;241;43m*\u001b[39;49m\u001b[43mkwds\u001b[49m\u001b[43m)\u001b[49m\n",
      "File \u001b[0;32m~/anaconda3/envs/cantonal_report/lib/python3.9/site-packages/fiona/__init__.py:292\u001b[0m, in \u001b[0;36mopen\u001b[0;34m(fp, mode, driver, schema, crs, encoding, layer, vfs, enabled_drivers, crs_wkt, allow_unsupported_drivers, **kwargs)\u001b[0m\n\u001b[1;32m    289\u001b[0m     path \u001b[38;5;241m=\u001b[39m parse_path(fp)\n\u001b[1;32m    291\u001b[0m \u001b[38;5;28;01mif\u001b[39;00m mode \u001b[38;5;129;01min\u001b[39;00m (\u001b[38;5;124m\"\u001b[39m\u001b[38;5;124ma\u001b[39m\u001b[38;5;124m\"\u001b[39m, \u001b[38;5;124m\"\u001b[39m\u001b[38;5;124mr\u001b[39m\u001b[38;5;124m\"\u001b[39m):\n\u001b[0;32m--> 292\u001b[0m     colxn \u001b[38;5;241m=\u001b[39m \u001b[43mCollection\u001b[49m\u001b[43m(\u001b[49m\n\u001b[1;32m    293\u001b[0m \u001b[43m        \u001b[49m\u001b[43mpath\u001b[49m\u001b[43m,\u001b[49m\n\u001b[1;32m    294\u001b[0m \u001b[43m        \u001b[49m\u001b[43mmode\u001b[49m\u001b[43m,\u001b[49m\n\u001b[1;32m    295\u001b[0m \u001b[43m        \u001b[49m\u001b[43mdriver\u001b[49m\u001b[38;5;241;43m=\u001b[39;49m\u001b[43mdriver\u001b[49m\u001b[43m,\u001b[49m\n\u001b[1;32m    296\u001b[0m \u001b[43m        \u001b[49m\u001b[43mencoding\u001b[49m\u001b[38;5;241;43m=\u001b[39;49m\u001b[43mencoding\u001b[49m\u001b[43m,\u001b[49m\n\u001b[1;32m    297\u001b[0m \u001b[43m        \u001b[49m\u001b[43mlayer\u001b[49m\u001b[38;5;241;43m=\u001b[39;49m\u001b[43mlayer\u001b[49m\u001b[43m,\u001b[49m\n\u001b[1;32m    298\u001b[0m \u001b[43m        \u001b[49m\u001b[43menabled_drivers\u001b[49m\u001b[38;5;241;43m=\u001b[39;49m\u001b[43menabled_drivers\u001b[49m\u001b[43m,\u001b[49m\n\u001b[1;32m    299\u001b[0m \u001b[43m        \u001b[49m\u001b[43mallow_unsupported_drivers\u001b[49m\u001b[38;5;241;43m=\u001b[39;49m\u001b[43mallow_unsupported_drivers\u001b[49m\u001b[43m,\u001b[49m\n\u001b[1;32m    300\u001b[0m \u001b[43m        \u001b[49m\u001b[38;5;241;43m*\u001b[39;49m\u001b[38;5;241;43m*\u001b[39;49m\u001b[43mkwargs\u001b[49m\n\u001b[1;32m    301\u001b[0m \u001b[43m    \u001b[49m\u001b[43m)\u001b[49m\n\u001b[1;32m    302\u001b[0m \u001b[38;5;28;01melif\u001b[39;00m mode \u001b[38;5;241m==\u001b[39m \u001b[38;5;124m\"\u001b[39m\u001b[38;5;124mw\u001b[39m\u001b[38;5;124m\"\u001b[39m:\n\u001b[1;32m    303\u001b[0m     colxn \u001b[38;5;241m=\u001b[39m Collection(\n\u001b[1;32m    304\u001b[0m         path,\n\u001b[1;32m    305\u001b[0m         mode,\n\u001b[0;32m   (...)\u001b[0m\n\u001b[1;32m    314\u001b[0m         \u001b[38;5;241m*\u001b[39m\u001b[38;5;241m*\u001b[39mkwargs\n\u001b[1;32m    315\u001b[0m     )\n",
      "File \u001b[0;32m~/anaconda3/envs/cantonal_report/lib/python3.9/site-packages/fiona/collection.py:243\u001b[0m, in \u001b[0;36mCollection.__init__\u001b[0;34m(self, path, mode, driver, schema, crs, encoding, layer, vsi, archive, enabled_drivers, crs_wkt, ignore_fields, ignore_geometry, include_fields, wkt_version, allow_unsupported_drivers, **kwargs)\u001b[0m\n\u001b[1;32m    241\u001b[0m \u001b[38;5;28;01mif\u001b[39;00m \u001b[38;5;28mself\u001b[39m\u001b[38;5;241m.\u001b[39mmode \u001b[38;5;241m==\u001b[39m \u001b[38;5;124m\"\u001b[39m\u001b[38;5;124mr\u001b[39m\u001b[38;5;124m\"\u001b[39m:\n\u001b[1;32m    242\u001b[0m     \u001b[38;5;28mself\u001b[39m\u001b[38;5;241m.\u001b[39msession \u001b[38;5;241m=\u001b[39m Session()\n\u001b[0;32m--> 243\u001b[0m     \u001b[38;5;28;43mself\u001b[39;49m\u001b[38;5;241;43m.\u001b[39;49m\u001b[43msession\u001b[49m\u001b[38;5;241;43m.\u001b[39;49m\u001b[43mstart\u001b[49m\u001b[43m(\u001b[49m\u001b[38;5;28;43mself\u001b[39;49m\u001b[43m,\u001b[49m\u001b[43m \u001b[49m\u001b[38;5;241;43m*\u001b[39;49m\u001b[38;5;241;43m*\u001b[39;49m\u001b[43mkwargs\u001b[49m\u001b[43m)\u001b[49m\n\u001b[1;32m    244\u001b[0m \u001b[38;5;28;01melif\u001b[39;00m \u001b[38;5;28mself\u001b[39m\u001b[38;5;241m.\u001b[39mmode \u001b[38;5;129;01min\u001b[39;00m (\u001b[38;5;124m\"\u001b[39m\u001b[38;5;124ma\u001b[39m\u001b[38;5;124m\"\u001b[39m, \u001b[38;5;124m\"\u001b[39m\u001b[38;5;124mw\u001b[39m\u001b[38;5;124m\"\u001b[39m):\n\u001b[1;32m    245\u001b[0m     \u001b[38;5;28mself\u001b[39m\u001b[38;5;241m.\u001b[39msession \u001b[38;5;241m=\u001b[39m WritingSession()\n",
      "File \u001b[0;32mfiona/ogrext.pyx:588\u001b[0m, in \u001b[0;36mfiona.ogrext.Session.start\u001b[0;34m()\u001b[0m\n",
      "File \u001b[0;32mfiona/ogrext.pyx:143\u001b[0m, in \u001b[0;36mfiona.ogrext.gdal_open_vector\u001b[0;34m()\u001b[0m\n",
      "\u001b[0;31mDriverError\u001b[0m: data/ignorethis/shapes/kantons.shp: No such file or directory"
     ]
    }
   ],
   "source": [
    "# Create a GeoDataFrame from the list of locations\n",
    "cantons = ['Vaud', 'Valais', 'Genève']\n",
    "dbc = gpd.read_file('data/ignorethis/shapes/kantons.shp')\n",
    "dbc = dbc.to_crs(epsg=4326)\n",
    "dbc = dbc[dbc.NAME.isin(cantons)].copy()\n",
    "dbckey = dbc[['NAME', 'KANTONSNUM']].set_index('NAME')\n",
    "dbckey = dbckey.drop_duplicates()\n",
    "thiscanton = dbckey.loc[cantons, 'KANTONSNUM']\n",
    "db = gpd.read_file('data/ignorethis/shapes/municipalities.shp')\n",
    "db = db.to_crs(epsg=4326)\n",
    "thesecities = db[db.KANTONSNUM.isin(thiscanton.values)]\n",
    "surveyedcities = all_data_of_interest.city.unique()\n",
    "\n",
    "bounds = dbc.total_bounds\n",
    "minx, miny, maxx, maxy = 6.0, 46.1, 7.0, 46.8\n",
    "\n",
    "\n",
    "rivers = gpd.read_file('data/ignorethis/shapes/rivers.shp')\n",
    "rivers = rivers.to_crs(epsg=4326)\n",
    "# Filter the background layer to cover the bounding box\n",
    "rivers_within_bounds = rivers.clip(dbc, keep_geom_type=True) # cx[minx:maxx, miny:maxy]\n",
    "\n",
    "\n",
    "lakes = gpd.read_file('data/ignorethis/shapes/lakes.shp')\n",
    "lakes = lakes.to_crs(epsg=4326)\n",
    "lakes_within_bounds = lakes.clip(dbc, keep_geom_type=True) # [minx:maxx, miny:maxy]\n",
    "\n",
    "# Define the plot\n",
    "fig, ax = plt.subplots(figsize=(12,10))\n",
    "ax.set_xlim(6.1, 7.1)\n",
    "ax.set_ylim(46.1, 46.7)\n",
    "\n",
    "citymap = thesecities.plot(ax=ax, edgecolor='black', facecolor='None', linewidth=.1)\n",
    "\n",
    "surveyed = thesecities[thesecities.NAME.isin(surveyedcities)].plot(ax=ax, color='salmon', alpha=0.6)\n",
    "\n",
    "dbc.plot(ax=ax, edgecolor='black', facecolor='None', linewidth=.4)\n",
    "rivers_within_bounds.plot(ax=ax, edgecolor='dodgerblue', alpha=.4)\n",
    "lakes_within_bounds.plot(ax=ax, edgecolor='dodgerblue', color='dodgerblue', linewidth=.2, alpha=.4)\n",
    "\n",
    "# lakes = lake_report.sample_results()\n",
    "# prior_samples = lake_prior_report.sample_results()\n",
    "\n",
    "# lakes_locations,  map_boundsa = map_markers(lakes, lat_lon)\n",
    "# lakes_locations.plot(ax=ax, color= session_config.palette['likelihood'], markersize=80, zorder=5)\n",
    "\n",
    "# prior_locations,  map_boundsb = map_markers(prior_samples, lat_lon)\n",
    "# prior_locations.plot(ax=ax, color= session_config.palette['prior'], marker='x', markersize=80, zorder=5)\n",
    "\n",
    "ax.set_title(f'Survey locations {report_name}')\n",
    "plt.xlabel('')\n",
    "plt.ylabel('')\n",
    "\n",
    "plt.axis('off')\n",
    "\n",
    "\n",
    "\n",
    "legend_elements = [\n",
    "    Line2D([0], [0], marker='o', label='After 2020', markersize=10, markeredgecolor='w', markerfacecolor= session_config.palette['likelihood']),\n",
    "    Line2D([0], [0], marker='x', label='Before 2020', markersize=10, markeredgecolor= session_config.palette['prior'])\n",
    "]\n",
    "\n",
    "plt.legend(handles=legend_elements, loc='upper right')\n",
    "\n",
    "glue('map-of-survey-locations', fig, display=True)\n",
    "plt.close()"
   ]
  },
  {
   "cell_type": "code",
   "execution_count": 9,
   "id": "464aeb00-74e9-4e67-93be-8e3e8d17e18c",
   "metadata": {
    "editable": true,
    "pycharm": {
     "name": "#%%\n"
    },
    "slideshow": {
     "slide_type": ""
    },
    "tags": [
     "remove-input"
    ]
   },
   "outputs": [
    {
     "data": {
      "image/png": "[encoded data removed]",
      "text/plain": [
       "<Figure size 640x480 with 1 Axes>"
      ]
     },
     "metadata": {
      "scrapbook": {
       "mime_prefix": "",
       "name": "region_scatter"
      }
     },
     "output_type": "display_data"
    },
    {
     "data": {
      "image/png": "[encoded data removed]",
      "text/plain": [
       "<Figure size 640x480 with 1 Axes>"
      ]
     },
     "metadata": {
      "scrapbook": {
       "mime_prefix": "",
       "name": "region_ecdf"
      }
     },
     "output_type": "display_data"
    }
   ],
   "source": [
    "work_data['date'] = pd.to_datetime(work_data['date'], format='%Y-%m-%d')\n",
    "fig, ax = plt.subplots()\n",
    "sns.scatterplot(data=work_data, x='date', y='pcs/m', hue='region')\n",
    "ax.xaxis.set_minor_locator(mdates.MonthLocator(bymonth=(1, 7)))\n",
    "ax.xaxis.set_major_locator(mdates.YearLocator())\n",
    "plt.tight_layout()\n",
    "glue('region_scatter', fig, display=True)\n",
    "plt.close()\n",
    "\n",
    "fig, ax = plt.subplots()\n",
    "sns.ecdfplot(data=work_data, x=\"pcs/m\", hue='region')\n",
    "plt.tight_layout()\n",
    "glue('region_ecdf', fig, display=True)\n",
    "plt.close()"
   ]
  },
  {
   "cell_type": "markdown",
   "id": "47dd280d-c98d-42a6-81aa-27c776058300",
   "metadata": {
    "editable": true,
    "pycharm": {
     "name": "#%% md\n"
    },
    "slideshow": {
     "slide_type": ""
    },
    "tags": []
   },
   "source": [
    "### Characteristics and weight of sampling conditions\n",
    "\n",
    "We assume there is a relationship between how the land is used and what it is we find on the ground. Archeaologists and Anthropologists make this basic assumption every time they undertake an excavation and interpret the results in the context of other findings. This interpretation of beach litter data does exactly the same. As discussed in [Near or far](https://hammerdirt-analyst.github.io/landuse/titlepage.html) and the federal report [IQAASL](https://hammerdirt-analyst.github.io/IQAASL-End-0f-Sampling-2021/) : at the national level there is strong evidence to support a correlation between the density of objects found and specific topographic features that can be isolated on a standard topographical map.\n",
    "\n",
    "Here we consider the following features as a % of the dry-land surface area within 1 500 meters of the survey location:\n",
    "\n",
    "1. Buildings: the surface area attributed to constructed spaces\n",
    "2. Forest: the surface are attributed to woods and forest\n",
    "3. Orchards: the surface area attributed to orchards\n",
    "4. Public services: the surface area attributed to any area that is associated to public use, includes hospitals, sports fields, schools etc.\n",
    "5. Undefined: the surface area has no defined use\n",
    "6. Vineyards: the surface area attributed to growing grapes for wine making\n",
    "\n",
    "### Categories\n",
    "\n",
    "The magnitued of the land-use features are divided into categories: 1 - 5. Each category represents the relative magnitude of the land use conditions, as a % of the available dryland from a surface area that is equal to a circle with of radius 1'500 metres centered at the survey location: a buffer zone. The term dry-land refers to the available surface area of the buffer zone that is not covered with water.\n",
    "\n",
    "Consider the tables 1 and 2. The % of samples that were conducted in locations with the least amount of surface area dedicated to orchards is 91% (table 1), the average pieces per meter for locations with that attribute was 0.11 (table 2).\n",
    "\n",
    "\n",
    "\n",
    "For a detailed description of how these values are derived: [Extracting land-use values](https://hammerdirt-analyst.github.io/feb_2024/landuse_model_next_itteration.html)"
   ]
  },
  {
   "cell_type": "code",
   "execution_count": 7,
   "id": "aac665ba-b844-4001-922d-d45fada051f5",
   "metadata": {
    "editable": true,
    "pycharm": {
     "name": "#%%\n"
    },
    "slideshow": {
     "slide_type": ""
    },
    "tags": [
     "remove-input"
    ]
   },
   "outputs": [
    {
     "data": {
      "text/html": [
       "<style type=\"text/css\">\n",
       "#T_1bfa5 tr:nth-child(even) {\n",
       "  background-color: rgba(139, 69, 19, 0.08);\n",
       "}\n",
       "#T_1bfa5 tr:nth-child(odd) {\n",
       "  background: #FFF;\n",
       "}\n",
       "#T_1bfa5 tr {\n",
       "  font-size: 14px;\n",
       "}\n",
       "#T_1bfa5 th:nth-child(1) {\n",
       "  background-color: #FFF;\n",
       "  text-align: right;\n",
       "}\n",
       "#T_1bfa5 caption {\n",
       "  font-size: 14px;\n",
       "  font-style: italic;\n",
       "  caption-side: bottom;\n",
       "  text-align: left;\n",
       "  margin-top: 10px;\n",
       "}\n",
       "</style>\n",
       "<table id=\"T_1bfa5\">\n",
       "  <caption><b>Table 1:</b> Percent of samples collected with the designated land-use feature and category.</caption>\n",
       "  <thead>\n",
       "    <tr>\n",
       "      <th class=\"blank level0\" >&nbsp;</th>\n",
       "      <th id=\"T_1bfa5_level0_col0\" class=\"col_heading level0 col0\" >orchards</th>\n",
       "      <th id=\"T_1bfa5_level0_col1\" class=\"col_heading level0 col1\" >vineyards</th>\n",
       "      <th id=\"T_1bfa5_level0_col2\" class=\"col_heading level0 col2\" >buildings</th>\n",
       "      <th id=\"T_1bfa5_level0_col3\" class=\"col_heading level0 col3\" >forest</th>\n",
       "      <th id=\"T_1bfa5_level0_col4\" class=\"col_heading level0 col4\" >undefined</th>\n",
       "      <th id=\"T_1bfa5_level0_col5\" class=\"col_heading level0 col5\" >public_services</th>\n",
       "    </tr>\n",
       "  </thead>\n",
       "  <tbody>\n",
       "    <tr>\n",
       "      <th id=\"T_1bfa5_level0_row0\" class=\"row_heading level0 row0\" >1</th>\n",
       "      <td id=\"T_1bfa5_row0_col0\" class=\"data row0 col0\" >91%</td>\n",
       "      <td id=\"T_1bfa5_row0_col1\" class=\"data row0 col1\" >92%</td>\n",
       "      <td id=\"T_1bfa5_row0_col2\" class=\"data row0 col2\" >11%</td>\n",
       "      <td id=\"T_1bfa5_row0_col3\" class=\"data row0 col3\" >72%</td>\n",
       "      <td id=\"T_1bfa5_row0_col4\" class=\"data row0 col4\" >63%</td>\n",
       "      <td id=\"T_1bfa5_row0_col5\" class=\"data row0 col5\" >68%</td>\n",
       "    </tr>\n",
       "    <tr>\n",
       "      <th id=\"T_1bfa5_level0_row1\" class=\"row_heading level0 row1\" >2</th>\n",
       "      <td id=\"T_1bfa5_row1_col0\" class=\"data row1 col0\" >6%</td>\n",
       "      <td id=\"T_1bfa5_row1_col1\" class=\"data row1 col1\" >7%</td>\n",
       "      <td id=\"T_1bfa5_row1_col2\" class=\"data row1 col2\" >6%</td>\n",
       "      <td id=\"T_1bfa5_row1_col3\" class=\"data row1 col3\" >14%</td>\n",
       "      <td id=\"T_1bfa5_row1_col4\" class=\"data row1 col4\" >25%</td>\n",
       "      <td id=\"T_1bfa5_row1_col5\" class=\"data row1 col5\" >7%</td>\n",
       "    </tr>\n",
       "    <tr>\n",
       "      <th id=\"T_1bfa5_level0_row2\" class=\"row_heading level0 row2\" >3</th>\n",
       "      <td id=\"T_1bfa5_row2_col0\" class=\"data row2 col0\" >0%</td>\n",
       "      <td id=\"T_1bfa5_row2_col1\" class=\"data row2 col1\" >0%</td>\n",
       "      <td id=\"T_1bfa5_row2_col2\" class=\"data row2 col2\" >1%</td>\n",
       "      <td id=\"T_1bfa5_row2_col3\" class=\"data row2 col3\" >0%</td>\n",
       "      <td id=\"T_1bfa5_row2_col4\" class=\"data row2 col4\" >1%</td>\n",
       "      <td id=\"T_1bfa5_row2_col5\" class=\"data row2 col5\" >7%</td>\n",
       "    </tr>\n",
       "    <tr>\n",
       "      <th id=\"T_1bfa5_level0_row3\" class=\"row_heading level0 row3\" >4</th>\n",
       "      <td id=\"T_1bfa5_row3_col0\" class=\"data row3 col0\" >1%</td>\n",
       "      <td id=\"T_1bfa5_row3_col1\" class=\"data row3 col1\" >0%</td>\n",
       "      <td id=\"T_1bfa5_row3_col2\" class=\"data row3 col2\" >20%</td>\n",
       "      <td id=\"T_1bfa5_row3_col3\" class=\"data row3 col3\" >9%</td>\n",
       "      <td id=\"T_1bfa5_row3_col4\" class=\"data row3 col4\" >2%</td>\n",
       "      <td id=\"T_1bfa5_row3_col5\" class=\"data row3 col5\" >8%</td>\n",
       "    </tr>\n",
       "    <tr>\n",
       "      <th id=\"T_1bfa5_level0_row4\" class=\"row_heading level0 row4\" >5</th>\n",
       "      <td id=\"T_1bfa5_row4_col0\" class=\"data row4 col0\" >1%</td>\n",
       "      <td id=\"T_1bfa5_row4_col1\" class=\"data row4 col1\" >1%</td>\n",
       "      <td id=\"T_1bfa5_row4_col2\" class=\"data row4 col2\" >62%</td>\n",
       "      <td id=\"T_1bfa5_row4_col3\" class=\"data row4 col3\" >5%</td>\n",
       "      <td id=\"T_1bfa5_row4_col4\" class=\"data row4 col4\" >9%</td>\n",
       "      <td id=\"T_1bfa5_row4_col5\" class=\"data row4 col5\" >10%</td>\n",
       "    </tr>\n",
       "  </tbody>\n",
       "</table>\n"
      ],
      "text/plain": [
       "<pandas.io.formats.style.Styler at 0x7c154edb0160>"
      ]
     },
     "metadata": {
      "scrapbook": {
       "mime_prefix": "",
       "name": "percent_samps_feature"
      }
     },
     "output_type": "display_data"
    }
   ],
   "source": [
    "normalized_columns = ['orchards', 'vineyards', 'buildings', 'forest', 'undefined', 'public_services']\n",
    "ranked_cols = [f'{x}_rank' for x in normalized_columns]\n",
    "agg = ['mean', 'count']\n",
    "cols = {'mean': 'average_pcs/m', 'count': 'number_of_samples'}\n",
    "val = 'pcs/m'\n",
    "\n",
    "work_data = work_data.copy()\n",
    "# divide into 5 bins from 0 to 1\n",
    "for col in normalized_columns:\n",
    "    work_data[col + '_rank'] = pd.cut(work_data[col], bins=5, labels=range(1, 6))\n",
    "\n",
    "#average pcs/m and number of samples per category of buildings\n",
    "buildings = work_data.groupby('buildings_rank', observed=True)[val].agg(agg).reset_index().rename(columns=cols)\n",
    "bdng = buildings.set_index('buildings_rank', drop=True).style.set_table_styles(table_css_styles).format(precision=2)\n",
    "\n",
    "forests = work_data.groupby('forest_rank', observed=True)[val].agg(agg).reset_index().rename(columns=cols)\n",
    "frst = forests.set_index('forest_rank', drop=True).fillna('-').style.set_table_styles(table_css_styles).format(precision=2)\n",
    "\n",
    "undefined = work_data.groupby('undefined_rank', observed=True)[val].agg(agg).reset_index().rename(columns=cols)\n",
    "undf = undefined.set_index('undefined_rank', drop=True).fillna('-').style.set_table_styles(table_css_styles).format(precision=2)\n",
    "\n",
    "orchards = work_data.groupby('orchards_rank', observed=True)[val].agg(agg).reset_index().rename(columns=cols)\n",
    "orch = orchards.set_index('orchards_rank', drop=True).fillna('-').style.set_table_styles(table_css_styles).format(precision=2)\n",
    "\n",
    "public_services = work_data.groupby('public_services_rank', observed=True)[val].agg(agg).reset_index().rename(columns=cols)\n",
    "pubs = public_services.set_index('public_services_rank', drop=True).fillna('-').style.set_table_styles(table_css_styles).format(precision=2)\n",
    "\n",
    "vineyards = work_data.groupby('vineyards_rank', observed=True)[val].agg(agg).reset_index().rename(columns=cols)\n",
    "vines = vineyards.set_index('vineyards_rank', drop=True).fillna('-').style.set_table_styles(table_css_styles).format(precision=2)\n",
    "\n",
    "ps = {}\n",
    "for feature in ranked_cols:\n",
    "    ps[feature] = work_data[feature].value_counts(normalize=True)\n",
    "\n",
    "samples_feature = pd.DataFrame(ps)\n",
    "samples_feature.columns = normalized_columns\n",
    "\n",
    "caption = \"<b>Table 1:</b> Percent of samples collected with the designated land-use feature and category.\"\n",
    "sd = samples_feature.style.set_table_styles(table_css_styles).format('{:.0%}').set_caption(caption)\n",
    "glue('percent_samps_feature', sd, display=True)"
   ]
  },
  {
   "cell_type": "code",
   "execution_count": 8,
   "id": "fa6d5b94-cf1c-496d-ac69-742991b13544",
   "metadata": {
    "editable": true,
    "pycharm": {
     "name": "#%%\n"
    },
    "slideshow": {
     "slide_type": ""
    },
    "tags": [
     "remove-input"
    ]
   },
   "outputs": [
    {
     "data": {
      "text/html": [
       "<style type=\"text/css\">\n",
       "#T_855e4 tr:nth-child(even) {\n",
       "  background-color: rgba(139, 69, 19, 0.08);\n",
       "}\n",
       "#T_855e4 tr:nth-child(odd) {\n",
       "  background: #FFF;\n",
       "}\n",
       "#T_855e4 tr {\n",
       "  font-size: 14px;\n",
       "}\n",
       "#T_855e4 th:nth-child(1) {\n",
       "  background-color: #FFF;\n",
       "  text-align: right;\n",
       "}\n",
       "#T_855e4 caption {\n",
       "  font-size: 14px;\n",
       "  font-style: italic;\n",
       "  caption-side: bottom;\n",
       "  text-align: left;\n",
       "  margin-top: 10px;\n",
       "}\n",
       "</style>\n",
       "<table id=\"T_855e4\">\n",
       "  <caption><b>Table 2:</b> The average number of shotgun shells per linear meter of shoreline by feature and category.</caption>\n",
       "  <thead>\n",
       "    <tr>\n",
       "      <th class=\"blank level0\" >&nbsp;</th>\n",
       "      <th id=\"T_855e4_level0_col0\" class=\"col_heading level0 col0\" >buildings</th>\n",
       "      <th id=\"T_855e4_level0_col1\" class=\"col_heading level0 col1\" >forest</th>\n",
       "      <th id=\"T_855e4_level0_col2\" class=\"col_heading level0 col2\" >orchards</th>\n",
       "      <th id=\"T_855e4_level0_col3\" class=\"col_heading level0 col3\" >public_services</th>\n",
       "      <th id=\"T_855e4_level0_col4\" class=\"col_heading level0 col4\" >undefined</th>\n",
       "      <th id=\"T_855e4_level0_col5\" class=\"col_heading level0 col5\" >vineyards</th>\n",
       "    </tr>\n",
       "  </thead>\n",
       "  <tbody>\n",
       "    <tr>\n",
       "      <th id=\"T_855e4_level0_row0\" class=\"row_heading level0 row0\" >1</th>\n",
       "      <td id=\"T_855e4_row0_col0\" class=\"data row0 col0\" >0.02</td>\n",
       "      <td id=\"T_855e4_row0_col1\" class=\"data row0 col1\" >0.04</td>\n",
       "      <td id=\"T_855e4_row0_col2\" class=\"data row0 col2\" >0.04</td>\n",
       "      <td id=\"T_855e4_row0_col3\" class=\"data row0 col3\" >0.04</td>\n",
       "      <td id=\"T_855e4_row0_col4\" class=\"data row0 col4\" >0.04</td>\n",
       "      <td id=\"T_855e4_row0_col5\" class=\"data row0 col5\" >0.04</td>\n",
       "    </tr>\n",
       "    <tr>\n",
       "      <th id=\"T_855e4_level0_row1\" class=\"row_heading level0 row1\" >2</th>\n",
       "      <td id=\"T_855e4_row1_col0\" class=\"data row1 col0\" >0.09</td>\n",
       "      <td id=\"T_855e4_row1_col1\" class=\"data row1 col1\" >0.02</td>\n",
       "      <td id=\"T_855e4_row1_col2\" class=\"data row1 col2\" >0.03</td>\n",
       "      <td id=\"T_855e4_row1_col3\" class=\"data row1 col3\" >0.03</td>\n",
       "      <td id=\"T_855e4_row1_col4\" class=\"data row1 col4\" >0.04</td>\n",
       "      <td id=\"T_855e4_row1_col5\" class=\"data row1 col5\" >0.02</td>\n",
       "    </tr>\n",
       "    <tr>\n",
       "      <th id=\"T_855e4_level0_row2\" class=\"row_heading level0 row2\" >3</th>\n",
       "      <td id=\"T_855e4_row2_col0\" class=\"data row2 col0\" >0.03</td>\n",
       "      <td id=\"T_855e4_row2_col1\" class=\"data row2 col1\" >-</td>\n",
       "      <td id=\"T_855e4_row2_col2\" class=\"data row2 col2\" >0.01</td>\n",
       "      <td id=\"T_855e4_row2_col3\" class=\"data row2 col3\" >0.02</td>\n",
       "      <td id=\"T_855e4_row2_col4\" class=\"data row2 col4\" >0.02</td>\n",
       "      <td id=\"T_855e4_row2_col5\" class=\"data row2 col5\" >-</td>\n",
       "    </tr>\n",
       "    <tr>\n",
       "      <th id=\"T_855e4_level0_row3\" class=\"row_heading level0 row3\" >4</th>\n",
       "      <td id=\"T_855e4_row3_col0\" class=\"data row3 col0\" >0.02</td>\n",
       "      <td id=\"T_855e4_row3_col1\" class=\"data row3 col1\" >0.02</td>\n",
       "      <td id=\"T_855e4_row3_col2\" class=\"data row3 col2\" >0.02</td>\n",
       "      <td id=\"T_855e4_row3_col3\" class=\"data row3 col3\" >0.06</td>\n",
       "      <td id=\"T_855e4_row3_col4\" class=\"data row3 col4\" >0.02</td>\n",
       "      <td id=\"T_855e4_row3_col5\" class=\"data row3 col5\" >0.04</td>\n",
       "    </tr>\n",
       "    <tr>\n",
       "      <th id=\"T_855e4_level0_row4\" class=\"row_heading level0 row4\" >5</th>\n",
       "      <td id=\"T_855e4_row4_col0\" class=\"data row4 col0\" >0.04</td>\n",
       "      <td id=\"T_855e4_row4_col1\" class=\"data row4 col1\" >0.10</td>\n",
       "      <td id=\"T_855e4_row4_col2\" class=\"data row4 col2\" >0.03</td>\n",
       "      <td id=\"T_855e4_row4_col3\" class=\"data row4 col3\" >0.06</td>\n",
       "      <td id=\"T_855e4_row4_col4\" class=\"data row4 col4\" >0.02</td>\n",
       "      <td id=\"T_855e4_row4_col5\" class=\"data row4 col5\" >0.02</td>\n",
       "    </tr>\n",
       "  </tbody>\n",
       "</table>\n"
      ],
      "text/plain": [
       "<pandas.io.formats.style.Styler at 0x7c1539b1b160>"
      ]
     },
     "metadata": {
      "scrapbook": {
       "mime_prefix": "",
       "name": "average_per_feature"
      }
     },
     "output_type": "display_data"
    }
   ],
   "source": [
    "d = pd.melt(work_data, value_vars=ranked_cols, id_vars=['pcs/m', 'sample_id'])\n",
    "di = d.groupby(['variable', 'value'], as_index=False, observed=True)['pcs/m'].mean()\n",
    "di = di.pivot(columns='variable', index='value', values='pcs/m')\n",
    "di.columns = [x[:-5] for x in di.columns]\n",
    "di.index.name = None\n",
    "caption = \"<b>Table 2:</b> The average number of shotgun shells per linear meter of shoreline by feature and category.\"\n",
    "sd = di.style.set_table_styles(table_css_styles).format(precision=2, na_rep='-').set_caption(caption)\n",
    "glue('average_per_feature', sd, display=True)"
   ]
  },
  {
   "cell_type": "markdown",
   "id": "3a357c26-b058-462d-a6da-2c53c18a0faf",
   "metadata": {
    "editable": true,
    "pycharm": {
     "name": "#%% md\n"
    },
    "slideshow": {
     "slide_type": ""
    },
    "tags": []
   },
   "source": [
    "::::{grid} 1\n",
    "\n",
    ":::{grid-item}\n",
    "\n",
    "{glue}`percent_samps_feature`\n",
    "\n",
    ":::\n",
    "\n",
    ":::{grid-item}\n",
    "\n",
    "{glue}`average_per_feature`\n",
    "\n",
    ":::\n",
    "::::"
   ]
  },
  {
   "cell_type": "markdown",
   "id": "edb84d02-64da-453b-a188-b966f619131c",
   "metadata": {
    "editable": true,
    "pycharm": {
     "name": "#%% md\n"
    },
    "slideshow": {
     "slide_type": ""
    },
    "tags": []
   },
   "source": [
    "### Regional results\n",
    "\n",
    "Lake Geneva is divided into three parts because of its different types of formation (sedimentation, tectonic folding, glacial erosion):\n",
    "\n",
    "* Haut Lac ('Upper Lake'), the eastern part from the Rhône estuary to the line of Meillerie–Rivaz\n",
    "* Grand Lac ('Large Lake'), the largest and deepest basin with the lake's largest width\n",
    "* Petit Lac ('Small Lake'), the most south-west, narrower and less deep part from Yvoire–Promenthoux next Prangins to the exit in Geneva\n",
    "\n",
    "For a brief description of the geography of Lac Léman see: [Wikepedia Lake Geneva](https://en.wikipedia.org/wiki/Lake_Geneva)"
   ]
  },
  {
   "cell_type": "code",
   "execution_count": 9,
   "id": "392e0c9e-2874-49e5-82fe-2942f1f5724c",
   "metadata": {
    "editable": true,
    "pycharm": {
     "name": "#%%\n"
    },
    "slideshow": {
     "slide_type": ""
    },
    "tags": [
     "remove-input"
    ]
   },
   "outputs": [
    {
     "data": {
      "image/png": "[encoded data removed]",
      "text/plain": [
       "<Figure size 640x480 with 1 Axes>"
      ]
     },
     "metadata": {
      "scrapbook": {
       "mime_prefix": "",
       "name": "region_scatter"
      }
     },
     "output_type": "display_data"
    },
    {
     "data": {
      "image/png": "[encoded data removed]",
      "text/plain": [
       "<Figure size 640x480 with 1 Axes>"
      ]
     },
     "metadata": {
      "scrapbook": {
       "mime_prefix": "",
       "name": "region_ecdf"
      }
     },
     "output_type": "display_data"
    }
   ],
   "source": [
    "work_data['date'] = pd.to_datetime(work_data['date'], format='%Y-%m-%d')\n",
    "fig, ax = plt.subplots()\n",
    "sns.scatterplot(data=work_data, x='date', y='pcs/m', hue='region')\n",
    "ax.xaxis.set_minor_locator(mdates.MonthLocator(bymonth=(1, 7)))\n",
    "ax.xaxis.set_major_locator(mdates.YearLocator())\n",
    "plt.tight_layout()\n",
    "glue('region_scatter', fig, display=True)\n",
    "plt.close()\n",
    "\n",
    "fig, ax = plt.subplots()\n",
    "sns.ecdfplot(data=work_data, x=\"pcs/m\", hue='region')\n",
    "plt.tight_layout()\n",
    "glue('region_ecdf', fig, display=True)\n",
    "plt.close()"
   ]
  },
  {
   "cell_type": "markdown",
   "id": "9fd98449-e310-465f-a603-bcea423e7753",
   "metadata": {
    "editable": true,
    "pycharm": {
     "name": "#%% md\n"
    },
    "slideshow": {
     "slide_type": ""
    },
    "tags": []
   },
   "source": [
    "::::{grid} 1\n",
    "\n",
    ":::{grid-item-card}\n",
    "\n",
    "{glue}`region_scatter`\n",
    "\n",
    "+++\n",
    "<b>Figure 1:</b> Survey totals in number of shotgun shell waddings per linear meter of shoreline, November 2015 - December 2021.\n",
    ":::\n",
    "\n",
    ":::{grid-item-card}\n",
    "\n",
    "{glue}`region_ecdf`\n",
    "\n",
    "+++\n",
    "<b>Figure 2:</b> The empirical cumulative distribution (ECDF) of the survey results.\n",
    ":::\n",
    "::::"
   ]
  },
  {
   "cell_type": "code",
   "execution_count": 10,
   "id": "32d3a371-5aff-4521-8bd5-e67b4d071d36",
   "metadata": {
    "editable": true,
    "pycharm": {
     "name": "#%%\n"
    },
    "slideshow": {
     "slide_type": ""
    },
    "tags": [
     "remove-input"
    ]
   },
   "outputs": [
    {
     "data": {
      "text/html": [
       "<style type=\"text/css\">\n",
       "#T_745d5 tr:nth-child(even) {\n",
       "  background-color: rgba(139, 69, 19, 0.08);\n",
       "}\n",
       "#T_745d5 tr:nth-child(odd) {\n",
       "  background: #FFF;\n",
       "}\n",
       "#T_745d5 tr {\n",
       "  font-size: 14px;\n",
       "}\n",
       "#T_745d5 th:nth-child(1) {\n",
       "  background-color: #FFF;\n",
       "  text-align: right;\n",
       "}\n",
       "#T_745d5 caption {\n",
       "  font-size: 14px;\n",
       "  font-style: italic;\n",
       "  caption-side: bottom;\n",
       "  text-align: left;\n",
       "  margin-top: 10px;\n",
       "}\n",
       "</style>\n",
       "<table id=\"T_745d5\">\n",
       "  <caption>The distribution of the total number of plastic shotgun wadding found per sample for each region</caption>\n",
       "  <thead>\n",
       "    <tr>\n",
       "      <th class=\"blank level0\" >&nbsp;</th>\n",
       "      <th id=\"T_745d5_level0_col0\" class=\"col_heading level0 col0\" >nsamples</th>\n",
       "      <th id=\"T_745d5_level0_col1\" class=\"col_heading level0 col1\" >mean</th>\n",
       "      <th id=\"T_745d5_level0_col2\" class=\"col_heading level0 col2\" >std</th>\n",
       "      <th id=\"T_745d5_level0_col3\" class=\"col_heading level0 col3\" >min</th>\n",
       "      <th id=\"T_745d5_level0_col4\" class=\"col_heading level0 col4\" >25%</th>\n",
       "      <th id=\"T_745d5_level0_col5\" class=\"col_heading level0 col5\" >50%</th>\n",
       "      <th id=\"T_745d5_level0_col6\" class=\"col_heading level0 col6\" >75%</th>\n",
       "      <th id=\"T_745d5_level0_col7\" class=\"col_heading level0 col7\" >max</th>\n",
       "    </tr>\n",
       "  </thead>\n",
       "  <tbody>\n",
       "    <tr>\n",
       "      <th id=\"T_745d5_level0_row0\" class=\"row_heading level0 row0\" >Grand lac</th>\n",
       "      <td id=\"T_745d5_row0_col0\" class=\"data row0 col0\" >13097</td>\n",
       "      <td id=\"T_745d5_row0_col1\" class=\"data row0 col1\" >1</td>\n",
       "      <td id=\"T_745d5_row0_col2\" class=\"data row0 col2\" >12</td>\n",
       "      <td id=\"T_745d5_row0_col3\" class=\"data row0 col3\" >0</td>\n",
       "      <td id=\"T_745d5_row0_col4\" class=\"data row0 col4\" >0</td>\n",
       "      <td id=\"T_745d5_row0_col5\" class=\"data row0 col5\" >0</td>\n",
       "      <td id=\"T_745d5_row0_col6\" class=\"data row0 col6\" >0</td>\n",
       "      <td id=\"T_745d5_row0_col7\" class=\"data row0 col7\" >545</td>\n",
       "    </tr>\n",
       "    <tr>\n",
       "      <th id=\"T_745d5_level0_row1\" class=\"row_heading level0 row1\" >Haut lac</th>\n",
       "      <td id=\"T_745d5_row1_col0\" class=\"data row1 col0\" >30912</td>\n",
       "      <td id=\"T_745d5_row1_col1\" class=\"data row1 col1\" >2</td>\n",
       "      <td id=\"T_745d5_row1_col2\" class=\"data row1 col2\" >14</td>\n",
       "      <td id=\"T_745d5_row1_col3\" class=\"data row1 col3\" >0</td>\n",
       "      <td id=\"T_745d5_row1_col4\" class=\"data row1 col4\" >0</td>\n",
       "      <td id=\"T_745d5_row1_col5\" class=\"data row1 col5\" >0</td>\n",
       "      <td id=\"T_745d5_row1_col6\" class=\"data row1 col6\" >0</td>\n",
       "      <td id=\"T_745d5_row1_col7\" class=\"data row1 col7\" >729</td>\n",
       "    </tr>\n",
       "    <tr>\n",
       "      <th id=\"T_745d5_level0_row2\" class=\"row_heading level0 row2\" >Petit lac</th>\n",
       "      <td id=\"T_745d5_row2_col0\" class=\"data row2 col0\" >12431</td>\n",
       "      <td id=\"T_745d5_row2_col1\" class=\"data row2 col1\" >1</td>\n",
       "      <td id=\"T_745d5_row2_col2\" class=\"data row2 col2\" >10</td>\n",
       "      <td id=\"T_745d5_row2_col3\" class=\"data row2 col3\" >0</td>\n",
       "      <td id=\"T_745d5_row2_col4\" class=\"data row2 col4\" >0</td>\n",
       "      <td id=\"T_745d5_row2_col5\" class=\"data row2 col5\" >0</td>\n",
       "      <td id=\"T_745d5_row2_col6\" class=\"data row2 col6\" >0</td>\n",
       "      <td id=\"T_745d5_row2_col7\" class=\"data row2 col7\" >463</td>\n",
       "    </tr>\n",
       "  </tbody>\n",
       "</table>\n"
      ],
      "text/plain": [
       "<pandas.io.formats.style.Styler at 0x7c1544aef7f0>"
      ]
     },
     "metadata": {
      "scrapbook": {
       "mime_prefix": "",
       "name": "region_qty_dist"
      }
     },
     "output_type": "display_data"
    },
    {
     "data": {
      "text/html": [
       "<style type=\"text/css\">\n",
       "#T_1d3eb tr:nth-child(even) {\n",
       "  background-color: rgba(139, 69, 19, 0.08);\n",
       "}\n",
       "#T_1d3eb tr:nth-child(odd) {\n",
       "  background: #FFF;\n",
       "}\n",
       "#T_1d3eb tr {\n",
       "  font-size: 14px;\n",
       "}\n",
       "#T_1d3eb th:nth-child(1) {\n",
       "  background-color: #FFF;\n",
       "  text-align: right;\n",
       "}\n",
       "#T_1d3eb caption {\n",
       "  font-size: 14px;\n",
       "  font-style: italic;\n",
       "  caption-side: bottom;\n",
       "  text-align: left;\n",
       "  margin-top: 10px;\n",
       "}\n",
       "</style>\n",
       "<table id=\"T_1d3eb\">\n",
       "  <caption>The distribution of the number of shotgun wadding found per meter of shoreline</caption>\n",
       "  <thead>\n",
       "    <tr>\n",
       "      <th class=\"blank level0\" >&nbsp;</th>\n",
       "      <th id=\"T_1d3eb_level0_col0\" class=\"col_heading level0 col0\" >nsamples</th>\n",
       "      <th id=\"T_1d3eb_level0_col1\" class=\"col_heading level0 col1\" >mean</th>\n",
       "      <th id=\"T_1d3eb_level0_col2\" class=\"col_heading level0 col2\" >std</th>\n",
       "      <th id=\"T_1d3eb_level0_col3\" class=\"col_heading level0 col3\" >min</th>\n",
       "      <th id=\"T_1d3eb_level0_col4\" class=\"col_heading level0 col4\" >25%</th>\n",
       "      <th id=\"T_1d3eb_level0_col5\" class=\"col_heading level0 col5\" >50%</th>\n",
       "      <th id=\"T_1d3eb_level0_col6\" class=\"col_heading level0 col6\" >75%</th>\n",
       "      <th id=\"T_1d3eb_level0_col7\" class=\"col_heading level0 col7\" >max</th>\n",
       "    </tr>\n",
       "  </thead>\n",
       "  <tbody>\n",
       "    <tr>\n",
       "      <th id=\"T_1d3eb_level0_row0\" class=\"row_heading level0 row0\" >Grand lac</th>\n",
       "      <td id=\"T_1d3eb_row0_col0\" class=\"data row0 col0\" >13097.00</td>\n",
       "      <td id=\"T_1d3eb_row0_col1\" class=\"data row0 col1\" >0.05</td>\n",
       "      <td id=\"T_1d3eb_row0_col2\" class=\"data row0 col2\" >0.53</td>\n",
       "      <td id=\"T_1d3eb_row0_col3\" class=\"data row0 col3\" >0.00</td>\n",
       "      <td id=\"T_1d3eb_row0_col4\" class=\"data row0 col4\" >0.00</td>\n",
       "      <td id=\"T_1d3eb_row0_col5\" class=\"data row0 col5\" >0.00</td>\n",
       "      <td id=\"T_1d3eb_row0_col6\" class=\"data row0 col6\" >0.00</td>\n",
       "      <td id=\"T_1d3eb_row0_col7\" class=\"data row0 col7\" >29.06</td>\n",
       "    </tr>\n",
       "    <tr>\n",
       "      <th id=\"T_1d3eb_level0_row1\" class=\"row_heading level0 row1\" >Haut lac</th>\n",
       "      <td id=\"T_1d3eb_row1_col0\" class=\"data row1 col0\" >30912.00</td>\n",
       "      <td id=\"T_1d3eb_row1_col1\" class=\"data row1 col1\" >0.04</td>\n",
       "      <td id=\"T_1d3eb_row1_col2\" class=\"data row1 col2\" >0.37</td>\n",
       "      <td id=\"T_1d3eb_row1_col3\" class=\"data row1 col3\" >0.00</td>\n",
       "      <td id=\"T_1d3eb_row1_col4\" class=\"data row1 col4\" >0.00</td>\n",
       "      <td id=\"T_1d3eb_row1_col5\" class=\"data row1 col5\" >0.00</td>\n",
       "      <td id=\"T_1d3eb_row1_col6\" class=\"data row1 col6\" >0.00</td>\n",
       "      <td id=\"T_1d3eb_row1_col7\" class=\"data row1 col7\" >19.70</td>\n",
       "    </tr>\n",
       "    <tr>\n",
       "      <th id=\"T_1d3eb_level0_row2\" class=\"row_heading level0 row2\" >Petit lac</th>\n",
       "      <td id=\"T_1d3eb_row2_col0\" class=\"data row2 col0\" >12431.00</td>\n",
       "      <td id=\"T_1d3eb_row2_col1\" class=\"data row2 col1\" >0.02</td>\n",
       "      <td id=\"T_1d3eb_row2_col2\" class=\"data row2 col2\" >0.22</td>\n",
       "      <td id=\"T_1d3eb_row2_col3\" class=\"data row2 col3\" >0.00</td>\n",
       "      <td id=\"T_1d3eb_row2_col4\" class=\"data row2 col4\" >0.00</td>\n",
       "      <td id=\"T_1d3eb_row2_col5\" class=\"data row2 col5\" >0.00</td>\n",
       "      <td id=\"T_1d3eb_row2_col6\" class=\"data row2 col6\" >0.00</td>\n",
       "      <td id=\"T_1d3eb_row2_col7\" class=\"data row2 col7\" >13.43</td>\n",
       "    </tr>\n",
       "  </tbody>\n",
       "</table>\n"
      ],
      "text/plain": [
       "<pandas.io.formats.style.Styler at 0x7c15395ec970>"
      ]
     },
     "metadata": {
      "scrapbook": {
       "mime_prefix": "",
       "name": "region_med_dist"
      }
     },
     "output_type": "display_data"
    }
   ],
   "source": [
    "# regional results\n",
    "regions = work_data.groupby('region').quantity.describe()\n",
    "regions.rename(columns={'count':'nsamples'}, inplace=True)\n",
    "regions.index.name = None\n",
    "caption = \"The distribution of the total number of plastic shotgun wadding found per sample for each region\"\n",
    "rg = regions.style.set_table_styles(table_css_styles).format(precision=0).set_caption(caption)\n",
    "glue('region_qty_dist', rg, display=True)\n",
    "\n",
    "# regional results\n",
    "regions = work_data.groupby('region')['pcs/m'].describe()\n",
    "regions.rename(columns={'count':'nsamples'}, inplace=True)\n",
    "regions.index.name = None\n",
    "caption = \"The distribution of the number of shotgun wadding found per meter of shoreline\"\n",
    "rg = regions.style.set_table_styles(table_css_styles).format(precision=2).set_caption(caption)\n",
    "glue('region_med_dist', rg, display=True)"
   ]
  },
  {
   "cell_type": "markdown",
   "id": "70d5cbae-46a7-49a8-8347-5c8aa1d8db9c",
   "metadata": {
    "editable": true,
    "pycharm": {
     "name": "#%% md\n"
    },
    "slideshow": {
     "slide_type": ""
    },
    "tags": []
   },
   "source": [
    "::::{grid} 1\n",
    "\n",
    ":::{grid-item-card}\n",
    "<b>Table 3:</b> The qauntile range of the number of plastic shotgun shells found per meter of shoreline by region.\n",
    "^^\n",
    "{glue}`region_med_dist`\n",
    "\n",
    ":::\n",
    "::::"
   ]
  },
  {
   "cell_type": "markdown",
   "id": "65464f63-3159-4f5c-8276-efa3a42fbb20",
   "metadata": {
    "editable": true,
    "pycharm": {
     "name": "#%% md\n"
    },
    "slideshow": {
     "slide_type": ""
    },
    "tags": []
   },
   "source": [
    "### Municipal results\n",
    "\n",
    "There are numerous municipalities on the lake, here we consider only the municipalities that were sampled."
   ]
  },
  {
   "cell_type": "code",
   "execution_count": 11,
   "id": "ea8c4ef0-87aa-42fa-931e-078ee953000c",
   "metadata": {
    "editable": true,
    "pycharm": {
     "name": "#%%\n"
    },
    "slideshow": {
     "slide_type": ""
    },
    "tags": [
     "remove-input"
    ]
   },
   "outputs": [
    {
     "name": "stdout",
     "output_type": "stream",
     "text": [
      "Nummber of cities with two or more samples where none were found: 0\n",
      "\n",
      "Cities where none were found, for all cities and number of samples: []\n"
     ]
    }
   ],
   "source": [
    "# cities with more than two samples and none were found\n",
    "two_or_more_samples = work_data.groupby('city').filter(lambda x: len(x) >= 2)\n",
    "cumulative_sum = two_or_more_samples.groupby('city')['quantity'].sum()\n",
    "total = len(cumulative_sum[cumulative_sum == 0])\n",
    "\n",
    "# locations where none were found\n",
    "by_city = work_data.groupby('city')['quantity'].sum()\n",
    "cities_with_none = by_city[by_city == 0].index\n",
    "\n",
    "print(f'Nummber of cities with two or more samples where none were found: {total}\\n')\n",
    "print(f'Cities where none were found, for all cities and number of samples: {cities_with_none.values}')"
   ]
  },
  {
   "cell_type": "markdown",
   "id": "db00a788-3f65-410a-a891-0ad7dd32a48d",
   "metadata": {
    "editable": true,
    "pycharm": {
     "name": "#%% md\n"
    },
    "slideshow": {
     "slide_type": ""
    },
    "tags": []
   },
   "source": [
    "__Municipal results in descending order__"
   ]
  },
  {
   "cell_type": "code",
   "execution_count": 12,
   "id": "37c6936f-3c97-4c75-a7dd-096b2fa2a564",
   "metadata": {
    "editable": true,
    "pycharm": {
     "name": "#%%\n"
    },
    "slideshow": {
     "slide_type": ""
    },
    "tags": [
     "remove-input"
    ]
   },
   "outputs": [
    {
     "data": {
      "text/html": [
       "<style type=\"text/css\">\n",
       "#T_7791a tr:nth-child(even) {\n",
       "  background-color: rgba(139, 69, 19, 0.08);\n",
       "}\n",
       "#T_7791a tr:nth-child(odd) {\n",
       "  background: #FFF;\n",
       "}\n",
       "#T_7791a tr {\n",
       "  font-size: 14px;\n",
       "}\n",
       "#T_7791a th:nth-child(1) {\n",
       "  background-color: #FFF;\n",
       "  text-align: right;\n",
       "}\n",
       "#T_7791a caption {\n",
       "  font-size: 14px;\n",
       "  font-style: italic;\n",
       "  caption-side: bottom;\n",
       "  text-align: left;\n",
       "  margin-top: 10px;\n",
       "}\n",
       "</style>\n",
       "<table id=\"T_7791a\">\n",
       "  <thead>\n",
       "    <tr>\n",
       "      <th class=\"blank level0\" >&nbsp;</th>\n",
       "      <th id=\"T_7791a_level0_col0\" class=\"col_heading level0 col0\" >pcs/m</th>\n",
       "      <th id=\"T_7791a_level0_col1\" class=\"col_heading level0 col1\" >nsamples</th>\n",
       "    </tr>\n",
       "  </thead>\n",
       "  <tbody>\n",
       "    <tr>\n",
       "      <th id=\"T_7791a_level0_row0\" class=\"row_heading level0 row0\" >Saint-Gingolph</th>\n",
       "      <td id=\"T_7791a_row0_col0\" class=\"data row0 col0\" >0.10</td>\n",
       "      <td id=\"T_7791a_row0_col1\" class=\"data row0 col1\" >13</td>\n",
       "    </tr>\n",
       "    <tr>\n",
       "      <th id=\"T_7791a_level0_row1\" class=\"row_heading level0 row1\" >Saint-Sulpice (VD)</th>\n",
       "      <td id=\"T_7791a_row1_col0\" class=\"data row1 col0\" >0.08</td>\n",
       "      <td id=\"T_7791a_row1_col1\" class=\"data row1 col1\" >15</td>\n",
       "    </tr>\n",
       "    <tr>\n",
       "      <th id=\"T_7791a_level0_row2\" class=\"row_heading level0 row2\" >Lausanne</th>\n",
       "      <td id=\"T_7791a_row2_col0\" class=\"data row2 col0\" >0.05</td>\n",
       "      <td id=\"T_7791a_row2_col1\" class=\"data row2 col1\" >20</td>\n",
       "    </tr>\n",
       "    <tr>\n",
       "      <th id=\"T_7791a_level0_row3\" class=\"row_heading level0 row3\" >La Tour-de-Peilz</th>\n",
       "      <td id=\"T_7791a_row3_col0\" class=\"data row3 col0\" >0.05</td>\n",
       "      <td id=\"T_7791a_row3_col1\" class=\"data row3 col1\" >25</td>\n",
       "    </tr>\n",
       "    <tr>\n",
       "      <th id=\"T_7791a_level0_row4\" class=\"row_heading level0 row4\" >Rolle</th>\n",
       "      <td id=\"T_7791a_row4_col0\" class=\"data row4 col0\" >0.04</td>\n",
       "      <td id=\"T_7791a_row4_col1\" class=\"data row4 col1\" >1</td>\n",
       "    </tr>\n",
       "    <tr>\n",
       "      <th id=\"T_7791a_level0_row5\" class=\"row_heading level0 row5\" >Vevey</th>\n",
       "      <td id=\"T_7791a_row5_col0\" class=\"data row5 col0\" >0.04</td>\n",
       "      <td id=\"T_7791a_row5_col1\" class=\"data row5 col1\" >44</td>\n",
       "    </tr>\n",
       "    <tr>\n",
       "      <th id=\"T_7791a_level0_row6\" class=\"row_heading level0 row6\" >Allaman</th>\n",
       "      <td id=\"T_7791a_row6_col0\" class=\"data row6 col0\" >0.03</td>\n",
       "      <td id=\"T_7791a_row6_col1\" class=\"data row6 col1\" >3</td>\n",
       "    </tr>\n",
       "    <tr>\n",
       "      <th id=\"T_7791a_level0_row7\" class=\"row_heading level0 row7\" >Montreux</th>\n",
       "      <td id=\"T_7791a_row7_col0\" class=\"data row7 col0\" >0.03</td>\n",
       "      <td id=\"T_7791a_row7_col1\" class=\"data row7 col1\" >53</td>\n",
       "    </tr>\n",
       "    <tr>\n",
       "      <th id=\"T_7791a_level0_row8\" class=\"row_heading level0 row8\" >Préverenges</th>\n",
       "      <td id=\"T_7791a_row8_col0\" class=\"data row8 col0\" >0.03</td>\n",
       "      <td id=\"T_7791a_row8_col1\" class=\"data row8 col1\" >15</td>\n",
       "    </tr>\n",
       "    <tr>\n",
       "      <th id=\"T_7791a_level0_row9\" class=\"row_heading level0 row9\" >Genève</th>\n",
       "      <td id=\"T_7791a_row9_col0\" class=\"data row9 col0\" >0.03</td>\n",
       "      <td id=\"T_7791a_row9_col1\" class=\"data row9 col1\" >29</td>\n",
       "    </tr>\n",
       "    <tr>\n",
       "      <th id=\"T_7791a_level0_row10\" class=\"row_heading level0 row10\" >Morges</th>\n",
       "      <td id=\"T_7791a_row10_col0\" class=\"data row10 col0\" >0.02</td>\n",
       "      <td id=\"T_7791a_row10_col1\" class=\"data row10 col1\" >1</td>\n",
       "    </tr>\n",
       "    <tr>\n",
       "      <th id=\"T_7791a_level0_row11\" class=\"row_heading level0 row11\" >Bourg-en-Lavaux</th>\n",
       "      <td id=\"T_7791a_row11_col0\" class=\"data row11 col0\" >0.02</td>\n",
       "      <td id=\"T_7791a_row11_col1\" class=\"data row11 col1\" >2</td>\n",
       "    </tr>\n",
       "    <tr>\n",
       "      <th id=\"T_7791a_level0_row12\" class=\"row_heading level0 row12\" >Versoix</th>\n",
       "      <td id=\"T_7791a_row12_col0\" class=\"data row12 col0\" >0.02</td>\n",
       "      <td id=\"T_7791a_row12_col1\" class=\"data row12 col1\" >4</td>\n",
       "    </tr>\n",
       "    <tr>\n",
       "      <th id=\"T_7791a_level0_row13\" class=\"row_heading level0 row13\" >Gland</th>\n",
       "      <td id=\"T_7791a_row13_col0\" class=\"data row13 col0\" >0.02</td>\n",
       "      <td id=\"T_7791a_row13_col1\" class=\"data row13 col1\" >22</td>\n",
       "    </tr>\n",
       "    <tr>\n",
       "      <th id=\"T_7791a_level0_row14\" class=\"row_heading level0 row14\" >Tolochenaz</th>\n",
       "      <td id=\"T_7791a_row14_col0\" class=\"data row14 col0\" >0.02</td>\n",
       "      <td id=\"T_7791a_row14_col1\" class=\"data row14 col1\" >3</td>\n",
       "    </tr>\n",
       "  </tbody>\n",
       "</table>\n"
      ],
      "text/plain": [
       "<pandas.io.formats.style.Styler at 0x7c15445811c0>"
      ]
     },
     "metadata": {
      "scrapbook": {
       "mime_prefix": "",
       "name": "city_rankings"
      }
     },
     "output_type": "display_data"
    }
   ],
   "source": [
    "# cities with the highest density\n",
    "\n",
    "city_pcs_m = work_data.groupby('city', as_index=False).agg({'pcs/m':'mean', 'sample_id':'nunique'})\n",
    "cpm = city_pcs_m.rename(columns={'sample_id':'nsamples'}, inplace=True)\n",
    "cpm = city_pcs_m.sort_values(by='pcs/m', ascending=False).set_index('city', drop=True)\n",
    "cpm.index.name = None\n",
    "cp = cpm.style.set_table_styles(table_css_styles).format(precision=2)\n",
    "glue('city_rankings', cp, display=True)"
   ]
  },
  {
   "cell_type": "markdown",
   "id": "a375cd30-79b6-4baf-a493-7f9d708436be",
   "metadata": {
    "editable": true,
    "pycharm": {
     "name": "#%% md\n"
    },
    "slideshow": {
     "slide_type": ""
    },
    "tags": []
   },
   "source": [
    "## Essential statistics: 2022"
   ]
  },
  {
   "cell_type": "code",
   "execution_count": 13,
   "id": "05122824-a935-4037-9b72-347d2cc940f0",
   "metadata": {
    "editable": true,
    "pycharm": {
     "name": "#%%\n"
    },
    "slideshow": {
     "slide_type": ""
    },
    "tags": [
     "remove-input"
    ]
   },
   "outputs": [],
   "source": [
    "work_data2 = pd.read_csv('resources/data/macro_data_linearm.csv')\n",
    "work_data2 = work_data2[work_data2.code == \"G70\"].copy()\n",
    "\n",
    "beaches = pd.read_csv('resources/data/u_iq_ps_beaches.csv')\n",
    "beaches.loc[beaches.location == 'Savonière', 'location'] = \"Savonnière\"\n",
    "beaches.drop_duplicates('location', inplace=True)\n",
    "city_map = beaches[['location', 'city']].copy()\n",
    "city_map = city_map[city_map.city != 'Vidy']\n",
    "# city_map.drop_duplicates(['location', 'city'], inplace=True)\n",
    "city_map.set_index('location', drop=True, inplace=True)\n",
    "work_data2['city'] = work_data2.Plage.apply(lambda x: city_map.loc[x]['city'])\n",
    "new_columns = {\"échantillon\":\"sample_id\", 'quantité':'quantity', 'slug':'location'}\n",
    "work_data2.rename(columns=new_columns, inplace=True)"
   ]
  },
  {
   "cell_type": "code",
   "execution_count": 14,
   "id": "979bcd0e-e0f4-43dc-b7c3-384e817ca6fa",
   "metadata": {
    "editable": true,
    "pycharm": {
     "name": "#%%\n"
    },
    "slideshow": {
     "slide_type": ""
    },
    "tags": [
     "remove-input"
    ]
   },
   "outputs": [
    {
     "name": "stdout",
     "output_type": "stream",
     "text": [
      "Effective dates from 2022-01-10 to 2022-12-17\n",
      "\n",
      "Total found: 199\n",
      "\n",
      "Number of samples: 98\n",
      "\n",
      "Number of municipalities: 24\n",
      "\n",
      "Number of unique sample locations: 25\n",
      "\n",
      "Shotgun wadding found in 38% of samples\n",
      "\n",
      "The average number found per sample 2, the median found 0.0\n",
      "\n",
      "The average number found per meter of shoreline 0.02, the median found per meter of shoreline 0.0\n",
      "\n",
      "Historical average for every 100 meters : 2, historical median 0\n",
      "\n",
      "The historical 95% range per 100 meter {0.05: 0, 0.25: 0, 0.5: 0, 0.75: 2, 0.95: 9}\n"
     ]
    }
   ],
   "source": [
    "quantiles = [0.05, 0.25, 0.5, 0.75, 0.95]\n",
    "\n",
    "start_date, end_date = work_data2[\"date\"].min(), work_data2['date'].max()\n",
    "nsamples = len(work_data2)\n",
    "ncities = work_data2.city.nunique()\n",
    "nlocations = work_data2.location.nunique()\n",
    "\n",
    "qty = work_data2.quantity.sum()\n",
    "fail_rate = np.mean(work_data2.quantity > 0)\n",
    "found_qtle = np.quantile(work_data2.quantity.values, quantiles)\n",
    "density_qtle = np.quantile(work_data2['pcs/m'].values, quantiles)\n",
    "dqtle = {quantiles[i]: int(x * 100) for i, x in enumerate(density_qtle)}\n",
    "found_median, found_mean = work_data2.quantity.median(), work_data2.quantity.mean()\n",
    "\n",
    "median_density, average_density = work_data2['pcs/m'].median(), work_data2['pcs/m'].mean()\n",
    "\n",
    "\n",
    "\n",
    "\n",
    "print(f'Effective dates from {start_date} to {end_date}\\n')\n",
    "print(f'Total found: {qty}\\n')\n",
    "print(f'Number of samples: {nsamples}\\n')\n",
    "print(f'Number of municipalities: {ncities}\\n')\n",
    "print(f'Number of unique sample locations: {nlocations}\\n')\n",
    "print(f'Shotgun wadding found in {int(fail_rate * 100)}% of samples\\n')\n",
    "print(f'The average number found per sample {int(found_mean)}, the median found {found_median}\\n')\n",
    "print(f'The average number found per meter of shoreline {round(average_density, 2)}, the median found per meter of shoreline {round(median_density, 2)}\\n')\n",
    "print(f'Historical average for every 100 meters : {int(average_density*100)}, historical median {int(median_density*100)}\\n')\n",
    "print(f'The historical 95% range per 100 meter {dqtle}')"
   ]
  },
  {
   "cell_type": "markdown",
   "id": "aecda847-bbc0-4904-8499-9becba18e2fd",
   "metadata": {
    "editable": true,
    "pycharm": {
     "name": "#%% md\n"
    },
    "slideshow": {
     "slide_type": ""
    },
    "tags": []
   },
   "source": [
    "### Regional results 2022"
   ]
  },
  {
   "cell_type": "code",
   "execution_count": 15,
   "id": "fab04bc3-87ac-404a-88b4-e53e2a811d7c",
   "metadata": {
    "editable": true,
    "pycharm": {
     "name": "#%%\n"
    },
    "slideshow": {
     "slide_type": ""
    },
    "tags": [
     "remove-input"
    ]
   },
   "outputs": [
    {
     "data": {
      "text/html": [
       "<style type=\"text/css\">\n",
       "#T_306b3 tr:nth-child(even) {\n",
       "  background-color: rgba(139, 69, 19, 0.08);\n",
       "}\n",
       "#T_306b3 tr:nth-child(odd) {\n",
       "  background: #FFF;\n",
       "}\n",
       "#T_306b3 tr {\n",
       "  font-size: 14px;\n",
       "}\n",
       "#T_306b3 th:nth-child(1) {\n",
       "  background-color: #FFF;\n",
       "  text-align: right;\n",
       "}\n",
       "#T_306b3 caption {\n",
       "  font-size: 14px;\n",
       "  font-style: italic;\n",
       "  caption-side: bottom;\n",
       "  text-align: left;\n",
       "  margin-top: 10px;\n",
       "}\n",
       "</style>\n",
       "<table id=\"T_306b3\">\n",
       "  <caption>The distribution of the number of shotgun wadding found per meter of shoreline</caption>\n",
       "  <thead>\n",
       "    <tr>\n",
       "      <th class=\"blank level0\" >&nbsp;</th>\n",
       "      <th id=\"T_306b3_level0_col0\" class=\"col_heading level0 col0\" >nsamples</th>\n",
       "      <th id=\"T_306b3_level0_col1\" class=\"col_heading level0 col1\" >mean</th>\n",
       "      <th id=\"T_306b3_level0_col2\" class=\"col_heading level0 col2\" >std</th>\n",
       "      <th id=\"T_306b3_level0_col3\" class=\"col_heading level0 col3\" >min</th>\n",
       "      <th id=\"T_306b3_level0_col4\" class=\"col_heading level0 col4\" >25%</th>\n",
       "      <th id=\"T_306b3_level0_col5\" class=\"col_heading level0 col5\" >50%</th>\n",
       "      <th id=\"T_306b3_level0_col6\" class=\"col_heading level0 col6\" >75%</th>\n",
       "      <th id=\"T_306b3_level0_col7\" class=\"col_heading level0 col7\" >max</th>\n",
       "    </tr>\n",
       "  </thead>\n",
       "  <tbody>\n",
       "    <tr>\n",
       "      <th id=\"T_306b3_level0_row0\" class=\"row_heading level0 row0\" >Grand lac</th>\n",
       "      <td id=\"T_306b3_row0_col0\" class=\"data row0 col0\" >47.00</td>\n",
       "      <td id=\"T_306b3_row0_col1\" class=\"data row0 col1\" >0.03</td>\n",
       "      <td id=\"T_306b3_row0_col2\" class=\"data row0 col2\" >0.06</td>\n",
       "      <td id=\"T_306b3_row0_col3\" class=\"data row0 col3\" >0.00</td>\n",
       "      <td id=\"T_306b3_row0_col4\" class=\"data row0 col4\" >0.00</td>\n",
       "      <td id=\"T_306b3_row0_col5\" class=\"data row0 col5\" >0.00</td>\n",
       "      <td id=\"T_306b3_row0_col6\" class=\"data row0 col6\" >0.03</td>\n",
       "      <td id=\"T_306b3_row0_col7\" class=\"data row0 col7\" >0.36</td>\n",
       "    </tr>\n",
       "    <tr>\n",
       "      <th id=\"T_306b3_level0_row1\" class=\"row_heading level0 row1\" >Haut lac</th>\n",
       "      <td id=\"T_306b3_row1_col0\" class=\"data row1 col0\" >24.00</td>\n",
       "      <td id=\"T_306b3_row1_col1\" class=\"data row1 col1\" >0.03</td>\n",
       "      <td id=\"T_306b3_row1_col2\" class=\"data row1 col2\" >0.06</td>\n",
       "      <td id=\"T_306b3_row1_col3\" class=\"data row1 col3\" >0.00</td>\n",
       "      <td id=\"T_306b3_row1_col4\" class=\"data row1 col4\" >0.00</td>\n",
       "      <td id=\"T_306b3_row1_col5\" class=\"data row1 col5\" >0.00</td>\n",
       "      <td id=\"T_306b3_row1_col6\" class=\"data row1 col6\" >0.03</td>\n",
       "      <td id=\"T_306b3_row1_col7\" class=\"data row1 col7\" >0.29</td>\n",
       "    </tr>\n",
       "    <tr>\n",
       "      <th id=\"T_306b3_level0_row2\" class=\"row_heading level0 row2\" >Petit lac</th>\n",
       "      <td id=\"T_306b3_row2_col0\" class=\"data row2 col0\" >27.00</td>\n",
       "      <td id=\"T_306b3_row2_col1\" class=\"data row2 col1\" >0.01</td>\n",
       "      <td id=\"T_306b3_row2_col2\" class=\"data row2 col2\" >0.02</td>\n",
       "      <td id=\"T_306b3_row2_col3\" class=\"data row2 col3\" >0.00</td>\n",
       "      <td id=\"T_306b3_row2_col4\" class=\"data row2 col4\" >0.00</td>\n",
       "      <td id=\"T_306b3_row2_col5\" class=\"data row2 col5\" >0.00</td>\n",
       "      <td id=\"T_306b3_row2_col6\" class=\"data row2 col6\" >0.00</td>\n",
       "      <td id=\"T_306b3_row2_col7\" class=\"data row2 col7\" >0.07</td>\n",
       "    </tr>\n",
       "  </tbody>\n",
       "</table>\n"
      ],
      "text/plain": [
       "<pandas.io.formats.style.Styler at 0x7c154edb0220>"
      ]
     },
     "metadata": {
      "scrapbook": {
       "mime_prefix": "",
       "name": "region_med_dist_2"
      }
     },
     "output_type": "display_data"
    }
   ],
   "source": [
    "# regional results\n",
    "regions = work_data2.groupby('region')['pcs/m'].describe()\n",
    "regions.rename(columns={'count':'nsamples'}, inplace=True)\n",
    "regions.index.name = None\n",
    "caption = \"The distribution of the number of shotgun wadding found per meter of shoreline\"\n",
    "rg = regions.style.set_table_styles(table_css_styles).format(precision=2).set_caption(caption)\n",
    "glue('region_med_dist_2', rg, display=True)"
   ]
  },
  {
   "cell_type": "markdown",
   "id": "c5fe01aa-bf6c-42c3-beec-7bc7f1c1a443",
   "metadata": {
    "editable": true,
    "pycharm": {
     "name": "#%% md\n"
    },
    "slideshow": {
     "slide_type": ""
    },
    "tags": []
   },
   "source": [
    "### Municipal results 2022"
   ]
  },
  {
   "cell_type": "code",
   "execution_count": 16,
   "id": "38e8d0bb-e015-4105-b496-6ece82624cbc",
   "metadata": {
    "editable": true,
    "pycharm": {
     "name": "#%%\n"
    },
    "slideshow": {
     "slide_type": ""
    },
    "tags": [
     "remove-input"
    ]
   },
   "outputs": [
    {
     "name": "stdout",
     "output_type": "stream",
     "text": [
      "Nummber of cities with two or more samples where none were found: 10\n",
      "\n",
      "Cities where none were found, for all cities and number of samples: ['Anthy' 'Aubonne' 'Crans' 'Cully' 'Gland' 'Hermance' 'Meillerie' 'Rolle'\n",
      " 'Tolochenaz' 'Tougues']\n"
     ]
    }
   ],
   "source": [
    "# cities with more than two samples and none were found\n",
    "two_or_more_samples = work_data2.groupby('city').filter(lambda x: len(x) >= 2)\n",
    "cumulative_sum = two_or_more_samples.groupby('city')['quantity'].sum()\n",
    "total = len(cumulative_sum[cumulative_sum == 0])\n",
    "\n",
    "# locations where none were found\n",
    "by_city = work_data2.groupby('city')['quantity'].sum()\n",
    "cities_with_none = by_city[by_city == 0].index\n",
    "\n",
    "print(f'Nummber of cities with two or more samples where none were found: {total}\\n')\n",
    "print(f'Cities where none were found, for all cities and number of samples: {cities_with_none.values}')"
   ]
  },
  {
   "cell_type": "markdown",
   "id": "2d54e955-0407-472b-acc0-3fb4ae465063",
   "metadata": {
    "editable": true,
    "pycharm": {
     "name": "#%% md\n"
    },
    "slideshow": {
     "slide_type": ""
    },
    "tags": []
   },
   "source": [
    "__Municipal results in descending order__"
   ]
  },
  {
   "cell_type": "code",
   "execution_count": 17,
   "id": "809c6dca-53fd-4ede-88b8-d3be0309b58d",
   "metadata": {
    "editable": true,
    "pycharm": {
     "name": "#%%\n"
    },
    "slideshow": {
     "slide_type": ""
    },
    "tags": [
     "remove-input"
    ]
   },
   "outputs": [
    {
     "data": {
      "text/html": [
       "<style type=\"text/css\">\n",
       "#T_82206 tr:nth-child(even) {\n",
       "  background-color: rgba(139, 69, 19, 0.08);\n",
       "}\n",
       "#T_82206 tr:nth-child(odd) {\n",
       "  background: #FFF;\n",
       "}\n",
       "#T_82206 tr {\n",
       "  font-size: 14px;\n",
       "}\n",
       "#T_82206 th:nth-child(1) {\n",
       "  background-color: #FFF;\n",
       "  text-align: right;\n",
       "}\n",
       "#T_82206 caption {\n",
       "  font-size: 14px;\n",
       "  font-style: italic;\n",
       "  caption-side: bottom;\n",
       "  text-align: left;\n",
       "  margin-top: 10px;\n",
       "}\n",
       "</style>\n",
       "<table id=\"T_82206\">\n",
       "  <thead>\n",
       "    <tr>\n",
       "      <th class=\"blank level0\" >&nbsp;</th>\n",
       "      <th id=\"T_82206_level0_col0\" class=\"col_heading level0 col0\" >pcs/m</th>\n",
       "      <th id=\"T_82206_level0_col1\" class=\"col_heading level0 col1\" >quantity</th>\n",
       "      <th id=\"T_82206_level0_col2\" class=\"col_heading level0 col2\" >nsamples</th>\n",
       "    </tr>\n",
       "  </thead>\n",
       "  <tbody>\n",
       "    <tr>\n",
       "      <th id=\"T_82206_level0_row0\" class=\"row_heading level0 row0\" >Amphion</th>\n",
       "      <td id=\"T_82206_row0_col0\" class=\"data row0 col0\" >0.17</td>\n",
       "      <td id=\"T_82206_row0_col1\" class=\"data row0 col1\" >62</td>\n",
       "      <td id=\"T_82206_row0_col2\" class=\"data row0 col2\" >4</td>\n",
       "    </tr>\n",
       "    <tr>\n",
       "      <th id=\"T_82206_level0_row1\" class=\"row_heading level0 row1\" >Bouveret</th>\n",
       "      <td id=\"T_82206_row1_col0\" class=\"data row1 col0\" >0.10</td>\n",
       "      <td id=\"T_82206_row1_col1\" class=\"data row1 col1\" >46</td>\n",
       "      <td id=\"T_82206_row1_col2\" class=\"data row1 col2\" >4</td>\n",
       "    </tr>\n",
       "    <tr>\n",
       "      <th id=\"T_82206_level0_row2\" class=\"row_heading level0 row2\" >Saint-Disdille</th>\n",
       "      <td id=\"T_82206_row2_col0\" class=\"data row2 col0\" >0.07</td>\n",
       "      <td id=\"T_82206_row2_col1\" class=\"data row2 col1\" >27</td>\n",
       "      <td id=\"T_82206_row2_col2\" class=\"data row2 col2\" >4</td>\n",
       "    </tr>\n",
       "    <tr>\n",
       "      <th id=\"T_82206_level0_row3\" class=\"row_heading level0 row3\" >Lutry</th>\n",
       "      <td id=\"T_82206_row3_col0\" class=\"data row3 col0\" >0.05</td>\n",
       "      <td id=\"T_82206_row3_col1\" class=\"data row3 col1\" >14</td>\n",
       "      <td id=\"T_82206_row3_col2\" class=\"data row3 col2\" >4</td>\n",
       "    </tr>\n",
       "    <tr>\n",
       "      <th id=\"T_82206_level0_row4\" class=\"row_heading level0 row4\" >Lugrin</th>\n",
       "      <td id=\"T_82206_row4_col0\" class=\"data row4 col0\" >0.03</td>\n",
       "      <td id=\"T_82206_row4_col1\" class=\"data row4 col1\" >9</td>\n",
       "      <td id=\"T_82206_row4_col2\" class=\"data row4 col2\" >4</td>\n",
       "    </tr>\n",
       "    <tr>\n",
       "      <th id=\"T_82206_level0_row5\" class=\"row_heading level0 row5\" >Grangettes</th>\n",
       "      <td id=\"T_82206_row5_col0\" class=\"data row5 col0\" >0.03</td>\n",
       "      <td id=\"T_82206_row5_col1\" class=\"data row5 col1\" >8</td>\n",
       "      <td id=\"T_82206_row5_col2\" class=\"data row5 col2\" >4</td>\n",
       "    </tr>\n",
       "    <tr>\n",
       "      <th id=\"T_82206_level0_row6\" class=\"row_heading level0 row6\" >Clarens</th>\n",
       "      <td id=\"T_82206_row6_col0\" class=\"data row6 col0\" >0.03</td>\n",
       "      <td id=\"T_82206_row6_col1\" class=\"data row6 col1\" >6</td>\n",
       "      <td id=\"T_82206_row6_col2\" class=\"data row6 col2\" >4</td>\n",
       "    </tr>\n",
       "    <tr>\n",
       "      <th id=\"T_82206_level0_row7\" class=\"row_heading level0 row7\" >Savonière</th>\n",
       "      <td id=\"T_82206_row7_col0\" class=\"data row7 col0\" >0.02</td>\n",
       "      <td id=\"T_82206_row7_col1\" class=\"data row7 col1\" >5</td>\n",
       "      <td id=\"T_82206_row7_col2\" class=\"data row7 col2\" >4</td>\n",
       "    </tr>\n",
       "    <tr>\n",
       "      <th id=\"T_82206_level0_row8\" class=\"row_heading level0 row8\" >Lausanne</th>\n",
       "      <td id=\"T_82206_row8_col0\" class=\"data row8 col0\" >0.02</td>\n",
       "      <td id=\"T_82206_row8_col1\" class=\"data row8 col1\" >6</td>\n",
       "      <td id=\"T_82206_row8_col2\" class=\"data row8 col2\" >4</td>\n",
       "    </tr>\n",
       "    <tr>\n",
       "      <th id=\"T_82206_level0_row9\" class=\"row_heading level0 row9\" >Versoix</th>\n",
       "      <td id=\"T_82206_row9_col0\" class=\"data row9 col0\" >0.01</td>\n",
       "      <td id=\"T_82206_row9_col1\" class=\"data row9 col1\" >7</td>\n",
       "      <td id=\"T_82206_row9_col2\" class=\"data row9 col2\" >8</td>\n",
       "    </tr>\n",
       "    <tr>\n",
       "      <th id=\"T_82206_level0_row10\" class=\"row_heading level0 row10\" >Genève</th>\n",
       "      <td id=\"T_82206_row10_col0\" class=\"data row10 col0\" >0.01</td>\n",
       "      <td id=\"T_82206_row10_col1\" class=\"data row10 col1\" >3</td>\n",
       "      <td id=\"T_82206_row10_col2\" class=\"data row10 col2\" >4</td>\n",
       "    </tr>\n",
       "    <tr>\n",
       "      <th id=\"T_82206_level0_row11\" class=\"row_heading level0 row11\" >Vevey</th>\n",
       "      <td id=\"T_82206_row11_col0\" class=\"data row11 col0\" >0.01</td>\n",
       "      <td id=\"T_82206_row11_col1\" class=\"data row11 col1\" >1</td>\n",
       "      <td id=\"T_82206_row11_col2\" class=\"data row11 col2\" >4</td>\n",
       "    </tr>\n",
       "    <tr>\n",
       "      <th id=\"T_82206_level0_row12\" class=\"row_heading level0 row12\" >Préverenges</th>\n",
       "      <td id=\"T_82206_row12_col0\" class=\"data row12 col0\" >0.01</td>\n",
       "      <td id=\"T_82206_row12_col1\" class=\"data row12 col1\" >3</td>\n",
       "      <td id=\"T_82206_row12_col2\" class=\"data row12 col2\" >4</td>\n",
       "    </tr>\n",
       "    <tr>\n",
       "      <th id=\"T_82206_level0_row13\" class=\"row_heading level0 row13\" >Excenevex</th>\n",
       "      <td id=\"T_82206_row13_col0\" class=\"data row13 col0\" >0.00</td>\n",
       "      <td id=\"T_82206_row13_col1\" class=\"data row13 col1\" >2</td>\n",
       "      <td id=\"T_82206_row13_col2\" class=\"data row13 col2\" >4</td>\n",
       "    </tr>\n",
       "    <tr>\n",
       "      <th id=\"T_82206_level0_row14\" class=\"row_heading level0 row14\" >Gland</th>\n",
       "      <td id=\"T_82206_row14_col0\" class=\"data row14 col0\" >0.00</td>\n",
       "      <td id=\"T_82206_row14_col1\" class=\"data row14 col1\" >0</td>\n",
       "      <td id=\"T_82206_row14_col2\" class=\"data row14 col2\" >4</td>\n",
       "    </tr>\n",
       "    <tr>\n",
       "      <th id=\"T_82206_level0_row15\" class=\"row_heading level0 row15\" >Hermance</th>\n",
       "      <td id=\"T_82206_row15_col0\" class=\"data row15 col0\" >0.00</td>\n",
       "      <td id=\"T_82206_row15_col1\" class=\"data row15 col1\" >0</td>\n",
       "      <td id=\"T_82206_row15_col2\" class=\"data row15 col2\" >4</td>\n",
       "    </tr>\n",
       "    <tr>\n",
       "      <th id=\"T_82206_level0_row16\" class=\"row_heading level0 row16\" >Anthy</th>\n",
       "      <td id=\"T_82206_row16_col0\" class=\"data row16 col0\" >0.00</td>\n",
       "      <td id=\"T_82206_row16_col1\" class=\"data row16 col1\" >0</td>\n",
       "      <td id=\"T_82206_row16_col2\" class=\"data row16 col2\" >4</td>\n",
       "    </tr>\n",
       "    <tr>\n",
       "      <th id=\"T_82206_level0_row17\" class=\"row_heading level0 row17\" >Cully</th>\n",
       "      <td id=\"T_82206_row17_col0\" class=\"data row17 col0\" >0.00</td>\n",
       "      <td id=\"T_82206_row17_col1\" class=\"data row17 col1\" >0</td>\n",
       "      <td id=\"T_82206_row17_col2\" class=\"data row17 col2\" >4</td>\n",
       "    </tr>\n",
       "    <tr>\n",
       "      <th id=\"T_82206_level0_row18\" class=\"row_heading level0 row18\" >Meillerie</th>\n",
       "      <td id=\"T_82206_row18_col0\" class=\"data row18 col0\" >0.00</td>\n",
       "      <td id=\"T_82206_row18_col1\" class=\"data row18 col1\" >0</td>\n",
       "      <td id=\"T_82206_row18_col2\" class=\"data row18 col2\" >4</td>\n",
       "    </tr>\n",
       "    <tr>\n",
       "      <th id=\"T_82206_level0_row19\" class=\"row_heading level0 row19\" >Rolle</th>\n",
       "      <td id=\"T_82206_row19_col0\" class=\"data row19 col0\" >0.00</td>\n",
       "      <td id=\"T_82206_row19_col1\" class=\"data row19 col1\" >0</td>\n",
       "      <td id=\"T_82206_row19_col2\" class=\"data row19 col2\" >3</td>\n",
       "    </tr>\n",
       "    <tr>\n",
       "      <th id=\"T_82206_level0_row20\" class=\"row_heading level0 row20\" >Crans</th>\n",
       "      <td id=\"T_82206_row20_col0\" class=\"data row20 col0\" >0.00</td>\n",
       "      <td id=\"T_82206_row20_col1\" class=\"data row20 col1\" >0</td>\n",
       "      <td id=\"T_82206_row20_col2\" class=\"data row20 col2\" >3</td>\n",
       "    </tr>\n",
       "    <tr>\n",
       "      <th id=\"T_82206_level0_row21\" class=\"row_heading level0 row21\" >Aubonne</th>\n",
       "      <td id=\"T_82206_row21_col0\" class=\"data row21 col0\" >0.00</td>\n",
       "      <td id=\"T_82206_row21_col1\" class=\"data row21 col1\" >0</td>\n",
       "      <td id=\"T_82206_row21_col2\" class=\"data row21 col2\" >4</td>\n",
       "    </tr>\n",
       "    <tr>\n",
       "      <th id=\"T_82206_level0_row22\" class=\"row_heading level0 row22\" >Tolochenaz</th>\n",
       "      <td id=\"T_82206_row22_col0\" class=\"data row22 col0\" >0.00</td>\n",
       "      <td id=\"T_82206_row22_col1\" class=\"data row22 col1\" >0</td>\n",
       "      <td id=\"T_82206_row22_col2\" class=\"data row22 col2\" >4</td>\n",
       "    </tr>\n",
       "    <tr>\n",
       "      <th id=\"T_82206_level0_row23\" class=\"row_heading level0 row23\" >Tougues</th>\n",
       "      <td id=\"T_82206_row23_col0\" class=\"data row23 col0\" >0.00</td>\n",
       "      <td id=\"T_82206_row23_col1\" class=\"data row23 col1\" >0</td>\n",
       "      <td id=\"T_82206_row23_col2\" class=\"data row23 col2\" >4</td>\n",
       "    </tr>\n",
       "  </tbody>\n",
       "</table>\n"
      ],
      "text/plain": [
       "<pandas.io.formats.style.Styler at 0x7c1544533730>"
      ]
     },
     "metadata": {
      "scrapbook": {
       "mime_prefix": "",
       "name": "city_rankings_2022"
      }
     },
     "output_type": "display_data"
    }
   ],
   "source": [
    "# cities with the highest density\n",
    "\n",
    "city_pcs_m = work_data2.groupby('city', as_index=False).agg({'pcs/m':'mean', 'quantity': 'sum','sample_id':'nunique'})\n",
    "cpm = city_pcs_m.rename(columns={'sample_id':'nsamples'}, inplace=True)\n",
    "cpm = city_pcs_m.sort_values(by='pcs/m', ascending=False).set_index('city', drop=True)\n",
    "cpm.index.name = None\n",
    "cp = cpm.style.set_table_styles(table_css_styles).format(precision=2)\n",
    "glue('city_rankings_2022', cp, display=True)"
   ]
  },
  {
   "cell_type": "code",
   "execution_count": 18,
   "id": "989efbdc-f400-4894-8424-a5c4856595ca",
   "metadata": {
    "editable": true,
    "pycharm": {
     "name": "#%%\n"
    },
    "slideshow": {
     "slide_type": ""
    },
    "tags": [
     "remove-input"
    ]
   },
   "outputs": [
    {
     "data": {
      "text/markdown": [
       "\n",
       "\n",
       "This script updated 21/08/2024 in Biel, CH\n",
       "\n",
       "❤️ __what you do everyday:__ *analyst at hammerdirt*\n"
      ],
      "text/plain": [
       "<IPython.core.display.Markdown object>"
      ]
     },
     "execution_count": 18,
     "metadata": {},
     "output_type": "execute_result"
    }
   ],
   "source": [
    "import datetime as dt\n",
    "from IPython.display import Markdown as md\n",
    "today = dt.datetime.now().date().strftime(\"%d/%m/%Y\")\n",
    "where = \"Biel, CH\"\n",
    "\n",
    "my_block = f\"\"\"\n",
    "\n",
    "This script updated {today} in {where}\n",
    "\n",
    "\\u2764\\ufe0f __what you do everyday:__ *analyst at hammerdirt*\n",
    "\"\"\"\n",
    "\n",
    "md(my_block)"
   ]
  },
  {
   "cell_type": "code",
   "execution_count": null,
   "id": "11d8473e-9271-4828-b1fc-ecbcf2f28765",
   "metadata": {
    "editable": true,
    "pycharm": {
     "name": "#%%\n"
    },
    "slideshow": {
     "slide_type": ""
    },
    "tags": []
   },
   "outputs": [],
   "source": []
  }
 ],
 "metadata": {
  "kernelspec": {
   "display_name": "Python 3 (ipykernel)",
   "language": "python",
   "name": "python3"
  },
  "language_info": {
   "codemirror_mode": {
    "name": "ipython",
    "version": 3
   },
   "file_extension": ".py",
   "mimetype": "text/x-python",
   "name": "python",
   "nbconvert_exporter": "python",
   "pygments_lexer": "ipython3",
   "version": "3.9.19"
  }
 },
 "nbformat": 4,
 "nbformat_minor": 5
}
